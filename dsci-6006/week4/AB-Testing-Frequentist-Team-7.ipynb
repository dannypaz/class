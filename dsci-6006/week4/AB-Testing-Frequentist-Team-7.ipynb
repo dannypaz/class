{
 "cells": [
  {
   "cell_type": "markdown",
   "metadata": {},
   "source": [
    "# A/B Testing - Frequentist Approach."
   ]
  },
  {
   "cell_type": "code",
   "execution_count": 1,
   "metadata": {
    "collapsed": true
   },
   "outputs": [],
   "source": [
    "reset -fs"
   ]
  },
  {
   "cell_type": "code",
   "execution_count": 2,
   "metadata": {
    "collapsed": true
   },
   "outputs": [],
   "source": [
    "import pandas as pd\n",
    "import numpy as np\n",
    "import matplotlib.pyplot as plt\n",
    "from numpy.random import beta as beta_dist\n",
    "from scipy import stats\n",
    "%matplotlib inline"
   ]
  },
  {
   "cell_type": "code",
   "execution_count": 3,
   "metadata": {
    "collapsed": false
   },
   "outputs": [],
   "source": [
    "baseline_df = pd.read_csv('data/baseline.csv', header=None).T"
   ]
  },
  {
   "cell_type": "code",
   "execution_count": 4,
   "metadata": {
    "collapsed": false
   },
   "outputs": [
    {
     "data": {
      "text/html": [
       "<div>\n",
       "<table border=\"1\" class=\"dataframe\">\n",
       "  <thead>\n",
       "    <tr style=\"text-align: right;\">\n",
       "      <th></th>\n",
       "      <th>0</th>\n",
       "      <th>1</th>\n",
       "      <th>2</th>\n",
       "      <th>3</th>\n",
       "      <th>4</th>\n",
       "      <th>5</th>\n",
       "      <th>6</th>\n",
       "    </tr>\n",
       "  </thead>\n",
       "  <tbody>\n",
       "    <tr>\n",
       "      <th>0</th>\n",
       "      <td>Unique cookies to view page per day:</td>\n",
       "      <td>Unique cookies to click \"Start free trial\" per...</td>\n",
       "      <td>Enrollments per day:</td>\n",
       "      <td>Click-through-probability on \"Start free trial\":</td>\n",
       "      <td>Probability of enrolling, given click:</td>\n",
       "      <td>Probability of payment, given enroll:</td>\n",
       "      <td>Probability of payment, given click</td>\n",
       "    </tr>\n",
       "    <tr>\n",
       "      <th>1</th>\n",
       "      <td>40000</td>\n",
       "      <td>3200</td>\n",
       "      <td>660</td>\n",
       "      <td>0.08</td>\n",
       "      <td>0.20625</td>\n",
       "      <td>0.53</td>\n",
       "      <td>0.109313</td>\n",
       "    </tr>\n",
       "  </tbody>\n",
       "</table>\n",
       "</div>"
      ],
      "text/plain": [
       "                                      0  \\\n",
       "0  Unique cookies to view page per day:   \n",
       "1                                 40000   \n",
       "\n",
       "                                                   1                     2  \\\n",
       "0  Unique cookies to click \"Start free trial\" per...  Enrollments per day:   \n",
       "1                                               3200                   660   \n",
       "\n",
       "                                                  3  \\\n",
       "0  Click-through-probability on \"Start free trial\":   \n",
       "1                                              0.08   \n",
       "\n",
       "                                        4  \\\n",
       "0  Probability of enrolling, given click:   \n",
       "1                                 0.20625   \n",
       "\n",
       "                                       5                                    6  \n",
       "0  Probability of payment, given enroll:  Probability of payment, given click  \n",
       "1                                   0.53                             0.109313  "
      ]
     },
     "execution_count": 4,
     "metadata": {},
     "output_type": "execute_result"
    }
   ],
   "source": [
    "baseline_df"
   ]
  },
  {
   "cell_type": "code",
   "execution_count": 5,
   "metadata": {
    "collapsed": false
   },
   "outputs": [
    {
     "data": {
      "text/html": [
       "<div>\n",
       "<table border=\"1\" class=\"dataframe\">\n",
       "  <thead>\n",
       "    <tr style=\"text-align: right;\">\n",
       "      <th></th>\n",
       "      <th>Unique cookies to view page per day:</th>\n",
       "      <th>Unique cookies to click \"Start free trial\" per day:</th>\n",
       "      <th>Enrollments per day:</th>\n",
       "      <th>Click-through-probability on \"Start free trial\":</th>\n",
       "      <th>Probability of enrolling, given click:</th>\n",
       "      <th>Probability of payment, given enroll:</th>\n",
       "      <th>Probability of payment, given click</th>\n",
       "    </tr>\n",
       "  </thead>\n",
       "  <tbody>\n",
       "    <tr>\n",
       "      <th>1</th>\n",
       "      <td>40000</td>\n",
       "      <td>3200</td>\n",
       "      <td>660</td>\n",
       "      <td>0.08</td>\n",
       "      <td>0.20625</td>\n",
       "      <td>0.53</td>\n",
       "      <td>0.109313</td>\n",
       "    </tr>\n",
       "  </tbody>\n",
       "</table>\n",
       "</div>"
      ],
      "text/plain": [
       "  Unique cookies to view page per day:  \\\n",
       "1                                40000   \n",
       "\n",
       "  Unique cookies to click \"Start free trial\" per day: Enrollments per day:  \\\n",
       "1                                               3200                   660   \n",
       "\n",
       "  Click-through-probability on \"Start free trial\":  \\\n",
       "1                                             0.08   \n",
       "\n",
       "  Probability of enrolling, given click:  \\\n",
       "1                                0.20625   \n",
       "\n",
       "  Probability of payment, given enroll: Probability of payment, given click  \n",
       "1                                  0.53                            0.109313  "
      ]
     },
     "execution_count": 5,
     "metadata": {},
     "output_type": "execute_result"
    }
   ],
   "source": [
    "new_header = baseline_df.iloc[0] #grab the first row for the header\n",
    "baseline_df = baseline_df[1:] #take the data less the header row\n",
    "baseline_df.rename(columns = new_header) #set the header row as the df header"
   ]
  },
  {
   "cell_type": "code",
   "execution_count": 6,
   "metadata": {
    "collapsed": true
   },
   "outputs": [],
   "source": [
    "control_df = pd.read_csv('data/control.csv')"
   ]
  },
  {
   "cell_type": "code",
   "execution_count": 7,
   "metadata": {
    "collapsed": true
   },
   "outputs": [],
   "source": [
    "control_df.rename(columns={'Date': 'date', 'Pageviews': 'unique_cookies_pageviews', 'Clicks': 'unique_cookies_clicks', 'Enrollments': 'users_enrolled', 'Payments': 'user_enrolled_payments'}, inplace=True)"
   ]
  },
  {
   "cell_type": "code",
   "execution_count": 8,
   "metadata": {
    "collapsed": false
   },
   "outputs": [
    {
     "data": {
      "text/html": [
       "<div>\n",
       "<table border=\"1\" class=\"dataframe\">\n",
       "  <thead>\n",
       "    <tr style=\"text-align: right;\">\n",
       "      <th></th>\n",
       "      <th>date</th>\n",
       "      <th>unique_cookies_pageviews</th>\n",
       "      <th>unique_cookies_clicks</th>\n",
       "      <th>users_enrolled</th>\n",
       "      <th>user_enrolled_payments</th>\n",
       "    </tr>\n",
       "  </thead>\n",
       "  <tbody>\n",
       "    <tr>\n",
       "      <th>0</th>\n",
       "      <td>Sat, Oct 11</td>\n",
       "      <td>7723</td>\n",
       "      <td>687</td>\n",
       "      <td>134.0</td>\n",
       "      <td>70.0</td>\n",
       "    </tr>\n",
       "    <tr>\n",
       "      <th>1</th>\n",
       "      <td>Sun, Oct 12</td>\n",
       "      <td>9102</td>\n",
       "      <td>779</td>\n",
       "      <td>147.0</td>\n",
       "      <td>70.0</td>\n",
       "    </tr>\n",
       "    <tr>\n",
       "      <th>2</th>\n",
       "      <td>Mon, Oct 13</td>\n",
       "      <td>10511</td>\n",
       "      <td>909</td>\n",
       "      <td>167.0</td>\n",
       "      <td>95.0</td>\n",
       "    </tr>\n",
       "    <tr>\n",
       "      <th>3</th>\n",
       "      <td>Tue, Oct 14</td>\n",
       "      <td>9871</td>\n",
       "      <td>836</td>\n",
       "      <td>156.0</td>\n",
       "      <td>105.0</td>\n",
       "    </tr>\n",
       "    <tr>\n",
       "      <th>4</th>\n",
       "      <td>Wed, Oct 15</td>\n",
       "      <td>10014</td>\n",
       "      <td>837</td>\n",
       "      <td>163.0</td>\n",
       "      <td>64.0</td>\n",
       "    </tr>\n",
       "    <tr>\n",
       "      <th>5</th>\n",
       "      <td>Thu, Oct 16</td>\n",
       "      <td>9670</td>\n",
       "      <td>823</td>\n",
       "      <td>138.0</td>\n",
       "      <td>82.0</td>\n",
       "    </tr>\n",
       "    <tr>\n",
       "      <th>6</th>\n",
       "      <td>Fri, Oct 17</td>\n",
       "      <td>9008</td>\n",
       "      <td>748</td>\n",
       "      <td>146.0</td>\n",
       "      <td>76.0</td>\n",
       "    </tr>\n",
       "    <tr>\n",
       "      <th>7</th>\n",
       "      <td>Sat, Oct 18</td>\n",
       "      <td>7434</td>\n",
       "      <td>632</td>\n",
       "      <td>110.0</td>\n",
       "      <td>70.0</td>\n",
       "    </tr>\n",
       "    <tr>\n",
       "      <th>8</th>\n",
       "      <td>Sun, Oct 19</td>\n",
       "      <td>8459</td>\n",
       "      <td>691</td>\n",
       "      <td>131.0</td>\n",
       "      <td>60.0</td>\n",
       "    </tr>\n",
       "    <tr>\n",
       "      <th>9</th>\n",
       "      <td>Mon, Oct 20</td>\n",
       "      <td>10667</td>\n",
       "      <td>861</td>\n",
       "      <td>165.0</td>\n",
       "      <td>97.0</td>\n",
       "    </tr>\n",
       "    <tr>\n",
       "      <th>10</th>\n",
       "      <td>Tue, Oct 21</td>\n",
       "      <td>10660</td>\n",
       "      <td>867</td>\n",
       "      <td>196.0</td>\n",
       "      <td>105.0</td>\n",
       "    </tr>\n",
       "    <tr>\n",
       "      <th>11</th>\n",
       "      <td>Wed, Oct 22</td>\n",
       "      <td>9947</td>\n",
       "      <td>838</td>\n",
       "      <td>162.0</td>\n",
       "      <td>92.0</td>\n",
       "    </tr>\n",
       "    <tr>\n",
       "      <th>12</th>\n",
       "      <td>Thu, Oct 23</td>\n",
       "      <td>8324</td>\n",
       "      <td>665</td>\n",
       "      <td>127.0</td>\n",
       "      <td>56.0</td>\n",
       "    </tr>\n",
       "    <tr>\n",
       "      <th>13</th>\n",
       "      <td>Fri, Oct 24</td>\n",
       "      <td>9434</td>\n",
       "      <td>673</td>\n",
       "      <td>220.0</td>\n",
       "      <td>122.0</td>\n",
       "    </tr>\n",
       "    <tr>\n",
       "      <th>14</th>\n",
       "      <td>Sat, Oct 25</td>\n",
       "      <td>8687</td>\n",
       "      <td>691</td>\n",
       "      <td>176.0</td>\n",
       "      <td>128.0</td>\n",
       "    </tr>\n",
       "    <tr>\n",
       "      <th>15</th>\n",
       "      <td>Sun, Oct 26</td>\n",
       "      <td>8896</td>\n",
       "      <td>708</td>\n",
       "      <td>161.0</td>\n",
       "      <td>104.0</td>\n",
       "    </tr>\n",
       "    <tr>\n",
       "      <th>16</th>\n",
       "      <td>Mon, Oct 27</td>\n",
       "      <td>9535</td>\n",
       "      <td>759</td>\n",
       "      <td>233.0</td>\n",
       "      <td>124.0</td>\n",
       "    </tr>\n",
       "    <tr>\n",
       "      <th>17</th>\n",
       "      <td>Tue, Oct 28</td>\n",
       "      <td>9363</td>\n",
       "      <td>736</td>\n",
       "      <td>154.0</td>\n",
       "      <td>91.0</td>\n",
       "    </tr>\n",
       "    <tr>\n",
       "      <th>18</th>\n",
       "      <td>Wed, Oct 29</td>\n",
       "      <td>9327</td>\n",
       "      <td>739</td>\n",
       "      <td>196.0</td>\n",
       "      <td>86.0</td>\n",
       "    </tr>\n",
       "    <tr>\n",
       "      <th>19</th>\n",
       "      <td>Thu, Oct 30</td>\n",
       "      <td>9345</td>\n",
       "      <td>734</td>\n",
       "      <td>167.0</td>\n",
       "      <td>75.0</td>\n",
       "    </tr>\n",
       "    <tr>\n",
       "      <th>20</th>\n",
       "      <td>Fri, Oct 31</td>\n",
       "      <td>8890</td>\n",
       "      <td>706</td>\n",
       "      <td>174.0</td>\n",
       "      <td>101.0</td>\n",
       "    </tr>\n",
       "    <tr>\n",
       "      <th>21</th>\n",
       "      <td>Sat, Nov 1</td>\n",
       "      <td>8460</td>\n",
       "      <td>681</td>\n",
       "      <td>156.0</td>\n",
       "      <td>93.0</td>\n",
       "    </tr>\n",
       "    <tr>\n",
       "      <th>22</th>\n",
       "      <td>Sun, Nov 2</td>\n",
       "      <td>8836</td>\n",
       "      <td>693</td>\n",
       "      <td>206.0</td>\n",
       "      <td>67.0</td>\n",
       "    </tr>\n",
       "    <tr>\n",
       "      <th>23</th>\n",
       "      <td>Mon, Nov 3</td>\n",
       "      <td>9437</td>\n",
       "      <td>788</td>\n",
       "      <td>NaN</td>\n",
       "      <td>NaN</td>\n",
       "    </tr>\n",
       "    <tr>\n",
       "      <th>24</th>\n",
       "      <td>Tue, Nov 4</td>\n",
       "      <td>9420</td>\n",
       "      <td>781</td>\n",
       "      <td>NaN</td>\n",
       "      <td>NaN</td>\n",
       "    </tr>\n",
       "    <tr>\n",
       "      <th>25</th>\n",
       "      <td>Wed, Nov 5</td>\n",
       "      <td>9570</td>\n",
       "      <td>805</td>\n",
       "      <td>NaN</td>\n",
       "      <td>NaN</td>\n",
       "    </tr>\n",
       "    <tr>\n",
       "      <th>26</th>\n",
       "      <td>Thu, Nov 6</td>\n",
       "      <td>9921</td>\n",
       "      <td>830</td>\n",
       "      <td>NaN</td>\n",
       "      <td>NaN</td>\n",
       "    </tr>\n",
       "    <tr>\n",
       "      <th>27</th>\n",
       "      <td>Fri, Nov 7</td>\n",
       "      <td>9424</td>\n",
       "      <td>781</td>\n",
       "      <td>NaN</td>\n",
       "      <td>NaN</td>\n",
       "    </tr>\n",
       "    <tr>\n",
       "      <th>28</th>\n",
       "      <td>Sat, Nov 8</td>\n",
       "      <td>9010</td>\n",
       "      <td>756</td>\n",
       "      <td>NaN</td>\n",
       "      <td>NaN</td>\n",
       "    </tr>\n",
       "    <tr>\n",
       "      <th>29</th>\n",
       "      <td>Sun, Nov 9</td>\n",
       "      <td>9656</td>\n",
       "      <td>825</td>\n",
       "      <td>NaN</td>\n",
       "      <td>NaN</td>\n",
       "    </tr>\n",
       "    <tr>\n",
       "      <th>30</th>\n",
       "      <td>Mon, Nov 10</td>\n",
       "      <td>10419</td>\n",
       "      <td>874</td>\n",
       "      <td>NaN</td>\n",
       "      <td>NaN</td>\n",
       "    </tr>\n",
       "    <tr>\n",
       "      <th>31</th>\n",
       "      <td>Tue, Nov 11</td>\n",
       "      <td>9880</td>\n",
       "      <td>830</td>\n",
       "      <td>NaN</td>\n",
       "      <td>NaN</td>\n",
       "    </tr>\n",
       "    <tr>\n",
       "      <th>32</th>\n",
       "      <td>Wed, Nov 12</td>\n",
       "      <td>10134</td>\n",
       "      <td>801</td>\n",
       "      <td>NaN</td>\n",
       "      <td>NaN</td>\n",
       "    </tr>\n",
       "    <tr>\n",
       "      <th>33</th>\n",
       "      <td>Thu, Nov 13</td>\n",
       "      <td>9717</td>\n",
       "      <td>814</td>\n",
       "      <td>NaN</td>\n",
       "      <td>NaN</td>\n",
       "    </tr>\n",
       "    <tr>\n",
       "      <th>34</th>\n",
       "      <td>Fri, Nov 14</td>\n",
       "      <td>9192</td>\n",
       "      <td>735</td>\n",
       "      <td>NaN</td>\n",
       "      <td>NaN</td>\n",
       "    </tr>\n",
       "    <tr>\n",
       "      <th>35</th>\n",
       "      <td>Sat, Nov 15</td>\n",
       "      <td>8630</td>\n",
       "      <td>743</td>\n",
       "      <td>NaN</td>\n",
       "      <td>NaN</td>\n",
       "    </tr>\n",
       "    <tr>\n",
       "      <th>36</th>\n",
       "      <td>Sun, Nov 16</td>\n",
       "      <td>8970</td>\n",
       "      <td>722</td>\n",
       "      <td>NaN</td>\n",
       "      <td>NaN</td>\n",
       "    </tr>\n",
       "  </tbody>\n",
       "</table>\n",
       "</div>"
      ],
      "text/plain": [
       "           date  unique_cookies_pageviews  unique_cookies_clicks  \\\n",
       "0   Sat, Oct 11                      7723                    687   \n",
       "1   Sun, Oct 12                      9102                    779   \n",
       "2   Mon, Oct 13                     10511                    909   \n",
       "3   Tue, Oct 14                      9871                    836   \n",
       "4   Wed, Oct 15                     10014                    837   \n",
       "5   Thu, Oct 16                      9670                    823   \n",
       "6   Fri, Oct 17                      9008                    748   \n",
       "7   Sat, Oct 18                      7434                    632   \n",
       "8   Sun, Oct 19                      8459                    691   \n",
       "9   Mon, Oct 20                     10667                    861   \n",
       "10  Tue, Oct 21                     10660                    867   \n",
       "11  Wed, Oct 22                      9947                    838   \n",
       "12  Thu, Oct 23                      8324                    665   \n",
       "13  Fri, Oct 24                      9434                    673   \n",
       "14  Sat, Oct 25                      8687                    691   \n",
       "15  Sun, Oct 26                      8896                    708   \n",
       "16  Mon, Oct 27                      9535                    759   \n",
       "17  Tue, Oct 28                      9363                    736   \n",
       "18  Wed, Oct 29                      9327                    739   \n",
       "19  Thu, Oct 30                      9345                    734   \n",
       "20  Fri, Oct 31                      8890                    706   \n",
       "21   Sat, Nov 1                      8460                    681   \n",
       "22   Sun, Nov 2                      8836                    693   \n",
       "23   Mon, Nov 3                      9437                    788   \n",
       "24   Tue, Nov 4                      9420                    781   \n",
       "25   Wed, Nov 5                      9570                    805   \n",
       "26   Thu, Nov 6                      9921                    830   \n",
       "27   Fri, Nov 7                      9424                    781   \n",
       "28   Sat, Nov 8                      9010                    756   \n",
       "29   Sun, Nov 9                      9656                    825   \n",
       "30  Mon, Nov 10                     10419                    874   \n",
       "31  Tue, Nov 11                      9880                    830   \n",
       "32  Wed, Nov 12                     10134                    801   \n",
       "33  Thu, Nov 13                      9717                    814   \n",
       "34  Fri, Nov 14                      9192                    735   \n",
       "35  Sat, Nov 15                      8630                    743   \n",
       "36  Sun, Nov 16                      8970                    722   \n",
       "\n",
       "    users_enrolled  user_enrolled_payments  \n",
       "0            134.0                    70.0  \n",
       "1            147.0                    70.0  \n",
       "2            167.0                    95.0  \n",
       "3            156.0                   105.0  \n",
       "4            163.0                    64.0  \n",
       "5            138.0                    82.0  \n",
       "6            146.0                    76.0  \n",
       "7            110.0                    70.0  \n",
       "8            131.0                    60.0  \n",
       "9            165.0                    97.0  \n",
       "10           196.0                   105.0  \n",
       "11           162.0                    92.0  \n",
       "12           127.0                    56.0  \n",
       "13           220.0                   122.0  \n",
       "14           176.0                   128.0  \n",
       "15           161.0                   104.0  \n",
       "16           233.0                   124.0  \n",
       "17           154.0                    91.0  \n",
       "18           196.0                    86.0  \n",
       "19           167.0                    75.0  \n",
       "20           174.0                   101.0  \n",
       "21           156.0                    93.0  \n",
       "22           206.0                    67.0  \n",
       "23             NaN                     NaN  \n",
       "24             NaN                     NaN  \n",
       "25             NaN                     NaN  \n",
       "26             NaN                     NaN  \n",
       "27             NaN                     NaN  \n",
       "28             NaN                     NaN  \n",
       "29             NaN                     NaN  \n",
       "30             NaN                     NaN  \n",
       "31             NaN                     NaN  \n",
       "32             NaN                     NaN  \n",
       "33             NaN                     NaN  \n",
       "34             NaN                     NaN  \n",
       "35             NaN                     NaN  \n",
       "36             NaN                     NaN  "
      ]
     },
     "execution_count": 8,
     "metadata": {},
     "output_type": "execute_result"
    }
   ],
   "source": [
    "control_df"
   ]
  },
  {
   "cell_type": "code",
   "execution_count": 9,
   "metadata": {
    "collapsed": false
   },
   "outputs": [
    {
     "name": "stdout",
     "output_type": "stream",
     "text": [
      "<class 'pandas.core.frame.DataFrame'>\n",
      "RangeIndex: 37 entries, 0 to 36\n",
      "Data columns (total 5 columns):\n",
      "date                        37 non-null object\n",
      "unique_cookies_pageviews    37 non-null int64\n",
      "unique_cookies_clicks       37 non-null int64\n",
      "users_enrolled              23 non-null float64\n",
      "user_enrolled_payments      23 non-null float64\n",
      "dtypes: float64(2), int64(2), object(1)\n",
      "memory usage: 1.5+ KB\n"
     ]
    }
   ],
   "source": [
    "control_df.info()"
   ]
  },
  {
   "cell_type": "code",
   "execution_count": 10,
   "metadata": {
    "collapsed": false
   },
   "outputs": [
    {
     "name": "stderr",
     "output_type": "stream",
     "text": [
      "//anaconda/lib/python3.5/site-packages/numpy/lib/function_base.py:3834: RuntimeWarning: Invalid value encountered in percentile\n",
      "  RuntimeWarning)\n"
     ]
    },
    {
     "data": {
      "text/html": [
       "<div>\n",
       "<table border=\"1\" class=\"dataframe\">\n",
       "  <thead>\n",
       "    <tr style=\"text-align: right;\">\n",
       "      <th></th>\n",
       "      <th>unique_cookies_pageviews</th>\n",
       "      <th>unique_cookies_clicks</th>\n",
       "      <th>users_enrolled</th>\n",
       "      <th>user_enrolled_payments</th>\n",
       "    </tr>\n",
       "  </thead>\n",
       "  <tbody>\n",
       "    <tr>\n",
       "      <th>count</th>\n",
       "      <td>37.000000</td>\n",
       "      <td>37.000000</td>\n",
       "      <td>23.000000</td>\n",
       "      <td>23.000000</td>\n",
       "    </tr>\n",
       "    <tr>\n",
       "      <th>mean</th>\n",
       "      <td>9339.000000</td>\n",
       "      <td>766.972973</td>\n",
       "      <td>164.565217</td>\n",
       "      <td>88.391304</td>\n",
       "    </tr>\n",
       "    <tr>\n",
       "      <th>std</th>\n",
       "      <td>740.239563</td>\n",
       "      <td>68.286767</td>\n",
       "      <td>29.977000</td>\n",
       "      <td>20.650202</td>\n",
       "    </tr>\n",
       "    <tr>\n",
       "      <th>min</th>\n",
       "      <td>7434.000000</td>\n",
       "      <td>632.000000</td>\n",
       "      <td>110.000000</td>\n",
       "      <td>56.000000</td>\n",
       "    </tr>\n",
       "    <tr>\n",
       "      <th>25%</th>\n",
       "      <td>8896.000000</td>\n",
       "      <td>708.000000</td>\n",
       "      <td>NaN</td>\n",
       "      <td>NaN</td>\n",
       "    </tr>\n",
       "    <tr>\n",
       "      <th>50%</th>\n",
       "      <td>9420.000000</td>\n",
       "      <td>759.000000</td>\n",
       "      <td>NaN</td>\n",
       "      <td>NaN</td>\n",
       "    </tr>\n",
       "    <tr>\n",
       "      <th>75%</th>\n",
       "      <td>9871.000000</td>\n",
       "      <td>825.000000</td>\n",
       "      <td>NaN</td>\n",
       "      <td>NaN</td>\n",
       "    </tr>\n",
       "    <tr>\n",
       "      <th>max</th>\n",
       "      <td>10667.000000</td>\n",
       "      <td>909.000000</td>\n",
       "      <td>233.000000</td>\n",
       "      <td>128.000000</td>\n",
       "    </tr>\n",
       "  </tbody>\n",
       "</table>\n",
       "</div>"
      ],
      "text/plain": [
       "       unique_cookies_pageviews  unique_cookies_clicks  users_enrolled  \\\n",
       "count                 37.000000              37.000000       23.000000   \n",
       "mean                9339.000000             766.972973      164.565217   \n",
       "std                  740.239563              68.286767       29.977000   \n",
       "min                 7434.000000             632.000000      110.000000   \n",
       "25%                 8896.000000             708.000000             NaN   \n",
       "50%                 9420.000000             759.000000             NaN   \n",
       "75%                 9871.000000             825.000000             NaN   \n",
       "max                10667.000000             909.000000      233.000000   \n",
       "\n",
       "       user_enrolled_payments  \n",
       "count               23.000000  \n",
       "mean                88.391304  \n",
       "std                 20.650202  \n",
       "min                 56.000000  \n",
       "25%                       NaN  \n",
       "50%                       NaN  \n",
       "75%                       NaN  \n",
       "max                128.000000  "
      ]
     },
     "execution_count": 10,
     "metadata": {},
     "output_type": "execute_result"
    }
   ],
   "source": [
    "control_df.describe()"
   ]
  },
  {
   "cell_type": "code",
   "execution_count": 11,
   "metadata": {
    "collapsed": true
   },
   "outputs": [],
   "source": [
    "experiment_df = pd.read_csv('data/experiment.csv')"
   ]
  },
  {
   "cell_type": "code",
   "execution_count": 12,
   "metadata": {
    "collapsed": true
   },
   "outputs": [],
   "source": [
    "experiment_df.rename(columns={'Date': 'date', 'Pageviews': 'unique_cookies_pageviews', 'Clicks': 'unique_cookies_clicks', 'Enrollments': 'users_enrolled', 'Payments': 'user_enrolled_payments'}, inplace=True)"
   ]
  },
  {
   "cell_type": "code",
   "execution_count": 13,
   "metadata": {
    "collapsed": false
   },
   "outputs": [
    {
     "data": {
      "text/html": [
       "<div>\n",
       "<table border=\"1\" class=\"dataframe\">\n",
       "  <thead>\n",
       "    <tr style=\"text-align: right;\">\n",
       "      <th></th>\n",
       "      <th>date</th>\n",
       "      <th>unique_cookies_pageviews</th>\n",
       "      <th>unique_cookies_clicks</th>\n",
       "      <th>users_enrolled</th>\n",
       "      <th>user_enrolled_payments</th>\n",
       "    </tr>\n",
       "  </thead>\n",
       "  <tbody>\n",
       "    <tr>\n",
       "      <th>0</th>\n",
       "      <td>Sat, Oct 11</td>\n",
       "      <td>7716</td>\n",
       "      <td>686</td>\n",
       "      <td>105.0</td>\n",
       "      <td>34.0</td>\n",
       "    </tr>\n",
       "    <tr>\n",
       "      <th>1</th>\n",
       "      <td>Sun, Oct 12</td>\n",
       "      <td>9288</td>\n",
       "      <td>785</td>\n",
       "      <td>116.0</td>\n",
       "      <td>91.0</td>\n",
       "    </tr>\n",
       "    <tr>\n",
       "      <th>2</th>\n",
       "      <td>Mon, Oct 13</td>\n",
       "      <td>10480</td>\n",
       "      <td>884</td>\n",
       "      <td>145.0</td>\n",
       "      <td>79.0</td>\n",
       "    </tr>\n",
       "    <tr>\n",
       "      <th>3</th>\n",
       "      <td>Tue, Oct 14</td>\n",
       "      <td>9867</td>\n",
       "      <td>827</td>\n",
       "      <td>138.0</td>\n",
       "      <td>92.0</td>\n",
       "    </tr>\n",
       "    <tr>\n",
       "      <th>4</th>\n",
       "      <td>Wed, Oct 15</td>\n",
       "      <td>9793</td>\n",
       "      <td>832</td>\n",
       "      <td>140.0</td>\n",
       "      <td>94.0</td>\n",
       "    </tr>\n",
       "    <tr>\n",
       "      <th>5</th>\n",
       "      <td>Thu, Oct 16</td>\n",
       "      <td>9500</td>\n",
       "      <td>788</td>\n",
       "      <td>129.0</td>\n",
       "      <td>61.0</td>\n",
       "    </tr>\n",
       "    <tr>\n",
       "      <th>6</th>\n",
       "      <td>Fri, Oct 17</td>\n",
       "      <td>9088</td>\n",
       "      <td>780</td>\n",
       "      <td>127.0</td>\n",
       "      <td>44.0</td>\n",
       "    </tr>\n",
       "    <tr>\n",
       "      <th>7</th>\n",
       "      <td>Sat, Oct 18</td>\n",
       "      <td>7664</td>\n",
       "      <td>652</td>\n",
       "      <td>94.0</td>\n",
       "      <td>62.0</td>\n",
       "    </tr>\n",
       "    <tr>\n",
       "      <th>8</th>\n",
       "      <td>Sun, Oct 19</td>\n",
       "      <td>8434</td>\n",
       "      <td>697</td>\n",
       "      <td>120.0</td>\n",
       "      <td>77.0</td>\n",
       "    </tr>\n",
       "    <tr>\n",
       "      <th>9</th>\n",
       "      <td>Mon, Oct 20</td>\n",
       "      <td>10496</td>\n",
       "      <td>860</td>\n",
       "      <td>153.0</td>\n",
       "      <td>98.0</td>\n",
       "    </tr>\n",
       "    <tr>\n",
       "      <th>10</th>\n",
       "      <td>Tue, Oct 21</td>\n",
       "      <td>10551</td>\n",
       "      <td>864</td>\n",
       "      <td>143.0</td>\n",
       "      <td>71.0</td>\n",
       "    </tr>\n",
       "    <tr>\n",
       "      <th>11</th>\n",
       "      <td>Wed, Oct 22</td>\n",
       "      <td>9737</td>\n",
       "      <td>801</td>\n",
       "      <td>128.0</td>\n",
       "      <td>70.0</td>\n",
       "    </tr>\n",
       "    <tr>\n",
       "      <th>12</th>\n",
       "      <td>Thu, Oct 23</td>\n",
       "      <td>8176</td>\n",
       "      <td>642</td>\n",
       "      <td>122.0</td>\n",
       "      <td>68.0</td>\n",
       "    </tr>\n",
       "    <tr>\n",
       "      <th>13</th>\n",
       "      <td>Fri, Oct 24</td>\n",
       "      <td>9402</td>\n",
       "      <td>697</td>\n",
       "      <td>194.0</td>\n",
       "      <td>94.0</td>\n",
       "    </tr>\n",
       "    <tr>\n",
       "      <th>14</th>\n",
       "      <td>Sat, Oct 25</td>\n",
       "      <td>8669</td>\n",
       "      <td>669</td>\n",
       "      <td>127.0</td>\n",
       "      <td>81.0</td>\n",
       "    </tr>\n",
       "    <tr>\n",
       "      <th>15</th>\n",
       "      <td>Sun, Oct 26</td>\n",
       "      <td>8881</td>\n",
       "      <td>693</td>\n",
       "      <td>153.0</td>\n",
       "      <td>101.0</td>\n",
       "    </tr>\n",
       "    <tr>\n",
       "      <th>16</th>\n",
       "      <td>Mon, Oct 27</td>\n",
       "      <td>9655</td>\n",
       "      <td>771</td>\n",
       "      <td>213.0</td>\n",
       "      <td>119.0</td>\n",
       "    </tr>\n",
       "    <tr>\n",
       "      <th>17</th>\n",
       "      <td>Tue, Oct 28</td>\n",
       "      <td>9396</td>\n",
       "      <td>736</td>\n",
       "      <td>162.0</td>\n",
       "      <td>120.0</td>\n",
       "    </tr>\n",
       "    <tr>\n",
       "      <th>18</th>\n",
       "      <td>Wed, Oct 29</td>\n",
       "      <td>9262</td>\n",
       "      <td>727</td>\n",
       "      <td>201.0</td>\n",
       "      <td>96.0</td>\n",
       "    </tr>\n",
       "    <tr>\n",
       "      <th>19</th>\n",
       "      <td>Thu, Oct 30</td>\n",
       "      <td>9308</td>\n",
       "      <td>728</td>\n",
       "      <td>207.0</td>\n",
       "      <td>67.0</td>\n",
       "    </tr>\n",
       "    <tr>\n",
       "      <th>20</th>\n",
       "      <td>Fri, Oct 31</td>\n",
       "      <td>8715</td>\n",
       "      <td>722</td>\n",
       "      <td>182.0</td>\n",
       "      <td>123.0</td>\n",
       "    </tr>\n",
       "    <tr>\n",
       "      <th>21</th>\n",
       "      <td>Sat, Nov 1</td>\n",
       "      <td>8448</td>\n",
       "      <td>695</td>\n",
       "      <td>142.0</td>\n",
       "      <td>100.0</td>\n",
       "    </tr>\n",
       "    <tr>\n",
       "      <th>22</th>\n",
       "      <td>Sun, Nov 2</td>\n",
       "      <td>8836</td>\n",
       "      <td>724</td>\n",
       "      <td>182.0</td>\n",
       "      <td>103.0</td>\n",
       "    </tr>\n",
       "    <tr>\n",
       "      <th>23</th>\n",
       "      <td>Mon, Nov 3</td>\n",
       "      <td>9359</td>\n",
       "      <td>789</td>\n",
       "      <td>NaN</td>\n",
       "      <td>NaN</td>\n",
       "    </tr>\n",
       "    <tr>\n",
       "      <th>24</th>\n",
       "      <td>Tue, Nov 4</td>\n",
       "      <td>9427</td>\n",
       "      <td>743</td>\n",
       "      <td>NaN</td>\n",
       "      <td>NaN</td>\n",
       "    </tr>\n",
       "    <tr>\n",
       "      <th>25</th>\n",
       "      <td>Wed, Nov 5</td>\n",
       "      <td>9633</td>\n",
       "      <td>808</td>\n",
       "      <td>NaN</td>\n",
       "      <td>NaN</td>\n",
       "    </tr>\n",
       "    <tr>\n",
       "      <th>26</th>\n",
       "      <td>Thu, Nov 6</td>\n",
       "      <td>9842</td>\n",
       "      <td>831</td>\n",
       "      <td>NaN</td>\n",
       "      <td>NaN</td>\n",
       "    </tr>\n",
       "    <tr>\n",
       "      <th>27</th>\n",
       "      <td>Fri, Nov 7</td>\n",
       "      <td>9272</td>\n",
       "      <td>767</td>\n",
       "      <td>NaN</td>\n",
       "      <td>NaN</td>\n",
       "    </tr>\n",
       "    <tr>\n",
       "      <th>28</th>\n",
       "      <td>Sat, Nov 8</td>\n",
       "      <td>8969</td>\n",
       "      <td>760</td>\n",
       "      <td>NaN</td>\n",
       "      <td>NaN</td>\n",
       "    </tr>\n",
       "    <tr>\n",
       "      <th>29</th>\n",
       "      <td>Sun, Nov 9</td>\n",
       "      <td>9697</td>\n",
       "      <td>850</td>\n",
       "      <td>NaN</td>\n",
       "      <td>NaN</td>\n",
       "    </tr>\n",
       "    <tr>\n",
       "      <th>30</th>\n",
       "      <td>Mon, Nov 10</td>\n",
       "      <td>10445</td>\n",
       "      <td>851</td>\n",
       "      <td>NaN</td>\n",
       "      <td>NaN</td>\n",
       "    </tr>\n",
       "    <tr>\n",
       "      <th>31</th>\n",
       "      <td>Tue, Nov 11</td>\n",
       "      <td>9931</td>\n",
       "      <td>831</td>\n",
       "      <td>NaN</td>\n",
       "      <td>NaN</td>\n",
       "    </tr>\n",
       "    <tr>\n",
       "      <th>32</th>\n",
       "      <td>Wed, Nov 12</td>\n",
       "      <td>10042</td>\n",
       "      <td>802</td>\n",
       "      <td>NaN</td>\n",
       "      <td>NaN</td>\n",
       "    </tr>\n",
       "    <tr>\n",
       "      <th>33</th>\n",
       "      <td>Thu, Nov 13</td>\n",
       "      <td>9721</td>\n",
       "      <td>829</td>\n",
       "      <td>NaN</td>\n",
       "      <td>NaN</td>\n",
       "    </tr>\n",
       "    <tr>\n",
       "      <th>34</th>\n",
       "      <td>Fri, Nov 14</td>\n",
       "      <td>9304</td>\n",
       "      <td>770</td>\n",
       "      <td>NaN</td>\n",
       "      <td>NaN</td>\n",
       "    </tr>\n",
       "    <tr>\n",
       "      <th>35</th>\n",
       "      <td>Sat, Nov 15</td>\n",
       "      <td>8668</td>\n",
       "      <td>724</td>\n",
       "      <td>NaN</td>\n",
       "      <td>NaN</td>\n",
       "    </tr>\n",
       "    <tr>\n",
       "      <th>36</th>\n",
       "      <td>Sun, Nov 16</td>\n",
       "      <td>8988</td>\n",
       "      <td>710</td>\n",
       "      <td>NaN</td>\n",
       "      <td>NaN</td>\n",
       "    </tr>\n",
       "  </tbody>\n",
       "</table>\n",
       "</div>"
      ],
      "text/plain": [
       "           date  unique_cookies_pageviews  unique_cookies_clicks  \\\n",
       "0   Sat, Oct 11                      7716                    686   \n",
       "1   Sun, Oct 12                      9288                    785   \n",
       "2   Mon, Oct 13                     10480                    884   \n",
       "3   Tue, Oct 14                      9867                    827   \n",
       "4   Wed, Oct 15                      9793                    832   \n",
       "5   Thu, Oct 16                      9500                    788   \n",
       "6   Fri, Oct 17                      9088                    780   \n",
       "7   Sat, Oct 18                      7664                    652   \n",
       "8   Sun, Oct 19                      8434                    697   \n",
       "9   Mon, Oct 20                     10496                    860   \n",
       "10  Tue, Oct 21                     10551                    864   \n",
       "11  Wed, Oct 22                      9737                    801   \n",
       "12  Thu, Oct 23                      8176                    642   \n",
       "13  Fri, Oct 24                      9402                    697   \n",
       "14  Sat, Oct 25                      8669                    669   \n",
       "15  Sun, Oct 26                      8881                    693   \n",
       "16  Mon, Oct 27                      9655                    771   \n",
       "17  Tue, Oct 28                      9396                    736   \n",
       "18  Wed, Oct 29                      9262                    727   \n",
       "19  Thu, Oct 30                      9308                    728   \n",
       "20  Fri, Oct 31                      8715                    722   \n",
       "21   Sat, Nov 1                      8448                    695   \n",
       "22   Sun, Nov 2                      8836                    724   \n",
       "23   Mon, Nov 3                      9359                    789   \n",
       "24   Tue, Nov 4                      9427                    743   \n",
       "25   Wed, Nov 5                      9633                    808   \n",
       "26   Thu, Nov 6                      9842                    831   \n",
       "27   Fri, Nov 7                      9272                    767   \n",
       "28   Sat, Nov 8                      8969                    760   \n",
       "29   Sun, Nov 9                      9697                    850   \n",
       "30  Mon, Nov 10                     10445                    851   \n",
       "31  Tue, Nov 11                      9931                    831   \n",
       "32  Wed, Nov 12                     10042                    802   \n",
       "33  Thu, Nov 13                      9721                    829   \n",
       "34  Fri, Nov 14                      9304                    770   \n",
       "35  Sat, Nov 15                      8668                    724   \n",
       "36  Sun, Nov 16                      8988                    710   \n",
       "\n",
       "    users_enrolled  user_enrolled_payments  \n",
       "0            105.0                    34.0  \n",
       "1            116.0                    91.0  \n",
       "2            145.0                    79.0  \n",
       "3            138.0                    92.0  \n",
       "4            140.0                    94.0  \n",
       "5            129.0                    61.0  \n",
       "6            127.0                    44.0  \n",
       "7             94.0                    62.0  \n",
       "8            120.0                    77.0  \n",
       "9            153.0                    98.0  \n",
       "10           143.0                    71.0  \n",
       "11           128.0                    70.0  \n",
       "12           122.0                    68.0  \n",
       "13           194.0                    94.0  \n",
       "14           127.0                    81.0  \n",
       "15           153.0                   101.0  \n",
       "16           213.0                   119.0  \n",
       "17           162.0                   120.0  \n",
       "18           201.0                    96.0  \n",
       "19           207.0                    67.0  \n",
       "20           182.0                   123.0  \n",
       "21           142.0                   100.0  \n",
       "22           182.0                   103.0  \n",
       "23             NaN                     NaN  \n",
       "24             NaN                     NaN  \n",
       "25             NaN                     NaN  \n",
       "26             NaN                     NaN  \n",
       "27             NaN                     NaN  \n",
       "28             NaN                     NaN  \n",
       "29             NaN                     NaN  \n",
       "30             NaN                     NaN  \n",
       "31             NaN                     NaN  \n",
       "32             NaN                     NaN  \n",
       "33             NaN                     NaN  \n",
       "34             NaN                     NaN  \n",
       "35             NaN                     NaN  \n",
       "36             NaN                     NaN  "
      ]
     },
     "execution_count": 13,
     "metadata": {},
     "output_type": "execute_result"
    }
   ],
   "source": [
    "experiment_df"
   ]
  },
  {
   "cell_type": "code",
   "execution_count": 14,
   "metadata": {
    "collapsed": false
   },
   "outputs": [
    {
     "name": "stdout",
     "output_type": "stream",
     "text": [
      "<class 'pandas.core.frame.DataFrame'>\n",
      "RangeIndex: 37 entries, 0 to 36\n",
      "Data columns (total 5 columns):\n",
      "date                        37 non-null object\n",
      "unique_cookies_pageviews    37 non-null int64\n",
      "unique_cookies_clicks       37 non-null int64\n",
      "users_enrolled              23 non-null float64\n",
      "user_enrolled_payments      23 non-null float64\n",
      "dtypes: float64(2), int64(2), object(1)\n",
      "memory usage: 1.5+ KB\n"
     ]
    }
   ],
   "source": [
    "experiment_df.info()"
   ]
  },
  {
   "cell_type": "code",
   "execution_count": 15,
   "metadata": {
    "collapsed": false
   },
   "outputs": [
    {
     "name": "stderr",
     "output_type": "stream",
     "text": [
      "//anaconda/lib/python3.5/site-packages/numpy/lib/function_base.py:3834: RuntimeWarning: Invalid value encountered in percentile\n",
      "  RuntimeWarning)\n"
     ]
    },
    {
     "data": {
      "text/html": [
       "<div>\n",
       "<table border=\"1\" class=\"dataframe\">\n",
       "  <thead>\n",
       "    <tr style=\"text-align: right;\">\n",
       "      <th></th>\n",
       "      <th>unique_cookies_pageviews</th>\n",
       "      <th>unique_cookies_clicks</th>\n",
       "      <th>users_enrolled</th>\n",
       "      <th>user_enrolled_payments</th>\n",
       "    </tr>\n",
       "  </thead>\n",
       "  <tbody>\n",
       "    <tr>\n",
       "      <th>count</th>\n",
       "      <td>37.000000</td>\n",
       "      <td>37.000000</td>\n",
       "      <td>23.000000</td>\n",
       "      <td>23.000000</td>\n",
       "    </tr>\n",
       "    <tr>\n",
       "      <th>mean</th>\n",
       "      <td>9315.135135</td>\n",
       "      <td>765.540541</td>\n",
       "      <td>148.826087</td>\n",
       "      <td>84.565217</td>\n",
       "    </tr>\n",
       "    <tr>\n",
       "      <th>std</th>\n",
       "      <td>708.070781</td>\n",
       "      <td>64.578374</td>\n",
       "      <td>33.234227</td>\n",
       "      <td>23.060841</td>\n",
       "    </tr>\n",
       "    <tr>\n",
       "      <th>min</th>\n",
       "      <td>7664.000000</td>\n",
       "      <td>642.000000</td>\n",
       "      <td>94.000000</td>\n",
       "      <td>34.000000</td>\n",
       "    </tr>\n",
       "    <tr>\n",
       "      <th>25%</th>\n",
       "      <td>8881.000000</td>\n",
       "      <td>722.000000</td>\n",
       "      <td>NaN</td>\n",
       "      <td>NaN</td>\n",
       "    </tr>\n",
       "    <tr>\n",
       "      <th>50%</th>\n",
       "      <td>9359.000000</td>\n",
       "      <td>770.000000</td>\n",
       "      <td>NaN</td>\n",
       "      <td>NaN</td>\n",
       "    </tr>\n",
       "    <tr>\n",
       "      <th>75%</th>\n",
       "      <td>9737.000000</td>\n",
       "      <td>827.000000</td>\n",
       "      <td>NaN</td>\n",
       "      <td>NaN</td>\n",
       "    </tr>\n",
       "    <tr>\n",
       "      <th>max</th>\n",
       "      <td>10551.000000</td>\n",
       "      <td>884.000000</td>\n",
       "      <td>213.000000</td>\n",
       "      <td>123.000000</td>\n",
       "    </tr>\n",
       "  </tbody>\n",
       "</table>\n",
       "</div>"
      ],
      "text/plain": [
       "       unique_cookies_pageviews  unique_cookies_clicks  users_enrolled  \\\n",
       "count                 37.000000              37.000000       23.000000   \n",
       "mean                9315.135135             765.540541      148.826087   \n",
       "std                  708.070781              64.578374       33.234227   \n",
       "min                 7664.000000             642.000000       94.000000   \n",
       "25%                 8881.000000             722.000000             NaN   \n",
       "50%                 9359.000000             770.000000             NaN   \n",
       "75%                 9737.000000             827.000000             NaN   \n",
       "max                10551.000000             884.000000      213.000000   \n",
       "\n",
       "       user_enrolled_payments  \n",
       "count               23.000000  \n",
       "mean                84.565217  \n",
       "std                 23.060841  \n",
       "min                 34.000000  \n",
       "25%                       NaN  \n",
       "50%                       NaN  \n",
       "75%                       NaN  \n",
       "max                123.000000  "
      ]
     },
     "execution_count": 15,
     "metadata": {},
     "output_type": "execute_result"
    }
   ],
   "source": [
    "experiment_df.describe()"
   ]
  },
  {
   "cell_type": "code",
   "execution_count": 16,
   "metadata": {
    "collapsed": false
   },
   "outputs": [
    {
     "data": {
      "image/png": "[encoded data removed]",
      "text/plain": [
       "<matplotlib.figure.Figure at 0x1194c23c8>"
      ]
     },
     "metadata": {},
     "output_type": "display_data"
    }
   ],
   "source": [
    "fig = plt.figure(figsize=(12,7))\n",
    "ax = fig.add_subplot(111)\n",
    "plt.title(\"Retention - Control vs Experiment\", fontsize=\"16\" )\n",
    "pd.DataFrame({'Control': control_df['user_enrolled_payments']/control_df['users_enrolled']}).plot(kind='line', ax=ax, legend=True, x=control_df['date'])\n",
    "pd.DataFrame({'Experiment': experiment_df['user_enrolled_payments']/experiment_df['users_enrolled']}).plot(kind='line', ax=ax, legend=True, x=control_df['date']);"
   ]
  },
  {
   "cell_type": "code",
   "execution_count": 17,
   "metadata": {
    "collapsed": false
   },
   "outputs": [
    {
     "data": {
      "image/png": "[encoded data removed]",
      "text/plain": [
       "<matplotlib.figure.Figure at 0x1194d6860>"
      ]
     },
     "metadata": {},
     "output_type": "display_data"
    }
   ],
   "source": [
    "fig = plt.figure(figsize=(12,7))\n",
    "ax = fig.add_subplot(111)\n",
    "plt.title(\"Unique Clicks - Control vs Experiment\", fontsize=\"16\" )\n",
    "pd.DataFrame({'Control': control_df['unique_cookies_clicks']}).plot(kind='line', ax=ax, legend=True, x=control_df['date'])\n",
    "pd.DataFrame({'Experiment': experiment_df['unique_cookies_clicks']}).plot(kind='line', ax=ax, legend=True, x=control_df['date']);"
   ]
  },
  {
   "cell_type": "code",
   "execution_count": 18,
   "metadata": {
    "collapsed": false
   },
   "outputs": [
    {
     "data": {
      "image/png": "[encoded data removed]",
      "text/plain": [
       "<matplotlib.figure.Figure at 0x11c0cd908>"
      ]
     },
     "metadata": {},
     "output_type": "display_data"
    }
   ],
   "source": [
    "fig = plt.figure(figsize=(12,7))\n",
    "ax = fig.add_subplot(111)\n",
    "plt.title(\"CTP - Control vs Experiment\", fontsize=\"16\" )\n",
    "pd.DataFrame({'Control': control_df['unique_cookies_clicks']/control_df['unique_cookies_pageviews']}).plot(kind='line', ax=ax, legend=True, x=control_df['date'])\n",
    "pd.DataFrame({'Experiment': experiment_df['unique_cookies_clicks']/experiment_df['unique_cookies_pageviews']}).plot(kind='line', ax=ax, legend=True, x=control_df['date']);"
   ]
  },
  {
   "cell_type": "code",
   "execution_count": 19,
   "metadata": {
    "collapsed": false
   },
   "outputs": [
    {
     "data": {
      "image/png": "[encoded data removed]",
      "text/plain": [
       "<matplotlib.figure.Figure at 0x1195234e0>"
      ]
     },
     "metadata": {},
     "output_type": "display_data"
    }
   ],
   "source": [
    "fig = plt.figure(figsize=(12,7))\n",
    "ax = fig.add_subplot(111)\n",
    "plt.title(\"Gross Convertion - Control vs Experiment\", fontsize=\"16\" )\n",
    "pd.DataFrame({'Control': control_df['users_enrolled']/control_df['unique_cookies_clicks']}).plot(kind='line', ax=ax, legend=True, x=control_df['date'])\n",
    "pd.DataFrame({'Experiment': experiment_df['users_enrolled']/experiment_df['unique_cookies_clicks']}).plot(kind='line', ax=ax, legend=True, x=control_df['date']);"
   ]
  },
  {
   "cell_type": "code",
   "execution_count": 20,
   "metadata": {
    "collapsed": false
   },
   "outputs": [
    {
     "data": {
      "image/png": "[encoded data removed]",
      "text/plain": [
       "<matplotlib.figure.Figure at 0x11c410400>"
      ]
     },
     "metadata": {},
     "output_type": "display_data"
    }
   ],
   "source": [
    "fig = plt.figure(figsize=(12,7))\n",
    "ax = fig.add_subplot(111)\n",
    "plt.title(\"Net Convertion - Control vs Experiment\", fontsize=\"16\" )\n",
    "pd.DataFrame({'Control': control_df['user_enrolled_payments']/control_df['unique_cookies_clicks']}).plot(kind='line', ax=ax, legend=True, x=control_df['date'])\n",
    "pd.DataFrame({'Experiment': experiment_df['user_enrolled_payments']/experiment_df['unique_cookies_clicks']}).plot(kind='line', ax=ax, legend=True, x=control_df['date']);"
   ]
  },
  {
   "cell_type": "code",
   "execution_count": 21,
   "metadata": {
    "collapsed": true
   },
   "outputs": [],
   "source": [
    "def p_hat_N_baseline(dataframe_column_1, dataframe_column_2):\n",
    "    \"\"\"\n",
    "    INPUT: columns from the baseline dataframe.\n",
    "    OUTPUT: metrics derived from above columns.\n",
    "    \"\"\"\n",
    "    z = 1.96\n",
    "    p_hat_baseline = dataframe_column_1[1]\n",
    "    N = dataframe_column_2[1]\n",
    "    margin_of_error = z * np.sqrt(p_hat_baseline * (1 - p_hat_baseline)/N)\n",
    "    print(\"P hat baseline: {:.2%}\".format(p_hat_baseline))\n",
    "    print(\"\\nN: {:0,.2f}\".format(N))\n",
    "    print(\"\\nMargin of Error: {:.2%}\".format(margin_of_error))\n",
    "    \n",
    "    return p_hat_baseline, N, margin_of_error"
   ]
  },
  {
   "cell_type": "code",
   "execution_count": 22,
   "metadata": {
    "collapsed": true
   },
   "outputs": [],
   "source": [
    "def control_experiment(control_column_1, control_column_2, experiment_column_1, experiment_column_2):\n",
    "    \"\"\"\n",
    "    INPUT: two columns for each of two dataframes.\n",
    "    OUTPUT: different metrics calculated from the above columns.\n",
    "    \"\"\"\n",
    "    z = 1.96\n",
    "    x_control = control_column_1.sum()\n",
    "    x_experiment = experiment_column_1.sum()\n",
    "    N_control = control_column_2.sum()\n",
    "    N_experiment = experiment_column_2.sum()\n",
    "    p_hat_pool = (x_control + x_experiment)/(N_control + N_experiment)\n",
    "    standard_error_pool = np.sqrt(p_hat_pool * (1 - p_hat_pool) * ((1/N_control) + (1/N_experiment)))\n",
    "    margin_of_error_pool = standard_error_pool * z\n",
    "    confidence_interval = (0.5 - margin_of_error_pool, 0.5 + margin_of_error_pool)\n",
    "    p_hat_control = control_column_1.mean()\n",
    "    p_hat_experiment = experiment_column_1.mean()\n",
    "    d_hat = p_hat_experiment - p_hat_control\n",
    "    print(\"P hat pool: {:.2%}\".format(p_hat_pool))\n",
    "    print(\"Standard Error Pool: {:.2%}\".format(standard_error_pool))\n",
    "    print(\"D hat: {:.2f}\".format(d_hat))\n",
    "    \n",
    "    return x_control, x_experiment, N_control, N_experiment, p_hat_pool, standard_error_pool, margin_of_error_pool, confidence_interval, p_hat_control, p_hat_experiment, d_hat"
   ]
  },
  {
   "cell_type": "code",
   "execution_count": 23,
   "metadata": {
    "collapsed": true
   },
   "outputs": [],
   "source": [
    "def reject_null_hypothesis(d_hat, standard_error_pool, z=1.96):\n",
    "    \"\"\"\n",
    "    INPUT: d hat and standard deviation.\n",
    "    OUTPUT: we evaluate whether d hat is greater or not z times the standard deviation.\n",
    "    \"\"\"\n",
    "    if d_hat < 0:\n",
    "        evaluation = -z * standard_error_pool\n",
    "        if d_hat < evaluation:\n",
    "            print(\"Reject the null hypothesis.\")\n",
    "        else:\n",
    "            print(\"Fail to reject the null hypothesis.\")\n",
    "    else:\n",
    "        evaluation = z * standard_error_pool\n",
    "        if d_hat > evaluation:\n",
    "            print(\"Reject the null hypothesis.\")\n",
    "        else:\n",
    "            print(\"Fail to reject the null hypothesis.\")"
   ]
  },
  {
   "cell_type": "code",
   "execution_count": 24,
   "metadata": {
    "collapsed": true
   },
   "outputs": [],
   "source": [
    "def sanity_check(control_column_1, experiment_column_1):\n",
    "    \"\"\"\n",
    "    INPUT: columns of two different dataframes.\n",
    "    OUTPUT: an integer calculated from above input.\n",
    "    \"\"\"\n",
    "    N_control = control_column_1.sum()\n",
    "    N_experiment = experiment_column_1.sum()\n",
    "    \n",
    "    return N_control/(N_control + N_experiment)\n",
    "    "
   ]
  },
  {
   "cell_type": "markdown",
   "metadata": {},
   "source": [
    "$H_0 = \\hat{p}_{control} - \\hat{p}_{experiment} = 0$\n",
    "\n",
    "$H_A = \\hat{p}_{control} - \\hat{p}_{experiment} \\neq 0$"
   ]
  },
  {
   "cell_type": "markdown",
   "metadata": {},
   "source": [
    "### Experiment with metric: `CTP`."
   ]
  },
  {
   "cell_type": "code",
   "execution_count": 25,
   "metadata": {
    "collapsed": false
   },
   "outputs": [
    {
     "name": "stdout",
     "output_type": "stream",
     "text": [
      "P hat baseline: 8.00%\n",
      "\n",
      "N: 40,000.00\n",
      "\n",
      "Margin of Error: 0.27%\n"
     ]
    }
   ],
   "source": [
    "p_hat_baseline, N, margin_of_error = p_hat_N_baseline(baseline_df.ix[:,3], baseline_df.ix[:,0])"
   ]
  },
  {
   "cell_type": "code",
   "execution_count": 26,
   "metadata": {
    "collapsed": false
   },
   "outputs": [],
   "source": [
    "margin_of_error_upper = p_hat_baseline + margin_of_error"
   ]
  },
  {
   "cell_type": "code",
   "execution_count": 27,
   "metadata": {
    "collapsed": true
   },
   "outputs": [],
   "source": [
    "margin_of_error_lower = p_hat_baseline - margin_of_error"
   ]
  },
  {
   "cell_type": "code",
   "execution_count": 28,
   "metadata": {
    "collapsed": false
   },
   "outputs": [
    {
     "data": {
      "text/plain": [
       "(0.077341326646614902, 0.082658673353385101)"
      ]
     },
     "execution_count": 28,
     "metadata": {},
     "output_type": "execute_result"
    }
   ],
   "source": [
    "margin_of_error_lower, margin_of_error_upper"
   ]
  },
  {
   "cell_type": "code",
   "execution_count": 29,
   "metadata": {
    "collapsed": false
   },
   "outputs": [
    {
     "name": "stdout",
     "output_type": "stream",
     "text": [
      "P hat pool: 8.22%\n",
      "Standard Error Pool: 0.07%\n",
      "D hat: -1.43\n"
     ]
    }
   ],
   "source": [
    "x_control, x_experiment, N_control, N_experiment, p_hat_pool, standard_error_pool, margin_of_error_pool, confidence_interval, p_hat_control, p_hat_experiment, d_hat = control_experiment(control_df['unique_cookies_clicks'],\n",
    "                                                                                  control_df['unique_cookies_pageviews'],\n",
    "                                                                   experiment_df['unique_cookies_clicks'],\n",
    "                                                                   experiment_df['unique_cookies_pageviews'])"
   ]
  },
  {
   "cell_type": "code",
   "execution_count": 30,
   "metadata": {
    "collapsed": false
   },
   "outputs": [
    {
     "data": {
      "text/plain": [
       "(28378,\n",
       " 28325,\n",
       " 345543,\n",
       " 344660,\n",
       " 0.08215409089789526,\n",
       " 0.00066106081563872224,\n",
       " 0.0012956791986518956,\n",
       " (0.49870432080134808, 0.50129567919865192),\n",
       " 766.972972972973,\n",
       " 765.5405405405405,\n",
       " -1.4324324324325062)"
      ]
     },
     "execution_count": 30,
     "metadata": {},
     "output_type": "execute_result"
    }
   ],
   "source": [
    "x_control, x_experiment, N_control, N_experiment, p_hat_pool, standard_error_pool, margin_of_error_pool, confidence_interval, p_hat_control, p_hat_experiment, d_hat"
   ]
  },
  {
   "cell_type": "code",
   "execution_count": 31,
   "metadata": {
    "collapsed": false
   },
   "outputs": [
    {
     "name": "stdout",
     "output_type": "stream",
     "text": [
      "Reject the null hypothesis.\n"
     ]
    }
   ],
   "source": [
    "reject_null_hypothesis(d_hat, standard_error_pool)"
   ]
  },
  {
   "cell_type": "markdown",
   "metadata": {},
   "source": [
    "#### We reject $H_0$"
   ]
  },
  {
   "cell_type": "code",
   "execution_count": 32,
   "metadata": {
    "collapsed": false
   },
   "outputs": [
    {
     "name": "stdout",
     "output_type": "stream",
     "text": [
      "Standard Deviation for CTP: 0.0031\n"
     ]
    }
   ],
   "source": [
    "print(\"Standard Deviation for CTP: {:.4f}\".format((experiment_df['unique_cookies_clicks']/ experiment_df['unique_cookies_pageviews']).std()))"
   ]
  },
  {
   "cell_type": "code",
   "execution_count": 33,
   "metadata": {
    "collapsed": false
   },
   "outputs": [
    {
     "name": "stdout",
     "output_type": "stream",
     "text": [
      "Sanity Check Observed Value: 0.5006\n"
     ]
    }
   ],
   "source": [
    "print(\"Sanity Check Observed Value: {:.4f}\".format(sanity_check(control_df['unique_cookies_pageviews'], experiment_df['unique_cookies_pageviews'])))"
   ]
  },
  {
   "cell_type": "markdown",
   "metadata": {
    "collapsed": true
   },
   "source": [
    "### Experiment with metric: `Gross Conversion`."
   ]
  },
  {
   "cell_type": "code",
   "execution_count": 34,
   "metadata": {
    "collapsed": false
   },
   "outputs": [
    {
     "name": "stdout",
     "output_type": "stream",
     "text": [
      "P hat baseline: 10.93%\n",
      "\n",
      "N: 40,000.00\n",
      "\n",
      "Margin of Error: 0.31%\n"
     ]
    }
   ],
   "source": [
    "p_hat_baseline, N, margin_of_error = p_hat_N_baseline(baseline_df.ix[:,6], baseline_df.ix[:,0])"
   ]
  },
  {
   "cell_type": "code",
   "execution_count": 35,
   "metadata": {
    "collapsed": false
   },
   "outputs": [
    {
     "name": "stdout",
     "output_type": "stream",
     "text": [
      "P hat pool: 12.71%\n",
      "Standard Error Pool: 0.28%\n",
      "D hat: -15.74\n"
     ]
    }
   ],
   "source": [
    "x_control, x_experiment, N_control, N_experiment, p_hat_pool, standard_error_pool, margin_of_error_pool, confidence_interval, p_hat_control, p_hat_experiment, d_hat = control_experiment(control_df['users_enrolled'],\n",
    "                                                                                  control_df['unique_cookies_clicks'],\n",
    "                                                                   experiment_df['users_enrolled'],\n",
    "                                                                   experiment_df['unique_cookies_clicks'])"
   ]
  },
  {
   "cell_type": "code",
   "execution_count": 36,
   "metadata": {
    "collapsed": false
   },
   "outputs": [
    {
     "data": {
      "text/plain": [
       "(3785.0,\n",
       " 3423.0,\n",
       " 28378,\n",
       " 28325,\n",
       " 0.127118494612278,\n",
       " 0.0027977517973336854,\n",
       " 0.005483593522774023,\n",
       " (0.494516406477226, 0.50548359352277406),\n",
       " 164.56521739130434,\n",
       " 148.82608695652175,\n",
       " -15.739130434782595)"
      ]
     },
     "execution_count": 36,
     "metadata": {},
     "output_type": "execute_result"
    }
   ],
   "source": [
    "x_control, x_experiment, N_control, N_experiment, p_hat_pool, standard_error_pool, margin_of_error_pool, confidence_interval, p_hat_control, p_hat_experiment, d_hat"
   ]
  },
  {
   "cell_type": "code",
   "execution_count": 37,
   "metadata": {
    "collapsed": false
   },
   "outputs": [
    {
     "name": "stdout",
     "output_type": "stream",
     "text": [
      "Reject the null hypothesis.\n"
     ]
    }
   ],
   "source": [
    "reject_null_hypothesis(d_hat, standard_error_pool)"
   ]
  },
  {
   "cell_type": "markdown",
   "metadata": {},
   "source": [
    "#### We reject $H_0$"
   ]
  },
  {
   "cell_type": "code",
   "execution_count": 38,
   "metadata": {
    "collapsed": false
   },
   "outputs": [
    {
     "name": "stdout",
     "output_type": "stream",
     "text": [
      "Standard Deviation for Control Gross Conversion: 0.0440\n"
     ]
    }
   ],
   "source": [
    "print(\"Standard Deviation for Control Gross Conversion: {:.4f}\".format((control_df['users_enrolled']/ control_df['unique_cookies_clicks']).std()))"
   ]
  },
  {
   "cell_type": "code",
   "execution_count": 39,
   "metadata": {
    "collapsed": false
   },
   "outputs": [
    {
     "name": "stdout",
     "output_type": "stream",
     "text": [
      "Standard Deviation for Experiment Gross Conversion: 0.0475\n"
     ]
    }
   ],
   "source": [
    "print(\"Standard Deviation for Experiment Gross Conversion: {:.4f}\".format((experiment_df['users_enrolled']/ experiment_df['unique_cookies_clicks']).std()))"
   ]
  },
  {
   "cell_type": "code",
   "execution_count": 40,
   "metadata": {
    "collapsed": false
   },
   "outputs": [
    {
     "name": "stdout",
     "output_type": "stream",
     "text": [
      "Sanity Check Observed Value: 0.5005\n"
     ]
    }
   ],
   "source": [
    "print(\"Sanity Check Observed Value: {:.4f}\".format(sanity_check(control_df['unique_cookies_clicks'], experiment_df['unique_cookies_clicks'])))"
   ]
  },
  {
   "cell_type": "markdown",
   "metadata": {},
   "source": [
    "### Experiment with metric: `Net Conversion`."
   ]
  },
  {
   "cell_type": "code",
   "execution_count": 41,
   "metadata": {
    "collapsed": false
   },
   "outputs": [
    {
     "name": "stdout",
     "output_type": "stream",
     "text": [
      "P hat baseline: 20.62%\n",
      "\n",
      "N: 40,000.00\n",
      "\n",
      "Margin of Error: 0.40%\n"
     ]
    }
   ],
   "source": [
    "p_hat_baseline, N, margin_of_error = p_hat_N_baseline(baseline_df.ix[:,4], baseline_df.ix[:,0])"
   ]
  },
  {
   "cell_type": "code",
   "execution_count": 42,
   "metadata": {
    "collapsed": false
   },
   "outputs": [
    {
     "name": "stdout",
     "output_type": "stream",
     "text": [
      "P hat pool: 7.02%\n",
      "Standard Error Pool: 0.21%\n",
      "D hat: -3.83\n"
     ]
    }
   ],
   "source": [
    "x_control, x_experiment, N_control, N_experiment, p_hat_pool, standard_error_pool, margin_of_error_pool, confidence_interval, p_hat_control, p_hat_experiment, d_hat = control_experiment(control_df['user_enrolled_payments'],\n",
    "                                                                                  control_df['unique_cookies_clicks'],\n",
    "                                                                   experiment_df['user_enrolled_payments'],\n",
    "                                                                   experiment_df['unique_cookies_clicks'])"
   ]
  },
  {
   "cell_type": "code",
   "execution_count": 43,
   "metadata": {
    "collapsed": false
   },
   "outputs": [
    {
     "name": "stdout",
     "output_type": "stream",
     "text": [
      "Reject the null hypothesis.\n"
     ]
    }
   ],
   "source": [
    "reject_null_hypothesis(d_hat, standard_error_pool)"
   ]
  },
  {
   "cell_type": "markdown",
   "metadata": {},
   "source": [
    "#### We reject $H_0$"
   ]
  },
  {
   "cell_type": "code",
   "execution_count": 44,
   "metadata": {
    "collapsed": false
   },
   "outputs": [
    {
     "name": "stdout",
     "output_type": "stream",
     "text": [
      "Standard Deviation for Control Net Conversion: 0.0294\n"
     ]
    }
   ],
   "source": [
    "print(\"Standard Deviation for Control Net Conversion: {:.4f}\".format((control_df['user_enrolled_payments']/ control_df['unique_cookies_clicks']).std()))"
   ]
  },
  {
   "cell_type": "code",
   "execution_count": 45,
   "metadata": {
    "collapsed": false
   },
   "outputs": [
    {
     "name": "stdout",
     "output_type": "stream",
     "text": [
      "Standard Deviation for Experiment Net Conversion: 0.0322\n"
     ]
    }
   ],
   "source": [
    "print(\"Standard Deviation for Experiment Net Conversion: {:.4f}\".format((experiment_df['user_enrolled_payments']/ experiment_df['unique_cookies_clicks']).std()))"
   ]
  },
  {
   "cell_type": "code",
   "execution_count": 46,
   "metadata": {
    "collapsed": false
   },
   "outputs": [
    {
     "name": "stdout",
     "output_type": "stream",
     "text": [
      "Sanity Check Observed Value: 0.5005\n"
     ]
    }
   ],
   "source": [
    "print(\"Sanity Check Observed Value: {:.4f}\".format(sanity_check(control_df['unique_cookies_clicks'], experiment_df['unique_cookies_clicks'])))"
   ]
  },
  {
   "cell_type": "markdown",
   "metadata": {},
   "source": [
    "## Sample size.\n",
    "\n",
    "### For CTP."
   ]
  },
  {
   "cell_type": "code",
   "execution_count": 47,
   "metadata": {
    "collapsed": true
   },
   "outputs": [],
   "source": [
    "baseline = baseline_df.ix[:,3]\n",
    "dmin = 0.01"
   ]
  },
  {
   "cell_type": "code",
   "execution_count": 48,
   "metadata": {
    "collapsed": false
   },
   "outputs": [
    {
     "data": {
      "text/plain": [
       "0.08"
      ]
     },
     "execution_count": 48,
     "metadata": {},
     "output_type": "execute_result"
    }
   ],
   "source": [
    "baseline[1]"
   ]
  },
  {
   "cell_type": "markdown",
   "metadata": {},
   "source": [
    "http://www.evanmiller.org/ab-testing/sample-size.html#!10.9313;80;5;0.75;0\n",
    "\n",
    "<img src=\"images/sample-size.jpg\" />"
   ]
  },
  {
   "cell_type": "markdown",
   "metadata": {},
   "source": [
    "### For Gross Conversion."
   ]
  },
  {
   "cell_type": "code",
   "execution_count": 49,
   "metadata": {
    "collapsed": true
   },
   "outputs": [],
   "source": [
    "baseline = baseline_df.ix[:,4]\n",
    "dmin = 0.01"
   ]
  },
  {
   "cell_type": "code",
   "execution_count": 50,
   "metadata": {
    "collapsed": false
   },
   "outputs": [
    {
     "data": {
      "text/plain": [
       "0.20625"
      ]
     },
     "execution_count": 50,
     "metadata": {},
     "output_type": "execute_result"
    }
   ],
   "source": [
    "baseline[1]"
   ]
  },
  {
   "cell_type": "markdown",
   "metadata": {},
   "source": [
    "<img src=\"images/sample-size-2.jpg\" />"
   ]
  },
  {
   "cell_type": "markdown",
   "metadata": {},
   "source": [
    "### For Net Conversion."
   ]
  },
  {
   "cell_type": "code",
   "execution_count": 51,
   "metadata": {
    "collapsed": true
   },
   "outputs": [],
   "source": [
    "baseline = baseline_df.ix[:,6]\n",
    "dmin = 0.0075"
   ]
  },
  {
   "cell_type": "code",
   "execution_count": 52,
   "metadata": {
    "collapsed": false
   },
   "outputs": [
    {
     "data": {
      "text/plain": [
       "0.1093125"
      ]
     },
     "execution_count": 52,
     "metadata": {},
     "output_type": "execute_result"
    }
   ],
   "source": [
    "baseline[1]"
   ]
  },
  {
   "cell_type": "markdown",
   "metadata": {},
   "source": [
    "<img src=\"images/sample-size-3.jpg\" />"
   ]
  },
  {
   "cell_type": "markdown",
   "metadata": {},
   "source": [
    "### For Retention."
   ]
  },
  {
   "cell_type": "code",
   "execution_count": 53,
   "metadata": {
    "collapsed": true
   },
   "outputs": [],
   "source": [
    "baseline = baseline_df.ix[:,5]\n",
    "dmin = 0.01"
   ]
  },
  {
   "cell_type": "code",
   "execution_count": 54,
   "metadata": {
    "collapsed": false
   },
   "outputs": [
    {
     "data": {
      "text/plain": [
       "0.53"
      ]
     },
     "execution_count": 54,
     "metadata": {},
     "output_type": "execute_result"
    }
   ],
   "source": [
    "baseline[1]"
   ]
  },
  {
   "cell_type": "markdown",
   "metadata": {},
   "source": [
    "<img src=\"images/sample-size-4.jpg\" />"
   ]
  },
  {
   "cell_type": "code",
   "execution_count": null,
   "metadata": {
    "collapsed": true
   },
   "outputs": [],
   "source": []
  }
 ],
 "metadata": {
  "anaconda-cloud": {},
  "kernelspec": {
   "display_name": "Python [Root]",
   "language": "python",
   "name": "Python [Root]"
  },
  "language_info": {
   "codemirror_mode": {
    "name": "ipython",
    "version": 3
   },
   "file_extension": ".py",
   "mimetype": "text/x-python",
   "name": "python",
   "nbconvert_exporter": "python",
   "pygments_lexer": "ipython3",
   "version": "3.5.2"
  }
 },
 "nbformat": 4,
 "nbformat_minor": 0
}
