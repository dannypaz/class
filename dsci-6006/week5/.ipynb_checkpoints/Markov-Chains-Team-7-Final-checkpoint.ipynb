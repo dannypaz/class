{
 "cells": [
  {
   "cell_type": "markdown",
   "metadata": {},
   "source": [
    "# Markow Chains - Team-7.\n",
    "\n",
    "## Project revenues for the next 10 years.\n",
    "## Discount rate: 10%\n",
    "## What would be the value of the customer base in 2025."
   ]
  },
  {
   "cell_type": "code",
   "execution_count": 1,
   "metadata": {
    "collapsed": true
   },
   "outputs": [],
   "source": [
    "reset -fs"
   ]
  },
  {
   "cell_type": "code",
   "execution_count": 2,
   "metadata": {
    "collapsed": true
   },
   "outputs": [],
   "source": [
    "import numpy as np\n",
    "import pandas as pd\n",
    "import matplotlib.pyplot as plt\n",
    "import seaborn as sns\n",
    "from datetime import datetime\n",
    "%matplotlib inline"
   ]
  },
  {
   "cell_type": "code",
   "execution_count": 3,
   "metadata": {
    "collapsed": true
   },
   "outputs": [],
   "source": [
    "sns.set(color_codes=True)"
   ]
  },
  {
   "cell_type": "code",
   "execution_count": 4,
   "metadata": {
    "collapsed": true
   },
   "outputs": [],
   "source": [
    "df = pd.read_csv('purchases.txt', sep=\"\\t\", header=None, names=['customer_id', 'purchase_amount', 'date_purchase'])"
   ]
  },
  {
   "cell_type": "code",
   "execution_count": 5,
   "metadata": {
    "collapsed": false
   },
   "outputs": [
    {
     "data": {
      "text/html": [
       "<div>\n",
       "<table border=\"1\" class=\"dataframe\">\n",
       "  <thead>\n",
       "    <tr style=\"text-align: right;\">\n",
       "      <th></th>\n",
       "      <th>customer_id</th>\n",
       "      <th>purchase_amount</th>\n",
       "      <th>date_purchase</th>\n",
       "    </tr>\n",
       "  </thead>\n",
       "  <tbody>\n",
       "    <tr>\n",
       "      <th>0</th>\n",
       "      <td>760</td>\n",
       "      <td>25.0</td>\n",
       "      <td>2009-11-06</td>\n",
       "    </tr>\n",
       "    <tr>\n",
       "      <th>1</th>\n",
       "      <td>860</td>\n",
       "      <td>50.0</td>\n",
       "      <td>2012-09-28</td>\n",
       "    </tr>\n",
       "    <tr>\n",
       "      <th>2</th>\n",
       "      <td>1200</td>\n",
       "      <td>100.0</td>\n",
       "      <td>2005-10-25</td>\n",
       "    </tr>\n",
       "    <tr>\n",
       "      <th>3</th>\n",
       "      <td>1420</td>\n",
       "      <td>50.0</td>\n",
       "      <td>2009-07-09</td>\n",
       "    </tr>\n",
       "    <tr>\n",
       "      <th>4</th>\n",
       "      <td>1940</td>\n",
       "      <td>70.0</td>\n",
       "      <td>2013-01-25</td>\n",
       "    </tr>\n",
       "  </tbody>\n",
       "</table>\n",
       "</div>"
      ],
      "text/plain": [
       "   customer_id  purchase_amount date_purchase\n",
       "0          760             25.0    2009-11-06\n",
       "1          860             50.0    2012-09-28\n",
       "2         1200            100.0    2005-10-25\n",
       "3         1420             50.0    2009-07-09\n",
       "4         1940             70.0    2013-01-25"
      ]
     },
     "execution_count": 5,
     "metadata": {},
     "output_type": "execute_result"
    }
   ],
   "source": [
    "df.head()"
   ]
  },
  {
   "cell_type": "code",
   "execution_count": 6,
   "metadata": {
    "collapsed": false
   },
   "outputs": [
    {
     "data": {
      "text/plain": [
       "(51243, 3)"
      ]
     },
     "execution_count": 6,
     "metadata": {},
     "output_type": "execute_result"
    }
   ],
   "source": [
    "df.shape"
   ]
  },
  {
   "cell_type": "code",
   "execution_count": 7,
   "metadata": {
    "collapsed": false
   },
   "outputs": [
    {
     "name": "stdout",
     "output_type": "stream",
     "text": [
      "<class 'pandas.core.frame.DataFrame'>\n",
      "RangeIndex: 51243 entries, 0 to 51242\n",
      "Data columns (total 3 columns):\n",
      "customer_id        51243 non-null int64\n",
      "purchase_amount    51243 non-null float64\n",
      "date_purchase      51243 non-null object\n",
      "dtypes: float64(1), int64(1), object(1)\n",
      "memory usage: 1.2+ MB\n"
     ]
    }
   ],
   "source": [
    "df.info()"
   ]
  },
  {
   "cell_type": "code",
   "execution_count": 8,
   "metadata": {
    "collapsed": false
   },
   "outputs": [],
   "source": [
    "df['date_purchase'] =  pd.to_datetime(df['date_purchase'])\n",
    "df['year_purchase'] = df['date_purchase'].apply(lambda x: x.year)"
   ]
  },
  {
   "cell_type": "code",
   "execution_count": 9,
   "metadata": {
    "collapsed": false
   },
   "outputs": [
    {
     "data": {
      "text/html": [
       "<div>\n",
       "<table border=\"1\" class=\"dataframe\">\n",
       "  <thead>\n",
       "    <tr style=\"text-align: right;\">\n",
       "      <th></th>\n",
       "      <th>customer_id</th>\n",
       "      <th>purchase_amount</th>\n",
       "      <th>date_purchase</th>\n",
       "      <th>year_purchase</th>\n",
       "    </tr>\n",
       "  </thead>\n",
       "  <tbody>\n",
       "    <tr>\n",
       "      <th>0</th>\n",
       "      <td>760</td>\n",
       "      <td>25.0</td>\n",
       "      <td>2009-11-06</td>\n",
       "      <td>2009</td>\n",
       "    </tr>\n",
       "    <tr>\n",
       "      <th>1</th>\n",
       "      <td>860</td>\n",
       "      <td>50.0</td>\n",
       "      <td>2012-09-28</td>\n",
       "      <td>2012</td>\n",
       "    </tr>\n",
       "    <tr>\n",
       "      <th>2</th>\n",
       "      <td>1200</td>\n",
       "      <td>100.0</td>\n",
       "      <td>2005-10-25</td>\n",
       "      <td>2005</td>\n",
       "    </tr>\n",
       "    <tr>\n",
       "      <th>3</th>\n",
       "      <td>1420</td>\n",
       "      <td>50.0</td>\n",
       "      <td>2009-07-09</td>\n",
       "      <td>2009</td>\n",
       "    </tr>\n",
       "    <tr>\n",
       "      <th>4</th>\n",
       "      <td>1940</td>\n",
       "      <td>70.0</td>\n",
       "      <td>2013-01-25</td>\n",
       "      <td>2013</td>\n",
       "    </tr>\n",
       "  </tbody>\n",
       "</table>\n",
       "</div>"
      ],
      "text/plain": [
       "   customer_id  purchase_amount date_purchase  year_purchase\n",
       "0          760             25.0    2009-11-06           2009\n",
       "1          860             50.0    2012-09-28           2012\n",
       "2         1200            100.0    2005-10-25           2005\n",
       "3         1420             50.0    2009-07-09           2009\n",
       "4         1940             70.0    2013-01-25           2013"
      ]
     },
     "execution_count": 9,
     "metadata": {},
     "output_type": "execute_result"
    }
   ],
   "source": [
    "df.head()"
   ]
  },
  {
   "cell_type": "code",
   "execution_count": 10,
   "metadata": {
    "collapsed": false
   },
   "outputs": [
    {
     "data": {
      "text/plain": [
       "2247"
      ]
     },
     "execution_count": 10,
     "metadata": {},
     "output_type": "execute_result"
    }
   ],
   "source": [
    "def diffdays(diffday):\n",
    "    date_format = \"%Y/%m/%d\"\n",
    "    day1 = datetime.strptime('2016/01/01', date_format)\n",
    "    day2 = datetime.strptime(diffday, date_format)\n",
    "    delta = day1 - day2\n",
    "    return delta.days\n",
    "\n",
    "diffdays('2009/11/06')"
   ]
  },
  {
   "cell_type": "code",
   "execution_count": 11,
   "metadata": {
    "collapsed": false
   },
   "outputs": [],
   "source": [
    "df['daydiff']=df['date_purchase'].apply(lambda x:(datetime.strptime('2016-01-01','%Y-%M-%d')-x).days)"
   ]
  },
  {
   "cell_type": "code",
   "execution_count": 12,
   "metadata": {
    "collapsed": false
   },
   "outputs": [
    {
     "data": {
      "text/html": [
       "<div>\n",
       "<table border=\"1\" class=\"dataframe\">\n",
       "  <thead>\n",
       "    <tr style=\"text-align: right;\">\n",
       "      <th></th>\n",
       "      <th>customer_id</th>\n",
       "      <th>purchase_amount</th>\n",
       "      <th>date_purchase</th>\n",
       "      <th>year_purchase</th>\n",
       "      <th>daydiff</th>\n",
       "    </tr>\n",
       "  </thead>\n",
       "  <tbody>\n",
       "    <tr>\n",
       "      <th>0</th>\n",
       "      <td>760</td>\n",
       "      <td>25.0</td>\n",
       "      <td>2009-11-06</td>\n",
       "      <td>2009</td>\n",
       "      <td>2247</td>\n",
       "    </tr>\n",
       "    <tr>\n",
       "      <th>1</th>\n",
       "      <td>860</td>\n",
       "      <td>50.0</td>\n",
       "      <td>2012-09-28</td>\n",
       "      <td>2012</td>\n",
       "      <td>1190</td>\n",
       "    </tr>\n",
       "    <tr>\n",
       "      <th>2</th>\n",
       "      <td>1200</td>\n",
       "      <td>100.0</td>\n",
       "      <td>2005-10-25</td>\n",
       "      <td>2005</td>\n",
       "      <td>3720</td>\n",
       "    </tr>\n",
       "    <tr>\n",
       "      <th>3</th>\n",
       "      <td>1420</td>\n",
       "      <td>50.0</td>\n",
       "      <td>2009-07-09</td>\n",
       "      <td>2009</td>\n",
       "      <td>2367</td>\n",
       "    </tr>\n",
       "    <tr>\n",
       "      <th>4</th>\n",
       "      <td>1940</td>\n",
       "      <td>70.0</td>\n",
       "      <td>2013-01-25</td>\n",
       "      <td>2013</td>\n",
       "      <td>1071</td>\n",
       "    </tr>\n",
       "  </tbody>\n",
       "</table>\n",
       "</div>"
      ],
      "text/plain": [
       "   customer_id  purchase_amount date_purchase  year_purchase  daydiff\n",
       "0          760             25.0    2009-11-06           2009     2247\n",
       "1          860             50.0    2012-09-28           2012     1190\n",
       "2         1200            100.0    2005-10-25           2005     3720\n",
       "3         1420             50.0    2009-07-09           2009     2367\n",
       "4         1940             70.0    2013-01-25           2013     1071"
      ]
     },
     "execution_count": 12,
     "metadata": {},
     "output_type": "execute_result"
    }
   ],
   "source": [
    "df.head()"
   ]
  },
  {
   "cell_type": "markdown",
   "metadata": {},
   "source": [
    "## KPIs for customers in 2015."
   ]
  },
  {
   "cell_type": "code",
   "execution_count": 13,
   "metadata": {
    "collapsed": true
   },
   "outputs": [],
   "source": [
    "def summary_2015(df):\n",
    "    df['recency'] = df.daydiff.min()\n",
    "    df['first_purchase'] = df.daydiff.max()\n",
    "    df['frequency'] = df.shape[0]\n",
    "    df['amount'] = df.purchase_amount.mean()\n",
    "    return df"
   ]
  },
  {
   "cell_type": "code",
   "execution_count": 14,
   "metadata": {
    "collapsed": false
   },
   "outputs": [
    {
     "data": {
      "text/html": [
       "<div>\n",
       "<table border=\"1\" class=\"dataframe\">\n",
       "  <thead>\n",
       "    <tr style=\"text-align: right;\">\n",
       "      <th></th>\n",
       "      <th>customer_id</th>\n",
       "      <th>purchase_amount</th>\n",
       "      <th>date_purchase</th>\n",
       "      <th>year_purchase</th>\n",
       "      <th>daydiff</th>\n",
       "      <th>recency</th>\n",
       "      <th>first_purchase</th>\n",
       "      <th>frequency</th>\n",
       "      <th>amount</th>\n",
       "    </tr>\n",
       "  </thead>\n",
       "  <tbody>\n",
       "    <tr>\n",
       "      <th>0</th>\n",
       "      <td>760</td>\n",
       "      <td>25.0</td>\n",
       "      <td>2009-11-06</td>\n",
       "      <td>2009</td>\n",
       "      <td>2247</td>\n",
       "      <td>1273</td>\n",
       "      <td>3293</td>\n",
       "      <td>5</td>\n",
       "      <td>38.000000</td>\n",
       "    </tr>\n",
       "    <tr>\n",
       "      <th>1</th>\n",
       "      <td>860</td>\n",
       "      <td>50.0</td>\n",
       "      <td>2012-09-28</td>\n",
       "      <td>2012</td>\n",
       "      <td>1190</td>\n",
       "      <td>237</td>\n",
       "      <td>4008</td>\n",
       "      <td>10</td>\n",
       "      <td>54.000000</td>\n",
       "    </tr>\n",
       "    <tr>\n",
       "      <th>2</th>\n",
       "      <td>1200</td>\n",
       "      <td>100.0</td>\n",
       "      <td>2005-10-25</td>\n",
       "      <td>2005</td>\n",
       "      <td>3720</td>\n",
       "      <td>1192</td>\n",
       "      <td>3907</td>\n",
       "      <td>9</td>\n",
       "      <td>102.777778</td>\n",
       "    </tr>\n",
       "    <tr>\n",
       "      <th>3</th>\n",
       "      <td>1420</td>\n",
       "      <td>50.0</td>\n",
       "      <td>2009-07-09</td>\n",
       "      <td>2009</td>\n",
       "      <td>2367</td>\n",
       "      <td>24</td>\n",
       "      <td>3810</td>\n",
       "      <td>34</td>\n",
       "      <td>51.029412</td>\n",
       "    </tr>\n",
       "    <tr>\n",
       "      <th>4</th>\n",
       "      <td>1940</td>\n",
       "      <td>70.0</td>\n",
       "      <td>2013-01-25</td>\n",
       "      <td>2013</td>\n",
       "      <td>1071</td>\n",
       "      <td>686</td>\n",
       "      <td>3957</td>\n",
       "      <td>10</td>\n",
       "      <td>47.500000</td>\n",
       "    </tr>\n",
       "  </tbody>\n",
       "</table>\n",
       "</div>"
      ],
      "text/plain": [
       "   customer_id  purchase_amount date_purchase  year_purchase  daydiff  \\\n",
       "0          760             25.0    2009-11-06           2009     2247   \n",
       "1          860             50.0    2012-09-28           2012     1190   \n",
       "2         1200            100.0    2005-10-25           2005     3720   \n",
       "3         1420             50.0    2009-07-09           2009     2367   \n",
       "4         1940             70.0    2013-01-25           2013     1071   \n",
       "\n",
       "   recency  first_purchase  frequency      amount  \n",
       "0     1273            3293          5   38.000000  \n",
       "1      237            4008         10   54.000000  \n",
       "2     1192            3907          9  102.777778  \n",
       "3       24            3810         34   51.029412  \n",
       "4      686            3957         10   47.500000  "
      ]
     },
     "execution_count": 14,
     "metadata": {},
     "output_type": "execute_result"
    }
   ],
   "source": [
    "customers_2015 = df.groupby('customer_id').apply(summary_2015)\n",
    "customers_2015.head()"
   ]
  },
  {
   "cell_type": "code",
   "execution_count": 15,
   "metadata": {
    "collapsed": false
   },
   "outputs": [
    {
     "data": {
      "image/png": "[encoded data removed]",
      "text/plain": [
       "<matplotlib.figure.Figure at 0x11bf169e8>"
      ]
     },
     "metadata": {},
     "output_type": "display_data"
    }
   ],
   "source": [
    "sns.jointplot(x=\"recency\", y=\"frequency\", data=customers_2015);"
   ]
  },
  {
   "cell_type": "code",
   "execution_count": 16,
   "metadata": {
    "collapsed": false
   },
   "outputs": [
    {
     "data": {
      "image/png": "[encoded data removed]",
      "text/plain": [
       "<matplotlib.figure.Figure at 0x11c6de0f0>"
      ]
     },
     "metadata": {},
     "output_type": "display_data"
    }
   ],
   "source": [
    "sns.violinplot(x=\"recency\", y=\"frequency\", data=customers_2015);"
   ]
  },
  {
   "cell_type": "code",
   "execution_count": 17,
   "metadata": {
    "collapsed": false
   },
   "outputs": [],
   "source": [
    "customers_2015_df_corr = customers_2015[['recency', 'frequency', 'customer_id', 'first_purchase', 'amount']].corr()"
   ]
  },
  {
   "cell_type": "code",
   "execution_count": 18,
   "metadata": {
    "collapsed": false
   },
   "outputs": [
    {
     "data": {
      "image/png": "[encoded data removed]",
      "text/plain": [
       "<matplotlib.figure.Figure at 0x1213057f0>"
      ]
     },
     "metadata": {},
     "output_type": "display_data"
    }
   ],
   "source": [
    "sns.heatmap(customers_2015_df_corr, annot=True, cmap='coolwarm');"
   ]
  },
  {
   "cell_type": "markdown",
   "metadata": {},
   "source": [
    "#### Not too strong positive correlation between `frequency` and `first_purchase`."
   ]
  },
  {
   "cell_type": "code",
   "execution_count": 19,
   "metadata": {
    "collapsed": false
   },
   "outputs": [],
   "source": [
    "customers_2015.drop(['purchase_amount','date_purchase','year_purchase','daydiff'], axis=1, inplace=True)"
   ]
  },
  {
   "cell_type": "code",
   "execution_count": 20,
   "metadata": {
    "collapsed": false
   },
   "outputs": [
    {
     "data": {
      "text/html": [
       "<div>\n",
       "<table border=\"1\" class=\"dataframe\">\n",
       "  <thead>\n",
       "    <tr style=\"text-align: right;\">\n",
       "      <th></th>\n",
       "      <th>customer_id</th>\n",
       "      <th>recency</th>\n",
       "      <th>first_purchase</th>\n",
       "      <th>frequency</th>\n",
       "      <th>amount</th>\n",
       "    </tr>\n",
       "  </thead>\n",
       "  <tbody>\n",
       "    <tr>\n",
       "      <th>0</th>\n",
       "      <td>760</td>\n",
       "      <td>1273</td>\n",
       "      <td>3293</td>\n",
       "      <td>5</td>\n",
       "      <td>38.000000</td>\n",
       "    </tr>\n",
       "    <tr>\n",
       "      <th>1</th>\n",
       "      <td>860</td>\n",
       "      <td>237</td>\n",
       "      <td>4008</td>\n",
       "      <td>10</td>\n",
       "      <td>54.000000</td>\n",
       "    </tr>\n",
       "    <tr>\n",
       "      <th>2</th>\n",
       "      <td>1200</td>\n",
       "      <td>1192</td>\n",
       "      <td>3907</td>\n",
       "      <td>9</td>\n",
       "      <td>102.777778</td>\n",
       "    </tr>\n",
       "    <tr>\n",
       "      <th>3</th>\n",
       "      <td>1420</td>\n",
       "      <td>24</td>\n",
       "      <td>3810</td>\n",
       "      <td>34</td>\n",
       "      <td>51.029412</td>\n",
       "    </tr>\n",
       "    <tr>\n",
       "      <th>4</th>\n",
       "      <td>1940</td>\n",
       "      <td>686</td>\n",
       "      <td>3957</td>\n",
       "      <td>10</td>\n",
       "      <td>47.500000</td>\n",
       "    </tr>\n",
       "  </tbody>\n",
       "</table>\n",
       "</div>"
      ],
      "text/plain": [
       "   customer_id  recency  first_purchase  frequency      amount\n",
       "0          760     1273            3293          5   38.000000\n",
       "1          860      237            4008         10   54.000000\n",
       "2         1200     1192            3907          9  102.777778\n",
       "3         1420       24            3810         34   51.029412\n",
       "4         1940      686            3957         10   47.500000"
      ]
     },
     "execution_count": 20,
     "metadata": {},
     "output_type": "execute_result"
    }
   ],
   "source": [
    "customers_2015.head()"
   ]
  },
  {
   "cell_type": "markdown",
   "metadata": {},
   "source": [
    "## Segmenting customers in 2015."
   ]
  },
  {
   "cell_type": "markdown",
   "metadata": {},
   "source": [
    "These are the segments we define:  \n",
    "** inactive. **  \n",
    "** cold. **  \n",
    "** warm: new warm, warm high value, warm low value.**  \n",
    "** active: new active, active high value, active low value.**  "
   ]
  },
  {
   "cell_type": "code",
   "execution_count": 21,
   "metadata": {
    "collapsed": false
   },
   "outputs": [],
   "source": [
    "def major_segments(recency):\n",
    "    if recency > 3*365:\n",
    "        return 'inactive'\n",
    "    elif (recency <= 3*365) and (recency > 2*365):\n",
    "        return 'cold'\n",
    "    elif (recency <= 2*365) and (recency > 1*365):\n",
    "        return 'warm'\n",
    "    elif (recency <= 365):\n",
    "        return 'active'\n",
    "    else:\n",
    "        # Do nothing\n",
    "        pass"
   ]
  },
  {
   "cell_type": "code",
   "execution_count": 22,
   "metadata": {
    "collapsed": true
   },
   "outputs": [],
   "source": [
    "customers_2015['segment']=customers_2015['recency'].apply(lambda row: major_segments(row))"
   ]
  },
  {
   "cell_type": "code",
   "execution_count": 23,
   "metadata": {
    "collapsed": false
   },
   "outputs": [
    {
     "data": {
      "text/html": [
       "<div>\n",
       "<table border=\"1\" class=\"dataframe\">\n",
       "  <thead>\n",
       "    <tr style=\"text-align: right;\">\n",
       "      <th></th>\n",
       "      <th>customer_id</th>\n",
       "      <th>recency</th>\n",
       "      <th>first_purchase</th>\n",
       "      <th>frequency</th>\n",
       "      <th>amount</th>\n",
       "      <th>segment</th>\n",
       "    </tr>\n",
       "  </thead>\n",
       "  <tbody>\n",
       "    <tr>\n",
       "      <th>0</th>\n",
       "      <td>760</td>\n",
       "      <td>1273</td>\n",
       "      <td>3293</td>\n",
       "      <td>5</td>\n",
       "      <td>38.000000</td>\n",
       "      <td>inactive</td>\n",
       "    </tr>\n",
       "    <tr>\n",
       "      <th>1</th>\n",
       "      <td>860</td>\n",
       "      <td>237</td>\n",
       "      <td>4008</td>\n",
       "      <td>10</td>\n",
       "      <td>54.000000</td>\n",
       "      <td>active</td>\n",
       "    </tr>\n",
       "    <tr>\n",
       "      <th>2</th>\n",
       "      <td>1200</td>\n",
       "      <td>1192</td>\n",
       "      <td>3907</td>\n",
       "      <td>9</td>\n",
       "      <td>102.777778</td>\n",
       "      <td>inactive</td>\n",
       "    </tr>\n",
       "    <tr>\n",
       "      <th>3</th>\n",
       "      <td>1420</td>\n",
       "      <td>24</td>\n",
       "      <td>3810</td>\n",
       "      <td>34</td>\n",
       "      <td>51.029412</td>\n",
       "      <td>active</td>\n",
       "    </tr>\n",
       "    <tr>\n",
       "      <th>4</th>\n",
       "      <td>1940</td>\n",
       "      <td>686</td>\n",
       "      <td>3957</td>\n",
       "      <td>10</td>\n",
       "      <td>47.500000</td>\n",
       "      <td>warm</td>\n",
       "    </tr>\n",
       "  </tbody>\n",
       "</table>\n",
       "</div>"
      ],
      "text/plain": [
       "   customer_id  recency  first_purchase  frequency      amount   segment\n",
       "0          760     1273            3293          5   38.000000  inactive\n",
       "1          860      237            4008         10   54.000000    active\n",
       "2         1200     1192            3907          9  102.777778  inactive\n",
       "3         1420       24            3810         34   51.029412    active\n",
       "4         1940      686            3957         10   47.500000      warm"
      ]
     },
     "execution_count": 23,
     "metadata": {},
     "output_type": "execute_result"
    }
   ],
   "source": [
    "customers_2015.head()"
   ]
  },
  {
   "cell_type": "code",
   "execution_count": 24,
   "metadata": {
    "collapsed": true
   },
   "outputs": [],
   "source": [
    "copy_customers_2015 = customers_2015.copy()"
   ]
  },
  {
   "cell_type": "code",
   "execution_count": 25,
   "metadata": {
    "collapsed": false
   },
   "outputs": [
    {
     "data": {
      "text/html": [
       "<div>\n",
       "<table border=\"1\" class=\"dataframe\">\n",
       "  <thead>\n",
       "    <tr style=\"text-align: right;\">\n",
       "      <th></th>\n",
       "      <th>customer_id</th>\n",
       "      <th>recency</th>\n",
       "      <th>first_purchase</th>\n",
       "      <th>frequency</th>\n",
       "      <th>amount</th>\n",
       "      <th>segment</th>\n",
       "    </tr>\n",
       "  </thead>\n",
       "  <tbody>\n",
       "    <tr>\n",
       "      <th>0</th>\n",
       "      <td>760</td>\n",
       "      <td>1273</td>\n",
       "      <td>3293</td>\n",
       "      <td>5</td>\n",
       "      <td>38.000000</td>\n",
       "      <td>inactive</td>\n",
       "    </tr>\n",
       "    <tr>\n",
       "      <th>1</th>\n",
       "      <td>860</td>\n",
       "      <td>237</td>\n",
       "      <td>4008</td>\n",
       "      <td>10</td>\n",
       "      <td>54.000000</td>\n",
       "      <td>active</td>\n",
       "    </tr>\n",
       "    <tr>\n",
       "      <th>2</th>\n",
       "      <td>1200</td>\n",
       "      <td>1192</td>\n",
       "      <td>3907</td>\n",
       "      <td>9</td>\n",
       "      <td>102.777778</td>\n",
       "      <td>inactive</td>\n",
       "    </tr>\n",
       "    <tr>\n",
       "      <th>3</th>\n",
       "      <td>1420</td>\n",
       "      <td>24</td>\n",
       "      <td>3810</td>\n",
       "      <td>34</td>\n",
       "      <td>51.029412</td>\n",
       "      <td>active</td>\n",
       "    </tr>\n",
       "    <tr>\n",
       "      <th>4</th>\n",
       "      <td>1940</td>\n",
       "      <td>686</td>\n",
       "      <td>3957</td>\n",
       "      <td>10</td>\n",
       "      <td>47.500000</td>\n",
       "      <td>warm</td>\n",
       "    </tr>\n",
       "  </tbody>\n",
       "</table>\n",
       "</div>"
      ],
      "text/plain": [
       "   customer_id  recency  first_purchase  frequency      amount   segment\n",
       "0          760     1273            3293          5   38.000000  inactive\n",
       "1          860      237            4008         10   54.000000    active\n",
       "2         1200     1192            3907          9  102.777778  inactive\n",
       "3         1420       24            3810         34   51.029412    active\n",
       "4         1940      686            3957         10   47.500000      warm"
      ]
     },
     "execution_count": 25,
     "metadata": {},
     "output_type": "execute_result"
    }
   ],
   "source": [
    "copy_customers_2015.head()"
   ]
  },
  {
   "cell_type": "code",
   "execution_count": 26,
   "metadata": {
    "collapsed": false
   },
   "outputs": [],
   "source": [
    "def minor_segments(row):\n",
    "    if (row['segment'] == 'warm') and (row['first_purchase'] <= 2*365):\n",
    "        return 'new_warm'\n",
    "    elif (row['segment'] == 'warm') and (row['amount'] < 100):\n",
    "        return 'warm_low_value'\n",
    "    elif (row['segment'] == 'warm') and (row['amount'] >= 100):\n",
    "        return 'warm_high_value'\n",
    "    elif (row['segment'] == 'active') and (row['first_purchase'] <= 365):\n",
    "        return 'new_active'\n",
    "    elif (row['segment'] == 'active') and (row['amount'] < 100):\n",
    "        return 'active_low_value'\n",
    "    elif (row['segment'] == 'active') and (row['amount'] >= 100):\n",
    "        return 'active_high_value'\n",
    "    else:\n",
    "        return row['segment']"
   ]
  },
  {
   "cell_type": "code",
   "execution_count": 27,
   "metadata": {
    "collapsed": true
   },
   "outputs": [],
   "source": [
    "copy_customers_2015['segment'] = copy_customers_2015.apply(minor_segments, axis=1)"
   ]
  },
  {
   "cell_type": "code",
   "execution_count": 28,
   "metadata": {
    "collapsed": false
   },
   "outputs": [
    {
     "data": {
      "text/html": [
       "<div>\n",
       "<table border=\"1\" class=\"dataframe\">\n",
       "  <thead>\n",
       "    <tr style=\"text-align: right;\">\n",
       "      <th></th>\n",
       "      <th>customer_id</th>\n",
       "      <th>recency</th>\n",
       "      <th>first_purchase</th>\n",
       "      <th>frequency</th>\n",
       "      <th>amount</th>\n",
       "      <th>segment</th>\n",
       "    </tr>\n",
       "  </thead>\n",
       "  <tbody>\n",
       "    <tr>\n",
       "      <th>0</th>\n",
       "      <td>760</td>\n",
       "      <td>1273</td>\n",
       "      <td>3293</td>\n",
       "      <td>5</td>\n",
       "      <td>38.000000</td>\n",
       "      <td>inactive</td>\n",
       "    </tr>\n",
       "    <tr>\n",
       "      <th>1</th>\n",
       "      <td>860</td>\n",
       "      <td>237</td>\n",
       "      <td>4008</td>\n",
       "      <td>10</td>\n",
       "      <td>54.000000</td>\n",
       "      <td>active_low_value</td>\n",
       "    </tr>\n",
       "    <tr>\n",
       "      <th>2</th>\n",
       "      <td>1200</td>\n",
       "      <td>1192</td>\n",
       "      <td>3907</td>\n",
       "      <td>9</td>\n",
       "      <td>102.777778</td>\n",
       "      <td>inactive</td>\n",
       "    </tr>\n",
       "    <tr>\n",
       "      <th>3</th>\n",
       "      <td>1420</td>\n",
       "      <td>24</td>\n",
       "      <td>3810</td>\n",
       "      <td>34</td>\n",
       "      <td>51.029412</td>\n",
       "      <td>active_low_value</td>\n",
       "    </tr>\n",
       "    <tr>\n",
       "      <th>4</th>\n",
       "      <td>1940</td>\n",
       "      <td>686</td>\n",
       "      <td>3957</td>\n",
       "      <td>10</td>\n",
       "      <td>47.500000</td>\n",
       "      <td>warm_low_value</td>\n",
       "    </tr>\n",
       "  </tbody>\n",
       "</table>\n",
       "</div>"
      ],
      "text/plain": [
       "   customer_id  recency  first_purchase  frequency      amount  \\\n",
       "0          760     1273            3293          5   38.000000   \n",
       "1          860      237            4008         10   54.000000   \n",
       "2         1200     1192            3907          9  102.777778   \n",
       "3         1420       24            3810         34   51.029412   \n",
       "4         1940      686            3957         10   47.500000   \n",
       "\n",
       "            segment  \n",
       "0          inactive  \n",
       "1  active_low_value  \n",
       "2          inactive  \n",
       "3  active_low_value  \n",
       "4    warm_low_value  "
      ]
     },
     "execution_count": 28,
     "metadata": {},
     "output_type": "execute_result"
    }
   ],
   "source": [
    "copy_customers_2015.head()"
   ]
  },
  {
   "cell_type": "code",
   "execution_count": 29,
   "metadata": {
    "collapsed": false
   },
   "outputs": [
    {
     "data": {
      "text/plain": [
       "active_low_value     19664\n",
       "inactive             16617\n",
       "cold                  4383\n",
       "warm_low_value        4083\n",
       "active_high_value     3374\n",
       "new_active            1581\n",
       "new_warm               980\n",
       "warm_high_value        561\n",
       "Name: segment, dtype: int64"
      ]
     },
     "execution_count": 29,
     "metadata": {},
     "output_type": "execute_result"
    }
   ],
   "source": [
    "copy_customers_2015.segment.value_counts()"
   ]
  },
  {
   "cell_type": "code",
   "execution_count": 30,
   "metadata": {
    "collapsed": false
   },
   "outputs": [
    {
     "data": {
      "image/png": "[encoded data removed]",
      "text/plain": [
       "<matplotlib.figure.Figure at 0x11f689b70>"
      ]
     },
     "metadata": {},
     "output_type": "display_data"
    }
   ],
   "source": [
    "data = copy_customers_2015.segment.value_counts()\n",
    "data = data.to_frame('value_count')\n",
    "sns.set_style(\"whitegrid\")\n",
    "ax = sns.barplot(x=data.value_count, y=data.index, data=data)\n",
    "ax.set_ylabel(\"Segments\")\n",
    "ax.set_xlabel(\"Numbe Of Customers\")\n",
    "ax.set_title(\"Customers per segment in 2015\");"
   ]
  },
  {
   "cell_type": "markdown",
   "metadata": {},
   "source": [
    "## KPIs for customers in 2014."
   ]
  },
  {
   "cell_type": "code",
   "execution_count": 31,
   "metadata": {
    "collapsed": true
   },
   "outputs": [],
   "source": [
    "def summary_2014(df):\n",
    "    df['recency'] = df.daydiff.min() - 365\n",
    "    df['first_purchase'] = df.daydiff.max() - 365\n",
    "    df['frequency'] = df.shape[0]\n",
    "    df['amount'] = df.purchase_amount.mean()\n",
    "    return df"
   ]
  },
  {
   "cell_type": "code",
   "execution_count": 32,
   "metadata": {
    "collapsed": true
   },
   "outputs": [],
   "source": [
    "df_adj = df[df['daydiff'] > 365]\n",
    "customers_2014 = df_adj.groupby('customer_id').apply(summary_2014)"
   ]
  },
  {
   "cell_type": "code",
   "execution_count": 33,
   "metadata": {
    "collapsed": false
   },
   "outputs": [
    {
     "data": {
      "text/html": [
       "<div>\n",
       "<table border=\"1\" class=\"dataframe\">\n",
       "  <thead>\n",
       "    <tr style=\"text-align: right;\">\n",
       "      <th></th>\n",
       "      <th>customer_id</th>\n",
       "      <th>purchase_amount</th>\n",
       "      <th>date_purchase</th>\n",
       "      <th>year_purchase</th>\n",
       "      <th>daydiff</th>\n",
       "      <th>recency</th>\n",
       "      <th>first_purchase</th>\n",
       "      <th>frequency</th>\n",
       "      <th>amount</th>\n",
       "    </tr>\n",
       "  </thead>\n",
       "  <tbody>\n",
       "    <tr>\n",
       "      <th>0</th>\n",
       "      <td>760</td>\n",
       "      <td>25.0</td>\n",
       "      <td>2009-11-06</td>\n",
       "      <td>2009</td>\n",
       "      <td>2247</td>\n",
       "      <td>908</td>\n",
       "      <td>2928</td>\n",
       "      <td>5</td>\n",
       "      <td>38.000000</td>\n",
       "    </tr>\n",
       "    <tr>\n",
       "      <th>1</th>\n",
       "      <td>860</td>\n",
       "      <td>50.0</td>\n",
       "      <td>2012-09-28</td>\n",
       "      <td>2012</td>\n",
       "      <td>1190</td>\n",
       "      <td>267</td>\n",
       "      <td>3643</td>\n",
       "      <td>9</td>\n",
       "      <td>53.333333</td>\n",
       "    </tr>\n",
       "    <tr>\n",
       "      <th>2</th>\n",
       "      <td>1200</td>\n",
       "      <td>100.0</td>\n",
       "      <td>2005-10-25</td>\n",
       "      <td>2005</td>\n",
       "      <td>3720</td>\n",
       "      <td>827</td>\n",
       "      <td>3542</td>\n",
       "      <td>9</td>\n",
       "      <td>102.777778</td>\n",
       "    </tr>\n",
       "    <tr>\n",
       "      <th>3</th>\n",
       "      <td>1420</td>\n",
       "      <td>50.0</td>\n",
       "      <td>2009-07-09</td>\n",
       "      <td>2009</td>\n",
       "      <td>2367</td>\n",
       "      <td>93</td>\n",
       "      <td>3445</td>\n",
       "      <td>31</td>\n",
       "      <td>51.129032</td>\n",
       "    </tr>\n",
       "    <tr>\n",
       "      <th>4</th>\n",
       "      <td>1940</td>\n",
       "      <td>70.0</td>\n",
       "      <td>2013-01-25</td>\n",
       "      <td>2013</td>\n",
       "      <td>1071</td>\n",
       "      <td>321</td>\n",
       "      <td>3592</td>\n",
       "      <td>10</td>\n",
       "      <td>47.500000</td>\n",
       "    </tr>\n",
       "  </tbody>\n",
       "</table>\n",
       "</div>"
      ],
      "text/plain": [
       "   customer_id  purchase_amount date_purchase  year_purchase  daydiff  \\\n",
       "0          760             25.0    2009-11-06           2009     2247   \n",
       "1          860             50.0    2012-09-28           2012     1190   \n",
       "2         1200            100.0    2005-10-25           2005     3720   \n",
       "3         1420             50.0    2009-07-09           2009     2367   \n",
       "4         1940             70.0    2013-01-25           2013     1071   \n",
       "\n",
       "   recency  first_purchase  frequency      amount  \n",
       "0      908            2928          5   38.000000  \n",
       "1      267            3643          9   53.333333  \n",
       "2      827            3542          9  102.777778  \n",
       "3       93            3445         31   51.129032  \n",
       "4      321            3592         10   47.500000  "
      ]
     },
     "execution_count": 33,
     "metadata": {},
     "output_type": "execute_result"
    }
   ],
   "source": [
    "customers_2014.head()"
   ]
  },
  {
   "cell_type": "code",
   "execution_count": 34,
   "metadata": {
    "collapsed": true
   },
   "outputs": [],
   "source": [
    "customers_2014['segment']=customers_2014['recency'].apply(lambda row: major_segments(row))"
   ]
  },
  {
   "cell_type": "code",
   "execution_count": 35,
   "metadata": {
    "collapsed": false
   },
   "outputs": [
    {
     "data": {
      "text/html": [
       "<div>\n",
       "<table border=\"1\" class=\"dataframe\">\n",
       "  <thead>\n",
       "    <tr style=\"text-align: right;\">\n",
       "      <th></th>\n",
       "      <th>customer_id</th>\n",
       "      <th>purchase_amount</th>\n",
       "      <th>date_purchase</th>\n",
       "      <th>year_purchase</th>\n",
       "      <th>daydiff</th>\n",
       "      <th>recency</th>\n",
       "      <th>first_purchase</th>\n",
       "      <th>frequency</th>\n",
       "      <th>amount</th>\n",
       "      <th>segment</th>\n",
       "    </tr>\n",
       "  </thead>\n",
       "  <tbody>\n",
       "    <tr>\n",
       "      <th>0</th>\n",
       "      <td>760</td>\n",
       "      <td>25.0</td>\n",
       "      <td>2009-11-06</td>\n",
       "      <td>2009</td>\n",
       "      <td>2247</td>\n",
       "      <td>908</td>\n",
       "      <td>2928</td>\n",
       "      <td>5</td>\n",
       "      <td>38.000000</td>\n",
       "      <td>cold</td>\n",
       "    </tr>\n",
       "    <tr>\n",
       "      <th>1</th>\n",
       "      <td>860</td>\n",
       "      <td>50.0</td>\n",
       "      <td>2012-09-28</td>\n",
       "      <td>2012</td>\n",
       "      <td>1190</td>\n",
       "      <td>267</td>\n",
       "      <td>3643</td>\n",
       "      <td>9</td>\n",
       "      <td>53.333333</td>\n",
       "      <td>active</td>\n",
       "    </tr>\n",
       "    <tr>\n",
       "      <th>2</th>\n",
       "      <td>1200</td>\n",
       "      <td>100.0</td>\n",
       "      <td>2005-10-25</td>\n",
       "      <td>2005</td>\n",
       "      <td>3720</td>\n",
       "      <td>827</td>\n",
       "      <td>3542</td>\n",
       "      <td>9</td>\n",
       "      <td>102.777778</td>\n",
       "      <td>cold</td>\n",
       "    </tr>\n",
       "    <tr>\n",
       "      <th>3</th>\n",
       "      <td>1420</td>\n",
       "      <td>50.0</td>\n",
       "      <td>2009-07-09</td>\n",
       "      <td>2009</td>\n",
       "      <td>2367</td>\n",
       "      <td>93</td>\n",
       "      <td>3445</td>\n",
       "      <td>31</td>\n",
       "      <td>51.129032</td>\n",
       "      <td>active</td>\n",
       "    </tr>\n",
       "    <tr>\n",
       "      <th>4</th>\n",
       "      <td>1940</td>\n",
       "      <td>70.0</td>\n",
       "      <td>2013-01-25</td>\n",
       "      <td>2013</td>\n",
       "      <td>1071</td>\n",
       "      <td>321</td>\n",
       "      <td>3592</td>\n",
       "      <td>10</td>\n",
       "      <td>47.500000</td>\n",
       "      <td>active</td>\n",
       "    </tr>\n",
       "  </tbody>\n",
       "</table>\n",
       "</div>"
      ],
      "text/plain": [
       "   customer_id  purchase_amount date_purchase  year_purchase  daydiff  \\\n",
       "0          760             25.0    2009-11-06           2009     2247   \n",
       "1          860             50.0    2012-09-28           2012     1190   \n",
       "2         1200            100.0    2005-10-25           2005     3720   \n",
       "3         1420             50.0    2009-07-09           2009     2367   \n",
       "4         1940             70.0    2013-01-25           2013     1071   \n",
       "\n",
       "   recency  first_purchase  frequency      amount segment  \n",
       "0      908            2928          5   38.000000    cold  \n",
       "1      267            3643          9   53.333333  active  \n",
       "2      827            3542          9  102.777778    cold  \n",
       "3       93            3445         31   51.129032  active  \n",
       "4      321            3592         10   47.500000  active  "
      ]
     },
     "execution_count": 35,
     "metadata": {},
     "output_type": "execute_result"
    }
   ],
   "source": [
    "customers_2014.head()"
   ]
  },
  {
   "cell_type": "code",
   "execution_count": 36,
   "metadata": {
    "collapsed": false
   },
   "outputs": [
    {
     "data": {
      "image/png": "[encoded data removed]",
      "text/plain": [
       "<matplotlib.figure.Figure at 0x122a36400>"
      ]
     },
     "metadata": {},
     "output_type": "display_data"
    }
   ],
   "source": [
    "sns.jointplot(x=\"recency\", y=\"frequency\", data=customers_2014);"
   ]
  },
  {
   "cell_type": "code",
   "execution_count": 37,
   "metadata": {
    "collapsed": false
   },
   "outputs": [
    {
     "data": {
      "image/png": "[encoded data removed]",
      "text/plain": [
       "<matplotlib.figure.Figure at 0x11f6032b0>"
      ]
     },
     "metadata": {},
     "output_type": "display_data"
    }
   ],
   "source": [
    "sns.violinplot(x=\"recency\", y=\"frequency\", data=customers_2014);"
   ]
  },
  {
   "cell_type": "code",
   "execution_count": 38,
   "metadata": {
    "collapsed": true
   },
   "outputs": [],
   "source": [
    "customers_2014_df_corr = customers_2014[['recency', 'frequency', 'customer_id', 'first_purchase', 'amount']].corr()"
   ]
  },
  {
   "cell_type": "code",
   "execution_count": 39,
   "metadata": {
    "collapsed": false
   },
   "outputs": [
    {
     "data": {
      "image/png": "[encoded data removed]",
      "text/plain": [
       "<matplotlib.figure.Figure at 0x11e0ad710>"
      ]
     },
     "metadata": {},
     "output_type": "display_data"
    }
   ],
   "source": [
    "sns.heatmap(customers_2015_df_corr, annot=True, cmap='coolwarm');"
   ]
  },
  {
   "cell_type": "markdown",
   "metadata": {},
   "source": [
    "#### Not too strong positive correlation between `frequency` and `first_purchase`."
   ]
  },
  {
   "cell_type": "code",
   "execution_count": 40,
   "metadata": {
    "collapsed": true
   },
   "outputs": [],
   "source": [
    "copy_customers_2014 = customers_2014.copy()"
   ]
  },
  {
   "cell_type": "code",
   "execution_count": 41,
   "metadata": {
    "collapsed": true
   },
   "outputs": [],
   "source": [
    "copy_customers_2014['segment'] = copy_customers_2014.apply(minor_segments, axis=1)"
   ]
  },
  {
   "cell_type": "code",
   "execution_count": 42,
   "metadata": {
    "collapsed": false
   },
   "outputs": [
    {
     "data": {
      "text/html": [
       "<div>\n",
       "<table border=\"1\" class=\"dataframe\">\n",
       "  <thead>\n",
       "    <tr style=\"text-align: right;\">\n",
       "      <th></th>\n",
       "      <th>customer_id</th>\n",
       "      <th>purchase_amount</th>\n",
       "      <th>date_purchase</th>\n",
       "      <th>year_purchase</th>\n",
       "      <th>daydiff</th>\n",
       "      <th>recency</th>\n",
       "      <th>first_purchase</th>\n",
       "      <th>frequency</th>\n",
       "      <th>amount</th>\n",
       "      <th>segment</th>\n",
       "    </tr>\n",
       "  </thead>\n",
       "  <tbody>\n",
       "    <tr>\n",
       "      <th>0</th>\n",
       "      <td>760</td>\n",
       "      <td>25.0</td>\n",
       "      <td>2009-11-06</td>\n",
       "      <td>2009</td>\n",
       "      <td>2247</td>\n",
       "      <td>908</td>\n",
       "      <td>2928</td>\n",
       "      <td>5</td>\n",
       "      <td>38.000000</td>\n",
       "      <td>cold</td>\n",
       "    </tr>\n",
       "    <tr>\n",
       "      <th>1</th>\n",
       "      <td>860</td>\n",
       "      <td>50.0</td>\n",
       "      <td>2012-09-28</td>\n",
       "      <td>2012</td>\n",
       "      <td>1190</td>\n",
       "      <td>267</td>\n",
       "      <td>3643</td>\n",
       "      <td>9</td>\n",
       "      <td>53.333333</td>\n",
       "      <td>active_low_value</td>\n",
       "    </tr>\n",
       "    <tr>\n",
       "      <th>2</th>\n",
       "      <td>1200</td>\n",
       "      <td>100.0</td>\n",
       "      <td>2005-10-25</td>\n",
       "      <td>2005</td>\n",
       "      <td>3720</td>\n",
       "      <td>827</td>\n",
       "      <td>3542</td>\n",
       "      <td>9</td>\n",
       "      <td>102.777778</td>\n",
       "      <td>cold</td>\n",
       "    </tr>\n",
       "    <tr>\n",
       "      <th>3</th>\n",
       "      <td>1420</td>\n",
       "      <td>50.0</td>\n",
       "      <td>2009-07-09</td>\n",
       "      <td>2009</td>\n",
       "      <td>2367</td>\n",
       "      <td>93</td>\n",
       "      <td>3445</td>\n",
       "      <td>31</td>\n",
       "      <td>51.129032</td>\n",
       "      <td>active_low_value</td>\n",
       "    </tr>\n",
       "    <tr>\n",
       "      <th>4</th>\n",
       "      <td>1940</td>\n",
       "      <td>70.0</td>\n",
       "      <td>2013-01-25</td>\n",
       "      <td>2013</td>\n",
       "      <td>1071</td>\n",
       "      <td>321</td>\n",
       "      <td>3592</td>\n",
       "      <td>10</td>\n",
       "      <td>47.500000</td>\n",
       "      <td>active_low_value</td>\n",
       "    </tr>\n",
       "  </tbody>\n",
       "</table>\n",
       "</div>"
      ],
      "text/plain": [
       "   customer_id  purchase_amount date_purchase  year_purchase  daydiff  \\\n",
       "0          760             25.0    2009-11-06           2009     2247   \n",
       "1          860             50.0    2012-09-28           2012     1190   \n",
       "2         1200            100.0    2005-10-25           2005     3720   \n",
       "3         1420             50.0    2009-07-09           2009     2367   \n",
       "4         1940             70.0    2013-01-25           2013     1071   \n",
       "\n",
       "   recency  first_purchase  frequency      amount           segment  \n",
       "0      908            2928          5   38.000000              cold  \n",
       "1      267            3643          9   53.333333  active_low_value  \n",
       "2      827            3542          9  102.777778              cold  \n",
       "3       93            3445         31   51.129032  active_low_value  \n",
       "4      321            3592         10   47.500000  active_low_value  "
      ]
     },
     "execution_count": 42,
     "metadata": {},
     "output_type": "execute_result"
    }
   ],
   "source": [
    "copy_customers_2014.head()"
   ]
  },
  {
   "cell_type": "code",
   "execution_count": 43,
   "metadata": {
    "collapsed": false,
    "scrolled": true
   },
   "outputs": [
    {
     "data": {
      "text/plain": [
       "active_low_value     16963\n",
       "inactive             13003\n",
       "cold                  4853\n",
       "warm_low_value        4170\n",
       "active_high_value     2706\n",
       "new_active            1539\n",
       "new_warm              1322\n",
       "warm_high_value        490\n",
       "Name: segment, dtype: int64"
      ]
     },
     "execution_count": 43,
     "metadata": {},
     "output_type": "execute_result"
    }
   ],
   "source": [
    "copy_customers_2014.segment.value_counts()"
   ]
  },
  {
   "cell_type": "code",
   "execution_count": 44,
   "metadata": {
    "collapsed": false
   },
   "outputs": [
    {
     "data": {
      "image/png": "[encoded data removed]",
      "text/plain": [
       "<matplotlib.figure.Figure at 0x119be0f60>"
      ]
     },
     "metadata": {},
     "output_type": "display_data"
    }
   ],
   "source": [
    "data = copy_customers_2014.segment.value_counts()\n",
    "data = data.to_frame('value_count')\n",
    "sns.set_style(\"whitegrid\")\n",
    "ax = sns.barplot(x=data.value_count, y=data.index, data=data)\n",
    "ax.set_ylabel(\"Segments\")\n",
    "ax.set_xlabel(\"Numbe Of Customers\")\n",
    "ax.set_title(\"Customers per segment in 2014\");"
   ]
  },
  {
   "cell_type": "markdown",
   "metadata": {},
   "source": [
    "## Transition Matrix"
   ]
  },
  {
   "cell_type": "code",
   "execution_count": 45,
   "metadata": {
    "collapsed": false
   },
   "outputs": [
    {
     "data": {
      "text/plain": [
       "active_low_value     16963\n",
       "inactive             13003\n",
       "cold                  4853\n",
       "warm_low_value        4170\n",
       "active_high_value     2706\n",
       "new_active            1539\n",
       "new_warm              1322\n",
       "warm_high_value        490\n",
       "Name: segment, dtype: int64"
      ]
     },
     "execution_count": 45,
     "metadata": {},
     "output_type": "execute_result"
    }
   ],
   "source": [
    "copy_customers_2014.segment.value_counts()"
   ]
  },
  {
   "cell_type": "code",
   "execution_count": 46,
   "metadata": {
    "collapsed": false
   },
   "outputs": [
    {
     "data": {
      "text/plain": [
       "active_low_value     19664\n",
       "inactive             16617\n",
       "cold                  4383\n",
       "warm_low_value        4083\n",
       "active_high_value     3374\n",
       "new_active            1581\n",
       "new_warm               980\n",
       "warm_high_value        561\n",
       "Name: segment, dtype: int64"
      ]
     },
     "execution_count": 46,
     "metadata": {},
     "output_type": "execute_result"
    }
   ],
   "source": [
    "copy_customers_2015.segment.value_counts()"
   ]
  },
  {
   "cell_type": "code",
   "execution_count": 47,
   "metadata": {
    "collapsed": false
   },
   "outputs": [],
   "source": [
    "merged_customers = pd.merge(copy_customers_2014, copy_customers_2015, on='customer_id', how='right')"
   ]
  },
  {
   "cell_type": "code",
   "execution_count": 48,
   "metadata": {
    "collapsed": false
   },
   "outputs": [
    {
     "data": {
      "text/plain": [
       "active_low_value     155281\n",
       "inactive              36574\n",
       "warm_low_value        26854\n",
       "active_high_value     22776\n",
       "cold                  20112\n",
       "warm_high_value        3024\n",
       "new_active             2556\n",
       "new_warm               1630\n",
       "Name: segment_x, dtype: int64"
      ]
     },
     "execution_count": 48,
     "metadata": {},
     "output_type": "execute_result"
    }
   ],
   "source": [
    "merged_customers.segment_x.value_counts()"
   ]
  },
  {
   "cell_type": "code",
   "execution_count": 49,
   "metadata": {
    "collapsed": false
   },
   "outputs": [
    {
     "data": {
      "text/plain": [
       "active_low_value     144078\n",
       "inactive              50171\n",
       "warm_low_value        26419\n",
       "active_high_value     23065\n",
       "cold                  20213\n",
       "warm_high_value        3785\n",
       "new_active             1581\n",
       "new_warm               1076\n",
       "Name: segment_y, dtype: int64"
      ]
     },
     "execution_count": 49,
     "metadata": {},
     "output_type": "execute_result"
    }
   ],
   "source": [
    "merged_customers.segment_y.value_counts()"
   ]
  },
  {
   "cell_type": "code",
   "execution_count": 50,
   "metadata": {
    "collapsed": false
   },
   "outputs": [
    {
     "data": {
      "text/plain": [
       "(270388, 15)"
      ]
     },
     "execution_count": 50,
     "metadata": {},
     "output_type": "execute_result"
    }
   ],
   "source": [
    "merged_customers.shape"
   ]
  },
  {
   "cell_type": "code",
   "execution_count": 51,
   "metadata": {
    "collapsed": false
   },
   "outputs": [
    {
     "data": {
      "text/html": [
       "<div>\n",
       "<table border=\"1\" class=\"dataframe\">\n",
       "  <thead>\n",
       "    <tr style=\"text-align: right;\">\n",
       "      <th></th>\n",
       "      <th>customer_id</th>\n",
       "      <th>purchase_amount</th>\n",
       "      <th>date_purchase</th>\n",
       "      <th>year_purchase</th>\n",
       "      <th>daydiff</th>\n",
       "      <th>recency_x</th>\n",
       "      <th>first_purchase_x</th>\n",
       "      <th>frequency_x</th>\n",
       "      <th>amount_x</th>\n",
       "      <th>segment_x</th>\n",
       "      <th>recency_y</th>\n",
       "      <th>first_purchase_y</th>\n",
       "      <th>frequency_y</th>\n",
       "      <th>amount_y</th>\n",
       "      <th>segment_y</th>\n",
       "    </tr>\n",
       "  </thead>\n",
       "  <tbody>\n",
       "    <tr>\n",
       "      <th>0</th>\n",
       "      <td>760.0</td>\n",
       "      <td>25.0</td>\n",
       "      <td>2009-11-06</td>\n",
       "      <td>2009.0</td>\n",
       "      <td>2247.0</td>\n",
       "      <td>908.0</td>\n",
       "      <td>2928.0</td>\n",
       "      <td>5.0</td>\n",
       "      <td>38.0</td>\n",
       "      <td>cold</td>\n",
       "      <td>1273</td>\n",
       "      <td>3293</td>\n",
       "      <td>5</td>\n",
       "      <td>38.0</td>\n",
       "      <td>inactive</td>\n",
       "    </tr>\n",
       "    <tr>\n",
       "      <th>1</th>\n",
       "      <td>760.0</td>\n",
       "      <td>50.0</td>\n",
       "      <td>2008-10-15</td>\n",
       "      <td>2008.0</td>\n",
       "      <td>2634.0</td>\n",
       "      <td>908.0</td>\n",
       "      <td>2928.0</td>\n",
       "      <td>5.0</td>\n",
       "      <td>38.0</td>\n",
       "      <td>cold</td>\n",
       "      <td>1273</td>\n",
       "      <td>3293</td>\n",
       "      <td>5</td>\n",
       "      <td>38.0</td>\n",
       "      <td>inactive</td>\n",
       "    </tr>\n",
       "    <tr>\n",
       "      <th>2</th>\n",
       "      <td>760.0</td>\n",
       "      <td>60.0</td>\n",
       "      <td>2007-10-17</td>\n",
       "      <td>2007.0</td>\n",
       "      <td>2998.0</td>\n",
       "      <td>908.0</td>\n",
       "      <td>2928.0</td>\n",
       "      <td>5.0</td>\n",
       "      <td>38.0</td>\n",
       "      <td>cold</td>\n",
       "      <td>1273</td>\n",
       "      <td>3293</td>\n",
       "      <td>5</td>\n",
       "      <td>38.0</td>\n",
       "      <td>inactive</td>\n",
       "    </tr>\n",
       "    <tr>\n",
       "      <th>3</th>\n",
       "      <td>760.0</td>\n",
       "      <td>30.0</td>\n",
       "      <td>2006-12-26</td>\n",
       "      <td>2006.0</td>\n",
       "      <td>3293.0</td>\n",
       "      <td>908.0</td>\n",
       "      <td>2928.0</td>\n",
       "      <td>5.0</td>\n",
       "      <td>38.0</td>\n",
       "      <td>cold</td>\n",
       "      <td>1273</td>\n",
       "      <td>3293</td>\n",
       "      <td>5</td>\n",
       "      <td>38.0</td>\n",
       "      <td>inactive</td>\n",
       "    </tr>\n",
       "    <tr>\n",
       "      <th>4</th>\n",
       "      <td>760.0</td>\n",
       "      <td>25.0</td>\n",
       "      <td>2012-07-07</td>\n",
       "      <td>2012.0</td>\n",
       "      <td>1273.0</td>\n",
       "      <td>908.0</td>\n",
       "      <td>2928.0</td>\n",
       "      <td>5.0</td>\n",
       "      <td>38.0</td>\n",
       "      <td>cold</td>\n",
       "      <td>1273</td>\n",
       "      <td>3293</td>\n",
       "      <td>5</td>\n",
       "      <td>38.0</td>\n",
       "      <td>inactive</td>\n",
       "    </tr>\n",
       "  </tbody>\n",
       "</table>\n",
       "</div>"
      ],
      "text/plain": [
       "   customer_id  purchase_amount date_purchase  year_purchase  daydiff  \\\n",
       "0        760.0             25.0    2009-11-06         2009.0   2247.0   \n",
       "1        760.0             50.0    2008-10-15         2008.0   2634.0   \n",
       "2        760.0             60.0    2007-10-17         2007.0   2998.0   \n",
       "3        760.0             30.0    2006-12-26         2006.0   3293.0   \n",
       "4        760.0             25.0    2012-07-07         2012.0   1273.0   \n",
       "\n",
       "   recency_x  first_purchase_x  frequency_x  amount_x segment_x  recency_y  \\\n",
       "0      908.0            2928.0          5.0      38.0      cold       1273   \n",
       "1      908.0            2928.0          5.0      38.0      cold       1273   \n",
       "2      908.0            2928.0          5.0      38.0      cold       1273   \n",
       "3      908.0            2928.0          5.0      38.0      cold       1273   \n",
       "4      908.0            2928.0          5.0      38.0      cold       1273   \n",
       "\n",
       "   first_purchase_y  frequency_y  amount_y segment_y  \n",
       "0              3293            5      38.0  inactive  \n",
       "1              3293            5      38.0  inactive  \n",
       "2              3293            5      38.0  inactive  \n",
       "3              3293            5      38.0  inactive  \n",
       "4              3293            5      38.0  inactive  "
      ]
     },
     "execution_count": 51,
     "metadata": {},
     "output_type": "execute_result"
    }
   ],
   "source": [
    "merged_customers.head()"
   ]
  },
  {
   "cell_type": "code",
   "execution_count": 52,
   "metadata": {
    "collapsed": false
   },
   "outputs": [
    {
     "data": {
      "text/html": [
       "<div>\n",
       "<table border=\"1\" class=\"dataframe\">\n",
       "  <thead>\n",
       "    <tr style=\"text-align: right;\">\n",
       "      <th>segment_y</th>\n",
       "      <th>active_high_value</th>\n",
       "      <th>active_low_value</th>\n",
       "      <th>cold</th>\n",
       "      <th>inactive</th>\n",
       "      <th>new_active</th>\n",
       "      <th>new_warm</th>\n",
       "      <th>warm_high_value</th>\n",
       "      <th>warm_low_value</th>\n",
       "    </tr>\n",
       "    <tr>\n",
       "      <th>segment_x</th>\n",
       "      <th></th>\n",
       "      <th></th>\n",
       "      <th></th>\n",
       "      <th></th>\n",
       "      <th></th>\n",
       "      <th></th>\n",
       "      <th></th>\n",
       "      <th></th>\n",
       "    </tr>\n",
       "  </thead>\n",
       "  <tbody>\n",
       "    <tr>\n",
       "      <th>active_high_value</th>\n",
       "      <td>18973</td>\n",
       "      <td>18</td>\n",
       "      <td>0</td>\n",
       "      <td>0</td>\n",
       "      <td>0</td>\n",
       "      <td>0</td>\n",
       "      <td>3785</td>\n",
       "      <td>0</td>\n",
       "    </tr>\n",
       "    <tr>\n",
       "      <th>active_low_value</th>\n",
       "      <td>1435</td>\n",
       "      <td>127427</td>\n",
       "      <td>0</td>\n",
       "      <td>0</td>\n",
       "      <td>0</td>\n",
       "      <td>0</td>\n",
       "      <td>0</td>\n",
       "      <td>26419</td>\n",
       "    </tr>\n",
       "    <tr>\n",
       "      <th>cold</th>\n",
       "      <td>626</td>\n",
       "      <td>2515</td>\n",
       "      <td>0</td>\n",
       "      <td>16971</td>\n",
       "      <td>0</td>\n",
       "      <td>0</td>\n",
       "      <td>0</td>\n",
       "      <td>0</td>\n",
       "    </tr>\n",
       "    <tr>\n",
       "      <th>inactive</th>\n",
       "      <td>443</td>\n",
       "      <td>2931</td>\n",
       "      <td>0</td>\n",
       "      <td>33200</td>\n",
       "      <td>0</td>\n",
       "      <td>0</td>\n",
       "      <td>0</td>\n",
       "      <td>0</td>\n",
       "    </tr>\n",
       "    <tr>\n",
       "      <th>new_active</th>\n",
       "      <td>200</td>\n",
       "      <td>1280</td>\n",
       "      <td>0</td>\n",
       "      <td>0</td>\n",
       "      <td>0</td>\n",
       "      <td>1076</td>\n",
       "      <td>0</td>\n",
       "      <td>0</td>\n",
       "    </tr>\n",
       "    <tr>\n",
       "      <th>new_warm</th>\n",
       "      <td>44</td>\n",
       "      <td>255</td>\n",
       "      <td>1331</td>\n",
       "      <td>0</td>\n",
       "      <td>0</td>\n",
       "      <td>0</td>\n",
       "      <td>0</td>\n",
       "      <td>0</td>\n",
       "    </tr>\n",
       "    <tr>\n",
       "      <th>warm_high_value</th>\n",
       "      <td>1314</td>\n",
       "      <td>6</td>\n",
       "      <td>1704</td>\n",
       "      <td>0</td>\n",
       "      <td>0</td>\n",
       "      <td>0</td>\n",
       "      <td>0</td>\n",
       "      <td>0</td>\n",
       "    </tr>\n",
       "    <tr>\n",
       "      <th>warm_low_value</th>\n",
       "      <td>30</td>\n",
       "      <td>9646</td>\n",
       "      <td>17178</td>\n",
       "      <td>0</td>\n",
       "      <td>0</td>\n",
       "      <td>0</td>\n",
       "      <td>0</td>\n",
       "      <td>0</td>\n",
       "    </tr>\n",
       "  </tbody>\n",
       "</table>\n",
       "</div>"
      ],
      "text/plain": [
       "segment_y          active_high_value  active_low_value   cold  inactive  \\\n",
       "segment_x                                                                 \n",
       "active_high_value              18973                18      0         0   \n",
       "active_low_value                1435            127427      0         0   \n",
       "cold                             626              2515      0     16971   \n",
       "inactive                         443              2931      0     33200   \n",
       "new_active                       200              1280      0         0   \n",
       "new_warm                          44               255   1331         0   \n",
       "warm_high_value                 1314                 6   1704         0   \n",
       "warm_low_value                    30              9646  17178         0   \n",
       "\n",
       "segment_y          new_active  new_warm  warm_high_value  warm_low_value  \n",
       "segment_x                                                                 \n",
       "active_high_value           0         0             3785               0  \n",
       "active_low_value            0         0                0           26419  \n",
       "cold                        0         0                0               0  \n",
       "inactive                    0         0                0               0  \n",
       "new_active                  0      1076                0               0  \n",
       "new_warm                    0         0                0               0  \n",
       "warm_high_value             0         0                0               0  \n",
       "warm_low_value              0         0                0               0  "
      ]
     },
     "execution_count": 52,
     "metadata": {},
     "output_type": "execute_result"
    }
   ],
   "source": [
    "transition = pd.crosstab(merged_customers['segment_x'], merged_customers['segment_y'], margins=False, dropna=False)\n",
    "transition"
   ]
  },
  {
   "cell_type": "code",
   "execution_count": 53,
   "metadata": {
    "collapsed": false
   },
   "outputs": [
    {
     "data": {
      "text/plain": [
       "(8, 8)"
      ]
     },
     "execution_count": 53,
     "metadata": {},
     "output_type": "execute_result"
    }
   ],
   "source": [
    "transition.shape"
   ]
  },
  {
   "cell_type": "code",
   "execution_count": 54,
   "metadata": {
    "collapsed": false
   },
   "outputs": [
    {
     "data": {
      "text/plain": [
       "Index(['active_high_value', 'active_low_value', 'cold', 'inactive',\n",
       "       'new_active', 'new_warm', 'warm_high_value', 'warm_low_value'],\n",
       "      dtype='object', name='segment_y')"
      ]
     },
     "execution_count": 54,
     "metadata": {},
     "output_type": "execute_result"
    }
   ],
   "source": [
    "transition.columns"
   ]
  },
  {
   "cell_type": "markdown",
   "metadata": {},
   "source": [
    "## We normalize the transition matrix"
   ]
  },
  {
   "cell_type": "code",
   "execution_count": 55,
   "metadata": {
    "collapsed": false
   },
   "outputs": [],
   "source": [
    "transition = transition / transition.sum(axis=0)\n",
    "transition = transition.fillna(0)"
   ]
  },
  {
   "cell_type": "markdown",
   "metadata": {},
   "source": [
    "## Making Predictions with the Transition Matrix"
   ]
  },
  {
   "cell_type": "code",
   "execution_count": 56,
   "metadata": {
    "collapsed": false
   },
   "outputs": [
    {
     "data": {
      "text/plain": [
       "active_low_value     19664\n",
       "inactive             16617\n",
       "cold                  4383\n",
       "warm_low_value        4083\n",
       "active_high_value     3374\n",
       "new_active            1581\n",
       "new_warm               980\n",
       "warm_high_value        561\n",
       "Name: segment, dtype: int64"
      ]
     },
     "execution_count": 56,
     "metadata": {},
     "output_type": "execute_result"
    }
   ],
   "source": [
    "state_vector_2015 = copy_customers_2015.segment.value_counts()\n",
    "state_vector_2015"
   ]
  },
  {
   "cell_type": "code",
   "execution_count": 57,
   "metadata": {
    "collapsed": false
   },
   "outputs": [
    {
     "data": {
      "text/html": [
       "<div>\n",
       "<table border=\"1\" class=\"dataframe\">\n",
       "  <thead>\n",
       "    <tr style=\"text-align: right;\">\n",
       "      <th>segment_y</th>\n",
       "      <th>active_high_value</th>\n",
       "      <th>active_low_value</th>\n",
       "      <th>cold</th>\n",
       "      <th>inactive</th>\n",
       "      <th>new_active</th>\n",
       "      <th>new_warm</th>\n",
       "      <th>warm_high_value</th>\n",
       "      <th>warm_low_value</th>\n",
       "    </tr>\n",
       "    <tr>\n",
       "      <th>segment_x</th>\n",
       "      <th></th>\n",
       "      <th></th>\n",
       "      <th></th>\n",
       "      <th></th>\n",
       "      <th></th>\n",
       "      <th></th>\n",
       "      <th></th>\n",
       "      <th></th>\n",
       "    </tr>\n",
       "  </thead>\n",
       "  <tbody>\n",
       "    <tr>\n",
       "      <th>active_high_value</th>\n",
       "      <td>0.822588</td>\n",
       "      <td>0.000125</td>\n",
       "      <td>0.000000</td>\n",
       "      <td>0.000000</td>\n",
       "      <td>0.0</td>\n",
       "      <td>0.0</td>\n",
       "      <td>1.0</td>\n",
       "      <td>0.0</td>\n",
       "    </tr>\n",
       "    <tr>\n",
       "      <th>active_low_value</th>\n",
       "      <td>0.062215</td>\n",
       "      <td>0.884431</td>\n",
       "      <td>0.000000</td>\n",
       "      <td>0.000000</td>\n",
       "      <td>0.0</td>\n",
       "      <td>0.0</td>\n",
       "      <td>0.0</td>\n",
       "      <td>1.0</td>\n",
       "    </tr>\n",
       "    <tr>\n",
       "      <th>cold</th>\n",
       "      <td>0.027141</td>\n",
       "      <td>0.017456</td>\n",
       "      <td>0.000000</td>\n",
       "      <td>0.338263</td>\n",
       "      <td>0.0</td>\n",
       "      <td>0.0</td>\n",
       "      <td>0.0</td>\n",
       "      <td>0.0</td>\n",
       "    </tr>\n",
       "    <tr>\n",
       "      <th>inactive</th>\n",
       "      <td>0.019207</td>\n",
       "      <td>0.020343</td>\n",
       "      <td>0.000000</td>\n",
       "      <td>0.661737</td>\n",
       "      <td>0.0</td>\n",
       "      <td>0.0</td>\n",
       "      <td>0.0</td>\n",
       "      <td>0.0</td>\n",
       "    </tr>\n",
       "    <tr>\n",
       "      <th>new_active</th>\n",
       "      <td>0.008671</td>\n",
       "      <td>0.008884</td>\n",
       "      <td>0.000000</td>\n",
       "      <td>0.000000</td>\n",
       "      <td>0.0</td>\n",
       "      <td>1.0</td>\n",
       "      <td>0.0</td>\n",
       "      <td>0.0</td>\n",
       "    </tr>\n",
       "    <tr>\n",
       "      <th>new_warm</th>\n",
       "      <td>0.001908</td>\n",
       "      <td>0.001770</td>\n",
       "      <td>0.065849</td>\n",
       "      <td>0.000000</td>\n",
       "      <td>0.0</td>\n",
       "      <td>0.0</td>\n",
       "      <td>0.0</td>\n",
       "      <td>0.0</td>\n",
       "    </tr>\n",
       "    <tr>\n",
       "      <th>warm_high_value</th>\n",
       "      <td>0.056969</td>\n",
       "      <td>0.000042</td>\n",
       "      <td>0.084302</td>\n",
       "      <td>0.000000</td>\n",
       "      <td>0.0</td>\n",
       "      <td>0.0</td>\n",
       "      <td>0.0</td>\n",
       "      <td>0.0</td>\n",
       "    </tr>\n",
       "    <tr>\n",
       "      <th>warm_low_value</th>\n",
       "      <td>0.001301</td>\n",
       "      <td>0.066950</td>\n",
       "      <td>0.849849</td>\n",
       "      <td>0.000000</td>\n",
       "      <td>0.0</td>\n",
       "      <td>0.0</td>\n",
       "      <td>0.0</td>\n",
       "      <td>0.0</td>\n",
       "    </tr>\n",
       "  </tbody>\n",
       "</table>\n",
       "</div>"
      ],
      "text/plain": [
       "segment_y          active_high_value  active_low_value      cold  inactive  \\\n",
       "segment_x                                                                    \n",
       "active_high_value           0.822588          0.000125  0.000000  0.000000   \n",
       "active_low_value            0.062215          0.884431  0.000000  0.000000   \n",
       "cold                        0.027141          0.017456  0.000000  0.338263   \n",
       "inactive                    0.019207          0.020343  0.000000  0.661737   \n",
       "new_active                  0.008671          0.008884  0.000000  0.000000   \n",
       "new_warm                    0.001908          0.001770  0.065849  0.000000   \n",
       "warm_high_value             0.056969          0.000042  0.084302  0.000000   \n",
       "warm_low_value              0.001301          0.066950  0.849849  0.000000   \n",
       "\n",
       "segment_y          new_active  new_warm  warm_high_value  warm_low_value  \n",
       "segment_x                                                                 \n",
       "active_high_value         0.0       0.0              1.0             0.0  \n",
       "active_low_value          0.0       0.0              0.0             1.0  \n",
       "cold                      0.0       0.0              0.0             0.0  \n",
       "inactive                  0.0       0.0              0.0             0.0  \n",
       "new_active                0.0       1.0              0.0             0.0  \n",
       "new_warm                  0.0       0.0              0.0             0.0  \n",
       "warm_high_value           0.0       0.0              0.0             0.0  \n",
       "warm_low_value            0.0       0.0              0.0             0.0  "
      ]
     },
     "execution_count": 57,
     "metadata": {},
     "output_type": "execute_result"
    }
   ],
   "source": [
    "transition"
   ]
  },
  {
   "cell_type": "code",
   "execution_count": 58,
   "metadata": {
    "collapsed": false
   },
   "outputs": [
    {
     "data": {
      "text/plain": [
       "(8, 8)"
      ]
     },
     "execution_count": 58,
     "metadata": {},
     "output_type": "execute_result"
    }
   ],
   "source": [
    "transition.shape"
   ]
  },
  {
   "cell_type": "code",
   "execution_count": 59,
   "metadata": {
    "collapsed": false
   },
   "outputs": [
    {
     "data": {
      "text/plain": [
       "(8,)"
      ]
     },
     "execution_count": 59,
     "metadata": {},
     "output_type": "execute_result"
    }
   ],
   "source": [
    "state_vector_2015.shape"
   ]
  },
  {
   "cell_type": "markdown",
   "metadata": {},
   "source": [
    "## Using the transition matrix to make predictions"
   ]
  },
  {
   "cell_type": "code",
   "execution_count": 60,
   "metadata": {
    "collapsed": false
   },
   "outputs": [
    {
     "data": {
      "text/plain": [
       "segment_x\n",
       "active_high_value    17157.453065\n",
       "active_low_value     16480.989364\n",
       "cold                  2204.886320\n",
       "inactive              3417.592068\n",
       "new_active            1899.136132\n",
       "new_warm               355.536983\n",
       "warm_high_value       1490.435417\n",
       "warm_low_value        4862.970652\n",
       "dtype: float64"
      ]
     },
     "execution_count": 60,
     "metadata": {},
     "output_type": "execute_result"
    }
   ],
   "source": [
    "state_vector_2016 = transition.dot(state_vector_2015.values)\n",
    "state_vector_2016"
   ]
  },
  {
   "cell_type": "code",
   "execution_count": 61,
   "metadata": {
    "collapsed": false
   },
   "outputs": [
    {
     "data": {
      "text/plain": [
       "segment_x\n",
       "active_high_value    15606.015215\n",
       "active_low_value     20506.722023\n",
       "cold                  1909.399754\n",
       "inactive              2926.358008\n",
       "new_active             650.730150\n",
       "new_warm               207.088662\n",
       "warm_high_value       1164.013457\n",
       "warm_low_value        2999.536599\n",
       "dtype: float64"
      ]
     },
     "execution_count": 61,
     "metadata": {},
     "output_type": "execute_result"
    }
   ],
   "source": [
    "state_vector_2017 = transition.dot(state_vector_2016.values)\n",
    "state_vector_2017"
   ]
  },
  {
   "cell_type": "code",
   "execution_count": 62,
   "metadata": {
    "collapsed": false
   },
   "outputs": [
    {
     "data": {
      "text/plain": [
       "segment_x\n",
       "active_high_value    14003.901517\n",
       "active_low_value     22107.245899\n",
       "cold                  1771.398760\n",
       "inactive              2653.388566\n",
       "new_active             524.594002\n",
       "new_warm               191.796691\n",
       "warm_high_value       1050.886406\n",
       "warm_low_value        3015.921877\n",
       "dtype: float64"
      ]
     },
     "execution_count": 62,
     "metadata": {},
     "output_type": "execute_result"
    }
   ],
   "source": [
    "state_vector_2018 = transition.dot(state_vector_2017.values)\n",
    "state_vector_2018"
   ]
  },
  {
   "cell_type": "code",
   "execution_count": 63,
   "metadata": {
    "collapsed": false
   },
   "outputs": [
    {
     "data": {
      "text/plain": [
       "segment_x\n",
       "active_high_value    12573.094381\n",
       "active_low_value     23439.507288\n",
       "cold                  1663.519250\n",
       "inactive              2474.543177\n",
       "new_active             509.629044\n",
       "new_warm               182.485954\n",
       "warm_high_value        948.047763\n",
       "warm_low_value        3003.712859\n",
       "dtype: float64"
      ]
     },
     "execution_count": 63,
     "metadata": {},
     "output_type": "execute_result"
    }
   ],
   "source": [
    "state_vector_2019 = transition.dot(state_vector_2018.values)\n",
    "state_vector_2019"
   ]
  },
  {
   "cell_type": "code",
   "execution_count": 64,
   "metadata": {
    "collapsed": false
   },
   "outputs": [
    {
     "data": {
      "text/plain": [
       "segment_x\n",
       "active_high_value    11293.456917\n",
       "active_low_value     24516.572734\n",
       "cold                  1587.445074\n",
       "inactive              2355.816055\n",
       "new_active             499.747481\n",
       "new_warm               175.010681\n",
       "warm_high_value        857.496493\n",
       "warm_low_value        2999.365239\n",
       "dtype: float64"
      ]
     },
     "execution_count": 64,
     "metadata": {},
     "output_type": "execute_result"
    }
   ],
   "source": [
    "state_vector_2020 = transition.dot(state_vector_2019.values)\n",
    "state_vector_2020"
   ]
  },
  {
   "cell_type": "code",
   "execution_count": 65,
   "metadata": {
    "collapsed": false
   },
   "outputs": [
    {
     "data": {
      "text/plain": [
       "segment_x\n",
       "active_high_value    10150.425353\n",
       "active_low_value     25385.201556\n",
       "cold                  1531.354885\n",
       "inactive              2274.583371\n",
       "new_active             490.745015\n",
       "new_warm               169.466462\n",
       "warm_high_value        778.227905\n",
       "warm_low_value        3005.158646\n",
       "dtype: float64"
      ]
     },
     "execution_count": 65,
     "metadata": {},
     "output_type": "execute_result"
    }
   ],
   "source": [
    "state_vector_2021 = transition.dot(state_vector_2020.values)\n",
    "state_vector_2021"
   ]
  },
  {
   "cell_type": "code",
   "execution_count": 66,
   "metadata": {
    "collapsed": false
   },
   "outputs": [
    {
     "data": {
      "text/plain": [
       "segment_x\n",
       "active_high_value     9131.020851\n",
       "active_low_value     26088.122666\n",
       "cold                  1488.016828\n",
       "inactive              2216.545615\n",
       "new_active             483.006367\n",
       "new_warm               165.129852\n",
       "warm_high_value        708.417691\n",
       "warm_low_value        3014.158306\n",
       "dtype: float64"
      ]
     },
     "execution_count": 66,
     "metadata": {},
     "output_type": "execute_result"
    }
   ],
   "source": [
    "state_vector_2022 = transition.dot(state_vector_2021.values)\n",
    "state_vector_2022"
   ]
  },
  {
   "cell_type": "code",
   "execution_count": 67,
   "metadata": {
    "collapsed": false
   },
   "outputs": [
    {
     "data": {
      "text/plain": [
       "segment_x\n",
       "active_high_value     8222.748201\n",
       "active_low_value     26655.384566\n",
       "cold                  1452.987520\n",
       "inactive              2172.860236\n",
       "new_active             476.075157\n",
       "new_warm               161.575510\n",
       "warm_high_value        646.718573\n",
       "warm_low_value        3023.062047\n",
       "dtype: float64"
      ]
     },
     "execution_count": 67,
     "metadata": {},
     "output_type": "execute_result"
    }
   ],
   "source": [
    "state_vector_2023 = transition.dot(state_vector_2022.values)\n",
    "state_vector_2023"
   ]
  },
  {
   "cell_type": "code",
   "execution_count": 68,
   "metadata": {
    "collapsed": false
   },
   "outputs": [
    {
     "data": {
      "text/plain": [
       "segment_x\n",
       "active_high_value     7413.985463\n",
       "active_low_value     27109.483504\n",
       "cold                  1423.461244\n",
       "inactive              2138.047082\n",
       "new_active             469.684647\n",
       "new_warm               158.540189\n",
       "warm_high_value        592.045370\n",
       "warm_low_value        3030.089153\n",
       "dtype: float64"
      ]
     },
     "execution_count": 68,
     "metadata": {},
     "output_type": "execute_result"
    }
   ],
   "source": [
    "state_vector_2024 = transition.dot(state_vector_2023.values)\n",
    "state_vector_2024"
   ]
  },
  {
   "cell_type": "code",
   "execution_count": 69,
   "metadata": {
    "collapsed": false
   },
   "outputs": [
    {
     "data": {
      "text/plain": [
       "segment_x\n",
       "active_high_value     6694.090196\n",
       "active_low_value     27467.812071\n",
       "cold                  1397.661529\n",
       "inactive              2108.714163\n",
       "new_active             463.670676\n",
       "new_warm               155.856782\n",
       "warm_high_value        543.500396\n",
       "warm_low_value        3034.346192\n",
       "dtype: float64"
      ]
     },
     "execution_count": 69,
     "metadata": {},
     "output_type": "execute_result"
    }
   ],
   "source": [
    "state_vector_2025 = transition.dot(state_vector_2024.values)\n",
    "state_vector_2025"
   ]
  },
  {
   "cell_type": "code",
   "execution_count": 70,
   "metadata": {
    "collapsed": false
   },
   "outputs": [
    {
     "data": {
      "text/html": [
       "<div>\n",
       "<table border=\"1\" class=\"dataframe\">\n",
       "  <thead>\n",
       "    <tr style=\"text-align: right;\">\n",
       "      <th></th>\n",
       "      <th>2015</th>\n",
       "      <th>2016</th>\n",
       "      <th>2017</th>\n",
       "      <th>2018</th>\n",
       "      <th>2019</th>\n",
       "      <th>2020</th>\n",
       "      <th>2021</th>\n",
       "      <th>2022</th>\n",
       "      <th>2023</th>\n",
       "      <th>2024</th>\n",
       "      <th>2025</th>\n",
       "    </tr>\n",
       "  </thead>\n",
       "  <tbody>\n",
       "    <tr>\n",
       "      <th>active_high_value</th>\n",
       "      <td>19664</td>\n",
       "      <td>17157.453065</td>\n",
       "      <td>15606.015215</td>\n",
       "      <td>14003.901517</td>\n",
       "      <td>12573.094381</td>\n",
       "      <td>11293.456917</td>\n",
       "      <td>10150.425353</td>\n",
       "      <td>9131.020851</td>\n",
       "      <td>8222.748201</td>\n",
       "      <td>7413.985463</td>\n",
       "      <td>6694.090196</td>\n",
       "    </tr>\n",
       "    <tr>\n",
       "      <th>active_low_value</th>\n",
       "      <td>16617</td>\n",
       "      <td>16480.989364</td>\n",
       "      <td>20506.722023</td>\n",
       "      <td>22107.245899</td>\n",
       "      <td>23439.507288</td>\n",
       "      <td>24516.572734</td>\n",
       "      <td>25385.201556</td>\n",
       "      <td>26088.122666</td>\n",
       "      <td>26655.384566</td>\n",
       "      <td>27109.483504</td>\n",
       "      <td>27467.812071</td>\n",
       "    </tr>\n",
       "    <tr>\n",
       "      <th>cold</th>\n",
       "      <td>4383</td>\n",
       "      <td>2204.886320</td>\n",
       "      <td>1909.399754</td>\n",
       "      <td>1771.398760</td>\n",
       "      <td>1663.519250</td>\n",
       "      <td>1587.445074</td>\n",
       "      <td>1531.354885</td>\n",
       "      <td>1488.016828</td>\n",
       "      <td>1452.987520</td>\n",
       "      <td>1423.461244</td>\n",
       "      <td>1397.661529</td>\n",
       "    </tr>\n",
       "    <tr>\n",
       "      <th>inactive</th>\n",
       "      <td>4083</td>\n",
       "      <td>3417.592068</td>\n",
       "      <td>2926.358008</td>\n",
       "      <td>2653.388566</td>\n",
       "      <td>2474.543177</td>\n",
       "      <td>2355.816055</td>\n",
       "      <td>2274.583371</td>\n",
       "      <td>2216.545615</td>\n",
       "      <td>2172.860236</td>\n",
       "      <td>2138.047082</td>\n",
       "      <td>2108.714163</td>\n",
       "    </tr>\n",
       "    <tr>\n",
       "      <th>new_active</th>\n",
       "      <td>3374</td>\n",
       "      <td>1899.136132</td>\n",
       "      <td>650.730150</td>\n",
       "      <td>524.594002</td>\n",
       "      <td>509.629044</td>\n",
       "      <td>499.747481</td>\n",
       "      <td>490.745015</td>\n",
       "      <td>483.006367</td>\n",
       "      <td>476.075157</td>\n",
       "      <td>469.684647</td>\n",
       "      <td>463.670676</td>\n",
       "    </tr>\n",
       "  </tbody>\n",
       "</table>\n",
       "</div>"
      ],
      "text/plain": [
       "                    2015          2016          2017          2018  \\\n",
       "active_high_value  19664  17157.453065  15606.015215  14003.901517   \n",
       "active_low_value   16617  16480.989364  20506.722023  22107.245899   \n",
       "cold                4383   2204.886320   1909.399754   1771.398760   \n",
       "inactive            4083   3417.592068   2926.358008   2653.388566   \n",
       "new_active          3374   1899.136132    650.730150    524.594002   \n",
       "\n",
       "                           2019          2020          2021          2022  \\\n",
       "active_high_value  12573.094381  11293.456917  10150.425353   9131.020851   \n",
       "active_low_value   23439.507288  24516.572734  25385.201556  26088.122666   \n",
       "cold                1663.519250   1587.445074   1531.354885   1488.016828   \n",
       "inactive            2474.543177   2355.816055   2274.583371   2216.545615   \n",
       "new_active           509.629044    499.747481    490.745015    483.006367   \n",
       "\n",
       "                           2023          2024          2025  \n",
       "active_high_value   8222.748201   7413.985463   6694.090196  \n",
       "active_low_value   26655.384566  27109.483504  27467.812071  \n",
       "cold                1452.987520   1423.461244   1397.661529  \n",
       "inactive            2172.860236   2138.047082   2108.714163  \n",
       "new_active           476.075157    469.684647    463.670676  "
      ]
     },
     "execution_count": 70,
     "metadata": {},
     "output_type": "execute_result"
    }
   ],
   "source": [
    "segments_df = pd.DataFrame(index=['active_high_value','active_low_value','cold','inactive','new_active','new_warm','warm_high_value','warm_low_value'])\n",
    "segments_df['2015'] = state_vector_2015.values\n",
    "segments_df['2016'] = state_vector_2016.values\n",
    "segments_df['2017'] = state_vector_2017.values\n",
    "segments_df['2018'] = state_vector_2018.values\n",
    "segments_df['2019'] = state_vector_2019.values\n",
    "segments_df['2020'] = state_vector_2020.values\n",
    "segments_df['2021'] = state_vector_2021.values\n",
    "segments_df['2022'] = state_vector_2022.values\n",
    "segments_df['2023'] = state_vector_2023.values\n",
    "segments_df['2024'] = state_vector_2024.values\n",
    "segments_df['2025'] = state_vector_2025.values\n",
    "segments_df.head()"
   ]
  },
  {
   "cell_type": "markdown",
   "metadata": {},
   "source": [
    "## Computing the (discounted) Customer Lifetime Value (CLV) of a database"
   ]
  },
  {
   "cell_type": "code",
   "execution_count": 71,
   "metadata": {
    "collapsed": false
   },
   "outputs": [
    {
     "data": {
      "text/html": [
       "<div>\n",
       "<table border=\"1\" class=\"dataframe\">\n",
       "  <thead>\n",
       "    <tr style=\"text-align: right;\">\n",
       "      <th></th>\n",
       "      <th>customer_id</th>\n",
       "      <th>purchase_amount</th>\n",
       "      <th>date_purchase</th>\n",
       "      <th>year_purchase</th>\n",
       "      <th>daydiff</th>\n",
       "    </tr>\n",
       "  </thead>\n",
       "  <tbody>\n",
       "    <tr>\n",
       "      <th>0</th>\n",
       "      <td>760</td>\n",
       "      <td>25.0</td>\n",
       "      <td>2009-11-06</td>\n",
       "      <td>2009</td>\n",
       "      <td>2247</td>\n",
       "    </tr>\n",
       "    <tr>\n",
       "      <th>1</th>\n",
       "      <td>860</td>\n",
       "      <td>50.0</td>\n",
       "      <td>2012-09-28</td>\n",
       "      <td>2012</td>\n",
       "      <td>1190</td>\n",
       "    </tr>\n",
       "    <tr>\n",
       "      <th>2</th>\n",
       "      <td>1200</td>\n",
       "      <td>100.0</td>\n",
       "      <td>2005-10-25</td>\n",
       "      <td>2005</td>\n",
       "      <td>3720</td>\n",
       "    </tr>\n",
       "    <tr>\n",
       "      <th>3</th>\n",
       "      <td>1420</td>\n",
       "      <td>50.0</td>\n",
       "      <td>2009-07-09</td>\n",
       "      <td>2009</td>\n",
       "      <td>2367</td>\n",
       "    </tr>\n",
       "    <tr>\n",
       "      <th>4</th>\n",
       "      <td>1940</td>\n",
       "      <td>70.0</td>\n",
       "      <td>2013-01-25</td>\n",
       "      <td>2013</td>\n",
       "      <td>1071</td>\n",
       "    </tr>\n",
       "  </tbody>\n",
       "</table>\n",
       "</div>"
      ],
      "text/plain": [
       "   customer_id  purchase_amount date_purchase  year_purchase  daydiff\n",
       "0          760             25.0    2009-11-06           2009     2247\n",
       "1          860             50.0    2012-09-28           2012     1190\n",
       "2         1200            100.0    2005-10-25           2005     3720\n",
       "3         1420             50.0    2009-07-09           2009     2367\n",
       "4         1940             70.0    2013-01-25           2013     1071"
      ]
     },
     "execution_count": 71,
     "metadata": {},
     "output_type": "execute_result"
    }
   ],
   "source": [
    "df.head()"
   ]
  },
  {
   "cell_type": "markdown",
   "metadata": {},
   "source": [
    "### Yearly revenue per segment"
   ]
  },
  {
   "cell_type": "code",
   "execution_count": 72,
   "metadata": {
    "collapsed": true
   },
   "outputs": [],
   "source": [
    "def revenue(df):\n",
    "    return df.purchase_amount.sum()"
   ]
  },
  {
   "cell_type": "code",
   "execution_count": 73,
   "metadata": {
    "collapsed": true
   },
   "outputs": [],
   "source": [
    "df_yp_2015 = df[df['year_purchase'] == 2015]\n",
    "revenue_2015 = df_yp_2015.groupby('customer_id').apply(revenue)"
   ]
  },
  {
   "cell_type": "code",
   "execution_count": 74,
   "metadata": {
    "collapsed": false
   },
   "outputs": [
    {
     "data": {
      "text/html": [
       "<div>\n",
       "<table border=\"1\" class=\"dataframe\">\n",
       "  <thead>\n",
       "    <tr style=\"text-align: right;\">\n",
       "      <th></th>\n",
       "      <th>customer_id</th>\n",
       "      <th>revenue_2015</th>\n",
       "    </tr>\n",
       "  </thead>\n",
       "  <tbody>\n",
       "    <tr>\n",
       "      <th>0</th>\n",
       "      <td>80</td>\n",
       "      <td>80.0</td>\n",
       "    </tr>\n",
       "    <tr>\n",
       "      <th>1</th>\n",
       "      <td>480</td>\n",
       "      <td>45.0</td>\n",
       "    </tr>\n",
       "    <tr>\n",
       "      <th>2</th>\n",
       "      <td>830</td>\n",
       "      <td>50.0</td>\n",
       "    </tr>\n",
       "    <tr>\n",
       "      <th>3</th>\n",
       "      <td>850</td>\n",
       "      <td>60.0</td>\n",
       "    </tr>\n",
       "    <tr>\n",
       "      <th>4</th>\n",
       "      <td>860</td>\n",
       "      <td>60.0</td>\n",
       "    </tr>\n",
       "  </tbody>\n",
       "</table>\n",
       "</div>"
      ],
      "text/plain": [
       "   customer_id  revenue_2015\n",
       "0           80          80.0\n",
       "1          480          45.0\n",
       "2          830          50.0\n",
       "3          850          60.0\n",
       "4          860          60.0"
      ]
     },
     "execution_count": 74,
     "metadata": {},
     "output_type": "execute_result"
    }
   ],
   "source": [
    "revenue_2015_df = pd.DataFrame()\n",
    "revenue_2015_df['customer_id'] = revenue_2015.index\n",
    "revenue_2015_df['revenue_2015'] = revenue_2015.values\n",
    "revenue_2015_df.head()"
   ]
  },
  {
   "cell_type": "code",
   "execution_count": 75,
   "metadata": {
    "collapsed": false
   },
   "outputs": [
    {
     "data": {
      "text/html": [
       "<div>\n",
       "<table border=\"1\" class=\"dataframe\">\n",
       "  <thead>\n",
       "    <tr style=\"text-align: right;\">\n",
       "      <th></th>\n",
       "      <th>customer_id</th>\n",
       "      <th>recency</th>\n",
       "      <th>first_purchase</th>\n",
       "      <th>frequency</th>\n",
       "      <th>amount</th>\n",
       "      <th>segment</th>\n",
       "    </tr>\n",
       "  </thead>\n",
       "  <tbody>\n",
       "    <tr>\n",
       "      <th>0</th>\n",
       "      <td>760</td>\n",
       "      <td>1273</td>\n",
       "      <td>3293</td>\n",
       "      <td>5</td>\n",
       "      <td>38.000000</td>\n",
       "      <td>inactive</td>\n",
       "    </tr>\n",
       "    <tr>\n",
       "      <th>1</th>\n",
       "      <td>860</td>\n",
       "      <td>237</td>\n",
       "      <td>4008</td>\n",
       "      <td>10</td>\n",
       "      <td>54.000000</td>\n",
       "      <td>active_low_value</td>\n",
       "    </tr>\n",
       "    <tr>\n",
       "      <th>2</th>\n",
       "      <td>1200</td>\n",
       "      <td>1192</td>\n",
       "      <td>3907</td>\n",
       "      <td>9</td>\n",
       "      <td>102.777778</td>\n",
       "      <td>inactive</td>\n",
       "    </tr>\n",
       "    <tr>\n",
       "      <th>3</th>\n",
       "      <td>1420</td>\n",
       "      <td>24</td>\n",
       "      <td>3810</td>\n",
       "      <td>34</td>\n",
       "      <td>51.029412</td>\n",
       "      <td>active_low_value</td>\n",
       "    </tr>\n",
       "    <tr>\n",
       "      <th>4</th>\n",
       "      <td>1940</td>\n",
       "      <td>686</td>\n",
       "      <td>3957</td>\n",
       "      <td>10</td>\n",
       "      <td>47.500000</td>\n",
       "      <td>warm_low_value</td>\n",
       "    </tr>\n",
       "  </tbody>\n",
       "</table>\n",
       "</div>"
      ],
      "text/plain": [
       "   customer_id  recency  first_purchase  frequency      amount  \\\n",
       "0          760     1273            3293          5   38.000000   \n",
       "1          860      237            4008         10   54.000000   \n",
       "2         1200     1192            3907          9  102.777778   \n",
       "3         1420       24            3810         34   51.029412   \n",
       "4         1940      686            3957         10   47.500000   \n",
       "\n",
       "            segment  \n",
       "0          inactive  \n",
       "1  active_low_value  \n",
       "2          inactive  \n",
       "3  active_low_value  \n",
       "4    warm_low_value  "
      ]
     },
     "execution_count": 75,
     "metadata": {},
     "output_type": "execute_result"
    }
   ],
   "source": [
    "copy_customers_2015.head()"
   ]
  },
  {
   "cell_type": "code",
   "execution_count": 76,
   "metadata": {
    "collapsed": false
   },
   "outputs": [
    {
     "data": {
      "text/html": [
       "<div>\n",
       "<table border=\"1\" class=\"dataframe\">\n",
       "  <thead>\n",
       "    <tr style=\"text-align: right;\">\n",
       "      <th></th>\n",
       "      <th>customer_id</th>\n",
       "      <th>recency</th>\n",
       "      <th>first_purchase</th>\n",
       "      <th>frequency</th>\n",
       "      <th>amount</th>\n",
       "      <th>segment</th>\n",
       "      <th>revenue_2015</th>\n",
       "    </tr>\n",
       "  </thead>\n",
       "  <tbody>\n",
       "    <tr>\n",
       "      <th>0</th>\n",
       "      <td>860</td>\n",
       "      <td>237</td>\n",
       "      <td>4008</td>\n",
       "      <td>10</td>\n",
       "      <td>54.0</td>\n",
       "      <td>active_low_value</td>\n",
       "      <td>60.0</td>\n",
       "    </tr>\n",
       "    <tr>\n",
       "      <th>1</th>\n",
       "      <td>860</td>\n",
       "      <td>237</td>\n",
       "      <td>4008</td>\n",
       "      <td>10</td>\n",
       "      <td>54.0</td>\n",
       "      <td>active_low_value</td>\n",
       "      <td>60.0</td>\n",
       "    </tr>\n",
       "    <tr>\n",
       "      <th>2</th>\n",
       "      <td>860</td>\n",
       "      <td>237</td>\n",
       "      <td>4008</td>\n",
       "      <td>10</td>\n",
       "      <td>54.0</td>\n",
       "      <td>active_low_value</td>\n",
       "      <td>60.0</td>\n",
       "    </tr>\n",
       "    <tr>\n",
       "      <th>3</th>\n",
       "      <td>860</td>\n",
       "      <td>237</td>\n",
       "      <td>4008</td>\n",
       "      <td>10</td>\n",
       "      <td>54.0</td>\n",
       "      <td>active_low_value</td>\n",
       "      <td>60.0</td>\n",
       "    </tr>\n",
       "    <tr>\n",
       "      <th>4</th>\n",
       "      <td>860</td>\n",
       "      <td>237</td>\n",
       "      <td>4008</td>\n",
       "      <td>10</td>\n",
       "      <td>54.0</td>\n",
       "      <td>active_low_value</td>\n",
       "      <td>60.0</td>\n",
       "    </tr>\n",
       "  </tbody>\n",
       "</table>\n",
       "</div>"
      ],
      "text/plain": [
       "   customer_id  recency  first_purchase  frequency  amount           segment  \\\n",
       "0          860      237            4008         10    54.0  active_low_value   \n",
       "1          860      237            4008         10    54.0  active_low_value   \n",
       "2          860      237            4008         10    54.0  active_low_value   \n",
       "3          860      237            4008         10    54.0  active_low_value   \n",
       "4          860      237            4008         10    54.0  active_low_value   \n",
       "\n",
       "   revenue_2015  \n",
       "0          60.0  \n",
       "1          60.0  \n",
       "2          60.0  \n",
       "3          60.0  \n",
       "4          60.0  "
      ]
     },
     "execution_count": 76,
     "metadata": {},
     "output_type": "execute_result"
    }
   ],
   "source": [
    "actual = pd.merge(copy_customers_2015, revenue_2015_df, on='customer_id', how='right')\n",
    "actual.head()"
   ]
  },
  {
   "cell_type": "code",
   "execution_count": 77,
   "metadata": {
    "collapsed": false
   },
   "outputs": [
    {
     "data": {
      "text/html": [
       "<div>\n",
       "<table border=\"1\" class=\"dataframe\">\n",
       "  <thead>\n",
       "    <tr style=\"text-align: right;\">\n",
       "      <th></th>\n",
       "      <th>customer_id</th>\n",
       "      <th>recency</th>\n",
       "      <th>first_purchase</th>\n",
       "      <th>frequency</th>\n",
       "      <th>amount</th>\n",
       "      <th>revenue_2015</th>\n",
       "    </tr>\n",
       "  </thead>\n",
       "  <tbody>\n",
       "    <tr>\n",
       "      <th>count</th>\n",
       "      <td>24619.000000</td>\n",
       "      <td>24619.000000</td>\n",
       "      <td>24619.000000</td>\n",
       "      <td>24619.000000</td>\n",
       "      <td>24619.000000</td>\n",
       "      <td>24619.000000</td>\n",
       "    </tr>\n",
       "    <tr>\n",
       "      <th>mean</th>\n",
       "      <td>115030.069865</td>\n",
       "      <td>98.155165</td>\n",
       "      <td>2329.044681</td>\n",
       "      <td>8.113936</td>\n",
       "      <td>69.798779</td>\n",
       "      <td>102.086527</td>\n",
       "    </tr>\n",
       "    <tr>\n",
       "      <th>std</th>\n",
       "      <td>73464.726860</td>\n",
       "      <td>103.418552</td>\n",
       "      <td>1159.378376</td>\n",
       "      <td>5.681429</td>\n",
       "      <td>141.555296</td>\n",
       "      <td>230.196141</td>\n",
       "    </tr>\n",
       "    <tr>\n",
       "      <th>min</th>\n",
       "      <td>80.000000</td>\n",
       "      <td>1.000000</td>\n",
       "      <td>1.000000</td>\n",
       "      <td>1.000000</td>\n",
       "      <td>5.000000</td>\n",
       "      <td>5.000000</td>\n",
       "    </tr>\n",
       "    <tr>\n",
       "      <th>25%</th>\n",
       "      <td>56520.000000</td>\n",
       "      <td>15.000000</td>\n",
       "      <td>1289.000000</td>\n",
       "      <td>4.000000</td>\n",
       "      <td>29.285714</td>\n",
       "      <td>30.000000</td>\n",
       "    </tr>\n",
       "    <tr>\n",
       "      <th>50%</th>\n",
       "      <td>109370.000000</td>\n",
       "      <td>57.000000</td>\n",
       "      <td>2598.000000</td>\n",
       "      <td>7.000000</td>\n",
       "      <td>40.625000</td>\n",
       "      <td>50.000000</td>\n",
       "    </tr>\n",
       "    <tr>\n",
       "      <th>75%</th>\n",
       "      <td>172880.000000</td>\n",
       "      <td>177.000000</td>\n",
       "      <td>3288.000000</td>\n",
       "      <td>10.000000</td>\n",
       "      <td>66.000000</td>\n",
       "      <td>100.000000</td>\n",
       "    </tr>\n",
       "    <tr>\n",
       "      <th>max</th>\n",
       "      <td>264200.000000</td>\n",
       "      <td>360.000000</td>\n",
       "      <td>4012.000000</td>\n",
       "      <td>45.000000</td>\n",
       "      <td>4500.000000</td>\n",
       "      <td>4500.000000</td>\n",
       "    </tr>\n",
       "  </tbody>\n",
       "</table>\n",
       "</div>"
      ],
      "text/plain": [
       "         customer_id       recency  first_purchase     frequency  \\\n",
       "count   24619.000000  24619.000000    24619.000000  24619.000000   \n",
       "mean   115030.069865     98.155165     2329.044681      8.113936   \n",
       "std     73464.726860    103.418552     1159.378376      5.681429   \n",
       "min        80.000000      1.000000        1.000000      1.000000   \n",
       "25%     56520.000000     15.000000     1289.000000      4.000000   \n",
       "50%    109370.000000     57.000000     2598.000000      7.000000   \n",
       "75%    172880.000000    177.000000     3288.000000     10.000000   \n",
       "max    264200.000000    360.000000     4012.000000     45.000000   \n",
       "\n",
       "             amount  revenue_2015  \n",
       "count  24619.000000  24619.000000  \n",
       "mean      69.798779    102.086527  \n",
       "std      141.555296    230.196141  \n",
       "min        5.000000      5.000000  \n",
       "25%       29.285714     30.000000  \n",
       "50%       40.625000     50.000000  \n",
       "75%       66.000000    100.000000  \n",
       "max     4500.000000   4500.000000  "
      ]
     },
     "execution_count": 77,
     "metadata": {},
     "output_type": "execute_result"
    }
   ],
   "source": [
    "actual.describe()"
   ]
  },
  {
   "cell_type": "code",
   "execution_count": null,
   "metadata": {
    "collapsed": true
   },
   "outputs": [],
   "source": []
  },
  {
   "cell_type": "code",
   "execution_count": 78,
   "metadata": {
    "collapsed": false
   },
   "outputs": [
    {
     "data": {
      "text/html": [
       "<div>\n",
       "<table border=\"1\" class=\"dataframe\">\n",
       "  <thead>\n",
       "    <tr style=\"text-align: right;\">\n",
       "      <th></th>\n",
       "      <th>revenue_2015</th>\n",
       "    </tr>\n",
       "    <tr>\n",
       "      <th>segment</th>\n",
       "      <th></th>\n",
       "    </tr>\n",
       "  </thead>\n",
       "  <tbody>\n",
       "    <tr>\n",
       "      <th>active_high_value</th>\n",
       "      <td>360.945465</td>\n",
       "    </tr>\n",
       "    <tr>\n",
       "      <th>active_low_value</th>\n",
       "      <td>59.339097</td>\n",
       "    </tr>\n",
       "    <tr>\n",
       "      <th>new_active</th>\n",
       "      <td>81.337261</td>\n",
       "    </tr>\n",
       "  </tbody>\n",
       "</table>\n",
       "</div>"
      ],
      "text/plain": [
       "                   revenue_2015\n",
       "segment                        \n",
       "active_high_value    360.945465\n",
       "active_low_value      59.339097\n",
       "new_active            81.337261"
      ]
     },
     "execution_count": 78,
     "metadata": {},
     "output_type": "execute_result"
    }
   ],
   "source": [
    "revenue_segment = actual.groupby('segment').agg({'revenue_2015':lambda x: x.mean()})\n",
    "revenue_segment"
   ]
  },
  {
   "cell_type": "code",
   "execution_count": 79,
   "metadata": {
    "collapsed": false
   },
   "outputs": [
    {
     "data": {
      "text/plain": [
       "segment\n",
       "active_high_value    360.945465\n",
       "active_low_value      59.339097\n",
       "new_active            81.337261\n",
       "Name: revenue_2015, dtype: float64"
      ]
     },
     "execution_count": 79,
     "metadata": {},
     "output_type": "execute_result"
    }
   ],
   "source": [
    "yearly_revenue = revenue_segment.revenue_2015\n",
    "yearly_revenue"
   ]
  },
  {
   "cell_type": "code",
   "execution_count": 80,
   "metadata": {
    "collapsed": false
   },
   "outputs": [],
   "source": [
    "s = pd.Series([0,0,0,0,0],index=['cold','inactive','new_warm','warm_high_value','warm_low_value'])"
   ]
  },
  {
   "cell_type": "code",
   "execution_count": 81,
   "metadata": {
    "collapsed": false
   },
   "outputs": [],
   "source": [
    "yearly_revenue = yearly_revenue.append(s)"
   ]
  },
  {
   "cell_type": "code",
   "execution_count": 82,
   "metadata": {
    "collapsed": false
   },
   "outputs": [
    {
     "data": {
      "text/plain": [
       "Index(['active_high_value', 'active_low_value', 'cold', 'inactive',\n",
       "       'new_active', 'new_warm', 'warm_high_value', 'warm_low_value'],\n",
       "      dtype='object')"
      ]
     },
     "execution_count": 82,
     "metadata": {},
     "output_type": "execute_result"
    }
   ],
   "source": [
    "segments_df.index"
   ]
  },
  {
   "cell_type": "code",
   "execution_count": 83,
   "metadata": {
    "collapsed": false
   },
   "outputs": [
    {
     "data": {
      "text/plain": [
       "segment\n",
       "active_high_value    360.945465\n",
       "active_low_value      59.339097\n",
       "cold                   0.000000\n",
       "inactive               0.000000\n",
       "new_active            81.337261\n",
       "new_warm               0.000000\n",
       "warm_high_value        0.000000\n",
       "warm_low_value         0.000000\n",
       "dtype: float64"
      ]
     },
     "execution_count": 83,
     "metadata": {},
     "output_type": "execute_result"
    }
   ],
   "source": [
    "yearly_revenue.reindex(['active_high_value','active_low_value','cold','inactive','new_active','new_warm','warm_high_value','warm_low_value'])"
   ]
  },
  {
   "cell_type": "code",
   "execution_count": 84,
   "metadata": {
    "collapsed": false
   },
   "outputs": [
    {
     "data": {
      "text/html": [
       "<div>\n",
       "<table border=\"1\" class=\"dataframe\">\n",
       "  <thead>\n",
       "    <tr style=\"text-align: right;\">\n",
       "      <th></th>\n",
       "      <th>2015</th>\n",
       "      <th>2016</th>\n",
       "      <th>2017</th>\n",
       "      <th>2018</th>\n",
       "      <th>2019</th>\n",
       "      <th>2020</th>\n",
       "      <th>2021</th>\n",
       "      <th>2022</th>\n",
       "      <th>2023</th>\n",
       "      <th>2024</th>\n",
       "      <th>2025</th>\n",
       "    </tr>\n",
       "  </thead>\n",
       "  <tbody>\n",
       "    <tr>\n",
       "      <th>active_high_value</th>\n",
       "      <td>19664</td>\n",
       "      <td>17157.453065</td>\n",
       "      <td>15606.015215</td>\n",
       "      <td>14003.901517</td>\n",
       "      <td>12573.094381</td>\n",
       "      <td>11293.456917</td>\n",
       "      <td>10150.425353</td>\n",
       "      <td>9131.020851</td>\n",
       "      <td>8222.748201</td>\n",
       "      <td>7413.985463</td>\n",
       "      <td>6694.090196</td>\n",
       "    </tr>\n",
       "    <tr>\n",
       "      <th>active_low_value</th>\n",
       "      <td>16617</td>\n",
       "      <td>16480.989364</td>\n",
       "      <td>20506.722023</td>\n",
       "      <td>22107.245899</td>\n",
       "      <td>23439.507288</td>\n",
       "      <td>24516.572734</td>\n",
       "      <td>25385.201556</td>\n",
       "      <td>26088.122666</td>\n",
       "      <td>26655.384566</td>\n",
       "      <td>27109.483504</td>\n",
       "      <td>27467.812071</td>\n",
       "    </tr>\n",
       "    <tr>\n",
       "      <th>cold</th>\n",
       "      <td>4383</td>\n",
       "      <td>2204.886320</td>\n",
       "      <td>1909.399754</td>\n",
       "      <td>1771.398760</td>\n",
       "      <td>1663.519250</td>\n",
       "      <td>1587.445074</td>\n",
       "      <td>1531.354885</td>\n",
       "      <td>1488.016828</td>\n",
       "      <td>1452.987520</td>\n",
       "      <td>1423.461244</td>\n",
       "      <td>1397.661529</td>\n",
       "    </tr>\n",
       "    <tr>\n",
       "      <th>inactive</th>\n",
       "      <td>4083</td>\n",
       "      <td>3417.592068</td>\n",
       "      <td>2926.358008</td>\n",
       "      <td>2653.388566</td>\n",
       "      <td>2474.543177</td>\n",
       "      <td>2355.816055</td>\n",
       "      <td>2274.583371</td>\n",
       "      <td>2216.545615</td>\n",
       "      <td>2172.860236</td>\n",
       "      <td>2138.047082</td>\n",
       "      <td>2108.714163</td>\n",
       "    </tr>\n",
       "    <tr>\n",
       "      <th>new_active</th>\n",
       "      <td>3374</td>\n",
       "      <td>1899.136132</td>\n",
       "      <td>650.730150</td>\n",
       "      <td>524.594002</td>\n",
       "      <td>509.629044</td>\n",
       "      <td>499.747481</td>\n",
       "      <td>490.745015</td>\n",
       "      <td>483.006367</td>\n",
       "      <td>476.075157</td>\n",
       "      <td>469.684647</td>\n",
       "      <td>463.670676</td>\n",
       "    </tr>\n",
       "    <tr>\n",
       "      <th>new_warm</th>\n",
       "      <td>1581</td>\n",
       "      <td>355.536983</td>\n",
       "      <td>207.088662</td>\n",
       "      <td>191.796691</td>\n",
       "      <td>182.485954</td>\n",
       "      <td>175.010681</td>\n",
       "      <td>169.466462</td>\n",
       "      <td>165.129852</td>\n",
       "      <td>161.575510</td>\n",
       "      <td>158.540189</td>\n",
       "      <td>155.856782</td>\n",
       "    </tr>\n",
       "    <tr>\n",
       "      <th>warm_high_value</th>\n",
       "      <td>980</td>\n",
       "      <td>1490.435417</td>\n",
       "      <td>1164.013457</td>\n",
       "      <td>1050.886406</td>\n",
       "      <td>948.047763</td>\n",
       "      <td>857.496493</td>\n",
       "      <td>778.227905</td>\n",
       "      <td>708.417691</td>\n",
       "      <td>646.718573</td>\n",
       "      <td>592.045370</td>\n",
       "      <td>543.500396</td>\n",
       "    </tr>\n",
       "    <tr>\n",
       "      <th>warm_low_value</th>\n",
       "      <td>561</td>\n",
       "      <td>4862.970652</td>\n",
       "      <td>2999.536599</td>\n",
       "      <td>3015.921877</td>\n",
       "      <td>3003.712859</td>\n",
       "      <td>2999.365239</td>\n",
       "      <td>3005.158646</td>\n",
       "      <td>3014.158306</td>\n",
       "      <td>3023.062047</td>\n",
       "      <td>3030.089153</td>\n",
       "      <td>3034.346192</td>\n",
       "    </tr>\n",
       "  </tbody>\n",
       "</table>\n",
       "</div>"
      ],
      "text/plain": [
       "                    2015          2016          2017          2018  \\\n",
       "active_high_value  19664  17157.453065  15606.015215  14003.901517   \n",
       "active_low_value   16617  16480.989364  20506.722023  22107.245899   \n",
       "cold                4383   2204.886320   1909.399754   1771.398760   \n",
       "inactive            4083   3417.592068   2926.358008   2653.388566   \n",
       "new_active          3374   1899.136132    650.730150    524.594002   \n",
       "new_warm            1581    355.536983    207.088662    191.796691   \n",
       "warm_high_value      980   1490.435417   1164.013457   1050.886406   \n",
       "warm_low_value       561   4862.970652   2999.536599   3015.921877   \n",
       "\n",
       "                           2019          2020          2021          2022  \\\n",
       "active_high_value  12573.094381  11293.456917  10150.425353   9131.020851   \n",
       "active_low_value   23439.507288  24516.572734  25385.201556  26088.122666   \n",
       "cold                1663.519250   1587.445074   1531.354885   1488.016828   \n",
       "inactive            2474.543177   2355.816055   2274.583371   2216.545615   \n",
       "new_active           509.629044    499.747481    490.745015    483.006367   \n",
       "new_warm             182.485954    175.010681    169.466462    165.129852   \n",
       "warm_high_value      948.047763    857.496493    778.227905    708.417691   \n",
       "warm_low_value      3003.712859   2999.365239   3005.158646   3014.158306   \n",
       "\n",
       "                           2023          2024          2025  \n",
       "active_high_value   8222.748201   7413.985463   6694.090196  \n",
       "active_low_value   26655.384566  27109.483504  27467.812071  \n",
       "cold                1452.987520   1423.461244   1397.661529  \n",
       "inactive            2172.860236   2138.047082   2108.714163  \n",
       "new_active           476.075157    469.684647    463.670676  \n",
       "new_warm             161.575510    158.540189    155.856782  \n",
       "warm_high_value      646.718573    592.045370    543.500396  \n",
       "warm_low_value      3023.062047   3030.089153   3034.346192  "
      ]
     },
     "execution_count": 84,
     "metadata": {},
     "output_type": "execute_result"
    }
   ],
   "source": [
    "segments_df.head(8)"
   ]
  },
  {
   "cell_type": "code",
   "execution_count": 85,
   "metadata": {
    "collapsed": false
   },
   "outputs": [],
   "source": [
    "data = segments_df.T"
   ]
  },
  {
   "cell_type": "code",
   "execution_count": 86,
   "metadata": {
    "collapsed": false
   },
   "outputs": [
    {
     "data": {
      "image/png": "[encoded data removed]",
      "text/plain": [
       "<matplotlib.figure.Figure at 0x11d476f60>"
      ]
     },
     "metadata": {},
     "output_type": "display_data"
    }
   ],
   "source": [
    "sns.set_style(\"whitegrid\")\n",
    "ax = sns.barplot(x=data.index, y=data.active_low_value, data=data)\n",
    "ax.set_xlabel(\"Year Of Purchase\")\n",
    "ax.set_ylabel(\"Numbe Of Customers\")\n",
    "ax.set_title(\"Active Low Value Customers\");"
   ]
  },
  {
   "cell_type": "code",
   "execution_count": 87,
   "metadata": {
    "collapsed": false
   },
   "outputs": [
    {
     "data": {
      "image/png": "[encoded data removed]",
      "text/plain": [
       "<matplotlib.figure.Figure at 0x11d1b5e10>"
      ]
     },
     "metadata": {},
     "output_type": "display_data"
    }
   ],
   "source": [
    "sns.set_style(\"whitegrid\")\n",
    "ax = sns.barplot(x=data.index, y=data.active_high_value, data=data)\n",
    "ax.set_xlabel(\"Year Of Purchase\")\n",
    "ax.set_ylabel(\"Numbe Of Customers\")\n",
    "ax.set_title(\"Active High Value Customers\");"
   ]
  },
  {
   "cell_type": "code",
   "execution_count": 88,
   "metadata": {
    "collapsed": false
   },
   "outputs": [
    {
     "data": {
      "image/png": "[encoded data removed]",
      "text/plain": [
       "<matplotlib.figure.Figure at 0x11cf27ba8>"
      ]
     },
     "metadata": {},
     "output_type": "display_data"
    }
   ],
   "source": [
    "sns.set_style(\"whitegrid\")\n",
    "ax = sns.barplot(x=data.index, y=data.inactive, data=data)\n",
    "ax.set_xlabel(\"Year Of Purchase\")\n",
    "ax.set_ylabel(\"Numbe Of Customers\")\n",
    "ax.set_title(\"Inactive Customers\");"
   ]
  },
  {
   "cell_type": "code",
   "execution_count": 89,
   "metadata": {
    "collapsed": false
   },
   "outputs": [
    {
     "data": {
      "image/png": "[encoded data removed]",
      "text/plain": [
       "<matplotlib.figure.Figure at 0x11cf23a20>"
      ]
     },
     "metadata": {},
     "output_type": "display_data"
    }
   ],
   "source": [
    "sns.set_style(\"whitegrid\")\n",
    "ax = sns.barplot(x=data.index, y=data.cold, data=data)\n",
    "ax.set_xlabel(\"Year Of Purchase\")\n",
    "ax.set_ylabel(\"Numbe Of Customers\")\n",
    "ax.set_title(\"Cold Customers\");"
   ]
  },
  {
   "cell_type": "code",
   "execution_count": 90,
   "metadata": {
    "collapsed": false
   },
   "outputs": [
    {
     "data": {
      "image/png": "[encoded data removed]",
      "text/plain": [
       "<matplotlib.figure.Figure at 0x11d03e550>"
      ]
     },
     "metadata": {},
     "output_type": "display_data"
    }
   ],
   "source": [
    "sns.set_style(\"whitegrid\")\n",
    "ax = sns.barplot(x=data.index, y=data.warm_high_value, data=data)\n",
    "ax.set_xlabel(\"Year Of Purchase\")\n",
    "ax.set_ylabel(\"Numbe Of Customers\")\n",
    "ax.set_title(\"Warm High Value Customers\");"
   ]
  },
  {
   "cell_type": "markdown",
   "metadata": {},
   "source": [
    "### Computing the revenue per segment"
   ]
  },
  {
   "cell_type": "code",
   "execution_count": 91,
   "metadata": {
    "collapsed": true
   },
   "outputs": [],
   "source": [
    "import numpy as np"
   ]
  },
  {
   "cell_type": "code",
   "execution_count": 92,
   "metadata": {
    "collapsed": true
   },
   "outputs": [],
   "source": [
    "def prd(u,v):\n",
    "    return [u[i]*v[i] for i in range(len(u))]"
   ]
  },
  {
   "cell_type": "code",
   "execution_count": 93,
   "metadata": {
    "collapsed": false
   },
   "outputs": [],
   "source": [
    "y_2015 = prd(segments_df['2015'],yearly_revenue)\n",
    "y_2016 = prd(segments_df['2016'],yearly_revenue)\n",
    "y_2017 = prd(segments_df['2017'],yearly_revenue)\n",
    "y_2018 = prd(segments_df['2018'],yearly_revenue)\n",
    "y_2019 = prd(segments_df['2019'],yearly_revenue)\n",
    "y_2020 = prd(segments_df['2020'],yearly_revenue)\n",
    "y_2021 = prd(segments_df['2021'],yearly_revenue)\n",
    "y_2022 = prd(segments_df['2022'],yearly_revenue)\n",
    "y_2023 = prd(segments_df['2023'],yearly_revenue)\n",
    "y_2024 = prd(segments_df['2024'],yearly_revenue)\n",
    "y_2025 = prd(segments_df['2025'],yearly_revenue)"
   ]
  },
  {
   "cell_type": "code",
   "execution_count": 94,
   "metadata": {
    "collapsed": false
   },
   "outputs": [],
   "source": [
    "revenue_per_seg = pd.DataFrame({'2015': y_2015,'2016': y_2016,'2017': y_2017,'2018': y_2018,\n",
    "                                 '2019': y_2019,'2020': y_2020,'2021': y_2021,'2022': y_2022,\n",
    "                                 '2023': y_2023,'2024': y_2024,'2025': y_2025},\n",
    "                                 index=['active_high_value','active_low_value','cold','inactive','new_active',\n",
    "                                        'new_warm','warm_high_value','warm_low_value'])"
   ]
  },
  {
   "cell_type": "code",
   "execution_count": 95,
   "metadata": {
    "collapsed": false
   },
   "outputs": [
    {
     "data": {
      "text/html": [
       "<div>\n",
       "<table border=\"1\" class=\"dataframe\">\n",
       "  <thead>\n",
       "    <tr style=\"text-align: right;\">\n",
       "      <th></th>\n",
       "      <th>2015</th>\n",
       "      <th>2016</th>\n",
       "      <th>2017</th>\n",
       "      <th>2018</th>\n",
       "      <th>2019</th>\n",
       "      <th>2020</th>\n",
       "      <th>2021</th>\n",
       "      <th>2022</th>\n",
       "      <th>2023</th>\n",
       "      <th>2024</th>\n",
       "      <th>2025</th>\n",
       "    </tr>\n",
       "  </thead>\n",
       "  <tbody>\n",
       "    <tr>\n",
       "      <th>active_high_value</th>\n",
       "      <td>7.097632e+06</td>\n",
       "      <td>6.192905e+06</td>\n",
       "      <td>5.632920e+06</td>\n",
       "      <td>5.054645e+06</td>\n",
       "      <td>4.538201e+06</td>\n",
       "      <td>4.076322e+06</td>\n",
       "      <td>3.663750e+06</td>\n",
       "      <td>3.295801e+06</td>\n",
       "      <td>2.967964e+06</td>\n",
       "      <td>2.676044e+06</td>\n",
       "      <td>2.416202e+06</td>\n",
       "    </tr>\n",
       "    <tr>\n",
       "      <th>active_low_value</th>\n",
       "      <td>9.860378e+05</td>\n",
       "      <td>9.779670e+05</td>\n",
       "      <td>1.216850e+06</td>\n",
       "      <td>1.311824e+06</td>\n",
       "      <td>1.390879e+06</td>\n",
       "      <td>1.454791e+06</td>\n",
       "      <td>1.506335e+06</td>\n",
       "      <td>1.548046e+06</td>\n",
       "      <td>1.581706e+06</td>\n",
       "      <td>1.608652e+06</td>\n",
       "      <td>1.629915e+06</td>\n",
       "    </tr>\n",
       "    <tr>\n",
       "      <th>cold</th>\n",
       "      <td>3.565012e+05</td>\n",
       "      <td>1.793394e+05</td>\n",
       "      <td>1.553053e+05</td>\n",
       "      <td>1.440807e+05</td>\n",
       "      <td>1.353061e+05</td>\n",
       "      <td>1.291184e+05</td>\n",
       "      <td>1.245562e+05</td>\n",
       "      <td>1.210312e+05</td>\n",
       "      <td>1.181820e+05</td>\n",
       "      <td>1.157804e+05</td>\n",
       "      <td>1.136820e+05</td>\n",
       "    </tr>\n",
       "    <tr>\n",
       "      <th>inactive</th>\n",
       "      <td>0.000000e+00</td>\n",
       "      <td>0.000000e+00</td>\n",
       "      <td>0.000000e+00</td>\n",
       "      <td>0.000000e+00</td>\n",
       "      <td>0.000000e+00</td>\n",
       "      <td>0.000000e+00</td>\n",
       "      <td>0.000000e+00</td>\n",
       "      <td>0.000000e+00</td>\n",
       "      <td>0.000000e+00</td>\n",
       "      <td>0.000000e+00</td>\n",
       "      <td>0.000000e+00</td>\n",
       "    </tr>\n",
       "    <tr>\n",
       "      <th>new_active</th>\n",
       "      <td>0.000000e+00</td>\n",
       "      <td>0.000000e+00</td>\n",
       "      <td>0.000000e+00</td>\n",
       "      <td>0.000000e+00</td>\n",
       "      <td>0.000000e+00</td>\n",
       "      <td>0.000000e+00</td>\n",
       "      <td>0.000000e+00</td>\n",
       "      <td>0.000000e+00</td>\n",
       "      <td>0.000000e+00</td>\n",
       "      <td>0.000000e+00</td>\n",
       "      <td>0.000000e+00</td>\n",
       "    </tr>\n",
       "  </tbody>\n",
       "</table>\n",
       "</div>"
      ],
      "text/plain": [
       "                           2015          2016          2017          2018  \\\n",
       "active_high_value  7.097632e+06  6.192905e+06  5.632920e+06  5.054645e+06   \n",
       "active_low_value   9.860378e+05  9.779670e+05  1.216850e+06  1.311824e+06   \n",
       "cold               3.565012e+05  1.793394e+05  1.553053e+05  1.440807e+05   \n",
       "inactive           0.000000e+00  0.000000e+00  0.000000e+00  0.000000e+00   \n",
       "new_active         0.000000e+00  0.000000e+00  0.000000e+00  0.000000e+00   \n",
       "\n",
       "                           2019          2020          2021          2022  \\\n",
       "active_high_value  4.538201e+06  4.076322e+06  3.663750e+06  3.295801e+06   \n",
       "active_low_value   1.390879e+06  1.454791e+06  1.506335e+06  1.548046e+06   \n",
       "cold               1.353061e+05  1.291184e+05  1.245562e+05  1.210312e+05   \n",
       "inactive           0.000000e+00  0.000000e+00  0.000000e+00  0.000000e+00   \n",
       "new_active         0.000000e+00  0.000000e+00  0.000000e+00  0.000000e+00   \n",
       "\n",
       "                           2023          2024          2025  \n",
       "active_high_value  2.967964e+06  2.676044e+06  2.416202e+06  \n",
       "active_low_value   1.581706e+06  1.608652e+06  1.629915e+06  \n",
       "cold               1.181820e+05  1.157804e+05  1.136820e+05  \n",
       "inactive           0.000000e+00  0.000000e+00  0.000000e+00  \n",
       "new_active         0.000000e+00  0.000000e+00  0.000000e+00  "
      ]
     },
     "execution_count": 95,
     "metadata": {},
     "output_type": "execute_result"
    }
   ],
   "source": [
    "revenue_per_seg.head()"
   ]
  },
  {
   "cell_type": "code",
   "execution_count": 96,
   "metadata": {
    "collapsed": false
   },
   "outputs": [],
   "source": [
    "total_yearly_rev = revenue_per_seg.sum(axis=0)"
   ]
  },
  {
   "cell_type": "code",
   "execution_count": 97,
   "metadata": {
    "collapsed": false
   },
   "outputs": [
    {
     "data": {
      "text/plain": [
       "2015    8.440171e+06\n",
       "2016    7.350211e+06\n",
       "2017    7.005076e+06\n",
       "2018    6.510549e+06\n",
       "2019    6.064387e+06\n",
       "2020    5.660232e+06\n",
       "2021    5.294641e+06\n",
       "2022    4.964877e+06\n",
       "2023    4.667852e+06\n",
       "2024    4.400477e+06\n",
       "2025    4.159799e+06\n",
       "dtype: float64"
      ]
     },
     "execution_count": 97,
     "metadata": {},
     "output_type": "execute_result"
    }
   ],
   "source": [
    "total_yearly_rev"
   ]
  },
  {
   "cell_type": "code",
   "execution_count": 98,
   "metadata": {
    "collapsed": false
   },
   "outputs": [],
   "source": [
    "data = revenue_per_seg.sum(axis=0)\n",
    "data = data.to_frame('yearly_revenue')"
   ]
  },
  {
   "cell_type": "code",
   "execution_count": 99,
   "metadata": {
    "collapsed": false
   },
   "outputs": [
    {
     "data": {
      "image/png": "[encoded data removed]",
      "text/plain": [
       "<matplotlib.figure.Figure at 0x11d19f588>"
      ]
     },
     "metadata": {},
     "output_type": "display_data"
    }
   ],
   "source": [
    "sns.set_style(\"whitegrid\")\n",
    "ax = sns.barplot(x=data.index, y=data.yearly_revenue, data=data)\n",
    "ax.set_xlabel(\"Year of purchase\")\n",
    "ax.set_ylabel(\"Yearly Revenue $$$\")\n",
    "ax.set_title(\"Yearly Revenue\");"
   ]
  },
  {
   "cell_type": "markdown",
   "metadata": {},
   "source": [
    "## Cumulative yearly revenue"
   ]
  },
  {
   "cell_type": "code",
   "execution_count": 100,
   "metadata": {
    "collapsed": false
   },
   "outputs": [
    {
     "data": {
      "text/plain": [
       "2015    8.440171e+06\n",
       "2016    1.579038e+07\n",
       "2017    2.279546e+07\n",
       "2018    2.930601e+07\n",
       "2019    3.537039e+07\n",
       "2020    4.103063e+07\n",
       "2021    4.632527e+07\n",
       "2022    5.129014e+07\n",
       "2023    5.595800e+07\n",
       "2024    6.035847e+07\n",
       "2025    6.451827e+07\n",
       "dtype: float64"
      ]
     },
     "execution_count": 100,
     "metadata": {},
     "output_type": "execute_result"
    }
   ],
   "source": [
    "total_yr_cusum = total_yearly_rev.cumsum()\n",
    "total_yr_cusum"
   ]
  },
  {
   "cell_type": "code",
   "execution_count": 101,
   "metadata": {
    "collapsed": false
   },
   "outputs": [],
   "source": [
    "data = total_yr_cusum.to_frame('cumulative_revenue')"
   ]
  },
  {
   "cell_type": "code",
   "execution_count": 102,
   "metadata": {
    "collapsed": false
   },
   "outputs": [
    {
     "data": {
      "image/png": "[encoded data removed]",
      "text/plain": [
       "<matplotlib.figure.Figure at 0x11d134358>"
      ]
     },
     "metadata": {},
     "output_type": "display_data"
    }
   ],
   "source": [
    "sns.set_style(\"whitegrid\")\n",
    "ax = sns.barplot(x=data.index, y=data.cumulative_revenue, data=data)\n",
    "ax.set_xlabel(\"Year of purchase\")\n",
    "ax.set_ylabel(\"Yearly Revenue $$$\")\n",
    "ax.set_title(\"Cumulative Yearly Revenue\");"
   ]
  },
  {
   "cell_type": "code",
   "execution_count": 103,
   "metadata": {
    "collapsed": true
   },
   "outputs": [],
   "source": [
    "discount_rate = 0.1"
   ]
  },
  {
   "cell_type": "code",
   "execution_count": 104,
   "metadata": {
    "collapsed": false
   },
   "outputs": [
    {
     "data": {
      "text/plain": [
       "[1.0,\n",
       " 0.9090909090909091,\n",
       " 0.8264462809917354,\n",
       " 0.7513148009015775,\n",
       " 0.6830134553650705,\n",
       " 0.6209213230591549,\n",
       " 0.5644739300537772,\n",
       " 0.5131581182307065,\n",
       " 0.4665073802097331,\n",
       " 0.42409761837248455,\n",
       " 0.3855432894295314]"
      ]
     },
     "execution_count": 104,
     "metadata": {},
     "output_type": "execute_result"
    }
   ],
   "source": [
    "discount = [1/(1+discount_rate)**i for i in range(0,11)]\n",
    "discount"
   ]
  },
  {
   "cell_type": "markdown",
   "metadata": {},
   "source": [
    "## Computing the discounted yearly revenue"
   ]
  },
  {
   "cell_type": "code",
   "execution_count": 105,
   "metadata": {
    "collapsed": false
   },
   "outputs": [
    {
     "data": {
      "text/plain": [
       "[8440170.6264904272,\n",
       " 6682010.2972738622,\n",
       " 5789319.127530654,\n",
       " 4891472.19334222,\n",
       " 4142057.7187864166,\n",
       " 3514558.6133161988,\n",
       " 2988686.9040866643,\n",
       " 2547767.1610567006,\n",
       " 2177587.4825364477,\n",
       " 1866231.8800061361,\n",
       " 1603782.4494232377]"
      ]
     },
     "execution_count": 105,
     "metadata": {},
     "output_type": "execute_result"
    }
   ],
   "source": [
    "total_yearly_rev = prd(discount,total_yearly_rev)\n",
    "total_yearly_rev"
   ]
  },
  {
   "cell_type": "code",
   "execution_count": 106,
   "metadata": {
    "collapsed": false
   },
   "outputs": [
    {
     "data": {
      "text/html": [
       "<div>\n",
       "<table border=\"1\" class=\"dataframe\">\n",
       "  <thead>\n",
       "    <tr style=\"text-align: right;\">\n",
       "      <th></th>\n",
       "      <th>discounted_yearly_revenue</th>\n",
       "    </tr>\n",
       "  </thead>\n",
       "  <tbody>\n",
       "    <tr>\n",
       "      <th>2015</th>\n",
       "      <td>8.440171e+06</td>\n",
       "    </tr>\n",
       "    <tr>\n",
       "      <th>2016</th>\n",
       "      <td>6.682010e+06</td>\n",
       "    </tr>\n",
       "    <tr>\n",
       "      <th>2017</th>\n",
       "      <td>5.789319e+06</td>\n",
       "    </tr>\n",
       "    <tr>\n",
       "      <th>2018</th>\n",
       "      <td>4.891472e+06</td>\n",
       "    </tr>\n",
       "    <tr>\n",
       "      <th>2019</th>\n",
       "      <td>4.142058e+06</td>\n",
       "    </tr>\n",
       "    <tr>\n",
       "      <th>2020</th>\n",
       "      <td>3.514559e+06</td>\n",
       "    </tr>\n",
       "    <tr>\n",
       "      <th>2021</th>\n",
       "      <td>2.988687e+06</td>\n",
       "    </tr>\n",
       "    <tr>\n",
       "      <th>2022</th>\n",
       "      <td>2.547767e+06</td>\n",
       "    </tr>\n",
       "    <tr>\n",
       "      <th>2023</th>\n",
       "      <td>2.177587e+06</td>\n",
       "    </tr>\n",
       "    <tr>\n",
       "      <th>2024</th>\n",
       "      <td>1.866232e+06</td>\n",
       "    </tr>\n",
       "    <tr>\n",
       "      <th>2025</th>\n",
       "      <td>1.603782e+06</td>\n",
       "    </tr>\n",
       "  </tbody>\n",
       "</table>\n",
       "</div>"
      ],
      "text/plain": [
       "      discounted_yearly_revenue\n",
       "2015               8.440171e+06\n",
       "2016               6.682010e+06\n",
       "2017               5.789319e+06\n",
       "2018               4.891472e+06\n",
       "2019               4.142058e+06\n",
       "2020               3.514559e+06\n",
       "2021               2.988687e+06\n",
       "2022               2.547767e+06\n",
       "2023               2.177587e+06\n",
       "2024               1.866232e+06\n",
       "2025               1.603782e+06"
      ]
     },
     "execution_count": 106,
     "metadata": {},
     "output_type": "execute_result"
    }
   ],
   "source": [
    "disc_rev_df = pd.DataFrame({'discounted_yearly_revenue':total_yearly_rev},index=[y for y in range(2015,2026)])\n",
    "disc_rev_df"
   ]
  },
  {
   "cell_type": "code",
   "execution_count": 107,
   "metadata": {
    "collapsed": false
   },
   "outputs": [
    {
     "data": {
      "text/plain": [
       "pandas.indexes.numeric.Int64Index"
      ]
     },
     "execution_count": 107,
     "metadata": {},
     "output_type": "execute_result"
    }
   ],
   "source": [
    "type(disc_rev_df.index)"
   ]
  },
  {
   "cell_type": "code",
   "execution_count": 108,
   "metadata": {
    "collapsed": false
   },
   "outputs": [
    {
     "data": {
      "image/png": "[encoded data removed]",
      "text/plain": [
       "<matplotlib.figure.Figure at 0x11d19f780>"
      ]
     },
     "metadata": {},
     "output_type": "display_data"
    }
   ],
   "source": [
    "sns.set_style(\"whitegrid\")\n",
    "ax = sns.barplot(x=disc_rev_df.index, y=\"discounted_yearly_revenue\", data=disc_rev_df)\n",
    "ax.set_xlabel(\"Year of purchase\")\n",
    "ax.set_ylabel(\"Yearly Revenue $$$\")\n",
    "ax.set_title(\"Discounted Yearly Revenue\");"
   ]
  },
  {
   "cell_type": "code",
   "execution_count": 109,
   "metadata": {
    "collapsed": false
   },
   "outputs": [
    {
     "data": {
      "text/plain": [
       "[8440170.6264904272,\n",
       " 14354892.684992433,\n",
       " 18839221.568432864,\n",
       " 22018037.255553912,\n",
       " 24158455.223835427,\n",
       " 25476790.634984765,\n",
       " 26149405.663163725,\n",
       " 26319954.127569173,\n",
       " 26104818.507599328,\n",
       " 25597885.068732794,\n",
       " 24874587.057362139]"
      ]
     },
     "execution_count": 109,
     "metadata": {},
     "output_type": "execute_result"
    }
   ],
   "source": [
    "yr_cumsum_disc = prd(total_yr_cusum,discount)\n",
    "yr_cumsum_disc"
   ]
  },
  {
   "cell_type": "code",
   "execution_count": 110,
   "metadata": {
    "collapsed": false
   },
   "outputs": [
    {
     "data": {
      "text/html": [
       "<div>\n",
       "<table border=\"1\" class=\"dataframe\">\n",
       "  <thead>\n",
       "    <tr style=\"text-align: right;\">\n",
       "      <th></th>\n",
       "      <th>discounted_cum_yearly_revenue</th>\n",
       "    </tr>\n",
       "  </thead>\n",
       "  <tbody>\n",
       "    <tr>\n",
       "      <th>2015</th>\n",
       "      <td>8.440171e+06</td>\n",
       "    </tr>\n",
       "    <tr>\n",
       "      <th>2016</th>\n",
       "      <td>1.435489e+07</td>\n",
       "    </tr>\n",
       "    <tr>\n",
       "      <th>2017</th>\n",
       "      <td>1.883922e+07</td>\n",
       "    </tr>\n",
       "    <tr>\n",
       "      <th>2018</th>\n",
       "      <td>2.201804e+07</td>\n",
       "    </tr>\n",
       "    <tr>\n",
       "      <th>2019</th>\n",
       "      <td>2.415846e+07</td>\n",
       "    </tr>\n",
       "    <tr>\n",
       "      <th>2020</th>\n",
       "      <td>2.547679e+07</td>\n",
       "    </tr>\n",
       "    <tr>\n",
       "      <th>2021</th>\n",
       "      <td>2.614941e+07</td>\n",
       "    </tr>\n",
       "    <tr>\n",
       "      <th>2022</th>\n",
       "      <td>2.631995e+07</td>\n",
       "    </tr>\n",
       "    <tr>\n",
       "      <th>2023</th>\n",
       "      <td>2.610482e+07</td>\n",
       "    </tr>\n",
       "    <tr>\n",
       "      <th>2024</th>\n",
       "      <td>2.559789e+07</td>\n",
       "    </tr>\n",
       "    <tr>\n",
       "      <th>2025</th>\n",
       "      <td>2.487459e+07</td>\n",
       "    </tr>\n",
       "  </tbody>\n",
       "</table>\n",
       "</div>"
      ],
      "text/plain": [
       "      discounted_cum_yearly_revenue\n",
       "2015                   8.440171e+06\n",
       "2016                   1.435489e+07\n",
       "2017                   1.883922e+07\n",
       "2018                   2.201804e+07\n",
       "2019                   2.415846e+07\n",
       "2020                   2.547679e+07\n",
       "2021                   2.614941e+07\n",
       "2022                   2.631995e+07\n",
       "2023                   2.610482e+07\n",
       "2024                   2.559789e+07\n",
       "2025                   2.487459e+07"
      ]
     },
     "execution_count": 110,
     "metadata": {},
     "output_type": "execute_result"
    }
   ],
   "source": [
    "disc_cum_rev_df = pd.DataFrame({'discounted_cum_yearly_revenue':yr_cumsum_disc},index=[y for y in range(2015,2026)])\n",
    "disc_cum_rev_df"
   ]
  },
  {
   "cell_type": "code",
   "execution_count": 111,
   "metadata": {
    "collapsed": false
   },
   "outputs": [
    {
     "data": {
      "image/png": "[encoded data removed]",
      "text/plain": [
       "<matplotlib.figure.Figure at 0x11d2df4a8>"
      ]
     },
     "metadata": {},
     "output_type": "display_data"
    }
   ],
   "source": [
    "sns.set_style(\"whitegrid\")\n",
    "ax = sns.barplot(x=disc_cum_rev_df.index, y=\"discounted_cum_yearly_revenue\", data=disc_cum_rev_df)\n",
    "ax.set_xlabel(\"Year of purchase\")\n",
    "ax.set_ylabel(\"Yearly Revenue In Millions\")\n",
    "ax.set_title(\"Discounted Cumulative Yearly Revenue\");"
   ]
  },
  {
   "cell_type": "markdown",
   "metadata": {},
   "source": [
    "## How much is the customer database worth?\n"
   ]
  },
  {
   "cell_type": "code",
   "execution_count": 112,
   "metadata": {
    "collapsed": false
   },
   "outputs": [
    {
     "data": {
      "text/plain": [
       "16434416.430871712"
      ]
     },
     "execution_count": 112,
     "metadata": {},
     "output_type": "execute_result"
    }
   ],
   "source": [
    "disc_cum_rev_df.iloc[10][0] - disc_rev_df.iloc[0][0]"
   ]
  },
  {
   "cell_type": "code",
   "execution_count": null,
   "metadata": {
    "collapsed": true
   },
   "outputs": [],
   "source": []
  }
 ],
 "metadata": {
  "anaconda-cloud": {},
  "kernelspec": {
   "display_name": "Python [Root]",
   "language": "python",
   "name": "Python [Root]"
  },
  "language_info": {
   "codemirror_mode": {
    "name": "ipython",
    "version": 3
   },
   "file_extension": ".py",
   "mimetype": "text/x-python",
   "name": "python",
   "nbconvert_exporter": "python",
   "pygments_lexer": "ipython3",
   "version": "3.5.2"
  }
 },
 "nbformat": 4,
 "nbformat_minor": 1
}
