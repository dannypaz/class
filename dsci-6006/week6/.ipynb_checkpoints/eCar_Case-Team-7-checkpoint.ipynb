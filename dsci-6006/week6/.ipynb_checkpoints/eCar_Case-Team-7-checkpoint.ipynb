{
 "cells": [
  {
   "cell_type": "markdown",
   "metadata": {},
   "source": [
    "# Nomis Solutions - Team 7"
   ]
  },
  {
   "cell_type": "code",
   "execution_count": 1,
   "metadata": {
    "collapsed": true
   },
   "outputs": [],
   "source": [
    "reset -fs"
   ]
  },
  {
   "cell_type": "code",
   "execution_count": 2,
   "metadata": {
    "collapsed": false
   },
   "outputs": [],
   "source": [
    "import pandas as pd\n",
    "import numpy as np\n",
    "import matplotlib.pyplot as plt\n",
    "import seaborn as sns\n",
    "from sklearn.cluster import KMeans\n",
    "from sklearn.metrics import silhouette_score\n",
    "%matplotlib inline"
   ]
  },
  {
   "cell_type": "code",
   "execution_count": 3,
   "metadata": {
    "collapsed": true
   },
   "outputs": [],
   "source": [
    "eCar_df = pd.read_csv('Nomis Solutions_Data Part I.csv', encoding=\"utf-8-sig\")"
   ]
  },
  {
   "cell_type": "code",
   "execution_count": 4,
   "metadata": {
    "collapsed": false
   },
   "outputs": [
    {
     "data": {
      "text/html": [
       "<div>\n",
       "<table border=\"1\" class=\"dataframe\">\n",
       "  <thead>\n",
       "    <tr style=\"text-align: right;\">\n",
       "      <th></th>\n",
       "      <th>Tier</th>\n",
       "      <th>FICO</th>\n",
       "      <th>Approve Date</th>\n",
       "      <th>Term</th>\n",
       "      <th>Amount</th>\n",
       "      <th>Previous Rate</th>\n",
       "      <th>Car  Type</th>\n",
       "      <th>Competition rate</th>\n",
       "      <th>Outcome</th>\n",
       "      <th>Rate</th>\n",
       "      <th>Cost of Funds</th>\n",
       "      <th>Partner Bin</th>\n",
       "    </tr>\n",
       "  </thead>\n",
       "  <tbody>\n",
       "    <tr>\n",
       "      <th>0</th>\n",
       "      <td>3.0</td>\n",
       "      <td>695.0</td>\n",
       "      <td>7/1/02</td>\n",
       "      <td>72.0</td>\n",
       "      <td>35000.0</td>\n",
       "      <td></td>\n",
       "      <td>N</td>\n",
       "      <td>6.25</td>\n",
       "      <td>0.0</td>\n",
       "      <td>7.49</td>\n",
       "      <td>1.8388</td>\n",
       "      <td>1.0</td>\n",
       "    </tr>\n",
       "    <tr>\n",
       "      <th>1</th>\n",
       "      <td>1.0</td>\n",
       "      <td>751.0</td>\n",
       "      <td>7/1/02</td>\n",
       "      <td>60.0</td>\n",
       "      <td>40000.0</td>\n",
       "      <td></td>\n",
       "      <td>N</td>\n",
       "      <td>5.65</td>\n",
       "      <td>0.0</td>\n",
       "      <td>5.49</td>\n",
       "      <td>1.8388</td>\n",
       "      <td>3.0</td>\n",
       "    </tr>\n",
       "    <tr>\n",
       "      <th>2</th>\n",
       "      <td>1.0</td>\n",
       "      <td>731.0</td>\n",
       "      <td>7/1/02</td>\n",
       "      <td>60.0</td>\n",
       "      <td>18064.0</td>\n",
       "      <td></td>\n",
       "      <td>N</td>\n",
       "      <td>5.65</td>\n",
       "      <td>0.0</td>\n",
       "      <td>5.49</td>\n",
       "      <td>1.8388</td>\n",
       "      <td>3.0</td>\n",
       "    </tr>\n",
       "    <tr>\n",
       "      <th>3</th>\n",
       "      <td>4.0</td>\n",
       "      <td>652.0</td>\n",
       "      <td>7/1/02</td>\n",
       "      <td>72.0</td>\n",
       "      <td>15415.0</td>\n",
       "      <td></td>\n",
       "      <td>N</td>\n",
       "      <td>6.25</td>\n",
       "      <td>0.0</td>\n",
       "      <td>8.99</td>\n",
       "      <td>1.8388</td>\n",
       "      <td>3.0</td>\n",
       "    </tr>\n",
       "    <tr>\n",
       "      <th>4</th>\n",
       "      <td>1.0</td>\n",
       "      <td>730.0</td>\n",
       "      <td>7/1/02</td>\n",
       "      <td>48.0</td>\n",
       "      <td>32000.0</td>\n",
       "      <td></td>\n",
       "      <td>N</td>\n",
       "      <td>5.65</td>\n",
       "      <td>0.0</td>\n",
       "      <td>5.49</td>\n",
       "      <td>1.8388</td>\n",
       "      <td>1.0</td>\n",
       "    </tr>\n",
       "  </tbody>\n",
       "</table>\n",
       "</div>"
      ],
      "text/plain": [
       "   Tier   FICO Approve Date  Term   Amount Previous Rate Car  Type  \\\n",
       "0   3.0  695.0       7/1/02  72.0  35000.0                       N   \n",
       "1   1.0  751.0       7/1/02  60.0  40000.0                       N   \n",
       "2   1.0  731.0       7/1/02  60.0  18064.0                       N   \n",
       "3   4.0  652.0       7/1/02  72.0  15415.0                       N   \n",
       "4   1.0  730.0       7/1/02  48.0  32000.0                       N   \n",
       "\n",
       "   Competition rate  Outcome  Rate  Cost of Funds  Partner Bin  \n",
       "0              6.25      0.0  7.49         1.8388          1.0  \n",
       "1              5.65      0.0  5.49         1.8388          3.0  \n",
       "2              5.65      0.0  5.49         1.8388          3.0  \n",
       "3              6.25      0.0  8.99         1.8388          3.0  \n",
       "4              5.65      0.0  5.49         1.8388          1.0  "
      ]
     },
     "execution_count": 4,
     "metadata": {},
     "output_type": "execute_result"
    }
   ],
   "source": [
    "eCar_df.head()"
   ]
  },
  {
   "cell_type": "code",
   "execution_count": 5,
   "metadata": {
    "collapsed": false
   },
   "outputs": [
    {
     "data": {
      "text/plain": [
       "(208088, 12)"
      ]
     },
     "execution_count": 5,
     "metadata": {},
     "output_type": "execute_result"
    }
   ],
   "source": [
    "eCar_df.shape"
   ]
  },
  {
   "cell_type": "code",
   "execution_count": 6,
   "metadata": {
    "collapsed": false
   },
   "outputs": [
    {
     "name": "stdout",
     "output_type": "stream",
     "text": [
      "<class 'pandas.core.frame.DataFrame'>\n",
      "RangeIndex: 208088 entries, 0 to 208087\n",
      "Data columns (total 12 columns):\n",
      "Tier                208085 non-null float64\n",
      "FICO                208087 non-null float64\n",
      "Approve Date        208085 non-null object\n",
      "Term                208085 non-null float64\n",
      "Amount              208085 non-null float64\n",
      "Previous Rate       208077 non-null object\n",
      "Car  Type           208085 non-null object\n",
      "Competition rate    208085 non-null float64\n",
      "Outcome             208085 non-null float64\n",
      "Rate                208085 non-null float64\n",
      "Cost of Funds       208085 non-null float64\n",
      "Partner Bin         208085 non-null float64\n",
      "dtypes: float64(9), object(3)\n",
      "memory usage: 19.1+ MB\n"
     ]
    }
   ],
   "source": [
    "eCar_df.info()"
   ]
  },
  {
   "cell_type": "code",
   "execution_count": 7,
   "metadata": {
    "collapsed": true
   },
   "outputs": [],
   "source": [
    "def lowercase_df(df):\n",
    "    \"\"\"\n",
    "    Function to lowercase and replace periods, colon & spaces in the column names of a dataframe.\n",
    "    \"\"\"\n",
    "    new_names = []\n",
    "    for col in df.columns:\n",
    "        new_names.append(col.replace('.', '', len(col)).replace('  ', '_', len(col)).replace(' ', '_', len(col)).replace(':','_', len(col)).lower())\n",
    "\n",
    "    df.columns = new_names\n",
    "    return df.columns"
   ]
  },
  {
   "cell_type": "code",
   "execution_count": 8,
   "metadata": {
    "collapsed": true
   },
   "outputs": [],
   "source": [
    "eCar_df.columns = lowercase_df(eCar_df)"
   ]
  },
  {
   "cell_type": "code",
   "execution_count": 9,
   "metadata": {
    "collapsed": false
   },
   "outputs": [
    {
     "data": {
      "text/html": [
       "<div>\n",
       "<table border=\"1\" class=\"dataframe\">\n",
       "  <thead>\n",
       "    <tr style=\"text-align: right;\">\n",
       "      <th></th>\n",
       "      <th>tier</th>\n",
       "      <th>fico</th>\n",
       "      <th>approve_date</th>\n",
       "      <th>term</th>\n",
       "      <th>amount</th>\n",
       "      <th>previous_rate</th>\n",
       "      <th>car_type</th>\n",
       "      <th>competition_rate</th>\n",
       "      <th>outcome</th>\n",
       "      <th>rate</th>\n",
       "      <th>cost_of_funds</th>\n",
       "      <th>partner_bin</th>\n",
       "    </tr>\n",
       "  </thead>\n",
       "  <tbody>\n",
       "    <tr>\n",
       "      <th>0</th>\n",
       "      <td>3.0</td>\n",
       "      <td>695.0</td>\n",
       "      <td>7/1/02</td>\n",
       "      <td>72.0</td>\n",
       "      <td>35000.0</td>\n",
       "      <td></td>\n",
       "      <td>N</td>\n",
       "      <td>6.25</td>\n",
       "      <td>0.0</td>\n",
       "      <td>7.49</td>\n",
       "      <td>1.8388</td>\n",
       "      <td>1.0</td>\n",
       "    </tr>\n",
       "    <tr>\n",
       "      <th>1</th>\n",
       "      <td>1.0</td>\n",
       "      <td>751.0</td>\n",
       "      <td>7/1/02</td>\n",
       "      <td>60.0</td>\n",
       "      <td>40000.0</td>\n",
       "      <td></td>\n",
       "      <td>N</td>\n",
       "      <td>5.65</td>\n",
       "      <td>0.0</td>\n",
       "      <td>5.49</td>\n",
       "      <td>1.8388</td>\n",
       "      <td>3.0</td>\n",
       "    </tr>\n",
       "    <tr>\n",
       "      <th>2</th>\n",
       "      <td>1.0</td>\n",
       "      <td>731.0</td>\n",
       "      <td>7/1/02</td>\n",
       "      <td>60.0</td>\n",
       "      <td>18064.0</td>\n",
       "      <td></td>\n",
       "      <td>N</td>\n",
       "      <td>5.65</td>\n",
       "      <td>0.0</td>\n",
       "      <td>5.49</td>\n",
       "      <td>1.8388</td>\n",
       "      <td>3.0</td>\n",
       "    </tr>\n",
       "    <tr>\n",
       "      <th>3</th>\n",
       "      <td>4.0</td>\n",
       "      <td>652.0</td>\n",
       "      <td>7/1/02</td>\n",
       "      <td>72.0</td>\n",
       "      <td>15415.0</td>\n",
       "      <td></td>\n",
       "      <td>N</td>\n",
       "      <td>6.25</td>\n",
       "      <td>0.0</td>\n",
       "      <td>8.99</td>\n",
       "      <td>1.8388</td>\n",
       "      <td>3.0</td>\n",
       "    </tr>\n",
       "    <tr>\n",
       "      <th>4</th>\n",
       "      <td>1.0</td>\n",
       "      <td>730.0</td>\n",
       "      <td>7/1/02</td>\n",
       "      <td>48.0</td>\n",
       "      <td>32000.0</td>\n",
       "      <td></td>\n",
       "      <td>N</td>\n",
       "      <td>5.65</td>\n",
       "      <td>0.0</td>\n",
       "      <td>5.49</td>\n",
       "      <td>1.8388</td>\n",
       "      <td>1.0</td>\n",
       "    </tr>\n",
       "  </tbody>\n",
       "</table>\n",
       "</div>"
      ],
      "text/plain": [
       "   tier   fico approve_date  term   amount previous_rate car_type  \\\n",
       "0   3.0  695.0       7/1/02  72.0  35000.0                      N   \n",
       "1   1.0  751.0       7/1/02  60.0  40000.0                      N   \n",
       "2   1.0  731.0       7/1/02  60.0  18064.0                      N   \n",
       "3   4.0  652.0       7/1/02  72.0  15415.0                      N   \n",
       "4   1.0  730.0       7/1/02  48.0  32000.0                      N   \n",
       "\n",
       "   competition_rate  outcome  rate  cost_of_funds  partner_bin  \n",
       "0              6.25      0.0  7.49         1.8388          1.0  \n",
       "1              5.65      0.0  5.49         1.8388          3.0  \n",
       "2              5.65      0.0  5.49         1.8388          3.0  \n",
       "3              6.25      0.0  8.99         1.8388          3.0  \n",
       "4              5.65      0.0  5.49         1.8388          1.0  "
      ]
     },
     "execution_count": 9,
     "metadata": {},
     "output_type": "execute_result"
    }
   ],
   "source": [
    "eCar_df.head()"
   ]
  },
  {
   "cell_type": "code",
   "execution_count": 10,
   "metadata": {
    "collapsed": false
   },
   "outputs": [
    {
     "data": {
      "text/plain": [
       "True"
      ]
     },
     "execution_count": 10,
     "metadata": {},
     "output_type": "execute_result"
    }
   ],
   "source": [
    "eCar_df.isnull().values.any()"
   ]
  },
  {
   "cell_type": "code",
   "execution_count": 11,
   "metadata": {
    "collapsed": false
   },
   "outputs": [
    {
     "data": {
      "text/plain": [
       "tier                 3\n",
       "fico                 1\n",
       "approve_date         3\n",
       "term                 3\n",
       "amount               3\n",
       "previous_rate       11\n",
       "car_type             3\n",
       "competition_rate     3\n",
       "outcome              3\n",
       "rate                 3\n",
       "cost_of_funds        3\n",
       "partner_bin          3\n",
       "dtype: int64"
      ]
     },
     "execution_count": 11,
     "metadata": {},
     "output_type": "execute_result"
    }
   ],
   "source": [
    "pd.isnull(eCar_df).sum() "
   ]
  },
  {
   "cell_type": "code",
   "execution_count": 12,
   "metadata": {
    "collapsed": true
   },
   "outputs": [],
   "source": [
    "eCar_df.dropna(inplace=True)"
   ]
  },
  {
   "cell_type": "code",
   "execution_count": 13,
   "metadata": {
    "collapsed": false
   },
   "outputs": [
    {
     "name": "stdout",
     "output_type": "stream",
     "text": [
      "<class 'pandas.core.frame.DataFrame'>\n",
      "Int64Index: 208077 entries, 0 to 208078\n",
      "Data columns (total 12 columns):\n",
      "tier                208077 non-null float64\n",
      "fico                208077 non-null float64\n",
      "approve_date        208077 non-null object\n",
      "term                208077 non-null float64\n",
      "amount              208077 non-null float64\n",
      "previous_rate       208077 non-null object\n",
      "car_type            208077 non-null object\n",
      "competition_rate    208077 non-null float64\n",
      "outcome             208077 non-null float64\n",
      "rate                208077 non-null float64\n",
      "cost_of_funds       208077 non-null float64\n",
      "partner_bin         208077 non-null float64\n",
      "dtypes: float64(9), object(3)\n",
      "memory usage: 20.6+ MB\n"
     ]
    }
   ],
   "source": [
    "eCar_df.info()"
   ]
  },
  {
   "cell_type": "code",
   "execution_count": 14,
   "metadata": {
    "collapsed": false
   },
   "outputs": [
    {
     "data": {
      "text/plain": [
       "tier                0\n",
       "fico                0\n",
       "approve_date        0\n",
       "term                0\n",
       "amount              0\n",
       "previous_rate       0\n",
       "car_type            0\n",
       "competition_rate    0\n",
       "outcome             0\n",
       "rate                0\n",
       "cost_of_funds       0\n",
       "partner_bin         0\n",
       "dtype: int64"
      ]
     },
     "execution_count": 14,
     "metadata": {},
     "output_type": "execute_result"
    }
   ],
   "source": [
    "pd.isnull(eCar_df).sum() "
   ]
  },
  {
   "cell_type": "code",
   "execution_count": 15,
   "metadata": {
    "collapsed": true
   },
   "outputs": [],
   "source": [
    "#Have the user enter the cost of the loan, the interest rate, and\n",
    "#the number of years for the loan\n",
    "#Calculate monthly payments with the following formula\n",
    "# M = L[i(1+i)n] / [(1+i)n-1]\n",
    "# M = monthly payment\n",
    "# L = Loan amount\n",
    "# i = interest rate (for an interest rate of 5%, i = 0.05)\n",
    "# n = number of payments\n",
    "#________________________________________________________________________#\n",
    "#Start of program\n",
    "#Declare variables\n",
    "\n",
    "#def monthly_loan_payments(loan_amount,interest_rate,number_payments): \n",
    "#    monthly_payment = (loan_amount * (1 + interest_rate/100)**\n",
    "#(number_payments/12))/number_payments\n",
    "    #print(\"Your monthly payment will be \" + str(monthlypayment))\n",
    "#    return monthly_payment\n",
    "\n",
    "def monthly_loan_payment(row):\n",
    "    loan_amount = row['amount']\n",
    "    interest_rate = row['rate']\n",
    "    number_payments = row['term']\n",
    "    monthly_payment = (loan_amount*(1+interest_rate/100)**(number_payments/12))/number_payments\n",
    "    return monthly_payment"
   ]
  },
  {
   "cell_type": "code",
   "execution_count": 16,
   "metadata": {
    "collapsed": false
   },
   "outputs": [],
   "source": [
    "eCar_df['monthly_payment'] = eCar_df.apply(monthly_loan_payment,axis=1)"
   ]
  },
  {
   "cell_type": "code",
   "execution_count": 17,
   "metadata": {
    "collapsed": false
   },
   "outputs": [
    {
     "data": {
      "text/html": [
       "<div>\n",
       "<table border=\"1\" class=\"dataframe\">\n",
       "  <thead>\n",
       "    <tr style=\"text-align: right;\">\n",
       "      <th></th>\n",
       "      <th>tier</th>\n",
       "      <th>fico</th>\n",
       "      <th>approve_date</th>\n",
       "      <th>term</th>\n",
       "      <th>amount</th>\n",
       "      <th>previous_rate</th>\n",
       "      <th>car_type</th>\n",
       "      <th>competition_rate</th>\n",
       "      <th>outcome</th>\n",
       "      <th>rate</th>\n",
       "      <th>cost_of_funds</th>\n",
       "      <th>partner_bin</th>\n",
       "      <th>monthly_payment</th>\n",
       "    </tr>\n",
       "  </thead>\n",
       "  <tbody>\n",
       "    <tr>\n",
       "      <th>0</th>\n",
       "      <td>3.0</td>\n",
       "      <td>695.0</td>\n",
       "      <td>7/1/02</td>\n",
       "      <td>72.0</td>\n",
       "      <td>35000.0</td>\n",
       "      <td></td>\n",
       "      <td>N</td>\n",
       "      <td>6.25</td>\n",
       "      <td>0.0</td>\n",
       "      <td>7.49</td>\n",
       "      <td>1.8388</td>\n",
       "      <td>1.0</td>\n",
       "      <td>749.797392</td>\n",
       "    </tr>\n",
       "    <tr>\n",
       "      <th>1</th>\n",
       "      <td>1.0</td>\n",
       "      <td>751.0</td>\n",
       "      <td>7/1/02</td>\n",
       "      <td>60.0</td>\n",
       "      <td>40000.0</td>\n",
       "      <td></td>\n",
       "      <td>N</td>\n",
       "      <td>5.65</td>\n",
       "      <td>0.0</td>\n",
       "      <td>5.49</td>\n",
       "      <td>1.8388</td>\n",
       "      <td>3.0</td>\n",
       "      <td>870.893808</td>\n",
       "    </tr>\n",
       "    <tr>\n",
       "      <th>2</th>\n",
       "      <td>1.0</td>\n",
       "      <td>731.0</td>\n",
       "      <td>7/1/02</td>\n",
       "      <td>60.0</td>\n",
       "      <td>18064.0</td>\n",
       "      <td></td>\n",
       "      <td>N</td>\n",
       "      <td>5.65</td>\n",
       "      <td>0.0</td>\n",
       "      <td>5.49</td>\n",
       "      <td>1.8388</td>\n",
       "      <td>3.0</td>\n",
       "      <td>393.295644</td>\n",
       "    </tr>\n",
       "    <tr>\n",
       "      <th>3</th>\n",
       "      <td>4.0</td>\n",
       "      <td>652.0</td>\n",
       "      <td>7/1/02</td>\n",
       "      <td>72.0</td>\n",
       "      <td>15415.0</td>\n",
       "      <td></td>\n",
       "      <td>N</td>\n",
       "      <td>6.25</td>\n",
       "      <td>0.0</td>\n",
       "      <td>8.99</td>\n",
       "      <td>1.8388</td>\n",
       "      <td>3.0</td>\n",
       "      <td>358.864871</td>\n",
       "    </tr>\n",
       "    <tr>\n",
       "      <th>4</th>\n",
       "      <td>1.0</td>\n",
       "      <td>730.0</td>\n",
       "      <td>7/1/02</td>\n",
       "      <td>48.0</td>\n",
       "      <td>32000.0</td>\n",
       "      <td></td>\n",
       "      <td>N</td>\n",
       "      <td>5.65</td>\n",
       "      <td>0.0</td>\n",
       "      <td>5.49</td>\n",
       "      <td>1.8388</td>\n",
       "      <td>1.0</td>\n",
       "      <td>825.570014</td>\n",
       "    </tr>\n",
       "  </tbody>\n",
       "</table>\n",
       "</div>"
      ],
      "text/plain": [
       "   tier   fico approve_date  term   amount previous_rate car_type  \\\n",
       "0   3.0  695.0       7/1/02  72.0  35000.0                      N   \n",
       "1   1.0  751.0       7/1/02  60.0  40000.0                      N   \n",
       "2   1.0  731.0       7/1/02  60.0  18064.0                      N   \n",
       "3   4.0  652.0       7/1/02  72.0  15415.0                      N   \n",
       "4   1.0  730.0       7/1/02  48.0  32000.0                      N   \n",
       "\n",
       "   competition_rate  outcome  rate  cost_of_funds  partner_bin  \\\n",
       "0              6.25      0.0  7.49         1.8388          1.0   \n",
       "1              5.65      0.0  5.49         1.8388          3.0   \n",
       "2              5.65      0.0  5.49         1.8388          3.0   \n",
       "3              6.25      0.0  8.99         1.8388          3.0   \n",
       "4              5.65      0.0  5.49         1.8388          1.0   \n",
       "\n",
       "   monthly_payment  \n",
       "0       749.797392  \n",
       "1       870.893808  \n",
       "2       393.295644  \n",
       "3       358.864871  \n",
       "4       825.570014  "
      ]
     },
     "execution_count": 17,
     "metadata": {},
     "output_type": "execute_result"
    }
   ],
   "source": [
    "eCar_df.head()"
   ]
  },
  {
   "cell_type": "code",
   "execution_count": 18,
   "metadata": {
    "collapsed": true
   },
   "outputs": [],
   "source": [
    "def npv(row):\n",
    "    amount = row['amount']\n",
    "    cost_funds = row['cost_of_funds']/100\n",
    "    m = row['monthly_payment']* 12\n",
    "    term = row['term']/12\n",
    "    \n",
    "    term = int(term)\n",
    "    #cash_flow = [m/(1+cost_funds)**n for n in range(1,term+1)]\n",
    "    \n",
    "    x = 1/(1+cost_funds)\n",
    "    net_prof_val = - amount + m*(x/(x - 1))*(x**term  - 1)\n",
    "    return net_prof_val"
   ]
  },
  {
   "cell_type": "code",
   "execution_count": 19,
   "metadata": {
    "collapsed": false
   },
   "outputs": [],
   "source": [
    "eCar_df['NPV'] = eCar_df.apply(npv,axis=1)"
   ]
  },
  {
   "cell_type": "code",
   "execution_count": 20,
   "metadata": {
    "collapsed": false
   },
   "outputs": [
    {
     "data": {
      "text/html": [
       "<div>\n",
       "<table border=\"1\" class=\"dataframe\">\n",
       "  <thead>\n",
       "    <tr style=\"text-align: right;\">\n",
       "      <th></th>\n",
       "      <th>tier</th>\n",
       "      <th>fico</th>\n",
       "      <th>approve_date</th>\n",
       "      <th>term</th>\n",
       "      <th>amount</th>\n",
       "      <th>previous_rate</th>\n",
       "      <th>car_type</th>\n",
       "      <th>competition_rate</th>\n",
       "      <th>outcome</th>\n",
       "      <th>rate</th>\n",
       "      <th>cost_of_funds</th>\n",
       "      <th>partner_bin</th>\n",
       "      <th>monthly_payment</th>\n",
       "      <th>NPV</th>\n",
       "    </tr>\n",
       "  </thead>\n",
       "  <tbody>\n",
       "    <tr>\n",
       "      <th>0</th>\n",
       "      <td>3.0</td>\n",
       "      <td>695.0</td>\n",
       "      <td>7/1/02</td>\n",
       "      <td>72.0</td>\n",
       "      <td>35000.0</td>\n",
       "      <td></td>\n",
       "      <td>N</td>\n",
       "      <td>6.25</td>\n",
       "      <td>0.0</td>\n",
       "      <td>7.49</td>\n",
       "      <td>1.8388</td>\n",
       "      <td>1.0</td>\n",
       "      <td>749.797392</td>\n",
       "      <td>15674.586950</td>\n",
       "    </tr>\n",
       "    <tr>\n",
       "      <th>1</th>\n",
       "      <td>1.0</td>\n",
       "      <td>751.0</td>\n",
       "      <td>7/1/02</td>\n",
       "      <td>60.0</td>\n",
       "      <td>40000.0</td>\n",
       "      <td></td>\n",
       "      <td>N</td>\n",
       "      <td>5.65</td>\n",
       "      <td>0.0</td>\n",
       "      <td>5.49</td>\n",
       "      <td>1.8388</td>\n",
       "      <td>3.0</td>\n",
       "      <td>870.893808</td>\n",
       "      <td>9490.382514</td>\n",
       "    </tr>\n",
       "    <tr>\n",
       "      <th>2</th>\n",
       "      <td>1.0</td>\n",
       "      <td>731.0</td>\n",
       "      <td>7/1/02</td>\n",
       "      <td>60.0</td>\n",
       "      <td>18064.0</td>\n",
       "      <td></td>\n",
       "      <td>N</td>\n",
       "      <td>5.65</td>\n",
       "      <td>0.0</td>\n",
       "      <td>5.49</td>\n",
       "      <td>1.8388</td>\n",
       "      <td>3.0</td>\n",
       "      <td>393.295644</td>\n",
       "      <td>4285.856743</td>\n",
       "    </tr>\n",
       "    <tr>\n",
       "      <th>3</th>\n",
       "      <td>4.0</td>\n",
       "      <td>652.0</td>\n",
       "      <td>7/1/02</td>\n",
       "      <td>72.0</td>\n",
       "      <td>15415.0</td>\n",
       "      <td></td>\n",
       "      <td>N</td>\n",
       "      <td>6.25</td>\n",
       "      <td>0.0</td>\n",
       "      <td>8.99</td>\n",
       "      <td>1.8388</td>\n",
       "      <td>3.0</td>\n",
       "      <td>358.864871</td>\n",
       "      <td>8838.657498</td>\n",
       "    </tr>\n",
       "    <tr>\n",
       "      <th>4</th>\n",
       "      <td>1.0</td>\n",
       "      <td>730.0</td>\n",
       "      <td>7/1/02</td>\n",
       "      <td>48.0</td>\n",
       "      <td>32000.0</td>\n",
       "      <td></td>\n",
       "      <td>N</td>\n",
       "      <td>5.65</td>\n",
       "      <td>0.0</td>\n",
       "      <td>5.49</td>\n",
       "      <td>1.8388</td>\n",
       "      <td>1.0</td>\n",
       "      <td>825.570014</td>\n",
       "      <td>5870.590554</td>\n",
       "    </tr>\n",
       "  </tbody>\n",
       "</table>\n",
       "</div>"
      ],
      "text/plain": [
       "   tier   fico approve_date  term   amount previous_rate car_type  \\\n",
       "0   3.0  695.0       7/1/02  72.0  35000.0                      N   \n",
       "1   1.0  751.0       7/1/02  60.0  40000.0                      N   \n",
       "2   1.0  731.0       7/1/02  60.0  18064.0                      N   \n",
       "3   4.0  652.0       7/1/02  72.0  15415.0                      N   \n",
       "4   1.0  730.0       7/1/02  48.0  32000.0                      N   \n",
       "\n",
       "   competition_rate  outcome  rate  cost_of_funds  partner_bin  \\\n",
       "0              6.25      0.0  7.49         1.8388          1.0   \n",
       "1              5.65      0.0  5.49         1.8388          3.0   \n",
       "2              5.65      0.0  5.49         1.8388          3.0   \n",
       "3              6.25      0.0  8.99         1.8388          3.0   \n",
       "4              5.65      0.0  5.49         1.8388          1.0   \n",
       "\n",
       "   monthly_payment           NPV  \n",
       "0       749.797392  15674.586950  \n",
       "1       870.893808   9490.382514  \n",
       "2       393.295644   4285.856743  \n",
       "3       358.864871   8838.657498  \n",
       "4       825.570014   5870.590554  "
      ]
     },
     "execution_count": 20,
     "metadata": {},
     "output_type": "execute_result"
    }
   ],
   "source": [
    "eCar_df.head()"
   ]
  },
  {
   "cell_type": "code",
   "execution_count": 21,
   "metadata": {
    "collapsed": true
   },
   "outputs": [],
   "source": [
    "def monthly_loan_payment_competitor(row):\n",
    "    loan_amount = row['amount']\n",
    "    interest_rate = row['competition_rate']\n",
    "    number_payments = row['term']\n",
    "    monthly_payment = (loan_amount*(1+interest_rate/100)**(number_payments/12))/number_payments\n",
    "    return monthly_payment"
   ]
  },
  {
   "cell_type": "code",
   "execution_count": 22,
   "metadata": {
    "collapsed": true
   },
   "outputs": [],
   "source": [
    "eCar_df['monthly_payment_competitor'] = eCar_df.apply(monthly_loan_payment_competitor,axis=1)"
   ]
  },
  {
   "cell_type": "code",
   "execution_count": 23,
   "metadata": {
    "collapsed": true
   },
   "outputs": [],
   "source": [
    "def npv_competitor(row):\n",
    "    amount = row['amount']\n",
    "    cost_funds = row['cost_of_funds']/100\n",
    "    m = row['monthly_payment_competitor']*12\n",
    "    term = row['term']/12\n",
    "    \n",
    "    term = int(term)\n",
    "    #cash_flow = [m/(1+cost_funds)**n for n in range(1,term+1)]\n",
    "    x = 1/(1+cost_funds)\n",
    "    net_prof_val = -amount + m*(x/(x - 1))*(x**term  - 1)\n",
    "    return net_prof_val"
   ]
  },
  {
   "cell_type": "code",
   "execution_count": 24,
   "metadata": {
    "collapsed": false
   },
   "outputs": [],
   "source": [
    "eCar_df['NPV_Competitor'] = eCar_df.apply(npv_competitor,axis=1)"
   ]
  },
  {
   "cell_type": "code",
   "execution_count": 25,
   "metadata": {
    "collapsed": false
   },
   "outputs": [
    {
     "data": {
      "text/html": [
       "<div>\n",
       "<table border=\"1\" class=\"dataframe\">\n",
       "  <thead>\n",
       "    <tr style=\"text-align: right;\">\n",
       "      <th></th>\n",
       "      <th>tier</th>\n",
       "      <th>fico</th>\n",
       "      <th>approve_date</th>\n",
       "      <th>term</th>\n",
       "      <th>amount</th>\n",
       "      <th>previous_rate</th>\n",
       "      <th>car_type</th>\n",
       "      <th>competition_rate</th>\n",
       "      <th>outcome</th>\n",
       "      <th>rate</th>\n",
       "      <th>cost_of_funds</th>\n",
       "      <th>partner_bin</th>\n",
       "      <th>monthly_payment</th>\n",
       "      <th>NPV</th>\n",
       "      <th>monthly_payment_competitor</th>\n",
       "      <th>NPV_Competitor</th>\n",
       "    </tr>\n",
       "  </thead>\n",
       "  <tbody>\n",
       "    <tr>\n",
       "      <th>0</th>\n",
       "      <td>3.0</td>\n",
       "      <td>695.0</td>\n",
       "      <td>7/1/02</td>\n",
       "      <td>72.0</td>\n",
       "      <td>35000.0</td>\n",
       "      <td></td>\n",
       "      <td>N</td>\n",
       "      <td>6.25</td>\n",
       "      <td>0.0</td>\n",
       "      <td>7.49</td>\n",
       "      <td>1.8388</td>\n",
       "      <td>1.0</td>\n",
       "      <td>749.797392</td>\n",
       "      <td>15674.586950</td>\n",
       "      <td>699.373513</td>\n",
       "      <td>12266.720684</td>\n",
       "    </tr>\n",
       "    <tr>\n",
       "      <th>1</th>\n",
       "      <td>1.0</td>\n",
       "      <td>751.0</td>\n",
       "      <td>7/1/02</td>\n",
       "      <td>60.0</td>\n",
       "      <td>40000.0</td>\n",
       "      <td></td>\n",
       "      <td>N</td>\n",
       "      <td>5.65</td>\n",
       "      <td>0.0</td>\n",
       "      <td>5.49</td>\n",
       "      <td>1.8388</td>\n",
       "      <td>3.0</td>\n",
       "      <td>870.893808</td>\n",
       "      <td>9490.382514</td>\n",
       "      <td>877.518433</td>\n",
       "      <td>9866.840852</td>\n",
       "    </tr>\n",
       "    <tr>\n",
       "      <th>2</th>\n",
       "      <td>1.0</td>\n",
       "      <td>731.0</td>\n",
       "      <td>7/1/02</td>\n",
       "      <td>60.0</td>\n",
       "      <td>18064.0</td>\n",
       "      <td></td>\n",
       "      <td>N</td>\n",
       "      <td>5.65</td>\n",
       "      <td>0.0</td>\n",
       "      <td>5.49</td>\n",
       "      <td>1.8388</td>\n",
       "      <td>3.0</td>\n",
       "      <td>393.295644</td>\n",
       "      <td>4285.856743</td>\n",
       "      <td>396.287324</td>\n",
       "      <td>4455.865329</td>\n",
       "    </tr>\n",
       "    <tr>\n",
       "      <th>3</th>\n",
       "      <td>4.0</td>\n",
       "      <td>652.0</td>\n",
       "      <td>7/1/02</td>\n",
       "      <td>72.0</td>\n",
       "      <td>15415.0</td>\n",
       "      <td></td>\n",
       "      <td>N</td>\n",
       "      <td>6.25</td>\n",
       "      <td>0.0</td>\n",
       "      <td>8.99</td>\n",
       "      <td>1.8388</td>\n",
       "      <td>3.0</td>\n",
       "      <td>358.864871</td>\n",
       "      <td>8838.657498</td>\n",
       "      <td>308.024077</td>\n",
       "      <td>5402.614267</td>\n",
       "    </tr>\n",
       "    <tr>\n",
       "      <th>4</th>\n",
       "      <td>1.0</td>\n",
       "      <td>730.0</td>\n",
       "      <td>7/1/02</td>\n",
       "      <td>48.0</td>\n",
       "      <td>32000.0</td>\n",
       "      <td></td>\n",
       "      <td>N</td>\n",
       "      <td>5.65</td>\n",
       "      <td>0.0</td>\n",
       "      <td>5.49</td>\n",
       "      <td>1.8388</td>\n",
       "      <td>1.0</td>\n",
       "      <td>825.570014</td>\n",
       "      <td>5870.590554</td>\n",
       "      <td>830.590093</td>\n",
       "      <td>6100.871867</td>\n",
       "    </tr>\n",
       "  </tbody>\n",
       "</table>\n",
       "</div>"
      ],
      "text/plain": [
       "   tier   fico approve_date  term   amount previous_rate car_type  \\\n",
       "0   3.0  695.0       7/1/02  72.0  35000.0                      N   \n",
       "1   1.0  751.0       7/1/02  60.0  40000.0                      N   \n",
       "2   1.0  731.0       7/1/02  60.0  18064.0                      N   \n",
       "3   4.0  652.0       7/1/02  72.0  15415.0                      N   \n",
       "4   1.0  730.0       7/1/02  48.0  32000.0                      N   \n",
       "\n",
       "   competition_rate  outcome  rate  cost_of_funds  partner_bin  \\\n",
       "0              6.25      0.0  7.49         1.8388          1.0   \n",
       "1              5.65      0.0  5.49         1.8388          3.0   \n",
       "2              5.65      0.0  5.49         1.8388          3.0   \n",
       "3              6.25      0.0  8.99         1.8388          3.0   \n",
       "4              5.65      0.0  5.49         1.8388          1.0   \n",
       "\n",
       "   monthly_payment           NPV  monthly_payment_competitor  NPV_Competitor  \n",
       "0       749.797392  15674.586950                  699.373513    12266.720684  \n",
       "1       870.893808   9490.382514                  877.518433     9866.840852  \n",
       "2       393.295644   4285.856743                  396.287324     4455.865329  \n",
       "3       358.864871   8838.657498                  308.024077     5402.614267  \n",
       "4       825.570014   5870.590554                  830.590093     6100.871867  "
      ]
     },
     "execution_count": 25,
     "metadata": {},
     "output_type": "execute_result"
    }
   ],
   "source": [
    "eCar_df.head()"
   ]
  },
  {
   "cell_type": "code",
   "execution_count": 26,
   "metadata": {
    "collapsed": false
   },
   "outputs": [
    {
     "data": {
      "image/png": "[encoded data removed]",
      "text/plain": [
       "<matplotlib.figure.Figure at 0x11ac45710>"
      ]
     },
     "metadata": {},
     "output_type": "display_data"
    }
   ],
   "source": [
    "plt.figure(figsize=(12,7))\n",
    "plt.xlabel('Tier')\n",
    "plt.ylabel('Count')\n",
    "plt.title('Count of Tiers')\n",
    "eCar_df['tier'].hist();"
   ]
  },
  {
   "cell_type": "code",
   "execution_count": 27,
   "metadata": {
    "collapsed": false
   },
   "outputs": [
    {
     "data": {
      "image/png": "[encoded data removed]",
      "text/plain": [
       "<matplotlib.figure.Figure at 0x1233d1b38>"
      ]
     },
     "metadata": {},
     "output_type": "display_data"
    }
   ],
   "source": [
    "plt.figure(figsize=(12,7))\n",
    "plt.xlabel('FICO')\n",
    "plt.ylabel('Count')\n",
    "plt.title('Count of FICO per Tier')\n",
    "eCar_df.groupby('tier')['fico'].hist();"
   ]
  },
  {
   "cell_type": "code",
   "execution_count": 28,
   "metadata": {
    "collapsed": false
   },
   "outputs": [
    {
     "data": {
      "image/png": "[encoded data removed]",
      "text/plain": [
       "<matplotlib.figure.Figure at 0x11ac42160>"
      ]
     },
     "metadata": {},
     "output_type": "display_data"
    }
   ],
   "source": [
    "plt.figure(figsize=(12,7))\n",
    "sns.violinplot(x='car_type', y='tier', data=eCar_df, hue='outcome');"
   ]
  },
  {
   "cell_type": "code",
   "execution_count": 29,
   "metadata": {
    "collapsed": false
   },
   "outputs": [
    {
     "data": {
      "image/png": "[encoded data removed]",
      "text/plain": [
       "<matplotlib.figure.Figure at 0x12251add8>"
      ]
     },
     "metadata": {},
     "output_type": "display_data"
    }
   ],
   "source": [
    "plt.figure(figsize=(12,7))\n",
    "sns.violinplot(x='tier', y='NPV', data=eCar_df, hue='outcome');"
   ]
  },
  {
   "cell_type": "code",
   "execution_count": 30,
   "metadata": {
    "collapsed": false
   },
   "outputs": [
    {
     "data": {
      "image/png": "[encoded data removed]",
      "text/plain": [
       "<matplotlib.figure.Figure at 0x11cc15da0>"
      ]
     },
     "metadata": {},
     "output_type": "display_data"
    }
   ],
   "source": [
    "plt.figure(figsize=(12,7))\n",
    "sns.violinplot(x='tier', y='rate', data=eCar_df, hue='outcome');"
   ]
  },
  {
   "cell_type": "code",
   "execution_count": 31,
   "metadata": {
    "collapsed": false
   },
   "outputs": [
    {
     "data": {
      "image/png": "[encoded data removed]",
      "text/plain": [
       "<matplotlib.figure.Figure at 0x11cc67da0>"
      ]
     },
     "metadata": {},
     "output_type": "display_data"
    }
   ],
   "source": [
    "plt.figure(figsize=(12,7))\n",
    "sns.violinplot(x='car_type', y='fico', data=eCar_df, hue='outcome');"
   ]
  },
  {
   "cell_type": "code",
   "execution_count": 32,
   "metadata": {
    "collapsed": false
   },
   "outputs": [
    {
     "data": {
      "image/png": "[encoded data removed]",
      "text/plain": [
       "<matplotlib.figure.Figure at 0x11c9e51d0>"
      ]
     },
     "metadata": {},
     "output_type": "display_data"
    }
   ],
   "source": [
    "plt.figure(figsize=(12,7))\n",
    "sns.boxplot(x='tier', y='fico', data=eCar_df, hue='outcome');"
   ]
  },
  {
   "cell_type": "code",
   "execution_count": 33,
   "metadata": {
    "collapsed": false
   },
   "outputs": [
    {
     "data": {
      "image/png": "[encoded data removed]",
      "text/plain": [
       "<matplotlib.figure.Figure at 0x11c9e50b8>"
      ]
     },
     "metadata": {},
     "output_type": "display_data"
    }
   ],
   "source": [
    "plt.figure(figsize=(12,7))\n",
    "sns.boxplot(x='tier', y='rate', data=eCar_df, hue='outcome');"
   ]
  },
  {
   "cell_type": "code",
   "execution_count": 34,
   "metadata": {
    "collapsed": false
   },
   "outputs": [
    {
     "data": {
      "image/png": "[encoded data removed]",
      "text/plain": [
       "<matplotlib.figure.Figure at 0x11c9e5e48>"
      ]
     },
     "metadata": {},
     "output_type": "display_data"
    }
   ],
   "source": [
    "plt.figure(figsize=(12,7))\n",
    "sns.boxplot(x='tier', y='NPV', data=eCar_df, hue='outcome');"
   ]
  },
  {
   "cell_type": "code",
   "execution_count": 35,
   "metadata": {
    "collapsed": false
   },
   "outputs": [
    {
     "data": {
      "image/png": "[encoded data removed]",
      "text/plain": [
       "<matplotlib.figure.Figure at 0x11bda3ac8>"
      ]
     },
     "metadata": {},
     "output_type": "display_data"
    }
   ],
   "source": [
    "plt.figure(figsize=(12,7))\n",
    "sns.violinplot(x='tier', y='fico', data=eCar_df, hue='outcome');"
   ]
  },
  {
   "cell_type": "code",
   "execution_count": 36,
   "metadata": {
    "collapsed": false
   },
   "outputs": [
    {
     "data": {
      "image/png": "[encoded data removed]",
      "text/plain": [
       "<matplotlib.figure.Figure at 0x11b61d710>"
      ]
     },
     "metadata": {},
     "output_type": "display_data"
    }
   ],
   "source": [
    "plt.figure(figsize=(12,7))\n",
    "sns.violinplot(x='tier', y='rate', data=eCar_df, hue='outcome');"
   ]
  },
  {
   "cell_type": "code",
   "execution_count": 37,
   "metadata": {
    "collapsed": false
   },
   "outputs": [],
   "source": [
    "npv_tier = pd.DataFrame(eCar_df.groupby(['tier', 'outcome'])['NPV'].mean())"
   ]
  },
  {
   "cell_type": "code",
   "execution_count": 38,
   "metadata": {
    "collapsed": false
   },
   "outputs": [
    {
     "data": {
      "text/html": [
       "<div>\n",
       "<table border=\"1\" class=\"dataframe\">\n",
       "  <thead>\n",
       "    <tr style=\"text-align: right;\">\n",
       "      <th></th>\n",
       "      <th></th>\n",
       "      <th>NPV</th>\n",
       "    </tr>\n",
       "    <tr>\n",
       "      <th>tier</th>\n",
       "      <th>outcome</th>\n",
       "      <th></th>\n",
       "    </tr>\n",
       "  </thead>\n",
       "  <tbody>\n",
       "    <tr>\n",
       "      <th rowspan=\"2\" valign=\"top\">1.0</th>\n",
       "      <th>0.0</th>\n",
       "      <td>5547.611107</td>\n",
       "    </tr>\n",
       "    <tr>\n",
       "      <th>1.0</th>\n",
       "      <td>3693.263827</td>\n",
       "    </tr>\n",
       "    <tr>\n",
       "      <th rowspan=\"2\" valign=\"top\">2.0</th>\n",
       "      <th>0.0</th>\n",
       "      <td>7207.189569</td>\n",
       "    </tr>\n",
       "    <tr>\n",
       "      <th>1.0</th>\n",
       "      <td>5198.460321</td>\n",
       "    </tr>\n",
       "    <tr>\n",
       "      <th rowspan=\"2\" valign=\"top\">3.0</th>\n",
       "      <th>0.0</th>\n",
       "      <td>8637.005565</td>\n",
       "    </tr>\n",
       "    <tr>\n",
       "      <th>1.0</th>\n",
       "      <td>6512.993213</td>\n",
       "    </tr>\n",
       "    <tr>\n",
       "      <th rowspan=\"2\" valign=\"top\">4.0</th>\n",
       "      <th>0.0</th>\n",
       "      <td>11016.544508</td>\n",
       "    </tr>\n",
       "    <tr>\n",
       "      <th>1.0</th>\n",
       "      <td>8007.659576</td>\n",
       "    </tr>\n",
       "  </tbody>\n",
       "</table>\n",
       "</div>"
      ],
      "text/plain": [
       "                       NPV\n",
       "tier outcome              \n",
       "1.0  0.0       5547.611107\n",
       "     1.0       3693.263827\n",
       "2.0  0.0       7207.189569\n",
       "     1.0       5198.460321\n",
       "3.0  0.0       8637.005565\n",
       "     1.0       6512.993213\n",
       "4.0  0.0      11016.544508\n",
       "     1.0       8007.659576"
      ]
     },
     "execution_count": 38,
     "metadata": {},
     "output_type": "execute_result"
    }
   ],
   "source": [
    "npv_tier"
   ]
  },
  {
   "cell_type": "code",
   "execution_count": 39,
   "metadata": {
    "collapsed": false
   },
   "outputs": [
    {
     "data": {
      "image/png": "[encoded data removed]",
      "text/plain": [
       "<matplotlib.figure.Figure at 0x11b7266d8>"
      ]
     },
     "metadata": {},
     "output_type": "display_data"
    }
   ],
   "source": [
    "plt.pie(npv_tier['NPV'], labels=npv_tier.index);"
   ]
  },
  {
   "cell_type": "code",
   "execution_count": 40,
   "metadata": {
    "collapsed": true
   },
   "outputs": [],
   "source": [
    "npv_tier_outcome = pd.DataFrame(eCar_df[eCar_df['outcome'] == 1].groupby(['tier', 'outcome'])['NPV'].mean())"
   ]
  },
  {
   "cell_type": "code",
   "execution_count": 41,
   "metadata": {
    "collapsed": false
   },
   "outputs": [
    {
     "data": {
      "text/html": [
       "<div>\n",
       "<table border=\"1\" class=\"dataframe\">\n",
       "  <thead>\n",
       "    <tr style=\"text-align: right;\">\n",
       "      <th></th>\n",
       "      <th></th>\n",
       "      <th>NPV</th>\n",
       "    </tr>\n",
       "    <tr>\n",
       "      <th>tier</th>\n",
       "      <th>outcome</th>\n",
       "      <th></th>\n",
       "    </tr>\n",
       "  </thead>\n",
       "  <tbody>\n",
       "    <tr>\n",
       "      <th>1.0</th>\n",
       "      <th>1.0</th>\n",
       "      <td>3693.263827</td>\n",
       "    </tr>\n",
       "    <tr>\n",
       "      <th>2.0</th>\n",
       "      <th>1.0</th>\n",
       "      <td>5198.460321</td>\n",
       "    </tr>\n",
       "    <tr>\n",
       "      <th>3.0</th>\n",
       "      <th>1.0</th>\n",
       "      <td>6512.993213</td>\n",
       "    </tr>\n",
       "    <tr>\n",
       "      <th>4.0</th>\n",
       "      <th>1.0</th>\n",
       "      <td>8007.659576</td>\n",
       "    </tr>\n",
       "  </tbody>\n",
       "</table>\n",
       "</div>"
      ],
      "text/plain": [
       "                      NPV\n",
       "tier outcome             \n",
       "1.0  1.0      3693.263827\n",
       "2.0  1.0      5198.460321\n",
       "3.0  1.0      6512.993213\n",
       "4.0  1.0      8007.659576"
      ]
     },
     "execution_count": 41,
     "metadata": {},
     "output_type": "execute_result"
    }
   ],
   "source": [
    "npv_tier_outcome"
   ]
  },
  {
   "cell_type": "code",
   "execution_count": 42,
   "metadata": {
    "collapsed": false
   },
   "outputs": [
    {
     "data": {
      "image/png": "[encoded data removed]",
      "text/plain": [
       "<matplotlib.figure.Figure at 0x11b74ce48>"
      ]
     },
     "metadata": {},
     "output_type": "display_data"
    }
   ],
   "source": [
    "plt.pie(npv_tier_outcome['NPV'], labels=npv_tier_outcome.index);"
   ]
  },
  {
   "cell_type": "code",
   "execution_count": 43,
   "metadata": {
    "collapsed": false
   },
   "outputs": [
    {
     "name": "stdout",
     "output_type": "stream",
     "text": [
      "Total eCar NPV: $1,383,341,314.92\n"
     ]
    }
   ],
   "source": [
    "print(\"Total eCar NPV: ${:0,.2f}\".format(eCar_df['NPV'].sum()))"
   ]
  },
  {
   "cell_type": "code",
   "execution_count": 44,
   "metadata": {
    "collapsed": false
   },
   "outputs": [
    {
     "name": "stdout",
     "output_type": "stream",
     "text": [
      "Total eCar NPV for outcome 1: $223,382,673.66\n"
     ]
    }
   ],
   "source": [
    "print(\"Total eCar NPV for outcome 1: ${:0,.2f}\".format(eCar_df[eCar_df['outcome'] == 1]['NPV'].sum()))"
   ]
  },
  {
   "cell_type": "code",
   "execution_count": 45,
   "metadata": {
    "collapsed": false
   },
   "outputs": [
    {
     "name": "stdout",
     "output_type": "stream",
     "text": [
      "Total Competitors NPV: $1,137,546,727.53\n"
     ]
    }
   ],
   "source": [
    "print(\"Total Competitors NPV: ${:0,.2f}\".format(eCar_df['NPV_Competitor'].sum()))"
   ]
  },
  {
   "cell_type": "code",
   "execution_count": 46,
   "metadata": {
    "collapsed": false
   },
   "outputs": [
    {
     "name": "stdout",
     "output_type": "stream",
     "text": [
      "Total Competitors NPV for outcome 1: $194,463,855.13\n"
     ]
    }
   ],
   "source": [
    "print(\"Total Competitors NPV for outcome 1: ${:0,.2f}\".format(eCar_df[eCar_df['outcome'] == 1]['NPV_Competitor'].sum()))"
   ]
  },
  {
   "cell_type": "code",
   "execution_count": 47,
   "metadata": {
    "collapsed": false
   },
   "outputs": [
    {
     "name": "stdout",
     "output_type": "stream",
     "text": [
      "Total Car Loan Market NPV for outcome 1: $417,846,528.78\n"
     ]
    }
   ],
   "source": [
    "print(\"Total Car Loan Market NPV for outcome 1: ${:0,.2f}\".format(eCar_df[eCar_df['outcome'] == 1]['NPV'].sum() + eCar_df[eCar_df['outcome'] == 1]['NPV_Competitor'].sum()))"
   ]
  },
  {
   "cell_type": "code",
   "execution_count": 48,
   "metadata": {
    "collapsed": false
   },
   "outputs": [
    {
     "name": "stdout",
     "output_type": "stream",
     "text": [
      "Total Car Loan Market NPV: $2,520,888,042.46\n"
     ]
    }
   ],
   "source": [
    "print(\"Total Car Loan Market NPV: ${:0,.2f}\".format(eCar_df['NPV_Competitor'].sum() + eCar_df['NPV'].sum()))"
   ]
  },
  {
   "cell_type": "code",
   "execution_count": 49,
   "metadata": {
    "collapsed": false
   },
   "outputs": [],
   "source": [
    "npv_ecar_breakdown = pd.DataFrame(eCar_df.groupby('outcome')['NPV'].sum().apply(lambda x: '%.3f' % x))"
   ]
  },
  {
   "cell_type": "code",
   "execution_count": 50,
   "metadata": {
    "collapsed": false
   },
   "outputs": [
    {
     "data": {
      "text/html": [
       "<div>\n",
       "<table border=\"1\" class=\"dataframe\">\n",
       "  <thead>\n",
       "    <tr style=\"text-align: right;\">\n",
       "      <th></th>\n",
       "      <th>NPV</th>\n",
       "    </tr>\n",
       "    <tr>\n",
       "      <th>outcome</th>\n",
       "      <th></th>\n",
       "    </tr>\n",
       "  </thead>\n",
       "  <tbody>\n",
       "    <tr>\n",
       "      <th>0.0</th>\n",
       "      <td>1159958641.268</td>\n",
       "    </tr>\n",
       "    <tr>\n",
       "      <th>1.0</th>\n",
       "      <td>223382673.656</td>\n",
       "    </tr>\n",
       "  </tbody>\n",
       "</table>\n",
       "</div>"
      ],
      "text/plain": [
       "                    NPV\n",
       "outcome                \n",
       "0.0      1159958641.268\n",
       "1.0       223382673.656"
      ]
     },
     "execution_count": 50,
     "metadata": {},
     "output_type": "execute_result"
    }
   ],
   "source": [
    "npv_ecar_breakdown"
   ]
  },
  {
   "cell_type": "code",
   "execution_count": 51,
   "metadata": {
    "collapsed": true
   },
   "outputs": [],
   "source": [
    "npv_ecar_breakdown['NPV'] = npv_ecar_breakdown['NPV'].astype(float)"
   ]
  },
  {
   "cell_type": "code",
   "execution_count": 52,
   "metadata": {
    "collapsed": false
   },
   "outputs": [
    {
     "data": {
      "image/png": "[encoded data removed]",
      "text/plain": [
       "<matplotlib.figure.Figure at 0x11b580f28>"
      ]
     },
     "metadata": {},
     "output_type": "display_data"
    }
   ],
   "source": [
    "plt.pie(npv_ecar_breakdown['NPV'], labels=npv_ecar_breakdown.index);"
   ]
  },
  {
   "cell_type": "code",
   "execution_count": 53,
   "metadata": {
    "collapsed": false
   },
   "outputs": [
    {
     "data": {
      "image/png": "[encoded data removed]",
      "text/plain": [
       "<matplotlib.figure.Figure at 0x11bda31d0>"
      ]
     },
     "metadata": {},
     "output_type": "display_data"
    }
   ],
   "source": [
    "npv_ecar_breakdown.plot.pie(y='NPV');"
   ]
  },
  {
   "cell_type": "code",
   "execution_count": 54,
   "metadata": {
    "collapsed": true
   },
   "outputs": [],
   "source": [
    "npv_competitor_breakdown = pd.DataFrame(eCar_df.groupby('outcome')['NPV_Competitor'].sum().apply(lambda x: '%.3f' % x))"
   ]
  },
  {
   "cell_type": "code",
   "execution_count": 55,
   "metadata": {
    "collapsed": false
   },
   "outputs": [
    {
     "data": {
      "text/html": [
       "<div>\n",
       "<table border=\"1\" class=\"dataframe\">\n",
       "  <thead>\n",
       "    <tr style=\"text-align: right;\">\n",
       "      <th></th>\n",
       "      <th>NPV_Competitor</th>\n",
       "    </tr>\n",
       "    <tr>\n",
       "      <th>outcome</th>\n",
       "      <th></th>\n",
       "    </tr>\n",
       "  </thead>\n",
       "  <tbody>\n",
       "    <tr>\n",
       "      <th>0.0</th>\n",
       "      <td>943082872.404</td>\n",
       "    </tr>\n",
       "    <tr>\n",
       "      <th>1.0</th>\n",
       "      <td>194463855.127</td>\n",
       "    </tr>\n",
       "  </tbody>\n",
       "</table>\n",
       "</div>"
      ],
      "text/plain": [
       "        NPV_Competitor\n",
       "outcome               \n",
       "0.0      943082872.404\n",
       "1.0      194463855.127"
      ]
     },
     "execution_count": 55,
     "metadata": {},
     "output_type": "execute_result"
    }
   ],
   "source": [
    "npv_competitor_breakdown"
   ]
  },
  {
   "cell_type": "code",
   "execution_count": 56,
   "metadata": {
    "collapsed": true
   },
   "outputs": [],
   "source": [
    "npv_competitor_breakdown['NPV_Competitor'] = npv_competitor_breakdown['NPV_Competitor'].astype(float)"
   ]
  },
  {
   "cell_type": "code",
   "execution_count": 57,
   "metadata": {
    "collapsed": false
   },
   "outputs": [
    {
     "data": {
      "image/png": "[encoded data removed]",
      "text/plain": [
       "<matplotlib.figure.Figure at 0x1224fcdd8>"
      ]
     },
     "metadata": {},
     "output_type": "display_data"
    }
   ],
   "source": [
    "npv_competitor_breakdown.plot.pie(y='NPV_Competitor');"
   ]
  },
  {
   "cell_type": "code",
   "execution_count": 58,
   "metadata": {
    "collapsed": false
   },
   "outputs": [],
   "source": [
    "npv_total = pd.concat([npv_ecar_breakdown, npv_competitor_breakdown], axis=1)"
   ]
  },
  {
   "cell_type": "code",
   "execution_count": 59,
   "metadata": {
    "collapsed": false
   },
   "outputs": [
    {
     "data": {
      "text/html": [
       "<div>\n",
       "<table border=\"1\" class=\"dataframe\">\n",
       "  <thead>\n",
       "    <tr style=\"text-align: right;\">\n",
       "      <th></th>\n",
       "      <th>NPV</th>\n",
       "      <th>NPV_Competitor</th>\n",
       "    </tr>\n",
       "    <tr>\n",
       "      <th>outcome</th>\n",
       "      <th></th>\n",
       "      <th></th>\n",
       "    </tr>\n",
       "  </thead>\n",
       "  <tbody>\n",
       "    <tr>\n",
       "      <th>0.0</th>\n",
       "      <td>1.159959e+09</td>\n",
       "      <td>9.430829e+08</td>\n",
       "    </tr>\n",
       "    <tr>\n",
       "      <th>1.0</th>\n",
       "      <td>2.233827e+08</td>\n",
       "      <td>1.944639e+08</td>\n",
       "    </tr>\n",
       "  </tbody>\n",
       "</table>\n",
       "</div>"
      ],
      "text/plain": [
       "                  NPV  NPV_Competitor\n",
       "outcome                              \n",
       "0.0      1.159959e+09    9.430829e+08\n",
       "1.0      2.233827e+08    1.944639e+08"
      ]
     },
     "execution_count": 59,
     "metadata": {},
     "output_type": "execute_result"
    }
   ],
   "source": [
    "npv_total"
   ]
  },
  {
   "cell_type": "code",
   "execution_count": 60,
   "metadata": {
    "collapsed": false
   },
   "outputs": [
    {
     "data": {
      "text/html": [
       "<div>\n",
       "<table border=\"1\" class=\"dataframe\">\n",
       "  <thead>\n",
       "    <tr style=\"text-align: right;\">\n",
       "      <th></th>\n",
       "      <th>NPV</th>\n",
       "      <th>NPV_Competitor</th>\n",
       "    </tr>\n",
       "    <tr>\n",
       "      <th>outcome</th>\n",
       "      <th></th>\n",
       "      <th></th>\n",
       "    </tr>\n",
       "  </thead>\n",
       "  <tbody>\n",
       "    <tr>\n",
       "      <th>0.0</th>\n",
       "      <td>1.159959e+09</td>\n",
       "      <td>9.430829e+08</td>\n",
       "    </tr>\n",
       "    <tr>\n",
       "      <th>1.0</th>\n",
       "      <td>2.233827e+08</td>\n",
       "      <td>1.944639e+08</td>\n",
       "    </tr>\n",
       "  </tbody>\n",
       "</table>\n",
       "</div>"
      ],
      "text/plain": [
       "                  NPV  NPV_Competitor\n",
       "outcome                              \n",
       "0.0      1.159959e+09    9.430829e+08\n",
       "1.0      2.233827e+08    1.944639e+08"
      ]
     },
     "execution_count": 60,
     "metadata": {},
     "output_type": "execute_result"
    }
   ],
   "source": [
    "npv_total"
   ]
  },
  {
   "cell_type": "code",
   "execution_count": 61,
   "metadata": {
    "collapsed": true
   },
   "outputs": [],
   "source": [
    "npv_summary = pd.DataFrame()"
   ]
  },
  {
   "cell_type": "code",
   "execution_count": 62,
   "metadata": {
    "collapsed": false
   },
   "outputs": [],
   "source": [
    "npv_summary['total_npv'] = (npv_total['NPV'].astype(float) + npv_total['NPV_Competitor'].astype(float))"
   ]
  },
  {
   "cell_type": "code",
   "execution_count": 63,
   "metadata": {
    "collapsed": false
   },
   "outputs": [
    {
     "data": {
      "text/html": [
       "<div>\n",
       "<table border=\"1\" class=\"dataframe\">\n",
       "  <thead>\n",
       "    <tr style=\"text-align: right;\">\n",
       "      <th></th>\n",
       "      <th>total_npv</th>\n",
       "    </tr>\n",
       "    <tr>\n",
       "      <th>outcome</th>\n",
       "      <th></th>\n",
       "    </tr>\n",
       "  </thead>\n",
       "  <tbody>\n",
       "    <tr>\n",
       "      <th>0.0</th>\n",
       "      <td>2.103042e+09</td>\n",
       "    </tr>\n",
       "    <tr>\n",
       "      <th>1.0</th>\n",
       "      <td>4.178465e+08</td>\n",
       "    </tr>\n",
       "  </tbody>\n",
       "</table>\n",
       "</div>"
      ],
      "text/plain": [
       "            total_npv\n",
       "outcome              \n",
       "0.0      2.103042e+09\n",
       "1.0      4.178465e+08"
      ]
     },
     "execution_count": 63,
     "metadata": {},
     "output_type": "execute_result"
    }
   ],
   "source": [
    "npv_summary"
   ]
  },
  {
   "cell_type": "code",
   "execution_count": 64,
   "metadata": {
    "collapsed": false
   },
   "outputs": [
    {
     "data": {
      "image/png": "[encoded data removed]",
      "text/plain": [
       "<matplotlib.figure.Figure at 0x11b56ed68>"
      ]
     },
     "metadata": {},
     "output_type": "display_data"
    }
   ],
   "source": [
    "npv_summary.plot.pie(y='total_npv');"
   ]
  },
  {
   "cell_type": "markdown",
   "metadata": {},
   "source": [
    "## KMeans"
   ]
  },
  {
   "cell_type": "code",
   "execution_count": 65,
   "metadata": {
    "collapsed": true
   },
   "outputs": [],
   "source": [
    "eCar_kMeans_df = eCar_df"
   ]
  },
  {
   "cell_type": "code",
   "execution_count": 66,
   "metadata": {
    "collapsed": false
   },
   "outputs": [],
   "source": [
    "del eCar_kMeans_df['approve_date']"
   ]
  },
  {
   "cell_type": "code",
   "execution_count": 67,
   "metadata": {
    "collapsed": false
   },
   "outputs": [],
   "source": [
    "del eCar_kMeans_df['previous_rate']"
   ]
  },
  {
   "cell_type": "code",
   "execution_count": 68,
   "metadata": {
    "collapsed": true
   },
   "outputs": [],
   "source": [
    "eCar_dummy = pd.get_dummies(eCar_kMeans_df['car_type'])"
   ]
  },
  {
   "cell_type": "code",
   "execution_count": 69,
   "metadata": {
    "collapsed": false
   },
   "outputs": [
    {
     "data": {
      "text/html": [
       "<div>\n",
       "<table border=\"1\" class=\"dataframe\">\n",
       "  <thead>\n",
       "    <tr style=\"text-align: right;\">\n",
       "      <th></th>\n",
       "      <th>N</th>\n",
       "      <th>R</th>\n",
       "      <th>U</th>\n",
       "    </tr>\n",
       "  </thead>\n",
       "  <tbody>\n",
       "    <tr>\n",
       "      <th>0</th>\n",
       "      <td>1.0</td>\n",
       "      <td>0.0</td>\n",
       "      <td>0.0</td>\n",
       "    </tr>\n",
       "    <tr>\n",
       "      <th>1</th>\n",
       "      <td>1.0</td>\n",
       "      <td>0.0</td>\n",
       "      <td>0.0</td>\n",
       "    </tr>\n",
       "    <tr>\n",
       "      <th>2</th>\n",
       "      <td>1.0</td>\n",
       "      <td>0.0</td>\n",
       "      <td>0.0</td>\n",
       "    </tr>\n",
       "    <tr>\n",
       "      <th>3</th>\n",
       "      <td>1.0</td>\n",
       "      <td>0.0</td>\n",
       "      <td>0.0</td>\n",
       "    </tr>\n",
       "    <tr>\n",
       "      <th>4</th>\n",
       "      <td>1.0</td>\n",
       "      <td>0.0</td>\n",
       "      <td>0.0</td>\n",
       "    </tr>\n",
       "  </tbody>\n",
       "</table>\n",
       "</div>"
      ],
      "text/plain": [
       "     N    R    U\n",
       "0  1.0  0.0  0.0\n",
       "1  1.0  0.0  0.0\n",
       "2  1.0  0.0  0.0\n",
       "3  1.0  0.0  0.0\n",
       "4  1.0  0.0  0.0"
      ]
     },
     "execution_count": 69,
     "metadata": {},
     "output_type": "execute_result"
    }
   ],
   "source": [
    "eCar_dummy.head()"
   ]
  },
  {
   "cell_type": "code",
   "execution_count": 70,
   "metadata": {
    "collapsed": true
   },
   "outputs": [],
   "source": [
    "del eCar_dummy['U']"
   ]
  },
  {
   "cell_type": "code",
   "execution_count": 71,
   "metadata": {
    "collapsed": true
   },
   "outputs": [],
   "source": [
    "del eCar_kMeans_df['car_type']"
   ]
  },
  {
   "cell_type": "code",
   "execution_count": 72,
   "metadata": {
    "collapsed": true
   },
   "outputs": [],
   "source": [
    "kMeans_df = pd.concat([eCar_kMeans_df, eCar_dummy], axis=1)"
   ]
  },
  {
   "cell_type": "code",
   "execution_count": 73,
   "metadata": {
    "collapsed": false
   },
   "outputs": [
    {
     "data": {
      "text/html": [
       "<div>\n",
       "<table border=\"1\" class=\"dataframe\">\n",
       "  <thead>\n",
       "    <tr style=\"text-align: right;\">\n",
       "      <th></th>\n",
       "      <th>tier</th>\n",
       "      <th>fico</th>\n",
       "      <th>term</th>\n",
       "      <th>amount</th>\n",
       "      <th>competition_rate</th>\n",
       "      <th>outcome</th>\n",
       "      <th>rate</th>\n",
       "      <th>cost_of_funds</th>\n",
       "      <th>partner_bin</th>\n",
       "      <th>monthly_payment</th>\n",
       "      <th>NPV</th>\n",
       "      <th>monthly_payment_competitor</th>\n",
       "      <th>NPV_Competitor</th>\n",
       "      <th>N</th>\n",
       "      <th>R</th>\n",
       "    </tr>\n",
       "  </thead>\n",
       "  <tbody>\n",
       "    <tr>\n",
       "      <th>0</th>\n",
       "      <td>3.0</td>\n",
       "      <td>695.0</td>\n",
       "      <td>72.0</td>\n",
       "      <td>35000.0</td>\n",
       "      <td>6.25</td>\n",
       "      <td>0.0</td>\n",
       "      <td>7.49</td>\n",
       "      <td>1.8388</td>\n",
       "      <td>1.0</td>\n",
       "      <td>749.797392</td>\n",
       "      <td>15674.586950</td>\n",
       "      <td>699.373513</td>\n",
       "      <td>12266.720684</td>\n",
       "      <td>1.0</td>\n",
       "      <td>0.0</td>\n",
       "    </tr>\n",
       "    <tr>\n",
       "      <th>1</th>\n",
       "      <td>1.0</td>\n",
       "      <td>751.0</td>\n",
       "      <td>60.0</td>\n",
       "      <td>40000.0</td>\n",
       "      <td>5.65</td>\n",
       "      <td>0.0</td>\n",
       "      <td>5.49</td>\n",
       "      <td>1.8388</td>\n",
       "      <td>3.0</td>\n",
       "      <td>870.893808</td>\n",
       "      <td>9490.382514</td>\n",
       "      <td>877.518433</td>\n",
       "      <td>9866.840852</td>\n",
       "      <td>1.0</td>\n",
       "      <td>0.0</td>\n",
       "    </tr>\n",
       "    <tr>\n",
       "      <th>2</th>\n",
       "      <td>1.0</td>\n",
       "      <td>731.0</td>\n",
       "      <td>60.0</td>\n",
       "      <td>18064.0</td>\n",
       "      <td>5.65</td>\n",
       "      <td>0.0</td>\n",
       "      <td>5.49</td>\n",
       "      <td>1.8388</td>\n",
       "      <td>3.0</td>\n",
       "      <td>393.295644</td>\n",
       "      <td>4285.856743</td>\n",
       "      <td>396.287324</td>\n",
       "      <td>4455.865329</td>\n",
       "      <td>1.0</td>\n",
       "      <td>0.0</td>\n",
       "    </tr>\n",
       "    <tr>\n",
       "      <th>3</th>\n",
       "      <td>4.0</td>\n",
       "      <td>652.0</td>\n",
       "      <td>72.0</td>\n",
       "      <td>15415.0</td>\n",
       "      <td>6.25</td>\n",
       "      <td>0.0</td>\n",
       "      <td>8.99</td>\n",
       "      <td>1.8388</td>\n",
       "      <td>3.0</td>\n",
       "      <td>358.864871</td>\n",
       "      <td>8838.657498</td>\n",
       "      <td>308.024077</td>\n",
       "      <td>5402.614267</td>\n",
       "      <td>1.0</td>\n",
       "      <td>0.0</td>\n",
       "    </tr>\n",
       "    <tr>\n",
       "      <th>4</th>\n",
       "      <td>1.0</td>\n",
       "      <td>730.0</td>\n",
       "      <td>48.0</td>\n",
       "      <td>32000.0</td>\n",
       "      <td>5.65</td>\n",
       "      <td>0.0</td>\n",
       "      <td>5.49</td>\n",
       "      <td>1.8388</td>\n",
       "      <td>1.0</td>\n",
       "      <td>825.570014</td>\n",
       "      <td>5870.590554</td>\n",
       "      <td>830.590093</td>\n",
       "      <td>6100.871867</td>\n",
       "      <td>1.0</td>\n",
       "      <td>0.0</td>\n",
       "    </tr>\n",
       "  </tbody>\n",
       "</table>\n",
       "</div>"
      ],
      "text/plain": [
       "   tier   fico  term   amount  competition_rate  outcome  rate  cost_of_funds  \\\n",
       "0   3.0  695.0  72.0  35000.0              6.25      0.0  7.49         1.8388   \n",
       "1   1.0  751.0  60.0  40000.0              5.65      0.0  5.49         1.8388   \n",
       "2   1.0  731.0  60.0  18064.0              5.65      0.0  5.49         1.8388   \n",
       "3   4.0  652.0  72.0  15415.0              6.25      0.0  8.99         1.8388   \n",
       "4   1.0  730.0  48.0  32000.0              5.65      0.0  5.49         1.8388   \n",
       "\n",
       "   partner_bin  monthly_payment           NPV  monthly_payment_competitor  \\\n",
       "0          1.0       749.797392  15674.586950                  699.373513   \n",
       "1          3.0       870.893808   9490.382514                  877.518433   \n",
       "2          3.0       393.295644   4285.856743                  396.287324   \n",
       "3          3.0       358.864871   8838.657498                  308.024077   \n",
       "4          1.0       825.570014   5870.590554                  830.590093   \n",
       "\n",
       "   NPV_Competitor    N    R  \n",
       "0    12266.720684  1.0  0.0  \n",
       "1     9866.840852  1.0  0.0  \n",
       "2     4455.865329  1.0  0.0  \n",
       "3     5402.614267  1.0  0.0  \n",
       "4     6100.871867  1.0  0.0  "
      ]
     },
     "execution_count": 73,
     "metadata": {},
     "output_type": "execute_result"
    }
   ],
   "source": [
    "kMeans_df.head()"
   ]
  },
  {
   "cell_type": "code",
   "execution_count": 74,
   "metadata": {
    "collapsed": true
   },
   "outputs": [],
   "source": [
    "def plot_silhouette(data,clusters):\n",
    "    '''\n",
    "    Input:\n",
    "        data - (DataFrame) Data to cluster on\n",
    "        clusters - (list) List containing the number of clusters to check for\n",
    "    Output:\n",
    "        Plot showing the silhouette score for different numbers of centroids\n",
    "    '''  \n",
    "    X = data.values\n",
    "    list_of_silhouette = []\n",
    "\n",
    "    for k in clusters:\n",
    "        km = KMeans(n_clusters=k).fit(X)\n",
    "        list_of_silhouette.append(silhouette_score(X,km.labels_,metric='euclidean'))\n",
    "        \n",
    "    plt.figure(figsize=(10,7))\n",
    "    plt.grid()\n",
    "    plt.plot(list_of_silhouette)\n",
    "    plt.xlabel('Number of Clusters', fontsize=14)\n",
    "    plt.ylabel('Silhouette Score', fontsize=14);"
   ]
  },
  {
   "cell_type": "code",
   "execution_count": null,
   "metadata": {
    "collapsed": true
   },
   "outputs": [],
   "source": []
  }
 ],
 "metadata": {
  "anaconda-cloud": {},
  "kernelspec": {
   "display_name": "Python [Root]",
   "language": "python",
   "name": "Python [Root]"
  },
  "language_info": {
   "codemirror_mode": {
    "name": "ipython",
    "version": 3
   },
   "file_extension": ".py",
   "mimetype": "text/x-python",
   "name": "python",
   "nbconvert_exporter": "python",
   "pygments_lexer": "ipython3",
   "version": "3.5.2"
  }
 },
 "nbformat": 4,
 "nbformat_minor": 0
}
