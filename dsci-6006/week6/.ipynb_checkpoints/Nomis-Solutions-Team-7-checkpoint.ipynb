{
 "cells": [
  {
   "cell_type": "code",
   "execution_count": null,
   "metadata": {
    "collapsed": true
   },
   "outputs": [],
   "source": [
    "reset -fs"
   ]
  },
  {
   "cell_type": "code",
   "execution_count": 1,
   "metadata": {
    "collapsed": true
   },
   "outputs": [],
   "source": [
    "import pandas as pd"
   ]
  },
  {
   "cell_type": "code",
   "execution_count": 38,
   "metadata": {
    "collapsed": true
   },
   "outputs": [],
   "source": [
    "eCar_df = pd.read_csv('Nomis Solutions_Data Part I.csv')"
   ]
  },
  {
   "cell_type": "code",
   "execution_count": 39,
   "metadata": {
    "collapsed": false
   },
   "outputs": [],
   "source": [
    "eCar_df.dropna(inplace = True)"
   ]
  },
  {
   "cell_type": "code",
   "execution_count": 40,
   "metadata": {
    "collapsed": false
   },
   "outputs": [
    {
     "name": "stdout",
     "output_type": "stream",
     "text": [
      "<class 'pandas.core.frame.DataFrame'>\n",
      "Int64Index: 208077 entries, 0 to 208078\n",
      "Data columns (total 12 columns):\n",
      "﻿Tier               208077 non-null float64\n",
      "FICO                208077 non-null float64\n",
      "Approve Date        208077 non-null object\n",
      "Term                208077 non-null float64\n",
      "Amount              208077 non-null float64\n",
      "Previous Rate       208077 non-null object\n",
      "Car  Type           208077 non-null object\n",
      "Competition rate    208077 non-null float64\n",
      "Outcome             208077 non-null float64\n",
      "Rate                208077 non-null float64\n",
      "Cost of Funds       208077 non-null float64\n",
      "Partner Bin         208077 non-null float64\n",
      "dtypes: float64(9), object(3)\n",
      "memory usage: 20.6+ MB\n"
     ]
    }
   ],
   "source": [
    "eCar_df.info()"
   ]
  },
  {
   "cell_type": "code",
   "execution_count": 41,
   "metadata": {
    "collapsed": false
   },
   "outputs": [
    {
     "data": {
      "text/html": [
       "<div>\n",
       "<table border=\"1\" class=\"dataframe\">\n",
       "  <thead>\n",
       "    <tr style=\"text-align: right;\">\n",
       "      <th></th>\n",
       "      <th>﻿Tier</th>\n",
       "      <th>FICO</th>\n",
       "      <th>Approve Date</th>\n",
       "      <th>Term</th>\n",
       "      <th>Amount</th>\n",
       "      <th>Previous Rate</th>\n",
       "      <th>Car  Type</th>\n",
       "      <th>Competition rate</th>\n",
       "      <th>Outcome</th>\n",
       "      <th>Rate</th>\n",
       "      <th>Cost of Funds</th>\n",
       "      <th>Partner Bin</th>\n",
       "    </tr>\n",
       "  </thead>\n",
       "  <tbody>\n",
       "    <tr>\n",
       "      <th>0</th>\n",
       "      <td>3.0</td>\n",
       "      <td>695.0</td>\n",
       "      <td>7/1/02</td>\n",
       "      <td>72.0</td>\n",
       "      <td>35000.0</td>\n",
       "      <td></td>\n",
       "      <td>N</td>\n",
       "      <td>6.25</td>\n",
       "      <td>0.0</td>\n",
       "      <td>7.49</td>\n",
       "      <td>1.8388</td>\n",
       "      <td>1.0</td>\n",
       "    </tr>\n",
       "    <tr>\n",
       "      <th>1</th>\n",
       "      <td>1.0</td>\n",
       "      <td>751.0</td>\n",
       "      <td>7/1/02</td>\n",
       "      <td>60.0</td>\n",
       "      <td>40000.0</td>\n",
       "      <td></td>\n",
       "      <td>N</td>\n",
       "      <td>5.65</td>\n",
       "      <td>0.0</td>\n",
       "      <td>5.49</td>\n",
       "      <td>1.8388</td>\n",
       "      <td>3.0</td>\n",
       "    </tr>\n",
       "    <tr>\n",
       "      <th>2</th>\n",
       "      <td>1.0</td>\n",
       "      <td>731.0</td>\n",
       "      <td>7/1/02</td>\n",
       "      <td>60.0</td>\n",
       "      <td>18064.0</td>\n",
       "      <td></td>\n",
       "      <td>N</td>\n",
       "      <td>5.65</td>\n",
       "      <td>0.0</td>\n",
       "      <td>5.49</td>\n",
       "      <td>1.8388</td>\n",
       "      <td>3.0</td>\n",
       "    </tr>\n",
       "    <tr>\n",
       "      <th>3</th>\n",
       "      <td>4.0</td>\n",
       "      <td>652.0</td>\n",
       "      <td>7/1/02</td>\n",
       "      <td>72.0</td>\n",
       "      <td>15415.0</td>\n",
       "      <td></td>\n",
       "      <td>N</td>\n",
       "      <td>6.25</td>\n",
       "      <td>0.0</td>\n",
       "      <td>8.99</td>\n",
       "      <td>1.8388</td>\n",
       "      <td>3.0</td>\n",
       "    </tr>\n",
       "    <tr>\n",
       "      <th>4</th>\n",
       "      <td>1.0</td>\n",
       "      <td>730.0</td>\n",
       "      <td>7/1/02</td>\n",
       "      <td>48.0</td>\n",
       "      <td>32000.0</td>\n",
       "      <td></td>\n",
       "      <td>N</td>\n",
       "      <td>5.65</td>\n",
       "      <td>0.0</td>\n",
       "      <td>5.49</td>\n",
       "      <td>1.8388</td>\n",
       "      <td>1.0</td>\n",
       "    </tr>\n",
       "  </tbody>\n",
       "</table>\n",
       "</div>"
      ],
      "text/plain": [
       "   ﻿Tier   FICO Approve Date  Term   Amount Previous Rate Car  Type  \\\n",
       "0    3.0  695.0       7/1/02  72.0  35000.0                       N   \n",
       "1    1.0  751.0       7/1/02  60.0  40000.0                       N   \n",
       "2    1.0  731.0       7/1/02  60.0  18064.0                       N   \n",
       "3    4.0  652.0       7/1/02  72.0  15415.0                       N   \n",
       "4    1.0  730.0       7/1/02  48.0  32000.0                       N   \n",
       "\n",
       "   Competition rate  Outcome  Rate  Cost of Funds  Partner Bin  \n",
       "0              6.25      0.0  7.49         1.8388          1.0  \n",
       "1              5.65      0.0  5.49         1.8388          3.0  \n",
       "2              5.65      0.0  5.49         1.8388          3.0  \n",
       "3              6.25      0.0  8.99         1.8388          3.0  \n",
       "4              5.65      0.0  5.49         1.8388          1.0  "
      ]
     },
     "execution_count": 41,
     "metadata": {},
     "output_type": "execute_result"
    }
   ],
   "source": [
    "eCar_df.head()"
   ]
  },
  {
   "cell_type": "code",
   "execution_count": 37,
   "metadata": {
    "collapsed": true
   },
   "outputs": [],
   "source": [
    "#Have the user enter the cost of the loan, the interest rate, and\n",
    "#the number of years for the loan\n",
    "#Calculate monthly payments with the following formula\n",
    "# M = L[i(1+i)n] / [(1+i)n-1]\n",
    "# M = monthly payment\n",
    "# L = Loan amount\n",
    "# i = interest rate (for an interest rate of 5%, i = 0.05)\n",
    "# n = number of payments\n",
    "#________________________________________________________________________#\n",
    "#Start of program\n",
    "#Declare variables\n",
    "\n",
    "def calculate_monthly_loan_payments(loan_amount,interest_rate,number_payments): \n",
    "    #monthlypayment = 0  \n",
    "    #loanamount = loan_amount\n",
    "    #interestrate = interest_rate\n",
    "    #numberofpayments = number_payments  \n",
    "    #loandurationinyears = 0\n",
    "    #loanamount = raw_input(\"How much money will you borrow? \")\n",
    "    #interestrate = raw_input(\"What is the interest rate on the loan? \")\n",
    "    #loandurationinyears = raw_input(\"How many years will it take you to pay off the loan? \")\n",
    "    #Convert the strings into floating numbers so we can use them in the formula\n",
    "    #loandurationinyears = float(loandurationinyears)\n",
    "    #loanamount = float(loanamount)\n",
    "    #interestrate = float(interestrate)\n",
    "    #Since payments are once per month, number of payments is number of years for the loan\n",
    "    #numberofpayments = loandurationinyears*12\n",
    "    #calculate the monthly payment based on the formula\n",
    "    #monthly_payment = loan_amount * interest_rate * (1+ interest_rate) * number_payments / ((1 + interest_rate) * number_payments - 1)\n",
    "    #print(loan_amount,interest_rate,number_payments)\n",
    "    #Result to the program\n",
    "    monthly_payment = (loan_amount * (1 + interest_rate/100)**(number_payments/12))/number_payments\n",
    "    #print(\"Your monthly payment will be \" + str(monthlypayment))\n",
    "    return monthly_payment"
   ]
  },
  {
   "cell_type": "code",
   "execution_count": 34,
   "metadata": {
    "collapsed": false
   },
   "outputs": [
    {
     "name": "stdout",
     "output_type": "stream",
     "text": [
      "35000.0 7.49 72.0\n"
     ]
    },
    {
     "data": {
      "text/plain": [
       "749.79739155153641"
      ]
     },
     "execution_count": 34,
     "metadata": {},
     "output_type": "execute_result"
    }
   ],
   "source": [
    "calculate_monthly_loan_payments(eCar_df['Amount'].iloc[0],eCar_df['Rate'].iloc[0], eCar_df['Term'].iloc[0])"
   ]
  },
  {
   "cell_type": "code",
   "execution_count": 42,
   "metadata": {
    "collapsed": false
   },
   "outputs": [
    {
     "ename": "ValueError",
     "evalue": "Wrong number of items passed 12, placement implies 1",
     "output_type": "error",
     "traceback": [
      "\u001b[0;31m---------------------------------------------------------------------------\u001b[0m",
      "\u001b[0;31mKeyError\u001b[0m                                  Traceback (most recent call last)",
      "\u001b[0;32m//anaconda/lib/python3.5/site-packages/pandas/indexes/base.py\u001b[0m in \u001b[0;36mget_loc\u001b[0;34m(self, key, method, tolerance)\u001b[0m\n\u001b[1;32m   1944\u001b[0m             \u001b[0;32mtry\u001b[0m\u001b[0;34m:\u001b[0m\u001b[0;34m\u001b[0m\u001b[0m\n\u001b[0;32m-> 1945\u001b[0;31m                 \u001b[0;32mreturn\u001b[0m \u001b[0mself\u001b[0m\u001b[0;34m.\u001b[0m\u001b[0m_engine\u001b[0m\u001b[0;34m.\u001b[0m\u001b[0mget_loc\u001b[0m\u001b[0;34m(\u001b[0m\u001b[0mkey\u001b[0m\u001b[0;34m)\u001b[0m\u001b[0;34m\u001b[0m\u001b[0m\n\u001b[0m\u001b[1;32m   1946\u001b[0m             \u001b[0;32mexcept\u001b[0m \u001b[0mKeyError\u001b[0m\u001b[0;34m:\u001b[0m\u001b[0;34m\u001b[0m\u001b[0m\n",
      "\u001b[0;32mpandas/index.pyx\u001b[0m in \u001b[0;36mpandas.index.IndexEngine.get_loc (pandas/index.c:4154)\u001b[0;34m()\u001b[0m\n",
      "\u001b[0;32mpandas/index.pyx\u001b[0m in \u001b[0;36mpandas.index.IndexEngine.get_loc (pandas/index.c:4018)\u001b[0;34m()\u001b[0m\n",
      "\u001b[0;32mpandas/hashtable.pyx\u001b[0m in \u001b[0;36mpandas.hashtable.PyObjectHashTable.get_item (pandas/hashtable.c:12368)\u001b[0;34m()\u001b[0m\n",
      "\u001b[0;32mpandas/hashtable.pyx\u001b[0m in \u001b[0;36mpandas.hashtable.PyObjectHashTable.get_item (pandas/hashtable.c:12322)\u001b[0;34m()\u001b[0m\n",
      "\u001b[0;31mKeyError\u001b[0m: 'Monthly_Payment'",
      "\nDuring handling of the above exception, another exception occurred:\n",
      "\u001b[0;31mKeyError\u001b[0m                                  Traceback (most recent call last)",
      "\u001b[0;32m//anaconda/lib/python3.5/site-packages/pandas/core/internals.py\u001b[0m in \u001b[0;36mset\u001b[0;34m(self, item, value, check)\u001b[0m\n\u001b[1;32m   3414\u001b[0m         \u001b[0;32mtry\u001b[0m\u001b[0;34m:\u001b[0m\u001b[0;34m\u001b[0m\u001b[0m\n\u001b[0;32m-> 3415\u001b[0;31m             \u001b[0mloc\u001b[0m \u001b[0;34m=\u001b[0m \u001b[0mself\u001b[0m\u001b[0;34m.\u001b[0m\u001b[0mitems\u001b[0m\u001b[0;34m.\u001b[0m\u001b[0mget_loc\u001b[0m\u001b[0;34m(\u001b[0m\u001b[0mitem\u001b[0m\u001b[0;34m)\u001b[0m\u001b[0;34m\u001b[0m\u001b[0m\n\u001b[0m\u001b[1;32m   3416\u001b[0m         \u001b[0;32mexcept\u001b[0m \u001b[0mKeyError\u001b[0m\u001b[0;34m:\u001b[0m\u001b[0;34m\u001b[0m\u001b[0m\n",
      "\u001b[0;32m//anaconda/lib/python3.5/site-packages/pandas/indexes/base.py\u001b[0m in \u001b[0;36mget_loc\u001b[0;34m(self, key, method, tolerance)\u001b[0m\n\u001b[1;32m   1946\u001b[0m             \u001b[0;32mexcept\u001b[0m \u001b[0mKeyError\u001b[0m\u001b[0;34m:\u001b[0m\u001b[0;34m\u001b[0m\u001b[0m\n\u001b[0;32m-> 1947\u001b[0;31m                 \u001b[0;32mreturn\u001b[0m \u001b[0mself\u001b[0m\u001b[0;34m.\u001b[0m\u001b[0m_engine\u001b[0m\u001b[0;34m.\u001b[0m\u001b[0mget_loc\u001b[0m\u001b[0;34m(\u001b[0m\u001b[0mself\u001b[0m\u001b[0;34m.\u001b[0m\u001b[0m_maybe_cast_indexer\u001b[0m\u001b[0;34m(\u001b[0m\u001b[0mkey\u001b[0m\u001b[0;34m)\u001b[0m\u001b[0;34m)\u001b[0m\u001b[0;34m\u001b[0m\u001b[0m\n\u001b[0m\u001b[1;32m   1948\u001b[0m \u001b[0;34m\u001b[0m\u001b[0m\n",
      "\u001b[0;32mpandas/index.pyx\u001b[0m in \u001b[0;36mpandas.index.IndexEngine.get_loc (pandas/index.c:4154)\u001b[0;34m()\u001b[0m\n",
      "\u001b[0;32mpandas/index.pyx\u001b[0m in \u001b[0;36mpandas.index.IndexEngine.get_loc (pandas/index.c:4018)\u001b[0;34m()\u001b[0m\n",
      "\u001b[0;32mpandas/hashtable.pyx\u001b[0m in \u001b[0;36mpandas.hashtable.PyObjectHashTable.get_item (pandas/hashtable.c:12368)\u001b[0;34m()\u001b[0m\n",
      "\u001b[0;32mpandas/hashtable.pyx\u001b[0m in \u001b[0;36mpandas.hashtable.PyObjectHashTable.get_item (pandas/hashtable.c:12322)\u001b[0;34m()\u001b[0m\n",
      "\u001b[0;31mKeyError\u001b[0m: 'Monthly_Payment'",
      "\nDuring handling of the above exception, another exception occurred:\n",
      "\u001b[0;31mValueError\u001b[0m                                Traceback (most recent call last)",
      "\u001b[0;32m<ipython-input-42-19307503ee6d>\u001b[0m in \u001b[0;36m<module>\u001b[0;34m()\u001b[0m\n\u001b[0;32m----> 1\u001b[0;31m \u001b[0meCar_df\u001b[0m\u001b[0;34m[\u001b[0m\u001b[0;34m'Monthly_Payment'\u001b[0m\u001b[0;34m]\u001b[0m \u001b[0;34m=\u001b[0m \u001b[0meCar_df\u001b[0m\u001b[0;34m.\u001b[0m\u001b[0mapply\u001b[0m\u001b[0;34m(\u001b[0m\u001b[0;32mlambda\u001b[0m \u001b[0mx\u001b[0m\u001b[0;34m:\u001b[0m \u001b[0mcalculate_monthly_loan_payments\u001b[0m\u001b[0;34m(\u001b[0m\u001b[0meCar_df\u001b[0m\u001b[0;34m.\u001b[0m\u001b[0mAmount\u001b[0m\u001b[0;34m,\u001b[0m\u001b[0meCar_df\u001b[0m\u001b[0;34m.\u001b[0m\u001b[0mRate\u001b[0m\u001b[0;34m,\u001b[0m\u001b[0meCar_df\u001b[0m\u001b[0;34m.\u001b[0m\u001b[0mTerm\u001b[0m\u001b[0;34m)\u001b[0m\u001b[0;34m)\u001b[0m\u001b[0;34m\u001b[0m\u001b[0m\n\u001b[0m",
      "\u001b[0;32m//anaconda/lib/python3.5/site-packages/pandas/core/frame.py\u001b[0m in \u001b[0;36m__setitem__\u001b[0;34m(self, key, value)\u001b[0m\n\u001b[1;32m   2355\u001b[0m         \u001b[0;32melse\u001b[0m\u001b[0;34m:\u001b[0m\u001b[0;34m\u001b[0m\u001b[0m\n\u001b[1;32m   2356\u001b[0m             \u001b[0;31m# set column\u001b[0m\u001b[0;34m\u001b[0m\u001b[0;34m\u001b[0m\u001b[0m\n\u001b[0;32m-> 2357\u001b[0;31m             \u001b[0mself\u001b[0m\u001b[0;34m.\u001b[0m\u001b[0m_set_item\u001b[0m\u001b[0;34m(\u001b[0m\u001b[0mkey\u001b[0m\u001b[0;34m,\u001b[0m \u001b[0mvalue\u001b[0m\u001b[0;34m)\u001b[0m\u001b[0;34m\u001b[0m\u001b[0m\n\u001b[0m\u001b[1;32m   2358\u001b[0m \u001b[0;34m\u001b[0m\u001b[0m\n\u001b[1;32m   2359\u001b[0m     \u001b[0;32mdef\u001b[0m \u001b[0m_setitem_slice\u001b[0m\u001b[0;34m(\u001b[0m\u001b[0mself\u001b[0m\u001b[0;34m,\u001b[0m \u001b[0mkey\u001b[0m\u001b[0;34m,\u001b[0m \u001b[0mvalue\u001b[0m\u001b[0;34m)\u001b[0m\u001b[0;34m:\u001b[0m\u001b[0;34m\u001b[0m\u001b[0m\n",
      "\u001b[0;32m//anaconda/lib/python3.5/site-packages/pandas/core/frame.py\u001b[0m in \u001b[0;36m_set_item\u001b[0;34m(self, key, value)\u001b[0m\n\u001b[1;32m   2422\u001b[0m         \u001b[0mself\u001b[0m\u001b[0;34m.\u001b[0m\u001b[0m_ensure_valid_index\u001b[0m\u001b[0;34m(\u001b[0m\u001b[0mvalue\u001b[0m\u001b[0;34m)\u001b[0m\u001b[0;34m\u001b[0m\u001b[0m\n\u001b[1;32m   2423\u001b[0m         \u001b[0mvalue\u001b[0m \u001b[0;34m=\u001b[0m \u001b[0mself\u001b[0m\u001b[0;34m.\u001b[0m\u001b[0m_sanitize_column\u001b[0m\u001b[0;34m(\u001b[0m\u001b[0mkey\u001b[0m\u001b[0;34m,\u001b[0m \u001b[0mvalue\u001b[0m\u001b[0;34m)\u001b[0m\u001b[0;34m\u001b[0m\u001b[0m\n\u001b[0;32m-> 2424\u001b[0;31m         \u001b[0mNDFrame\u001b[0m\u001b[0;34m.\u001b[0m\u001b[0m_set_item\u001b[0m\u001b[0;34m(\u001b[0m\u001b[0mself\u001b[0m\u001b[0;34m,\u001b[0m \u001b[0mkey\u001b[0m\u001b[0;34m,\u001b[0m \u001b[0mvalue\u001b[0m\u001b[0;34m)\u001b[0m\u001b[0;34m\u001b[0m\u001b[0m\n\u001b[0m\u001b[1;32m   2425\u001b[0m \u001b[0;34m\u001b[0m\u001b[0m\n\u001b[1;32m   2426\u001b[0m         \u001b[0;31m# check if we are modifying a copy\u001b[0m\u001b[0;34m\u001b[0m\u001b[0;34m\u001b[0m\u001b[0m\n",
      "\u001b[0;32m//anaconda/lib/python3.5/site-packages/pandas/core/generic.py\u001b[0m in \u001b[0;36m_set_item\u001b[0;34m(self, key, value)\u001b[0m\n\u001b[1;32m   1462\u001b[0m \u001b[0;34m\u001b[0m\u001b[0m\n\u001b[1;32m   1463\u001b[0m     \u001b[0;32mdef\u001b[0m \u001b[0m_set_item\u001b[0m\u001b[0;34m(\u001b[0m\u001b[0mself\u001b[0m\u001b[0;34m,\u001b[0m \u001b[0mkey\u001b[0m\u001b[0;34m,\u001b[0m \u001b[0mvalue\u001b[0m\u001b[0;34m)\u001b[0m\u001b[0;34m:\u001b[0m\u001b[0;34m\u001b[0m\u001b[0m\n\u001b[0;32m-> 1464\u001b[0;31m         \u001b[0mself\u001b[0m\u001b[0;34m.\u001b[0m\u001b[0m_data\u001b[0m\u001b[0;34m.\u001b[0m\u001b[0mset\u001b[0m\u001b[0;34m(\u001b[0m\u001b[0mkey\u001b[0m\u001b[0;34m,\u001b[0m \u001b[0mvalue\u001b[0m\u001b[0;34m)\u001b[0m\u001b[0;34m\u001b[0m\u001b[0m\n\u001b[0m\u001b[1;32m   1465\u001b[0m         \u001b[0mself\u001b[0m\u001b[0;34m.\u001b[0m\u001b[0m_clear_item_cache\u001b[0m\u001b[0;34m(\u001b[0m\u001b[0;34m)\u001b[0m\u001b[0;34m\u001b[0m\u001b[0m\n\u001b[1;32m   1466\u001b[0m \u001b[0;34m\u001b[0m\u001b[0m\n",
      "\u001b[0;32m//anaconda/lib/python3.5/site-packages/pandas/core/internals.py\u001b[0m in \u001b[0;36mset\u001b[0;34m(self, item, value, check)\u001b[0m\n\u001b[1;32m   3416\u001b[0m         \u001b[0;32mexcept\u001b[0m \u001b[0mKeyError\u001b[0m\u001b[0;34m:\u001b[0m\u001b[0;34m\u001b[0m\u001b[0m\n\u001b[1;32m   3417\u001b[0m             \u001b[0;31m# This item wasn't present, just insert at end\u001b[0m\u001b[0;34m\u001b[0m\u001b[0;34m\u001b[0m\u001b[0m\n\u001b[0;32m-> 3418\u001b[0;31m             \u001b[0mself\u001b[0m\u001b[0;34m.\u001b[0m\u001b[0minsert\u001b[0m\u001b[0;34m(\u001b[0m\u001b[0mlen\u001b[0m\u001b[0;34m(\u001b[0m\u001b[0mself\u001b[0m\u001b[0;34m.\u001b[0m\u001b[0mitems\u001b[0m\u001b[0;34m)\u001b[0m\u001b[0;34m,\u001b[0m \u001b[0mitem\u001b[0m\u001b[0;34m,\u001b[0m \u001b[0mvalue\u001b[0m\u001b[0;34m)\u001b[0m\u001b[0;34m\u001b[0m\u001b[0m\n\u001b[0m\u001b[1;32m   3419\u001b[0m             \u001b[0;32mreturn\u001b[0m\u001b[0;34m\u001b[0m\u001b[0m\n\u001b[1;32m   3420\u001b[0m \u001b[0;34m\u001b[0m\u001b[0m\n",
      "\u001b[0;32m//anaconda/lib/python3.5/site-packages/pandas/core/internals.py\u001b[0m in \u001b[0;36minsert\u001b[0;34m(self, loc, item, value, allow_duplicates)\u001b[0m\n\u001b[1;32m   3517\u001b[0m \u001b[0;34m\u001b[0m\u001b[0m\n\u001b[1;32m   3518\u001b[0m         block = make_block(values=value, ndim=self.ndim,\n\u001b[0;32m-> 3519\u001b[0;31m                            placement=slice(loc, loc + 1))\n\u001b[0m\u001b[1;32m   3520\u001b[0m \u001b[0;34m\u001b[0m\u001b[0m\n\u001b[1;32m   3521\u001b[0m         \u001b[0;32mfor\u001b[0m \u001b[0mblkno\u001b[0m\u001b[0;34m,\u001b[0m \u001b[0mcount\u001b[0m \u001b[0;32min\u001b[0m \u001b[0m_fast_count_smallints\u001b[0m\u001b[0;34m(\u001b[0m\u001b[0mself\u001b[0m\u001b[0;34m.\u001b[0m\u001b[0m_blknos\u001b[0m\u001b[0;34m[\u001b[0m\u001b[0mloc\u001b[0m\u001b[0;34m:\u001b[0m\u001b[0;34m]\u001b[0m\u001b[0;34m)\u001b[0m\u001b[0;34m:\u001b[0m\u001b[0;34m\u001b[0m\u001b[0m\n",
      "\u001b[0;32m//anaconda/lib/python3.5/site-packages/pandas/core/internals.py\u001b[0m in \u001b[0;36mmake_block\u001b[0;34m(values, placement, klass, ndim, dtype, fastpath)\u001b[0m\n\u001b[1;32m   2516\u001b[0m                      placement=placement, dtype=dtype)\n\u001b[1;32m   2517\u001b[0m \u001b[0;34m\u001b[0m\u001b[0m\n\u001b[0;32m-> 2518\u001b[0;31m     \u001b[0;32mreturn\u001b[0m \u001b[0mklass\u001b[0m\u001b[0;34m(\u001b[0m\u001b[0mvalues\u001b[0m\u001b[0;34m,\u001b[0m \u001b[0mndim\u001b[0m\u001b[0;34m=\u001b[0m\u001b[0mndim\u001b[0m\u001b[0;34m,\u001b[0m \u001b[0mfastpath\u001b[0m\u001b[0;34m=\u001b[0m\u001b[0mfastpath\u001b[0m\u001b[0;34m,\u001b[0m \u001b[0mplacement\u001b[0m\u001b[0;34m=\u001b[0m\u001b[0mplacement\u001b[0m\u001b[0;34m)\u001b[0m\u001b[0;34m\u001b[0m\u001b[0m\n\u001b[0m\u001b[1;32m   2519\u001b[0m \u001b[0;34m\u001b[0m\u001b[0m\n\u001b[1;32m   2520\u001b[0m \u001b[0;31m# TODO: flexible with index=None and/or items=None\u001b[0m\u001b[0;34m\u001b[0m\u001b[0;34m\u001b[0m\u001b[0m\n",
      "\u001b[0;32m//anaconda/lib/python3.5/site-packages/pandas/core/internals.py\u001b[0m in \u001b[0;36m__init__\u001b[0;34m(self, values, placement, ndim, fastpath)\u001b[0m\n\u001b[1;32m     88\u001b[0m             raise ValueError('Wrong number of items passed %d, placement '\n\u001b[1;32m     89\u001b[0m                              'implies %d' % (len(self.values),\n\u001b[0;32m---> 90\u001b[0;31m                                              len(self.mgr_locs)))\n\u001b[0m\u001b[1;32m     91\u001b[0m \u001b[0;34m\u001b[0m\u001b[0m\n\u001b[1;32m     92\u001b[0m     \u001b[0;34m@\u001b[0m\u001b[0mproperty\u001b[0m\u001b[0;34m\u001b[0m\u001b[0m\n",
      "\u001b[0;31mValueError\u001b[0m: Wrong number of items passed 12, placement implies 1"
     ]
    }
   ],
   "source": [
    "eCar_df['Monthly_Payment'] = eCar_df.apply(lambda x: calculate_monthly_loan_payments(eCar_df.Amount,eCar_df.Rate,eCar_df.Term))"
   ]
  },
  {
   "cell_type": "code",
   "execution_count": 44,
   "metadata": {
    "collapsed": false
   },
   "outputs": [
    {
     "data": {
      "text/html": [
       "<div>\n",
       "<table border=\"1\" class=\"dataframe\">\n",
       "  <thead>\n",
       "    <tr style=\"text-align: right;\">\n",
       "      <th></th>\n",
       "      <th>﻿Tier</th>\n",
       "      <th>FICO</th>\n",
       "      <th>Approve Date</th>\n",
       "      <th>Term</th>\n",
       "      <th>Amount</th>\n",
       "      <th>Previous Rate</th>\n",
       "      <th>Car  Type</th>\n",
       "      <th>Competition rate</th>\n",
       "      <th>Outcome</th>\n",
       "      <th>Rate</th>\n",
       "      <th>Cost of Funds</th>\n",
       "      <th>Partner Bin</th>\n",
       "    </tr>\n",
       "  </thead>\n",
       "  <tbody>\n",
       "    <tr>\n",
       "      <th>208072</th>\n",
       "      <td>1.0</td>\n",
       "      <td>777.0</td>\n",
       "      <td>11/16/04</td>\n",
       "      <td>48.0</td>\n",
       "      <td>35000.0</td>\n",
       "      <td></td>\n",
       "      <td>N</td>\n",
       "      <td>4.45</td>\n",
       "      <td>0.0</td>\n",
       "      <td>4.45</td>\n",
       "      <td>2.127</td>\n",
       "      <td>3.0</td>\n",
       "    </tr>\n",
       "    <tr>\n",
       "      <th>208073</th>\n",
       "      <td>1.0</td>\n",
       "      <td>790.0</td>\n",
       "      <td>11/16/04</td>\n",
       "      <td>60.0</td>\n",
       "      <td>25000.0</td>\n",
       "      <td></td>\n",
       "      <td>N</td>\n",
       "      <td>4.45</td>\n",
       "      <td>0.0</td>\n",
       "      <td>4.45</td>\n",
       "      <td>2.127</td>\n",
       "      <td>3.0</td>\n",
       "    </tr>\n",
       "    <tr>\n",
       "      <th>208074</th>\n",
       "      <td>4.0</td>\n",
       "      <td>663.0</td>\n",
       "      <td>11/16/04</td>\n",
       "      <td>60.0</td>\n",
       "      <td>31800.0</td>\n",
       "      <td></td>\n",
       "      <td>N</td>\n",
       "      <td>4.45</td>\n",
       "      <td>0.0</td>\n",
       "      <td>10.85</td>\n",
       "      <td>2.127</td>\n",
       "      <td>3.0</td>\n",
       "    </tr>\n",
       "    <tr>\n",
       "      <th>208075</th>\n",
       "      <td>1.0</td>\n",
       "      <td>742.0</td>\n",
       "      <td>11/16/04</td>\n",
       "      <td>60.0</td>\n",
       "      <td>33000.0</td>\n",
       "      <td></td>\n",
       "      <td>N</td>\n",
       "      <td>4.45</td>\n",
       "      <td>0.0</td>\n",
       "      <td>4.45</td>\n",
       "      <td>2.127</td>\n",
       "      <td>1.0</td>\n",
       "    </tr>\n",
       "    <tr>\n",
       "      <th>208078</th>\n",
       "      <td>3.0</td>\n",
       "      <td>685.0</td>\n",
       "      <td>11/16/04</td>\n",
       "      <td>60.0</td>\n",
       "      <td>20022.0</td>\n",
       "      <td>8</td>\n",
       "      <td>R</td>\n",
       "      <td>5.55</td>\n",
       "      <td>0.0</td>\n",
       "      <td>6.53</td>\n",
       "      <td>2.127</td>\n",
       "      <td>3.0</td>\n",
       "    </tr>\n",
       "  </tbody>\n",
       "</table>\n",
       "</div>"
      ],
      "text/plain": [
       "        ﻿Tier   FICO Approve Date  Term   Amount Previous Rate Car  Type  \\\n",
       "208072    1.0  777.0     11/16/04  48.0  35000.0                       N   \n",
       "208073    1.0  790.0     11/16/04  60.0  25000.0                       N   \n",
       "208074    4.0  663.0     11/16/04  60.0  31800.0                       N   \n",
       "208075    1.0  742.0     11/16/04  60.0  33000.0                       N   \n",
       "208078    3.0  685.0     11/16/04  60.0  20022.0             8         R   \n",
       "\n",
       "        Competition rate  Outcome   Rate  Cost of Funds  Partner Bin  \n",
       "208072              4.45      0.0   4.45          2.127          3.0  \n",
       "208073              4.45      0.0   4.45          2.127          3.0  \n",
       "208074              4.45      0.0  10.85          2.127          3.0  \n",
       "208075              4.45      0.0   4.45          2.127          1.0  \n",
       "208078              5.55      0.0   6.53          2.127          3.0  "
      ]
     },
     "execution_count": 44,
     "metadata": {},
     "output_type": "execute_result"
    }
   ],
   "source": [
    "eCar_df.tail()"
   ]
  },
  {
   "cell_type": "code",
   "execution_count": null,
   "metadata": {
    "collapsed": true
   },
   "outputs": [],
   "source": []
  }
 ],
 "metadata": {
  "anaconda-cloud": {},
  "kernelspec": {
   "display_name": "Python [Root]",
   "language": "python",
   "name": "Python [Root]"
  },
  "language_info": {
   "codemirror_mode": {
    "name": "ipython",
    "version": 3
   },
   "file_extension": ".py",
   "mimetype": "text/x-python",
   "name": "python",
   "nbconvert_exporter": "python",
   "pygments_lexer": "ipython3",
   "version": "3.5.2"
  }
 },
 "nbformat": 4,
 "nbformat_minor": 0
}
