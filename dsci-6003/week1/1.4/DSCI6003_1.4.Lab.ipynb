{
 "cells": [
  {
   "cell_type": "markdown",
   "metadata": {},
   "source": [
    "# DSCI 6003 1.4 Lab\n",
    "\n",
    "Today you are to solve a dynamic programming problem from scratch: [Interviewcake #16](https://www.interviewcake.com/question/java/cake-thief)\n",
    "\n",
    "Repeated below:\n",
    "\n",
    "You are a renowned thief who has recently switched from stealing precious metals to stealing cakes because of the insane profit margins. You end up hitting the jackpot, breaking into the world's largest privately owned stock of cakes—the vault of the Queen of England.\n",
    "While Queen Elizabeth has a limited number of types of cake, she has an unlimited supply of each type.\n",
    "\n",
    "Each type of cake has a weight and a value, stored in objects of a CakeType class:\n",
    "\n",
    "    class CakeType:\n",
    "        def __init__(self, typename, weight, value):\n",
    "            self.typename = typename\n",
    "            self.weight = weight\n",
    "            self.value = value\n",
    "\n",
    "i.e. cake1 = CakeType(chocolate, 3, 50)\n",
    "\n",
    "Begin by diagramming the solution and drawing a paralell to other problems we have discussed in class. Work through the solution step by step without drilling through the internet. You might consider a simpler problem first.\n",
    "\n",
    "Good luck. "
   ]
  },
  {
   "cell_type": "code",
   "execution_count": null,
   "metadata": {
    "collapsed": true
   },
   "outputs": [],
   "source": []
  }
 ],
 "metadata": {
  "kernelspec": {
   "display_name": "Python 2",
   "language": "python",
   "name": "python2"
  },
  "language_info": {
   "codemirror_mode": {
    "name": "ipython",
    "version": 2
   },
   "file_extension": ".py",
   "mimetype": "text/x-python",
   "name": "python",
   "nbconvert_exporter": "python",
   "pygments_lexer": "ipython2",
   "version": "2.7.10"
  }
 },
 "nbformat": 4,
 "nbformat_minor": 0
}
