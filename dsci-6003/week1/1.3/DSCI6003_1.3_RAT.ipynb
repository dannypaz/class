{
 "cells": [
  {
   "cell_type": "markdown",
   "metadata": {},
   "source": [
    "##RAT 1.3"
   ]
  },
  {
   "cell_type": "markdown",
   "metadata": {},
   "source": [
    "Give a counterexample that shows why this intuitive implementation of union() for quick-find is not correct:\n",
    "\n",
    "```\n",
    "def union(p, q):\n",
    "    if connected(p, q):\n",
    "        return None;\n",
    "    for i in xrange(0, len(id)):\n",
    "        if id[i] == id[p]:\n",
    "             id[i] = id[q]\n",
    "```"
   ]
  },
  {
   "cell_type": "code",
   "execution_count": null,
   "metadata": {
    "collapsed": true
   },
   "outputs": [],
   "source": []
  }
 ],
 "metadata": {
  "kernelspec": {
   "display_name": "Python 2",
   "language": "python",
   "name": "python2"
  },
  "language_info": {
   "codemirror_mode": {
    "name": "ipython",
    "version": 2
   },
   "file_extension": ".py",
   "mimetype": "text/x-python",
   "name": "python",
   "nbconvert_exporter": "python",
   "pygments_lexer": "ipython2",
   "version": "2.7.11"
  }
 },
 "nbformat": 4,
 "nbformat_minor": 0
}
