{
 "cells": [
  {
   "cell_type": "markdown",
   "metadata": {},
   "source": [
    "##RAT 5.1\n",
    "\n",
    "1.What is A/B testing? How is it different from usual Hypothesis testing?"
   ]
  },
  {
   "cell_type": "markdown",
   "metadata": {},
   "source": [
    "2.You are testing a new version of your website. You randomly partition your users into 2 groups. Group A continues to get the old version of the website. Group B gets the new version of the website. You would like to maximize the number of registrations. These are the results you get:\n",
    "\n",
    "    | Group | Viewers | Registrations |\n",
    "    | ----- | ------- | ------------- |\n",
    "    |     A |     612 |           103 |\n",
    "    |     B |     595 |           144 |\n",
    "\n",
    "Can we say with confidence that the new version of the website is better?"
   ]
  },
  {
   "cell_type": "code",
   "execution_count": null,
   "metadata": {
    "collapsed": true
   },
   "outputs": [],
   "source": []
  }
 ],
 "metadata": {
  "kernelspec": {
   "display_name": "Python 2",
   "language": "python",
   "name": "python2"
  },
  "language_info": {
   "codemirror_mode": {
    "name": "ipython",
    "version": 2
   },
   "file_extension": ".py",
   "mimetype": "text/x-python",
   "name": "python",
   "nbconvert_exporter": "python",
   "pygments_lexer": "ipython2",
   "version": "2.7.11"
  }
 },
 "nbformat": 4,
 "nbformat_minor": 0
}
