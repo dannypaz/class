{
 "cells": [
  {
   "cell_type": "raw",
   "metadata": {},
   "source": [
    "RAT 4.4 What is bootstrap sampling? If you can't use the Central Limit Theorem to estimate a population parameter, how would you use bootstrap sampling to? How is it used to construct a bagged forest model? How does it change the bias-variance tradeoff as compared to single decision trees?"
   ]
  }
 ],
 "metadata": {
  "kernelspec": {
   "display_name": "Python 2",
   "language": "python",
   "name": "python2"
  },
  "language_info": {
   "codemirror_mode": {
    "name": "ipython",
    "version": 2
   },
   "file_extension": ".py",
   "mimetype": "text/x-python",
   "name": "python",
   "nbconvert_exporter": "python",
   "pygments_lexer": "ipython2",
   "version": "2.7.10"
  }
 },
 "nbformat": 4,
 "nbformat_minor": 0
}
