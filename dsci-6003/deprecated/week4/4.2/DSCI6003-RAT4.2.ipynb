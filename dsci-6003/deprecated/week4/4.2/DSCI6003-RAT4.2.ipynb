{
 "cells": [
  {
   "cell_type": "raw",
   "metadata": {},
   "source": [
    "RAT 4.2 A Decision tree typically partitions the feature space into disjoint pieces using recursive binary splitting. What do these pieces look like? In the regression case, how does a decision tree predict the value of the response variable given a new observation using these pieces? In the classification case, how does it predict the label of a new observation? Decision trees are typically prone to overfitting or underfitting?"
   ]
  }
 ],
 "metadata": {
  "kernelspec": {
   "display_name": "Python 2",
   "language": "python",
   "name": "python2"
  },
  "language_info": {
   "codemirror_mode": {
    "name": "ipython",
    "version": 2
   },
   "file_extension": ".py",
   "mimetype": "text/x-python",
   "name": "python",
   "nbconvert_exporter": "python",
   "pygments_lexer": "ipython2",
   "version": "2.7.10"
  }
 },
 "nbformat": 4,
 "nbformat_minor": 0
}
