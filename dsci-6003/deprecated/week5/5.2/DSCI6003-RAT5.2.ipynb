{
 "cells": [
  {
   "cell_type": "raw",
   "metadata": {},
   "source": [
    "RAT 5.2\n",
    "In terms of the Bias-Variance tradeoff, what does pruning a tree do? What does bagging do? How is a random forest different from a bagged ensemble of trees? How does it handle the bias-variance tradeoff compared to bagging?\n",
    "\n",
    "What is your favorite color for bunnies?"
   ]
  }
 ],
 "metadata": {
  "kernelspec": {
   "display_name": "Python 2",
   "language": "python",
   "name": "python2"
  },
  "language_info": {
   "codemirror_mode": {
    "name": "ipython",
    "version": 2
   },
   "file_extension": ".py",
   "mimetype": "text/x-python",
   "name": "python",
   "nbconvert_exporter": "python",
   "pygments_lexer": "ipython2",
   "version": "2.7.10"
  }
 },
 "nbformat": 4,
 "nbformat_minor": 0
}
