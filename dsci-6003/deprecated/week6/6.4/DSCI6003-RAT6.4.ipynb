{
 "cells": [
  {
   "cell_type": "markdown",
   "metadata": {},
   "source": [
    "RAT 6.4\n",
    "\n",
    "What is a multivariate Gaussian distribution?\n",
    "\n",
    "What does it mean when a dataset modeled as a mixture of Gaussians? Is this different from when the dataset is modeled using k-means clustering? Roughly speaking, what do clusters look like in 2 dimensional space, using a mixture of Gaussians, and using k-means clustering?\n",
    "\n",
    "How does the expectation maximization paradigm recast an MLE method that is useful for a supervised learning problem into something useful for unsupervised learning (\"soft clustering\")?\n",
    "\n",
    "---\n",
    "\n",
    "Recursion:\n",
    "Give the recursive definition of a Binary Search Tree.\n",
    "Write a recursive function definition for function search(root, key) in Python that takes the root of a binary search tree and a key and returns the root of the subtree of root containing key, or raises a KeyError.\n",
    "\n",
    "What are the performance guarantees on the search function?"
   ]
  },
  {
   "cell_type": "code",
   "execution_count": null,
   "metadata": {
    "collapsed": true
   },
   "outputs": [],
   "source": []
  }
 ],
 "metadata": {
  "kernelspec": {
   "display_name": "Python 2",
   "language": "python",
   "name": "python2"
  },
  "language_info": {
   "codemirror_mode": {
    "name": "ipython",
    "version": 2
   },
   "file_extension": ".py",
   "mimetype": "text/x-python",
   "name": "python",
   "nbconvert_exporter": "python",
   "pygments_lexer": "ipython2",
   "version": "2.7.10"
  }
 },
 "nbformat": 4,
 "nbformat_minor": 0
}
