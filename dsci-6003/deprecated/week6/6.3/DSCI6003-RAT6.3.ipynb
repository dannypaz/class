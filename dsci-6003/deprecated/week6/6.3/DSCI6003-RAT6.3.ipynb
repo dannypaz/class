{
 "cells": [
  {
   "cell_type": "raw",
   "metadata": {},
   "source": [
    "RAT 6.3\n",
    "Does k-means suffer from the curse of dimensionality? If it did, what would that mean in the context of an unsupervised learning problem? What are other methods of clustering for use with high-dimensional data?\n",
    "\n",
    "What was your favorite company that presented on Tues? Why?"
   ]
  },
  {
   "cell_type": "code",
   "execution_count": null,
   "metadata": {
    "collapsed": true
   },
   "outputs": [],
   "source": []
  }
 ],
 "metadata": {
  "kernelspec": {
   "display_name": "Python 2",
   "language": "python",
   "name": "python2"
  },
  "language_info": {
   "codemirror_mode": {
    "name": "ipython",
    "version": 2
   },
   "file_extension": ".py",
   "mimetype": "text/x-python",
   "name": "python",
   "nbconvert_exporter": "python",
   "pygments_lexer": "ipython2",
   "version": "2.7.10"
  }
 },
 "nbformat": 4,
 "nbformat_minor": 0
}
