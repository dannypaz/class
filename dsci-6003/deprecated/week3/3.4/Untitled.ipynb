{
 "cells": [
  {
   "cell_type": "markdown",
   "metadata": {},
   "source": [
    "$$\\nabla_{\\beta}\\Lambda(x,y,\\alpha) = \\beta+\\sum_{i=0}^{n}\\alpha_{i}\\ (-y_i(x_{i})) = 0$$\n"
   ]
  },
  {
   "cell_type": "markdown",
   "metadata": {},
   "source": [
    "$$\\nabla_{\\alpha}\\Lambda(x,y,\\alpha) = \\sum_{i=0}^{n}(1-y_i(\\beta_0 + \\beta^{T}x_{i}))$$\n"
   ]
  },
  {
   "cell_type": "markdown",
   "metadata": {},
   "source": [
    "$$\\nabla_{x}\\Lambda(x,y,\\alpha) = \\sum_{i=0}^{n}-\\alpha_{i}\\ y_{i}\\ \\beta_{i}$$\n"
   ]
  },
  {
   "cell_type": "markdown",
   "metadata": {},
   "source": [
    "$$\\nabla_{y}\\Lambda(x,y,\\alpha) = \\sum_{i=0}^{n}\\alpha_{i} \\beta^{T}x_{i}$$\n"
   ]
  },
  {
   "cell_type": "code",
   "execution_count": null,
   "metadata": {
    "collapsed": true
   },
   "outputs": [],
   "source": []
  }
 ],
 "metadata": {
  "kernelspec": {
   "display_name": "Python 2",
   "language": "python",
   "name": "python2"
  },
  "language_info": {
   "codemirror_mode": {
    "name": "ipython",
    "version": 2
   },
   "file_extension": ".py",
   "mimetype": "text/x-python",
   "name": "python",
   "nbconvert_exporter": "python",
   "pygments_lexer": "ipython2",
   "version": "2.7.9"
  }
 },
 "nbformat": 4,
 "nbformat_minor": 0
}
