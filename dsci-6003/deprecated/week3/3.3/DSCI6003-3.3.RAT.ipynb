{
 "cells": [
  {
   "cell_type": "markdown",
   "metadata": {},
   "source": [
    "#DSCI 6003 3.3 RAT\n",
    "\n",
    "1. How do you create a subclass in Python?\n",
    "2. Suppose I only have the first 4 of 6 BLUE assumptions. Should I regularize?\n",
    "3. Suppose we are comparing the edges of a squid diagram of a Lasso Regression vs. Ridge. What do they look like and why?"
   ]
  },
  {
   "cell_type": "code",
   "execution_count": null,
   "metadata": {
    "collapsed": true
   },
   "outputs": [],
   "source": []
  }
 ],
 "metadata": {
  "kernelspec": {
   "display_name": "Python 2",
   "language": "python",
   "name": "python2"
  },
  "language_info": {
   "codemirror_mode": {
    "name": "ipython",
    "version": 2
   },
   "file_extension": ".py",
   "mimetype": "text/x-python",
   "name": "python",
   "nbconvert_exporter": "python",
   "pygments_lexer": "ipython2",
   "version": "2.7.10"
  }
 },
 "nbformat": 4,
 "nbformat_minor": 0
}
