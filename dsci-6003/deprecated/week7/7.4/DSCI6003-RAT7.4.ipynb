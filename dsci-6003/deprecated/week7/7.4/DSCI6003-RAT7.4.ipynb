{
 "cells": [
  {
   "cell_type": "markdown",
   "metadata": {},
   "source": [
    "### RAT 7.4\n",
    "What is a sampling distribution?\n",
    "What does the Central Limit theorem say about a sampling distribution of means? of proportions? of differences?\n",
    "\n",
    "In practice, what are the assumptions on the use of the Z-test in a hypothesis test?\n",
    "\n",
    "In the absense of the Central Limit Theorem, what can you do to computationally do a hypothesis test?\n",
    "\n",
    "What are Type I and Type II errors?\n",
    "\n",
    "Programming:\n",
    "What is a regular expression?\n",
    "\n",
    "How is, roughly speaking, Python's dictionary implemented? What are the performance guarantees on its operations?\n",
    "\n",
    "Recursively sort a list in quadratic time."
   ]
  },
  {
   "cell_type": "code",
   "execution_count": null,
   "metadata": {
    "collapsed": true
   },
   "outputs": [],
   "source": []
  }
 ],
 "metadata": {
  "kernelspec": {
   "display_name": "Python 2",
   "language": "python",
   "name": "python2"
  },
  "language_info": {
   "codemirror_mode": {
    "name": "ipython",
    "version": 2
   },
   "file_extension": ".py",
   "mimetype": "text/x-python",
   "name": "python",
   "nbconvert_exporter": "python",
   "pygments_lexer": "ipython2",
   "version": "2.7.10"
  }
 },
 "nbformat": 4,
 "nbformat_minor": 0
}
