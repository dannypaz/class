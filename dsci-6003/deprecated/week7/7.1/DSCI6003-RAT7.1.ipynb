{
 "cells": [
  {
   "cell_type": "markdown",
   "metadata": {},
   "source": [
    "RAT 7.1\n",
    "\n",
    "What is DBSCAN?\n",
    "\n",
    "When would you use it over k-means? over Expectation Maximization on Gaussian mixtures? When would those two be better than DBSCAN?\n",
    "\n",
    "(Seriously. I don't know the answer.)\n",
    "\n",
    "---\n",
    "\n",
    "Python Programming:\n",
    "What is the difference between a list and a generator?\n",
    "What is the difference between a Python list and a Python dictionary? What are the performance guarantees on their operations?\n",
    "\n",
    "Write a one-line definition of a function filter_in(nums, permitted) that takes a list of numbers nums and a set of permitted numbers and lazily returns all numbers in nums that are also in permitted.\n",
    "\n",
    "What is a disadvantage of a class having a subclass having a subclass having a subclass?"
   ]
  },
  {
   "cell_type": "code",
   "execution_count": null,
   "metadata": {
    "collapsed": true
   },
   "outputs": [],
   "source": []
  }
 ],
 "metadata": {
  "kernelspec": {
   "display_name": "Python 2",
   "language": "python",
   "name": "python2"
  },
  "language_info": {
   "codemirror_mode": {
    "name": "ipython",
    "version": 2
   },
   "file_extension": ".py",
   "mimetype": "text/x-python",
   "name": "python",
   "nbconvert_exporter": "python",
   "pygments_lexer": "ipython2",
   "version": "2.7.10"
  }
 },
 "nbformat": 4,
 "nbformat_minor": 0
}
