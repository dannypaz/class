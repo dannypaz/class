{
 "cells": [
  {
   "cell_type": "markdown",
   "metadata": {},
   "source": [
    "RAT 8.1\n",
    "Suppose you have a coin and are trying to estimate the true probability of getting heads p.\n",
    "Do you remember how frequentist statistics treats finding this probability?\n",
    "How does Bayesian stats treat them?\n",
    "\n",
    "If you flip the coin many many times and take the number of heads, how would a frequentist use this number to estimate p? How would a Bayesian statistician use it?\n",
    "\n",
    "Extra:\n",
    "\n",
    "Explain what a logistic regression classifier is and how to evaluate it to an engineer who doesn't know stats that well."
   ]
  }
 ],
 "metadata": {
  "kernelspec": {
   "display_name": "Python 2",
   "language": "python",
   "name": "python2"
  },
  "language_info": {
   "codemirror_mode": {
    "name": "ipython",
    "version": 2
   },
   "file_extension": ".py",
   "mimetype": "text/x-python",
   "name": "python",
   "nbconvert_exporter": "python",
   "pygments_lexer": "ipython2",
   "version": "2.7.10"
  }
 },
 "nbformat": 4,
 "nbformat_minor": 0
}
