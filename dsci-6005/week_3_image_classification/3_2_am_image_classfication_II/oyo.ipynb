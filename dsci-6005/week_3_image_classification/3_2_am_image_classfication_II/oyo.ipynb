{
 "cells": [
  {
   "cell_type": "markdown",
   "metadata": {
    "slideshow": {
     "slide_type": "slide"
    }
   },
   "source": [
    "# OYO Questions\n",
    "\n",
    "- What is the relationship between a fully-connected (FC) neural network layer and a convolutional layer? Define a fully-connected layer in terms of a convolutional layer.\n",
    "\n",
    "- What are some reasons that convolution is a popular operation?\n",
    "\n",
    "- What are some other applications of convolution other than in image processing?\n",
    "\n",
    "- After learning about convolutional layers, your friend asks you \"I don't get convolutional layers. I just use fully-connected layers for everything.\" What consequences is your friend most likely to face?"
   ]
  }
 ],
 "metadata": {
  "celltoolbar": "Slideshow",
  "kernelspec": {
   "display_name": "Python 3",
   "language": "python",
   "name": "python3"
  },
  "language_info": {
   "codemirror_mode": {
    "name": "ipython",
    "version": 3
   },
   "file_extension": ".py",
   "mimetype": "text/x-python",
   "name": "python",
   "nbconvert_exporter": "python",
   "pygments_lexer": "ipython3",
   "version": "3.6.0"
  }
 },
 "nbformat": 4,
 "nbformat_minor": 2
}
