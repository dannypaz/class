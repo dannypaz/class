{
 "cells": [
  {
   "cell_type": "markdown",
   "metadata": {
    "deletable": true,
    "editable": true
   },
   "source": [
    "# Data Augmentation Lab\n",
    "\n",
    "Welcome to the data augmentation lab! By the end of this lab you will have\n",
    "\n",
    "- Used data augmentation to increase the effective size a training set resulting in increased performance on MNIST\n",
    "\n",
    "Let's get started!\n",
    "\n",
    "# Load MNIST\n",
    "\n",
    "The following code loads MNIST images into memory and normalizes them."
   ]
  },
  {
   "cell_type": "code",
   "execution_count": 1,
   "metadata": {
    "collapsed": false,
    "deletable": true,
    "editable": true
   },
   "outputs": [
    {
     "name": "stderr",
     "output_type": "stream",
     "text": [
      "Using TensorFlow backend.\n"
     ]
    },
    {
     "data": {
      "text/plain": [
       "(60000, 28, 28)"
      ]
     },
     "execution_count": 1,
     "metadata": {},
     "output_type": "execute_result"
    }
   ],
   "source": [
    "from IPython.display import display\n",
    "from keras.datasets import mnist\n",
    "\n",
    "[X_mnist, y_mnist], [X_test, y_test] = mnist.load_data()\n",
    "X_mnist, X_test = X_mnist/255., X_test/255.\n",
    "    \n",
    "X_mnist.shape"
   ]
  },
  {
   "cell_type": "markdown",
   "metadata": {
    "deletable": true,
    "editable": true
   },
   "source": [
    "# Create Training Set\n",
    "\n",
    "The following code creates a training set consisting of one image digit per class."
   ]
  },
  {
   "cell_type": "code",
   "execution_count": 2,
   "metadata": {
    "collapsed": false,
    "deletable": true,
    "editable": true,
    "scrolled": false
   },
   "outputs": [
    {
     "data": {
      "image/png": "[encoded data removed]",
      "text/plain": [
       "<PIL.Image.Image image mode=L size=28x28 at 0x116993550>"
      ]
     },
     "metadata": {},
     "output_type": "display_data"
    },
    {
     "data": {
      "image/png": "[encoded data removed]",
      "text/plain": [
       "<PIL.Image.Image image mode=L size=28x28 at 0x10F998940>"
      ]
     },
     "metadata": {},
     "output_type": "display_data"
    },
    {
     "data": {
      "image/png": "[encoded data removed]",
      "text/plain": [
       "<PIL.Image.Image image mode=L size=28x28 at 0x13BE33EF0>"
      ]
     },
     "metadata": {},
     "output_type": "display_data"
    },
    {
     "data": {
      "image/png": "[encoded data removed]",
      "text/plain": [
       "<PIL.Image.Image image mode=L size=28x28 at 0x13BE33FD0>"
      ]
     },
     "metadata": {},
     "output_type": "display_data"
    },
    {
     "data": {
      "image/png": "[encoded data removed]",
      "text/plain": [
       "<PIL.Image.Image image mode=L size=28x28 at 0x13BE33EF0>"
      ]
     },
     "metadata": {},
     "output_type": "display_data"
    },
    {
     "data": {
      "image/png": "[encoded data removed]",
      "text/plain": [
       "<PIL.Image.Image image mode=L size=28x28 at 0x13BE33F28>"
      ]
     },
     "metadata": {},
     "output_type": "display_data"
    },
    {
     "data": {
      "image/png": "[encoded data removed]",
      "text/plain": [
       "<PIL.Image.Image image mode=L size=28x28 at 0x13BE33F98>"
      ]
     },
     "metadata": {},
     "output_type": "display_data"
    },
    {
     "data": {
      "image/png": "[encoded data removed]",
      "text/plain": [
       "<PIL.Image.Image image mode=L size=28x28 at 0x13BE33FD0>"
      ]
     },
     "metadata": {},
     "output_type": "display_data"
    },
    {
     "data": {
      "image/png": "[encoded data removed]",
      "text/plain": [
       "<PIL.Image.Image image mode=L size=28x28 at 0x13BE33EF0>"
      ]
     },
     "metadata": {},
     "output_type": "display_data"
    },
    {
     "data": {
      "image/png": "[encoded data removed]",
      "text/plain": [
       "<PIL.Image.Image image mode=L size=28x28 at 0x13BE33F98>"
      ]
     },
     "metadata": {},
     "output_type": "display_data"
    },
    {
     "data": {
      "text/plain": [
       "(10, 28, 28)"
      ]
     },
     "execution_count": 2,
     "metadata": {},
     "output_type": "execute_result"
    }
   ],
   "source": [
    "from IPython.display import display\n",
    "from keras.preprocessing.image import array_to_img\n",
    "import numpy as np\n",
    "\n",
    "digit_idxs = [np.argwhere(y_mnist == d).flatten()[0] for d in range(10)]\n",
    "X_train = X_mnist[digit_idxs]\n",
    "\n",
    "for x in X_train:\n",
    "    img = array_to_img(np.expand_dims(x, axis=0), data_format='channels_first')\n",
    "    display(img)\n",
    "\n",
    "X_train.shape"
   ]
  },
  {
   "cell_type": "code",
   "execution_count": 4,
   "metadata": {
    "collapsed": false
   },
   "outputs": [
    {
     "data": {
      "text/plain": [
       "array([[ 0.        ,  0.        ,  0.        ,  0.        ,  0.        ,\n",
       "         0.        ,  0.        ,  0.        ,  0.        ,  0.        ,\n",
       "         0.        ,  0.        ,  0.        ,  0.        ,  0.        ,\n",
       "         0.        ,  0.        ,  0.        ,  0.        ,  0.        ,\n",
       "         0.        ,  0.        ,  0.        ,  0.        ,  0.        ,\n",
       "         0.        ,  0.        ,  0.        ],\n",
       "       [ 0.        ,  0.        ,  0.        ,  0.        ,  0.        ,\n",
       "         0.        ,  0.        ,  0.        ,  0.        ,  0.        ,\n",
       "         0.        ,  0.        ,  0.        ,  0.        ,  0.        ,\n",
       "         0.        ,  0.        ,  0.        ,  0.        ,  0.        ,\n",
       "         0.        ,  0.        ,  0.        ,  0.        ,  0.        ,\n",
       "         0.        ,  0.        ,  0.        ],\n",
       "       [ 0.        ,  0.        ,  0.        ,  0.        ,  0.        ,\n",
       "         0.        ,  0.        ,  0.        ,  0.        ,  0.        ,\n",
       "         0.        ,  0.        ,  0.        ,  0.        ,  0.        ,\n",
       "         0.        ,  0.        ,  0.        ,  0.        ,  0.        ,\n",
       "         0.        ,  0.        ,  0.        ,  0.        ,  0.        ,\n",
       "         0.        ,  0.        ,  0.        ],\n",
       "       [ 0.        ,  0.        ,  0.        ,  0.        ,  0.        ,\n",
       "         0.        ,  0.        ,  0.        ,  0.        ,  0.        ,\n",
       "         0.        ,  0.        ,  0.        ,  0.        ,  0.        ,\n",
       "         0.        ,  0.        ,  0.        ,  0.        ,  0.        ,\n",
       "         0.        ,  0.        ,  0.        ,  0.        ,  0.        ,\n",
       "         0.        ,  0.        ,  0.        ],\n",
       "       [ 0.        ,  0.        ,  0.        ,  0.        ,  0.        ,\n",
       "         0.        ,  0.        ,  0.        ,  0.        ,  0.        ,\n",
       "         0.        ,  0.        ,  0.        ,  0.        ,  0.        ,\n",
       "         0.2       ,  0.62352941,  0.99215686,  0.62352941,  0.19607843,\n",
       "         0.        ,  0.        ,  0.        ,  0.        ,  0.        ,\n",
       "         0.        ,  0.        ,  0.        ],\n",
       "       [ 0.        ,  0.        ,  0.        ,  0.        ,  0.        ,\n",
       "         0.        ,  0.        ,  0.        ,  0.        ,  0.        ,\n",
       "         0.        ,  0.        ,  0.        ,  0.        ,  0.18823529,\n",
       "         0.93333333,  0.98823529,  0.98823529,  0.98823529,  0.92941176,\n",
       "         0.        ,  0.        ,  0.        ,  0.        ,  0.        ,\n",
       "         0.        ,  0.        ,  0.        ],\n",
       "       [ 0.        ,  0.        ,  0.        ,  0.        ,  0.        ,\n",
       "         0.        ,  0.        ,  0.        ,  0.        ,  0.        ,\n",
       "         0.        ,  0.        ,  0.        ,  0.21176471,  0.89019608,\n",
       "         0.99215686,  0.98823529,  0.9372549 ,  0.91372549,  0.98823529,\n",
       "         0.22352941,  0.02352941,  0.        ,  0.        ,  0.        ,\n",
       "         0.        ,  0.        ,  0.        ],\n",
       "       [ 0.        ,  0.        ,  0.        ,  0.        ,  0.        ,\n",
       "         0.        ,  0.        ,  0.        ,  0.        ,  0.        ,\n",
       "         0.        ,  0.03921569,  0.23529412,  0.87843137,  0.98823529,\n",
       "         0.99215686,  0.98823529,  0.79215686,  0.32941176,  0.98823529,\n",
       "         0.99215686,  0.47843137,  0.        ,  0.        ,  0.        ,\n",
       "         0.        ,  0.        ,  0.        ],\n",
       "       [ 0.        ,  0.        ,  0.        ,  0.        ,  0.        ,\n",
       "         0.        ,  0.        ,  0.        ,  0.        ,  0.        ,\n",
       "         0.        ,  0.63921569,  0.98823529,  0.98823529,  0.98823529,\n",
       "         0.99215686,  0.98823529,  0.98823529,  0.37647059,  0.74117647,\n",
       "         0.99215686,  0.65490196,  0.        ,  0.        ,  0.        ,\n",
       "         0.        ,  0.        ,  0.        ],\n",
       "       [ 0.        ,  0.        ,  0.        ,  0.        ,  0.        ,\n",
       "         0.        ,  0.        ,  0.        ,  0.        ,  0.        ,\n",
       "         0.2       ,  0.93333333,  0.99215686,  0.99215686,  0.74509804,\n",
       "         0.44705882,  0.99215686,  0.89411765,  0.18431373,  0.30980392,\n",
       "         1.        ,  0.65882353,  0.        ,  0.        ,  0.        ,\n",
       "         0.        ,  0.        ,  0.        ],\n",
       "       [ 0.        ,  0.        ,  0.        ,  0.        ,  0.        ,\n",
       "         0.        ,  0.        ,  0.        ,  0.        ,  0.18823529,\n",
       "         0.93333333,  0.98823529,  0.98823529,  0.70196078,  0.04705882,\n",
       "         0.29411765,  0.4745098 ,  0.08235294,  0.        ,  0.        ,\n",
       "         0.99215686,  0.95294118,  0.19607843,  0.        ,  0.        ,\n",
       "         0.        ,  0.        ,  0.        ],\n",
       "       [ 0.        ,  0.        ,  0.        ,  0.        ,  0.        ,\n",
       "         0.        ,  0.        ,  0.        ,  0.14901961,  0.64705882,\n",
       "         0.99215686,  0.91372549,  0.81568627,  0.32941176,  0.        ,\n",
       "         0.        ,  0.        ,  0.        ,  0.        ,  0.        ,\n",
       "         0.99215686,  0.98823529,  0.64705882,  0.        ,  0.        ,\n",
       "         0.        ,  0.        ,  0.        ],\n",
       "       [ 0.        ,  0.        ,  0.        ,  0.        ,  0.        ,\n",
       "         0.        ,  0.        ,  0.02745098,  0.69803922,  0.98823529,\n",
       "         0.94117647,  0.27843137,  0.0745098 ,  0.10980392,  0.        ,\n",
       "         0.        ,  0.        ,  0.        ,  0.        ,  0.        ,\n",
       "         0.99215686,  0.98823529,  0.76470588,  0.        ,  0.        ,\n",
       "         0.        ,  0.        ,  0.        ],\n",
       "       [ 0.        ,  0.        ,  0.        ,  0.        ,  0.        ,\n",
       "         0.        ,  0.        ,  0.22352941,  0.98823529,  0.98823529,\n",
       "         0.24705882,  0.        ,  0.        ,  0.        ,  0.        ,\n",
       "         0.        ,  0.        ,  0.        ,  0.        ,  0.        ,\n",
       "         0.99215686,  0.98823529,  0.76470588,  0.        ,  0.        ,\n",
       "         0.        ,  0.        ,  0.        ],\n",
       "       [ 0.        ,  0.        ,  0.        ,  0.        ,  0.        ,\n",
       "         0.        ,  0.        ,  0.77647059,  0.99215686,  0.74509804,\n",
       "         0.        ,  0.        ,  0.        ,  0.        ,  0.        ,\n",
       "         0.        ,  0.        ,  0.        ,  0.        ,  0.        ,\n",
       "         1.        ,  0.99215686,  0.76862745,  0.        ,  0.        ,\n",
       "         0.        ,  0.        ,  0.        ],\n",
       "       [ 0.        ,  0.        ,  0.        ,  0.        ,  0.        ,\n",
       "         0.        ,  0.29803922,  0.96470588,  0.98823529,  0.43921569,\n",
       "         0.        ,  0.        ,  0.        ,  0.        ,  0.        ,\n",
       "         0.        ,  0.        ,  0.        ,  0.        ,  0.        ,\n",
       "         0.99215686,  0.98823529,  0.58039216,  0.        ,  0.        ,\n",
       "         0.        ,  0.        ,  0.        ],\n",
       "       [ 0.        ,  0.        ,  0.        ,  0.        ,  0.        ,\n",
       "         0.        ,  0.33333333,  0.98823529,  0.90196078,  0.09803922,\n",
       "         0.        ,  0.        ,  0.        ,  0.        ,  0.        ,\n",
       "         0.        ,  0.        ,  0.        ,  0.02745098,  0.52941176,\n",
       "         0.99215686,  0.72941176,  0.04705882,  0.        ,  0.        ,\n",
       "         0.        ,  0.        ,  0.        ],\n",
       "       [ 0.        ,  0.        ,  0.        ,  0.        ,  0.        ,\n",
       "         0.        ,  0.33333333,  0.98823529,  0.8745098 ,  0.        ,\n",
       "         0.        ,  0.        ,  0.        ,  0.        ,  0.        ,\n",
       "         0.        ,  0.        ,  0.02745098,  0.51372549,  0.98823529,\n",
       "         0.88235294,  0.27843137,  0.        ,  0.        ,  0.        ,\n",
       "         0.        ,  0.        ,  0.        ],\n",
       "       [ 0.        ,  0.        ,  0.        ,  0.        ,  0.        ,\n",
       "         0.        ,  0.33333333,  0.98823529,  0.56862745,  0.        ,\n",
       "         0.        ,  0.        ,  0.        ,  0.        ,  0.        ,\n",
       "         0.        ,  0.18823529,  0.64705882,  0.98823529,  0.67843137,\n",
       "         0.        ,  0.        ,  0.        ,  0.        ,  0.        ,\n",
       "         0.        ,  0.        ,  0.        ],\n",
       "       [ 0.        ,  0.        ,  0.        ,  0.        ,  0.        ,\n",
       "         0.        ,  0.3372549 ,  0.99215686,  0.88235294,  0.        ,\n",
       "         0.        ,  0.        ,  0.        ,  0.        ,  0.        ,\n",
       "         0.44705882,  0.93333333,  0.99215686,  0.63529412,  0.        ,\n",
       "         0.        ,  0.        ,  0.        ,  0.        ,  0.        ,\n",
       "         0.        ,  0.        ,  0.        ],\n",
       "       [ 0.        ,  0.        ,  0.        ,  0.        ,  0.        ,\n",
       "         0.        ,  0.33333333,  0.98823529,  0.97647059,  0.57254902,\n",
       "         0.18823529,  0.11372549,  0.33333333,  0.69803922,  0.88235294,\n",
       "         0.99215686,  0.8745098 ,  0.65490196,  0.21960784,  0.        ,\n",
       "         0.        ,  0.        ,  0.        ,  0.        ,  0.        ,\n",
       "         0.        ,  0.        ,  0.        ],\n",
       "       [ 0.        ,  0.        ,  0.        ,  0.        ,  0.        ,\n",
       "         0.        ,  0.33333333,  0.98823529,  0.98823529,  0.98823529,\n",
       "         0.89803922,  0.84313725,  0.98823529,  0.98823529,  0.98823529,\n",
       "         0.76862745,  0.50980392,  0.        ,  0.        ,  0.        ,\n",
       "         0.        ,  0.        ,  0.        ,  0.        ,  0.        ,\n",
       "         0.        ,  0.        ,  0.        ],\n",
       "       [ 0.        ,  0.        ,  0.        ,  0.        ,  0.        ,\n",
       "         0.        ,  0.10980392,  0.78039216,  0.98823529,  0.98823529,\n",
       "         0.99215686,  0.98823529,  0.98823529,  0.91372549,  0.56862745,\n",
       "         0.        ,  0.        ,  0.        ,  0.        ,  0.        ,\n",
       "         0.        ,  0.        ,  0.        ,  0.        ,  0.        ,\n",
       "         0.        ,  0.        ,  0.        ],\n",
       "       [ 0.        ,  0.        ,  0.        ,  0.        ,  0.        ,\n",
       "         0.        ,  0.        ,  0.09803922,  0.50196078,  0.98823529,\n",
       "         0.99215686,  0.98823529,  0.55294118,  0.14509804,  0.        ,\n",
       "         0.        ,  0.        ,  0.        ,  0.        ,  0.        ,\n",
       "         0.        ,  0.        ,  0.        ,  0.        ,  0.        ,\n",
       "         0.        ,  0.        ,  0.        ],\n",
       "       [ 0.        ,  0.        ,  0.        ,  0.        ,  0.        ,\n",
       "         0.        ,  0.        ,  0.        ,  0.        ,  0.        ,\n",
       "         0.        ,  0.        ,  0.        ,  0.        ,  0.        ,\n",
       "         0.        ,  0.        ,  0.        ,  0.        ,  0.        ,\n",
       "         0.        ,  0.        ,  0.        ,  0.        ,  0.        ,\n",
       "         0.        ,  0.        ,  0.        ],\n",
       "       [ 0.        ,  0.        ,  0.        ,  0.        ,  0.        ,\n",
       "         0.        ,  0.        ,  0.        ,  0.        ,  0.        ,\n",
       "         0.        ,  0.        ,  0.        ,  0.        ,  0.        ,\n",
       "         0.        ,  0.        ,  0.        ,  0.        ,  0.        ,\n",
       "         0.        ,  0.        ,  0.        ,  0.        ,  0.        ,\n",
       "         0.        ,  0.        ,  0.        ],\n",
       "       [ 0.        ,  0.        ,  0.        ,  0.        ,  0.        ,\n",
       "         0.        ,  0.        ,  0.        ,  0.        ,  0.        ,\n",
       "         0.        ,  0.        ,  0.        ,  0.        ,  0.        ,\n",
       "         0.        ,  0.        ,  0.        ,  0.        ,  0.        ,\n",
       "         0.        ,  0.        ,  0.        ,  0.        ,  0.        ,\n",
       "         0.        ,  0.        ,  0.        ],\n",
       "       [ 0.        ,  0.        ,  0.        ,  0.        ,  0.        ,\n",
       "         0.        ,  0.        ,  0.        ,  0.        ,  0.        ,\n",
       "         0.        ,  0.        ,  0.        ,  0.        ,  0.        ,\n",
       "         0.        ,  0.        ,  0.        ,  0.        ,  0.        ,\n",
       "         0.        ,  0.        ,  0.        ,  0.        ,  0.        ,\n",
       "         0.        ,  0.        ,  0.        ]])"
      ]
     },
     "execution_count": 4,
     "metadata": {},
     "output_type": "execute_result"
    }
   ],
   "source": [
    "X_train[0]"
   ]
  },
  {
   "cell_type": "markdown",
   "metadata": {
    "deletable": true,
    "editable": true
   },
   "source": [
    "## Define the CNN Architecture\n",
    "\n",
    "The following code defines and compiles a CNN architecture. You are **not** to modify it!"
   ]
  },
  {
   "cell_type": "code",
   "execution_count": 5,
   "metadata": {
    "collapsed": false,
    "deletable": true,
    "editable": true
   },
   "outputs": [
    {
     "name": "stdout",
     "output_type": "stream",
     "text": [
      "_________________________________________________________________\n",
      "Layer (type)                 Output Shape              Param #   \n",
      "=================================================================\n",
      "conv2d_1 (Conv2D)            (None, 26, 26, 32)        320       \n",
      "_________________________________________________________________\n",
      "conv2d_2 (Conv2D)            (None, 24, 24, 64)        18496     \n",
      "_________________________________________________________________\n",
      "max_pooling2d_1 (MaxPooling2 (None, 12, 12, 64)        0         \n",
      "_________________________________________________________________\n",
      "dropout_1 (Dropout)          (None, 12, 12, 64)        0         \n",
      "_________________________________________________________________\n",
      "flatten_1 (Flatten)          (None, 9216)              0         \n",
      "_________________________________________________________________\n",
      "dense_1 (Dense)              (None, 128)               1179776   \n",
      "_________________________________________________________________\n",
      "dropout_2 (Dropout)          (None, 128)               0         \n",
      "_________________________________________________________________\n",
      "dense_2 (Dense)              (None, 10)                1290      \n",
      "=================================================================\n",
      "Total params: 1,199,882.0\n",
      "Trainable params: 1,199,882.0\n",
      "Non-trainable params: 0.0\n",
      "_________________________________________________________________\n"
     ]
    }
   ],
   "source": [
    "from keras.models import Sequential\n",
    "from keras.layers import Conv2D, MaxPooling2D, Flatten, Dense, Dropout\n",
    "\n",
    "model = Sequential()\n",
    "model.add(Conv2D(32, kernel_size=(3, 3), activation='relu', input_shape=[28, 28, 1]))\n",
    "model.add(Conv2D(64, (3, 3), activation='relu'))\n",
    "model.add(MaxPooling2D(pool_size=(2, 2)))\n",
    "model.add(Dropout(0.25))\n",
    "model.add(Flatten())\n",
    "model.add(Dense(128, activation='relu'))\n",
    "model.add(Dropout(0.5))\n",
    "model.add(Dense(10, activation='softmax'))\n",
    "\n",
    "model.summary()\n",
    "model.compile(loss='categorical_crossentropy', optimizer='adadelta', metrics=['accuracy'])"
   ]
  },
  {
   "cell_type": "markdown",
   "metadata": {
    "deletable": true,
    "editable": true
   },
   "source": [
    "## Prepare Data for TensorFlow\n",
    "\n",
    "The following code converts the training and test images into TensorFlow dimension ordering. Additionally we only take the first 1000 test images to form our test set."
   ]
  },
  {
   "cell_type": "code",
   "execution_count": 6,
   "metadata": {
    "collapsed": false,
    "deletable": true,
    "editable": true
   },
   "outputs": [
    {
     "data": {
      "text/plain": [
       "((10, 28, 28, 1), (1000, 28, 28, 1))"
      ]
     },
     "execution_count": 6,
     "metadata": {},
     "output_type": "execute_result"
    }
   ],
   "source": [
    "from keras.utils.np_utils import to_categorical\n",
    "\n",
    "nb_test = 1000\n",
    "\n",
    "X_tf_train = np.expand_dims(X_train, axis=-1)\n",
    "X_tf_test = np.expand_dims(X_test, axis=-1)[:nb_test]\n",
    "\n",
    "y_train, y_test = np.arange(10), y_test[:nb_test]\n",
    "Y_train, Y_test = to_categorical(y_train), to_categorical(y_test)\n",
    "\n",
    "X_tf_train.shape, X_tf_test.shape"
   ]
  },
  {
   "cell_type": "markdown",
   "metadata": {
    "deletable": true,
    "editable": true
   },
   "source": [
    "# Fit the Model\n",
    "\n",
    "The following code fits the model defined above on the training set and validates over the test set. A callback is used which displays training information after every epoch."
   ]
  },
  {
   "cell_type": "code",
   "execution_count": 8,
   "metadata": {
    "collapsed": false,
    "deletable": true,
    "editable": true
   },
   "outputs": [
    {
     "name": "stdout",
     "output_type": "stream",
     "text": [
      "{'val_loss': [1.8353188972473145, 1.7339285545349121, 1.7222231311798095, 1.7329029808044434, 1.7320853557586671, 1.7606273393630982, 1.7164811086654663, 1.7627389545440675, 1.8322706031799316, 1.8601572761535645, 1.8944817085266112, 2.0137750949859621, 1.8464826107025147, 1.9351490554809569, 1.9152326965332032, 1.8523096313476564, 1.9123710536956786, 1.8909367427825927, 1.8263198966979981, 1.8174826011657714, 1.8260289039611817, 1.8088568515777588, 1.8907924346923828, 1.8484832763671875, 1.8811339015960693], 'val_acc': [0.44500000000000001, 0.45600000000000002, 0.45200000000000001, 0.46000000000000002, 0.46100000000000002, 0.45800000000000002, 0.46700000000000003, 0.45500000000000002, 0.44600000000000001, 0.44400000000000001, 0.44900000000000001, 0.41899999999999998, 0.45000000000000001, 0.435, 0.44400000000000001, 0.45900000000000002, 0.44, 0.44500000000000001, 0.46700000000000003, 0.46500000000000002, 0.46500000000000002, 0.46500000000000002, 0.45400000000000001, 0.46300000000000002, 0.46200000000000002], 'loss': [0.21491225063800812, 0.38923099637031555, 0.11136670410633087, 0.053166292607784271, 0.07145293802022934, 0.071867026388645172, 0.06159587949514389, 0.068440884351730347, 0.074478402733802795, 0.085388228297233582, 0.026253949850797653, 0.1124589666724205, 0.063410542905330658, 0.15213367342948914, 0.026498984545469284, 0.050249725580215454, 0.12502473592758179, 0.018296573311090469, 0.042735781520605087, 0.030769387260079384, 0.0050526903942227364, 0.056661326438188553, 0.065761677920818329, 0.04754362627863884, 0.052321303635835648], 'acc': [0.89999997615814209, 0.80000001192092896, 1.0, 1.0, 1.0, 1.0, 1.0, 1.0, 1.0, 1.0, 1.0, 1.0, 1.0, 0.89999997615814209, 1.0, 1.0, 1.0, 1.0, 1.0, 1.0, 1.0, 1.0, 1.0, 1.0, 1.0]}\n"
     ]
    },
    {
     "data": {
      "image/png": "[encoded data removed]",
      "text/plain": [
       "<matplotlib.figure.Figure at 0x1407a08d0>"
      ]
     },
     "metadata": {},
     "output_type": "display_data"
    },
    {
     "name": "stdout",
     "output_type": "stream",
     "text": [
      "10/10 [==============================] - 1s - loss: 0.0523 - acc: 1.0000 - val_loss: 1.8811 - val_acc: 0.4620\n"
     ]
    },
    {
     "data": {
      "text/plain": [
       "<keras.callbacks.History at 0x11fca4978>"
      ]
     },
     "execution_count": 8,
     "metadata": {},
     "output_type": "execute_result"
    }
   ],
   "source": [
    "import IPython\n",
    "import keras\n",
    "import matplotlib.pyplot as plt\n",
    "import pandas as pd\n",
    "%matplotlib inline\n",
    "\n",
    "class TrainingVisualizerCallback(keras.callbacks.History):\n",
    "    def on_epoch_end(self, epoch, logs={}):\n",
    "        super().on_epoch_end(epoch, logs)\n",
    "        IPython.display.clear_output(wait=True)\n",
    "        pd.DataFrame(self.history).plot()\n",
    "        #print(self.history)\n",
    "        plt.show()\n",
    "\n",
    "model.fit(X_tf_train, Y_train, epochs=25, validation_data=(X_tf_test, Y_test), callbacks=[TrainingVisualizerCallback()])"
   ]
  },
  {
   "cell_type": "markdown",
   "metadata": {
    "deletable": true,
    "editable": true
   },
   "source": [
    "## Task\n",
    "\n",
    "- Play around with `keras.preprocessing.image.ImageDataGenerator` to generate some images which look like realistic MNIST images\n",
    "\n",
    "## Hints\n",
    "\n",
    "- Learn what types of augmentations are available by reading the [`keras.preprocessing.image.ImageDataGenerator`](https://keras.io/preprocessing/image/) documentation"
   ]
  },
  {
   "cell_type": "code",
   "execution_count": 62,
   "metadata": {
    "collapsed": false,
    "deletable": true,
    "editable": true
   },
   "outputs": [],
   "source": [
    "from IPython.display import display\n",
    "import keras\n",
    "\n",
    "datagen_rotation = keras.preprocessing.image.ImageDataGenerator(rotation_range=60)\n",
    "data_gen_horizontal_flip = keras.preprocessing.image.ImageDataGenerator(horizontal_flip=True)\n",
    "datagen_vertical_flip = keras.preprocessing.image.ImageDataGenerator(vertical_flip=True)\n",
    "datagen_shear  = keras.preprocessing.image.ImageDataGenerator(shear_range=60)\n",
    "datagen_center = keras.preprocessing.image.ImageDataGenerator(samplewise_center=True)\n",
    "datagen_height_shift = keras.preprocessing.image.ImageDataGenerator(height_shift_range=.5)"
   ]
  },
  {
   "cell_type": "code",
   "execution_count": 52,
   "metadata": {
    "collapsed": false
   },
   "outputs": [
    {
     "data": {
      "image/png": "[encoded data removed]",
      "text/plain": [
       "<PIL.Image.Image image mode=L size=28x28 at 0x13E64E710>"
      ]
     },
     "metadata": {},
     "output_type": "display_data"
    },
    {
     "data": {
      "image/png": "[encoded data removed]",
      "text/plain": [
       "<PIL.Image.Image image mode=L size=28x28 at 0x13E64EBE0>"
      ]
     },
     "metadata": {},
     "output_type": "display_data"
    },
    {
     "data": {
      "image/png": "[encoded data removed]",
      "text/plain": [
       "<PIL.Image.Image image mode=L size=28x28 at 0x13E862BE0>"
      ]
     },
     "metadata": {},
     "output_type": "display_data"
    },
    {
     "data": {
      "image/png": "[encoded data removed]",
      "text/plain": [
       "<PIL.Image.Image image mode=L size=28x28 at 0x13E862AC8>"
      ]
     },
     "metadata": {},
     "output_type": "display_data"
    },
    {
     "data": {
      "image/png": "[encoded data removed]",
      "text/plain": [
       "<PIL.Image.Image image mode=L size=28x28 at 0x1401D3AC8>"
      ]
     },
     "metadata": {},
     "output_type": "display_data"
    },
    {
     "data": {
      "image/png": "[encoded data removed]",
      "text/plain": [
       "<PIL.Image.Image image mode=L size=28x28 at 0x13E8629E8>"
      ]
     },
     "metadata": {},
     "output_type": "display_data"
    },
    {
     "data": {
      "image/png": "[encoded data removed]",
      "text/plain": [
       "<PIL.Image.Image image mode=L size=28x28 at 0x1401D3AC8>"
      ]
     },
     "metadata": {},
     "output_type": "display_data"
    },
    {
     "data": {
      "image/png": "[encoded data removed]",
      "text/plain": [
       "<PIL.Image.Image image mode=L size=28x28 at 0x13E862AC8>"
      ]
     },
     "metadata": {},
     "output_type": "display_data"
    },
    {
     "data": {
      "image/png": "[encoded data removed]",
      "text/plain": [
       "<PIL.Image.Image image mode=L size=28x28 at 0x1401D3AC8>"
      ]
     },
     "metadata": {},
     "output_type": "display_data"
    },
    {
     "data": {
      "image/png": "[encoded data removed]",
      "text/plain": [
       "<PIL.Image.Image image mode=L size=28x28 at 0x13E8629E8>"
      ]
     },
     "metadata": {},
     "output_type": "display_data"
    }
   ],
   "source": [
    "datagen_rotation.fit(X_tf_train)\n",
    "image = datagen_rotation.flow(X_tf_train, Y_train, batch_size=32)\n",
    "for _ in range(10):\n",
    "    X, y = next(image)\n",
    "    img = array_to_img(X[0])\n",
    "    display(img)"
   ]
  },
  {
   "cell_type": "code",
   "execution_count": 53,
   "metadata": {
    "collapsed": false
   },
   "outputs": [
    {
     "data": {
      "image/png": "[encoded data removed]",
      "text/plain": [
       "<PIL.Image.Image image mode=L size=28x28 at 0x13E70E630>"
      ]
     },
     "metadata": {},
     "output_type": "display_data"
    },
    {
     "data": {
      "image/png": "[encoded data removed]",
      "text/plain": [
       "<PIL.Image.Image image mode=L size=28x28 at 0x13E70E6A0>"
      ]
     },
     "metadata": {},
     "output_type": "display_data"
    },
    {
     "data": {
      "image/png": "[encoded data removed]",
      "text/plain": [
       "<PIL.Image.Image image mode=L size=28x28 at 0x11FBC6588>"
      ]
     },
     "metadata": {},
     "output_type": "display_data"
    },
    {
     "data": {
      "image/png": "[encoded data removed]",
      "text/plain": [
       "<PIL.Image.Image image mode=L size=28x28 at 0x13E70E550>"
      ]
     },
     "metadata": {},
     "output_type": "display_data"
    },
    {
     "data": {
      "image/png": "[encoded data removed]",
      "text/plain": [
       "<PIL.Image.Image image mode=L size=28x28 at 0x11FBC6400>"
      ]
     },
     "metadata": {},
     "output_type": "display_data"
    },
    {
     "data": {
      "image/png": "[encoded data removed]",
      "text/plain": [
       "<PIL.Image.Image image mode=L size=28x28 at 0x13E70E128>"
      ]
     },
     "metadata": {},
     "output_type": "display_data"
    },
    {
     "data": {
      "image/png": "[encoded data removed]",
      "text/plain": [
       "<PIL.Image.Image image mode=L size=28x28 at 0x13E70E550>"
      ]
     },
     "metadata": {},
     "output_type": "display_data"
    },
    {
     "data": {
      "image/png": "[encoded data removed]",
      "text/plain": [
       "<PIL.Image.Image image mode=L size=28x28 at 0x11FBC6588>"
      ]
     },
     "metadata": {},
     "output_type": "display_data"
    },
    {
     "data": {
      "image/png": "[encoded data removed]",
      "text/plain": [
       "<PIL.Image.Image image mode=L size=28x28 at 0x13E70E630>"
      ]
     },
     "metadata": {},
     "output_type": "display_data"
    },
    {
     "data": {
      "image/png": "[encoded data removed]",
      "text/plain": [
       "<PIL.Image.Image image mode=L size=28x28 at 0x11FBC6588>"
      ]
     },
     "metadata": {},
     "output_type": "display_data"
    }
   ],
   "source": [
    "data_gen_horizontal_flip.fit(X_tf_train)\n",
    "image_2 = data_gen_horizontal_flip.flow(X_tf_train, Y_train, batch_size=32)\n",
    "for _ in range(10):\n",
    "    X, y = next(image_2)\n",
    "    img = array_to_img(X[0])\n",
    "    display(img)"
   ]
  },
  {
   "cell_type": "code",
   "execution_count": 54,
   "metadata": {
    "collapsed": false
   },
   "outputs": [
    {
     "data": {
      "image/png": "[encoded data removed]",
      "text/plain": [
       "<PIL.Image.Image image mode=L size=28x28 at 0x13FC717F0>"
      ]
     },
     "metadata": {},
     "output_type": "display_data"
    },
    {
     "data": {
      "image/png": "[encoded data removed]",
      "text/plain": [
       "<PIL.Image.Image image mode=L size=28x28 at 0x13E826C18>"
      ]
     },
     "metadata": {},
     "output_type": "display_data"
    },
    {
     "data": {
      "image/png": "[encoded data removed]",
      "text/plain": [
       "<PIL.Image.Image image mode=L size=28x28 at 0x13E8629E8>"
      ]
     },
     "metadata": {},
     "output_type": "display_data"
    },
    {
     "data": {
      "image/png": "[encoded data removed]",
      "text/plain": [
       "<PIL.Image.Image image mode=L size=28x28 at 0x13FC71400>"
      ]
     },
     "metadata": {},
     "output_type": "display_data"
    },
    {
     "data": {
      "image/png": "[encoded data removed]",
      "text/plain": [
       "<PIL.Image.Image image mode=L size=28x28 at 0x13E70E6A0>"
      ]
     },
     "metadata": {},
     "output_type": "display_data"
    },
    {
     "data": {
      "image/png": "[encoded data removed]",
      "text/plain": [
       "<PIL.Image.Image image mode=L size=28x28 at 0x11FBC6588>"
      ]
     },
     "metadata": {},
     "output_type": "display_data"
    },
    {
     "data": {
      "image/png": "[encoded data removed]",
      "text/plain": [
       "<PIL.Image.Image image mode=L size=28x28 at 0x13FC71400>"
      ]
     },
     "metadata": {},
     "output_type": "display_data"
    },
    {
     "data": {
      "image/png": "[encoded data removed]",
      "text/plain": [
       "<PIL.Image.Image image mode=L size=28x28 at 0x13E869828>"
      ]
     },
     "metadata": {},
     "output_type": "display_data"
    },
    {
     "data": {
      "image/png": "[encoded data removed]",
      "text/plain": [
       "<PIL.Image.Image image mode=L size=28x28 at 0x13E70E6A0>"
      ]
     },
     "metadata": {},
     "output_type": "display_data"
    },
    {
     "data": {
      "image/png": "[encoded data removed]",
      "text/plain": [
       "<PIL.Image.Image image mode=L size=28x28 at 0x13FC71400>"
      ]
     },
     "metadata": {},
     "output_type": "display_data"
    }
   ],
   "source": [
    "datagen_vertical_flip .fit(X_tf_train)\n",
    "image_3 = data_gen_horizontal_flip.flow(X_tf_train, Y_train, batch_size=32)\n",
    "for _ in range(10):\n",
    "    X, y = next(image_3)\n",
    "    img = array_to_img(X[0])\n",
    "    display(img)"
   ]
  },
  {
   "cell_type": "code",
   "execution_count": 69,
   "metadata": {
    "collapsed": false
   },
   "outputs": [
    {
     "data": {
      "image/png": "[encoded data removed]",
      "text/plain": [
       "<PIL.Image.Image image mode=L size=28x28 at 0x11FBE7780>"
      ]
     },
     "metadata": {},
     "output_type": "display_data"
    },
    {
     "data": {
      "image/png": "[encoded data removed]",
      "text/plain": [
       "<PIL.Image.Image image mode=L size=28x28 at 0x11FBEF0B8>"
      ]
     },
     "metadata": {},
     "output_type": "display_data"
    },
    {
     "data": {
      "image/png": "[encoded data removed]",
      "text/plain": [
       "<PIL.Image.Image image mode=L size=28x28 at 0x11FBE75C0>"
      ]
     },
     "metadata": {},
     "output_type": "display_data"
    },
    {
     "data": {
      "image/png": "[encoded data removed]",
      "text/plain": [
       "<PIL.Image.Image image mode=L size=28x28 at 0x11FBEF0B8>"
      ]
     },
     "metadata": {},
     "output_type": "display_data"
    },
    {
     "data": {
      "image/png": "[encoded data removed]",
      "text/plain": [
       "<PIL.Image.Image image mode=L size=28x28 at 0x11FBE7390>"
      ]
     },
     "metadata": {},
     "output_type": "display_data"
    },
    {
     "data": {
      "image/png": "[encoded data removed]",
      "text/plain": [
       "<PIL.Image.Image image mode=L size=28x28 at 0x11FBEF0B8>"
      ]
     },
     "metadata": {},
     "output_type": "display_data"
    },
    {
     "data": {
      "image/png": "[encoded data removed]",
      "text/plain": [
       "<PIL.Image.Image image mode=L size=28x28 at 0x11FBE75C0>"
      ]
     },
     "metadata": {},
     "output_type": "display_data"
    },
    {
     "data": {
      "image/png": "[encoded data removed]",
      "text/plain": [
       "<PIL.Image.Image image mode=L size=28x28 at 0x11FBEF0B8>"
      ]
     },
     "metadata": {},
     "output_type": "display_data"
    },
    {
     "data": {
      "image/png": "[encoded data removed]",
      "text/plain": [
       "<PIL.Image.Image image mode=L size=28x28 at 0x11FBE7780>"
      ]
     },
     "metadata": {},
     "output_type": "display_data"
    },
    {
     "data": {
      "image/png": "[encoded data removed]",
      "text/plain": [
       "<PIL.Image.Image image mode=L size=28x28 at 0x11FBEF0B8>"
      ]
     },
     "metadata": {},
     "output_type": "display_data"
    }
   ],
   "source": [
    "datagen_shear.fit(X_tf_train)\n",
    "image_4 = datagen_shear.flow(X_tf_train, Y_train, batch_size=32)\n",
    "for _ in range(10):\n",
    "    X, y = next(image_4)\n",
    "    img = array_to_img(X[0])\n",
    "    display(img)"
   ]
  },
  {
   "cell_type": "code",
   "execution_count": 70,
   "metadata": {
    "collapsed": false
   },
   "outputs": [
    {
     "data": {
      "image/png": "[encoded data removed]",
      "text/plain": [
       "<PIL.Image.Image image mode=L size=28x28 at 0x11FC16668>"
      ]
     },
     "metadata": {},
     "output_type": "display_data"
    },
    {
     "data": {
      "image/png": "[encoded data removed]",
      "text/plain": [
       "<PIL.Image.Image image mode=L size=28x28 at 0x11FC16860>"
      ]
     },
     "metadata": {},
     "output_type": "display_data"
    },
    {
     "data": {
      "image/png": "[encoded data removed]",
      "text/plain": [
       "<PIL.Image.Image image mode=L size=28x28 at 0x11FC167B8>"
      ]
     },
     "metadata": {},
     "output_type": "display_data"
    },
    {
     "data": {
      "image/png": "[encoded data removed]",
      "text/plain": [
       "<PIL.Image.Image image mode=L size=28x28 at 0x11FBE7940>"
      ]
     },
     "metadata": {},
     "output_type": "display_data"
    },
    {
     "data": {
      "image/png": "[encoded data removed]",
      "text/plain": [
       "<PIL.Image.Image image mode=L size=28x28 at 0x11FC166A0>"
      ]
     },
     "metadata": {},
     "output_type": "display_data"
    },
    {
     "data": {
      "image/png": "[encoded data removed]",
      "text/plain": [
       "<PIL.Image.Image image mode=L size=28x28 at 0x11FC16668>"
      ]
     },
     "metadata": {},
     "output_type": "display_data"
    },
    {
     "data": {
      "image/png": "[encoded data removed]",
      "text/plain": [
       "<PIL.Image.Image image mode=L size=28x28 at 0x11FC16860>"
      ]
     },
     "metadata": {},
     "output_type": "display_data"
    },
    {
     "data": {
      "image/png": "[encoded data removed]",
      "text/plain": [
       "<PIL.Image.Image image mode=L size=28x28 at 0x11FBEF0B8>"
      ]
     },
     "metadata": {},
     "output_type": "display_data"
    },
    {
     "data": {
      "image/png": "[encoded data removed]",
      "text/plain": [
       "<PIL.Image.Image image mode=L size=28x28 at 0x11FC167B8>"
      ]
     },
     "metadata": {},
     "output_type": "display_data"
    },
    {
     "data": {
      "image/png": "[encoded data removed]",
      "text/plain": [
       "<PIL.Image.Image image mode=L size=28x28 at 0x11FBE7630>"
      ]
     },
     "metadata": {},
     "output_type": "display_data"
    }
   ],
   "source": [
    "\n",
    "\n",
    "datagen_center.fit(X_tf_train)\n",
    "image_5 = datagen_center.flow(X_tf_train, Y_train, batch_size=32)\n",
    "for _ in range(10):\n",
    "    X, y = next(image_5)\n",
    "    img = array_to_img(X[0])\n",
    "    display(img)"
   ]
  },
  {
   "cell_type": "code",
   "execution_count": 73,
   "metadata": {
    "collapsed": false
   },
   "outputs": [
    {
     "data": {
      "image/png": "[encoded data removed]",
      "text/plain": [
       "<PIL.Image.Image image mode=L size=28x28 at 0x1407A4E80>"
      ]
     },
     "metadata": {},
     "output_type": "display_data"
    },
    {
     "data": {
      "image/png": "[encoded data removed]",
      "text/plain": [
       "<PIL.Image.Image image mode=L size=28x28 at 0x13FF80CC0>"
      ]
     },
     "metadata": {},
     "output_type": "display_data"
    },
    {
     "data": {
      "image/png": "[encoded data removed]",
      "text/plain": [
       "<PIL.Image.Image image mode=L size=28x28 at 0x1407A4E80>"
      ]
     },
     "metadata": {},
     "output_type": "display_data"
    },
    {
     "data": {
      "image/png": "[encoded data removed]",
      "text/plain": [
       "<PIL.Image.Image image mode=L size=28x28 at 0x13FF80CC0>"
      ]
     },
     "metadata": {},
     "output_type": "display_data"
    },
    {
     "data": {
      "image/png": "[encoded data removed]",
      "text/plain": [
       "<PIL.Image.Image image mode=L size=28x28 at 0x1407A4E80>"
      ]
     },
     "metadata": {},
     "output_type": "display_data"
    },
    {
     "data": {
      "image/png": "[encoded data removed]",
      "text/plain": [
       "<PIL.Image.Image image mode=L size=28x28 at 0x13FF80CC0>"
      ]
     },
     "metadata": {},
     "output_type": "display_data"
    },
    {
     "data": {
      "image/png": "[encoded data removed]",
      "text/plain": [
       "<PIL.Image.Image image mode=L size=28x28 at 0x1407A4898>"
      ]
     },
     "metadata": {},
     "output_type": "display_data"
    },
    {
     "data": {
      "image/png": "[encoded data removed]",
      "text/plain": [
       "<PIL.Image.Image image mode=L size=28x28 at 0x13FF802B0>"
      ]
     },
     "metadata": {},
     "output_type": "display_data"
    },
    {
     "data": {
      "image/png": "[encoded data removed]",
      "text/plain": [
       "<PIL.Image.Image image mode=L size=28x28 at 0x1407A4898>"
      ]
     },
     "metadata": {},
     "output_type": "display_data"
    },
    {
     "data": {
      "image/png": "[encoded data removed]",
      "text/plain": [
       "<PIL.Image.Image image mode=L size=28x28 at 0x13FF802B0>"
      ]
     },
     "metadata": {},
     "output_type": "display_data"
    }
   ],
   "source": [
    "\n",
    "datagen_height_shift.fit(X_tf_train)\n",
    "image_6 = datagen_height_shift.flow(X_tf_train, Y_train, batch_size=32)\n",
    "for _ in range(10):\n",
    "    X, y = next(image_6)\n",
    "    img = array_to_img(X[0])\n",
    "    display(img)"
   ]
  },
  {
   "cell_type": "markdown",
   "metadata": {},
   "source": [
    "# Rotation"
   ]
  },
  {
   "cell_type": "code",
   "execution_count": null,
   "metadata": {
    "collapsed": true
   },
   "outputs": [],
   "source": [
    "\n",
    "datagen_height_shift .fit(X_tf_train)\n",
    "image_5 = datagen_height_shift .flow(X_tf_train, Y_train, batch_size=32)\n",
    "for _ in range(10):\n",
    "    X, y = next(image_5)\n",
    "    img = array_to_img(X[0])\n",
    "    display(img)"
   ]
  },
  {
   "cell_type": "code",
   "execution_count": 43,
   "metadata": {
    "collapsed": false
   },
   "outputs": [
    {
     "name": "stdout",
     "output_type": "stream",
     "text": [
      "{'val_loss': [1.9508897387981414, 1.9700905859470368, 2.025896316766739, 2.0205683064460755, 2.0615976464748385, 2.1022848767042159, 2.2863137525320054, 2.3981454771757127, 2.3969377505779268, 2.564250957965851, 2.4670783561468124, 2.5264819258451463, 2.6675261223316191, 2.7292470031976701, 2.8190580368041993, 2.7620517838001253, 3.043672934770584, 2.8945964574813843, 3.0550818431377409, 3.0220643144845964], 'val_acc': [0.5100000065565109, 0.50600000716745852, 0.51000000670552259, 0.51100000701844694, 0.52500000655651091, 0.51900000832974913, 0.51500000663101675, 0.49900000765919683, 0.48500000737607479, 0.4550000071525574, 0.50300000533461575, 0.51700000546872615, 0.49300000786781312, 0.48500000834465029, 0.49600000582635401, 0.50600000597536565, 0.48200000703334811, 0.51200000688433644, 0.50500000782310961, 0.49500000856816767], 'loss': [0.32206081822514532, 0.36137291043996811, 0.20957010909914969, 0.24130884632468225, 0.2102635471150279, 0.17838582992553711, 0.15517997704446315, 0.18394315093755723, 0.17583747543394565, 0.18826116248965263, 0.15773820802569388, 0.072479547187685969, 0.080521500902250409, 0.068244306929409498, 0.06884759957902134, 0.12290298389270901, 0.089726641867309803, 0.074029468838125473, 0.048614197038114072, 0.053058223146945235], 'acc': [0.92999998331069944, 0.89999999403953557, 0.94999998807907104, 0.93000000119209292, 0.9499999940395355, 0.95999999642372136, 0.9799999952316284, 0.95999999642372136, 0.93999999165534975, 0.93999999165534975, 0.95999999046325679, 0.98999999761581425, 0.98999999761581425, 0.98999999761581425, 0.9799999952316284, 0.96999999284744265, 0.9799999952316284, 0.98999999761581425, 1.0, 0.98999999761581425]}\n"
     ]
    },
    {
     "data": {
      "image/png": "[encoded data removed]",
      "text/plain": [
       "<matplotlib.figure.Figure at 0x1196d1748>"
      ]
     },
     "metadata": {},
     "output_type": "display_data"
    },
    {
     "name": "stdout",
     "output_type": "stream",
     "text": [
      "10/10 [==============================] - 2s - loss: 0.0531 - acc: 0.9900 - val_loss: 3.0221 - val_acc: 0.4950\n"
     ]
    },
    {
     "data": {
      "text/plain": [
       "<keras.callbacks.History at 0x13be47208>"
      ]
     },
     "execution_count": 43,
     "metadata": {},
     "output_type": "execute_result"
    }
   ],
   "source": [
    "model.fit_generator(image ,steps_per_epoch=len(X_tf_train), validation_data=(X_tf_test, Y_test),epochs=25,\n",
    "                   callbacks=[TrainingVisualizerCallback()])"
   ]
  },
  {
   "cell_type": "code",
   "execution_count": null,
   "metadata": {
    "collapsed": true
   },
   "outputs": [],
   "source": [
    "# rotation gets validation accuracy up to 49.5% , compared to baseline of 46%\n"
   ]
  },
  {
   "cell_type": "markdown",
   "metadata": {},
   "source": [
    "# Horizontal Flip"
   ]
  },
  {
   "cell_type": "code",
   "execution_count": 48,
   "metadata": {
    "collapsed": false
   },
   "outputs": [
    {
     "name": "stdout",
     "output_type": "stream",
     "text": [
      "{'val_loss': [2.8655392163991928, 2.7844639313220978, 3.0167557907104494, 3.0544667762517927, 3.1801817893981932, 3.0781797993183138, 3.0800323009490969, 3.0690221744775772, 3.1145402371883391, 3.1514326339960097, 3.2376445734500887, 3.30046348631382, 3.2496390128135682, 3.2866289442777634, 3.3653052872419358, 3.3671793973445894, 3.3653581589460373, 3.4443596982955933, 3.7089496880769728, 3.5957949995994567, 3.6765262806415557, 3.6979528880119323, 3.6530084216594698, 3.7708007651567459, 3.7780473566055299], 'val_acc': [0.50400000743567941, 0.49900000594556332, 0.49800000824034213, 0.49300000615417955, 0.49700000621378421, 0.51100000537931922, 0.50300000555813318, 0.50500000782310961, 0.50500000752508645, 0.50800000689923763, 0.49700000725686549, 0.50500000663101674, 0.5130000054091215, 0.5100000065565109, 0.51300000555813308, 0.51500000499188903, 0.51000000528991218, 0.51600000582635408, 0.5170000064373016, 0.50800000354647634, 0.50600000701844694, 0.49700000621378421, 0.50500000528991218, 0.51500000700354576, 0.51100000724196437], 'loss': [0.43539175114128736, 0.2805077411234379, 0.078422300517559052, 0.044272853434085845, 0.02981628100387752, 0.036061831586994234, 0.024051405856152997, 0.036567642109002915, 0.013337280944688246, 0.019830403116066007, 0.0068625317901023662, 0.009288439428200946, 0.019631359528284521, 0.011312574676412623, 0.046826404100283978, 0.007194836641428992, 0.0084166442393325269, 0.0030013718525879083, 0.01123037216020748, 0.019670969343860634, 0.039663628919515762, 0.021855759166646747, 0.0032572737265581962, 0.0087242642184719443, 0.010239426828775322], 'acc': [0.899999988079071, 0.90999999642372131, 0.98999999761581425, 0.98999999761581425, 1.0, 0.98999999761581425, 0.98999999761581425, 0.9799999952316284, 1.0, 1.0, 1.0, 1.0, 0.98999999761581425, 1.0, 0.98999999761581425, 1.0, 1.0, 1.0, 1.0, 1.0, 0.98999999761581425, 1.0, 1.0, 1.0, 0.98999999761581425]}\n"
     ]
    },
    {
     "data": {
      "image/png": "[encoded data removed]",
      "text/plain": [
       "<matplotlib.figure.Figure at 0x140203e80>"
      ]
     },
     "metadata": {},
     "output_type": "display_data"
    },
    {
     "name": "stdout",
     "output_type": "stream",
     "text": [
      "10/10 [==============================] - 2s - loss: 0.0102 - acc: 0.9900 - val_loss: 3.7780 - val_acc: 0.5110\n"
     ]
    },
    {
     "data": {
      "text/plain": [
       "<keras.callbacks.History at 0x13e862898>"
      ]
     },
     "execution_count": 48,
     "metadata": {},
     "output_type": "execute_result"
    }
   ],
   "source": [
    "model.fit_generator(image_2 ,steps_per_epoch=len(X_tf_train), validation_data=(X_tf_test, Y_test),epochs=25,\n",
    "                   callbacks=[TrainingVisualizerCallback()])"
   ]
  },
  {
   "cell_type": "code",
   "execution_count": null,
   "metadata": {
    "collapsed": true
   },
   "outputs": [],
   "source": [
    "# Horizontal flip gets accuracy of 51.1% compared to baseline of 46%"
   ]
  },
  {
   "cell_type": "markdown",
   "metadata": {},
   "source": [
    "# Vertical Flip"
   ]
  },
  {
   "cell_type": "code",
   "execution_count": 51,
   "metadata": {
    "collapsed": false
   },
   "outputs": [
    {
     "name": "stdout",
     "output_type": "stream",
     "text": [
      "{'val_loss': [3.8458202958106993, 3.8059251123666762, 3.8613414806127548, 3.8222274434566499, 3.8158801269531248, 3.8185422122478485, 3.832293621301651, 3.7651313650608063, 3.8234990411996841, 3.9775207549333573, 4.0163310146331783, 4.0430462861061098, 4.0346171456575393, 4.0625495249032975, 4.1639437031745912, 4.1622372102737426, 4.155588262081146, 4.2263922369480129, 3.9546646428108216, 4.1065504550933838, 4.1166728174686433, 4.1687184154987333, 4.1058159482479093, 4.1450551927089689, 4.1990240728855133], 'val_acc': [0.5140000063180924, 0.51200000651180744, 0.5040000047534704, 0.5110000046342611, 0.51500000409781932, 0.5120000041276217, 0.51400000505149368, 0.5090000047534704, 0.51600000567734239, 0.50800000682473179, 0.50700000599026684, 0.512000005543232, 0.51100000724196437, 0.51400000482797625, 0.50300000697374347, 0.50700000748038287, 0.50800000615417962, 0.5200000056624412, 0.50800000645220278, 0.51000000528991218, 0.50500000484287744, 0.50800000540912149, 0.51100000485777852, 0.50900000564754011, 0.50700000636279585], 'loss': [0.0040709587919991463, 0.0057717287796549503, 0.0099514836663729504, 0.0096237832378392348, 0.002520883521901851, 0.0029885792726418005, 0.0024162598008842908, 0.0034643450532712448, 0.0066526152408187041, 0.018797800667198317, 0.0022537348011610449, 0.0051167857207474301, 0.0025680930091766642, 0.00066601742146303882, 0.0017107939789639203, 0.00085225981347321063, 0.0028844550522990177, 0.0074341172206914049, 0.0044054140093976457, 0.0019803977076662703, 0.00068913637103378282, 0.0023173919908003882, 0.016206240034807706, 0.0024117485967849461, 0.0016707461955888902], 'acc': [1.0, 1.0, 0.98999999761581425, 0.98999999761581425, 1.0, 1.0, 1.0, 1.0, 1.0, 0.98999999761581425, 1.0, 1.0, 1.0, 1.0, 1.0, 1.0, 1.0, 1.0, 1.0, 1.0, 1.0, 1.0, 0.98999999761581425, 1.0, 1.0]}\n"
     ]
    },
    {
     "data": {
      "image/png": "[encoded data removed]",
      "text/plain": [
       "<matplotlib.figure.Figure at 0x13e82af60>"
      ]
     },
     "metadata": {},
     "output_type": "display_data"
    },
    {
     "name": "stdout",
     "output_type": "stream",
     "text": [
      "10/10 [==============================] - 2s - loss: 0.0017 - acc: 1.0000 - val_loss: 4.1990 - val_acc: 0.5070\n"
     ]
    },
    {
     "data": {
      "text/plain": [
       "<keras.callbacks.History at 0x13e862cc0>"
      ]
     },
     "execution_count": 51,
     "metadata": {},
     "output_type": "execute_result"
    }
   ],
   "source": [
    "model.fit_generator(image_3 ,steps_per_epoch=len(X_tf_train), validation_data=(X_tf_test, Y_test),epochs=25,\n",
    "                   callbacks=[TrainingVisualizerCallback()])"
   ]
  },
  {
   "cell_type": "code",
   "execution_count": null,
   "metadata": {
    "collapsed": true
   },
   "outputs": [],
   "source": [
    "# vertical flip gets to 50.7% accuracy, baseline of 46%"
   ]
  },
  {
   "cell_type": "markdown",
   "metadata": {},
   "source": [
    "# Shear"
   ]
  },
  {
   "cell_type": "code",
   "execution_count": 57,
   "metadata": {
    "collapsed": false
   },
   "outputs": [
    {
     "name": "stdout",
     "output_type": "stream",
     "text": [
      "{'val_loss': [3.4716912031173708, 2.8310947650671006, 2.511077787876129, 2.4916478478908539, 2.4904030507802961, 2.4273483115434646, 2.4044551527500153, 2.370275402665138, 2.6203693312406542, 2.5789631968736648, 2.6638164913654325, 2.6073009443283079, 2.7447883063554763, 2.7336642426252364, 2.8829306721687318, 2.9008905637264251, 2.999223860502243, 3.0823921030759811, 3.2383950316905974, 3.2319651830196379, 3.1724117350578309, 3.3570049029588698, 3.3559335660934448, 3.3166821074485777, 3.3419889885187151], 'val_acc': [0.50300000622868535, 0.49800000637769698, 0.4990000070631504, 0.4970000071823597, 0.50700000733137129, 0.50500000551342961, 0.49200000479817391, 0.49600000649690629, 0.49100000739097593, 0.47600000664591791, 0.48900000646710395, 0.49100000739097593, 0.49100000485777856, 0.49100000575184821, 0.49700000479817391, 0.49800000578165055, 0.48800000652670861, 0.49400000542402267, 0.48700000673532484, 0.49300000682473183, 0.48600000604987142, 0.48500000678002836, 0.46700000710785389, 0.48400000803172588, 0.48200000651180747], 'loss': [3.4343860387802123, 1.9638433694839477, 1.248336811363697, 0.8351213723421097, 0.68497302234172819, 0.60832020342350002, 0.7172124564647675, 0.74111283421516416, 0.45730615854263307, 0.35227155238389968, 0.48079732358455657, 0.43522144258022311, 0.25438623502850533, 0.28240192085504534, 0.22059220597147941, 0.24103434160351753, 0.28257360085844996, 0.14892633426934482, 0.13239268809556962, 0.19602933302521705, 0.22729643378406764, 0.13205146547406912, 0.20864501520991324, 0.21019988078624011, 0.19390923567116261], 'acc': [0.47000001072883607, 0.47000001519918444, 0.65000000298023219, 0.7199999988079071, 0.80999999046325688, 0.83999999761581423, 0.72000001072883602, 0.78999999761581419, 0.83999999165534978, 0.90999999046325686, 0.83000000119209294, 0.84999999403953552, 0.90999999642372131, 0.88000000119209287, 0.9499999940395355, 0.93999999165534975, 0.91999998688697815, 0.95999999046325679, 0.9799999952316284, 0.96000000238418581, 0.9399999856948853, 0.9799999952316284, 0.9299999892711639, 0.9199999928474426, 0.91999998688697815]}\n"
     ]
    },
    {
     "data": {
      "image/png": "[encoded data removed]",
      "text/plain": [
       "<matplotlib.figure.Figure at 0x13e850d68>"
      ]
     },
     "metadata": {},
     "output_type": "display_data"
    },
    {
     "name": "stdout",
     "output_type": "stream",
     "text": [
      "10/10 [==============================] - 2s - loss: 0.1939 - acc: 0.9200 - val_loss: 3.3420 - val_acc: 0.4820\n"
     ]
    },
    {
     "data": {
      "text/plain": [
       "<keras.callbacks.History at 0x13fc89828>"
      ]
     },
     "execution_count": 57,
     "metadata": {},
     "output_type": "execute_result"
    }
   ],
   "source": [
    "model.fit_generator(image_4 ,steps_per_epoch=len(X_tf_train), validation_data=(X_tf_test, Y_test),epochs=25,\n",
    "                   callbacks=[TrainingVisualizerCallback()])"
   ]
  },
  {
   "cell_type": "code",
   "execution_count": null,
   "metadata": {
    "collapsed": true
   },
   "outputs": [],
   "source": [
    "## Random shearing get accuracy of 48.2%"
   ]
  },
  {
   "cell_type": "markdown",
   "metadata": {},
   "source": [
    "# Centered"
   ]
  },
  {
   "cell_type": "code",
   "execution_count": 71,
   "metadata": {
    "collapsed": false
   },
   "outputs": [
    {
     "name": "stdout",
     "output_type": "stream",
     "text": [
      "{'val_loss': [4.1180478745698927, 4.0970923322439194, 4.0997641360759731, 4.0742183887958525, 4.0653340047597881, 4.0788385814428327, 4.0611974501609804, 4.0667063993215562, 4.07903270483017, 4.0867579555511471, 4.0726362979412079, 4.0666535454988484, 4.068143404722214, 4.064323421120644, 4.0546590292453768, 4.0526123011112212, 4.0579453128576279, 4.0651082074642177, 4.0744239503145216, 4.0727435159683232, 4.080531234741211, 4.0803181326389311, 4.0842612618207932, 4.0927180379629133, 4.0900923514366152], 'val_acc': [0.45100000672042367, 0.43800000540912154, 0.43300000563263891, 0.42400000542402266, 0.42400000631809237, 0.41800000593066217, 0.41800000563263895, 0.41600000604987142, 0.41300000533461573, 0.41700000673532484, 0.41900000631809237, 0.41200000517070295, 0.41300000570714474, 0.40900000564754008, 0.41300000600516795, 0.41200000636279582, 0.41100000582635404, 0.41100000582635404, 0.40900000624358657, 0.40800000660121438, 0.40700000636279582, 0.40800000630319117, 0.40700000636279582, 0.40600000627338884, 0.40400000602006914], 'loss': [2.9405108690261841, 2.3537127256393431, 2.3202178239822389, 2.3069682836532595, 2.3263312578201294, 2.305879259109497, 2.3209174871444702, 2.3051940679550169, 2.3201347589492798, 2.3241292476654052, 2.3205838441848754, 2.3201136112213137, 2.3060141563415528, 2.3094187736511231, 2.3063197612762449, 2.29909348487854, 2.3107928276062011, 2.3082610368728638, 2.3084424734115601, 2.3057362556457521, 2.3014719963073729, 2.3065084695816038, 2.3022587299346924, 2.3059139013290406, 2.3059998512268067], 'acc': [0.10000000149011612, 0.13000000268220901, 0.13000000342726709, 0.090000001341104502, 0.11000000238418579, 0.11000000163912774, 0.1200000025331974, 0.10000000149011612, 0.10000000149011612, 0.1200000025331974, 0.06000000089406967, 0.070000001043081281, 0.13000000268220901, 0.10000000223517418, 0.10000000149011612, 0.080000001937150955, 0.11000000312924385, 0.06000000089406967, 0.10000000149011612, 0.10000000149011612, 0.10000000149011612, 0.080000001192092898, 0.10000000149011612, 0.080000001937150955, 0.06000000089406967]}\n"
     ]
    },
    {
     "data": {
      "image/png": "[encoded data removed]",
      "text/plain": [
       "<matplotlib.figure.Figure at 0x13e67de80>"
      ]
     },
     "metadata": {},
     "output_type": "display_data"
    },
    {
     "name": "stdout",
     "output_type": "stream",
     "text": [
      "10/10 [==============================] - 3s - loss: 2.3060 - acc: 0.0600 - val_loss: 4.0901 - val_acc: 0.4040\n"
     ]
    },
    {
     "data": {
      "text/plain": [
       "<keras.callbacks.History at 0x11fc16358>"
      ]
     },
     "execution_count": 71,
     "metadata": {},
     "output_type": "execute_result"
    }
   ],
   "source": [
    "model.fit_generator(image_5 ,steps_per_epoch=len(X_tf_train), validation_data=(X_tf_test, Y_test),epochs=25,\n",
    "                   callbacks=[TrainingVisualizerCallback()])"
   ]
  },
  {
   "cell_type": "code",
   "execution_count": null,
   "metadata": {
    "collapsed": true
   },
   "outputs": [],
   "source": [
    "# Centered images only have slightly better accuracy 47.7% vs 46% for "
   ]
  },
  {
   "cell_type": "markdown",
   "metadata": {},
   "source": [
    "# Height Shift"
   ]
  },
  {
   "cell_type": "code",
   "execution_count": 74,
   "metadata": {
    "collapsed": false
   },
   "outputs": [
    {
     "name": "stdout",
     "output_type": "stream",
     "text": [
      "{'val_loss': [2.2328198701143265, 1.873013095855713, 1.8797415721416473, 1.9152605330944061, 2.0328651213645936, 2.042587801218033, 2.1214642155170442, 2.1055953943729402, 2.1902052998542785, 2.225565038919449, 2.4018653869628905, 2.4958729243278501, 2.596305751800537, 2.4433813464641569, 2.6325471496582029, 2.9563345777988435, 3.0226898336410524, 3.323709146976471, 2.9876769495010378, 3.1047117316722872, 3.3619300854206084, 3.3615209877490999, 3.3394596350193022, 3.3340211141109468, 3.3030599200725557], 'val_acc': [0.404000007212162, 0.39600000627338888, 0.38600000724196432, 0.36500000707805158, 0.35500000625848771, 0.36100000597536563, 0.37000000566244123, 0.39300000600516793, 0.38600000642240045, 0.37500000491738317, 0.35400000572204587, 0.3610000053793192, 0.37300000660121441, 0.37100000627338886, 0.36200000613927841, 0.36500000603497029, 0.36000000543892385, 0.33300000660121443, 0.34000000573694705, 0.3530000065267086, 0.34500000648200513, 0.35700000718235969, 0.35000000797212122, 0.36700000651180742, 0.3650000059604645], 'loss': [3.911703610420227, 2.3273272514343262, 1.962894332408905, 1.7737103462219239, 1.7065244138240814, 1.7530228734016418, 1.3834586262702941, 1.4343927264213563, 1.3961928248405457, 1.3939836382865907, 1.1552400231361388, 1.0247528553009033, 1.02377308011055, 0.90655236244201665, 0.77712310552597041, 0.79896509647369385, 0.80576604604721069, 0.89483774304389951, 0.77780634164810181, 0.56854420006275175, 0.69103234112262724, 0.53286213576793673, 0.49906040132045748, 0.52946560978889468, 0.5126809239387512], 'acc': [0.29000000581145285, 0.2600000061094761, 0.33000000417232511, 0.42000000625848771, 0.44000000432133674, 0.36000000387430192, 0.57000000774860382, 0.52000000625848775, 0.52000000178813932, 0.49000000506639479, 0.61000000238418584, 0.68000001311302183, 0.64999999701976774, 0.66999999880790706, 0.76000000834465031, 0.75000000596046446, 0.73000000119209285, 0.73000000119209285, 0.73999999165534969, 0.81999999284744263, 0.83000000119209294, 0.88999999165534971, 0.83999999761581423, 0.79999999403953548, 0.80999999642372134]}\n"
     ]
    },
    {
     "data": {
      "image/png": "[encoded data removed]",
      "text/plain": [
       "<matplotlib.figure.Figure at 0x13fcaff60>"
      ]
     },
     "metadata": {},
     "output_type": "display_data"
    },
    {
     "name": "stdout",
     "output_type": "stream",
     "text": [
      "10/10 [==============================] - 2s - loss: 0.5127 - acc: 0.8100 - val_loss: 3.3031 - val_acc: 0.3650\n"
     ]
    },
    {
     "data": {
      "text/plain": [
       "<keras.callbacks.History at 0x13e862278>"
      ]
     },
     "execution_count": 74,
     "metadata": {},
     "output_type": "execute_result"
    }
   ],
   "source": [
    "\n",
    "model.fit_generator(image_6 ,steps_per_epoch=len(X_tf_train), validation_data=(X_tf_test, Y_test),epochs=25,\n",
    "                   callbacks=[TrainingVisualizerCallback()])"
   ]
  },
  {
   "cell_type": "code",
   "execution_count": null,
   "metadata": {
    "collapsed": true
   },
   "outputs": [],
   "source": []
  },
  {
   "cell_type": "code",
   "execution_count": null,
   "metadata": {
    "collapsed": true
   },
   "outputs": [],
   "source": []
  },
  {
   "cell_type": "code",
   "execution_count": null,
   "metadata": {
    "collapsed": true
   },
   "outputs": [],
   "source": []
  },
  {
   "cell_type": "code",
   "execution_count": null,
   "metadata": {
    "collapsed": true
   },
   "outputs": [],
   "source": []
  },
  {
   "cell_type": "markdown",
   "metadata": {
    "deletable": true,
    "editable": true
   },
   "source": [
    "## Task\n",
    "\n",
    "- Use data augmentation to improve over the baseline performance of using just a single training example from each class\n",
    "\n",
    "## Hints\n",
    "\n",
    "- Use [`keras.preprocessing.image.ImageDataGenerator`](https://keras.io/preprocessing/image/) for performing data augmentation to increase the effective size of your training set\n",
    "\n",
    "## Requirements\n",
    "\n",
    "- Use the hyperparameters above and do **not** modify any of them\n",
    "- Execute the code cell above which redefines and recompiles the model to reset the weights!\n",
    "\n",
    "## Concessions\n",
    "\n",
    "- You may use `X_tf_test` for validation `(`e.g. `model.fit(..., validation_data=(X_tf_test, Y_test))` for simplicity and report this number"
   ]
  },
  {
   "cell_type": "code",
   "execution_count": null,
   "metadata": {
    "collapsed": false,
    "deletable": true,
    "editable": true
   },
   "outputs": [],
   "source": []
  },
  {
   "cell_type": "markdown",
   "metadata": {
    "deletable": true,
    "editable": true
   },
   "source": [
    "# Question\n",
    "\n",
    "- Did you find any augmentations which resulted in an increase in prediction accuracy? If so, which augmentation(s)? Be sure to include evidence data to back up your claim."
   ]
  },
  {
   "cell_type": "code",
   "execution_count": null,
   "metadata": {
    "collapsed": true,
    "deletable": true,
    "editable": true
   },
   "outputs": [],
   "source": [
    "## THe biggest increase came from horizontal flips in the images (51% vs 46% baseline)"
   ]
  }
 ],
 "metadata": {
  "kernelspec": {
   "display_name": "Python [conda env:dl]",
   "language": "python",
   "name": "conda-env-dl-py"
  },
  "language_info": {
   "codemirror_mode": {
    "name": "ipython",
    "version": 3
   },
   "file_extension": ".py",
   "mimetype": "text/x-python",
   "name": "python",
   "nbconvert_exporter": "python",
   "pygments_lexer": "ipython3",
   "version": "3.6.0"
  }
 },
 "nbformat": 4,
 "nbformat_minor": 2
}
