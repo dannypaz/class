{
 "cells": [
  {
   "cell_type": "code",
   "execution_count": 3,
   "metadata": {
    "collapsed": false
   },
   "outputs": [
    {
     "name": "stdout",
     "output_type": "stream",
     "text": [
      "Populating the interactive namespace from numpy and matplotlib\n"
     ]
    }
   ],
   "source": [
    "import numpy as np\n",
    "import matplotlib.pyplot as plt\n",
    "%pylab inline"
   ]
  },
  {
   "cell_type": "code",
   "execution_count": 4,
   "metadata": {
    "collapsed": true
   },
   "outputs": [],
   "source": [
    "\n",
    "# the gradient descent function\n",
    "def gradient_descent(w,alpha,max_its):\n",
    "    w_history = []\n",
    "    w_history.append(w)\n",
    "\n",
    "    # start gradient descent loop\n",
    "    iter = 1\n",
    "    for k in range(0,max_its):\n",
    "        # calculate gradient (a single derivative in this case)\n",
    "        grad = np.exp(w)*np.cos(2*np.pi*np.sin(np.pi*w)) - 2*np.pi**2*np.exp(w)*np.sin(2*np.pi*np.sin(np.pi*w))*np.cos(np.pi*w)\n",
    "        \n",
    "        # take gradient descent step\n",
    "        w = w - alpha*grad\n",
    "\n",
    "        # store weights at this iteration\n",
    "        w_history.append(w)\n",
    "\n",
    "    return w_history"
   ]
  },
  {
   "cell_type": "code",
   "execution_count": 21,
   "metadata": {
    "collapsed": false
   },
   "outputs": [],
   "source": [
    "# run the gradient descent function above\n",
    "w_history = gradient_descent(w = 0.1, alpha = 0.0001, max_its = 200)"
   ]
  },
  {
   "cell_type": "code",
   "execution_count": 22,
   "metadata": {
    "collapsed": false
   },
   "outputs": [
    {
     "data": {
      "text/plain": [
       "<matplotlib.collections.PathCollection at 0x10c1933c8>"
      ]
     },
     "execution_count": 22,
     "metadata": {},
     "output_type": "execute_result"
    },
    {
     "data": {
      "image/png": "[encoded data removed]",
      "text/plain": [
       "<matplotlib.figure.Figure at 0x10bc14630>"
      ]
     },
     "metadata": {},
     "output_type": "display_data"
    }
   ],
   "source": [
    "# plot all of the gradient descent steps evaluated at the cost function\n",
    "plt.scatter([_ for _  in range(len(w_history))],w_history)"
   ]
  },
  {
   "cell_type": "code",
   "execution_count": 23,
   "metadata": {
    "collapsed": true
   },
   "outputs": [],
   "source": [
    "\n",
    "def newtons_method(w,max_its):\n",
    "    #initializations\n",
    "    w_history = []\n",
    "    w_history.append(w)\n",
    "\n",
    "    #main loop\n",
    "    for k in range(0,max_its):\n",
    "        # form first and second derivatives (grad and hess, respectively)\n",
    "        grad = 4*(w**3) + 2*w + 10  \n",
    "        hess = 12*w**2 + 2\n",
    "        \n",
    "        # take step of Newton's method\n",
    "        w = w - grad/hess\n",
    "\n",
    "        #update containers\n",
    "        w_history.append(w)\n",
    "\n",
    "    return w_history"
   ]
  },
  {
   "cell_type": "code",
   "execution_count": 24,
   "metadata": {
    "collapsed": true
   },
   "outputs": [],
   "source": [
    "# run the Newton's method algorithm above for a given starting point w and max iterations max_iter\n",
    "w_history = newtons_method(w = -2.5,max_its = 5)"
   ]
  },
  {
   "cell_type": "code",
   "execution_count": 25,
   "metadata": {
    "collapsed": false
   },
   "outputs": [
    {
     "data": {
      "text/plain": [
       "<matplotlib.collections.PathCollection at 0x10c28c320>"
      ]
     },
     "execution_count": 25,
     "metadata": {},
     "output_type": "execute_result"
    },
    {
     "data": {
      "image/png": "[encoded data removed]",
      "text/plain": [
       "<matplotlib.figure.Figure at 0x10bfef400>"
      ]
     },
     "metadata": {},
     "output_type": "display_data"
    }
   ],
   "source": [
    "plt.scatter([_ for _ in range(len(w_history))],w_history)"
   ]
  },
  {
   "cell_type": "code",
   "execution_count": 26,
   "metadata": {
    "collapsed": true
   },
   "outputs": [],
   "source": [
    "def newtons_method(w,max_its):\n",
    "    #initializations\n",
    "    w_history = []\n",
    "    w_history.append(w)\n",
    "\n",
    "    #main loop\n",
    "    for k in range(0,max_its):\n",
    "        # form first and second derivatives (grad and hess, respectively)\n",
    "        grad =  np.exp(w)*np.cos(2*np.pi*np.sin(np.pi*w)) - 2*(np.pi**2)*np.exp(w)*np.sin(2*np.pi*np.sin(np.pi*w))*np.cos(np.pi*w)\n",
    "        hess = np.exp(w)*(2*(np.pi**3)*np.sin(np.pi*w)*np.sin(2*np.pi*np.sin(np.pi*w)) - (4*np.pi**4)*(np.cos(np.pi*w)**2)*np.cos(2*np.pi*np.sin(np.pi*w)) + np.cos(2*np.pi*np.sin(np.pi*w)) - (4*np.pi**2)*np.sin(2*np.pi*np.sin(np.pi*w))*np.cos(np.pi*w))\n",
    "\n",
    "        # take step of Newton's method\n",
    "        w = w - grad/hess\n",
    "\n",
    "        #update containers\n",
    "        w_history.append(w)\n",
    "\n",
    "    return w_history"
   ]
  },
  {
   "cell_type": "code",
   "execution_count": 28,
   "metadata": {
    "collapsed": false
   },
   "outputs": [],
   "source": [
    "\n",
    "# run the Newton's method algorithm above for a given starting point w and max iterations max_iter\n",
    "w_history = newtons_method(w = 0.9,max_its = 5)"
   ]
  },
  {
   "cell_type": "code",
   "execution_count": 29,
   "metadata": {
    "collapsed": false
   },
   "outputs": [
    {
     "data": {
      "text/plain": [
       "<matplotlib.collections.PathCollection at 0x10c379828>"
      ]
     },
     "execution_count": 29,
     "metadata": {},
     "output_type": "execute_result"
    },
    {
     "data": {
      "image/png": "[encoded data removed]",
      "text/plain": [
       "<matplotlib.figure.Figure at 0x10c28e4e0>"
      ]
     },
     "metadata": {},
     "output_type": "display_data"
    }
   ],
   "source": [
    "plt.scatter([_ for _ in range(len(w_history))],w_history)"
   ]
  },
  {
   "cell_type": "code",
   "execution_count": null,
   "metadata": {
    "collapsed": true
   },
   "outputs": [],
   "source": []
  }
 ],
 "metadata": {
  "kernelspec": {
   "display_name": "Python [conda env:dl]",
   "language": "python",
   "name": "conda-env-dl-py"
  },
  "language_info": {
   "codemirror_mode": {
    "name": "ipython",
    "version": 3
   },
   "file_extension": ".py",
   "mimetype": "text/x-python",
   "name": "python",
   "nbconvert_exporter": "python",
   "pygments_lexer": "ipython3",
   "version": "3.6.0"
  }
 },
 "nbformat": 4,
 "nbformat_minor": 2
}
