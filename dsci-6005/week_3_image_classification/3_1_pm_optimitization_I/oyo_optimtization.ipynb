{
 "cells": [
  {
   "cell_type": "markdown",
   "metadata": {
    "deletable": true,
    "editable": true,
    "slideshow": {
     "slide_type": "slide"
    }
   },
   "source": [
    "__Rosenbrock function__, aka The Banana function \n",
    "-------\n",
    "\n",
    "<center><img src=\"https://upload.wikimedia.org/wikipedia/commons/3/32/Rosenbrock_function.svg\" height=\"500\"/></center>\n",
    "\n",
    "What is going on with this function?\n",
    "\n",
    "Where is the global minimum?\n",
    "\n",
    "Why might this be difficult for gradient-based optimization algorithms? "
   ]
  },
  {
   "cell_type": "markdown",
   "metadata": {
    "deletable": true,
    "editable": true,
    "slideshow": {
     "slide_type": "slide"
    }
   },
   "source": [
    "The function is unimodal, and the global minimum lies in a narrow, parabolic valley. \n",
    "\n",
    "However, even though this valley is easy to find, convergence to the minimum is difficult (Picheny et al., 2012). \n",
    "\n",
    "A popular test problem for gradient-based optimization algorithms. \n",
    "\n",
    "[Learn more here](https://en.wikipedia.org/wiki/Rosenbrock_function)"
   ]
  },
  {
   "cell_type": "markdown",
   "metadata": {
    "deletable": true,
    "editable": true,
    "slideshow": {
     "slide_type": "slide"
    }
   },
   "source": [
    "<br>\n",
    "<br> \n",
    "<br>\n",
    "\n",
    "----"
   ]
  }
 ],
 "metadata": {
  "celltoolbar": "Slideshow",
  "kernelspec": {
   "display_name": "Python 3",
   "language": "python",
   "name": "python3"
  },
  "language_info": {
   "codemirror_mode": {
    "name": "ipython",
    "version": 3
   },
   "file_extension": ".py",
   "mimetype": "text/x-python",
   "name": "python",
   "nbconvert_exporter": "python",
   "pygments_lexer": "ipython3",
   "version": "3.6.1"
  }
 },
 "nbformat": 4,
 "nbformat_minor": 2
}
