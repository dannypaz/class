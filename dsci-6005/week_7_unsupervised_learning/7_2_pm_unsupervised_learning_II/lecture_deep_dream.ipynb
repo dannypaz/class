{
 "cells": [
  {
   "cell_type": "markdown",
   "metadata": {
    "slideshow": {
     "slide_type": "slide"
    }
   },
   "source": [
    "Deep Dream & Neural Style Transfer\n",
    "-----\n",
    "<br>\n",
    "<center><img src=\"http://1.media.collegehumor.cvcdn.com/66/88/3ef750ddc13282daab600f8012ef436f.gif\" width=\"500\"/></center>"
   ]
  },
  {
   "cell_type": "markdown",
   "metadata": {
    "slideshow": {
     "slide_type": "slide"
    }
   },
   "source": [
    "Deep Dream\n",
    "------\n",
    "\n",
    "<center><img src=\"http://s1.postimg.org/9qah6ksqn/trr1.jpg\" width=\"200\"/></center>\n",
    "\n",
    "Created by Google\n",
    "\n",
    "Deliberately over-processing an image with an CNN to enhance patterns, creating a dream-like hallucinogenic appearance."
   ]
  },
  {
   "cell_type": "markdown",
   "metadata": {
    "slideshow": {
     "slide_type": "slide"
    }
   },
   "source": [
    "DeepDream Steps\n",
    "-----\n",
    "\n",
    "1) Pick pretrained network\n"
   ]
  },
  {
   "cell_type": "markdown",
   "metadata": {
    "slideshow": {
     "slide_type": "fragment"
    }
   },
   "source": [
    "2) Pick layer to stop\n"
   ]
  },
  {
   "cell_type": "markdown",
   "metadata": {
    "slideshow": {
     "slide_type": "fragment"
    }
   },
   "source": [
    "3) Foward pass image to layer\n"
   ]
  },
  {
   "cell_type": "markdown",
   "metadata": {
    "slideshow": {
     "slide_type": "fragment"
    }
   },
   "source": [
    "4) __Set `gradient = activation`__\n"
   ]
  },
  {
   "cell_type": "markdown",
   "metadata": {
    "slideshow": {
     "slide_type": "fragment"
    }
   },
   "source": [
    "5) Backward pass"
   ]
  },
  {
   "cell_type": "markdown",
   "metadata": {
    "slideshow": {
     "slide_type": "slide"
    }
   },
   "source": [
    "What does setting `gradient = activation` do?\n",
    "-----"
   ]
  },
  {
   "cell_type": "markdown",
   "metadata": {
    "slideshow": {
     "slide_type": "fragment"
    }
   },
   "source": [
    "Amplify features that currently active in the network; Whatever is currently active is boosted.\n",
    "\n",
    "After some random features activates a \"dog\" filter, the NN is like…\n",
    "> \"Hey that group of pixels looks like dog, let's make it look more like a dog.\""
   ]
  },
  {
   "cell_type": "markdown",
   "metadata": {
    "slideshow": {
     "slide_type": "slide"
    }
   },
   "source": [
    "Backpropagation: Take and turn it\n",
    "------\n",
    "\n",
    "In traditional backprop, the weights are adjusted.\n",
    "\n"
   ]
  },
  {
   "cell_type": "markdown",
   "metadata": {
    "slideshow": {
     "slide_type": "fragment"
    }
   },
   "source": [
    "In DeepDream, the weights are fixed and the input is adjusted."
   ]
  },
  {
   "cell_type": "markdown",
   "metadata": {
    "slideshow": {
     "slide_type": "slide"
    }
   },
   "source": [
    "DeepDream is a feature feedback loop\n",
    "-----\n",
    "<br>\n",
    "<center><img src=\"https://theosophical.files.wordpress.com/2014/12/telephone-game.jpg\" height=\"500\"/></center>"
   ]
  },
  {
   "cell_type": "markdown",
   "metadata": {
    "slideshow": {
     "slide_type": "slide"
    }
   },
   "source": [
    "DeepDream shows visual correlations\n",
    "-----\n",
    "<br>\n",
    "<center><img src=\"https://3.bp.blogspot.com/-dc6B2h_o1fc/VYITir_QCgI/AAAAAAAAAlU/Ysi0_reQTpI/s640/dumbbells.png\" height=\"500\"/></center>\n",
    "\n",
    "Dumbells 🏋 and arms 💪 appear together.\n",
    "\n",
    "However the model swaps them freely."
   ]
  },
  {
   "cell_type": "markdown",
   "metadata": {
    "slideshow": {
     "slide_type": "slide"
    }
   },
   "source": [
    "Check for understanding\n",
    "-----\n",
    "\n",
    "Why are there so many eyes and dogs in Deep Dream?"
   ]
  },
  {
   "cell_type": "markdown",
   "metadata": {
    "slideshow": {
     "slide_type": "fragment"
    }
   },
   "source": [
    "<center><img src=\"http://cs.stanford.edu/people/karpathy/ilsvrc/val/ILSVRC2012_val_00040003.JPEG\" height=\"500\"/></center>\n",
    "\n",
    "Trained on ImageNet - Lots of eyes and dogs"
   ]
  },
  {
   "cell_type": "markdown",
   "metadata": {
    "collapsed": true,
    "slideshow": {
     "slide_type": "slide"
    }
   },
   "source": [
    "Check for understanding\n",
    "------\n",
    "\n",
    "In DeepDream you can dream at any layer, what would happen if we dreamed at lower layer in the CNN?"
   ]
  },
  {
   "cell_type": "markdown",
   "metadata": {
    "slideshow": {
     "slide_type": "fragment"
    }
   },
   "source": [
    "<center><img src=\"images/lower.png\" height=\"500\"/></center>\n",
    "\n",
    "We would pick out lower level features.\n",
    "\n",
    "For example, textures or edges"
   ]
  },
  {
   "cell_type": "markdown",
   "metadata": {
    "slideshow": {
     "slide_type": "slide"
    }
   },
   "source": [
    "DeepDream Demo\n",
    "------"
   ]
  },
  {
   "cell_type": "code",
   "execution_count": 9,
   "metadata": {
    "collapsed": true,
    "slideshow": {
     "slide_type": "fragment"
    }
   },
   "outputs": [],
   "source": [
    "# %run deep_dream_demo/deep_dream.py deep_dream_demo/lambda.jpg in_class"
   ]
  },
  {
   "cell_type": "markdown",
   "metadata": {
    "slideshow": {
     "slide_type": "slide"
    }
   },
   "source": [
    "Try DeepDream on your own\n",
    "------\n",
    "https://deepdreamgenerator.com"
   ]
  },
  {
   "attachments": {},
   "cell_type": "markdown",
   "metadata": {
    "collapsed": true,
    "slideshow": {
     "slide_type": "slide"
    }
   },
   "source": [
    "Neural Style Transfer\n",
    "-----\n",
    "\n",
    "<br>\n",
    "<center><img src=\"http://genekogan.com/images/style-transfer/ml_cubist_expressionist_impressionist.jpg\" height=\"500\"/></center>\n",
    "\n"
   ]
  },
  {
   "cell_type": "markdown",
   "metadata": {
    "collapsed": true,
    "slideshow": {
     "slide_type": "slide"
    }
   },
   "source": [
    "Neural Style Transfer Steps\n",
    "-----\n",
    "<center><img src=\"https://no2147483647.files.wordpress.com/2015/12/pogo-vangogh-mxnet_600px.png?w=1008\" height=\"500\"/></center>\n",
    "1. For content image, take activations of all layers\n",
    "2. For style image, take Gram matrices activations of all layers\n",
    "3. Optimize final image to have:\n",
    "    - The content of the content image (activations match content)\n",
    "    - The style of the style image (Gram matrices of activations match style)"
   ]
  },
  {
   "cell_type": "markdown",
   "metadata": {
    "slideshow": {
     "slide_type": "slide"
    }
   },
   "source": [
    "Gram matrices find feature pair co-occurrences \n",
    "------\n",
    "\n",
    "Use the Gram matrix to find pairs of feature that are activate at same time in an image.\n",
    "\n",
    "Feature pair co-occurrences are the \"style\" of the image."
   ]
  },
  {
   "cell_type": "markdown",
   "metadata": {
    "collapsed": true,
    "slideshow": {
     "slide_type": "slide"
    }
   },
   "source": [
    "What is Gram matrix?\n",
    "-----\n",
    "\n",
    "Gram matrix is the matrix of all possible inner products of a set of vectors: G = XX<sup>T</sup>"
   ]
  },
  {
   "cell_type": "markdown",
   "metadata": {
    "slideshow": {
     "slide_type": "fragment"
    }
   },
   "source": [
    "<center><img src=\"images/gram.png\" width=\"500\"/></center>"
   ]
  },
  {
   "cell_type": "markdown",
   "metadata": {
    "collapsed": true,
    "slideshow": {
     "slide_type": "slide"
    }
   },
   "source": [
    "How are Gram matrices useful?\n",
    "------\n",
    "\n",
    "In machine learning, kernel functions are often represented as Gram matrices.\n",
    "\n",
    "If the vectors are centered random variables, the Gram is approximately proportional to the covariance matrix, with the scaling determined by the number of elements in the vector."
   ]
  },
  {
   "cell_type": "code",
   "execution_count": 10,
   "metadata": {
    "slideshow": {
     "slide_type": "slide"
    }
   },
   "outputs": [
    {
     "data": {
      "image/jpeg": "[encoded data removed]",
      "text/html": [
       "\n",
       "        <iframe\n",
       "            width=\"400\"\n",
       "            height=\"300\"\n",
       "            src=\"https://www.youtube.com/embed/8JiMUqbByGA\"\n",
       "            frameborder=\"0\"\n",
       "            allowfullscreen\n",
       "        ></iframe>\n",
       "        "
      ],
      "text/plain": [
       "<IPython.lib.display.YouTubeVideo at 0x1177875c0>"
      ]
     },
     "execution_count": 10,
     "metadata": {},
     "output_type": "execute_result"
    }
   ],
   "source": [
    "from IPython.display import YouTubeVideo\n",
    "\n",
    "YouTubeVideo(\"8JiMUqbByGA\")"
   ]
  },
  {
   "cell_type": "markdown",
   "metadata": {
    "slideshow": {
     "slide_type": "slide"
    }
   },
   "source": [
    "Practical applications of Neural Style Transfer\n",
    "-----\n",
    "\n",
    "1. Photo style transfer \n",
    "2. Novel product creation"
   ]
  },
  {
   "cell_type": "markdown",
   "metadata": {
    "slideshow": {
     "slide_type": "slide"
    }
   },
   "source": [
    "Photo Style Transfer\n",
    "-------\n",
    "<br>\n",
    "<center><img src=\"https://s.aolcdn.com/hss/storage/midas/8d06667586536a16b47dfb3d7f7450d9/205110024/adobe-photo-style-transfer-2017-03-30-04.jpg\" height=\"500\"/></center>\n",
    "\n",
    "Change light and \"tone\"; Do __not__ change structure (the lines, edges or perspective) "
   ]
  },
  {
   "cell_type": "markdown",
   "metadata": {
    "slideshow": {
     "slide_type": "skip"
    }
   },
   "source": [
    "[Source](https://www.engadget.com/2017/03/30/adobes-experimental-app-copies-one-photos-style-to-another/)"
   ]
  },
  {
   "cell_type": "markdown",
   "metadata": {
    "collapsed": true,
    "slideshow": {
     "slide_type": "slide"
    }
   },
   "source": [
    "Generative Visual Manipulation on the Natural Image Manifold\n",
    "------"
   ]
  },
  {
   "cell_type": "code",
   "execution_count": 11,
   "metadata": {
    "slideshow": {
     "slide_type": "fragment"
    }
   },
   "outputs": [
    {
     "data": {
      "text/html": [
       "<video width=\"320\" height=\"240\" controls>\n",
       "  <source src=\"https://cdn1.tnwcdn.com/wp-content/blogs.dir/1/files/2016/09/adobe-berkeley-deep-learning-tool.mp4\" type=\"video/mp4\">\n",
       "</video>"
      ],
      "text/plain": [
       "<IPython.core.display.HTML object>"
      ]
     },
     "metadata": {},
     "output_type": "display_data"
    }
   ],
   "source": [
    "%%HTML\n",
    "<video width=\"320\" height=\"240\" controls>\n",
    "  <source src=\"https://cdn1.tnwcdn.com/wp-content/blogs.dir/1/files/2016/09/adobe-berkeley-deep-learning-tool.mp4\" type=\"video/mp4\">\n",
    "</video>"
   ]
  },
  {
   "cell_type": "markdown",
   "metadata": {
    "slideshow": {
     "slide_type": "skip"
    }
   },
   "source": [
    "[Source](https://people.eecs.berkeley.edu/~junyanz/projects/gvm/)  \n",
    "[Code](https://github.com/junyanz/iGAN)"
   ]
  },
  {
   "cell_type": "markdown",
   "metadata": {
    "slideshow": {
     "slide_type": "slide"
    }
   },
   "source": [
    "Try Neural Style Transfer on your own\n",
    "------\n",
    "\n",
    "https://deepart.io/\n",
    "\n",
    "[In Keras](https://github.com/fchollet/keras/blob/master/examples/neural_style_transfer.py)"
   ]
  },
  {
   "cell_type": "markdown",
   "metadata": {
    "slideshow": {
     "slide_type": "slide"
    }
   },
   "source": [
    "Check for understanding\n",
    "------\n",
    "\n",
    "DeepDream & Neural Style Transfer use 2<sub>nd</sub> order optimizers (e.g., L-BFGS). Why they are a better choice than 1<sup>st</sup> order (e.g.,adam)?"
   ]
  },
  {
   "cell_type": "markdown",
   "metadata": {
    "slideshow": {
     "slide_type": "fragment"
    }
   },
   "source": [
    "We are only training the loss over a single image in both cases. It easily fit in memory.\n",
    "\n",
    "Thus the 2<sup>nd</sup> order optimizers are more powerful"
   ]
  },
  {
   "cell_type": "markdown",
   "metadata": {
    "slideshow": {
     "slide_type": "slide"
    }
   },
   "source": [
    "<br>\n",
    "<br>\n",
    "--"
   ]
  }
 ],
 "metadata": {
  "anaconda-cloud": {},
  "celltoolbar": "Slideshow",
  "kernelspec": {
   "display_name": "Python 3",
   "language": "python",
   "name": "python3"
  },
  "language_info": {
   "codemirror_mode": {
    "name": "ipython",
    "version": 3
   },
   "file_extension": ".py",
   "mimetype": "text/x-python",
   "name": "python",
   "nbconvert_exporter": "python",
   "pygments_lexer": "ipython3",
   "version": "3.6.1"
  }
 },
 "nbformat": 4,
 "nbformat_minor": 1
}
