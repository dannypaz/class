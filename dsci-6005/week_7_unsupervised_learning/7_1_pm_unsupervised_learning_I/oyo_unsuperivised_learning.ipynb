{
 "cells": [
  {
   "cell_type": "markdown",
   "metadata": {
    "slideshow": {
     "slide_type": "slide"
    }
   },
   "source": [
    "List as many types of Unsupervised Learning as you can…\n",
    "-------\n",
    "\n",
    "<br>\n",
    "\n",
    "<center><img src=\"images/clustering.jpg\" height=\"500\"/></center>\n",
    "\n",
    "__Challenge Activity__: Define each type and give an example algorithm."
   ]
  },
  {
   "cell_type": "markdown",
   "metadata": {
    "slideshow": {
     "slide_type": "slide"
    }
   },
   "source": [
    "- Dimensionality reduction\n",
    "    - Autoencoders \n",
    "- Anomaly detection\n",
    "    - k-nearest neighbor (KNN) \n",
    "- Matrix completion\n",
    "    - Collabritive filtering\n",
    "- Market basket analysis\n",
    "    - Frequent itemset mining"
   ]
  }
 ],
 "metadata": {
  "celltoolbar": "Slideshow",
  "kernelspec": {
   "display_name": "Python 3",
   "language": "python",
   "name": "python3"
  },
  "language_info": {
   "codemirror_mode": {
    "name": "ipython",
    "version": 3
   },
   "file_extension": ".py",
   "mimetype": "text/x-python",
   "name": "python",
   "nbconvert_exporter": "python",
   "pygments_lexer": "ipython3",
   "version": "3.6.1"
  }
 },
 "nbformat": 4,
 "nbformat_minor": 2
}
