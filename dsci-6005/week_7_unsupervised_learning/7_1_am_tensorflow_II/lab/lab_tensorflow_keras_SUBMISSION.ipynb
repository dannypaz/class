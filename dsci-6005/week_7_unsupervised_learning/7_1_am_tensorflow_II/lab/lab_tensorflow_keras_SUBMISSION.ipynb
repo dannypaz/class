{
 "cells": [
  {
   "cell_type": "markdown",
   "metadata": {
    "deletable": true,
    "editable": true
   },
   "source": [
    "Before you turn this lab in, make sure everything runs as expected. First, **restart the kernel** (in the menubar, select Kernel$\\rightarrow$Restart) and then **run all cells** (in the menubar, select Cell$\\rightarrow$Run All).\n",
    "\n",
    "Make sure you fill in any place that says `YOUR CODE HERE` or \"YOUR ANSWER HERE\", as well as your name and collaborators below:"
   ]
  },
  {
   "cell_type": "code",
   "execution_count": 44,
   "metadata": {
    "collapsed": false,
    "deletable": true,
    "editable": true
   },
   "outputs": [],
   "source": [
    "DRIVER = \"Aubrey\"\n",
    "NAVIGATOR = \"Jonathan\""
   ]
  },
  {
   "cell_type": "markdown",
   "metadata": {
    "deletable": false,
    "editable": false,
    "nbgrader": {
     "checksum": "f21848de06878d351bc85f4f33d9bcfb",
     "grade": false,
     "grade_id": "intro_description",
     "locked": true,
     "schema_version": 1,
     "solution": false
    }
   },
   "source": [
    "# TensorFlow + Keras Lab\n",
    "\n",
    "Welcome to the TensorFlow + Keras lab! By the end of this lab you will have\n",
    "\n",
    "- Optimized and evaluated a keras model with TensorFlow\n",
    "\n",
    "Let's get started!"
   ]
  },
  {
   "cell_type": "markdown",
   "metadata": {
    "deletable": false,
    "editable": false,
    "nbgrader": {
     "checksum": "f53a50472d80dc5bfcdb0455d9c43cbd",
     "grade": false,
     "grade_id": "autograder_description",
     "locked": true,
     "schema_version": 1,
     "solution": false
    }
   },
   "source": [
    "# Autograder Variables\n",
    "\n",
    "The following code defines variables owned by the autograder."
   ]
  },
  {
   "cell_type": "code",
   "execution_count": 94,
   "metadata": {
    "collapsed": true
   },
   "outputs": [],
   "source": [
    "import numpy as np"
   ]
  },
  {
   "cell_type": "code",
   "execution_count": 45,
   "metadata": {
    "collapsed": true,
    "deletable": false,
    "editable": false,
    "nbgrader": {
     "checksum": "ab610ca06c7fd8618d723b4d06721d53",
     "grade": false,
     "grade_id": "autograder_definitions",
     "locked": true,
     "schema_version": 1,
     "solution": false
    }
   },
   "outputs": [],
   "source": [
    "def passed(): print('✅')"
   ]
  },
  {
   "cell_type": "markdown",
   "metadata": {
    "deletable": false,
    "editable": false,
    "nbgrader": {
     "checksum": "f1d1c31072564f21f2c47bd09b7356ce",
     "grade": false,
     "grade_id": "load_data_description",
     "locked": true,
     "schema_version": 1,
     "solution": false
    }
   },
   "source": [
    "# Set the Stage\n",
    "\n",
    "The following code loads data and normalizes it and defines a TensorFlow session and registers it with keras and defines a keras model."
   ]
  },
  {
   "cell_type": "code",
   "execution_count": 67,
   "metadata": {
    "collapsed": false,
    "deletable": false,
    "editable": false,
    "nbgrader": {
     "checksum": "372eea1b418517c90433c01fdfff3bcd",
     "grade": false,
     "grade_id": "load_data_and_model",
     "locked": true,
     "schema_version": 1,
     "solution": false
    }
   },
   "outputs": [
    {
     "name": "stdout",
     "output_type": "stream",
     "text": [
      "_________________________________________________________________\n",
      "Layer (type)                 Output Shape              Param #   \n",
      "=================================================================\n",
      "dense_4 (Dense)              (None, 1)                 14        \n",
      "=================================================================\n",
      "Total params: 14.0\n",
      "Trainable params: 14\n",
      "Non-trainable params: 0.0\n",
      "_________________________________________________________________\n"
     ]
    }
   ],
   "source": [
    "import tensorflow as tf\n",
    "from keras.datasets import boston_housing\n",
    "from keras.models import Sequential\n",
    "from keras import backend as K\n",
    "from keras.layers import Dense\n",
    "\n",
    "[X_boston, y_boston], _ = boston_housing.load_data()\n",
    "X_boston = (X_boston - X_boston.mean(axis=0)) / X_boston.std(axis=0)\n",
    "y_boston = (y_boston - y_boston.mean()) / y_boston.std()\n",
    "\n",
    "sess = tf.Session()\n",
    "K.set_session(sess)\n",
    "\n",
    "model = Sequential()\n",
    "model.add(Dense(units=1, input_shape=X_boston[0].shape))\n",
    "model.summary()"
   ]
  },
  {
   "cell_type": "code",
   "execution_count": 68,
   "metadata": {
    "collapsed": false
   },
   "outputs": [
    {
     "data": {
      "text/plain": [
       "<tf.Tensor 'dense_4/BiasAdd:0' shape=(?, 1) dtype=float32>"
      ]
     },
     "execution_count": 68,
     "metadata": {},
     "output_type": "execute_result"
    }
   ],
   "source": [
    "model.output"
   ]
  },
  {
   "cell_type": "code",
   "execution_count": 69,
   "metadata": {
    "collapsed": false
   },
   "outputs": [],
   "source": [
    "y_boston = y_boston.reshape(-1,1)"
   ]
  },
  {
   "cell_type": "code",
   "execution_count": 70,
   "metadata": {
    "collapsed": false
   },
   "outputs": [
    {
     "data": {
      "text/plain": [
       "(404, 13)"
      ]
     },
     "execution_count": 70,
     "metadata": {},
     "output_type": "execute_result"
    }
   ],
   "source": [
    "X_boston.shape"
   ]
  },
  {
   "cell_type": "markdown",
   "metadata": {
    "deletable": false,
    "editable": false,
    "nbgrader": {
     "checksum": "0c2885dbfc0b9b50e68e25f92360b0aa",
     "grade": false,
     "grade_id": "tensors_description",
     "locked": true,
     "schema_version": 1,
     "solution": false
    }
   },
   "source": [
    "# Task\n",
    "\n",
    "- Define tensors `labels` and `loss` which hold your labels and aggregated loss for each training example in your minibatch respectively"
   ]
  },
  {
   "cell_type": "code",
   "execution_count": 71,
   "metadata": {
    "collapsed": true
   },
   "outputs": [],
   "source": [
    "from keras.objectives import mean_squared_error"
   ]
  },
  {
   "cell_type": "code",
   "execution_count": 72,
   "metadata": {
    "collapsed": false
   },
   "outputs": [
    {
     "data": {
      "text/plain": [
       "(1,)"
      ]
     },
     "execution_count": 72,
     "metadata": {},
     "output_type": "execute_result"
    }
   ],
   "source": [
    "y_boston[0].shape"
   ]
  },
  {
   "cell_type": "code",
   "execution_count": 73,
   "metadata": {
    "collapsed": false,
    "deletable": false,
    "editable": true,
    "nbgrader": {
     "checksum": "f9d6d81c35bbd00d122d71a5ef406317",
     "grade": false,
     "grade_id": "tensors_solution",
     "locked": false,
     "schema_version": 1,
     "solution": true
    }
   },
   "outputs": [],
   "source": [
    "labels = tf.placeholder(tf.float32, shape=model.output_shape)\n",
    "loss = tf.reduce_mean(mean_squared_error(y_boston, model.output))\n"
   ]
  },
  {
   "cell_type": "code",
   "execution_count": 74,
   "metadata": {
    "collapsed": false
   },
   "outputs": [
    {
     "data": {
      "text/plain": [
       "<tf.Tensor 'Placeholder_5:0' shape=(?, 1) dtype=float32>"
      ]
     },
     "execution_count": 74,
     "metadata": {},
     "output_type": "execute_result"
    }
   ],
   "source": [
    "labels"
   ]
  },
  {
   "cell_type": "markdown",
   "metadata": {
    "deletable": false,
    "editable": false,
    "nbgrader": {
     "checksum": "30ab36d57d6b29eb6178eee973e3d123",
     "grade": false,
     "grade_id": "tensors_blurb",
     "locked": true,
     "schema_version": 1,
     "solution": false
    }
   },
   "source": [
    "# Tensor Tests"
   ]
  },
  {
   "cell_type": "code",
   "execution_count": 75,
   "metadata": {
    "collapsed": false
   },
   "outputs": [
    {
     "data": {
      "text/plain": [
       "tensorflow.python.framework.ops.Tensor"
      ]
     },
     "execution_count": 75,
     "metadata": {},
     "output_type": "execute_result"
    }
   ],
   "source": [
    "type(loss)"
   ]
  },
  {
   "cell_type": "code",
   "execution_count": 76,
   "metadata": {
    "collapsed": false,
    "deletable": false,
    "editable": false,
    "nbgrader": {
     "checksum": "7c6e563653fd25620f03b435fec0833b",
     "grade": true,
     "grade_id": "tensors_tests",
     "locked": true,
     "points": 1,
     "schema_version": 1,
     "solution": false
    }
   },
   "outputs": [
    {
     "name": "stdout",
     "output_type": "stream",
     "text": [
      "✅\n"
     ]
    }
   ],
   "source": [
    "assert loss.shape.as_list() == []\n",
    "assert type(loss) == tf.Tensor\n",
    "assert type(labels) == tf.Tensor\n",
    "assert labels.op.type == 'Placeholder'\n",
    "assert loss.dtype == tf.float32\n",
    "assert loss.shape == []\n",
    "assert loss.op.type == 'Mean'\n",
    "\n",
    "passed()"
   ]
  },
  {
   "cell_type": "markdown",
   "metadata": {
    "deletable": false,
    "editable": false,
    "nbgrader": {
     "checksum": "5e0d4ee4df1b799b9be21d9279e59c64",
     "grade": false,
     "grade_id": "optimizer_description",
     "locked": true,
     "schema_version": 1,
     "solution": false
    }
   },
   "source": [
    "# Task\n",
    "\n",
    "- Define a TensorFlow optimizer and initialize all variables\n",
    "\n",
    "# Requirments\n",
    "\n",
    "- Define a tensor `train_step` which runs a step of `Adam` to minimize `loss`\n",
    "- Define a tensor `init` which initializes all `tf.Variable`s and run it"
   ]
  },
  {
   "cell_type": "code",
   "execution_count": null,
   "metadata": {
    "collapsed": true
   },
   "outputs": [],
   "source": []
  },
  {
   "cell_type": "code",
   "execution_count": 77,
   "metadata": {
    "collapsed": true,
    "deletable": false,
    "editable": true,
    "nbgrader": {
     "checksum": "f9de2ee3d1e62d4345f5f7b9b259aa99",
     "grade": false,
     "grade_id": "optimizer_solution",
     "locked": false,
     "schema_version": 1,
     "solution": true
    }
   },
   "outputs": [],
   "source": [
    "train_step = tf.train.AdamOptimizer().minimize(loss)\n",
    "init = tf.global_variables_initializer()\n",
    "sess.run(init)"
   ]
  },
  {
   "cell_type": "markdown",
   "metadata": {
    "deletable": false,
    "editable": false,
    "nbgrader": {
     "checksum": "a01f99de3eaedd19cf4245fe4bfab6bf",
     "grade": false,
     "grade_id": "optimizer_blurb",
     "locked": true,
     "schema_version": 1,
     "solution": false
    }
   },
   "source": [
    "# Optimizer Tests"
   ]
  },
  {
   "cell_type": "code",
   "execution_count": 78,
   "metadata": {
    "collapsed": false,
    "deletable": false,
    "editable": false,
    "nbgrader": {
     "checksum": "5313428a1574ff162248f42ef365c268",
     "grade": true,
     "grade_id": "optimizer_tests",
     "locked": true,
     "points": 1,
     "schema_version": 1,
     "solution": false
    }
   },
   "outputs": [
    {
     "name": "stdout",
     "output_type": "stream",
     "text": [
      "✅\n"
     ]
    }
   ],
   "source": [
    "assert type(train_step) == tf.Operation\n",
    "assert type(train_step) == tf.Operation\n",
    "assert train_step.type == 'NoOp'\n",
    "assert init.type == 'NoOp'\n",
    "\n",
    "passed()"
   ]
  },
  {
   "cell_type": "markdown",
   "metadata": {
    "deletable": false,
    "editable": false,
    "nbgrader": {
     "checksum": "a0743dda916ad0ac32d1b77b016ea681",
     "grade": false,
     "grade_id": "optimize_description",
     "locked": true,
     "schema_version": 1,
     "solution": false
    }
   },
   "source": [
    "# Task\n",
    "\n",
    "- Optimize `model` so the loss gets below 1.0 on `(X_boston, y_boston)`"
   ]
  },
  {
   "cell_type": "code",
   "execution_count": 100,
   "metadata": {
    "collapsed": false,
    "deletable": false,
    "editable": true,
    "nbgrader": {
     "checksum": "e791aac7227629ff55d93e94ba5f6583",
     "grade": false,
     "grade_id": "optimize_solution",
     "locked": false,
     "schema_version": 1,
     "solution": true
    }
   },
   "outputs": [
    {
     "name": "stdout",
     "output_type": "stream",
     "text": [
      "0.582464\n",
      "0.579509\n",
      "0.576577\n",
      "0.573667\n",
      "0.570779\n",
      "0.567912\n",
      "0.565067\n",
      "0.562242\n",
      "0.559438\n",
      "0.556655\n",
      "0.553892\n",
      "0.551149\n",
      "0.548425\n",
      "0.54572\n",
      "0.543035\n",
      "0.540368\n",
      "0.537721\n",
      "0.535091\n",
      "0.53248\n",
      "0.529886\n",
      "0.52731\n",
      "0.524752\n",
      "0.522211\n",
      "0.519686\n",
      "0.517179\n",
      "0.514688\n",
      "0.512214\n",
      "0.509756\n",
      "0.507314\n",
      "0.504888\n",
      "0.502477\n",
      "0.500082\n",
      "0.497702\n",
      "0.495338\n",
      "0.492988\n",
      "0.490653\n",
      "0.488333\n",
      "0.486028\n",
      "0.483736\n",
      "0.481459\n",
      "0.479196\n",
      "0.476947\n",
      "0.474711\n",
      "0.472489\n",
      "0.470281\n",
      "0.468085\n",
      "0.465903\n",
      "0.463735\n",
      "0.461579\n",
      "0.459435\n",
      "0.457305\n",
      "0.455187\n",
      "0.453081\n",
      "0.450988\n",
      "0.448907\n",
      "0.446838\n",
      "0.444781\n",
      "0.442736\n",
      "0.440702\n",
      "0.438681\n",
      "0.43667\n",
      "0.434672\n",
      "0.432684\n",
      "0.430708\n",
      "0.428743\n",
      "0.426789\n",
      "0.424846\n",
      "0.422914\n",
      "0.420992\n",
      "0.419081\n",
      "0.417181\n",
      "0.415291\n",
      "0.413412\n",
      "0.411543\n",
      "0.409684\n",
      "0.407836\n",
      "0.405997\n",
      "0.404168\n",
      "0.40235\n",
      "0.400541\n",
      "0.398742\n",
      "0.396952\n",
      "0.395173\n",
      "0.393402\n",
      "0.391642\n",
      "0.38989\n",
      "0.388148\n",
      "0.386415\n",
      "0.384691\n",
      "0.382976\n",
      "0.381271\n",
      "0.379574\n",
      "0.377886\n",
      "0.376207\n",
      "0.374537\n",
      "0.372875\n",
      "0.371222\n",
      "0.369578\n",
      "0.367942\n",
      "0.366315\n"
     ]
    }
   ],
   "source": [
    "with sess.as_default():\n",
    "    i=0\n",
    "    while i < 100:\n",
    "        l, _ = sess.run(fetches=[loss,train_step], feed_dict={model.input:X_boston,labels:y_boston})\n",
    "        print(l)\n",
    "        i+=1"
   ]
  },
  {
   "cell_type": "markdown",
   "metadata": {
    "deletable": false,
    "editable": false,
    "nbgrader": {
     "checksum": "82ce71c1bdde881f47489fea5e5edb16",
     "grade": false,
     "grade_id": "evaluation_blurb",
     "locked": true,
     "schema_version": 1,
     "solution": false
    }
   },
   "source": [
    "# Evaluation Test"
   ]
  },
  {
   "cell_type": "code",
   "execution_count": 101,
   "metadata": {
    "collapsed": false
   },
   "outputs": [
    {
     "data": {
      "text/plain": [
       "(404, 13)"
      ]
     },
     "execution_count": 101,
     "metadata": {},
     "output_type": "execute_result"
    }
   ],
   "source": [
    "X_boston.shape"
   ]
  },
  {
   "cell_type": "code",
   "execution_count": 102,
   "metadata": {
    "collapsed": false,
    "deletable": false,
    "editable": false,
    "nbgrader": {
     "checksum": "5e3e0d793e4a695f04ae12fefb4f8ca3",
     "grade": true,
     "grade_id": "evaluation_test",
     "locked": true,
     "points": 1,
     "schema_version": 1,
     "solution": false
    }
   },
   "outputs": [
    {
     "name": "stdout",
     "output_type": "stream",
     "text": [
      "✅\n"
     ]
    }
   ],
   "source": [
    "best_loss = sess.run(fetches=loss, feed_dict={model.input: X_boston, labels: y_boston})\n",
    "assert best_loss < 1.0\n",
    "\n",
    "passed()"
   ]
  },
  {
   "cell_type": "code",
   "execution_count": null,
   "metadata": {
    "collapsed": true
   },
   "outputs": [],
   "source": []
  }
 ],
 "metadata": {
  "kernelspec": {
   "display_name": "dl",
   "language": "python",
   "name": "dl"
  },
  "language_info": {
   "codemirror_mode": {
    "name": "ipython",
    "version": 3
   },
   "file_extension": ".py",
   "mimetype": "text/x-python",
   "name": "python",
   "nbconvert_exporter": "python",
   "pygments_lexer": "ipython3",
   "version": "3.6.1"
  }
 },
 "nbformat": 4,
 "nbformat_minor": 2
}
