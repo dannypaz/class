{
 "cells": [
  {
   "cell_type": "markdown",
   "metadata": {
    "deletable": true,
    "editable": true
   },
   "source": [
    "Neural network for prediction \n",
    "--------\n",
    "\n",
    "Based on these [notebooks](https://github.com/stephencwelch/Neural-Networks-Demystified)"
   ]
  },
  {
   "cell_type": "markdown",
   "metadata": {
    "deletable": true,
    "editable": true
   },
   "source": [
    "By The End Of This Session You Should Be Able To:\n",
    "----\n",
    "\n",
    "- Fit data with a perceptron model\n",
    "- Remember the power of matrix algebra and calculus \n",
    "- Explain the fundamentals of gradient descent"
   ]
  },
  {
   "cell_type": "markdown",
   "metadata": {
    "deletable": true,
    "editable": true
   },
   "source": [
    "The general workflow for deep learning\n",
    "------\n",
    "\n",
    "1. Define a (single) architecture from input to output\n",
    "2. Initialize weights (from elsewhere if possible)\n",
    "3. Get (a ton of) data\n",
    "4. Train with Stochastic gradient descent (SGD)"
   ]
  },
  {
   "cell_type": "markdown",
   "metadata": {
    "deletable": true,
    "editable": true
   },
   "source": [
    "The workflow for today\n",
    "-----\n",
    "\n",
    "1. Define a simple architecture\n",
    "2. Initialize network weights to random variables\n",
    "3. Use toy data\n",
    "4. Train with gradient descent"
   ]
  },
  {
   "cell_type": "markdown",
   "metadata": {
    "deletable": true,
    "editable": true
   },
   "source": [
    "------\n",
    "\n",
    "We predict some output value y, given some input value X.\n",
    "\n",
    "For example, you want to predict your score on a test based on how many hours you sleep and how many hours you study the night before. \n",
    "\n",
    "First need some data. Let’s say for the last three tests, you recorded your number of hours of studying, your number of hours sleeping, and your score on the test."
   ]
  },
  {
   "cell_type": "code",
   "execution_count": 4,
   "metadata": {
    "collapsed": true,
    "deletable": true,
    "editable": true
   },
   "outputs": [],
   "source": [
    "reset -fs"
   ]
  },
  {
   "cell_type": "code",
   "execution_count": 5,
   "metadata": {
    "collapsed": false,
    "deletable": true,
    "editable": true
   },
   "outputs": [
    {
     "name": "stdout",
     "output_type": "stream",
     "text": [
      "Populating the interactive namespace from numpy and matplotlib\n"
     ]
    }
   ],
   "source": [
    "import seaborn as sns\n",
    "\n",
    "%pylab inline"
   ]
  },
  {
   "cell_type": "code",
   "execution_count": 6,
   "metadata": {
    "collapsed": false,
    "deletable": true,
    "editable": true
   },
   "outputs": [
    {
     "data": {
      "text/plain": [
       "array([[  3.,   5.],\n",
       "       [  5.,   1.],\n",
       "       [ 10.,   2.]])"
      ]
     },
     "execution_count": 6,
     "metadata": {},
     "output_type": "execute_result"
    }
   ],
   "source": [
    "# X = (hours sleeping, hours studying)\n",
    "X = np.array(([3,5], [5,1], [10,2]), dtype=float)\n",
    "X"
   ]
  },
  {
   "cell_type": "code",
   "execution_count": 7,
   "metadata": {
    "collapsed": false,
    "deletable": true,
    "editable": true
   },
   "outputs": [
    {
     "data": {
      "text/plain": [
       "array([[ 75.],\n",
       "       [ 82.],\n",
       "       [ 93.]])"
      ]
     },
     "execution_count": 7,
     "metadata": {},
     "output_type": "execute_result"
    }
   ],
   "source": [
    "# y = Score on test\n",
    "y = np.array(([75], [82], [93]), dtype=float)\n",
    "y"
   ]
  },
  {
   "cell_type": "markdown",
   "metadata": {
    "deletable": true,
    "editable": true
   },
   "source": [
    "Now that we have some data, we’re going to use it to train a model to predict how you will do on your next test, based on how many hours you sleep and how many hours you study.\n",
    "\n",
    "This is a supervised regression problem. It’s supervised because our examples have inputs and outputs. It’s a regression problem because we’re predicting your test score, which is a continuous output."
   ]
  },
  {
   "cell_type": "code",
   "execution_count": 8,
   "metadata": {
    "collapsed": false,
    "deletable": true,
    "editable": true
   },
   "outputs": [
    {
     "data": {
      "image/png": "[encoded data removed]",
      "text/plain": [
       "<matplotlib.figure.Figure at 0x10c902320>"
      ]
     },
     "metadata": {},
     "output_type": "display_data"
    }
   ],
   "source": [
    "sns.regplot(x=X[:,0],\n",
    "           y=y,\n",
    "           fit_reg=False);\n",
    "plt.title(\"The effect of sleeps hours on test scores\");\n",
    "plt.xlabel('Sleep hours');\n",
    "plt.ylabel('Test Scores');"
   ]
  },
  {
   "cell_type": "code",
   "execution_count": 9,
   "metadata": {
    "collapsed": false,
    "deletable": true,
    "editable": true
   },
   "outputs": [
    {
     "data": {
      "image/png": "[encoded data removed]",
      "text/plain": [
       "<matplotlib.figure.Figure at 0x115a3f9b0>"
      ]
     },
     "metadata": {},
     "output_type": "display_data"
    }
   ],
   "source": [
    "sns.regplot(x=X[:,1],\n",
    "           y=y,\n",
    "           fit_reg=False);\n",
    "plt.title(\"The effect of study hours on test scores\");\n",
    "plt.xlabel('Study hours');\n",
    "plt.ylabel('Test Scores');"
   ]
  },
  {
   "cell_type": "markdown",
   "metadata": {
    "deletable": true,
    "editable": true
   },
   "source": [
    "------\n",
    "Normalization\n",
    "------\n",
    "\n",
    "Before we throw our data into the model, we need to account for the differences in the units of our data. Both of our inputs are in hours, but our output is a test score, scaled between 0 and 100. \n",
    "\n",
    "Neural networks are smart, but not smart enough to guess the units of our data. \n",
    "\n",
    "It’s kind of like asking our model to compare apples to oranges, where most learning models really only want to compare apples to apples. The solution is to scale our data, this way our model only sees standardized units. \n",
    "\n",
    "Here, we're going to take advantage of the fact that all of our data is positive, and simply divide by the maximum value for each variable, effectively scaling the result between 0 and 1. "
   ]
  },
  {
   "cell_type": "code",
   "execution_count": 10,
   "metadata": {
    "collapsed": false,
    "deletable": true,
    "editable": true
   },
   "outputs": [
    {
     "data": {
      "text/plain": [
       "array([[ 0.3,  1. ],\n",
       "       [ 0.5,  0.2],\n",
       "       [ 1. ,  0.4]])"
      ]
     },
     "execution_count": 10,
     "metadata": {},
     "output_type": "execute_result"
    }
   ],
   "source": [
    "# Normalize data to help learning rate\n",
    "X = X/np.amax(X, axis=0)\n",
    "X"
   ]
  },
  {
   "cell_type": "code",
   "execution_count": 11,
   "metadata": {
    "collapsed": false,
    "deletable": true,
    "editable": true
   },
   "outputs": [
    {
     "data": {
      "text/plain": [
       "array([[ 0.75],\n",
       "       [ 0.82],\n",
       "       [ 0.93]])"
      ]
     },
     "execution_count": 11,
     "metadata": {},
     "output_type": "execute_result"
    }
   ],
   "source": [
    "y = y/100 # Max test score is 100\n",
    "y"
   ]
  },
  {
   "cell_type": "markdown",
   "metadata": {
    "deletable": true,
    "editable": true
   },
   "source": [
    "----\n",
    "Define architecture\n",
    "------\n",
    "\n",
    "Now we can build our Neural Network. We know our network must have 2 inputs and 1 output, because these are the dimensions of our data. \n",
    "\n",
    "Here, we’re going to use 1 hidden layer with 3 hidden units.\n",
    "\n",
    "If we wanted to build a deep neural network, we would just stack a bunch of layers together."
   ]
  },
  {
   "cell_type": "markdown",
   "metadata": {
    "collapsed": false,
    "deletable": true,
    "editable": true
   },
   "source": [
    "![](images/simpleNetwork.png)"
   ]
  },
  {
   "cell_type": "markdown",
   "metadata": {
    "deletable": true,
    "editable": true
   },
   "source": [
    "<h3 align = 'center'> Variables </h3>\n",
    "\n",
    "|Code Symbol | Math Symbol | Definition | Dimensions\n",
    "| :-: | :-: | :-: | :-: |\n",
    "|X|$$X$$|Input Data, each row is an example| (numExamples, input_layer_size)|\n",
    "|y |$$y$$|target data|(numExamples, output_layer_size)|"
   ]
  },
  {
   "cell_type": "markdown",
   "metadata": {
    "deletable": true,
    "editable": true
   },
   "source": [
    "-----\n",
    "Parameters & hyperparameters\n",
    "----\n",
    "\n",
    "Our neural network's parameters are the weights between the nodes.\n",
    "\n",
    "Our network's hyperparameters are the 2 inputs, 3 hidden units, and 1 output. \n",
    "\n",
    "Today, we'll learn just the parameters. Later we'll also learn the hyperparameters."
   ]
  },
  {
   "cell_type": "markdown",
   "metadata": {
    "deletable": true,
    "editable": true
   },
   "source": [
    "-----\n",
    "Forward Pass\n",
    "------\n",
    "\n",
    "We’ll take care of moving data through our network in a method called forward. Rather than pass inputs through the network one at a time, we’re going to use matrices to pass through multiple inputs at once. \n",
    "\n",
    "Our input data matrix, X, is of dimension 3 by 2, because we have 3, 2-dimensional examples. "
   ]
  },
  {
   "cell_type": "code",
   "execution_count": 12,
   "metadata": {
    "collapsed": false,
    "deletable": true,
    "editable": true
   },
   "outputs": [
    {
     "name": "stdout",
     "output_type": "stream",
     "text": [
      "(3, 2)\n"
     ]
    }
   ],
   "source": [
    "print(X.shape)"
   ]
  },
  {
   "cell_type": "markdown",
   "metadata": {
    "deletable": true,
    "editable": true
   },
   "source": [
    "Our corresponding output data, y, is of dimension 3 by 1."
   ]
  },
  {
   "cell_type": "code",
   "execution_count": 13,
   "metadata": {
    "collapsed": false,
    "deletable": true,
    "editable": true
   },
   "outputs": [
    {
     "name": "stdout",
     "output_type": "stream",
     "text": [
      "(3, 1)\n"
     ]
    }
   ],
   "source": [
    "print(y.shape)"
   ]
  },
  {
   "cell_type": "code",
   "execution_count": 14,
   "metadata": {
    "collapsed": true,
    "deletable": true,
    "editable": true
   },
   "outputs": [],
   "source": [
    "class NeuralNetwork:\n",
    "    \"Simple neural network\"\n",
    "    \n",
    "    def __init__(self):   \n",
    "        # Network architecture      \n",
    "        self.input_layer_size  = 2\n",
    "        self.hidden_layer_size = 3\n",
    "        self.output_layer_size = 1"
   ]
  },
  {
   "cell_type": "code",
   "execution_count": 15,
   "metadata": {
    "collapsed": true,
    "deletable": true,
    "editable": true
   },
   "outputs": [],
   "source": [
    "# Instantiate neural network\n",
    "nn = NeuralNetwork()"
   ]
  },
  {
   "cell_type": "code",
   "execution_count": 16,
   "metadata": {
    "collapsed": false,
    "deletable": true,
    "editable": true
   },
   "outputs": [
    {
     "name": "stdout",
     "output_type": "stream",
     "text": [
      "hidden_layer_size\n",
      "input_layer_size\n",
      "output_layer_size\n"
     ]
    }
   ],
   "source": [
    "# List attributes\n",
    "print(*(i for i in dir(nn) if not i.startswith('__')), sep=\"\\n\")"
   ]
  },
  {
   "cell_type": "markdown",
   "metadata": {
    "deletable": true,
    "editable": true
   },
   "source": [
    "Each input value, or element in matrix X, needs to be multiplied by a corresponding weight and then added together with all the other results for each neuron. \n",
    "\n",
    "This is a complex operation, but if we take the three outputs we're looking for as a single row of a matrix, and place all our individual weights into a matrix of weights, we can create the exact behavior we need by multiplying our input data matrix by our weight matrix. \n",
    "\n",
    "Using matrix multiplication allows us to pass multiple inputs through at once by simply adding rows to the matrix X. \n",
    "\n",
    "From here on out, we'll refer to these matrices as X, W one, and z two, where z two the activity of our second layer. \n",
    "\n",
    "Notice that each entry in z is a sum of weighted inputs to each hidden neuron. Z is of size 3 by 3, one row for each example, and one column for each hidden unit. "
   ]
  },
  {
   "cell_type": "markdown",
   "metadata": {
    "deletable": true,
    "editable": true
   },
   "source": [
    "Matrix notation is really nice here, because it allows us to express the complex underlying process in a single line!\n",
    "\n",
    "$$\n",
    "z^{(2)} = XW^{(1)} \\tag{1}\\\\\n",
    "$$"
   ]
  },
  {
   "cell_type": "markdown",
   "metadata": {
    "deletable": true,
    "editable": true
   },
   "source": [
    "---\n",
    "Activation Function\n",
    "-----\n",
    "\n",
    "Now that we have the activities for our second layer, z two, we need to apply the activation function. \n",
    "\n",
    "We'll independently apply the function to each entry in matrix z using a python method for this called sigmoid, because we’re using a sigmoid as our activation function. "
   ]
  },
  {
   "cell_type": "code",
   "execution_count": 17,
   "metadata": {
    "collapsed": true,
    "deletable": true,
    "editable": true
   },
   "outputs": [],
   "source": [
    "def sigmoid(z):\n",
    "    \"Define sigmoid activation function to scalar, vector, or matrix\"\n",
    "    return 1/(1+np.exp(-z))"
   ]
  },
  {
   "cell_type": "code",
   "execution_count": 18,
   "metadata": {
    "collapsed": false,
    "deletable": true,
    "editable": true
   },
   "outputs": [
    {
     "data": {
      "image/png": "[encoded data removed]",
      "text/plain": [
       "<matplotlib.figure.Figure at 0x118f9e828>"
      ]
     },
     "metadata": {},
     "output_type": "display_data"
    }
   ],
   "source": [
    "domain = np.arange(-6, 6, 0.01)\n",
    "plot(domain, sigmoid(domain), linewidth=2);\n",
    "grid(1);"
   ]
  },
  {
   "cell_type": "markdown",
   "metadata": {
    "deletable": true,
    "editable": true
   },
   "source": [
    "Using Numpy is really nice here, because we can pass in a scalar, vector, or matrix. Numpy will apply the activation function element-wise, and return a result of the same dimension as it was given."
   ]
  },
  {
   "cell_type": "code",
   "execution_count": 19,
   "metadata": {
    "collapsed": false,
    "deletable": true,
    "editable": true
   },
   "outputs": [
    {
     "data": {
      "text/plain": [
       "'0.73'"
      ]
     },
     "execution_count": 19,
     "metadata": {},
     "output_type": "execute_result"
    }
   ],
   "source": [
    "# Scalar\n",
    "f\"{sigmoid(1):.2}\""
   ]
  },
  {
   "cell_type": "code",
   "execution_count": 20,
   "metadata": {
    "collapsed": false,
    "deletable": true,
    "editable": true
   },
   "outputs": [
    {
     "data": {
      "text/plain": [
       "array([ 0.26894142,  0.5       ,  0.73105858])"
      ]
     },
     "execution_count": 20,
     "metadata": {},
     "output_type": "execute_result"
    }
   ],
   "source": [
    "# Vector\n",
    "sigmoid(np.array([-1,0,1]))"
   ]
  },
  {
   "cell_type": "code",
   "execution_count": 21,
   "metadata": {
    "collapsed": false,
    "deletable": true,
    "editable": true
   },
   "outputs": [
    {
     "data": {
      "text/plain": [
       "array([[ 0.20797444,  0.82291433,  0.80953183],\n",
       "       [ 0.83659453,  0.73111157,  0.53890918],\n",
       "       [ 0.19670385,  0.88934027,  0.25763333]])"
      ]
     },
     "execution_count": 21,
     "metadata": {},
     "output_type": "execute_result"
    }
   ],
   "source": [
    "# Matrix\n",
    "sigmoid(np.random.randn(3,3))"
   ]
  },
  {
   "cell_type": "markdown",
   "metadata": {
    "deletable": true,
    "editable": true
   },
   "source": [
    "-----\n",
    "Forward propagation\n",
    "----\n",
    "\n",
    "Formula for forward propagation, using f to denote our activation function.\n",
    "\n",
    "We can write that a two, our second layer activity, is equal to f of z two. Two will be a matrix of the same size as z two, 3 by 3.\n",
    "\n",
    "$$\n",
    "a^{(2)} = f(z^{(2)}) \\tag{2}\\\\\n",
    "$$"
   ]
  },
  {
   "cell_type": "markdown",
   "metadata": {
    "deletable": true,
    "editable": true
   },
   "source": [
    "To finish forward propagation we need to propagate a two all the way to the output, yhat. We've already done the heavy lifting in the previous layer, so all we have to do now is multiply a two by our second layer weights W2 and apply one more activation function. W2 will be of size 3x1, one weight for each synapse. Multiplying a2, a 3 by 3, by W2, a 3 by 1 results in a 3 by 1 matrix z three, the activity or our third layer. z3 has three activity values, one for each example. Last but not least, we'll apply our activation function to z three yielding our official estimate of your test score, yHat.  \n",
    "\n",
    "$$\n",
    "z^{(3)} = a^{(2)}W^{(2)} \\tag{3}\\\\\n",
    "$$\n",
    "$$\n",
    "\\hat{y} = f(z^{(3)}) \\tag{4}\\\\\n",
    "$$"
   ]
  },
  {
   "cell_type": "markdown",
   "metadata": {
    "deletable": true,
    "editable": true
   },
   "source": [
    "We need to implement our forward propagation formulas in Python. First we'll initialize our weight matrices in our init method. For starting values, we'll use random numbers. "
   ]
  },
  {
   "cell_type": "code",
   "execution_count": 22,
   "metadata": {
    "collapsed": true,
    "deletable": true,
    "editable": true
   },
   "outputs": [],
   "source": [
    "class NeuralNetwork:\n",
    "    \"Simple neural network\"\n",
    "    \n",
    "    def __init__(self):  \n",
    "        # Network architecture      \n",
    "        self.input_layer_size  = 2\n",
    "        self.hidden_layer_size = 3\n",
    "        self.output_layer_size = 1\n",
    "        \n",
    "        # Weights \n",
    "        self.W1 = np.random.randn(self.input_layer_size, self.hidden_layer_size)\n",
    "        self.W2 = np.random.randn(self.hidden_layer_size, self.output_layer_size)\n",
    "        \n",
    "    def forward(self, X):\n",
    "        \"Propagate inputs though network\"\n",
    "        self.z2 = np.dot(X, self.W1)\n",
    "        self.a2 = self.sigmoid(self.z2)\n",
    "        self.z3 = np.dot(self.a2, self.W2)\n",
    "        yHat = self.sigmoid(self.z3) \n",
    "        return yHat\n",
    "\n",
    "    @staticmethod\n",
    "    def sigmoid(z):\n",
    "        \"Define sigmoid activation function to scalar, vector, or matrix\"\n",
    "        return 1/(1+np.exp(-z))"
   ]
  },
  {
   "cell_type": "code",
   "execution_count": 23,
   "metadata": {
    "collapsed": false,
    "deletable": true,
    "editable": true
   },
   "outputs": [
    {
     "name": "stdout",
     "output_type": "stream",
     "text": [
      "W1\n",
      "W2\n",
      "forward\n",
      "hidden_layer_size\n",
      "input_layer_size\n",
      "output_layer_size\n",
      "sigmoid\n"
     ]
    }
   ],
   "source": [
    "# Instantiate neural network\n",
    "nn = NeuralNetwork()\n",
    "\n",
    "# List attributes\n",
    "print(*(i for i in dir(nn) if not i.startswith('__')), sep=\"\\n\")"
   ]
  },
  {
   "cell_type": "markdown",
   "metadata": {
    "deletable": true,
    "editable": true
   },
   "source": [
    "And there you have it, a Python class capable of estimating your test score given how many hours you sleep and how many hours you study. \n",
    "\n",
    "We can pass in our input data and get real outputs. "
   ]
  },
  {
   "cell_type": "markdown",
   "metadata": {
    "deletable": true,
    "editable": true
   },
   "source": [
    "-----\n",
    "\n",
    "<h3 align = 'center'> Variables </h3>\n",
    "\n",
    "|Code Symbol | Math Symbol | Definition | Dimensions\n",
    "| :-: | :-: | :-: | :-: |\n",
    "|X|$$X$$|Input Data, each row in an example| (numExamples, input_layer_size)|\n",
    "|y |$$y$$|target data|(numExamples, output_layer_size)|\n",
    "|W1 | $$W^{(1)}$$ | Layer 1 weights | (input_layer_size, hidden_layer_size) |\n",
    "|W2 | $$W^{(2)}$$ | Layer 2 weights | (hidden_layer_size, output_layer_size) |\n",
    "|z2 | $$z^{(2)}$$ | Layer 2 activation | (numExamples, hidden_layer_size) |\n",
    "|a2 | $$a^{(2)}$$ | Layer 2 activity | (numExamples, hidden_layer_size) |\n",
    "|z3 | $$z^{(3)}$$ | Layer 3 activation | (numExamples, output_layer_size) |"
   ]
  },
  {
   "cell_type": "markdown",
   "metadata": {
    "deletable": true,
    "editable": true
   },
   "source": [
    "Now, you may guess that our estimates are quite terrible. That's because we have not yet trained our network..."
   ]
  },
  {
   "cell_type": "code",
   "execution_count": 24,
   "metadata": {
    "collapsed": false,
    "deletable": true,
    "editable": true
   },
   "outputs": [],
   "source": [
    "y_hat = NeuralNetwork().forward(X)"
   ]
  },
  {
   "cell_type": "code",
   "execution_count": 25,
   "metadata": {
    "collapsed": true,
    "deletable": true,
    "editable": true
   },
   "outputs": [],
   "source": [
    "from pandas import DataFrame"
   ]
  },
  {
   "cell_type": "code",
   "execution_count": 26,
   "metadata": {
    "collapsed": false,
    "deletable": true,
    "editable": true
   },
   "outputs": [
    {
     "data": {
      "text/html": [
       "<div>\n",
       "<table border=\"1\" class=\"dataframe\">\n",
       "  <thead>\n",
       "    <tr style=\"text-align: right;\">\n",
       "      <th></th>\n",
       "      <th>y observed</th>\n",
       "      <th>y predicted</th>\n",
       "    </tr>\n",
       "  </thead>\n",
       "  <tbody>\n",
       "    <tr>\n",
       "      <th>0</th>\n",
       "      <td>0.75</td>\n",
       "      <td>0.481179</td>\n",
       "    </tr>\n",
       "    <tr>\n",
       "      <th>1</th>\n",
       "      <td>0.82</td>\n",
       "      <td>0.564161</td>\n",
       "    </tr>\n",
       "    <tr>\n",
       "      <th>2</th>\n",
       "      <td>0.93</td>\n",
       "      <td>0.590936</td>\n",
       "    </tr>\n",
       "  </tbody>\n",
       "</table>\n",
       "</div>"
      ],
      "text/plain": [
       "   y observed  y predicted\n",
       "0        0.75     0.481179\n",
       "1        0.82     0.564161\n",
       "2        0.93     0.590936"
      ]
     },
     "execution_count": 26,
     "metadata": {},
     "output_type": "execute_result"
    }
   ],
   "source": [
    "DataFrame({'y predicted': y_hat.flatten().tolist(),\n",
    "           'y observed': y.flatten().tolist()})"
   ]
  },
  {
   "cell_type": "code",
   "execution_count": 27,
   "metadata": {
    "collapsed": false,
    "deletable": true,
    "editable": true
   },
   "outputs": [
    {
     "data": {
      "image/png": "[encoded data removed]",
      "text/plain": [
       "<matplotlib.figure.Figure at 0x1190b3dd8>"
      ]
     },
     "metadata": {},
     "output_type": "display_data"
    }
   ],
   "source": [
    "# Compare estimate, y_hat, to actually score\n",
    "bar([0,1,2], y, width = 0.35, alpha=0.8)\n",
    "bar([0.35,1.35,2.35],y_hat, width = 0.35, color='r', alpha=0.8)\n",
    "grid(1)\n",
    "legend(['y', 'y_hat']);"
   ]
  },
  {
   "cell_type": "markdown",
   "metadata": {
    "collapsed": true,
    "deletable": true,
    "editable": true
   },
   "source": [
    "Right now our predictions are pretty inaccurate. To improve our model, we first need to quantify exactly how wrong our predictions are. We'll do this with a cost function. A cost function allows us to express exactly how wrong or \"costly\" our models is, given our examples."
   ]
  },
  {
   "cell_type": "markdown",
   "metadata": {
    "deletable": true,
    "editable": true
   },
   "source": [
    "---\n",
    "Loss & Cost Function\n",
    "----\n",
    "\n",
    "When someone says they’re training a network, what they really mean is that they're minimizing a cost function. \n",
    "\n",
    "One way to compute an overall cost is to take each error value, square it, and add these values together. Now that we have a cost, or job is to minimize it.\n",
    "\n",
    "$$\n",
    "J = \\sum \\frac{1}{2}(y-\\hat{y})^2 \\tag{5}\n",
    "$$"
   ]
  },
  {
   "cell_type": "markdown",
   "metadata": {
    "deletable": true,
    "editable": true
   },
   "source": [
    "The cost is a function of two things,\n",
    "\n",
    "1. The data\n",
    "2. The weights \n",
    "\n",
    "We don't have much control of our data, so we'll minimize our cost by changing the weights."
   ]
  },
  {
   "cell_type": "markdown",
   "metadata": {
    "deletable": true,
    "editable": true
   },
   "source": [
    "Conceptually, this is pretty simple concept. We have a collection of 9 individual weights, and we're saying that there is some combination of w's that will make our cost, J, as small as possible. "
   ]
  },
  {
   "cell_type": "code",
   "execution_count": 28,
   "metadata": {
    "collapsed": true,
    "deletable": true,
    "editable": true
   },
   "outputs": [],
   "source": [
    "class NeuralNetwork:\n",
    "    \"Simple neural network\"\n",
    "    \n",
    "    def __init__(self):  \n",
    "        # Network architecture      \n",
    "        self.input_layer_size  = 2\n",
    "        self.hidden_layer_size = 3\n",
    "        self.output_layer_size = 1\n",
    "       \n",
    "        # Weights \n",
    "        self.W1 = np.random.randn(self.input_layer_size, self.hidden_layer_size)\n",
    "        self.W2 = np.random.randn(self.hidden_layer_size, self.output_layer_size)\n",
    "        \n",
    "    def cost_function(self, X, y):\n",
    "        \"Compute cost for given X,y, use weights already stored in class.\"\n",
    "        self.y_hat = self.forward(X)\n",
    "        J = 0.5*sum((y-self.y_hat)**2)\n",
    "        return J\n",
    "    \n",
    "    def forward(self, X):\n",
    "        \"Propagate inputs though network\"\n",
    "        self.z2 = np.dot(X, self.W1)\n",
    "        self.a2 = self.sigmoid(self.z2)\n",
    "        self.z3 = np.dot(self.a2, self.W2)\n",
    "        yHat = self.sigmoid(self.z3) \n",
    "        return yHat\n",
    "\n",
    "    @staticmethod\n",
    "    def sigmoid(z):\n",
    "        \"Define sigmoid activation function to scalar, vector, or matrix\"\n",
    "        return 1/(1+np.exp(-z))"
   ]
  },
  {
   "cell_type": "code",
   "execution_count": 29,
   "metadata": {
    "collapsed": false,
    "deletable": true,
    "editable": true
   },
   "outputs": [
    {
     "data": {
      "text/plain": [
       "'0.5'"
      ]
     },
     "execution_count": 29,
     "metadata": {},
     "output_type": "execute_result"
    }
   ],
   "source": [
    "nn = NeuralNetwork()\n",
    "cost = nn.cost_function(X, y)\n",
    "f\"{cost:.2}\""
   ]
  },
  {
   "cell_type": "markdown",
   "metadata": {
    "deletable": true,
    "editable": true
   },
   "source": [
    "<h3 align = 'center'> Variables </h3>\n",
    "\n",
    "|Code Symbol | Math Symbol | Definition | Dimensions\n",
    "| :-: | :-: | :-: | :-: |\n",
    "|X|$$X$$|Input Data, each row in an example| (numExamples, input_layer_size)|\n",
    "|y |$$y$$|target data|(numExamples, output_layer_size)|\n",
    "|W1 | $$W^{(1)}$$ | Layer 1 weights | (input_layer_size, hidden_layer_size) |\n",
    "|W2 | $$W^{(2)}$$ | Layer 2 weights | (hidden_layer_size, output_layer_size) |\n",
    "|z2 | $$z^{(2)}$$ | Layer 2 activation | (numExamples, hidden_layer_size) |\n",
    "|a2 | $$a^{(2)}$$ | Layer 2 activity | (numExamples, hidden_layer_size) |\n",
    "|z3 | $$z^{(3)}$$ | Layer 3 activation | (numExamples, output_layer_size) |\n",
    "|J | $$J$$ | Cost | (1, output_layer_size) |"
   ]
  },
  {
   "cell_type": "markdown",
   "metadata": {
    "collapsed": true,
    "deletable": true,
    "editable": true
   },
   "source": [
    "We have 5 equations, but we can really think of them as one big equation.\n",
    "\n",
    "\n",
    "And since we have one big equation that uniquely determines our cost, J, from X, y, W1, and W2, we can use our good friend calculus to find what we're looking for. We want to know \"which way is downhill\", that is, what is the rate of change of J with respect to W, also known as the derivative. And in this case, since we’re just considering one weight at a time, the partial derivative. \n",
    "\n",
    "We can derive an expression for dJdW, that will give us the rate of change of J with respect to W, for any value of W! If dJdW is positive, then the cost function is going uphill. If dJdW is negative the cost function is going downhill. \n",
    "\n",
    "Now we can really speed things up. Since we know in which direction the cost decreases, we can save all that time we would have spent searching in the wrong direction. We can save even more computational time by iteratively taking steps downhill and stopping when the cost stops getting smaller. \n",
    "\n",
    "This method is known as __gradient descent__, and although it may not seem so impressive in one dimension, it is capable of incredible speedups in higher dimensions. Gradient descent allows us to find needles in very very very large haystacks. "
   ]
  },
  {
   "cell_type": "markdown",
   "metadata": {
    "deletable": true,
    "editable": true
   },
   "source": [
    "Gradient Descent Demo\n",
    "-----\n",
    "\n",
    "http://www.onmyphd.com/?p=gradient.descent"
   ]
  },
  {
   "cell_type": "markdown",
   "metadata": {
    "deletable": true,
    "editable": true
   },
   "source": [
    "Now before we celebrate too much here, there is a restriction. What if our cost function doesn't always go in the same direction? What if it goes up, then back down? The mathematical name for this is non-convex, and it could really throw off our gradient descent algorithm by getting it stuck in a local minima instead of our ideal global minima. One of the reasons we chose our cost function to be the sum of squared errors was to exploit the convex nature of quadratic equations.\n",
    "\n",
    "We know that the graph of y equals x squared is a nice convex parabola and it turns out that higher dimensional versions are too!"
   ]
  },
  {
   "cell_type": "code",
   "execution_count": 30,
   "metadata": {
    "collapsed": true,
    "deletable": true,
    "editable": true
   },
   "outputs": [],
   "source": [
    "class NeuralNetwork:\n",
    "    \"Simple neural network\"\n",
    "    \n",
    "    def __init__(self):  \n",
    "        # Network architecture      \n",
    "        self.input_layer_size  = 2\n",
    "        self.hidden_layer_size = 3\n",
    "        self.output_layer_size = 1\n",
    "        \n",
    "        # Weights \n",
    "        self.W1 = np.random.randn(self.input_layer_size, self.hidden_layer_size)\n",
    "        self.W2 = np.random.randn(self.hidden_layer_size, self.output_layer_size)\n",
    "        \n",
    "    def cost_function(self, X, y):\n",
    "        \"Compute cost for given X,y, use weights already stored in class.\"\n",
    "        self.y_hat = self.forward(X)\n",
    "        J = 0.5*sum((y-self.y_hat)**2)\n",
    "        return J\n",
    "    \n",
    "    def cost_function_prime(self, X, y):\n",
    "        \"Compute derivative with respect to W and W2 for a given X and y:\"\n",
    "        self.y_hat = self.forward(X)\n",
    "        \n",
    "        delta3 = np.multiply(-(y-self.y_hat), self.sigmoid_prime(self.z3))\n",
    "        dJdW2 = np.dot(self.a2.T, delta3)\n",
    "        \n",
    "        delta2 = np.dot(delta3, self.W2.T)*self.sigmoid_prime(self.z2)\n",
    "        dJdW1 = np.dot(X.T, delta2)  \n",
    "        \n",
    "        return dJdW1, dJdW2\n",
    "    \n",
    "    def forward(self, X):\n",
    "        \"Propagate inputs though network\"\n",
    "        self.z2 = np.dot(X, self.W1)\n",
    "        self.a2 = self.sigmoid(self.z2)\n",
    "        self.z3 = np.dot(self.a2, self.W2)\n",
    "        yHat = self.sigmoid(self.z3) \n",
    "        return yHat\n",
    "\n",
    "    @staticmethod\n",
    "    def sigmoid(z):\n",
    "        \"Define sigmoid activation function to scalar, vector, or matrix\"\n",
    "        return 1/(1+np.exp(-z)) \n",
    "\n",
    "    def sigmoid_prime(self,z):\n",
    "        \"Gradient of sigmoid\"\n",
    "        return np.exp(-z)/((1+np.exp(-z))**2)"
   ]
  },
  {
   "cell_type": "code",
   "execution_count": 31,
   "metadata": {
    "collapsed": false,
    "deletable": true,
    "editable": true
   },
   "outputs": [],
   "source": [
    "dJdW1, dJdW2 = NeuralNetwork().cost_function_prime(X,y)"
   ]
  },
  {
   "cell_type": "code",
   "execution_count": 32,
   "metadata": {
    "collapsed": false,
    "deletable": true,
    "editable": true
   },
   "outputs": [
    {
     "data": {
      "text/plain": [
       "array([[ 0.02417986,  0.01554671,  0.0016959 ],\n",
       "       [ 0.01709165,  0.01162738,  0.00090634]])"
      ]
     },
     "execution_count": 32,
     "metadata": {},
     "output_type": "execute_result"
    }
   ],
   "source": [
    "dJdW1"
   ]
  },
  {
   "cell_type": "code",
   "execution_count": 33,
   "metadata": {
    "collapsed": false,
    "deletable": true,
    "editable": true
   },
   "outputs": [
    {
     "data": {
      "text/plain": [
       "array([[-0.10809892],\n",
       "       [-0.11285035],\n",
       "       [-0.07749096]])"
      ]
     },
     "execution_count": 33,
     "metadata": {},
     "output_type": "execute_result"
    }
   ],
   "source": [
    "dJdW2"
   ]
  },
  {
   "cell_type": "markdown",
   "metadata": {
    "deletable": true,
    "editable": true
   },
   "source": [
    "If we move this way by adding a scalar times our derivative to our weights, our cost will increase, "
   ]
  },
  {
   "cell_type": "code",
   "execution_count": 67,
   "metadata": {
    "collapsed": false,
    "deletable": true,
    "editable": true
   },
   "outputs": [
    {
     "data": {
      "text/plain": [
       "'0.21'"
      ]
     },
     "execution_count": 67,
     "metadata": {},
     "output_type": "execute_result"
    }
   ],
   "source": [
    "step_size = 3\n",
    "nn.W1 = nn.W1 + step_size*dJdW1\n",
    "nn.W2 = nn.W2 + step_size*dJdW2\n",
    "cost2 = nn.cost_function(X, y)\n",
    "f\"{cost2[0]:.2}\""
   ]
  },
  {
   "cell_type": "markdown",
   "metadata": {
    "deletable": true,
    "editable": true
   },
   "source": [
    "If we do the opposite, subtract our gradient from our weights, we will move downhill and reduce our cost. \n",
    "\n",
    "This simple step downhill is the core of gradient descent and a key part of how even very sophisticated learning algorithms are trained. "
   ]
  },
  {
   "cell_type": "code",
   "execution_count": 63,
   "metadata": {
    "collapsed": false,
    "deletable": true,
    "editable": true
   },
   "outputs": [
    {
     "data": {
      "text/plain": [
       "'3.1e-09'"
      ]
     },
     "execution_count": 63,
     "metadata": {},
     "output_type": "execute_result"
    }
   ],
   "source": [
    "step_size = -3\n",
    "nn.W1 = nn.W1 + step_size*dJdW1\n",
    "nn.W2 = nn.W2 + step_size*dJdW2\n",
    "cost2 = nn.cost_function(X, y)\n",
    "f\"{cost2[0]:.2}\""
   ]
  },
  {
   "cell_type": "markdown",
   "metadata": {
    "deletable": true,
    "editable": true
   },
   "source": [
    "All done with our NeuralNetwork!\n",
    "\n",
    "Let's write it to a file for later use"
   ]
  },
  {
   "cell_type": "code",
   "execution_count": 36,
   "metadata": {
    "collapsed": false,
    "deletable": true,
    "editable": true
   },
   "outputs": [
    {
     "name": "stdout",
     "output_type": "stream",
     "text": [
      "Overwriting neural_network.py\n"
     ]
    }
   ],
   "source": [
    "%%writefile neural_network.py\n",
    "\n",
    "import numpy as np\n",
    "\n",
    "class NeuralNetwork:\n",
    "    \"Simple neural network\"\n",
    "    \n",
    "    def __init__(self):  \n",
    "        # Network architecture      \n",
    "        self.input_layer_size  = 2\n",
    "        self.hidden_layer_size = 3\n",
    "        self.output_layer_size = 1\n",
    "        \n",
    "        # Weights \n",
    "        self.W1 = np.random.randn(self.input_layer_size, self.hidden_layer_size)\n",
    "        self.W2 = np.random.randn(self.hidden_layer_size, self.output_layer_size)\n",
    "        \n",
    "    def cost_function(self, X, y):\n",
    "        \"Compute cost for given X,y, use weights already stored in class.\"\n",
    "        self.y_hat = self.forward(X)\n",
    "        J = 0.5*sum((y-self.y_hat)**2)\n",
    "        return J\n",
    "    \n",
    "    def cost_function_prime(self, X, y):\n",
    "        \"Compute derivative with respect to W and W2 for a given X and y:\"\n",
    "        self.y_hat = self.forward(X)\n",
    "        \n",
    "        delta3 = np.multiply(-(y-self.y_hat), self.sigmoid_prime(self.z3))\n",
    "        dJdW2 = np.dot(self.a2.T, delta3)\n",
    "        \n",
    "        delta2 = np.dot(delta3, self.W2.T)*self.sigmoid_prime(self.z2)\n",
    "        dJdW1 = np.dot(X.T, delta2)  \n",
    "        \n",
    "        return dJdW1, dJdW2\n",
    "    \n",
    "    def forward(self, X):\n",
    "        \"Propagate inputs though network\"\n",
    "        self.z2 = np.dot(X, self.W1)\n",
    "        self.a2 = self.sigmoid(self.z2)\n",
    "        self.z3 = np.dot(self.a2, self.W2)\n",
    "        yHat = self.sigmoid(self.z3) \n",
    "        return yHat\n",
    "\n",
    "    @staticmethod\n",
    "    def sigmoid(z):\n",
    "        \"Define sigmoid activation function to scalar, vector, or matrix\"\n",
    "        return 1/(1+np.exp(-z)) \n",
    "\n",
    "    def sigmoid_prime(self,z):\n",
    "        \"Gradient of sigmoid\"\n",
    "        return np.exp(-z)/((1+np.exp(-z))**2)\n",
    "    \n",
    "    #####################################################\n",
    "    # Helper Functions\n",
    "    def get_params(self):\n",
    "        \"Transform W1 and W2 unrolled into vector\"\n",
    "        params = np.concatenate((self.W1.ravel(), self.W2.ravel()))\n",
    "        return params\n",
    "    \n",
    "    def set_params(self, params):\n",
    "        \"Set W1 and W2 using single paramater vector.\"\n",
    "        W1_start = 0\n",
    "        W1_end = self.hidden_layer_size * self.input_layer_size\n",
    "        self.W1 = np.reshape(params[W1_start:W1_end], (self.input_layer_size , self.hidden_layer_size))\n",
    "        W2_end = W1_end + self.hidden_layer_size*self.output_layer_size\n",
    "        self.W2 = np.reshape(params[W1_end:W2_end], (self.hidden_layer_size, self.output_layer_size))\n",
    "        \n",
    "    def compute_gradients(self, X, y):\n",
    "        dJdW1, dJdW2 = self.cost_function_prime(X, y)\n",
    "        return np.concatenate((dJdW1.ravel(), dJdW2.ravel()))\n",
    "        "
   ]
  },
  {
   "cell_type": "markdown",
   "metadata": {
    "deletable": true,
    "editable": true
   },
   "source": [
    "-----\n",
    "Training\n",
    "-----\n",
    "\n",
    "We need to train our model. We'll talk more about training tomorrow.\n",
    "\n",
    "For today, I wrote a training class to help us."
   ]
  },
  {
   "cell_type": "code",
   "execution_count": 37,
   "metadata": {
    "collapsed": false,
    "deletable": true,
    "editable": true
   },
   "outputs": [
    {
     "name": "stdout",
     "output_type": "stream",
     "text": [
      "Appending to neural_network.py\n"
     ]
    }
   ],
   "source": [
    "%%writefile -a neural_network.py\n",
    "\n",
    "from scipy import optimize\n",
    "\n",
    "class Trainer:\n",
    "\n",
    "    def __init__(self, N):\n",
    "        \"Make Local reference to network\"\n",
    "        self.N = N\n",
    "        \n",
    "    def callbackF(self, params):\n",
    "        self.N.set_params(params)\n",
    "        self.J.append(self.N.cost_function(self.X, self.y))   \n",
    "        \n",
    "    def costFunctionWrapper(self, params, X, y):\n",
    "        self.N.set_params(params)\n",
    "        cost = self.N.cost_function(X, y)\n",
    "        grad = self.N.compute_gradients(X,y)\n",
    "        \n",
    "        return cost, grad\n",
    "        \n",
    "    def train(self, X, y, maxiter=50):\n",
    "\n",
    "        self.X = X\n",
    "        self.y = y\n",
    "        self.J = [] # Empty list to store costs\n",
    "        \n",
    "        params0 = self.N.get_params() # Intial parameters at epoch 0\n",
    "\n",
    "        options = {'maxiter': maxiter, 'disp' : True}\n",
    "        _res = optimize.minimize(self.costFunctionWrapper,\n",
    "                                 params0,\n",
    "                                 jac=True,\n",
    "                                 method='BFGS',\n",
    "                                 args=(X, y), \n",
    "                                 options=options,\n",
    "                                 callback=self.callbackF)\n",
    "        self.N.set_params(_res.x)\n",
    "        self.optimizationResults = _res"
   ]
  },
  {
   "cell_type": "code",
   "execution_count": 38,
   "metadata": {
    "collapsed": false,
    "deletable": true,
    "editable": true
   },
   "outputs": [],
   "source": [
    "from neural_network import *"
   ]
  },
  {
   "cell_type": "code",
   "execution_count": 1,
   "metadata": {
    "collapsed": false,
    "deletable": true,
    "editable": true
   },
   "outputs": [
    {
     "ename": "NameError",
     "evalue": "name 'NeuralNetwork' is not defined",
     "output_type": "error",
     "traceback": [
      "\u001b[0;31m---------------------------------------------------------------------------\u001b[0m",
      "\u001b[0;31mNameError\u001b[0m                                 Traceback (most recent call last)",
      "\u001b[0;32m<ipython-input-1-aacbdbdb5dff>\u001b[0m in \u001b[0;36m<module>\u001b[0;34m()\u001b[0m\n\u001b[0;32m----> 1\u001b[0;31m \u001b[0mnn\u001b[0m \u001b[0;34m=\u001b[0m \u001b[0mNeuralNetwork\u001b[0m\u001b[0;34m(\u001b[0m\u001b[0;34m)\u001b[0m\u001b[0;34m\u001b[0m\u001b[0m\n\u001b[0m\u001b[1;32m      2\u001b[0m \u001b[0mt\u001b[0m \u001b[0;34m=\u001b[0m \u001b[0mTrainer\u001b[0m\u001b[0;34m(\u001b[0m\u001b[0mnn\u001b[0m\u001b[0;34m)\u001b[0m\u001b[0;34m\u001b[0m\u001b[0m\n\u001b[1;32m      3\u001b[0m \u001b[0mt\u001b[0m\u001b[0;34m.\u001b[0m\u001b[0mtrain\u001b[0m\u001b[0;34m(\u001b[0m\u001b[0mX\u001b[0m\u001b[0;34m,\u001b[0m \u001b[0my\u001b[0m\u001b[0;34m)\u001b[0m\u001b[0;34m\u001b[0m\u001b[0m\n",
      "\u001b[0;31mNameError\u001b[0m: name 'NeuralNetwork' is not defined"
     ]
    }
   ],
   "source": [
    "nn = NeuralNetwork()\n",
    "t = Trainer(nn)\n",
    "t.train(X, y)"
   ]
  },
  {
   "cell_type": "code",
   "execution_count": 55,
   "metadata": {
    "collapsed": false,
    "deletable": true,
    "editable": true
   },
   "outputs": [
    {
     "data": {
      "image/png": "[encoded data removed]",
      "text/plain": [
       "<matplotlib.figure.Figure at 0x119424d68>"
      ]
     },
     "metadata": {},
     "output_type": "display_data"
    }
   ],
   "source": [
    "plot(t.J)\n",
    "grid(1)\n",
    "xlabel('Iterations')\n",
    "ylabel('Cost');"
   ]
  },
  {
   "cell_type": "code",
   "execution_count": 41,
   "metadata": {
    "collapsed": false,
    "deletable": true,
    "editable": true
   },
   "outputs": [
    {
     "data": {
      "text/html": [
       "<div>\n",
       "<table border=\"1\" class=\"dataframe\">\n",
       "  <thead>\n",
       "    <tr style=\"text-align: right;\">\n",
       "      <th></th>\n",
       "      <th>y observed</th>\n",
       "      <th>y predicted</th>\n",
       "    </tr>\n",
       "  </thead>\n",
       "  <tbody>\n",
       "    <tr>\n",
       "      <th>0</th>\n",
       "      <td>0.75</td>\n",
       "      <td>0.750012</td>\n",
       "    </tr>\n",
       "    <tr>\n",
       "      <th>1</th>\n",
       "      <td>0.82</td>\n",
       "      <td>0.819989</td>\n",
       "    </tr>\n",
       "    <tr>\n",
       "      <th>2</th>\n",
       "      <td>0.93</td>\n",
       "      <td>0.930096</td>\n",
       "    </tr>\n",
       "  </tbody>\n",
       "</table>\n",
       "</div>"
      ],
      "text/plain": [
       "   y observed  y predicted\n",
       "0        0.75     0.750012\n",
       "1        0.82     0.819989\n",
       "2        0.93     0.930096"
      ]
     },
     "execution_count": 41,
     "metadata": {},
     "output_type": "execute_result"
    }
   ],
   "source": [
    "DataFrame({'y predicted': t.N.y_hat.flatten().tolist(),\n",
    "           'y observed': y.flatten().tolist()})"
   ]
  },
  {
   "cell_type": "code",
   "execution_count": 58,
   "metadata": {
    "collapsed": false,
    "deletable": true,
    "editable": true
   },
   "outputs": [
    {
     "data": {
      "text/plain": [
       "array([[ 0.76801754,  0.39420792,  0.36469724],\n",
       "       [ 0.78783001,  0.42680738,  0.25072001],\n",
       "       [ 0.932377  ,  0.35668578,  0.10069267]])"
      ]
     },
     "execution_count": 58,
     "metadata": {},
     "output_type": "execute_result"
    }
   ],
   "source": [
    "nn.a2"
   ]
  },
  {
   "cell_type": "code",
   "execution_count": 42,
   "metadata": {
    "collapsed": false,
    "deletable": true,
    "editable": true
   },
   "outputs": [
    {
     "data": {
      "image/png": "[encoded data removed]",
      "text/plain": [
       "<matplotlib.figure.Figure at 0x118eada20>"
      ]
     },
     "metadata": {},
     "output_type": "display_data"
    }
   ],
   "source": [
    "# Compare estimate, y_hat, to actually score\n",
    "bar([0,1,2], y, width = 0.35, alpha=0.8)\n",
    "bar([0.35,1.35,2.35], t.N.y_hat, width = 0.35, color='r', alpha=0.8)\n",
    "grid(1)\n",
    "legend(['y', 'y_hat']);"
   ]
  },
  {
   "cell_type": "markdown",
   "metadata": {
    "deletable": true,
    "editable": true
   },
   "source": [
    "-----\n",
    "Overfitting like a champ!\n",
    "-----\n",
    "\n",
    "![](http://www.cpmfitness.com/wp-content/uploads/2015/01/bigguysmallshirt.jpg)"
   ]
  },
  {
   "cell_type": "markdown",
   "metadata": {
    "deletable": true,
    "editable": true
   },
   "source": [
    "----\n",
    "What if train just for a little bit…\n",
    "----"
   ]
  },
  {
   "cell_type": "code",
   "execution_count": 48,
   "metadata": {
    "collapsed": false,
    "deletable": true,
    "editable": true
   },
   "outputs": [
    {
     "name": "stdout",
     "output_type": "stream",
     "text": [
      "Warning: Maximum number of iterations has been exceeded.\n",
      "         Current function value: 0.003497\n",
      "         Iterations: 3\n",
      "         Function evaluations: 6\n",
      "         Gradient evaluations: 6\n"
     ]
    },
    {
     "data": {
      "text/html": [
       "<div>\n",
       "<table border=\"1\" class=\"dataframe\">\n",
       "  <thead>\n",
       "    <tr style=\"text-align: right;\">\n",
       "      <th></th>\n",
       "      <th>y observed</th>\n",
       "      <th>y predicted</th>\n",
       "    </tr>\n",
       "  </thead>\n",
       "  <tbody>\n",
       "    <tr>\n",
       "      <th>0</th>\n",
       "      <td>0.75</td>\n",
       "      <td>0.787100</td>\n",
       "    </tr>\n",
       "    <tr>\n",
       "      <th>1</th>\n",
       "      <td>0.82</td>\n",
       "      <td>0.870922</td>\n",
       "    </tr>\n",
       "    <tr>\n",
       "      <th>2</th>\n",
       "      <td>0.93</td>\n",
       "      <td>0.875012</td>\n",
       "    </tr>\n",
       "  </tbody>\n",
       "</table>\n",
       "</div>"
      ],
      "text/plain": [
       "   y observed  y predicted\n",
       "0        0.75     0.787100\n",
       "1        0.82     0.870922\n",
       "2        0.93     0.875012"
      ]
     },
     "execution_count": 48,
     "metadata": {},
     "output_type": "execute_result"
    }
   ],
   "source": [
    "nn = NeuralNetwork()\n",
    "t = Trainer(nn)\n",
    "t.train(X, y, maxiter=3)\n",
    "\n",
    "DataFrame({'y predicted': t.N.y_hat.flatten().tolist(),\n",
    "           'y observed': y.flatten().tolist()})"
   ]
  },
  {
   "cell_type": "markdown",
   "metadata": {
    "deletable": true,
    "editable": true
   },
   "source": [
    "Summary\n",
    "------\n",
    "\n",
    "- Matrix algebra and calculus are your real life friends\n",
    "- Gradient descent \"walks downhill\" to find the global minimum of the cost function\n",
    "- NN are very powerful and will overfit if you let them"
   ]
  },
  {
   "cell_type": "markdown",
   "metadata": {
    "deletable": true,
    "editable": true
   },
   "source": [
    "<br>\n",
    "<br> \n",
    "<br>\n",
    "\n",
    "----"
   ]
  }
 ],
 "metadata": {
  "kernelspec": {
   "display_name": "Python [default]",
   "language": "python",
   "name": "python3"
  },
  "language_info": {
   "codemirror_mode": {
    "name": "ipython",
    "version": 3
   },
   "file_extension": ".py",
   "mimetype": "text/x-python",
   "name": "python",
   "nbconvert_exporter": "python",
   "pygments_lexer": "ipython3",
   "version": "3.5.2"
  }
 },
 "nbformat": 4,
 "nbformat_minor": 0
}
