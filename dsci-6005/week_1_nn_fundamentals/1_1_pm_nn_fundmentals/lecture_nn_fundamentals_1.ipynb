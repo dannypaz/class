{
 "cells": [
  {
   "cell_type": "markdown",
   "metadata": {
    "deletable": true,
    "editable": true,
    "slideshow": {
     "slide_type": "slide"
    }
   },
   "source": [
    "wwBuilding Simple Neural Network\n",
    "-----\n",
    "\n",
    "<br>\n",
    "\n",
    "<center><img src=\"http://3.bp.blogspot.com/-7RWgohC4pYE/VhtQ8IELsLI/AAAAAAAAA6I/_XFhMbjpcCY/s1600/Simple%2BNeural%2BNetwork.png\" height=\"500\"/></center>"
   ]
  },
  {
   "cell_type": "markdown",
   "metadata": {
    "deletable": true,
    "editable": true,
    "slideshow": {
     "slide_type": "slide"
    }
   },
   "source": [
    "By The End Of This Session You Should Be Able To:\n",
    "----\n",
    "\n",
    "- Diagram the fundamental building block of DL: The Perceptron\n",
    "- Define the nouns and verbs of NN\n",
    "- Remember the sigmoid function as the goto nonlinear function"
   ]
  },
  {
   "cell_type": "markdown",
   "metadata": {
    "deletable": true,
    "editable": true,
    "slideshow": {
     "slide_type": "slide"
    }
   },
   "source": [
    "Neural networks as a machine learning problem\n",
    "-------\n",
    "\n",
    "Every ML algorithm has to solve 3 problems:\n",
    "\n",
    "1. Representation\n",
    "2. Evaluation\n",
    "3. Optimization"
   ]
  },
  {
   "cell_type": "markdown",
   "metadata": {
    "deletable": true,
    "editable": true,
    "slideshow": {
     "slide_type": "slide"
    }
   },
   "source": [
    "Neural networks' solutions:\n",
    "-------\n",
    "\n",
    "1. Representation: A Directed Acyclic Graph (DAG)"
   ]
  },
  {
   "cell_type": "markdown",
   "metadata": {
    "deletable": true,
    "editable": true,
    "slideshow": {
     "slide_type": "fragment"
    }
   },
   "source": [
    "2. Evaluation: Squared error, adjust the weights of the neural network to minimize the mean squared error (MSE) on training set. "
   ]
  },
  {
   "cell_type": "markdown",
   "metadata": {
    "deletable": true,
    "editable": true,
    "slideshow": {
     "slide_type": "fragment"
    }
   },
   "source": [
    "3. Optimization - Gradient descent, \"walk downhill\" on the cost function to the global minimum "
   ]
  },
  {
   "cell_type": "markdown",
   "metadata": {
    "deletable": true,
    "editable": true,
    "slideshow": {
     "slide_type": "slide"
    }
   },
   "source": [
    "Perceptron\n",
    "-----\n",
    "\n",
    "<center><img src=\"images/p.png\" height=\"500\"/></center>\n",
    "\n",
    "To describe neural networks (NN), we will begin by describing the simplest possible neural network, one which comprises a single \"neuron\" or node."
   ]
  },
  {
   "cell_type": "markdown",
   "metadata": {
    "deletable": true,
    "editable": true,
    "slideshow": {
     "slide_type": "slide"
    }
   },
   "source": [
    "Perceptron\n",
    "-----\n",
    "\n",
    "<center><img src=\"images/perceptron.png\" width=\"500\"/></center>\n",
    "\n",
    "4 data structures (aka, nouns):\n",
    "\n",
    "1. Input\n",
    "1. Weights\n",
    "1. Bias \n",
    "1. Output\n",
    "\n",
    "$$ W⋅X+b = Y $$"
   ]
  },
  {
   "cell_type": "markdown",
   "metadata": {
    "deletable": true,
    "editable": true,
    "slideshow": {
     "slide_type": "slide"
    }
   },
   "source": [
    "Check for understanding\n",
    "------\n",
    "\n",
    "<center><img src=\"https://encrypted-tbn3.gstatic.com/images?q=tbn:ANd9GcRIrNIif7TjlurrkUsD8U4AzxFPesy8jUo9O_CxTZlf3hSqhnJD\" width=\"500\"/></center>\n",
    "\n",
    "What type of supervised machine learning does this NN do?"
   ]
  },
  {
   "cell_type": "markdown",
   "metadata": {
    "deletable": true,
    "editable": true,
    "slideshow": {
     "slide_type": "fragment"
    }
   },
   "source": [
    "__Classification__: discrete value prediction"
   ]
  },
  {
   "cell_type": "markdown",
   "metadata": {
    "deletable": true,
    "editable": true,
    "slideshow": {
     "slide_type": "fragment"
    }
   },
   "source": [
    "What is the other type of supervised machine learning?"
   ]
  },
  {
   "cell_type": "markdown",
   "metadata": {
    "deletable": true,
    "editable": true,
    "slideshow": {
     "slide_type": "fragment"
    }
   },
   "source": [
    "__Regression__: real value prediction"
   ]
  },
  {
   "cell_type": "markdown",
   "metadata": {
    "deletable": true,
    "editable": true,
    "slideshow": {
     "slide_type": "slide"
    }
   },
   "source": [
    "The goal of supervised NN \n",
    "------\n",
    "\n",
    "Solve almost any problem of the form:\n",
    "\n",
    "“map X to Y”\n",
    "\n",
    "<br>\n",
    "    \n",
    "X can include images, speech, or text\n",
    "\n",
    "Y can include numbers, categories or even sentences. "
   ]
  },
  {
   "cell_type": "markdown",
   "metadata": {
    "deletable": true,
    "editable": true,
    "slideshow": {
     "slide_type": "slide"
    }
   },
   "source": [
    "NN\n",
    "------\n",
    "\n",
    "<center><img src=\"images/network.png\" height=\"500\"/></center>"
   ]
  },
  {
   "cell_type": "markdown",
   "metadata": {
    "deletable": true,
    "editable": true,
    "slideshow": {
     "slide_type": "fragment"
    }
   },
   "source": [
    "A node is like a computer function; it takes inputs and calculates an output."
   ]
  },
  {
   "cell_type": "markdown",
   "metadata": {
    "deletable": true,
    "editable": true,
    "slideshow": {
     "slide_type": "fragment"
    }
   },
   "source": [
    "Nodes in a NN produces a sequence of real-valued activations"
   ]
  },
  {
   "cell_type": "markdown",
   "metadata": {
    "deletable": true,
    "editable": true,
    "slideshow": {
     "slide_type": "slide"
    }
   },
   "source": [
    "<center><img src=\"images/network.png\" height=\"500\"/></center>\n",
    "\n",
    "Each node as 2 functions (aka, verbs):\n",
    "\n",
    "1. A linear function that calculates the weighted sum\n",
    "\n",
    "2. A non-linear function that applies the non-linear function to the output from the linear node"
   ]
  },
  {
   "cell_type": "markdown",
   "metadata": {
    "deletable": true,
    "editable": true,
    "slideshow": {
     "slide_type": "slide"
    }
   },
   "source": [
    "<center><img src=\"http://3.bp.blogspot.com/-7RWgohC4pYE/VhtQ8IELsLI/AAAAAAAAA6I/_XFhMbjpcCY/s1600/Simple%2BNeural%2BNetwork.png\" width=\"500\"/></center>"
   ]
  },
  {
   "cell_type": "markdown",
   "metadata": {
    "deletable": true,
    "editable": true,
    "slideshow": {
     "slide_type": "slide"
    }
   },
   "source": [
    "Activation Function\n",
    "-----\n",
    "\n",
    "<center><img src=\"images/single_node.png\" height=\"500\"/></center>\n",
    "\n",
    "<center><img src=\"images/node_answer.png\" height=\"500\"/></center>"
   ]
  },
  {
   "cell_type": "code",
   "execution_count": 4,
   "metadata": {
    "collapsed": false,
    "deletable": true,
    "editable": true,
    "slideshow": {
     "slide_type": "slide"
    }
   },
   "outputs": [
    {
     "name": "stdout",
     "output_type": "stream",
     "text": [
      "Populating the interactive namespace from numpy and matplotlib\n"
     ]
    }
   ],
   "source": [
    "%pylab inline"
   ]
  },
  {
   "cell_type": "code",
   "execution_count": 5,
   "metadata": {
    "collapsed": true,
    "deletable": true,
    "editable": true,
    "slideshow": {
     "slide_type": "fragment"
    }
   },
   "outputs": [],
   "source": [
    "def sigmoid(z):\n",
    "    \"Define sigmoid activation function to scalar, vector, or matrix\"\n",
    "    return 1/(1+np.exp(-z))"
   ]
  },
  {
   "cell_type": "code",
   "execution_count": 6,
   "metadata": {
    "collapsed": false,
    "deletable": true,
    "editable": true,
    "slideshow": {
     "slide_type": "fragment"
    }
   },
   "outputs": [
    {
     "data": {
      "image/png": "[encoded data removed]",
      "text/plain": [
       "<matplotlib.figure.Figure at 0x111d27a20>"
      ]
     },
     "metadata": {},
     "output_type": "display_data"
    }
   ],
   "source": [
    "domain = np.arange(-6, 6, 0.01)\n",
    "plot(domain, sigmoid(domain), linewidth=2);\n",
    "grid(1);"
   ]
  },
  {
   "cell_type": "markdown",
   "metadata": {
    "deletable": true,
    "editable": true,
    "slideshow": {
     "slide_type": "slide"
    }
   },
   "source": [
    "Check for understanding\n",
    "------\n",
    "\n",
    "Where else have you seen the sigmoid function?"
   ]
  },
  {
   "cell_type": "markdown",
   "metadata": {
    "deletable": true,
    "editable": true,
    "slideshow": {
     "slide_type": "fragment"
    }
   },
   "source": [
    "Used in logistic regression to \"squash\" a real-valued domain value to a range [0,1], thus can model probability."
   ]
  },
  {
   "cell_type": "markdown",
   "metadata": {
    "collapsed": true,
    "deletable": true,
    "editable": true,
    "slideshow": {
     "slide_type": "slide"
    }
   },
   "source": [
    "Activation Functions\n",
    "----\n",
    "\n",
    "<center><img src=\"https://qph.ec.quoracdn.net/main-qimg-01c26eabd976b027e49015428b7fcf01?convert_to_webp=true\" height=\"500\"/></center>\n",
    "\n",
    "Non-linearities play a key role in NN. Non-linearities allow NN to learn complex decision boundaries."
   ]
  },
  {
   "cell_type": "markdown",
   "metadata": {
    "deletable": true,
    "editable": true,
    "slideshow": {
     "slide_type": "slide"
    }
   },
   "source": [
    "1 hidden layer\n",
    "------\n",
    "\n",
    "<center><img src=\"images/simple.png\" height=\"500\"/></center>"
   ]
  },
  {
   "cell_type": "markdown",
   "metadata": {
    "deletable": true,
    "editable": true,
    "slideshow": {
     "slide_type": "slide"
    }
   },
   "source": [
    "<center><img src=\"http://1.bp.blogspot.com/-ZCOvJ9OYHLE/T8jXLkG81XI/AAAAAAAAAto/7LTHWLqOMyg/s1600/p1.png\" height=\"500\"/></center>\n",
    "A neural network can be thought of as running several logistic regressions at the same time."
   ]
  },
  {
   "cell_type": "markdown",
   "metadata": {
    "deletable": true,
    "editable": true,
    "slideshow": {
     "slide_type": "slide"
    }
   },
   "source": [
    "Bias term\n",
    "-----\n",
    "\n",
    "<center><img src=\"images/bias.png\" height=\"500\"/></center>\n",
    "\n",
    "Bias unit is a intercept term or always \"on\" feature\n"
   ]
  },
  {
   "cell_type": "markdown",
   "metadata": {
    "deletable": true,
    "editable": true,
    "slideshow": {
     "slide_type": "slide"
    }
   },
   "source": [
    "🎉 : Deep Learning\n",
    "------\n",
    "\n",
    "<center><img src=\"images/complex.png\" height=\"500\"/></center>"
   ]
  },
  {
   "cell_type": "markdown",
   "metadata": {
    "collapsed": true,
    "deletable": true,
    "editable": true,
    "slideshow": {
     "slide_type": "slide"
    }
   },
   "source": [
    "Summary\n",
    "-----\n",
    "\n",
    "\n",
    "- A perceptron has 3 layers: Input, Hidden, and Output\n",
    "- It has 2 primary functions\n",
    "    - Sum inputs\n",
    "    - Apply a nonlinearity\n",
    "- There are many nonlinearities, start with sigmoid"
   ]
  },
  {
   "cell_type": "markdown",
   "metadata": {
    "collapsed": true,
    "deletable": true,
    "editable": true,
    "slideshow": {
     "slide_type": "slide"
    }
   },
   "source": [
    "<br>\n",
    "<br> \n",
    "<br>\n",
    "\n",
    "----"
   ]
  },
  {
   "cell_type": "markdown",
   "metadata": {
    "deletable": true,
    "editable": true,
    "slideshow": {
     "slide_type": "slide"
    }
   },
   "source": [
    "What is a geometric interpretation of neural networks?\n",
    "------\n",
    "\n",
    "Transformations that map one point in space to another space:\n",
    "\n",
    "- shift/translation\n",
    "- stretch/bending \n",
    "- twist / squeeze"
   ]
  },
  {
   "cell_type": "markdown",
   "metadata": {
    "deletable": true,
    "editable": true
   },
   "source": [
    "<br>\n",
    "<br> \n",
    "<br>\n",
    "\n",
    "----"
   ]
  }
 ],
 "metadata": {
  "celltoolbar": "Slideshow",
  "kernelspec": {
   "display_name": "Python 3",
   "language": "python",
   "name": "python3"
  },
  "language_info": {
   "codemirror_mode": {
    "name": "ipython",
    "version": 3
   },
   "file_extension": ".py",
   "mimetype": "text/x-python",
   "name": "python",
   "nbconvert_exporter": "python",
   "pygments_lexer": "ipython3",
   "version": "3.6.0"
  }
 },
 "nbformat": 4,
 "nbformat_minor": 0
}
