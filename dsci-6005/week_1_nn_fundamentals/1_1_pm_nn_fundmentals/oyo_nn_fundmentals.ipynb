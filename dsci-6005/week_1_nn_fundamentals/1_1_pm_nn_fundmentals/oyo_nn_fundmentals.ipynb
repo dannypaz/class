{
 "cells": [
  {
   "cell_type": "markdown",
   "metadata": {
    "deletable": true,
    "editable": true,
    "slideshow": {
     "slide_type": "slide"
    }
   },
   "source": [
    "Is the brain a good metaphor for Artificial NN?\n",
    "------\n",
    "\n",
    "<center><img src=\"http://www.scienceclarified.com/scitech/images/lsai_0001_0001_0_img0012.jpg\" width=\"700\"/></center>\n",
    "\n",
    "[Read more here](http://ubiquity.acm.org/article.cfm?id=958078)"
   ]
  },
  {
   "cell_type": "markdown",
   "metadata": {
    "deletable": true,
    "editable": true,
    "slideshow": {
     "slide_type": "slide"
    }
   },
   "source": [
    "<center><img src=\"images/neuron.png\" height=\"500\"/></center>\n",
    "<center><img src=\"images/labels.png\" width=\"9k,00\"/></center>"
   ]
  },
  {
   "cell_type": "markdown",
   "metadata": {
    "deletable": true,
    "editable": true,
    "slideshow": {
     "slide_type": "slide"
    }
   },
   "source": [
    "<br>"
   ]
  }
 ],
 "metadata": {
  "celltoolbar": "Slideshow",
  "kernelspec": {
   "display_name": "Python 3",
   "language": "python",
   "name": "python3"
  },
  "language_info": {
   "codemirror_mode": {
    "name": "ipython",
    "version": 3
   },
   "file_extension": ".py",
   "mimetype": "text/x-python",
   "name": "python",
   "nbconvert_exporter": "python",
   "pygments_lexer": "ipython3",
   "version": "3.6.0"
  }
 },
 "nbformat": 4,
 "nbformat_minor": 2
}
