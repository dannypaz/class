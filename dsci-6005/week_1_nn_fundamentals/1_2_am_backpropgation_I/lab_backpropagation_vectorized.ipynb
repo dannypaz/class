{
 "cells": [
  {
   "cell_type": "markdown",
   "metadata": {},
   "source": [
    "# Vectorized Backpropagation Lab\n",
    "\n",
    "Welcome to the vectorized backpropagation lab! By the end of this lab, you will have\n",
    "\n",
    "- Implemented vectorized and minibatch-compatible forward and backward passes for linear and one-hidden layer neural network regression models with a squared loss\n",
    "\n",
    "Let's get started!"
   ]
  },
  {
   "cell_type": "markdown",
   "metadata": {},
   "source": [
    "### Tasks\n",
    "\n",
    "- Implement a vectorized linear regression model with a squared loss\n",
    "- Sample a random data point along with weights and compute all gradients via backpropagation"
   ]
  },
  {
   "cell_type": "code",
   "execution_count": null,
   "metadata": {
    "collapsed": true
   },
   "outputs": [],
   "source": []
  },
  {
   "cell_type": "markdown",
   "metadata": {},
   "source": [
    "### Tasks\n",
    "\n",
    "- Implement a vectorized one-hidden layer neural network model with a squared loss\n",
    "- Sample a random data point along with weights and compute all gradients via backpropagation"
   ]
  },
  {
   "cell_type": "code",
   "execution_count": null,
   "metadata": {
    "collapsed": true
   },
   "outputs": [],
   "source": []
  },
  {
   "cell_type": "markdown",
   "metadata": {},
   "source": [
    "### Tasks\n",
    "\n",
    "- Implement a vectorized linear regression model with a squared loss with support for mini-batch learning\n",
    "- Sample a random data point along with weights and compute all gradients via backpropagation"
   ]
  },
  {
   "cell_type": "code",
   "execution_count": null,
   "metadata": {
    "collapsed": true
   },
   "outputs": [],
   "source": []
  },
  {
   "cell_type": "markdown",
   "metadata": {},
   "source": [
    "### Tasks\n",
    "\n",
    "- Implement a vectorized one-hidden layer neural network model with a squared loss with support for mini-batch learning\n",
    "- Sample a random data point along with weights and compute all gradients via backpropagation"
   ]
  },
  {
   "cell_type": "code",
   "execution_count": null,
   "metadata": {
    "collapsed": true
   },
   "outputs": [],
   "source": []
  },
  {
   "cell_type": "markdown",
   "metadata": {},
   "source": [
    "### Bonus Tasks\n",
    "\n",
    "- Implement a stochastic gradient descent optimizer and optimize these models on a single data points and batches of data points."
   ]
  },
  {
   "cell_type": "code",
   "execution_count": null,
   "metadata": {
    "collapsed": true
   },
   "outputs": [],
   "source": []
  }
 ],
 "metadata": {
  "anaconda-cloud": {},
  "kernelspec": {
   "display_name": "Python 3",
   "language": "python",
   "name": "python3"
  },
  "language_info": {
   "codemirror_mode": {
    "name": "ipython",
    "version": 3
   },
   "file_extension": ".py",
   "mimetype": "text/x-python",
   "name": "python",
   "nbconvert_exporter": "python",
   "pygments_lexer": "ipython3",
   "version": "3.6.0"
  }
 },
 "nbformat": 4,
 "nbformat_minor": 1
}
