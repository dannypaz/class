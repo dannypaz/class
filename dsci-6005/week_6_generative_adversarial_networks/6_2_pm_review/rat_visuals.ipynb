{
 "cells": [
  {
   "cell_type": "markdown",
   "metadata": {},
   "source": [
    "1) <center><img src=\"images/3.png\" height=\"500\"/></center>\n",
    "\n",
    "----\n",
    "2) <center><img src=\"images/1.png\" height=\"500\"/></center>\n",
    "\n",
    "-----\n",
    "3) <center><img src=\"images/2.png\" height=\"500\"/></center>\n",
    "\n",
    "-----\n",
    "4) <center><img src=\"images/4.png\" height=\"500\"/></center>\n"
   ]
  },
  {
   "cell_type": "markdown",
   "metadata": {},
   "source": [
    "<br>"
   ]
  }
 ],
 "metadata": {
  "kernelspec": {
   "display_name": "Python 3",
   "language": "python",
   "name": "python3"
  },
  "language_info": {
   "codemirror_mode": {
    "name": "ipython",
    "version": 3
   },
   "file_extension": ".py",
   "mimetype": "text/x-python",
   "name": "python",
   "nbconvert_exporter": "python",
   "pygments_lexer": "ipython3",
   "version": "3.6.1"
  }
 },
 "nbformat": 4,
 "nbformat_minor": 2
}
