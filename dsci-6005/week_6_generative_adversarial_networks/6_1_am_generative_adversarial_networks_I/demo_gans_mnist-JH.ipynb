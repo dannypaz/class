{
 "cells": [
  {
   "cell_type": "markdown",
   "metadata": {
    "deletable": true,
    "editable": true,
    "nbgrader": {
     "grade": false,
     "grade_id": "intro-ro",
     "locked": true,
     "schema_version": 1,
     "solution": false
    }
   },
   "source": [
    "# Generator Network\n",
    "\n",
    "Our first task in our foray into GANs will be to create a *generator*. Recall a generator $\\mathcal{G}: \\mathbb{R}^{d} \\rightarrow \\mathbb{R}^{\\text{H} \\times \\text{W} \\times \\text{C}}$ can be visualized by the computational graph\n",
    "\n",
    "<img src=\"images/Fancy G.svg\" alt=\"Drawing\" style=\"width: 300px;\"/>\n",
    "\n",
    "and maps from random points $\\mathbf{z} \\in \\mathbb{R}^{d}$ to synthetic images $\\widetilde{\\mathbf{X}} \\in \\mathbb{R}^{\\text{H} \\times \\text{W} \\times \\text{C}}$. For this lab, we will model $\\mathcal{G}$ as a computational graph. Since we are considering MNIST digits, we will take C = 1 and W = H = 28 since. We will also be using $d = 100$."
   ]
  },
  {
   "cell_type": "code",
   "execution_count": 1,
   "metadata": {
    "collapsed": false,
    "deletable": true,
    "editable": true,
    "nbgrader": {
     "grade": false,
     "grade_id": "g-aa",
     "locked": false,
     "schema_version": 1,
     "solution": true
    },
    "scrolled": false
   },
   "outputs": [
    {
     "name": "stderr",
     "output_type": "stream",
     "text": [
      "Using TensorFlow backend.\n"
     ]
    },
    {
     "name": "stdout",
     "output_type": "stream",
     "text": [
      "_________________________________________________________________\n",
      "Layer (type)                 Output Shape              Param #   \n",
      "=================================================================\n",
      "dense_1 (Dense)              (None, 39200)             3959200   \n",
      "_________________________________________________________________\n",
      "batch_normalization_1 (Batch (None, 39200)             156800    \n",
      "_________________________________________________________________\n",
      "activation_1 (Activation)    (None, 39200)             0         \n",
      "_________________________________________________________________\n",
      "reshape_1 (Reshape)          (None, 14, 14, 200)       0         \n",
      "_________________________________________________________________\n",
      "up_sampling2d_1 (UpSampling2 (None, 28, 28, 200)       0         \n",
      "_________________________________________________________________\n",
      "conv2d_1 (Conv2D)            (None, 28, 28, 100)       180100    \n",
      "_________________________________________________________________\n",
      "batch_normalization_2 (Batch (None, 28, 28, 100)       400       \n",
      "_________________________________________________________________\n",
      "activation_2 (Activation)    (None, 28, 28, 100)       0         \n",
      "_________________________________________________________________\n",
      "conv2d_2 (Conv2D)            (None, 28, 28, 50)        45050     \n",
      "_________________________________________________________________\n",
      "batch_normalization_3 (Batch (None, 28, 28, 50)        200       \n",
      "_________________________________________________________________\n",
      "activation_3 (Activation)    (None, 28, 28, 50)        0         \n",
      "_________________________________________________________________\n",
      "conv2d_3 (Conv2D)            (None, 28, 28, 1)         51        \n",
      "_________________________________________________________________\n",
      "activation_4 (Activation)    (None, 28, 28, 1)         0         \n",
      "=================================================================\n",
      "Total params: 4,341,801\n",
      "Trainable params: 4,263,101\n",
      "Non-trainable params: 78,700\n",
      "_________________________________________________________________\n"
     ]
    },
    {
     "data": {
      "image/svg+xml": [
       "<svg height=\"994pt\" viewBox=\"0.00 0.00 273.98 994.00\" width=\"274pt\" xmlns=\"http://www.w3.org/2000/svg\" xmlns:xlink=\"http://www.w3.org/1999/xlink\">\n",
       "<g class=\"graph\" id=\"graph0\" transform=\"scale(1 1) rotate(0) translate(4 990)\">\n",
       "<title>G</title>\n",
       "<polygon fill=\"#ffffff\" points=\"-4,4 -4,-990 269.9766,-990 269.9766,4 -4,4\" stroke=\"transparent\"/>\n",
       "<!-- 4523365320 -->\n",
       "<g class=\"node\" id=\"node1\">\n",
       "<title>4523365320</title>\n",
       "<polygon fill=\"none\" points=\"49.3691,-949.5 49.3691,-985.5 216.6074,-985.5 216.6074,-949.5 49.3691,-949.5\" stroke=\"#000000\"/>\n",
       "<text fill=\"#000000\" font-family=\"Times,serif\" font-size=\"14.00\" text-anchor=\"middle\" x=\"132.9883\" y=\"-963.3\">dense_1_input: InputLayer</text>\n",
       "</g>\n",
       "<!-- 4523388880 -->\n",
       "<g class=\"node\" id=\"node2\">\n",
       "<title>4523388880</title>\n",
       "<polygon fill=\"none\" points=\"80.8623,-876.5 80.8623,-912.5 185.1143,-912.5 185.1143,-876.5 80.8623,-876.5\" stroke=\"#000000\"/>\n",
       "<text fill=\"#000000\" font-family=\"Times,serif\" font-size=\"14.00\" text-anchor=\"middle\" x=\"132.9883\" y=\"-890.3\">dense_1: Dense</text>\n",
       "</g>\n",
       "<!-- 4523365320&#45;&gt;4523388880 -->\n",
       "<g class=\"edge\" id=\"edge1\">\n",
       "<title>4523365320-&gt;4523388880</title>\n",
       "<path d=\"M132.9883,-949.4551C132.9883,-941.3828 132.9883,-931.6764 132.9883,-922.6817\" fill=\"none\" stroke=\"#000000\"/>\n",
       "<polygon fill=\"#000000\" points=\"136.4884,-922.5903 132.9883,-912.5904 129.4884,-922.5904 136.4884,-922.5903\" stroke=\"#000000\"/>\n",
       "</g>\n",
       "<!-- 4523364480 -->\n",
       "<g class=\"node\" id=\"node3\">\n",
       "<title>4523364480</title>\n",
       "<polygon fill=\"none\" points=\"0,-803.5 0,-839.5 265.9766,-839.5 265.9766,-803.5 0,-803.5\" stroke=\"#000000\"/>\n",
       "<text fill=\"#000000\" font-family=\"Times,serif\" font-size=\"14.00\" text-anchor=\"middle\" x=\"132.9883\" y=\"-817.3\">batch_normalization_1: BatchNormalization</text>\n",
       "</g>\n",
       "<!-- 4523388880&#45;&gt;4523364480 -->\n",
       "<g class=\"edge\" id=\"edge2\">\n",
       "<title>4523388880-&gt;4523364480</title>\n",
       "<path d=\"M132.9883,-876.4551C132.9883,-868.3828 132.9883,-858.6764 132.9883,-849.6817\" fill=\"none\" stroke=\"#000000\"/>\n",
       "<polygon fill=\"#000000\" points=\"136.4884,-849.5903 132.9883,-839.5904 129.4884,-849.5904 136.4884,-849.5903\" stroke=\"#000000\"/>\n",
       "</g>\n",
       "<!-- 4855119768 -->\n",
       "<g class=\"node\" id=\"node4\">\n",
       "<title>4855119768</title>\n",
       "<polygon fill=\"none\" points=\"57.5278,-730.5 57.5278,-766.5 208.4487,-766.5 208.4487,-730.5 57.5278,-730.5\" stroke=\"#000000\"/>\n",
       "<text fill=\"#000000\" font-family=\"Times,serif\" font-size=\"14.00\" text-anchor=\"middle\" x=\"132.9883\" y=\"-744.3\">activation_1: Activation</text>\n",
       "</g>\n",
       "<!-- 4523364480&#45;&gt;4855119768 -->\n",
       "<g class=\"edge\" id=\"edge3\">\n",
       "<title>4523364480-&gt;4855119768</title>\n",
       "<path d=\"M132.9883,-803.4551C132.9883,-795.3828 132.9883,-785.6764 132.9883,-776.6817\" fill=\"none\" stroke=\"#000000\"/>\n",
       "<polygon fill=\"#000000\" points=\"136.4884,-776.5903 132.9883,-766.5904 129.4884,-776.5904 136.4884,-776.5903\" stroke=\"#000000\"/>\n",
       "</g>\n",
       "<!-- 4855193672 -->\n",
       "<g class=\"node\" id=\"node5\">\n",
       "<title>4855193672</title>\n",
       "<polygon fill=\"none\" points=\"69.2036,-657.5 69.2036,-693.5 196.7729,-693.5 196.7729,-657.5 69.2036,-657.5\" stroke=\"#000000\"/>\n",
       "<text fill=\"#000000\" font-family=\"Times,serif\" font-size=\"14.00\" text-anchor=\"middle\" x=\"132.9883\" y=\"-671.3\">reshape_1: Reshape</text>\n",
       "</g>\n",
       "<!-- 4855119768&#45;&gt;4855193672 -->\n",
       "<g class=\"edge\" id=\"edge4\">\n",
       "<title>4855119768-&gt;4855193672</title>\n",
       "<path d=\"M132.9883,-730.4551C132.9883,-722.3828 132.9883,-712.6764 132.9883,-703.6817\" fill=\"none\" stroke=\"#000000\"/>\n",
       "<polygon fill=\"#000000\" points=\"136.4884,-703.5903 132.9883,-693.5904 129.4884,-703.5904 136.4884,-703.5903\" stroke=\"#000000\"/>\n",
       "</g>\n",
       "<!-- 4855119712 -->\n",
       "<g class=\"node\" id=\"node6\">\n",
       "<title>4855119712</title>\n",
       "<polygon fill=\"none\" points=\"27.1831,-584.5 27.1831,-620.5 238.7935,-620.5 238.7935,-584.5 27.1831,-584.5\" stroke=\"#000000\"/>\n",
       "<text fill=\"#000000\" font-family=\"Times,serif\" font-size=\"14.00\" text-anchor=\"middle\" x=\"132.9883\" y=\"-598.3\">up_sampling2d_1: UpSampling2D</text>\n",
       "</g>\n",
       "<!-- 4855193672&#45;&gt;4855119712 -->\n",
       "<g class=\"edge\" id=\"edge5\">\n",
       "<title>4855193672-&gt;4855119712</title>\n",
       "<path d=\"M132.9883,-657.4551C132.9883,-649.3828 132.9883,-639.6764 132.9883,-630.6817\" fill=\"none\" stroke=\"#000000\"/>\n",
       "<polygon fill=\"#000000\" points=\"136.4884,-630.5903 132.9883,-620.5904 129.4884,-630.5904 136.4884,-630.5903\" stroke=\"#000000\"/>\n",
       "</g>\n",
       "<!-- 4855194792 -->\n",
       "<g class=\"node\" id=\"node7\">\n",
       "<title>4855194792</title>\n",
       "<polygon fill=\"none\" points=\"69.9624,-511.5 69.9624,-547.5 196.0142,-547.5 196.0142,-511.5 69.9624,-511.5\" stroke=\"#000000\"/>\n",
       "<text fill=\"#000000\" font-family=\"Times,serif\" font-size=\"14.00\" text-anchor=\"middle\" x=\"132.9883\" y=\"-525.3\">conv2d_1: Conv2D</text>\n",
       "</g>\n",
       "<!-- 4855119712&#45;&gt;4855194792 -->\n",
       "<g class=\"edge\" id=\"edge6\">\n",
       "<title>4855119712-&gt;4855194792</title>\n",
       "<path d=\"M132.9883,-584.4551C132.9883,-576.3828 132.9883,-566.6764 132.9883,-557.6817\" fill=\"none\" stroke=\"#000000\"/>\n",
       "<polygon fill=\"#000000\" points=\"136.4884,-557.5903 132.9883,-547.5904 129.4884,-557.5904 136.4884,-557.5903\" stroke=\"#000000\"/>\n",
       "</g>\n",
       "<!-- 4784150624 -->\n",
       "<g class=\"node\" id=\"node8\">\n",
       "<title>4784150624</title>\n",
       "<polygon fill=\"none\" points=\"0,-438.5 0,-474.5 265.9766,-474.5 265.9766,-438.5 0,-438.5\" stroke=\"#000000\"/>\n",
       "<text fill=\"#000000\" font-family=\"Times,serif\" font-size=\"14.00\" text-anchor=\"middle\" x=\"132.9883\" y=\"-452.3\">batch_normalization_2: BatchNormalization</text>\n",
       "</g>\n",
       "<!-- 4855194792&#45;&gt;4784150624 -->\n",
       "<g class=\"edge\" id=\"edge7\">\n",
       "<title>4855194792-&gt;4784150624</title>\n",
       "<path d=\"M132.9883,-511.4551C132.9883,-503.3828 132.9883,-493.6764 132.9883,-484.6817\" fill=\"none\" stroke=\"#000000\"/>\n",
       "<polygon fill=\"#000000\" points=\"136.4884,-484.5903 132.9883,-474.5904 129.4884,-484.5904 136.4884,-484.5903\" stroke=\"#000000\"/>\n",
       "</g>\n",
       "<!-- 4856301216 -->\n",
       "<g class=\"node\" id=\"node9\">\n",
       "<title>4856301216</title>\n",
       "<polygon fill=\"none\" points=\"57.5278,-365.5 57.5278,-401.5 208.4487,-401.5 208.4487,-365.5 57.5278,-365.5\" stroke=\"#000000\"/>\n",
       "<text fill=\"#000000\" font-family=\"Times,serif\" font-size=\"14.00\" text-anchor=\"middle\" x=\"132.9883\" y=\"-379.3\">activation_2: Activation</text>\n",
       "</g>\n",
       "<!-- 4784150624&#45;&gt;4856301216 -->\n",
       "<g class=\"edge\" id=\"edge8\">\n",
       "<title>4784150624-&gt;4856301216</title>\n",
       "<path d=\"M132.9883,-438.4551C132.9883,-430.3828 132.9883,-420.6764 132.9883,-411.6817\" fill=\"none\" stroke=\"#000000\"/>\n",
       "<polygon fill=\"#000000\" points=\"136.4884,-411.5903 132.9883,-401.5904 129.4884,-411.5904 136.4884,-411.5903\" stroke=\"#000000\"/>\n",
       "</g>\n",
       "<!-- 4856490248 -->\n",
       "<g class=\"node\" id=\"node10\">\n",
       "<title>4856490248</title>\n",
       "<polygon fill=\"none\" points=\"69.9624,-292.5 69.9624,-328.5 196.0142,-328.5 196.0142,-292.5 69.9624,-292.5\" stroke=\"#000000\"/>\n",
       "<text fill=\"#000000\" font-family=\"Times,serif\" font-size=\"14.00\" text-anchor=\"middle\" x=\"132.9883\" y=\"-306.3\">conv2d_2: Conv2D</text>\n",
       "</g>\n",
       "<!-- 4856301216&#45;&gt;4856490248 -->\n",
       "<g class=\"edge\" id=\"edge9\">\n",
       "<title>4856301216-&gt;4856490248</title>\n",
       "<path d=\"M132.9883,-365.4551C132.9883,-357.3828 132.9883,-347.6764 132.9883,-338.6817\" fill=\"none\" stroke=\"#000000\"/>\n",
       "<polygon fill=\"#000000\" points=\"136.4884,-338.5903 132.9883,-328.5904 129.4884,-338.5904 136.4884,-338.5903\" stroke=\"#000000\"/>\n",
       "</g>\n",
       "<!-- 4856235568 -->\n",
       "<g class=\"node\" id=\"node11\">\n",
       "<title>4856235568</title>\n",
       "<polygon fill=\"none\" points=\"0,-219.5 0,-255.5 265.9766,-255.5 265.9766,-219.5 0,-219.5\" stroke=\"#000000\"/>\n",
       "<text fill=\"#000000\" font-family=\"Times,serif\" font-size=\"14.00\" text-anchor=\"middle\" x=\"132.9883\" y=\"-233.3\">batch_normalization_3: BatchNormalization</text>\n",
       "</g>\n",
       "<!-- 4856490248&#45;&gt;4856235568 -->\n",
       "<g class=\"edge\" id=\"edge10\">\n",
       "<title>4856490248-&gt;4856235568</title>\n",
       "<path d=\"M132.9883,-292.4551C132.9883,-284.3828 132.9883,-274.6764 132.9883,-265.6817\" fill=\"none\" stroke=\"#000000\"/>\n",
       "<polygon fill=\"#000000\" points=\"136.4884,-265.5903 132.9883,-255.5904 129.4884,-265.5904 136.4884,-265.5903\" stroke=\"#000000\"/>\n",
       "</g>\n",
       "<!-- 4856953544 -->\n",
       "<g class=\"node\" id=\"node12\">\n",
       "<title>4856953544</title>\n",
       "<polygon fill=\"none\" points=\"57.5278,-146.5 57.5278,-182.5 208.4487,-182.5 208.4487,-146.5 57.5278,-146.5\" stroke=\"#000000\"/>\n",
       "<text fill=\"#000000\" font-family=\"Times,serif\" font-size=\"14.00\" text-anchor=\"middle\" x=\"132.9883\" y=\"-160.3\">activation_3: Activation</text>\n",
       "</g>\n",
       "<!-- 4856235568&#45;&gt;4856953544 -->\n",
       "<g class=\"edge\" id=\"edge11\">\n",
       "<title>4856235568-&gt;4856953544</title>\n",
       "<path d=\"M132.9883,-219.4551C132.9883,-211.3828 132.9883,-201.6764 132.9883,-192.6817\" fill=\"none\" stroke=\"#000000\"/>\n",
       "<polygon fill=\"#000000\" points=\"136.4884,-192.5903 132.9883,-182.5904 129.4884,-192.5904 136.4884,-192.5903\" stroke=\"#000000\"/>\n",
       "</g>\n",
       "<!-- 4857460832 -->\n",
       "<g class=\"node\" id=\"node13\">\n",
       "<title>4857460832</title>\n",
       "<polygon fill=\"none\" points=\"69.9624,-73.5 69.9624,-109.5 196.0142,-109.5 196.0142,-73.5 69.9624,-73.5\" stroke=\"#000000\"/>\n",
       "<text fill=\"#000000\" font-family=\"Times,serif\" font-size=\"14.00\" text-anchor=\"middle\" x=\"132.9883\" y=\"-87.3\">conv2d_3: Conv2D</text>\n",
       "</g>\n",
       "<!-- 4856953544&#45;&gt;4857460832 -->\n",
       "<g class=\"edge\" id=\"edge12\">\n",
       "<title>4856953544-&gt;4857460832</title>\n",
       "<path d=\"M132.9883,-146.4551C132.9883,-138.3828 132.9883,-128.6764 132.9883,-119.6817\" fill=\"none\" stroke=\"#000000\"/>\n",
       "<polygon fill=\"#000000\" points=\"136.4884,-119.5903 132.9883,-109.5904 129.4884,-119.5904 136.4884,-119.5903\" stroke=\"#000000\"/>\n",
       "</g>\n",
       "<!-- 4856666432 -->\n",
       "<g class=\"node\" id=\"node14\">\n",
       "<title>4856666432</title>\n",
       "<polygon fill=\"none\" points=\"57.5278,-.5 57.5278,-36.5 208.4487,-36.5 208.4487,-.5 57.5278,-.5\" stroke=\"#000000\"/>\n",
       "<text fill=\"#000000\" font-family=\"Times,serif\" font-size=\"14.00\" text-anchor=\"middle\" x=\"132.9883\" y=\"-14.3\">activation_4: Activation</text>\n",
       "</g>\n",
       "<!-- 4857460832&#45;&gt;4856666432 -->\n",
       "<g class=\"edge\" id=\"edge13\">\n",
       "<title>4857460832-&gt;4856666432</title>\n",
       "<path d=\"M132.9883,-73.4551C132.9883,-65.3828 132.9883,-55.6764 132.9883,-46.6817\" fill=\"none\" stroke=\"#000000\"/>\n",
       "<polygon fill=\"#000000\" points=\"136.4884,-46.5903 132.9883,-36.5904 129.4884,-46.5904 136.4884,-46.5903\" stroke=\"#000000\"/>\n",
       "</g>\n",
       "</g>\n",
       "</svg>"
      ],
      "text/plain": [
       "<IPython.core.display.SVG object>"
      ]
     },
     "execution_count": 1,
     "metadata": {},
     "output_type": "execute_result"
    }
   ],
   "source": [
    "from keras.models import Sequential\n",
    "from keras.layers import Dense, Reshape, Conv2D, UpSampling2D, BatchNormalization, Activation\n",
    "from keras.utils import np_utils\n",
    "from IPython.display import SVG\n",
    "from keras.utils.vis_utils import model_to_dot\n",
    "\n",
    "nb_filter = 200\n",
    "\n",
    "G = Sequential(name='G')\n",
    "G.add(Dense(units=nb_filter*14*14, input_shape=[100]))\n",
    "G.add(BatchNormalization())\n",
    "G.add(Activation('relu'))\n",
    "G.add(Reshape([14, 14, nb_filter]))\n",
    "G.add(UpSampling2D(size=[2, 2]))\n",
    "G.add(Conv2D(filters=nb_filter//2, kernel_size=3, padding='same'))\n",
    "G.add(BatchNormalization())\n",
    "G.add(Activation('relu'))\n",
    "G.add(Conv2D(filters=nb_filter//4, kernel_size=3, padding='same'))\n",
    "G.add(BatchNormalization())\n",
    "G.add(Activation('relu'))\n",
    "G.add(Conv2D(filters=1, kernel_size=1, padding='same'))\n",
    "G.add(Activation('sigmoid'))\n",
    "\n",
    "G.summary()\n",
    "SVG(model_to_dot(G).create(prog='dot', format='svg'))"
   ]
  },
  {
   "cell_type": "markdown",
   "metadata": {
    "deletable": true,
    "editable": true,
    "nbgrader": {
     "grade": false,
     "grade_id": "d-ro",
     "locked": true,
     "schema_version": 1,
     "solution": false
    }
   },
   "source": [
    "# Discriminator Network\n",
    "\n",
    "Our next order of business will be defining a *discriminator* model. Recall a discriminator $\\mathcal{D}: \\mathbb{R}^{\\text{H} \\times \\text{W} \\times \\text{C}} \\rightarrow \\mathbb{R}$ maps an image $\\mathbf{X} \\in \\mathbb{R}^{\\text{H} \\times \\text{W} \\times \\text{C}}$ to a probability $p \\in \\mathbb{R}$ that $\\mathbf{X}$ came from the data distribution and **not** the generator. We can visualize $\\mathcal{D}$ as the computational graph\n",
    "\n",
    "<img src=\"images/Fancy D.svg\" alt=\"Discriminator\" style=\"width: 300px;\"/>\n",
    "\n",
    "and as with $\\mathcal{G}$, we will model $\\mathcal{D}$ as a neural network."
   ]
  },
  {
   "cell_type": "code",
   "execution_count": 2,
   "metadata": {
    "collapsed": false,
    "deletable": true,
    "editable": true,
    "nbgrader": {
     "grade": false,
     "grade_id": "d-aa",
     "locked": false,
     "schema_version": 1,
     "solution": true
    }
   },
   "outputs": [
    {
     "name": "stdout",
     "output_type": "stream",
     "text": [
      "_________________________________________________________________\n",
      "Layer (type)                 Output Shape              Param #   \n",
      "=================================================================\n",
      "conv2d_4 (Conv2D)            (None, 14, 14, 256)       6656      \n",
      "_________________________________________________________________\n",
      "leaky_re_lu_1 (LeakyReLU)    (None, 14, 14, 256)       0         \n",
      "_________________________________________________________________\n",
      "dropout_1 (Dropout)          (None, 14, 14, 256)       0         \n",
      "_________________________________________________________________\n",
      "conv2d_5 (Conv2D)            (None, 7, 7, 512)         3277312   \n",
      "_________________________________________________________________\n",
      "leaky_re_lu_2 (LeakyReLU)    (None, 7, 7, 512)         0         \n",
      "_________________________________________________________________\n",
      "dropout_2 (Dropout)          (None, 7, 7, 512)         0         \n",
      "_________________________________________________________________\n",
      "flatten_1 (Flatten)          (None, 25088)             0         \n",
      "_________________________________________________________________\n",
      "dense_2 (Dense)              (None, 256)               6422784   \n",
      "_________________________________________________________________\n",
      "leaky_re_lu_3 (LeakyReLU)    (None, 256)               0         \n",
      "_________________________________________________________________\n",
      "dropout_3 (Dropout)          (None, 256)               0         \n",
      "_________________________________________________________________\n",
      "dense_3 (Dense)              (None, 2)                 514       \n",
      "=================================================================\n",
      "Total params: 9,707,266\n",
      "Trainable params: 9,707,266\n",
      "Non-trainable params: 0\n",
      "_________________________________________________________________\n"
     ]
    },
    {
     "data": {
      "image/svg+xml": [
       "<svg height=\"848pt\" viewBox=\"0.00 0.00 184.58 848.00\" width=\"185pt\" xmlns=\"http://www.w3.org/2000/svg\" xmlns:xlink=\"http://www.w3.org/1999/xlink\">\n",
       "<g class=\"graph\" id=\"graph0\" transform=\"scale(1 1) rotate(0) translate(4 844)\">\n",
       "<title>G</title>\n",
       "<polygon fill=\"#ffffff\" points=\"-4,4 -4,-844 180.5762,-844 180.5762,4 -4,4\" stroke=\"transparent\"/>\n",
       "<!-- 4860187256 -->\n",
       "<g class=\"node\" id=\"node1\">\n",
       "<title>4860187256</title>\n",
       "<polygon fill=\"none\" points=\"0,-803.5 0,-839.5 176.5762,-839.5 176.5762,-803.5 0,-803.5\" stroke=\"#000000\"/>\n",
       "<text fill=\"#000000\" font-family=\"Times,serif\" font-size=\"14.00\" text-anchor=\"middle\" x=\"88.2881\" y=\"-817.3\">conv2d_4_input: InputLayer</text>\n",
       "</g>\n",
       "<!-- 4860186808 -->\n",
       "<g class=\"node\" id=\"node2\">\n",
       "<title>4860186808</title>\n",
       "<polygon fill=\"none\" points=\"25.2622,-730.5 25.2622,-766.5 151.314,-766.5 151.314,-730.5 25.2622,-730.5\" stroke=\"#000000\"/>\n",
       "<text fill=\"#000000\" font-family=\"Times,serif\" font-size=\"14.00\" text-anchor=\"middle\" x=\"88.2881\" y=\"-744.3\">conv2d_4: Conv2D</text>\n",
       "</g>\n",
       "<!-- 4860187256&#45;&gt;4860186808 -->\n",
       "<g class=\"edge\" id=\"edge1\">\n",
       "<title>4860187256-&gt;4860186808</title>\n",
       "<path d=\"M88.2881,-803.4551C88.2881,-795.3828 88.2881,-785.6764 88.2881,-776.6817\" fill=\"none\" stroke=\"#000000\"/>\n",
       "<polygon fill=\"#000000\" points=\"91.7882,-776.5903 88.2881,-766.5904 84.7882,-776.5904 91.7882,-776.5903\" stroke=\"#000000\"/>\n",
       "</g>\n",
       "<!-- 4860186864 -->\n",
       "<g class=\"node\" id=\"node3\">\n",
       "<title>4860186864</title>\n",
       "<polygon fill=\"none\" points=\"1.9551,-657.5 1.9551,-693.5 174.6211,-693.5 174.6211,-657.5 1.9551,-657.5\" stroke=\"#000000\"/>\n",
       "<text fill=\"#000000\" font-family=\"Times,serif\" font-size=\"14.00\" text-anchor=\"middle\" x=\"88.2881\" y=\"-671.3\">leaky_re_lu_1: LeakyReLU</text>\n",
       "</g>\n",
       "<!-- 4860186808&#45;&gt;4860186864 -->\n",
       "<g class=\"edge\" id=\"edge2\">\n",
       "<title>4860186808-&gt;4860186864</title>\n",
       "<path d=\"M88.2881,-730.4551C88.2881,-722.3828 88.2881,-712.6764 88.2881,-703.6817\" fill=\"none\" stroke=\"#000000\"/>\n",
       "<polygon fill=\"#000000\" points=\"91.7882,-703.5903 88.2881,-693.5904 84.7882,-703.5904 91.7882,-703.5903\" stroke=\"#000000\"/>\n",
       "</g>\n",
       "<!-- 4860313216 -->\n",
       "<g class=\"node\" id=\"node4\">\n",
       "<title>4860313216</title>\n",
       "<polygon fill=\"none\" points=\"24.4863,-584.5 24.4863,-620.5 152.0898,-620.5 152.0898,-584.5 24.4863,-584.5\" stroke=\"#000000\"/>\n",
       "<text fill=\"#000000\" font-family=\"Times,serif\" font-size=\"14.00\" text-anchor=\"middle\" x=\"88.2881\" y=\"-598.3\">dropout_1: Dropout</text>\n",
       "</g>\n",
       "<!-- 4860186864&#45;&gt;4860313216 -->\n",
       "<g class=\"edge\" id=\"edge3\">\n",
       "<title>4860186864-&gt;4860313216</title>\n",
       "<path d=\"M88.2881,-657.4551C88.2881,-649.3828 88.2881,-639.6764 88.2881,-630.6817\" fill=\"none\" stroke=\"#000000\"/>\n",
       "<polygon fill=\"#000000\" points=\"91.7882,-630.5903 88.2881,-620.5904 84.7882,-630.5904 91.7882,-630.5903\" stroke=\"#000000\"/>\n",
       "</g>\n",
       "<!-- 4860188152 -->\n",
       "<g class=\"node\" id=\"node5\">\n",
       "<title>4860188152</title>\n",
       "<polygon fill=\"none\" points=\"25.2622,-511.5 25.2622,-547.5 151.314,-547.5 151.314,-511.5 25.2622,-511.5\" stroke=\"#000000\"/>\n",
       "<text fill=\"#000000\" font-family=\"Times,serif\" font-size=\"14.00\" text-anchor=\"middle\" x=\"88.2881\" y=\"-525.3\">conv2d_5: Conv2D</text>\n",
       "</g>\n",
       "<!-- 4860313216&#45;&gt;4860188152 -->\n",
       "<g class=\"edge\" id=\"edge4\">\n",
       "<title>4860313216-&gt;4860188152</title>\n",
       "<path d=\"M88.2881,-584.4551C88.2881,-576.3828 88.2881,-566.6764 88.2881,-557.6817\" fill=\"none\" stroke=\"#000000\"/>\n",
       "<polygon fill=\"#000000\" points=\"91.7882,-557.5903 88.2881,-547.5904 84.7882,-557.5904 91.7882,-557.5903\" stroke=\"#000000\"/>\n",
       "</g>\n",
       "<!-- 4860189776 -->\n",
       "<g class=\"node\" id=\"node6\">\n",
       "<title>4860189776</title>\n",
       "<polygon fill=\"none\" points=\"1.9551,-438.5 1.9551,-474.5 174.6211,-474.5 174.6211,-438.5 1.9551,-438.5\" stroke=\"#000000\"/>\n",
       "<text fill=\"#000000\" font-family=\"Times,serif\" font-size=\"14.00\" text-anchor=\"middle\" x=\"88.2881\" y=\"-452.3\">leaky_re_lu_2: LeakyReLU</text>\n",
       "</g>\n",
       "<!-- 4860188152&#45;&gt;4860189776 -->\n",
       "<g class=\"edge\" id=\"edge5\">\n",
       "<title>4860188152-&gt;4860189776</title>\n",
       "<path d=\"M88.2881,-511.4551C88.2881,-503.3828 88.2881,-493.6764 88.2881,-484.6817\" fill=\"none\" stroke=\"#000000\"/>\n",
       "<polygon fill=\"#000000\" points=\"91.7882,-484.5903 88.2881,-474.5904 84.7882,-484.5904 91.7882,-484.5903\" stroke=\"#000000\"/>\n",
       "</g>\n",
       "<!-- 4859203656 -->\n",
       "<g class=\"node\" id=\"node7\">\n",
       "<title>4859203656</title>\n",
       "<polygon fill=\"none\" points=\"24.4863,-365.5 24.4863,-401.5 152.0898,-401.5 152.0898,-365.5 24.4863,-365.5\" stroke=\"#000000\"/>\n",
       "<text fill=\"#000000\" font-family=\"Times,serif\" font-size=\"14.00\" text-anchor=\"middle\" x=\"88.2881\" y=\"-379.3\">dropout_2: Dropout</text>\n",
       "</g>\n",
       "<!-- 4860189776&#45;&gt;4859203656 -->\n",
       "<g class=\"edge\" id=\"edge6\">\n",
       "<title>4860189776-&gt;4859203656</title>\n",
       "<path d=\"M88.2881,-438.4551C88.2881,-430.3828 88.2881,-420.6764 88.2881,-411.6817\" fill=\"none\" stroke=\"#000000\"/>\n",
       "<polygon fill=\"#000000\" points=\"91.7882,-411.5903 88.2881,-401.5904 84.7882,-411.5904 91.7882,-411.5903\" stroke=\"#000000\"/>\n",
       "</g>\n",
       "<!-- 4859649664 -->\n",
       "<g class=\"node\" id=\"node8\">\n",
       "<title>4859649664</title>\n",
       "<polygon fill=\"none\" points=\"32.6553,-292.5 32.6553,-328.5 143.9209,-328.5 143.9209,-292.5 32.6553,-292.5\" stroke=\"#000000\"/>\n",
       "<text fill=\"#000000\" font-family=\"Times,serif\" font-size=\"14.00\" text-anchor=\"middle\" x=\"88.2881\" y=\"-306.3\">flatten_1: Flatten</text>\n",
       "</g>\n",
       "<!-- 4859203656&#45;&gt;4859649664 -->\n",
       "<g class=\"edge\" id=\"edge7\">\n",
       "<title>4859203656-&gt;4859649664</title>\n",
       "<path d=\"M88.2881,-365.4551C88.2881,-357.3828 88.2881,-347.6764 88.2881,-338.6817\" fill=\"none\" stroke=\"#000000\"/>\n",
       "<polygon fill=\"#000000\" points=\"91.7882,-338.5903 88.2881,-328.5904 84.7882,-338.5904 91.7882,-338.5903\" stroke=\"#000000\"/>\n",
       "</g>\n",
       "<!-- 4859952992 -->\n",
       "<g class=\"node\" id=\"node9\">\n",
       "<title>4859952992</title>\n",
       "<polygon fill=\"none\" points=\"36.1621,-219.5 36.1621,-255.5 140.4141,-255.5 140.4141,-219.5 36.1621,-219.5\" stroke=\"#000000\"/>\n",
       "<text fill=\"#000000\" font-family=\"Times,serif\" font-size=\"14.00\" text-anchor=\"middle\" x=\"88.2881\" y=\"-233.3\">dense_2: Dense</text>\n",
       "</g>\n",
       "<!-- 4859649664&#45;&gt;4859952992 -->\n",
       "<g class=\"edge\" id=\"edge8\">\n",
       "<title>4859649664-&gt;4859952992</title>\n",
       "<path d=\"M88.2881,-292.4551C88.2881,-284.3828 88.2881,-274.6764 88.2881,-265.6817\" fill=\"none\" stroke=\"#000000\"/>\n",
       "<polygon fill=\"#000000\" points=\"91.7882,-265.5903 88.2881,-255.5904 84.7882,-265.5904 91.7882,-265.5903\" stroke=\"#000000\"/>\n",
       "</g>\n",
       "<!-- 4860681856 -->\n",
       "<g class=\"node\" id=\"node10\">\n",
       "<title>4860681856</title>\n",
       "<polygon fill=\"none\" points=\"1.9551,-146.5 1.9551,-182.5 174.6211,-182.5 174.6211,-146.5 1.9551,-146.5\" stroke=\"#000000\"/>\n",
       "<text fill=\"#000000\" font-family=\"Times,serif\" font-size=\"14.00\" text-anchor=\"middle\" x=\"88.2881\" y=\"-160.3\">leaky_re_lu_3: LeakyReLU</text>\n",
       "</g>\n",
       "<!-- 4859952992&#45;&gt;4860681856 -->\n",
       "<g class=\"edge\" id=\"edge9\">\n",
       "<title>4859952992-&gt;4860681856</title>\n",
       "<path d=\"M88.2881,-219.4551C88.2881,-211.3828 88.2881,-201.6764 88.2881,-192.6817\" fill=\"none\" stroke=\"#000000\"/>\n",
       "<polygon fill=\"#000000\" points=\"91.7882,-192.5903 88.2881,-182.5904 84.7882,-192.5904 91.7882,-192.5903\" stroke=\"#000000\"/>\n",
       "</g>\n",
       "<!-- 4861041128 -->\n",
       "<g class=\"node\" id=\"node11\">\n",
       "<title>4861041128</title>\n",
       "<polygon fill=\"none\" points=\"24.4863,-73.5 24.4863,-109.5 152.0898,-109.5 152.0898,-73.5 24.4863,-73.5\" stroke=\"#000000\"/>\n",
       "<text fill=\"#000000\" font-family=\"Times,serif\" font-size=\"14.00\" text-anchor=\"middle\" x=\"88.2881\" y=\"-87.3\">dropout_3: Dropout</text>\n",
       "</g>\n",
       "<!-- 4860681856&#45;&gt;4861041128 -->\n",
       "<g class=\"edge\" id=\"edge10\">\n",
       "<title>4860681856-&gt;4861041128</title>\n",
       "<path d=\"M88.2881,-146.4551C88.2881,-138.3828 88.2881,-128.6764 88.2881,-119.6817\" fill=\"none\" stroke=\"#000000\"/>\n",
       "<polygon fill=\"#000000\" points=\"91.7882,-119.5903 88.2881,-109.5904 84.7882,-119.5904 91.7882,-119.5903\" stroke=\"#000000\"/>\n",
       "</g>\n",
       "<!-- 4861041688 -->\n",
       "<g class=\"node\" id=\"node12\">\n",
       "<title>4861041688</title>\n",
       "<polygon fill=\"none\" points=\"36.1621,-.5 36.1621,-36.5 140.4141,-36.5 140.4141,-.5 36.1621,-.5\" stroke=\"#000000\"/>\n",
       "<text fill=\"#000000\" font-family=\"Times,serif\" font-size=\"14.00\" text-anchor=\"middle\" x=\"88.2881\" y=\"-14.3\">dense_3: Dense</text>\n",
       "</g>\n",
       "<!-- 4861041128&#45;&gt;4861041688 -->\n",
       "<g class=\"edge\" id=\"edge11\">\n",
       "<title>4861041128-&gt;4861041688</title>\n",
       "<path d=\"M88.2881,-73.4551C88.2881,-65.3828 88.2881,-55.6764 88.2881,-46.6817\" fill=\"none\" stroke=\"#000000\"/>\n",
       "<polygon fill=\"#000000\" points=\"91.7882,-46.5903 88.2881,-36.5904 84.7882,-46.5904 91.7882,-46.5903\" stroke=\"#000000\"/>\n",
       "</g>\n",
       "</g>\n",
       "</svg>"
      ],
      "text/plain": [
       "<IPython.core.display.SVG object>"
      ]
     },
     "execution_count": 2,
     "metadata": {},
     "output_type": "execute_result"
    }
   ],
   "source": [
    "from keras.layers import Input, merge, Dropout, Flatten, LeakyReLU\n",
    "from keras.models import Model\n",
    "\n",
    "D = Sequential(name='D')\n",
    "D.add(Conv2D(filters=256, kernel_size=5, strides=2, padding='same', activation='relu', input_shape=[28, 28, 1]))\n",
    "D.add(LeakyReLU(0.2))\n",
    "D.add(Dropout(0.25))\n",
    "D.add(Conv2D(filters=512, kernel_size=5, strides=2, padding='same', activation='relu'))\n",
    "D.add(LeakyReLU(0.2))\n",
    "D.add(Dropout(0.25))\n",
    "D.add(Flatten())\n",
    "D.add(Dense(units=256, activation='relu'))\n",
    "D.add(LeakyReLU(0.2))\n",
    "D.add(Dropout(0.25))\n",
    "D.add(Dense(units=2, activation='softmax'))\n",
    "D.compile(loss='categorical_crossentropy', optimizer='adam', metrics=['accuracy'])\n",
    "\n",
    "D.summary()\n",
    "SVG(model_to_dot(D).create(prog='dot', format='svg'))"
   ]
  },
  {
   "cell_type": "markdown",
   "metadata": {
    "deletable": true,
    "editable": true,
    "nbgrader": {
     "grade": false,
     "grade_id": "sample_g-ro",
     "locked": true,
     "schema_version": 1,
     "solution": false
    }
   },
   "source": [
    "# Sample From $\\mathcal{G}$\n",
    "\n",
    "Even though $\\mathcal{G}$ is not very good at generating realistic images, we can sample from it to get an idea of the kinds of images it is generating right now. Let's do that now."
   ]
  },
  {
   "cell_type": "code",
   "execution_count": 3,
   "metadata": {
    "collapsed": false,
    "deletable": true,
    "editable": true,
    "nbgrader": {
     "grade": false,
     "grade_id": "sample_g-aa",
     "locked": false,
     "schema_version": 1,
     "solution": true
    }
   },
   "outputs": [
    {
     "data": {
      "image/png": "[encoded data removed]",
      "text/plain": [
       "<PIL.Image.Image image mode=L size=64x64 at 0x121F1F208>"
      ]
     },
     "metadata": {},
     "output_type": "display_data"
    },
    {
     "data": {
      "image/png": "[encoded data removed]",
      "text/plain": [
       "<PIL.Image.Image image mode=L size=64x64 at 0x10D9B5F98>"
      ]
     },
     "metadata": {},
     "output_type": "display_data"
    },
    {
     "data": {
      "image/png": "[encoded data removed]",
      "text/plain": [
       "<PIL.Image.Image image mode=L size=64x64 at 0x121F412E8>"
      ]
     },
     "metadata": {},
     "output_type": "display_data"
    },
    {
     "data": {
      "image/png": "[encoded data removed]",
      "text/plain": [
       "<PIL.Image.Image image mode=L size=64x64 at 0x12308FAC8>"
      ]
     },
     "metadata": {},
     "output_type": "display_data"
    },
    {
     "data": {
      "image/png": "[encoded data removed]",
      "text/plain": [
       "<PIL.Image.Image image mode=L size=64x64 at 0x1235B2128>"
      ]
     },
     "metadata": {},
     "output_type": "display_data"
    }
   ],
   "source": [
    "from IPython.display import display\n",
    "import numpy as np\n",
    "from keras.preprocessing.image import array_to_img\n",
    "\n",
    "nb_sample = 5\n",
    "\n",
    "z = np.random.uniform(size=[nb_sample, 100])\n",
    "X_fake = G.predict(z)\n",
    "imgs = [array_to_img(x) for x in X_fake]\n",
    "imgs = [img.resize(size=[64, 64]) for img in imgs]\n",
    "\n",
    "for img in imgs:\n",
    "    display(img)"
   ]
  },
  {
   "cell_type": "markdown",
   "metadata": {
    "deletable": true,
    "editable": true,
    "nbgrader": {
     "grade": false,
     "grade_id": "mnist-ro",
     "locked": true,
     "schema_version": 1,
     "solution": false
    }
   },
   "source": [
    "# Load MNIST Data\n",
    "\n",
    "For this lab, we will be using the MNIST dataset to train our GAN to produce realistic images of handwritten digits. So the first thing we need to do is load the data!"
   ]
  },
  {
   "cell_type": "code",
   "execution_count": 4,
   "metadata": {
    "collapsed": false,
    "deletable": true,
    "editable": true,
    "nbgrader": {
     "grade": false,
     "grade_id": "mnist-code",
     "locked": true,
     "schema_version": 1,
     "solution": false
    }
   },
   "outputs": [
    {
     "data": {
      "image/png": "[encoded data removed]",
      "text/plain": [
       "<PIL.Image.Image image mode=L size=64x64 at 0x121A48550>"
      ]
     },
     "metadata": {},
     "output_type": "display_data"
    },
    {
     "data": {
      "image/png": "[encoded data removed]",
      "text/plain": [
       "<PIL.Image.Image image mode=L size=64x64 at 0x1235F6EB8>"
      ]
     },
     "metadata": {},
     "output_type": "display_data"
    },
    {
     "data": {
      "image/png": "[encoded data removed]",
      "text/plain": [
       "<PIL.Image.Image image mode=L size=64x64 at 0x1235F6E80>"
      ]
     },
     "metadata": {},
     "output_type": "display_data"
    },
    {
     "data": {
      "image/png": "[encoded data removed]",
      "text/plain": [
       "<PIL.Image.Image image mode=L size=64x64 at 0x1235F6DA0>"
      ]
     },
     "metadata": {},
     "output_type": "display_data"
    },
    {
     "data": {
      "image/png": "[encoded data removed]",
      "text/plain": [
       "<PIL.Image.Image image mode=L size=64x64 at 0x1235F6EF0>"
      ]
     },
     "metadata": {},
     "output_type": "display_data"
    }
   ],
   "source": [
    "from IPython.display import display\n",
    "import numpy as np\n",
    "from keras.datasets import mnist\n",
    "from keras.preprocessing.image import array_to_img\n",
    "from keras.utils import np_utils\n",
    "\n",
    "[X_mnist, y_mnist], _ = mnist.load_data()\n",
    "X_mnist = X_mnist.astype('float32') / 255\n",
    "X_mnist = np.expand_dims(X_mnist, axis=-1)\n",
    "\n",
    "nb_mnist = len(X_mnist)\n",
    "for idx in np.random.choice(nb_mnist, size=5, replace=False):\n",
    "    x = X_mnist[idx]\n",
    "    img = array_to_img(x).resize(size=[64, 64])\n",
    "    display(img)"
   ]
  },
  {
   "cell_type": "markdown",
   "metadata": {
    "deletable": true,
    "editable": true,
    "nbgrader": {
     "grade": false,
     "grade_id": "pretrain_d1-ro",
     "locked": true,
     "schema_version": 1,
     "solution": false
    }
   },
   "source": [
    "# Pretrain $\\mathcal{D}$\n",
    "\n",
    "One trick for making training GANs easier is to *pretrain* the discriminator $\\mathcal{D}$. The intuition behind this is that $\\mathcal{G}$ will be able to learn to generate realistic images more quickly if $\\mathcal{D}$ already knows the difference between real and fake images."
   ]
  },
  {
   "cell_type": "code",
   "execution_count": 1,
   "metadata": {
    "collapsed": false,
    "deletable": true,
    "editable": true
   },
   "outputs": [
    {
     "name": "stderr",
     "output_type": "stream",
     "text": [
      "Using TensorFlow backend.\n"
     ]
    },
    {
     "ename": "NameError",
     "evalue": "name 'np' is not defined",
     "output_type": "error",
     "traceback": [
      "\u001b[0;31m---------------------------------------------------------------------------\u001b[0m",
      "\u001b[0;31mNameError\u001b[0m                                 Traceback (most recent call last)",
      "\u001b[0;32m<ipython-input-1-63d6a36feae9>\u001b[0m in \u001b[0;36m<module>\u001b[0;34m()\u001b[0m\n\u001b[1;32m      3\u001b[0m \u001b[0mnb_sample\u001b[0m \u001b[0;34m=\u001b[0m \u001b[0;36m1000\u001b[0m\u001b[0;34m\u001b[0m\u001b[0m\n\u001b[1;32m      4\u001b[0m \u001b[0;34m\u001b[0m\u001b[0m\n\u001b[0;32m----> 5\u001b[0;31m \u001b[0mz\u001b[0m \u001b[0;34m=\u001b[0m \u001b[0mnp\u001b[0m\u001b[0;34m.\u001b[0m\u001b[0mrandom\u001b[0m\u001b[0;34m.\u001b[0m\u001b[0muniform\u001b[0m\u001b[0;34m(\u001b[0m\u001b[0msize\u001b[0m\u001b[0;34m=\u001b[0m\u001b[0;34m[\u001b[0m\u001b[0mnb_sample\u001b[0m\u001b[0;34m,\u001b[0m \u001b[0;36m100\u001b[0m\u001b[0;34m]\u001b[0m\u001b[0;34m)\u001b[0m\u001b[0;34m\u001b[0m\u001b[0m\n\u001b[0m\u001b[1;32m      6\u001b[0m \u001b[0mX_fake\u001b[0m \u001b[0;34m=\u001b[0m \u001b[0mG\u001b[0m\u001b[0;34m.\u001b[0m\u001b[0mpredict\u001b[0m\u001b[0;34m(\u001b[0m\u001b[0mz\u001b[0m\u001b[0;34m)\u001b[0m\u001b[0;34m\u001b[0m\u001b[0m\n\u001b[1;32m      7\u001b[0m \u001b[0;34m\u001b[0m\u001b[0m\n",
      "\u001b[0;31mNameError\u001b[0m: name 'np' is not defined"
     ]
    }
   ],
   "source": [
    "from keras.utils.np_utils import to_categorical\n",
    "\n",
    "nb_sample = 1000\n",
    "\n",
    "z = np.random.uniform(size=[nb_sample, 100])\n",
    "X_fake = G.predict(z)\n",
    "\n",
    "y_real, y_fake = np.ones(nb_sample), np.zeros(nb_sample)\n",
    "X, y = np.concatenate([X_mnist[:nb_sample], X_fake]), np.concatenate([y_real, y_fake])\n",
    "y[nb_sample:] = 0\n",
    "Y = to_categorical(y)\n",
    "Y[np.arange(nb_sample, dtype=np.int), np.ones(nb_sample, dtype=np.int)] = 0.9 # label-smoothing\n",
    "\n",
    "D.fit(X, Y, epochs=1)"
   ]
  },
  {
   "cell_type": "markdown",
   "metadata": {
    "deletable": true,
    "editable": true
   },
   "source": [
    "# Generative Adversarial Network\n",
    "\n",
    "Now that we have a generator and a discriminator, let's string them together to make a *generative adversarial network*. Recall that a generative adversarial network $\\mathcal{A} = D \\circ G$ can be visualized by the computational graph\n",
    "\n",
    "<img src=\"images/Fancy GAN.svg\" alt=\"GAN\" style=\"width: 300px;\"/>\n",
    "\n",
    "and consists of a generator $\\mathcal{G}$ whose goal is to produce synthetic images $\\widetilde{\\mathbf{X}} \\in \\mathbb{R}^{\\times \\text{W} \\times \\text{H} \\times \\text{C}}$, which are realistic enough to fool $\\mathcal{D}$ into predicting a value of $p \\in \\mathbb{R}$ close to 1.0."
   ]
  },
  {
   "cell_type": "code",
   "execution_count": 5,
   "metadata": {
    "collapsed": false,
    "deletable": true,
    "editable": true
   },
   "outputs": [
    {
     "name": "stdout",
     "output_type": "stream",
     "text": [
      "_________________________________________________________________\n",
      "Layer (type)                 Output Shape              Param #   \n",
      "=================================================================\n",
      "input_1 (InputLayer)         (None, 100)               0         \n",
      "_________________________________________________________________\n",
      "G (Sequential)               (None, 28, 28, 1)         4341801   \n",
      "_________________________________________________________________\n",
      "D (Sequential)               (None, 2)                 9707266   \n",
      "=================================================================\n",
      "Total params: 14,049,067\n",
      "Trainable params: 13,970,367\n",
      "Non-trainable params: 78,700\n",
      "_________________________________________________________________\n"
     ]
    },
    {
     "data": {
      "image/svg+xml": [
       "<svg height=\"191pt\" viewBox=\"0.00 0.00 136.36 191.00\" width=\"136pt\" xmlns=\"http://www.w3.org/2000/svg\" xmlns:xlink=\"http://www.w3.org/1999/xlink\">\n",
       "<g class=\"graph\" id=\"graph0\" transform=\"scale(1 1) rotate(0) translate(4 187)\">\n",
       "<title>G</title>\n",
       "<polygon fill=\"#ffffff\" points=\"-4,4 -4,-187 132.3623,-187 132.3623,4 -4,4\" stroke=\"transparent\"/>\n",
       "<!-- 4888481632 -->\n",
       "<g class=\"node\" id=\"node1\">\n",
       "<title>4888481632</title>\n",
       "<polygon fill=\"none\" points=\"0,-146.5 0,-182.5 128.3623,-182.5 128.3623,-146.5 0,-146.5\" stroke=\"#000000\"/>\n",
       "<text fill=\"#000000\" font-family=\"Times,serif\" font-size=\"14.00\" text-anchor=\"middle\" x=\"64.1812\" y=\"-160.3\">input_1: InputLayer</text>\n",
       "</g>\n",
       "<!-- 4523211800 -->\n",
       "<g class=\"node\" id=\"node2\">\n",
       "<title>4523211800</title>\n",
       "<polygon fill=\"none\" points=\"17.8828,-73.5 17.8828,-109.5 110.4795,-109.5 110.4795,-73.5 17.8828,-73.5\" stroke=\"#000000\"/>\n",
       "<text fill=\"#000000\" font-family=\"Times,serif\" font-size=\"14.00\" text-anchor=\"middle\" x=\"64.1812\" y=\"-87.3\">G: Sequential</text>\n",
       "</g>\n",
       "<!-- 4888481632&#45;&gt;4523211800 -->\n",
       "<g class=\"edge\" id=\"edge1\">\n",
       "<title>4888481632-&gt;4523211800</title>\n",
       "<path d=\"M64.1812,-146.4551C64.1812,-138.3828 64.1812,-128.6764 64.1812,-119.6817\" fill=\"none\" stroke=\"#000000\"/>\n",
       "<polygon fill=\"#000000\" points=\"67.6813,-119.5903 64.1812,-109.5904 60.6813,-119.5904 67.6813,-119.5903\" stroke=\"#000000\"/>\n",
       "</g>\n",
       "<!-- 4860186920 -->\n",
       "<g class=\"node\" id=\"node3\">\n",
       "<title>4860186920</title>\n",
       "<polygon fill=\"none\" points=\"17.8828,-.5 17.8828,-36.5 110.4795,-36.5 110.4795,-.5 17.8828,-.5\" stroke=\"#000000\"/>\n",
       "<text fill=\"#000000\" font-family=\"Times,serif\" font-size=\"14.00\" text-anchor=\"middle\" x=\"64.1812\" y=\"-14.3\">D: Sequential</text>\n",
       "</g>\n",
       "<!-- 4523211800&#45;&gt;4860186920 -->\n",
       "<g class=\"edge\" id=\"edge2\">\n",
       "<title>4523211800-&gt;4860186920</title>\n",
       "<path d=\"M64.1812,-73.4551C64.1812,-65.3828 64.1812,-55.6764 64.1812,-46.6817\" fill=\"none\" stroke=\"#000000\"/>\n",
       "<polygon fill=\"#000000\" points=\"67.6813,-46.5903 64.1812,-36.5904 60.6813,-46.5904 67.6813,-46.5903\" stroke=\"#000000\"/>\n",
       "</g>\n",
       "</g>\n",
       "</svg>"
      ],
      "text/plain": [
       "<IPython.core.display.SVG object>"
      ]
     },
     "execution_count": 5,
     "metadata": {},
     "output_type": "execute_result"
    }
   ],
   "source": [
    "from keras.layers import Input\n",
    "from keras.models import Model\n",
    "\n",
    "z = Input(shape=[100])\n",
    "X_fake = G(z)\n",
    "p = D(X_fake)\n",
    "\n",
    "GAN = Model(inputs=z, outputs=p, name='GAN')\n",
    "GAN.compile(loss='categorical_crossentropy', optimizer='adam', metrics=['accuracy'])\n",
    "\n",
    "GAN.summary()\n",
    "SVG(model_to_dot(GAN).create(prog='dot', format='svg'))"
   ]
  },
  {
   "cell_type": "markdown",
   "metadata": {
    "deletable": true,
    "editable": true
   },
   "source": [
    "# Train $\\mathcal{A}$\n",
    "\n",
    "We now have all of the pieces in place to optimize $\\mathcal{A}$! The core algorithm of training a GAN can be visualized as\n",
    "\n",
    "<img src=\"images/GAN Loop.svg\" alt=\"Drawing\" style=\"width: 600px;\"/>\n",
    "\n",
    "where **;** implies concatenation. If you feel ready to implement this algorithm, then skip down to the last code cell and start coding! Otherwise, there is a detailed description at the bottom of this notebook to assist your understanding and the following code cells will allow you to build up to the full solution.\n",
    "\n",
    "# Detailed Description of Training Algorithm\n",
    "\n",
    "The training algorithm pictured above can be more understood in more detail as\n",
    "\n",
    "1. Sample a random $\\mathbf{z}$ minibatch and predict $\\widetilde{\\mathbf{X}} = \\mathcal{G}(\\mathbf{z})$\n",
    "2. Sample a $\\mathbf{X}$ minibatch\n",
    "3. Compute $\\nabla_{\\theta_\\mathcal{D}}$ on $([\\widetilde{\\mathbf{X}} ; \\mathbf{X}], [\\mathbf{0} ; \\mathbf{1}])$ and use it to step $\\theta_\\mathcal{D}$\n",
    "4. Freeze $\\theta_\\mathcal{D}$\n",
    "5. Compute $\\nabla_{\\theta_\\mathcal{G}}$ on $(\\widetilde{\\mathbf{X}}, \\mathbf{1})$ and step $\\theta_\\mathcal{G}$\n",
    "6. Unfreeze $\\theta_\\mathcal{D}$\n",
    "7. Go to step 1\n",
    "\n",
    "In steps 1 and 2, we are simply generating a batch of fake and real images $\\widetilde{\\mathbf{X}}$ and $\\mathbf{X}$. \n",
    "\n",
    "In step 3, we are making an update to $\\theta_\\mathcal{D}$ (e.g. with SGD) so that $\\mathcal{D}$ does a little better at telling $\\widetilde{\\mathbf{X}}$ from $\\mathbf{X}$. To accomplish this, we simply pass in the labeled pair $([\\widetilde{\\mathbf{X}} ; \\mathbf{X}], [\\mathbf{0} ; \\mathbf{1}])$ and compute $\\nabla_{\\theta_\\mathcal{D}}$ via backpropagation. We are now done updating $\\theta_\\mathcal{D}$ for this round, so we freeze $\\theta_\\mathcal{D}$ in Step 4.\n",
    "\n",
    "Now comes the trickiest part of the entire procedure, which takes some explanation.\n",
    "\n",
    "In Step 5, our goal is to update the $\\mathcal{G}$'s weights so they will make $\\widetilde{\\mathbf{X}}$ a little more realistic. Note that $\\nabla_{\\theta_\\mathcal{G}}$ for the \"true\" labeling $(\\widetilde{\\mathbf{X}}, \\mathbf{0})$ (as seen in step 3 via backpropagation) tells us how to change $\\theta_\\mathcal{G}$ so that $\\widetilde{\\mathbf{X}}$ is a little *less* realistic (i.e. $\\mathcal{A}$'s loss would decrease, thus improving $\\mathcal{A}$'s accuracy). Since we want to do the opposite (i.e. decreasing $\\mathcal{A}$'s accuracy by increasing $\\mathcal{A}$'s loss), we pass in an \"adversarial\" labeling. This will make $\\widetilde{\\mathbf{X}}$ a little *more* realistic as $\\mathcal{A}$'s loss will increase. We compute $\\nabla_{\\theta_\\mathcal{G}}$ via backpropagation with this input pair and step $\\theta_\\mathcal{G}$ (e.g. with SGD).\n",
    "\n",
    "In Step 6, we are done updating $\\theta_\\mathcal{G}$ so we unfreeze $\\theta_\\mathcal{D}$.\n",
    "\n",
    "Finally, we go back to Step 1, thus entering the next round."
   ]
  },
  {
   "cell_type": "code",
   "execution_count": null,
   "metadata": {
    "collapsed": false,
    "deletable": true,
    "editable": true,
    "scrolled": false
   },
   "outputs": [],
   "source": [
    "from IPython import display\n",
    "import pandas as pd\n",
    "import matplotlib.pyplot as plt\n",
    "%matplotlib inline\n",
    "from collections import defaultdict\n",
    "from lib.keras_utils import freeze\n",
    "from keras.utils.np_utils import to_categorical\n",
    "\n",
    "batch_size = 128\n",
    "nb_epoch = 250\n",
    "plot_every = 5\n",
    "y_fake, y_real = np.zeros(batch_size), np.ones(batch_size)\n",
    "\n",
    "L, A = defaultdict(list), defaultdict(list)\n",
    "for i in range(nb_epoch):\n",
    "    batch_idxs, z = np.random.choice(nb_mnist, size=batch_size), np.random.uniform(low=-1, high=1, size=[batch_size, 100])\n",
    "    X_real, X_fake = X_mnist[batch_idxs], G.predict(z)\n",
    "    X, y = np.concatenate([X_fake, X_real]), np.concatenate([y_fake, y_real])\n",
    "    Y = to_categorical(y)\n",
    "    loss, acc = D.train_on_batch(X, Y)\n",
    "    L['D_loss'].append(float(loss)); A['D_acc'].append(float(acc))\n",
    "\n",
    "    z = np.random.uniform(low=-1, high=1, size=[batch_size, 100])\n",
    "    with freeze(GAN, D):\n",
    "        loss, acc = GAN.train_on_batch(z, to_categorical(y_real))\n",
    "    L['G_loss'].append(float(loss)); A['G_acc'].append(float(acc))\n",
    "    \n",
    "    if i == 0 or not i % plot_every == 0:\n",
    "        continue\n",
    "        \n",
    "    display.clear_output(wait=True)\n",
    "    pd.DataFrame(L).plot(title='Batch {}/{}'.format(i, nb_epoch))\n",
    "    axes = pd.DataFrame(A).plot(title='Batch {}/{}'.format(i, nb_epoch))\n",
    "    axes.set_ylim([0, 1])\n",
    "    plt.show()\n",
    "\n",
    "    z = np.random.uniform(low=-1, high=1, size=[8, 100])\n",
    "    X_fake = G.predict(z)\n",
    "    for x in X_fake:\n",
    "        img = array_to_img(x).resize(size=[64, 64])\n",
    "        display.display(img)"
   ]
  }
 ],
 "metadata": {
  "hide_input": false,
  "kernelspec": {
   "display_name": "Python 3",
   "language": "python",
   "name": "python3"
  },
  "language_info": {
   "codemirror_mode": {
    "name": "ipython",
    "version": 3
   },
   "file_extension": ".py",
   "mimetype": "text/x-python",
   "name": "python",
   "nbconvert_exporter": "python",
   "pygments_lexer": "ipython3",
   "version": "3.6.1"
  }
 },
 "nbformat": 4,
 "nbformat_minor": 2
}
