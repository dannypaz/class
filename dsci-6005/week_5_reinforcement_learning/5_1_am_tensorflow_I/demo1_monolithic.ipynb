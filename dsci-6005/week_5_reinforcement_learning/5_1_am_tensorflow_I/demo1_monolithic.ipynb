{
 "cells": [
  {
   "cell_type": "markdown",
   "metadata": {
    "deletable": true,
    "editable": true
   },
   "source": [
    "# Linear Regression Inputs\n",
    "\n",
    "The following code defines three tensors (or nodes) to a linear regression model. Since they are of type `tf.placeholder` they need to be given a value in order to run a forward pass. From the TensorFlow [getting started](https://www.tensorflow.org/get_started/get_started) page\n",
    "\n",
    "> A graph can be parameterized to accept external inputs, known as placeholders. A placeholder is a promise to provide a value later."
   ]
  },
  {
   "cell_type": "code",
   "execution_count": 1,
   "metadata": {
    "collapsed": false,
    "deletable": true,
    "editable": true
   },
   "outputs": [
    {
     "data": {
      "text/plain": [
       "(<tf.Tensor 'x:0' shape=<unknown> dtype=float32>,\n",
       " <tf.Tensor 'w:0' shape=<unknown> dtype=float32>,\n",
       " <tf.Tensor 'b:0' shape=<unknown> dtype=float32>)"
      ]
     },
     "execution_count": 1,
     "metadata": {},
     "output_type": "execute_result"
    }
   ],
   "source": [
    "import tensorflow as tf\n",
    "\n",
    "x = tf.placeholder(dtype=tf.float32, name='x')\n",
    "w = tf.placeholder(dtype=tf.float32, name='w')\n",
    "b = tf.placeholder(dtype=tf.float32, name='b')\n",
    "\n",
    "x, w, b"
   ]
  },
  {
   "cell_type": "markdown",
   "metadata": {
    "deletable": true,
    "editable": true
   },
   "source": [
    "# Dump Graph\n",
    "\n",
    "We create a TensorFlow [*session*](https://www.tensorflow.org/get_started/get_started) which encapsulates the control and state of the TensorFlow runtime followed by a `tf.summary.FileWriter` so we can visualize the computational graph in TensorBoard."
   ]
  },
  {
   "cell_type": "code",
   "execution_count": 2,
   "metadata": {
    "collapsed": false,
    "deletable": true,
    "editable": true
   },
   "outputs": [
    {
     "data": {
      "text/plain": [
       "(<tensorflow.python.client.session.InteractiveSession at 0x10acf5b70>,\n",
       " <tensorflow.python.summary.writer.writer.FileWriter at 0x10acf5b38>)"
      ]
     },
     "execution_count": 2,
     "metadata": {},
     "output_type": "execute_result"
    }
   ],
   "source": [
    "sess = tf.InteractiveSession()\n",
    "writer = tf.summary.FileWriter('tensorboard/LR Inputs', sess.graph)\n",
    "writer.flush()\n",
    "\n",
    "sess, writer"
   ]
  },
  {
   "cell_type": "markdown",
   "metadata": {
    "deletable": true,
    "editable": true
   },
   "source": [
    "# Make Prediction\n",
    "\n",
    "We combine our weight tensors `w` and `b` along with the input tensor `x` with tensorflow *operations* or *ops* to produce new tensors which represent the prediction of the linear regression model."
   ]
  },
  {
   "cell_type": "code",
   "execution_count": 3,
   "metadata": {
    "collapsed": false,
    "deletable": true,
    "editable": true
   },
   "outputs": [
    {
     "data": {
      "text/plain": [
       "(<tf.Tensor 'z:0' shape=<unknown> dtype=float32>,\n",
       " <tf.Tensor 'y_pred:0' shape=<unknown> dtype=float32>)"
      ]
     },
     "execution_count": 3,
     "metadata": {},
     "output_type": "execute_result"
    }
   ],
   "source": [
    "z = tf.multiply(x, w, name='z')\n",
    "y_pred = tf.add(z, b, name='y_pred')\n",
    "\n",
    "z, y_pred"
   ]
  },
  {
   "cell_type": "markdown",
   "metadata": {
    "deletable": true,
    "editable": true
   },
   "source": [
    "# Dump Graph\n",
    "\n",
    "We create a new `tf.summary.FileWriter` with a different log destination so as to not overwrite the previous TensorBoard visualization."
   ]
  },
  {
   "cell_type": "code",
   "execution_count": 4,
   "metadata": {
    "collapsed": false,
    "deletable": true,
    "editable": true
   },
   "outputs": [],
   "source": [
    "writer = tf.summary.FileWriter('tensorboard/LR Forward', sess.graph)\n",
    "writer.flush()"
   ]
  },
  {
   "cell_type": "markdown",
   "metadata": {
    "deletable": true,
    "editable": true
   },
   "source": [
    "# Add Squared Loss\n",
    "\n",
    "We define the last input `y` which is compared against $\\hat{y}$ with a squared loss producing a final `loss` tensor."
   ]
  },
  {
   "cell_type": "code",
   "execution_count": 5,
   "metadata": {
    "collapsed": false,
    "deletable": true,
    "editable": true
   },
   "outputs": [
    {
     "data": {
      "text/plain": [
       "(<tf.Tensor 'y:0' shape=<unknown> dtype=float32>,\n",
       " <tf.Tensor 'r:0' shape=<unknown> dtype=float32>,\n",
       " <tf.Tensor 'loss:0' shape=<unknown> dtype=float32>)"
      ]
     },
     "execution_count": 5,
     "metadata": {},
     "output_type": "execute_result"
    }
   ],
   "source": [
    "y = tf.placeholder(dtype=tf.float32, name='y')\n",
    "\n",
    "r = tf.subtract(y_pred, y, name='r')\n",
    "loss = tf.square(r, name='loss')\n",
    "\n",
    "y, r, loss"
   ]
  },
  {
   "cell_type": "markdown",
   "metadata": {
    "deletable": true,
    "editable": true
   },
   "source": [
    "# Dump Graph"
   ]
  },
  {
   "cell_type": "code",
   "execution_count": 6,
   "metadata": {
    "collapsed": true,
    "deletable": true,
    "editable": true
   },
   "outputs": [],
   "source": [
    "writer = tf.summary.FileWriter('tensorboard/LR + SquaredLoss', sess.graph)\n",
    "writer.flush()"
   ]
  },
  {
   "cell_type": "markdown",
   "metadata": {
    "deletable": true,
    "editable": true
   },
   "source": [
    "# Get Gradients\n",
    "\n",
    "TensorFlow provides machinery for computing derivatives. We can ask for the derivative of any tensor with respect to any other tensor in the computational graph, assuming the derivative can be computed."
   ]
  },
  {
   "cell_type": "code",
   "execution_count": 7,
   "metadata": {
    "collapsed": false,
    "deletable": true,
    "editable": true
   },
   "outputs": [
    {
     "data": {
      "text/plain": [
       "(<tf.Tensor 'dw/z_grad/Reshape_1:0' shape=<unknown> dtype=float32>,\n",
       " <tf.Tensor 'db/y_pred_grad/Reshape_1:0' shape=<unknown> dtype=float32>)"
      ]
     },
     "execution_count": 7,
     "metadata": {},
     "output_type": "execute_result"
    }
   ],
   "source": [
    "dw = tf.gradients(loss, w, name='dw')[0]\n",
    "db = tf.gradients(loss, b, name='db')[0]\n",
    "\n",
    "dw, db"
   ]
  },
  {
   "cell_type": "markdown",
   "metadata": {
    "deletable": true,
    "editable": true
   },
   "source": [
    "# Dump Graph"
   ]
  },
  {
   "cell_type": "code",
   "execution_count": 8,
   "metadata": {
    "collapsed": true,
    "deletable": true,
    "editable": true
   },
   "outputs": [],
   "source": [
    "writer = tf.summary.FileWriter('tensorboard/LR + SquaredLoss + Gradients', sess.graph)\n",
    "writer.flush()"
   ]
  },
  {
   "cell_type": "markdown",
   "metadata": {
    "deletable": true,
    "editable": true
   },
   "source": [
    "# Forward Pass\n",
    "\n",
    "Let's run a forward pass on our computational graph. To do this, we need to use the `sess.run()` function and pass it values for the input tensors (via the `feed_dict` argument) and which tensor(s) to return the value of (via the `fetches` argument)."
   ]
  },
  {
   "cell_type": "code",
   "execution_count": 9,
   "metadata": {
    "collapsed": false,
    "deletable": true,
    "editable": true
   },
   "outputs": [
    {
     "data": {
      "text/plain": [
       "[1.0]"
      ]
     },
     "execution_count": 9,
     "metadata": {},
     "output_type": "execute_result"
    }
   ],
   "source": [
    "x_ = y_ = w_ = b_ = 1\n",
    "\n",
    "sess.run(fetches=[loss], feed_dict={x: x_, w: w_, b: b_, y: y_})"
   ]
  },
  {
   "cell_type": "markdown",
   "metadata": {
    "deletable": true,
    "editable": true
   },
   "source": [
    "# Evaluating Part of our Computational Graph\n",
    "\n",
    "Notice that whichever tensor we are interested in the value of, we only have to supply the values necessary to evaluate that tensor. For example, if we are interested in the value of `z`, we only need to supply the values of `x`, `w`, and `b` (not `y`!)."
   ]
  },
  {
   "cell_type": "code",
   "execution_count": 10,
   "metadata": {
    "collapsed": false,
    "deletable": true,
    "editable": true
   },
   "outputs": [
    {
     "data": {
      "text/plain": [
       "[1.0]"
      ]
     },
     "execution_count": 10,
     "metadata": {},
     "output_type": "execute_result"
    }
   ],
   "source": [
    "sess.run(fetches=[z], feed_dict={x: x_, w: w_, b: b_})"
   ]
  },
  {
   "cell_type": "markdown",
   "metadata": {
    "deletable": true,
    "editable": true
   },
   "source": [
    "# Forward-Backward Pass"
   ]
  },
  {
   "cell_type": "code",
   "execution_count": 11,
   "metadata": {
    "collapsed": false,
    "deletable": true,
    "editable": true
   },
   "outputs": [
    {
     "data": {
      "text/plain": [
       "[1.0, 2.0, 2.0]"
      ]
     },
     "execution_count": 11,
     "metadata": {},
     "output_type": "execute_result"
    }
   ],
   "source": [
    "sess.run(fetches=[loss, dw, db], feed_dict={x: x_, w: w_, b: b_, y: y_})"
   ]
  },
  {
   "cell_type": "markdown",
   "metadata": {
    "deletable": true,
    "editable": true
   },
   "source": [
    "# SGD Step\n",
    "\n",
    "Once TensorFlow computes `dw` and `db` for us we can use them to step `w_` and `b_` to a location on the error surface with a smaller loss."
   ]
  },
  {
   "cell_type": "code",
   "execution_count": 34,
   "metadata": {
    "collapsed": false,
    "deletable": true,
    "editable": true
   },
   "outputs": [
    {
     "data": {
      "text/plain": [
       "{'b': 0.69552773714065541, 'loss': 0.16593359, 'w': 0.69552773714065541}"
      ]
     },
     "execution_count": 34,
     "metadata": {},
     "output_type": "execute_result"
    }
   ],
   "source": [
    "lr = 0.01\n",
    "\n",
    "l, dw_, db_ = sess.run(fetches=[loss, dw, db], feed_dict={x: x_, w: w_, b: b_, y: y_})\n",
    "w_ = w_ - lr*dw_\n",
    "b_ = b_ - lr*db_\n",
    "\n",
    "{'w': w_, 'b': b_, 'loss': l }"
   ]
  }
 ],
 "metadata": {
  "kernelspec": {
   "display_name": "Python 3",
   "language": "python",
   "name": "python3"
  },
  "language_info": {
   "codemirror_mode": {
    "name": "ipython",
    "version": 3
   },
   "file_extension": ".py",
   "mimetype": "text/x-python",
   "name": "python",
   "nbconvert_exporter": "python",
   "pygments_lexer": "ipython3",
   "version": "3.6.1"
  }
 },
 "nbformat": 4,
 "nbformat_minor": 2
}
