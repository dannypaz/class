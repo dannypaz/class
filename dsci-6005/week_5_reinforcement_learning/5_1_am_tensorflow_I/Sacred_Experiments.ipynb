{
 "cells": [
  {
   "cell_type": "code",
   "execution_count": 2,
   "metadata": {
    "collapsed": false
   },
   "outputs": [
    {
     "name": "stdout",
     "output_type": "stream",
     "text": [
      "Collecting sacred\n",
      "  Downloading sacred-0.6.10-py2.py3-none-any.whl (46kB)\n",
      "\u001b[K    100% |████████████████████████████████| 51kB 92kB/s ta 0:00:011\n",
      "\u001b[?25hRequirement already satisfied: six in /Users/jonathanhilgart/anaconda/lib/python3.5/site-packages (from sacred)\n",
      "Collecting docopt (from sacred)\n",
      "  Downloading docopt-0.6.2.tar.gz\n",
      "Requirement already satisfied: wrapt in /Users/jonathanhilgart/anaconda/lib/python3.5/site-packages (from sacred)\n",
      "Building wheels for collected packages: docopt\n",
      "  Running setup.py bdist_wheel for docopt ... \u001b[?25l-\b \b\\\b \bdone\n",
      "\u001b[?25h  Stored in directory: /Users/jonathanhilgart/Library/Caches/pip/wheels/b2/16/5f/c33a2bb5f2dce71205f8e65cbfd05647d79d441282be31fd82\n",
      "Successfully built docopt\n",
      "Installing collected packages: docopt, sacred\n",
      "Successfully installed docopt-0.6.2 sacred-0.6.10\n"
     ]
    }
   ],
   "source": [
    "!pip install sacred"
   ]
  },
  {
   "cell_type": "code",
   "execution_count": 4,
   "metadata": {
    "collapsed": false
   },
   "outputs": [],
   "source": [
    "from sacred import Experiment\n",
    "\n",
    "ex = Experiment('hello_config',interactive=True)\n",
    "\n",
    "@ex.config\n",
    "def my_config():\n",
    "    recipient = \"world\"\n",
    "    message = \"Hello %s!\" % recipient\n",
    "\n",
    "@ex.main\n",
    "def my_main(message):\n",
    "    print(message)"
   ]
  },
  {
   "cell_type": "code",
   "execution_count": null,
   "metadata": {
    "collapsed": true
   },
   "outputs": [],
   "source": []
  }
 ],
 "metadata": {
  "kernelspec": {
   "display_name": "Python [conda env:dl]",
   "language": "python",
   "name": "conda-env-dl-py"
  },
  "language_info": {
   "codemirror_mode": {
    "name": "ipython",
    "version": 3
   },
   "file_extension": ".py",
   "mimetype": "text/x-python",
   "name": "python",
   "nbconvert_exporter": "python",
   "pygments_lexer": "ipython3",
   "version": "3.6.0"
  }
 },
 "nbformat": 4,
 "nbformat_minor": 2
}
