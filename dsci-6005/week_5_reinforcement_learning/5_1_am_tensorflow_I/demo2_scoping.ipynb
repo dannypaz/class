{
 "cells": [
  {
   "cell_type": "markdown",
   "metadata": {
    "deletable": true,
    "editable": true
   },
   "source": [
    "# Add Dense Layer\n",
    "\n",
    "To declutter our TensorBoard graph visualizations we can use TensorBoard *scoping* which allows us to visually group together related nodes of our choosing. As a demonstration, we will group together nodes which are conceptually part of the same *layer*. The term layer here corresponds to a keras layer."
   ]
  },
  {
   "cell_type": "code",
   "execution_count": 5,
   "metadata": {
    "collapsed": false,
    "deletable": true,
    "editable": true
   },
   "outputs": [
    {
     "data": {
      "text/plain": [
       "(<tf.Tensor 'x_1:0' shape=<unknown> dtype=float32>,\n",
       " <tf.Tensor 'w_1:0' shape=<unknown> dtype=float32>,\n",
       " <tf.Tensor 'b_1:0' shape=<unknown> dtype=float32>,\n",
       " <tf.Tensor 'y_pred_1:0' shape=<unknown> dtype=float32>)"
      ]
     },
     "execution_count": 5,
     "metadata": {},
     "output_type": "execute_result"
    }
   ],
   "source": [
    "import tensorflow as tf\n",
    "\n",
    "x = tf.placeholder(dtype=tf.float32, name='x')\n",
    "w = tf.placeholder(dtype=tf.float32, name='w')\n",
    "b = tf.placeholder(dtype=tf.float32, name='b')\n",
    "\n",
    "with tf.name_scope('Dense'):\n",
    "    z = tf.multiply(x, w, name='z')\n",
    "y_pred = tf.add(z, b, name='y_pred')\n",
    "\n",
    "x, w, b, y_pred"
   ]
  },
  {
   "cell_type": "markdown",
   "metadata": {
    "deletable": true,
    "editable": true
   },
   "source": [
    "# Add Squared Loss"
   ]
  },
  {
   "cell_type": "code",
   "execution_count": 6,
   "metadata": {
    "collapsed": false,
    "deletable": true,
    "editable": true
   },
   "outputs": [
    {
     "data": {
      "text/plain": [
       "(<tf.Tensor 'y_1:0' shape=<unknown> dtype=float32>,\n",
       " <tf.Tensor 'loss_1:0' shape=<unknown> dtype=float32>)"
      ]
     },
     "execution_count": 6,
     "metadata": {},
     "output_type": "execute_result"
    }
   ],
   "source": [
    "y = tf.placeholder(dtype=tf.float32, name='y')\n",
    "\n",
    "with tf.name_scope('SquaredLoss'):\n",
    "    r = tf.subtract(y_pred, y, name='r')\n",
    "\n",
    "loss = tf.square(r, name='loss')\n",
    "\n",
    "y, loss"
   ]
  },
  {
   "cell_type": "markdown",
   "metadata": {
    "deletable": true,
    "editable": true
   },
   "source": [
    "# Get Gradients"
   ]
  },
  {
   "cell_type": "code",
   "execution_count": 7,
   "metadata": {
    "collapsed": true,
    "deletable": true,
    "editable": true
   },
   "outputs": [],
   "source": [
    "with tf.name_scope('Gradients'):\n",
    "    dw = tf.gradients(loss, w, name='dw')[0]\n",
    "    db = tf.gradients(loss, b, name='db')[0]"
   ]
  },
  {
   "cell_type": "markdown",
   "metadata": {
    "deletable": true,
    "editable": true
   },
   "source": [
    "# Dump Graph"
   ]
  },
  {
   "cell_type": "code",
   "execution_count": 8,
   "metadata": {
    "collapsed": true,
    "deletable": true,
    "editable": true
   },
   "outputs": [],
   "source": [
    "sess = tf.InteractiveSession()\n",
    "writer = tf.summary.FileWriter('tensorboard/Scoped LR', sess.graph)\n",
    "writer.flush()"
   ]
  }
 ],
 "metadata": {
  "kernelspec": {
   "display_name": "Python 3",
   "language": "python",
   "name": "python3"
  },
  "language_info": {
   "codemirror_mode": {
    "name": "ipython",
    "version": 3
   },
   "file_extension": ".py",
   "mimetype": "text/x-python",
   "name": "python",
   "nbconvert_exporter": "python",
   "pygments_lexer": "ipython3",
   "version": "3.6.1"
  }
 },
 "nbformat": 4,
 "nbformat_minor": 2
}
