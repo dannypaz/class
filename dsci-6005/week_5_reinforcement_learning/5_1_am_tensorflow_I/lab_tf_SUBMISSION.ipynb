{
 "cells": [
  {
   "cell_type": "markdown",
   "metadata": {
    "deletable": true,
    "editable": true
   },
   "source": [
    "# TensorFlow SGD Lab\n",
    "\n",
    "Welcome to the TensorFlow SGD Lab! By the end of this lab you will have\n",
    "\n",
    "- Defined and optimized a TensorFlow computational graph to perform classification\n",
    "- Used TensorBoard summary operations to visualize performance during training\n",
    "- Used TensorBoard to visualize your computational graph\n",
    "\n",
    "Let's get started!\n",
    "\n",
    "---\n",
    "\n",
    "# Load Data\n",
    "\n",
    "The following code loads the [Boston housing price regression dataset](http://neupy.com/2015/07/04/boston_house_prices_dataset.html) via [keras](https://keras.io/datasets/) and discretizes the output space into four classes."
   ]
  },
  {
   "cell_type": "code",
   "execution_count": 1,
   "metadata": {
    "collapsed": false,
    "deletable": true,
    "editable": true
   },
   "outputs": [
    {
     "name": "stdout",
     "output_type": "stream",
     "text": [
      "Populating the interactive namespace from numpy and matplotlib\n"
     ]
    }
   ],
   "source": [
    "import tensorflow as tf\n",
    "import matplotlib.pyplot as plt\n",
    "%pylab inline"
   ]
  },
  {
   "cell_type": "code",
   "execution_count": null,
   "metadata": {
    "collapsed": true,
    "deletable": true,
    "editable": true
   },
   "outputs": [],
   "source": []
  },
  {
   "cell_type": "code",
   "execution_count": 2,
   "metadata": {
    "collapsed": false,
    "deletable": true,
    "editable": true
   },
   "outputs": [
    {
     "name": "stderr",
     "output_type": "stream",
     "text": [
      "Using TensorFlow backend.\n"
     ]
    },
    {
     "data": {
      "text/plain": [
       "(400, 13)"
      ]
     },
     "execution_count": 2,
     "metadata": {},
     "output_type": "execute_result"
    }
   ],
   "source": [
    "import numpy as np\n",
    "from keras.datasets import boston_housing\n",
    "\n",
    "nb_train = 400\n",
    "np.random.seed(42)\n",
    "\n",
    "[X_boston, y_boston], _ = boston_housing.load_data()\n",
    "X_boston, y_boston = X_boston[:nb_train], y_boston[:nb_train]\n",
    "sorted_idxs = np.argsort(y_boston)\n",
    "X_boston, y_boston = X_boston[sorted_idxs], y_boston[sorted_idxs]\n",
    "y_boston = np.hstack([np.full(shape=100, fill_value=i) for i in range(4)])\n",
    "idxs = np.arange(nb_train)\n",
    "np.random.shuffle(idxs)\n",
    "X_boston, y_boston = X_boston[idxs], y_boston[idxs]\n",
    "\n",
    "X_boston.shape"
   ]
  },
  {
   "cell_type": "code",
   "execution_count": 3,
   "metadata": {
    "collapsed": false,
    "deletable": true,
    "editable": true
   },
   "outputs": [
    {
     "data": {
      "text/plain": [
       "(400, 1)"
      ]
     },
     "execution_count": 3,
     "metadata": {},
     "output_type": "execute_result"
    }
   ],
   "source": [
    "y_boston = y_boston.reshape(-1,1)\n",
    "y_boston.shape"
   ]
  },
  {
   "cell_type": "code",
   "execution_count": 4,
   "metadata": {
    "collapsed": false,
    "deletable": true,
    "editable": true
   },
   "outputs": [],
   "source": [
    "from keras.utils import np_utils"
   ]
  },
  {
   "cell_type": "code",
   "execution_count": 5,
   "metadata": {
    "collapsed": false,
    "deletable": true,
    "editable": true
   },
   "outputs": [
    {
     "data": {
      "text/plain": [
       "array([[ 0.,  1.,  0.,  0.],\n",
       "       [ 0.,  1.,  0.,  0.],\n",
       "       [ 0.,  1.,  0.,  0.],\n",
       "       ..., \n",
       "       [ 1.,  0.,  0.,  0.],\n",
       "       [ 1.,  0.,  0.,  0.],\n",
       "       [ 1.,  0.,  0.,  0.]])"
      ]
     },
     "execution_count": 5,
     "metadata": {},
     "output_type": "execute_result"
    }
   ],
   "source": [
    "y_boston_one_hot = np_utils.to_categorical(y_boston)\n",
    "y_boston_one_hot"
   ]
  },
  {
   "cell_type": "markdown",
   "metadata": {
    "deletable": true,
    "editable": true
   },
   "source": [
    "## Task\n",
    "\n",
    "- Define and optimize a multiclass logistic regression classifier with TensorFlow\n",
    "\n",
    "## Requirements\n",
    "\n",
    "- Use TensorBoard to visualize your loss over time as well as your computational graph\n",
    "- Perform optimization with stochastic gradient descent\n",
    "\n",
    "## Deliverables\n",
    "\n",
    "- Take a screenshot of your computational graph and loss in TensorBoard\n",
    "- Remark on your optimized model on whether it fits the data well (e.g. underfits or overfits)\n",
    "    - If your final model still does not fit the data well describe what you would try if you had more time and why\n",
    "\n",
    "## Hints\n",
    "\n",
    "- Attach a `tf.summary.scalar()` node to your loss node so TensorBoard can log its values over time"
   ]
  },
  {
   "cell_type": "code",
   "execution_count": 6,
   "metadata": {
    "collapsed": false,
    "deletable": true,
    "editable": true
   },
   "outputs": [],
   "source": [
    " X_ = tf.placeholder(dtype=tf.float64,shape=[None,13])\n"
   ]
  },
  {
   "cell_type": "code",
   "execution_count": 7,
   "metadata": {
    "collapsed": false,
    "deletable": true,
    "editable": true
   },
   "outputs": [],
   "source": [
    "X_ = tf.placeholder(dtype=tf.float32, shape=[None, 13], name='X')\n",
    "y_ = tf.placeholder(dtype=tf.float32, shape=[None, 4], name='y')\n",
    "\n",
    "W = tf.Variable(initial_value=tf.zeros(shape=[13, 4]), name='W')\n",
    "b = tf.Variable(initial_value=tf.zeros(shape=[4]), name='b')\n",
    "z = tf.matmul(X_, W, name='z')\n",
    "c = tf.add(z, b, name='c')\n",
    "log = 1/(1+tf.exp(-c))\n",
    "\n",
    "# r = tf.subtract(y_pred, y, name='r')\n",
    "# losses = tf.square(r, name='losses')    \n",
    "# loss = tf.reduce_mean(losses, name='loss')"
   ]
  },
  {
   "cell_type": "code",
   "execution_count": 8,
   "metadata": {
    "collapsed": false,
    "deletable": true,
    "editable": true
   },
   "outputs": [],
   "source": [
    "# Construct a linear model\n",
    "learning_rate=.01\n",
    "\n",
    "#intermediate y\n",
    "y_p = tf.nn.softmax(log)\n",
    "\n",
    "cross_entropy = tf.reduce_mean(\n",
    "    tf.nn.softmax_cross_entropy_with_logits(labels=y_, logits=log))\n",
    "cross_entropy_summary = tf.summary.scalar(name='loss_summary',tensor=cross_entropy)\n"
   ]
  },
  {
   "cell_type": "code",
   "execution_count": 9,
   "metadata": {
    "collapsed": true,
    "deletable": true,
    "editable": true
   },
   "outputs": [],
   "source": [
    "sess = tf.InteractiveSession()\n",
    "init = tf.global_variables_initializer()\n",
    "sess.run(init)"
   ]
  },
  {
   "cell_type": "code",
   "execution_count": 10,
   "metadata": {
    "collapsed": false,
    "deletable": true,
    "editable": true
   },
   "outputs": [],
   "source": [
    "optimizer = tf.train.GradientDescentOptimizer(learning_rate=0.01, name='Optimizer')\n",
    "\n",
    "sgd_step = optimizer.minimize(cross_entropy, name='SGDStep')"
   ]
  },
  {
   "cell_type": "code",
   "execution_count": 11,
   "metadata": {
    "collapsed": false,
    "deletable": true,
    "editable": true
   },
   "outputs": [],
   "source": [
    "correct_prediction = tf.equal(tf.argmax(y_p,1), tf.argmax(y_,1))\n",
    "accuracy = tf.reduce_mean(tf.cast(correct_prediction, tf.float32))\n",
    "accuracy_summary  = tf.summary.scalar(name='accuracy',tensor=accuracy)"
   ]
  },
  {
   "cell_type": "code",
   "execution_count": 12,
   "metadata": {
    "collapsed": false,
    "deletable": true,
    "editable": true
   },
   "outputs": [],
   "source": [
    "loss = []\n",
    "accuracy_ = []\n",
    "writer = tf.summary.FileWriter(\"tensorboard/MLR with softmax Summary\", sess.graph)\n",
    "for i in range(5000):\n",
    "    c_e_s,c_e,_,acc ,acc_summary= sess.run([cross_entropy_summary, cross_entropy,sgd_step,accuracy ,accuracy_summary], \n",
    "                           feed_dict={X_: X_boston, y_: y_boston_one_hot})\n",
    "    #print(softmax)\n",
    "    loss.append(c_e)\n",
    "#     print(\"Accuracy = {}\".format(acc))\n",
    "    accuracy_.append(acc)\n",
    "    writer.add_summary(c_e_s, global_step=i)\n",
    "    writer.add_summary(acc_summary , global_step=i)\n",
    "\n",
    "writer.flush()"
   ]
  },
  {
   "cell_type": "code",
   "execution_count": 13,
   "metadata": {
    "collapsed": false,
    "deletable": true,
    "editable": true
   },
   "outputs": [
    {
     "data": {
      "text/plain": [
       "[<matplotlib.lines.Line2D at 0x1150d1e10>]"
      ]
     },
     "execution_count": 13,
     "metadata": {},
     "output_type": "execute_result"
    },
    {
     "data": {
      "image/png": "[encoded data removed]",
      "text/plain": [
       "<matplotlib.figure.Figure at 0x115021cc0>"
      ]
     },
     "metadata": {},
     "output_type": "display_data"
    }
   ],
   "source": [
    "plt.plot(accuracy_)"
   ]
  },
  {
   "cell_type": "code",
   "execution_count": 14,
   "metadata": {
    "collapsed": false,
    "deletable": true,
    "editable": true
   },
   "outputs": [
    {
     "data": {
      "text/plain": [
       "[<matplotlib.lines.Line2D at 0x11591fa58>]"
      ]
     },
     "execution_count": 14,
     "metadata": {},
     "output_type": "execute_result"
    },
    {
     "data": {
      "image/png": "[encoded data removed]",
      "text/plain": [
       "<matplotlib.figure.Figure at 0x1152c2da0>"
      ]
     },
     "metadata": {},
     "output_type": "display_data"
    }
   ],
   "source": [
    "plt.plot(loss)"
   ]
  },
  {
   "cell_type": "markdown",
   "metadata": {},
   "source": [
    "- Our model does a decent job at fitting the data. With additional layers, we could further increase our accuracy"
   ]
  },
  {
   "cell_type": "markdown",
   "metadata": {
    "deletable": true,
    "editable": true
   },
   "source": [
    "# Bonus Tasks\n",
    "\n",
    "- Add hidden layers to your multiclass logistic regression classifier\n",
    "- Use another optimizer such as adam or adagrad instead of stochastic gradient descent\n",
    "- Monitor the accuracy"
   ]
  },
  {
   "cell_type": "code",
   "execution_count": 15,
   "metadata": {
    "collapsed": true,
    "deletable": true,
    "editable": true
   },
   "outputs": [],
   "source": [
    "optimizer_2 = tf.train.AdamOptimizer(name='Adam')\n",
    "\n",
    "sgd_step_2 = optimizer_2.minimize(cross_entropy, name='SGDStep_2')\n"
   ]
  },
  {
   "cell_type": "code",
   "execution_count": 16,
   "metadata": {
    "collapsed": true,
    "deletable": true,
    "editable": true
   },
   "outputs": [],
   "source": [
    "sess = tf.InteractiveSession()\n",
    "init = tf.global_variables_initializer()\n",
    "sess.run(init)"
   ]
  },
  {
   "cell_type": "code",
   "execution_count": 26,
   "metadata": {
    "collapsed": false,
    "deletable": true,
    "editable": true
   },
   "outputs": [],
   "source": [
    "loss_2 = []\n",
    "acc_2 = []\n",
    "writer = tf.summary.FileWriter(\"tensorboard_2/MLR with softmax Summary - Adam\", sess.graph)\n",
    "for i in range(500):\n",
    "    c_e_s, c_e, _, acc = sess.run([cross_entropy_summary, cross_entropy, sgd_step_2, accuracy], \n",
    "                           feed_dict={X_: X_boston, y_: y_boston_one_hot})\n",
    "\n",
    "    loss_2.append(c_e)\n",
    "    acc_2.append(acc)\n",
    "\n",
    "    \n",
    "    writer.add_summary(c_e_s, global_step=i)\n",
    "\n",
    "writer.flush()"
   ]
  },
  {
   "cell_type": "code",
   "execution_count": 27,
   "metadata": {
    "collapsed": false,
    "deletable": true,
    "editable": true
   },
   "outputs": [
    {
     "data": {
      "image/png": "[encoded data removed]",
      "text/plain": [
       "<matplotlib.figure.Figure at 0x115c292e8>"
      ]
     },
     "metadata": {},
     "output_type": "display_data"
    }
   ],
   "source": [
    "plt.plot(loss_2)\n",
    "plt.xlabel(\"Number of Iterations\")\n",
    "plt.ylabel(\"Loss\");"
   ]
  },
  {
   "cell_type": "code",
   "execution_count": 28,
   "metadata": {
    "collapsed": false,
    "deletable": true,
    "editable": true
   },
   "outputs": [
    {
     "data": {
      "text/plain": [
       "[<matplotlib.lines.Line2D at 0x115d0b828>]"
      ]
     },
     "execution_count": 28,
     "metadata": {},
     "output_type": "execute_result"
    },
    {
     "data": {
      "image/png": "[encoded data removed]",
      "text/plain": [
       "<matplotlib.figure.Figure at 0x1160832b0>"
      ]
     },
     "metadata": {},
     "output_type": "display_data"
    }
   ],
   "source": [
    "plt.plot(acc_2)"
   ]
  },
  {
   "cell_type": "code",
   "execution_count": null,
   "metadata": {
    "collapsed": true,
    "deletable": true,
    "editable": true
   },
   "outputs": [],
   "source": []
  }
 ],
 "metadata": {
  "kernelspec": {
   "display_name": "Python [conda env:dl]",
   "language": "python",
   "name": "conda-env-dl-py"
  },
  "language_info": {
   "codemirror_mode": {
    "name": "ipython",
    "version": 3
   },
   "file_extension": ".py",
   "mimetype": "text/x-python",
   "name": "python",
   "nbconvert_exporter": "python",
   "pygments_lexer": "ipython3",
   "version": "3.6.0"
  }
 },
 "nbformat": 4,
 "nbformat_minor": 2
}
