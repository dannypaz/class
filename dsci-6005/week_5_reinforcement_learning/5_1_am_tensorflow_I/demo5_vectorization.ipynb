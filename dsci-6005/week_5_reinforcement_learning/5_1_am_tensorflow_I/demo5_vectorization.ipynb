{
 "cells": [
  {
   "cell_type": "markdown",
   "metadata": {
    "deletable": true,
    "editable": true
   },
   "source": [
    "# Define Model\n",
    "\n",
    "Notice here we specify the *shape* of each input tensor as a matrix as opposed to a scalar."
   ]
  },
  {
   "cell_type": "code",
   "execution_count": 1,
   "metadata": {
    "collapsed": false,
    "deletable": true,
    "editable": true
   },
   "outputs": [
    {
     "data": {
      "text/plain": [
       "(<tf.Tensor 'X:0' shape=(1, 13) dtype=float32>,\n",
       " <tf.Tensor 'y:0' shape=(1, 1) dtype=float32>,\n",
       " <tensorflow.python.ops.variables.Variable at 0x10ff04358>,\n",
       " <tensorflow.python.ops.variables.Variable at 0x11e9b0908>,\n",
       " <tf.Tensor 'z:0' shape=(1, 1) dtype=float32>,\n",
       " <tf.Tensor 'y_pred:0' shape=(1, 1) dtype=float32>,\n",
       " <tf.Tensor 'r:0' shape=(1, 1) dtype=float32>,\n",
       " <tf.Tensor 'losses:0' shape=(1, 1) dtype=float32>)"
      ]
     },
     "execution_count": 1,
     "metadata": {},
     "output_type": "execute_result"
    }
   ],
   "source": [
    "import tensorflow as tf\n",
    "\n",
    "X = tf.placeholder(dtype=tf.float32, shape=[1, 13], name='X')\n",
    "y = tf.placeholder(dtype=tf.float32, shape=[1, 1], name='y')\n",
    "\n",
    "W = tf.Variable(initial_value=tf.zeros(shape=[13, 1]), name='W')\n",
    "b = tf.Variable(initial_value=tf.zeros(shape=[1]), name='b')\n",
    "\n",
    "z = tf.matmul(X, W, name='z')\n",
    "y_pred = tf.add(z, b, name='y_pred')\n",
    "r = tf.subtract(y_pred, y, name='r')\n",
    "loss = tf.square(r, name='losses')\n",
    "\n",
    "X, y, W, b, z, y_pred, r, loss"
   ]
  },
  {
   "cell_type": "markdown",
   "metadata": {
    "deletable": true,
    "editable": true
   },
   "source": [
    "# Add SGD Optimizer"
   ]
  },
  {
   "cell_type": "code",
   "execution_count": 2,
   "metadata": {
    "collapsed": true,
    "deletable": true,
    "editable": true
   },
   "outputs": [],
   "source": [
    "optimizer = tf.train.GradientDescentOptimizer(learning_rate=0.01, name='Optimizer')\n",
    "\n",
    "sgd_step = optimizer.minimize(loss, name='SGDStep')"
   ]
  },
  {
   "cell_type": "markdown",
   "metadata": {
    "deletable": true,
    "editable": true
   },
   "source": [
    "# Initialize Variables"
   ]
  },
  {
   "cell_type": "code",
   "execution_count": 3,
   "metadata": {
    "collapsed": false,
    "deletable": true,
    "editable": true
   },
   "outputs": [],
   "source": [
    "sess = tf.InteractiveSession()\n",
    "init = tf.global_variables_initializer()\n",
    "sess.run(fetches=init)"
   ]
  },
  {
   "cell_type": "markdown",
   "metadata": {
    "deletable": true,
    "editable": true
   },
   "source": [
    "# SGD Step\n",
    "\n",
    "The only difference here is that we supply *matrices* as opposed to scalars as input to the computational graph."
   ]
  },
  {
   "cell_type": "code",
   "execution_count": 4,
   "metadata": {
    "collapsed": false
   },
   "outputs": [
    {
     "data": {
      "text/plain": [
       "(array([[ 1.,  1.,  1.,  1.,  1.,  1.,  1.,  1.,  1.,  1.,  1.,  1.,  1.]]),\n",
       " array([[ 1.]]))"
      ]
     },
     "execution_count": 4,
     "metadata": {},
     "output_type": "execute_result"
    }
   ],
   "source": [
    "import numpy as np\n",
    "\n",
    "lr_ = 0.01\n",
    "X_, y_ = np.ones([1, 13]), np.ones([1, 1])\n",
    "\n",
    "X_, y_"
   ]
  },
  {
   "cell_type": "code",
   "execution_count": 19,
   "metadata": {
    "collapsed": false,
    "deletable": true,
    "editable": true
   },
   "outputs": [
    {
     "data": {
      "text/plain": [
       "[array([[ 0.00010123]], dtype=float32), None, array([[ 0.07091113],\n",
       "        [ 0.07091113],\n",
       "        [ 0.07091113],\n",
       "        [ 0.07091113],\n",
       "        [ 0.07091113],\n",
       "        [ 0.07091113],\n",
       "        [ 0.07091113],\n",
       "        [ 0.07091113],\n",
       "        [ 0.07091113],\n",
       "        [ 0.07091113],\n",
       "        [ 0.07091113],\n",
       "        [ 0.07091113],\n",
       "        [ 0.07091113]], dtype=float32), array([ 0.07091113], dtype=float32)]"
      ]
     },
     "execution_count": 19,
     "metadata": {},
     "output_type": "execute_result"
    }
   ],
   "source": [
    "sess.run(fetches=[W, b, loss, sgd_step], feed_dict={X: X_, y: y_})"
   ]
  }
 ],
 "metadata": {
  "kernelspec": {
   "display_name": "Python 3",
   "language": "python",
   "name": "python3"
  },
  "language_info": {
   "codemirror_mode": {
    "name": "ipython",
    "version": 3
   },
   "file_extension": ".py",
   "mimetype": "text/x-python",
   "name": "python",
   "nbconvert_exporter": "python",
   "pygments_lexer": "ipython3",
   "version": "3.6.1"
  }
 },
 "nbformat": 4,
 "nbformat_minor": 2
}
