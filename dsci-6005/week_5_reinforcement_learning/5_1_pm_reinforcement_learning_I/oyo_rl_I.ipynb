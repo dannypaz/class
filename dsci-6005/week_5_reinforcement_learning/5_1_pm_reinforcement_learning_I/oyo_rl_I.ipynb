{
 "cells": [
  {
   "cell_type": "markdown",
   "metadata": {
    "slideshow": {
     "slide_type": "slide"
    }
   },
   "source": [
    "<center><img src=\"http://www.20min.ch/diashow/151570/656F3B586CBCFAF4D0E81C060C5F49FF.jpg\" width=\"350\"/></center>\n",
    "\n",
    "> I like my data large, my algorithms simple and my labels weak.\n",
    "\n",
    "[Andrej Karpathy](https://www.datascienceweekly.org/data-scientist-interviews/training-deep-learning-models-browser-andrej-karpathy-interview)"
   ]
  },
  {
   "cell_type": "markdown",
   "metadata": {
    "slideshow": {
     "slide_type": "slide"
    }
   },
   "source": [
    "Why is Reinforcement Learning so hyped now?\n",
    "------\n",
    "\n",
    "<center><img src=\"https://qph.ec.quoracdn.net/main-qimg-\n",
    "f2cba3601a25b3efa576c158b5bfe077-c\" height=\"500\"/></center>"
   ]
  },
  {
   "cell_type": "markdown",
   "metadata": {
    "slideshow": {
     "slide_type": "slide"
    }
   },
   "source": [
    "<br>"
   ]
  }
 ],
 "metadata": {
  "celltoolbar": "Slideshow",
  "kernelspec": {
   "display_name": "Python 3",
   "language": "python",
   "name": "python3"
  },
  "language_info": {
   "codemirror_mode": {
    "name": "ipython",
    "version": 3
   },
   "file_extension": ".py",
   "mimetype": "text/x-python",
   "name": "python",
   "nbconvert_exporter": "python",
   "pygments_lexer": "ipython3",
   "version": "3.6.1"
  }
 },
 "nbformat": 4,
 "nbformat_minor": 2
}
