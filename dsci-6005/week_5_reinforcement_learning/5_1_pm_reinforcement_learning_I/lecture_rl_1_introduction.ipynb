{
 "cells": [
  {
   "cell_type": "markdown",
   "metadata": {
    "slideshow": {
     "slide_type": "slide"
    }
   },
   "source": [
    "Reinforcement Learning\n",
    "-----\n",
    "<br>\n",
    "\n",
    "<center><img src=\"http://www.kdnuggets.com/wp-content/uploads/dr-evil-ai-meme.jpg\" height=\"500\"/></center>"
   ]
  },
  {
   "cell_type": "markdown",
   "metadata": {
    "slideshow": {
     "slide_type": "slide"
    }
   },
   "source": [
    "By The End Of This Session You Should Be Able To:\n",
    "----\n",
    "\n",
    "- Define Reinforcement Learning\n",
    "- List Reinforcement Learning elements\n",
    "- Identify Reinforcement Learning examples"
   ]
  },
  {
   "cell_type": "markdown",
   "metadata": {
    "slideshow": {
     "slide_type": "slide"
    }
   },
   "source": [
    "What is Reinforcement Learning?\n",
    "------\n",
    "\n",
    "<center><img src=\"https://devblogs.nvidia.com/parallelforall/wp-content/uploads/2016/04/aeloop-300x183.png\" height=\"500\"/></center>\n",
    "<br>\n",
    "An agent learns to maximize rewards in an environment."
   ]
  },
  {
   "cell_type": "markdown",
   "metadata": {
    "slideshow": {
     "slide_type": "slide"
    }
   },
   "source": [
    "<center><img src=\"http://www.ausy.tu-darmstadt.de/uploads/Research/Research/ReinforcementLearning.jpg\" height=\"500\"/></center>"
   ]
  },
  {
   "cell_type": "markdown",
   "metadata": {
    "slideshow": {
     "slide_type": "slide"
    }
   },
   "source": [
    "Reinforcement Learning Elements:\n",
    "------"
   ]
  },
  {
   "cell_type": "markdown",
   "metadata": {},
   "source": [
    "- A given environment state"
   ]
  },
  {
   "cell_type": "markdown",
   "metadata": {
    "slideshow": {
     "slide_type": "fragment"
    }
   },
   "source": [
    "- Agent observes it"
   ]
  },
  {
   "cell_type": "markdown",
   "metadata": {
    "slideshow": {
     "slide_type": "fragment"
    }
   },
   "source": [
    "- Agent makes an action to maximize its (cummlative) reward"
   ]
  },
  {
   "cell_type": "markdown",
   "metadata": {
    "slideshow": {
     "slide_type": "slide"
    }
   },
   "source": [
    "<center><img src=\"images/rl_interaction.png\" height=\"500\"/></center>"
   ]
  },
  {
   "cell_type": "markdown",
   "metadata": {
    "slideshow": {
     "slide_type": "slide"
    }
   },
   "source": [
    "Reinforcement Learning: Another definition\n",
    "-------\n",
    "<br>\n",
    "<center><img src=\"images/trial.png\" height=\"500\"/></center>\n",
    "\n",
    "Learn to make a sequence of decisions, by trial & error, in order to achieve a goal."
   ]
  },
  {
   "cell_type": "markdown",
   "metadata": {
    "slideshow": {
     "slide_type": "slide"
    }
   },
   "source": [
    "Check for understanding\n",
    "------\n",
    "\n",
    "<center><img src=\"https://raw.githubusercontent.com/kuz/DeepMind-Atari-Deep-Q-Learner/master/gifs/breakout.gif\" height=\"500\"/></center>\n",
    "\n",
    "Why does RL go well with video games?"
   ]
  },
  {
   "cell_type": "markdown",
   "metadata": {
    "collapsed": true,
    "slideshow": {
     "slide_type": "fragment"
    }
   },
   "source": [
    "- Defined environment\n",
    "- Simple actions\n",
    "- Clear, delayed rewards "
   ]
  },
  {
   "cell_type": "markdown",
   "metadata": {
    "slideshow": {
     "slide_type": "slide"
    }
   },
   "source": [
    "What are example tasks for Reinforcement Learning? What are the RL elements?\n",
    "-------"
   ]
  },
  {
   "cell_type": "markdown",
   "metadata": {
    "slideshow": {
     "slide_type": "slide"
    }
   },
   "source": [
    "- All ATARI games (DeepMind)\n",
    "- The game of Go (AlphaGo)\n",
    "- Berkeley robot stacking Legos\n",
    "- Quadruped robots (Boston Dynamics)\n",
    "\n",
    "[Source](http://karpathy.github.io/2016/05/31/rl/)"
   ]
  },
  {
   "cell_type": "markdown",
   "metadata": {
    "collapsed": true,
    "slideshow": {
     "slide_type": "slide"
    }
   },
   "source": [
    "RL, UL, & RL comparison shopping\n",
    "------\n",
    "<br>\n",
    "<center><img src=\"https://cdn-images-1.medium.com/max/800/1*KDvA9Fq3lm-eQOyGlcKAKg.png\" height=\"500\"/></center>\n",
    "\n",
    "[Source](https://medium.com/intuitionmachine/predictive-learning-is-the-key-to-deep-learning-acceleration-93e063195fd0)"
   ]
  },
  {
   "cell_type": "markdown",
   "metadata": {
    "slideshow": {
     "slide_type": "slide"
    }
   },
   "source": [
    "What is the connection between Supervised, Unsupervised, and  Learning?\n",
    "----\n",
    "\n",
    "__Types of Learning Systems__:\n",
    "\n",
    "| | Supervised | Unsupervised | Reinforcement | \n",
    "|:-------:|:------:|:------:|:------:|\n",
    "| Labels    |   |   |   |\n",
    "| Feedback |   |   |   |\n",
    "| Result / Outcome |   |   |   | |\n",
    "\n",
    "Take 5 minutes and fill this out with your table mates."
   ]
  },
  {
   "cell_type": "markdown",
   "metadata": {
    "slideshow": {
     "slide_type": "slide"
    }
   },
   "source": [
    "<center><img src=\"https://adeshpande3.github.io/assets/IRL1.png\" height=\"500\"/></center>"
   ]
  },
  {
   "cell_type": "markdown",
   "metadata": {
    "slideshow": {
     "slide_type": "slide"
    }
   },
   "source": [
    "What is an example task for each type?\n",
    "------\n",
    "\n",
    "- Supervised Learning (SL) \n",
    "- Unsupervised Learning (UL) \n",
    "- Reinforcement (RL)"
   ]
  },
  {
   "cell_type": "markdown",
   "metadata": {
    "slideshow": {
     "slide_type": "slide"
    }
   },
   "source": [
    "Check for understanding\n",
    "------\n",
    "\n",
    "Supervised learning and Reinforcement Learning both need labeled data what is the difference?"
   ]
  },
  {
   "cell_type": "markdown",
   "metadata": {
    "slideshow": {
     "slide_type": "fragment"
    }
   },
   "source": [
    "Reinforcement Learning can handle __sparse__ and __time-delayed__ labels, aka rewards. "
   ]
  },
  {
   "cell_type": "markdown",
   "metadata": {
    "slideshow": {
     "slide_type": "slide"
    }
   },
   "source": [
    "Temporal Credit Assignment Problem\n",
    "-----\n",
    "\n",
    "Which of the preceding actions was responsible for getting the reward and to what extent?"
   ]
  },
  {
   "cell_type": "markdown",
   "metadata": {
    "slideshow": {
     "slide_type": "fragment"
    }
   },
   "source": [
    "The biggest problem facing a reinforcement-learning agent.\n",
    "\n",
    "One strategy is to wait until the \"end\" and reward the actions taken if the result was good and punish them if the result was bad. \n",
    "\n",
    "In ongoing tasks, it is difficult to know what the \"end\" is, and this might require a great deal of memory. \n",
    "\n",
    "Instead, we will use insights from value iteration to adjust the estimated value of a state based on the immediate reward and the estimated value of the next state."
   ]
  },
  {
   "cell_type": "markdown",
   "metadata": {
    "slideshow": {
     "slide_type": "slide"
    }
   },
   "source": [
    "What are Reinforcement Learning limitations (aka, when would an agent not learn the optimal action)?\n",
    "------"
   ]
  },
  {
   "cell_type": "markdown",
   "metadata": {
    "slideshow": {
     "slide_type": "fragment"
    }
   },
   "source": [
    "### Violate one of the constraints\n",
    "\n"
   ]
  },
  {
   "cell_type": "markdown",
   "metadata": {
    "slideshow": {
     "slide_type": "slide"
    }
   },
   "source": [
    "### Violate one of the constraints\n",
    "\n",
    "- Agent\n",
    "    - Can not take action\n",
    "    - Can not process reward\n",
    "- Rewards\n",
    "    - Not enough rewards (very low rate or \"binary\")\n",
    "    - Rewards are not based on agent performance (random or biased)\n",
    "    - Rewards are too delayed\n"
   ]
  },
  {
   "cell_type": "markdown",
   "metadata": {
    "slideshow": {
     "slide_type": "slide"
    }
   },
   "source": [
    "### Violate one of the constraints\n",
    "\n",
    "- Actions \n",
    "    - Are not clearly defined \n",
    "    - Too many | ->∞ | ∞\n",
    "- Environment\n",
    "    - The best rewards are hard to get to..."
   ]
  },
  {
   "cell_type": "markdown",
   "metadata": {
    "slideshow": {
     "slide_type": "slide"
    }
   },
   "source": [
    "Check for understanding\n",
    "--------\n",
    "\n",
    "What is technical name for \"The best rewards are hard to get to\"?"
   ]
  },
  {
   "cell_type": "markdown",
   "metadata": {
    "slideshow": {
     "slide_type": "slide"
    }
   },
   "source": [
    "<center><img src=\"http://www2.gcc.edu/dept/math/faculty/BancroftED/buscalc/chapter2/images/image056.png\" height=\"500\"/></center>\n",
    "\n",
    "Local minimum"
   ]
  },
  {
   "cell_type": "markdown",
   "metadata": {
    "slideshow": {
     "slide_type": "slide"
    }
   },
   "source": [
    "Summary\n",
    "----\n",
    "\n",
    "- Reinforcement Learning: An agent learns to maximize cummalitive rewards in an environment.\n",
    "- RL is related to UL and SL with different use of labels, feedback, and outcomes.\n",
    "- RL can not handle all tasks. Often environments has too many actions and have local minimum."
   ]
  },
  {
   "cell_type": "markdown",
   "metadata": {
    "slideshow": {
     "slide_type": "slide"
    }
   },
   "source": [
    "<br>\n",
    "<br>"
   ]
  }
 ],
 "metadata": {
  "anaconda-cloud": {},
  "celltoolbar": "Slideshow",
  "kernelspec": {
   "display_name": "Python 3",
   "language": "python",
   "name": "python3"
  },
  "language_info": {
   "codemirror_mode": {
    "name": "ipython",
    "version": 3
   },
   "file_extension": ".py",
   "mimetype": "text/x-python",
   "name": "python",
   "nbconvert_exporter": "python",
   "pygments_lexer": "ipython3",
   "version": "3.6.1"
  }
 },
 "nbformat": 4,
 "nbformat_minor": 1
}
