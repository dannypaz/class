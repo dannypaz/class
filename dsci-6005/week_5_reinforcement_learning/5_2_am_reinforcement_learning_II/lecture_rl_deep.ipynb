{
 "cells": [
  {
   "cell_type": "markdown",
   "metadata": {
    "slideshow": {
     "slide_type": "slide"
    }
   },
   "source": [
    "Deep Reinforcement Learning\n",
    "-----\n",
    "\n",
    "<center><img src=\"https://ih1.redbubble.net/image.311665146.8095/ra%2Crelaxed_fit%2Cx1100%2Cathletic_heather%2Cfront-c%2C260%2C195%2C225%2C375-pad%2C220x294%2Cffffff.lite-1u1.jpg\" height=\"500\"/></center>"
   ]
  },
  {
   "cell_type": "markdown",
   "metadata": {
    "slideshow": {
     "slide_type": "slide"
    }
   },
   "source": [
    "By The End Of This Session You Should Be Able To:\n",
    "----\n",
    "\n",
    "- Explain the connection between Q-learning and Deep Q-learning Network (DQN)\n",
    "- Describe how “Experience Replay” enables DQN\n",
    "- List the common limitations of DQN and how to overcome them"
   ]
  },
  {
   "cell_type": "markdown",
   "metadata": {
    "slideshow": {
     "slide_type": "slide"
    }
   },
   "source": [
    "Reinforcement Learning Overview\n",
    "-----\n",
    "<center><img src=\"images/rl_overview.png\" height=\"500\"/></center>"
   ]
  },
  {
   "cell_type": "code",
   "execution_count": 1,
   "metadata": {
    "slideshow": {
     "slide_type": "slide"
    }
   },
   "outputs": [
    {
     "data": {
      "image/jpeg": "[encoded data removed]",
      "text/html": [
       "\n",
       "        <iframe\n",
       "            width=\"400\"\n",
       "            height=\"300\"\n",
       "            src=\"https://www.youtube.com/embed/UXurvvDY93o\"\n",
       "            frameborder=\"0\"\n",
       "            allowfullscreen\n",
       "        ></iframe>\n",
       "        "
      ],
      "text/plain": [
       "<IPython.lib.display.YouTubeVideo at 0x10ffe1630>"
      ]
     },
     "execution_count": 1,
     "metadata": {},
     "output_type": "execute_result"
    }
   ],
   "source": [
    "from IPython.display import YouTubeVideo\n",
    "\n",
    "YouTubeVideo(\"UXurvvDY93o\")"
   ]
  },
  {
   "cell_type": "markdown",
   "metadata": {
    "slideshow": {
     "slide_type": "slide"
    }
   },
   "source": [
    "<center><img src=\"https://upload.wikimedia.org/wikipedia/en/thumb/2/2b/Breakout2600.svg/1280px-Breakout2600.svg.png\" width=\"500\"/></center>\n",
    "\n",
    "Let's look at possible states:\n",
    "\n",
    "Take 4 screen images, resize them to 84×84 and convert to grayscale with 256 gray levels.  \n",
    "We would have 256<sup>84x84x4</sup> ≈ 10<sup>67970</sup> possible game states. \n",
    "\n",
    "This means 10<sup>67970</sup> rows in Q-learning state!!!"
   ]
  },
  {
   "cell_type": "markdown",
   "metadata": {
    "slideshow": {
     "slide_type": "slide"
    }
   },
   "source": [
    "Deep Q-learning Network (DQN)\n",
    "-----\n",
    "\n",
    "Enabled the power of Deep Neural Networks (DNN) to be combined in a scalable fashion with Reinforcement Learning (RL)"
   ]
  },
  {
   "cell_type": "markdown",
   "metadata": {},
   "source": [
    "\"Playing Atari with Deep Reinforcement Learning\" from DeepMind\n",
    "------\n",
    "\n",
    "<center><img src=\"images/games.png\" height=\"500\"/></center>\n",
    "\n",
    "A small company in London called DeepMind uploaded their pioneering paper “Playing Atari with Deep Reinforcement Learning” to Arxiv. \n",
    "\n",
    "They demonstrated how a computer learned to play Atari 2600 video games by observing just the screen pixels and receiving a reward when the game score increased. T\n",
    "\n",
    "he result was remarkable, because the games and the goals in every game were very different and designed to be challenging for humans. The same model architecture, without any change, was used to learn seven different games, and in three of them the algorithm performed even better than a human!\n",
    "\n",
    "[Read the paper](https://www.cs.toronto.edu/~vmnih/docs/dqn.pdf)"
   ]
  },
  {
   "cell_type": "markdown",
   "metadata": {
    "slideshow": {
     "slide_type": "slide"
    }
   },
   "source": [
    "What is the secret sauce of DQN?\n",
    "-----\n",
    "\n",
    "“Experience Replay”\n",
    "\n",
    "During the learning phase DQN was trained on samples drawn from a pool of stored episodes"
   ]
  },
  {
   "cell_type": "markdown",
   "metadata": {
    "slideshow": {
     "slide_type": "slide"
    }
   },
   "source": [
    "“Experience replay”: Use pools of stored episodes\n",
    "-----\n",
    "\n",
    "<center><img src=\"https://www.nervanasys.com/wp-content/uploads/2015/12/Screen-Shot-2015-12-21-at-11.27.12-AM.png\" height=\"500\"/></center>"
   ]
  },
  {
   "cell_type": "markdown",
   "metadata": {
    "slideshow": {
     "slide_type": "slide"
    }
   },
   "source": [
    "DQN Algorithm\n",
    "-----\n",
    "\n",
    "<center><img src=\"images/dqn_algo.png\" height=\"500\"/></center>"
   ]
  },
  {
   "cell_type": "markdown",
   "metadata": {
    "slideshow": {
     "slide_type": "slide"
    }
   },
   "source": [
    "DeepMind Architecture\n",
    "-----\n",
    "\n",
    "<center><img src=\"images/deepmind_cnn.png\" height=\"500\"/></center>"
   ]
  },
  {
   "cell_type": "markdown",
   "metadata": {
    "slideshow": {
     "slide_type": "slide"
    }
   },
   "source": [
    "DeepMind Architecture\n",
    "-----\n",
    "\n",
    "<center><img src=\"https://www.nervanasys.com/wp-content/uploads/2015/12/Screen-Shot-2015-12-21-at-11.23.28-AM.png\" height=\"500\"/></center>"
   ]
  },
  {
   "cell_type": "markdown",
   "metadata": {
    "slideshow": {
     "slide_type": "slide"
    }
   },
   "source": [
    "Reward values with Frames over time\n",
    "------\n",
    "<center><img src=\"https://adeshpande3.github.io/assets/IRL14.png\" height=\"500\"/></center>"
   ]
  },
  {
   "cell_type": "markdown",
   "metadata": {
    "slideshow": {
     "slide_type": "slide"
    }
   },
   "source": [
    "<center><img src=\"https://adeshpande3.github.io/assets/IRL15.png\" height=\"500\"/></center>"
   ]
  },
  {
   "cell_type": "markdown",
   "metadata": {
    "slideshow": {
     "slide_type": "slide"
    }
   },
   "source": [
    "What are limitations of DQN?\n",
    "-----"
   ]
  },
  {
   "cell_type": "markdown",
   "metadata": {
    "collapsed": true,
    "slideshow": {
     "slide_type": "fragment"
    }
   },
   "source": [
    "- Takes a LOOOOONG time. Breakout took \"almost a week on a single GPU\"\n",
    "- The need for an end-to-end continuously derivative function for backprop learning.\n",
    "    - Not all reward functions meet that criteria\n",
    "- Not very good at Exploration"
   ]
  },
  {
   "cell_type": "markdown",
   "metadata": {
    "slideshow": {
     "slide_type": "slide"
    }
   },
   "source": [
    "Montezuma's Revenge\n",
    "----"
   ]
  },
  {
   "cell_type": "code",
   "execution_count": 2,
   "metadata": {
    "slideshow": {
     "slide_type": "fragment"
    }
   },
   "outputs": [
    {
     "data": {
      "image/jpeg": "[encoded data removed]",
      "text/html": [
       "\n",
       "        <iframe\n",
       "            width=\"400\"\n",
       "            height=\"300\"\n",
       "            src=\"https://www.youtube.com/embed/0yI2wJ6F8r0\"\n",
       "            frameborder=\"0\"\n",
       "            allowfullscreen\n",
       "        ></iframe>\n",
       "        "
      ],
      "text/plain": [
       "<IPython.lib.display.YouTubeVideo at 0x10c07bc50>"
      ]
     },
     "execution_count": 2,
     "metadata": {},
     "output_type": "execute_result"
    }
   ],
   "source": [
    "YouTubeVideo(\"0yI2wJ6F8r0\")"
   ]
  },
  {
   "cell_type": "markdown",
   "metadata": {
    "slideshow": {
     "slide_type": "skip"
    }
   },
   "source": [
    "[Source](https://arxiv.org/abs/1606.01868)"
   ]
  },
  {
   "cell_type": "markdown",
   "metadata": {
    "slideshow": {
     "slide_type": "slide"
    }
   },
   "source": [
    "What is hierarchical reinforcement learning?\n",
    "-------\n",
    "\n",
    "<center><img src=\"http://www.cns-jocham.de/_Media/image-6_med_hr.png\" height=\"500\"/></center>\n",
    "\n",
    "__2 levels:__\n",
    "\n",
    "1. Meta-controller / outer loop - Learns goals and picks goals (aka, a specific state)\n",
    "2. Controller / inner loop - Learns to get the current goal"
   ]
  },
  {
   "cell_type": "markdown",
   "metadata": {
    "slideshow": {
     "slide_type": "slide"
    }
   },
   "source": [
    "Summary \n",
    "-----\n",
    "\n",
    "- DQN is DL implementation of Q-learning for RL\n",
    "- DeepMind trained on raw pixels to learn complex video games\n",
    "- “Experience Replay” is trick to batch state/reward to reduce state space\n",
    "- DQN is limited, especially for Exploration"
   ]
  },
  {
   "cell_type": "markdown",
   "metadata": {
    "slideshow": {
     "slide_type": "slide"
    }
   },
   "source": [
    "<br>\n",
    "<br>"
   ]
  }
 ],
 "metadata": {
  "anaconda-cloud": {},
  "celltoolbar": "Slideshow",
  "kernelspec": {
   "display_name": "Python 3",
   "language": "python",
   "name": "python3"
  },
  "language_info": {
   "codemirror_mode": {
    "name": "ipython",
    "version": 3
   },
   "file_extension": ".py",
   "mimetype": "text/x-python",
   "name": "python",
   "nbconvert_exporter": "python",
   "pygments_lexer": "ipython3",
   "version": "3.6.1"
  }
 },
 "nbformat": 4,
 "nbformat_minor": 1
}
