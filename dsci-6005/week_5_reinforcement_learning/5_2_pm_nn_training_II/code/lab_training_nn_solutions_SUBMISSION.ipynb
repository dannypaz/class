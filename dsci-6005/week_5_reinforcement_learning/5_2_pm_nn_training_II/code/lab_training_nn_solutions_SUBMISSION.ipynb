{
 "cells": [
  {
   "cell_type": "markdown",
   "metadata": {},
   "source": [
    "# Training Neural Networks II Lab\n",
    "\n",
    "Welcome to the training neural networks II lab! By the end of this lab you will have\n",
    "\n",
    "- Used a minimal and highly-extensible [sacred](http://sacred.readthedocs.io/en/latest/index.html) framework with keras and TensorBoard to experiment with and to visualize a neural network architecture along with its performance\n",
    "\n",
    "Let's get started!\n",
    "\n",
    "---\n",
    "\n",
    "## Tasks\n",
    "\n",
    "- Add a `CNNTrainer` class which builds a convolutional neural network model for MNIST\n",
    "- Do a grid search over a regularization hyperparameter of your choice (e.g. droput, l2 weight decay, or batch normalization)\n",
    "\n",
    "## Requirements\n",
    "\n",
    "- Define your architecture as a `trainer.CNNTrainer` class which extends `trainer.Trainer` in `trainers.py`\n",
    "- Add the hyperparameter you want to grid-search over as a sacred configuation variable in `train.my_config()`\n",
    "- Perform the grid-search over the same set of values from both a jupyter notebook (below) **and** the command line\n",
    "- When using the command line set the `frontend` configuration variable in `train.my_config()` to a value of `'cmd'` and set it to a value of `'jupyter'` when calling from a jupyter notebook\n",
    "\n",
    "## Deliverables\n",
    "\n",
    "- Filter your experiment runs in TensorBoard with the regexes `'cmd'` and `'jupyter'` and embed a screenshot of each in this notebook\n",
    "- Make sure to also push your modified versions of `train.py` and `trainers.py`"
   ]
  },
  {
   "cell_type": "code",
   "execution_count": null,
   "metadata": {
    "collapsed": true
   },
   "outputs": [],
   "source": [
    "# trainers is modified"
   ]
  },
  {
   "cell_type": "markdown",
   "metadata": {},
   "source": [
    "# Bonus Tasks\n",
    "\n",
    "There are so many ways you can extend this codebase. I highly recommend that you do. Just some ideas include\n",
    "\n",
    "- A system for visualizing top-performing models. I suggest using `keras.callbacks.CSVLogger` to collect training information\n",
    "- Additional callbacks for model checkpointing and early stopping\n",
    "- A system for creating experiments from hyperparameter ranges and running them in parallel (e.g. on AWS)"
   ]
  }
 ],
 "metadata": {
  "kernelspec": {
   "display_name": "Python 3",
   "language": "python",
   "name": "python3"
  },
  "language_info": {
   "codemirror_mode": {
    "name": "ipython",
    "version": 3
   },
   "file_extension": ".py",
   "mimetype": "text/x-python",
   "name": "python",
   "nbconvert_exporter": "python",
   "pygments_lexer": "ipython3",
   "version": "3.6.1"
  }
 },
 "nbformat": 4,
 "nbformat_minor": 2
}
