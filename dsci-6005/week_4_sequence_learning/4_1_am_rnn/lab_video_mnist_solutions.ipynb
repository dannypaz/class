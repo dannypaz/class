{
 "cells": [
  {
   "cell_type": "markdown",
   "metadata": {
    "deletable": true,
    "editable": true
   },
   "source": [
    "# Recurrent Neural Network Video MNIST Lab\n",
    "\n",
    "By the end of this lab you will have\n",
    "\n",
    "- Defined and trained a recurrent neural network with keras to perform video frame prediction with `batch_size=1`\n",
    "- Defined and trained a recurrent neural network with keras to perform video frame prediction with `batch_size=100`\n",
    "- Evaluated hyperparameters with a validation set\n",
    "- Defined and trained a recurrent neural network with keras to perform **accurate** video frame prediction\n",
    "\n",
    "Let's get started!\n",
    "\n",
    "The mnist video dataset is courtesty of github user [despoisj](https://github.com/despoisj) and his/her [LatentSpaceVisualization]( https://github.com/despoisj/LatentSpaceVisualization) project.\n",
    "\n",
    "---\n",
    "\n",
    "# Load Data\n",
    "\n",
    "The following code loads in the mnist video dataset and displays the first ten samples."
   ]
  },
  {
   "cell_type": "code",
   "execution_count": 1,
   "metadata": {
    "collapsed": false,
    "deletable": true,
    "editable": true,
    "scrolled": false
   },
   "outputs": [
    {
     "name": "stdout",
     "output_type": "stream",
     "text": [
      "4\n"
     ]
    },
    {
     "data": {
      "image/png": "[encoded data removed]",
      "text/plain": [
       "<PIL.Image.Image image mode=L size=50x50 at 0x11239E748>"
      ]
     },
     "metadata": {},
     "output_type": "display_data"
    },
    {
     "name": "stdout",
     "output_type": "stream",
     "text": [
      "4\n"
     ]
    },
    {
     "data": {
      "image/png": "[encoded data removed]",
      "text/plain": [
       "<PIL.Image.Image image mode=L size=50x50 at 0x112385550>"
      ]
     },
     "metadata": {},
     "output_type": "display_data"
    },
    {
     "name": "stdout",
     "output_type": "stream",
     "text": [
      "4\n"
     ]
    },
    {
     "data": {
      "image/png": "[encoded data removed]",
      "text/plain": [
       "<PIL.Image.Image image mode=L size=50x50 at 0x112385780>"
      ]
     },
     "metadata": {},
     "output_type": "display_data"
    },
    {
     "name": "stdout",
     "output_type": "stream",
     "text": [
      "7\n"
     ]
    },
    {
     "data": {
      "image/png": "[encoded data removed]",
      "text/plain": [
       "<PIL.Image.Image image mode=L size=50x50 at 0x112385828>"
      ]
     },
     "metadata": {},
     "output_type": "display_data"
    },
    {
     "name": "stdout",
     "output_type": "stream",
     "text": [
      "7\n"
     ]
    },
    {
     "data": {
      "image/png": "[encoded data removed]",
      "text/plain": [
       "<PIL.Image.Image image mode=L size=50x50 at 0x1123859B0>"
      ]
     },
     "metadata": {},
     "output_type": "display_data"
    },
    {
     "name": "stdout",
     "output_type": "stream",
     "text": [
      "7\n"
     ]
    },
    {
     "data": {
      "image/png": "[encoded data removed]",
      "text/plain": [
       "<PIL.Image.Image image mode=L size=50x50 at 0x112385C18>"
      ]
     },
     "metadata": {},
     "output_type": "display_data"
    },
    {
     "name": "stdout",
     "output_type": "stream",
     "text": [
      "7\n"
     ]
    },
    {
     "data": {
      "image/png": "[encoded data removed]",
      "text/plain": [
       "<PIL.Image.Image image mode=L size=50x50 at 0x112385C50>"
      ]
     },
     "metadata": {},
     "output_type": "display_data"
    },
    {
     "name": "stdout",
     "output_type": "stream",
     "text": [
      "7\n"
     ]
    },
    {
     "data": {
      "image/png": "[encoded data removed]",
      "text/plain": [
       "<PIL.Image.Image image mode=L size=50x50 at 0x11239ABA8>"
      ]
     },
     "metadata": {},
     "output_type": "display_data"
    },
    {
     "name": "stdout",
     "output_type": "stream",
     "text": [
      "7\n"
     ]
    },
    {
     "data": {
      "image/png": "[encoded data removed]",
      "text/plain": [
       "<PIL.Image.Image image mode=L size=50x50 at 0x11239AC50>"
      ]
     },
     "metadata": {},
     "output_type": "display_data"
    },
    {
     "name": "stdout",
     "output_type": "stream",
     "text": [
      "5\n"
     ]
    },
    {
     "data": {
      "image/png": "[encoded data removed]",
      "text/plain": [
       "<PIL.Image.Image image mode=L size=50x50 at 0x112418080>"
      ]
     },
     "metadata": {},
     "output_type": "display_data"
    }
   ],
   "source": [
    "from IPython.display import display\n",
    "import pickle\n",
    "\n",
    "[imgs, y] = pickle.load(open('LatentSpaceVisualization/Visuals/mnist_transitions.p', 'rb'))\n",
    "for img, y_ in zip(imgs[:10], y[:10]):\n",
    "    print(y_)\n",
    "    display(img)"
   ]
  },
  {
   "cell_type": "markdown",
   "metadata": {
    "deletable": true,
    "editable": true
   },
   "source": [
    "# Flatten Images\n",
    "\n",
    "The following code resizes each image to `(28, 28)` and normalizes the pixel intensities and converts `y` to a categorical representation."
   ]
  },
  {
   "cell_type": "code",
   "execution_count": 2,
   "metadata": {
    "collapsed": false,
    "deletable": true,
    "editable": true
   },
   "outputs": [
    {
     "name": "stderr",
     "output_type": "stream",
     "text": [
      "Using TensorFlow backend.\n"
     ]
    },
    {
     "data": {
      "text/plain": [
       "((6000, 784), (6000, 10))"
      ]
     },
     "execution_count": 2,
     "metadata": {},
     "output_type": "execute_result"
    }
   ],
   "source": [
    "import numpy as np\n",
    "from keras.preprocessing.image import img_to_array\n",
    "from keras.utils.np_utils import to_categorical\n",
    "\n",
    "imgs = [img.resize(size=[28, 28]) for img in imgs]\n",
    "X = np.array([img_to_array(img).flatten() for img in imgs]) / 255.\n",
    "Y = to_categorical(y)\n",
    "\n",
    "X.shape, Y.shape"
   ]
  },
  {
   "cell_type": "markdown",
   "metadata": {
    "deletable": true,
    "editable": true
   },
   "source": [
    "# keras RNNs with `batch_size=1`\n",
    "\n",
    "## Question\n",
    "\n",
    "- What shape do you need to convert `X` to to make it compatible a with `SimpleRNN(..., batch_input_shape=[1, 6000, 784])` layer?\n",
    "\n",
    "## Hints\n",
    "\n",
    "- This is the most quick-and-dirty way to make `X` and `Y` compatible with a keras recurrent layer\n",
    "\n",
    "## Answer\n",
    "\n",
    "- `(1, 6000, 784)`\n",
    "\n",
    "## Question\n",
    "\n",
    "- How about `Y`?\n",
    "\n",
    "## Hint\n",
    "\n",
    "- The shape for the transformed `Y` is identical to the shape for the transformed `X` but for one dimension\n",
    "\n",
    "## Answer\n",
    "\n",
    "- `(1, 6000, 10)`\n",
    "\n",
    "## Tasks\n",
    "\n",
    "- Reshape `X` and `Y` and save them into new variables call `X1` and `Y1` respectively which satisfy the above requirement"
   ]
  },
  {
   "cell_type": "code",
   "execution_count": 3,
   "metadata": {
    "collapsed": false,
    "deletable": true,
    "editable": true
   },
   "outputs": [
    {
     "data": {
      "text/plain": [
       "((1, 6000, 10), (1, 6000, 784))"
      ]
     },
     "execution_count": 3,
     "metadata": {},
     "output_type": "execute_result"
    }
   ],
   "source": [
    "X1 = X.reshape(1, 6000, 784)\n",
    "Y1 = Y.reshape(1, 6000, 10)\n",
    "\n",
    "Y1.shape, X1.shape"
   ]
  },
  {
   "cell_type": "markdown",
   "metadata": {
    "deletable": true,
    "editable": true
   },
   "source": [
    "## Task\n",
    "\n",
    "- Define a keras RNN model compatible with `X1` and `Y1`\n",
    "\n",
    "## Requirement\n",
    "\n",
    "- You must specify\n",
    "\n",
    "```python\n",
    "SimpleRNN(..., return_sequences=True, batch_input_shape=[1, 6000, 784])\n",
    "```\n",
    "\n",
    "as the first layer in your architecture."
   ]
  },
  {
   "cell_type": "code",
   "execution_count": 4,
   "metadata": {
    "collapsed": false,
    "deletable": true,
    "editable": true
   },
   "outputs": [
    {
     "name": "stdout",
     "output_type": "stream",
     "text": [
      "_________________________________________________________________\n",
      "Layer (type)                 Output Shape              Param #   \n",
      "=================================================================\n",
      "simple_rnn_1 (SimpleRNN)     (1, 6000, 10)             7950      \n",
      "=================================================================\n",
      "Total params: 7,950.0\n",
      "Trainable params: 7,950\n",
      "Non-trainable params: 0.0\n",
      "_________________________________________________________________\n"
     ]
    }
   ],
   "source": [
    "from keras.models import Sequential\n",
    "from keras.layers import SimpleRNN, Dense\n",
    "\n",
    "model = Sequential()\n",
    "model.add(SimpleRNN(units=10, activation='softmax', return_sequences=True, batch_input_shape=[1, 6000, 784]))\n",
    "model.compile(loss='categorical_crossentropy', optimizer='adam', metrics=['accuracy'])\n",
    "model.summary()"
   ]
  },
  {
   "cell_type": "markdown",
   "metadata": {
    "deletable": true,
    "editable": true
   },
   "source": [
    "## Task\n",
    "\n",
    "- Fit your RNN model on `X1` and `Y1`\n",
    "\n",
    "## Requirements\n",
    "\n",
    "- Fit your model with `model.fit(..., batch_size=1, shuffle=False, epochs=50)`"
   ]
  },
  {
   "cell_type": "code",
   "execution_count": 5,
   "metadata": {
    "collapsed": false,
    "deletable": true,
    "editable": true
   },
   "outputs": [
    {
     "name": "stdout",
     "output_type": "stream",
     "text": [
      "Epoch 1/50\n",
      "1/1 [==============================] - 3s - loss: 2.4702 - acc: 0.0630\n",
      "Epoch 2/50\n",
      "1/1 [==============================] - 2s - loss: 2.4216 - acc: 0.0725\n",
      "Epoch 3/50\n",
      "1/1 [==============================] - 2s - loss: 2.3768 - acc: 0.0830\n",
      "Epoch 4/50\n",
      "1/1 [==============================] - 2s - loss: 2.3354 - acc: 0.1020\n",
      "Epoch 5/50\n",
      "1/1 [==============================] - 2s - loss: 2.2990 - acc: 0.1295\n",
      "Epoch 6/50\n",
      "1/1 [==============================] - 2s - loss: 2.2624 - acc: 0.1518\n",
      "Epoch 7/50\n",
      "1/1 [==============================] - 2s - loss: 2.2287 - acc: 0.1807\n",
      "Epoch 8/50\n",
      "1/1 [==============================] - 2s - loss: 2.1952 - acc: 0.2087\n",
      "Epoch 9/50\n",
      "1/1 [==============================] - 2s - loss: 2.1629 - acc: 0.2382\n",
      "Epoch 10/50\n",
      "1/1 [==============================] - 2s - loss: 2.1317 - acc: 0.2603\n",
      "Epoch 11/50\n",
      "1/1 [==============================] - 2s - loss: 2.1011 - acc: 0.2748\n",
      "Epoch 12/50\n",
      "1/1 [==============================] - 2s - loss: 2.0711 - acc: 0.2925\n",
      "Epoch 13/50\n",
      "1/1 [==============================] - 2s - loss: 2.0417 - acc: 0.3112\n",
      "Epoch 14/50\n",
      "1/1 [==============================] - 2s - loss: 2.0129 - acc: 0.3287\n",
      "Epoch 15/50\n",
      "1/1 [==============================] - 3s - loss: 1.9847 - acc: 0.3455\n",
      "Epoch 16/50\n",
      "1/1 [==============================] - 3s - loss: 1.9570 - acc: 0.3642\n",
      "Epoch 17/50\n",
      "1/1 [==============================] - 3s - loss: 1.9298 - acc: 0.3837\n",
      "Epoch 18/50\n",
      "1/1 [==============================] - 3s - loss: 1.9032 - acc: 0.4072\n",
      "Epoch 19/50\n",
      "1/1 [==============================] - 2s - loss: 1.8772 - acc: 0.4312\n",
      "Epoch 20/50\n",
      "1/1 [==============================] - 2s - loss: 1.8516 - acc: 0.4528\n",
      "Epoch 21/50\n",
      "1/1 [==============================] - 2s - loss: 1.8267 - acc: 0.4742\n",
      "Epoch 22/50\n",
      "1/1 [==============================] - 3s - loss: 1.8020 - acc: 0.4953\n",
      "Epoch 23/50\n",
      "1/1 [==============================] - 2s - loss: 1.7782 - acc: 0.5142\n",
      "Epoch 24/50\n",
      "1/1 [==============================] - 2s - loss: 1.7547 - acc: 0.5278\n",
      "Epoch 25/50\n",
      "1/1 [==============================] - 3s - loss: 1.7317 - acc: 0.5437\n",
      "Epoch 26/50\n",
      "1/1 [==============================] - 3s - loss: 1.7097 - acc: 0.5558\n",
      "Epoch 27/50\n",
      "1/1 [==============================] - 3s - loss: 1.6879 - acc: 0.5677\n",
      "Epoch 28/50\n",
      "1/1 [==============================] - 2s - loss: 1.6670 - acc: 0.5742\n",
      "Epoch 29/50\n",
      "1/1 [==============================] - 2s - loss: 1.6467 - acc: 0.5790\n",
      "Epoch 30/50\n",
      "1/1 [==============================] - 3s - loss: 1.6269 - acc: 0.5847\n",
      "Epoch 31/50\n",
      "1/1 [==============================] - 3s - loss: 1.6077 - acc: 0.5892\n",
      "Epoch 32/50\n",
      "1/1 [==============================] - 3s - loss: 1.5887 - acc: 0.5940\n",
      "Epoch 33/50\n",
      "1/1 [==============================] - 3s - loss: 1.5705 - acc: 0.5980\n",
      "Epoch 34/50\n",
      "1/1 [==============================] - 2s - loss: 1.5528 - acc: 0.6018\n",
      "Epoch 35/50\n",
      "1/1 [==============================] - 3s - loss: 1.5355 - acc: 0.6053\n",
      "Epoch 36/50\n",
      "1/1 [==============================] - 2s - loss: 1.5188 - acc: 0.6110\n",
      "Epoch 37/50\n",
      "1/1 [==============================] - 2s - loss: 1.5024 - acc: 0.6155\n",
      "Epoch 38/50\n",
      "1/1 [==============================] - 2s - loss: 1.4863 - acc: 0.6193\n",
      "Epoch 39/50\n",
      "1/1 [==============================] - 2s - loss: 1.4707 - acc: 0.6227\n",
      "Epoch 40/50\n",
      "1/1 [==============================] - 3s - loss: 1.4556 - acc: 0.6257\n",
      "Epoch 41/50\n",
      "1/1 [==============================] - 3s - loss: 1.4408 - acc: 0.6297\n",
      "Epoch 42/50\n",
      "1/1 [==============================] - 3s - loss: 1.4265 - acc: 0.6323\n",
      "Epoch 43/50\n",
      "1/1 [==============================] - 3s - loss: 1.4126 - acc: 0.6362\n",
      "Epoch 44/50\n",
      "1/1 [==============================] - 3s - loss: 1.3989 - acc: 0.6383\n",
      "Epoch 45/50\n",
      "1/1 [==============================] - 3s - loss: 1.3858 - acc: 0.6400\n",
      "Epoch 46/50\n",
      "1/1 [==============================] - 3s - loss: 1.3730 - acc: 0.6430\n",
      "Epoch 47/50\n",
      "1/1 [==============================] - 2s - loss: 1.3605 - acc: 0.6445\n",
      "Epoch 48/50\n",
      "1/1 [==============================] - 3s - loss: 1.3483 - acc: 0.6470\n",
      "Epoch 49/50\n",
      "1/1 [==============================] - 3s - loss: 1.3364 - acc: 0.6495\n",
      "Epoch 50/50\n",
      "1/1 [==============================] - 3s - loss: 1.3249 - acc: 0.6510\n"
     ]
    },
    {
     "data": {
      "text/plain": [
       "<keras.callbacks.History at 0x1278d7588>"
      ]
     },
     "execution_count": 5,
     "metadata": {},
     "output_type": "execute_result"
    }
   ],
   "source": [
    "model.fit(X1, Y1, batch_size=1, shuffle=False, epochs=50)"
   ]
  },
  {
   "cell_type": "markdown",
   "metadata": {
    "deletable": true,
    "editable": true
   },
   "source": [
    "## Question\n",
    "\n",
    "- List two downsides of using `model.fit(..., batch_size=1)` as opposed to `model.fit(..., batch_size=m)` where $m > 1$.\n",
    "\n",
    "## Answer\n",
    "\n",
    "- The gradient is noisier\n",
    "- Training takes many more epochs to minimize loss\n",
    "\n",
    "---\n",
    "\n",
    "# keras RNNs with `batch_size=100`\n",
    "\n",
    "## Question\n",
    "\n",
    "- What shape do you need to convert `X` to to make it compatible a with `SimpleRNN(..., batch_input_shape=[100, 60, 784])` layer?\n",
    "\n",
    "## Constraints\n",
    "\n",
    "- One batch must complete an entire epoch\n",
    "\n",
    "## Hints\n",
    "\n",
    "- A batch size of `100` means we effectively have `100` copies of our RNN each of which are being simulaneously unrolled on their respective portions of the original input sequence\n",
    "- The answer will be of shape `(batch_size, timesteps, 784)`\n",
    "\n",
    "## Answer\n",
    "\n",
    "- `(100, 60, 784)`\n",
    "\n",
    "## Task\n",
    "\n",
    "- Reshape `X` and `Y` and save them into new variables call `X100` and `Y100` respectively which satisfy the above requirement\n",
    "\n",
    "## Requirements\n",
    "\n",
    "- There must be no overlap between batches (i.e. each image can only appear in a single batch\n",
    "\n",
    "## Hint\n",
    "\n",
    "- The simplest way to achieve this is to split `X` into `100` different chunks with `numpy.split()`"
   ]
  },
  {
   "cell_type": "code",
   "execution_count": 6,
   "metadata": {
    "collapsed": false,
    "deletable": true,
    "editable": true
   },
   "outputs": [],
   "source": [
    "X100, Y100 = np.array(np.split(X, 100)), np.array(np.split(Y, 100))"
   ]
  },
  {
   "cell_type": "markdown",
   "metadata": {
    "deletable": true,
    "editable": true
   },
   "source": [
    "## Task\n",
    "\n",
    "- Define a RNN model compatible with `X100` and `Y100`\n",
    "\n",
    "## Requirement\n",
    "\n",
    "- You must specify\n",
    "\n",
    "```python\n",
    "SimpleRNN(..., return_sequences=True, batch_input_shape=[100, 60, 784])\n",
    "```\n",
    "\n",
    "as the first layer in your architecture."
   ]
  },
  {
   "cell_type": "code",
   "execution_count": 7,
   "metadata": {
    "collapsed": false,
    "deletable": true,
    "editable": true
   },
   "outputs": [
    {
     "name": "stdout",
     "output_type": "stream",
     "text": [
      "_________________________________________________________________\n",
      "Layer (type)                 Output Shape              Param #   \n",
      "=================================================================\n",
      "simple_rnn_2 (SimpleRNN)     (100, 60, 10)             7950      \n",
      "=================================================================\n",
      "Total params: 7,950.0\n",
      "Trainable params: 7,950\n",
      "Non-trainable params: 0.0\n",
      "_________________________________________________________________\n"
     ]
    }
   ],
   "source": [
    "from keras.models import Sequential\n",
    "from keras.layers import SimpleRNN, Dense\n",
    "\n",
    "model = Sequential()\n",
    "model.add(SimpleRNN(units=10, activation='softmax', return_sequences=True, batch_input_shape=[100, 60, 784]))\n",
    "model.compile(loss='categorical_crossentropy', optimizer='adam', metrics=['accuracy'])\n",
    "model.summary()"
   ]
  },
  {
   "cell_type": "markdown",
   "metadata": {
    "deletable": true,
    "editable": true
   },
   "source": [
    "## Task\n",
    "\n",
    "- Fit Your RNN Model on `X100` and `Y100`\n",
    "\n",
    "## Requirements\n",
    "\n",
    "- Run your model for `model.fit(..., batch_size=100, epochs=50)`"
   ]
  },
  {
   "cell_type": "code",
   "execution_count": 8,
   "metadata": {
    "collapsed": false,
    "deletable": true,
    "editable": true,
    "scrolled": true
   },
   "outputs": [
    {
     "name": "stdout",
     "output_type": "stream",
     "text": [
      "Epoch 1/50\n",
      "100/100 [==============================] - 0s - loss: 2.3688 - acc: 0.0763\n",
      "Epoch 2/50\n",
      "100/100 [==============================] - 0s - loss: 2.3218 - acc: 0.0938\n",
      "Epoch 3/50\n",
      "100/100 [==============================] - 0s - loss: 2.2780 - acc: 0.1273\n",
      "Epoch 4/50\n",
      "100/100 [==============================] - 0s - loss: 2.2369 - acc: 0.1697\n",
      "Epoch 5/50\n",
      "100/100 [==============================] - 0s - loss: 2.1984 - acc: 0.2152\n",
      "Epoch 6/50\n",
      "100/100 [==============================] - 0s - loss: 2.1621 - acc: 0.2478\n",
      "Epoch 7/50\n",
      "100/100 [==============================] - 0s - loss: 2.1276 - acc: 0.2750\n",
      "Epoch 8/50\n",
      "100/100 [==============================] - 0s - loss: 2.0946 - acc: 0.2983\n",
      "Epoch 9/50\n",
      "100/100 [==============================] - 0s - loss: 2.0629 - acc: 0.3230\n",
      "Epoch 10/50\n",
      "100/100 [==============================] - 0s - loss: 2.0323 - acc: 0.3448\n",
      "Epoch 11/50\n",
      "100/100 [==============================] - 0s - loss: 2.0025 - acc: 0.3623\n",
      "Epoch 12/50\n",
      "100/100 [==============================] - 0s - loss: 1.9735 - acc: 0.3875\n",
      "Epoch 13/50\n",
      "100/100 [==============================] - 0s - loss: 1.9452 - acc: 0.4102\n",
      "Epoch 14/50\n",
      "100/100 [==============================] - 0s - loss: 1.9176 - acc: 0.4317\n",
      "Epoch 15/50\n",
      "100/100 [==============================] - 0s - loss: 1.8906 - acc: 0.4558\n",
      "Epoch 16/50\n",
      "100/100 [==============================] - 0s - loss: 1.8642 - acc: 0.4768\n",
      "Epoch 17/50\n",
      "100/100 [==============================] - 0s - loss: 1.8382 - acc: 0.4967\n",
      "Epoch 18/50\n",
      "100/100 [==============================] - 0s - loss: 1.8130 - acc: 0.5140\n",
      "Epoch 19/50\n",
      "100/100 [==============================] - 0s - loss: 1.7884 - acc: 0.5257\n",
      "Epoch 20/50\n",
      "100/100 [==============================] - 0s - loss: 1.7645 - acc: 0.5402\n",
      "Epoch 21/50\n",
      "100/100 [==============================] - 0s - loss: 1.7411 - acc: 0.5530\n",
      "Epoch 22/50\n",
      "100/100 [==============================] - 0s - loss: 1.7180 - acc: 0.5653\n",
      "Epoch 23/50\n",
      "100/100 [==============================] - 0s - loss: 1.6957 - acc: 0.5757\n",
      "Epoch 24/50\n",
      "100/100 [==============================] - 0s - loss: 1.6739 - acc: 0.5830\n",
      "Epoch 25/50\n",
      "100/100 [==============================] - 0s - loss: 1.6527 - acc: 0.5907\n",
      "Epoch 26/50\n",
      "100/100 [==============================] - 0s - loss: 1.6320 - acc: 0.5967\n",
      "Epoch 27/50\n",
      "100/100 [==============================] - 0s - loss: 1.6118 - acc: 0.6040\n",
      "Epoch 28/50\n",
      "100/100 [==============================] - 0s - loss: 1.5921 - acc: 0.6108\n",
      "Epoch 29/50\n",
      "100/100 [==============================] - 0s - loss: 1.5730 - acc: 0.6135\n",
      "Epoch 30/50\n",
      "100/100 [==============================] - 0s - loss: 1.5543 - acc: 0.6175\n",
      "Epoch 31/50\n",
      "100/100 [==============================] - 0s - loss: 1.5360 - acc: 0.6235\n",
      "Epoch 32/50\n",
      "100/100 [==============================] - 0s - loss: 1.5185 - acc: 0.6267\n",
      "Epoch 33/50\n",
      "100/100 [==============================] - 0s - loss: 1.5014 - acc: 0.6302\n",
      "Epoch 34/50\n",
      "100/100 [==============================] - 0s - loss: 1.4848 - acc: 0.6342\n",
      "Epoch 35/50\n",
      "100/100 [==============================] - 0s - loss: 1.4687 - acc: 0.6380\n",
      "Epoch 36/50\n",
      "100/100 [==============================] - 0s - loss: 1.4531 - acc: 0.6410\n",
      "Epoch 37/50\n",
      "100/100 [==============================] - 0s - loss: 1.4379 - acc: 0.6437\n",
      "Epoch 38/50\n",
      "100/100 [==============================] - 0s - loss: 1.4232 - acc: 0.6447\n",
      "Epoch 39/50\n",
      "100/100 [==============================] - 0s - loss: 1.4089 - acc: 0.6475\n",
      "Epoch 40/50\n",
      "100/100 [==============================] - 0s - loss: 1.3948 - acc: 0.6498\n",
      "Epoch 41/50\n",
      "100/100 [==============================] - 0s - loss: 1.3812 - acc: 0.6527\n",
      "Epoch 42/50\n",
      "100/100 [==============================] - 0s - loss: 1.3681 - acc: 0.6552\n",
      "Epoch 43/50\n",
      "100/100 [==============================] - 0s - loss: 1.3552 - acc: 0.6573\n",
      "Epoch 44/50\n",
      "100/100 [==============================] - 0s - loss: 1.3428 - acc: 0.6590\n",
      "Epoch 45/50\n",
      "100/100 [==============================] - 0s - loss: 1.3307 - acc: 0.6615\n",
      "Epoch 46/50\n",
      "100/100 [==============================] - 0s - loss: 1.3189 - acc: 0.6633\n",
      "Epoch 47/50\n",
      "100/100 [==============================] - 0s - loss: 1.3074 - acc: 0.6648\n",
      "Epoch 48/50\n",
      "100/100 [==============================] - 0s - loss: 1.2962 - acc: 0.6660\n",
      "Epoch 49/50\n",
      "100/100 [==============================] - 0s - loss: 1.2854 - acc: 0.6683\n",
      "Epoch 50/50\n",
      "100/100 [==============================] - 0s - loss: 1.2748 - acc: 0.6705\n"
     ]
    },
    {
     "data": {
      "text/plain": [
       "<keras.callbacks.History at 0x128f18470>"
      ]
     },
     "execution_count": 8,
     "metadata": {},
     "output_type": "execute_result"
    }
   ],
   "source": [
    "model.fit(X100, Y100, batch_size=100, epochs=50)"
   ]
  },
  {
   "cell_type": "markdown",
   "metadata": {
    "deletable": true,
    "editable": true
   },
   "source": [
    "## Question\n",
    "\n",
    "- Describe the differences you see when optimizing on `(X100, Y100)` as opposed to `(X1, Y1)`.\n",
    "\n",
    "## Answer\n",
    "\n",
    "- Training is much faster\n",
    "\n",
    "## Task\n",
    "\n",
    "- Split up `X100` and `Y100` into variables `(X_train50, Y_train50)` and `(X_val50, Y_val50)` and re-fit your model with this validation data\n",
    "\n",
    "## Hints\n",
    "\n",
    "- `X_train50` and `Y_train50` have shape `(50, 60, 784)` and `(50, 60, 10)` respectively. Their validation counterparts follow similarly."
   ]
  },
  {
   "cell_type": "code",
   "execution_count": 9,
   "metadata": {
    "collapsed": true,
    "deletable": true,
    "editable": true
   },
   "outputs": [],
   "source": [
    "[X_train50, Y_train50], [X_val50, Y_val50] = (X100[:50], Y100[:50]), (X100[50:], Y100[50:])"
   ]
  },
  {
   "cell_type": "markdown",
   "metadata": {
    "deletable": true,
    "editable": true
   },
   "source": [
    "## Task\n",
    "\n",
    "- Modify your keras model to make it compatible with `(X_train50, Y_train50)` and `(X_val50, Y_val50)`\n",
    "\n",
    "## Hints\n",
    "\n",
    "- Re-instantiate your model with `SimpleRNN(..., batch_input_shape=[50, 60, 784])`"
   ]
  },
  {
   "cell_type": "code",
   "execution_count": 10,
   "metadata": {
    "collapsed": false,
    "deletable": true,
    "editable": true
   },
   "outputs": [
    {
     "name": "stdout",
     "output_type": "stream",
     "text": [
      "_________________________________________________________________\n",
      "Layer (type)                 Output Shape              Param #   \n",
      "=================================================================\n",
      "simple_rnn_3 (SimpleRNN)     (50, 60, 10)              7950      \n",
      "=================================================================\n",
      "Total params: 7,950.0\n",
      "Trainable params: 7,950\n",
      "Non-trainable params: 0.0\n",
      "_________________________________________________________________\n"
     ]
    }
   ],
   "source": [
    "from keras.models import Sequential\n",
    "from keras.layers import SimpleRNN, Dense\n",
    "\n",
    "model = Sequential()\n",
    "model.add(SimpleRNN(units=10, activation='softmax', return_sequences=True, batch_input_shape=[50, 60, 784]))\n",
    "model.compile(loss='categorical_crossentropy', optimizer='adam', metrics=['accuracy'])\n",
    "model.summary()"
   ]
  },
  {
   "cell_type": "markdown",
   "metadata": {
    "deletable": true,
    "editable": true
   },
   "source": [
    "## Question\n",
    "\n",
    "- Why did we choose `50` for our new batch size?\n",
    "\n",
    "## Answer\n",
    "\n",
    "- The train and validation sets need to have the same number of samples because the batch size is hard-coded into the definition of the architecture\n",
    "\n",
    "## Task\n",
    "\n",
    "- Refit your model with `(X_train50, Y_train50)` and `(X_val50, Y_val50)`\n",
    "\n",
    "## Hints\n",
    "\n",
    "- Make sure to call `model.fit(..., batch_size=50)`"
   ]
  },
  {
   "cell_type": "code",
   "execution_count": 11,
   "metadata": {
    "collapsed": false,
    "deletable": true,
    "editable": true,
    "scrolled": true
   },
   "outputs": [
    {
     "name": "stdout",
     "output_type": "stream",
     "text": [
      "Train on 50 samples, validate on 50 samples\n",
      "Epoch 1/50\n",
      "50/50 [==============================] - 0s - loss: 2.4069 - acc: 0.0840 - val_loss: 2.3304 - val_acc: 0.1083\n",
      "Epoch 2/50\n",
      "50/50 [==============================] - 0s - loss: 2.3490 - acc: 0.0933 - val_loss: 2.2891 - val_acc: 0.1220\n",
      "Epoch 3/50\n",
      "50/50 [==============================] - 0s - loss: 2.2958 - acc: 0.1130 - val_loss: 2.2514 - val_acc: 0.1497\n",
      "Epoch 4/50\n",
      "50/50 [==============================] - 0s - loss: 2.2471 - acc: 0.1390 - val_loss: 2.2188 - val_acc: 0.1830\n",
      "Epoch 5/50\n",
      "50/50 [==============================] - 0s - loss: 2.2050 - acc: 0.1830 - val_loss: 2.1879 - val_acc: 0.2163\n",
      "Epoch 6/50\n",
      "50/50 [==============================] - 0s - loss: 2.1654 - acc: 0.2240 - val_loss: 2.1578 - val_acc: 0.2400\n",
      "Epoch 7/50\n",
      "50/50 [==============================] - 0s - loss: 2.1271 - acc: 0.2680 - val_loss: 2.1293 - val_acc: 0.2547\n",
      "Epoch 8/50\n",
      "50/50 [==============================] - 0s - loss: 2.0914 - acc: 0.2900 - val_loss: 2.1021 - val_acc: 0.2653\n",
      "Epoch 9/50\n",
      "50/50 [==============================] - 0s - loss: 2.0578 - acc: 0.3060 - val_loss: 2.0760 - val_acc: 0.2727\n",
      "Epoch 10/50\n",
      "50/50 [==============================] - 0s - loss: 2.0261 - acc: 0.3127 - val_loss: 2.0507 - val_acc: 0.2820\n",
      "Epoch 11/50\n",
      "50/50 [==============================] - 0s - loss: 1.9959 - acc: 0.3240 - val_loss: 2.0259 - val_acc: 0.2907\n",
      "Epoch 12/50\n",
      "50/50 [==============================] - 0s - loss: 1.9669 - acc: 0.3380 - val_loss: 2.0015 - val_acc: 0.2983\n",
      "Epoch 13/50\n",
      "50/50 [==============================] - 0s - loss: 1.9389 - acc: 0.3487 - val_loss: 1.9773 - val_acc: 0.3063\n",
      "Epoch 14/50\n",
      "50/50 [==============================] - 0s - loss: 1.9117 - acc: 0.3620 - val_loss: 1.9532 - val_acc: 0.3240\n",
      "Epoch 15/50\n",
      "50/50 [==============================] - 0s - loss: 1.8850 - acc: 0.3790 - val_loss: 1.9291 - val_acc: 0.3397\n",
      "Epoch 16/50\n",
      "50/50 [==============================] - 0s - loss: 1.8587 - acc: 0.3947 - val_loss: 1.9050 - val_acc: 0.3577\n",
      "Epoch 17/50\n",
      "50/50 [==============================] - 0s - loss: 1.8327 - acc: 0.4120 - val_loss: 1.8809 - val_acc: 0.3820\n",
      "Epoch 18/50\n",
      "50/50 [==============================] - 0s - loss: 1.8071 - acc: 0.4303 - val_loss: 1.8568 - val_acc: 0.4057\n",
      "Epoch 19/50\n",
      "50/50 [==============================] - 0s - loss: 1.7817 - acc: 0.4567 - val_loss: 1.8329 - val_acc: 0.4297\n",
      "Epoch 20/50\n",
      "50/50 [==============================] - 0s - loss: 1.7567 - acc: 0.4810 - val_loss: 1.8093 - val_acc: 0.4587\n",
      "Epoch 21/50\n",
      "50/50 [==============================] - 0s - loss: 1.7321 - acc: 0.5073 - val_loss: 1.7860 - val_acc: 0.4760\n",
      "Epoch 22/50\n",
      "50/50 [==============================] - 0s - loss: 1.7080 - acc: 0.5280 - val_loss: 1.7631 - val_acc: 0.4997\n",
      "Epoch 23/50\n",
      "50/50 [==============================] - 0s - loss: 1.6844 - acc: 0.5530 - val_loss: 1.7407 - val_acc: 0.5193\n",
      "Epoch 24/50\n",
      "50/50 [==============================] - 0s - loss: 1.6613 - acc: 0.5720 - val_loss: 1.7189 - val_acc: 0.5363\n",
      "Epoch 25/50\n",
      "50/50 [==============================] - 0s - loss: 1.6390 - acc: 0.5890 - val_loss: 1.6978 - val_acc: 0.5520\n",
      "Epoch 26/50\n",
      "50/50 [==============================] - 0s - loss: 1.6172 - acc: 0.6083 - val_loss: 1.6773 - val_acc: 0.5673\n",
      "Epoch 27/50\n",
      "50/50 [==============================] - 0s - loss: 1.5962 - acc: 0.6227 - val_loss: 1.6575 - val_acc: 0.5793\n",
      "Epoch 28/50\n",
      "50/50 [==============================] - 0s - loss: 1.5758 - acc: 0.6333 - val_loss: 1.6383 - val_acc: 0.5883\n",
      "Epoch 29/50\n",
      "50/50 [==============================] - 0s - loss: 1.5559 - acc: 0.6430 - val_loss: 1.6198 - val_acc: 0.5967\n",
      "Epoch 30/50\n",
      "50/50 [==============================] - 0s - loss: 1.5367 - acc: 0.6497 - val_loss: 1.6018 - val_acc: 0.6013\n",
      "Epoch 31/50\n",
      "50/50 [==============================] - 0s - loss: 1.5180 - acc: 0.6560 - val_loss: 1.5844 - val_acc: 0.6083\n",
      "Epoch 32/50\n",
      "50/50 [==============================] - 0s - loss: 1.4999 - acc: 0.6617 - val_loss: 1.5676 - val_acc: 0.6137\n",
      "Epoch 33/50\n",
      "50/50 [==============================] - 0s - loss: 1.4822 - acc: 0.6650 - val_loss: 1.5513 - val_acc: 0.6170\n",
      "Epoch 34/50\n",
      "50/50 [==============================] - 0s - loss: 1.4649 - acc: 0.6667 - val_loss: 1.5355 - val_acc: 0.6213\n",
      "Epoch 35/50\n",
      "50/50 [==============================] - 0s - loss: 1.4481 - acc: 0.6697 - val_loss: 1.5202 - val_acc: 0.6253\n",
      "Epoch 36/50\n",
      "50/50 [==============================] - 0s - loss: 1.4318 - acc: 0.6730 - val_loss: 1.5054 - val_acc: 0.6277\n",
      "Epoch 37/50\n",
      "50/50 [==============================] - 0s - loss: 1.4158 - acc: 0.6757 - val_loss: 1.4911 - val_acc: 0.6293\n",
      "Epoch 38/50\n",
      "50/50 [==============================] - 0s - loss: 1.4002 - acc: 0.6757 - val_loss: 1.4773 - val_acc: 0.6303\n",
      "Epoch 39/50\n",
      "50/50 [==============================] - 0s - loss: 1.3851 - acc: 0.6763 - val_loss: 1.4639 - val_acc: 0.6323\n",
      "Epoch 40/50\n",
      "50/50 [==============================] - 0s - loss: 1.3704 - acc: 0.6783 - val_loss: 1.4510 - val_acc: 0.6350\n",
      "Epoch 41/50\n",
      "50/50 [==============================] - 0s - loss: 1.3560 - acc: 0.6807 - val_loss: 1.4384 - val_acc: 0.6370\n",
      "Epoch 42/50\n",
      "50/50 [==============================] - 0s - loss: 1.3421 - acc: 0.6820 - val_loss: 1.4263 - val_acc: 0.6383\n",
      "Epoch 43/50\n",
      "50/50 [==============================] - 0s - loss: 1.3286 - acc: 0.6817 - val_loss: 1.4146 - val_acc: 0.6390\n",
      "Epoch 44/50\n",
      "50/50 [==============================] - 0s - loss: 1.3154 - acc: 0.6843 - val_loss: 1.4032 - val_acc: 0.6387\n",
      "Epoch 45/50\n",
      "50/50 [==============================] - 0s - loss: 1.3026 - acc: 0.6867 - val_loss: 1.3921 - val_acc: 0.6407\n",
      "Epoch 46/50\n",
      "50/50 [==============================] - 0s - loss: 1.2901 - acc: 0.6887 - val_loss: 1.3813 - val_acc: 0.6413\n",
      "Epoch 47/50\n",
      "50/50 [==============================] - 0s - loss: 1.2780 - acc: 0.6880 - val_loss: 1.3709 - val_acc: 0.6427\n",
      "Epoch 48/50\n",
      "50/50 [==============================] - 0s - loss: 1.2662 - acc: 0.6883 - val_loss: 1.3606 - val_acc: 0.6437\n",
      "Epoch 49/50\n",
      "50/50 [==============================] - 0s - loss: 1.2547 - acc: 0.6890 - val_loss: 1.3507 - val_acc: 0.6437\n",
      "Epoch 50/50\n",
      "50/50 [==============================] - 0s - loss: 1.2435 - acc: 0.6917 - val_loss: 1.3409 - val_acc: 0.6440\n"
     ]
    },
    {
     "data": {
      "text/plain": [
       "<keras.callbacks.History at 0x12a8f35c0>"
      ]
     },
     "execution_count": 11,
     "metadata": {},
     "output_type": "execute_result"
    }
   ],
   "source": [
    "model.fit(X_train50, Y_train50, validation_data=(X_val50, Y_val50), batch_size=50, epochs=50)"
   ]
  },
  {
   "cell_type": "markdown",
   "metadata": {
    "deletable": true,
    "editable": true
   },
   "source": [
    "## Task\n",
    "\n",
    "- Design and optimize a recurrent neural network to maximize validation accuracy on `(X_val50, Y_val50)`\n",
    "\n",
    "## Hints\n",
    "\n",
    "- Stack multiple recurrent layers\n",
    "- Use a convolutional layer between the recurrent layers and the image\n",
    "\n",
    "## Requirements\n",
    "\n",
    "- The only recurrent layer you can use is SimpleRNN"
   ]
  },
  {
   "cell_type": "code",
   "execution_count": null,
   "metadata": {
    "collapsed": true,
    "deletable": true,
    "editable": true
   },
   "outputs": [],
   "source": []
  },
  {
   "cell_type": "markdown",
   "metadata": {
    "deletable": true,
    "editable": true
   },
   "source": [
    "# Bonus Activities\n",
    "\n",
    "- Use more than one batch per epoch with keras stateful RNNs\n",
    "- Use overlapping windows instead of disjoint windows in each batch\n",
    "- Monitor gradients during training with tensorboard"
   ]
  }
 ],
 "metadata": {
  "kernelspec": {
   "display_name": "Python 3",
   "language": "python",
   "name": "python3"
  },
  "language_info": {
   "codemirror_mode": {
    "name": "ipython",
    "version": 3
   },
   "file_extension": ".py",
   "mimetype": "text/x-python",
   "name": "python",
   "nbconvert_exporter": "python",
   "pygments_lexer": "ipython3",
   "version": "3.6.1"
  }
 },
 "nbformat": 4,
 "nbformat_minor": 2
}
