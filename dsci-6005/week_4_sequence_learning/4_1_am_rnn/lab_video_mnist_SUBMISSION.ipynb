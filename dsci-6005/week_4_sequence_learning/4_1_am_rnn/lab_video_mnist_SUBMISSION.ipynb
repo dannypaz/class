{
 "cells": [
  {
   "cell_type": "markdown",
   "metadata": {
    "deletable": true,
    "editable": true
   },
   "source": [
    "# Recurrent Neural Network Video MNIST Lab\n",
    "\n",
    "By the end of this lab you will have\n",
    "\n",
    "- Defined and trained a recurrent neural network with keras to perform video frame prediction with `batch_size=1`\n",
    "- Defined and trained a recurrent neural network with keras to perform video frame prediction with `batch_size=100`\n",
    "- Evaluated hyperparameters with a validation set\n",
    "- Defined and trained a recurrent neural network with keras to perform **accurate** video frame prediction\n",
    "\n",
    "Let's get started!\n",
    "\n",
    "The mnist video dataset is courtesty of github user [despoisj](https://github.com/despoisj) and his/her [LatentSpaceVisualization]( https://github.com/despoisj/LatentSpaceVisualization) project.\n",
    "\n",
    "---\n",
    "\n",
    "# Load Data\n",
    "\n",
    "The following code loads in the mnist video dataset and displays the first ten samples."
   ]
  },
  {
   "cell_type": "code",
   "execution_count": 1,
   "metadata": {
    "collapsed": false,
    "deletable": true,
    "editable": true,
    "scrolled": false
   },
   "outputs": [
    {
     "name": "stdout",
     "output_type": "stream",
     "text": [
      "4\n"
     ]
    },
    {
     "data": {
      "image/png": "[encoded data removed]",
      "text/plain": [
       "<PIL.Image.Image image mode=L size=50x50 at 0x10CADB358>"
      ]
     },
     "metadata": {},
     "output_type": "display_data"
    },
    {
     "name": "stdout",
     "output_type": "stream",
     "text": [
      "4\n"
     ]
    },
    {
     "data": {
      "image/png": "[encoded data removed]",
      "text/plain": [
       "<PIL.Image.Image image mode=L size=50x50 at 0x10D098828>"
      ]
     },
     "metadata": {},
     "output_type": "display_data"
    },
    {
     "name": "stdout",
     "output_type": "stream",
     "text": [
      "4\n"
     ]
    },
    {
     "data": {
      "image/png": "[encoded data removed]",
      "text/plain": [
       "<PIL.Image.Image image mode=L size=50x50 at 0x10D010898>"
      ]
     },
     "metadata": {},
     "output_type": "display_data"
    },
    {
     "name": "stdout",
     "output_type": "stream",
     "text": [
      "7\n"
     ]
    },
    {
     "data": {
      "image/png": "[encoded data removed]",
      "text/plain": [
       "<PIL.Image.Image image mode=L size=50x50 at 0x10D0109B0>"
      ]
     },
     "metadata": {},
     "output_type": "display_data"
    },
    {
     "name": "stdout",
     "output_type": "stream",
     "text": [
      "7\n"
     ]
    },
    {
     "data": {
      "image/png": "[encoded data removed]",
      "text/plain": [
       "<PIL.Image.Image image mode=L size=50x50 at 0x10D010860>"
      ]
     },
     "metadata": {},
     "output_type": "display_data"
    },
    {
     "name": "stdout",
     "output_type": "stream",
     "text": [
      "7\n"
     ]
    },
    {
     "data": {
      "image/png": "[encoded data removed]",
      "text/plain": [
       "<PIL.Image.Image image mode=L size=50x50 at 0x10D010D30>"
      ]
     },
     "metadata": {},
     "output_type": "display_data"
    },
    {
     "name": "stdout",
     "output_type": "stream",
     "text": [
      "7\n"
     ]
    },
    {
     "data": {
      "image/png": "[encoded data removed]",
      "text/plain": [
       "<PIL.Image.Image image mode=L size=50x50 at 0x10D010D68>"
      ]
     },
     "metadata": {},
     "output_type": "display_data"
    },
    {
     "name": "stdout",
     "output_type": "stream",
     "text": [
      "7\n"
     ]
    },
    {
     "data": {
      "image/png": "[encoded data removed]",
      "text/plain": [
       "<PIL.Image.Image image mode=L size=50x50 at 0x10D08DC88>"
      ]
     },
     "metadata": {},
     "output_type": "display_data"
    },
    {
     "name": "stdout",
     "output_type": "stream",
     "text": [
      "7\n"
     ]
    },
    {
     "data": {
      "image/png": "[encoded data removed]",
      "text/plain": [
       "<PIL.Image.Image image mode=L size=50x50 at 0x10D08DD30>"
      ]
     },
     "metadata": {},
     "output_type": "display_data"
    },
    {
     "name": "stdout",
     "output_type": "stream",
     "text": [
      "5\n"
     ]
    },
    {
     "data": {
      "image/png": "[encoded data removed]",
      "text/plain": [
       "<PIL.Image.Image image mode=L size=50x50 at 0x10D0A6198>"
      ]
     },
     "metadata": {},
     "output_type": "display_data"
    }
   ],
   "source": [
    "from IPython.display import display\n",
    "import pickle\n",
    "\n",
    "[imgs, y] = pickle.load(open('LatentSpaceVisualization/Visuals/mnist_transitions.p', 'rb'))\n",
    "for img, y_ in zip(imgs[:10], y[:10]):\n",
    "    print(y_)\n",
    "    display(img)"
   ]
  },
  {
   "cell_type": "markdown",
   "metadata": {
    "deletable": true,
    "editable": true
   },
   "source": [
    "# Flatten Images\n",
    "\n",
    "The following code resizes each image to `(28, 28)` and normalizes the pixel intensities and converts `y` to a categorical representation."
   ]
  },
  {
   "cell_type": "code",
   "execution_count": 17,
   "metadata": {
    "collapsed": false,
    "deletable": true,
    "editable": true
   },
   "outputs": [
    {
     "data": {
      "text/plain": [
       "((6000, 784), (6000, 10))"
      ]
     },
     "execution_count": 17,
     "metadata": {},
     "output_type": "execute_result"
    }
   ],
   "source": [
    "import numpy as np\n",
    "from keras.preprocessing.image import img_to_array\n",
    "from keras.utils.np_utils import to_categorical\n",
    "\n",
    "imgs = [img.resize(size=[28, 28]) for img in imgs]\n",
    "X = np.array([img_to_array(img).flatten() for img in imgs]) / 255.\n",
    "Y = to_categorical(y)\n",
    "\n",
    "X.shape, Y.shape"
   ]
  },
  {
   "cell_type": "code",
   "execution_count": 18,
   "metadata": {
    "collapsed": false
   },
   "outputs": [
    {
     "data": {
      "text/plain": [
       "array([ 0.,  0.,  0.,  0.,  1.,  0.,  0.,  0.,  0.,  0.])"
      ]
     },
     "execution_count": 18,
     "metadata": {},
     "output_type": "execute_result"
    }
   ],
   "source": [
    "Y[0] # one hot encoding"
   ]
  },
  {
   "cell_type": "code",
   "execution_count": null,
   "metadata": {
    "collapsed": true
   },
   "outputs": [],
   "source": []
  },
  {
   "cell_type": "markdown",
   "metadata": {
    "deletable": true,
    "editable": true
   },
   "source": [
    "# keras RNNs with `batch_size=1`\n",
    "\n",
    "## Question\n",
    "\n",
    "- What shape do you need to convert `X` to to make it compatible a with `SimpleRNN(..., batch_input_shape=[1, 6000, 784])` layer?\n",
    "\n",
    "## Hints\n",
    "\n",
    "- This is the most quick-and-dirty way to make `X` and `Y` compatible with a keras recurrent layer"
   ]
  },
  {
   "cell_type": "code",
   "execution_count": 19,
   "metadata": {
    "collapsed": true,
    "deletable": true,
    "editable": true
   },
   "outputs": [],
   "source": [
    "# You need to reshape X to be a three dimensional tensor"
   ]
  },
  {
   "cell_type": "code",
   "execution_count": 20,
   "metadata": {
    "collapsed": true
   },
   "outputs": [],
   "source": [
    "X1 = X.reshape(1,6000,784)"
   ]
  },
  {
   "cell_type": "code",
   "execution_count": 22,
   "metadata": {
    "collapsed": false
   },
   "outputs": [
    {
     "data": {
      "text/plain": [
       "(1, 6000, 784)"
      ]
     },
     "execution_count": 22,
     "metadata": {},
     "output_type": "execute_result"
    }
   ],
   "source": [
    "X1.shape"
   ]
  },
  {
   "cell_type": "code",
   "execution_count": null,
   "metadata": {
    "collapsed": true
   },
   "outputs": [],
   "source": []
  },
  {
   "cell_type": "markdown",
   "metadata": {
    "deletable": true,
    "editable": true
   },
   "source": [
    "## Question\n",
    "\n",
    "- How about `Y`?\n",
    "\n",
    "## Hint\n",
    "\n",
    "- The shape for the transformed `Y` is identical to the shape for the transformed `X` but for one dimension"
   ]
  },
  {
   "cell_type": "code",
   "execution_count": null,
   "metadata": {
    "collapsed": true
   },
   "outputs": [],
   "source": [
    "#  each Y needs to be a row vector"
   ]
  },
  {
   "cell_type": "code",
   "execution_count": 67,
   "metadata": {
    "collapsed": false
   },
   "outputs": [],
   "source": [
    "Y1 = Y.reshape(1,6000,10)"
   ]
  },
  {
   "cell_type": "code",
   "execution_count": 68,
   "metadata": {
    "collapsed": false
   },
   "outputs": [
    {
     "data": {
      "text/plain": [
       "(1, 6000, 10)"
      ]
     },
     "execution_count": 68,
     "metadata": {},
     "output_type": "execute_result"
    }
   ],
   "source": [
    "Y1.shape"
   ]
  },
  {
   "cell_type": "code",
   "execution_count": 69,
   "metadata": {
    "collapsed": false
   },
   "outputs": [
    {
     "data": {
      "text/plain": [
       "(6000, 10)"
      ]
     },
     "execution_count": 69,
     "metadata": {},
     "output_type": "execute_result"
    }
   ],
   "source": [
    "Y1[0].shape"
   ]
  },
  {
   "cell_type": "code",
   "execution_count": 70,
   "metadata": {
    "collapsed": false
   },
   "outputs": [
    {
     "data": {
      "text/plain": [
       "array([[ 0.,  0.,  0., ...,  0.,  0.,  0.],\n",
       "       [ 0.,  0.,  0., ...,  0.,  0.,  0.],\n",
       "       [ 0.,  0.,  0., ...,  0.,  0.,  0.],\n",
       "       ..., \n",
       "       [ 1.,  0.,  0., ...,  0.,  0.,  0.],\n",
       "       [ 1.,  0.,  0., ...,  0.,  0.,  0.],\n",
       "       [ 1.,  0.,  0., ...,  0.,  0.,  0.]])"
      ]
     },
     "execution_count": 70,
     "metadata": {},
     "output_type": "execute_result"
    }
   ],
   "source": [
    "Y1[0]"
   ]
  },
  {
   "cell_type": "code",
   "execution_count": null,
   "metadata": {
    "collapsed": true
   },
   "outputs": [],
   "source": []
  },
  {
   "cell_type": "markdown",
   "metadata": {
    "deletable": true,
    "editable": true
   },
   "source": [
    "## Task\n",
    "\n",
    "- Reshape `X` and `Y` and save them into new variables call `X1` and `Y1` respectively which satisfy the above requirement"
   ]
  },
  {
   "cell_type": "code",
   "execution_count": null,
   "metadata": {
    "collapsed": false,
    "deletable": true,
    "editable": true
   },
   "outputs": [],
   "source": []
  },
  {
   "cell_type": "markdown",
   "metadata": {
    "deletable": true,
    "editable": true
   },
   "source": [
    "## Task\n",
    "\n",
    "- Define a keras RNN model compatible with `X1` and `Y1`\n",
    "\n",
    "## Requirement\n",
    "\n",
    "- You must specify\n",
    "\n",
    "```python\n",
    "SimpleRNN(..., return_sequences=True, batch_input_shape=[1, 6000, 784])\n",
    "```\n",
    "\n",
    "as the first layer in your architecture."
   ]
  },
  {
   "cell_type": "code",
   "execution_count": 110,
   "metadata": {
    "collapsed": false,
    "deletable": true,
    "editable": true
   },
   "outputs": [],
   "source": [
    "from keras.layers import SimpleRNN, TimeDistributed, Dense\n",
    "from keras.models import Sequential"
   ]
  },
  {
   "cell_type": "code",
   "execution_count": 167,
   "metadata": {
    "collapsed": true
   },
   "outputs": [],
   "source": [
    "model = Sequential()"
   ]
  },
  {
   "cell_type": "code",
   "execution_count": 168,
   "metadata": {
    "collapsed": false
   },
   "outputs": [],
   "source": [
    "model.add(SimpleRNN(units=10, batch_input_shape=(1, 6000, 784), activation='relu', return_sequences=True))"
   ]
  },
  {
   "cell_type": "code",
   "execution_count": 169,
   "metadata": {
    "collapsed": false
   },
   "outputs": [],
   "source": [
    "model.add(TimeDistributed(Dense(units=10, activation='softmax')))"
   ]
  },
  {
   "cell_type": "code",
   "execution_count": 170,
   "metadata": {
    "collapsed": false
   },
   "outputs": [],
   "source": [
    "model.compile(optimizer='adam',loss='categorical_crossentropy',metrics=['accuracy'])"
   ]
  },
  {
   "cell_type": "code",
   "execution_count": 171,
   "metadata": {
    "collapsed": false
   },
   "outputs": [
    {
     "name": "stdout",
     "output_type": "stream",
     "text": [
      "_________________________________________________________________\n",
      "Layer (type)                 Output Shape              Param #   \n",
      "=================================================================\n",
      "simple_rnn_13 (SimpleRNN)    (1, 6000, 10)             7950      \n",
      "_________________________________________________________________\n",
      "time_distributed_7 (TimeDist (1, 6000, 10)             110       \n",
      "=================================================================\n",
      "Total params: 8,060.0\n",
      "Trainable params: 8,060\n",
      "Non-trainable params: 0.0\n",
      "_________________________________________________________________\n"
     ]
    }
   ],
   "source": [
    "model.summary()"
   ]
  },
  {
   "cell_type": "code",
   "execution_count": null,
   "metadata": {
    "collapsed": true
   },
   "outputs": [],
   "source": []
  },
  {
   "cell_type": "markdown",
   "metadata": {
    "deletable": true,
    "editable": true
   },
   "source": [
    "## Task\n",
    "\n",
    "- Fit your RNN model on `X1` and `Y1`\n",
    "\n",
    "## Requirement\n",
    "\n",
    "- Fit your model with `model.fit(..., batch_size=1, shuffle=False, epochs=50)`"
   ]
  },
  {
   "cell_type": "code",
   "execution_count": 172,
   "metadata": {
    "collapsed": false
   },
   "outputs": [
    {
     "data": {
      "text/plain": [
       "(1, 6000, 784)"
      ]
     },
     "execution_count": 172,
     "metadata": {},
     "output_type": "execute_result"
    }
   ],
   "source": [
    "X1.shape"
   ]
  },
  {
   "cell_type": "code",
   "execution_count": 173,
   "metadata": {
    "collapsed": false
   },
   "outputs": [
    {
     "data": {
      "text/plain": [
       "(1, 6000, 10)"
      ]
     },
     "execution_count": 173,
     "metadata": {},
     "output_type": "execute_result"
    }
   ],
   "source": [
    "Y1.shape"
   ]
  },
  {
   "cell_type": "code",
   "execution_count": 174,
   "metadata": {
    "collapsed": true
   },
   "outputs": [],
   "source": [
    "X_test = X1[:,5000:,:]"
   ]
  },
  {
   "cell_type": "code",
   "execution_count": 175,
   "metadata": {
    "collapsed": true
   },
   "outputs": [],
   "source": [
    "y_test = Y1[:,5000:,:]"
   ]
  },
  {
   "cell_type": "code",
   "execution_count": 176,
   "metadata": {
    "collapsed": true
   },
   "outputs": [],
   "source": [
    "X_train = X1[:,:5000,:]\n",
    "y_train = Y1[:,:5000,:]"
   ]
  },
  {
   "cell_type": "code",
   "execution_count": 177,
   "metadata": {
    "collapsed": false
   },
   "outputs": [
    {
     "data": {
      "text/plain": [
       "(1, 5000, 784)"
      ]
     },
     "execution_count": 177,
     "metadata": {},
     "output_type": "execute_result"
    }
   ],
   "source": [
    "X_train .shape"
   ]
  },
  {
   "cell_type": "code",
   "execution_count": 178,
   "metadata": {
    "collapsed": false
   },
   "outputs": [
    {
     "data": {
      "text/plain": [
       "(1, 5000, 10)"
      ]
     },
     "execution_count": 178,
     "metadata": {},
     "output_type": "execute_result"
    }
   ],
   "source": [
    "y_train.shape"
   ]
  },
  {
   "cell_type": "code",
   "execution_count": 179,
   "metadata": {
    "collapsed": false,
    "deletable": true,
    "editable": true
   },
   "outputs": [],
   "source": [
    "#model.fit(X_train, y_train, batch_size=1, shuffle=False, epochs = 50, validation_data=[X_test,y_test])"
   ]
  },
  {
   "cell_type": "code",
   "execution_count": 180,
   "metadata": {
    "collapsed": false
   },
   "outputs": [
    {
     "name": "stdout",
     "output_type": "stream",
     "text": [
      "Epoch 1/50\n",
      "1/1 [==============================] - 7s - loss: 2.4026 - acc: 0.1142\n",
      "Epoch 2/50\n",
      "1/1 [==============================] - 5s - loss: 2.3287 - acc: 0.1223\n",
      "Epoch 3/50\n",
      "1/1 [==============================] - 5s - loss: 2.3113 - acc: 0.1355\n",
      "Epoch 4/50\n",
      "1/1 [==============================] - 5s - loss: 2.2988 - acc: 0.1442\n",
      "Epoch 5/50\n",
      "1/1 [==============================] - 5s - loss: 2.2881 - acc: 0.1533\n",
      "Epoch 6/50\n",
      "1/1 [==============================] - 5s - loss: 2.2779 - acc: 0.1648\n",
      "Epoch 7/50\n",
      "1/1 [==============================] - 5s - loss: 2.2682 - acc: 0.1733\n",
      "Epoch 8/50\n",
      "1/1 [==============================] - 6s - loss: 2.2587 - acc: 0.1830\n",
      "Epoch 9/50\n",
      "1/1 [==============================] - 5s - loss: 2.2495 - acc: 0.1928\n",
      "Epoch 10/50\n",
      "1/1 [==============================] - 5s - loss: 2.2407 - acc: 0.1970\n",
      "Epoch 11/50\n",
      "1/1 [==============================] - 5s - loss: 2.2323 - acc: 0.2020\n",
      "Epoch 12/50\n",
      "1/1 [==============================] - 5s - loss: 2.2240 - acc: 0.2072\n",
      "Epoch 13/50\n",
      "1/1 [==============================] - 5s - loss: 2.2154 - acc: 0.2103\n",
      "Epoch 14/50\n",
      "1/1 [==============================] - 5s - loss: 2.2067 - acc: 0.2157\n",
      "Epoch 15/50\n",
      "1/1 [==============================] - 5s - loss: 2.1979 - acc: 0.2203\n",
      "Epoch 16/50\n",
      "1/1 [==============================] - 6s - loss: 2.1891 - acc: 0.2257\n",
      "Epoch 17/50\n",
      "1/1 [==============================] - 5s - loss: 2.1805 - acc: 0.2312\n",
      "Epoch 18/50\n",
      "1/1 [==============================] - 5s - loss: 2.1721 - acc: 0.2365\n",
      "Epoch 19/50\n",
      "1/1 [==============================] - 5s - loss: 2.1640 - acc: 0.2398\n",
      "Epoch 20/50\n",
      "1/1 [==============================] - 6s - loss: 2.1560 - acc: 0.2418\n",
      "Epoch 21/50\n",
      "1/1 [==============================] - 5s - loss: 2.1482 - acc: 0.2445\n",
      "Epoch 22/50\n",
      "1/1 [==============================] - 5s - loss: 2.1406 - acc: 0.2468\n",
      "Epoch 23/50\n",
      "1/1 [==============================] - 5s - loss: 2.1332 - acc: 0.2488\n",
      "Epoch 24/50\n",
      "1/1 [==============================] - 6s - loss: 2.1260 - acc: 0.2510\n",
      "Epoch 25/50\n",
      "1/1 [==============================] - 6s - loss: 2.1189 - acc: 0.2520\n",
      "Epoch 26/50\n",
      "1/1 [==============================] - 6s - loss: 2.1119 - acc: 0.2528\n",
      "Epoch 27/50\n",
      "1/1 [==============================] - 5s - loss: 2.1050 - acc: 0.2537\n",
      "Epoch 28/50\n",
      "1/1 [==============================] - 5s - loss: 2.0982 - acc: 0.2552\n",
      "Epoch 29/50\n",
      "1/1 [==============================] - 5s - loss: 2.0913 - acc: 0.2560\n",
      "Epoch 30/50\n",
      "1/1 [==============================] - 5s - loss: 2.0845 - acc: 0.2575\n",
      "Epoch 31/50\n",
      "1/1 [==============================] - 5s - loss: 2.0778 - acc: 0.2588\n",
      "Epoch 32/50\n",
      "1/1 [==============================] - 5s - loss: 2.0711 - acc: 0.2613\n",
      "Epoch 33/50\n",
      "1/1 [==============================] - 5s - loss: 2.0645 - acc: 0.2633\n",
      "Epoch 34/50\n",
      "1/1 [==============================] - 5s - loss: 2.0579 - acc: 0.2635\n",
      "Epoch 35/50\n",
      "1/1 [==============================] - 5s - loss: 2.0513 - acc: 0.2648\n",
      "Epoch 36/50\n",
      "1/1 [==============================] - 6s - loss: 2.0447 - acc: 0.2662\n",
      "Epoch 37/50\n",
      "1/1 [==============================] - 6s - loss: 2.0380 - acc: 0.2680\n",
      "Epoch 38/50\n",
      "1/1 [==============================] - 5s - loss: 2.0314 - acc: 0.2687\n",
      "Epoch 39/50\n",
      "1/1 [==============================] - 6s - loss: 2.0247 - acc: 0.2695\n",
      "Epoch 40/50\n",
      "1/1 [==============================] - 6s - loss: 2.0179 - acc: 0.2713\n",
      "Epoch 41/50\n",
      "1/1 [==============================] - 6s - loss: 2.0109 - acc: 0.2742\n",
      "Epoch 42/50\n",
      "1/1 [==============================] - 5s - loss: 2.0039 - acc: 0.2775\n",
      "Epoch 43/50\n",
      "1/1 [==============================] - 6s - loss: 1.9966 - acc: 0.2838\n",
      "Epoch 44/50\n",
      "1/1 [==============================] - 6s - loss: 1.9893 - acc: 0.2905\n",
      "Epoch 45/50\n",
      "1/1 [==============================] - 6s - loss: 1.9818 - acc: 0.2960\n",
      "Epoch 46/50\n",
      "1/1 [==============================] - 5s - loss: 1.9742 - acc: 0.3020\n",
      "Epoch 47/50\n",
      "1/1 [==============================] - 6s - loss: 1.9665 - acc: 0.3088\n",
      "Epoch 48/50\n",
      "1/1 [==============================] - 6s - loss: 1.9588 - acc: 0.3127\n",
      "Epoch 49/50\n",
      "1/1 [==============================] - 5s - loss: 1.9511 - acc: 0.3193\n",
      "Epoch 50/50\n",
      "1/1 [==============================] - 6s - loss: 1.9434 - acc: 0.3250\n"
     ]
    },
    {
     "data": {
      "text/plain": [
       "<keras.callbacks.History at 0x1271276a0>"
      ]
     },
     "execution_count": 180,
     "metadata": {},
     "output_type": "execute_result"
    }
   ],
   "source": [
    "model.fit(X1,Y1,batch_size=1, shuffle=False, epochs = 50)"
   ]
  },
  {
   "cell_type": "code",
   "execution_count": 182,
   "metadata": {
    "collapsed": false
   },
   "outputs": [
    {
     "name": "stdout",
     "output_type": "stream",
     "text": [
      "_________________________________________________________________\n",
      "Layer (type)                 Output Shape              Param #   \n",
      "=================================================================\n",
      "simple_rnn_13 (SimpleRNN)    (1, 6000, 10)             7950      \n",
      "_________________________________________________________________\n",
      "time_distributed_7 (TimeDist (1, 6000, 10)             110       \n",
      "=================================================================\n",
      "Total params: 8,060.0\n",
      "Trainable params: 8,060\n",
      "Non-trainable params: 0.0\n",
      "_________________________________________________________________\n"
     ]
    }
   ],
   "source": []
  },
  {
   "cell_type": "code",
   "execution_count": null,
   "metadata": {
    "collapsed": true
   },
   "outputs": [],
   "source": []
  },
  {
   "cell_type": "markdown",
   "metadata": {
    "deletable": true,
    "editable": true
   },
   "source": [
    "## Question\n",
    "\n",
    "- List two downsides of using `model.fit(..., batch_size=1)` as opposed to `model.fit(..., batch_size=m)` where $m > 1$."
   ]
  },
  {
   "cell_type": "code",
   "execution_count": null,
   "metadata": {
    "collapsed": true,
    "deletable": true,
    "editable": true
   },
   "outputs": [],
   "source": [
    "#Slow to train with batch size = 1 because you have do a fill scan of the data to update the parameters such as weights\n",
    "# and biases"
   ]
  },
  {
   "cell_type": "code",
   "execution_count": null,
   "metadata": {
    "collapsed": true
   },
   "outputs": [],
   "source": [
    "# "
   ]
  },
  {
   "cell_type": "code",
   "execution_count": null,
   "metadata": {
    "collapsed": true
   },
   "outputs": [],
   "source": []
  },
  {
   "cell_type": "code",
   "execution_count": null,
   "metadata": {
    "collapsed": true
   },
   "outputs": [],
   "source": []
  },
  {
   "cell_type": "code",
   "execution_count": null,
   "metadata": {
    "collapsed": true
   },
   "outputs": [],
   "source": []
  },
  {
   "cell_type": "markdown",
   "metadata": {
    "deletable": true,
    "editable": true
   },
   "source": [
    "# keras RNNs with `batch_size=100`\n",
    "\n",
    "## Question\n",
    "\n",
    "- What shape do you need to convert `X` to to make it compatible a with `SimpleRNN(..., batch_input_shape=[100, 6000, 784])` layer?\n",
    "\n",
    "## Constraint\n",
    "\n",
    "- One batch must complete an entire epoch\n",
    "\n",
    "## Hints\n",
    "\n",
    "- A batch size of `100` means we effectively have `100` copies of our RNN each of which are being simulaneously unrolled on their respective portions of the original input sequence\n",
    "- The answer will be of shape `(batch_size, timesteps, 784)`"
   ]
  },
  {
   "cell_type": "code",
   "execution_count": null,
   "metadata": {
    "collapsed": true,
    "deletable": true,
    "editable": true
   },
   "outputs": [],
   "source": [
    "# You need to chop up X into 100 copies of the input sequence, split the input into 100 sequences"
   ]
  },
  {
   "cell_type": "code",
   "execution_count": 184,
   "metadata": {
    "collapsed": false
   },
   "outputs": [
    {
     "data": {
      "text/plain": [
       "(1, 6000, 784)"
      ]
     },
     "execution_count": 184,
     "metadata": {},
     "output_type": "execute_result"
    }
   ],
   "source": [
    "X1.shape"
   ]
  },
  {
   "cell_type": "code",
   "execution_count": 190,
   "metadata": {
    "collapsed": false
   },
   "outputs": [
    {
     "data": {
      "text/plain": [
       "(100, 60, 784)"
      ]
     },
     "execution_count": 190,
     "metadata": {},
     "output_type": "execute_result"
    }
   ],
   "source": [
    "X100 = np.array(np.split(X,100))\n",
    "X100.shape"
   ]
  },
  {
   "cell_type": "code",
   "execution_count": 195,
   "metadata": {
    "collapsed": false
   },
   "outputs": [
    {
     "data": {
      "text/plain": [
       "(100, 60, 10)"
      ]
     },
     "execution_count": 195,
     "metadata": {},
     "output_type": "execute_result"
    }
   ],
   "source": [
    "y100 = np.array(np.split(Y,100))\n",
    "y100.shape"
   ]
  },
  {
   "cell_type": "code",
   "execution_count": null,
   "metadata": {
    "collapsed": true
   },
   "outputs": [],
   "source": []
  },
  {
   "cell_type": "markdown",
   "metadata": {
    "deletable": true,
    "editable": true
   },
   "source": [
    "## Task\n",
    "\n",
    "- Reshape `X` and `Y` and save them into new variables call `X100` and `Y100` respectively which satisfy the above requirement\n",
    "\n",
    "## Requirements\n",
    "\n",
    "- There must be no overlap between batches (i.e. each image can only appear in a single batch\n",
    "\n",
    "## Hint\n",
    "\n",
    "- The simplest way to achieve this is to split `X` into `100` different chunks with `numpy.split()`"
   ]
  },
  {
   "cell_type": "code",
   "execution_count": null,
   "metadata": {
    "collapsed": true,
    "deletable": true,
    "editable": true
   },
   "outputs": [],
   "source": []
  },
  {
   "cell_type": "code",
   "execution_count": null,
   "metadata": {
    "collapsed": true
   },
   "outputs": [],
   "source": []
  },
  {
   "cell_type": "code",
   "execution_count": null,
   "metadata": {
    "collapsed": true
   },
   "outputs": [],
   "source": []
  },
  {
   "cell_type": "markdown",
   "metadata": {
    "deletable": true,
    "editable": true
   },
   "source": [
    "## Task\n",
    "\n",
    "- Define a RNN model compatible with `X100` and `Y100`\n",
    "\n",
    "## Requirement\n",
    "\n",
    "- You must specify\n",
    "\n",
    "```python\n",
    "SimpleRNN(..., return_sequences=True, batch_input_shape=[100, 60, 784])\n",
    "```\n",
    "\n",
    "as the first layer in your architecture."
   ]
  },
  {
   "cell_type": "code",
   "execution_count": 228,
   "metadata": {
    "collapsed": false,
    "deletable": true,
    "editable": true
   },
   "outputs": [],
   "source": [
    "model100 = Sequential()"
   ]
  },
  {
   "cell_type": "code",
   "execution_count": 229,
   "metadata": {
    "collapsed": false
   },
   "outputs": [],
   "source": [
    "model100.add(SimpleRNN(12,activation='relu', batch_input_shape=(100,60,784),return_sequences=True))"
   ]
  },
  {
   "cell_type": "code",
   "execution_count": 230,
   "metadata": {
    "collapsed": false
   },
   "outputs": [],
   "source": [
    "model100.add(TimeDistributed(Dense(10,activation='softmax')))"
   ]
  },
  {
   "cell_type": "code",
   "execution_count": 231,
   "metadata": {
    "collapsed": true
   },
   "outputs": [],
   "source": [
    "model100.compile(optimizer='adam', loss='categorical_crossentropy',metrics=['accuracy'])"
   ]
  },
  {
   "cell_type": "code",
   "execution_count": 232,
   "metadata": {
    "collapsed": false
   },
   "outputs": [
    {
     "name": "stdout",
     "output_type": "stream",
     "text": [
      "_________________________________________________________________\n",
      "Layer (type)                 Output Shape              Param #   \n",
      "=================================================================\n",
      "simple_rnn_21 (SimpleRNN)    (100, 60, 12)             9564      \n",
      "_________________________________________________________________\n",
      "time_distributed_16 (TimeDis (100, 60, 10)             130       \n",
      "=================================================================\n",
      "Total params: 9,694.0\n",
      "Trainable params: 9,694\n",
      "Non-trainable params: 0.0\n",
      "_________________________________________________________________\n"
     ]
    }
   ],
   "source": [
    "model100.summary()"
   ]
  },
  {
   "cell_type": "code",
   "execution_count": null,
   "metadata": {
    "collapsed": true
   },
   "outputs": [],
   "source": []
  },
  {
   "cell_type": "code",
   "execution_count": null,
   "metadata": {
    "collapsed": true
   },
   "outputs": [],
   "source": []
  },
  {
   "cell_type": "code",
   "execution_count": null,
   "metadata": {
    "collapsed": true
   },
   "outputs": [],
   "source": []
  },
  {
   "cell_type": "markdown",
   "metadata": {
    "deletable": true,
    "editable": true
   },
   "source": [
    "## Task\n",
    "\n",
    "- Fit Your RNN Model on `X100` and `Y100`\n",
    "\n",
    "## Requirement\n",
    "\n",
    "- Run your model for `model.fit(..., batch_size=100, epochs=50)`"
   ]
  },
  {
   "cell_type": "code",
   "execution_count": 233,
   "metadata": {
    "collapsed": false,
    "deletable": true,
    "editable": true,
    "scrolled": true
   },
   "outputs": [
    {
     "name": "stdout",
     "output_type": "stream",
     "text": [
      "Epoch 1/50\n",
      "100/100 [==============================] - 1s - loss: 4.1522 - acc: 0.1052\n",
      "Epoch 2/50\n",
      "100/100 [==============================] - 0s - loss: 2.9172 - acc: 0.1095\n",
      "Epoch 3/50\n",
      "100/100 [==============================] - 0s - loss: 2.5097 - acc: 0.1025\n",
      "Epoch 4/50\n",
      "100/100 [==============================] - 0s - loss: 2.3837 - acc: 0.1145\n",
      "Epoch 5/50\n",
      "100/100 [==============================] - 0s - loss: 2.3310 - acc: 0.1302\n",
      "Epoch 6/50\n",
      "100/100 [==============================] - 0s - loss: 2.3049 - acc: 0.1315\n",
      "Epoch 7/50\n",
      "100/100 [==============================] - 0s - loss: 2.2902 - acc: 0.1265\n",
      "Epoch 8/50\n",
      "100/100 [==============================] - 0s - loss: 2.2799 - acc: 0.1297\n",
      "Epoch 9/50\n",
      "100/100 [==============================] - 0s - loss: 2.2715 - acc: 0.1295\n",
      "Epoch 10/50\n",
      "100/100 [==============================] - 0s - loss: 2.2639 - acc: 0.1243\n",
      "Epoch 11/50\n",
      "100/100 [==============================] - 0s - loss: 2.2570 - acc: 0.1237\n",
      "Epoch 12/50\n",
      "100/100 [==============================] - 0s - loss: 2.2504 - acc: 0.1252\n",
      "Epoch 13/50\n",
      "100/100 [==============================] - 0s - loss: 2.2438 - acc: 0.1265\n",
      "Epoch 14/50\n",
      "100/100 [==============================] - 0s - loss: 2.2375 - acc: 0.1285\n",
      "Epoch 15/50\n",
      "100/100 [==============================] - 0s - loss: 2.2314 - acc: 0.1313\n",
      "Epoch 16/50\n",
      "100/100 [==============================] - 0s - loss: 2.2254 - acc: 0.1353\n",
      "Epoch 17/50\n",
      "100/100 [==============================] - 0s - loss: 2.2195 - acc: 0.1397\n",
      "Epoch 18/50\n",
      "100/100 [==============================] - 0s - loss: 2.2135 - acc: 0.1452\n",
      "Epoch 19/50\n",
      "100/100 [==============================] - 0s - loss: 2.2076 - acc: 0.1528\n",
      "Epoch 20/50\n",
      "100/100 [==============================] - 0s - loss: 2.2017 - acc: 0.1615\n",
      "Epoch 21/50\n",
      "100/100 [==============================] - 0s - loss: 2.1957 - acc: 0.1675\n",
      "Epoch 22/50\n",
      "100/100 [==============================] - 0s - loss: 2.1896 - acc: 0.1725\n",
      "Epoch 23/50\n",
      "100/100 [==============================] - 0s - loss: 2.1835 - acc: 0.1777\n",
      "Epoch 24/50\n",
      "100/100 [==============================] - 0s - loss: 2.1775 - acc: 0.1833\n",
      "Epoch 25/50\n",
      "100/100 [==============================] - 0s - loss: 2.1714 - acc: 0.1875\n",
      "Epoch 26/50\n",
      "100/100 [==============================] - 0s - loss: 2.1654 - acc: 0.1918\n",
      "Epoch 27/50\n",
      "100/100 [==============================] - 0s - loss: 2.1595 - acc: 0.1963\n",
      "Epoch 28/50\n",
      "100/100 [==============================] - 0s - loss: 2.1536 - acc: 0.1988\n",
      "Epoch 29/50\n",
      "100/100 [==============================] - 0s - loss: 2.1476 - acc: 0.2032\n",
      "Epoch 30/50\n",
      "100/100 [==============================] - 0s - loss: 2.1416 - acc: 0.2082\n",
      "Epoch 31/50\n",
      "100/100 [==============================] - 0s - loss: 2.1356 - acc: 0.2123\n",
      "Epoch 32/50\n",
      "100/100 [==============================] - 0s - loss: 2.1297 - acc: 0.2172\n",
      "Epoch 33/50\n",
      "100/100 [==============================] - 0s - loss: 2.1238 - acc: 0.2218\n",
      "Epoch 34/50\n",
      "100/100 [==============================] - 0s - loss: 2.1179 - acc: 0.2257\n",
      "Epoch 35/50\n",
      "100/100 [==============================] - 0s - loss: 2.1122 - acc: 0.2295\n",
      "Epoch 36/50\n",
      "100/100 [==============================] - 0s - loss: 2.1066 - acc: 0.2363\n",
      "Epoch 37/50\n",
      "100/100 [==============================] - 0s - loss: 2.1011 - acc: 0.2425\n",
      "Epoch 38/50\n",
      "100/100 [==============================] - 0s - loss: 2.0957 - acc: 0.2472\n",
      "Epoch 39/50\n",
      "100/100 [==============================] - 0s - loss: 2.0904 - acc: 0.2538\n",
      "Epoch 40/50\n",
      "100/100 [==============================] - 0s - loss: 2.0852 - acc: 0.2573\n",
      "Epoch 41/50\n",
      "100/100 [==============================] - 0s - loss: 2.0800 - acc: 0.2620\n",
      "Epoch 42/50\n",
      "100/100 [==============================] - 0s - loss: 2.0750 - acc: 0.2657\n",
      "Epoch 43/50\n",
      "100/100 [==============================] - 0s - loss: 2.0701 - acc: 0.2713\n",
      "Epoch 44/50\n",
      "100/100 [==============================] - 0s - loss: 2.0652 - acc: 0.2747\n",
      "Epoch 45/50\n",
      "100/100 [==============================] - 0s - loss: 2.0605 - acc: 0.2778\n",
      "Epoch 46/50\n",
      "100/100 [==============================] - 0s - loss: 2.0558 - acc: 0.2802\n",
      "Epoch 47/50\n",
      "100/100 [==============================] - 0s - loss: 2.0511 - acc: 0.2813\n",
      "Epoch 48/50\n",
      "100/100 [==============================] - 0s - loss: 2.0465 - acc: 0.2842\n",
      "Epoch 49/50\n",
      "100/100 [==============================] - 0s - loss: 2.0419 - acc: 0.2883\n",
      "Epoch 50/50\n",
      "100/100 [==============================] - 0s - loss: 2.0373 - acc: 0.2893\n"
     ]
    },
    {
     "data": {
      "text/plain": [
       "<keras.callbacks.History at 0x12a4ee630>"
      ]
     },
     "execution_count": 233,
     "metadata": {},
     "output_type": "execute_result"
    }
   ],
   "source": [
    "model100.fit(X100,y100,batch_size=100,epochs=50)"
   ]
  },
  {
   "cell_type": "markdown",
   "metadata": {
    "deletable": true,
    "editable": true
   },
   "source": [
    "## Question\n",
    "\n",
    "- Describe the differences you see when optimizing on `(X100, Y100)` as opposed to `(X1, Y1)`."
   ]
  },
  {
   "cell_type": "code",
   "execution_count": 234,
   "metadata": {
    "collapsed": true
   },
   "outputs": [],
   "source": [
    "# splitting up the sequence data into segments allows for faster optimization \n",
    "# In addition, you have higher accuracy when you train RNNs in parallel  on the sequence data"
   ]
  },
  {
   "cell_type": "code",
   "execution_count": null,
   "metadata": {
    "collapsed": true
   },
   "outputs": [],
   "source": []
  },
  {
   "cell_type": "code",
   "execution_count": null,
   "metadata": {
    "collapsed": true
   },
   "outputs": [],
   "source": []
  },
  {
   "cell_type": "code",
   "execution_count": null,
   "metadata": {
    "collapsed": true,
    "deletable": true,
    "editable": true
   },
   "outputs": [],
   "source": []
  },
  {
   "cell_type": "markdown",
   "metadata": {
    "deletable": true,
    "editable": true
   },
   "source": [
    "## Task\n",
    "\n",
    "- Split up `X100` and `Y100` into variables `(X_train50, Y_train50)` and `(X_val50, Y_val50)` and re-fit your model with this validation data\n",
    "\n",
    "## Hints\n",
    "\n",
    "- `X_train50` and `Y_train50` have shape `(50, 60, 784)` and `(50, 60, 10)` respectively. Their validation counterparts follow similarly."
   ]
  },
  {
   "cell_type": "code",
   "execution_count": 235,
   "metadata": {
    "collapsed": false,
    "deletable": true,
    "editable": true
   },
   "outputs": [],
   "source": [
    "X_train50, X_val50 = np.split(X100,2)"
   ]
  },
  {
   "cell_type": "code",
   "execution_count": 236,
   "metadata": {
    "collapsed": true
   },
   "outputs": [],
   "source": [
    "y_train50, y_val50 = np.split(y100,2)"
   ]
  },
  {
   "cell_type": "code",
   "execution_count": 237,
   "metadata": {
    "collapsed": false
   },
   "outputs": [
    {
     "data": {
      "text/plain": [
       "(50, 60, 784)"
      ]
     },
     "execution_count": 237,
     "metadata": {},
     "output_type": "execute_result"
    }
   ],
   "source": [
    "X_train50.shape"
   ]
  },
  {
   "cell_type": "code",
   "execution_count": 245,
   "metadata": {
    "collapsed": false
   },
   "outputs": [
    {
     "name": "stdout",
     "output_type": "stream",
     "text": [
      "Train on 50 samples, validate on 50 samples\n",
      "Epoch 1/50\n",
      "50/50 [==============================] - 1s - loss: 2.3666 - acc: 0.1127 - val_loss: 2.2832 - val_acc: 0.1507\n",
      "Epoch 2/50\n",
      "50/50 [==============================] - 0s - loss: 2.2919 - acc: 0.1313 - val_loss: 2.2436 - val_acc: 0.1750\n",
      "Epoch 3/50\n",
      "50/50 [==============================] - 0s - loss: 2.2429 - acc: 0.1613 - val_loss: 2.2103 - val_acc: 0.2003\n",
      "Epoch 4/50\n",
      "50/50 [==============================] - 0s - loss: 2.2047 - acc: 0.1740 - val_loss: 2.1771 - val_acc: 0.2177\n",
      "Epoch 5/50\n",
      "50/50 [==============================] - 0s - loss: 2.1705 - acc: 0.2007 - val_loss: 2.1429 - val_acc: 0.2393\n",
      "Epoch 6/50\n",
      "50/50 [==============================] - 0s - loss: 2.1365 - acc: 0.2247 - val_loss: 2.1080 - val_acc: 0.2630\n",
      "Epoch 7/50\n",
      "50/50 [==============================] - 0s - loss: 2.1024 - acc: 0.2507 - val_loss: 2.0721 - val_acc: 0.2913\n",
      "Epoch 8/50\n",
      "50/50 [==============================] - 0s - loss: 2.0678 - acc: 0.2707 - val_loss: 2.0362 - val_acc: 0.3217\n",
      "Epoch 9/50\n",
      "50/50 [==============================] - 0s - loss: 2.0321 - acc: 0.3033 - val_loss: 2.0005 - val_acc: 0.3473\n",
      "Epoch 10/50\n",
      "50/50 [==============================] - 0s - loss: 1.9954 - acc: 0.3347 - val_loss: 1.9648 - val_acc: 0.3783\n",
      "Epoch 11/50\n",
      "50/50 [==============================] - 0s - loss: 1.9590 - acc: 0.3660 - val_loss: 1.9301 - val_acc: 0.3973\n",
      "Epoch 12/50\n",
      "50/50 [==============================] - 0s - loss: 1.9229 - acc: 0.3927 - val_loss: 1.8961 - val_acc: 0.4163\n",
      "Epoch 13/50\n",
      "50/50 [==============================] - 0s - loss: 1.8864 - acc: 0.4173 - val_loss: 1.8623 - val_acc: 0.4320\n",
      "Epoch 14/50\n",
      "50/50 [==============================] - 0s - loss: 1.8493 - acc: 0.4330 - val_loss: 1.8295 - val_acc: 0.4460\n",
      "Epoch 15/50\n",
      "50/50 [==============================] - 0s - loss: 1.8120 - acc: 0.4517 - val_loss: 1.7981 - val_acc: 0.4547\n",
      "Epoch 16/50\n",
      "50/50 [==============================] - 0s - loss: 1.7759 - acc: 0.4650 - val_loss: 1.7673 - val_acc: 0.4623\n",
      "Epoch 17/50\n",
      "50/50 [==============================] - 0s - loss: 1.7409 - acc: 0.4787 - val_loss: 1.7375 - val_acc: 0.4703\n",
      "Epoch 18/50\n",
      "50/50 [==============================] - 0s - loss: 1.7064 - acc: 0.4913 - val_loss: 1.7080 - val_acc: 0.4770\n",
      "Epoch 19/50\n",
      "50/50 [==============================] - 0s - loss: 1.6723 - acc: 0.5023 - val_loss: 1.6794 - val_acc: 0.4877\n",
      "Epoch 20/50\n",
      "50/50 [==============================] - 0s - loss: 1.6383 - acc: 0.5197 - val_loss: 1.6515 - val_acc: 0.4970\n",
      "Epoch 21/50\n",
      "50/50 [==============================] - 0s - loss: 1.6051 - acc: 0.5310 - val_loss: 1.6247 - val_acc: 0.5067\n",
      "Epoch 22/50\n",
      "50/50 [==============================] - 0s - loss: 1.5724 - acc: 0.5413 - val_loss: 1.5988 - val_acc: 0.5093\n",
      "Epoch 23/50\n",
      "50/50 [==============================] - 0s - loss: 1.5404 - acc: 0.5500 - val_loss: 1.5732 - val_acc: 0.5173\n",
      "Epoch 24/50\n",
      "50/50 [==============================] - 0s - loss: 1.5091 - acc: 0.5633 - val_loss: 1.5480 - val_acc: 0.5250\n",
      "Epoch 25/50\n",
      "50/50 [==============================] - 0s - loss: 1.4783 - acc: 0.5743 - val_loss: 1.5230 - val_acc: 0.5307\n",
      "Epoch 26/50\n",
      "50/50 [==============================] - 0s - loss: 1.4481 - acc: 0.5833 - val_loss: 1.4986 - val_acc: 0.5340\n",
      "Epoch 27/50\n",
      "50/50 [==============================] - 0s - loss: 1.4187 - acc: 0.5963 - val_loss: 1.4751 - val_acc: 0.5380\n",
      "Epoch 28/50\n",
      "50/50 [==============================] - 0s - loss: 1.3903 - acc: 0.6093 - val_loss: 1.4526 - val_acc: 0.5473\n",
      "Epoch 29/50\n",
      "50/50 [==============================] - 0s - loss: 1.3629 - acc: 0.6130 - val_loss: 1.4309 - val_acc: 0.5547\n",
      "Epoch 30/50\n",
      "50/50 [==============================] - 0s - loss: 1.3361 - acc: 0.6167 - val_loss: 1.4099 - val_acc: 0.5630\n",
      "Epoch 31/50\n",
      "50/50 [==============================] - 0s - loss: 1.3100 - acc: 0.6220 - val_loss: 1.3898 - val_acc: 0.5713\n",
      "Epoch 32/50\n",
      "50/50 [==============================] - 0s - loss: 1.2850 - acc: 0.6233 - val_loss: 1.3708 - val_acc: 0.5757\n",
      "Epoch 33/50\n",
      "50/50 [==============================] - 0s - loss: 1.2609 - acc: 0.6270 - val_loss: 1.3527 - val_acc: 0.5790\n",
      "Epoch 34/50\n",
      "50/50 [==============================] - 0s - loss: 1.2378 - acc: 0.6350 - val_loss: 1.3358 - val_acc: 0.5833\n",
      "Epoch 35/50\n",
      "50/50 [==============================] - 0s - loss: 1.2154 - acc: 0.6437 - val_loss: 1.3200 - val_acc: 0.5890\n",
      "Epoch 36/50\n",
      "50/50 [==============================] - 0s - loss: 1.1938 - acc: 0.6500 - val_loss: 1.3053 - val_acc: 0.5900\n",
      "Epoch 37/50\n",
      "50/50 [==============================] - 0s - loss: 1.1728 - acc: 0.6573 - val_loss: 1.2917 - val_acc: 0.5913\n",
      "Epoch 38/50\n",
      "50/50 [==============================] - 0s - loss: 1.1526 - acc: 0.6607 - val_loss: 1.2790 - val_acc: 0.5947\n",
      "Epoch 39/50\n",
      "50/50 [==============================] - 0s - loss: 1.1330 - acc: 0.6647 - val_loss: 1.2669 - val_acc: 0.5990\n",
      "Epoch 40/50\n",
      "50/50 [==============================] - 0s - loss: 1.1140 - acc: 0.6673 - val_loss: 1.2552 - val_acc: 0.6037\n",
      "Epoch 41/50\n",
      "50/50 [==============================] - 0s - loss: 1.0955 - acc: 0.6723 - val_loss: 1.2438 - val_acc: 0.6090\n",
      "Epoch 42/50\n",
      "50/50 [==============================] - 0s - loss: 1.0776 - acc: 0.6770 - val_loss: 1.2330 - val_acc: 0.6103\n",
      "Epoch 43/50\n",
      "50/50 [==============================] - 0s - loss: 1.0604 - acc: 0.6773 - val_loss: 1.2229 - val_acc: 0.6110\n",
      "Epoch 44/50\n",
      "50/50 [==============================] - 0s - loss: 1.0438 - acc: 0.6850 - val_loss: 1.2133 - val_acc: 0.6123\n",
      "Epoch 45/50\n",
      "50/50 [==============================] - 0s - loss: 1.0277 - acc: 0.6887 - val_loss: 1.2043 - val_acc: 0.6157\n",
      "Epoch 46/50\n",
      "50/50 [==============================] - 0s - loss: 1.0120 - acc: 0.6927 - val_loss: 1.1960 - val_acc: 0.6170\n",
      "Epoch 47/50\n",
      "50/50 [==============================] - 0s - loss: 0.9968 - acc: 0.6947 - val_loss: 1.1881 - val_acc: 0.6173\n",
      "Epoch 48/50\n",
      "50/50 [==============================] - 0s - loss: 0.9820 - acc: 0.6987 - val_loss: 1.1806 - val_acc: 0.6207\n",
      "Epoch 49/50\n",
      "50/50 [==============================] - 0s - loss: 0.9676 - acc: 0.7023 - val_loss: 1.1734 - val_acc: 0.6217\n",
      "Epoch 50/50\n",
      "50/50 [==============================] - 0s - loss: 0.9536 - acc: 0.7077 - val_loss: 1.1666 - val_acc: 0.6237\n"
     ]
    },
    {
     "data": {
      "text/plain": [
       "<keras.callbacks.History at 0x12fe11710>"
      ]
     },
     "execution_count": 245,
     "metadata": {},
     "output_type": "execute_result"
    }
   ],
   "source": [
    "model100 = Sequential()\n",
    "model100.add(SimpleRNN(28,activation='relu',batch_input_shape=(50,60,784),return_sequences=True))\n",
    "model100.add(TimeDistributed(Dense(10,activation='softmax')))\n",
    "model100.compile(optimizer='adam', loss='categorical_crossentropy',metrics=['accuracy'])\n",
    "model100.fit(X_train50,y_train50, batch_size=50,epochs=50,validation_data=[X_val50,y_val50])"
   ]
  },
  {
   "cell_type": "code",
   "execution_count": null,
   "metadata": {
    "collapsed": true
   },
   "outputs": [],
   "source": []
  },
  {
   "cell_type": "code",
   "execution_count": null,
   "metadata": {
    "collapsed": true
   },
   "outputs": [],
   "source": []
  },
  {
   "cell_type": "markdown",
   "metadata": {
    "deletable": true,
    "editable": true
   },
   "source": [
    "## Task\n",
    "\n",
    "- Modify your keras model to make it compatible with `(X_train50, Y_train50)` and `(X_val50, Y_val50)`\n",
    "\n",
    "## Hint\n",
    "\n",
    "- Re-instantiate your model with `SimpleRNN(..., batch_input_shape=[50, 60, 784])`"
   ]
  },
  {
   "cell_type": "code",
   "execution_count": null,
   "metadata": {
    "collapsed": false,
    "deletable": true,
    "editable": true
   },
   "outputs": [],
   "source": []
  },
  {
   "cell_type": "markdown",
   "metadata": {
    "deletable": true,
    "editable": true
   },
   "source": [
    "## Question\n",
    "\n",
    "- Why did we choose `50` for our new batch size?"
   ]
  },
  {
   "cell_type": "code",
   "execution_count": 246,
   "metadata": {
    "collapsed": true,
    "deletable": true,
    "editable": true
   },
   "outputs": [],
   "source": [
    "# 50 for our batch size so that we can have multiple RNNs train at the same time. \n",
    "# Then we can combine the output gradient from each RNN to uopdate the model parameters"
   ]
  },
  {
   "cell_type": "code",
   "execution_count": null,
   "metadata": {
    "collapsed": true
   },
   "outputs": [],
   "source": []
  },
  {
   "cell_type": "code",
   "execution_count": null,
   "metadata": {
    "collapsed": true
   },
   "outputs": [],
   "source": []
  },
  {
   "cell_type": "code",
   "execution_count": null,
   "metadata": {
    "collapsed": true
   },
   "outputs": [],
   "source": []
  },
  {
   "cell_type": "markdown",
   "metadata": {
    "deletable": true,
    "editable": true
   },
   "source": [
    "## Task\n",
    "\n",
    "- Refit your model with `(X_train50, Y_train50)` and `(X_val50, Y_val50)`\n",
    "\n",
    "## Hint\n",
    "\n",
    "- Make sure to call `model.fit(..., batch_size=50)`"
   ]
  },
  {
   "cell_type": "code",
   "execution_count": null,
   "metadata": {
    "collapsed": false,
    "deletable": true,
    "editable": true,
    "scrolled": true
   },
   "outputs": [],
   "source": []
  },
  {
   "cell_type": "code",
   "execution_count": null,
   "metadata": {
    "collapsed": true
   },
   "outputs": [],
   "source": []
  },
  {
   "cell_type": "code",
   "execution_count": null,
   "metadata": {
    "collapsed": true
   },
   "outputs": [],
   "source": []
  },
  {
   "cell_type": "code",
   "execution_count": null,
   "metadata": {
    "collapsed": true
   },
   "outputs": [],
   "source": []
  },
  {
   "cell_type": "markdown",
   "metadata": {
    "deletable": true,
    "editable": true
   },
   "source": [
    "## Task\n",
    "\n",
    "- Design and optimize a recurrent neural network to maximize validation accuracy on `(X_val50, Y_val50)`\n",
    "\n",
    "## Hints\n",
    "\n",
    "- Stack multiple recurrent layers\n",
    "- Use a convolutional layer between the recurrent layers and the image\n",
    "\n",
    "## Requirement\n",
    "\n",
    "- The only recurrent layer you can use is SimpleRNN"
   ]
  },
  {
   "cell_type": "code",
   "execution_count": 305,
   "metadata": {
    "collapsed": true
   },
   "outputs": [],
   "source": [
    "from keras.layers import Conv2D, Dropout, Conv1D, MaxPool1D"
   ]
  },
  {
   "cell_type": "code",
   "execution_count": 279,
   "metadata": {
    "collapsed": false
   },
   "outputs": [],
   "source": [
    "import IPython\n",
    "import keras\n",
    "import matplotlib.pyplot as plt\n",
    "import pandas as pd\n",
    "%matplotlib inline\n",
    "\n",
    "class TrainingVisualizer(keras.callbacks.History):\n",
    "    def on_epoch_end(self, epoch, logs={}):\n",
    "        super().on_epoch_end(epoch, logs)\n",
    "        IPython.display.clear_output(wait=True)\n",
    "        pd.DataFrame({key: value for key, value in self.history.items() if key.endswith('loss')}).plot()\n",
    "        axes = pd.DataFrame({key: value for key, value in self.history.items() if key.endswith('acc')}).plot()\n",
    "        axes.set_ylim([0, 1])\n",
    "        plt.show()\n",
    "\n"
   ]
  },
  {
   "cell_type": "code",
   "execution_count": 309,
   "metadata": {
    "collapsed": false,
    "deletable": true,
    "editable": true
   },
   "outputs": [
    {
     "data": {
      "image/png": "[encoded data removed]",
      "text/plain": [
       "<matplotlib.figure.Figure at 0x141bda8d0>"
      ]
     },
     "metadata": {},
     "output_type": "display_data"
    },
    {
     "data": {
      "image/png": "[encoded data removed]",
      "text/plain": [
       "<matplotlib.figure.Figure at 0x141bda7f0>"
      ]
     },
     "metadata": {},
     "output_type": "display_data"
    },
    {
     "name": "stdout",
     "output_type": "stream",
     "text": [
      "50/50 [==============================] - 1s - loss: 0.5806 - acc: 0.8080 - val_loss: 1.0875 - val_acc: 0.7100\n"
     ]
    },
    {
     "data": {
      "text/plain": [
       "<keras.callbacks.History at 0x1711d0eb8>"
      ]
     },
     "execution_count": 309,
     "metadata": {},
     "output_type": "execute_result"
    }
   ],
   "source": [
    "modelfinal = Sequential()\n",
    "modelfinal.add(Conv1D(64,2,activation='relu',padding='same',input_shape=(60,784)))\n",
    "modelfinal.add(MaxPool1D(1))\n",
    "modelfinal.add(SimpleRNN(128,activation='relu',return_sequences=True,dropout=.3,\n",
    "                         recurrent_dropout=.1))\n",
    "\n",
    "modelfinal.add(TimeDistributed(Dense(200,activation='relu')))\n",
    "modelfinal.add(Dropout(.3))\n",
    "modelfinal.add(SimpleRNN(128,activation='relu',return_sequences=True,dropout=.3,recurrent_dropout=.1))\n",
    "modelfinal.add(TimeDistributed(Dense(200,activation='relu')))\n",
    "modelfinal.add(Dropout(.3))\n",
    "modelfinal.add(TimeDistributed(Dense(10,activation='softmax')))\n",
    "modelfinal.summary()\n",
    "modelfinal.compile(optimizer='adam', loss='categorical_crossentropy',metrics=['accuracy'])\n",
    "modelfinal.fit(X_train50,y_train50, batch_size=50,epochs=100,validation_data=[X_val50,y_val50], callbacks=[TrainingVisualizer()])"
   ]
  },
  {
   "cell_type": "code",
   "execution_count": 295,
   "metadata": {
    "collapsed": false
   },
   "outputs": [
    {
     "data": {
      "text/plain": [
       "(60, 784)"
      ]
     },
     "execution_count": 295,
     "metadata": {},
     "output_type": "execute_result"
    }
   ],
   "source": [
    "X_train50[0].shape"
   ]
  },
  {
   "cell_type": "code",
   "execution_count": null,
   "metadata": {
    "collapsed": true
   },
   "outputs": [],
   "source": []
  },
  {
   "cell_type": "code",
   "execution_count": null,
   "metadata": {
    "collapsed": true
   },
   "outputs": [],
   "source": []
  },
  {
   "cell_type": "code",
   "execution_count": null,
   "metadata": {
    "collapsed": true
   },
   "outputs": [],
   "source": []
  },
  {
   "cell_type": "code",
   "execution_count": null,
   "metadata": {
    "collapsed": true
   },
   "outputs": [],
   "source": []
  },
  {
   "cell_type": "code",
   "execution_count": null,
   "metadata": {
    "collapsed": true
   },
   "outputs": [],
   "source": []
  },
  {
   "cell_type": "code",
   "execution_count": null,
   "metadata": {
    "collapsed": true
   },
   "outputs": [],
   "source": []
  },
  {
   "cell_type": "markdown",
   "metadata": {
    "deletable": true,
    "editable": true
   },
   "source": [
    "# Bonus Activities\n",
    "\n",
    "- Use more than one batch per epoch with keras stateful RNNs\n",
    "- Use overlapping windows instead of disjoint windows in each batch\n",
    "- Monitor gradients during training with tensorboard"
   ]
  },
  {
   "cell_type": "code",
   "execution_count": 317,
   "metadata": {
    "collapsed": false
   },
   "outputs": [
    {
     "name": "stdout",
     "output_type": "stream",
     "text": [
      "_________________________________________________________________\n",
      "Layer (type)                 Output Shape              Param #   \n",
      "=================================================================\n",
      "simple_rnn_132 (SimpleRNN)   (50, 60, 128)             116864    \n",
      "_________________________________________________________________\n",
      "time_distributed_121 (TimeDi (50, 60, 200)             25800     \n",
      "_________________________________________________________________\n",
      "dropout_58 (Dropout)         (50, 60, 200)             0         \n",
      "_________________________________________________________________\n",
      "dropout_59 (Dropout)         (50, 60, 200)             0         \n",
      "_________________________________________________________________\n",
      "time_distributed_122 (TimeDi (50, 60, 10)              2010      \n",
      "=================================================================\n",
      "Total params: 144,674.0\n",
      "Trainable params: 144,674.0\n",
      "Non-trainable params: 0.0\n",
      "_________________________________________________________________\n"
     ]
    }
   ],
   "source": [
    "modelstate = Sequential()\n",
    "#modelstate.add(Conv1D(64,2,activation='relu',padding='same',input_shape=(60,784)))\n",
    "#modelstate.add(MaxPool1D(1))\n",
    "#modelstate.summary()\n",
    "modelstate.add(SimpleRNN(128,activation='relu',return_sequences=True,dropout=.3,\n",
    "                         recurrent_dropout=.1, stateful=True, batch_input_shape=(50, 60, 784)))\n",
    "\n",
    "modelstate.add(TimeDistributed(Dense(200,activation='relu')))\n",
    "modelstate.add(Dropout(.3))\n",
    "#modelstate.add(SimpleRNN(128,activation='relu',return_sequences=True,dropout=.3,recurrent_dropout=.1))\n",
    "#modelstate.add(TimeDistributed(Dense(200,activation='relu')))\n",
    "modelstate.add(Dropout(.3))\n",
    "modelstate.add(TimeDistributed(Dense(10,activation='softmax')))\n",
    "modelstate.summary()\n"
   ]
  },
  {
   "cell_type": "code",
   "execution_count": 318,
   "metadata": {
    "collapsed": false
   },
   "outputs": [
    {
     "data": {
      "image/png": "[encoded data removed]",
      "text/plain": [
       "<matplotlib.figure.Figure at 0x16ce3bf98>"
      ]
     },
     "metadata": {},
     "output_type": "display_data"
    },
    {
     "data": {
      "image/png": "[encoded data removed]",
      "text/plain": [
       "<matplotlib.figure.Figure at 0x16ce3bd68>"
      ]
     },
     "metadata": {},
     "output_type": "display_data"
    },
    {
     "name": "stdout",
     "output_type": "stream",
     "text": [
      "50/50 [==============================] - 0s - loss: 0.4798 - acc: 0.8420 - val_loss: 0.8344 - val_acc: 0.7443\n"
     ]
    },
    {
     "data": {
      "text/plain": [
       "<keras.callbacks.History at 0x15e981b38>"
      ]
     },
     "execution_count": 318,
     "metadata": {},
     "output_type": "execute_result"
    }
   ],
   "source": [
    "modelstate.compile(optimizer='adam', loss='categorical_crossentropy',metrics=['accuracy'])\n",
    "modelstate.fit(X_train50,y_train50, batch_size=50,epochs=100,validation_data=[X_val50,y_val50], callbacks=[TrainingVisualizer()])"
   ]
  },
  {
   "cell_type": "code",
   "execution_count": null,
   "metadata": {
    "collapsed": true
   },
   "outputs": [],
   "source": []
  },
  {
   "cell_type": "code",
   "execution_count": null,
   "metadata": {
    "collapsed": true
   },
   "outputs": [],
   "source": []
  },
  {
   "cell_type": "code",
   "execution_count": null,
   "metadata": {
    "collapsed": true
   },
   "outputs": [],
   "source": []
  }
 ],
 "metadata": {
  "kernelspec": {
   "display_name": "Python [conda env:dl]",
   "language": "python",
   "name": "conda-env-dl-py"
  },
  "language_info": {
   "codemirror_mode": {
    "name": "ipython",
    "version": 3
   },
   "file_extension": ".py",
   "mimetype": "text/x-python",
   "name": "python",
   "nbconvert_exporter": "python",
   "pygments_lexer": "ipython3",
   "version": "3.6.0"
  }
 },
 "nbformat": 4,
 "nbformat_minor": 2
}
