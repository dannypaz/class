{
 "cells": [
  {
   "cell_type": "markdown",
   "metadata": {
    "deletable": true,
    "editable": true
   },
   "source": [
    "# Recurrent Neural Network Layers Lab\n",
    "\n",
    "Welcome to the recurrent neural networks layers lab! By the end of this lab you will have\n",
    "\n",
    "- Implemented a RecurrentCell layer\n",
    "- Implemented a Recurrent layer\n",
    "- Gradient-checked both of your layers to ensure they are bug-free\n",
    "\n",
    "Let's get started!\n",
    "\n",
    "---\n",
    "\n",
    "# Layer Interface\n",
    "\n",
    "Recall the interface for a layer."
   ]
  },
  {
   "cell_type": "code",
   "execution_count": 5,
   "metadata": {
    "collapsed": true,
    "deletable": true,
    "editable": true
   },
   "outputs": [],
   "source": [
    "class Layer:\n",
    "    def forward(self, inputs):\n",
    "        raise NotImplementedError('Forward pass not implemented!')\n",
    "        \n",
    "    def backward(self, dout):\n",
    "        raise NotImplementedError('Backward pass not implemented!')"
   ]
  },
  {
   "cell_type": "markdown",
   "metadata": {
    "deletable": true,
    "editable": true
   },
   "source": [
    "## Task\n",
    "\n",
    "- Implement a recurrent cell layer according to the computational graph\n",
    "\n",
    "![RecurrentCell Layer](images/RecurrentCell%20Layer.png)\n",
    "where $h' = h w_h + x w_x$."
   ]
  },
  {
   "cell_type": "code",
   "execution_count": 16,
   "metadata": {
    "collapsed": false,
    "deletable": true,
    "editable": true
   },
   "outputs": [],
   "source": [
    "class Recurrent_Layer(Layer):\n",
    "\n",
    "    def forward(self,x,h,wh,wx):\n",
    "        self.x = x\n",
    "        self.h = h\n",
    "        self.wh = wh\n",
    "        self.wx= wx\n",
    "        h_ = h*wh + x*wx\n",
    "        self.h_ = h_\n",
    "        return h_\n",
    "        \n",
    "    def backward(self,h_):\n",
    "        dh_ = h_\n",
    "        dwh = dh_*self.h\n",
    "        dwx = dh_ * self.x\n",
    "        \n",
    "        return dwh, dwx"
   ]
  },
  {
   "cell_type": "code",
   "execution_count": 17,
   "metadata": {
    "collapsed": true,
    "deletable": true,
    "editable": true
   },
   "outputs": [],
   "source": [
    "recurrent_layer = Recurrent_Layer()"
   ]
  },
  {
   "cell_type": "code",
   "execution_count": 18,
   "metadata": {
    "collapsed": true,
    "deletable": true,
    "editable": true
   },
   "outputs": [],
   "source": [
    "x = 4\n",
    "wh = 2\n",
    "wx = 1\n",
    "h = 3"
   ]
  },
  {
   "cell_type": "code",
   "execution_count": null,
   "metadata": {
    "collapsed": true,
    "deletable": true,
    "editable": true
   },
   "outputs": [],
   "source": []
  },
  {
   "cell_type": "code",
   "execution_count": 19,
   "metadata": {
    "collapsed": false,
    "deletable": true,
    "editable": true
   },
   "outputs": [
    {
     "data": {
      "text/plain": [
       "10"
      ]
     },
     "execution_count": 19,
     "metadata": {},
     "output_type": "execute_result"
    }
   ],
   "source": [
    "recurrent_layer.forward(x,h,wh,wx)"
   ]
  },
  {
   "cell_type": "code",
   "execution_count": 20,
   "metadata": {
    "collapsed": false,
    "deletable": true,
    "editable": true
   },
   "outputs": [
    {
     "data": {
      "text/plain": [
       "(3, 4)"
      ]
     },
     "execution_count": 20,
     "metadata": {},
     "output_type": "execute_result"
    }
   ],
   "source": [
    "recurrent_layer.backward(1)"
   ]
  },
  {
   "cell_type": "markdown",
   "metadata": {
    "deletable": true,
    "editable": true
   },
   "source": [
    "## Task\n",
    "\n",
    "- Gradient check your recurrent cell\n",
    "\n",
    "## Requirements\n",
    "\n",
    "- Run the following code to gradient check your `RecurrentCell` backpropagation code"
   ]
  },
  {
   "cell_type": "code",
   "execution_count": 25,
   "metadata": {
    "collapsed": false,
    "deletable": true,
    "editable": true
   },
   "outputs": [
    {
     "ename": "ImportError",
     "evalue": "No module named 'checking'",
     "output_type": "error",
     "traceback": [
      "\u001b[0;31m---------------------------------------------------------------------------\u001b[0m",
      "\u001b[0;31mImportError\u001b[0m                               Traceback (most recent call last)",
      "\u001b[0;32m<ipython-input-25-a48f2e2486dc>\u001b[0m in \u001b[0;36m<module>\u001b[0;34m()\u001b[0m\n\u001b[1;32m      1\u001b[0m \u001b[0;32mimport\u001b[0m \u001b[0mnumpy\u001b[0m \u001b[0;32mas\u001b[0m \u001b[0mnp\u001b[0m\u001b[0;34m\u001b[0m\u001b[0m\n\u001b[0;32m----> 2\u001b[0;31m \u001b[0;32mfrom\u001b[0m \u001b[0mchecking\u001b[0m \u001b[0;32mimport\u001b[0m \u001b[0mestimate_gradients\u001b[0m\u001b[0;34m\u001b[0m\u001b[0m\n\u001b[0m\u001b[1;32m      3\u001b[0m \u001b[0;34m\u001b[0m\u001b[0m\n\u001b[1;32m      4\u001b[0m \u001b[0mrecurrent\u001b[0m \u001b[0;34m=\u001b[0m  \u001b[0mRecurrent_Layer\u001b[0m\u001b[0;34m(\u001b[0m\u001b[0;34m)\u001b[0m\u001b[0;34m\u001b[0m\u001b[0m\n\u001b[1;32m      5\u001b[0m \u001b[0;32mfor\u001b[0m \u001b[0minput_len\u001b[0m \u001b[0;32min\u001b[0m \u001b[0mnp\u001b[0m\u001b[0;34m.\u001b[0m\u001b[0mrandom\u001b[0m\u001b[0;34m.\u001b[0m\u001b[0mrandint\u001b[0m\u001b[0;34m(\u001b[0m\u001b[0mlow\u001b[0m\u001b[0;34m=\u001b[0m\u001b[0;36m1\u001b[0m\u001b[0;34m,\u001b[0m \u001b[0mhigh\u001b[0m\u001b[0;34m=\u001b[0m\u001b[0;36m10\u001b[0m\u001b[0;34m,\u001b[0m \u001b[0msize\u001b[0m\u001b[0;34m=\u001b[0m\u001b[0;36m10\u001b[0m\u001b[0;34m)\u001b[0m\u001b[0;34m:\u001b[0m\u001b[0;34m\u001b[0m\u001b[0m\n",
      "\u001b[0;31mImportError\u001b[0m: No module named 'checking'"
     ]
    }
   ],
   "source": [
    "import numpy as np\n",
    "from checking import estimate_gradients\n",
    "\n",
    "recurrent =  Recurrent_Layer()\n",
    "for input_len in np.random.randint(low=1, high=10, size=10):\n",
    "    wx, x, wh, h = np.random.randn(4) # random input values\n",
    "    estimated_grads = estimate_gradients(recurrent.forward, # gradient check\n",
    "                                         wrt=['wx', 'wh', 'h'],\n",
    "                                         at={'wx': wx, 'x': x, 'wh': wh, 'h': h})\n",
    "    exact_grads = recurrent.backward(1)\n",
    "    print(exact_grads)\n",
    "#     try:\n",
    "#         for name, value in zip(['wx', 'wh', 'h'], exact_grads):\n",
    "#             estimated_grad = estimated_grads[name]\n",
    "#             difference = abs(estimated_grad - value)\n",
    "#             assert difference < 1e-3\n",
    "#     except AssertionError:\n",
    "#         #print(f'Gradient failed on {name} with difference {difference}!')"
   ]
  },
  {
   "cell_type": "code",
   "execution_count": null,
   "metadata": {
    "collapsed": true,
    "deletable": true,
    "editable": true
   },
   "outputs": [],
   "source": []
  },
  {
   "cell_type": "code",
   "execution_count": null,
   "metadata": {
    "collapsed": true,
    "deletable": true,
    "editable": true
   },
   "outputs": [],
   "source": []
  },
  {
   "cell_type": "code",
   "execution_count": null,
   "metadata": {
    "collapsed": true,
    "deletable": true,
    "editable": true
   },
   "outputs": [],
   "source": []
  },
  {
   "cell_type": "markdown",
   "metadata": {
    "deletable": true,
    "editable": true
   },
   "source": [
    "## Task\n",
    "\n",
    "- Define a `Recurrent` layer according to the computational graph\n",
    "\n",
    "![Forward Backward Example](images/Recurrent%20Layer.png)"
   ]
  },
  {
   "cell_type": "markdown",
   "metadata": {
    "deletable": true,
    "editable": true
   },
   "source": [
    "where $h_{i+1} = h_i w_h + x_i w_x$ for $i > 1$.\n",
    "\n",
    "## Hint\n",
    "\n",
    "- Use `RecurrentCell` layers in your implementation"
   ]
  },
  {
   "cell_type": "code",
   "execution_count": 11,
   "metadata": {
    "collapsed": true
   },
   "outputs": [],
   "source": [
    "import numpy as np"
   ]
  },
  {
   "cell_type": "code",
   "execution_count": 29,
   "metadata": {
    "collapsed": false,
    "deletable": true,
    "editable": true
   },
   "outputs": [],
   "source": [
    "class Recurrent_Cell_Vector(Layer):\n",
    "    def forward(self,x,h0,weights):\n",
    "        inputs = np.vstack((x,h0))\n",
    "        self.inputs = inputs\n",
    "        h_ = weights.T @ inputs\n",
    "        return h_\n",
    "        \n",
    "    def backward(self,hn):\n",
    "        dhn = hn\n",
    "        dwh = self.inputs[0,:]\n",
    "        dwx = self.inputs[1,:]\n",
    "        return dwh, dwx"
   ]
  },
  {
   "cell_type": "code",
   "execution_count": 30,
   "metadata": {
    "collapsed": false,
    "deletable": true,
    "editable": true
   },
   "outputs": [],
   "source": [
    "x = np.array([[1,2,3,4,5]])\n",
    "h0 = np.array([[4,3,5,2,1]])"
   ]
  },
  {
   "cell_type": "code",
   "execution_count": 31,
   "metadata": {
    "collapsed": true,
    "deletable": true,
    "editable": true
   },
   "outputs": [],
   "source": [
    "wx = 4\n",
    "wh = 10"
   ]
  },
  {
   "cell_type": "code",
   "execution_count": 32,
   "metadata": {
    "collapsed": false,
    "deletable": true,
    "editable": true
   },
   "outputs": [],
   "source": [
    "weights = np.vstack((wx,wh))"
   ]
  },
  {
   "cell_type": "code",
   "execution_count": 33,
   "metadata": {
    "collapsed": false,
    "deletable": true,
    "editable": true
   },
   "outputs": [
    {
     "data": {
      "text/plain": [
       "array([[ 4, 10]])"
      ]
     },
     "execution_count": 33,
     "metadata": {},
     "output_type": "execute_result"
    }
   ],
   "source": [
    "weights.T"
   ]
  },
  {
   "cell_type": "code",
   "execution_count": 34,
   "metadata": {
    "collapsed": true,
    "deletable": true,
    "editable": true
   },
   "outputs": [],
   "source": [
    "inputs = np.vstack((x,h0))"
   ]
  },
  {
   "cell_type": "code",
   "execution_count": 35,
   "metadata": {
    "collapsed": false
   },
   "outputs": [
    {
     "data": {
      "text/plain": [
       "array([[1, 2, 3, 4, 5],\n",
       "       [4, 3, 5, 2, 1]])"
      ]
     },
     "execution_count": 35,
     "metadata": {},
     "output_type": "execute_result"
    }
   ],
   "source": [
    "inputs"
   ]
  },
  {
   "cell_type": "code",
   "execution_count": null,
   "metadata": {
    "collapsed": true
   },
   "outputs": [],
   "source": []
  },
  {
   "cell_type": "code",
   "execution_count": 36,
   "metadata": {
    "collapsed": false,
    "deletable": true,
    "editable": true
   },
   "outputs": [],
   "source": [
    "recurrent_cell_vector = Recurrent_Cell_Vector()"
   ]
  },
  {
   "cell_type": "code",
   "execution_count": 37,
   "metadata": {
    "collapsed": false,
    "deletable": true,
    "editable": true
   },
   "outputs": [
    {
     "data": {
      "text/plain": [
       "array([[44, 38, 62, 36, 30]])"
      ]
     },
     "execution_count": 37,
     "metadata": {},
     "output_type": "execute_result"
    }
   ],
   "source": [
    "recurrent_cell_vector.forward(x,h0,weights)"
   ]
  },
  {
   "cell_type": "code",
   "execution_count": 38,
   "metadata": {
    "collapsed": false,
    "deletable": true,
    "editable": true
   },
   "outputs": [
    {
     "data": {
      "text/plain": [
       "(array([1, 2, 3, 4, 5]), array([4, 3, 5, 2, 1]))"
      ]
     },
     "execution_count": 38,
     "metadata": {},
     "output_type": "execute_result"
    }
   ],
   "source": [
    "recurrent_cell_vector.backward(1)"
   ]
  },
  {
   "cell_type": "code",
   "execution_count": null,
   "metadata": {
    "collapsed": true,
    "deletable": true,
    "editable": true
   },
   "outputs": [],
   "source": []
  },
  {
   "cell_type": "markdown",
   "metadata": {
    "deletable": true,
    "editable": true
   },
   "source": [
    "## Task\n",
    "\n",
    "- Gradient check your `Recurrent` layer\n",
    "\n",
    "## Requirements\n",
    "\n",
    "- Run the following code to gradient check your `Recurrent` backpropagation code"
   ]
  },
  {
   "cell_type": "code",
   "execution_count": 69,
   "metadata": {
    "collapsed": false,
    "deletable": true,
    "editable": true
   },
   "outputs": [
    {
     "ename": "SyntaxError",
     "evalue": "invalid syntax (<ipython-input-69-1e63c443001d>, line 21)",
     "output_type": "error",
     "traceback": [
      "\u001b[0;36m  File \u001b[0;32m\"<ipython-input-69-1e63c443001d>\"\u001b[0;36m, line \u001b[0;32m21\u001b[0m\n\u001b[0;31m    print(f'Gradient failed on {name} with difference {difference}!')\u001b[0m\n\u001b[0m                                                                   ^\u001b[0m\n\u001b[0;31mSyntaxError\u001b[0m\u001b[0;31m:\u001b[0m invalid syntax\n"
     ]
    }
   ],
   "source": [
    "import numpy as np\n",
    "\n",
    "for input_len in np.random.randint(low=1, high=10, size=10):\n",
    "    # Random input length and input values\n",
    "    recurrent = Recurrent(input_len)\n",
    "    wh, wx = np.random.randn(2)\n",
    "    h0 = np.random.randn()\n",
    "    X = np.random.randn(input_len)\n",
    "\n",
    "    # Gradient check\n",
    "    estimated_grads = estimate_gradients(recurrent.forward,\n",
    "                                         wrt=['wx', 'wh', 'h0'],\n",
    "                                         at={'wx': wx, 'X': X, 'wh': wh, 'h0': h0})\n",
    "    exact_grads = recurrent.backward(1)\n",
    "    try:\n",
    "        for name, value in zip(['wx', 'wh', 'h0'], exact_grads):\n",
    "            estimated_grad = estimated_grads[name]\n",
    "            difference = abs(estimated_grad - value)\n",
    "            assert difference < 1e-3\n",
    "    except AssertionError:\n",
    "        print(f'Gradient failed on {name} with difference {difference}!')"
   ]
  },
  {
   "cell_type": "code",
   "execution_count": null,
   "metadata": {
    "collapsed": true,
    "deletable": true,
    "editable": true
   },
   "outputs": [],
   "source": []
  }
 ],
 "metadata": {
  "kernelspec": {
   "display_name": "Python [default]",
   "language": "python",
   "name": "python3"
  }
 },
 "nbformat": 4,
 "nbformat_minor": 2
}
