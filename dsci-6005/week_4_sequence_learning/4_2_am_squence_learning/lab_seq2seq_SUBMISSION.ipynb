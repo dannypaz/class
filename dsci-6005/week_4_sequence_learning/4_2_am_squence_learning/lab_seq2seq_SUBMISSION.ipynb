{
 "cells": [
  {
   "cell_type": "markdown",
   "metadata": {
    "deletable": true,
    "editable": true
   },
   "source": [
    "# Sequence to Sequence Lab\n",
    "\n",
    "Welcome to the sequence to sequence lab! By the end of this lab you will have\n",
    "\n",
    "- Trained a recurrent neural networks to perform arithmetic\n",
    "- Written a keras callback to track your model throughout training\n",
    "\n",
    "Let's get started!\n",
    "\n",
    "---\n",
    "\n",
    "# Synthetic Data Parameters\n",
    "\n",
    "The following code defines a set of hyperparameters describing the synthetic addition dataset."
   ]
  },
  {
   "cell_type": "code",
   "execution_count": 1,
   "metadata": {
    "collapsed": false,
    "deletable": true,
    "editable": true
   },
   "outputs": [
    {
     "data": {
      "text/plain": [
       "{'CHARS': ['0', '1', '2', '3', '4', '5', '6', '7', '8', '9', ' ', '-', '+'],\n",
       " 'DIGITS': [0, 1, 2, 3, 4, 5, 6, 7, 8, 9],\n",
       " 'LEN_MAXNUM': 1,\n",
       " 'MAXLEN_ANS': 3,\n",
       " 'MAXLEN_EXPR': 5,\n",
       " 'MAXNUM': 9,\n",
       " 'MINNUM': -9,\n",
       " 'NB_CHAR': 13,\n",
       " 'NB_DIGIT': 10,\n",
       " 'NB_TRAIN': 10000}"
      ]
     },
     "execution_count": 1,
     "metadata": {},
     "output_type": "execute_result"
    }
   ],
   "source": [
    "H = {}\n",
    "\n",
    "NB_NB = 2\n",
    "\n",
    "H['NB_DIGIT'] = 10\n",
    "H['DIGITS'] = list(range(H['NB_DIGIT']))\n",
    "H['MAXNUM'] = 9\n",
    "H['MINNUM'], H['LEN_MAXNUM'] = -H['MAXNUM'], len(str(H['MAXNUM']))\n",
    "H['CHARS'] = [str(d) for d in H['DIGITS']] + [' ', '-', '+']\n",
    "H['NB_CHAR'] = len(H['CHARS'])\n",
    "H['MAXLEN_EXPR'] = '+'.join([f'-{H[\"MAXNUM\"]}']*NB_NB)\n",
    "H['MAXLEN_EXPR'] = len(H['MAXLEN_EXPR'])\n",
    "H['MAXLEN_ANS'] = len(f'-{str(H[\"MAXNUM\"]*NB_NB)}')\n",
    "H['NB_TRAIN'] = 10_000\n",
    "\n",
    "idx_to_char, char_to_idx = {i: c for i, c in enumerate(H['CHARS'])}, {c: i for i, c in enumerate(H['CHARS'])}\n",
    "\n",
    "H"
   ]
  },
  {
   "cell_type": "markdown",
   "metadata": {
    "deletable": true,
    "editable": true
   },
   "source": [
    "# Generate Equations\n",
    "\n",
    "The following code will create a list of arithmetic expressions paired with their evaluation."
   ]
  },
  {
   "cell_type": "code",
   "execution_count": 4,
   "metadata": {
    "collapsed": false,
    "deletable": true,
    "editable": true,
    "scrolled": true
   },
   "outputs": [
    {
     "data": {
      "text/plain": [
       "[['-9+-9', '-18'],\n",
       " ['-9+-8', '-17'],\n",
       " ['-9+-7', '-16'],\n",
       " ['-9+-6', '-15'],\n",
       " ['-9+-5', '-14']]"
      ]
     },
     "execution_count": 4,
     "metadata": {},
     "output_type": "execute_result"
    }
   ],
   "source": [
    "import numpy as np\n",
    "import operator\n",
    "import itertools\n",
    "\n",
    "sets = [None]*(NB_NB + NB_NB-1)\n",
    "sets[::2] = [range(H['MINNUM'], H['MAXNUM']+1) for _ in range(NB_NB)]\n",
    "sets[1::2] = [['+', '-'] for _ in range(NB_NB-1)]\n",
    "\n",
    "equations = []\n",
    "for expr in itertools.product(*sets):\n",
    "    expr = ''.join(str(sub_expr) for sub_expr in expr)\n",
    "    expr = '%*s' % (H['MAXLEN_EXPR'], expr)\n",
    "    ans = '%-*d' % (H['MAXLEN_ANS'], eval(expr))\n",
    "    equations.append([expr, ans])\n",
    "    \n",
    "H['NB_TRAIN'] = min(H['NB_TRAIN'], len(equations))\n",
    "equations[:5]"
   ]
  },
  {
   "cell_type": "markdown",
   "metadata": {
    "deletable": true,
    "editable": true
   },
   "source": [
    "# Vectorize Equations\n",
    "\n",
    "The following code converts equations into source and target sequences of one-hot character vectors."
   ]
  },
  {
   "cell_type": "code",
   "execution_count": 19,
   "metadata": {
    "collapsed": false
   },
   "outputs": [
    {
     "data": {
      "text/plain": [
       "[range(-9, 10), range(-9, 10)]"
      ]
     },
     "execution_count": 19,
     "metadata": {},
     "output_type": "execute_result"
    }
   ],
   "source": [
    "list([range(H['MINNUM'], H['MAXNUM']+1) for _ in range(NB_NB)])"
   ]
  },
  {
   "cell_type": "code",
   "execution_count": 17,
   "metadata": {
    "collapsed": false
   },
   "outputs": [
    {
     "data": {
      "text/plain": [
       "array([3, 5, 4])"
      ]
     },
     "execution_count": 17,
     "metadata": {},
     "output_type": "execute_result"
    }
   ],
   "source": [
    "t[1::2]"
   ]
  },
  {
   "cell_type": "code",
   "execution_count": null,
   "metadata": {
    "collapsed": true
   },
   "outputs": [],
   "source": []
  },
  {
   "cell_type": "code",
   "execution_count": 5,
   "metadata": {
    "collapsed": false,
    "deletable": true,
    "editable": true
   },
   "outputs": [
    {
     "name": "stdout",
     "output_type": "stream",
     "text": [
      "['  3-1', '2  ']\n"
     ]
    },
    {
     "data": {
      "text/html": [
       "\n",
       "        <style  type=\"text/css\" >\n",
       "        \n",
       "        \n",
       "            #T_5c749f74_1ef2_11e7_8f3e_d0a637ebd849row0_col10 {\n",
       "            \n",
       "                background-color:  red;\n",
       "            \n",
       "            }\n",
       "        \n",
       "            #T_5c749f74_1ef2_11e7_8f3e_d0a637ebd849row1_col10 {\n",
       "            \n",
       "                background-color:  red;\n",
       "            \n",
       "            }\n",
       "        \n",
       "            #T_5c749f74_1ef2_11e7_8f3e_d0a637ebd849row2_col3 {\n",
       "            \n",
       "                background-color:  red;\n",
       "            \n",
       "            }\n",
       "        \n",
       "            #T_5c749f74_1ef2_11e7_8f3e_d0a637ebd849row3_col11 {\n",
       "            \n",
       "                background-color:  red;\n",
       "            \n",
       "            }\n",
       "        \n",
       "            #T_5c749f74_1ef2_11e7_8f3e_d0a637ebd849row4_col1 {\n",
       "            \n",
       "                background-color:  red;\n",
       "            \n",
       "            }\n",
       "        \n",
       "        </style>\n",
       "\n",
       "        <table id=\"T_5c749f74_1ef2_11e7_8f3e_d0a637ebd849\" None>\n",
       "        \n",
       "\n",
       "        <thead>\n",
       "            \n",
       "            <tr>\n",
       "                \n",
       "                \n",
       "                <th class=\"blank level0\" >\n",
       "                  \n",
       "                \n",
       "                \n",
       "                \n",
       "                <th class=\"col_heading level0 col0\" colspan=1>\n",
       "                  0\n",
       "                \n",
       "                \n",
       "                \n",
       "                <th class=\"col_heading level0 col1\" colspan=1>\n",
       "                  1\n",
       "                \n",
       "                \n",
       "                \n",
       "                <th class=\"col_heading level0 col2\" colspan=1>\n",
       "                  2\n",
       "                \n",
       "                \n",
       "                \n",
       "                <th class=\"col_heading level0 col3\" colspan=1>\n",
       "                  3\n",
       "                \n",
       "                \n",
       "                \n",
       "                <th class=\"col_heading level0 col4\" colspan=1>\n",
       "                  4\n",
       "                \n",
       "                \n",
       "                \n",
       "                <th class=\"col_heading level0 col5\" colspan=1>\n",
       "                  5\n",
       "                \n",
       "                \n",
       "                \n",
       "                <th class=\"col_heading level0 col6\" colspan=1>\n",
       "                  6\n",
       "                \n",
       "                \n",
       "                \n",
       "                <th class=\"col_heading level0 col7\" colspan=1>\n",
       "                  7\n",
       "                \n",
       "                \n",
       "                \n",
       "                <th class=\"col_heading level0 col8\" colspan=1>\n",
       "                  8\n",
       "                \n",
       "                \n",
       "                \n",
       "                <th class=\"col_heading level0 col9\" colspan=1>\n",
       "                  9\n",
       "                \n",
       "                \n",
       "                \n",
       "                <th class=\"col_heading level0 col10\" colspan=1>\n",
       "                   \n",
       "                \n",
       "                \n",
       "                \n",
       "                <th class=\"col_heading level0 col11\" colspan=1>\n",
       "                  -\n",
       "                \n",
       "                \n",
       "                \n",
       "                <th class=\"col_heading level0 col12\" colspan=1>\n",
       "                  +\n",
       "                \n",
       "                \n",
       "            </tr>\n",
       "            \n",
       "            <tr>\n",
       "                \n",
       "                \n",
       "                <th class=\"index_name level0\" >\n",
       "                  Timestep\n",
       "                \n",
       "                \n",
       "                \n",
       "                <th class=\"blank\" >\n",
       "                  \n",
       "                \n",
       "                \n",
       "                \n",
       "                <th class=\"blank\" >\n",
       "                  \n",
       "                \n",
       "                \n",
       "                \n",
       "                <th class=\"blank\" >\n",
       "                  \n",
       "                \n",
       "                \n",
       "                \n",
       "                <th class=\"blank\" >\n",
       "                  \n",
       "                \n",
       "                \n",
       "                \n",
       "                <th class=\"blank\" >\n",
       "                  \n",
       "                \n",
       "                \n",
       "                \n",
       "                <th class=\"blank\" >\n",
       "                  \n",
       "                \n",
       "                \n",
       "                \n",
       "                <th class=\"blank\" >\n",
       "                  \n",
       "                \n",
       "                \n",
       "                \n",
       "                <th class=\"blank\" >\n",
       "                  \n",
       "                \n",
       "                \n",
       "                \n",
       "                <th class=\"blank\" >\n",
       "                  \n",
       "                \n",
       "                \n",
       "                \n",
       "                <th class=\"blank\" >\n",
       "                  \n",
       "                \n",
       "                \n",
       "                \n",
       "                <th class=\"blank\" >\n",
       "                  \n",
       "                \n",
       "                \n",
       "                \n",
       "                <th class=\"blank\" >\n",
       "                  \n",
       "                \n",
       "                \n",
       "                \n",
       "                <th class=\"blank\" >\n",
       "                  \n",
       "                \n",
       "                \n",
       "            </tr>\n",
       "            \n",
       "        </thead>\n",
       "        <tbody>\n",
       "            \n",
       "            <tr>\n",
       "                \n",
       "                \n",
       "                <th id=\"T_5c749f74_1ef2_11e7_8f3e_d0a637ebd849\"\n",
       "                 class=\"row_heading level0 row0\" rowspan=1>\n",
       "                    0\n",
       "                \n",
       "                \n",
       "                \n",
       "                <td id=\"T_5c749f74_1ef2_11e7_8f3e_d0a637ebd849row0_col0\"\n",
       "                 class=\"data row0 col0\" >\n",
       "                    0\n",
       "                \n",
       "                \n",
       "                \n",
       "                <td id=\"T_5c749f74_1ef2_11e7_8f3e_d0a637ebd849row0_col1\"\n",
       "                 class=\"data row0 col1\" >\n",
       "                    0\n",
       "                \n",
       "                \n",
       "                \n",
       "                <td id=\"T_5c749f74_1ef2_11e7_8f3e_d0a637ebd849row0_col2\"\n",
       "                 class=\"data row0 col2\" >\n",
       "                    0\n",
       "                \n",
       "                \n",
       "                \n",
       "                <td id=\"T_5c749f74_1ef2_11e7_8f3e_d0a637ebd849row0_col3\"\n",
       "                 class=\"data row0 col3\" >\n",
       "                    0\n",
       "                \n",
       "                \n",
       "                \n",
       "                <td id=\"T_5c749f74_1ef2_11e7_8f3e_d0a637ebd849row0_col4\"\n",
       "                 class=\"data row0 col4\" >\n",
       "                    0\n",
       "                \n",
       "                \n",
       "                \n",
       "                <td id=\"T_5c749f74_1ef2_11e7_8f3e_d0a637ebd849row0_col5\"\n",
       "                 class=\"data row0 col5\" >\n",
       "                    0\n",
       "                \n",
       "                \n",
       "                \n",
       "                <td id=\"T_5c749f74_1ef2_11e7_8f3e_d0a637ebd849row0_col6\"\n",
       "                 class=\"data row0 col6\" >\n",
       "                    0\n",
       "                \n",
       "                \n",
       "                \n",
       "                <td id=\"T_5c749f74_1ef2_11e7_8f3e_d0a637ebd849row0_col7\"\n",
       "                 class=\"data row0 col7\" >\n",
       "                    0\n",
       "                \n",
       "                \n",
       "                \n",
       "                <td id=\"T_5c749f74_1ef2_11e7_8f3e_d0a637ebd849row0_col8\"\n",
       "                 class=\"data row0 col8\" >\n",
       "                    0\n",
       "                \n",
       "                \n",
       "                \n",
       "                <td id=\"T_5c749f74_1ef2_11e7_8f3e_d0a637ebd849row0_col9\"\n",
       "                 class=\"data row0 col9\" >\n",
       "                    0\n",
       "                \n",
       "                \n",
       "                \n",
       "                <td id=\"T_5c749f74_1ef2_11e7_8f3e_d0a637ebd849row0_col10\"\n",
       "                 class=\"data row0 col10\" >\n",
       "                    1\n",
       "                \n",
       "                \n",
       "                \n",
       "                <td id=\"T_5c749f74_1ef2_11e7_8f3e_d0a637ebd849row0_col11\"\n",
       "                 class=\"data row0 col11\" >\n",
       "                    0\n",
       "                \n",
       "                \n",
       "                \n",
       "                <td id=\"T_5c749f74_1ef2_11e7_8f3e_d0a637ebd849row0_col12\"\n",
       "                 class=\"data row0 col12\" >\n",
       "                    0\n",
       "                \n",
       "                \n",
       "            </tr>\n",
       "            \n",
       "            <tr>\n",
       "                \n",
       "                \n",
       "                <th id=\"T_5c749f74_1ef2_11e7_8f3e_d0a637ebd849\"\n",
       "                 class=\"row_heading level0 row1\" rowspan=1>\n",
       "                    1\n",
       "                \n",
       "                \n",
       "                \n",
       "                <td id=\"T_5c749f74_1ef2_11e7_8f3e_d0a637ebd849row1_col0\"\n",
       "                 class=\"data row1 col0\" >\n",
       "                    0\n",
       "                \n",
       "                \n",
       "                \n",
       "                <td id=\"T_5c749f74_1ef2_11e7_8f3e_d0a637ebd849row1_col1\"\n",
       "                 class=\"data row1 col1\" >\n",
       "                    0\n",
       "                \n",
       "                \n",
       "                \n",
       "                <td id=\"T_5c749f74_1ef2_11e7_8f3e_d0a637ebd849row1_col2\"\n",
       "                 class=\"data row1 col2\" >\n",
       "                    0\n",
       "                \n",
       "                \n",
       "                \n",
       "                <td id=\"T_5c749f74_1ef2_11e7_8f3e_d0a637ebd849row1_col3\"\n",
       "                 class=\"data row1 col3\" >\n",
       "                    0\n",
       "                \n",
       "                \n",
       "                \n",
       "                <td id=\"T_5c749f74_1ef2_11e7_8f3e_d0a637ebd849row1_col4\"\n",
       "                 class=\"data row1 col4\" >\n",
       "                    0\n",
       "                \n",
       "                \n",
       "                \n",
       "                <td id=\"T_5c749f74_1ef2_11e7_8f3e_d0a637ebd849row1_col5\"\n",
       "                 class=\"data row1 col5\" >\n",
       "                    0\n",
       "                \n",
       "                \n",
       "                \n",
       "                <td id=\"T_5c749f74_1ef2_11e7_8f3e_d0a637ebd849row1_col6\"\n",
       "                 class=\"data row1 col6\" >\n",
       "                    0\n",
       "                \n",
       "                \n",
       "                \n",
       "                <td id=\"T_5c749f74_1ef2_11e7_8f3e_d0a637ebd849row1_col7\"\n",
       "                 class=\"data row1 col7\" >\n",
       "                    0\n",
       "                \n",
       "                \n",
       "                \n",
       "                <td id=\"T_5c749f74_1ef2_11e7_8f3e_d0a637ebd849row1_col8\"\n",
       "                 class=\"data row1 col8\" >\n",
       "                    0\n",
       "                \n",
       "                \n",
       "                \n",
       "                <td id=\"T_5c749f74_1ef2_11e7_8f3e_d0a637ebd849row1_col9\"\n",
       "                 class=\"data row1 col9\" >\n",
       "                    0\n",
       "                \n",
       "                \n",
       "                \n",
       "                <td id=\"T_5c749f74_1ef2_11e7_8f3e_d0a637ebd849row1_col10\"\n",
       "                 class=\"data row1 col10\" >\n",
       "                    1\n",
       "                \n",
       "                \n",
       "                \n",
       "                <td id=\"T_5c749f74_1ef2_11e7_8f3e_d0a637ebd849row1_col11\"\n",
       "                 class=\"data row1 col11\" >\n",
       "                    0\n",
       "                \n",
       "                \n",
       "                \n",
       "                <td id=\"T_5c749f74_1ef2_11e7_8f3e_d0a637ebd849row1_col12\"\n",
       "                 class=\"data row1 col12\" >\n",
       "                    0\n",
       "                \n",
       "                \n",
       "            </tr>\n",
       "            \n",
       "            <tr>\n",
       "                \n",
       "                \n",
       "                <th id=\"T_5c749f74_1ef2_11e7_8f3e_d0a637ebd849\"\n",
       "                 class=\"row_heading level0 row2\" rowspan=1>\n",
       "                    2\n",
       "                \n",
       "                \n",
       "                \n",
       "                <td id=\"T_5c749f74_1ef2_11e7_8f3e_d0a637ebd849row2_col0\"\n",
       "                 class=\"data row2 col0\" >\n",
       "                    0\n",
       "                \n",
       "                \n",
       "                \n",
       "                <td id=\"T_5c749f74_1ef2_11e7_8f3e_d0a637ebd849row2_col1\"\n",
       "                 class=\"data row2 col1\" >\n",
       "                    0\n",
       "                \n",
       "                \n",
       "                \n",
       "                <td id=\"T_5c749f74_1ef2_11e7_8f3e_d0a637ebd849row2_col2\"\n",
       "                 class=\"data row2 col2\" >\n",
       "                    0\n",
       "                \n",
       "                \n",
       "                \n",
       "                <td id=\"T_5c749f74_1ef2_11e7_8f3e_d0a637ebd849row2_col3\"\n",
       "                 class=\"data row2 col3\" >\n",
       "                    1\n",
       "                \n",
       "                \n",
       "                \n",
       "                <td id=\"T_5c749f74_1ef2_11e7_8f3e_d0a637ebd849row2_col4\"\n",
       "                 class=\"data row2 col4\" >\n",
       "                    0\n",
       "                \n",
       "                \n",
       "                \n",
       "                <td id=\"T_5c749f74_1ef2_11e7_8f3e_d0a637ebd849row2_col5\"\n",
       "                 class=\"data row2 col5\" >\n",
       "                    0\n",
       "                \n",
       "                \n",
       "                \n",
       "                <td id=\"T_5c749f74_1ef2_11e7_8f3e_d0a637ebd849row2_col6\"\n",
       "                 class=\"data row2 col6\" >\n",
       "                    0\n",
       "                \n",
       "                \n",
       "                \n",
       "                <td id=\"T_5c749f74_1ef2_11e7_8f3e_d0a637ebd849row2_col7\"\n",
       "                 class=\"data row2 col7\" >\n",
       "                    0\n",
       "                \n",
       "                \n",
       "                \n",
       "                <td id=\"T_5c749f74_1ef2_11e7_8f3e_d0a637ebd849row2_col8\"\n",
       "                 class=\"data row2 col8\" >\n",
       "                    0\n",
       "                \n",
       "                \n",
       "                \n",
       "                <td id=\"T_5c749f74_1ef2_11e7_8f3e_d0a637ebd849row2_col9\"\n",
       "                 class=\"data row2 col9\" >\n",
       "                    0\n",
       "                \n",
       "                \n",
       "                \n",
       "                <td id=\"T_5c749f74_1ef2_11e7_8f3e_d0a637ebd849row2_col10\"\n",
       "                 class=\"data row2 col10\" >\n",
       "                    0\n",
       "                \n",
       "                \n",
       "                \n",
       "                <td id=\"T_5c749f74_1ef2_11e7_8f3e_d0a637ebd849row2_col11\"\n",
       "                 class=\"data row2 col11\" >\n",
       "                    0\n",
       "                \n",
       "                \n",
       "                \n",
       "                <td id=\"T_5c749f74_1ef2_11e7_8f3e_d0a637ebd849row2_col12\"\n",
       "                 class=\"data row2 col12\" >\n",
       "                    0\n",
       "                \n",
       "                \n",
       "            </tr>\n",
       "            \n",
       "            <tr>\n",
       "                \n",
       "                \n",
       "                <th id=\"T_5c749f74_1ef2_11e7_8f3e_d0a637ebd849\"\n",
       "                 class=\"row_heading level0 row3\" rowspan=1>\n",
       "                    3\n",
       "                \n",
       "                \n",
       "                \n",
       "                <td id=\"T_5c749f74_1ef2_11e7_8f3e_d0a637ebd849row3_col0\"\n",
       "                 class=\"data row3 col0\" >\n",
       "                    0\n",
       "                \n",
       "                \n",
       "                \n",
       "                <td id=\"T_5c749f74_1ef2_11e7_8f3e_d0a637ebd849row3_col1\"\n",
       "                 class=\"data row3 col1\" >\n",
       "                    0\n",
       "                \n",
       "                \n",
       "                \n",
       "                <td id=\"T_5c749f74_1ef2_11e7_8f3e_d0a637ebd849row3_col2\"\n",
       "                 class=\"data row3 col2\" >\n",
       "                    0\n",
       "                \n",
       "                \n",
       "                \n",
       "                <td id=\"T_5c749f74_1ef2_11e7_8f3e_d0a637ebd849row3_col3\"\n",
       "                 class=\"data row3 col3\" >\n",
       "                    0\n",
       "                \n",
       "                \n",
       "                \n",
       "                <td id=\"T_5c749f74_1ef2_11e7_8f3e_d0a637ebd849row3_col4\"\n",
       "                 class=\"data row3 col4\" >\n",
       "                    0\n",
       "                \n",
       "                \n",
       "                \n",
       "                <td id=\"T_5c749f74_1ef2_11e7_8f3e_d0a637ebd849row3_col5\"\n",
       "                 class=\"data row3 col5\" >\n",
       "                    0\n",
       "                \n",
       "                \n",
       "                \n",
       "                <td id=\"T_5c749f74_1ef2_11e7_8f3e_d0a637ebd849row3_col6\"\n",
       "                 class=\"data row3 col6\" >\n",
       "                    0\n",
       "                \n",
       "                \n",
       "                \n",
       "                <td id=\"T_5c749f74_1ef2_11e7_8f3e_d0a637ebd849row3_col7\"\n",
       "                 class=\"data row3 col7\" >\n",
       "                    0\n",
       "                \n",
       "                \n",
       "                \n",
       "                <td id=\"T_5c749f74_1ef2_11e7_8f3e_d0a637ebd849row3_col8\"\n",
       "                 class=\"data row3 col8\" >\n",
       "                    0\n",
       "                \n",
       "                \n",
       "                \n",
       "                <td id=\"T_5c749f74_1ef2_11e7_8f3e_d0a637ebd849row3_col9\"\n",
       "                 class=\"data row3 col9\" >\n",
       "                    0\n",
       "                \n",
       "                \n",
       "                \n",
       "                <td id=\"T_5c749f74_1ef2_11e7_8f3e_d0a637ebd849row3_col10\"\n",
       "                 class=\"data row3 col10\" >\n",
       "                    0\n",
       "                \n",
       "                \n",
       "                \n",
       "                <td id=\"T_5c749f74_1ef2_11e7_8f3e_d0a637ebd849row3_col11\"\n",
       "                 class=\"data row3 col11\" >\n",
       "                    1\n",
       "                \n",
       "                \n",
       "                \n",
       "                <td id=\"T_5c749f74_1ef2_11e7_8f3e_d0a637ebd849row3_col12\"\n",
       "                 class=\"data row3 col12\" >\n",
       "                    0\n",
       "                \n",
       "                \n",
       "            </tr>\n",
       "            \n",
       "            <tr>\n",
       "                \n",
       "                \n",
       "                <th id=\"T_5c749f74_1ef2_11e7_8f3e_d0a637ebd849\"\n",
       "                 class=\"row_heading level0 row4\" rowspan=1>\n",
       "                    4\n",
       "                \n",
       "                \n",
       "                \n",
       "                <td id=\"T_5c749f74_1ef2_11e7_8f3e_d0a637ebd849row4_col0\"\n",
       "                 class=\"data row4 col0\" >\n",
       "                    0\n",
       "                \n",
       "                \n",
       "                \n",
       "                <td id=\"T_5c749f74_1ef2_11e7_8f3e_d0a637ebd849row4_col1\"\n",
       "                 class=\"data row4 col1\" >\n",
       "                    1\n",
       "                \n",
       "                \n",
       "                \n",
       "                <td id=\"T_5c749f74_1ef2_11e7_8f3e_d0a637ebd849row4_col2\"\n",
       "                 class=\"data row4 col2\" >\n",
       "                    0\n",
       "                \n",
       "                \n",
       "                \n",
       "                <td id=\"T_5c749f74_1ef2_11e7_8f3e_d0a637ebd849row4_col3\"\n",
       "                 class=\"data row4 col3\" >\n",
       "                    0\n",
       "                \n",
       "                \n",
       "                \n",
       "                <td id=\"T_5c749f74_1ef2_11e7_8f3e_d0a637ebd849row4_col4\"\n",
       "                 class=\"data row4 col4\" >\n",
       "                    0\n",
       "                \n",
       "                \n",
       "                \n",
       "                <td id=\"T_5c749f74_1ef2_11e7_8f3e_d0a637ebd849row4_col5\"\n",
       "                 class=\"data row4 col5\" >\n",
       "                    0\n",
       "                \n",
       "                \n",
       "                \n",
       "                <td id=\"T_5c749f74_1ef2_11e7_8f3e_d0a637ebd849row4_col6\"\n",
       "                 class=\"data row4 col6\" >\n",
       "                    0\n",
       "                \n",
       "                \n",
       "                \n",
       "                <td id=\"T_5c749f74_1ef2_11e7_8f3e_d0a637ebd849row4_col7\"\n",
       "                 class=\"data row4 col7\" >\n",
       "                    0\n",
       "                \n",
       "                \n",
       "                \n",
       "                <td id=\"T_5c749f74_1ef2_11e7_8f3e_d0a637ebd849row4_col8\"\n",
       "                 class=\"data row4 col8\" >\n",
       "                    0\n",
       "                \n",
       "                \n",
       "                \n",
       "                <td id=\"T_5c749f74_1ef2_11e7_8f3e_d0a637ebd849row4_col9\"\n",
       "                 class=\"data row4 col9\" >\n",
       "                    0\n",
       "                \n",
       "                \n",
       "                \n",
       "                <td id=\"T_5c749f74_1ef2_11e7_8f3e_d0a637ebd849row4_col10\"\n",
       "                 class=\"data row4 col10\" >\n",
       "                    0\n",
       "                \n",
       "                \n",
       "                \n",
       "                <td id=\"T_5c749f74_1ef2_11e7_8f3e_d0a637ebd849row4_col11\"\n",
       "                 class=\"data row4 col11\" >\n",
       "                    0\n",
       "                \n",
       "                \n",
       "                \n",
       "                <td id=\"T_5c749f74_1ef2_11e7_8f3e_d0a637ebd849row4_col12\"\n",
       "                 class=\"data row4 col12\" >\n",
       "                    0\n",
       "                \n",
       "                \n",
       "            </tr>\n",
       "            \n",
       "        </tbody>\n",
       "        </table>\n",
       "        "
      ],
      "text/plain": [
       "<pandas.formats.style.Styler at 0x11795d710>"
      ]
     },
     "metadata": {},
     "output_type": "display_data"
    },
    {
     "data": {
      "text/html": [
       "\n",
       "        <style  type=\"text/css\" >\n",
       "        \n",
       "        \n",
       "            #T_5c79ee5a_1ef2_11e7_9521_d0a637ebd849row0_col2 {\n",
       "            \n",
       "                background-color:  red;\n",
       "            \n",
       "            }\n",
       "        \n",
       "            #T_5c79ee5a_1ef2_11e7_9521_d0a637ebd849row1_col10 {\n",
       "            \n",
       "                background-color:  red;\n",
       "            \n",
       "            }\n",
       "        \n",
       "            #T_5c79ee5a_1ef2_11e7_9521_d0a637ebd849row2_col10 {\n",
       "            \n",
       "                background-color:  red;\n",
       "            \n",
       "            }\n",
       "        \n",
       "        </style>\n",
       "\n",
       "        <table id=\"T_5c79ee5a_1ef2_11e7_9521_d0a637ebd849\" None>\n",
       "        \n",
       "\n",
       "        <thead>\n",
       "            \n",
       "            <tr>\n",
       "                \n",
       "                \n",
       "                <th class=\"blank level0\" >\n",
       "                  \n",
       "                \n",
       "                \n",
       "                \n",
       "                <th class=\"col_heading level0 col0\" colspan=1>\n",
       "                  0\n",
       "                \n",
       "                \n",
       "                \n",
       "                <th class=\"col_heading level0 col1\" colspan=1>\n",
       "                  1\n",
       "                \n",
       "                \n",
       "                \n",
       "                <th class=\"col_heading level0 col2\" colspan=1>\n",
       "                  2\n",
       "                \n",
       "                \n",
       "                \n",
       "                <th class=\"col_heading level0 col3\" colspan=1>\n",
       "                  3\n",
       "                \n",
       "                \n",
       "                \n",
       "                <th class=\"col_heading level0 col4\" colspan=1>\n",
       "                  4\n",
       "                \n",
       "                \n",
       "                \n",
       "                <th class=\"col_heading level0 col5\" colspan=1>\n",
       "                  5\n",
       "                \n",
       "                \n",
       "                \n",
       "                <th class=\"col_heading level0 col6\" colspan=1>\n",
       "                  6\n",
       "                \n",
       "                \n",
       "                \n",
       "                <th class=\"col_heading level0 col7\" colspan=1>\n",
       "                  7\n",
       "                \n",
       "                \n",
       "                \n",
       "                <th class=\"col_heading level0 col8\" colspan=1>\n",
       "                  8\n",
       "                \n",
       "                \n",
       "                \n",
       "                <th class=\"col_heading level0 col9\" colspan=1>\n",
       "                  9\n",
       "                \n",
       "                \n",
       "                \n",
       "                <th class=\"col_heading level0 col10\" colspan=1>\n",
       "                   \n",
       "                \n",
       "                \n",
       "                \n",
       "                <th class=\"col_heading level0 col11\" colspan=1>\n",
       "                  -\n",
       "                \n",
       "                \n",
       "            </tr>\n",
       "            \n",
       "            <tr>\n",
       "                \n",
       "                \n",
       "                <th class=\"index_name level0\" >\n",
       "                  Timestep\n",
       "                \n",
       "                \n",
       "                \n",
       "                <th class=\"blank\" >\n",
       "                  \n",
       "                \n",
       "                \n",
       "                \n",
       "                <th class=\"blank\" >\n",
       "                  \n",
       "                \n",
       "                \n",
       "                \n",
       "                <th class=\"blank\" >\n",
       "                  \n",
       "                \n",
       "                \n",
       "                \n",
       "                <th class=\"blank\" >\n",
       "                  \n",
       "                \n",
       "                \n",
       "                \n",
       "                <th class=\"blank\" >\n",
       "                  \n",
       "                \n",
       "                \n",
       "                \n",
       "                <th class=\"blank\" >\n",
       "                  \n",
       "                \n",
       "                \n",
       "                \n",
       "                <th class=\"blank\" >\n",
       "                  \n",
       "                \n",
       "                \n",
       "                \n",
       "                <th class=\"blank\" >\n",
       "                  \n",
       "                \n",
       "                \n",
       "                \n",
       "                <th class=\"blank\" >\n",
       "                  \n",
       "                \n",
       "                \n",
       "                \n",
       "                <th class=\"blank\" >\n",
       "                  \n",
       "                \n",
       "                \n",
       "                \n",
       "                <th class=\"blank\" >\n",
       "                  \n",
       "                \n",
       "                \n",
       "                \n",
       "                <th class=\"blank\" >\n",
       "                  \n",
       "                \n",
       "                \n",
       "            </tr>\n",
       "            \n",
       "        </thead>\n",
       "        <tbody>\n",
       "            \n",
       "            <tr>\n",
       "                \n",
       "                \n",
       "                <th id=\"T_5c79ee5a_1ef2_11e7_9521_d0a637ebd849\"\n",
       "                 class=\"row_heading level0 row0\" rowspan=1>\n",
       "                    0\n",
       "                \n",
       "                \n",
       "                \n",
       "                <td id=\"T_5c79ee5a_1ef2_11e7_9521_d0a637ebd849row0_col0\"\n",
       "                 class=\"data row0 col0\" >\n",
       "                    0\n",
       "                \n",
       "                \n",
       "                \n",
       "                <td id=\"T_5c79ee5a_1ef2_11e7_9521_d0a637ebd849row0_col1\"\n",
       "                 class=\"data row0 col1\" >\n",
       "                    0\n",
       "                \n",
       "                \n",
       "                \n",
       "                <td id=\"T_5c79ee5a_1ef2_11e7_9521_d0a637ebd849row0_col2\"\n",
       "                 class=\"data row0 col2\" >\n",
       "                    1\n",
       "                \n",
       "                \n",
       "                \n",
       "                <td id=\"T_5c79ee5a_1ef2_11e7_9521_d0a637ebd849row0_col3\"\n",
       "                 class=\"data row0 col3\" >\n",
       "                    0\n",
       "                \n",
       "                \n",
       "                \n",
       "                <td id=\"T_5c79ee5a_1ef2_11e7_9521_d0a637ebd849row0_col4\"\n",
       "                 class=\"data row0 col4\" >\n",
       "                    0\n",
       "                \n",
       "                \n",
       "                \n",
       "                <td id=\"T_5c79ee5a_1ef2_11e7_9521_d0a637ebd849row0_col5\"\n",
       "                 class=\"data row0 col5\" >\n",
       "                    0\n",
       "                \n",
       "                \n",
       "                \n",
       "                <td id=\"T_5c79ee5a_1ef2_11e7_9521_d0a637ebd849row0_col6\"\n",
       "                 class=\"data row0 col6\" >\n",
       "                    0\n",
       "                \n",
       "                \n",
       "                \n",
       "                <td id=\"T_5c79ee5a_1ef2_11e7_9521_d0a637ebd849row0_col7\"\n",
       "                 class=\"data row0 col7\" >\n",
       "                    0\n",
       "                \n",
       "                \n",
       "                \n",
       "                <td id=\"T_5c79ee5a_1ef2_11e7_9521_d0a637ebd849row0_col8\"\n",
       "                 class=\"data row0 col8\" >\n",
       "                    0\n",
       "                \n",
       "                \n",
       "                \n",
       "                <td id=\"T_5c79ee5a_1ef2_11e7_9521_d0a637ebd849row0_col9\"\n",
       "                 class=\"data row0 col9\" >\n",
       "                    0\n",
       "                \n",
       "                \n",
       "                \n",
       "                <td id=\"T_5c79ee5a_1ef2_11e7_9521_d0a637ebd849row0_col10\"\n",
       "                 class=\"data row0 col10\" >\n",
       "                    0\n",
       "                \n",
       "                \n",
       "                \n",
       "                <td id=\"T_5c79ee5a_1ef2_11e7_9521_d0a637ebd849row0_col11\"\n",
       "                 class=\"data row0 col11\" >\n",
       "                    0\n",
       "                \n",
       "                \n",
       "            </tr>\n",
       "            \n",
       "            <tr>\n",
       "                \n",
       "                \n",
       "                <th id=\"T_5c79ee5a_1ef2_11e7_9521_d0a637ebd849\"\n",
       "                 class=\"row_heading level0 row1\" rowspan=1>\n",
       "                    1\n",
       "                \n",
       "                \n",
       "                \n",
       "                <td id=\"T_5c79ee5a_1ef2_11e7_9521_d0a637ebd849row1_col0\"\n",
       "                 class=\"data row1 col0\" >\n",
       "                    0\n",
       "                \n",
       "                \n",
       "                \n",
       "                <td id=\"T_5c79ee5a_1ef2_11e7_9521_d0a637ebd849row1_col1\"\n",
       "                 class=\"data row1 col1\" >\n",
       "                    0\n",
       "                \n",
       "                \n",
       "                \n",
       "                <td id=\"T_5c79ee5a_1ef2_11e7_9521_d0a637ebd849row1_col2\"\n",
       "                 class=\"data row1 col2\" >\n",
       "                    0\n",
       "                \n",
       "                \n",
       "                \n",
       "                <td id=\"T_5c79ee5a_1ef2_11e7_9521_d0a637ebd849row1_col3\"\n",
       "                 class=\"data row1 col3\" >\n",
       "                    0\n",
       "                \n",
       "                \n",
       "                \n",
       "                <td id=\"T_5c79ee5a_1ef2_11e7_9521_d0a637ebd849row1_col4\"\n",
       "                 class=\"data row1 col4\" >\n",
       "                    0\n",
       "                \n",
       "                \n",
       "                \n",
       "                <td id=\"T_5c79ee5a_1ef2_11e7_9521_d0a637ebd849row1_col5\"\n",
       "                 class=\"data row1 col5\" >\n",
       "                    0\n",
       "                \n",
       "                \n",
       "                \n",
       "                <td id=\"T_5c79ee5a_1ef2_11e7_9521_d0a637ebd849row1_col6\"\n",
       "                 class=\"data row1 col6\" >\n",
       "                    0\n",
       "                \n",
       "                \n",
       "                \n",
       "                <td id=\"T_5c79ee5a_1ef2_11e7_9521_d0a637ebd849row1_col7\"\n",
       "                 class=\"data row1 col7\" >\n",
       "                    0\n",
       "                \n",
       "                \n",
       "                \n",
       "                <td id=\"T_5c79ee5a_1ef2_11e7_9521_d0a637ebd849row1_col8\"\n",
       "                 class=\"data row1 col8\" >\n",
       "                    0\n",
       "                \n",
       "                \n",
       "                \n",
       "                <td id=\"T_5c79ee5a_1ef2_11e7_9521_d0a637ebd849row1_col9\"\n",
       "                 class=\"data row1 col9\" >\n",
       "                    0\n",
       "                \n",
       "                \n",
       "                \n",
       "                <td id=\"T_5c79ee5a_1ef2_11e7_9521_d0a637ebd849row1_col10\"\n",
       "                 class=\"data row1 col10\" >\n",
       "                    1\n",
       "                \n",
       "                \n",
       "                \n",
       "                <td id=\"T_5c79ee5a_1ef2_11e7_9521_d0a637ebd849row1_col11\"\n",
       "                 class=\"data row1 col11\" >\n",
       "                    0\n",
       "                \n",
       "                \n",
       "            </tr>\n",
       "            \n",
       "            <tr>\n",
       "                \n",
       "                \n",
       "                <th id=\"T_5c79ee5a_1ef2_11e7_9521_d0a637ebd849\"\n",
       "                 class=\"row_heading level0 row2\" rowspan=1>\n",
       "                    2\n",
       "                \n",
       "                \n",
       "                \n",
       "                <td id=\"T_5c79ee5a_1ef2_11e7_9521_d0a637ebd849row2_col0\"\n",
       "                 class=\"data row2 col0\" >\n",
       "                    0\n",
       "                \n",
       "                \n",
       "                \n",
       "                <td id=\"T_5c79ee5a_1ef2_11e7_9521_d0a637ebd849row2_col1\"\n",
       "                 class=\"data row2 col1\" >\n",
       "                    0\n",
       "                \n",
       "                \n",
       "                \n",
       "                <td id=\"T_5c79ee5a_1ef2_11e7_9521_d0a637ebd849row2_col2\"\n",
       "                 class=\"data row2 col2\" >\n",
       "                    0\n",
       "                \n",
       "                \n",
       "                \n",
       "                <td id=\"T_5c79ee5a_1ef2_11e7_9521_d0a637ebd849row2_col3\"\n",
       "                 class=\"data row2 col3\" >\n",
       "                    0\n",
       "                \n",
       "                \n",
       "                \n",
       "                <td id=\"T_5c79ee5a_1ef2_11e7_9521_d0a637ebd849row2_col4\"\n",
       "                 class=\"data row2 col4\" >\n",
       "                    0\n",
       "                \n",
       "                \n",
       "                \n",
       "                <td id=\"T_5c79ee5a_1ef2_11e7_9521_d0a637ebd849row2_col5\"\n",
       "                 class=\"data row2 col5\" >\n",
       "                    0\n",
       "                \n",
       "                \n",
       "                \n",
       "                <td id=\"T_5c79ee5a_1ef2_11e7_9521_d0a637ebd849row2_col6\"\n",
       "                 class=\"data row2 col6\" >\n",
       "                    0\n",
       "                \n",
       "                \n",
       "                \n",
       "                <td id=\"T_5c79ee5a_1ef2_11e7_9521_d0a637ebd849row2_col7\"\n",
       "                 class=\"data row2 col7\" >\n",
       "                    0\n",
       "                \n",
       "                \n",
       "                \n",
       "                <td id=\"T_5c79ee5a_1ef2_11e7_9521_d0a637ebd849row2_col8\"\n",
       "                 class=\"data row2 col8\" >\n",
       "                    0\n",
       "                \n",
       "                \n",
       "                \n",
       "                <td id=\"T_5c79ee5a_1ef2_11e7_9521_d0a637ebd849row2_col9\"\n",
       "                 class=\"data row2 col9\" >\n",
       "                    0\n",
       "                \n",
       "                \n",
       "                \n",
       "                <td id=\"T_5c79ee5a_1ef2_11e7_9521_d0a637ebd849row2_col10\"\n",
       "                 class=\"data row2 col10\" >\n",
       "                    1\n",
       "                \n",
       "                \n",
       "                \n",
       "                <td id=\"T_5c79ee5a_1ef2_11e7_9521_d0a637ebd849row2_col11\"\n",
       "                 class=\"data row2 col11\" >\n",
       "                    0\n",
       "                \n",
       "                \n",
       "            </tr>\n",
       "            \n",
       "        </tbody>\n",
       "        </table>\n",
       "        "
      ],
      "text/plain": [
       "<pandas.formats.style.Styler at 0x11792dc88>"
      ]
     },
     "metadata": {},
     "output_type": "display_data"
    }
   ],
   "source": [
    "from IPython.display import display\n",
    "import numpy as np\n",
    "import pandas as pd\n",
    "\n",
    "X = np.zeros([H['NB_TRAIN'], H['MAXLEN_EXPR'], H['NB_CHAR']])\n",
    "y = np.zeros([H['NB_TRAIN'], H['MAXLEN_ANS'], H['NB_DIGIT']+2]) # +2 for ' ' and '-\n",
    "for i, (expr, ans) in enumerate(equations[:H['NB_TRAIN']]):\n",
    "    X[np.full(H['MAXLEN_EXPR'], fill_value=i), np.arange(H['MAXLEN_EXPR']), [char_to_idx[c] for c in expr]] = 1\n",
    "    y[np.full(H['MAXLEN_ANS'], fill_value=i), np.arange(H['MAXLEN_ANS']), [char_to_idx[c] for c in ans]] = 1\n",
    "\n",
    "idxs = np.arange(len(y))\n",
    "np.random.shuffle(idxs)\n",
    "X = X[idxs, :H['NB_TRAIN']]\n",
    "y = y[idxs, :H['NB_TRAIN']]\n",
    "equations = [equations[i] for i in idxs][:H['NB_TRAIN']]\n",
    "\n",
    "print(equations[0])\n",
    "dfx, dfy = pd.DataFrame(X[0], dtype=np.uint, columns=H['CHARS']), pd.DataFrame(y[0], dtype=np.uint, columns=H['CHARS'][:-1])\n",
    "dfx.index.name = dfy.index.name = 'Timestep'\n",
    "display(dfx.style.highlight_max(color='red', axis=1)); display(dfy.style.highlight_max(color='red', axis=1))"
   ]
  },
  {
   "cell_type": "code",
   "execution_count": 21,
   "metadata": {
    "collapsed": false
   },
   "outputs": [
    {
     "data": {
      "text/plain": [
       "(722, 5, 13)"
      ]
     },
     "execution_count": 21,
     "metadata": {},
     "output_type": "execute_result"
    }
   ],
   "source": [
    "X.shape"
   ]
  },
  {
   "cell_type": "code",
   "execution_count": 23,
   "metadata": {
    "collapsed": false
   },
   "outputs": [
    {
     "data": {
      "text/plain": [
       "array([[ 0.,  0.,  0.,  0.,  0.,  0.,  0.,  0.,  0.,  0.,  1.,  0.,  0.],\n",
       "       [ 0.,  0.,  0.,  0.,  0.,  0.,  0.,  0.,  0.,  0.,  1.,  0.,  0.],\n",
       "       [ 0.,  0.,  0.,  1.,  0.,  0.,  0.,  0.,  0.,  0.,  0.,  0.,  0.],\n",
       "       [ 0.,  0.,  0.,  0.,  0.,  0.,  0.,  0.,  0.,  0.,  0.,  1.,  0.],\n",
       "       [ 0.,  1.,  0.,  0.,  0.,  0.,  0.,  0.,  0.,  0.,  0.,  0.,  0.]])"
      ]
     },
     "execution_count": 23,
     "metadata": {},
     "output_type": "execute_result"
    }
   ],
   "source": [
    "X[0]"
   ]
  },
  {
   "cell_type": "code",
   "execution_count": 22,
   "metadata": {
    "collapsed": false
   },
   "outputs": [
    {
     "data": {
      "text/plain": [
       "(722, 3, 12)"
      ]
     },
     "execution_count": 22,
     "metadata": {},
     "output_type": "execute_result"
    }
   ],
   "source": [
    "y.shape"
   ]
  },
  {
   "cell_type": "markdown",
   "metadata": {
    "deletable": true,
    "editable": true
   },
   "source": [
    "# Define Sequence to Sequence Model\n",
    "\n",
    "## Tasks\n",
    "\n",
    "- Define a keras sequence to sequence model that maps arithmetic expressions to number values\n",
    "\n",
    "## Requirements\n",
    "\n",
    "- Use the data parameters in `H` to define the dimensions of your architecture\n",
    "- Fit your model to training data with `NB_NB=2` and `MAXNUM=9`\n",
    "- Report accuracy on a `validation_split=.1`\n",
    "\n",
    "## Hints\n",
    "\n",
    "- Refer to the [`keras.examples.addition_rnn.py`](https://github.com/fchollet/keras/blob/master/examples/addition_rnn.py) for an example architecture which performs addition\n",
    "- Start off simple (e.g. one LSTM layer for the encoder and one LSTM layer for the decoder)\n",
    "- Use the following callback to visualize model performance during training\n",
    "- Start simple with the smallest model you can think of to diagnose underfitting/overfitting and go from there"
   ]
  },
  {
   "cell_type": "code",
   "execution_count": 283,
   "metadata": {
    "collapsed": false,
    "deletable": true,
    "editable": true,
    "scrolled": false
   },
   "outputs": [
    {
     "name": "stdout",
     "output_type": "stream",
     "text": [
      "Populating the interactive namespace from numpy and matplotlib\n"
     ]
    }
   ],
   "source": [
    "from keras.layers import Dense, LSTM, TimeDistributed, RepeatVector\n",
    "from keras.models import Sequential\n",
    "import keras as keras\n",
    "import IPython\n",
    "import matplotlib.pyplot as plt\n",
    "%pylab inline"
   ]
  },
  {
   "cell_type": "code",
   "execution_count": 284,
   "metadata": {
    "collapsed": false
   },
   "outputs": [
    {
     "data": {
      "text/plain": [
       "(722, 5, 13)"
      ]
     },
     "execution_count": 284,
     "metadata": {},
     "output_type": "execute_result"
    }
   ],
   "source": [
    "X.shape"
   ]
  },
  {
   "cell_type": "code",
   "execution_count": 285,
   "metadata": {
    "collapsed": false
   },
   "outputs": [
    {
     "data": {
      "text/plain": [
       "(722, 3, 12)"
      ]
     },
     "execution_count": 285,
     "metadata": {},
     "output_type": "execute_result"
    }
   ],
   "source": [
    "y.shape"
   ]
  },
  {
   "cell_type": "code",
   "execution_count": 286,
   "metadata": {
    "collapsed": false
   },
   "outputs": [],
   "source": [
    "class TrainingVisualizer(keras.callbacks.History):\n",
    "    def on_epoch_end(self, epoch, logs={}):\n",
    "        super().on_epoch_end(epoch, logs)\n",
    "        IPython.display.clear_output(wait=True)\n",
    "        pd.DataFrame({key: value for key, value in self.history.items() if key.endswith('loss')}).plot()\n",
    "        axes = pd.DataFrame({key: value for key, value in self.history.items() if key.endswith('acc')}).plot()\n",
    "        axes.set_ylim([0, 1])\n",
    "        plt.show()"
   ]
  },
  {
   "cell_type": "code",
   "execution_count": null,
   "metadata": {
    "collapsed": true
   },
   "outputs": [],
   "source": [
    "BATCH_SIZE=64\n",
    "num_layers=1"
   ]
  },
  {
   "cell_type": "code",
   "execution_count": 298,
   "metadata": {
    "collapsed": true
   },
   "outputs": [],
   "source": [
    "model = Sequential()"
   ]
  },
  {
   "cell_type": "code",
   "execution_count": 299,
   "metadata": {
    "collapsed": false
   },
   "outputs": [],
   "source": [
    "model.add(LSTM(256,activation='relu',return_sequences=False, batch_input_shape = [None,5,13])) # encoder"
   ]
  },
  {
   "cell_type": "code",
   "execution_count": 300,
   "metadata": {
    "collapsed": true
   },
   "outputs": [],
   "source": [
    "model.add(RepeatVector(3))\n",
    "for _ in range(num_layers):\n",
    "    model.add(LSTM(128,activation='relu',return_sequences=True)) # decoder sequences\n"
   ]
  },
  {
   "cell_type": "code",
   "execution_count": 301,
   "metadata": {
    "collapsed": false
   },
   "outputs": [
    {
     "name": "stdout",
     "output_type": "stream",
     "text": [
      "_________________________________________________________________\n",
      "Layer (type)                 Output Shape              Param #   \n",
      "=================================================================\n",
      "lstm_54 (LSTM)               (None, 256)               276480    \n",
      "_________________________________________________________________\n",
      "repeat_vector_34 (RepeatVect (None, 3, 256)            0         \n",
      "_________________________________________________________________\n",
      "lstm_55 (LSTM)               (None, 3, 128)            197120    \n",
      "_________________________________________________________________\n",
      "lstm_56 (LSTM)               (None, 3, 128)            131584    \n",
      "_________________________________________________________________\n",
      "lstm_57 (LSTM)               (None, 3, 128)            131584    \n",
      "_________________________________________________________________\n",
      "time_distributed_36 (TimeDis (None, 3, 12)             1548      \n",
      "=================================================================\n",
      "Total params: 738,316.0\n",
      "Trainable params: 738,316.0\n",
      "Non-trainable params: 0.0\n",
      "_________________________________________________________________\n"
     ]
    }
   ],
   "source": [
    "model.add(TimeDistributed(Dense(12, activation='softmax')))\n",
    "model.compile(loss='categorical_crossentropy',\n",
    "              optimizer='adam',\n",
    "              metrics=['accuracy'])\n",
    "model.summary()\n"
   ]
  },
  {
   "cell_type": "code",
   "execution_count": 434,
   "metadata": {
    "collapsed": false
   },
   "outputs": [
    {
     "data": {
      "text/plain": [
       "(722, 5, 13)"
      ]
     },
     "execution_count": 434,
     "metadata": {},
     "output_type": "execute_result"
    }
   ],
   "source": [
    "X.shape"
   ]
  },
  {
   "cell_type": "code",
   "execution_count": 483,
   "metadata": {
    "collapsed": true
   },
   "outputs": [],
   "source": [
    " X_train, X_test = X[:700,:,:],X[700:,:,:],\n",
    "y_train, y_test = y[:700,:,:],y[700:,:,:]"
   ]
  },
  {
   "cell_type": "code",
   "execution_count": 485,
   "metadata": {
    "collapsed": false
   },
   "outputs": [
    {
     "data": {
      "text/plain": [
       "(22, 5, 13)"
      ]
     },
     "execution_count": 485,
     "metadata": {},
     "output_type": "execute_result"
    }
   ],
   "source": [
    "X_test.shape"
   ]
  },
  {
   "cell_type": "code",
   "execution_count": 305,
   "metadata": {
    "collapsed": false
   },
   "outputs": [
    {
     "data": {
      "image/png": "[encoded data removed]",
      "text/plain": [
       "<matplotlib.figure.Figure at 0x170c0e7f0>"
      ]
     },
     "metadata": {},
     "output_type": "display_data"
    },
    {
     "data": {
      "image/png": "[encoded data removed]",
      "text/plain": [
       "<matplotlib.figure.Figure at 0x170c0e4e0>"
      ]
     },
     "metadata": {},
     "output_type": "display_data"
    },
    {
     "name": "stdout",
     "output_type": "stream",
     "text": [
      "361/361 [==============================] - 1s - loss: 0.3945 - acc: 0.8421 - val_loss: 0.6401 - val_acc: 0.7581\n"
     ]
    },
    {
     "data": {
      "text/plain": [
       "<keras.callbacks.History at 0x15ad16ef0>"
      ]
     },
     "execution_count": 305,
     "metadata": {},
     "output_type": "execute_result"
    }
   ],
   "source": [
    "model.fit(X_test, y_test,\n",
    "              batch_size=BATCH_SIZE,\n",
    "              epochs=50,\n",
    "              validation_data=[X_train,y_train], callbacks=[TrainingVisualizer()])"
   ]
  },
  {
   "cell_type": "code",
   "execution_count": null,
   "metadata": {
    "collapsed": true
   },
   "outputs": [],
   "source": [
    "model.evaluate()"
   ]
  },
  {
   "cell_type": "code",
   "execution_count": null,
   "metadata": {
    "collapsed": true
   },
   "outputs": [],
   "source": []
  },
  {
   "cell_type": "code",
   "execution_count": null,
   "metadata": {
    "collapsed": true
   },
   "outputs": [],
   "source": []
  },
  {
   "cell_type": "markdown",
   "metadata": {},
   "source": [
    "### Test a bigger model"
   ]
  },
  {
   "cell_type": "code",
   "execution_count": 487,
   "metadata": {
    "collapsed": false
   },
   "outputs": [
    {
     "data": {
      "image/png": "[encoded data removed]",
      "text/plain": [
       "<matplotlib.figure.Figure at 0x22aab8748>"
      ]
     },
     "metadata": {},
     "output_type": "display_data"
    },
    {
     "data": {
      "image/png": "[encoded data removed]",
      "text/plain": [
       "<matplotlib.figure.Figure at 0x22aab8cc0>"
      ]
     },
     "metadata": {},
     "output_type": "display_data"
    },
    {
     "name": "stdout",
     "output_type": "stream",
     "text": [
      "700/700 [==============================] - 3s - loss: 0.0589 - acc: 0.9810 - val_loss: 0.1344 - val_acc: 0.9091\n"
     ]
    },
    {
     "data": {
      "text/plain": [
       "<keras.callbacks.History at 0x2469deef0>"
      ]
     },
     "execution_count": 487,
     "metadata": {},
     "output_type": "execute_result"
    }
   ],
   "source": [
    "BATCH_SIZE=32\n",
    "num_layers=2\n",
    "model = Sequential()\n",
    "model.add(LSTM(256,activation='relu',return_sequences=False, batch_input_shape = [None,5,13]\n",
    "              )) # encoder\n",
    "#model.add(LSTM(128,activation='relu',return_sequences=False, batch_input_shape = [None,5,13]\n",
    " #             )) # encoder\n",
    "model.add(RepeatVector(3))\n",
    "for _ in range(num_layers):\n",
    "    model.add(LSTM(256,activation='relu',return_sequences=True)) # decoder sequences\n",
    "#model.add(TimeDistributed(Dense(512,activation='relu')))\n",
    "model.add(TimeDistributed(Dense(12, activation='softmax')))\n",
    "model.compile(loss='categorical_crossentropy',\n",
    "              optimizer='adam',\n",
    "              metrics=['accuracy'])\n",
    "model.summary()\n",
    "model.fit(X_train, y_train,\n",
    "              batch_size=BATCH_SIZE,\n",
    "              epochs=100,\n",
    "              validation_data=[X_test,y_test], callbacks=[TrainingVisualizer()])"
   ]
  },
  {
   "cell_type": "code",
   "execution_count": 488,
   "metadata": {
    "collapsed": false
   },
   "outputs": [
    {
     "name": "stdout",
     "output_type": "stream",
     "text": [
      "22/22 [==============================] - 0s\n"
     ]
    },
    {
     "data": {
      "text/plain": [
       "[0.13435450196266174, 0.90909093618392944]"
      ]
     },
     "execution_count": 488,
     "metadata": {},
     "output_type": "execute_result"
    }
   ],
   "source": [
    "model.evaluate(X_test,y_test)"
   ]
  },
  {
   "cell_type": "code",
   "execution_count": null,
   "metadata": {
    "collapsed": true
   },
   "outputs": [],
   "source": []
  },
  {
   "cell_type": "markdown",
   "metadata": {
    "deletable": true,
    "editable": true
   },
   "source": [
    "# Question\n",
    "\n",
    "Is your model underfitting or overfitting the data or can't you quite tell? Justify your answer with appropriate data and visualizations."
   ]
  },
  {
   "cell_type": "code",
   "execution_count": null,
   "metadata": {
    "collapsed": true,
    "deletable": true,
    "editable": true
   },
   "outputs": [],
   "source": [
    "# My model is underfitting the data because the training error is nowhere near 0%"
   ]
  },
  {
   "cell_type": "markdown",
   "metadata": {
    "deletable": true,
    "editable": true
   },
   "source": [
    "# Bonus Tasks\n",
    "\n",
    "---\n",
    "\n",
    "# Error Analysis\n",
    "\n",
    "It is time to get some insight into your model.\n",
    "\n",
    "## Task\n",
    "\n",
    "- Create a keras callback which has the model make predictions on a sample of held-out data points and display its guesses\n",
    "- Refit the model on the training data and use this callback during training\n",
    "\n",
    "## Requirements\n",
    "\n",
    "- Have this callback run at the beginning of every epoch so you can see how the model is performing over time"
   ]
  },
  {
   "cell_type": "code",
   "execution_count": null,
   "metadata": {
    "collapsed": false,
    "deletable": true,
    "editable": true
   },
   "outputs": [],
   "source": []
  },
  {
   "cell_type": "code",
   "execution_count": null,
   "metadata": {
    "collapsed": true
   },
   "outputs": [],
   "source": []
  },
  {
   "cell_type": "code",
   "execution_count": null,
   "metadata": {
    "collapsed": true
   },
   "outputs": [],
   "source": []
  },
  {
   "cell_type": "code",
   "execution_count": null,
   "metadata": {
    "collapsed": true
   },
   "outputs": [],
   "source": []
  },
  {
   "cell_type": "markdown",
   "metadata": {
    "deletable": true,
    "editable": true
   },
   "source": [
    "## Question\n",
    "\n",
    "- What types of data points do you think the model is having the most difficult time with?"
   ]
  },
  {
   "cell_type": "code",
   "execution_count": 489,
   "metadata": {
    "collapsed": false,
    "deletable": true,
    "editable": true
   },
   "outputs": [],
   "source": [
    "predictions = model.predict(X_test)"
   ]
  },
  {
   "cell_type": "code",
   "execution_count": 490,
   "metadata": {
    "collapsed": false
   },
   "outputs": [
    {
     "data": {
      "text/plain": [
       "[' ', '-', '4', '+', '9']"
      ]
     },
     "execution_count": 490,
     "metadata": {},
     "output_type": "execute_result"
    }
   ],
   "source": [
    "# Input\n",
    "[H['CHARS'][np.argmax(i)] for i in X_test[0]]"
   ]
  },
  {
   "cell_type": "code",
   "execution_count": 491,
   "metadata": {
    "collapsed": false
   },
   "outputs": [
    {
     "data": {
      "text/plain": [
       "['4', ' ', ' ']"
      ]
     },
     "execution_count": 491,
     "metadata": {},
     "output_type": "execute_result"
    }
   ],
   "source": [
    "# Prediction\n",
    "[H['CHARS'][np.argmax(i)] for i in predictions[0]]"
   ]
  },
  {
   "cell_type": "code",
   "execution_count": 492,
   "metadata": {
    "collapsed": false
   },
   "outputs": [
    {
     "data": {
      "text/plain": [
       "['5', ' ', ' ']"
      ]
     },
     "execution_count": 492,
     "metadata": {},
     "output_type": "execute_result"
    }
   ],
   "source": [
    "#Actual\n",
    "[H['CHARS'][np.argmax(i)] for i in y_test[0]]"
   ]
  },
  {
   "cell_type": "code",
   "execution_count": 493,
   "metadata": {
    "collapsed": false
   },
   "outputs": [
    {
     "data": {
      "text/plain": [
       "False"
      ]
     },
     "execution_count": 493,
     "metadata": {},
     "output_type": "execute_result"
    }
   ],
   "source": [
    "list([H['CHARS'][np.argmax(i)] for i in y_test[0]])==list([H['CHARS'][np.argmax(i)] for i in predictions[0]])"
   ]
  },
  {
   "cell_type": "code",
   "execution_count": 494,
   "metadata": {
    "collapsed": false
   },
   "outputs": [
    {
     "data": {
      "text/plain": [
       "False"
      ]
     },
     "execution_count": 494,
     "metadata": {},
     "output_type": "execute_result"
    }
   ],
   "source": [
    "list([H['CHARS'][np.argmax(i)] for i in y_test[1]])==list([H['CHARS'][np.argmax(i)] for i in predictions[0]])"
   ]
  },
  {
   "cell_type": "code",
   "execution_count": 495,
   "metadata": {
    "collapsed": false
   },
   "outputs": [
    {
     "data": {
      "text/plain": [
       "22"
      ]
     },
     "execution_count": 495,
     "metadata": {},
     "output_type": "execute_result"
    }
   ],
   "source": [
    "len(predictions)"
   ]
  },
  {
   "cell_type": "code",
   "execution_count": 496,
   "metadata": {
    "collapsed": false
   },
   "outputs": [
    {
     "data": {
      "text/plain": [
       "22"
      ]
     },
     "execution_count": 496,
     "metadata": {},
     "output_type": "execute_result"
    }
   ],
   "source": [
    "len(y_test)"
   ]
  },
  {
   "cell_type": "code",
   "execution_count": 497,
   "metadata": {
    "collapsed": false
   },
   "outputs": [
    {
     "data": {
      "text/plain": [
       "700"
      ]
     },
     "execution_count": 497,
     "metadata": {},
     "output_type": "execute_result"
    }
   ],
   "source": [
    "len(X_train)"
   ]
  },
  {
   "cell_type": "code",
   "execution_count": 499,
   "metadata": {
    "collapsed": false
   },
   "outputs": [
    {
     "name": "stdout",
     "output_type": "stream",
     "text": [
      "0\n",
      "Our model could not predict [' ', '-', '4', '+', '9']\n",
      "The answer our model found was ['4', ' ', ' ']\n",
      "The correct answer is ['5', ' ', ' ']\n",
      "1\n",
      "2\n",
      "3\n",
      "Our model could not predict ['-', '9', '-', '-', '8']\n",
      "The answer our model found was ['0', ' ', ' ']\n",
      "The correct answer is ['-', '1', ' ']\n",
      "4\n",
      "5\n",
      "Our model could not predict ['-', '3', '-', '-', '4']\n",
      "The answer our model found was ['0', ' ', ' ']\n",
      "The correct answer is ['1', ' ', ' ']\n",
      "6\n",
      "7\n",
      "8\n",
      "Our model could not predict ['-', '4', '-', '-', '5']\n",
      "The answer our model found was ['0', ' ', ' ']\n",
      "The correct answer is ['1', ' ', ' ']\n",
      "9\n",
      "10\n",
      "11\n",
      "Our model could not predict ['-', '6', '-', '-', '8']\n",
      "The answer our model found was ['1', ' ', ' ']\n",
      "The correct answer is ['2', ' ', ' ']\n",
      "12\n",
      "13\n",
      "14\n",
      "15\n",
      "16\n",
      "17\n",
      "18\n",
      "19\n",
      "20\n",
      "21\n",
      "\n",
      "The accuarcy was 0.7727272727272727\n"
     ]
    }
   ],
   "source": [
    "count_correct = 0\n",
    "count_incorrect = 0\n",
    "\n",
    "for prediction_num in range(len(predictions)):\n",
    "    print(prediction_num)\n",
    "    result = list([H['CHARS'][np.argmax(i)] for i in y_test[prediction_num]])\\\n",
    "        ==list([H['CHARS'][np.argmax(i)] for i in predictions[prediction_num]])\n",
    "    if result != True:\n",
    "        print('Our model could not predict {}'.format([H['CHARS'][np.argmax(i)] for i in X_test[prediction_num]]))\n",
    "\n",
    "        print('The answer our model found was {}'.format([H['CHARS'][np.argmax(i)] for i in predictions[prediction_num]]))\n",
    "        print('The correct answer is {}'.format([H['CHARS'][np.argmax(i)] for i in y_test[prediction_num]]))\n",
    "        count_incorrect+=1\n",
    "    else:\n",
    "        count_correct+=1\n",
    "print()\n",
    "print(\"The accuarcy was {}\".format(count_correct/(count_correct+count_incorrect)))"
   ]
  },
  {
   "cell_type": "markdown",
   "metadata": {
    "deletable": true,
    "editable": true
   },
   "source": [
    "## Question\n",
    "\n",
    "- What type of expressions is your model struggling the most with predicting correctly?\n",
    "\n",
    "## Requirements\n",
    "\n",
    "- Justify your answer with appropriate plots and reasoning."
   ]
  },
  {
   "cell_type": "code",
   "execution_count": null,
   "metadata": {
    "collapsed": true,
    "deletable": true,
    "editable": true
   },
   "outputs": [],
   "source": [
    "# our model has a tough time with double negatives"
   ]
  },
  {
   "cell_type": "code",
   "execution_count": null,
   "metadata": {
    "collapsed": true
   },
   "outputs": [],
   "source": []
  },
  {
   "cell_type": "code",
   "execution_count": null,
   "metadata": {
    "collapsed": true
   },
   "outputs": [],
   "source": []
  },
  {
   "cell_type": "code",
   "execution_count": null,
   "metadata": {
    "collapsed": true
   },
   "outputs": [],
   "source": []
  },
  {
   "cell_type": "markdown",
   "metadata": {
    "deletable": true,
    "editable": true
   },
   "source": [
    "# Task\n",
    "\n",
    "- Experiment with different numbers of intermediate plus and minus signs. Can you find the relationship between these numbers and the size of an LSTM (e.g. number of layers)?"
   ]
  },
  {
   "cell_type": "code",
   "execution_count": null,
   "metadata": {
    "collapsed": true,
    "deletable": true,
    "editable": true
   },
   "outputs": [],
   "source": []
  }
 ],
 "metadata": {
  "kernelspec": {
   "display_name": "Python [conda env:dl]",
   "language": "python",
   "name": "conda-env-dl-py"
  },
  "language_info": {
   "codemirror_mode": {
    "name": "ipython",
    "version": 3
   },
   "file_extension": ".py",
   "mimetype": "text/x-python",
   "name": "python",
   "nbconvert_exporter": "python",
   "pygments_lexer": "ipython3",
   "version": "3.6.0"
  }
 },
 "nbformat": 4,
 "nbformat_minor": 2
}
