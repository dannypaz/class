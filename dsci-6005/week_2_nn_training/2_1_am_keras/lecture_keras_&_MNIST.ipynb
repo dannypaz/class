{
 "cells": [
  {
   "cell_type": "markdown",
   "metadata": {
    "deletable": true,
    "editable": true,
    "slideshow": {
     "slide_type": "slide"
    }
   },
   "source": [
    "w\n",
    "w\n",
    "Keras\n",
    "------\n",
    "\n",
    "<center><img src=\"http://beritahati.com/images/artikel/10953_4.jpg\" height=\"500\"/></center>"
   ]
  },
  {
   "cell_type": "markdown",
   "metadata": {
    "deletable": true,
    "editable": true,
    "slideshow": {
     "slide_type": "slide"
    }
   },
   "source": [
    "<center><img src=\"https://keras.io/img/keras-logo-small.jpg\" height=\"500\"/></center>\n",
    "\n",
    "Keras is a high-level neural networks API. It has a focus on enabling fast experimentation by using a simple and highly modular interface, which makes it easier to create even complex neural network models."
   ]
  },
  {
   "cell_type": "markdown",
   "metadata": {
    "deletable": true,
    "editable": true,
    "slideshow": {
     "slide_type": "fragment"
    }
   },
   "source": [
    "Capable of running on top of either TensorFlow or Theano as a backend. \n",
    "\n",
    "Abstracts away these lower level libraries, free from “implementation details”."
   ]
  },
  {
   "cell_type": "markdown",
   "metadata": {
    "deletable": true,
    "editable": true,
    "slideshow": {
     "slide_type": "slide"
    }
   },
   "source": [
    "NN for humans\n",
    "-----\n",
    "\n",
    "Designed for human beings, not machines. Puts user experience front and center. \n",
    "\n",
    "Keras follows best practices for reducing cognitive load: it offers consistent & simple APIs, it minimizes the number of user actions required for common use cases, and it provides clear and actionable feedback upon user error."
   ]
  },
  {
   "cell_type": "markdown",
   "metadata": {
    "deletable": true,
    "editable": true,
    "slideshow": {
     "slide_type": "slide"
    }
   },
   "source": [
    "<center><img src=\"images/twitter.png\" height=\"500\"/></center>"
   ]
  },
  {
   "cell_type": "markdown",
   "metadata": {
    "deletable": true,
    "editable": true,
    "slideshow": {
     "slide_type": "slide"
    }
   },
   "source": [
    "TensorFlow\n",
    "------\n",
    "\n",
    "<center><img src=\"https://i.ytimg.com/vi/oZikw5k_2FM/maxresdefault.jpg\" height=\"500\"/></center>\n",
    "\n",
    "\"An open-source software library for Machine Intelligence\"\n",
    "\n",
    "Does numerical computation using data flow graphs. "
   ]
  },
  {
   "cell_type": "markdown",
   "metadata": {
    "deletable": true,
    "editable": true,
    "slideshow": {
     "slide_type": "slide"
    }
   },
   "source": [
    "<center><img src=\"https://wookayin.github.io/tensorflow-talk-debugging/images/tensors_flowing.gif\" height=\"500\"/></center>\n",
    "\n",
    "Nodes in the graph represent mathematical operations\n",
    "\n",
    "Graph edges represent the multidimensional data arrays (tensors) communicated between them."
   ]
  },
  {
   "cell_type": "markdown",
   "metadata": {
    "deletable": true,
    "editable": true,
    "slideshow": {
     "slide_type": "slide"
    }
   },
   "source": [
    "The __very__ flexible architecture allows you to do almost any operation and deploy computation to one or more CPUs or GPUs in a desktop, server, or mobile device with a single API. "
   ]
  },
  {
   "cell_type": "markdown",
   "metadata": {
    "deletable": true,
    "editable": true,
    "slideshow": {
     "slide_type": "slide"
    }
   },
   "source": [
    "Check for understanding\n",
    "------\n",
    "\n",
    "Why are we learning keras first compare to TensorFlow?"
   ]
  },
  {
   "cell_type": "markdown",
   "metadata": {
    "deletable": true,
    "editable": true,
    "slideshow": {
     "slide_type": "fragment"
    }
   },
   "source": [
    "So we can focus the what, not the how.\n",
    "\n",
    "We want to build NN without getting distracted on the implementation details."
   ]
  },
  {
   "cell_type": "markdown",
   "metadata": {
    "deletable": true,
    "editable": true,
    "slideshow": {
     "slide_type": "slide"
    }
   },
   "source": [
    "What digit is this?\n",
    "------\n",
    "\n",
    "<center><img src=\"images/zero.png\" height=\"500\"/></center>"
   ]
  },
  {
   "cell_type": "markdown",
   "metadata": {
    "deletable": true,
    "editable": true,
    "slideshow": {
     "slide_type": "slide"
    }
   },
   "source": [
    "What digit is this?\n",
    "-------\n",
    "\n",
    "<center><img src=\"images/four.png\" height=\"500\"/></center>"
   ]
  },
  {
   "cell_type": "markdown",
   "metadata": {
    "deletable": true,
    "editable": true,
    "slideshow": {
     "slide_type": "slide"
    }
   },
   "source": [
    "MNIST: The “Hello World!” of computer vision\n",
    "------\n",
    "\n",
    "<center><img src=\"http://knowm.org/wp-content/uploads/Screen-Shot-2015-08-14-at-2.44.57-PM.png\" height=\"500\"/></center>\n",
    "\n",
    "- Classify handwritten digits 0-9\n"
   ]
  },
  {
   "cell_type": "markdown",
   "metadata": {
    "deletable": true,
    "editable": true,
    "slideshow": {
     "slide_type": "slide"
    }
   },
   "source": [
    "<center><img src=\"https://www.tensorflow.org/versions/r0.10/images/MNIST-Matrix.png\" height=\"500\"/></center>\n",
    "\n",
    "- Each pixel is an input\n",
    "- Input value ranges 0-255 (white to black). Often normalized to 0 to 1."
   ]
  },
  {
   "cell_type": "markdown",
   "metadata": {
    "deletable": true,
    "editable": true,
    "slideshow": {
     "slide_type": "slide"
    }
   },
   "source": [
    "<center><img src=\"images/MNIST_neuralnet_image.png\" height=\"500\"/></center>"
   ]
  },
  {
   "cell_type": "markdown",
   "metadata": {
    "deletable": true,
    "editable": true,
    "slideshow": {
     "slide_type": "slide"
    }
   },
   "source": [
    "Check for understanding\n",
    "------\n",
    "\n",
    "Why is MNIST useful?"
   ]
  },
  {
   "cell_type": "markdown",
   "metadata": {
    "deletable": true,
    "editable": true,
    "slideshow": {
     "slide_type": "slide"
    }
   },
   "source": [
    "<center><img src=\"http://www.brokersdata.com/images/Real-pen-envelope-sample.jpg\" height=\"500\"/></center>\n",
    "\n",
    "<center><img src=\"http://cdn.interestingengineering.com//wp-content/uploads/2016/09/1-1.jpg\" height=\"500\"/></center>\n"
   ]
  },
  {
   "cell_type": "markdown",
   "metadata": {
    "deletable": true,
    "editable": true,
    "slideshow": {
     "slide_type": "slide"
    }
   },
   "source": [
    "<br>\n",
    "<br> \n",
    "<br>\n",
    "\n",
    "----"
   ]
  }
 ],
 "metadata": {
  "celltoolbar": "Slideshow",
  "kernelspec": {
   "display_name": "Python 3",
   "language": "python",
   "name": "python3"
  },
  "language_info": {
   "codemirror_mode": {
    "name": "ipython",
    "version": 3
   },
   "file_extension": ".py",
   "mimetype": "text/x-python",
   "name": "python",
   "nbconvert_exporter": "python",
   "pygments_lexer": "ipython3",
   "version": "3.6.0"
  }
 },
 "nbformat": 4,
 "nbformat_minor": 2
}
