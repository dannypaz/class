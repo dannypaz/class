{
 "cells": [
  {
   "cell_type": "markdown",
   "metadata": {
    "deletable": true,
    "editable": true
   },
   "source": [
    "# Convolutional Neural Networks Lab\n",
    "\n",
    "Welcome to the Building Convolutional Neural Networks lab! By the end of this lab, you will have\n",
    "\n",
    "- Built a deep convolutional neural network to classify images from the CIFAR-10 dataset\n",
    "\n",
    "Let's get started!\n",
    "\n",
    "# CIFAR-10\n",
    "\n",
    "CIFAR-10 is a dataset of `32x32` RGB images containing the classes\n",
    "\n",
    "0. Airplane\n",
    "1. Car\n",
    "2. Bird\n",
    "3. Cat\n",
    "4. Deer\n",
    "5. Dog\n",
    "6. Frog\n",
    "7. Horse\n",
    "8. Boat\n",
    "9. Truck"
   ]
  },
  {
   "cell_type": "code",
   "execution_count": null,
   "metadata": {
    "collapsed": false,
    "deletable": true,
    "editable": true
   },
   "outputs": [],
   "source": [
    "from IPython.display import display\n",
    "import numpy as np\n",
    "from keras.datasets import cifar10\n",
    "from keras.preprocessing.image import array_to_img, img_to_array\n",
    "\n",
    "[X, y], _ = cifar10.load_data()\n",
    "X, y = X.astype(np.float), y.flatten()\n",
    "imgs = [array_to_img(x).resize(size=[150, 150]) for x in X]\n",
    "X = [img_to_array(img) for img in imgs]\n",
    "\n",
    "idxs = [np.argwhere(y == i).flatten()[0] for i in range(10)]\n",
    "for idx in idxs:\n",
    "    x = X[idx]\n",
    "    img = array_to_img(x)\n",
    "    display(img)"
   ]
  },
  {
   "cell_type": "markdown",
   "metadata": {
    "deletable": true,
    "editable": true
   },
   "source": [
    "# Architecture Definition\n",
    "\n",
    "We will be using the following architecture to classify CIFAR-10 images.\n",
    "\n",
    "![Forward Backward Example](images/graph.png)\n",
    "Let's take this section at a time."
   ]
  },
  {
   "cell_type": "markdown",
   "metadata": {
    "deletable": true,
    "editable": true
   },
   "source": [
    "## First Convolutional Block\n",
    "\n",
    "Throughout the network, we see a pattern of **Conv $\\rightarrow$ ReLU $\\rightarrow$ Max-Pool**. Let's consider the first convolutional block.\n",
    "\n",
    "Consider the first convolutional block\n",
    "\n",
    "![First Conv Block](images/First%20Conv%20Block.png)\n",
    "It consists of a convolutional layer with $K=32$ filters each sized `3x3` with stride $S = 1$. This is followed by a ReLU activation and then a $F =$ 2x2 max-pooling layer with stride $S = 2$. The input size is `3x32x32`.\n",
    "\n",
    "### Questions\n",
    "\n",
    "- What is the input shape to the convolutional and the ReLU layers?\n",
    "- What is the output shape of the pooling layer?"
   ]
  },
  {
   "cell_type": "code",
   "execution_count": null,
   "metadata": {
    "collapsed": true,
    "deletable": true,
    "editable": true
   },
   "outputs": [],
   "source": []
  },
  {
   "cell_type": "markdown",
   "metadata": {
    "deletable": true,
    "editable": true
   },
   "source": [
    "### Tasks\n",
    "\n",
    "- Create a keras model and add this first convolutional block\n",
    "- Call `keras.models.Model.summary()` to verify the dimensions are correct\n",
    "\n",
    "### Hints\n",
    "\n",
    "- Pass `input_shape=[32, 32, 3]` to the convolutional layer since it's the first layer in the network\n",
    "- Look at the documentation for [`keras.layers.Conv2D`](https://keras.io/layers/convolutional/#conv2d), [`keras.layers.Activation`](https://keras.io/activations/), and [`keras.layers.MaxPooling2D`](https://keras.io/layers/pooling/#maxpooling2d)."
   ]
  },
  {
   "cell_type": "code",
   "execution_count": null,
   "metadata": {
    "collapsed": false,
    "deletable": true,
    "editable": true
   },
   "outputs": [],
   "source": []
  },
  {
   "cell_type": "markdown",
   "metadata": {
    "deletable": true,
    "editable": true
   },
   "source": [
    "## Second Convolutional Block\n",
    "\n",
    "The second convolutional block is exactly the same as the first convolutional block. \n",
    "\n",
    "![Second Conv Block](images/Second%20Conv%20Block.png)\n",
    "However, the input is a tensor of *activations* and no longer the image itself. Hence the resulting shapes will be different.\n",
    "\n",
    "### Questions\n",
    "\n",
    "- What is the input shape to the convolutional and the ReLU layers?\n",
    "- What is the output shape of the pooling layer?"
   ]
  },
  {
   "cell_type": "code",
   "execution_count": null,
   "metadata": {
    "collapsed": true,
    "deletable": true,
    "editable": true
   },
   "outputs": [],
   "source": []
  },
  {
   "cell_type": "markdown",
   "metadata": {
    "deletable": true,
    "editable": true
   },
   "source": [
    "### Tasks\n",
    "\n",
    "- Add the second convolutional block to the model\n",
    "- Call `keras.models.Model.summary()` to verify the dimensions are correct"
   ]
  },
  {
   "cell_type": "code",
   "execution_count": null,
   "metadata": {
    "collapsed": false,
    "deletable": true,
    "editable": true
   },
   "outputs": [],
   "source": []
  },
  {
   "cell_type": "markdown",
   "metadata": {
    "deletable": true,
    "editable": true
   },
   "source": [
    "## Third Convolutional Layer\n",
    "\n",
    "As the spatial dimension of our activation maps decreases, we increase the depth of our activation volumes by upping the number of filters to 64 from 32.\n",
    "\n",
    "### Questions\n",
    "\n",
    "- What is the input shape to the convolutional and the ReLU layers?\n",
    "- What is the output shape of the pooling layer?"
   ]
  },
  {
   "cell_type": "code",
   "execution_count": null,
   "metadata": {
    "collapsed": true,
    "deletable": true,
    "editable": true
   },
   "outputs": [],
   "source": []
  },
  {
   "cell_type": "markdown",
   "metadata": {
    "deletable": true,
    "editable": true
   },
   "source": [
    "### Tasks\n",
    "\n",
    "- Add the second convolutional block to the model\n",
    "- Call `keras.models.Model.summary()` to verify the dimensions are correct"
   ]
  },
  {
   "cell_type": "code",
   "execution_count": null,
   "metadata": {
    "collapsed": false,
    "deletable": true,
    "editable": true
   },
   "outputs": [],
   "source": []
  },
  {
   "cell_type": "markdown",
   "metadata": {
    "deletable": true,
    "editable": true
   },
   "source": [
    "# Bottleneck Layers\n",
    "\n",
    "We will use no more convolutional layers. Since every activation has a view of the entire input. we use a repeating dense block.\n",
    "\n",
    "## First Dense Block\n",
    "\n",
    "In our bottleneck section, we have the repeating structure **Dense $\\rightarrow$ ReLU $\\rightarrow$ Dropout**.\n",
    "\n",
    "![First Dense Block](images/First%20Dense%20Block.png)\n",
    "The first layer is required to flatten our activation volume into a 1D tensor. We then run those activations through a Dense layer followed by a ReLU layer and then a Dropout layer with dropout probability of 0.5 for regularization.\n",
    "\n",
    "### Questions\n",
    "\n",
    "- What is the input shape to the Flatten, Dense, and ReLU layers?"
   ]
  },
  {
   "cell_type": "code",
   "execution_count": null,
   "metadata": {
    "collapsed": true,
    "deletable": true,
    "editable": true
   },
   "outputs": [],
   "source": []
  },
  {
   "cell_type": "markdown",
   "metadata": {
    "deletable": true,
    "editable": true
   },
   "source": [
    "### Tasks\n",
    "\n",
    "- Add the first bottleneck block to the model\n",
    "- Call `keras.models.Model.summary()` to verify the dimensions are correct"
   ]
  },
  {
   "cell_type": "code",
   "execution_count": null,
   "metadata": {
    "collapsed": false,
    "deletable": true,
    "editable": true
   },
   "outputs": [],
   "source": []
  },
  {
   "cell_type": "markdown",
   "metadata": {
    "deletable": true,
    "editable": true
   },
   "source": [
    "## Second Dense Block\n",
    "\n",
    "The second dense block is similar to the first.\n",
    "\n",
    "![Second Dense Block](images/Second%20Dense%20Block.png)\n",
    "However the shapes are slightly different because the input is to this dense block is the output from the first dense block. Addionally, we append a 10-way Dense layer followed by a softmax activation.\n",
    "\n",
    "### Questions\n",
    "\n",
    "- What is the input shape to the Flatten, Dense, ReLU, and final Dense layers?"
   ]
  },
  {
   "cell_type": "code",
   "execution_count": null,
   "metadata": {
    "collapsed": true,
    "deletable": true,
    "editable": true
   },
   "outputs": [],
   "source": []
  },
  {
   "cell_type": "markdown",
   "metadata": {
    "deletable": true,
    "editable": true
   },
   "source": [
    "### Tasks\n",
    "\n",
    "- Add the second bottleneck block to the model\n",
    "- Call `keras.models.Model.summary()` to verify the dimensions are correct"
   ]
  },
  {
   "cell_type": "code",
   "execution_count": null,
   "metadata": {
    "collapsed": false,
    "deletable": true,
    "editable": true
   },
   "outputs": [],
   "source": []
  },
  {
   "cell_type": "markdown",
   "metadata": {
    "deletable": true,
    "editable": true
   },
   "source": [
    "## Train the CNN\n",
    "\n",
    "Now that the architecture is defined, let's compile the model and train it on CIFAR-10 images.\n",
    "\n",
    "### Tasks\n",
    "\n",
    "- Compile the model\n",
    "- Train it on CIFAR-10\n",
    "\n",
    "### Hints\n",
    "\n",
    "- Look at [`keras.models.Model.compile()`](https://keras.io/models/sequential/) and [`keras.models.Model.fit()`](https://keras.io/models/sequential/)\n",
    "- Make sure to compile with the `metrics=accuracy` so that keras computes accuracy during training"
   ]
  },
  {
   "cell_type": "code",
   "execution_count": null,
   "metadata": {
    "collapsed": false,
    "deletable": true,
    "editable": true
   },
   "outputs": [],
   "source": []
  }
 ],
 "metadata": {
  "kernelspec": {
   "display_name": "Python [default]",
   "language": "python",
   "name": "python3"
  },
  "language_info": {
   "codemirror_mode": {
    "name": "ipython",
    "version": 3
   },
   "file_extension": ".py",
   "mimetype": "text/x-python",
   "name": "python",
   "nbconvert_exporter": "python",
   "pygments_lexer": "ipython3",
   "version": "3.5.2"
  }
 },
 "nbformat": 4,
 "nbformat_minor": 2
}
