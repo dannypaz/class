{
 "cells": [
  {
   "cell_type": "code",
   "execution_count": 9,
   "metadata": {
    "collapsed": false,
    "deletable": true,
    "editable": true
   },
   "outputs": [
    {
     "name": "stdout",
     "output_type": "stream",
     "text": [
      "Populating the interactive namespace from numpy and matplotlib\n"
     ]
    },
    {
     "name": "stderr",
     "output_type": "stream",
     "text": [
      "Using TensorFlow backend.\n"
     ]
    }
   ],
   "source": [
    "import pandas as pd\n",
    "import numpy as np\n",
    "from py_geohash_any import geohash as gh\n",
    "import datetime\n",
    "import seaborn as sns\n",
    "import matplotlib.pyplot as plt\n",
    "%pylab inline\n",
    "#!/usr/bin/env python\n",
    "from __future__ import print_function\n",
    "\n",
    "import argparse\n",
    "import random\n",
    "import numpy as np\n",
    "from collections import deque\n",
    "\n",
    "import json\n",
    "from collections import defaultdict\n",
    "from keras.models import model_from_json\n",
    "from keras.models import Sequential\n",
    "from keras.layers.core import Dense, Dropout, Activation, Flatten\n",
    "from keras.layers.convolutional import Convolution2D, MaxPooling2D\n",
    "from keras.optimizers import SGD , Adam\n",
    "import tensorflow as tf"
   ]
  },
  {
   "cell_type": "markdown",
   "metadata": {
    "deletable": true,
    "editable": true
   },
   "source": [
    "### Data Dictionary : Yellow Taxi Cab\n",
    "- VendorID A code indicating the TPEP provider that provided the record.\n",
    "1= Creative Mobile Technologies, LLC; 2= VeriFone Inc.\n",
    "- tpep_pickup_datetime The date and time when the meter was engaged.\n",
    "- tpep_dropoff_datetime The date and time when the meter was disengaged.\n",
    "- Passenger_count The number of passengers in the vehicle.\n",
    " This is a driver-entered value.\n",
    "- Trip_distance The elapsed trip distance in miles reported by the taximeter.\n",
    "- Pickup_longitude Longitude where the meter was engaged.\n",
    "- Pickup_latitude Latitude where the meter was engaged.\n",
    "- RateCodeID The final rate code in effect at the end of the trip.\n",
    " 1= Standard rate \n",
    " 2=JFK\n",
    " 3=Newark\n",
    " 4=Nassau or Westchester\n",
    " 5=Negotiated fare\n",
    " 6=Group ride\n",
    "- Store_and_fwd_flag This flag indicates whether the trip record was held in vehicle\n",
    " memory before sending to the vendor, aka “store and forward,”\n",
    " because the vehicle did not have a connection to the server.\n",
    "- Y= store and forward trip\n",
    "- N= not a store and forward trip\n",
    "- Dropoff_longitude Longitude where the meter was disengaged.\n",
    "- Dropoff_ latitude Latitude where the meter was disengaged.\n",
    "- Payment_type A numeric code signifying how the passenger paid for the trip.\n",
    " 1= Credit card\n",
    " 2= Cash\n",
    " 3= No charge\n",
    " 4= Dispute\n",
    " 5= Unknown\n",
    " 6= Voided trip\n",
    "- Fare_amount The time-and-distance fare calculated by the meter.\n",
    "- Extra Miscellaneous extras and surcharges. Currently, this only includes\n",
    " t he 0.50 and 1 rush hour and overnight charges.\n",
    " M TA_tax 0.50 MTA tax that is automatically triggered based on the metered\n",
    " rate in use.\n",
    "- Improvement_surcharge 0.30 improvement surcharge assessed trips at the flag drop. The\n",
    "- improvement surcharge began being levied in 2015.\n",
    "- Tip_amount Tip amount – This field is automatically populated for credit card\n",
    " tips. Cash tips are not included.\n",
    "- Tolls_amount Total amount of all tolls paid in trip.\n",
    "- Total_amount The total amount charged to passengers. Does not include cash tips.\n",
    "\n",
    "### Geohash dictionary the distance between geohashes based on matching characters, in meters.\n",
    "_PRECISION = {\n",
    "    0: 20000000,\n",
    "    1: 5003530,\n",
    "    2: 625441,\n",
    "    3: 123264,\n",
    "    4: 19545,\n",
    "    5: 3803,\n",
    "    6: 610,\n",
    "    7: 118,\n",
    "    8: 19,\n",
    "    9: 3.71,\n",
    "    10: 0.6,\n",
    "}\n",
    "\n",
    "### Average speed of taxis in Manhattan\n",
    "- In 2014, it dropped to 8.51 MPH. http://www.wnyc.org/story/traffic-speeds-slow-nyc-wants-curb-car-service-growth/\n",
    "- 8.51 MPH is 3.80431 meters / second\n",
    "\n",
    "### Geohash units are meters\n",
    "- http://stackoverflow.com/questions/13448595/geohash-string-length-and-accuracy"
   ]
  },
  {
   "cell_type": "code",
   "execution_count": null,
   "metadata": {
    "collapsed": true,
    "deletable": true,
    "editable": true
   },
   "outputs": [],
   "source": []
  },
  {
   "cell_type": "code",
   "execution_count": 10,
   "metadata": {
    "collapsed": false,
    "deletable": true,
    "editable": true
   },
   "outputs": [],
   "source": [
    "#yellow_taxi_geohash_min_day\n",
    "taxi_yellowcab_df = pd.read_csv(\"data/yellow_taxi_geohash_min_day.csv\")"
   ]
  },
  {
   "cell_type": "code",
   "execution_count": 11,
   "metadata": {
    "collapsed": false,
    "deletable": true,
    "editable": true
   },
   "outputs": [],
   "source": [
    "# Encoding error\n",
    "taxi_yellowcab_df['geohash_dropoff']=taxi_yellowcab_df['geohas_dropoff']\n",
    "#drop unnecessary columns\n",
    "taxi_yellowcab_df.drop(['Unnamed: 0','Unnamed: 0.1'],inplace=True,axis=1)"
   ]
  },
  {
   "cell_type": "code",
   "execution_count": 12,
   "metadata": {
    "collapsed": false,
    "deletable": true,
    "editable": true
   },
   "outputs": [
    {
     "name": "stdout",
     "output_type": "stream",
     "text": [
      "<class 'pandas.core.frame.DataFrame'>\n",
      "RangeIndex: 10906858 entries, 0 to 10906857\n",
      "Data columns (total 24 columns):\n",
      "VendorID                 int64\n",
      "tpep_pickup_datetime     object\n",
      "tpep_dropoff_datetime    object\n",
      "passenger_count          int64\n",
      "trip_distance            float64\n",
      "pickup_longitude         float64\n",
      "pickup_latitude          float64\n",
      "RatecodeID               int64\n",
      "store_and_fwd_flag       object\n",
      "dropoff_longitude        float64\n",
      "dropoff_latitude         float64\n",
      "payment_type             int64\n",
      "fare_amount              float64\n",
      "extra                    float64\n",
      "mta_tax                  float64\n",
      "tip_amount               float64\n",
      "tolls_amount             float64\n",
      "improvement_surcharge    float64\n",
      "total_amount             float64\n",
      "geohash_pickup           object\n",
      "geohas_dropoff           object\n",
      "jan_day                  int64\n",
      "jan_minute               int64\n",
      "geohash_dropoff          object\n",
      "dtypes: float64(12), int64(6), object(6)\n",
      "memory usage: 2.0+ GB\n"
     ]
    }
   ],
   "source": [
    "taxi_yellowcab_df.info()"
   ]
  },
  {
   "cell_type": "code",
   "execution_count": 13,
   "metadata": {
    "collapsed": false,
    "deletable": true,
    "editable": true
   },
   "outputs": [
    {
     "data": {
      "text/html": [
       "<div>\n",
       "<table border=\"1\" class=\"dataframe\">\n",
       "  <thead>\n",
       "    <tr style=\"text-align: right;\">\n",
       "      <th></th>\n",
       "      <th>VendorID</th>\n",
       "      <th>tpep_pickup_datetime</th>\n",
       "      <th>tpep_dropoff_datetime</th>\n",
       "      <th>passenger_count</th>\n",
       "      <th>trip_distance</th>\n",
       "      <th>pickup_longitude</th>\n",
       "      <th>pickup_latitude</th>\n",
       "      <th>RatecodeID</th>\n",
       "      <th>store_and_fwd_flag</th>\n",
       "      <th>dropoff_longitude</th>\n",
       "      <th>...</th>\n",
       "      <th>mta_tax</th>\n",
       "      <th>tip_amount</th>\n",
       "      <th>tolls_amount</th>\n",
       "      <th>improvement_surcharge</th>\n",
       "      <th>total_amount</th>\n",
       "      <th>geohash_pickup</th>\n",
       "      <th>geohas_dropoff</th>\n",
       "      <th>jan_day</th>\n",
       "      <th>jan_minute</th>\n",
       "      <th>geohash_dropoff</th>\n",
       "    </tr>\n",
       "  </thead>\n",
       "  <tbody>\n",
       "    <tr>\n",
       "      <th>0</th>\n",
       "      <td>2</td>\n",
       "      <td>2016-01-01 00:00:00</td>\n",
       "      <td>2016-01-01 00:00:00</td>\n",
       "      <td>2</td>\n",
       "      <td>1.10</td>\n",
       "      <td>-73.990372</td>\n",
       "      <td>40.734695</td>\n",
       "      <td>1</td>\n",
       "      <td>N</td>\n",
       "      <td>-73.981842</td>\n",
       "      <td>...</td>\n",
       "      <td>0.5</td>\n",
       "      <td>0.0</td>\n",
       "      <td>0.0</td>\n",
       "      <td>0.3</td>\n",
       "      <td>8.8</td>\n",
       "      <td>dr5rsr</td>\n",
       "      <td>dr5rsx</td>\n",
       "      <td>1</td>\n",
       "      <td>0</td>\n",
       "      <td>dr5rsx</td>\n",
       "    </tr>\n",
       "    <tr>\n",
       "      <th>1</th>\n",
       "      <td>2</td>\n",
       "      <td>2016-01-01 00:00:00</td>\n",
       "      <td>2016-01-01 00:00:00</td>\n",
       "      <td>5</td>\n",
       "      <td>4.90</td>\n",
       "      <td>-73.980782</td>\n",
       "      <td>40.729912</td>\n",
       "      <td>1</td>\n",
       "      <td>N</td>\n",
       "      <td>-73.944473</td>\n",
       "      <td>...</td>\n",
       "      <td>0.5</td>\n",
       "      <td>0.0</td>\n",
       "      <td>0.0</td>\n",
       "      <td>0.3</td>\n",
       "      <td>19.3</td>\n",
       "      <td>dr5rsw</td>\n",
       "      <td>dr5rtk</td>\n",
       "      <td>1</td>\n",
       "      <td>0</td>\n",
       "      <td>dr5rtk</td>\n",
       "    </tr>\n",
       "    <tr>\n",
       "      <th>2</th>\n",
       "      <td>2</td>\n",
       "      <td>2016-01-01 00:00:00</td>\n",
       "      <td>2016-01-01 00:00:00</td>\n",
       "      <td>1</td>\n",
       "      <td>10.54</td>\n",
       "      <td>-73.984550</td>\n",
       "      <td>40.679565</td>\n",
       "      <td>1</td>\n",
       "      <td>N</td>\n",
       "      <td>-73.950272</td>\n",
       "      <td>...</td>\n",
       "      <td>0.5</td>\n",
       "      <td>0.0</td>\n",
       "      <td>0.0</td>\n",
       "      <td>0.3</td>\n",
       "      <td>34.3</td>\n",
       "      <td>dr5rkm</td>\n",
       "      <td>dr72j1</td>\n",
       "      <td>1</td>\n",
       "      <td>0</td>\n",
       "      <td>dr72j1</td>\n",
       "    </tr>\n",
       "    <tr>\n",
       "      <th>3</th>\n",
       "      <td>2</td>\n",
       "      <td>2016-01-01 00:00:00</td>\n",
       "      <td>2016-01-01 00:00:00</td>\n",
       "      <td>1</td>\n",
       "      <td>4.75</td>\n",
       "      <td>-73.993469</td>\n",
       "      <td>40.718990</td>\n",
       "      <td>1</td>\n",
       "      <td>N</td>\n",
       "      <td>-73.962242</td>\n",
       "      <td>...</td>\n",
       "      <td>0.5</td>\n",
       "      <td>0.0</td>\n",
       "      <td>0.0</td>\n",
       "      <td>0.3</td>\n",
       "      <td>17.3</td>\n",
       "      <td>dr5rsh</td>\n",
       "      <td>dr5rkc</td>\n",
       "      <td>1</td>\n",
       "      <td>0</td>\n",
       "      <td>dr5rkc</td>\n",
       "    </tr>\n",
       "    <tr>\n",
       "      <th>4</th>\n",
       "      <td>2</td>\n",
       "      <td>2016-01-01 00:00:00</td>\n",
       "      <td>2016-01-01 00:00:00</td>\n",
       "      <td>3</td>\n",
       "      <td>1.76</td>\n",
       "      <td>-73.960625</td>\n",
       "      <td>40.781330</td>\n",
       "      <td>1</td>\n",
       "      <td>N</td>\n",
       "      <td>-73.977264</td>\n",
       "      <td>...</td>\n",
       "      <td>0.5</td>\n",
       "      <td>0.0</td>\n",
       "      <td>0.0</td>\n",
       "      <td>0.3</td>\n",
       "      <td>8.8</td>\n",
       "      <td>dr72hb</td>\n",
       "      <td>dr5rue</td>\n",
       "      <td>1</td>\n",
       "      <td>0</td>\n",
       "      <td>dr5rue</td>\n",
       "    </tr>\n",
       "    <tr>\n",
       "      <th>5</th>\n",
       "      <td>2</td>\n",
       "      <td>2016-01-01 00:00:00</td>\n",
       "      <td>2016-01-01 00:18:30</td>\n",
       "      <td>2</td>\n",
       "      <td>5.52</td>\n",
       "      <td>-73.980118</td>\n",
       "      <td>40.743050</td>\n",
       "      <td>1</td>\n",
       "      <td>N</td>\n",
       "      <td>-73.913490</td>\n",
       "      <td>...</td>\n",
       "      <td>0.5</td>\n",
       "      <td>0.0</td>\n",
       "      <td>0.0</td>\n",
       "      <td>0.3</td>\n",
       "      <td>20.3</td>\n",
       "      <td>dr5ru9</td>\n",
       "      <td>dr5ryh</td>\n",
       "      <td>1</td>\n",
       "      <td>18</td>\n",
       "      <td>dr5ryh</td>\n",
       "    </tr>\n",
       "    <tr>\n",
       "      <th>6</th>\n",
       "      <td>2</td>\n",
       "      <td>2016-01-01 00:00:00</td>\n",
       "      <td>2016-01-01 00:26:45</td>\n",
       "      <td>2</td>\n",
       "      <td>7.45</td>\n",
       "      <td>-73.994057</td>\n",
       "      <td>40.719990</td>\n",
       "      <td>1</td>\n",
       "      <td>N</td>\n",
       "      <td>-73.966362</td>\n",
       "      <td>...</td>\n",
       "      <td>0.5</td>\n",
       "      <td>0.0</td>\n",
       "      <td>0.0</td>\n",
       "      <td>0.3</td>\n",
       "      <td>27.3</td>\n",
       "      <td>dr5rsh</td>\n",
       "      <td>dr72hc</td>\n",
       "      <td>1</td>\n",
       "      <td>26</td>\n",
       "      <td>dr72hc</td>\n",
       "    </tr>\n",
       "    <tr>\n",
       "      <th>7</th>\n",
       "      <td>1</td>\n",
       "      <td>2016-01-01 00:00:01</td>\n",
       "      <td>2016-01-01 00:11:55</td>\n",
       "      <td>1</td>\n",
       "      <td>1.20</td>\n",
       "      <td>-73.979424</td>\n",
       "      <td>40.744614</td>\n",
       "      <td>1</td>\n",
       "      <td>N</td>\n",
       "      <td>-73.992035</td>\n",
       "      <td>...</td>\n",
       "      <td>0.5</td>\n",
       "      <td>0.0</td>\n",
       "      <td>0.0</td>\n",
       "      <td>0.3</td>\n",
       "      <td>10.3</td>\n",
       "      <td>dr5ru9</td>\n",
       "      <td>dr5ru7</td>\n",
       "      <td>1</td>\n",
       "      <td>11</td>\n",
       "      <td>dr5ru7</td>\n",
       "    </tr>\n",
       "    <tr>\n",
       "      <th>8</th>\n",
       "      <td>1</td>\n",
       "      <td>2016-01-01 00:00:02</td>\n",
       "      <td>2016-01-01 00:11:14</td>\n",
       "      <td>1</td>\n",
       "      <td>6.00</td>\n",
       "      <td>-73.947151</td>\n",
       "      <td>40.791046</td>\n",
       "      <td>1</td>\n",
       "      <td>N</td>\n",
       "      <td>-73.920769</td>\n",
       "      <td>...</td>\n",
       "      <td>0.5</td>\n",
       "      <td>0.0</td>\n",
       "      <td>0.0</td>\n",
       "      <td>0.3</td>\n",
       "      <td>19.3</td>\n",
       "      <td>dr72j3</td>\n",
       "      <td>dr72mz</td>\n",
       "      <td>1</td>\n",
       "      <td>11</td>\n",
       "      <td>dr72mz</td>\n",
       "    </tr>\n",
       "    <tr>\n",
       "      <th>9</th>\n",
       "      <td>2</td>\n",
       "      <td>2016-01-01 00:00:02</td>\n",
       "      <td>2016-01-01 00:11:08</td>\n",
       "      <td>1</td>\n",
       "      <td>3.21</td>\n",
       "      <td>-73.998344</td>\n",
       "      <td>40.723896</td>\n",
       "      <td>1</td>\n",
       "      <td>N</td>\n",
       "      <td>-73.995850</td>\n",
       "      <td>...</td>\n",
       "      <td>0.5</td>\n",
       "      <td>0.0</td>\n",
       "      <td>0.0</td>\n",
       "      <td>0.3</td>\n",
       "      <td>12.8</td>\n",
       "      <td>dr5rsj</td>\n",
       "      <td>dr5rkp</td>\n",
       "      <td>1</td>\n",
       "      <td>11</td>\n",
       "      <td>dr5rkp</td>\n",
       "    </tr>\n",
       "  </tbody>\n",
       "</table>\n",
       "<p>10 rows × 24 columns</p>\n",
       "</div>"
      ],
      "text/plain": [
       "   VendorID tpep_pickup_datetime tpep_dropoff_datetime  passenger_count  \\\n",
       "0         2  2016-01-01 00:00:00   2016-01-01 00:00:00                2   \n",
       "1         2  2016-01-01 00:00:00   2016-01-01 00:00:00                5   \n",
       "2         2  2016-01-01 00:00:00   2016-01-01 00:00:00                1   \n",
       "3         2  2016-01-01 00:00:00   2016-01-01 00:00:00                1   \n",
       "4         2  2016-01-01 00:00:00   2016-01-01 00:00:00                3   \n",
       "5         2  2016-01-01 00:00:00   2016-01-01 00:18:30                2   \n",
       "6         2  2016-01-01 00:00:00   2016-01-01 00:26:45                2   \n",
       "7         1  2016-01-01 00:00:01   2016-01-01 00:11:55                1   \n",
       "8         1  2016-01-01 00:00:02   2016-01-01 00:11:14                1   \n",
       "9         2  2016-01-01 00:00:02   2016-01-01 00:11:08                1   \n",
       "\n",
       "   trip_distance  pickup_longitude  pickup_latitude  RatecodeID  \\\n",
       "0           1.10        -73.990372        40.734695           1   \n",
       "1           4.90        -73.980782        40.729912           1   \n",
       "2          10.54        -73.984550        40.679565           1   \n",
       "3           4.75        -73.993469        40.718990           1   \n",
       "4           1.76        -73.960625        40.781330           1   \n",
       "5           5.52        -73.980118        40.743050           1   \n",
       "6           7.45        -73.994057        40.719990           1   \n",
       "7           1.20        -73.979424        40.744614           1   \n",
       "8           6.00        -73.947151        40.791046           1   \n",
       "9           3.21        -73.998344        40.723896           1   \n",
       "\n",
       "  store_and_fwd_flag  dropoff_longitude       ...        mta_tax  tip_amount  \\\n",
       "0                  N         -73.981842       ...            0.5         0.0   \n",
       "1                  N         -73.944473       ...            0.5         0.0   \n",
       "2                  N         -73.950272       ...            0.5         0.0   \n",
       "3                  N         -73.962242       ...            0.5         0.0   \n",
       "4                  N         -73.977264       ...            0.5         0.0   \n",
       "5                  N         -73.913490       ...            0.5         0.0   \n",
       "6                  N         -73.966362       ...            0.5         0.0   \n",
       "7                  N         -73.992035       ...            0.5         0.0   \n",
       "8                  N         -73.920769       ...            0.5         0.0   \n",
       "9                  N         -73.995850       ...            0.5         0.0   \n",
       "\n",
       "   tolls_amount  improvement_surcharge  total_amount  geohash_pickup  \\\n",
       "0           0.0                    0.3           8.8          dr5rsr   \n",
       "1           0.0                    0.3          19.3          dr5rsw   \n",
       "2           0.0                    0.3          34.3          dr5rkm   \n",
       "3           0.0                    0.3          17.3          dr5rsh   \n",
       "4           0.0                    0.3           8.8          dr72hb   \n",
       "5           0.0                    0.3          20.3          dr5ru9   \n",
       "6           0.0                    0.3          27.3          dr5rsh   \n",
       "7           0.0                    0.3          10.3          dr5ru9   \n",
       "8           0.0                    0.3          19.3          dr72j3   \n",
       "9           0.0                    0.3          12.8          dr5rsj   \n",
       "\n",
       "   geohas_dropoff  jan_day  jan_minute geohash_dropoff  \n",
       "0          dr5rsx        1           0          dr5rsx  \n",
       "1          dr5rtk        1           0          dr5rtk  \n",
       "2          dr72j1        1           0          dr72j1  \n",
       "3          dr5rkc        1           0          dr5rkc  \n",
       "4          dr5rue        1           0          dr5rue  \n",
       "5          dr5ryh        1          18          dr5ryh  \n",
       "6          dr72hc        1          26          dr72hc  \n",
       "7          dr5ru7        1          11          dr5ru7  \n",
       "8          dr72mz        1          11          dr72mz  \n",
       "9          dr5rkp        1          11          dr5rkp  \n",
       "\n",
       "[10 rows x 24 columns]"
      ]
     },
     "execution_count": 13,
     "metadata": {},
     "output_type": "execute_result"
    }
   ],
   "source": [
    "taxi_yellowcab_df.head(10)"
   ]
  },
  {
   "cell_type": "code",
   "execution_count": 14,
   "metadata": {
    "collapsed": false,
    "deletable": true,
    "editable": true
   },
   "outputs": [
    {
     "data": {
      "text/plain": [
       "datetime.date(2016, 11, 1)"
      ]
     },
     "execution_count": 14,
     "metadata": {},
     "output_type": "execute_result"
    }
   ],
   "source": [
    "from datetime import datetime, timedelta, date\n",
    "import dateutil\n",
    "st_date = '2016-11-01'\n",
    "dt = dateutil.parser.parse(st_date).date()\n",
    "dt"
   ]
  },
  {
   "cell_type": "markdown",
   "metadata": {
    "deletable": true,
    "editable": true
   },
   "source": [
    "## Create new columns for the day, minute, and month of january\n",
    "- Don't run again, save this as csv"
   ]
  },
  {
   "cell_type": "code",
   "execution_count": 15,
   "metadata": {
    "collapsed": false,
    "deletable": true,
    "editable": true
   },
   "outputs": [],
   "source": [
    "#taxi_yellowcab_df['jan_day']=[dateutil.parser.parse(i).day for i in taxi_yellowcab_df.tpep_dropoff_datetime]"
   ]
  },
  {
   "cell_type": "code",
   "execution_count": 16,
   "metadata": {
    "collapsed": true,
    "deletable": true,
    "editable": true
   },
   "outputs": [],
   "source": [
    "#taxi_yellowcab_df['jan_minute']=[dateutil.parser.parse(i).minute for i in taxi_yellowcab_df.tpep_dropoff_datetime]"
   ]
  },
  {
   "cell_type": "code",
   "execution_count": 17,
   "metadata": {
    "collapsed": false,
    "deletable": true,
    "editable": true
   },
   "outputs": [],
   "source": [
    "#taxi_yellowcab_df.to_csv(\"data/yellow_taxi_geohash_min_day.csv\")"
   ]
  },
  {
   "cell_type": "code",
   "execution_count": 327,
   "metadata": {
    "collapsed": false,
    "deletable": true,
    "editable": true
   },
   "outputs": [],
   "source": [
    "#taxi_yellowcab_df['month'] =[i.month for i in taxi_yellowcab_df.tpep_pickup_datetime]"
   ]
  },
  {
   "cell_type": "code",
   "execution_count": 329,
   "metadata": {
    "collapsed": false,
    "deletable": true,
    "editable": true
   },
   "outputs": [
    {
     "data": {
      "text/plain": [
       "array([1])"
      ]
     },
     "execution_count": 329,
     "metadata": {},
     "output_type": "execute_result"
    }
   ],
   "source": [
    "#taxi_yellowcab_df['month'].unique()"
   ]
  },
  {
   "cell_type": "code",
   "execution_count": 328,
   "metadata": {
    "collapsed": false,
    "deletable": true,
    "editable": true
   },
   "outputs": [
    {
     "data": {
      "text/html": [
       "<div>\n",
       "<table border=\"1\" class=\"dataframe\">\n",
       "  <thead>\n",
       "    <tr style=\"text-align: right;\">\n",
       "      <th></th>\n",
       "      <th>Unnamed: 0</th>\n",
       "      <th>Unnamed: 0.1</th>\n",
       "      <th>VendorID</th>\n",
       "      <th>tpep_pickup_datetime</th>\n",
       "      <th>tpep_dropoff_datetime</th>\n",
       "      <th>passenger_count</th>\n",
       "      <th>trip_distance</th>\n",
       "      <th>pickup_longitude</th>\n",
       "      <th>pickup_latitude</th>\n",
       "      <th>RatecodeID</th>\n",
       "      <th>...</th>\n",
       "      <th>tip_amount</th>\n",
       "      <th>tolls_amount</th>\n",
       "      <th>improvement_surcharge</th>\n",
       "      <th>total_amount</th>\n",
       "      <th>geohash_pickup</th>\n",
       "      <th>geohas_dropoff</th>\n",
       "      <th>jan_day</th>\n",
       "      <th>jan_minute</th>\n",
       "      <th>geohash_dropoff</th>\n",
       "      <th>month</th>\n",
       "    </tr>\n",
       "  </thead>\n",
       "  <tbody>\n",
       "  </tbody>\n",
       "</table>\n",
       "<p>0 rows × 27 columns</p>\n",
       "</div>"
      ],
      "text/plain": [
       "Empty DataFrame\n",
       "Columns: [Unnamed: 0, Unnamed: 0.1, VendorID, tpep_pickup_datetime, tpep_dropoff_datetime, passenger_count, trip_distance, pickup_longitude, pickup_latitude, RatecodeID, store_and_fwd_flag, dropoff_longitude, dropoff_latitude, payment_type, fare_amount, extra, mta_tax, tip_amount, tolls_amount, improvement_surcharge, total_amount, geohash_pickup, geohas_dropoff, jan_day, jan_minute, geohash_dropoff, month]\n",
       "Index: []\n",
       "\n",
       "[0 rows x 27 columns]"
      ]
     },
     "execution_count": 328,
     "metadata": {},
     "output_type": "execute_result"
    }
   ],
   "source": [
    "## filter to only have dates from January\n",
    "#taxi_yellowcab_df[taxi_yellowcab_df['month']==2]"
   ]
  },
  {
   "cell_type": "code",
   "execution_count": null,
   "metadata": {
    "collapsed": true,
    "deletable": true,
    "editable": true
   },
   "outputs": [],
   "source": []
  },
  {
   "cell_type": "code",
   "execution_count": null,
   "metadata": {
    "collapsed": true,
    "deletable": true,
    "editable": true
   },
   "outputs": [],
   "source": []
  },
  {
   "cell_type": "markdown",
   "metadata": {
    "deletable": true,
    "editable": true
   },
   "source": [
    "- Transform lat and long to zip code\n",
    "\n",
    ">zip_code_data from: https://github.com/EverythingMe/geodis\n"
   ]
  },
  {
   "cell_type": "markdown",
   "metadata": {
    "deletable": true,
    "editable": true
   },
   "source": [
    "### Create a geohash of the latitude and longtitude of the pickup and dropoff"
   ]
  },
  {
   "cell_type": "code",
   "execution_count": 67,
   "metadata": {
    "collapsed": false,
    "deletable": true,
    "editable": true
   },
   "outputs": [],
   "source": [
    "def geohash_encoding(taxi_df,precision_=5):\n",
    "    \"\"\"Encode the latitude and longtitude of the pickup and dropoff into a geohash. For reference, the precision\n",
    "    of a geohash depends on the number of characters present.\n",
    "    _PRECISION = { 0: 20000000, 1: 5003530, 2: 625441, 3: 123264, 4: 19545,\n",
    "    5: 3803, 6: 610, 7: 118, 8: 19, 9: 3.71, 10: 0.6, } - all distances in meters.\n",
    "    \n",
    "    Average taxi speed in 2014 was 5.51 miles per hour, or 3.8 meters per second.\n",
    "    Precision of 5, means that a taxi should traverse this square in ~16 minutes avg. speed 8.6 MPH.\n",
    "    Precision of 6, means a taxi should traverse square in ~3 minutes using average speed of 8.6mph.\n",
    "    Precision of 7, means a taxi should traverse the square in ~1 minute.\n",
    "    \n",
    "    Input: Pandas DF\n",
    "    Output: Pandas DF with geohas column appended\"\"\"\n",
    "    new_taxidf = taxi_df.copy()\n",
    "    geo_hash_pickup = []\n",
    "    geo_hash_dropoff = []\n",
    "    for idx,row in enumerate(new_taxidf.iterrows()):\n",
    "        if idx%100000==0:\n",
    "            print(\"Finished row number {}\".format(idx))\n",
    "        # longittude followed by latitude\n",
    "\n",
    "            pickup_vector = np.array( [row[1]['pickup_latitude'],row[1]['pickup_longitude']])\n",
    "            dropoff_vector = np.array( [row[1]['dropoff_latitude'],row[1]['dropoff_longitude']])\n",
    "            #geohash encoding\n",
    "            has = gh.encode(pickup_vector[1],pickup_vector[0],precision_)\n",
    "            geo_hash_pickup.append(gh.encode(pickup_vector[0],pickup_vector[1],precision_))\n",
    "            geo_hash_dropoff.append(gh.encode(dropoff_vector[0],dropoff_vector[1],precision_))\n",
    "        else:\n",
    "            pickup_vector = np.array( [row[1]['pickup_latitude'],row[1]['pickup_longitude']])\n",
    "            dropoff_vector = np.array( [row[1]['dropoff_latitude'],row[1]['dropoff_longitude']])\n",
    "            #geohash encoding\n",
    "            has = gh.encode(pickup_vector[1],pickup_vector[0],precision_)\n",
    "            geo_hash_pickup.append(gh.encode(pickup_vector[0],pickup_vector[1],precision_))\n",
    "            geo_hash_dropoff.append(gh.encode(dropoff_vector[0],dropoff_vector[1],precision_))\n",
    "\n",
    "    ## add in the new geohash columns\n",
    "    new_taxidf['geohash_pickup'] = geo_hash_pickup\n",
    "    new_taxidf['geohash_dropoff'] = geo_hash_dropoff \n",
    "    return new_taxidf\n",
    "        \n",
    "    \n",
    "    "
   ]
  },
  {
   "cell_type": "markdown",
   "metadata": {
    "deletable": true,
    "editable": true
   },
   "source": [
    "> Time how long this will take to run for 10 million rows\n",
    "- 1k samples takes .297 seconds\n",
    "- 10k samples takes 2.34 seconds\n",
    "- 10 million rows is 1,000x 10k so 2340 seconds or 39 minutes"
   ]
  },
  {
   "cell_type": "code",
   "execution_count": 32,
   "metadata": {
    "collapsed": false
   },
   "outputs": [
    {
     "data": {
      "text/html": [
       "<div>\n",
       "<table border=\"1\" class=\"dataframe\">\n",
       "  <thead>\n",
       "    <tr style=\"text-align: right;\">\n",
       "      <th></th>\n",
       "      <th>VendorID</th>\n",
       "      <th>tpep_pickup_datetime</th>\n",
       "      <th>tpep_dropoff_datetime</th>\n",
       "      <th>passenger_count</th>\n",
       "      <th>trip_distance</th>\n",
       "      <th>pickup_longitude</th>\n",
       "      <th>pickup_latitude</th>\n",
       "      <th>RatecodeID</th>\n",
       "      <th>store_and_fwd_flag</th>\n",
       "      <th>dropoff_longitude</th>\n",
       "      <th>...</th>\n",
       "      <th>mta_tax</th>\n",
       "      <th>tip_amount</th>\n",
       "      <th>tolls_amount</th>\n",
       "      <th>improvement_surcharge</th>\n",
       "      <th>total_amount</th>\n",
       "      <th>geohash_pickup</th>\n",
       "      <th>geohas_dropoff</th>\n",
       "      <th>jan_day</th>\n",
       "      <th>jan_minute</th>\n",
       "      <th>geohash_dropoff</th>\n",
       "    </tr>\n",
       "  </thead>\n",
       "  <tbody>\n",
       "    <tr>\n",
       "      <th>0</th>\n",
       "      <td>2</td>\n",
       "      <td>2016-01-01 00:00:00</td>\n",
       "      <td>2016-01-01 00:00:00</td>\n",
       "      <td>2</td>\n",
       "      <td>1.10</td>\n",
       "      <td>-73.990372</td>\n",
       "      <td>40.734695</td>\n",
       "      <td>1</td>\n",
       "      <td>N</td>\n",
       "      <td>-73.981842</td>\n",
       "      <td>...</td>\n",
       "      <td>0.5</td>\n",
       "      <td>0.0</td>\n",
       "      <td>0.0</td>\n",
       "      <td>0.3</td>\n",
       "      <td>8.8</td>\n",
       "      <td>dr5rsr</td>\n",
       "      <td>dr5rsx</td>\n",
       "      <td>1</td>\n",
       "      <td>0</td>\n",
       "      <td>dr5rsx</td>\n",
       "    </tr>\n",
       "    <tr>\n",
       "      <th>1</th>\n",
       "      <td>2</td>\n",
       "      <td>2016-01-01 00:00:00</td>\n",
       "      <td>2016-01-01 00:00:00</td>\n",
       "      <td>5</td>\n",
       "      <td>4.90</td>\n",
       "      <td>-73.980782</td>\n",
       "      <td>40.729912</td>\n",
       "      <td>1</td>\n",
       "      <td>N</td>\n",
       "      <td>-73.944473</td>\n",
       "      <td>...</td>\n",
       "      <td>0.5</td>\n",
       "      <td>0.0</td>\n",
       "      <td>0.0</td>\n",
       "      <td>0.3</td>\n",
       "      <td>19.3</td>\n",
       "      <td>dr5rsw</td>\n",
       "      <td>dr5rtk</td>\n",
       "      <td>1</td>\n",
       "      <td>0</td>\n",
       "      <td>dr5rtk</td>\n",
       "    </tr>\n",
       "    <tr>\n",
       "      <th>2</th>\n",
       "      <td>2</td>\n",
       "      <td>2016-01-01 00:00:00</td>\n",
       "      <td>2016-01-01 00:00:00</td>\n",
       "      <td>1</td>\n",
       "      <td>10.54</td>\n",
       "      <td>-73.984550</td>\n",
       "      <td>40.679565</td>\n",
       "      <td>1</td>\n",
       "      <td>N</td>\n",
       "      <td>-73.950272</td>\n",
       "      <td>...</td>\n",
       "      <td>0.5</td>\n",
       "      <td>0.0</td>\n",
       "      <td>0.0</td>\n",
       "      <td>0.3</td>\n",
       "      <td>34.3</td>\n",
       "      <td>dr5rkm</td>\n",
       "      <td>dr72j1</td>\n",
       "      <td>1</td>\n",
       "      <td>0</td>\n",
       "      <td>dr72j1</td>\n",
       "    </tr>\n",
       "    <tr>\n",
       "      <th>3</th>\n",
       "      <td>2</td>\n",
       "      <td>2016-01-01 00:00:00</td>\n",
       "      <td>2016-01-01 00:00:00</td>\n",
       "      <td>1</td>\n",
       "      <td>4.75</td>\n",
       "      <td>-73.993469</td>\n",
       "      <td>40.718990</td>\n",
       "      <td>1</td>\n",
       "      <td>N</td>\n",
       "      <td>-73.962242</td>\n",
       "      <td>...</td>\n",
       "      <td>0.5</td>\n",
       "      <td>0.0</td>\n",
       "      <td>0.0</td>\n",
       "      <td>0.3</td>\n",
       "      <td>17.3</td>\n",
       "      <td>dr5rsh</td>\n",
       "      <td>dr5rkc</td>\n",
       "      <td>1</td>\n",
       "      <td>0</td>\n",
       "      <td>dr5rkc</td>\n",
       "    </tr>\n",
       "    <tr>\n",
       "      <th>4</th>\n",
       "      <td>2</td>\n",
       "      <td>2016-01-01 00:00:00</td>\n",
       "      <td>2016-01-01 00:00:00</td>\n",
       "      <td>3</td>\n",
       "      <td>1.76</td>\n",
       "      <td>-73.960625</td>\n",
       "      <td>40.781330</td>\n",
       "      <td>1</td>\n",
       "      <td>N</td>\n",
       "      <td>-73.977264</td>\n",
       "      <td>...</td>\n",
       "      <td>0.5</td>\n",
       "      <td>0.0</td>\n",
       "      <td>0.0</td>\n",
       "      <td>0.3</td>\n",
       "      <td>8.8</td>\n",
       "      <td>dr72hb</td>\n",
       "      <td>dr5rue</td>\n",
       "      <td>1</td>\n",
       "      <td>0</td>\n",
       "      <td>dr5rue</td>\n",
       "    </tr>\n",
       "  </tbody>\n",
       "</table>\n",
       "<p>5 rows × 24 columns</p>\n",
       "</div>"
      ],
      "text/plain": [
       "   VendorID tpep_pickup_datetime tpep_dropoff_datetime  passenger_count  \\\n",
       "0         2  2016-01-01 00:00:00   2016-01-01 00:00:00                2   \n",
       "1         2  2016-01-01 00:00:00   2016-01-01 00:00:00                5   \n",
       "2         2  2016-01-01 00:00:00   2016-01-01 00:00:00                1   \n",
       "3         2  2016-01-01 00:00:00   2016-01-01 00:00:00                1   \n",
       "4         2  2016-01-01 00:00:00   2016-01-01 00:00:00                3   \n",
       "\n",
       "   trip_distance  pickup_longitude  pickup_latitude  RatecodeID  \\\n",
       "0           1.10        -73.990372        40.734695           1   \n",
       "1           4.90        -73.980782        40.729912           1   \n",
       "2          10.54        -73.984550        40.679565           1   \n",
       "3           4.75        -73.993469        40.718990           1   \n",
       "4           1.76        -73.960625        40.781330           1   \n",
       "\n",
       "  store_and_fwd_flag  dropoff_longitude       ...        mta_tax  tip_amount  \\\n",
       "0                  N         -73.981842       ...            0.5         0.0   \n",
       "1                  N         -73.944473       ...            0.5         0.0   \n",
       "2                  N         -73.950272       ...            0.5         0.0   \n",
       "3                  N         -73.962242       ...            0.5         0.0   \n",
       "4                  N         -73.977264       ...            0.5         0.0   \n",
       "\n",
       "   tolls_amount  improvement_surcharge  total_amount  geohash_pickup  \\\n",
       "0           0.0                    0.3           8.8          dr5rsr   \n",
       "1           0.0                    0.3          19.3          dr5rsw   \n",
       "2           0.0                    0.3          34.3          dr5rkm   \n",
       "3           0.0                    0.3          17.3          dr5rsh   \n",
       "4           0.0                    0.3           8.8          dr72hb   \n",
       "\n",
       "   geohas_dropoff  jan_day  jan_minute geohash_dropoff  \n",
       "0          dr5rsx        1           0          dr5rsx  \n",
       "1          dr5rtk        1           0          dr5rtk  \n",
       "2          dr72j1        1           0          dr72j1  \n",
       "3          dr5rkc        1           0          dr5rkc  \n",
       "4          dr5rue        1           0          dr5rue  \n",
       "\n",
       "[5 rows x 24 columns]"
      ]
     },
     "execution_count": 32,
     "metadata": {},
     "output_type": "execute_result"
    }
   ],
   "source": [
    "taxi_yellowcab_df.head()"
   ]
  },
  {
   "cell_type": "code",
   "execution_count": 55,
   "metadata": {
    "collapsed": false
   },
   "outputs": [
    {
     "data": {
      "text/plain": [
       "'Zct9T'"
      ]
     },
     "execution_count": 55,
     "metadata": {},
     "output_type": "execute_result"
    }
   ],
   "source": [
    "gh.encode(40.768951416,-73.9919967651,5)"
   ]
  },
  {
   "cell_type": "code",
   "execution_count": 122,
   "metadata": {
    "collapsed": false,
    "deletable": true,
    "editable": true,
    "scrolled": true
   },
   "outputs": [],
   "source": [
    "# Already ran this\n",
    "#taxi_yellowcab_jan_geohash_df = geohash_encoding(taxi_yellowcab_df)"
   ]
  },
  {
   "cell_type": "code",
   "execution_count": 69,
   "metadata": {
    "collapsed": false
   },
   "outputs": [
    {
     "data": {
      "text/html": [
       "<div>\n",
       "<table border=\"1\" class=\"dataframe\">\n",
       "  <thead>\n",
       "    <tr style=\"text-align: right;\">\n",
       "      <th></th>\n",
       "      <th>VendorID</th>\n",
       "      <th>tpep_pickup_datetime</th>\n",
       "      <th>tpep_dropoff_datetime</th>\n",
       "      <th>passenger_count</th>\n",
       "      <th>trip_distance</th>\n",
       "      <th>pickup_longitude</th>\n",
       "      <th>pickup_latitude</th>\n",
       "      <th>RatecodeID</th>\n",
       "      <th>store_and_fwd_flag</th>\n",
       "      <th>dropoff_longitude</th>\n",
       "      <th>...</th>\n",
       "      <th>mta_tax</th>\n",
       "      <th>tip_amount</th>\n",
       "      <th>tolls_amount</th>\n",
       "      <th>improvement_surcharge</th>\n",
       "      <th>total_amount</th>\n",
       "      <th>geohash_pickup</th>\n",
       "      <th>geohas_dropoff</th>\n",
       "      <th>jan_day</th>\n",
       "      <th>jan_minute</th>\n",
       "      <th>geohash_dropoff</th>\n",
       "    </tr>\n",
       "  </thead>\n",
       "  <tbody>\n",
       "    <tr>\n",
       "      <th>0</th>\n",
       "      <td>2</td>\n",
       "      <td>2016-01-01 00:00:00</td>\n",
       "      <td>2016-01-01 00:00:00</td>\n",
       "      <td>2</td>\n",
       "      <td>1.10</td>\n",
       "      <td>-73.990372</td>\n",
       "      <td>40.734695</td>\n",
       "      <td>1</td>\n",
       "      <td>N</td>\n",
       "      <td>-73.981842</td>\n",
       "      <td>...</td>\n",
       "      <td>0.5</td>\n",
       "      <td>0.0</td>\n",
       "      <td>0.0</td>\n",
       "      <td>0.3</td>\n",
       "      <td>8.8</td>\n",
       "      <td>Zct8X</td>\n",
       "      <td>dr5rsx</td>\n",
       "      <td>1</td>\n",
       "      <td>0</td>\n",
       "      <td>Zct8d</td>\n",
       "    </tr>\n",
       "    <tr>\n",
       "      <th>1</th>\n",
       "      <td>2</td>\n",
       "      <td>2016-01-01 00:00:00</td>\n",
       "      <td>2016-01-01 00:00:00</td>\n",
       "      <td>5</td>\n",
       "      <td>4.90</td>\n",
       "      <td>-73.980782</td>\n",
       "      <td>40.729912</td>\n",
       "      <td>1</td>\n",
       "      <td>N</td>\n",
       "      <td>-73.944473</td>\n",
       "      <td>...</td>\n",
       "      <td>0.5</td>\n",
       "      <td>0.0</td>\n",
       "      <td>0.0</td>\n",
       "      <td>0.3</td>\n",
       "      <td>19.3</td>\n",
       "      <td>Zct8c</td>\n",
       "      <td>dr5rtk</td>\n",
       "      <td>1</td>\n",
       "      <td>0</td>\n",
       "      <td>Zct8y</td>\n",
       "    </tr>\n",
       "    <tr>\n",
       "      <th>2</th>\n",
       "      <td>2</td>\n",
       "      <td>2016-01-01 00:00:00</td>\n",
       "      <td>2016-01-01 00:00:00</td>\n",
       "      <td>1</td>\n",
       "      <td>10.54</td>\n",
       "      <td>-73.984550</td>\n",
       "      <td>40.679565</td>\n",
       "      <td>1</td>\n",
       "      <td>N</td>\n",
       "      <td>-73.950272</td>\n",
       "      <td>...</td>\n",
       "      <td>0.5</td>\n",
       "      <td>0.0</td>\n",
       "      <td>0.0</td>\n",
       "      <td>0.3</td>\n",
       "      <td>34.3</td>\n",
       "      <td>Zct5T</td>\n",
       "      <td>dr72j1</td>\n",
       "      <td>1</td>\n",
       "      <td>0</td>\n",
       "      <td>Zc4oh</td>\n",
       "    </tr>\n",
       "    <tr>\n",
       "      <th>3</th>\n",
       "      <td>2</td>\n",
       "      <td>2016-01-01 00:00:00</td>\n",
       "      <td>2016-01-01 00:00:00</td>\n",
       "      <td>1</td>\n",
       "      <td>4.75</td>\n",
       "      <td>-73.993469</td>\n",
       "      <td>40.718990</td>\n",
       "      <td>1</td>\n",
       "      <td>N</td>\n",
       "      <td>-73.962242</td>\n",
       "      <td>...</td>\n",
       "      <td>0.5</td>\n",
       "      <td>0.0</td>\n",
       "      <td>0.0</td>\n",
       "      <td>0.3</td>\n",
       "      <td>17.3</td>\n",
       "      <td>Zct8Q</td>\n",
       "      <td>dr5rkc</td>\n",
       "      <td>1</td>\n",
       "      <td>0</td>\n",
       "      <td>Zct5L</td>\n",
       "    </tr>\n",
       "    <tr>\n",
       "      <th>4</th>\n",
       "      <td>2</td>\n",
       "      <td>2016-01-01 00:00:00</td>\n",
       "      <td>2016-01-01 00:00:00</td>\n",
       "      <td>3</td>\n",
       "      <td>1.76</td>\n",
       "      <td>-73.960625</td>\n",
       "      <td>40.781330</td>\n",
       "      <td>1</td>\n",
       "      <td>N</td>\n",
       "      <td>-73.977264</td>\n",
       "      <td>...</td>\n",
       "      <td>0.5</td>\n",
       "      <td>0.0</td>\n",
       "      <td>0.0</td>\n",
       "      <td>0.3</td>\n",
       "      <td>8.8</td>\n",
       "      <td>Zc4oK</td>\n",
       "      <td>dr5rue</td>\n",
       "      <td>1</td>\n",
       "      <td>0</td>\n",
       "      <td>Zct9N</td>\n",
       "    </tr>\n",
       "  </tbody>\n",
       "</table>\n",
       "<p>5 rows × 24 columns</p>\n",
       "</div>"
      ],
      "text/plain": [
       "   VendorID tpep_pickup_datetime tpep_dropoff_datetime  passenger_count  \\\n",
       "0         2  2016-01-01 00:00:00   2016-01-01 00:00:00                2   \n",
       "1         2  2016-01-01 00:00:00   2016-01-01 00:00:00                5   \n",
       "2         2  2016-01-01 00:00:00   2016-01-01 00:00:00                1   \n",
       "3         2  2016-01-01 00:00:00   2016-01-01 00:00:00                1   \n",
       "4         2  2016-01-01 00:00:00   2016-01-01 00:00:00                3   \n",
       "\n",
       "   trip_distance  pickup_longitude  pickup_latitude  RatecodeID  \\\n",
       "0           1.10        -73.990372        40.734695           1   \n",
       "1           4.90        -73.980782        40.729912           1   \n",
       "2          10.54        -73.984550        40.679565           1   \n",
       "3           4.75        -73.993469        40.718990           1   \n",
       "4           1.76        -73.960625        40.781330           1   \n",
       "\n",
       "  store_and_fwd_flag  dropoff_longitude       ...        mta_tax  tip_amount  \\\n",
       "0                  N         -73.981842       ...            0.5         0.0   \n",
       "1                  N         -73.944473       ...            0.5         0.0   \n",
       "2                  N         -73.950272       ...            0.5         0.0   \n",
       "3                  N         -73.962242       ...            0.5         0.0   \n",
       "4                  N         -73.977264       ...            0.5         0.0   \n",
       "\n",
       "   tolls_amount  improvement_surcharge  total_amount  geohash_pickup  \\\n",
       "0           0.0                    0.3           8.8           Zct8X   \n",
       "1           0.0                    0.3          19.3           Zct8c   \n",
       "2           0.0                    0.3          34.3           Zct5T   \n",
       "3           0.0                    0.3          17.3           Zct8Q   \n",
       "4           0.0                    0.3           8.8           Zc4oK   \n",
       "\n",
       "   geohas_dropoff  jan_day  jan_minute geohash_dropoff  \n",
       "0          dr5rsx        1           0           Zct8d  \n",
       "1          dr5rtk        1           0           Zct8y  \n",
       "2          dr72j1        1           0           Zc4oh  \n",
       "3          dr5rkc        1           0           Zct5L  \n",
       "4          dr5rue        1           0           Zct9N  \n",
       "\n",
       "[5 rows x 24 columns]"
      ]
     },
     "execution_count": 69,
     "metadata": {},
     "output_type": "execute_result"
    }
   ],
   "source": [
    "taxi_yellowcab_jan_geohash_df .head()"
   ]
  },
  {
   "cell_type": "code",
   "execution_count": 70,
   "metadata": {
    "collapsed": false
   },
   "outputs": [],
   "source": [
    "#taxi_yellowcab_jan_geohash_df.to_csv(\"data/yellow_taxi_geohash_min_day.csv\")"
   ]
  },
  {
   "cell_type": "code",
   "execution_count": 18,
   "metadata": {
    "collapsed": false,
    "deletable": true,
    "editable": true
   },
   "outputs": [
    {
     "data": {
      "text/html": [
       "<div>\n",
       "<table border=\"1\" class=\"dataframe\">\n",
       "  <thead>\n",
       "    <tr style=\"text-align: right;\">\n",
       "      <th></th>\n",
       "      <th>Unnamed: 0</th>\n",
       "      <th>Unnamed: 0.1</th>\n",
       "      <th>VendorID</th>\n",
       "      <th>tpep_pickup_datetime</th>\n",
       "      <th>tpep_dropoff_datetime</th>\n",
       "      <th>passenger_count</th>\n",
       "      <th>trip_distance</th>\n",
       "      <th>pickup_longitude</th>\n",
       "      <th>pickup_latitude</th>\n",
       "      <th>RatecodeID</th>\n",
       "      <th>...</th>\n",
       "      <th>mta_tax</th>\n",
       "      <th>tip_amount</th>\n",
       "      <th>tolls_amount</th>\n",
       "      <th>improvement_surcharge</th>\n",
       "      <th>total_amount</th>\n",
       "      <th>geohash_pickup</th>\n",
       "      <th>geohas_dropoff</th>\n",
       "      <th>jan_day</th>\n",
       "      <th>jan_minute</th>\n",
       "      <th>geohash_dropoff</th>\n",
       "    </tr>\n",
       "  </thead>\n",
       "  <tbody>\n",
       "    <tr>\n",
       "      <th>0</th>\n",
       "      <td>0</td>\n",
       "      <td>0</td>\n",
       "      <td>2</td>\n",
       "      <td>2016-01-01 00:00:00</td>\n",
       "      <td>2016-01-01 00:00:00</td>\n",
       "      <td>2</td>\n",
       "      <td>1.10</td>\n",
       "      <td>-73.990372</td>\n",
       "      <td>40.734695</td>\n",
       "      <td>1</td>\n",
       "      <td>...</td>\n",
       "      <td>0.5</td>\n",
       "      <td>0.0</td>\n",
       "      <td>0.0</td>\n",
       "      <td>0.3</td>\n",
       "      <td>8.8</td>\n",
       "      <td>dr5rsr</td>\n",
       "      <td>dr5rsx</td>\n",
       "      <td>1</td>\n",
       "      <td>0</td>\n",
       "      <td>dr5rsx</td>\n",
       "    </tr>\n",
       "    <tr>\n",
       "      <th>1</th>\n",
       "      <td>1</td>\n",
       "      <td>1</td>\n",
       "      <td>2</td>\n",
       "      <td>2016-01-01 00:00:00</td>\n",
       "      <td>2016-01-01 00:00:00</td>\n",
       "      <td>5</td>\n",
       "      <td>4.90</td>\n",
       "      <td>-73.980782</td>\n",
       "      <td>40.729912</td>\n",
       "      <td>1</td>\n",
       "      <td>...</td>\n",
       "      <td>0.5</td>\n",
       "      <td>0.0</td>\n",
       "      <td>0.0</td>\n",
       "      <td>0.3</td>\n",
       "      <td>19.3</td>\n",
       "      <td>dr5rsw</td>\n",
       "      <td>dr5rtk</td>\n",
       "      <td>1</td>\n",
       "      <td>0</td>\n",
       "      <td>dr5rtk</td>\n",
       "    </tr>\n",
       "    <tr>\n",
       "      <th>2</th>\n",
       "      <td>2</td>\n",
       "      <td>2</td>\n",
       "      <td>2</td>\n",
       "      <td>2016-01-01 00:00:00</td>\n",
       "      <td>2016-01-01 00:00:00</td>\n",
       "      <td>1</td>\n",
       "      <td>10.54</td>\n",
       "      <td>-73.984550</td>\n",
       "      <td>40.679565</td>\n",
       "      <td>1</td>\n",
       "      <td>...</td>\n",
       "      <td>0.5</td>\n",
       "      <td>0.0</td>\n",
       "      <td>0.0</td>\n",
       "      <td>0.3</td>\n",
       "      <td>34.3</td>\n",
       "      <td>dr5rkm</td>\n",
       "      <td>dr72j1</td>\n",
       "      <td>1</td>\n",
       "      <td>0</td>\n",
       "      <td>dr72j1</td>\n",
       "    </tr>\n",
       "    <tr>\n",
       "      <th>3</th>\n",
       "      <td>3</td>\n",
       "      <td>3</td>\n",
       "      <td>2</td>\n",
       "      <td>2016-01-01 00:00:00</td>\n",
       "      <td>2016-01-01 00:00:00</td>\n",
       "      <td>1</td>\n",
       "      <td>4.75</td>\n",
       "      <td>-73.993469</td>\n",
       "      <td>40.718990</td>\n",
       "      <td>1</td>\n",
       "      <td>...</td>\n",
       "      <td>0.5</td>\n",
       "      <td>0.0</td>\n",
       "      <td>0.0</td>\n",
       "      <td>0.3</td>\n",
       "      <td>17.3</td>\n",
       "      <td>dr5rsh</td>\n",
       "      <td>dr5rkc</td>\n",
       "      <td>1</td>\n",
       "      <td>0</td>\n",
       "      <td>dr5rkc</td>\n",
       "    </tr>\n",
       "    <tr>\n",
       "      <th>4</th>\n",
       "      <td>4</td>\n",
       "      <td>4</td>\n",
       "      <td>2</td>\n",
       "      <td>2016-01-01 00:00:00</td>\n",
       "      <td>2016-01-01 00:00:00</td>\n",
       "      <td>3</td>\n",
       "      <td>1.76</td>\n",
       "      <td>-73.960625</td>\n",
       "      <td>40.781330</td>\n",
       "      <td>1</td>\n",
       "      <td>...</td>\n",
       "      <td>0.5</td>\n",
       "      <td>0.0</td>\n",
       "      <td>0.0</td>\n",
       "      <td>0.3</td>\n",
       "      <td>8.8</td>\n",
       "      <td>dr72hb</td>\n",
       "      <td>dr5rue</td>\n",
       "      <td>1</td>\n",
       "      <td>0</td>\n",
       "      <td>dr5rue</td>\n",
       "    </tr>\n",
       "  </tbody>\n",
       "</table>\n",
       "<p>5 rows × 26 columns</p>\n",
       "</div>"
      ],
      "text/plain": [
       "   Unnamed: 0  Unnamed: 0.1  VendorID tpep_pickup_datetime  \\\n",
       "0           0             0         2  2016-01-01 00:00:00   \n",
       "1           1             1         2  2016-01-01 00:00:00   \n",
       "2           2             2         2  2016-01-01 00:00:00   \n",
       "3           3             3         2  2016-01-01 00:00:00   \n",
       "4           4             4         2  2016-01-01 00:00:00   \n",
       "\n",
       "  tpep_dropoff_datetime  passenger_count  trip_distance  pickup_longitude  \\\n",
       "0   2016-01-01 00:00:00                2           1.10        -73.990372   \n",
       "1   2016-01-01 00:00:00                5           4.90        -73.980782   \n",
       "2   2016-01-01 00:00:00                1          10.54        -73.984550   \n",
       "3   2016-01-01 00:00:00                1           4.75        -73.993469   \n",
       "4   2016-01-01 00:00:00                3           1.76        -73.960625   \n",
       "\n",
       "   pickup_latitude  RatecodeID       ...        mta_tax  tip_amount  \\\n",
       "0        40.734695           1       ...            0.5         0.0   \n",
       "1        40.729912           1       ...            0.5         0.0   \n",
       "2        40.679565           1       ...            0.5         0.0   \n",
       "3        40.718990           1       ...            0.5         0.0   \n",
       "4        40.781330           1       ...            0.5         0.0   \n",
       "\n",
       "   tolls_amount  improvement_surcharge  total_amount  geohash_pickup  \\\n",
       "0           0.0                    0.3           8.8          dr5rsr   \n",
       "1           0.0                    0.3          19.3          dr5rsw   \n",
       "2           0.0                    0.3          34.3          dr5rkm   \n",
       "3           0.0                    0.3          17.3          dr5rsh   \n",
       "4           0.0                    0.3           8.8          dr72hb   \n",
       "\n",
       "   geohas_dropoff  jan_day  jan_minute  geohash_dropoff  \n",
       "0          dr5rsx        1           0           dr5rsx  \n",
       "1          dr5rtk        1           0           dr5rtk  \n",
       "2          dr72j1        1           0           dr72j1  \n",
       "3          dr5rkc        1           0           dr5rkc  \n",
       "4          dr5rue        1           0           dr5rue  \n",
       "\n",
       "[5 rows x 26 columns]"
      ]
     },
     "execution_count": 18,
     "metadata": {},
     "output_type": "execute_result"
    }
   ],
   "source": [
    "taxi_yellowcab_df .head()"
   ]
  },
  {
   "cell_type": "markdown",
   "metadata": {
    "deletable": true,
    "editable": true
   },
   "source": [
    "# Finding neighbors from a dropoff geohash\n",
    "- use gh.neighbors\n",
    "- Convert these neighbors to an output index from the neural network"
   ]
  },
  {
   "cell_type": "code",
   "execution_count": 123,
   "metadata": {
    "collapsed": false,
    "deletable": true,
    "editable": true
   },
   "outputs": [
    {
     "data": {
      "text/plain": [
       "{'e': 'dr5rsz',\n",
       " 'n': 'dr5rs0',\n",
       " 'ne': 'dr5rs2',\n",
       " 'nw': 'dr5rse',\n",
       " 's': 'dr5rsw',\n",
       " 'se': 'dr5rsy',\n",
       " 'sw': 'dr5rsa',\n",
       " 'w': 'dr5rsb'}"
      ]
     },
     "execution_count": 123,
     "metadata": {},
     "output_type": "execute_result"
    }
   ],
   "source": [
    "gh.neighbors(taxi_yellowcab_df.geohash_dropoff[0])"
   ]
  },
  {
   "cell_type": "code",
   "execution_count": 152,
   "metadata": {
    "collapsed": true,
    "deletable": true,
    "editable": true
   },
   "outputs": [],
   "source": [
    "# Dictionary to convert these distances into the output from the Neural Network\n",
    "# Outputs are nine numbers which correspond to a direction to go in\n",
    "# 0) NW 1) N                     2) NE\n",
    "# 3) W  4) Stay in same geohash  5)E\n",
    "# 6)SW  7) S                    8) SE\n",
    "list_of_output_predictions_to_direction={0:'nw',1:'n',2:'ne',3:'w',4:'stay',5:'e',6:'sw',7:'s',8:'se'}"
   ]
  },
  {
   "cell_type": "code",
   "execution_count": null,
   "metadata": {
    "collapsed": true,
    "deletable": true,
    "editable": true
   },
   "outputs": [],
   "source": []
  },
  {
   "cell_type": "markdown",
   "metadata": {
    "deletable": true,
    "editable": true
   },
   "source": []
  },
  {
   "cell_type": "markdown",
   "metadata": {},
   "source": [
    "# How many different paths are there for a cab driver to take\n",
    "- 1) Assuming you can go to every geohash (not possible)\n",
    "- 2) In a day"
   ]
  },
  {
   "cell_type": "code",
   "execution_count": 125,
   "metadata": {
    "collapsed": false,
    "deletable": true,
    "editable": true
   },
   "outputs": [
    {
     "data": {
      "text/plain": [
       "2946"
      ]
     },
     "execution_count": 125,
     "metadata": {},
     "output_type": "execute_result"
    }
   ],
   "source": [
    "# How many total paths are there? Each hash has eight neighbors 9**(3086+1)-1 (nine because can go back to same node)?\n",
    "len(str(9**(3086+1)-1))"
   ]
  },
  {
   "cell_type": "code",
   "execution_count": 126,
   "metadata": {
    "collapsed": false
   },
   "outputs": [
    {
     "data": {
      "text/plain": [
       "557990287007260452078176850257448283854625046647939467912042323386512308859238999101746127248854540594776592716297338793204502200564943846768898655055408089418539677452148873489909743356020178321324751487999742226934402642965188057312649378357301799453819698802938654566681601931972461592972007566942808674588464075658269093148492798021113396457315373435472116682686026144332274431406868926010325839922152342349108607373015574922081242885999260981547308003616554950306743653367253609677104227967107442229796375277287487326244410729580686791872551398410760576334150402235907397843930637583255351077142794674301858422924503585739334981417306188399646226103952035974230061033567292584509269896091304343876388741559271193279312825131226983301428651911453232698522873685719878287058722893748670665190783486027316074000263491680103788432648382675432968035272872190180306674505039478162076957376379506701517793678192217242811722352005566338966415406311961952240157769913409372512895795432806762098220287884310855195713239707447421233580094111875097502599880891796265727745463756166781759903112300901248408388889172044783795539324794036779890126616623440968315717809406799555062767777981961484698683220514577490421771804779032455863109419791786027730841218194379639942996828764825079716719832934946296969911816997884455993502267757080185057255441427206031876236462293473557252582046105378408629212900139346533582641986674206190028195576594005045806133376818835974193573192975149982445254999723710747272248528495000714395617441711099614419031288108274039602609583595749882260617335983656506088158937350691659997472835066556704862316815146124378990758076829703080361048945308843175152746060033390783590398560209143518129431323295416440099487446119138746635917424483673512602493275238391669159308793119457494801306420004422107848618698794106222675924191488369700056936624748203986275707992351793071975144125191921079416048976441203475698833344679338577990380612574651249430417280757605905058764040180900907816186924226862372888458337882064970616529710626188571864262481715201975760075559770268104860802983655825615007613295570840308922558743811207818276585975379319719632372255055346233043004316850645843271691800232442384170499098300772396304600437128249927600924421515276722944886914674804647843429911189038084463948069360747051116747388601606873180602048094917338408607505431095598777851843655884260036147573472264773401168627567726653552461139589237208998117001720737395629568897007703278551689213589747563072774057911814348588671876693260799392818841131512185543922565011049092529647316994690449239020502377535233121626354744149224806778245323313492865976649146165989453712522839411776258068211576221645723780405658632310878345779848954525720128307668333556783899492634840774552247731585615420451241147306001240583083113872966992558270986020271255850178189733487736629932489011210466556513286804021982864477346994246852188577817088032168957051728451768"
      ]
     },
     "execution_count": 126,
     "metadata": {},
     "output_type": "execute_result"
    }
   ],
   "source": [
    "9**(3086+1)-1"
   ]
  },
  {
   "cell_type": "code",
   "execution_count": 127,
   "metadata": {
    "collapsed": false
   },
   "outputs": [
    {
     "data": {
      "text/plain": [
       "597152463056842341908762024185418685054207056332314478347827352460764734375345345870603172419123868750295983288569263632574908815378078302580224585346653298324734195047557342194681056539164109295762036073231747763356454020325313392530348032063147781100083853910415445388545288"
      ]
     },
     "execution_count": 127,
     "metadata": {},
     "output_type": "execute_result"
    }
   ],
   "source": [
    "# how man geohashes can you visit in a day?\n",
    "9**(288+1)-1"
   ]
  },
  {
   "cell_type": "code",
   "execution_count": 128,
   "metadata": {
    "collapsed": false
   },
   "outputs": [
    {
     "data": {
      "text/plain": [
       "276"
      ]
     },
     "execution_count": 128,
     "metadata": {},
     "output_type": "execute_result"
    }
   ],
   "source": [
    "len(str(9**(288+1)-1))"
   ]
  },
  {
   "cell_type": "markdown",
   "metadata": {},
   "source": [
    "# Heat Map of the most profitable geohashes"
   ]
  },
  {
   "cell_type": "code",
   "execution_count": 129,
   "metadata": {
    "collapsed": false,
    "deletable": true,
    "editable": true
   },
   "outputs": [],
   "source": [
    "pickup_sum_fare = taxi_yellowcab_df.groupby('geohash_pickup').sum()['total_amount'].reset_index()\n"
   ]
  },
  {
   "cell_type": "code",
   "execution_count": 130,
   "metadata": {
    "collapsed": false,
    "deletable": true,
    "editable": true
   },
   "outputs": [],
   "source": [
    "pickup_sum_fare = pickup_sum_fare.sort_values(by='total_amount',ascending=False)"
   ]
  },
  {
   "cell_type": "code",
   "execution_count": 131,
   "metadata": {
    "collapsed": false,
    "deletable": true,
    "editable": true
   },
   "outputs": [],
   "source": [
    "pickup_sum_fare['total_amount']= pickup_sum_fare.total_amount.apply(lambda x: round(x))"
   ]
  },
  {
   "cell_type": "code",
   "execution_count": 107,
   "metadata": {
    "collapsed": true,
    "deletable": true,
    "editable": true
   },
   "outputs": [],
   "source": [
    "# can only plot 2k values on google maps"
   ]
  },
  {
   "cell_type": "code",
   "execution_count": 108,
   "metadata": {
    "collapsed": false,
    "deletable": true,
    "editable": true
   },
   "outputs": [],
   "source": [
    "#pickup_sum_fare.loc[:2000,:].to_csv(\"data/geohash_sum_fare_all_jan.csv\",sep=\"\\t\", index=False)"
   ]
  },
  {
   "cell_type": "code",
   "execution_count": 109,
   "metadata": {
    "collapsed": false,
    "deletable": true,
    "editable": true
   },
   "outputs": [
    {
     "data": {
      "text/plain": [
       "<matplotlib.text.Text at 0x120643240>"
      ]
     },
     "execution_count": 109,
     "metadata": {},
     "output_type": "execute_result"
    },
    {
     "data": {
      "image/png": "[encoded data removed]",
      "text/plain": [
       "<matplotlib.figure.Figure at 0x12054c400>"
      ]
     },
     "metadata": {},
     "output_type": "display_data"
    }
   ],
   "source": [
    "#plt.figure(figsize=(10,5))\n",
    "ax = pickup_sum_fare[:50].plot(x='geohash_pickup',y='total_amount',kind='bar',figsize=(13,5))\n",
    "ax.get_yaxis().set_major_formatter(\n",
    "    matplotlib.ticker.FuncFormatter(lambda x, p: format(int(x), ',')))\n",
    "plt.ylabel('Total fares received - Jan - Top 50 Geohashes')"
   ]
  },
  {
   "cell_type": "markdown",
   "metadata": {
    "collapsed": true,
    "deletable": true,
    "editable": true
   },
   "source": [
    "## Break up the day into five minute intervals( the time to traverse a geohash of ~610 meters).\n",
    "- Aggregate all of the days together so that you have one 24 hour block\n",
    "- For this 24 hour block, group by five minute periods\n",
    "- For each period, take the geohash as the key and a list of tuples of ( average fares over the month, trip times in minutes)\n",
    "- This gives an end result of the average fare and corresponding trip time and ration of fare/trip time for each geohash for a given ten minutes over each day in January"
   ]
  },
  {
   "cell_type": "code",
   "execution_count": 88,
   "metadata": {
    "collapsed": false,
    "deletable": true,
    "editable": true
   },
   "outputs": [],
   "source": [
    "# Convert trip distance into minutes using the average speed of 10 MPH ( 8.6 in Manhattan + faster in the burbs)\n",
    "def convert_miles_to_minutes_nyc(input_distance):\n",
    "    \"\"\"Convert MPH to minutes using aveage speed of 10 mph. Round to this nearest 10 minutes\"\"\"\n",
    "    mph=10\n",
    "    def myround(x, base=10):\n",
    "        nearest_five = int(base * round(float(x)/base))\n",
    "        if nearest_five ==0:\n",
    "            return 10 ## shortest trip is ten minutes\n",
    "        else:\n",
    "            return nearest_five\n",
    "    minutes = input_distance /mph *60\n",
    "    return myround(minutes)\n",
    "    \n",
    "taxi_yellowcab_df['trip_time_minutes'] = taxi_yellowcab_df.trip_distance.apply(lambda x: convert_miles_to_minutes_nyc(x))"
   ]
  },
  {
   "cell_type": "code",
   "execution_count": 89,
   "metadata": {
    "collapsed": false,
    "deletable": true,
    "editable": true
   },
   "outputs": [],
   "source": [
    "# distribution of trip times\n",
    "trip_minutes_grouped = taxi_yellowcab_df.groupby('trip_time_minutes').count()"
   ]
  },
  {
   "cell_type": "code",
   "execution_count": 90,
   "metadata": {
    "collapsed": false
   },
   "outputs": [
    {
     "data": {
      "text/plain": [
       "<matplotlib.text.Text at 0x12204bcf8>"
      ]
     },
     "execution_count": 90,
     "metadata": {},
     "output_type": "execute_result"
    },
    {
     "data": {
      "image/png": "[encoded data removed]",
      "text/plain": [
       "<matplotlib.figure.Figure at 0x1bfd23d68>"
      ]
     },
     "metadata": {},
     "output_type": "display_data"
    }
   ],
   "source": [
    "plt.figure(figsize=(20,10))\n",
    "sns.barplot(x = trip_minutes_grouped['VendorID'].reset_index()['trip_time_minutes'][:50],\n",
    "            y= trip_minutes_grouped['VendorID'].reset_index()['VendorID'][:50])\n",
    "plt.ylabel('Number of trips')\n",
    "plt.title('Disitribution of Trip Times')"
   ]
  },
  {
   "cell_type": "code",
   "execution_count": 91,
   "metadata": {
    "collapsed": false
   },
   "outputs": [
    {
     "data": {
      "text/plain": [
       "0    10\n",
       "1    30\n",
       "2    60\n",
       "3    30\n",
       "4    10\n",
       "Name: trip_time_minutes, dtype: int64"
      ]
     },
     "execution_count": 91,
     "metadata": {},
     "output_type": "execute_result"
    }
   ],
   "source": [
    "taxi_yellowcab_df['trip_time_minutes'].head()"
   ]
  },
  {
   "cell_type": "code",
   "execution_count": null,
   "metadata": {
    "collapsed": true
   },
   "outputs": [],
   "source": []
  },
  {
   "cell_type": "code",
   "execution_count": 92,
   "metadata": {
    "collapsed": true,
    "deletable": true,
    "editable": true
   },
   "outputs": [],
   "source": [
    "# Only pull the columns we need \n",
    "average_fare_during_day = taxi_yellowcab_df.loc[:,('tpep_pickup_datetime','trip_time_minutes',\n",
    "                            'tpep_dropoff_datetime','total_amount','geohash_dropoff','geohash_pickup','jan_day')]"
   ]
  },
  {
   "cell_type": "code",
   "execution_count": 93,
   "metadata": {
    "collapsed": false,
    "deletable": true,
    "editable": true
   },
   "outputs": [],
   "source": [
    "average_fare_during_day.tpep_pickup_datetime = pd.to_datetime(average_fare_during_day.tpep_pickup_datetime)\n"
   ]
  },
  {
   "cell_type": "code",
   "execution_count": 94,
   "metadata": {
    "collapsed": false,
    "deletable": true,
    "editable": true
   },
   "outputs": [],
   "source": [
    "average_fare_during_day.index = average_fare_during_day.tpep_pickup_datetime\n"
   ]
  },
  {
   "cell_type": "code",
   "execution_count": 95,
   "metadata": {
    "collapsed": false
   },
   "outputs": [
    {
     "data": {
      "text/html": [
       "<div>\n",
       "<table border=\"1\" class=\"dataframe\">\n",
       "  <thead>\n",
       "    <tr style=\"text-align: right;\">\n",
       "      <th></th>\n",
       "      <th>tpep_pickup_datetime</th>\n",
       "      <th>trip_time_minutes</th>\n",
       "      <th>tpep_dropoff_datetime</th>\n",
       "      <th>total_amount</th>\n",
       "      <th>geohash_dropoff</th>\n",
       "      <th>geohash_pickup</th>\n",
       "      <th>jan_day</th>\n",
       "    </tr>\n",
       "    <tr>\n",
       "      <th>tpep_pickup_datetime</th>\n",
       "      <th></th>\n",
       "      <th></th>\n",
       "      <th></th>\n",
       "      <th></th>\n",
       "      <th></th>\n",
       "      <th></th>\n",
       "      <th></th>\n",
       "    </tr>\n",
       "  </thead>\n",
       "  <tbody>\n",
       "    <tr>\n",
       "      <th>2016-01-01</th>\n",
       "      <td>2016-01-01</td>\n",
       "      <td>10</td>\n",
       "      <td>2016-01-01 00:00:00</td>\n",
       "      <td>8.8</td>\n",
       "      <td>dr5rsx</td>\n",
       "      <td>dr5rsr</td>\n",
       "      <td>1</td>\n",
       "    </tr>\n",
       "    <tr>\n",
       "      <th>2016-01-01</th>\n",
       "      <td>2016-01-01</td>\n",
       "      <td>30</td>\n",
       "      <td>2016-01-01 00:00:00</td>\n",
       "      <td>19.3</td>\n",
       "      <td>dr5rtk</td>\n",
       "      <td>dr5rsw</td>\n",
       "      <td>1</td>\n",
       "    </tr>\n",
       "    <tr>\n",
       "      <th>2016-01-01</th>\n",
       "      <td>2016-01-01</td>\n",
       "      <td>60</td>\n",
       "      <td>2016-01-01 00:00:00</td>\n",
       "      <td>34.3</td>\n",
       "      <td>dr72j1</td>\n",
       "      <td>dr5rkm</td>\n",
       "      <td>1</td>\n",
       "    </tr>\n",
       "    <tr>\n",
       "      <th>2016-01-01</th>\n",
       "      <td>2016-01-01</td>\n",
       "      <td>30</td>\n",
       "      <td>2016-01-01 00:00:00</td>\n",
       "      <td>17.3</td>\n",
       "      <td>dr5rkc</td>\n",
       "      <td>dr5rsh</td>\n",
       "      <td>1</td>\n",
       "    </tr>\n",
       "    <tr>\n",
       "      <th>2016-01-01</th>\n",
       "      <td>2016-01-01</td>\n",
       "      <td>10</td>\n",
       "      <td>2016-01-01 00:00:00</td>\n",
       "      <td>8.8</td>\n",
       "      <td>dr5rue</td>\n",
       "      <td>dr72hb</td>\n",
       "      <td>1</td>\n",
       "    </tr>\n",
       "  </tbody>\n",
       "</table>\n",
       "</div>"
      ],
      "text/plain": [
       "                     tpep_pickup_datetime  trip_time_minutes  \\\n",
       "tpep_pickup_datetime                                           \n",
       "2016-01-01                     2016-01-01                 10   \n",
       "2016-01-01                     2016-01-01                 30   \n",
       "2016-01-01                     2016-01-01                 60   \n",
       "2016-01-01                     2016-01-01                 30   \n",
       "2016-01-01                     2016-01-01                 10   \n",
       "\n",
       "                     tpep_dropoff_datetime  total_amount geohash_dropoff  \\\n",
       "tpep_pickup_datetime                                                       \n",
       "2016-01-01             2016-01-01 00:00:00           8.8          dr5rsx   \n",
       "2016-01-01             2016-01-01 00:00:00          19.3          dr5rtk   \n",
       "2016-01-01             2016-01-01 00:00:00          34.3          dr72j1   \n",
       "2016-01-01             2016-01-01 00:00:00          17.3          dr5rkc   \n",
       "2016-01-01             2016-01-01 00:00:00           8.8          dr5rue   \n",
       "\n",
       "                     geohash_pickup  jan_day  \n",
       "tpep_pickup_datetime                          \n",
       "2016-01-01                   dr5rsr        1  \n",
       "2016-01-01                   dr5rsw        1  \n",
       "2016-01-01                   dr5rkm        1  \n",
       "2016-01-01                   dr5rsh        1  \n",
       "2016-01-01                   dr72hb        1  "
      ]
     },
     "execution_count": 95,
     "metadata": {},
     "output_type": "execute_result"
    }
   ],
   "source": [
    "average_fare_during_day.head()"
   ]
  },
  {
   "cell_type": "code",
   "execution_count": 96,
   "metadata": {
    "collapsed": false,
    "deletable": true,
    "editable": true
   },
   "outputs": [],
   "source": [
    "grouped_pickup_fares = average_fare_during_day.groupby(pd.TimeGrouper(freq='10Min')).apply(\n",
    "    lambda x: x.groupby('geohash_pickup').mean())"
   ]
  },
  {
   "cell_type": "code",
   "execution_count": 97,
   "metadata": {
    "collapsed": false,
    "deletable": true,
    "editable": true
   },
   "outputs": [],
   "source": [
    "grouped_pickup_fares  = grouped_pickup_fares.reset_index()"
   ]
  },
  {
   "cell_type": "code",
   "execution_count": 98,
   "metadata": {
    "collapsed": false,
    "deletable": true,
    "editable": true
   },
   "outputs": [],
   "source": [
    "# groupby again only on minutes this time\n",
    "grouped_pickup_fares['time'] = grouped_pickup_fares.tpep_pickup_datetime.apply(lambda x : x.time())"
   ]
  },
  {
   "cell_type": "code",
   "execution_count": 99,
   "metadata": {
    "collapsed": false,
    "deletable": true,
    "editable": true
   },
   "outputs": [
    {
     "data": {
      "text/html": [
       "<div>\n",
       "<table border=\"1\" class=\"dataframe\">\n",
       "  <thead>\n",
       "    <tr style=\"text-align: right;\">\n",
       "      <th></th>\n",
       "      <th>tpep_pickup_datetime</th>\n",
       "      <th>geohash_pickup</th>\n",
       "      <th>trip_time_minutes</th>\n",
       "      <th>total_amount</th>\n",
       "      <th>jan_day</th>\n",
       "      <th>time</th>\n",
       "    </tr>\n",
       "  </thead>\n",
       "  <tbody>\n",
       "    <tr>\n",
       "      <th>0</th>\n",
       "      <td>2016-01-01</td>\n",
       "      <td>7zzzzz</td>\n",
       "      <td>13.600000</td>\n",
       "      <td>14.466400</td>\n",
       "      <td>1.0</td>\n",
       "      <td>00:00:00</td>\n",
       "    </tr>\n",
       "    <tr>\n",
       "      <th>1</th>\n",
       "      <td>2016-01-01</td>\n",
       "      <td>dr5r56</td>\n",
       "      <td>20.000000</td>\n",
       "      <td>12.300000</td>\n",
       "      <td>1.0</td>\n",
       "      <td>00:00:00</td>\n",
       "    </tr>\n",
       "    <tr>\n",
       "      <th>2</th>\n",
       "      <td>2016-01-01</td>\n",
       "      <td>dr5r5t</td>\n",
       "      <td>10.000000</td>\n",
       "      <td>8.050000</td>\n",
       "      <td>1.0</td>\n",
       "      <td>00:00:00</td>\n",
       "    </tr>\n",
       "    <tr>\n",
       "      <th>3</th>\n",
       "      <td>2016-01-01</td>\n",
       "      <td>dr5r5x</td>\n",
       "      <td>50.000000</td>\n",
       "      <td>30.950000</td>\n",
       "      <td>1.0</td>\n",
       "      <td>00:00:00</td>\n",
       "    </tr>\n",
       "    <tr>\n",
       "      <th>4</th>\n",
       "      <td>2016-01-01</td>\n",
       "      <td>dr5rec</td>\n",
       "      <td>26.666667</td>\n",
       "      <td>16.873333</td>\n",
       "      <td>1.0</td>\n",
       "      <td>00:00:00</td>\n",
       "    </tr>\n",
       "  </tbody>\n",
       "</table>\n",
       "</div>"
      ],
      "text/plain": [
       "  tpep_pickup_datetime geohash_pickup  trip_time_minutes  total_amount  \\\n",
       "0           2016-01-01         7zzzzz          13.600000     14.466400   \n",
       "1           2016-01-01         dr5r56          20.000000     12.300000   \n",
       "2           2016-01-01         dr5r5t          10.000000      8.050000   \n",
       "3           2016-01-01         dr5r5x          50.000000     30.950000   \n",
       "4           2016-01-01         dr5rec          26.666667     16.873333   \n",
       "\n",
       "   jan_day      time  \n",
       "0      1.0  00:00:00  \n",
       "1      1.0  00:00:00  \n",
       "2      1.0  00:00:00  \n",
       "3      1.0  00:00:00  \n",
       "4      1.0  00:00:00  "
      ]
     },
     "execution_count": 99,
     "metadata": {},
     "output_type": "execute_result"
    }
   ],
   "source": [
    "grouped_pickup_fares .head()"
   ]
  },
  {
   "cell_type": "code",
   "execution_count": 100,
   "metadata": {
    "collapsed": false
   },
   "outputs": [],
   "source": [
    "# change the trip time to be a factor of ten again\n",
    "def myround(x, base=10):\n",
    "        nearest_five = int(base * round(float(x)/base))\n",
    "        if nearest_five ==0:\n",
    "            return 10 ## shortest trip is ten minutes\n",
    "        else:\n",
    "            return nearest_five\n",
    "grouped_pickup_fares.trip_time_minutes = grouped_pickup_fares.trip_time_minutes.apply(lambda x: myround(x))"
   ]
  },
  {
   "cell_type": "code",
   "execution_count": 101,
   "metadata": {
    "collapsed": false,
    "deletable": true,
    "editable": true
   },
   "outputs": [],
   "source": [
    "average_fares_throughout_day_geohash = grouped_pickup_fares.groupby(\n",
    "    ['time','geohash_pickup','jan_day','trip_time_minutes']).mean().reset_index()"
   ]
  },
  {
   "cell_type": "code",
   "execution_count": 102,
   "metadata": {
    "collapsed": false,
    "deletable": true,
    "editable": true
   },
   "outputs": [],
   "source": [
    "average_fares_throughout_day_geohash['average_fare'] = average_fares_throughout_day_geohash['total_amount']\n",
    "average_fares_throughout_day_geohash.drop('total_amount',inplace=True,axis=1)"
   ]
  },
  {
   "cell_type": "code",
   "execution_count": 103,
   "metadata": {
    "collapsed": false
   },
   "outputs": [],
   "source": [
    "## convert the string of time into an integer\n",
    "def time_to_int(time):\n",
    "    hour = str(time.hour)\n",
    "    minutes = str(time.minute)\n",
    "    if len(hour)==1:\n",
    "        hour ='0'+hour\n",
    "    if len(minutes)==1:\n",
    "        minutes = '0'+minutes\n",
    "    return int(hour+minutes)\n",
    "average_fares_throughout_day_geohash.time = average_fares_throughout_day_geohash.time.apply(lambda x: time_to_int(x))"
   ]
  },
  {
   "cell_type": "code",
   "execution_count": 105,
   "metadata": {
    "collapsed": false
   },
   "outputs": [
    {
     "data": {
      "text/html": [
       "<div>\n",
       "<table border=\"1\" class=\"dataframe\">\n",
       "  <thead>\n",
       "    <tr style=\"text-align: right;\">\n",
       "      <th></th>\n",
       "      <th>time</th>\n",
       "      <th>geohash_pickup</th>\n",
       "      <th>jan_day</th>\n",
       "      <th>trip_time_minutes</th>\n",
       "      <th>average_fare</th>\n",
       "    </tr>\n",
       "  </thead>\n",
       "  <tbody>\n",
       "    <tr>\n",
       "      <th>0</th>\n",
       "      <td>0</td>\n",
       "      <td>7zzzzz</td>\n",
       "      <td>1.0</td>\n",
       "      <td>10</td>\n",
       "      <td>14.466400</td>\n",
       "    </tr>\n",
       "    <tr>\n",
       "      <th>1</th>\n",
       "      <td>0</td>\n",
       "      <td>7zzzzz</td>\n",
       "      <td>2.0</td>\n",
       "      <td>20</td>\n",
       "      <td>16.222174</td>\n",
       "    </tr>\n",
       "    <tr>\n",
       "      <th>2</th>\n",
       "      <td>0</td>\n",
       "      <td>7zzzzz</td>\n",
       "      <td>3.0</td>\n",
       "      <td>20</td>\n",
       "      <td>15.456212</td>\n",
       "    </tr>\n",
       "    <tr>\n",
       "      <th>3</th>\n",
       "      <td>0</td>\n",
       "      <td>7zzzzz</td>\n",
       "      <td>4.0</td>\n",
       "      <td>20</td>\n",
       "      <td>20.873846</td>\n",
       "    </tr>\n",
       "    <tr>\n",
       "      <th>4</th>\n",
       "      <td>0</td>\n",
       "      <td>7zzzzz</td>\n",
       "      <td>5.0</td>\n",
       "      <td>30</td>\n",
       "      <td>18.542500</td>\n",
       "    </tr>\n",
       "  </tbody>\n",
       "</table>\n",
       "</div>"
      ],
      "text/plain": [
       "   time geohash_pickup  jan_day  trip_time_minutes  average_fare\n",
       "0     0         7zzzzz      1.0                 10     14.466400\n",
       "1     0         7zzzzz      2.0                 20     16.222174\n",
       "2     0         7zzzzz      3.0                 20     15.456212\n",
       "3     0         7zzzzz      4.0                 20     20.873846\n",
       "4     0         7zzzzz      5.0                 30     18.542500"
      ]
     },
     "execution_count": 105,
     "metadata": {},
     "output_type": "execute_result"
    }
   ],
   "source": [
    "average_fares_throughout_day_geohash.head() # midnight is now 0"
   ]
  },
  {
   "cell_type": "code",
   "execution_count": 106,
   "metadata": {
    "collapsed": false,
    "deletable": true,
    "editable": true
   },
   "outputs": [],
   "source": [
    "# Turn this into a dictionary where the key is the time : key is the geohas : value is a list of a tuple of fares,\n",
    "# time, fare divided by time\n",
    "# on average for that day for that geohash \n",
    "\n",
    "time_geohash_fare_dict = defaultdict(lambda : defaultdict(list))"
   ]
  },
  {
   "cell_type": "code",
   "execution_count": 107,
   "metadata": {
    "collapsed": false,
    "deletable": true,
    "editable": true
   },
   "outputs": [],
   "source": [
    "for row in average_fares_throughout_day_geohash.iterrows():\n",
    "    # Create a dict of dict of a list of tuples - tuple is (fare, trip-minutes, fare/trip-minutes)\n",
    "\n",
    "    time_geohash_fare_dict[row[1]['time']][row[1]['geohash_pickup']].append(\n",
    "    (row[1]['average_fare'],row[1]['trip_time_minutes'],row[1]['average_fare']/(row[1]['trip_time_minutes']+.000000001)))\n"
   ]
  },
  {
   "cell_type": "code",
   "execution_count": 111,
   "metadata": {
    "collapsed": false,
    "deletable": true,
    "editable": true
   },
   "outputs": [
    {
     "data": {
      "text/plain": [
       "[(17.580441176470575, 20, 0.8790220587795776),\n",
       " (10.5425, 20, 0.5271249999736438),\n",
       " (14.17679245283018, 20, 0.708839622606067),\n",
       " (41.59181818181819, 20, 2.0795909089869298),\n",
       " (22.031818181818185, 20, 1.1015909090358298),\n",
       " (19.592777777777783, 20, 0.9796388888399072),\n",
       " (31.29833333333334, 20, 1.564916666588421),\n",
       " (22.080384615384617, 30, 0.7360128204882868),\n",
       " (19.280851063829783, 20, 0.964042553143287),\n",
       " (14.063272727272723, 20, 0.703163636328478),\n",
       " (20.34714285714286, 20, 1.017357142806275),\n",
       " (16.5105, 20, 0.8255249999587237),\n",
       " (20.550000000000004, 20, 1.0274999999486252),\n",
       " (12.45818181818182, 20, 0.6229090908779455),\n",
       " (21.872173913043483, 30, 0.7290724637438136),\n",
       " (21.339574468085097, 20, 1.0669787233509058),\n",
       " (14.037317073170733, 20, 0.7018658536234433),\n",
       " (15.70227272727273, 10, 1.5702272725702502),\n",
       " (19.242000000000004, 20, 0.9620999999518952),\n",
       " (14.77166666666667, 20, 0.7385833332964044),\n",
       " (16.407894736842106, 20, 0.8203947368010855),\n",
       " (18.439210526315787, 20, 0.9219605262696913),\n",
       " (14.645750000000001, 20, 0.7322874999633857),\n",
       " (11.616666666666667, 10, 1.1616666665505),\n",
       " (23.535, 30, 0.78449999997385),\n",
       " (19.288823529411765, 20, 0.9644411764223662),\n",
       " (17.937058823529412, 20, 0.896852941131628),\n",
       " (23.743684210526315, 20, 1.1871842104669565),\n",
       " (16.605254237288126, 20, 0.8302627118228931),\n",
       " (16.53415094339621, 20, 0.826707547128475)]"
      ]
     },
     "execution_count": 111,
     "metadata": {},
     "output_type": "execute_result"
    }
   ],
   "source": [
    "# test the dictionary # fare followed by time in minutes)\n",
    "time_geohash_fare_dict[110]['7zzzzz']"
   ]
  },
  {
   "cell_type": "code",
   "execution_count": 110,
   "metadata": {
    "collapsed": false,
    "deletable": true,
    "editable": true
   },
   "outputs": [
    {
     "data": {
      "text/plain": [
       "[(105.3, 130, 0.8099999999937693)]"
      ]
     },
     "execution_count": 110,
     "metadata": {},
     "output_type": "execute_result"
    }
   ],
   "source": [
    "# test the dictionary and ensure that the fare and the time changes, fare followed by time in minutes\n",
    "time_geohash_fare_dict[1940]['dr5xs1']"
   ]
  },
  {
   "cell_type": "code",
   "execution_count": 508,
   "metadata": {
    "collapsed": false
   },
   "outputs": [
    {
     "data": {
      "text/html": [
       "<div>\n",
       "<table border=\"1\" class=\"dataframe\">\n",
       "  <thead>\n",
       "    <tr style=\"text-align: right;\">\n",
       "      <th></th>\n",
       "      <th>VendorID</th>\n",
       "      <th>tpep_pickup_datetime</th>\n",
       "      <th>tpep_dropoff_datetime</th>\n",
       "      <th>passenger_count</th>\n",
       "      <th>trip_distance</th>\n",
       "      <th>pickup_longitude</th>\n",
       "      <th>pickup_latitude</th>\n",
       "      <th>RatecodeID</th>\n",
       "      <th>store_and_fwd_flag</th>\n",
       "      <th>dropoff_longitude</th>\n",
       "      <th>...</th>\n",
       "      <th>tip_amount</th>\n",
       "      <th>tolls_amount</th>\n",
       "      <th>improvement_surcharge</th>\n",
       "      <th>total_amount</th>\n",
       "      <th>geohash_pickup</th>\n",
       "      <th>geohas_dropoff</th>\n",
       "      <th>jan_day</th>\n",
       "      <th>jan_minute</th>\n",
       "      <th>geohash_dropoff</th>\n",
       "      <th>trip_time_minutes</th>\n",
       "    </tr>\n",
       "  </thead>\n",
       "  <tbody>\n",
       "    <tr>\n",
       "      <th>1071945</th>\n",
       "      <td>1</td>\n",
       "      <td>2016-01-04 19:46:46</td>\n",
       "      <td>2016-01-04 19:47:27</td>\n",
       "      <td>1</td>\n",
       "      <td>22.3</td>\n",
       "      <td>-73.642105</td>\n",
       "      <td>40.702583</td>\n",
       "      <td>5</td>\n",
       "      <td>N</td>\n",
       "      <td>-73.642105</td>\n",
       "      <td>...</td>\n",
       "      <td>5.0</td>\n",
       "      <td>0.0</td>\n",
       "      <td>0.3</td>\n",
       "      <td>105.3</td>\n",
       "      <td>dr5xs1</td>\n",
       "      <td>dr5xs1</td>\n",
       "      <td>4</td>\n",
       "      <td>47</td>\n",
       "      <td>dr5xs1</td>\n",
       "      <td>135</td>\n",
       "    </tr>\n",
       "    <tr>\n",
       "      <th>2344969</th>\n",
       "      <td>1</td>\n",
       "      <td>2016-01-15 23:38:05</td>\n",
       "      <td>2016-01-15 23:38:33</td>\n",
       "      <td>1</td>\n",
       "      <td>0.0</td>\n",
       "      <td>-73.650696</td>\n",
       "      <td>40.702461</td>\n",
       "      <td>5</td>\n",
       "      <td>N</td>\n",
       "      <td>-73.650696</td>\n",
       "      <td>...</td>\n",
       "      <td>10.0</td>\n",
       "      <td>0.0</td>\n",
       "      <td>0.3</td>\n",
       "      <td>79.8</td>\n",
       "      <td>dr5xs1</td>\n",
       "      <td>dr5xs1</td>\n",
       "      <td>15</td>\n",
       "      <td>38</td>\n",
       "      <td>dr5xs1</td>\n",
       "      <td>5</td>\n",
       "    </tr>\n",
       "    <tr>\n",
       "      <th>9399489</th>\n",
       "      <td>1</td>\n",
       "      <td>2016-01-24 21:01:19</td>\n",
       "      <td>2016-01-24 21:02:25</td>\n",
       "      <td>1</td>\n",
       "      <td>0.0</td>\n",
       "      <td>-73.642448</td>\n",
       "      <td>40.702583</td>\n",
       "      <td>5</td>\n",
       "      <td>N</td>\n",
       "      <td>-73.642395</td>\n",
       "      <td>...</td>\n",
       "      <td>10.0</td>\n",
       "      <td>0.0</td>\n",
       "      <td>0.3</td>\n",
       "      <td>45.3</td>\n",
       "      <td>dr5xs1</td>\n",
       "      <td>dr5xs1</td>\n",
       "      <td>24</td>\n",
       "      <td>2</td>\n",
       "      <td>dr5xs1</td>\n",
       "      <td>5</td>\n",
       "    </tr>\n",
       "  </tbody>\n",
       "</table>\n",
       "<p>3 rows × 25 columns</p>\n",
       "</div>"
      ],
      "text/plain": [
       "         VendorID tpep_pickup_datetime tpep_dropoff_datetime  passenger_count  \\\n",
       "1071945         1  2016-01-04 19:46:46   2016-01-04 19:47:27                1   \n",
       "2344969         1  2016-01-15 23:38:05   2016-01-15 23:38:33                1   \n",
       "9399489         1  2016-01-24 21:01:19   2016-01-24 21:02:25                1   \n",
       "\n",
       "         trip_distance  pickup_longitude  pickup_latitude  RatecodeID  \\\n",
       "1071945           22.3        -73.642105        40.702583           5   \n",
       "2344969            0.0        -73.650696        40.702461           5   \n",
       "9399489            0.0        -73.642448        40.702583           5   \n",
       "\n",
       "        store_and_fwd_flag  dropoff_longitude        ...         tip_amount  \\\n",
       "1071945                  N         -73.642105        ...                5.0   \n",
       "2344969                  N         -73.650696        ...               10.0   \n",
       "9399489                  N         -73.642395        ...               10.0   \n",
       "\n",
       "         tolls_amount  improvement_surcharge  total_amount  geohash_pickup  \\\n",
       "1071945           0.0                    0.3         105.3          dr5xs1   \n",
       "2344969           0.0                    0.3          79.8          dr5xs1   \n",
       "9399489           0.0                    0.3          45.3          dr5xs1   \n",
       "\n",
       "         geohas_dropoff  jan_day  jan_minute  geohash_dropoff  \\\n",
       "1071945          dr5xs1        4          47           dr5xs1   \n",
       "2344969          dr5xs1       15          38           dr5xs1   \n",
       "9399489          dr5xs1       24           2           dr5xs1   \n",
       "\n",
       "        trip_time_minutes  \n",
       "1071945               135  \n",
       "2344969                 5  \n",
       "9399489                 5  \n",
       "\n",
       "[3 rows x 25 columns]"
      ]
     },
     "execution_count": 508,
     "metadata": {},
     "output_type": "execute_result"
    }
   ],
   "source": [
    "taxi_yellowcab_df[taxi_yellowcab_df['geohash_pickup']=='dr5xs1']"
   ]
  },
  {
   "cell_type": "markdown",
   "metadata": {},
   "source": [
    "## Index the geohashes to a number\n",
    "## List of possible times"
   ]
  },
  {
   "cell_type": "code",
   "execution_count": 134,
   "metadata": {
    "collapsed": false
   },
   "outputs": [
    {
     "data": {
      "text/plain": [
       "3086"
      ]
     },
     "execution_count": 134,
     "metadata": {},
     "output_type": "execute_result"
    }
   ],
   "source": [
    "## get a list of unique geohashes\n",
    "list_of_unique_geohashes = taxi_yellowcab_df.geohash_pickup.unique()\n",
    "len(list_of_unique_geohashes)"
   ]
  },
  {
   "cell_type": "code",
   "execution_count": 135,
   "metadata": {
    "collapsed": false
   },
   "outputs": [],
   "source": [
    "list_of_geohash_index  = defaultdict(int)\n",
    "for idx,hash_n in enumerate(list_of_unique_geohashes):\n",
    "    list_of_geohash_index [hash_n] = idx"
   ]
  },
  {
   "cell_type": "code",
   "execution_count": 140,
   "metadata": {
    "collapsed": false
   },
   "outputs": [],
   "source": [
    "list_of_inverse_heohash_index = defaultdict(str)\n",
    "for idx,hash_n in enumerate(list_of_unique_geohashes):\n",
    "    list_of_inverse_heohash_index[idx] = hash_n"
   ]
  },
  {
   "cell_type": "code",
   "execution_count": 141,
   "metadata": {
    "collapsed": true
   },
   "outputs": [],
   "source": [
    "list_of_time_index = average_fares_throughout_day_geohash.time.unique()"
   ]
  },
  {
   "cell_type": "code",
   "execution_count": 142,
   "metadata": {
    "collapsed": false
   },
   "outputs": [
    {
     "data": {
      "text/plain": [
       "array([   0,   10,   20,   30,   40,   50,  100,  110,  120,  130,  140,\n",
       "        150,  200,  210,  220,  230,  240,  250,  300,  310,  320,  330,\n",
       "        340,  350,  400,  410,  420,  430,  440,  450,  500,  510,  520,\n",
       "        530,  540,  550,  600,  610,  620,  630,  640,  650,  700,  710,\n",
       "        720,  730,  740,  750,  800,  810,  820,  830,  840,  850,  900,\n",
       "        910,  920,  930,  940,  950, 1000, 1010, 1020, 1030, 1040, 1050,\n",
       "       1100, 1110, 1120, 1130, 1140, 1150, 1200, 1210, 1220, 1230, 1240,\n",
       "       1250, 1300, 1310, 1320, 1330, 1340, 1350, 1400, 1410, 1420, 1430,\n",
       "       1440, 1450, 1500, 1510, 1520, 1530, 1540, 1550, 1600, 1610, 1620,\n",
       "       1630, 1640, 1650, 1700, 1710, 1720, 1730, 1740, 1750, 1800, 1810,\n",
       "       1820, 1830, 1840, 1850, 1900, 1910, 1920, 1930, 1940, 1950, 2000,\n",
       "       2010, 2020, 2030, 2040, 2050, 2100, 2110, 2120, 2130, 2140, 2150,\n",
       "       2200, 2210, 2220, 2230, 2240, 2250, 2300, 2310, 2320, 2330, 2340,\n",
       "       2350])"
      ]
     },
     "execution_count": 142,
     "metadata": {},
     "output_type": "execute_result"
    }
   ],
   "source": [
    "list_of_time_index"
   ]
  },
  {
   "cell_type": "code",
   "execution_count": null,
   "metadata": {
    "collapsed": true
   },
   "outputs": [],
   "source": []
  },
  {
   "cell_type": "markdown",
   "metadata": {
    "collapsed": true,
    "deletable": true,
    "editable": true
   },
   "source": [
    "# Use an Actor Critic Model\n",
    "- https://yanpanlau.github.io/2016/10/11/Torcs-Keras.html"
   ]
  },
  {
   "cell_type": "code",
   "execution_count": 75,
   "metadata": {
    "collapsed": true,
    "deletable": true,
    "editable": true
   },
   "outputs": [],
   "source": [
    "def create_actor_network(self, state_size,action_dim):\n",
    "        print(\"Now we build the model\")\n",
    "        S = Input(shape=[state_size])  \n",
    "        h0 = Dense(HIDDEN1_UNITS, activation='relu')(S)\n",
    "        h1 = Dense(HIDDEN2_UNITS, activation='relu')(h0)\n",
    "        Steering = Dense(1,activation='tanh',init=lambda shape, name: normal(shape, scale=1e-4, name=name))(h1)   \n",
    "        Acceleration = Dense(1,activation='sigmoid',init=lambda shape, name: normal(shape, scale=1e-4, name=name))(h1)   \n",
    "        Brake = Dense(1,activation='sigmoid',init=lambda shape, name: normal(shape, scale=1e-4, name=name))(h1)   \n",
    "        V = merge([Steering,Acceleration,Brake],mode='concat')          \n",
    "        model = Model(input=S,output=V)\n",
    "        print(\"We finished building the model\")\n",
    "        return model, model.trainable_weights, S"
   ]
  },
  {
   "cell_type": "code",
   "execution_count": 41,
   "metadata": {
    "collapsed": false,
    "deletable": true,
    "editable": true
   },
   "outputs": [
    {
     "name": "stdout",
     "output_type": "stream",
     "text": [
      "Now we build the model\n",
      "____________________________________________________________________________________________________\n",
      "Layer (type)                     Output Shape          Param #     Connected to                     \n",
      "====================================================================================================\n",
      "input_18 (InputLayer)            (None, 5)             0                                            \n",
      "____________________________________________________________________________________________________\n",
      "dense_75 (Dense)                 (None, 10)            60                                           \n",
      "____________________________________________________________________________________________________\n",
      "dense_76 (Dense)                 (None, 20)            220                                          \n",
      "____________________________________________________________________________________________________\n",
      "dense_77 (Dense)                 (None, 1)             21                                           \n",
      "____________________________________________________________________________________________________\n",
      "dense_78 (Dense)                 (None, 1)             21                                           \n",
      "____________________________________________________________________________________________________\n",
      "dense_79 (Dense)                 (None, 1)             21                                           \n",
      "====================================================================================================\n",
      "Total params: 343.0\n",
      "Trainable params: 343.0\n",
      "Non-trainable params: 0.0\n",
      "____________________________________________________________________________________________________\n",
      "We finished building the model\n"
     ]
    },
    {
     "name": "stderr",
     "output_type": "stream",
     "text": [
      "/Users/jonathanhilgart/anaconda/envs/dl/lib/python3.6/site-packages/keras/legacy/interfaces.py:86: UserWarning: Update your `Model` call to the Keras 2 API: `Model(inputs=Tensor(\"in..., outputs=[<tf.Tenso...)`\n",
      "  '` call to the Keras 2 API: ' + signature)\n"
     ]
    }
   ],
   "source": [
    "## Actor\n",
    "HIDDEN1_UNITS=10\n",
    "HIDDEN2_UNITS=20\n",
    "state_size=5\n",
    "print(\"Now we build the model\")\n",
    "S = Input(shape=[state_size])\n",
    "h0 = Dense(HIDDEN1_UNITS, activation='relu')(S)\n",
    "h1 = Dense(HIDDEN2_UNITS, activation='relu')(h0)\n",
    "\n",
    "Steering = Dense(1,activation='tanh')(h1)   \n",
    "Acceleration = Dense(1,activation='sigmoid')(h1)   \n",
    "Brake = Dense(1,activation='sigmoid')(h1)   \n",
    "V = Concatenate([Steering,Acceleration,Brake])\n",
    "\n",
    "model = Model(inputs=S,output=[Steering,Acceleration,Brake])\n",
    "model.summary()\n",
    "print(\"We finished building the model\")\n"
   ]
  },
  {
   "cell_type": "code",
   "execution_count": 50,
   "metadata": {
    "collapsed": false,
    "deletable": true,
    "editable": true
   },
   "outputs": [
    {
     "ename": "TypeError",
     "evalue": "__init__() takes 1 positional argument but 3 were given",
     "output_type": "error",
     "traceback": [
      "\u001b[0;31m---------------------------------------------------------------------------\u001b[0m",
      "\u001b[0;31mTypeError\u001b[0m                                 Traceback (most recent call last)",
      "\u001b[0;32m<ipython-input-50-ffd45f30b01e>\u001b[0m in \u001b[0;36m<module>\u001b[0;34m()\u001b[0m\n\u001b[1;32m      6\u001b[0m \u001b[0ma1\u001b[0m \u001b[0;34m=\u001b[0m \u001b[0mDense\u001b[0m\u001b[0;34m(\u001b[0m\u001b[0mHIDDEN2_UNITS\u001b[0m\u001b[0;34m,\u001b[0m \u001b[0mactivation\u001b[0m\u001b[0;34m=\u001b[0m\u001b[0;34m'linear'\u001b[0m\u001b[0;34m)\u001b[0m\u001b[0;34m(\u001b[0m\u001b[0mA\u001b[0m\u001b[0;34m)\u001b[0m\u001b[0;34m\u001b[0m\u001b[0m\n\u001b[1;32m      7\u001b[0m \u001b[0mh1\u001b[0m \u001b[0;34m=\u001b[0m \u001b[0mDense\u001b[0m\u001b[0;34m(\u001b[0m\u001b[0mHIDDEN2_UNITS\u001b[0m\u001b[0;34m,\u001b[0m \u001b[0mactivation\u001b[0m\u001b[0;34m=\u001b[0m\u001b[0;34m'linear'\u001b[0m\u001b[0;34m)\u001b[0m\u001b[0;34m(\u001b[0m\u001b[0mw1\u001b[0m\u001b[0;34m)\u001b[0m\u001b[0;34m\u001b[0m\u001b[0m\n\u001b[0;32m----> 8\u001b[0;31m \u001b[0mh2\u001b[0m \u001b[0;34m=\u001b[0m \u001b[0mAdd\u001b[0m\u001b[0;34m(\u001b[0m\u001b[0mh1\u001b[0m\u001b[0;34m,\u001b[0m\u001b[0ma1\u001b[0m\u001b[0;34m)\u001b[0m\u001b[0;34m\u001b[0m\u001b[0m\n\u001b[0m\u001b[1;32m      9\u001b[0m \u001b[0mh3\u001b[0m \u001b[0;34m=\u001b[0m \u001b[0mDense\u001b[0m\u001b[0;34m(\u001b[0m\u001b[0mHIDDEN2_UNITS\u001b[0m\u001b[0;34m,\u001b[0m \u001b[0mactivation\u001b[0m\u001b[0;34m=\u001b[0m\u001b[0;34m'relu'\u001b[0m\u001b[0;34m)\u001b[0m\u001b[0;34m(\u001b[0m\u001b[0mh2\u001b[0m\u001b[0;34m)\u001b[0m\u001b[0;34m\u001b[0m\u001b[0m\n\u001b[1;32m     10\u001b[0m \u001b[0mV\u001b[0m \u001b[0;34m=\u001b[0m \u001b[0mDense\u001b[0m\u001b[0;34m(\u001b[0m\u001b[0maction_dim\u001b[0m\u001b[0;34m,\u001b[0m\u001b[0mactivation\u001b[0m\u001b[0;34m=\u001b[0m\u001b[0;34m'linear'\u001b[0m\u001b[0;34m)\u001b[0m\u001b[0;34m(\u001b[0m\u001b[0mh3\u001b[0m\u001b[0;34m)\u001b[0m\u001b[0;34m\u001b[0m\u001b[0m\n",
      "\u001b[0;31mTypeError\u001b[0m: __init__() takes 1 positional argument but 3 were given"
     ]
    }
   ],
   "source": [
    "## Critic\n",
    "action_dim = 100\n",
    "S = Input(shape=[state_size])\n",
    "A = Input(shape=[action_dim],name='action2')    \n",
    "w1 = Dense(HIDDEN1_UNITS, activation='relu')(S)\n",
    "a1 = Dense(HIDDEN2_UNITS, activation='linear')(A)\n",
    "h1 = Dense(HIDDEN2_UNITS, activation='linear')(w1)\n",
    "h2 = Add(h1,a1)    \n",
    "h3 = Dense(HIDDEN2_UNITS, activation='relu')(h2)\n",
    "V = Dense(action_dim,activation='linear')(h3) \n",
    "\n",
    "model = Concatenate(input=[S,A],output=V)\n",
    "\n",
    "adam = Adam(lr=self.LEARNING_RATE)\n",
    "model.compile(loss='mse', optimizer=adam)\n",
    "print(\"We finished building the model\")"
   ]
  },
  {
   "cell_type": "code",
   "execution_count": null,
   "metadata": {
    "collapsed": true,
    "deletable": true,
    "editable": true
   },
   "outputs": [],
   "source": []
  },
  {
   "cell_type": "code",
   "execution_count": null,
   "metadata": {
    "collapsed": true,
    "deletable": true,
    "editable": true
   },
   "outputs": [],
   "source": []
  },
  {
   "cell_type": "code",
   "execution_count": 115,
   "metadata": {
    "collapsed": true,
    "deletable": true,
    "editable": true
   },
   "outputs": [],
   "source": [
    "# parameters\n",
    "GAME = 'bird' # the name of the game being played for log files\n",
    "CONFIG = 'nothreshold'\n",
    "ACTIONS = 9 # number of valid actions\n",
    "GAMMA = 0.99 # decay rate of past observations\n",
    "OBSERVATION = 3200. # timesteps to observe before training\n",
    "EXPLORE = 3000000. # frames over which to anneal epsilon\n",
    "FINAL_EPSILON = 0.0001 # final value of epsilon\n",
    "INITIAL_EPSILON = 0.1 # starting value of epsilon\n",
    "REPLAY_MEMORY = 50000 # number of previous transitions to remember\n",
    "BATCH = 32 # size of minibatch\n",
    "FRAME_PER_ACTION = 1\n",
    "LEARNING_RATE = 1e-4"
   ]
  },
  {
   "cell_type": "code",
   "execution_count": 116,
   "metadata": {
    "collapsed": false
   },
   "outputs": [],
   "source": [
    "##define some test inputs , time, state\n",
    "X = np.array([[10,2],\n",
    "             [100,23]])"
   ]
  },
  {
   "cell_type": "code",
   "execution_count": 117,
   "metadata": {
    "collapsed": false,
    "deletable": true,
    "editable": true
   },
   "outputs": [
    {
     "name": "stdout",
     "output_type": "stream",
     "text": [
      "_________________________________________________________________\n",
      "Layer (type)                 Output Shape              Param #   \n",
      "=================================================================\n",
      "dense_4 (Dense)              (None, 100)               300       \n",
      "_________________________________________________________________\n",
      "dropout_3 (Dropout)          (None, 100)               0         \n",
      "_________________________________________________________________\n",
      "dense_5 (Dense)              (None, 100)               10100     \n",
      "_________________________________________________________________\n",
      "dropout_4 (Dropout)          (None, 100)               0         \n",
      "_________________________________________________________________\n",
      "dense_6 (Dense)              (None, 9)                 909       \n",
      "=================================================================\n",
      "Total params: 11,309.0\n",
      "Trainable params: 11,309.0\n",
      "Non-trainable params: 0.0\n",
      "_________________________________________________________________\n"
     ]
    }
   ],
   "source": [
    "##Define a simple model where the output is a softmax probability over the eight states\n",
    "# Inputs will be the time, current geohash-index ()\n",
    "# Outputs are nine numbers which correspond to a direction to go in\n",
    "# 0) NW 1) N                     2) NE\n",
    "# 3) W  4) Stay in same geohash  5)E\n",
    "# 6)SW  7) S                    8) SE\n",
    "model_simple = Sequential()\n",
    "model_simple.add(Dense(100, activation='relu', input_shape= (2,)))\n",
    "model_simple.add(Dropout(.3))\n",
    "model_simple.add(Dense(100, activation='relu'))\n",
    "model_simple.add(Dropout(.3))\n",
    "model_simple.add(Dense(9, activation='softmax')) ## predict which geohash to move to next\n",
    "adam = Adam(lr=LEARNING_RATE)\n",
    "model_simple.compile(loss='mse',optimizer=adam)\n",
    "model_simple.summary()\n"
   ]
  },
  {
   "cell_type": "code",
   "execution_count": 118,
   "metadata": {
    "collapsed": false
   },
   "outputs": [
    {
     "data": {
      "text/plain": [
       "array([[  7.98309818e-02,   1.55236691e-01,   3.14950645e-02,\n",
       "          1.21006086e-01,   6.96885511e-02,   1.38656586e-01,\n",
       "          2.61261910e-01,   1.34518713e-01,   8.30531400e-03],\n",
       "       [  9.32408693e-06,   4.56102332e-03,   7.78411891e-10,\n",
       "          9.39506688e-04,   1.72726493e-06,   2.20192061e-03,\n",
       "          9.90400016e-01,   1.88641425e-03,   1.47626609e-15]], dtype=float32)"
      ]
     },
     "execution_count": 118,
     "metadata": {},
     "output_type": "execute_result"
    }
   ],
   "source": [
    "model_simple.predict(X)"
   ]
  },
  {
   "cell_type": "code",
   "execution_count": 256,
   "metadata": {
    "collapsed": false
   },
   "outputs": [
    {
     "data": {
      "text/plain": [
       "770"
      ]
     },
     "execution_count": 256,
     "metadata": {},
     "output_type": "execute_result"
    }
   ],
   "source": [
    "list_of_geohash_index[np.random.choice(list_of_unique_geohashes)] # index of geohash"
   ]
  },
  {
   "cell_type": "code",
   "execution_count": 259,
   "metadata": {
    "collapsed": false
   },
   "outputs": [
    {
     "data": {
      "text/plain": [
       "1410"
      ]
     },
     "execution_count": 259,
     "metadata": {},
     "output_type": "execute_result"
    }
   ],
   "source": [
    "np.random.choice(list_of_time_index) # time"
   ]
  },
  {
   "cell_type": "code",
   "execution_count": 271,
   "metadata": {
    "collapsed": false
   },
   "outputs": [
    {
     "data": {
      "text/plain": [
       "array([[ 605, 2775]])"
      ]
     },
     "execution_count": 271,
     "metadata": {},
     "output_type": "execute_result"
    }
   ],
   "source": [
    "np.array([[np.random.choice(list_of_time_index),\n",
    "                     list_of_geohash_index[np.random.choice(list_of_unique_geohashes)]]])\n",
    "    "
   ]
  },
  {
   "cell_type": "code",
   "execution_count": 278,
   "metadata": {
    "collapsed": false
   },
   "outputs": [
    {
     "data": {
      "text/plain": [
       "8"
      ]
     },
     "execution_count": 278,
     "metadata": {},
     "output_type": "execute_result"
    }
   ],
   "source": [
    "random.randrange(ACTIONS)"
   ]
  },
  {
   "cell_type": "code",
   "execution_count": 164,
   "metadata": {
    "collapsed": false
   },
   "outputs": [],
   "source": [
    "def trainNetworkNeuralNetworkTaxicab(model, list_of_unique_geohashes):\n",
    "    # Code adapted from https://github.com/yanpanlau/Keras-FlappyBird/blob/master/qlearn.py\n",
    "    ## pick a random state and time to start at\n",
    "    \n",
    "    # store the previous observations in replay memory\n",
    "    D = deque()\n",
    "    \n",
    "    # get the first state by randomlly choosing a geohash to start at and random time to start at\n",
    "    # Assume that the first state has no reward associated with it\n",
    "    starting_geohash = np.random.choice(list_of_unique_geohashes)\n",
    "    starting_time = np.random.choice(list_of_time_index)\n",
    "    s_t = np.array([[starting_time,\n",
    "                     list_of_geohash_index[starting_geohash]]])\n",
    "    print(s_t,'starting time and geohash index')\n",
    "    args = {'None':0}\n",
    "    try:\n",
    "        args['mode'] == 'Run' ## don't need this\n",
    "        OBSERVE = 999999999    #We keep observe, never train\n",
    "        epsilon = FINAL_EPSILON\n",
    "        print (\"Now we load weight\")\n",
    "        model.load_weights(\"model.h5\")\n",
    "        adam = Adam(lr=LEARNING_RATE)\n",
    "        model.compile(loss='mse',optimizer=adam)\n",
    "        print (\"Weight load successfully\")    \n",
    "    except KeyError:                       #We go to training mode\n",
    "        OBSERVE = OBSERVATION\n",
    "        epsilon = INITIAL_EPSILON\n",
    "        \n",
    "    #start your observations\n",
    "    t = 0\n",
    "    while (True):\n",
    "        loss = 0\n",
    "        Q_sa = 0\n",
    "        action_index = 0\n",
    "        r_t = 0\n",
    "        a_t = np.zeros([ACTIONS])\n",
    "        print(t, ' t')\n",
    "        #choose a random action action epsilon greedy\n",
    "        if t % FRAME_PER_ACTION == 0: ## will always choose this if frame per action is 1\n",
    "            if random.random() <= epsilon:\n",
    "                print(\"----------Random Action----------\")\n",
    "                action_index = random.randrange(ACTIONS) # Randomlly choose another geohash to go to\n",
    "                a_t[action_index] = 1\n",
    "            else:\n",
    "                print('---------Not a random action------------')\n",
    "                q = model.predict(s_t)       #input the time followed by the geohash index\n",
    "                max_Q = np.argmax(q)  # find the position of the highest probability (which direction to go in)\n",
    "                action_index = max_Q\n",
    "                a_t[max_Q] = 1\n",
    "                \n",
    "        #We reduced the epsilon gradually to take more random actions \n",
    "        if epsilon > FINAL_EPSILON and t > OBSERVE:\n",
    "            epsilon -= (INITIAL_EPSILON - FINAL_EPSILON) / EXPLORE\n",
    "            \n",
    "        print(a_t,'a_t')\n",
    "        print(starting_geohash,'starting geohash')\n",
    "        print(starting_time,'starting time')\n",
    "        print(action_index,'action Index')\n",
    "        print(list_of_output_predictions_to_direction[np.argmax(a_t)],'direction to take')\n",
    "        print(action_index,'action index')\n",
    "            \n",
    "        #run the selected action and observed next state and reward\n",
    "        # We need to find the neighbors to the geohash that we started at\n",
    "        \n",
    "        #Get the neighbors from the current geohash\n",
    "        neighbors = gh.neighbors(starting_geohash)\n",
    "        # Get the direction we should go\n",
    "        direction_to_move_to = list_of_output_predictions_to_direction[action_index]\n",
    "        # Get the geohash of the direction we moved to\n",
    "        if direction_to_move_to =='stay':\n",
    "            new_geohash = starting_geohash\n",
    "        else:\n",
    "            new_geohash = neighbors[direction_to_move_to]\n",
    "        \n",
    "        print(new_geohash,'new geohash we moved to')\n",
    "        \n",
    "        # get the reward of the geohash we just moved to (this is the ratio of fare /time of trip)\n",
    "        possible_rewards = np.array(time_geohash_fare_dict[starting_time][new_geohash])\n",
    "\n",
    "        if len (possible_rewards) ==0:\n",
    "            r_t = 0 ## we do not have information for this time and geohash, don't go here. No reward\n",
    "        else:\n",
    "            r_t =  possible_rewards[np.random.randint(0,len(possible_rewards))][2] # get the ratio of fare / trip time\n",
    "            #r_t = np.random.choice(possible_rewards)\n",
    "        print(r_t,'reward')\n",
    "        \n",
    "#         x_t1_colored, r_t, terminal = game_state.frame_step(a_t)\n",
    "        \n",
    "\n",
    "#         x_t1 = skimage.color.rgb2gray(x_t1_colored)\n",
    "#         x_t1 = skimage.transform.resize(x_t1,(80,80))\n",
    "#         x_t1 = skimage.exposure.rescale_intensity(x_t1, out_range=(0, 255))\n",
    "\n",
    "#         x_t1 = x_t1.reshape(1, x_t1.shape[0], x_t1.shape[1], 1) #1x80x80x1\n",
    "#         s_t1 = np.append(x_t1, s_t[:, :, :, :3], axis=3)\n",
    "\n",
    "#         # store the transition in D\n",
    "#         D.append((s_t, action_index, r_t, s_t1, terminal))\n",
    "#         if len(D) > REPLAY_MEMORY:\n",
    "#             D.popleft()\n",
    "\n",
    "            \n",
    "#         #gh.neighbors()\n",
    "        \n",
    "        break"
   ]
  },
  {
   "cell_type": "code",
   "execution_count": 143,
   "metadata": {
    "collapsed": false
   },
   "outputs": [
    {
     "data": {
      "text/plain": [
       "'w'"
      ]
     },
     "execution_count": 143,
     "metadata": {},
     "output_type": "execute_result"
    }
   ],
   "source": [
    "list_of_output_predictions_to_direction[3]"
   ]
  },
  {
   "cell_type": "code",
   "execution_count": 144,
   "metadata": {
    "collapsed": true
   },
   "outputs": [],
   "source": [
    "t = np.array([(2,4),(4,6),(5,7),(2,4),(2,7)])"
   ]
  },
  {
   "cell_type": "code",
   "execution_count": 145,
   "metadata": {
    "collapsed": false
   },
   "outputs": [
    {
     "data": {
      "text/plain": [
       "array([2, 4])"
      ]
     },
     "execution_count": 145,
     "metadata": {},
     "output_type": "execute_result"
    }
   ],
   "source": [
    "t[np.random.randint(0,len(t))]"
   ]
  },
  {
   "cell_type": "code",
   "execution_count": 146,
   "metadata": {
    "collapsed": false
   },
   "outputs": [
    {
     "data": {
      "text/plain": [
       "{'e': 'dr5qys',\n",
       " 'n': 'dr5qyn',\n",
       " 'ne': 'dr5qyt',\n",
       " 'nw': 'dr5qyl',\n",
       " 's': 'dr5qyj',\n",
       " 'se': 'dr5qyp',\n",
       " 'sw': 'dr5qyh',\n",
       " 'w': 'dr5qyk'}"
      ]
     },
     "execution_count": 146,
     "metadata": {},
     "output_type": "execute_result"
    }
   ],
   "source": [
    "gh.neighbors('dr5qym')"
   ]
  },
  {
   "cell_type": "code",
   "execution_count": 147,
   "metadata": {
    "collapsed": false
   },
   "outputs": [
    {
     "data": {
      "text/plain": [
       "[(17.356875, 20, 0.8678437499566077),\n",
       " (15.7734693877551, 20, 0.7886734693483213),\n",
       " (20.898399999999988, 20, 1.0449199999477534),\n",
       " (21.793265306122432, 20, 1.0896632652516385),\n",
       " (18.329047619047607, 20, 0.9164523809065578),\n",
       " (20.25743589743589, 10, 2.0257435895410145),\n",
       " (14.625675675675678, 20, 0.7312837837472197),\n",
       " (16.576153846153847, 20, 0.828807692266252),\n",
       " (18.028269230769222, 20, 0.9014134614933904),\n",
       " (19.57571428571429, 20, 0.9787857142367753),\n",
       " (19.620454545454535, 20, 0.9810227272236757),\n",
       " (16.211020408163257, 10, 1.6211020406542156),\n",
       " (17.781999999999993, 20, 0.8890999999555447),\n",
       " (18.681724137931027, 20, 0.9340862068498471),\n",
       " (20.890606060606068, 20, 1.0445303029780768),\n",
       " (11.152380952380957, 10, 1.115238095126572),\n",
       " (14.446491228070164, 10, 1.4446491226625515),\n",
       " (17.977173913043465, 20, 0.8988586956072303),\n",
       " (16.310833333333328, 20, 0.8155416666258893),\n",
       " (18.515999999999988, 20, 0.9257999999537094),\n",
       " (20.83599999999998, 20, 1.041799999947909),\n",
       " (18.19490909090908, 20, 0.9097454544999667),\n",
       " (13.976000000000006, 20, 0.6987999999650603),\n",
       " (28.978055555555557, 20, 1.4489027777053327),\n",
       " (24.006451612903227, 20, 1.2003225805851452),\n",
       " (16.39686274509803, 20, 0.8198431372139093),\n",
       " (24.036666666666658, 20, 1.2018333332732412),\n",
       " (16.465813953488365, 20, 0.8232906976332537),\n",
       " (14.344761904761903, 10, 1.4344761903327428),\n",
       " (19.858235294117634, 20, 0.9929117646562361)]"
      ]
     },
     "execution_count": 147,
     "metadata": {},
     "output_type": "execute_result"
    }
   ],
   "source": [
    "time_geohash_fare_dict[1630]['7zzzzz']"
   ]
  },
  {
   "cell_type": "code",
   "execution_count": 165,
   "metadata": {
    "collapsed": false
   },
   "outputs": [
    {
     "name": "stdout",
     "output_type": "stream",
     "text": [
      "[[1250 1604]] starting time and geohash index\n",
      "0  t\n",
      "---------Not a random action------------\n",
      "[ 0.  0.  0.  0.  0.  0.  1.  0.  0.] a_t\n",
      "dr5qud starting geohash\n",
      "1250 starting time\n",
      "6 action Index\n",
      "sw direction to take\n",
      "6 action index\n",
      "dr5quW new geohash we moved to\n",
      "0 reward\n",
      "[[ 430 2399]] starting time and geohash index\n",
      "0  t\n",
      "---------Not a random action------------\n",
      "[ 0.  0.  0.  1.  0.  0.  0.  0.  0.] a_t\n",
      "dr54wb starting geohash\n",
      "430 starting time\n",
      "3 action Index\n",
      "w direction to take\n",
      "3 action index\n",
      "dr54wZ new geohash we moved to\n",
      "0 reward\n",
      "[[ 120 1294]] starting time and geohash index\n",
      "0  t\n",
      "---------Not a random action------------\n",
      "[ 0.  0.  0.  1.  0.  0.  0.  0.  0.] a_t\n",
      "dr5xg6 starting geohash\n",
      "120 starting time\n",
      "3 action Index\n",
      "w direction to take\n",
      "3 action index\n",
      "dr5xg4 new geohash we moved to\n",
      "0 reward\n",
      "[[450 767]] starting time and geohash index\n",
      "0  t\n",
      "---------Not a random action------------\n",
      "[ 0.  0.  0.  1.  0.  0.  0.  0.  0.] a_t\n",
      "dr72wd starting geohash\n",
      "450 starting time\n",
      "3 action Index\n",
      "w direction to take\n",
      "3 action index\n",
      "dr72wX new geohash we moved to\n",
      "0 reward\n",
      "[[1850 2010]] starting time and geohash index\n",
      "0  t\n",
      "----------Random Action----------\n",
      "[ 0.  0.  0.  0.  1.  0.  0.  0.  0.] a_t\n",
      "dr5rd7 starting geohash\n",
      "1850 starting time\n",
      "4 action Index\n",
      "stay direction to take\n",
      "4 action index\n",
      "dr5rd7 new geohash we moved to\n",
      "0 reward\n",
      "[[2020 2992]] starting time and geohash index\n",
      "0  t\n",
      "---------Not a random action------------\n",
      "[ 0.  0.  0.  0.  0.  0.  1.  0.  0.] a_t\n",
      "dr72u6 starting geohash\n",
      "2020 starting time\n",
      "6 action Index\n",
      "sw direction to take\n",
      "6 action index\n",
      "dr72ut new geohash we moved to\n",
      "0 reward\n",
      "[[1610  670]] starting time and geohash index\n",
      "0  t\n",
      "----------Random Action----------\n",
      "[ 0.  0.  1.  0.  0.  0.  0.  0.  0.] a_t\n",
      "dr5xbn starting geohash\n",
      "1610 starting time\n",
      "2 action Index\n",
      "ne direction to take\n",
      "2 action index\n",
      "dr5xb4 new geohash we moved to\n",
      "0.896999999955 reward\n",
      "[[1850 1205]] starting time and geohash index\n",
      "0  t\n",
      "---------Not a random action------------\n",
      "[ 0.  0.  0.  0.  0.  0.  1.  0.  0.] a_t\n",
      "dr5wuk starting geohash\n",
      "1850 starting time\n",
      "6 action Index\n",
      "sw direction to take\n",
      "6 action index\n",
      "dr5wuL new geohash we moved to\n",
      "0 reward\n",
      "[[610 274]] starting time and geohash index\n",
      "0  t\n",
      "---------Not a random action------------\n",
      "[ 0.  0.  0.  0.  0.  0.  1.  0.  0.] a_t\n",
      "dr72ju starting geohash\n",
      "610 starting time\n",
      "6 action Index\n",
      "sw direction to take\n",
      "6 action index\n",
      "dr72jp new geohash we moved to\n",
      "0.614999999969 reward\n",
      "[[1940 1473]] starting time and geohash index\n",
      "0  t\n",
      "---------Not a random action------------\n",
      "[ 0.  0.  0.  0.  0.  0.  1.  0.  0.] a_t\n",
      "dr5qfr starting geohash\n",
      "1940 starting time\n",
      "6 action Index\n",
      "sw direction to take\n",
      "6 action index\n",
      "dr5qfo new geohash we moved to\n",
      "0 reward\n"
     ]
    }
   ],
   "source": [
    "c=0\n",
    "while c < 10:\n",
    "    trainNetworkNeuralNetworkTaxicab(model_simple, list_of_unique_geohashes)\n",
    "    c+=1"
   ]
  },
  {
   "cell_type": "code",
   "execution_count": 385,
   "metadata": {
    "collapsed": false
   },
   "outputs": [
    {
     "data": {
      "text/plain": [
       "array([[ 0.,  0.,  0.,  1.,  0.,  0.,  0.,  0.,  0.]], dtype=float32)"
      ]
     },
     "execution_count": 385,
     "metadata": {},
     "output_type": "execute_result"
    }
   ],
   "source": [
    "model_simple.predict(np.array([[1950,2138]]))"
   ]
  },
  {
   "cell_type": "code",
   "execution_count": 386,
   "metadata": {
    "collapsed": true,
    "deletable": true,
    "editable": true
   },
   "outputs": [],
   "source": [
    "def trainNetwork(model,args):\n",
    "    # open up a game state to communicate with emulator \n",
    "    game_state = game.GameState()\n",
    "\n",
    "    # store the previous observations in replay memory\n",
    "    D = deque()\n",
    "\n",
    "    # get the first state by doing nothing and preprocess the image to 80x80x4\n",
    "    do_nothing = np.zeros(ACTIONS)\n",
    "    do_nothing[0] = 1\n",
    "    x_t, r_0, terminal = game_state.frame_step(do_nothing)\n",
    "\n",
    "    x_t = skimage.color.rgb2gray(x_t)\n",
    "    x_t = skimage.transform.resize(x_t,(80,80))\n",
    "    x_t = skimage.exposure.rescale_intensity(x_t,out_range=(0,255))\n",
    "\n",
    "    s_t = np.stack((x_t, x_t, x_t, x_t), axis=2)\n",
    "    #print (s_t.shape)\n",
    "\n",
    "    #In Keras, need to reshape\n",
    "    s_t = s_t.reshape(1, s_t.shape[0], s_t.shape[1], s_t.shape[2])  #1*80*80*4\n",
    "    \n",
    "    if args['mode'] == 'Run': ## don't need this\n",
    "        OBSERVE = 999999999    #We keep observe, never train\n",
    "        epsilon = FINAL_EPSILON\n",
    "        print (\"Now we load weight\")\n",
    "        model.load_weights(\"model.h5\")\n",
    "        adam = Adam(lr=LEARNING_RATE)\n",
    "        model.compile(loss='mse',optimizer=adam)\n",
    "        print (\"Weight load successfully\")    \n",
    "    else:                       #We go to training mode\n",
    "        OBSERVE = OBSERVATION\n",
    "        epsilon = INITIAL_EPSILON\n",
    "\n",
    "    t = 0\n",
    "    while (True):\n",
    "        loss = 0\n",
    "        Q_sa = 0\n",
    "        action_index = 0\n",
    "        r_t = 0\n",
    "        a_t = np.zeros([ACTIONS])\n",
    "        #choose an action epsilon greedy\n",
    "        if t % FRAME_PER_ACTION == 0:\n",
    "            if random.random() <= epsilon:\n",
    "                print(\"----------Random Action----------\")\n",
    "                action_index = random.randrange(ACTIONS)\n",
    "                a_t[action_index] = 1\n",
    "            else:\n",
    "                q = model.predict(s_t)       #input a stack of 4 images, get the prediction\n",
    "                max_Q = np.argmax(q)\n",
    "                action_index = max_Q\n",
    "                a_t[max_Q] = 1\n",
    "\n",
    "        #We reduced the epsilon gradually to take more random actions \n",
    "        if epsilon > FINAL_EPSILON and t > OBSERVE:\n",
    "            epsilon -= (INITIAL_EPSILON - FINAL_EPSILON) / EXPLORE\n",
    "\n",
    "        #run the selected action and observed next state and reward\n",
    "        x_t1_colored, r_t, terminal = game_state.frame_step(a_t)\n",
    "        \n",
    "\n",
    "        x_t1 = skimage.color.rgb2gray(x_t1_colored)\n",
    "        x_t1 = skimage.transform.resize(x_t1,(80,80))\n",
    "        x_t1 = skimage.exposure.rescale_intensity(x_t1, out_range=(0, 255))\n",
    "\n",
    "        x_t1 = x_t1.reshape(1, x_t1.shape[0], x_t1.shape[1], 1) #1x80x80x1\n",
    "        s_t1 = np.append(x_t1, s_t[:, :, :, :3], axis=3)\n",
    "\n",
    "        # store the transition in D\n",
    "        D.append((s_t, action_index, r_t, s_t1, terminal))\n",
    "        if len(D) > REPLAY_MEMORY:\n",
    "            D.popleft()\n",
    "\n",
    "        #only train if done observing\n",
    "        if t > OBSERVE:\n",
    "            #sample a minibatch to train on\n",
    "            minibatch = random.sample(D, BATCH)\n",
    "\n",
    "\n",
    "\n",
    "            inputs = np.zeros((BATCH, s_t.shape[1], s_t.shape[2], s_t.shape[3]))   #32, 80, 80, 4\n",
    "            print (inputs.shape)\n",
    "            targets = np.zeros((inputs.shape[0], ACTIONS))                         #32, 2\n",
    "\n",
    "            #Now we do the experience replay\n",
    "            for i in range(0, len(minibatch)):\n",
    "                state_t = minibatch[i][0]\n",
    "                action_t = minibatch[i][1]   #This is action index\n",
    "                reward_t = minibatch[i][2]\n",
    "                state_t1 = minibatch[i][3]\n",
    "                terminal = minibatch[i][4]\n",
    "                # if terminated, only equals reward\n",
    "\n",
    "                inputs[i:i + 1] = state_t    #I saved down s_t\n",
    "\n",
    "                targets[i] = model.predict(state_t)  # Hitting each buttom probability\n",
    "                Q_sa = model.predict(state_t1)\n",
    "\n",
    "                if terminal:\n",
    "                    targets[i, action_t] = reward_t\n",
    "                else:\n",
    "                    targets[i, action_t] = reward_t + GAMMA * np.max(Q_sa)\n",
    "\n",
    "            # targets2 = normalize(targets)\n",
    "            loss += model.train_on_batch(inputs, targets)\n",
    "\n",
    "        s_t = s_t1\n",
    "        t = t + 1\n",
    "\n",
    "        # save progress every 10000 iterations\n",
    "        if t % 1000 == 0:\n",
    "            print(\"Now we save model\")\n",
    "            model.save_weights(\"model.h5\", overwrite=True)\n",
    "            with open(\"model.json\", \"w\") as outfile:\n",
    "                json.dump(model.to_json(), outfile)\n",
    "\n",
    "        # print info\n",
    "        state = \"\"\n",
    "        if t <= OBSERVE:\n",
    "            state = \"observe\"\n",
    "        elif t > OBSERVE and t <= OBSERVE + EXPLORE:\n",
    "            state = \"explore\"\n",
    "        else:\n",
    "            state = \"train\"\n",
    "\n",
    "        print(\"TIMESTEP\", t, \"/ STATE\", state, \\\n",
    "            \"/ EPSILON\", epsilon, \"/ ACTION\", action_index, \"/ REWARD\", r_t, \\\n",
    "            \"/ Q_MAX \" , np.max(Q_sa), \"/ Loss \", loss)\n",
    "\n",
    "    print(\"Episode finished!\")\n",
    "    print(\"************************\")"
   ]
  },
  {
   "cell_type": "code",
   "execution_count": null,
   "metadata": {
    "collapsed": true
   },
   "outputs": [],
   "source": []
  }
 ],
 "metadata": {
  "kernelspec": {
   "display_name": "Python [conda env:dl]",
   "language": "python",
   "name": "conda-env-dl-py"
  }
 },
 "nbformat": 4,
 "nbformat_minor": 2
}
