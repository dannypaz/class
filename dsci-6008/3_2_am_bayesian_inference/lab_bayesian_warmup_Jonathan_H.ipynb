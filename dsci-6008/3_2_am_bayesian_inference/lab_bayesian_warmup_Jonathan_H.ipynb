{
 "cells": [
  {
   "cell_type": "markdown",
   "metadata": {},
   "source": [
    "Lab: Bayesian Inference\n",
    "------\n",
    "<br>\n",
    "<center><img src=\"https://s-media-cache-ak0.pinimg.com/originals/4a/eb/4c/4aeb4c2f01555272fa21b34b77bb2df2.jpg\" height=\"500\"/></center>"
   ]
  },
  {
   "cell_type": "markdown",
   "metadata": {},
   "source": [
    "-----\n",
    "\n",
    "**1).** Galvanize decides to do random drug tests for marijuana on their employees. They know that 3% of their population uses marijuana.\n",
    "\n",
    "The drug test has the following properties:\n",
    "\n",
    "|                | Uses marijuana | Doesn't use marijuana |\n",
    "|----------------|------------:|-------------------:|\n",
    "| Tests positive |        0.95 |               0.10 |\n",
    "| Tests negative |        0.05 |               0.90 |\n",
    "\n",
    "Edward gets tested and the test comes back positive. What is the probability that he uses marijuana?\n",
    "\n",
    "<br>\n",
    "<details><summary>\n",
    "Click here for a hint…\n",
    "</summary>\n",
    "P(A|B) = P(Edward_is_a_stoner|Postitive_test)\n",
    "</details>"
   ]
  },
  {
   "cell_type": "code",
   "execution_count": 20,
   "metadata": {},
   "outputs": [],
   "source": [
    "from scipy import stats\n",
    "from math import factorial\n",
    "import scipy as sp"
   ]
  },
  {
   "cell_type": "code",
   "execution_count": null,
   "metadata": {
    "collapsed": true
   },
   "outputs": [],
   "source": [
    "#P (Use Mar. | Positive) = P( Positive | Use. Mar) * P( Use Mar.) / P(Positive)\n",
    "# => .95* .03 / (.95*.03 + .10*.97)\n",
    "# => ~20%"
   ]
  },
  {
   "cell_type": "code",
   "execution_count": 78,
   "metadata": {},
   "outputs": [
    {
     "data": {
      "text/plain": [
       "0.22709163346613545"
      ]
     },
     "execution_count": 78,
     "metadata": {},
     "output_type": "execute_result"
    }
   ],
   "source": [
    ".95* .03 / (.95*.03 + .10*.97)"
   ]
  },
  {
   "cell_type": "code",
   "execution_count": null,
   "metadata": {
    "collapsed": true
   },
   "outputs": [],
   "source": []
  },
  {
   "cell_type": "code",
   "execution_count": null,
   "metadata": {
    "collapsed": true
   },
   "outputs": [],
   "source": []
  },
  {
   "cell_type": "markdown",
   "metadata": {},
   "source": [
    "__3__)  Zed's Coin Box\n",
    "\n",
    "<center><img src=\"https://d18l82el6cdm1i.cloudfront.net/image_optimizer/fac44f241b9b876d2fd8f821a8bb2858bb9086e4.png\" height=\"500\"/></center>\n",
    "\n",
    "Zed's coin box contains 8 fair, standard coins (heads and tails) and 1 coin which has heads on both sides. He selects a coin randomly and flips it 4 times, getting all heads. \n",
    "\n",
    "What is probability that the coin is fair?"
   ]
  },
  {
   "cell_type": "code",
   "execution_count": null,
   "metadata": {
    "collapsed": true
   },
   "outputs": [],
   "source": [
    "# P(Fair | result) = P(result | Fair) * P(Fair) / P(result)\n"
   ]
  },
  {
   "cell_type": "code",
   "execution_count": 102,
   "metadata": {},
   "outputs": [],
   "source": [
    "# eight flipe\n",
    "\n",
    "likelihood = .5**4 # chance of getting a fair coin\n",
    "prior = 8/9 # probability\n",
    "marginal = ((.5**4*8/9)+(1**4)*1/9) \n",
    "current_prob = 0\n",
    "\n",
    "\n"
   ]
  },
  {
   "cell_type": "code",
   "execution_count": 103,
   "metadata": {},
   "outputs": [
    {
     "data": {
      "text/plain": [
       "0.3333333333333333"
      ]
     },
     "execution_count": 103,
     "metadata": {},
     "output_type": "execute_result"
    }
   ],
   "source": [
    "((likelihood*prior)/ marginal)"
   ]
  },
  {
   "cell_type": "markdown",
   "metadata": {
    "collapsed": true
   },
   "source": [
    "__3__)  Let's construct two models of a coin flip:\n",
    "\n",
    "1. The coin is absolutely fair. We are certain of it!\n",
    "2. The coin may not be fair.  We need to determine the parameters based on a uniform prior parameter $\\theta \\in \\left[0,1\\right]$"
   ]
  },
  {
   "cell_type": "markdown",
   "metadata": {
    "collapsed": true
   },
   "source": [
    "Write the model for #1\n",
    "<br>\n",
    "<details><summary>\n",
    "Click here for a hint…\n",
    "</summary>\n",
    "It will be a Bernouli parameter\n",
    "</details>"
   ]
  },
  {
   "cell_type": "markdown",
   "metadata": {
    "collapsed": true
   },
   "source": [
    "$P(\\theta | data) =  f(k;n,p)=\\Pr(X=k)={\\binom {n}{k}}p^{k}(1-p)^{n-k}$"
   ]
  },
  {
   "cell_type": "code",
   "execution_count": null,
   "metadata": {
    "collapsed": true
   },
   "outputs": [],
   "source": []
  },
  {
   "cell_type": "markdown",
   "metadata": {
    "collapsed": true
   },
   "source": [
    "Write the model for #2\n",
    "\n",
    "<br>\n",
    "<details><summary>\n",
    "Click here for a hint…\n",
    "</summary>\n",
    "It will be related to #1 but more complex\n",
    "</details>"
   ]
  },
  {
   "cell_type": "code",
   "execution_count": null,
   "metadata": {
    "collapsed": true
   },
   "outputs": [],
   "source": []
  },
  {
   "cell_type": "markdown",
   "metadata": {},
   "source": [
    "# Beta binomial"
   ]
  },
  {
   "cell_type": "markdown",
   "metadata": {
    "collapsed": true
   },
   "source": [
    "$P(\\theta | data)  = \n",
    "{\\displaystyle f(k|n,\\alpha ,\\beta )={\\frac {\\Gamma (n+1)}{\\Gamma (k+1)\\Gamma (n-k+1)}}{\\frac {\\Gamma (k+\\alpha )\\Gamma (n-k+\\beta )}{\\Gamma (n+\\alpha +\\beta )}}{\\frac {\\Gamma (\\alpha +\\beta )}{\\Gamma (\\alpha )\\Gamma (\\beta )}}.}$"
   ]
  },
  {
   "cell_type": "code",
   "execution_count": 8,
   "metadata": {
    "collapsed": true
   },
   "outputs": [],
   "source": [
    "# f(k|n,α,β)=Γ(n+1)Γ(k+1)Γ(n−k+1)Γ(k+α)Γ(n−k+β)Γ(n+α+β)Γ(α+β)Γ(α)Γ(β) = Beta binomial"
   ]
  },
  {
   "cell_type": "code",
   "execution_count": 40,
   "metadata": {
    "collapsed": true
   },
   "outputs": [],
   "source": [
    "# The beta becomes a uniform when A and B both = 1"
   ]
  },
  {
   "cell_type": "code",
   "execution_count": null,
   "metadata": {
    "collapsed": true
   },
   "outputs": [],
   "source": []
  },
  {
   "cell_type": "code",
   "execution_count": null,
   "metadata": {
    "collapsed": true
   },
   "outputs": [],
   "source": []
  },
  {
   "cell_type": "markdown",
   "metadata": {
    "collapsed": true
   },
   "source": [
    "We flip the coin 100 times and get 61 heads.\n",
    "\n",
    "Calculate the posterior for model #1"
   ]
  },
  {
   "cell_type": "code",
   "execution_count": 69,
   "metadata": {
    "collapsed": true
   },
   "outputs": [],
   "source": [
    "n=100\n",
    "k=61\n",
    "p=.5"
   ]
  },
  {
   "cell_type": "code",
   "execution_count": 44,
   "metadata": {},
   "outputs": [
    {
     "data": {
      "text/plain": [
       "0.0096230575530617032"
      ]
     },
     "execution_count": 44,
     "metadata": {},
     "output_type": "execute_result"
    }
   ],
   "source": [
    "stats.binom.pmf(k,n,p)* stats.beta(a,b).pdf(.5)/.5"
   ]
  },
  {
   "cell_type": "code",
   "execution_count": 40,
   "metadata": {},
   "outputs": [
    {
     "data": {
      "text/plain": [
       "0.67665728280620863"
      ]
     },
     "execution_count": 40,
     "metadata": {},
     "output_type": "execute_result"
    }
   ],
   "source": [
    "stats.beta(a,b).pdf(.)"
   ]
  },
  {
   "cell_type": "code",
   "execution_count": 74,
   "metadata": {},
   "outputs": [
    {
     "name": "stdout",
     "output_type": "stream",
     "text": [
      "The probability of p=.5 is 0.711073%\n"
     ]
    }
   ],
   "source": [
    "print(f'The probability of p=.5 is {(factorial(n)/(factorial(k)*factorial(n-k)))*(p**k*(1-p)**(n-k)):%}')\n"
   ]
  },
  {
   "cell_type": "markdown",
   "metadata": {
    "collapsed": true
   },
   "source": [
    "Caculate the posterior for model #2"
   ]
  },
  {
   "cell_type": "code",
   "execution_count": 25,
   "metadata": {},
   "outputs": [
    {
     "data": {
      "text/plain": [
       "<scipy.stats._distn_infrastructure.rv_frozen at 0x110827358>"
      ]
     },
     "execution_count": 25,
     "metadata": {},
     "output_type": "execute_result"
    }
   ],
   "source": [
    "stats.gamma(n+1)"
   ]
  },
  {
   "cell_type": "code",
   "execution_count": 33,
   "metadata": {},
   "outputs": [],
   "source": [
    "a = 61\n",
    "b = 39\n",
    "n=100\n",
    "k=61\n",
    "#http://www.channelgrubb.com/blog/2015/2/27/beta-binomial-in-python\n",
    "def betaBinom(alpha, beta, n, k):\n",
    "    part_1 = (factorial(n+1-1))/((factorial(k+1-1))*(factorial(n+1-k-1)))\n",
    "    part_2 = ((factorial(k+alpha-1))*(factorial(n-k+beta-1)))/(factorial(n+alpha+beta-1))\n",
    "    part_3 = (factorial(alpha+beta-1))/((factorial(alpha-1))*(factorial(beta-1)))\n",
    "    return part_1*part_2*part_3"
   ]
  },
  {
   "cell_type": "code",
   "execution_count": 45,
   "metadata": {},
   "outputs": [
    {
     "name": "stdout",
     "output_type": "stream",
     "text": [
      "The probabiliy under a uniform(beta) prior is 5.760482%\n"
     ]
    }
   ],
   "source": [
    "print(f'The probabiliy under a uniform(beta) prior is {betaBinom(a,b,n,k):%}')"
   ]
  },
  {
   "cell_type": "markdown",
   "metadata": {},
   "source": [
    "Whih model does the Bayes factor support? How much?"
   ]
  },
  {
   "cell_type": "code",
   "execution_count": null,
   "metadata": {
    "collapsed": true
   },
   "outputs": [],
   "source": []
  },
  {
   "cell_type": "code",
   "execution_count": 37,
   "metadata": {},
   "outputs": [
    {
     "data": {
      "text/plain": [
       "0.12343984409637944"
      ]
     },
     "execution_count": 37,
     "metadata": {},
     "output_type": "execute_result"
    }
   ],
   "source": [
    "0.711073/ 5.760482"
   ]
  },
  {
   "cell_type": "code",
   "execution_count": 38,
   "metadata": {
    "collapsed": true
   },
   "outputs": [],
   "source": [
    "# This model strongly supports the uniform (beta) prior "
   ]
  },
  {
   "cell_type": "code",
   "execution_count": null,
   "metadata": {
    "collapsed": true
   },
   "outputs": [],
   "source": []
  },
  {
   "cell_type": "markdown",
   "metadata": {},
   "source": [
    "----\n",
    "Challenge Exercises\n",
    "----"
   ]
  },
  {
   "cell_type": "markdown",
   "metadata": {},
   "source": [
    "A GalvanizeU grad is looking for her first job!  Given that she is freaked out, her chances of not getting an offer are 70%.  Given that she is not freaked out, her chances of not getting an offer are 30%.  Suppose that the probability that she's freaked out is 80%. What's the probability that she gets an offer?"
   ]
  },
  {
   "cell_type": "code",
   "execution_count": 32,
   "metadata": {
    "collapsed": true
   },
   "outputs": [],
   "source": [
    "# P(No Offer | freaked out) = .7\n",
    "# P(offer | freaked out) =.3\n",
    "# P(no offer | not freaked out) = .3\n",
    "# P( offer | not freaked out) = .7\n",
    "# P(Feaked out ) = .8\n",
    "#P(not freaked out ) = .2\n",
    "# P(offer) = P(offer | not freaked out) *P(not feaked out) + P(offer | freaked out ) * P(freaked out )\n",
    "# P(offer) = .7*.2 + .3*.8 = > .3"
   ]
  },
  {
   "cell_type": "code",
   "execution_count": null,
   "metadata": {
    "collapsed": true
   },
   "outputs": [],
   "source": []
  },
  {
   "cell_type": "code",
   "execution_count": 39,
   "metadata": {},
   "outputs": [
    {
     "data": {
      "text/plain": [
       "0.38"
      ]
     },
     "execution_count": 39,
     "metadata": {},
     "output_type": "execute_result"
    }
   ],
   "source": [
    ".7*.2 + .3*.8"
   ]
  },
  {
   "cell_type": "code",
   "execution_count": null,
   "metadata": {
    "collapsed": true
   },
   "outputs": [],
   "source": []
  },
  {
   "cell_type": "markdown",
   "metadata": {
    "collapsed": true
   },
   "source": [
    "<br>\n",
    "<br> \n",
    "<br>\n",
    "\n",
    "----"
   ]
  }
 ],
 "metadata": {
  "anaconda-cloud": {},
  "kernelspec": {
   "display_name": "stats",
   "language": "python",
   "name": "stats"
  },
  "language_info": {
   "codemirror_mode": {
    "name": "ipython",
    "version": 3
   },
   "file_extension": ".py",
   "mimetype": "text/x-python",
   "name": "python",
   "nbconvert_exporter": "python",
   "pygments_lexer": "ipython3",
   "version": "3.6.1"
  }
 },
 "nbformat": 4,
 "nbformat_minor": 1
}
