{
 "cells": [
  {
   "cell_type": "markdown",
   "metadata": {
    "slideshow": {
     "slide_type": "slide"
    }
   },
   "source": [
    "Bayesian Inference\n",
    "----\n",
    "<br>\n",
    "<center><img src=\"images/joke.png\" width=\"500\"/></center>"
   ]
  },
  {
   "cell_type": "markdown",
   "metadata": {
    "slideshow": {
     "slide_type": "slide"
    }
   },
   "source": [
    "By The End Of This Session You Should Be Able To:\n",
    "----\n",
    "\n",
    "- Explain how Bayesian hypothesis testing is done\n",
    "- Describe Credible Intervals\n",
    "- Calculate Bayes Factor to compare two models\n",
    "- Explain how Markov Chain Monte Carlo (MCMC) can simulate posterior"
   ]
  },
  {
   "cell_type": "markdown",
   "metadata": {
    "slideshow": {
     "slide_type": "slide"
    }
   },
   "source": [
    "4 Types of Inference\n",
    "-----\n",
    "\n",
    "1. Exploratory Point Estimation - MLE / MAP\n",
    "2. Confirmatory Point Estimation - NHST / Bayes Factor\n",
    "3. Confirmatory Range Estimation - Confidence Interval / Credible Interval\n",
    "4. Exploratory Distribution Estimation - Updated Posterior"
   ]
  },
  {
   "cell_type": "markdown",
   "metadata": {
    "slideshow": {
     "slide_type": "slide"
    }
   },
   "source": [
    "<center><img src=\"https://i.stack.imgur.com/wR3fK.png\" width=\"500\"/></center>"
   ]
  },
  {
   "cell_type": "markdown",
   "metadata": {
    "slideshow": {
     "slide_type": "slide"
    }
   },
   "source": [
    "Confirmatory Point Estimation - NHST / Bayes Factor\n",
    "-----"
   ]
  },
  {
   "cell_type": "markdown",
   "metadata": {
    "slideshow": {
     "slide_type": "slide"
    }
   },
   "source": [
    "Classical Strawman\n",
    "------\n",
    "\n",
    "Classical statistics  limits us to trying to decide which model a datapoint fits best"
   ]
  },
  {
   "cell_type": "markdown",
   "metadata": {
    "slideshow": {
     "slide_type": "fragment"
    }
   },
   "source": [
    "The Bayesian setting allows us to discuss the **plausibility** of a given model in relation to another"
   ]
  },
  {
   "cell_type": "markdown",
   "metadata": {
    "slideshow": {
     "slide_type": "slide"
    }
   },
   "source": [
    "Bayesian Hypothesis\n",
    "-----\n",
    "\n",
    "Suppose that we need to decide between two hypotheses $H_{0}$ and $H_{1}$. According to Bayes' law, we can determine the posterior probabilities of $H_{0}$ and $H_{1}$, given that we have an accurate calculation of the prior probability mass function $P(H_{0}) = p_{0}$ and $P(H_{1}) = p_{1}$ such that $p_{0}+p_{1} = 1$:\n",
    "\n",
    "$$P(\\ H_{0} |\\ Y=y) = \\dfrac{f_{Y}(y\\ |\\ H_{0})P(H_{0})}{f_{Y}(y)}$$\n",
    "\n",
    "$$P(\\ H_{1} |\\ Y=y) = \\dfrac{f_{Y}(y\\ |\\ H_{1})P(H_{1})}{f_{Y}(y)}$$\n"
   ]
  },
  {
   "cell_type": "markdown",
   "metadata": {
    "slideshow": {
     "slide_type": "slide"
    }
   },
   "source": [
    "MAP Hypothesis Test\n",
    "----\n",
    "\n",
    "One way to decide between the two hypotheses is to take the hypothesis with the higher posterior probability. This is the quintessential idea between the *MAP hypothesis test*. Specifically we choose $H_{0}$ over $H_{1}$ iff\n",
    "\n",
    "$$P(\\ H_{0}\\ |\\ Y=y)  \\geq P(\\ H_{1}\\ |\\ Y=y)$$\n",
    "\n",
    "in a more practical sense, we can write\n",
    "\n",
    "$$f(y\\ | \\ H_{0})P(H_{0}) \\geq f(y\\ | \\ H_{1})P(H_{1})$$\n"
   ]
  },
  {
   "cell_type": "markdown",
   "metadata": {
    "slideshow": {
     "slide_type": "slide"
    }
   },
   "source": [
    "Bayes Factor\n",
    "-----\n",
    "\n",
    "Alternative to classical hypothesis testing\n",
    "\n",
    "A measure of model credibility "
   ]
  },
  {
   "cell_type": "markdown",
   "metadata": {
    "slideshow": {
     "slide_type": "slide"
    }
   },
   "source": [
    "Bayes Factor\n",
    "-----\n",
    "\n",
    "In this case, we are selecting a model $M$ based on its posterior probability given a fresh set of data $D$:\n",
    "\n",
    "$$P(M\\ |\\ D) = \\dfrac{P(D\\ |\\ M)P(M)}{P(D)}$$\n",
    "\n"
   ]
  },
  {
   "cell_type": "markdown",
   "metadata": {
    "slideshow": {
     "slide_type": "slide"
    }
   },
   "source": [
    "**Bayes Factor** as K\n",
    "-----\n",
    "\n",
    "Here we can treat a model selection between two models $M_{1}$ and $M_{2}$:\n",
    "\n",
    "$$K = \\dfrac{P(D|M_{1})}{P(D|M_{2})} = \\dfrac{\\int_{\\theta}P(D|\\theta_{1},M_{1})P(\\theta_{1}|M_{1})d\\theta_{1}}{\\int_{\\theta}P(D|\\theta_{2},M_{1})P(\\theta_{1}|M_{2})d\\theta_{2}}$$"
   ]
  },
  {
   "cell_type": "markdown",
   "metadata": {
    "slideshow": {
     "slide_type": "fragment"
    }
   },
   "source": [
    "It is a ratio that is the relative measure in credibility between two models given the data we have observed. "
   ]
  },
  {
   "cell_type": "markdown",
   "metadata": {
    "slideshow": {
     "slide_type": "slide"
    }
   },
   "source": [
    "<center><img src=\"https://i2.wp.com/emcrit.org/wp-content/uploads/2016/08/bayesfac.png\" width=\"700\"/></center>"
   ]
  },
  {
   "cell_type": "markdown",
   "metadata": {
    "slideshow": {
     "slide_type": "slide"
    }
   },
   "source": [
    "The meaning of the Bayes factor:\n",
    "------\n",
    "\n",
    "|K                | Strength of Evidence    |\n",
    "|-----------------|:-----------------------:|\n",
    "| < 1             | negative (supports M2)  |\n",
    "| to 5            | barely worth mentioning |\n",
    "|5 to 10          | substantial             |\n",
    "|10 to 50         | strong                  |\n",
    "|50 to 100        | very strong             |\n",
    "|> 100            | decisive                |"
   ]
  },
  {
   "cell_type": "markdown",
   "metadata": {
    "slideshow": {
     "slide_type": "skip"
    }
   },
   "source": [
    " Normally we use a table given in the [literature](https://books.google.com/books?id=vh9Act9rtzQC&printsec=frontcover#v=onepage&q&f=false)"
   ]
  },
  {
   "cell_type": "markdown",
   "metadata": {
    "slideshow": {
     "slide_type": "slide"
    }
   },
   "source": [
    "<center><img src=\"https://2.bp.blogspot.com/-QRhmiVYZ_e8/WFqDKGD9z1I/AAAAAAAAB9g/pw7ZX6FlI3oQhouyVB6yGHb3iOS1HaiuQCLcB/s1600/Slide238.PNG\" width=\"600\"/></center>"
   ]
  },
  {
   "cell_type": "markdown",
   "metadata": {
    "slideshow": {
     "slide_type": "slide"
    }
   },
   "source": [
    " Confirmatory Range Estimation - Confidence Interval / Credible Interval\n",
    "    ----"
   ]
  },
  {
   "cell_type": "markdown",
   "metadata": {
    "slideshow": {
     "slide_type": "slide"
    }
   },
   "source": [
    "Credible Intervals\n",
    "------\n",
    "\n",
    "An interval in the domain of a posterior probability distribution (or posterior predictive) used to determine the validity of an observation."
   ]
  },
  {
   "cell_type": "markdown",
   "metadata": {
    "slideshow": {
     "slide_type": "fragment"
    }
   },
   "source": [
    "**direct analogue to confidence intervals in frequentist statistics.**"
   ]
  },
  {
   "cell_type": "markdown",
   "metadata": {
    "slideshow": {
     "slide_type": "slide"
    }
   },
   "source": [
    "<center><img src=\"https://image.slidesharecdn.com/bayesianmethodsinreliabilityengineering-121116013450-phpapp02/95/bayesian-methods-in-reliability-engineering-12-638.jpg?cb=1397667280\" width=\"700\"/></center>"
   ]
  },
  {
   "cell_type": "markdown",
   "metadata": {
    "slideshow": {
     "slide_type": "slide"
    }
   },
   "source": [
    "Credible Intervals\n",
    "-----\n",
    "\n",
    "Given the observation $Y = y$, the interval $\\left[a, b \\right]$ is said to be a $(1-\\alpha)\\cdot100\\%$ **credible interval** for $X$, iff the posterior probability of $X$ being in $\\left[a, b \\right]$ is equal to $(1-\\alpha)$; i.e.:\n",
    "\n",
    "$$P(a \\geq X \\geq b |\\ Y=y) = 1-\\alpha$$ \n",
    "\n",
    "Credible intervals can be calculated *a posteriori* from tables of data or can be calculated analytically from  distributional relationships."
   ]
  },
  {
   "cell_type": "markdown",
   "metadata": {
    "slideshow": {
     "slide_type": "slide"
    }
   },
   "source": [
    "Exploratory Distribution Estimation - Updated Posterior\n",
    "-----"
   ]
  },
  {
   "cell_type": "markdown",
   "metadata": {
    "slideshow": {
     "slide_type": "slide"
    }
   },
   "source": [
    "Thinking more deeply about applying Bayes\n",
    "-----\n",
    "<br>\n",
    "<center><img src=\"https://render.githubusercontent.com/render/math?math=p%28%5Ctheta%20%7C%20X%29%20%3D%20%5Cfrac%7Bp%28%5Ctheta%29%20p%28X%20%7C%20%5Ctheta%29%7D%7Bp%28X%29%7D&mode=inline\" width=\"500\"/></center>"
   ]
  },
  {
   "cell_type": "markdown",
   "metadata": {
    "slideshow": {
     "slide_type": "fragment"
    }
   },
   "source": [
    "The denominator p(X) is the total probability of observing our data under all possible values of θ."
   ]
  },
  {
   "cell_type": "markdown",
   "metadata": {
    "slideshow": {
     "slide_type": "slide"
    }
   },
   "source": [
    " A more descriptive representation of this p(X) is given by:\n",
    " <br><br>\n",
    " <center><img src=\"https://render.githubusercontent.com/render/math?math=%5Cint%20p%28%5Ctheta%29%20p%28X%7C%5Ctheta%29%20d%5Ctheta&mode=inline\" width=\"500\"/></center>\n",
    " \n",
    " Which sums the probability of X over all values of θ."
   ]
  },
  {
   "cell_type": "markdown",
   "metadata": {
    "slideshow": {
     "slide_type": "slide"
    }
   },
   "source": [
    "This integral usually does not have a closed-form solution,"
   ]
  },
  {
   "cell_type": "markdown",
   "metadata": {
    "slideshow": {
     "slide_type": "slide"
    }
   },
   "source": [
    "Check for understanding\n",
    "-----\n",
    "\n",
    "What should we do when do not have a closed-form solution?"
   ]
  },
  {
   "cell_type": "markdown",
   "metadata": {
    "slideshow": {
     "slide_type": "fragment"
    }
   },
   "source": [
    "Numerical approximation!"
   ]
  },
  {
   "cell_type": "markdown",
   "metadata": {
    "slideshow": {
     "slide_type": "slide"
    }
   },
   "source": [
    "Markov Chain Monte Carlo (MCMC)\n",
    "-----\n",
    "\n",
    "One method of approximating our posterior by generatings samples in a way that mimics the unknown distribution."
   ]
  },
  {
   "cell_type": "markdown",
   "metadata": {
    "slideshow": {
     "slide_type": "fragment"
    }
   },
   "source": [
    " We begin at a particular value, and \"propose\" another value as a sample according to a stochastic process. "
   ]
  },
  {
   "cell_type": "markdown",
   "metadata": {
    "slideshow": {
     "slide_type": "fragment"
    }
   },
   "source": [
    " We may reject the sample if the proposed value seems unlikely and propose another."
   ]
  },
  {
   "cell_type": "markdown",
   "metadata": {
    "slideshow": {
     "slide_type": "fragment"
    }
   },
   "source": [
    " If we accept the proposal, we move to the new value and propose another."
   ]
  },
  {
   "cell_type": "markdown",
   "metadata": {
    "slideshow": {
     "slide_type": "slide"
    }
   },
   "source": [
    "The MCMC process\n",
    "-----\n",
    "\n",
    "1. Define all variables\n",
    "2. How variables depend on each other\n",
    "3. Run an algorithm to simulate a posterior distribution"
   ]
  },
  {
   "cell_type": "markdown",
   "metadata": {
    "slideshow": {
     "slide_type": "skip"
    }
   },
   "source": [
    "Source: https://www.datascience.com/blog/introduction-to-bayesian-inference-learn-data-science-tutorials"
   ]
  },
  {
   "cell_type": "markdown",
   "metadata": {
    "slideshow": {
     "slide_type": "slide"
    }
   },
   "source": [
    "<center><img src=\"http://www.olicognography.org/graph/bayesian.png\" width=\"500\"/></center>"
   ]
  },
  {
   "cell_type": "markdown",
   "metadata": {
    "slideshow": {
     "slide_type": "slide"
    }
   },
   "source": [
    "Summary\n",
    "----\n",
    "\n",
    "- Bayes Theorem can be used to calculate a Posterior\n",
    "- Credible Intervals are some percentage of the Posterior that contain the population parameter\n",
    "- Bayes Theorem can be used to calculate multiple Posteriors\n",
    "- We can then compare the Posteriors and pick the most useful model\n",
    "- Bayes Factor is a quantitative metric to choose amongst models\n",
    "- Often we need to simulate p(X), MCMC is a set of tools to do that.\n"
   ]
  },
  {
   "cell_type": "markdown",
   "metadata": {
    "slideshow": {
     "slide_type": "slide"
    }
   },
   "source": [
    "----\n",
    "Bonus Material\n",
    "----\n",
    "\n"
   ]
  },
  {
   "cell_type": "markdown",
   "metadata": {},
   "source": [
    "## ML Model Selection with Bayesian Criteria\n",
    "\n",
    "There are two important criteria for machine learning models that enable us to compute an approximation to the Bayes' factor for all of them. These are the **AIC**, the Aikake information criterion, and the **BIC** the Bayesian information criterion. \n",
    "\n",
    "### AIC and AIC corrected (AICc)\n",
    "\n",
    "AIC is founded in information theory. It supposes that the data is generated by some unknown process (distribution free) f. We consider two candidate models to represent f: g1 and g2. If we knew f, then we could find the information lost from using g1 to represent f by calculating the degree to which the two distributions (f and g1) match using information theory; similarly, the information lost from using g2 to represent f can be found similarly. We then choose the candidate model that minimizes the loss of information. The AIC is given as:\n",
    "\n",
    "$$ AIC = 2k - 2\\ ln{(P(D|M_{i}))} $$\n",
    "\n",
    "Where $k$ is the number of parameters $P(D|M_{i})$ is the likelihood for the model given the current set of data. In machine learning parlance, this likelihood is taken as the final \"loss\" (cost) function value for the model's optimized set of parameters. For finite sample sizes, we must correct for the effect of the limits of sampling size $n$.\n",
    "\n",
    "$$ AICc = AIC + \\dfrac{2k(k+1)}{(n-k-1)} $$\n",
    "\n",
    "([from wikipedia](https://en.wikipedia.org/wiki/Akaike_information_criterion))\n",
    "To apply AIC in practice, we start with a set of candidate models, and then find the models' corresponding AIC values. There will almost always be information lost due to using a candidate model to represent the \"true\" model (i.e. the process that generates the data). \n",
    "\n",
    "We wish to select, from among the candidate models, the model that minimizes the information loss. We cannot choose with certainty, but we can minimize the estimated information loss.\n",
    "\n",
    "Suppose that there are M candidate models. Denote the AIC values of those models by $AIC_{1}, AIC_{2}, AIC_{3}, \\cdots, AIC_{M}$. Let $AIC_{min}$ be the minimum of those values. Then $P_{i}(AIC) = exp^{{\\frac{AIC_{min} − AIC_{i}}{2}}}$ can be interpreted as the relative probability that the ith model minimizes the (estimated) information loss\n",
    "\n",
    "## BIC\n",
    "\n",
    "BIC can be derived from AIC, although it comes from a different theoretical origin than AIC. It suffers from sample bias just as AIC (not AICc) does. \n",
    "\n",
    "The BIC generally penalizes free parameters more strongly than the Akaike information criterion, though it depends on the size of $n$ and relative magnitude of $n$ and $k$.\n",
    "\n",
    "It is important to keep in mind that the BIC can be used to compare estimated models only when the numerical values of the dependent variable are identical for all estimates being compared.\n",
    "\n",
    "The BIC for a particular model $i$ is given as:\n",
    "\n",
    "$$ BIC = -2 ln{\\left(P(D|M_{i})\\right)} + k\\ ln{(n)} $$\n",
    "\n"
   ]
  },
  {
   "cell_type": "code",
   "execution_count": 1,
   "metadata": {},
   "outputs": [
    {
     "data": {
      "image/png": "[encoded data removed]",
      "text/plain": [
       "<matplotlib.figure.Figure at 0x11a27d898>"
      ]
     },
     "metadata": {},
     "output_type": "display_data"
    }
   ],
   "source": [
    "%matplotlib inline\n",
    "import time\n",
    "\n",
    "import numpy as np\n",
    "import matplotlib.pyplot as plt\n",
    "\n",
    "from sklearn.linear_model import LassoCV, LassoLarsCV, LassoLarsIC\n",
    "from sklearn import datasets\n",
    "\n",
    "diabetes = datasets.load_diabetes()\n",
    "X = diabetes.data\n",
    "y = diabetes.target\n",
    "\n",
    "rng = np.random.RandomState(42)\n",
    "X = np.c_[X, rng.randn(X.shape[0], 14)]  # add some bad features\n",
    "\n",
    "X /= np.sqrt(np.sum(X ** 2, axis=0))\n",
    "\n",
    "##############################################################################\n",
    "### LassoLarsIC: least angle regression with BIC/AIC criterion\n",
    "\n",
    "model_bic = LassoLarsIC(criterion='bic')\n",
    "t1 = time.time()\n",
    "model_bic.fit(X, y)\n",
    "t_bic = time.time() - t1\n",
    "alpha_bic_ = model_bic.alpha_\n",
    "\n",
    "model_aic = LassoLarsIC(criterion='aic')\n",
    "model_aic.fit(X, y)\n",
    "alpha_aic_ = model_aic.alpha_\n",
    "\n",
    "def plot_ic_criterion(model, name, color):\n",
    "    alpha_ = model.alpha_\n",
    "    alphas_ = model.alphas_\n",
    "    criterion_ = model.criterion_\n",
    "    plt.plot(-np.log10(alphas_[:-1]), criterion_[:-1], '--', color=color,\n",
    "             linewidth=3, label='%s criterion' % name)\n",
    "    plt.axvline(-np.log10(alpha_), color=color, linewidth=3,\n",
    "                label='alpha: %s estimate' % name)\n",
    "    plt.xlabel('-log(alpha)')\n",
    "    plt.ylabel('criterion')\n",
    "\n",
    "plt.figure()\n",
    "plot_ic_criterion(model_aic, 'AIC', 'b')\n",
    "plot_ic_criterion(model_bic, 'BIC', 'r')\n",
    "plt.legend()\n",
    "plt.title('Information-criterion for model selection (training time %.3fs)'\n",
    "          % t_bic);"
   ]
  },
  {
   "cell_type": "markdown",
   "metadata": {
    "slideshow": {
     "slide_type": "slide"
    }
   },
   "source": [
    "<br>\n",
    "<br> \n",
    "<br>\n",
    "\n",
    "----"
   ]
  }
 ],
 "metadata": {
  "anaconda-cloud": {},
  "celltoolbar": "Slideshow",
  "kernelspec": {
   "display_name": "Python 3",
   "language": "python",
   "name": "python3"
  },
  "language_info": {
   "codemirror_mode": {
    "name": "ipython",
    "version": 3
   },
   "file_extension": ".py",
   "mimetype": "text/x-python",
   "name": "python",
   "nbconvert_exporter": "python",
   "pygments_lexer": "ipython3",
   "version": "3.6.1"
  }
 },
 "nbformat": 4,
 "nbformat_minor": 1
}
