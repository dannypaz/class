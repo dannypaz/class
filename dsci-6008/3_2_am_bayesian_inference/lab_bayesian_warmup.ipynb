{
 "cells": [
  {
   "cell_type": "markdown",
   "metadata": {},
   "source": [
    "Lab: Bayesian Inference\n",
    "------\n",
    "<br>\n",
    "<center><img src=\"https://s-media-cache-ak0.pinimg.com/originals/4a/eb/4c/4aeb4c2f01555272fa21b34b77bb2df2.jpg\" height=\"500\"/></center>"
   ]
  },
  {
   "cell_type": "markdown",
   "metadata": {},
   "source": [
    "-----\n",
    "\n",
    "**1).** Galvanize decides to do random drug tests for marijuana on their employees. They know that 3% of their population uses marijuana.\n",
    "\n",
    "The drug test has the following properties:\n",
    "\n",
    "|                | Uses marijuana | Doesn't use marijuana |\n",
    "|----------------|------------:|-------------------:|\n",
    "| Tests positive |        0.95 |               0.10 |\n",
    "| Tests negative |        0.05 |               0.90 |\n",
    "\n",
    "Edward gets tested and the test comes back positive. What is the probability that he uses marijuana?\n",
    "\n",
    "<br>\n",
    "<details><summary>\n",
    "Click here for a hint…\n",
    "</summary>\n",
    "P(A|B) = P(Edward_is_a_stoner|Postitive_test)\n",
    "</details>"
   ]
  },
  {
   "cell_type": "code",
   "execution_count": null,
   "metadata": {
    "collapsed": true
   },
   "outputs": [],
   "source": []
  },
  {
   "cell_type": "markdown",
   "metadata": {},
   "source": [
    "__3__)  Zed's Coin Box\n",
    "\n",
    "<center><img src=\"https://d18l82el6cdm1i.cloudfront.net/image_optimizer/fac44f241b9b876d2fd8f821a8bb2858bb9086e4.png\" height=\"500\"/></center>\n",
    "\n",
    "Zed's coin box contains 9 total coins:\n",
    "\n",
    "- 8 fair, standard coins (heads and tails) \n",
    "- 1 coin which has heads on both sides. \n",
    "\n",
    "He selects a coin randomly and flips it 4 times, getting all heads. \n",
    "\n",
    "What is probability that the coin is fair?"
   ]
  },
  {
   "cell_type": "code",
   "execution_count": null,
   "metadata": {
    "collapsed": true
   },
   "outputs": [],
   "source": []
  },
  {
   "cell_type": "markdown",
   "metadata": {
    "collapsed": true
   },
   "source": [
    "__3__)  Let's construct two models of a coin flip:\n",
    "\n",
    "1. The coin is absolutely fair. We are certain of it!\n",
    "2. The coin may not be fair.  We need to determine the parameters based on a uniform prior parameter $\\theta \\in \\left[0,1\\right]$"
   ]
  },
  {
   "cell_type": "markdown",
   "metadata": {
    "collapsed": true
   },
   "source": [
    "Write the model for #1\n",
    "<br>\n",
    "<details><summary>\n",
    "Click here for a hint…\n",
    "</summary>\n",
    "It will be a Bernouli parameter\n",
    "</details>"
   ]
  },
  {
   "cell_type": "code",
   "execution_count": null,
   "metadata": {
    "collapsed": true
   },
   "outputs": [],
   "source": []
  },
  {
   "cell_type": "markdown",
   "metadata": {
    "collapsed": true
   },
   "source": [
    "Write the model for #2\n",
    "\n",
    "<br>\n",
    "<details><summary>\n",
    "Click here for a hint…\n",
    "</summary>\n",
    "It will be related to #1 but more complex\n",
    "</details>"
   ]
  },
  {
   "cell_type": "code",
   "execution_count": null,
   "metadata": {
    "collapsed": true
   },
   "outputs": [],
   "source": []
  },
  {
   "cell_type": "markdown",
   "metadata": {
    "collapsed": true
   },
   "source": [
    "We flip the coin 100 times and get 61 heads.\n",
    "\n",
    "Calculate the posterior for model #1"
   ]
  },
  {
   "cell_type": "code",
   "execution_count": null,
   "metadata": {
    "collapsed": true
   },
   "outputs": [],
   "source": []
  },
  {
   "cell_type": "markdown",
   "metadata": {
    "collapsed": true
   },
   "source": [
    "Caculate the posterior for model #2"
   ]
  },
  {
   "cell_type": "code",
   "execution_count": null,
   "metadata": {
    "collapsed": true
   },
   "outputs": [],
   "source": []
  },
  {
   "cell_type": "markdown",
   "metadata": {},
   "source": [
    "Whih model does the Bayes factor support? How much?"
   ]
  },
  {
   "cell_type": "code",
   "execution_count": null,
   "metadata": {
    "collapsed": true
   },
   "outputs": [],
   "source": []
  },
  {
   "cell_type": "markdown",
   "metadata": {},
   "source": [
    "----\n",
    "Challenge Exercises\n",
    "----"
   ]
  },
  {
   "cell_type": "markdown",
   "metadata": {},
   "source": [
    "A GalvanizeU grad is looking for her first job!  Given that she is freaked out, her chances of not getting an offer are 70%.  Given that she is not freaked out, her chances of not getting an offer are 30%.  Suppose that the probability that she's freaked out is 80%. What's the probability that she gets an offer?"
   ]
  },
  {
   "cell_type": "code",
   "execution_count": null,
   "metadata": {
    "collapsed": true
   },
   "outputs": [],
   "source": []
  },
  {
   "cell_type": "markdown",
   "metadata": {
    "collapsed": true
   },
   "source": [
    "<br>\n",
    "<br> \n",
    "<br>\n",
    "\n",
    "----"
   ]
  }
 ],
 "metadata": {
  "anaconda-cloud": {},
  "kernelspec": {
   "display_name": "Python 3",
   "language": "python",
   "name": "python3"
  },
  "language_info": {
   "codemirror_mode": {
    "name": "ipython",
    "version": 3
   },
   "file_extension": ".py",
   "mimetype": "text/x-python",
   "name": "python",
   "nbconvert_exporter": "python",
   "pygments_lexer": "ipython3",
   "version": "3.6.1"
  }
 },
 "nbformat": 4,
 "nbformat_minor": 1
}
