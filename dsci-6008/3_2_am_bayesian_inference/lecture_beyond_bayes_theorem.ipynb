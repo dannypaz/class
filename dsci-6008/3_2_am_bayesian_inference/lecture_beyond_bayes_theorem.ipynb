{
 "cells": [
  {
   "cell_type": "markdown",
   "metadata": {
    "slideshow": {
     "slide_type": "slide"
    }
   },
   "source": [
    "Beyond Bayes Theorem\n",
    "----\n",
    "<br>\n",
    "<center><img src=\"https://c1.staticflickr.com/9/8337/8236104333_615abce076_z.jpg\" width=\"500\"/></center>"
   ]
  },
  {
   "cell_type": "markdown",
   "metadata": {
    "slideshow": {
     "slide_type": "slide"
    }
   },
   "source": [
    "By The End Of This Session You Should Be Able To:\n",
    "----\n",
    "\n",
    "- Write four different formulations of Bayes Law to handle most data types\n",
    "- Describe different types of priors\n",
    "- Calculate updated Posterior estimates\n"
   ]
  },
  {
   "cell_type": "markdown",
   "metadata": {
    "slideshow": {
     "slide_type": "slide"
    }
   },
   "source": [
    "Four Formulations of Bayes Law\n",
    "-----\n",
    "\n",
    "1. Both Discrete \n",
    "2. Both Continuous \n",
    "3. Discrete A, Continuous B\n",
    "4. Continuous A, Discrete B"
   ]
  },
  {
   "cell_type": "markdown",
   "metadata": {
    "slideshow": {
     "slide_type": "slide"
    }
   },
   "source": [
    "Both Discrete \n",
    "-----\n",
    "\n",
    "A is the person has symptom or not  \n",
    "B is the person has disease or not\n",
    "\n",
    "$$p_{B|A}(b\\ |\\ a) = \\dfrac{p_{A\\ |\\ B}(a\\ |\\ b)p_{B}(b)}{\\sum_{b}p_{A\\ |\\ B}(a\\ |\\ b)p_{B}(b)}$$"
   ]
  },
  {
   "cell_type": "markdown",
   "metadata": {
    "slideshow": {
     "slide_type": "slide"
    }
   },
   "source": [
    "Both Continuous\n",
    "----\n",
    "\n",
    "A is the person's temperature  \n",
    "B is the person's chance of dying"
   ]
  },
  {
   "cell_type": "markdown",
   "metadata": {
    "slideshow": {
     "slide_type": "fragment"
    }
   },
   "source": [
    "$$f_{B|A}(b\\ |\\ a) = \\dfrac{f_{A\\ |\\ B}(a\\ |\\ b)f_{B}(b)}{\\int_{b}f_{A\\ |\\ B}(a\\ |\\ b)f_{B}(b)db}$$\n",
    "\n",
    "$$f(a) = \\int_{b}f_{A\\ |\\ B}(a\\ |\\ b)f_{B}(b)db$$"
   ]
  },
  {
   "cell_type": "markdown",
   "metadata": {
    "slideshow": {
     "slide_type": "slide"
    }
   },
   "source": [
    "Discrete A, Continuous B\n",
    "-----\n",
    "\n",
    "A is the number of sales per quarter  \n",
    "B is the sales profit per per quarter\n",
    "\n",
    "$$f_{B|A}(b\\ |\\ a) = \\dfrac{p_{A\\ |\\ B}(a\\ |\\ b)f_{B}(b)}{\\sum_{b}p_{A\\ |\\ B}(a\\ |\\ b)f_{B}(b)db}$$\n",
    "\n",
    "$$p(a) = \\int_{b}p_{A\\ |\\ B}(a\\ |\\ b)f_{B}(b)db$$"
   ]
  },
  {
   "cell_type": "markdown",
   "metadata": {
    "slideshow": {
     "slide_type": "slide"
    }
   },
   "source": [
    "Continuous A, Discrete B\n",
    "------\n",
    "\n",
    "A is the distance walked  \n",
    "B is number of days in the hospital\n",
    "\n",
    "$$p_{B|A}(b\\ |\\ a) = \\dfrac{f_{A\\ |\\ B}(a\\ |\\ b)p_{B}(b)}{\\int_{b}f_{A\\ |\\ B}(a\\ |\\ b)p_{B}(b)db}$$\n",
    "\n",
    "$$f(a) = \\sum_{b}f_{A\\ |\\ B}(a\\ |\\ b)p_{B}(b)db$$\n"
   ]
  },
  {
   "cell_type": "markdown",
   "metadata": {
    "slideshow": {
     "slide_type": "slide"
    }
   },
   "source": [
    "Prior\n",
    "-----\n",
    "\n",
    "A distribution function describing the total probability of observing a given variable or parameter."
   ]
  },
  {
   "cell_type": "markdown",
   "metadata": {
    "slideshow": {
     "slide_type": "slide"
    }
   },
   "source": [
    "Prior creation methods\n",
    "------\n",
    "\n",
    "1. Past information, such as previous experiments. (most common)\n",
    "2. Expert analysis (research) will reveal an expected prior. (common)\n",
    "3. An **uninformative** prior can be created to reflect a balance among potential outcomes when no information is available.\n",
    "4. Priors can also be chosen according to some principle, such as symmetry or maximizing entropy, given constraints. (Machine learning)"
   ]
  },
  {
   "cell_type": "markdown",
   "metadata": {
    "slideshow": {
     "slide_type": "slide"
    }
   },
   "source": [
    "Priors Flavors\n",
    "-----\n",
    "\n",
    "- Informative Priors\n",
    "- Uninformative Priors"
   ]
  },
  {
   "cell_type": "markdown",
   "metadata": {
    "slideshow": {
     "slide_type": "slide"
    }
   },
   "source": [
    "Informative Priors\n",
    "----\n",
    "\n",
    "Often problems that have an understandable expected outcome and where the number of samples are relatively limited.\n",
    "\n",
    "Make a clear description of a distribution of hypotheses.\n",
    "\n",
    "Typically chosen to be representative of the likelihood function. "
   ]
  },
  {
   "cell_type": "markdown",
   "metadata": {
    "slideshow": {
     "slide_type": "slide"
    }
   },
   "source": [
    "Uninformative Priors\n",
    "-----\n",
    "\n",
    "Useful in the case where many samples are available\n",
    "\n",
    "Wishes to avoid making assumptions about the system"
   ]
  },
  {
   "cell_type": "markdown",
   "metadata": {
    "slideshow": {
     "slide_type": "slide"
    }
   },
   "source": [
    "Check for understanding\n",
    "------\n",
    "\n",
    "What is the most common uninformative prior?"
   ]
  },
  {
   "cell_type": "markdown",
   "metadata": {
    "slideshow": {
     "slide_type": "fragment"
    }
   },
   "source": [
    "<center><img src=\"https://upload.wikimedia.org/wikipedia/commons/thumb/9/96/Uniform_Distribution_PDF_SVG.svg/1280px-Uniform_Distribution_PDF_SVG.svg.png\" width=\"500\"/></center>\n",
    "\n",
    "Uniform distribution $P(x) = \\dfrac{1}{b-a}$"
   ]
  },
  {
   "cell_type": "markdown",
   "metadata": {
    "slideshow": {
     "slide_type": "slide"
    }
   },
   "source": [
    "Bayesian Updating\n",
    "----"
   ]
  },
  {
   "cell_type": "markdown",
   "metadata": {
    "slideshow": {
     "slide_type": "fragment"
    }
   },
   "source": [
    "<center><img src=\"https://cdn.meme.am/cache/instances/folder69/64959069.jpg\" width=\"500\"/></center>\n",
    "\n"
   ]
  },
  {
   "cell_type": "markdown",
   "metadata": {
    "slideshow": {
     "slide_type": "slide"
    }
   },
   "source": [
    "Three different types of coins:\n",
    "\n",
    "A: Fair - %50 chance that this coin will come up heads    \n",
    "B: Slightly Biased - %60 chance that this coin will come up heads   \n",
    "C: Heavily Biased - %90 chance that this coin will come up heads   \n",
    "\n",
    "All coins appear visually to be identical."
   ]
  },
  {
   "cell_type": "markdown",
   "metadata": {
    "slideshow": {
     "slide_type": "fragment"
    }
   },
   "source": [
    "Let's say that I have 8 coins in a drawer: 2 of type A, 5 of type B, and 1 of type C. \n",
    "\n",
    "I grab a coin at random and flip it, getting __a head__. What is the probability that it is type A, B, or C?"
   ]
  },
  {
   "cell_type": "markdown",
   "metadata": {
    "slideshow": {
     "slide_type": "skip"
    }
   },
   "source": [
    "(https://ocw.mit.edu/courses/mathematics/18-05-introduction-to-probability-and-statistics-spring-2014/readings/MIT18_05S14_Reading11.pdf"
   ]
  },
  {
   "cell_type": "markdown",
   "metadata": {
    "slideshow": {
     "slide_type": "slide"
    }
   },
   "source": [
    "What are the likelihoods we need to compute?\n",
    "------"
   ]
  },
  {
   "cell_type": "markdown",
   "metadata": {
    "slideshow": {
     "slide_type": "fragment"
    }
   },
   "source": [
    "P(A|H)  \n",
    "P(B|H)  \n",
    "P(C|H)  "
   ]
  },
  {
   "cell_type": "markdown",
   "metadata": {
    "slideshow": {
     "slide_type": "slide"
    }
   },
   "source": [
    "What are the priors?\n",
    "------"
   ]
  },
  {
   "cell_type": "markdown",
   "metadata": {
    "slideshow": {
     "slide_type": "fragment"
    }
   },
   "source": [
    "P(A) = 0.25  \n",
    "P(B) = 0.625  \n",
    "P(C) = 0.125"
   ]
  },
  {
   "cell_type": "markdown",
   "metadata": {
    "slideshow": {
     "slide_type": "slide"
    }
   },
   "source": [
    "What are the likelihoods?\n",
    "-----"
   ]
  },
  {
   "cell_type": "markdown",
   "metadata": {
    "slideshow": {
     "slide_type": "fragment"
    }
   },
   "source": [
    "This is the \"likelihood\" (probability) of the data assuming the given hypothesis is true. "
   ]
  },
  {
   "cell_type": "markdown",
   "metadata": {
    "slideshow": {
     "slide_type": "fragment"
    }
   },
   "source": [
    "P(H|A) = 0.5  \n",
    "P(H|B) = 0.6  \n",
    "P(H|C) = 0.9"
   ]
  },
  {
   "cell_type": "markdown",
   "metadata": {
    "slideshow": {
     "slide_type": "slide"
    }
   },
   "source": [
    "What are posteriors?\n",
    "------"
   ]
  },
  {
   "cell_type": "markdown",
   "metadata": {
    "slideshow": {
     "slide_type": "fragment"
    }
   },
   "source": [
    "$$ P(*\\ |\\ H) = \\dfrac{P(H\\ |\\ *)P(*)}{P(H)}$$"
   ]
  },
  {
   "cell_type": "markdown",
   "metadata": {
    "slideshow": {
     "slide_type": "fragment"
    }
   },
   "source": [
    "$$ P(A\\ |\\ H) = \\dfrac{0.5 * 0.25}{0.5*0.25+0.6*0.625+0.9*0.125} = 0.20$$\n",
    "\n",
    "$$ P(B\\ |\\ H) = \\dfrac{0.6 * 0.625}{0.5*0.25+0.6*0.625+0.9*0.125} = 0.61$$\n",
    "\n",
    "$$ P(C\\ |\\ H) = \\dfrac{0.9 * 0.25}{0.5*0.25+0.6*0.625+0.9*0.125} = 0.18$$\n"
   ]
  },
  {
   "cell_type": "markdown",
   "metadata": {
    "slideshow": {
     "slide_type": "slide"
    }
   },
   "source": [
    "> Yesterday’s posterior is today’s _\\____."
   ]
  },
  {
   "cell_type": "markdown",
   "metadata": {
    "slideshow": {
     "slide_type": "fragment"
    }
   },
   "source": [
    "> Yesterday’s posterior is today’s prior. "
   ]
  },
  {
   "cell_type": "markdown",
   "metadata": {
    "slideshow": {
     "slide_type": "slide"
    }
   },
   "source": [
    "Posteriors of Future Priors\n",
    "-----\n",
    "<br>\n",
    "<center><img src=\"https://static.comicvine.com/uploads/original/11115/111158682/3893425-9058083755-x_men.jpg\" width=\"500\"/></center>"
   ]
  },
  {
   "cell_type": "markdown",
   "metadata": {
    "slideshow": {
     "slide_type": "slide"
    }
   },
   "source": [
    "Bayesian update \n",
    "-----\n",
    "\n",
    "We now change the old posterior to the new prior."
   ]
  },
  {
   "cell_type": "markdown",
   "metadata": {
    "slideshow": {
     "slide_type": "fragment"
    }
   },
   "source": [
    "We are only changing our belief that the coin we took belongs to one of the three classes. \n",
    "\n",
    "The likelihood that we would get any result does __not__ change."
   ]
  },
  {
   "cell_type": "markdown",
   "metadata": {
    "slideshow": {
     "slide_type": "slide"
    }
   },
   "source": [
    "New Priors\n",
    "-----\n",
    "\n",
    "P(A) = 0.20  \n",
    "P(B) = 0.61  \n",
    "P(C) = 0.18"
   ]
  },
  {
   "cell_type": "markdown",
   "metadata": {
    "slideshow": {
     "slide_type": "slide"
    }
   },
   "source": [
    "Likelihood (some old)\n",
    "-----"
   ]
  },
  {
   "cell_type": "markdown",
   "metadata": {
    "slideshow": {
     "slide_type": "fragment"
    }
   },
   "source": [
    "P(H|A) = 0.5  \n",
    "P(H|B) = 0.6   \n",
    "P(H|C) = 0.9  "
   ]
  },
  {
   "cell_type": "markdown",
   "metadata": {
    "slideshow": {
     "slide_type": "slide"
    }
   },
   "source": [
    "Updated Posteriors:\n",
    "-----"
   ]
  },
  {
   "cell_type": "markdown",
   "metadata": {
    "slideshow": {
     "slide_type": "fragment"
    }
   },
   "source": [
    "$$ P(A\\ |\\ H) = \\dfrac{0.5 * 0.20}{0.5*0.20+0.6*0.61+0.9*0.18} = 0.16$$\n",
    "\n",
    "$$ P(B\\ |\\ H) = \\dfrac{0.6 * 0.61}{0.5*0.20+0.6*0.61+0.9*0.18} = 0.58$$\n",
    "\n",
    "$$ P(C\\ |\\ H) = \\dfrac{0.9 * 0.18}{0.5*0.20+0.6*0.61+0.9*0.18} = 0.26$$"
   ]
  },
  {
   "cell_type": "markdown",
   "metadata": {
    "slideshow": {
     "slide_type": "slide"
    }
   },
   "source": [
    "Check for understanding\n",
    "-----\n",
    "\n",
    "When do we stop updating?"
   ]
  },
  {
   "cell_type": "markdown",
   "metadata": {
    "slideshow": {
     "slide_type": "fragment"
    }
   },
   "source": [
    "1. When posterior does not change\n",
    "2. We have to go do something else"
   ]
  },
  {
   "cell_type": "code",
   "execution_count": 1,
   "metadata": {
    "collapsed": true,
    "slideshow": {
     "slide_type": "skip"
    }
   },
   "outputs": [],
   "source": [
    "reset -fs"
   ]
  },
  {
   "cell_type": "code",
   "execution_count": 5,
   "metadata": {
    "collapsed": true,
    "slideshow": {
     "slide_type": "slide"
    }
   },
   "outputs": [],
   "source": [
    "import scipy.stats as st\n",
    "import matplotlib.pyplot as plt\n",
    "import numpy as np\n",
    "\n",
    "%matplotlib inline"
   ]
  },
  {
   "cell_type": "code",
   "execution_count": 7,
   "metadata": {
    "collapsed": true,
    "slideshow": {
     "slide_type": "slide"
    }
   },
   "outputs": [],
   "source": [
    "def bern_post(n_params=100, n_sample=100, true_p=.8, prior_p=.5, n_prior=100):\n",
    "    \"Calculate the posterior for Bernoulli trial and plot updates\"\n",
    "    params = np.linspace(0, 1, n_params)\n",
    "    sample = np.random.binomial(n=1, p=true_p, size=n_sample)\n",
    "    \n",
    "    likelihood = np.array([np.product(st.bernoulli.pmf(sample, p)) for p in params])\n",
    "    \n",
    "    prior_sample = np.random.binomial(n=1, p=prior_p, size=n_prior)\n",
    "    prior = np.array([np.product(st.bernoulli.pmf(prior_sample, p)) for p in params])\n",
    "    prior = prior / np.sum(prior)\n",
    "    \n",
    "    posterior = [prior[i] * likelihood[i] for i in range(prior.shape[0])]\n",
    "    posterior = posterior / np.sum(posterior)\n",
    "\n",
    "    fig, axes = plt.subplots(3, 1, sharex=True, figsize=(8,8))\n",
    "    axes[0].plot(params, likelihood)\n",
    "    axes[0].set_title(\"Sampling Distribution\")\n",
    "    axes[1].plot(params, prior)\n",
    "    axes[1].set_title(\"Prior Distribution\")\n",
    "    axes[2].plot(params, posterior)\n",
    "    axes[2].set_title(\"Posterior Distribution\")\n",
    "    plt.tight_layout()"
   ]
  },
  {
   "cell_type": "code",
   "execution_count": 4,
   "metadata": {
    "slideshow": {
     "slide_type": "slide"
    }
   },
   "outputs": [
    {
     "data": {
      "image/png": "[encoded data removed]",
      "text/plain": [
       "<matplotlib.figure.Figure at 0x109569f28>"
      ]
     },
     "metadata": {},
     "output_type": "display_data"
    }
   ],
   "source": [
    "bern_post(n_sample=1000)"
   ]
  },
  {
   "cell_type": "markdown",
   "metadata": {
    "slideshow": {
     "slide_type": "slide"
    }
   },
   "source": [
    "Summary\n",
    "-----\n",
    "\n",
    "- Bayes Law can be caculated for all combinations of discrete and continuous variables.\n",
    "- Priors can be Informative or Uninformative.\n",
    "- We can calculate updated Posterior estimates which become future Priors."
   ]
  },
  {
   "cell_type": "markdown",
   "metadata": {
    "slideshow": {
     "slide_type": "slide"
    }
   },
   "source": [
    "<br>\n",
    "<br> \n",
    "<br>\n",
    "\n",
    "----"
   ]
  }
 ],
 "metadata": {
  "anaconda-cloud": {},
  "celltoolbar": "Slideshow",
  "kernelspec": {
   "display_name": "Python 3",
   "language": "python",
   "name": "python3"
  },
  "language_info": {
   "codemirror_mode": {
    "name": "ipython",
    "version": 3
   },
   "file_extension": ".py",
   "mimetype": "text/x-python",
   "name": "python",
   "nbconvert_exporter": "python",
   "pygments_lexer": "ipython3",
   "version": "3.6.1"
  }
 },
 "nbformat": 4,
 "nbformat_minor": 1
}
