{
 "cells": [
  {
   "cell_type": "markdown",
   "metadata": {},
   "source": [
    "## Exercises Solutions"
   ]
  },
  {
   "cell_type": "markdown",
   "metadata": {
    "slideshow": {
     "slide_type": "slide"
    }
   },
   "source": [
    "-----\n",
    "\n",
    "**1).** Galvanize decides to do random drug tests for marijuana on their employees. They know that 3% of their population uses marijuana. The drug test has the following accuracy: The test correctly identifies 95% of the marijuana users and 90% of the non-users.\n",
    "\n",
    "|                | Uses marijuana | Doesn't use marijuana |\n",
    "|----------------|------------:|-------------------:|\n",
    "| Tests positive |        0.95 |               0.10 |\n",
    "| Tests negative |        0.05 |               0.90 |\n",
    "\n",
    "Jared gets tested and the test comes back positive. What is the probability that he uses marijuana?\n",
    "   \n",
    "\\begin{align*}\n",
    "P(\\text{uses marijuana } | \\text{ tests positive}) \n",
    "&= \\frac{P(\\text{tests positive } | \\text{ uses marijuana})P(\\text{uses marijuana})}{P(\\text{tests positive})}\n",
    "\\\\\n",
    "&= \\frac{0.95*0.03}{0.03*.95 + ((1-.03)*0.10)}\n",
    "\\\\\n",
    "&\\approx 0.227\n",
    "\\end{align*}\n",
    "\n"
   ]
  },
  {
   "cell_type": "markdown",
   "metadata": {},
   "source": [
    "__2__)\n",
    "\n",
    "<center><img src=\"../images/example.png\" height=\"500\"/></center>"
   ]
  },
  {
   "cell_type": "markdown",
   "metadata": {},
   "source": [
    "__3__)\n",
    "\n",
    "\n",
    "$M_{1}$: The coin is absolutely fair, and we are certain of it. Thus we model this by $P(H) = 0.5$, so that the Bernoulli parameter $\\theta = \\frac{1}{2}$:\n",
    "\n",
    "$$P(M_{1}) = {{n}\\choose{k}}\\theta^{n} $$\n",
    "\n",
    "$M_{2}$: The coin may not be fair. We need to determine the parameters based on a uniform prior parameter $\\theta \\in \\left[0,1\\right]$\n",
    "\n",
    "$$P(M_{2}) = \\int_{0}^{1}{{n}\\choose{k}}\\theta^{k}(1-\\theta)^{n-k}d\\theta $$\n",
    "\n",
    "Suppose we flip the coin 100 times and get 61 heads. Calculating the posteriors for each:\n",
    "\n",
    "$$M_{1} = {{100}\\choose{61}}{\\frac{1}{2}}^{100} = 0.0071$$\n",
    "\n",
    "$$M_{2} = {{100}\\choose{61}}\\int_{0}^{1}{q}^{61}(1-q)^{39}dq$$\n",
    "\n",
    "$$= \\dfrac{\\Gamma(m+1)\\Gamma(n-m+1)}{\\Gamma(n+2)} = \\dfrac{n!}{m!(n-m)!}\\cdot\\dfrac{m!(n-m)!}{(n+1)!} $$\n",
    "\n",
    "$$= \\dfrac{n!}{m!(n-m)!}\\cdot\\dfrac{m!(n-m)!}{(n+1)!} = \\dfrac{n!}{(n+1)!} = \\dfrac{1}{n+1}$$\n",
    "\n",
    "$$M_{2} = 0.01$$\n",
    "\n",
    "The Bayes factor is slightly in favor of the second model.\n",
    "\n",
    "In this case it looks like $M_{2}$ is weakly supported here. \n"
   ]
  },
  {
   "cell_type": "code",
   "execution_count": 3,
   "metadata": {},
   "outputs": [
    {
     "data": {
      "text/plain": [
       "0.7100000000000001"
      ]
     },
     "execution_count": 3,
     "metadata": {},
     "output_type": "execute_result"
    }
   ],
   "source": [
    "0.0071 / 0.01 # M2 is better than M1"
   ]
  },
  {
   "cell_type": "code",
   "execution_count": 4,
   "metadata": {},
   "outputs": [
    {
     "data": {
      "text/plain": [
       "1.408450704225352"
      ]
     },
     "execution_count": 4,
     "metadata": {},
     "output_type": "execute_result"
    }
   ],
   "source": [
    "0.01 / 0.0071 # Flip to see how much better\n",
    "\n",
    "# Barely worth mentioning"
   ]
  },
  {
   "cell_type": "markdown",
   "metadata": {
    "collapsed": true
   },
   "source": [
    "1.4 is \"Barely worth mentioning\""
   ]
  },
  {
   "cell_type": "markdown",
   "metadata": {},
   "source": [
    "----\n",
    "Challenge Exercises\n",
    "----"
   ]
  },
  {
   "cell_type": "markdown",
   "metadata": {},
   "source": [
    "----\n",
    "A GalvanizeU grad is looking for her first job! Given that she is freaked out, her chances of not getting an offer are 70%. Given that she isn't freaked out, her chances of not getting an offer are 30%. Suppose that the probability that she's freaked out is 80%. What's the probability that she gets an offer?\n"
   ]
  },
  {
   "cell_type": "markdown",
   "metadata": {},
   "source": [
    "\\begin{align*}\n",
    "P(\\text{she gets an offer})\n",
    "&= 1 - P(\\text{no offer } | \\text{ freaked out})P(\\text{freaked out}) - P(\\text{no offer } | \\text{ not freaked out})P(\\text{not freaked out})\n",
    "\\\\\n",
    "&= 1 - 0.8*0.7 - 0.2*0.3\n",
    "\\\\\n",
    "&= 0.38\n",
    "\\end{align*}"
   ]
  }
 ],
 "metadata": {
  "kernelspec": {
   "display_name": "Python 3",
   "language": "python",
   "name": "python3"
  },
  "language_info": {
   "codemirror_mode": {
    "name": "ipython",
    "version": 3
   },
   "file_extension": ".py",
   "mimetype": "text/x-python",
   "name": "python",
   "nbconvert_exporter": "python",
   "pygments_lexer": "ipython3",
   "version": "3.6.1"
  }
 },
 "nbformat": 4,
 "nbformat_minor": 1
}
