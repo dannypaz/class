{
 "cells": [
  {
   "cell_type": "markdown",
   "metadata": {
    "slideshow": {
     "slide_type": "slide"
    }
   },
   "source": [
    "Bayes Theorem\n",
    "----\n",
    "<br>\n",
    "<center><img src=\"https://upload.wikimedia.org/wikipedia/commons/thumb/1/18/Bayes%27_Theorem_MMB_01.jpg/1200px-Bayes%27_Theorem_MMB_01.jpg\" width=\"500\"/></center>"
   ]
  },
  {
   "cell_type": "markdown",
   "metadata": {
    "slideshow": {
     "slide_type": "slide"
    }
   },
   "source": [
    "By The End Of This Session You Should Be Able To:\n",
    "----\n",
    "\n",
    "- Explain Bayes' Theorem in your words\n",
    "- Write Bayes' Theorem in probability notation\n",
    "- Apply Bayes' Theorem to solve a Data Science problem"
   ]
  },
  {
   "cell_type": "markdown",
   "metadata": {
    "slideshow": {
     "slide_type": "slide"
    }
   },
   "source": [
    "How would you explain Bayes Theorem to your niece (or pointy-haired boss)?\n",
    "-----"
   ]
  },
  {
   "cell_type": "markdown",
   "metadata": {
    "slideshow": {
     "slide_type": "fragment"
    }
   },
   "source": [
    "A simple rule for updating your degree of belief in an idea (hypothesis) when you receive new evidence.\n",
    "\n",
    "If you get more evidence for something, you should be more likely to believe it is true."
   ]
  },
  {
   "cell_type": "markdown",
   "metadata": {
    "slideshow": {
     "slide_type": "slide"
    }
   },
   "source": [
    "BAYES' THEOREM\n",
    "-----\n",
    "\n",
    "$$ P(A|B) = \\frac{P(B|A) \\times P(A)}{P(B)} $$"
   ]
  },
  {
   "cell_type": "markdown",
   "metadata": {
    "slideshow": {
     "slide_type": "slide"
    }
   },
   "source": [
    "Let's apply Bayes' Theorem to real life problem\n",
    "------\n",
    "<br>\n",
    "<!--small>*this example taken from [the Cartoon Guide to Statistics](http://www.harpercollins.com/browseinside/index.aspx?isbn13=9780062731029) by Larry Gonick & Woollcott Smith*</small-->  \n",
    "<center><img src=\"https://www.clear.rice.edu/comp130/12spring/bayes/Thomas_Bayes.gif\" width=\"400\"/></center>\n",
    "\n",
    "Suppose a disease infects one out of every 1000 people in a population...\n",
    "\n",
    "And suppose there is a good, but not perfect, test for this disease: if a person has the disease, the test comes back positive 99% of the time. On the other hand, the test also makes mistakes. About 2% of uninfected patients also test positive, *false positives*.\n",
    "\n",
    "You just tested positive. What are your chances of having the disease?"
   ]
  },
  {
   "cell_type": "markdown",
   "metadata": {
    "slideshow": {
     "slide_type": "slide"
    }
   },
   "source": [
    "There are 2 events:\n",
    "\n",
    "__A__ : patient has the disease  \n",
    "__B__ : patient tests positive  \n",
    "\n",
    "The information about the test's effectiveness can be written:\n",
    "\n",
    "P(A) = .001\n",
    "\n",
    "P(B|A) = .99\n",
    "\n",
    "P(B|A^c) = .02\n",
    "\n",
    "\n",
    "P(A|B) = ?"
   ]
  },
  {
   "cell_type": "markdown",
   "metadata": {
    "slideshow": {
     "slide_type": "slide"
    }
   },
   "source": [
    "Let's draw a tree…\n",
    "----\n",
    "\n",
    "<center><img src=\"images/bayes_theorem.png\" width=\"500\"/></center>\n",
    "\n",
    "http://onlinestatbook.com/2/probability/bayes_demo.html"
   ]
  },
  {
   "cell_type": "markdown",
   "metadata": {
    "slideshow": {
     "slide_type": "slide"
    }
   },
   "source": [
    "Let's draw pictures\n",
    "------\n",
    "\n",
    "<center><img src=\"https://d18l82el6cdm1i.cloudfront.net/image_optimizer/f7cd192935d8afc0dd2d38a44f565d388855fd0b.jpg\" width=\"600\"/></center>"
   ]
  },
  {
   "cell_type": "markdown",
   "metadata": {
    "slideshow": {
     "slide_type": "slide"
    }
   },
   "source": [
    "<center><img src=\"https://d18l82el6cdm1i.cloudfront.net/image_optimizer/713a6887803bb620809843e9c1b68228dec8a913.jpg\" width=\"600\"/></center>\n",
    "\n",
    "[Source](https://brilliant.org/wiki/bayes-theorem/)"
   ]
  },
  {
   "cell_type": "markdown",
   "metadata": {
    "slideshow": {
     "slide_type": "slide"
    }
   },
   "source": [
    "Now boring numbers\n",
    "------\n",
    "|            | &nbsp; &nbsp; &nbsp;  &nbsp; &nbsp; &nbsp; A &nbsp; &nbsp; &nbsp;  &nbsp; &nbsp; &nbsp; | &nbsp; &nbsp; &nbsp;  &nbsp; &nbsp; not A &nbsp; &nbsp; &nbsp;  &nbsp; &nbsp; |  &nbsp; &nbsp; sum  &nbsp; &nbsp; |\n",
    "| ----------:| ------------ | ------------------ | ---- |\n",
    "|     __B__ | $P(A\\cap B)$  | $P(A^c \\cap B)$    | $P(B)$ |\n",
    "| __not B__ | $P(A \\cap B^c)$ | $P(A^c \\cap B^c)$ | $P(B^c)$ \n",
    "|           | $P(A)$           | $P(A^c)$           | $1$"
   ]
  },
  {
   "cell_type": "markdown",
   "metadata": {
    "slideshow": {
     "slide_type": "slide"
    }
   },
   "source": [
    "$ P(A \\cap B) = P(B|A)P(A) = (.99)(.001) = .00099 $  \n",
    "$ P(A^c \\cap B) = P(B|A^c)P(A^c) = (.02)(.999) = .01998 $\n",
    "\n",
    "\n",
    "Let's fill in some of these numbers:  \n",
    "\n",
    "|            | &nbsp; &nbsp; &nbsp;  &nbsp; &nbsp; &nbsp; A &nbsp; &nbsp; &nbsp;  &nbsp; &nbsp; &nbsp; | &nbsp; &nbsp; &nbsp;  &nbsp; &nbsp; not A &nbsp; &nbsp; &nbsp;  &nbsp; &nbsp; |  &nbsp; &nbsp; sum  &nbsp; &nbsp; |\n",
    "| ----------:| ------------ | ------------------ | ---- |\n",
    "|     __B__ | $.00099$        | $.01998$             | $.02097$    |\n",
    "| __not B__ | $P(A \\cap B^c)$   | $P(A^c \\cap B^c)$   | $P(B^c)$ |\n",
    "|           | $.001$          | $.999$               | $1$         |"
   ]
  },
  {
   "cell_type": "markdown",
   "metadata": {
    "slideshow": {
     "slide_type": "slide"
    }
   },
   "source": [
    "Arithmetic gives us the rest:  \n",
    "\n",
    "|           | A              | not A              | sum  |\n",
    "| ---------:| -------------- | ------------------ | ---- |\n",
    "|     __B__ | $.00099$       | $.01998$           | $.02097$ |\n",
    "| __not B__ | $.00001$       | $.97902$           | $.98903$ \n",
    "|           | $.001$         | $.999$             | $1.0$\n",
    "\n",
    "From which we directly derive: <BR /><BR />\n",
    "$$ P(A|B) = \\frac{P(A \\cap B)}{P(B)} = \\frac{.00099}{.02097} = .0472 $$"
   ]
  },
  {
   "cell_type": "markdown",
   "metadata": {
    "slideshow": {
     "slide_type": "slide"
    }
   },
   "source": [
    "Bayes Theorm for Experiments\n",
    "-----\n",
    "<br>\n",
    "<center><img src=\"images/bayes-rule.png\" width=\"600\"/></center>"
   ]
  },
  {
   "cell_type": "markdown",
   "metadata": {
    "slideshow": {
     "slide_type": "slide"
    }
   },
   "source": [
    "The Bayesian state of mind\n",
    "-----\n",
    "\n",
    "We are interested in beliefs, which can be interpreted as probabilities.\n",
    "\n",
    "We have a prior belief about an event, beliefs formed by previous information. We use that information then update it as we get more empirical data.\n",
    "\n",
    "[Source](http://nbviewer.jupyter.org/github/CamDavidsonPilon/Probabilistic-Programming-and-Bayesian-Methods-for-Hackers/blob/master/Chapter1_Introduction/Ch1_Introduction_PyMC2.ipynb)"
   ]
  },
  {
   "cell_type": "markdown",
   "metadata": {
    "slideshow": {
     "slide_type": "slide"
    }
   },
   "source": [
    "Summary\n",
    "-----\n",
    "\n",
    "- Bayes Theorem is a one of the best ideas in human history.\n",
    "- Bayes Theorem is a elegant method to calculate conditional probabilities.\n",
    "- Can be used to solve many DS problems"
   ]
  },
  {
   "cell_type": "markdown",
   "metadata": {
    "slideshow": {
     "slide_type": "slide"
    }
   },
   "source": [
    "----\n",
    "Bonus Material\n",
    "----\n",
    "\n"
   ]
  },
  {
   "cell_type": "markdown",
   "metadata": {
    "slideshow": {
     "slide_type": "slide"
    }
   },
   "source": [
    "<br>\n",
    "<br> \n",
    "<br>\n",
    "\n",
    "----"
   ]
  }
 ],
 "metadata": {
  "anaconda-cloud": {},
  "celltoolbar": "Slideshow",
  "kernelspec": {
   "display_name": "Python 3",
   "language": "python",
   "name": "python3"
  },
  "language_info": {
   "codemirror_mode": {
    "name": "ipython",
    "version": 3
   },
   "file_extension": ".py",
   "mimetype": "text/x-python",
   "name": "python",
   "nbconvert_exporter": "python",
   "pygments_lexer": "ipython3",
   "version": "3.6.1"
  }
 },
 "nbformat": 4,
 "nbformat_minor": 1
}
