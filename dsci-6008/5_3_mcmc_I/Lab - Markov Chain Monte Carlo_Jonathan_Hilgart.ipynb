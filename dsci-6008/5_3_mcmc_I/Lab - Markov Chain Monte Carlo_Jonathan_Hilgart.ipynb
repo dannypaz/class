{
 "cells": [
  {
   "cell_type": "markdown",
   "metadata": {},
   "source": [
    "Part 1: Markov chains\n",
    "\n",
    "Markov chains are crucial to Markov Chain Monte Carlo (as you would expect). So, we'll spend a few minutes here practicing with them and looking at a few properties.\n",
    "\n",
    "As noted in the lecture, the state of a Markov chain is dependent on only its most recent previous state. This is made clear by this factorization:\n",
    "\n",
    "$$P(x_t|x_{t-1}, x_{t-2}, ..., x_{0}) = P(x_t | x_{t-1})$$\n",
    "\n",
    "This is known as the \"memorylessness\" property.\n",
    "\n",
    "Additionally, for use in MCMC, our Markov chains need to have the ergodic property. In other words, they must be irreducible, time-homogenous, aperiodic, and have a stationary distribution.\n",
    "\n",
    "(Irreducible: Every state is reachable from every other state.)\n",
    "\n",
    "(Time-homogenous: The transition matrix does not depend on the sampling time step.)\n",
    "\n",
    "(Aperiodic: There are (generally) no constraints on path length between states.)\n",
    "\n",
    "The Markov chain transition matrix must also be a \"stochastic matrix\": all values are nonnegative, and every row sums to one."
   ]
  },
  {
   "cell_type": "markdown",
   "metadata": {},
   "source": [
    "1) Implement a predicate function to determine if a given matrix is a stochastic matrix. You may assume the input is a 2-dimensional square `numpy` array."
   ]
  },
  {
   "cell_type": "code",
   "execution_count": 2,
   "metadata": {
    "collapsed": true
   },
   "outputs": [],
   "source": [
    "import numpy as np"
   ]
  },
  {
   "cell_type": "code",
   "execution_count": 58,
   "metadata": {
    "collapsed": true
   },
   "outputs": [],
   "source": [
    "def stochastic_matrix(matrix):\n",
    "    \"\"\"Test if a 2d numpy square to see is it is stochastic\"\"\"\n",
    "    rows = len(matrix)\n",
    "    row_sums = matrix.sum(axis=1)\n",
    "    non_negative = (matrix<0).sum()\n",
    "    if non_negative>0:\n",
    "        return False\n",
    "    equal_one = sum(row_sums!=1)\n",
    "    if equal_one != 0:\n",
    "        return False\n",
    "    return True"
   ]
  },
  {
   "cell_type": "code",
   "execution_count": 64,
   "metadata": {
    "collapsed": true
   },
   "outputs": [],
   "source": [
    "t = np.array([[0,1.0],\n",
    "             [.8,.2]])\n",
    "f = np.array([[-.10,1.0],\n",
    "             [.8,.2]])\n",
    "rand = np.random.rand(3,3)"
   ]
  },
  {
   "cell_type": "code",
   "execution_count": 65,
   "metadata": {},
   "outputs": [
    {
     "data": {
      "text/plain": [
       "array([[ 0.82321877,  0.44485942,  0.07068085],\n",
       "       [ 0.87150805,  0.74780502,  0.85406448],\n",
       "       [ 0.0112646 ,  0.26523912,  0.86184398]])"
      ]
     },
     "execution_count": 65,
     "metadata": {},
     "output_type": "execute_result"
    }
   ],
   "source": [
    "rand"
   ]
  },
  {
   "cell_type": "code",
   "execution_count": 66,
   "metadata": {
    "collapsed": true
   },
   "outputs": [],
   "source": [
    "assert stochastic_matrix(t) == True\n",
    "assert stochastic_matrix(f) == False\n",
    "assert stochastic_matrix(rand) == False"
   ]
  },
  {
   "cell_type": "markdown",
   "metadata": {},
   "source": [
    "2) Given a finite square transition matrix, how could you verify that it is irreducible? Think algorithmically. (Note that I am asking for a plain-English explanation. If you wish, you can implement a function for this but it is not required.)"
   ]
  },
  {
   "cell_type": "markdown",
   "metadata": {
    "collapsed": true
   },
   "source": [
    " - Use the properties of the stochastic matrix but also impose the constraint that no row can only have one entry as a one and everying else as a zero"
   ]
  },
  {
   "cell_type": "code",
   "execution_count": null,
   "metadata": {
    "collapsed": true
   },
   "outputs": [],
   "source": []
  },
  {
   "cell_type": "markdown",
   "metadata": {},
   "source": [
    "3) Implement a function that computes one step of a Markov chain. It should take as input a sample vector and a transition matrix, and return a new probability vector. You may assume the inputs are semantically valid for the Markov chain (i.e. that the sample vector sums to one, and that the transition matrix is ergodic).\n",
    "\n",
    "You can begin with this boilerplate:\n",
    "\n",
    "```python\n",
    "def step_markov_chain(sample, transition_matrix):\n",
    "    # do work\n",
    "    return new_sample\n",
    "```"
   ]
  },
  {
   "cell_type": "code",
   "execution_count": 67,
   "metadata": {
    "collapsed": true
   },
   "outputs": [],
   "source": [
    "def step_markov_chain(sample, transition_matrix):\n",
    "    new_sample = sample @ transition_matrix\n",
    "    return new_sample"
   ]
  },
  {
   "cell_type": "code",
   "execution_count": 68,
   "metadata": {
    "collapsed": true
   },
   "outputs": [],
   "source": [
    "s = np.array([.2,.8])\n",
    "transition = np.array([[.2,.8],\n",
    "                      [.7,.3]])"
   ]
  },
  {
   "cell_type": "code",
   "execution_count": 70,
   "metadata": {},
   "outputs": [
    {
     "data": {
      "text/plain": [
       "array([ 0.6,  0.4])"
      ]
     },
     "execution_count": 70,
     "metadata": {},
     "output_type": "execute_result"
    }
   ],
   "source": [
    "step_markov_chain(s,transition)"
   ]
  },
  {
   "cell_type": "markdown",
   "metadata": {},
   "source": [
    "4) Use your function to find the stationary distribution of the following transition matrix T.\n",
    "\n",
    "Remember that the initial sample (the guess) must be a valid probability assignment (sum to 1)."
   ]
  },
  {
   "cell_type": "code",
   "execution_count": 73,
   "metadata": {},
   "outputs": [
    {
     "name": "stdout",
     "output_type": "stream",
     "text": [
      "[ 0.8  0.2]\n",
      "[ 0.18  0.82]\n",
      "[ 0.118  0.882]\n",
      "[ 0.1118  0.8882]\n",
      "[ 0.11118  0.88882]\n",
      "[ 0.111118  0.888882]\n",
      "[ 0.1111118  0.8888882]\n",
      "[ 0.11111118  0.88888882]\n",
      "[ 0.11111112  0.88888888]\n",
      "[ 0.11111111  0.88888889]\n",
      "[ 0.11111111  0.88888889]\n"
     ]
    }
   ],
   "source": [
    "import numpy as np\n",
    "\n",
    "T = np.array([[0.2, 0.8], [0.1, 0.9]])\n",
    "\n",
    "x = np.array([.8,.2])\n",
    "print(x)\n",
    "for i in range(10):\n",
    "    x = step_markov_chain(x, T)\n",
    "    print(x)"
   ]
  },
  {
   "cell_type": "markdown",
   "metadata": {},
   "source": [
    "5) In your own words, describe what the stationary distribution is."
   ]
  },
  {
   "cell_type": "markdown",
   "metadata": {
    "collapsed": true
   },
   "source": [
    "- The stationary distribution shows that you have an 11%  chance of being in state one and an 88% chance of being in state two"
   ]
  },
  {
   "cell_type": "markdown",
   "metadata": {},
   "source": [
    "6) Experiment with three different starting guesses for the first sample."
   ]
  },
  {
   "cell_type": "code",
   "execution_count": 75,
   "metadata": {},
   "outputs": [
    {
     "name": "stdout",
     "output_type": "stream",
     "text": [
      "[ 0.9  0.1]\n",
      "[ 0.19  0.81]\n",
      "[ 0.119  0.881]\n",
      "[ 0.1119  0.8881]\n",
      "[ 0.11119  0.88881]\n",
      "[ 0.111119  0.888881]\n",
      "[ 0.1111119  0.8888881]\n",
      "[ 0.11111119  0.88888881]\n",
      "[ 0.11111112  0.88888888]\n",
      "[ 0.11111111  0.88888889]\n",
      "[ 0.11111111  0.88888889]\n"
     ]
    }
   ],
   "source": [
    "import numpy as np\n",
    "\n",
    "T = np.array([[0.2, 0.8], [0.1, 0.9]])\n",
    "\n",
    "x = np.array([.9,.1])\n",
    "print(x)\n",
    "for i in range(10):\n",
    "    x = step_markov_chain(x, T)\n",
    "    print(x)"
   ]
  },
  {
   "cell_type": "code",
   "execution_count": 76,
   "metadata": {},
   "outputs": [
    {
     "name": "stdout",
     "output_type": "stream",
     "text": [
      "[ 0.1  0.9]\n",
      "[ 0.11  0.89]\n",
      "[ 0.111  0.889]\n",
      "[ 0.1111  0.8889]\n",
      "[ 0.11111  0.88889]\n",
      "[ 0.111111  0.888889]\n",
      "[ 0.1111111  0.8888889]\n",
      "[ 0.11111111  0.88888889]\n",
      "[ 0.11111111  0.88888889]\n",
      "[ 0.11111111  0.88888889]\n",
      "[ 0.11111111  0.88888889]\n"
     ]
    }
   ],
   "source": [
    "import numpy as np\n",
    "\n",
    "T = np.array([[0.2, 0.8], [0.1, 0.9]])\n",
    "\n",
    "x = np.array([.1,.9])\n",
    "print(x)\n",
    "for i in range(10):\n",
    "    x = step_markov_chain(x, T)\n",
    "    print(x)"
   ]
  },
  {
   "cell_type": "code",
   "execution_count": 77,
   "metadata": {},
   "outputs": [
    {
     "name": "stdout",
     "output_type": "stream",
     "text": [
      "[ 0.5  0.5]\n",
      "[ 0.15  0.85]\n",
      "[ 0.115  0.885]\n",
      "[ 0.1115  0.8885]\n",
      "[ 0.11115  0.88885]\n",
      "[ 0.111115  0.888885]\n",
      "[ 0.1111115  0.8888885]\n",
      "[ 0.11111115  0.88888885]\n",
      "[ 0.11111112  0.88888889]\n",
      "[ 0.11111111  0.88888889]\n",
      "[ 0.11111111  0.88888889]\n"
     ]
    }
   ],
   "source": [
    "import numpy as np\n",
    "\n",
    "T = np.array([[0.2, 0.8], [0.1, 0.9]])\n",
    "\n",
    "x = np.array([.5,.5])\n",
    "print(x)\n",
    "for i in range(10):\n",
    "    x = step_markov_chain(x, T)\n",
    "    print(x)"
   ]
  },
  {
   "cell_type": "code",
   "execution_count": 158,
   "metadata": {
    "collapsed": true
   },
   "outputs": [],
   "source": [
    "yes = np.array([[.6,.4],\n",
    "               [.7,.3]])"
   ]
  },
  {
   "cell_type": "code",
   "execution_count": 165,
   "metadata": {
    "scrolled": true
   },
   "outputs": [
    {
     "name": "stdout",
     "output_type": "stream",
     "text": [
      "[ 0.5  0.5]\n",
      "[ 0.65  0.35]\n",
      "[ 0.635  0.365]\n",
      "[ 0.6365  0.3635]\n",
      "[ 0.63635  0.36365]\n",
      "[ 0.636365  0.363635]\n",
      "[ 0.6363635  0.3636365]\n",
      "[ 0.63636365  0.36363635]\n",
      "[ 0.63636363  0.36363636]\n",
      "[ 0.63636364  0.36363636]\n",
      "[ 0.63636364  0.36363636]\n"
     ]
    }
   ],
   "source": [
    "import numpy as np\n",
    "\n",
    "\n",
    "\n",
    "x = np.array([.5,.5])\n",
    "print(x)\n",
    "for i in range(10):\n",
    "    x = step_markov_chain(x, yes)\n",
    "    print(x)"
   ]
  },
  {
   "cell_type": "code",
   "execution_count": 160,
   "metadata": {},
   "outputs": [
    {
     "data": {
      "text/plain": [
       "(array([ 1. , -0.1]), array([[ 0.70710678, -0.49613894],\n",
       "        [ 0.70710678,  0.86824314]]))"
      ]
     },
     "execution_count": 160,
     "metadata": {},
     "output_type": "execute_result"
    }
   ],
   "source": [
    "np.linalg.eig(yes)"
   ]
  },
  {
   "cell_type": "code",
   "execution_count": 164,
   "metadata": {},
   "outputs": [
    {
     "data": {
      "text/plain": [
       "(0.36363636496896823, 0.6363636350310318)"
      ]
     },
     "execution_count": 164,
     "metadata": {},
     "output_type": "execute_result"
    }
   ],
   "source": [
    "0.49613894/(0.49613894+0.86824314), 0.86824314/(0.49613894+0.86824314) # confirm the convergence"
   ]
  },
  {
   "cell_type": "markdown",
   "metadata": {},
   "source": [
    "7) Why is the first sample important?"
   ]
  },
  {
   "cell_type": "markdown",
   "metadata": {
    "collapsed": true
   },
   "source": [
    "- The first sample is important because with a bad starting point it can take a couple of transitions before you find a distribution that better  reflects the long run distribution"
   ]
  },
  {
   "cell_type": "markdown",
   "metadata": {},
   "source": [
    "8) Create three different transition matrices and find their stationary distributions. You may need to experiment with your matrices to make sure that the stationary distribution exists. In your own words, explain why your transition matrices are irreducible."
   ]
  },
  {
   "cell_type": "code",
   "execution_count": 78,
   "metadata": {
    "collapsed": true
   },
   "outputs": [],
   "source": [
    "one = np.array([[.1,.2,.7],\n",
    "               [.8,.1,.1],\n",
    "               [.5,.3,.2]])"
   ]
  },
  {
   "cell_type": "code",
   "execution_count": 82,
   "metadata": {},
   "outputs": [
    {
     "name": "stdout",
     "output_type": "stream",
     "text": [
      "[ 0.5  0.2  0.3]\n",
      "[ 0.36  0.21  0.43]\n",
      "[ 0.419  0.222  0.359]\n",
      "[ 0.399   0.2137  0.3873]\n",
      "[ 0.40451  0.21736  0.37813]\n",
      "[ 0.403404  0.216077  0.380519]\n",
      "[ 0.4034615  0.2164442  0.3800943]\n",
      "[ 0.40354866  0.21636501  0.38008633]\n",
      "[ 0.40349004  0.21637213  0.38013783]\n",
      "[ 0.40351562  0.21637657  0.38010781]\n",
      "[ 0.40350672  0.21637312  0.38012016]\n"
     ]
    }
   ],
   "source": [
    "\n",
    "\n",
    "x = np.array([.5,.2,.3])\n",
    "print(x)\n",
    "for i in range(10):\n",
    "    x = step_markov_chain(x, one)\n",
    "    print(x)"
   ]
  },
  {
   "cell_type": "code",
   "execution_count": 88,
   "metadata": {
    "collapsed": true
   },
   "outputs": [],
   "source": [
    "two = np.array([[.25,0,.75],\n",
    "               [.4,.2,.4],\n",
    "               [.5,.4,.1]])"
   ]
  },
  {
   "cell_type": "code",
   "execution_count": 89,
   "metadata": {},
   "outputs": [
    {
     "name": "stdout",
     "output_type": "stream",
     "text": [
      "[ 0.5  0.2  0.3]\n",
      "[ 0.355  0.16   0.485]\n",
      "[ 0.39525  0.226    0.37875]\n",
      "[ 0.3785875  0.1967     0.4247125]\n",
      "[ 0.38568313  0.209225    0.40509187]\n",
      "[ 0.38265672  0.20388175  0.41346153]\n",
      "[ 0.38394765  0.20616096  0.40989139]\n",
      "[ 0.38339699  0.20518875  0.41141426]\n",
      "[ 0.38363188  0.20560345  0.41076467]\n",
      "[ 0.38353169  0.20542656  0.41104176]\n",
      "[ 0.38357442  0.20550201  0.41092356]\n"
     ]
    }
   ],
   "source": [
    "\n",
    "\n",
    "x = np.array([.5,.2,.3])\n",
    "print(x)\n",
    "for i in range(10):\n",
    "    x = step_markov_chain(x, two)\n",
    "    print(x)"
   ]
  },
  {
   "cell_type": "code",
   "execution_count": 92,
   "metadata": {
    "collapsed": true
   },
   "outputs": [],
   "source": [
    "three = np.array([[.5,.2,.4],\n",
    "               [.4,.2,.4],\n",
    "               [.7,.2,.1]])"
   ]
  },
  {
   "cell_type": "code",
   "execution_count": 93,
   "metadata": {},
   "outputs": [
    {
     "name": "stdout",
     "output_type": "stream",
     "text": [
      "[ 0.5  0.2  0.3]\n",
      "[ 0.54  0.2   0.31]\n",
      "[ 0.567  0.21   0.327]\n",
      "[ 0.5964  0.2208  0.3435]\n",
      "[ 0.62697  0.23214  0.36123]\n",
      "[ 0.659202  0.244068  0.379767]\n",
      "[ 0.6930651  0.2566074  0.3992847]\n",
      "[ 0.7286748   0.26979144  0.41979747]\n",
      "[ 0.76611221  0.28365274  0.44136624]\n",
      "[ 0.80547357  0.29822624  0.4640426 ]\n",
      "[ 0.8468571   0.31354848  0.48788418]\n"
     ]
    }
   ],
   "source": [
    "\n",
    "\n",
    "x = np.array([.5,.2,.3])\n",
    "print(x)\n",
    "for i in range(10):\n",
    "    x = step_markov_chain(x, three)\n",
    "    print(x)"
   ]
  },
  {
   "cell_type": "markdown",
   "metadata": {},
   "source": []
  },
  {
   "cell_type": "markdown",
   "metadata": {},
   "source": [
    "Part 2: Markov Chain Monte Carlo"
   ]
  },
  {
   "cell_type": "code",
   "execution_count": 94,
   "metadata": {
    "collapsed": true
   },
   "outputs": [],
   "source": [
    "# Preliminaries\n",
    "\n",
    "%matplotlib inline\n",
    "\n",
    "import numpy as np\n",
    "import scipy as sp\n",
    "import pandas as pd\n",
    "import matplotlib.pyplot as plt\n",
    "import seaborn as sns\n",
    "\n",
    "from scipy.stats import norm\n",
    "\n",
    "sns.set_style('white')\n",
    "sns.set_context('talk')\n",
    "\n",
    "np.random.seed(42)"
   ]
  },
  {
   "cell_type": "markdown",
   "metadata": {},
   "source": [
    "Let's implement a Metropolis MCMC sampler, then compare it to one in a standard statistical library.\n",
    "\n",
    "First, we generate some data: 100 points from a normal distribution with mean 1:"
   ]
  },
  {
   "cell_type": "code",
   "execution_count": 95,
   "metadata": {
    "collapsed": true
   },
   "outputs": [],
   "source": [
    "data = np.random.normal(loc=1, size=100)"
   ]
  },
  {
   "cell_type": "markdown",
   "metadata": {},
   "source": [
    "We can plot a histogram of those points:"
   ]
  },
  {
   "cell_type": "code",
   "execution_count": 96,
   "metadata": {},
   "outputs": [
    {
     "data": {
      "image/png": "[encoded data removed]",
      "text/plain": [
       "<matplotlib.figure.Figure at 0x111d670f0>"
      ]
     },
     "metadata": {},
     "output_type": "display_data"
    }
   ],
   "source": [
    "ax = plt.subplot()\n",
    "sns.distplot(data, kde=False, ax=ax)\n",
    "_ = ax.set(title='Histogram of observed data', xlabel='x', ylabel='# observations');"
   ]
  },
  {
   "cell_type": "markdown",
   "metadata": {},
   "source": [
    "We need to choose a model. We already know the data generating process is a normal distribution with mean 1 and variance 0. For the sake of argument, we will try to infer the mean.\n",
    "\n",
    "Because we are inferring the mean, the posterior distribution of our model will be our estimate for $\\mu$:\n",
    "\n",
    "$$\\mu \\sim \\mathcal{N}(0, 1)$$\n",
    "\n",
    "$$x | \\mu \\sim \\mathcal{N}(x; \\mu, 1)$$\n",
    "\n",
    "In words, this says:\n",
    "\n",
    "The mean has a prior distribution of $\\mathcal{N}(0, 1)$ (which we chose arbitrarily).\n",
    "\n",
    "The data, conditioned on the (unknown) mean, is distributed according to a normal distribution (which is parameterized by the data, the unknown mean, and a $\\sigma$ of 1).\n",
    "\n",
    "\n",
    "We will now build a Metropolis sampler for inferring one unknown parameter.\n",
    "\n",
    "Recall the general MCMC algorithm:\n",
    "0. Begin with an initial point.\n",
    "1. Create a new proposal point to \"jump\" to.\n",
    "2. Evaluate its likelihood and create an acceptance ratio.\n",
    "3. Accept the proposal according to that acceptance ratio.\n",
    "5. Goto 2.\n",
    "\n",
    "Fill in the following code."
   ]
  },
  {
   "cell_type": "code",
   "execution_count": 187,
   "metadata": {
    "collapsed": true
   },
   "outputs": [],
   "source": [
    "from math import e"
   ]
  },
  {
   "cell_type": "code",
   "execution_count": 249,
   "metadata": {
    "collapsed": true
   },
   "outputs": [],
   "source": [
    "# make_p is a utility function for making a version of our model with the proposed mu.\n",
    "# using this separates the model from the sampler.\n",
    "def make_p(mu):\n",
    "    return norm(mu, 1)\n",
    "\n",
    "def metropolis_sampler(initial_point, data, p_maker, n_samples, prior, proposal_stddev):\n",
    "    \"\"\"Return the posterior samples from the log probability\"\"\"\n",
    "    posterior = [initial_point]\n",
    "    \n",
    "    # the result of p_maker should support the 'pdf' function\n",
    "    \n",
    "    n_dims = len(initial_point) # the number of dimensions\n",
    "    current = initial_point\n",
    "    \n",
    "    for i in range(n_samples):\n",
    "        # Metropolis creates proposals from a normal distribution:\n",
    "        proposal = norm.rvs(current, proposal_stddev, n_dims)\n",
    "        \n",
    "        # Compute likelihood by multiplying probabilities of each point:\n",
    "        likelihood_current = np.log(p_maker(current).pdf(data)).sum()\n",
    "\n",
    "        #print(likelihood_current,'like current')\n",
    "        likelihood_proposal = np.log(p_maker(proposal).pdf(data)).sum() # DO THIS\n",
    "        \n",
    "        # Compute the prior probability of current and proposed value:\n",
    "        prior_current = prior.pdf(current)\n",
    "        prior_proposal = prior.pdf(proposal) # DO THIS\n",
    "        \n",
    "        # posterior \n",
    "        p_current = likelihood_current + np.log( prior_current)\n",
    "        p_proposal = likelihood_proposal + np.log(prior_proposal) # DO THIS\n",
    "        \n",
    "        # Accept proposal?\n",
    "        p_accept =   p_proposal- p_current # DO THIS\n",
    "        \n",
    "        # Usually would include prior probability, which we neglect here for simplicity\n",
    "        accept =np.log(np.random.rand()) < p_accept\n",
    "        \n",
    "        if accept:\n",
    "            # Update position\n",
    "            current = proposal\n",
    "            \n",
    "    \n",
    "        posterior.append(current)\n",
    "    return posterior\n",
    "            "
   ]
  },
  {
   "cell_type": "markdown",
   "metadata": {},
   "source": [
    "Use it to compute the expectation of $\\mu$ in this model with 1.1 as an initial guess:\n",
    "\n",
    "```python\n",
    "metropolis_sampler([1.1], data, make_p, 100, norm(), 1)\n",
    "```"
   ]
  },
  {
   "cell_type": "code",
   "execution_count": 247,
   "metadata": {
    "scrolled": true
   },
   "outputs": [
    {
     "name": "stdout",
     "output_type": "stream",
     "text": [
      "[-136.32157172] [-147.21038503]\n",
      "[-136.32157172] [-134.05136839]\n",
      "[-134.05136839] [-183.54369134]\n",
      "[-134.05136839] [-179.1947332]\n",
      "[-134.05136839] [-151.2392701]\n",
      "[-134.05136839] [-134.80136495]\n",
      "[-134.80136495] [-175.36847266]\n",
      "[-134.80136495] [-138.59727456]\n",
      "[-134.80136495] [-203.64415846]\n",
      "[-134.80136495] [-242.0167528]\n",
      "[-134.80136495] [-149.33359042]\n",
      "[-134.80136495] [-141.97771717]\n",
      "[-134.80136495] [-250.72825627]\n",
      "[-134.80136495] [-134.05032692]\n",
      "[-134.05032692] [-164.80070432]\n",
      "[-134.05032692] [-163.21675986]\n",
      "[-134.05032692] [-142.57189149]\n",
      "[-134.05032692] [-195.61714768]\n",
      "[-134.05032692] [-134.54618222]\n",
      "[-134.54618222] [-140.88421245]\n",
      "[-134.54618222] [-181.28643616]\n",
      "[-134.54618222] [-174.93963411]\n",
      "[-134.54618222] [-136.62274472]\n",
      "[-134.54618222] [-142.00490043]\n",
      "[-134.54618222] [-267.53913233]\n",
      "[-134.54618222] [-147.09360102]\n",
      "[-134.54618222] [-153.32713512]\n",
      "[-134.54618222] [-147.1248912]\n",
      "[-134.54618222] [-216.63121739]\n",
      "[-134.54618222] [-198.45485471]\n",
      "[-134.54618222] [-135.35256756]\n",
      "[-134.54618222] [-150.16202385]\n",
      "[-134.54618222] [-182.58631288]\n",
      "[-134.54618222] [-243.78219472]\n",
      "[-134.54618222] [-134.42490279]\n",
      "[-134.42490279] [-170.6229809]\n",
      "[-134.42490279] [-303.25919837]\n",
      "[-134.42490279] [-156.06777624]\n",
      "[-134.42490279] [-151.23537249]\n",
      "[-134.42490279] [-159.40912265]\n",
      "[-134.42490279] [-138.82131862]\n",
      "[-134.42490279] [-164.1937812]\n",
      "[-134.42490279] [-134.37494189]\n",
      "[-134.37494189] [-155.44728411]\n",
      "[-134.37494189] [-134.30321198]\n",
      "[-134.30321198] [-134.30484956]\n",
      "[-134.30484956] [-179.824894]\n",
      "[-134.30484956] [-242.85880254]\n",
      "[-134.30484956] [-147.36466811]\n",
      "[-134.30484956] [-352.05881781]\n",
      "[-134.30484956] [-185.71614264]\n",
      "[-134.30484956] [-138.50159902]\n",
      "[-134.30484956] [-151.99563503]\n",
      "[-134.30484956] [-208.568592]\n",
      "[-134.30484956] [-223.95505814]\n",
      "[-134.30484956] [-140.97031597]\n",
      "[-134.30484956] [-144.48593921]\n",
      "[-134.30484956] [-255.0644701]\n",
      "[-134.30484956] [-146.20627893]\n",
      "[-134.30484956] [-196.98242968]\n",
      "[-134.30484956] [-135.75276535]\n",
      "[-134.30484956] [-146.99179861]\n",
      "[-134.30484956] [-199.29338503]\n",
      "[-134.30484956] [-183.91342202]\n",
      "[-134.30484956] [-209.14995714]\n",
      "[-134.30484956] [-190.85001204]\n",
      "[-134.30484956] [-151.49951758]\n",
      "[-134.30484956] [-152.5280753]\n",
      "[-134.30484956] [-364.29687204]\n",
      "[-134.30484956] [-190.18980735]\n",
      "[-134.30484956] [-346.295909]\n",
      "[-134.30484956] [-210.84643563]\n",
      "[-134.30484956] [-182.03379277]\n",
      "[-134.30484956] [-176.15174314]\n",
      "[-134.30484956] [-140.48235582]\n",
      "[-134.30484956] [-308.48532677]\n",
      "[-134.30484956] [-182.8120659]\n",
      "[-134.30484956] [-223.47930543]\n",
      "[-134.30484956] [-136.20210801]\n",
      "[-134.30484956] [-169.97475297]\n",
      "[-134.30484956] [-144.44226123]\n",
      "[-134.30484956] [-150.41627223]\n",
      "[-134.30484956] [-157.48347718]\n",
      "[-134.30484956] [-314.20232698]\n",
      "[-134.30484956] [-158.26084588]\n",
      "[-134.30484956] [-135.56548685]\n",
      "[-134.30484956] [-134.09562255]\n",
      "[-134.09562255] [-134.3876709]\n",
      "[-134.3876709] [-144.60831885]\n",
      "[-134.3876709] [-150.34572974]\n",
      "[-134.3876709] [-279.4763611]\n",
      "[-134.3876709] [-153.81560597]\n",
      "[-134.3876709] [-266.70744304]\n",
      "[-134.3876709] [-140.21846204]\n",
      "[-134.3876709] [-387.25194152]\n",
      "[-134.3876709] [-138.8393451]\n",
      "[-134.3876709] [-138.82433572]\n",
      "[-134.3876709] [-400.52926457]\n",
      "[-134.3876709] [-149.97233742]\n",
      "[-134.3876709] [-335.46581318]\n"
     ]
    },
    {
     "data": {
      "text/plain": [
       "[[1.1],\n",
       " [1.1],\n",
       " array([ 0.87010542]),\n",
       " array([ 0.87010542]),\n",
       " array([ 0.87010542]),\n",
       " array([ 0.87010542]),\n",
       " array([ 1.01035141]),\n",
       " array([ 1.01035141]),\n",
       " array([ 1.01035141]),\n",
       " array([ 1.01035141]),\n",
       " array([ 1.01035141]),\n",
       " array([ 1.01035141]),\n",
       " array([ 1.01035141]),\n",
       " array([ 1.01035141]),\n",
       " array([ 0.90384468]),\n",
       " array([ 0.90384468]),\n",
       " array([ 0.90384468]),\n",
       " array([ 0.90384468]),\n",
       " array([ 0.90384468]),\n",
       " array([ 0.98774601]),\n",
       " array([ 0.98774601]),\n",
       " array([ 0.98774601]),\n",
       " array([ 0.98774601]),\n",
       " array([ 0.98774601]),\n",
       " array([ 0.98774601]),\n",
       " array([ 0.98774601]),\n",
       " array([ 0.98774601]),\n",
       " array([ 0.98774601]),\n",
       " array([ 0.98774601]),\n",
       " array([ 0.98774601]),\n",
       " array([ 0.98774601]),\n",
       " array([ 0.98774601]),\n",
       " array([ 0.98774601]),\n",
       " array([ 0.98774601]),\n",
       " array([ 0.98774601]),\n",
       " array([ 0.97498307]),\n",
       " array([ 0.97498307]),\n",
       " array([ 0.97498307]),\n",
       " array([ 0.97498307]),\n",
       " array([ 0.97498307]),\n",
       " array([ 0.97498307]),\n",
       " array([ 0.97498307]),\n",
       " array([ 0.97498307]),\n",
       " array([ 0.80541258]),\n",
       " array([ 0.80541258]),\n",
       " array([ 0.81460337]),\n",
       " array([ 0.81438062]),\n",
       " array([ 0.81438062]),\n",
       " array([ 0.81438062]),\n",
       " array([ 0.81438062]),\n",
       " array([ 0.81438062]),\n",
       " array([ 0.81438062]),\n",
       " array([ 0.81438062]),\n",
       " array([ 0.81438062]),\n",
       " array([ 0.81438062]),\n",
       " array([ 0.81438062]),\n",
       " array([ 0.81438062]),\n",
       " array([ 0.81438062]),\n",
       " array([ 0.81438062]),\n",
       " array([ 0.81438062]),\n",
       " array([ 0.81438062]),\n",
       " array([ 0.81438062]),\n",
       " array([ 0.81438062]),\n",
       " array([ 0.81438062]),\n",
       " array([ 0.81438062]),\n",
       " array([ 0.81438062]),\n",
       " array([ 0.81438062]),\n",
       " array([ 0.81438062]),\n",
       " array([ 0.81438062]),\n",
       " array([ 0.81438062]),\n",
       " array([ 0.81438062]),\n",
       " array([ 0.81438062]),\n",
       " array([ 0.81438062]),\n",
       " array([ 0.81438062]),\n",
       " array([ 0.81438062]),\n",
       " array([ 0.81438062]),\n",
       " array([ 0.81438062]),\n",
       " array([ 0.81438062]),\n",
       " array([ 0.81438062]),\n",
       " array([ 0.81438062]),\n",
       " array([ 0.81438062]),\n",
       " array([ 0.81438062]),\n",
       " array([ 0.81438062]),\n",
       " array([ 0.81438062]),\n",
       " array([ 0.81438062]),\n",
       " array([ 0.81438062]),\n",
       " array([ 0.81438062]),\n",
       " array([ 0.92150507]),\n",
       " array([ 0.80388736]),\n",
       " array([ 0.80388736]),\n",
       " array([ 0.80388736]),\n",
       " array([ 0.80388736]),\n",
       " array([ 0.80388736]),\n",
       " array([ 0.80388736]),\n",
       " array([ 0.80388736]),\n",
       " array([ 0.80388736]),\n",
       " array([ 0.80388736]),\n",
       " array([ 0.80388736]),\n",
       " array([ 0.80388736]),\n",
       " array([ 0.80388736]),\n",
       " array([ 0.80388736])]"
      ]
     },
     "execution_count": 247,
     "metadata": {},
     "output_type": "execute_result"
    }
   ],
   "source": [
    "metropolis_sampler([1.1], data, make_p, 100, norm(), 1)"
   ]
  },
  {
   "cell_type": "markdown",
   "metadata": {},
   "source": [
    "Use the points 2, -1, 0, 1, 2 as initial guesses and compute the expected means."
   ]
  },
  {
   "cell_type": "code",
   "execution_count": 230,
   "metadata": {
    "scrolled": true
   },
   "outputs": [
    {
     "data": {
      "text/plain": [
       "[[2.0],\n",
       " array([ 1.86960003]),\n",
       " array([ 0.62441137]),\n",
       " array([ 0.62441137]),\n",
       " array([ 0.62441137]),\n",
       " array([ 0.62441137]),\n",
       " array([ 0.62441137]),\n",
       " array([ 0.62441137]),\n",
       " array([ 0.62441137]),\n",
       " array([ 0.62441137]),\n",
       " array([ 1.1690325]),\n",
       " array([ 1.1690325]),\n",
       " array([ 1.1690325]),\n",
       " array([ 0.88483421]),\n",
       " array([ 0.94350962]),\n",
       " array([ 0.94350962]),\n",
       " array([ 0.94350962]),\n",
       " array([ 1.08115264]),\n",
       " array([ 1.08115264]),\n",
       " array([ 1.08115264]),\n",
       " array([ 1.08115264]),\n",
       " array([ 1.08115264]),\n",
       " array([ 1.05547042]),\n",
       " array([ 0.77817346]),\n",
       " array([ 0.77817346]),\n",
       " array([ 0.77817346]),\n",
       " array([ 0.77817346]),\n",
       " array([ 0.77817346]),\n",
       " array([ 0.89946745]),\n",
       " array([ 0.89946745]),\n",
       " array([ 0.89946745]),\n",
       " array([ 0.89946745]),\n",
       " array([ 0.9318361]),\n",
       " array([ 0.9318361]),\n",
       " array([ 0.9318361]),\n",
       " array([ 0.9318361]),\n",
       " array([ 0.9318361]),\n",
       " array([ 1.01592956]),\n",
       " array([ 1.01592956]),\n",
       " array([ 0.83238773]),\n",
       " array([ 0.83238773]),\n",
       " array([ 0.83238773]),\n",
       " array([ 0.83238773]),\n",
       " array([ 0.83238773]),\n",
       " array([ 0.83238773]),\n",
       " array([ 1.04932204]),\n",
       " array([ 1.04932204]),\n",
       " array([ 0.81227574]),\n",
       " array([ 0.81227574]),\n",
       " array([ 0.81227574]),\n",
       " array([ 0.81227574]),\n",
       " array([ 0.81227574]),\n",
       " array([ 0.91242307]),\n",
       " array([ 0.91242307]),\n",
       " array([ 0.91242307]),\n",
       " array([ 0.91242307]),\n",
       " array([ 0.91242307]),\n",
       " array([ 0.91242307]),\n",
       " array([ 0.91242307]),\n",
       " array([ 0.91242307]),\n",
       " array([ 0.91242307]),\n",
       " array([ 0.91242307]),\n",
       " array([ 0.91242307]),\n",
       " array([ 0.91242307]),\n",
       " array([ 0.91242307]),\n",
       " array([ 0.91242307]),\n",
       " array([ 0.91242307]),\n",
       " array([ 0.91242307]),\n",
       " array([ 0.91242307]),\n",
       " array([ 0.91242307]),\n",
       " array([ 0.91242307]),\n",
       " array([ 0.91242307]),\n",
       " array([ 0.91242307]),\n",
       " array([ 0.96263519]),\n",
       " array([ 0.96263519]),\n",
       " array([ 0.96263519]),\n",
       " array([ 0.96263519]),\n",
       " array([ 0.96263519]),\n",
       " array([ 0.96263519]),\n",
       " array([ 0.96263519]),\n",
       " array([ 0.96263519]),\n",
       " array([ 0.96263519]),\n",
       " array([ 0.96263519]),\n",
       " array([ 0.96263519]),\n",
       " array([ 0.96263519]),\n",
       " array([ 0.96263519]),\n",
       " array([ 0.96263519]),\n",
       " array([ 0.96263519]),\n",
       " array([ 0.60685512]),\n",
       " array([ 0.60685512]),\n",
       " array([ 0.60685512]),\n",
       " array([ 0.60685512]),\n",
       " array([ 0.60685512]),\n",
       " array([ 0.60685512]),\n",
       " array([ 0.60685512]),\n",
       " array([ 0.60685512]),\n",
       " array([ 0.60685512]),\n",
       " array([ 0.60685512]),\n",
       " array([ 0.60685512]),\n",
       " array([ 0.60685512]),\n",
       " array([ 0.60685512])]"
      ]
     },
     "execution_count": 230,
     "metadata": {},
     "output_type": "execute_result"
    }
   ],
   "source": [
    "metropolis_sampler([2.0], data, make_p, 100, norm(), 1)"
   ]
  },
  {
   "cell_type": "code",
   "execution_count": 231,
   "metadata": {
    "scrolled": true
   },
   "outputs": [
    {
     "data": {
      "text/plain": [
       "[[-1],\n",
       " array([-0.55113462]),\n",
       " array([-0.55113462]),\n",
       " array([-0.55113462]),\n",
       " array([ 1.03799658]),\n",
       " array([ 0.87666823]),\n",
       " array([ 0.89735082]),\n",
       " array([ 0.89735082]),\n",
       " array([ 0.89735082]),\n",
       " array([ 0.89735082]),\n",
       " array([ 0.9260864]),\n",
       " array([ 0.9260864]),\n",
       " array([ 0.85274209]),\n",
       " array([ 0.99794866]),\n",
       " array([ 0.92830594]),\n",
       " array([ 0.7750443]),\n",
       " array([ 0.7750443]),\n",
       " array([ 0.7750443]),\n",
       " array([ 0.7750443]),\n",
       " array([ 0.7750443]),\n",
       " array([ 0.7750443]),\n",
       " array([ 0.7750443]),\n",
       " array([ 0.94802144]),\n",
       " array([ 0.94802144]),\n",
       " array([ 0.94802144]),\n",
       " array([ 0.94802144]),\n",
       " array([ 0.83222439]),\n",
       " array([ 0.83222439]),\n",
       " array([ 0.83222439]),\n",
       " array([ 0.83222439]),\n",
       " array([ 0.83222439]),\n",
       " array([ 0.83222439]),\n",
       " array([ 0.83222439]),\n",
       " array([ 0.83222439]),\n",
       " array([ 0.95597548]),\n",
       " array([ 0.95597548]),\n",
       " array([ 0.95597548]),\n",
       " array([ 0.95597548]),\n",
       " array([ 0.95597548]),\n",
       " array([ 0.95597548]),\n",
       " array([ 0.95597548]),\n",
       " array([ 0.95597548]),\n",
       " array([ 1.11934049]),\n",
       " array([ 1.11934049]),\n",
       " array([ 1.11934049]),\n",
       " array([ 0.68653073]),\n",
       " array([ 0.68653073]),\n",
       " array([ 0.68653073]),\n",
       " array([ 0.76874551]),\n",
       " array([ 0.76874551]),\n",
       " array([ 0.76874551]),\n",
       " array([ 0.76874551]),\n",
       " array([ 0.76874551]),\n",
       " array([ 0.76874551]),\n",
       " array([ 0.76874551]),\n",
       " array([ 0.76874551]),\n",
       " array([ 0.76874551]),\n",
       " array([ 0.76874551]),\n",
       " array([ 0.76874551]),\n",
       " array([ 0.76874551]),\n",
       " array([ 0.76874551]),\n",
       " array([ 0.76874551]),\n",
       " array([ 0.76874551]),\n",
       " array([ 0.76874551]),\n",
       " array([ 0.76874551]),\n",
       " array([ 0.76874551]),\n",
       " array([ 0.76874551]),\n",
       " array([ 0.76874551]),\n",
       " array([ 0.9711228]),\n",
       " array([ 0.9711228]),\n",
       " array([ 0.9711228]),\n",
       " array([ 0.9711228]),\n",
       " array([ 0.9711228]),\n",
       " array([ 0.9711228]),\n",
       " array([ 0.9711228]),\n",
       " array([ 0.9711228]),\n",
       " array([ 0.9711228]),\n",
       " array([ 0.9711228]),\n",
       " array([ 0.9711228]),\n",
       " array([ 0.9711228]),\n",
       " array([ 0.9711228]),\n",
       " array([ 0.9711228]),\n",
       " array([ 0.9711228]),\n",
       " array([ 0.9711228]),\n",
       " array([ 0.9711228]),\n",
       " array([ 0.9711228]),\n",
       " array([ 0.9711228]),\n",
       " array([ 0.9711228]),\n",
       " array([ 0.9711228]),\n",
       " array([ 0.75963967]),\n",
       " array([ 0.75963967]),\n",
       " array([ 0.77669556]),\n",
       " array([ 0.77669556]),\n",
       " array([ 0.77669556]),\n",
       " array([ 0.77669556]),\n",
       " array([ 0.77669556]),\n",
       " array([ 0.77669556]),\n",
       " array([ 0.81469987]),\n",
       " array([ 0.81469987]),\n",
       " array([ 0.81469987]),\n",
       " array([ 0.9617411])]"
      ]
     },
     "execution_count": 231,
     "metadata": {},
     "output_type": "execute_result"
    }
   ],
   "source": [
    "metropolis_sampler([-1], data, make_p, 100, norm(), 1)"
   ]
  },
  {
   "cell_type": "code",
   "execution_count": 232,
   "metadata": {
    "scrolled": true
   },
   "outputs": [
    {
     "data": {
      "text/plain": [
       "[[0],\n",
       " array([ 0.28587106]),\n",
       " array([ 0.28587106]),\n",
       " array([ 0.89169228]),\n",
       " array([ 0.89169228]),\n",
       " array([ 0.89169228]),\n",
       " array([ 0.89169228]),\n",
       " array([ 0.89169228]),\n",
       " array([ 0.89169228]),\n",
       " array([ 0.89169228]),\n",
       " array([ 0.89169228]),\n",
       " array([ 0.91323392]),\n",
       " array([ 0.9977758]),\n",
       " array([ 0.9977758]),\n",
       " array([ 0.84247337]),\n",
       " array([ 0.84247337]),\n",
       " array([ 0.84247337]),\n",
       " array([ 0.84247337]),\n",
       " array([ 0.84247337]),\n",
       " array([ 0.84247337]),\n",
       " array([ 0.84247337]),\n",
       " array([ 0.84247337]),\n",
       " array([ 0.84247337]),\n",
       " array([ 0.84247337]),\n",
       " array([ 0.84247337]),\n",
       " array([ 0.84247337]),\n",
       " array([ 0.84247337]),\n",
       " array([ 0.84247337]),\n",
       " array([ 0.84247337]),\n",
       " array([ 0.84247337]),\n",
       " array([ 0.82146601]),\n",
       " array([ 0.82146601]),\n",
       " array([ 0.82146601]),\n",
       " array([ 0.82146601]),\n",
       " array([ 0.8552941]),\n",
       " array([ 0.8552941]),\n",
       " array([ 0.8552941]),\n",
       " array([ 0.8552941]),\n",
       " array([ 0.8552941]),\n",
       " array([ 0.8552941]),\n",
       " array([ 0.8552941]),\n",
       " array([ 0.8552941]),\n",
       " array([ 0.8552941]),\n",
       " array([ 0.8552941]),\n",
       " array([ 0.8552941]),\n",
       " array([ 0.8552941]),\n",
       " array([ 0.8552941]),\n",
       " array([ 0.8552941]),\n",
       " array([ 0.76449284]),\n",
       " array([ 0.76449284]),\n",
       " array([ 0.76449284]),\n",
       " array([ 1.04962014]),\n",
       " array([ 1.04962014]),\n",
       " array([ 1.04962014]),\n",
       " array([ 1.04962014]),\n",
       " array([ 0.71573255]),\n",
       " array([ 0.71573255]),\n",
       " array([ 0.71573255]),\n",
       " array([ 0.71573255]),\n",
       " array([ 0.71573255]),\n",
       " array([ 0.94675959]),\n",
       " array([ 0.94675959]),\n",
       " array([ 1.02165207]),\n",
       " array([ 1.02165207]),\n",
       " array([ 0.89863585]),\n",
       " array([ 0.89863585]),\n",
       " array([ 0.95611734]),\n",
       " array([ 0.95611734]),\n",
       " array([ 0.79461043]),\n",
       " array([ 0.79461043]),\n",
       " array([ 0.79461043]),\n",
       " array([ 0.90205534]),\n",
       " array([ 0.73566127]),\n",
       " array([ 0.73566127]),\n",
       " array([ 0.73566127]),\n",
       " array([ 0.73566127]),\n",
       " array([ 0.83126819]),\n",
       " array([ 0.83126819]),\n",
       " array([ 0.83126819]),\n",
       " array([ 0.83126819]),\n",
       " array([ 0.87996118]),\n",
       " array([ 0.87996118]),\n",
       " array([ 0.87996118]),\n",
       " array([ 0.87996118]),\n",
       " array([ 1.07937419]),\n",
       " array([ 1.07937419]),\n",
       " array([ 0.85146714]),\n",
       " array([ 0.85146714]),\n",
       " array([ 0.83745313]),\n",
       " array([ 0.83745313]),\n",
       " array([ 0.83745313]),\n",
       " array([ 0.83745313]),\n",
       " array([ 0.83745313]),\n",
       " array([ 0.83745313]),\n",
       " array([ 0.83745313]),\n",
       " array([ 0.83745313]),\n",
       " array([ 0.83745313]),\n",
       " array([ 0.83745313]),\n",
       " array([ 0.83745313]),\n",
       " array([ 0.83745313]),\n",
       " array([ 0.83745313])]"
      ]
     },
     "execution_count": 232,
     "metadata": {},
     "output_type": "execute_result"
    }
   ],
   "source": [
    "metropolis_sampler([0], data, make_p, 100, norm(), 1)"
   ]
  },
  {
   "cell_type": "code",
   "execution_count": 233,
   "metadata": {
    "scrolled": true
   },
   "outputs": [
    {
     "data": {
      "text/plain": [
       "[[1],\n",
       " [1],\n",
       " [1],\n",
       " [1],\n",
       " array([ 0.91067219]),\n",
       " array([ 0.84161017]),\n",
       " array([ 0.84161017]),\n",
       " array([ 0.84161017]),\n",
       " array([ 0.84161017]),\n",
       " array([ 0.84161017]),\n",
       " array([ 0.84161017]),\n",
       " array([ 0.84161017]),\n",
       " array([ 0.84161017]),\n",
       " array([ 0.84161017]),\n",
       " array([ 0.84161017]),\n",
       " array([ 0.84161017]),\n",
       " array([ 0.84161017]),\n",
       " array([ 0.84161017]),\n",
       " array([ 0.84161017]),\n",
       " array([ 0.84161017]),\n",
       " array([ 0.84161017]),\n",
       " array([ 0.84161017]),\n",
       " array([ 0.84161017]),\n",
       " array([ 0.84161017]),\n",
       " array([ 0.84161017]),\n",
       " array([ 0.84161017]),\n",
       " array([ 0.84161017]),\n",
       " array([ 0.84161017]),\n",
       " array([ 0.84161017]),\n",
       " array([ 0.84161017]),\n",
       " array([ 0.84161017]),\n",
       " array([ 0.84161017]),\n",
       " array([ 0.84161017]),\n",
       " array([ 0.84161017]),\n",
       " array([ 0.84161017]),\n",
       " array([ 0.84161017]),\n",
       " array([ 0.84161017]),\n",
       " array([ 0.84161017]),\n",
       " array([ 0.84161017]),\n",
       " array([ 0.84161017]),\n",
       " array([ 0.84161017]),\n",
       " array([ 0.84161017]),\n",
       " array([ 0.84161017]),\n",
       " array([ 0.84161017]),\n",
       " array([ 0.84161017]),\n",
       " array([ 0.84161017]),\n",
       " array([ 0.84161017]),\n",
       " array([ 0.84161017]),\n",
       " array([ 0.84161017]),\n",
       " array([ 0.84161017]),\n",
       " array([ 0.84161017]),\n",
       " array([ 0.84161017]),\n",
       " array([ 0.84161017]),\n",
       " array([ 0.84161017]),\n",
       " array([ 0.84161017]),\n",
       " array([ 0.84161017]),\n",
       " array([ 0.84161017]),\n",
       " array([ 0.84161017]),\n",
       " array([ 0.84161017]),\n",
       " array([ 0.84161017]),\n",
       " array([ 0.84161017]),\n",
       " array([ 0.84161017]),\n",
       " array([ 0.84161017]),\n",
       " array([ 0.84161017]),\n",
       " array([ 0.84161017]),\n",
       " array([ 0.84161017]),\n",
       " array([ 0.84161017]),\n",
       " array([ 0.70534577]),\n",
       " array([ 0.70534577]),\n",
       " array([ 0.85686638]),\n",
       " array([ 0.85686638]),\n",
       " array([ 0.85686638]),\n",
       " array([ 0.85686638]),\n",
       " array([ 0.85686638]),\n",
       " array([ 0.85686638]),\n",
       " array([ 0.85686638]),\n",
       " array([ 0.85686638]),\n",
       " array([ 0.85686638]),\n",
       " array([ 0.85686638]),\n",
       " array([ 0.85686638]),\n",
       " array([ 0.85686638]),\n",
       " array([ 0.85686638]),\n",
       " array([ 0.85686638]),\n",
       " array([ 0.85686638]),\n",
       " array([ 0.85686638]),\n",
       " array([ 0.85686638]),\n",
       " array([ 0.85686638]),\n",
       " array([ 0.85686638]),\n",
       " array([ 0.85686638]),\n",
       " array([ 0.85686638]),\n",
       " array([ 0.85686638]),\n",
       " array([ 0.86207012]),\n",
       " array([ 0.86207012]),\n",
       " array([ 0.86207012]),\n",
       " array([ 0.86207012]),\n",
       " array([ 0.86207012]),\n",
       " array([ 0.86207012]),\n",
       " array([ 0.86207012]),\n",
       " array([ 0.86207012]),\n",
       " array([ 0.86207012]),\n",
       " array([ 0.86207012])]"
      ]
     },
     "execution_count": 233,
     "metadata": {},
     "output_type": "execute_result"
    }
   ],
   "source": [
    "metropolis_sampler([1], data, make_p, 100, norm(), 1)"
   ]
  },
  {
   "cell_type": "markdown",
   "metadata": {},
   "source": [
    "Experiment with different numbers of samples. Conjecture a relationship between the initial guess and the convergence rate.\n",
    "\n"
   ]
  },
  {
   "cell_type": "code",
   "execution_count": 234,
   "metadata": {},
   "outputs": [
    {
     "data": {
      "text/plain": [
       "[[2],\n",
       " array([ 1.38113671]),\n",
       " array([ 1.38113671]),\n",
       " array([ 0.45078919]),\n",
       " array([ 0.45078919]),\n",
       " array([ 0.45078919]),\n",
       " array([ 0.45078919]),\n",
       " array([ 0.97164943]),\n",
       " array([ 0.97164943]),\n",
       " array([ 0.68495904]),\n",
       " array([ 0.68495904]),\n",
       " array([ 0.68495904]),\n",
       " array([ 0.69270923]),\n",
       " array([ 0.69270923]),\n",
       " array([ 0.8748096]),\n",
       " array([ 0.8748096]),\n",
       " array([ 0.8748096]),\n",
       " array([ 1.0188112]),\n",
       " array([ 1.0188112]),\n",
       " array([ 1.0188112]),\n",
       " array([ 0.81596879]),\n",
       " array([ 0.81596879]),\n",
       " array([ 0.81596879]),\n",
       " array([ 0.81596879]),\n",
       " array([ 0.81596879]),\n",
       " array([ 0.81596879]),\n",
       " array([ 0.81596879]),\n",
       " array([ 0.81596879]),\n",
       " array([ 0.81596879]),\n",
       " array([ 0.81596879]),\n",
       " array([ 0.81596879]),\n",
       " array([ 0.81596879]),\n",
       " array([ 0.82527158]),\n",
       " array([ 0.75657378]),\n",
       " array([ 0.75657378]),\n",
       " array([ 0.75657378]),\n",
       " array([ 0.75657378]),\n",
       " array([ 0.77584002]),\n",
       " array([ 0.77584002]),\n",
       " array([ 0.77584002]),\n",
       " array([ 0.77584002]),\n",
       " array([ 0.77584002]),\n",
       " array([ 0.77584002]),\n",
       " array([ 0.77584002]),\n",
       " array([ 0.77584002]),\n",
       " array([ 0.77584002]),\n",
       " array([ 1.03948826]),\n",
       " array([ 1.03948826]),\n",
       " array([ 1.03948826]),\n",
       " array([ 1.03948826]),\n",
       " array([ 1.03948826]),\n",
       " array([ 1.03948826]),\n",
       " array([ 1.03948826]),\n",
       " array([ 1.03948826]),\n",
       " array([ 1.03948826]),\n",
       " array([ 1.03948826]),\n",
       " array([ 1.03948826]),\n",
       " array([ 0.82721045]),\n",
       " array([ 0.82721045]),\n",
       " array([ 0.82721045]),\n",
       " array([ 0.82721045]),\n",
       " array([ 0.82721045]),\n",
       " array([ 0.90286361]),\n",
       " array([ 0.90286361]),\n",
       " array([ 0.90286361]),\n",
       " array([ 0.90286361]),\n",
       " array([ 0.90286361]),\n",
       " array([ 0.90286361]),\n",
       " array([ 0.90286361]),\n",
       " array([ 0.90286361]),\n",
       " array([ 0.90286361]),\n",
       " array([ 0.90286361]),\n",
       " array([ 0.90286361]),\n",
       " array([ 0.90286361]),\n",
       " array([ 0.90286361]),\n",
       " array([ 0.90286361]),\n",
       " array([ 0.90286361]),\n",
       " array([ 0.76823045]),\n",
       " array([ 1.0159467]),\n",
       " array([ 1.0159467]),\n",
       " array([ 0.72337699]),\n",
       " array([ 0.72337699]),\n",
       " array([ 0.72337699]),\n",
       " array([ 0.72337699]),\n",
       " array([ 0.72337699]),\n",
       " array([ 0.72337699]),\n",
       " array([ 0.72337699]),\n",
       " array([ 0.72337699]),\n",
       " array([ 0.72337699]),\n",
       " array([ 0.72337699]),\n",
       " array([ 0.72337699]),\n",
       " array([ 0.72337699]),\n",
       " array([ 0.72337699]),\n",
       " array([ 0.84632191]),\n",
       " array([ 0.90757852]),\n",
       " array([ 0.90757852]),\n",
       " array([ 0.90757852]),\n",
       " array([ 0.90757852]),\n",
       " array([ 0.90757852]),\n",
       " array([ 0.90757852]),\n",
       " array([ 0.90757852]),\n",
       " array([ 0.90757852]),\n",
       " array([ 0.90757852]),\n",
       " array([ 0.90757852]),\n",
       " array([ 0.90757852]),\n",
       " array([ 0.89087142]),\n",
       " array([ 1.0161384]),\n",
       " array([ 1.0161384]),\n",
       " array([ 1.0161384]),\n",
       " array([ 1.0161384]),\n",
       " array([ 1.0161384]),\n",
       " array([ 1.0161384]),\n",
       " array([ 0.75187158]),\n",
       " array([ 0.75187158]),\n",
       " array([ 0.88243272]),\n",
       " array([ 0.88243272]),\n",
       " array([ 0.88243272]),\n",
       " array([ 0.88243272]),\n",
       " array([ 0.88243272]),\n",
       " array([ 0.88243272]),\n",
       " array([ 0.88243272]),\n",
       " array([ 0.88243272]),\n",
       " array([ 0.88243272]),\n",
       " array([ 0.88243272]),\n",
       " array([ 0.88243272]),\n",
       " array([ 0.95437442]),\n",
       " array([ 0.95437442]),\n",
       " array([ 0.95437442]),\n",
       " array([ 0.95437442]),\n",
       " array([ 0.95437442]),\n",
       " array([ 0.95437442]),\n",
       " array([ 0.95437442]),\n",
       " array([ 0.95437442]),\n",
       " array([ 0.95437442]),\n",
       " array([ 0.95437442]),\n",
       " array([ 0.95437442]),\n",
       " array([ 0.95437442]),\n",
       " array([ 0.95437442]),\n",
       " array([ 0.95437442]),\n",
       " array([ 0.95437442]),\n",
       " array([ 0.95437442]),\n",
       " array([ 0.95437442]),\n",
       " array([ 0.95437442]),\n",
       " array([ 0.95437442]),\n",
       " array([ 0.95437442]),\n",
       " array([ 0.95437442]),\n",
       " array([ 0.95437442]),\n",
       " array([ 0.95437442]),\n",
       " array([ 0.95437442]),\n",
       " array([ 0.95437442]),\n",
       " array([ 0.92300883]),\n",
       " array([ 0.92300883]),\n",
       " array([ 0.92300883]),\n",
       " array([ 0.92300883]),\n",
       " array([ 0.92300883]),\n",
       " array([ 0.92300883]),\n",
       " array([ 0.92300883]),\n",
       " array([ 0.77102479]),\n",
       " array([ 0.77102479]),\n",
       " array([ 0.77102479]),\n",
       " array([ 0.77102479]),\n",
       " array([ 0.77102479]),\n",
       " array([ 0.77102479]),\n",
       " array([ 0.77102479]),\n",
       " array([ 0.77102479]),\n",
       " array([ 0.77102479]),\n",
       " array([ 0.77102479]),\n",
       " array([ 0.77102479]),\n",
       " array([ 0.77102479]),\n",
       " array([ 0.82978523]),\n",
       " array([ 0.82978523]),\n",
       " array([ 0.82978523]),\n",
       " array([ 0.82978523]),\n",
       " array([ 0.82978523]),\n",
       " array([ 0.82978523]),\n",
       " array([ 0.82978523]),\n",
       " array([ 0.82978523]),\n",
       " array([ 0.82978523]),\n",
       " array([ 0.77392536]),\n",
       " array([ 0.77392536]),\n",
       " array([ 0.77392536]),\n",
       " array([ 0.77392536]),\n",
       " array([ 0.77392536]),\n",
       " array([ 0.77392536]),\n",
       " array([ 0.77392536]),\n",
       " array([ 0.77392536]),\n",
       " array([ 0.77392536]),\n",
       " array([ 0.77392536]),\n",
       " array([ 0.77392536]),\n",
       " array([ 1.00177408]),\n",
       " array([ 1.00177408]),\n",
       " array([ 1.00177408]),\n",
       " array([ 1.00177408]),\n",
       " array([ 1.00177408]),\n",
       " array([ 1.00177408]),\n",
       " array([ 0.84740015]),\n",
       " array([ 0.84740015]),\n",
       " array([ 0.63625156]),\n",
       " array([ 0.63625156]),\n",
       " array([ 0.63625156]),\n",
       " array([ 0.9725775])]"
      ]
     },
     "execution_count": 234,
     "metadata": {},
     "output_type": "execute_result"
    }
   ],
   "source": [
    "metropolis_sampler([2], data, make_p, 200, norm(), 1)"
   ]
  },
  {
   "cell_type": "code",
   "execution_count": 235,
   "metadata": {},
   "outputs": [
    {
     "data": {
      "text/plain": [
       "[[2],\n",
       " [2],\n",
       " array([ 1.72023623]),\n",
       " array([ 1.72023623]),\n",
       " array([ 1.72023623]),\n",
       " array([ 0.93277206]),\n",
       " array([ 0.93277206]),\n",
       " array([ 0.93277206]),\n",
       " array([ 0.93277206]),\n",
       " array([ 0.93277206]),\n",
       " array([ 0.93277206]),\n",
       " array([ 0.93277206]),\n",
       " array([ 0.93277206]),\n",
       " array([ 0.93277206]),\n",
       " array([ 0.93277206]),\n",
       " array([ 0.93277206]),\n",
       " array([ 0.93277206]),\n",
       " array([ 0.93277206]),\n",
       " array([ 0.93277206]),\n",
       " array([ 0.93277206]),\n",
       " array([ 0.93277206]),\n",
       " array([ 0.93277206]),\n",
       " array([ 0.93277206]),\n",
       " array([ 0.93277206]),\n",
       " array([ 0.93277206]),\n",
       " array([ 0.93277206]),\n",
       " array([ 0.93277206]),\n",
       " array([ 0.93277206]),\n",
       " array([ 0.93277206]),\n",
       " array([ 0.93277206]),\n",
       " array([ 0.93277206]),\n",
       " array([ 0.84783508]),\n",
       " array([ 0.84783508]),\n",
       " array([ 0.84783508]),\n",
       " array([ 0.84783508]),\n",
       " array([ 0.84783508]),\n",
       " array([ 0.84783508]),\n",
       " array([ 0.84783508]),\n",
       " array([ 0.84783508]),\n",
       " array([ 0.84783508]),\n",
       " array([ 0.84783508]),\n",
       " array([ 0.84783508]),\n",
       " array([ 0.84783508]),\n",
       " array([ 0.84783508]),\n",
       " array([ 0.84783508]),\n",
       " array([ 0.84783508]),\n",
       " array([ 0.84783508]),\n",
       " array([ 0.84783508]),\n",
       " array([ 0.84783508]),\n",
       " array([ 0.95421502]),\n",
       " array([ 0.95421502]),\n",
       " array([ 0.95421502]),\n",
       " array([ 0.95421502]),\n",
       " array([ 0.95421502]),\n",
       " array([ 0.95421502]),\n",
       " array([ 0.95421502]),\n",
       " array([ 0.95421502]),\n",
       " array([ 0.95421502]),\n",
       " array([ 0.95421502]),\n",
       " array([ 0.95421502]),\n",
       " array([ 0.95421502]),\n",
       " array([ 0.95421502]),\n",
       " array([ 0.95421502]),\n",
       " array([ 0.95421502]),\n",
       " array([ 0.9493368]),\n",
       " array([ 0.9493368]),\n",
       " array([ 0.9493368]),\n",
       " array([ 0.9493368]),\n",
       " array([ 0.9493368]),\n",
       " array([ 0.77397426]),\n",
       " array([ 0.77397426]),\n",
       " array([ 0.77397426]),\n",
       " array([ 0.77397426]),\n",
       " array([ 0.77397426]),\n",
       " array([ 0.77397426]),\n",
       " array([ 0.65766858]),\n",
       " array([ 0.9529588]),\n",
       " array([ 0.9529588]),\n",
       " array([ 0.9529588]),\n",
       " array([ 0.9529588]),\n",
       " array([ 0.9529588]),\n",
       " array([ 0.9529588]),\n",
       " array([ 0.9529588]),\n",
       " array([ 0.9529588]),\n",
       " array([ 0.9529588]),\n",
       " array([ 1.02984552]),\n",
       " array([ 1.02984552]),\n",
       " array([ 1.02984552]),\n",
       " array([ 1.02984552]),\n",
       " array([ 1.02984552]),\n",
       " array([ 0.76004596]),\n",
       " array([ 0.76004596]),\n",
       " array([ 0.76004596]),\n",
       " array([ 0.76004596]),\n",
       " array([ 0.76004596]),\n",
       " array([ 0.76004596]),\n",
       " array([ 0.76004596]),\n",
       " array([ 0.76004596]),\n",
       " array([ 0.76004596]),\n",
       " array([ 0.76004596]),\n",
       " array([ 0.76004596]),\n",
       " array([ 0.76004596]),\n",
       " array([ 0.76004596]),\n",
       " array([ 0.67882331]),\n",
       " array([ 0.67882331]),\n",
       " array([ 0.67882331]),\n",
       " array([ 0.67882331]),\n",
       " array([ 0.84264301]),\n",
       " array([ 0.84264301]),\n",
       " array([ 0.84264301]),\n",
       " array([ 0.84537928]),\n",
       " array([ 0.84537928]),\n",
       " array([ 0.93124967]),\n",
       " array([ 0.82249196]),\n",
       " array([ 0.82249196]),\n",
       " array([ 0.82249196]),\n",
       " array([ 0.82249196]),\n",
       " array([ 0.82249196]),\n",
       " array([ 0.82249196]),\n",
       " array([ 0.82249196]),\n",
       " array([ 0.82249196]),\n",
       " array([ 0.82249196]),\n",
       " array([ 0.82249196]),\n",
       " array([ 0.82249196]),\n",
       " array([ 0.82249196]),\n",
       " array([ 0.82249196]),\n",
       " array([ 0.82249196]),\n",
       " array([ 0.82249196]),\n",
       " array([ 0.82249196]),\n",
       " array([ 0.82249196]),\n",
       " array([ 0.82249196]),\n",
       " array([ 0.82249196]),\n",
       " array([ 0.82249196]),\n",
       " array([ 0.82249196]),\n",
       " array([ 0.82249196]),\n",
       " array([ 0.82249196]),\n",
       " array([ 0.82249196]),\n",
       " array([ 0.82249196]),\n",
       " array([ 0.82249196]),\n",
       " array([ 0.82249196]),\n",
       " array([ 0.82249196]),\n",
       " array([ 0.82249196]),\n",
       " array([ 0.82249196]),\n",
       " array([ 0.82249196]),\n",
       " array([ 0.82249196]),\n",
       " array([ 0.82249196]),\n",
       " array([ 0.82249196]),\n",
       " array([ 0.82249196]),\n",
       " array([ 0.85903214]),\n",
       " array([ 0.85903214]),\n",
       " array([ 0.85903214]),\n",
       " array([ 0.85903214]),\n",
       " array([ 0.85903214]),\n",
       " array([ 0.85903214]),\n",
       " array([ 0.85903214]),\n",
       " array([ 0.85903214]),\n",
       " array([ 0.85903214]),\n",
       " array([ 0.85903214]),\n",
       " array([ 0.85903214]),\n",
       " array([ 0.85903214]),\n",
       " array([ 0.85903214]),\n",
       " array([ 0.85903214]),\n",
       " array([ 0.85903214]),\n",
       " array([ 0.75488182]),\n",
       " array([ 0.75488182]),\n",
       " array([ 0.75488182]),\n",
       " array([ 0.75488182]),\n",
       " array([ 0.75488182]),\n",
       " array([ 0.75488182]),\n",
       " array([ 0.75564655]),\n",
       " array([ 0.7749387]),\n",
       " array([ 0.7749387]),\n",
       " array([ 0.7749387]),\n",
       " array([ 0.7749387]),\n",
       " array([ 0.7749387]),\n",
       " array([ 0.8672838]),\n",
       " array([ 0.8672838]),\n",
       " array([ 0.8672838]),\n",
       " array([ 0.8672838]),\n",
       " array([ 0.74107392]),\n",
       " array([ 0.74107392]),\n",
       " array([ 0.74107392]),\n",
       " array([ 0.74107392]),\n",
       " array([ 0.74107392]),\n",
       " array([ 0.74107392]),\n",
       " array([ 0.74107392]),\n",
       " array([ 0.74107392]),\n",
       " array([ 0.74107392]),\n",
       " array([ 0.74107392]),\n",
       " array([ 0.74107392]),\n",
       " array([ 0.74107392]),\n",
       " array([ 0.74107392]),\n",
       " array([ 0.74107392]),\n",
       " array([ 0.74107392]),\n",
       " array([ 0.74665457]),\n",
       " array([ 0.74665457]),\n",
       " array([ 0.74665457]),\n",
       " array([ 0.74665457]),\n",
       " array([ 0.74665457]),\n",
       " array([ 0.70999009]),\n",
       " array([ 0.70999009]),\n",
       " array([ 0.7035124]),\n",
       " array([ 0.7035124]),\n",
       " array([ 0.83279293]),\n",
       " array([ 0.83279293]),\n",
       " array([ 0.83279293]),\n",
       " array([ 0.83279293]),\n",
       " array([ 0.83279293]),\n",
       " array([ 0.83279293]),\n",
       " array([ 0.83279293]),\n",
       " array([ 0.83279293]),\n",
       " array([ 0.83279293]),\n",
       " array([ 0.83279293]),\n",
       " array([ 0.83279293]),\n",
       " array([ 0.83279293]),\n",
       " array([ 0.83279293]),\n",
       " array([ 0.83279293]),\n",
       " array([ 0.7031624]),\n",
       " array([ 0.7031624]),\n",
       " array([ 0.7031624]),\n",
       " array([ 0.7031624]),\n",
       " array([ 0.7031624]),\n",
       " array([ 0.7031624]),\n",
       " array([ 0.7031624]),\n",
       " array([ 0.6893781]),\n",
       " array([ 0.6893781]),\n",
       " array([ 0.6893781]),\n",
       " array([ 0.6893781]),\n",
       " array([ 0.6893781]),\n",
       " array([ 0.6893781]),\n",
       " array([ 0.8997769]),\n",
       " array([ 0.8997769]),\n",
       " array([ 0.8997769]),\n",
       " array([ 0.8997769]),\n",
       " array([ 0.8997769]),\n",
       " array([ 0.8997769]),\n",
       " array([ 0.8997769]),\n",
       " array([ 0.8997769]),\n",
       " array([ 0.8997769]),\n",
       " array([ 0.8997769]),\n",
       " array([ 0.8997769]),\n",
       " array([ 0.8997769]),\n",
       " array([ 0.8997769]),\n",
       " array([ 0.98389282]),\n",
       " array([ 0.98389282]),\n",
       " array([ 0.98389282]),\n",
       " array([ 0.98389282]),\n",
       " array([ 0.98389282]),\n",
       " array([ 0.98389282]),\n",
       " array([ 0.98389282]),\n",
       " array([ 0.98389282]),\n",
       " array([ 0.98389282]),\n",
       " array([ 0.98389282]),\n",
       " array([ 0.98389282]),\n",
       " array([ 0.98389282]),\n",
       " array([ 0.98389282]),\n",
       " array([ 0.98389282]),\n",
       " array([ 0.98389282]),\n",
       " array([ 0.6113322]),\n",
       " array([ 0.6113322]),\n",
       " array([ 0.6113322]),\n",
       " array([ 0.6113322]),\n",
       " array([ 0.6113322]),\n",
       " array([ 0.6113322]),\n",
       " array([ 0.6113322]),\n",
       " array([ 0.6113322]),\n",
       " array([ 0.6113322]),\n",
       " array([ 0.6113322]),\n",
       " array([ 0.64325672]),\n",
       " array([ 0.64325672]),\n",
       " array([ 0.64325672]),\n",
       " array([ 0.64325672]),\n",
       " array([ 0.64325672]),\n",
       " array([ 0.6475495]),\n",
       " array([ 0.6475495]),\n",
       " array([ 1.10665742]),\n",
       " array([ 0.87905066]),\n",
       " array([ 0.87905066]),\n",
       " array([ 0.87905066]),\n",
       " array([ 0.87905066]),\n",
       " array([ 0.87905066]),\n",
       " array([ 0.87905066]),\n",
       " array([ 0.87905066]),\n",
       " array([ 0.87905066]),\n",
       " array([ 0.87905066]),\n",
       " array([ 0.87905066]),\n",
       " array([ 0.87905066]),\n",
       " array([ 0.87905066]),\n",
       " array([ 0.87905066]),\n",
       " array([ 0.94596253]),\n",
       " array([ 0.94596253]),\n",
       " array([ 0.94596253]),\n",
       " array([ 0.94596253]),\n",
       " array([ 0.94596253]),\n",
       " array([ 0.94596253]),\n",
       " array([ 0.94596253]),\n",
       " array([ 0.94596253]),\n",
       " array([ 0.94596253]),\n",
       " array([ 0.94596253]),\n",
       " array([ 0.94596253]),\n",
       " array([ 0.94596253])]"
      ]
     },
     "execution_count": 235,
     "metadata": {},
     "output_type": "execute_result"
    }
   ],
   "source": [
    "metropolis_sampler([2], data, make_p, 300, norm(), 1)"
   ]
  },
  {
   "cell_type": "markdown",
   "metadata": {},
   "source": [
    "- With a bad starting guess, it will take longer and longer to converge"
   ]
  },
  {
   "cell_type": "markdown",
   "metadata": {},
   "source": [
    "Try to find an initial guess that does not seem to converge after 1000 samples. (Note that you may have to avoid values that are too extreme, due to numerical overflow issues. [If you wish, you can update the sampler to operate in log-probability space to fix this.])"
   ]
  },
  {
   "cell_type": "code",
   "execution_count": 278,
   "metadata": {
    "collapsed": true
   },
   "outputs": [],
   "source": [
    "samples = metropolis_sampler([-35], data, make_p, 1000, norm(), .05)"
   ]
  },
  {
   "cell_type": "code",
   "execution_count": 282,
   "metadata": {},
   "outputs": [
    {
     "data": {
      "text/plain": [
       "0.89615348260590622"
      ]
     },
     "execution_count": 282,
     "metadata": {},
     "output_type": "execute_result"
    }
   ],
   "source": [
    "np.mean(data)"
   ]
  },
  {
   "cell_type": "code",
   "execution_count": 280,
   "metadata": {},
   "outputs": [
    {
     "data": {
      "text/plain": [
       "[<matplotlib.lines.Line2D at 0x114c47550>]"
      ]
     },
     "execution_count": 280,
     "metadata": {},
     "output_type": "execute_result"
    },
    {
     "data": {
      "image/png": "[encoded data removed]",
      "text/plain": [
       "<matplotlib.figure.Figure at 0x114a888d0>"
      ]
     },
     "metadata": {},
     "output_type": "display_data"
    }
   ],
   "source": [
    "plt.plot(samples)"
   ]
  },
  {
   "cell_type": "markdown",
   "metadata": {},
   "source": [
    "- If you change the standard devaition, it might not converge after 1000 steps. This is because you do not reach the correct point even though you are moving in the correct direction. Each step you take is small because the standard deviation is small"
   ]
  },
  {
   "cell_type": "markdown",
   "metadata": {},
   "source": [
    "Experiment with different proposal standard deviation values. Conjecture a relationship between the stddev and the convergence rate.\n"
   ]
  },
  {
   "cell_type": "code",
   "execution_count": 237,
   "metadata": {},
   "outputs": [
    {
     "data": {
      "image/png": "[encoded data removed]",
      "text/plain": [
       "<matplotlib.figure.Figure at 0x1122510f0>"
      ]
     },
     "metadata": {},
     "output_type": "display_data"
    }
   ],
   "source": [
    "plt.plot(metropolis_sampler([1], data, make_p, 1000, norm(), 2));"
   ]
  },
  {
   "cell_type": "code",
   "execution_count": 238,
   "metadata": {},
   "outputs": [
    {
     "data": {
      "image/png": "[encoded data removed]",
      "text/plain": [
       "<matplotlib.figure.Figure at 0x112c72c50>"
      ]
     },
     "metadata": {},
     "output_type": "display_data"
    }
   ],
   "source": [
    "plt.plot(metropolis_sampler([1], data, make_p, 1000, norm(), 5));"
   ]
  },
  {
   "cell_type": "code",
   "execution_count": 239,
   "metadata": {},
   "outputs": [
    {
     "data": {
      "image/png": "[encoded data removed]",
      "text/plain": [
       "<matplotlib.figure.Figure at 0x1122240f0>"
      ]
     },
     "metadata": {},
     "output_type": "display_data"
    }
   ],
   "source": [
    "plt.plot(metropolis_sampler([1], data, make_p, 1000, norm(), 10));"
   ]
  },
  {
   "cell_type": "markdown",
   "metadata": {},
   "source": [
    "- As the stddev increases, it takes longer (more samples) to converge to the true parameter"
   ]
  },
  {
   "cell_type": "code",
   "execution_count": null,
   "metadata": {
    "collapsed": true
   },
   "outputs": [],
   "source": []
  },
  {
   "cell_type": "markdown",
   "metadata": {},
   "source": [
    "Now we'll create a plot of our traces. This plot shows the value of each sample."
   ]
  },
  {
   "cell_type": "code",
   "execution_count": 257,
   "metadata": {},
   "outputs": [
    {
     "data": {
      "image/png": "[encoded data removed]",
      "text/plain": [
       "<matplotlib.figure.Figure at 0x114794c18>"
      ]
     },
     "metadata": {},
     "output_type": "display_data"
    }
   ],
   "source": [
    "traces = metropolis_sampler([1.0], data, make_p, 1000, norm(), 0.1)\n",
    "fig, ax = plt.subplots()\n",
    "ax.plot([a[0] for a in traces])\n",
    "_ = ax.set(xlabel='sample', ylabel='mu');"
   ]
  },
  {
   "cell_type": "markdown",
   "metadata": {},
   "source": [
    "Plot traces of three other initial guesses and three other proposal standard deviations. Give explanations for why the plots look the way they do."
   ]
  },
  {
   "cell_type": "code",
   "execution_count": 255,
   "metadata": {},
   "outputs": [
    {
     "data": {
      "image/png": "[encoded data removed]",
      "text/plain": [
       "<matplotlib.figure.Figure at 0x1145ca358>"
      ]
     },
     "metadata": {},
     "output_type": "display_data"
    }
   ],
   "source": [
    "traces = metropolis_sampler([1.1], data, make_p, 1000, norm(), 1.0)\n",
    "fig, ax = plt.subplots()\n",
    "ax.plot([a[0] for a in traces])\n",
    "_ = ax.set(xlabel='sample', ylabel='mu');"
   ]
  },
  {
   "cell_type": "code",
   "execution_count": 253,
   "metadata": {},
   "outputs": [
    {
     "data": {
      "image/png": "[encoded data removed]",
      "text/plain": [
       "<matplotlib.figure.Figure at 0x11202dc88>"
      ]
     },
     "metadata": {},
     "output_type": "display_data"
    }
   ],
   "source": [
    "traces = metropolis_sampler([11.1], data, make_p, 1000, norm(), 5.0)\n",
    "fig, ax = plt.subplots()\n",
    "ax.plot([a[0] for a in traces])\n",
    "_ = ax.set(xlabel='sample', ylabel='mu');"
   ]
  },
  {
   "cell_type": "markdown",
   "metadata": {},
   "source": [
    "- With a larger standard deviation, your posterior makes larger 'jumps' to other points in your graph"
   ]
  },
  {
   "cell_type": "markdown",
   "metadata": {},
   "source": [
    "\"Burn-in\" is a term for the initial samples that we want to discard. Why would we want to discard them? Can you think of a way to determine when we should stop the burn-in process?"
   ]
  },
  {
   "cell_type": "markdown",
   "metadata": {
    "collapsed": true
   },
   "source": [
    "- \"Burn in\" is a term used to describe the first X number of samples from MCMC. These samples are generally not representative of the true parameter of interest because they may lay far away from the areas of highest probability from your function. \n",
    "- You can look at the trace of the MCMC to see that it resembles while noise (i.e. no autocorrelation)\n",
    "- You could also look at the change of the value from the posterior and see that it is either increasing or decreasing about 50% of the time for each"
   ]
  },
  {
   "cell_type": "code",
   "execution_count": null,
   "metadata": {
    "collapsed": true
   },
   "outputs": [],
   "source": []
  },
  {
   "cell_type": "code",
   "execution_count": null,
   "metadata": {
    "collapsed": true
   },
   "outputs": [],
   "source": []
  },
  {
   "cell_type": "markdown",
   "metadata": {},
   "source": [
    "To wrap up, let's use PyMC3 to compare to our handwritten sampler."
   ]
  },
  {
   "cell_type": "code",
   "execution_count": 258,
   "metadata": {},
   "outputs": [
    {
     "name": "stderr",
     "output_type": "stream",
     "text": [
      "100%|██████████| 15000/15000 [00:02<00:00, 7319.01it/s]\n"
     ]
    },
    {
     "data": {
      "image/png": "[encoded data removed]",
      "text/plain": [
       "<matplotlib.figure.Figure at 0x11462e5f8>"
      ]
     },
     "metadata": {},
     "output_type": "display_data"
    }
   ],
   "source": [
    "import pymc3 as pm\n",
    "\n",
    "with pm.Model():\n",
    "    mu = pm.Normal('mu', 1, 1)\n",
    "    sigma = 1.\n",
    "    returns = pm.Normal('returns', mu=mu, sd=sigma, observed=data)\n",
    "    \n",
    "    step = pm.Metropolis()\n",
    "    pymc3_traces = pm.sample(15000, step)\n",
    "    \n",
    "assert len(traces) > 1000, 'run the sampler with high n_samples'\n",
    "\n",
    "sns.distplot(pymc3_traces[2000:]['mu'], label='PyMC3 sampler');\n",
    "sns.distplot(traces[500:], label='Hand-written sampler');\n",
    "plt.legend();"
   ]
  },
  {
   "cell_type": "markdown",
   "metadata": {},
   "source": [
    "Verify through the above that our sampler matches that of PyMC3's Metropolis sampler."
   ]
  },
  {
   "cell_type": "code",
   "execution_count": null,
   "metadata": {
    "collapsed": true
   },
   "outputs": [],
   "source": []
  }
 ],
 "metadata": {
  "kernelspec": {
   "display_name": "Python 3",
   "language": "python",
   "name": "python3"
  },
  "language_info": {
   "codemirror_mode": {
    "name": "ipython",
    "version": 3
   },
   "file_extension": ".py",
   "mimetype": "text/x-python",
   "name": "python",
   "nbconvert_exporter": "python",
   "pygments_lexer": "ipython3",
   "version": "3.6.1"
  }
 },
 "nbformat": 4,
 "nbformat_minor": 2
}
