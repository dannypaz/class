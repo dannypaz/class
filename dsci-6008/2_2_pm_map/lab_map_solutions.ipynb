{
 "cells": [
  {
   "cell_type": "markdown",
   "metadata": {},
   "source": [
    "Maximum A Posteriori (MAP) Estimation at Casino Evil \n",
    "----\n",
    "\n",
    "<br>\n",
    "<center><img src=\"images/evil.png\" width=\"400\"/></center>\n",
    "\n",
    "You and your pair have decided to go to Nevada after graduation but are too poor to go to Las Vegas. You ended up in Fallon, NV at __Casino Evil__😈.\n",
    "\n",
    "The first game you play is a coin flipping game. But you think Casino Evil might be using unfair coins.\n",
    "\n",
    "We are going to create MAP estimates to model that Bernoulli distribution. \n",
    "\n",
    "For MAP we need some kind of prior, the beta distribution is the conjugate prior probability distribution for the Bernoulli distribution.\n",
    "\n",
    "For example, the beta distribution can be used in Bayesian analysis to describe initial prior knowledge concerning probability of success (e.g., bias of a coin towards heads)."
   ]
  },
  {
   "cell_type": "code",
   "execution_count": 71,
   "metadata": {
    "collapsed": true
   },
   "outputs": [],
   "source": [
    "reset -fs"
   ]
  },
  {
   "cell_type": "markdown",
   "metadata": {},
   "source": [
    "SymPy\n",
    "-----\n",
    "\n",
    "SymPy is a Python library for symbolic mathematics. It will help us with the symbolic calculus.\n",
    "\n",
    "__TODO__: Install sympy\n",
    "\n",
    "$ pip install sympy"
   ]
  },
  {
   "cell_type": "markdown",
   "metadata": {},
   "source": [
    "--------"
   ]
  },
  {
   "cell_type": "code",
   "execution_count": 72,
   "metadata": {
    "collapsed": true
   },
   "outputs": [],
   "source": [
    "import sympy\n",
    "from sympy import stats as st\n",
    "from sympy.abc import p,k,n\n",
    "\n",
    "import matplotlib.pyplot as plt\n",
    "import numpy as np\n",
    "from scipy.stats import beta\n",
    "\n",
    "%matplotlib inline"
   ]
  },
  {
   "cell_type": "markdown",
   "metadata": {},
   "source": [
    "I have written the objective function for you.\n",
    "\n",
    "__TODO__: Please comment each line"
   ]
  },
  {
   "cell_type": "code",
   "execution_count": 73,
   "metadata": {
    "collapsed": true
   },
   "outputs": [],
   "source": [
    "α = 6\n",
    "β = 6\n",
    "objective = sympy.expand_log(sympy.log(p**k*(1-p)**(n-k)* \n",
    "                             st.density(st.Beta('p', α, β))(p)))"
   ]
  },
  {
   "cell_type": "code",
   "execution_count": 74,
   "metadata": {
    "collapsed": true
   },
   "outputs": [],
   "source": [
    "# Solution\n",
    "α = 6\n",
    "β = 6\n",
    "objective = sympy.expand_log(sympy.log(p**k*(1-p)**(n-k)* # Log of the Bernoulli distribution\n",
    "                             st.density(st.Beta('p', α, β))(p))) # The prior"
   ]
  },
  {
   "cell_type": "markdown",
   "metadata": {},
   "source": [
    "__TODO__: Plot the Beta Distrubtion prior"
   ]
  },
  {
   "cell_type": "code",
   "execution_count": 75,
   "metadata": {},
   "outputs": [
    {
     "data": {
      "image/png": "[encoded data removed]",
      "text/plain": [
       "<matplotlib.figure.Figure at 0x110275e80>"
      ]
     },
     "metadata": {},
     "output_type": "display_data"
    }
   ],
   "source": [
    "# Solution\n",
    "\n",
    "x = np.linspace(beta.ppf(0.01, α, β),\n",
    "                 beta.ppf(0.99, α, β), 100)\n",
    "plt.plot(x, beta.pdf(x, α, β ),\n",
    "            'r-', lw=5, alpha=0.6, label='beta pdf');\n"
   ]
  },
  {
   "cell_type": "markdown",
   "metadata": {},
   "source": [
    "__TODO__: What does this prior suggest about our beliefs?"
   ]
  },
  {
   "cell_type": "markdown",
   "metadata": {},
   "source": [
    "__Solution__: Mostly like to get a fair coin, but there could be bias coin."
   ]
  },
  {
   "cell_type": "markdown",
   "metadata": {},
   "source": [
    "Let's use calculus to maximize objective"
   ]
  },
  {
   "cell_type": "code",
   "execution_count": 76,
   "metadata": {},
   "outputs": [
    {
     "name": "stdout",
     "output_type": "stream",
     "text": [
      "(k + 5)/(n + 10)\n"
     ]
    }
   ],
   "source": [
    "max_objective = sympy.solve(sympy.simplify(sympy.diff(objective,p)),p)[0]\n",
    "print(max_objective)"
   ]
  },
  {
   "cell_type": "markdown",
   "metadata": {},
   "source": [
    "__TODO__: What is k and n?"
   ]
  },
  {
   "cell_type": "markdown",
   "metadata": {},
   "source": [
    "__Solution__\n",
    "\n",
    "k is the number of heads in the sample\n",
    "\n",
    "n is the number of flips"
   ]
  },
  {
   "cell_type": "markdown",
   "metadata": {},
   "source": [
    "__TODO__: Write the MAP estimator for θ"
   ]
  },
  {
   "cell_type": "markdown",
   "metadata": {},
   "source": [
    "__Solution__:\n",
    "\n",
    "$$\n",
    "\\hat{\\theta}_{MAP} = \\frac{k+5}{n+10}\n",
    "$$"
   ]
  },
  {
   "cell_type": "markdown",
   "metadata": {},
   "source": [
    "__TODO__: Is this a bias estimator of θ? Does that result make intuitive sense?\n",
    "\n",
    "<br>\n",
    "<details><summary>\n",
    "Click here for a hint…\n",
    "</summary>\n",
    "What is the expected value of θ?\n",
    "</details>"
   ]
  },
  {
   "cell_type": "markdown",
   "metadata": {},
   "source": [
    "__Solution__: Hell Yeah! \n",
    "\n",
    "$$\n",
    "\\mathbb{E}(\\hat{\\theta}_{MAP}) = \\frac{5+n \\theta}{10 +n} \\neq \\theta\n",
    "$$\n",
    "\n",
    "We constructed bias Remember that we constructed this entire estimator using the idea of the prior probability of $\\mathbb{P}(\\theta)$ which *favors* (biases!) the estimate according to the prior.  "
   ]
  },
  {
   "cell_type": "markdown",
   "metadata": {},
   "source": [
    "__TODO__: Calculate the maximum likelihood (ML) estimator for θ:"
   ]
  },
  {
   "cell_type": "markdown",
   "metadata": {},
   "source": [
    "__Solution__:\n",
    "$$\n",
    "\\hat{\\theta}_{ML} = \\frac{1}{n} \\sum_{i=1}^n X_i =  \\frac{k}{n}\n",
    "$$"
   ]
  },
  {
   "cell_type": "markdown",
   "metadata": {},
   "source": [
    "__TODO__: How does the MAP and MLE θs compare?"
   ]
  },
  {
   "cell_type": "markdown",
   "metadata": {},
   "source": [
    "__Solution__: MLE is always unbiased but we can't wieght our prior."
   ]
  },
  {
   "cell_type": "markdown",
   "metadata": {},
   "source": [
    "__TODO__: Change the Beta distribution so MAP will return the same estimate as MLE:"
   ]
  },
  {
   "cell_type": "code",
   "execution_count": 77,
   "metadata": {
    "collapsed": true
   },
   "outputs": [],
   "source": [
    "# Solution\n",
    "α = 1\n",
    "β = 1\n",
    "objective = sympy.expand_log(sympy.log(p**k*(1-p)**(n-k)* \n",
    "                             st.density(st.Beta('p', α, β))(p)))"
   ]
  },
  {
   "cell_type": "markdown",
   "metadata": {},
   "source": [
    "__TODO__: Plot this Beta Distrubtion prior"
   ]
  },
  {
   "cell_type": "code",
   "execution_count": 78,
   "metadata": {},
   "outputs": [
    {
     "data": {
      "image/png": "[encoded data removed]",
      "text/plain": [
       "<matplotlib.figure.Figure at 0x110039160>"
      ]
     },
     "metadata": {},
     "output_type": "display_data"
    }
   ],
   "source": [
    "# Solution\n",
    "x = np.linspace(beta.ppf(0.01, α, β),\n",
    "                 beta.ppf(0.99, α, β), 100)\n",
    "plt.plot(x, beta.pdf(x, α, β ),\n",
    "            'r-', lw=5, alpha=0.6, label='beta pdf');"
   ]
  },
  {
   "cell_type": "markdown",
   "metadata": {},
   "source": [
    "__TODO__: What does this prior suggest about our beliefs?"
   ]
  },
  {
   "cell_type": "markdown",
   "metadata": {},
   "source": [
    "__Solution__: There is no bias in our beliefs"
   ]
  },
  {
   "cell_type": "markdown",
   "metadata": {},
   "source": [
    "__TODO__: Redo the caculus to to maximize the objective"
   ]
  },
  {
   "cell_type": "code",
   "execution_count": 79,
   "metadata": {},
   "outputs": [
    {
     "name": "stdout",
     "output_type": "stream",
     "text": [
      "k/n\n"
     ]
    }
   ],
   "source": [
    "max_objective = sympy.solve(sympy.simplify(sympy.diff(objective, p)),p)[0]\n",
    "print(max_objective)"
   ]
  },
  {
   "cell_type": "markdown",
   "metadata": {},
   "source": [
    "__TOD0__ For which Θ does MLE equal MAP?"
   ]
  },
  {
   "cell_type": "markdown",
   "metadata": {
    "collapsed": true
   },
   "source": [
    "__Solution__:\n",
    "\n",
    "For example, if $\\theta=1/2$, the MAP estimator\n",
    "evaluates to $\\hat{\\theta}_{MAP}=1/2$.\n",
    "\n",
    "No bias there! "
   ]
  },
  {
   "cell_type": "markdown",
   "metadata": {},
   "source": [
    "---\n",
    "Future Directions\n",
    "-----"
   ]
  },
  {
   "cell_type": "markdown",
   "metadata": {},
   "source": [
    "We can use the previous posterior distribution as the prior for the next posterior distribution,\n",
    "\n",
    "> “Today's posterior is tomorrow's prior”   \n",
    "> — Lindley"
   ]
  },
  {
   "cell_type": "markdown",
   "metadata": {},
   "source": [
    "$$\n",
    "\\mathbb{P}(\\theta|x_{k+1}) = \\frac{\\mathbb{P}(x_{k+1}|\\theta)\\mathbb{P}(\\theta|x_k)}{\\mathbb{P}(x_{k+1})}\n",
    "$$"
   ]
  },
  {
   "cell_type": "markdown",
   "metadata": {},
   "source": [
    "We can us every data sample $x_k$ as a parameter for the posterior distribution instead of lumping all the samples together in a summation (this is where we got the $k$ term in the prior case). \n",
    "\n",
    "This case is much harder to analyze because now every incremental posterior distribution is itself a random function because of the injection of the $x$ random variable. \n",
    "\n",
    "On the other hand, this is more in line with more general Bayesian methods because it is clear that the output of this estimation process is a posterior distribution function, not just a single parameter estimate. "
   ]
  },
  {
   "cell_type": "markdown",
   "metadata": {},
   "source": [
    "-----\n",
    "Challenge Exercises\n",
    "------"
   ]
  },
  {
   "cell_type": "markdown",
   "metadata": {},
   "source": [
    "__TODO__: Calculte the variance of MAP estimate"
   ]
  },
  {
   "cell_type": "markdown",
   "metadata": {},
   "source": [
    "__Solution__:\n",
    "\n",
    "$$\n",
    "\\mathbb{V}(\\hat{\\theta}_{MAP}) = \\frac{n (1-\\theta) \\theta}{(n+10)^2}\n",
    "$$"
   ]
  },
  {
   "cell_type": "markdown",
   "metadata": {},
   "source": [
    "\n",
    "__TODO__: Calculte the variance of MLE estimate"
   ]
  },
  {
   "cell_type": "markdown",
   "metadata": {},
   "source": [
    "__Solution__:\n",
    "\n",
    "This is because the peak of the prior probability is at $\\theta=1/2$. \n",
    "\n",
    "$$\n",
    "\\mathbb{V}(\\hat{\\theta}_{ML}) = \\frac{\\theta(1-\\theta)}{n}\n",
    "$$"
   ]
  },
  {
   "cell_type": "markdown",
   "metadata": {},
   "source": [
    "__TODO__: Find the ratio of two variances"
   ]
  },
  {
   "cell_type": "markdown",
   "metadata": {},
   "source": [
    "__Solution__:\n",
    "\n",
    "$$\n",
    "\\frac{\\mathbb{V}(\\hat{\\theta}_{MAP})}{\\mathbb{V}(\\hat{\\theta}_{ML})}=\\frac{n^2}{(n+10)^2}\n",
    "$$"
   ]
  },
  {
   "cell_type": "markdown",
   "metadata": {},
   "source": [
    "__TODO__: What does the ratio tell use about two estimators?"
   ]
  },
  {
   "cell_type": "markdown",
   "metadata": {},
   "source": [
    "__Solution__:\n",
    "\n",
    "This ratio shows that the variance for the MAP-estimator is smaller\n",
    "than that of the the ML-estimator."
   ]
  },
  {
   "cell_type": "markdown",
   "metadata": {},
   "source": [
    "__TODO__: What can infer based on the ratio of two variances?"
   ]
  },
  {
   "cell_type": "markdown",
   "metadata": {},
   "source": [
    "__Solution__:\n",
    "\n",
    "This is payoff for having a biased MAP-estimator --- it requires fewer samples to estimate if the underlying parameter is consistent with the prior probability. \n",
    "\n",
    "If not, then it will take more samples to pull the estimator away from the bias. In the limit as $n \\rightarrow \\infty$, the ratio goes to one.  This means that the benefit of the reduced variance vanishes with enough samples. \n",
    "\n",
    "This shows a level of arbitrariness via the prior distribution. \n",
    "\n",
    "However, we can update our prior!"
   ]
  },
  {
   "cell_type": "markdown",
   "metadata": {},
   "source": [
    "<br>\n",
    "----"
   ]
  }
 ],
 "metadata": {
  "kernelspec": {
   "display_name": "Python 3",
   "language": "python",
   "name": "python3"
  },
  "language_info": {
   "codemirror_mode": {
    "name": "ipython",
    "version": 3
   },
   "file_extension": ".py",
   "mimetype": "text/x-python",
   "name": "python",
   "nbconvert_exporter": "python",
   "pygments_lexer": "ipython3",
   "version": "3.6.1"
  }
 },
 "nbformat": 4,
 "nbformat_minor": 1
}
