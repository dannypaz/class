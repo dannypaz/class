{
 "cells": [
  {
   "cell_type": "markdown",
   "metadata": {
    "slideshow": {
     "slide_type": "slide"
    }
   },
   "source": [
    "Kalman Filter (KF)\n",
    "-----\n",
    "<br>\n",
    "<center><img src=\"https://raw.githubusercontent.com/rlabbe/Kalman-and-Bayesian-Filters-in-Python/master/animations/05_dog_track.gif\" height=\"500\"/></center>"
   ]
  },
  {
   "cell_type": "markdown",
   "metadata": {
    "slideshow": {
     "slide_type": "slide"
    }
   },
   "source": [
    "By The End Of This Session You Should Be Able To:\n",
    "----\n",
    "\n",
    "- Define a Kalman Filter (KF)\n",
    "- Identify when to use a KF\n",
    "- Write the parts of a KF"
   ]
  },
  {
   "cell_type": "markdown",
   "metadata": {
    "slideshow": {
     "slide_type": "slide"
    }
   },
   "source": [
    "KF History\n",
    "-----\n",
    "\n",
    "<center><img src=\"https://upload.wikimedia.org/wikipedia/commons/a/ac/Rudolf_Kalman.jpg\" height=\"500\"/></center>\n",
    "\n",
    "Rudolf (Rudi) Emil Kálmán developed it in the 1960s.\n",
    "\n",
    "He incorporated into the Apollo Lunar Mission navigation."
   ]
  },
  {
   "cell_type": "markdown",
   "metadata": {
    "slideshow": {
     "slide_type": "slide"
    }
   },
   "source": [
    "Apollo code \n",
    "-----\n",
    "\n",
    "```\n",
    "6037        FLAGORGY        TC       INTPRET             #  DIONYSIAN FLAG WAVING\n",
    "\n",
    "034090,000243: 32,3241    13247        BZF      P63SPOT4 #  BRANCH IF ANTENNA ALREADY IN POSITION 1\n",
    "034091,000244: \n",
    "034092,000245: 32,3242    33254        CAF      CODE500  #  ASTRONAUT:     PLEASE CRANK THE\n",
    "034093,000246: 32,3243    04616        TC       BANKCALL #                 SILLY THING AROUND\n",
    "034094,000247: 32,3244    20623        CADR     GOPERF1                               \n",
    "034095,000248: 32,3245    16001        TCF      GOTOP00H #  TERMINATE\n",
    "034096,000249: 32,3246    13235        TCF      P63SPOT3 #  PROCEED        SEE IF HE'S LYING\n",
    "\n",
    "034101,000254: 32,3251    04635        TC       POSTJUMP #  OFF TO SEE THE WIZARD ...\n",
    "034102,000255: 32,3252    74126        CADR     BURNBABY\n",
    "```"
   ]
  },
  {
   "cell_type": "markdown",
   "metadata": {
    "slideshow": {
     "slide_type": "slide"
    }
   },
   "source": [
    "Apollo code \n",
    "-----\n",
    "\n",
    "[https://github.com/chrislgarry/Apollo-11](https://github.com/chrislgarry/Apollo-11)\n",
    "\n",
    "or [here](http://www.ibiblio.org/apollo/listings/Comanche055/KALCMANU_STEERING.agc.html)"
   ]
  },
  {
   "cell_type": "markdown",
   "metadata": {
    "slideshow": {
     "slide_type": "slide"
    }
   },
   "source": [
    "Intuitively, what does Kalman Filter (KF) do?\n",
    "----\n",
    "<br>\n",
    "<center><img src=\"https://www.codeproject.com/KB/recipes/865935/cycle.png\" width=\"500\"/></center>\n",
    "\n",
    "KF models state."
   ]
  },
  {
   "cell_type": "markdown",
   "metadata": {
    "slideshow": {
     "slide_type": "fragment"
    }
   },
   "source": [
    "Combines multiple sources of information to give an better estimate than the sources independently."
   ]
  },
  {
   "cell_type": "markdown",
   "metadata": {
    "collapsed": true,
    "slideshow": {
     "slide_type": "fragment"
    }
   },
   "source": [
    "\n",
    "\n",
    "Often one of the sources is the past, thus can modeling state transitions."
   ]
  },
  {
   "cell_type": "markdown",
   "metadata": {
    "slideshow": {
     "slide_type": "slide"
    }
   },
   "source": [
    "KF works if both sources are __uncertain__."
   ]
  },
  {
   "cell_type": "markdown",
   "metadata": {
    "slideshow": {
     "slide_type": "fragment"
    }
   },
   "source": [
    "Uncertainties can be due to many things such as:\n",
    "\n",
    "1. Initial Conditions\n",
    "2. Unmodeled Effects \n",
    "3. Dynamic Changes"
   ]
  },
  {
   "cell_type": "markdown",
   "metadata": {
    "slideshow": {
     "slide_type": "slide"
    }
   },
   "source": [
    "KF FTW\n",
    "----\n",
    "\n",
    "Can model __continuous__ distributions."
   ]
  },
  {
   "cell_type": "markdown",
   "metadata": {
    "slideshow": {
     "slide_type": "fragment"
    }
   },
   "source": [
    "KF only store current state (no history)."
   ]
  },
  {
   "cell_type": "markdown",
   "metadata": {
    "slideshow": {
     "slide_type": "fragment"
    }
   },
   "source": [
    "KF updates easily and fast, therefore can be used in real-time systems."
   ]
  },
  {
   "cell_type": "markdown",
   "metadata": {
    "slideshow": {
     "slide_type": "skip"
    }
   },
   "source": [
    "[Source](https://github.com/mikemull/Notebooks/blob/master/Kalman-Slides-PyDataChicago2016.ipynb)"
   ]
  },
  {
   "cell_type": "markdown",
   "metadata": {
    "slideshow": {
     "slide_type": "slide"
    }
   },
   "source": [
    "What are applications for KF?\n",
    "-------"
   ]
  },
  {
   "cell_type": "markdown",
   "metadata": {
    "slideshow": {
     "slide_type": "slide"
    }
   },
   "source": [
    "- Motion Planning:\n",
    "    - Navigation - Estimating the position and orientation\n",
    "    - Mapping - Estimating the world around the robot\n",
    "    - Localization - Estimating your position relative to a local world\n",
    "    - SLAM - Mapping and Localizing simultaneously\n",
    "    - Domains: Robots, Self Driving Cars, Touchpads\n",
    "- Computer vision/image processing\n",
    "- Algorithmic Trading \n",
    "- Weather prediction"
   ]
  },
  {
   "cell_type": "markdown",
   "metadata": {
    "slideshow": {
     "slide_type": "slide"
    }
   },
   "source": [
    "Why are they called Kalman \"Filters\"?\n",
    "------\n",
    "\n",
    "From signal processing, observations are always: __Signal + Noise__\n",
    "\n",
    "KF try to filter out noise to have a better model of signal."
   ]
  },
  {
   "cell_type": "markdown",
   "metadata": {
    "slideshow": {
     "slide_type": "slide"
    }
   },
   "source": [
    "KF combine:\n",
    "------\n",
    "<center><img src=\"https://www.researchgate.net/profile/Desineni_Naidu/publication/263351641/figure/fig3/AS:267612479291404@1440815195127/Figure-2-Linear-Continuous-Time-Kalman-Filter.png\" height=\"500\"/></center>\n",
    "1. A model of a system\n",
    "2. Data points from a specific instance of that system\n",
    "3. Estimates of the internal state of the system in a particular state"
   ]
  },
  {
   "cell_type": "markdown",
   "metadata": {
    "slideshow": {
     "slide_type": "slide"
    }
   },
   "source": [
    "KF updates\n",
    "-----\n",
    "\n",
    "For each new data point, there are two steps:\n",
    "\n",
    "1. The KF will predict the system state so far\n",
    "2. Take in the next actual (fuzzy/noisy) data sample and use it to update the state estimate"
   ]
  },
  {
   "cell_type": "markdown",
   "metadata": {
    "slideshow": {
     "slide_type": "slide"
    }
   },
   "source": [
    "KF example\n",
    "-----\n",
    "\n",
    "<center><img src=\"images/oops.jpg\" width=\"300\"/></center>\n",
    "\n",
    "I made a robot that runs away from me. Let's model how far the robot will get over time"
   ]
  },
  {
   "cell_type": "markdown",
   "metadata": {
    "collapsed": true,
    "slideshow": {
     "slide_type": "slide"
    }
   },
   "source": [
    "KF for Time Series\n",
    "------\n",
    "\n",
    "\n",
    "A simple time series can be defined as:\n",
    "\n",
    "$$\n",
    "\\begin{align}\n",
    "\\alpha_{t+1} & = \\alpha_{t} + \\eta_t  & \\eta_t \\sim N(-5, \\sigma^2_{\\eta}) \\\\\n",
    "\\end{align}\n",
    "$$\n",
    "\n",
    "Just signal - The next time point is lower by E[-5]."
   ]
  },
  {
   "cell_type": "code",
   "execution_count": 15,
   "metadata": {
    "collapsed": true,
    "slideshow": {
     "slide_type": "skip"
    }
   },
   "outputs": [],
   "source": [
    "reset -fs"
   ]
  },
  {
   "cell_type": "code",
   "execution_count": 21,
   "metadata": {
    "collapsed": true,
    "slideshow": {
     "slide_type": "slide"
    }
   },
   "outputs": [],
   "source": [
    "import matplotlib.pyplot as plt\n",
    "import numpy as np\n",
    "import pandas as pd\n",
    "import seaborn as sns\n",
    "# import statsmodels.api as sm\n",
    "# import statsmodels.tsa.api as smt\n",
    "\n",
    "%matplotlib inline"
   ]
  },
  {
   "cell_type": "code",
   "execution_count": 24,
   "metadata": {
    "slideshow": {
     "slide_type": "slide"
    }
   },
   "outputs": [
    {
     "data": {
      "image/png": "[encoded data removed]",
      "text/plain": [
       "<matplotlib.figure.Figure at 0x11a633e48>"
      ]
     },
     "metadata": {},
     "output_type": "display_data"
    }
   ],
   "source": [
    "sigma_h = 10.0\n",
    "n_states = 100\n",
    "h = np.random.normal(-5, sigma_h, n_states)\n",
    "h[0] = 0.0\n",
    "a = np.cumsum(h)\n",
    "\n",
    "df = pd.DataFrame(a[0:100], columns=['location'])\n",
    "df.plot(figsize=(14,6), style='b--');"
   ]
  },
  {
   "cell_type": "markdown",
   "metadata": {
    "slideshow": {
     "slide_type": "slide"
    }
   },
   "source": [
    "What we observe is a noise version:\n",
    "\n",
    "$$\n",
    "\\begin{align}\n",
    "y_t & = \\alpha_t + \\varepsilon_t \\qquad & \\varepsilon_t \\sim\n",
    "    N(0, \\sigma_\\varepsilon^2) \\\\\n",
    "\\end{align}\n",
    "$$\n",
    "\n",
    "observation = signal + noise"
   ]
  },
  {
   "cell_type": "code",
   "execution_count": 25,
   "metadata": {
    "slideshow": {
     "slide_type": "slide"
    }
   },
   "outputs": [
    {
     "data": {
      "image/png": "[encoded data removed]",
      "text/plain": [
       "<matplotlib.figure.Figure at 0x116a1eef0>"
      ]
     },
     "metadata": {},
     "output_type": "display_data"
    }
   ],
   "source": [
    "sigma_e = 15\n",
    "e = np.random.normal(0, sigma_e, n_states)\n",
    "df['observation'] = a[0:100] + e[0:100]\n",
    "df.plot(figsize=(14,6), style=['b--', 'g-',]);"
   ]
  },
  {
   "cell_type": "code",
   "execution_count": 26,
   "metadata": {
    "slideshow": {
     "slide_type": "slide"
    }
   },
   "outputs": [
    {
     "data": {
      "image/png": "[encoded data removed]",
      "text/plain": [
       "<matplotlib.figure.Figure at 0x116506a90>"
      ]
     },
     "metadata": {},
     "output_type": "display_data"
    }
   ],
   "source": [
    "df.observation.plot(figsize=(14,6), style=['g-',]);"
   ]
  },
  {
   "cell_type": "markdown",
   "metadata": {
    "slideshow": {
     "slide_type": "fragment"
    }
   },
   "source": [
    "If we can only observe _y_, what can we say about &alpha;?\n"
   ]
  },
  {
   "cell_type": "markdown",
   "metadata": {
    "slideshow": {
     "slide_type": "fragment"
    }
   },
   "source": [
    "A Kalman __Filter__ tries to recover a signal by __filter__ing out the noise."
   ]
  },
  {
   "cell_type": "markdown",
   "metadata": {
    "slideshow": {
     "slide_type": "slide"
    }
   },
   "source": [
    "State Space Model for Our Example\n",
    "-----\n",
    "\n",
    "### State Equation\n",
    "\n",
    "$$\n",
    "\\begin{align}\n",
    "\\alpha_{t+1} & = \\alpha_{t} + \\eta_t  & \\eta_t \\sim N(-5, \\sigma^2_{\\eta})\n",
    "\\\\\n",
    "\\end{align}\n",
    "$$\n",
    "\n",
    "### Observation (or Measurement) Equation\n",
    "\n",
    "$$\n",
    "\\begin{align}\n",
    "y_t & = \\alpha_t + \\varepsilon_t \\qquad & \\varepsilon_t \\sim\n",
    "    N(0, \\sigma_\\varepsilon^2) \\\\\n",
    "\\end{align}\n",
    "$$\n"
   ]
  },
  {
   "cell_type": "markdown",
   "metadata": {
    "slideshow": {
     "slide_type": "fragment"
    }
   },
   "source": [
    "The state equation describes the _dynamics_ of the system, how the system changes over time. The actual robot position at some time step."
   ]
  },
  {
   "cell_type": "markdown",
   "metadata": {
    "slideshow": {
     "slide_type": "fragment"
    }
   },
   "source": [
    "The observation equation describes what is precieved. The __sensor__ reading of the robot at some time step."
   ]
  },
  {
   "cell_type": "markdown",
   "metadata": {
    "slideshow": {
     "slide_type": "slide"
    }
   },
   "source": [
    "Generalized Linear State Space Models\n",
    "-----\n",
    "\n",
    "### State Equation\n",
    "\n",
    "$$\n",
    "\\begin{align}\n",
    "\\alpha_{t+1} & = T_t\\alpha_{t} + R_t\\eta_t  & \\eta_t \\sim N(-5, Q_t) \\\\\n",
    "\\end{align}\n",
    "$$\n",
    "\n",
    "### Observation Equation\n",
    "\n",
    "$$\n",
    "\\begin{align}\n",
    "y_t & = Z_t\\alpha_t + \\varepsilon_t \\qquad & \\varepsilon_t \\sim\n",
    "    N(0, H_t) \\\\\n",
    "\\end{align}\n",
    "$$\n",
    "\n",
    "\n",
    "- _T_ is transition matrix (from time to time+1)\n",
    "- _Q_ is state covariance\n",
    "- _Z_ is design matrix (the connection between state and observation)\n",
    "- _H_ is observation covariance"
   ]
  },
  {
   "cell_type": "markdown",
   "metadata": {
    "collapsed": true,
    "slideshow": {
     "slide_type": "slide"
    }
   },
   "source": [
    "<center><img src=\"images/overtime.png\" height=\"500\"/></center>"
   ]
  },
  {
   "cell_type": "markdown",
   "metadata": {
    "slideshow": {
     "slide_type": "fragment"
    }
   },
   "source": [
    "__Filtering__ is estimating the state for the latest observation. y<sub>t</sub>t, aka \"Now\"-casting"
   ]
  },
  {
   "cell_type": "markdown",
   "metadata": {
    "slideshow": {
     "slide_type": "slide"
    }
   },
   "source": [
    "<center><img src=\"images/overtime.png\" height=\"500\"/></center>\n",
    "\n",
    "__Prediction/forecasting__ is estimating the next state(s)"
   ]
  },
  {
   "cell_type": "markdown",
   "metadata": {
    "slideshow": {
     "slide_type": "slide"
    }
   },
   "source": [
    "<center><img src=\"images/overtime.png\" height=\"500\"/></center>\n",
    "\n",
    "__Smoothing/interpolation__ is estimating past states"
   ]
  },
  {
   "cell_type": "markdown",
   "metadata": {
    "slideshow": {
     "slide_type": "slide"
    }
   },
   "source": [
    "<center><img src=\"https://raw.githubusercontent.com/rlabbe/Kalman-and-Bayesian-Filters-in-Python/master/animations/05_dog_track.gif\" height=\"500\"/></center>"
   ]
  },
  {
   "cell_type": "markdown",
   "metadata": {
    "slideshow": {
     "slide_type": "skip"
    }
   },
   "source": [
    "Source:\n",
    "\n",
    "- Mike Mull | Forecasting with the Kalman Filter\n",
    "- https://www.youtube.com/watch?v=GmSXhmbv5Zg"
   ]
  },
  {
   "cell_type": "markdown",
   "metadata": {
    "collapsed": true,
    "slideshow": {
     "slide_type": "slide"
    }
   },
   "source": [
    "KF steps\n",
    "------\n",
    "\n",
    "1) KF takes the existing knowledge of the state (e.g., velocity, mass, position)\n"
   ]
  },
  {
   "cell_type": "markdown",
   "metadata": {
    "slideshow": {
     "slide_type": "fragment"
    }
   },
   "source": [
    "2) Uses a dynamics model (e.g., astrophysics) to predict how the state will change\n"
   ]
  },
  {
   "cell_type": "markdown",
   "metadata": {
    "slideshow": {
     "slide_type": "fragment"
    }
   },
   "source": [
    "3) Calculates the uncertainty (covariance)\n"
   ]
  },
  {
   "cell_type": "markdown",
   "metadata": {
    "slideshow": {
     "slide_type": "fragment"
    }
   },
   "source": [
    "4) Compares the prediction to actual data (e.g., from sensors)"
   ]
  },
  {
   "cell_type": "markdown",
   "metadata": {
    "slideshow": {
     "slide_type": "fragment"
    }
   },
   "source": [
    "5) Updates the knowledge of the state guided by the optimum level of uncertainty"
   ]
  },
  {
   "cell_type": "markdown",
   "metadata": {
    "slideshow": {
     "slide_type": "slide"
    }
   },
   "source": [
    "<br>\n",
    "<center><img src=\"https://upload.wikimedia.org/wikipedia/commons/thumb/a/a5/Basic_concept_of_Kalman_filtering.svg/800px-Basic_concept_of_Kalman_filtering.svg.png\" width=\"700\"/></center>"
   ]
  },
  {
   "cell_type": "markdown",
   "metadata": {
    "slideshow": {
     "slide_type": "slide"
    }
   },
   "source": [
    "[Bivariate Normal Distribution Example](https://plot.ly/~erikjan/1/bivariate-normal-distribution/#plot)"
   ]
  },
  {
   "cell_type": "markdown",
   "metadata": {
    "slideshow": {
     "slide_type": "slide"
    }
   },
   "source": [
    "[Bivariate Normal Distribution Demo](http://socr.ucla.edu/htmls/HTML5/BivariateNormal/)"
   ]
  },
  {
   "cell_type": "code",
   "execution_count": 20,
   "metadata": {
    "slideshow": {
     "slide_type": "skip"
    }
   },
   "outputs": [
    {
     "data": {
      "image/png": "[encoded data removed]",
      "text/plain": [
       "<matplotlib.figure.Figure at 0x11ad10898>"
      ]
     },
     "metadata": {},
     "output_type": "display_data"
    }
   ],
   "source": [
    "# HT: http://scipython.com/blog/visualizing-the-bivariate-gaussian-distribution/\n",
    "\n",
    "import numpy as np\n",
    "import matplotlib.pyplot as plt\n",
    "from matplotlib import cm\n",
    "from mpl_toolkits.mplot3d import Axes3D\n",
    "\n",
    "# Our 2-dimensional distribution will be over variables X and Y\n",
    "N = 60\n",
    "X = np.linspace(-3, 3, N)\n",
    "Y = np.linspace(-3, 4, N)\n",
    "X, Y = np.meshgrid(X, Y)\n",
    "\n",
    "# Mean vector and covariance matrix\n",
    "mu = np.array([0., 1.])\n",
    "Sigma = np.array([[ 1. , -0.5], [-0.5,  1.5]])\n",
    "\n",
    "# Pack X and Y into a single 3-dimensional array\n",
    "pos = np.empty(X.shape + (2,))\n",
    "pos[:, :, 0] = X\n",
    "pos[:, :, 1] = Y\n",
    "\n",
    "def multivariate_gaussian(pos, mu, Sigma):\n",
    "    \"\"\"Return the multivariate Gaussian distribution on array pos.\n",
    "\n",
    "    pos is an array constructed by packing the meshed arrays of variables\n",
    "    x_1, x_2, x_3, ..., x_k into its _last_ dimension.\n",
    "\n",
    "    \"\"\"\n",
    "\n",
    "    n = mu.shape[0]\n",
    "    Sigma_det = np.linalg.det(Sigma)\n",
    "    Sigma_inv = np.linalg.inv(Sigma)\n",
    "    N = np.sqrt((2*np.pi)**n * Sigma_det)\n",
    "    # This einsum call calculates (x-mu)T.Sigma-1.(x-mu) in a vectorized\n",
    "    # way across all the input variables.\n",
    "    fac = np.einsum('...k,kl,...l->...', pos-mu, Sigma_inv, pos-mu)\n",
    "\n",
    "    return np.exp(-fac / 2) / N\n",
    "\n",
    "# The distribution on the variables X, Y packed into pos.\n",
    "Z = multivariate_gaussian(pos, mu, Sigma)\n",
    "\n",
    "# Create a surface plot and projected filled contour plot under it.\n",
    "fig = plt.figure()\n",
    "ax = fig.gca(projection='3d')\n",
    "ax.plot_surface(X, Y, Z, rstride=3, cstride=3, linewidth=1, antialiased=True,\n",
    "                cmap=cm.viridis)\n",
    "\n",
    "cset = ax.contourf(X, Y, Z, zdir='z', offset=-0.15, cmap=cm.viridis)\n",
    "\n",
    "# Adjust the limits, ticks and view angle\n",
    "ax.set_zlim(-0.15,0.2)\n",
    "ax.set_zticks(np.linspace(0,0.2,5))\n",
    "ax.view_init(27, -21)\n",
    "\n",
    "plt.show()"
   ]
  },
  {
   "cell_type": "markdown",
   "metadata": {
    "slideshow": {
     "slide_type": "slide"
    }
   },
   "source": [
    "Check for understanding\n",
    "-----\n",
    "\n",
    "What is the shape of __Trivariate__ (3-D) Normal Distribution?"
   ]
  },
  {
   "cell_type": "markdown",
   "metadata": {
    "slideshow": {
     "slide_type": "slide"
    }
   },
   "source": [
    "A cloud - a density cloud"
   ]
  },
  {
   "cell_type": "markdown",
   "metadata": {
    "slideshow": {
     "slide_type": "slide"
    }
   },
   "source": [
    "KF in 2 dimensions\n",
    "----\n",
    "\n",
    "<center><img src=\"images/path.png\" width=\"500\"/></center>"
   ]
  },
  {
   "cell_type": "markdown",
   "metadata": {
    "slideshow": {
     "slide_type": "slide"
    }
   },
   "source": [
    "KF formalism\n",
    "-----\n",
    "\n",
    "State definition: the smallest vector that summarizes the past of the system in full.\n",
    "\n",
    "<center><img src=\"images/state.png\" width=\"500\"/></center>"
   ]
  },
  {
   "cell_type": "markdown",
   "metadata": {
    "slideshow": {
     "slide_type": "slide"
    }
   },
   "source": [
    "<center><img src=\"images/measurement.png\" width=\"500\"/></center>"
   ]
  },
  {
   "cell_type": "markdown",
   "metadata": {
    "slideshow": {
     "slide_type": "slide"
    }
   },
   "source": [
    "KF equations\n",
    "------\n",
    "\n",
    "<center><img src=\"images/state_est.png\" width=\"500\"/></center>"
   ]
  },
  {
   "cell_type": "markdown",
   "metadata": {
    "slideshow": {
     "slide_type": "fragment"
    }
   },
   "source": [
    "<center><img src=\"images/cov.png\" width=\"500\"/></center>"
   ]
  },
  {
   "cell_type": "markdown",
   "metadata": {
    "slideshow": {
     "slide_type": "slide"
    }
   },
   "source": [
    "State Estimation\n",
    "-----\n",
    "<br>\n",
    "<center><img src=\"images/state_est2.png\" height=\"500\"/></center>"
   ]
  },
  {
   "cell_type": "markdown",
   "metadata": {
    "slideshow": {
     "slide_type": "slide"
    }
   },
   "source": [
    "<center><img src=\"images/cov_est2.png\" width=\"500\"/></center>"
   ]
  },
  {
   "cell_type": "markdown",
   "metadata": {
    "slideshow": {
     "slide_type": "slide"
    }
   },
   "source": [
    "[Kalman Fitler simulator](https://www.cs.utexas.edu/~teammco/misc/kalman_filter/)"
   ]
  },
  {
   "cell_type": "markdown",
   "metadata": {
    "slideshow": {
     "slide_type": "slide"
    }
   },
   "source": [
    "<center><img src=\"http://4.bp.blogspot.com/_nHcDA3NyAms/S9wgQYzoE6I/AAAAAAAAAQk/zR9YElumxlU/s1600/kalmaneq.png\" height=\"500\"/></center>"
   ]
  },
  {
   "cell_type": "markdown",
   "metadata": {
    "slideshow": {
     "slide_type": "slide"
    }
   },
   "source": [
    "Check for understanding\n",
    "------\n",
    "\n",
    "One key component of Kalman filters, is that the product of two Gaussian is a another Gaussian. Why is this important?"
   ]
  },
  {
   "cell_type": "markdown",
   "metadata": {
    "slideshow": {
     "slide_type": "fragment"
    }
   },
   "source": [
    "<center><img src=\"https://www.codeproject.com/KB/recipes/865935/cycle.png\" width=\"500\"/></center>\n",
    "\n",
    "An endless number of Gaussian pdfs can be multiplied over time,    \n",
    "but the resulting function does not increase in complexity or number of terms\n",
    "\n",
    "After each time epoch the new pdf is fully represented by a Gaussian function. "
   ]
  },
  {
   "cell_type": "markdown",
   "metadata": {
    "slideshow": {
     "slide_type": "slide"
    }
   },
   "source": [
    "KF recursive estimation\n",
    "-------\n",
    "<br>\n",
    "<center><img src=\"http://3.bp.blogspot.com/-QSjqVDb9aqU/UPa6oBwkTOI/AAAAAAAAB90/aB72NnOrqTQ/s1600/binary_fractal_tree_02_15_45_05sqrt2.png\" width=\"300\"/></center>\n",
    "\n",
    "You don't need to actually store every single fuzzy snapshot of the data; you can just keep a 'running state' in memory and then integrate each new snapshot into the newly updated state.\n",
    "\n",
    "Thus supports real-time/ongoing (as opposed to batch-only) operations."
   ]
  },
  {
   "cell_type": "markdown",
   "metadata": {
    "slideshow": {
     "slide_type": "slide"
    }
   },
   "source": [
    "What is a major limitation of KF?\n",
    "-----"
   ]
  },
  {
   "cell_type": "markdown",
   "metadata": {
    "slideshow": {
     "slide_type": "fragment"
    }
   },
   "source": [
    "The measurement noise in a Kalman filter is modeled as __additive white Gaussian noise__ (AWGN). Therefore the measurements are jointly Gaussian distributed.\n",
    "\n",
    "The Kalman filter's estimation at each step is a linear combination of the measurements and since they are jointly Gaussian distributed, so is the result.\n",
    "\n",
    "Your data might __not__ be modeled usefully with Gaussian!"
   ]
  },
  {
   "cell_type": "markdown",
   "metadata": {
    "slideshow": {
     "slide_type": "fragment"
    }
   },
   "source": [
    "Further Study\n",
    "------\n",
    "\n",
    "Around 20 different variations of the Kalman Filter have been developed with each having its own pros and cons:\n",
    "EKF(extended kalman filter) or can do the trick:\n",
    "\n",
    "- Extended Kalman Filter (For Non Linear Systems)\n",
    "- Unscented Kalman Filter\n",
    "- Kalman-Bucy Filter\n",
    "- Error State Kalman Filter "
   ]
  },
  {
   "cell_type": "markdown",
   "metadata": {
    "slideshow": {
     "slide_type": "fragment"
    }
   },
   "source": [
    "The idea can be extend with __Particle Filters__: Sequential Monte Carlo methods based on point mass representations of probability densities."
   ]
  },
  {
   "cell_type": "markdown",
   "metadata": {
    "slideshow": {
     "slide_type": "slide"
    }
   },
   "source": [
    "Summary\n",
    "----\n",
    "\n",
    "- Kalman filter (KF) can combinine information in the presence of uncertainty.\n",
    "- Light on memory (KF's don’t need to keep any history other than the last state).\n",
    "- Very fast, making them well suited for continuously changing systems and real time challenges."
   ]
  },
  {
   "cell_type": "markdown",
   "metadata": {
    "slideshow": {
     "slide_type": "slide"
    }
   },
   "source": [
    "<br>"
   ]
  },
  {
   "cell_type": "markdown",
   "metadata": {
    "slideshow": {
     "slide_type": "slide"
    }
   },
   "source": [
    "Bonus Material\n",
    "---"
   ]
  },
  {
   "cell_type": "markdown",
   "metadata": {
    "slideshow": {
     "slide_type": "slide"
    }
   },
   "source": [
    "Kalman filters by another name\n",
    "-------\n",
    "\n",
    "Linear quadratic estimation"
   ]
  },
  {
   "cell_type": "markdown",
   "metadata": {
    "slideshow": {
     "slide_type": "slide"
    }
   },
   "source": [
    "Further Study...\n",
    "------\n",
    "\n",
    "[Jupyter Notebook \"book\" on KF](https://github.com/rlabbe/Kalman-and-Bayesian-Filters-in-Python)"
   ]
  },
  {
   "cell_type": "markdown",
   "metadata": {},
   "source": [
    "The Kalman Filter is a method for solving the continuous version of Hidden Markov Models."
   ]
  },
  {
   "cell_type": "markdown",
   "metadata": {},
   "source": [
    "Check for understanding\n",
    "------\n",
    "\n",
    "What is the difference between HMM and KF?"
   ]
  },
  {
   "cell_type": "markdown",
   "metadata": {},
   "source": [
    "Similar to a hidden Markov model but where the state space of the latent variables is continuous and where all latent and observed variables have a Gaussian distribution\n",
    "\n",
    "An algorithm permitting exact inference in a linear dynamical system"
   ]
  },
  {
   "cell_type": "markdown",
   "metadata": {},
   "source": [
    "The first good algorithm from SLAM\n",
    "------\n",
    "\n",
    "<center><img src=\"images/ef.png\" height=\"500\"/></center>\n",
    "\n",
    "Extended Kalman filter (EKF)"
   ]
  },
  {
   "cell_type": "markdown",
   "metadata": {
    "slideshow": {
     "slide_type": "slide"
    }
   },
   "source": [
    "<br>\n",
    "<br>"
   ]
  }
 ],
 "metadata": {
  "anaconda-cloud": {},
  "celltoolbar": "Slideshow",
  "kernelspec": {
   "display_name": "Python 3",
   "language": "python",
   "name": "python3"
  },
  "language_info": {
   "codemirror_mode": {
    "name": "ipython",
    "version": 3
   },
   "file_extension": ".py",
   "mimetype": "text/x-python",
   "name": "python",
   "nbconvert_exporter": "python",
   "pygments_lexer": "ipython3",
   "version": "3.6.1"
  }
 },
 "nbformat": 4,
 "nbformat_minor": 1
}
