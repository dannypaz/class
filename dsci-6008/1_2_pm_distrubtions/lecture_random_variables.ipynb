{
 "cells": [
  {
   "cell_type": "markdown",
   "metadata": {
    "slideshow": {
     "slide_type": "slide"
    }
   },
   "source": [
    "Random Variables\n",
    "-----\n",
    "\n",
    "![](http://assets.amuniversal.com/321a39e06d6401301d80001dd8b71c47)"
   ]
  },
  {
   "cell_type": "markdown",
   "metadata": {
    "slideshow": {
     "slide_type": "slide"
    }
   },
   "source": [
    "By The End Of This Session You Should Be Able To:\n",
    "----\n",
    "\n",
    "- Define a random variable\n",
    "- Create the probability mass function of a discrete random variable\n",
    "- Calculate the mean and variance of a discrete random variable\n"
   ]
  },
  {
   "cell_type": "markdown",
   "metadata": {
    "slideshow": {
     "slide_type": "slide"
    }
   },
   "source": [
    "Random Variables Introduction\n",
    "-----\n",
    "\n",
    "Let's flip a coin 3 times and count the number of times the coin turns up heads."
   ]
  },
  {
   "cell_type": "markdown",
   "metadata": {
    "slideshow": {
     "slide_type": "fragment"
    }
   },
   "source": [
    "This is an example of a experiment: an experiment whose outcome is not known until it is observed"
   ]
  },
  {
   "cell_type": "markdown",
   "metadata": {
    "slideshow": {
     "slide_type": "fragment"
    }
   },
   "source": [
    "Generally, an experiment is any procedure that  has a well-defined set of observed outcomes and can be infinitely repeated  (at least in theory). "
   ]
  },
  {
   "cell_type": "markdown",
   "metadata": {
    "slideshow": {
     "slide_type": "slide"
    }
   },
   "source": [
    "Check for understanding\n",
    "-------\n",
    "\n",
    "What is the set of outcomes for number of heads after flipping a coin 3 times?"
   ]
  },
  {
   "cell_type": "markdown",
   "metadata": {
    "slideshow": {
     "slide_type": "fragment"
    }
   },
   "source": [
    "`{0, 1, 2, 3} `"
   ]
  },
  {
   "cell_type": "markdown",
   "metadata": {
    "slideshow": {
     "slide_type": "slide"
    }
   },
   "source": [
    "Turning Letters into Numbers\n",
    "-----\n",
    "\n",
    "- We’ve been studying statements like P(A) or P(B|A). That is, probability of different events happening.\n",
    "    - 'Things that happen' are sets, also called events.\n",
    "    - We measure chance by measuring sets, using a measure called probability.\n",
    "- But many things in the real world are easier explained using numerical outcomes.\n",
    "- Random variables enables us to talk about the probability of numerical outcomes."
   ]
  },
  {
   "cell_type": "markdown",
   "metadata": {
    "slideshow": {
     "slide_type": "slide"
    }
   },
   "source": [
    "#### Example\n",
    "\n",
    "We might have all these different sample spaces:  \n",
    "\n",
    "$\\Omega = \\{head, tail\\}$  \n",
    "$\\Omega = \\{same, different\\}$  \n",
    "$\\Omega = \\{boy, girl\\}$  \n",
    "\n",
    "We can represent these sample spaces more concisely in terms of numbers:\n",
    "\n",
    "$\\Omega = \\{0, 1\\}$"
   ]
  },
  {
   "cell_type": "markdown",
   "metadata": {
    "slideshow": {
     "slide_type": "slide"
    }
   },
   "source": [
    "When the outcome of a random experiment is a number, it allows us to use __math__:\n",
    "\n",
    "1. Can calculate central tendency (e.g., mean)\n",
    "2. Can calculate spread (e.g., variance)\n",
    "3. Can quantify the relationships between different random variables (fancy!)"
   ]
  },
  {
   "cell_type": "markdown",
   "metadata": {
    "slideshow": {
     "slide_type": "slide"
    }
   },
   "source": [
    "Defining a Random Variable\n",
    "-----\n",
    "\n",
    "Intuitively, a random variable is a rule (or function) that translates the outcomes of an experiment into numbers"
   ]
  },
  {
   "cell_type": "markdown",
   "metadata": {
    "slideshow": {
     "slide_type": "fragment"
    }
   },
   "source": [
    "A random variable is a function from a sample space Ω to the real numbers R.\n",
    "\n",
    "We write X: Ω→R"
   ]
  },
  {
   "cell_type": "markdown",
   "metadata": {
    "slideshow": {
     "slide_type": "slide"
    }
   },
   "source": [
    "This definition serves two purposes:\n",
    "\n",
    "1. Describing many different sample spaces in the same terms:\n",
    "    - e.g. Ω = {0, 1} with P(1) = p and P(0) = 1 - p describes EVERY possible experiment with two outcomes.\n",
    "2. Giving a name to a large class of random experiments that genuinely produce random numbers, and for which we want to develop general rules for finding averages, variances, relationships, and so on."
   ]
  },
  {
   "cell_type": "markdown",
   "metadata": {
    "slideshow": {
     "slide_type": "slide"
    }
   },
   "source": [
    "PMF Example\n",
    "-----\n",
    "\n",
    "Toss a coin 3 times. The sample space is  \n",
    "Ω = {HHH, HHT, HTH, HTT, THH, THT, TTH, TTT}\n",
    "\n",
    "One example of a random variable is:  \n",
    "$X(s_i) = number \\ heads \\ in \\ outcome \\ s_i$.\n",
    "\n",
    "So…  \n",
    "$X(THT) = 1$   \n",
    "...   \n",
    "$X(HHH) = 3$  "
   ]
  },
  {
   "cell_type": "markdown",
   "metadata": {
    "slideshow": {
     "slide_type": "slide"
    }
   },
   "source": [
    "Notation\n",
    "-----\n",
    "\n",
    "By convention, we use CAPITAL LETTERS for random variables (e.g. X), and lower case letters to represent the values that the random variable takes (e.g. x)."
   ]
  },
  {
   "cell_type": "markdown",
   "metadata": {
    "slideshow": {
     "slide_type": "slide"
    }
   },
   "source": [
    "What is a Probability Distribution?\n",
    "-----\n",
    "\n",
    "For a sample space, a mapping from each outcome to frequency for each outcome."
   ]
  },
  {
   "cell_type": "markdown",
   "metadata": {
    "slideshow": {
     "slide_type": "slide"
    }
   },
   "source": [
    "Probability Distribution: Sum of 2 dice\n",
    "-----\n",
    "<br>\n",
    "<center><img src=\"https://upload.wikimedia.org/wikipedia/commons/thumb/1/12/Dice_Distribution_%28bar%29.svg/512px-Dice_Distribution_%28bar%29.svg.png\" height=\"500\"/></center>"
   ]
  },
  {
   "cell_type": "markdown",
   "metadata": {
    "slideshow": {
     "slide_type": "slide"
    }
   },
   "source": [
    "At its simplest, a probability distribution just lists every element in the sample space and allots it a probability between 0 and 1, such that the total sum of probabilities is 1.\n",
    "\n"
   ]
  },
  {
   "cell_type": "markdown",
   "metadata": {
    "slideshow": {
     "slide_type": "slide"
    }
   },
   "source": [
    "Check for understanding\n",
    "-------\n",
    "\n",
    "What is the probability distribution for a single coin flip?"
   ]
  },
  {
   "cell_type": "markdown",
   "metadata": {
    "slideshow": {
     "slide_type": "fragment"
    }
   },
   "source": [
    "P(heads) = 0.5  \n",
    "P(tails) = 0.5"
   ]
  },
  {
   "cell_type": "markdown",
   "metadata": {
    "slideshow": {
     "slide_type": "slide"
    }
   },
   "source": [
    "Coin Toss Example\n",
    "-----\n",
    "\n",
    "Sample Space: Ω = {heads, tails} = {1, 0}\n",
    "\n",
    "Assuming we are using a fair coin, the probability distribution of X is:\n",
    "\n",
    "|x        |  0  |  1  |\n",
    "|:--------|:---:|:---:|\n",
    "|P(X = x) | 0.5 | 0.5 |"
   ]
  },
  {
   "cell_type": "markdown",
   "metadata": {
    "slideshow": {
     "slide_type": "fragment"
    }
   },
   "source": [
    "$X = \n",
    "\\begin{cases}\n",
    "    1, & \\text{if it's heads}\\\\\n",
    "    0, & \\text{otherwise}\n",
    "\\end{cases}$"
   ]
  },
  {
   "cell_type": "markdown",
   "metadata": {
    "slideshow": {
     "slide_type": "slide"
    }
   },
   "source": [
    "Probability mass function (PMF)\n",
    "------\n",
    "\n",
    "It tells us the probability that a __discrete__ random variable X is exatly equal to a certain value. We define it as:\n",
    "\n",
    "$$ f_X (x) = P (X = x) $$"
   ]
  },
  {
   "cell_type": "markdown",
   "metadata": {
    "slideshow": {
     "slide_type": "slide"
    }
   },
   "source": [
    "PMF Example\n",
    "------\n",
    "\n",
    "Toss a fair coin 3 times. All outcomes are equally likely: P(HHH) = P(HHT) = . . .= P(TTT) = 1/8.\n",
    "\n",
    "Let X: Ω→R, such that X(s) = {# heads in s}. Then,\n",
    "\n",
    "P(X = 0) = P(\\{TTT\\}) = 1/8    \n",
    "\n",
    "P(X = 1) = P(\\{HTT, THT, TTH\\}) = 3/8  \n",
    "\n",
    "P(X = 2) = P(\\{HHT, HTH, THH\\}) = 3/8  \n",
    "\n",
    "P(X = 3) = P(\\{HHH\\}) = 1/8  \n",
    "\n",
    "Note that P(X = 0) + P(X = 1) + P(X = 2) + P(X = 3) = 1.  "
   ]
  },
  {
   "cell_type": "markdown",
   "metadata": {
    "slideshow": {
     "slide_type": "slide"
    }
   },
   "source": [
    "Expected value of a discrete random variable \n",
    "-----\n",
    "\n",
    "The sum of values weighted by probability of occurrence:\n",
    "\n",
    "E[X] = p(x<sub>1</sub>)x<sub>1</sub> + p(x<sub>2</sub>)x<sub>2</sub> + … + p(x<sub>n</sub>)x<sub>n</sub>"
   ]
  },
  {
   "cell_type": "markdown",
   "metadata": {
    "slideshow": {
     "slide_type": "slide"
    }
   },
   "source": [
    "Expectation Example\n",
    "-----\n",
    "\n",
    "Let's use the single coin toss example again.  \n",
    "\n",
    "$X = \n",
    "\\begin{cases}\n",
    "    1, & \\text{if it's heads}\\\\\n",
    "    0, & \\text{otherwise}\n",
    "\\end{cases}$\n",
    "\n"
   ]
  },
  {
   "cell_type": "markdown",
   "metadata": {
    "slideshow": {
     "slide_type": "fragment"
    }
   },
   "source": [
    "Assuming we are using a fair coin, what is the mean of X (or E(X))?"
   ]
  },
  {
   "cell_type": "markdown",
   "metadata": {
    "slideshow": {
     "slide_type": "fragment"
    }
   },
   "source": [
    "$$E(X) = \\mu = \\sum_{i = 1}^k x_i P(X = x_i) = 0 \\times 0.5 + 1 \\times 0.5 = 0.5 $$"
   ]
  },
  {
   "cell_type": "markdown",
   "metadata": {
    "slideshow": {
     "slide_type": "slide"
    }
   },
   "source": [
    "Variance\n",
    "-----\n",
    "\n",
    "The variance for a discrete random variable X is,\n",
    "\n",
    "$$ \\sigma^2 = \\sum_{i = 1}^k (x_i - \\mu)^2 P(X = x_i) $$\n",
    "\n"
   ]
  },
  {
   "cell_type": "markdown",
   "metadata": {
    "slideshow": {
     "slide_type": "fragment"
    }
   },
   "source": [
    "In contrast, the sample variance is,\n",
    "\n",
    "$$ s^2 = \\frac{1}{n - 1} \\sum_{i = 1}^n (x_i - \\bar{x})^2 $$"
   ]
  },
  {
   "cell_type": "markdown",
   "metadata": {
    "slideshow": {
     "slide_type": "slide"
    }
   },
   "source": [
    "Variance Example\n",
    "-----\n",
    "\n",
    "Let's continue with the coin toss example and calculate the variance of $X$.\n",
    "\n",
    "|x        |  0  |  1  |\n",
    "|:--------|:---:|:---:|\n",
    "|P(X = x) | 0.5 | 0.5 |"
   ]
  },
  {
   "cell_type": "markdown",
   "metadata": {
    "slideshow": {
     "slide_type": "fragment"
    }
   },
   "source": [
    "$$ \\sigma^2 = \\sum_{i = 1}^k (x_i - \\mu)^2 P(X = x_i) = (0 - 0.5)^2 \\times 0.5 + (1 - 0.5)^2 \\times 0.5 = 0.25 $$"
   ]
  },
  {
   "cell_type": "markdown",
   "metadata": {
    "slideshow": {
     "slide_type": "slide"
    }
   },
   "source": [
    "Summary\n",
    "----\n",
    "\n",
    "- A random variable is observed outcome that has an element of chance.\n",
    "- Probability Mass Function (PMF) is all the outcomes and associated probability\n",
    "- Be familiar with the formulas for the mean and variance of a discrete random variable"
   ]
  },
  {
   "cell_type": "markdown",
   "metadata": {
    "slideshow": {
     "slide_type": "slide"
    }
   },
   "source": [
    "<br>\n",
    "<br> \n",
    "<br>\n",
    "\n",
    "----"
   ]
  },
  {
   "cell_type": "markdown",
   "metadata": {
    "slideshow": {
     "slide_type": "slide"
    }
   },
   "source": [
    "----\n",
    "Bonus Materials\n",
    "----"
   ]
  },
  {
   "cell_type": "markdown",
   "metadata": {
    "slideshow": {
     "slide_type": "slide"
    }
   },
   "source": [
    "Adding Random Variables\n",
    "-----\n",
    "\n",
    "If we let Z = X + Y, then for Z, we have:\n",
    "\n",
    "$E(Z) = E(X) + E(Y)$\n"
   ]
  },
  {
   "cell_type": "markdown",
   "metadata": {
    "slideshow": {
     "slide_type": "fragment"
    }
   },
   "source": [
    "If X and Y are __independent__:\n",
    "\n",
    "Var(Z) = Var(X) + Var (Y)"
   ]
  },
  {
   "cell_type": "markdown",
   "metadata": {
    "slideshow": {
     "slide_type": "slide"
    }
   },
   "source": [
    "#### Discrete Probability Distributions\n",
    "\n",
    "Let $\\Omega = \\{s_1, s_2, \\dots\\}$ be a discrete sample space.  \n",
    "A discrete probability distribution on $\\Omega$ is a set of real numbers $\\{p_1, p_2, \\dots\\}$ associated with the sample points $\\{s_1, s_2, \\dots\\}$ such that:\n",
    "\n",
    "$$0 \\leq p_i \\leq 1 \\text{ for all } i$$  \n",
    "\n",
    "and  \n",
    "\n",
    "$$\\sum_i p_i = 1$$  \n",
    "\n",
    "$p_i$ is called the probability of the event that the outcome is $s_i$.  \n",
    "\n",
    "We write: $p_i = P(s_i)$.  "
   ]
  },
  {
   "cell_type": "markdown",
   "metadata": {
    "slideshow": {
     "slide_type": "subslide"
    }
   },
   "source": [
    "The rule for measuring the probability of any set, or event, $A \\subseteq \\Omega$, is to sum the probabilities of the elements of $A$:  \n",
    "\n",
    "$$P(A) = \\sum_{i \\in A} p_i$$  \n",
    "\n",
    "E.g. if $A = \\{s_3, s_5, s_{14}\\}$, then $P(A) = p_3 + p_5 + p_{14}$."
   ]
  },
  {
   "cell_type": "markdown",
   "metadata": {
    "slideshow": {
     "slide_type": "slide"
    }
   },
   "source": [
    "#### Continous Probability Distributions\n",
    "\n",
    "On a continuous sample space $\\Omega$, e.g. $\\Omega = [0, 1]$, we can not list all the elements and give them an individual probability. We will need more sophisticated methods detailed later in the course.  \n",
    "\n",
    "However, the same principle applies. A continuous probability distribution is a\n",
    "rule under which we can calculate a probability between 0 and 1 for any set, or\n",
    "event, $A \\subseteq \\Omega$."
   ]
  },
  {
   "cell_type": "markdown",
   "metadata": {
    "slideshow": {
     "slide_type": "slide"
    }
   },
   "source": [
    "#### More Examples\n",
    "\n",
    "<img src=\"images/example1.png\">"
   ]
  },
  {
   "cell_type": "markdown",
   "metadata": {
    "slideshow": {
     "slide_type": "subslide"
    }
   },
   "source": [
    "<img src=\"images/example2.png\">"
   ]
  },
  {
   "cell_type": "markdown",
   "metadata": {
    "slideshow": {
     "slide_type": "slide"
    }
   },
   "source": [
    "Notation\n",
    "-----\n",
    "\n",
    "For a sample space $\\Omega$ and random variable $X: \\Omega \\rightarrow R$, and for a real number $x$, $P(X = x) = P(\\text{outcome s is such that }X(s) = x) = P(\\{s : X(s) = x\\})$."
   ]
  },
  {
   "cell_type": "markdown",
   "metadata": {
    "slideshow": {
     "slide_type": "slide"
    }
   },
   "source": [
    "### Transforming X\n",
    "\n",
    "If we let $Y = a X + b$, then for $Y$, we have\n",
    "\n",
    "- $ E(Y) = a E(X) + b $   \n",
    "\n",
    "\n",
    "\n",
    "- $ Var(Y) = a^2 Var(X) $    \n",
    "\n",
    "\n",
    "\n",
    "- $ SD(Y) = |a| SD(X) $  "
   ]
  },
  {
   "cell_type": "markdown",
   "metadata": {
    "slideshow": {
     "slide_type": "slide"
    }
   },
   "source": [
    "If Z is a linear combination of X and Y, i.e. Z = a X + b Y, then:  \n",
    "\n",
    "$E(Z) = a E(X) + b E(Y)$"
   ]
  },
  {
   "cell_type": "markdown",
   "metadata": {
    "slideshow": {
     "slide_type": "fragment"
    }
   },
   "source": [
    "And if X and Y are __independent__:  \n",
    "\n",
    "$Var(Z) = a^2 Var(X) + b^2 Var(Y)$ "
   ]
  }
 ],
 "metadata": {
  "anaconda-cloud": {},
  "celltoolbar": "Slideshow",
  "kernelspec": {
   "display_name": "Python 3",
   "language": "python",
   "name": "python3"
  },
  "language_info": {
   "codemirror_mode": {
    "name": "ipython",
    "version": 3
   },
   "file_extension": ".py",
   "mimetype": "text/x-python",
   "name": "python",
   "nbconvert_exporter": "python",
   "pygments_lexer": "ipython3",
   "version": "3.6.1"
  }
 },
 "nbformat": 4,
 "nbformat_minor": 1
}
