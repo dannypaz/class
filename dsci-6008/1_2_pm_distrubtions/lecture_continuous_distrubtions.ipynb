{
 "cells": [
  {
   "cell_type": "markdown",
   "metadata": {
    "slideshow": {
     "slide_type": "slide"
    }
   },
   "source": [
    "Continuous Probability Distributions  \n",
    "-----\n",
    "\n",
    "<center><img src=\"https://s-media-cache-ak0.pinimg.com/originals/6c/7c/54/6c7c54db8d0af073f7ac8feb86b67b79.jpg\" height=\"500\"/></center>"
   ]
  },
  {
   "cell_type": "markdown",
   "metadata": {
    "slideshow": {
     "slide_type": "slide"
    }
   },
   "source": [
    "By The End Of This Session You Should Be Able To:\n",
    "----\n",
    "\n",
    "- Extend your knowledge of discrete probability distributions to continuous probability distributions\n",
    "- Recognize and parameterize the following continuous probability distributions:\n",
    "    - Uniform\n",
    "    - Normal  "
   ]
  },
  {
   "cell_type": "markdown",
   "metadata": {
    "slideshow": {
     "slide_type": "slide"
    }
   },
   "source": [
    "Begging for Continuous Random Variables\n",
    "-----\n",
    "\n",
    "We just discussed discrete random variables, for which we can list all the values and their probabilities (even if the list is infinite).   \n",
    "\n",
    "But suppose X can any value in a range, e.g. [0, 1], how can we list all the values X can take?"
   ]
  },
  {
   "cell_type": "markdown",
   "metadata": {
    "slideshow": {
     "slide_type": "fragment"
    }
   },
   "source": [
    "We can __not__ list all the values that X can take!\n",
    "\n",
    "For any two values there will always be value between them"
   ]
  },
  {
   "cell_type": "markdown",
   "metadata": {
    "slideshow": {
     "slide_type": "slide"
    }
   },
   "source": [
    "There is no PMF for Continuous Random Variables\n",
    "----\n",
    "\n",
    "Because we can not assign probability to any specific value."
   ]
  },
  {
   "cell_type": "markdown",
   "metadata": {
    "slideshow": {
     "slide_type": "slide"
    }
   },
   "source": [
    "The Cumulative Distribution Function (CDF) for Continuous Random Variables\n",
    "----\n",
    "\n",
    "Although we cannot assign a probability to any values of X, we are able to assign probabilities to intervals.  \n",
    "e.g. P(X = 1) = 0, but P(0.999 < X < 1.001) can be > 0.\n",
    "\n",
    "This means we should use the CDF:\n",
    "\n",
    "$F_X(x) = P(X \\leq x)$."
   ]
  },
  {
   "cell_type": "markdown",
   "metadata": {
    "slideshow": {
     "slide_type": "slide"
    }
   },
   "source": [
    "For Discrete Random Variables:\n",
    "------\n",
    "\n",
    "__Cumulative distribution function (CDF)__: It gives us the probability that a random variable $X$ is less than or equal to a certain value. We define it as\n",
    "\n",
    "$$ F_X (x) = P( X \\leq x) $$\n",
    "\n",
    "----\n",
    "\n",
    "<center><img src=\"images/cdf_discrete.png\" height=\"500\"/></center>\n",
    "\n",
    "$F_X(x) = P(X \\leq x)$  \n",
    "$F_X(x)$ is a step function: probability accumulates in discrete steps  \n",
    "$P(a < X \\leq b) = P(X \\in (a, b]) = F(b) - F(a)$  "
   ]
  },
  {
   "cell_type": "markdown",
   "metadata": {
    "slideshow": {
     "slide_type": "slide"
    }
   },
   "source": [
    "For Continuous Random Variables\n",
    "------\n",
    "<br>\n",
    "<center><img src=\"images/cdf_continuous.png\" height=\"500\"/></center>\n",
    "\n",
    "$F_X(x) = P(X \\leq x)$  \n",
    "$F_X(x)$ is a continuous function: probability accumulates continuously \n",
    "$P(a < X \\leq b) = P(X \\in (a, b]) = F(b) - F(a)$  "
   ]
  },
  {
   "cell_type": "markdown",
   "metadata": {
    "slideshow": {
     "slide_type": "slide"
    }
   },
   "source": [
    "The Probability Density Function (PDF) (aka, PMF for Continuous Random Variable)\n",
    "-----\n",
    "<br>\n",
    "<center><img src=\"https://www.phy.ornl.gov/csep/gif_figures/mcf4.gif\" height=\"500\"/></center>\n",
    "\n",
    "Although the CDF gives us interval-based tool for dealing with continuous random variables, it is not very good at telling us what the distribution looks like.  \n",
    "\n",
    "For this we use a different tool called the probability density function. "
   ]
  },
  {
   "cell_type": "markdown",
   "metadata": {
    "slideshow": {
     "slide_type": "slide"
    }
   },
   "source": [
    "The Probability Density Function (PDF) definition\n",
    "-----\n",
    "<br>\n",
    "<center><img src=\"https://www.phy.ornl.gov/csep/gif_figures/mcf4.gif\" height=\"500\"/></center>\n",
    "\n",
    "$$ f_X(x) = \\frac{dF_X}{dx} = F_X^{'}(x)$$\n",
    "\n",
    "So \n",
    "\n",
    "$$ f_X(x) = \\lim_{t \\to 0} \\frac{F_X(x + t) - F_X(x)}{t} $$"
   ]
  },
  {
   "cell_type": "markdown",
   "metadata": {
    "slideshow": {
     "slide_type": "slide"
    }
   },
   "source": [
    "The __PDF__ gives us:\n",
    "\n",
    "- __Shape__ of the distribution of X\n",
    "- __Rate__ at which probability is accumulating at any given point, $F_X^{'}(x)$"
   ]
  },
  {
   "cell_type": "markdown",
   "metadata": {
    "slideshow": {
     "slide_type": "slide"
    }
   },
   "source": [
    "### Using the PDF to Calculate Probabilities\n",
    "\n",
    "The PDF calculates probabilities by integration.\n",
    "\n",
    "Suppose we want to calculate $P(a \\leq X \\leq b)$.\n",
    "\n",
    "We already know that: $P(a \\leq X \\leq b) = F_X(b) - F_X(a)$.\n",
    "\n",
    "But we also know that:\n",
    "\n",
    "$$ f_X(x) = \\frac{dF_X}{dx} $$"
   ]
  },
  {
   "cell_type": "markdown",
   "metadata": {
    "slideshow": {
     "slide_type": "slide"
    }
   },
   "source": [
    "So\n",
    "\n",
    "$$ F_X(x) = \\int f_X(x) dx $$\n",
    "\n",
    "In fact:\n",
    "\n",
    "$$ F_X(b) - F_X(a) = \\int_{a}^{b} f_X(x) dx $$"
   ]
  },
  {
   "cell_type": "markdown",
   "metadata": {
    "slideshow": {
     "slide_type": "slide"
    }
   },
   "source": [
    "Let $X$ be a continuous random variable with probability density function (PDF) $f_X(x)$. Then\n",
    "\n",
    "$$ P(a \\leq X \\leq b) = P(X \\in [a, b]) = \\int_a^b f_X(x) dx $$  \n",
    "\n",
    "This means we can calculate probabilities by integrating the PDF.\n",
    "\n",
    "<img src=\"images/int_pdf.png\" width=\"500\">"
   ]
  },
  {
   "cell_type": "markdown",
   "metadata": {
    "slideshow": {
     "slide_type": "slide"
    }
   },
   "source": [
    "Total area under the PDF\n",
    "-------\n",
    "\n",
    "$$ \\text{total area } = \\int_{-\\infty}^{\\infty} f_X(x) dx = F_X(\\infty) - F_X(-\\infty) = 1 - 0 = 1$$\n",
    "\n",
    "<img src=\"images/total_pdf.png\" width=\"500\">"
   ]
  },
  {
   "cell_type": "markdown",
   "metadata": {
    "slideshow": {
     "slide_type": "slide"
    }
   },
   "source": [
    "Expectation / Mean\n",
    "------\n",
    "\n",
    "Remember the expectation of a discrete random variable is the long-term average:\n",
    "\n",
    "$$ \\mu_X = E(X) = \\sum_x x P(X = x) = \\sum_x x f_X(x) $$\n",
    "\n",
    "For a continous random variable, we replace the PMF with the PDF, and replace $\\sum_x$ with $\\int_{-\\infty}^{\\infty}$:\n",
    "\n",
    "$$ \\mu_X = E(X) = \\int_{-\\infty}^{\\infty} x f_X(x) dx $$\n",
    "\n",
    "where $f_X(x) = F_X^{'}(x)$ is the PDF. "
   ]
  },
  {
   "cell_type": "markdown",
   "metadata": {
    "slideshow": {
     "slide_type": "slide"
    }
   },
   "source": [
    "Variance\n",
    "------\n",
    "\n",
    "If X is continuous, its variance is defined in exactly the same way as a discrete random variable:\n",
    "\n",
    "$$ Var(X) = \\sigma_X^2 = E \\left[(X - \\mu_X)^2 \\right] $$\n",
    "\n",
    "For continuous random variable, we can either compute the variance using:\n",
    "\n",
    "$$ Var(X) = E \\left[(X - \\mu_X)^2 \\right] = \\int_{-\\infty}^{\\infty} (x - \\mu_X)^2 f_X(x) dx $$"
   ]
  },
  {
   "cell_type": "markdown",
   "metadata": {
    "slideshow": {
     "slide_type": "slide"
    }
   },
   "source": [
    "Continuous Probability Distributions\n",
    "------"
   ]
  },
  {
   "cell_type": "markdown",
   "metadata": {
    "slideshow": {
     "slide_type": "fragment"
    }
   },
   "source": [
    "- Uniform\n",
    "- Normal"
   ]
  },
  {
   "cell_type": "markdown",
   "metadata": {
    "slideshow": {
     "slide_type": "slide"
    }
   },
   "source": [
    "Uniform Distribution\n",
    "------\n",
    "\n",
    "<center><img src=\"images/uniform_pdf.png\" height=\"500\"/></center>\n",
    "\n",
    "X has a Uniform distribution on the interval [a, b] if X is equally likely to fall anywhere in the interval [a, b].  \n",
    "\n",
    "$X \\sim Uniform(a, b)$, or $X \\sim U(a, b)$. "
   ]
  },
  {
   "cell_type": "markdown",
   "metadata": {
    "slideshow": {
     "slide_type": "slide"
    }
   },
   "source": [
    "PDF:\n",
    "\n",
    "$$f_X(x) = \n",
    "\\begin{cases}\n",
    "\\frac{1}{b - a} & \\text{if } a \\leq x \\leq b \\\\\n",
    "0 & \\text{otherwise}\n",
    "\\end{cases} $$\n",
    "\n",
    "Mean: \n",
    "\n",
    "$$ E(X) = \\frac{a + b}{2} $$\n",
    "\n",
    "Variance:\n",
    "\n",
    "$$Var(X) = \\frac{(b - a)^2}{12} $$"
   ]
  },
  {
   "cell_type": "markdown",
   "metadata": {
    "slideshow": {
     "slide_type": "slide"
    }
   },
   "source": [
    "CDF\n",
    "----\n",
    "<center><img src=\"images/uniform_cdf.png\" height=\"500\"/></center>"
   ]
  },
  {
   "cell_type": "code",
   "execution_count": 31,
   "metadata": {
    "collapsed": true,
    "slideshow": {
     "slide_type": "slide"
    }
   },
   "outputs": [],
   "source": [
    "import matplotlib.pyplot as plt\n",
    "import numpy as np\n",
    "import pandas as pd \n",
    "\n",
    "%matplotlib inline"
   ]
  },
  {
   "cell_type": "code",
   "execution_count": 32,
   "metadata": {
    "slideshow": {
     "slide_type": "slide"
    }
   },
   "outputs": [
    {
     "data": {
      "image/png": "[encoded data removed]",
      "text/plain": [
       "<matplotlib.figure.Figure at 0x11793a198>"
      ]
     },
     "metadata": {},
     "output_type": "display_data"
    }
   ],
   "source": [
    "from scipy.stats import uniform\n",
    "\n",
    "mean, var, skew, kurt = uniform.stats(moments='mvsk')\n",
    "x = np.linspace(uniform.ppf(0.01),\n",
    "                uniform.ppf(0.99), 100)\n",
    "plt.plot(x, uniform.pdf(x),\n",
    "        'r-', lw=5, alpha=0.6, label='uniform pdf');"
   ]
  },
  {
   "cell_type": "code",
   "execution_count": 35,
   "metadata": {
    "slideshow": {
     "slide_type": "slide"
    }
   },
   "outputs": [
    {
     "data": {
      "image/png": "[encoded data removed]",
      "text/plain": [
       "<matplotlib.figure.Figure at 0x117b0f470>"
      ]
     },
     "metadata": {},
     "output_type": "display_data"
    }
   ],
   "source": [
    "r = uniform.rvs(size=10000)\n",
    "plt.hist(r, normed=True, histtype='stepfilled', alpha=0.2);"
   ]
  },
  {
   "cell_type": "code",
   "execution_count": 24,
   "metadata": {
    "collapsed": true,
    "slideshow": {
     "slide_type": "slide"
    }
   },
   "outputs": [],
   "source": [
    "from numpy.random import uniform"
   ]
  },
  {
   "cell_type": "code",
   "execution_count": 25,
   "metadata": {
    "slideshow": {
     "slide_type": "fragment"
    }
   },
   "outputs": [
    {
     "data": {
      "image/png": "[encoded data removed]",
      "text/plain": [
       "<matplotlib.figure.Figure at 0x117a66e48>"
      ]
     },
     "metadata": {},
     "output_type": "display_data"
    }
   ],
   "source": [
    "pd.Series(uniform(low=0.0, high=1.0, size=10)).hist(grid=False);"
   ]
  },
  {
   "cell_type": "markdown",
   "metadata": {
    "slideshow": {
     "slide_type": "slide"
    }
   },
   "source": [
    "Check for understanding\n",
    "-----\n",
    "\n",
    "What is an example of continuous uniform distribution?"
   ]
  },
  {
   "cell_type": "markdown",
   "metadata": {
    "slideshow": {
     "slide_type": "fragment"
    }
   },
   "source": [
    "<center><img src=\"http://photo.foter.com/photos/pi/226/trintec-24-hour-military-time-swl-zulu-time-24hr-wall-clock-10.jpg\" height=\"500\"/></center>\n",
    "- Time of day for an event \n",
    "- \"Know nothing\" prior in Continuous Bayesian Modeling\n"
   ]
  },
  {
   "cell_type": "markdown",
   "metadata": {
    "slideshow": {
     "slide_type": "slide"
    }
   },
   "source": [
    "- Generate pseudo-random numbers"
   ]
  },
  {
   "cell_type": "code",
   "execution_count": 36,
   "metadata": {
    "slideshow": {
     "slide_type": "fragment"
    }
   },
   "outputs": [
    {
     "data": {
      "text/plain": [
       "0.8134950649016276"
      ]
     },
     "execution_count": 36,
     "metadata": {},
     "output_type": "execute_result"
    }
   ],
   "source": [
    "from random import random\n",
    "\n",
    "random()"
   ]
  },
  {
   "cell_type": "markdown",
   "metadata": {
    "collapsed": true,
    "slideshow": {
     "slide_type": "slide"
    }
   },
   "source": [
    "Normal Distribution: Do you really know it?\n",
    "-----\n",
    "\n",
    "<center><img src=\"http://i.stack.imgur.com/T2XrE.gif\" height=\"500\"/></center>\n",
    "\n",
    "Tell me stuff about the Normal Distribution..."
   ]
  },
  {
   "cell_type": "markdown",
   "metadata": {
    "slideshow": {
     "slide_type": "slide"
    }
   },
   "source": [
    "<center><img src=\"images/normal_pdf.png\" height=\"500\"/></center>\n",
    "\n",
    "The __Normal distribution__, also called the __Gaussian distribution__, is probably the most important distribution in Statistics. \n",
    "\n",
    "It has two parameters, the mean μ and the variance σ^2.  \n",
    "\n",
    "$X \\sim Normal(\\mu, \\sigma^2)$, or $X \\sim N(\\mu, \\sigma^2)$"
   ]
  },
  {
   "cell_type": "markdown",
   "metadata": {
    "collapsed": true,
    "slideshow": {
     "slide_type": "slide"
    }
   },
   "source": [
    "Probability Density Function (PDF):\n",
    "\n",
    "$$ f(x) = \\frac{1}{\\sigma \\sqrt{2 \\pi}} exp \\left(- \\frac{(x - \\mu)^2}{2 \\sigma^2} \\right) \\text{, for } x \\in R $$\n",
    "\n",
    "Mean: E(X) = μ\n",
    "\n",
    "Variance: Var(X) =  σ^2"
   ]
  },
  {
   "cell_type": "markdown",
   "metadata": {
    "slideshow": {
     "slide_type": "slide"
    }
   },
   "source": [
    "Let's play with Normal Distrubtion\n",
    "-------\n",
    "\n",
    "[Interactive Normal Distrubtion](http://www.intmath.com/counting-probability/normal-distribution-graph-interactive.php)"
   ]
  },
  {
   "cell_type": "code",
   "execution_count": 27,
   "metadata": {
    "collapsed": true,
    "slideshow": {
     "slide_type": "slide"
    }
   },
   "outputs": [],
   "source": [
    "from numpy.random import normal"
   ]
  },
  {
   "cell_type": "code",
   "execution_count": 28,
   "metadata": {
    "slideshow": {
     "slide_type": "slide"
    }
   },
   "outputs": [
    {
     "data": {
      "image/png": "[encoded data removed]",
      "text/plain": [
       "<matplotlib.figure.Figure at 0x117b204e0>"
      ]
     },
     "metadata": {},
     "output_type": "display_data"
    }
   ],
   "source": [
    "μ = 0\n",
    "σ = .0001\n",
    "pd.Series(normal(loc=μ, scale=σ, size=1000)).hist(grid=False);"
   ]
  },
  {
   "cell_type": "markdown",
   "metadata": {
    "slideshow": {
     "slide_type": "slide"
    }
   },
   "source": [
    "Check for understanding\n",
    "------\n",
    "\n",
    "What is an example of normal distribution?"
   ]
  },
  {
   "cell_type": "markdown",
   "metadata": {
    "slideshow": {
     "slide_type": "fragment"
    }
   },
   "source": [
    "<center><img src=\"images/salary.png\" width=\"750\"/></center>\n",
    "[Source](https://www.paysa.com/salaries/data-scientist--san-francisco,-ca--tl)"
   ]
  },
  {
   "cell_type": "markdown",
   "metadata": {
    "slideshow": {
     "slide_type": "slide"
    }
   },
   "source": [
    "Limits of Bell Curve\n",
    "------\n",
    "<center><img src=\"images/bell.jpg\" height=\"500\"/></center>"
   ]
  },
  {
   "cell_type": "markdown",
   "metadata": {
    "slideshow": {
     "slide_type": "slide"
    }
   },
   "source": [
    "Distribution Shape\n",
    "-------\n",
    "\n",
    "- Skewness\n",
    "- Kurtosis"
   ]
  },
  {
   "cell_type": "markdown",
   "metadata": {
    "slideshow": {
     "slide_type": "slide"
    }
   },
   "source": [
    "Skewness\n",
    "-----\n",
    "\n",
    "<center><img src=\"images/skewness.png\" height=\"500\"/></center>\n",
    "\n",
    "The __skinny__ end is the direction of the __skew__"
   ]
  },
  {
   "cell_type": "code",
   "execution_count": 37,
   "metadata": {
    "collapsed": true,
    "slideshow": {
     "slide_type": "slide"
    }
   },
   "outputs": [],
   "source": [
    "from scipy.stats import skewnorm"
   ]
  },
  {
   "cell_type": "code",
   "execution_count": 38,
   "metadata": {
    "slideshow": {
     "slide_type": "fragment"
    }
   },
   "outputs": [
    {
     "data": {
      "image/png": "[encoded data removed]",
      "text/plain": [
       "<matplotlib.figure.Figure at 0x1175a45f8>"
      ]
     },
     "metadata": {},
     "output_type": "display_data"
    }
   ],
   "source": [
    "a = 4 # A \"Moment\": the parameter for skewnesss\n",
    "pd.Series(skewnorm.rvs(a, size=1000)).hist(grid=False);"
   ]
  },
  {
   "cell_type": "markdown",
   "metadata": {
    "slideshow": {
     "slide_type": "slide"
    }
   },
   "source": [
    "Kurtosis\n",
    "-----\n",
    "\n",
    "<center><img src=\"images/kurtosis.png\" height=\"500\"/></center>\n",
    "\n",
    "a measure of the \"peaked-ness\" of a distribution"
   ]
  },
  {
   "cell_type": "markdown",
   "metadata": {
    "slideshow": {
     "slide_type": "slide"
    }
   },
   "source": [
    "Check for understanding\n",
    "------\n",
    "\n",
    "What is the difference between a empirical distribution and probability distribution?"
   ]
  },
  {
   "cell_type": "markdown",
   "metadata": {
    "slideshow": {
     "slide_type": "fragment"
    }
   },
   "source": [
    "Empirical distribution is an observed sample.\n",
    "\n",
    "Probability distribution is a model of the population."
   ]
  },
  {
   "cell_type": "markdown",
   "metadata": {
    "slideshow": {
     "slide_type": "slide"
    }
   },
   "source": [
    "Gaussian Process (GP)\n",
    "-----\n",
    "\n",
    "<center><img src=\"http://scikit-learn.org/0.17/_images/plot_gp_regression_0021.png\" height=\"500\"/></center>\n",
    "\n",
    "A collection of Gaussian distributions each with its own mean and variance"
   ]
  },
  {
   "cell_type": "markdown",
   "metadata": {
    "slideshow": {
     "slide_type": "fragment"
    }
   },
   "source": [
    "Generalisation of Gaussian random variables to infinite index sets, infinite index sets can be countably or continuous"
   ]
  },
  {
   "cell_type": "markdown",
   "metadata": {
    "slideshow": {
     "slide_type": "slide"
    }
   },
   "source": [
    "Summary\n",
    "-----\n",
    "\n",
    "- The world is often better model with continuous probability distributions\n",
    "- Continuous probability distributions has analogs of discrete probability distributions\n",
    "    - PMF -> PDF\n",
    "    - CDF\n",
    "    - Expectation / Mean\n",
    "    - Variance\n",
    "- You can get pretty far in your Data Science career with the following:\n",
    "    - Uniform\n",
    "    - Normal\n",
    "- If you have more time, add [Power Law Distrubtion](https://en.wikipedia.org/wiki/Power_law#Power-law_probability_distributions)"
   ]
  },
  {
   "cell_type": "markdown",
   "metadata": {
    "slideshow": {
     "slide_type": "slide"
    }
   },
   "source": [
    "<br>\n",
    "<br> \n",
    "<br>\n",
    "\n",
    "----"
   ]
  },
  {
   "cell_type": "markdown",
   "metadata": {
    "slideshow": {
     "slide_type": "slide"
    }
   },
   "source": [
    "How do I test if my sample comes from a normal distribution?\n",
    "-----\n",
    "\n",
    "Skewness & Kurtosis\n",
    "\n",
    "[Learn more here](https://docs.scipy.org/doc/scipy/reference/tutorial/stats.html)\n",
    "\n",
    "[Kurtosis Test](\n",
    "https://docs.scipy.org/doc/scipy/reference/generated/scipy.stats.kurtosistest.html#scipy.stats.kurtosistest)"
   ]
  },
  {
   "cell_type": "markdown",
   "metadata": {
    "slideshow": {
     "slide_type": "slide"
    }
   },
   "source": [
    "-----\n",
    "Bonus Materials\n",
    "-----"
   ]
  },
  {
   "cell_type": "markdown",
   "metadata": {},
   "source": [
    "[Plinko Simulator](http://phet.colorado.edu/sims/plinko-probability/plinko-probability_en.html)"
   ]
  },
  {
   "cell_type": "markdown",
   "metadata": {
    "slideshow": {
     "slide_type": "slide"
    }
   },
   "source": [
    "\n",
    "\n",
    "- Total area under the PDF curve is: $\\int_{-\\infty}^{\\infty} f_X(x) dx = 1$\n",
    "- The PDF is --NOT-- a probability\n",
    "- Calculating probabilities\n",
    "    - $P(a \\leq X \\leq b) = \\int_a^b f_X(x) dx$  \n",
    "    \n",
    "    - $F_X(x) = \\int_{-\\infty}^x f_X(u) du$\n",
    "- Endpoints do NOT matter for continuous random variables: $P(X \\leq a) = P(X < a)$ and $P(X \\geq a) = P(X > a)$"
   ]
  },
  {
   "cell_type": "markdown",
   "metadata": {
    "slideshow": {
     "slide_type": "slide"
    }
   },
   "source": [
    "### Using the PDF to Calculate the CDF\n",
    "\n",
    "$$ F_X(x) = \\int_{-\\infty}^x f_X(u) du $$"
   ]
  },
  {
   "cell_type": "markdown",
   "metadata": {
    "slideshow": {
     "slide_type": "slide"
    }
   },
   "source": [
    "### $P(X = x) = 0$\n",
    "\n",
    "- There are so many numbers in any continuous set that each of them must have probability of 0.\n",
    "\n",
    "- A continuous random takes values in a continous set (a, b).\n",
    "\n",
    "- It describes a continuously varying quantity such as time or height.\n",
    "\n",
    "- When $X$ is continuous, $P(X = x) = 0$ for --ALL-- $x$. The probability mass function (PMF) is meaningless."
   ]
  },
  {
   "cell_type": "markdown",
   "metadata": {
    "slideshow": {
     "slide_type": "subslide"
    }
   },
   "source": [
    "Since $P(X = a) = 0$ for a --continous-- random variable:\n",
    "$$ P(a < X < b) = P(a \\leq X \\leq b) = F_X(b) - F_X(a) $$\n",
    "\n",
    "This is --NOT-- true for a --discrete-- random variable:  \n",
    "$$ P(a < X < b) = P(a + 1 \\leq X \\leq b - 1) = F_X(b - 1) - F_X(a) $$\n",
    "\n",
    "- Endpoints are not important for continuous random variables\n",
    "- Endpoints are --very-- important for discrete random variables"
   ]
  },
  {
   "cell_type": "markdown",
   "metadata": {
    "slideshow": {
     "slide_type": "subslide"
    }
   },
   "source": [
    "#### Linear Transformations\n",
    "\n",
    "If $X \\sim N(\\mu, \\sigma^2)$, the for any constants $a$ and $b$,\n",
    "\n",
    "$$ aX + b \\sim N(a \\mu + b, a^2 \\sigma^2) $$\n",
    "\n",
    "In particular,\n",
    "\n",
    "$$ X \\sim N(\\mu, \\sigma^2) \\Rightarrow \\left(\\frac{X - \\mu}{\\sigma} \\right) \\sim N(0, 1) \\text{ (this is called the standard Normal distribution)} $$"
   ]
  },
  {
   "cell_type": "markdown",
   "metadata": {
    "slideshow": {
     "slide_type": "subslide"
    }
   },
   "source": [
    "#### Sum of Normal Random Variables\n",
    "\n",
    "If $X$ and $Y$ are independent, and $X \\sim N(\\mu_1, \\sigma_1^2)$, $Y \\sim N(\\mu_2, \\sigma_2^2)$, then\n",
    "\n",
    "$$ X + Y \\sim N(\\mu_1 + \\mu_2, \\sigma_1^2 + \\sigma_2^2) $$"
   ]
  },
  {
   "cell_type": "markdown",
   "metadata": {
    "slideshow": {
     "slide_type": "slide"
    }
   },
   "source": [
    "Less Common Continuous probability distributions:\n",
    "\n",
    "- [Power Law](https://en.wikipedia.org/wiki/Power_law)\n",
    "- Gamma\n",
    "- Beta     \n",
    "- $\\chi^2$\n",
    "- Student's t-distribution\n",
    "- F-distribution"
   ]
  },
  {
   "cell_type": "markdown",
   "metadata": {
    "slideshow": {
     "slide_type": "slide"
    }
   },
   "source": [
    "### Example: Auckland Volcanoes\n",
    "\n",
    "About 50 volcanic eruptions have occurred in Auckland over the last 100,000 years or so. The first two eruptions occurred in the Auckland Domain and Albert Park. The most recent, and biggest, eruption was Rangitoto, about 600 years ago. There have been about 20 eruptions in the last 20,000 years, which has led the Auckland Regional Council to assess current volcanic risk by assuming that volcanic eruptions in Auckland follow a Poisson process with rate $\\lambda = \\frac{1}{1000}$ volcanoes per year.\n",
    "\n",
    "Q: When will the next volcano erupt in Auckland?"
   ]
  },
  {
   "cell_type": "markdown",
   "metadata": {
    "slideshow": {
     "slide_type": "subslide"
    }
   },
   "source": [
    "### Distribution of Waiting Time in the Poisson Process\n",
    "\n",
    "The length of time between events in the Poisson process is called the waiting time.  \n",
    "\n",
    "Suppose that $\\{N_t : t > 0\\}$ forms a Poisson process with rate $\\lambda = \\frac{1}{1000}$.\n",
    "\n",
    "$N_t$ is the number of volcanoes to have occurred by time t, starting from now.\n",
    "\n",
    "We know that $N_t \\sim Poisson(\\lambda t)$; so $P(N_t = n) = \\frac{(\\lambda t)^n}{n!}e^{-\\lambda t}$"
   ]
  },
  {
   "cell_type": "markdown",
   "metadata": {
    "slideshow": {
     "slide_type": "subslide"
    }
   },
   "source": [
    "Let $X$ be a continuous random variable giving the number of years waited before the next volcano, starting now.\n",
    "\n",
    "Let's derive an expression for $F_X(x)$.\n",
    "\n",
    "(i) When $x < 0$:  \n",
    "$$ F_X(x) = P(X \\leq x) = P(\\text{less than 0 time before next volcano}) = 0 $$\n",
    "\n",
    "(ii) When $X \\geq 0$:\n",
    "$$ \\begin{align-}\n",
    "     F_X(x) = P(X \\leq x) & = P(\\text{amount of time waited for next volcano} \\leq x) \\\\\n",
    "                          & = P(\\text{there is at least one volcano between now and time x}) \\\\\n",
    "                          & = P(\\text{number of volcanoes between now and time } x \\text{ is } \\geq 1) \\\\\n",
    "                          & = P(N_x \\geq 1) \\\\\n",
    "                          & = 1 - P(N_x = 0) \\\\\n",
    "                          & = 1 - \\frac{(\\lambda x)^0}{0!} e^{-\\lambda x} \\\\\n",
    "                          & = 1 - e^{-\\lambda x}\n",
    "   \\end{align-} $$"
   ]
  },
  {
   "cell_type": "markdown",
   "metadata": {
    "slideshow": {
     "slide_type": "slide"
    }
   },
   "source": [
    "### Exponential Distribution\n",
    "\n",
    "The distribution of the waiting time $X$ is called the Exponential distribution because of the exponential formula for $F_X(x)$.\n",
    "\n",
    "We define the Exponential($\\lambda$) distribution to be the distribution of the waiting time (time between events) in a Poisson process with rate $\\lambda$.\n",
    "\n",
    "We write $X \\sim Exponential(\\lambda)$, or $X \\sim Exp(\\lambda)$."
   ]
  },
  {
   "cell_type": "markdown",
   "metadata": {
    "slideshow": {
     "slide_type": "subslide"
    }
   },
   "source": [
    "--CDF--: \n",
    "$$ F_X(x) = P(X \\leq x) =\n",
    "\\begin{cases}\n",
    "    1 - e^{-\\lambda x} & \\text{for } x \\geq 0 \\\\\n",
    "    0 & \\text{for } x < 0\n",
    "\\end{cases}$$\n",
    "\n",
    "--PDF--:\n",
    "$$ f_X(x) = F_X^{'}(x) =\n",
    "\\begin{cases}\n",
    "    \\lambda e^{-\\lambda x} & \\text{for } x \\geq 0 \\\\\n",
    "    0 & \\text{for } x < 0\n",
    "\\end{cases}$$\n",
    "\n",
    "--Mean--: $\\mu_X = E(X) = \\frac{1}{\\lambda}$\n",
    "\n",
    "--Variance--: $\\sigma^2 = Var(X) = \\frac{1}{\\lambda^2}$"
   ]
  },
  {
   "cell_type": "markdown",
   "metadata": {
    "slideshow": {
     "slide_type": "slide"
    }
   },
   "source": [
    "#### Example\n",
    "\n",
    "What is the probability that there will be a volcanic eruption in Auckland within the next 50 years?"
   ]
  },
  {
   "cell_type": "markdown",
   "metadata": {
    "slideshow": {
     "slide_type": "subslide"
    }
   },
   "source": [
    "We have $\\lambda = \\frac{1}{1000}$, and we need $P(X \\leq 50)$.\n",
    "\n",
    "$$ P(X \\leq 50) = F_X(50) =  1 - e^{-50/1000} = 0.049 $$\n",
    "\n",
    "There is about a 5% chance that there will be a volcanic eruption in Auckland over the next 50 years."
   ]
  },
  {
   "cell_type": "markdown",
   "metadata": {
    "slideshow": {
     "slide_type": "slide"
    }
   },
   "source": [
    "#### The Only Memoryless Distribution\n",
    "\n",
    "The waiting time of the Poisson process can be defined either as the time from the start to the first event, or the time from now until the next event, or the time between any two events.\n",
    "\n",
    "All of these quantities have the same distribution: $X \\sim Exponential(\\lambda)$.\n",
    "\n",
    "This is called the memorylessness property.\n",
    "\n",
    "The distribution of the time from now until the first event is the same as the distribution of the time from the start until the first event: the time from the start till now has been forgotten!\n",
    "\n",
    "<img src=\"images/memoryless.png\" width=\"600\">"
   ]
  },
  {
   "cell_type": "markdown",
   "metadata": {
    "slideshow": {
     "slide_type": "subslide"
    }
   },
   "source": [
    "For volcanoes, memorylessness means that the 600 years we have waited since Rangitoto erupted have counted for nothing.\n",
    "\n",
    "The Exponential distribution is often used to model failure times of components: for example $X \\sim Exponential(\\lambda)$ is the amount of time before a light bulb fails. In this case, memorylessness means that 'old is as good as new', or, put another way, 'new is as bad as old' !"
   ]
  },
  {
   "cell_type": "markdown",
   "metadata": {
    "slideshow": {
     "slide_type": "slide"
    }
   },
   "source": [
    "### Gamma Distribution\n",
    "\n",
    "If $X_1, \\dots, X_k \\sim Exponential(\\lambda)$ and $X_1, \\dots, X_k$ are independent,  \n",
    "then $X_1 + \\dots + X_k \\sim Gamma(k, \\lambda)$.\n",
    "\n",
    "The --Gamma distribution-- is defined as the sum of $k$ independent Exponential random variables. It is a very flexbile family of distributions.\n",
    "\n",
    "--Special case--: When $k = 1$, $Gamma(1, \\lambda) = Exponential(\\lambda)$.\n",
    "\n",
    "<img width=\"400\" src=\"images/gamma_pdf.png\">\n",
    "\n",
    "--Note--: in the plot above, $\\theta = 1/\\lambda$."
   ]
  },
  {
   "cell_type": "markdown",
   "metadata": {
    "slideshow": {
     "slide_type": "subslide"
    }
   },
   "source": [
    "For $X \\sim Gamma(k, \\lambda)$\n",
    "\n",
    "--Probability density distribution (PDF)--:\n",
    "\n",
    "$$ f_X(x) = \n",
    "\\begin{cases}\n",
    "\\frac{\\lambda^k}{\\Gamma(x)} x^{k - 1} e^{-\\lambda x} & \\text{if } x \\geq 0 \\\\\n",
    "0 & \\text{otherwise}\n",
    "\\end{cases} $$\n",
    "\n",
    "Where $\\Gamma(x) = \\int_0^{\\infty} t^{x - 1} e^{-t} dt $ (when $x$ is a positive integer, $\\Gamma(x) = (x - 1)!$) \n",
    "\n",
    "\n",
    "--Mean and Variance--: \n",
    "$$E(X) = \\frac{k}{\\lambda} \\text{ and } Var(X) = \\frac{k}{\\lambda^2} $$"
   ]
  },
  {
   "cell_type": "markdown",
   "metadata": {
    "slideshow": {
     "slide_type": "subslide"
    }
   },
   "source": [
    "#### CDF\n",
    "<img src=\"images/gamma_cdf.png\">"
   ]
  },
  {
   "cell_type": "markdown",
   "metadata": {
    "slideshow": {
     "slide_type": "slide"
    }
   },
   "source": [
    "Beta Distrubtion\n",
    "------\n",
    "\n",
    "<center><img src=\"http://www.landers.co.uk/wp-content/uploads/2014/10/Beta-Distribution.jpg\" style=\"width: 350px;\"/></center>\n",
    "\n",
    "<center><img src=\"images/beta.png \" style=\"width: 350px;\"/></center>\n",
    "Stephanie deWet @Pintrest usse\n",
    "\n",
    "[Source](https://youtu.be/QcW1tOHybak?t=618)\n",
    "\n",
    "In a Poisson process, if $\\alpha + \\beta$ events occur in a time interval, then the fraction of that interval until the $\\alpha^{th}$ event occurs has a $Beta(\\alpha, \\beta)$ distribution.\n",
    "\n",
    "--Special case--: $Beta(1, 1) = Uniform(0, 1)$\n",
    "\n",
    "<img width = \"400\" src=\"images/beta_pdf.png\">"
   ]
  },
  {
   "cell_type": "markdown",
   "metadata": {
    "slideshow": {
     "slide_type": "subslide"
    }
   },
   "source": [
    "For $X \\sim Beta(\\alpha, \\beta)$  \n",
    "\n",
    "\n",
    "--PDF--:\n",
    "$$ f(x) = \n",
    "\\begin{cases}\n",
    "\\frac{1}{B(\\alpha, \\beta)} x^{\\alpha - 1} (1 - x)^{\\beta - 1} & \\text{for } 0 < x < 1 \\\\\n",
    "0 & \\text{otherwise}\n",
    "\\end{cases} $$\n",
    "\n",
    "where $B(\\alpha, \\beta) = \\int_0^1 t^{\\alpha - 1} (1 - t)^{\\beta - 1} dt = \\frac{\\Gamma(\\alpha) \\Gamma(\\beta)}{\\Gamma(\\alpha + \\beta)}$\n",
    "\n",
    "--Mean and Variance--:\n",
    "\n",
    "$$ E(X) = \\frac{\\alpha}{\\alpha + \\beta} \\text{ and } Var(X) = \\frac{\\alpha \\beta}{(\\alpha + \\beta)^2 (\\alpha + \\beta + 1)} $$"
   ]
  },
  {
   "cell_type": "markdown",
   "metadata": {
    "slideshow": {
     "slide_type": "slide"
    }
   },
   "source": [
    "### ${\\chi}^2$ Distribution\n",
    "\n",
    "The ${\\chi}^2$ distribution is defined as the sum of the squares of $\\nu$ independent standard Normal distribution.  \n",
    "\n",
    "If $X_1, \\dots, X_{\\nu} \\sim N(0, 1)$, and $X_1, \\dots, X_{\\nu}$ are independent,  \n",
    "then $X_1 + \\dots + X_{\\nu} \\sim \\chi^2_{\\nu}$  \n",
    "\n",
    "$\\chi^2_{\\nu}$ is a special case of Gamma distribution,\n",
    "\n",
    "$$ \\chi^2_{\\nu} = Gamma(k = \\frac{\\nu}{2}, \\lambda = \\frac{1}{2}) $$\n",
    "\n",
    "So if $Y \\sim \\chi^2_{\\nu}$, then $E(Y) = \\frac{k}{\\lambda} = \\nu$, and $Var(Y) = \\frac{k}{\\lambda^2} = 2 \\nu$."
   ]
  },
  {
   "cell_type": "markdown",
   "metadata": {
    "slideshow": {
     "slide_type": "subslide"
    }
   },
   "source": [
    "<img src=\"images/chi2_pdf.png\">"
   ]
  },
  {
   "cell_type": "markdown",
   "metadata": {
    "slideshow": {
     "slide_type": "slide"
    }
   },
   "source": [
    "### Student's t-distribution\n",
    "\n",
    "If $Y \\sim \\chi^2_{\\nu}$, and $Z \\sim N(0, 1)$ independent of $Y$, then $X = Z / \\sqrt{Y / \\nu}$ has a t-distribution with $\\nu$ degrees of freedom. We write $X \\sim t_{\\nu}$.\n",
    "\n",
    "<img src=\"images/t_pdf.png\">"
   ]
  },
  {
   "cell_type": "markdown",
   "metadata": {
    "slideshow": {
     "slide_type": "slide"
    }
   },
   "source": [
    "### $F$-distribution\n",
    "\n",
    "If $Y \\sim \\chi^2_{\\nu_1}$ independent of $Z \\sim \\chi^2_{\\nu_2}$, then $X = \\frac{Y / \\nu_1}{Z / \\nu_2}$ has an $F$-distribution with $(\\nu_1, \\nu_2)$ degrees of freedom. We write $X \\sim F(\\nu_1, \\nu_2)$.\n",
    "\n",
    "<img src=\"images/F_pdf.png\">"
   ]
  },
  {
   "cell_type": "markdown",
   "metadata": {
    "slideshow": {
     "slide_type": "slide"
    }
   },
   "source": [
    "<br>\n",
    "<br> \n",
    "<br>\n",
    "\n",
    "----"
   ]
  }
 ],
 "metadata": {
  "anaconda-cloud": {},
  "celltoolbar": "Slideshow",
  "kernelspec": {
   "display_name": "Python 3",
   "language": "python",
   "name": "python3"
  },
  "language_info": {
   "codemirror_mode": {
    "name": "ipython",
    "version": 3
   },
   "file_extension": ".py",
   "mimetype": "text/x-python",
   "name": "python",
   "nbconvert_exporter": "python",
   "pygments_lexer": "ipython3",
   "version": "3.6.1"
  }
 },
 "nbformat": 4,
 "nbformat_minor": 1
}
