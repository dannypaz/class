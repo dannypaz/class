{
 "cells": [
  {
   "cell_type": "markdown",
   "metadata": {
    "slideshow": {
     "slide_type": "slide"
    }
   },
   "source": [
    "Bayesian Optimization\n",
    "-----\n",
    "<br>\n",
    "<center><img src=\"http://hips.seas.harvard.edu/files/gp-acquisition-ei.png\" width=\"700\"/></center>"
   ]
  },
  {
   "cell_type": "markdown",
   "metadata": {
    "slideshow": {
     "slide_type": "slide"
    }
   },
   "source": [
    "By The End Of This Session You Should Be Able To:\n",
    "----\n",
    "\n",
    "- Define Bayesian Optimization\n",
    "- Explain how Bayesian Optimization uses Gaussian Process\n",
    "- List the steps in Bayesian Optimization\n",
    "- Explain how Bayesian Optimization can be used to find hyperparameters for machine learning models"
   ]
  },
  {
   "cell_type": "markdown",
   "metadata": {
    "slideshow": {
     "slide_type": "slide"
    }
   },
   "source": [
    "Choosing the right (hyper)parameters for a machine learning model is almost more of an art than a science."
   ]
  },
  {
   "cell_type": "markdown",
   "metadata": {
    "slideshow": {
     "slide_type": "slide"
    }
   },
   "source": [
    "What are the ways of tuning model hyperparameters?\n",
    "-----"
   ]
  },
  {
   "cell_type": "markdown",
   "metadata": {
    "slideshow": {
     "slide_type": "fragment"
    }
   },
   "source": [
    "- Closed-form Optimization\n",
    "- Gradient Descent\n",
    "- \"Graduate Student\" Descent, aka manual search\n",
    "- Random\n",
    "- Grid Search\n",
    "- Genetic Programming\n",
    "- Bayesian Optimization\n"
   ]
  },
  {
   "cell_type": "markdown",
   "metadata": {
    "slideshow": {
     "slide_type": "slide"
    }
   },
   "source": [
    "What is the best use case for Bayesian Optimization (BO)?\n",
    "-----\n",
    "\n",
    "Impossible to have closed-form solution to find optimum.\n",
    "\n",
    "Costly to evaluate the function."
   ]
  },
  {
   "cell_type": "markdown",
   "metadata": {
    "slideshow": {
     "slide_type": "slide"
    }
   },
   "source": [
    "How does BO work?\n",
    "----\n",
    "\n",
    "An example of sequential model-based optimization (SMBO) algorithms.\n",
    "\n",
    "Use previous observations of the loss f to determine the next best point to sample f. "
   ]
  },
  {
   "cell_type": "markdown",
   "metadata": {
    "slideshow": {
     "slide_type": "slide"
    }
   },
   "source": [
    "How does BO work?\n",
    "----\n",
    "\n",
    "1) Build Gaussian Process (GP) with points sampled so far\n"
   ]
  },
  {
   "cell_type": "markdown",
   "metadata": {
    "collapsed": true,
    "slideshow": {
     "slide_type": "fragment"
    }
   },
   "source": [
    "2) Optimize the fit of the GP (covariance hyperparameters)\n"
   ]
  },
  {
   "cell_type": "markdown",
   "metadata": {
    "slideshow": {
     "slide_type": "fragment"
    }
   },
   "source": [
    "3) Find the point(s) of highest Expected Improvement within parameter domain\n"
   ]
  },
  {
   "cell_type": "markdown",
   "metadata": {
    "slideshow": {
     "slide_type": "fragment"
    }
   },
   "source": [
    "4) Return optimal next best point(s) to sample"
   ]
  },
  {
   "cell_type": "markdown",
   "metadata": {
    "slideshow": {
     "slide_type": "slide"
    }
   },
   "source": [
    "Check for understanding\n",
    "-----\n",
    "\n",
    "In general for Bayesian inference, what are the two things we need to generate a posterior expectation?"
   ]
  },
  {
   "cell_type": "markdown",
   "metadata": {
    "slideshow": {
     "slide_type": "fragment"
    }
   },
   "source": [
    "1. A likelihood model for the samples \n",
    "\n",
    "2. A prior probability model"
   ]
  },
  {
   "cell_type": "markdown",
   "metadata": {
    "slideshow": {
     "slide_type": "slide"
    }
   },
   "source": [
    "Creating a BO model\n",
    "------\n",
    "\n",
    "Assume we have a normal likelihood with noise:  \n",
    "y = f(__x__) + ε, ε ~ N(f(__x__), σ<sup>2</sup><sub>ε</sub>)"
   ]
  },
  {
   "cell_type": "markdown",
   "metadata": {
    "collapsed": true,
    "slideshow": {
     "slide_type": "fragment"
    }
   },
   "source": [
    "or in Bayesian terms:  \n",
    "y | f ~ N(f(__x__), σ<sup>2</sup><sub>ε</sub>)"
   ]
  },
  {
   "cell_type": "markdown",
   "metadata": {
    "slideshow": {
     "slide_type": "fragment"
    }
   },
   "source": [
    "For the prior distribution, we assume that the loss function f can be described by a Gaussian process (GP). "
   ]
  },
  {
   "cell_type": "markdown",
   "metadata": {
    "slideshow": {
     "slide_type": "slide"
    }
   },
   "source": [
    "What the hell is a Gaussian process (GP)?\n",
    "------\n",
    "<br>\n",
    "<center><img src=\"images/gp.png\" width=\"700\"/></center>\n",
    "\n",
    "GP is the generalization of a standard Gaussian distribution\n",
    "\n",
    "GP is a __distribution over functions__ (Gaussian distribution is a distribution over random variables)"
   ]
  },
  {
   "cell_type": "markdown",
   "metadata": {
    "collapsed": true,
    "slideshow": {
     "slide_type": "slide"
    }
   },
   "source": [
    "GP parameters\n",
    "-----\n",
    "\n",
    "A Gaussian distribution is completely specified by its mean and variance\n",
    "\n",
    "A GP is completely specified by its mean __function__ m(__x__), and covariance __function__ k(__x__,__x′__)."
   ]
  },
  {
   "cell_type": "markdown",
   "metadata": {
    "slideshow": {
     "slide_type": "slide"
    }
   },
   "source": [
    "GP: Points go in, Normal Distributions come out\n",
    "-----\n",
    "\n",
    "<br>\n",
    "<center><img src=\"images/gp.png\" width=\"700\"/></center>\n",
    "\n",
    "We can think of a GP as a function that, instead of returning a scalar f(x), returns __the mean and variance__ of a normal distribution over the possible values of f at x.\n"
   ]
  },
  {
   "cell_type": "markdown",
   "metadata": {
    "slideshow": {
     "slide_type": "slide"
    }
   },
   "source": [
    "GP formalism\n",
    "------\n",
    "\n",
    "For a set of data points x<sub></sub>1:n<sub></sub> = {x<sub>1</sub>,…,x<sub>n</sub>}x1:n={x1,…,xn},   \n",
    "we assume that the values of the loss function f<sub>1:n</sub>={f(x<sub>1</sub>),…,f(x<sub>n</sub>)} can be described by a multivariate Gaussian distribution:\n",
    "\n",
    "f<sub>1:n</sub> ∼ N(m(x<sub>1:n</sub>), K)"
   ]
  },
  {
   "cell_type": "markdown",
   "metadata": {
    "slideshow": {
     "slide_type": "slide"
    }
   },
   "source": [
    "GP FTW\n",
    "-----\n",
    "\n",
    "<center><img src=\"images/after.png\" width=\"700\"/></center>\n",
    "\n",
    "It results in a posterior distribution over the loss function that is analytically tractable. This allows us to update our beliefs of what f looks like, after we have computed the loss for a new set of hyperparameters."
   ]
  },
  {
   "cell_type": "markdown",
   "metadata": {
    "slideshow": {
     "slide_type": "slide"
    }
   },
   "source": [
    "Acquisition functions\n",
    "------\n",
    "\n",
    "To find the best point to sample ff next from, we will choose the point that maximizes an acquisition function. "
   ]
  },
  {
   "cell_type": "markdown",
   "metadata": {
    "slideshow": {
     "slide_type": "fragment"
    }
   },
   "source": [
    "This is a function of the posterior distribution over f, that describes the utility for all values of the hyperparameters. "
   ]
  },
  {
   "cell_type": "markdown",
   "metadata": {
    "slideshow": {
     "slide_type": "fragment"
    }
   },
   "source": [
    "The values with the highest utility, will be the values for which we compute the loss next."
   ]
  },
  {
   "cell_type": "markdown",
   "metadata": {
    "slideshow": {
     "slide_type": "slide"
    }
   },
   "source": [
    "Expected Improvement (EI) function\n",
    "-----\n",
    "\n",
    "The most popular acquisition function\n",
    "\n",
    "<center><img src=\"images/ei_form.png\" width=\"800\"/></center>"
   ]
  },
  {
   "cell_type": "markdown",
   "metadata": {
    "collapsed": true,
    "slideshow": {
     "slide_type": "slide"
    }
   },
   "source": [
    "EI properties\n",
    "-------\n",
    "\n",
    "1. EI is high when the (posterior) expected value of the loss μ(x) is higher than the current best value f(x̂ )\n",
    "2. EI is high when the uncertainty σ(x) around the point x is high."
   ]
  },
  {
   "cell_type": "markdown",
   "metadata": {
    "slideshow": {
     "slide_type": "fragment"
    }
   },
   "source": [
    "Trades off exploitation versus exploration:\n",
    "\n",
    "We maximize the expected improvement, we will either sample from points for which we expect a higher value of f, or points in a region of f we have not explored yet (σ(x) is high)"
   ]
  },
  {
   "cell_type": "markdown",
   "metadata": {
    "slideshow": {
     "slide_type": "slide"
    }
   },
   "source": [
    "<center><img src=\"http://www.nature.com/nature/journal/v521/n7553/images/nature14541-f3.jpg\" width=\"800\"/></center>"
   ]
  },
  {
   "cell_type": "markdown",
   "metadata": {
    "slideshow": {
     "slide_type": "slide"
    }
   },
   "source": [
    "EI Example: Early in Training\n",
    "-------\n",
    "<br>\n",
    "<center><img src=\"images/ep1.png\" width=\"500\"/></center>\n",
    "\n",
    "\"Unknown Unknowns\": A single know value and high variances"
   ]
  },
  {
   "cell_type": "markdown",
   "metadata": {
    "slideshow": {
     "slide_type": "slide"
    }
   },
   "source": [
    "EI Example: Later in Training\n",
    "-------\n",
    "<br>\n",
    "<center><img src=\"images/ep.png\" width=\"650\"/></center>\n",
    "\n",
    "Known optimium values with low variance."
   ]
  },
  {
   "cell_type": "markdown",
   "metadata": {
    "slideshow": {
     "slide_type": "slide"
    }
   },
   "source": [
    "Check for understanding\n",
    "------\n",
    "\n",
    "When do you stop Bayesian optimization?"
   ]
  },
  {
   "cell_type": "markdown",
   "metadata": {
    "slideshow": {
     "slide_type": "fragment"
    }
   },
   "source": [
    "1. When you get a good answer with high confidence\n",
    "2. Pre-specified number of iterations\n",
    "3. Run out of budget"
   ]
  },
  {
   "cell_type": "markdown",
   "metadata": {
    "slideshow": {
     "slide_type": "slide"
    }
   },
   "source": [
    "Bayesian optimization steps\n",
    "------\n",
    "\n",
    "1) Given observed values f(x), update the posterior expectation of f using the GP model\n"
   ]
  },
  {
   "cell_type": "markdown",
   "metadata": {
    "slideshow": {
     "slide_type": "fragment"
    }
   },
   "source": [
    "2) Find x<sub>new</sub> that maximises the EI: x<sub>new</sub> = argmaxEI(x)"
   ]
  },
  {
   "cell_type": "markdown",
   "metadata": {
    "slideshow": {
     "slide_type": "fragment"
    }
   },
   "source": [
    "3) Compute the value of f for the point x<sub>new</sub>"
   ]
  },
  {
   "cell_type": "markdown",
   "metadata": {
    "slideshow": {
     "slide_type": "slide"
    }
   },
   "source": [
    "BO results\n",
    "-----\n",
    "\n",
    "<center><img src=\"http://scikit-learn.org/0.17/_images/plot_gp_regression_0011.png\" width=\"700\"/></center>"
   ]
  },
  {
   "cell_type": "code",
   "execution_count": 1,
   "metadata": {
    "slideshow": {
     "slide_type": "slide"
    }
   },
   "outputs": [
    {
     "data": {
      "image/jpeg": "[encoded data removed]",
      "text/html": [
       "\n",
       "        <iframe\n",
       "            width=\"400\"\n",
       "            height=\"300\"\n",
       "            src=\"https://www.youtube.com/embed/R3wIEzkv4Pg\"\n",
       "            frameborder=\"0\"\n",
       "            allowfullscreen\n",
       "        ></iframe>\n",
       "        "
      ],
      "text/plain": [
       "<IPython.lib.display.YouTubeVideo at 0x106a68ac8>"
      ]
     },
     "execution_count": 1,
     "metadata": {},
     "output_type": "execute_result"
    }
   ],
   "source": [
    "from IPython.display import YouTubeVideo\n",
    "\n",
    "YouTubeVideo(\"R3wIEzkv4Pg\")"
   ]
  },
  {
   "cell_type": "markdown",
   "metadata": {
    "slideshow": {
     "slide_type": "slide"
    }
   },
   "source": [
    "Tips and tricks\n",
    "-----\n",
    "\n",
    "Unfortunately, it is not always that easy to get such good results with Bayesian optimization.\n",
    "\n",
    "\n"
   ]
  },
  {
   "cell_type": "markdown",
   "metadata": {
    "slideshow": {
     "slide_type": "fragment"
    }
   },
   "source": [
    "1) Choose an appropriate scale for your hyperparameters: "
   ]
  },
  {
   "cell_type": "markdown",
   "metadata": {
    "slideshow": {
     "slide_type": "skip"
    }
   },
   "source": [
    "For parameters like a learning rate, or regularization term, it makes more sense to sample on the log-uniform domain, instead of the uniform domain."
   ]
  },
  {
   "cell_type": "markdown",
   "metadata": {
    "slideshow": {
     "slide_type": "fragment"
    }
   },
   "source": [
    "2) Kernel of the GP \n"
   ]
  },
  {
   "cell_type": "markdown",
   "metadata": {
    "slideshow": {
     "slide_type": "skip"
    }
   },
   "source": [
    "Different kernels have a drastic effect on the performance of the search algorithm. Each kernel implicitly assumes different properties on the loss ff, in terms of differentiability and periodicity."
   ]
  },
  {
   "cell_type": "markdown",
   "metadata": {
    "slideshow": {
     "slide_type": "fragment"
    }
   },
   "source": [
    "3) Uniqueness of sampled hyperparameters"
   ]
  },
  {
   "cell_type": "markdown",
   "metadata": {
    "slideshow": {
     "slide_type": "skip"
    }
   },
   "source": [
    "Sampled hyperparameters that are close to each other, reduce the condinitioning of the problem. A solution is to add jitter (noise) to the diagonal of the covariance matrix. "
   ]
  },
  {
   "cell_type": "markdown",
   "metadata": {
    "slideshow": {
     "slide_type": "slide"
    }
   },
   "source": [
    "Summary\n",
    "------\n",
    "\n",
    "- Bayesian Optimization (BO) is a method for efficient search of a space\n",
    "- BO uses a Gaussian Process (GP)\n",
    "- GP extend Gaussian Distributions to be functions\n",
    "- The level of uncertainty in the spaces that reduce through sampling\n",
    "- We pick the next best place to sample with Expected Improvement (EI) function, which balances best outcomes and reducing uncertainty\n",
    "- BO is still immature (i.e., tricky) in application"
   ]
  },
  {
   "cell_type": "markdown",
   "metadata": {
    "slideshow": {
     "slide_type": "slide"
    }
   },
   "source": [
    "<br>"
   ]
  },
  {
   "cell_type": "markdown",
   "metadata": {
    "slideshow": {
     "slide_type": "slide"
    }
   },
   "source": [
    "Bonus Material\n",
    "---"
   ]
  },
  {
   "cell_type": "markdown",
   "metadata": {
    "slideshow": {
     "slide_type": "slide"
    }
   },
   "source": [
    "Other Activation Functions\n",
    "------\n",
    "<br>\n",
    "<center><img src=\"images/act.png\" width=\"700\"/></center>"
   ]
  },
  {
   "cell_type": "markdown",
   "metadata": {
    "slideshow": {
     "slide_type": "slide"
    }
   },
   "source": [
    "<br>\n",
    "<br>"
   ]
  }
 ],
 "metadata": {
  "anaconda-cloud": {},
  "celltoolbar": "Slideshow",
  "kernelspec": {
   "display_name": "Python 3",
   "language": "python",
   "name": "python3"
  },
  "language_info": {
   "codemirror_mode": {
    "name": "ipython",
    "version": 3
   },
   "file_extension": ".py",
   "mimetype": "text/x-python",
   "name": "python",
   "nbconvert_exporter": "python",
   "pygments_lexer": "ipython3",
   "version": "3.6.1"
  }
 },
 "nbformat": 4,
 "nbformat_minor": 1
}
