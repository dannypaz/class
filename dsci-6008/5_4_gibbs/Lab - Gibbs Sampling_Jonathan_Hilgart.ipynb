{
 "cells": [
  {
   "cell_type": "code",
   "execution_count": 1,
   "metadata": {
    "collapsed": true
   },
   "outputs": [],
   "source": [
    "from collections import defaultdict\n",
    "import random\n",
    "from pprint import pprint\n",
    "import numpy as np"
   ]
  },
  {
   "cell_type": "markdown",
   "metadata": {},
   "source": [
    "Gibbs sampling is a method for using conditional distributions to simulate the full joint distribution.\n",
    "\n",
    "Here, we'll work through a simple model of the following graphical form:\n",
    "\n",
    "![](lec_d_diagram_1.png \"\")\n",
    "\n",
    "This is a model of two die rolls, with the observed random variables $x$ and $y$, and the unobserved random variables of $d_0$ and $d_1$.\n",
    "\n",
    "The full joint distribution is\n",
    "\n",
    "$$P(x, y, d_0, d_1)$$\n",
    "\n",
    "And we can calculate this explicitly:"
   ]
  },
  {
   "cell_type": "code",
   "execution_count": 4,
   "metadata": {
    "collapsed": true
   },
   "outputs": [],
   "source": [
    "def roll_a_die():\n",
    "    return random.choice([1,2,3,4,5,6])\n",
    "\n",
    "# generative model\n",
    "def direct_sample(num_iters=100):\n",
    "    ret = {'d0': [], 'd1': [], 'x': [], 'y': []}\n",
    "    \n",
    "    for _ in range(num_iters):\n",
    "        d0 = roll_a_die()\n",
    "        d1 = roll_a_die()\n",
    "        x = d0\n",
    "        y = d0 + d1\n",
    "    \n",
    "        ret['d0'].append(d0)\n",
    "        ret['d1'].append(d1)\n",
    "        ret['x'].append(x)\n",
    "        ret['y'].append(y)\n",
    "\n",
    "\n",
    "    return ret"
   ]
  },
  {
   "cell_type": "markdown",
   "metadata": {},
   "source": [
    "Repeatedly use `direct_sample` to estimate the following probabilities:\n",
    "    \n",
    "$$P(x = 3)$$\n",
    "$$P(y = 5)$$\n",
    "\n",
    "And these, which may require list manipulation and/or indexing:\n",
    "\n",
    "$$P(y = 10 | x = 5)$$\n",
    "$$P(x = 5 | y = 10)$$    "
   ]
  },
  {
   "cell_type": "markdown",
   "metadata": {},
   "source": [
    "- X=3"
   ]
  },
  {
   "cell_type": "code",
   "execution_count": 11,
   "metadata": {
    "collapsed": true
   },
   "outputs": [],
   "source": [
    "n_iterations = 100"
   ]
  },
  {
   "cell_type": "code",
   "execution_count": 13,
   "metadata": {},
   "outputs": [
    {
     "data": {
      "text/plain": [
       "0.16"
      ]
     },
     "execution_count": 13,
     "metadata": {},
     "output_type": "execute_result"
    }
   ],
   "source": [
    "sum(np.array(direct_sample(n_iterations)['x'])==3)/n_iterations"
   ]
  },
  {
   "cell_type": "code",
   "execution_count": 16,
   "metadata": {},
   "outputs": [
    {
     "data": {
      "text/plain": [
       "0.20000000000000001"
      ]
     },
     "execution_count": 16,
     "metadata": {},
     "output_type": "execute_result"
    }
   ],
   "source": [
    "sum(np.array(direct_sample(n_iterations)['x'])==3)/n_iterations"
   ]
  },
  {
   "cell_type": "code",
   "execution_count": 17,
   "metadata": {},
   "outputs": [
    {
     "data": {
      "text/plain": [
       "0.13"
      ]
     },
     "execution_count": 17,
     "metadata": {},
     "output_type": "execute_result"
    }
   ],
   "source": [
    "sum(np.array(direct_sample(n_iterations)['x'])==3)/n_iterations"
   ]
  },
  {
   "cell_type": "code",
   "execution_count": 19,
   "metadata": {},
   "outputs": [
    {
     "data": {
      "text/plain": [
       "0.23999999999999999"
      ]
     },
     "execution_count": 19,
     "metadata": {},
     "output_type": "execute_result"
    }
   ],
   "source": [
    "sum(np.array(direct_sample(n_iterations)['x'])==3)/n_iterations"
   ]
  },
  {
   "cell_type": "markdown",
   "metadata": {},
   "source": [
    "-  y=5"
   ]
  },
  {
   "cell_type": "code",
   "execution_count": 92,
   "metadata": {},
   "outputs": [
    {
     "data": {
      "text/plain": [
       "0.14000000000000001"
      ]
     },
     "execution_count": 92,
     "metadata": {},
     "output_type": "execute_result"
    }
   ],
   "source": [
    "sum(np.array(direct_sample(n_iterations)['y'])==5)/n_iterations"
   ]
  },
  {
   "cell_type": "code",
   "execution_count": 93,
   "metadata": {},
   "outputs": [
    {
     "data": {
      "text/plain": [
       "0.050000000000000003"
      ]
     },
     "execution_count": 93,
     "metadata": {},
     "output_type": "execute_result"
    }
   ],
   "source": [
    "sum(np.array(direct_sample(n_iterations)['y'])==3)/n_iterations"
   ]
  },
  {
   "cell_type": "code",
   "execution_count": 94,
   "metadata": {},
   "outputs": [
    {
     "data": {
      "text/plain": [
       "0.01"
      ]
     },
     "execution_count": 94,
     "metadata": {},
     "output_type": "execute_result"
    }
   ],
   "source": [
    "sum(np.array(direct_sample(n_iterations)['y'])==3)/n_iterations"
   ]
  },
  {
   "cell_type": "code",
   "execution_count": 95,
   "metadata": {},
   "outputs": [
    {
     "data": {
      "text/plain": [
       "0.089999999999999997"
      ]
     },
     "execution_count": 95,
     "metadata": {},
     "output_type": "execute_result"
    }
   ],
   "source": [
    "sum(np.array(direct_sample(n_iterations)['y'])==3)/n_iterations"
   ]
  },
  {
   "cell_type": "code",
   "execution_count": 91,
   "metadata": {},
   "outputs": [
    {
     "data": {
      "text/plain": [
       "0.1111111111111111"
      ]
     },
     "execution_count": 91,
     "metadata": {},
     "output_type": "execute_result"
    }
   ],
   "source": [
    "1/9 # true prob"
   ]
  },
  {
   "cell_type": "markdown",
   "metadata": {},
   "source": [
    "- Y=10 | X = 5"
   ]
  },
  {
   "cell_type": "code",
   "execution_count": 106,
   "metadata": {},
   "outputs": [
    {
     "name": "stdout",
     "output_type": "stream",
     "text": [
      "Prob of y=10 | x=5: 35.294118%\n",
      "Prob of y=10 | x=5: 5.555556%\n",
      "Prob of y=10 | x=5: 35.714286%\n",
      "Prob of y=10 | x=5: 0.000000%\n",
      "Prob of y=10 | x=5: 20.000000%\n",
      "Prob of y=10 | x=5: 35.714286%\n",
      "Prob of y=10 | x=5: 18.750000%\n",
      "Prob of y=10 | x=5: 4.166667%\n",
      "Prob of y=10 | x=5: 5.882353%\n",
      "Prob of y=10 | x=5: 41.176471%\n",
      "Prob of y=10 | x=5: 16.666667%\n",
      "Prob of y=10 | x=5: 33.333333%\n",
      "Prob of y=10 | x=5: 0.000000%\n",
      "Prob of y=10 | x=5: 7.142857%\n",
      "Prob of y=10 | x=5: 17.647059%\n",
      "Prob of y=10 | x=5: 25.000000%\n",
      "Prob of y=10 | x=5: 11.764706%\n",
      "Prob of y=10 | x=5: 0.000000%\n",
      "Prob of y=10 | x=5: 28.571429%\n",
      "Prob of y=10 | x=5: 25.000000%\n",
      "Prob of y=10 | x=5: 17.391304%\n",
      "Prob of y=10 | x=5: 7.692308%\n",
      "Prob of y=10 | x=5: 14.285714%\n",
      "Prob of y=10 | x=5: 22.222222%\n",
      "Prob of y=10 | x=5: 5.555556%\n",
      "Prob of y=10 | x=5: 15.789474%\n",
      "Prob of y=10 | x=5: 13.636364%\n",
      "Prob of y=10 | x=5: 20.000000%\n",
      "Prob of y=10 | x=5: 14.285714%\n",
      "Prob of y=10 | x=5: 13.043478%\n",
      "Prob of y=10 | x=5: 28.571429%\n",
      "Prob of y=10 | x=5: 17.647059%\n",
      "Prob of y=10 | x=5: 20.000000%\n",
      "Prob of y=10 | x=5: 14.285714%\n",
      "Prob of y=10 | x=5: 31.250000%\n",
      "Prob of y=10 | x=5: 7.692308%\n",
      "Prob of y=10 | x=5: 15.000000%\n",
      "Prob of y=10 | x=5: 21.052632%\n",
      "Prob of y=10 | x=5: 27.272727%\n",
      "Prob of y=10 | x=5: 14.285714%\n",
      "Prob of y=10 | x=5: 14.285714%\n",
      "Prob of y=10 | x=5: 40.000000%\n",
      "Prob of y=10 | x=5: 27.272727%\n",
      "Prob of y=10 | x=5: 10.000000%\n",
      "Prob of y=10 | x=5: 20.000000%\n",
      "Prob of y=10 | x=5: 0.000000%\n",
      "Prob of y=10 | x=5: 24.000000%\n",
      "Prob of y=10 | x=5: 16.666667%\n",
      "Prob of y=10 | x=5: 11.764706%\n",
      "Prob of y=10 | x=5: 22.222222%\n",
      "Prob of y=10 | x=5: 30.769231%\n",
      "Prob of y=10 | x=5: 28.571429%\n",
      "Prob of y=10 | x=5: 27.272727%\n",
      "Prob of y=10 | x=5: 10.000000%\n",
      "Prob of y=10 | x=5: 38.888889%\n",
      "Prob of y=10 | x=5: 13.043478%\n",
      "Prob of y=10 | x=5: 25.000000%\n",
      "Prob of y=10 | x=5: 26.315789%\n",
      "Prob of y=10 | x=5: 9.523810%\n",
      "Prob of y=10 | x=5: 15.789474%\n",
      "Prob of y=10 | x=5: 6.666667%\n",
      "Prob of y=10 | x=5: 22.222222%\n",
      "Prob of y=10 | x=5: 9.523810%\n",
      "Prob of y=10 | x=5: 16.666667%\n",
      "Prob of y=10 | x=5: 18.750000%\n",
      "Prob of y=10 | x=5: 19.230769%\n",
      "Prob of y=10 | x=5: 18.181818%\n",
      "Prob of y=10 | x=5: 10.000000%\n",
      "Prob of y=10 | x=5: 20.000000%\n",
      "Prob of y=10 | x=5: 12.500000%\n",
      "Prob of y=10 | x=5: 12.500000%\n",
      "Prob of y=10 | x=5: 11.764706%\n",
      "Prob of y=10 | x=5: 7.692308%\n",
      "Prob of y=10 | x=5: 35.000000%\n",
      "Prob of y=10 | x=5: 25.000000%\n",
      "Prob of y=10 | x=5: 7.142857%\n",
      "Prob of y=10 | x=5: 9.090909%\n",
      "Prob of y=10 | x=5: 13.333333%\n",
      "Prob of y=10 | x=5: 14.285714%\n",
      "Prob of y=10 | x=5: 21.052632%\n",
      "Prob of y=10 | x=5: 15.789474%\n",
      "Prob of y=10 | x=5: 26.666667%\n",
      "Prob of y=10 | x=5: 0.000000%\n",
      "Prob of y=10 | x=5: 11.764706%\n",
      "Prob of y=10 | x=5: 29.411765%\n",
      "Prob of y=10 | x=5: 15.384615%\n",
      "Prob of y=10 | x=5: 25.000000%\n",
      "Prob of y=10 | x=5: 16.666667%\n",
      "Prob of y=10 | x=5: 23.076923%\n",
      "Prob of y=10 | x=5: 25.000000%\n",
      "Prob of y=10 | x=5: 12.500000%\n",
      "Prob of y=10 | x=5: 18.750000%\n",
      "Prob of y=10 | x=5: 11.111111%\n",
      "Prob of y=10 | x=5: 20.000000%\n",
      "Prob of y=10 | x=5: 25.000000%\n",
      "Prob of y=10 | x=5: 0.000000%\n",
      "Prob of y=10 | x=5: 11.111111%\n",
      "Prob of y=10 | x=5: 13.333333%\n",
      "Prob of y=10 | x=5: 9.523810%\n",
      "Prob of y=10 | x=5: 11.111111%\n",
      "Prob of y=10 | x=5: 18.750000%\n",
      "Prob of y=10 | x=5: 22.222222%\n",
      "Prob of y=10 | x=5: 19.047619%\n",
      "Prob of y=10 | x=5: 10.000000%\n",
      "Prob of y=10 | x=5: 17.647059%\n",
      "Prob of y=10 | x=5: 6.666667%\n",
      "Prob of y=10 | x=5: 15.384615%\n",
      "Prob of y=10 | x=5: 17.647059%\n",
      "Prob of y=10 | x=5: 18.750000%\n",
      "Prob of y=10 | x=5: 21.052632%\n",
      "Prob of y=10 | x=5: 25.000000%\n",
      "Prob of y=10 | x=5: 9.090909%\n",
      "Prob of y=10 | x=5: 26.666667%\n",
      "Prob of y=10 | x=5: 11.111111%\n",
      "Prob of y=10 | x=5: 27.272727%\n",
      "Prob of y=10 | x=5: 20.833333%\n",
      "Prob of y=10 | x=5: 18.750000%\n",
      "Prob of y=10 | x=5: 10.000000%\n",
      "Prob of y=10 | x=5: 0.000000%\n",
      "Prob of y=10 | x=5: 4.761905%\n",
      "Prob of y=10 | x=5: 11.764706%\n",
      "Prob of y=10 | x=5: 20.000000%\n",
      "Prob of y=10 | x=5: 18.750000%\n",
      "Prob of y=10 | x=5: 7.142857%\n",
      "Prob of y=10 | x=5: 14.285714%\n",
      "Prob of y=10 | x=5: 20.000000%\n",
      "Prob of y=10 | x=5: 6.666667%\n",
      "Prob of y=10 | x=5: 14.285714%\n",
      "Prob of y=10 | x=5: 8.333333%\n",
      "Prob of y=10 | x=5: 9.090909%\n",
      "Prob of y=10 | x=5: 10.526316%\n",
      "Prob of y=10 | x=5: 25.000000%\n",
      "Prob of y=10 | x=5: 5.555556%\n",
      "Prob of y=10 | x=5: 23.076923%\n",
      "Prob of y=10 | x=5: 25.000000%\n",
      "Prob of y=10 | x=5: 15.789474%\n",
      "Prob of y=10 | x=5: 16.000000%\n",
      "Prob of y=10 | x=5: 6.666667%\n",
      "Prob of y=10 | x=5: 17.647059%\n",
      "Prob of y=10 | x=5: 21.052632%\n",
      "Prob of y=10 | x=5: 21.428571%\n",
      "Prob of y=10 | x=5: 0.000000%\n",
      "Prob of y=10 | x=5: 17.647059%\n",
      "Prob of y=10 | x=5: 22.222222%\n",
      "Prob of y=10 | x=5: 8.333333%\n",
      "Prob of y=10 | x=5: 16.666667%\n",
      "Prob of y=10 | x=5: 11.764706%\n",
      "Prob of y=10 | x=5: 11.764706%\n",
      "Prob of y=10 | x=5: 35.714286%\n",
      "Prob of y=10 | x=5: 16.666667%\n",
      "Prob of y=10 | x=5: 0.000000%\n",
      "Prob of y=10 | x=5: 10.526316%\n",
      "Prob of y=10 | x=5: 5.263158%\n",
      "Prob of y=10 | x=5: 28.571429%\n",
      "Prob of y=10 | x=5: 18.750000%\n",
      "Prob of y=10 | x=5: 0.000000%\n",
      "Prob of y=10 | x=5: 22.222222%\n",
      "Prob of y=10 | x=5: 13.333333%\n",
      "Prob of y=10 | x=5: 25.000000%\n",
      "Prob of y=10 | x=5: 6.250000%\n",
      "Prob of y=10 | x=5: 22.222222%\n",
      "Prob of y=10 | x=5: 26.666667%\n",
      "Prob of y=10 | x=5: 29.411765%\n",
      "Prob of y=10 | x=5: 10.000000%\n",
      "Prob of y=10 | x=5: 10.526316%\n",
      "Prob of y=10 | x=5: 0.000000%\n",
      "Prob of y=10 | x=5: 11.111111%\n",
      "Prob of y=10 | x=5: 0.000000%\n",
      "Prob of y=10 | x=5: 5.555556%\n",
      "Prob of y=10 | x=5: 6.666667%\n",
      "Prob of y=10 | x=5: 11.111111%\n",
      "Prob of y=10 | x=5: 25.000000%\n",
      "Prob of y=10 | x=5: 10.526316%\n",
      "Prob of y=10 | x=5: 8.333333%\n",
      "Prob of y=10 | x=5: 23.809524%\n",
      "Prob of y=10 | x=5: 8.695652%\n",
      "Prob of y=10 | x=5: 19.230769%\n",
      "Prob of y=10 | x=5: 29.411765%\n",
      "Prob of y=10 | x=5: 12.500000%\n",
      "Prob of y=10 | x=5: 11.764706%\n",
      "Prob of y=10 | x=5: 38.888889%\n",
      "Prob of y=10 | x=5: 20.000000%\n",
      "Prob of y=10 | x=5: 0.000000%\n",
      "Prob of y=10 | x=5: 18.750000%\n",
      "Prob of y=10 | x=5: 0.000000%\n",
      "Prob of y=10 | x=5: 22.727273%\n",
      "Prob of y=10 | x=5: 14.285714%\n",
      "Prob of y=10 | x=5: 9.523810%\n",
      "Prob of y=10 | x=5: 20.000000%\n",
      "Prob of y=10 | x=5: 21.052632%\n",
      "Prob of y=10 | x=5: 7.142857%\n",
      "Prob of y=10 | x=5: 12.500000%\n",
      "Prob of y=10 | x=5: 18.181818%\n",
      "Prob of y=10 | x=5: 26.666667%\n",
      "Prob of y=10 | x=5: 14.285714%\n",
      "Prob of y=10 | x=5: 11.764706%\n",
      "Prob of y=10 | x=5: 33.333333%\n",
      "Prob of y=10 | x=5: 12.500000%\n",
      "Prob of y=10 | x=5: 25.000000%\n",
      "Prob of y=10 | x=5: 12.500000%\n"
     ]
    }
   ],
   "source": [
    "y_ten_x_5 = []\n",
    "for i in range(200):\n",
    "    sample_dict = direct_sample(n_iterations)\n",
    "    prob = sum(np.array(np.array(sample_dict['y'])[np.array(sample_dict['x'])==5])==10)/ np.array([np.array(sample_dict['x'])==5]).sum()\n",
    "    print(f\"Prob of y=10 | x=5: {prob:%}\")\n",
    "    y_ten_x_5 .append(prob)\n",
    "    \n",
    "    "
   ]
  },
  {
   "cell_type": "code",
   "execution_count": 107,
   "metadata": {},
   "outputs": [
    {
     "data": {
      "text/plain": [
       "0.16412963422942056"
      ]
     },
     "execution_count": 107,
     "metadata": {},
     "output_type": "execute_result"
    }
   ],
   "source": [
    "np.mean(y_ten_x_5)"
   ]
  },
  {
   "cell_type": "markdown",
   "metadata": {},
   "source": [
    "- x=5 | y=10"
   ]
  },
  {
   "cell_type": "code",
   "execution_count": 104,
   "metadata": {},
   "outputs": [
    {
     "name": "stdout",
     "output_type": "stream",
     "text": [
      "Prob of X=5 | y=10: 22.222222%\n",
      "Prob of X=5 | y=10: 33.333333%\n",
      "Prob of X=5 | y=10: 33.333333%\n",
      "Prob of X=5 | y=10: 18.181818%\n",
      "Prob of X=5 | y=10: 36.363636%\n",
      "Prob of X=5 | y=10: 16.666667%\n",
      "Prob of X=5 | y=10: 50.000000%\n",
      "Prob of X=5 | y=10: 33.333333%\n",
      "Prob of X=5 | y=10: 50.000000%\n",
      "Prob of X=5 | y=10: 33.333333%\n",
      "Prob of X=5 | y=10: 14.285714%\n",
      "Prob of X=5 | y=10: 42.857143%\n",
      "Prob of X=5 | y=10: 30.000000%\n",
      "Prob of X=5 | y=10: 35.714286%\n",
      "Prob of X=5 | y=10: 12.500000%\n",
      "Prob of X=5 | y=10: 33.333333%\n",
      "Prob of X=5 | y=10: 10.000000%\n",
      "Prob of X=5 | y=10: 27.272727%\n",
      "Prob of X=5 | y=10: 50.000000%\n",
      "Prob of X=5 | y=10: 16.666667%\n",
      "Prob of X=5 | y=10: 16.666667%\n",
      "Prob of X=5 | y=10: 20.000000%\n",
      "Prob of X=5 | y=10: 12.500000%\n",
      "Prob of X=5 | y=10: 0.000000%\n",
      "Prob of X=5 | y=10: 15.384615%\n",
      "Prob of X=5 | y=10: 0.000000%\n",
      "Prob of X=5 | y=10: 16.666667%\n",
      "Prob of X=5 | y=10: 44.444444%\n",
      "Prob of X=5 | y=10: 43.750000%\n",
      "Prob of X=5 | y=10: 57.142857%\n",
      "Prob of X=5 | y=10: 20.000000%\n",
      "Prob of X=5 | y=10: 28.571429%\n",
      "Prob of X=5 | y=10: 30.769231%\n",
      "Prob of X=5 | y=10: 33.333333%\n",
      "Prob of X=5 | y=10: 16.666667%\n",
      "Prob of X=5 | y=10: 22.222222%\n",
      "Prob of X=5 | y=10: 11.111111%\n",
      "Prob of X=5 | y=10: 50.000000%\n",
      "Prob of X=5 | y=10: 33.333333%\n",
      "Prob of X=5 | y=10: 33.333333%\n",
      "Prob of X=5 | y=10: 53.846154%\n",
      "Prob of X=5 | y=10: 41.666667%\n",
      "Prob of X=5 | y=10: 50.000000%\n",
      "Prob of X=5 | y=10: 28.571429%\n",
      "Prob of X=5 | y=10: 57.142857%\n",
      "Prob of X=5 | y=10: 0.000000%\n",
      "Prob of X=5 | y=10: 50.000000%\n",
      "Prob of X=5 | y=10: 54.545455%\n",
      "Prob of X=5 | y=10: 41.666667%\n",
      "Prob of X=5 | y=10: 71.428571%\n",
      "Prob of X=5 | y=10: 50.000000%\n",
      "Prob of X=5 | y=10: 42.857143%\n",
      "Prob of X=5 | y=10: 33.333333%\n",
      "Prob of X=5 | y=10: 33.333333%\n",
      "Prob of X=5 | y=10: 22.222222%\n",
      "Prob of X=5 | y=10: 20.000000%\n",
      "Prob of X=5 | y=10: 0.000000%\n",
      "Prob of X=5 | y=10: 40.000000%\n",
      "Prob of X=5 | y=10: 71.428571%\n",
      "Prob of X=5 | y=10: 43.750000%\n",
      "Prob of X=5 | y=10: 33.333333%\n",
      "Prob of X=5 | y=10: 23.076923%\n",
      "Prob of X=5 | y=10: 28.571429%\n",
      "Prob of X=5 | y=10: 33.333333%\n",
      "Prob of X=5 | y=10: 40.000000%\n",
      "Prob of X=5 | y=10: 33.333333%\n",
      "Prob of X=5 | y=10: 62.500000%\n",
      "Prob of X=5 | y=10: 33.333333%\n",
      "Prob of X=5 | y=10: 42.857143%\n",
      "Prob of X=5 | y=10: 63.636364%\n",
      "Prob of X=5 | y=10: 12.500000%\n",
      "Prob of X=5 | y=10: 33.333333%\n",
      "Prob of X=5 | y=10: 0.000000%\n",
      "Prob of X=5 | y=10: 11.111111%\n",
      "Prob of X=5 | y=10: 30.000000%\n",
      "Prob of X=5 | y=10: 0.000000%\n",
      "Prob of X=5 | y=10: 60.000000%\n",
      "Prob of X=5 | y=10: 50.000000%\n",
      "Prob of X=5 | y=10: 22.222222%\n",
      "Prob of X=5 | y=10: 28.571429%\n",
      "Prob of X=5 | y=10: 38.888889%\n",
      "Prob of X=5 | y=10: 37.500000%\n",
      "Prob of X=5 | y=10: 22.222222%\n",
      "Prob of X=5 | y=10: 20.000000%\n",
      "Prob of X=5 | y=10: 33.333333%\n",
      "Prob of X=5 | y=10: 20.000000%\n",
      "Prob of X=5 | y=10: 45.454545%\n",
      "Prob of X=5 | y=10: 15.384615%\n",
      "Prob of X=5 | y=10: 15.384615%\n",
      "Prob of X=5 | y=10: 54.545455%\n",
      "Prob of X=5 | y=10: 100.000000%\n",
      "Prob of X=5 | y=10: 27.272727%\n",
      "Prob of X=5 | y=10: 55.555556%\n",
      "Prob of X=5 | y=10: 55.555556%\n",
      "Prob of X=5 | y=10: 22.222222%\n",
      "Prob of X=5 | y=10: 12.500000%\n",
      "Prob of X=5 | y=10: 33.333333%\n",
      "Prob of X=5 | y=10: 12.500000%\n",
      "Prob of X=5 | y=10: 25.000000%\n",
      "Prob of X=5 | y=10: 44.444444%\n",
      "Prob of X=5 | y=10: 16.666667%\n",
      "Prob of X=5 | y=10: 30.000000%\n",
      "Prob of X=5 | y=10: 53.846154%\n",
      "Prob of X=5 | y=10: 11.111111%\n",
      "Prob of X=5 | y=10: 50.000000%\n",
      "Prob of X=5 | y=10: 42.857143%\n",
      "Prob of X=5 | y=10: 18.181818%\n",
      "Prob of X=5 | y=10: 62.500000%\n",
      "Prob of X=5 | y=10: 42.857143%\n",
      "Prob of X=5 | y=10: 36.363636%\n",
      "Prob of X=5 | y=10: 40.000000%\n",
      "Prob of X=5 | y=10: 41.666667%\n",
      "Prob of X=5 | y=10: 71.428571%\n",
      "Prob of X=5 | y=10: 50.000000%\n",
      "Prob of X=5 | y=10: 30.000000%\n",
      "Prob of X=5 | y=10: 12.500000%\n",
      "Prob of X=5 | y=10: 30.000000%\n",
      "Prob of X=5 | y=10: 16.666667%\n",
      "Prob of X=5 | y=10: 27.272727%\n",
      "Prob of X=5 | y=10: 40.000000%\n",
      "Prob of X=5 | y=10: 28.571429%\n",
      "Prob of X=5 | y=10: 33.333333%\n",
      "Prob of X=5 | y=10: 41.666667%\n",
      "Prob of X=5 | y=10: 33.333333%\n",
      "Prob of X=5 | y=10: 27.272727%\n",
      "Prob of X=5 | y=10: 50.000000%\n",
      "Prob of X=5 | y=10: 37.500000%\n",
      "Prob of X=5 | y=10: 50.000000%\n",
      "Prob of X=5 | y=10: 40.000000%\n",
      "Prob of X=5 | y=10: 41.666667%\n",
      "Prob of X=5 | y=10: 42.857143%\n",
      "Prob of X=5 | y=10: 50.000000%\n",
      "Prob of X=5 | y=10: 50.000000%\n",
      "Prob of X=5 | y=10: 37.500000%\n",
      "Prob of X=5 | y=10: 40.000000%\n",
      "Prob of X=5 | y=10: 25.000000%\n",
      "Prob of X=5 | y=10: 25.000000%\n",
      "Prob of X=5 | y=10: 37.500000%\n",
      "Prob of X=5 | y=10: 50.000000%\n",
      "Prob of X=5 | y=10: 40.000000%\n",
      "Prob of X=5 | y=10: 44.444444%\n",
      "Prob of X=5 | y=10: 53.846154%\n",
      "Prob of X=5 | y=10: 33.333333%\n",
      "Prob of X=5 | y=10: 12.500000%\n",
      "Prob of X=5 | y=10: 0.000000%\n",
      "Prob of X=5 | y=10: 57.142857%\n",
      "Prob of X=5 | y=10: 37.500000%\n",
      "Prob of X=5 | y=10: 0.000000%\n",
      "Prob of X=5 | y=10: 40.000000%\n",
      "Prob of X=5 | y=10: 22.222222%\n",
      "Prob of X=5 | y=10: 37.500000%\n",
      "Prob of X=5 | y=10: 37.500000%\n",
      "Prob of X=5 | y=10: 22.222222%\n",
      "Prob of X=5 | y=10: 50.000000%\n",
      "Prob of X=5 | y=10: 14.285714%\n",
      "Prob of X=5 | y=10: 57.142857%\n",
      "Prob of X=5 | y=10: 42.857143%\n",
      "Prob of X=5 | y=10: 28.571429%\n",
      "Prob of X=5 | y=10: 53.846154%\n",
      "Prob of X=5 | y=10: 25.000000%\n",
      "Prob of X=5 | y=10: 27.272727%\n",
      "Prob of X=5 | y=10: 37.500000%\n",
      "Prob of X=5 | y=10: 30.000000%\n",
      "Prob of X=5 | y=10: 66.666667%\n",
      "Prob of X=5 | y=10: 40.000000%\n",
      "Prob of X=5 | y=10: 11.111111%\n",
      "Prob of X=5 | y=10: 44.444444%\n",
      "Prob of X=5 | y=10: 28.571429%\n",
      "Prob of X=5 | y=10: 37.500000%\n",
      "Prob of X=5 | y=10: 30.000000%\n",
      "Prob of X=5 | y=10: 23.076923%\n",
      "Prob of X=5 | y=10: 21.428571%\n",
      "Prob of X=5 | y=10: 57.142857%\n",
      "Prob of X=5 | y=10: 43.750000%\n",
      "Prob of X=5 | y=10: 45.454545%\n",
      "Prob of X=5 | y=10: 33.333333%\n",
      "Prob of X=5 | y=10: 25.000000%\n",
      "Prob of X=5 | y=10: 33.333333%\n",
      "Prob of X=5 | y=10: 60.000000%\n",
      "Prob of X=5 | y=10: 20.000000%\n",
      "Prob of X=5 | y=10: 20.000000%\n",
      "Prob of X=5 | y=10: 42.857143%\n",
      "Prob of X=5 | y=10: 55.555556%\n",
      "Prob of X=5 | y=10: 44.444444%\n",
      "Prob of X=5 | y=10: 28.571429%\n",
      "Prob of X=5 | y=10: 16.666667%\n",
      "Prob of X=5 | y=10: 54.545455%\n",
      "Prob of X=5 | y=10: 25.000000%\n",
      "Prob of X=5 | y=10: 18.181818%\n",
      "Prob of X=5 | y=10: 75.000000%\n",
      "Prob of X=5 | y=10: 43.750000%\n",
      "Prob of X=5 | y=10: 57.142857%\n",
      "Prob of X=5 | y=10: 50.000000%\n",
      "Prob of X=5 | y=10: 37.500000%\n",
      "Prob of X=5 | y=10: 30.000000%\n",
      "Prob of X=5 | y=10: 20.000000%\n",
      "Prob of X=5 | y=10: 80.000000%\n",
      "Prob of X=5 | y=10: 66.666667%\n",
      "Prob of X=5 | y=10: 37.500000%\n",
      "Prob of X=5 | y=10: 10.000000%\n"
     ]
    }
   ],
   "source": [
    "x_five_y_ten = []\n",
    "for i in range(200):\n",
    "    sample_dict_3 = direct_sample(n_iterations)\n",
    "    prob = sum(np.array(np.array(sample_dict_3['x'])[np.array(sample_dict_3['y'])==10])==5)/ np.array([np.array(sample_dict_3['y'])==10]).sum()\n",
    "    print(f\"Prob of X=5 | y=10: {prob:%}\")\n",
    "    x_five_y_ten.append(prob)"
   ]
  },
  {
   "cell_type": "code",
   "execution_count": 105,
   "metadata": {},
   "outputs": [
    {
     "data": {
      "text/plain": [
       "0.3473949383949384"
      ]
     },
     "execution_count": 105,
     "metadata": {},
     "output_type": "execute_result"
    }
   ],
   "source": [
    "np.mean(x_five_y_ten)"
   ]
  },
  {
   "cell_type": "markdown",
   "metadata": {},
   "source": [
    "And, repeatedly use `direct_sample` to calculate the expectations:\n",
    "\n",
    "$$E[x]$$\n",
    "$$E[y]$$\n",
    "$$E[y | x = 5]$$\n",
    "$$E[x | y = 5]$$"
   ]
  },
  {
   "cell_type": "markdown",
   "metadata": {
    "collapsed": true
   },
   "source": [
    "- E[x]"
   ]
  },
  {
   "cell_type": "code",
   "execution_count": 100,
   "metadata": {
    "collapsed": true
   },
   "outputs": [],
   "source": [
    " sample_dict = direct_sample(n_iterations)"
   ]
  },
  {
   "cell_type": "code",
   "execution_count": 101,
   "metadata": {},
   "outputs": [
    {
     "name": "stdout",
     "output_type": "stream",
     "text": [
      "Mean of X = 3.56\n",
      "Mean of X = 3.21\n",
      "Mean of X = 3.7\n",
      "Mean of X = 3.65\n",
      "Mean of X = 3.52\n",
      "Mean of X = 3.42\n",
      "Mean of X = 3.63\n",
      "Mean of X = 3.33\n",
      "Mean of X = 3.69\n",
      "Mean of X = 3.59\n",
      "Mean of X = 3.29\n",
      "Mean of X = 3.58\n",
      "Mean of X = 3.5\n",
      "Mean of X = 3.56\n",
      "Mean of X = 3.44\n",
      "Mean of X = 3.41\n",
      "Mean of X = 3.42\n",
      "Mean of X = 3.42\n",
      "Mean of X = 3.39\n",
      "Mean of X = 3.37\n"
     ]
    }
   ],
   "source": [
    "expected_val_x = []\n",
    "for i in range(20):\n",
    "    sample_dict = direct_sample(n_iterations)\n",
    "    expected_val_x.append(np.mean(sample_dict['x']))\n",
    "    print(f\"Mean of X = {np.mean(sample_dict['x'])}\")"
   ]
  },
  {
   "cell_type": "code",
   "execution_count": 102,
   "metadata": {},
   "outputs": [
    {
     "name": "stdout",
     "output_type": "stream",
     "text": [
      "Expected val of X =3.4840000000000004\n"
     ]
    }
   ],
   "source": [
    "print(f\"Expected val of X ={np.mean(expected_val_x)}\")"
   ]
  },
  {
   "cell_type": "code",
   "execution_count": 160,
   "metadata": {},
   "outputs": [
    {
     "name": "stdout",
     "output_type": "stream",
     "text": [
      "Mean of Y = 7.07\n",
      "Mean of Y = 6.74\n",
      "Mean of Y = 6.7\n",
      "Mean of Y = 6.76\n",
      "Mean of Y = 7.04\n",
      "Mean of Y = 6.85\n",
      "Mean of Y = 6.2\n",
      "Mean of Y = 7.08\n",
      "Mean of Y = 7.03\n",
      "Mean of Y = 7.28\n",
      "Mean of Y = 6.94\n",
      "Mean of Y = 6.73\n",
      "Mean of Y = 6.95\n",
      "Mean of Y = 6.73\n",
      "Mean of Y = 6.86\n",
      "Mean of Y = 6.77\n",
      "Mean of Y = 6.86\n",
      "Mean of Y = 6.61\n",
      "Mean of Y = 7.06\n",
      "Mean of Y = 7.14\n"
     ]
    }
   ],
   "source": [
    "expected_val_y = []\n",
    "for i in range(20):\n",
    "    sample_dict = direct_sample(n_iterations)\n",
    "    expected_val_y.append(np.mean(sample_dict['y']))\n",
    "    print(f\"Mean of Y = {np.mean(sample_dict['y'])}\")"
   ]
  },
  {
   "cell_type": "code",
   "execution_count": 109,
   "metadata": {},
   "outputs": [
    {
     "name": "stdout",
     "output_type": "stream",
     "text": [
      "Expected valY = 6.998 \n"
     ]
    }
   ],
   "source": [
    "print(f\"Expected valY = {np.mean(expected_val_y)} \")"
   ]
  },
  {
   "cell_type": "markdown",
   "metadata": {},
   "source": [
    "- E [y | x=5]"
   ]
  },
  {
   "cell_type": "code",
   "execution_count": 134,
   "metadata": {},
   "outputs": [
    {
     "name": "stdout",
     "output_type": "stream",
     "text": [
      "Mean of Y  given x = 5 = 8.444444444444445\n",
      "Mean of Y  given x = 5 = 8.846153846153847\n",
      "Mean of Y  given x = 5 = 9.055555555555555\n",
      "Mean of Y  given x = 5 = 8.333333333333334\n",
      "Mean of Y  given x = 5 = 8.266666666666667\n",
      "Mean of Y  given x = 5 = 8.722222222222221\n",
      "Mean of Y  given x = 5 = 9.176470588235293\n",
      "Mean of Y  given x = 5 = 8.277777777777779\n",
      "Mean of Y  given x = 5 = 8.047619047619047\n",
      "Mean of Y  given x = 5 = 8.533333333333333\n",
      "Mean of Y  given x = 5 = 8.56\n",
      "Mean of Y  given x = 5 = 9.133333333333333\n",
      "Mean of Y  given x = 5 = 8.0\n",
      "Mean of Y  given x = 5 = 8.294117647058824\n",
      "Mean of Y  given x = 5 = 8.076923076923077\n",
      "Mean of Y  given x = 5 = 8.0\n",
      "Mean of Y  given x = 5 = 8.35\n",
      "Mean of Y  given x = 5 = 8.2\n",
      "Mean of Y  given x = 5 = 8.38888888888889\n",
      "Mean of Y  given x = 5 = 8.631578947368421\n"
     ]
    }
   ],
   "source": [
    "expected_val_y_x_5 = []\n",
    "for i in range(20):\n",
    "    sample_dict = direct_sample(n_iterations)\n",
    "    expected_val_y_x_5 .append(np.mean(np.array(sample_dict['y'])[np.array(sample_dict['x'])==5]))\n",
    "    print(f\"Mean of Y  given x = 5 = {expected_val_y_x_5 [-1]}\")"
   ]
  },
  {
   "cell_type": "code",
   "execution_count": 131,
   "metadata": {
    "scrolled": true
   },
   "outputs": [
    {
     "name": "stdout",
     "output_type": "stream",
     "text": [
      "Expect val Y given x =5 : 8.46719304388422\n"
     ]
    }
   ],
   "source": [
    "print(f\"Expect val Y given x =5 : {np.mean(expected_val_y_x_5 )}\")"
   ]
  },
  {
   "cell_type": "markdown",
   "metadata": {},
   "source": [
    "- E[x|y=5]"
   ]
  },
  {
   "cell_type": "code",
   "execution_count": 135,
   "metadata": {},
   "outputs": [
    {
     "name": "stdout",
     "output_type": "stream",
     "text": [
      "Mean of X given y =5 = 3.25\n",
      "Mean of X given y =5 = 2.5384615384615383\n",
      "Mean of X given y =5 = 2.4615384615384617\n",
      "Mean of X given y =5 = 2.2666666666666666\n",
      "Mean of X given y =5 = 2.3333333333333335\n",
      "Mean of X given y =5 = 2.4444444444444446\n",
      "Mean of X given y =5 = 2.4615384615384617\n",
      "Mean of X given y =5 = 2.5625\n",
      "Mean of X given y =5 = 2.125\n",
      "Mean of X given y =5 = 2.4444444444444446\n",
      "Mean of X given y =5 = 2.2222222222222223\n",
      "Mean of X given y =5 = 2.0\n",
      "Mean of X given y =5 = 2.5294117647058822\n",
      "Mean of X given y =5 = 2.2857142857142856\n",
      "Mean of X given y =5 = 3.2\n",
      "Mean of X given y =5 = 2.5714285714285716\n",
      "Mean of X given y =5 = 2.5\n",
      "Mean of X given y =5 = 3.0\n",
      "Mean of X given y =5 = 2.7777777777777777\n",
      "Mean of X given y =5 = 2.6363636363636362\n"
     ]
    }
   ],
   "source": [
    "expected_val_x_y_5 = []\n",
    "for i in range(20):\n",
    "    sample_dict = direct_sample(n_iterations)\n",
    "    expected_val_x_y_5 .append(np.mean(np.array(sample_dict['x'])[np.array(sample_dict['y'])==5]))\n",
    "    print(f\"Mean of X given y =5 = {expected_val_x_y_5 [-1]}\")"
   ]
  },
  {
   "cell_type": "code",
   "execution_count": 136,
   "metadata": {},
   "outputs": [
    {
     "name": "stdout",
     "output_type": "stream",
     "text": [
      "Expected val X given y =5 : 2.530542280431986\n"
     ]
    }
   ],
   "source": [
    "print(f\"Expected val X given y =5 : {np.mean(expected_val_x_y_5 )}\")"
   ]
  },
  {
   "cell_type": "markdown",
   "metadata": {},
   "source": [
    "Now, we can also derive the conditional expectations analytically, and represent them in code:\n",
    "\n",
    "$$P(y|x)$$\n"
   ]
  },
  {
   "cell_type": "code",
   "execution_count": 137,
   "metadata": {
    "collapsed": true
   },
   "outputs": [],
   "source": [
    "def random_y_given_x(x):\n",
    "    \"\"\"equally likely to be x + 1, x + 2, ... , x + 6\"\"\"\n",
    "    return x + roll_a_die()"
   ]
  },
  {
   "cell_type": "markdown",
   "metadata": {},
   "source": [
    "$$P(x|y)$$"
   ]
  },
  {
   "cell_type": "code",
   "execution_count": 138,
   "metadata": {
    "collapsed": true
   },
   "outputs": [],
   "source": [
    "def random_x_given_y(y):\n",
    "    if y <= 7:\n",
    "        # if the total is 7 or less, the first die is equally likely to be\n",
    "        # 1, 2, ..., (total - 1)\n",
    "        return random.randrange(1, y)\n",
    "    else:\n",
    "        # if the total is 7 or more, the first die is equally likely to be\n",
    "        # (total - 6), (total - 5), ..., 6\n",
    "        return random.randrange(y - 6, 7)"
   ]
  },
  {
   "cell_type": "markdown",
   "metadata": {},
   "source": [
    "Now, implement a Gibbs sampler for $P(x, y)$.\n",
    "\n",
    "Recall the algorithm:\n",
    "\n",
    "1) Initialize the points $x_0$ and $y_0$ to reasonable arbitrary values. Here, $x_0$ should be an integer between 1 and 6 inclusive, and $y_0$ should be between 2 and 12 inclusive.\n",
    "\n",
    "2) In a loop for a fixed number of iterations, update your estimate of $x$ and of $y$ using the following formula:\n",
    "   \n",
    "$$ x_t \\leftarrow sample(x_{t-1} | y_{t-1})$$\n",
    "$$ y_t \\leftarrow sample(x_t | y_{t-1})$$\n",
    "\n",
    "3) Return the collected lists of samples."
   ]
  },
  {
   "cell_type": "code",
   "execution_count": 154,
   "metadata": {},
   "outputs": [],
   "source": [
    "def gibbs_sample(x_0, y_0, num_iters=100):\n",
    "    x = x_0\n",
    "    y = y_0\n",
    "    samples = {'x': [x], 'y': [x]}\n",
    "    \n",
    "    for i in range (num_iters):\n",
    "        x = random_x_given_y(y)\n",
    "        y = random_y_given_x(x)\n",
    "        samples['x'].append(x)\n",
    "        samples['y'].append(y)\n",
    "    \n",
    "\n",
    "    return samples"
   ]
  },
  {
   "cell_type": "markdown",
   "metadata": {},
   "source": [
    "Use your Gibbs sampler to calculate the expectation of $x$ and of $y$."
   ]
  },
  {
   "cell_type": "code",
   "execution_count": 155,
   "metadata": {
    "collapsed": true
   },
   "outputs": [],
   "source": [
    "gibbs = gibbs_sample(1,5)"
   ]
  },
  {
   "cell_type": "code",
   "execution_count": 156,
   "metadata": {},
   "outputs": [
    {
     "name": "stdout",
     "output_type": "stream",
     "text": [
      "Expected val of X using gibbs = 3.3168316831683167\n"
     ]
    }
   ],
   "source": [
    "print(f\"Expected val of X using gibbs = {np.mean(gibbs['x'])}\")"
   ]
  },
  {
   "cell_type": "code",
   "execution_count": 157,
   "metadata": {},
   "outputs": [
    {
     "name": "stdout",
     "output_type": "stream",
     "text": [
      "Expected val of Y using gibbs = 6.633663366336633\n"
     ]
    }
   ],
   "source": [
    "print(f\"Expected val of Y using gibbs = {np.mean(gibbs['y'])}\")"
   ]
  },
  {
   "cell_type": "code",
   "execution_count": 158,
   "metadata": {},
   "outputs": [
    {
     "name": "stdout",
     "output_type": "stream",
     "text": [
      "Expected val of X using joint prob =3.4840000000000004\n"
     ]
    }
   ],
   "source": [
    "print(f\"Expected val of X using joint prob ={np.mean(expected_val_x)}\")"
   ]
  },
  {
   "cell_type": "code",
   "execution_count": 161,
   "metadata": {},
   "outputs": [
    {
     "name": "stdout",
     "output_type": "stream",
     "text": [
      "Expected val Y using joint prob = 6.869999999999999 \n"
     ]
    }
   ],
   "source": [
    "print(f\"Expected val Y using joint prob = {np.mean(expected_val_y)} \")"
   ]
  },
  {
   "cell_type": "markdown",
   "metadata": {},
   "source": [
    "Show that the Gibbs sampler matches the output of your earlier calculations that used the generative model of the full joint distribution."
   ]
  },
  {
   "cell_type": "code",
   "execution_count": null,
   "metadata": {
    "collapsed": true
   },
   "outputs": [],
   "source": []
  },
  {
   "cell_type": "code",
   "execution_count": null,
   "metadata": {
    "collapsed": true
   },
   "outputs": [],
   "source": []
  },
  {
   "cell_type": "code",
   "execution_count": null,
   "metadata": {
    "collapsed": true
   },
   "outputs": [],
   "source": []
  },
  {
   "cell_type": "code",
   "execution_count": 162,
   "metadata": {
    "collapsed": true
   },
   "outputs": [],
   "source": [
    "from time import time"
   ]
  },
  {
   "cell_type": "markdown",
   "metadata": {},
   "source": [
    "Use the Python function `time` to show the speed differences between Gibbs sampling and full joint simulation. An example usage of `time` is:\n",
    "\n",
    "```python\n",
    "start = time()\n",
    "foo()\n",
    "end = time()\n",
    "duration = end - start\n",
    "print('foo took %f seconds' % duration)\n",
    "```\n",
    "\n",
    "Make sure to set the number of iterations equally."
   ]
  },
  {
   "cell_type": "code",
   "execution_count": 169,
   "metadata": {},
   "outputs": [
    {
     "name": "stdout",
     "output_type": "stream",
     "text": [
      "Gibbs sampling took 0.03481698036193848 seconds\n"
     ]
    }
   ],
   "source": [
    "start = time()\n",
    "gibbs_sample(2,5, num_iters=10_000)\n",
    "end = time()\n",
    "print(f\"Gibbs sampling took {end-start} seconds\")"
   ]
  },
  {
   "cell_type": "code",
   "execution_count": 170,
   "metadata": {},
   "outputs": [
    {
     "name": "stdout",
     "output_type": "stream",
     "text": [
      "Joint prob sampling took 0.030994176864624023 seconds\n"
     ]
    }
   ],
   "source": [
    "start = time()\n",
    "direct_sample(num_iters=10_000)\n",
    "end = time()\n",
    "print(f\"Joint prob sampling took {end-start} seconds\")"
   ]
  },
  {
   "cell_type": "markdown",
   "metadata": {},
   "source": [
    "- Gibbs samplling is a little slower"
   ]
  },
  {
   "cell_type": "code",
   "execution_count": null,
   "metadata": {
    "collapsed": true
   },
   "outputs": [],
   "source": []
  }
 ],
 "metadata": {
  "kernelspec": {
   "display_name": "Python 3",
   "language": "python",
   "name": "python3"
  },
  "language_info": {
   "codemirror_mode": {
    "name": "ipython",
    "version": 3
   },
   "file_extension": ".py",
   "mimetype": "text/x-python",
   "name": "python",
   "nbconvert_exporter": "python",
   "pygments_lexer": "ipython3",
   "version": "3.6.1"
  }
 },
 "nbformat": 4,
 "nbformat_minor": 2
}
