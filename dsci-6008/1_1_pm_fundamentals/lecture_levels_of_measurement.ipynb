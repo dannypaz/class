{
 "cells": [
  {
   "cell_type": "markdown",
   "metadata": {
    "slideshow": {
     "slide_type": "slide"
    }
   },
   "source": [
    "Levels of Measurement\n",
    "----\n",
    "\n",
    "<center><img src=\"https://www.jeremysaid.com/wp-content/uploads/2016/06/demingquote.png\" height=\"500\"/></center>"
   ]
  },
  {
   "cell_type": "markdown",
   "metadata": {
    "slideshow": {
     "slide_type": "slide"
    }
   },
   "source": [
    "<center><img src=\"https://pbs.twimg.com/media/CQFpX6oUAAAq2l2.jpg\" height=\"500\"/></center>"
   ]
  },
  {
   "cell_type": "markdown",
   "metadata": {
    "slideshow": {
     "slide_type": "slide"
    }
   },
   "source": [
    "By The End Of This Session You Should Be Able To:\n",
    "----\n",
    "\n",
    "- Create a working definition of data\n",
    "- Describe the difference\n",
    "- List and explain the Levels of Measurement\n",
    "    - Nominal\n",
    "    - Ordinal\n",
    "    - Interval\n",
    "    - Ratio\n",
    "- Describe which mathematical and statical operations are valid for each Level of Measurement"
   ]
  },
  {
   "cell_type": "markdown",
   "metadata": {
    "slideshow": {
     "slide_type": "slide"
    }
   },
   "source": [
    "What is data?\n",
    "-----\n",
    "<br>\n",
    "<center><img src=\"https://cdn-images-1.medium.com/max/800/1*cLk_niE2JlJcHwWU0IFc8Q.png\" height=\"500\"/></center>"
   ]
  },
  {
   "cell_type": "markdown",
   "metadata": {
    "slideshow": {
     "slide_type": "slide"
    }
   },
   "source": [
    "What is data?\n",
    "-----\n",
    "\n",
    "- Individual pieces of information\n",
    "- A set of values of qualitative or quantitative variables\n",
    "- Items that can be measured, collected, reported, and analyzed\n",
    "- Items that can be visualized using graphs or images"
   ]
  },
  {
   "cell_type": "markdown",
   "metadata": {
    "slideshow": {
     "slide_type": "slide"
    }
   },
   "source": [
    "Data types (aka, levels of measurement)\n",
    "-----\n",
    "\n",
    "- Qualitative / Nominal / Difference in kind"
   ]
  },
  {
   "cell_type": "markdown",
   "metadata": {
    "slideshow": {
     "slide_type": "fragment"
    }
   },
   "source": [
    "- Quantitative / Numerical / Differences in degree"
   ]
  },
  {
   "cell_type": "markdown",
   "metadata": {
    "slideshow": {
     "slide_type": "slide"
    }
   },
   "source": [
    "What are examples of: Numeric & Nominal data?\n",
    "-------"
   ]
  },
  {
   "cell_type": "markdown",
   "metadata": {
    "slideshow": {
     "slide_type": "fragment"
    }
   },
   "source": [
    "Numeric attributes are either real or integer typed numbers.\n",
    "\n",
    "For example - temperature\n",
    "\n",
    "----\n",
    "\n",
    "Nominal attributes take on values in a finite set of possibilities.\n",
    "\n",
    "For example - Sunny ☀️, Overcast 🌥, and Rainy 🌧"
   ]
  },
  {
   "cell_type": "markdown",
   "metadata": {
    "slideshow": {
     "slide_type": "slide"
    }
   },
   "source": [
    "Types of Nominal Data\n",
    "----"
   ]
  },
  {
   "cell_type": "markdown",
   "metadata": {
    "slideshow": {
     "slide_type": "fragment"
    }
   },
   "source": [
    "- Binary. What is an example of Binary typed data?"
   ]
  },
  {
   "cell_type": "markdown",
   "metadata": {
    "slideshow": {
     "slide_type": "fragment"
    }
   },
   "source": [
    "- Categorical / Nominal. What is an example of nominal typed data?"
   ]
  },
  {
   "cell_type": "markdown",
   "metadata": {
    "slideshow": {
     "slide_type": "fragment"
    }
   },
   "source": [
    "- Ordinal. What is an example of ordinal typed data?"
   ]
  },
  {
   "cell_type": "markdown",
   "metadata": {
    "slideshow": {
     "slide_type": "slide"
    }
   },
   "source": [
    "Numerical\n",
    "-----\n",
    "\n",
    "- Interval\n",
    "- Ratio"
   ]
  },
  {
   "cell_type": "markdown",
   "metadata": {
    "collapsed": true,
    "slideshow": {
     "slide_type": "slide"
    }
   },
   "source": [
    "Interval \n",
    "-----\n",
    "\n",
    "Distance is meaningful\n",
    "\n",
    "for example, integers"
   ]
  },
  {
   "attachments": {},
   "cell_type": "markdown",
   "metadata": {
    "slideshow": {
     "slide_type": "slide"
    }
   },
   "source": [
    "Ratio\n",
    "-----\n",
    "\n",
    "Absolute zero\n",
    "\n",
    "Thus points along the scale make sense as ratios. "
   ]
  },
  {
   "cell_type": "markdown",
   "metadata": {
    "slideshow": {
     "slide_type": "fragment"
    }
   },
   "source": [
    "For example, age can be zero. It is mathematically possible to state, \"Four years as twice as old as two years\""
   ]
  },
  {
   "cell_type": "markdown",
   "metadata": {
    "slideshow": {
     "slide_type": "slide"
    }
   },
   "source": [
    "Levels of Measurement is a spectrum\n",
    "-----\n",
    "\n",
    "Unmeasurable --> Qualitative --> Binary --> Nominal --> Ordinal --> Interval --> Ratio"
   ]
  },
  {
   "cell_type": "markdown",
   "metadata": {
    "slideshow": {
     "slide_type": "slide"
    }
   },
   "source": [
    "Possible Mathematical operations\n",
    "----\n",
    "<br>\n",
    "\n",
    "<center><img src=\"images/operations.png\" height=\"500\"/></center>"
   ]
  },
  {
   "cell_type": "markdown",
   "metadata": {
    "slideshow": {
     "slide_type": "slide"
    }
   },
   "source": [
    "Possible Statistical operations\n",
    "----\n",
    "\n",
    "- Nominal: \n",
    "    - mode \n",
    "    - crosstabulation and chi-square"
   ]
  },
  {
   "cell_type": "markdown",
   "metadata": {
    "slideshow": {
     "slide_type": "fragment"
    }
   },
   "source": [
    "- Ordinal: \n",
    "    - use non-parametric statistics, \n",
    "        - Median \n",
    "        - rank order correlation\n",
    "        - non-parametric analysis of variance"
   ]
  },
  {
   "cell_type": "markdown",
   "metadata": {
    "slideshow": {
     "slide_type": "fragment"
    }
   },
   "source": [
    "- Interval: Can use parametric statistical techniques:\n",
    "    - Mean and standard deviation\n",
    "    - Correlation - r\n",
    "    - Regression\n",
    "    - Analysis of variance\n",
    "    - Factor analysis\n"
   ]
  },
  {
   "cell_type": "markdown",
   "metadata": {
    "slideshow": {
     "slide_type": "fragment"
    }
   },
   "source": [
    "- Ratio: Almost all statistical operations can be performed on ratio scales "
   ]
  },
  {
   "cell_type": "markdown",
   "metadata": {
    "slideshow": {
     "slide_type": "slide"
    }
   },
   "source": [
    "Check for understanding\n",
    "------\n",
    "\n",
    "What is the highest level of measurement for time?"
   ]
  },
  {
   "cell_type": "markdown",
   "metadata": {
    "slideshow": {
     "slide_type": "fragment"
    }
   },
   "source": [
    "__Ratio__: Something can take zero time."
   ]
  },
  {
   "cell_type": "markdown",
   "metadata": {
    "slideshow": {
     "slide_type": "slide"
    }
   },
   "source": [
    "Check for understanding\n",
    "------\n",
    "\n",
    "What is the highest level of measurement for gender?"
   ]
  },
  {
   "cell_type": "markdown",
   "metadata": {
    "slideshow": {
     "slide_type": "fragment"
    }
   },
   "source": [
    "__Nominal__: Genders are different from each other but you can't order them"
   ]
  },
  {
   "cell_type": "markdown",
   "metadata": {
    "slideshow": {
     "slide_type": "slide"
    }
   },
   "source": [
    "Check for understanding\n",
    "-----\n",
    "\n",
    "I have length (ratio) data, can I calculate the mode?"
   ]
  },
  {
   "cell_type": "markdown",
   "metadata": {
    "slideshow": {
     "slide_type": "fragment"
    }
   },
   "source": [
    "__Yes__. Any higher level of measurement subsumes all the lower level valid operations"
   ]
  },
  {
   "cell_type": "markdown",
   "metadata": {
    "slideshow": {
     "slide_type": "slide"
    }
   },
   "source": [
    "Summary\n",
    "-----\n",
    "\n",
    "- Data are items that can be measured and made amiable to analysis\n",
    "- Data can be qualitative or quantitative\n",
    "- Data be \n",
    "    1. Nominal\n",
    "    2. Ordinal\n",
    "    3. Interval\n",
    "    4. Ratio\n",
    "- If every calculate mean of ordinal data, Brian will find you and give you wedgie!"
   ]
  },
  {
   "cell_type": "markdown",
   "metadata": {
    "slideshow": {
     "slide_type": "slide"
    }
   },
   "source": [
    "<br>\n",
    "<br> \n",
    "<br>\n",
    "\n",
    "----"
   ]
  },
  {
   "cell_type": "markdown",
   "metadata": {
    "slideshow": {
     "slide_type": "slide"
    }
   },
   "source": [
    "Bonus Material\n",
    "-----"
   ]
  },
  {
   "cell_type": "markdown",
   "metadata": {
    "collapsed": true,
    "slideshow": {
     "slide_type": "slide"
    }
   },
   "source": [
    "<br>\n",
    "<br> \n",
    "<br>\n",
    "\n",
    "----"
   ]
  }
 ],
 "metadata": {
  "anaconda-cloud": {},
  "celltoolbar": "Slideshow",
  "kernelspec": {
   "display_name": "Python 3",
   "language": "python",
   "name": "python3"
  },
  "language_info": {
   "codemirror_mode": {
    "name": "ipython",
    "version": 3
   },
   "file_extension": ".py",
   "mimetype": "text/x-python",
   "name": "python",
   "nbconvert_exporter": "python",
   "pygments_lexer": "ipython3",
   "version": "3.6.1"
  }
 },
 "nbformat": 4,
 "nbformat_minor": 1
}
