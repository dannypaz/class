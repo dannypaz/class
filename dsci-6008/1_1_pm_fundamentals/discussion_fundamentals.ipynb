{
 "cells": [
  {
   "cell_type": "markdown",
   "metadata": {
    "slideshow": {
     "slide_type": "slide"
    }
   },
   "source": [
    "What is the most common data structure for Statistics? <br> What are the properties of that data structure?\n",
    "-----\n",
    "<br>\n",
    "<center><img src=\"http://imgs.xkcd.com/comics/tree.png\" height=\"500\"/></center>"
   ]
  },
  {
   "cell_type": "markdown",
   "metadata": {
    "slideshow": {
     "slide_type": "slide"
    }
   },
   "source": [
    "The DataFrame\n",
    "-----\n",
    "\n",
    "A tabular data structure with rows and columns.\n",
    "\n",
    "aka, Excel on steroids\n",
    "\n",
    "Conceptually equivalent to a table in a relational database.\n",
    "\n",
    "DataFrames tend to be human readable, thus memory intensive."
   ]
  },
  {
   "cell_type": "markdown",
   "metadata": {
    "slideshow": {
     "slide_type": "slide"
    }
   },
   "source": [
    "Each row is a \\_\\_\\_\\_\\_\\_\\_.\n",
    "\n",
    "Each column is a \\_\\_\\_\\_\\_\\_\\_."
   ]
  },
  {
   "cell_type": "markdown",
   "metadata": {
    "slideshow": {
     "slide_type": "fragment"
    }
   },
   "source": [
    "Each row is an instance, typically an individual observation. They can be mixed type.\n",
    "\n",
    "Each column is a named  / labeled feature. They are single type.\n",
    "\n",
    "Each row and column are of equal length (again - memory hog 🐽)"
   ]
  },
  {
   "cell_type": "markdown",
   "metadata": {
    "slideshow": {
     "slide_type": "slide"
    }
   },
   "source": [
    "<br>\n",
    "<br> \n",
    "<br>\n",
    "\n",
    "----"
   ]
  }
 ],
 "metadata": {
  "celltoolbar": "Slideshow",
  "kernelspec": {
   "display_name": "Python 3",
   "language": "python",
   "name": "python3"
  },
  "language_info": {
   "codemirror_mode": {
    "name": "ipython",
    "version": 3
   },
   "file_extension": ".py",
   "mimetype": "text/x-python",
   "name": "python",
   "nbconvert_exporter": "python",
   "pygments_lexer": "ipython3",
   "version": "3.6.1"
  }
 },
 "nbformat": 4,
 "nbformat_minor": 2
}
