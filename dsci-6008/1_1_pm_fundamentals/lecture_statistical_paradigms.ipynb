{
 "cells": [
  {
   "cell_type": "markdown",
   "metadata": {
    "slideshow": {
     "slide_type": "slide"
    }
   },
   "source": [
    "Statistical Paradigms\n",
    "-----\n",
    "<br>\n",
    "<center><img src=\"http://www.azquotes.com/picture-quotes/quote-in-order-to-change-an-existing-paradigm-you-do-not-struggle-to-try-and-change-the-problematic-r-buckminster-fuller-35-35-35.jpg\" height=\"500\"/></center>"
   ]
  },
  {
   "cell_type": "markdown",
   "metadata": {
    "slideshow": {
     "slide_type": "slide"
    }
   },
   "source": [
    "By The End Of This Session You Should Be Able To:\n",
    "----\n",
    "\n",
    "- Explain statistical inference\n",
    "- Describe the difference between Data Modeling and Algorithm Modeling\n",
    "- List the steps in Computational Thinking\n",
    "- Apply the model comparison approach to statistics"
   ]
  },
  {
   "cell_type": "markdown",
   "metadata": {
    "slideshow": {
     "slide_type": "slide"
    }
   },
   "source": [
    "<center><img src=\"http://howmed.net/wp-content/uploads/2013/08/Statistical-inference.jpg\" height=\"500\"/></center>"
   ]
  },
  {
   "cell_type": "markdown",
   "metadata": {
    "slideshow": {
     "slide_type": "slide"
    }
   },
   "source": [
    "<center><img src=\"http://www.qualitydigest.com/IQedit/Images/Articles_and_Columns/2015/Dec_2015/Wheeler_Dec_2015/Fig1.gif\" height=\"500\"/></center>\n",
    "\n",
    "[Source](http://www.qualitydigest.com/inside/standards-column/120115-secret-foundation-statistical-inference.html)"
   ]
  },
  {
   "cell_type": "markdown",
   "metadata": {
    "slideshow": {
     "slide_type": "slide"
    }
   },
   "source": [
    "Statistical Modeling: The Two Cultures\n",
    "------\n",
    "<br>\n",
    "<center><img src=\"images/stats.png\" height=\"500\"/></center>\n",
    "\n",
    "Modeling: Data (Nouns) vs. Algorithms (Verbs)\n",
    "\n",
    "[Read here](https://projecteuclid.org/euclid.ss/1009213726)"
   ]
  },
  {
   "cell_type": "markdown",
   "metadata": {
    "slideshow": {
     "slide_type": "slide"
    }
   },
   "source": [
    "Data Modeling Culture\n",
    "------\n",
    "\n",
    "<center><img src=\"images/modeling.png\" height=\"500\"/></center>\n",
    "\n",
    "Nature can be described with a relatively simple underlying model which maps from input variables to output variables (with perhaps some random noise thrown in).  \n",
    "\n",
    "Choose an underlying model that reflects the reality of nature, then use data to estimate the parameters of the model.\n",
    "\n",
    "When you do statistics, you want to infer the process by which data you have was generated. "
   ]
  },
  {
   "cell_type": "markdown",
   "metadata": {
    "slideshow": {
     "slide_type": "slide"
    }
   },
   "source": [
    "Data Modeling Culture\n",
    "------\n",
    "\n",
    "<center><img src=\"images/modeling.png\" height=\"500\"/></center>\n",
    "\n",
    "Assume a stochastic model from which the data comes from:\n",
    "\n",
    "1. What is the distribution for the data or the random noise, \n",
    "2. How do you imagine it relates to predictor variables? \n",
    "3. Then you estimate and interpret the model parameters. \n",
    "4. Validate the model by goodness-of-fit tests and residual analysis."
   ]
  },
  {
   "cell_type": "markdown",
   "metadata": {
    "slideshow": {
     "slide_type": "slide"
    }
   },
   "source": [
    "Algorithmic Modeling culture\n",
    "----\n",
    "\n",
    "<center><img src=\"images/algo.png\" height=\"500\"/></center>\n",
    "\n",
    "Nature cannot necessarily be described by a simple model\n",
    "\n",
    "Complex algorithmic approaches are used to estimate the function that maps from input to output variables\n",
    "\n",
    "No expectation that the form of the function that emerges from this complex algorithm reflects the true underlying nature.\n",
    "\n",
    "When you do machine learning, you want to know how you can predict what future data will look like w.r.t. some variable."
   ]
  },
  {
   "cell_type": "markdown",
   "metadata": {
    "slideshow": {
     "slide_type": "slide"
    }
   },
   "source": [
    "Algorithmic Modeling culture\n",
    "----\n",
    "\n",
    "<center><img src=\"images/algo.png\" height=\"500\"/></center>\n",
    "\n",
    "- Assumes almost nothing about the data, except that it’s usually i.i.d. from the population you want to learn about. \n",
    "- Don’t start with any statistical distributions or interpretable models\n",
    "- Just build a “black box” algorithm, like random forests or neural nets\n",
    "- Evaluate performance by prediction accuracy (on withheld test data, or by cross-validation)"
   ]
  },
  {
   "cell_type": "markdown",
   "metadata": {
    "slideshow": {
     "slide_type": "slide"
    }
   },
   "source": [
    "Check for understanding\n",
    "-----\n",
    "\n",
    "Elon Musk just created Neuralink, a brain decoding company. How would each paradigm model the problem?"
   ]
  },
  {
   "cell_type": "markdown",
   "metadata": {
    "collapsed": true,
    "slideshow": {
     "slide_type": "slide"
    }
   },
   "source": [
    "What is Computational Thinking?\n",
    "-----\n",
    "<br>\n",
    "<center><img src=\"https://upload.wikimedia.org/wikipedia/commons/thumb/2/20/Peter_Norvig_speaking_at_University_of_California,_Berkeley.jpg/250px-Peter_Norvig_speaking_at_University_of_California,_Berkeley.jpg\" height=\"500\"/></center>\n",
    "\n",
    "- More concrete style  \n",
    "- Use programs with specific values of n (rather than creating a proof for all values of n)\n",
    "- Produces tables or plots to help guide intuition\n",
    "- Verifies results with tests or alternative implementations"
   ]
  },
  {
   "cell_type": "markdown",
   "metadata": {
    "collapsed": true,
    "slideshow": {
     "slide_type": "slide"
    }
   },
   "source": [
    "Steps to Computational Thinking\n",
    "------\n",
    "\n",
    "1) Analyze the problem \n"
   ]
  },
  {
   "cell_type": "markdown",
   "metadata": {
    "slideshow": {
     "slide_type": "fragment"
    }
   },
   "source": [
    "2) Implement code to solve it for small values of n.\n"
   ]
  },
  {
   "cell_type": "markdown",
   "metadata": {
    "slideshow": {
     "slide_type": "fragment"
    }
   },
   "source": [
    "3) Plot results and examine them for insight.\n"
   ]
  },
  {
   "cell_type": "markdown",
   "metadata": {
    "slideshow": {
     "slide_type": "fragment"
    }
   },
   "source": [
    "4) Play with the results and get a guess at a (partial) complete solution \n"
   ]
  },
  {
   "cell_type": "markdown",
   "metadata": {
    "slideshow": {
     "slide_type": "fragment"
    }
   },
   "source": [
    "5) Solve numerically (if possible)"
   ]
  },
  {
   "cell_type": "markdown",
   "metadata": {
    "slideshow": {
     "slide_type": "slide"
    }
   },
   "source": [
    "What is the Rashomon Effect?\n",
    "-----\n",
    "<br>\n",
    "<center><img src=\"http://mancunion.com/wp-content/uploads/2015/09/rashomon.jpg\" height=\"500\"/></center>"
   ]
  },
  {
   "cell_type": "markdown",
   "metadata": {
    "slideshow": {
     "slide_type": "slide"
    }
   },
   "source": [
    "Like the Rashomon movie, there can be contradictory interpretations of the same event by different people.\n",
    "\n",
    "There are always mutliple good models."
   ]
  },
  {
   "cell_type": "markdown",
   "metadata": {
    "slideshow": {
     "slide_type": "slide"
    }
   },
   "source": [
    "> There is no true interpretation of anything; interpretation is a vehicle in the service of human comprehension.\n",
    "\n",
    "> The value of interpretation is in enabling others to fruitfully think about an idea.  \n",
    "\n",
    "> – Buja"
   ]
  },
  {
   "cell_type": "markdown",
   "metadata": {
    "slideshow": {
     "slide_type": "slide"
    }
   },
   "source": [
    "Future of Statistics\n",
    "------\n",
    "\n",
    "- More math\n",
    "- More automation"
   ]
  },
  {
   "cell_type": "markdown",
   "metadata": {
    "collapsed": true,
    "slideshow": {
     "slide_type": "slide"
    }
   },
   "source": [
    "Uniting Statistics with Math\n",
    "------\n",
    "\n",
    "[Lecture Notes on Randomized Linear Algebra](https://arxiv.org/pdf/1608.04481v1.pdf)"
   ]
  },
  {
   "cell_type": "markdown",
   "metadata": {
    "collapsed": true,
    "slideshow": {
     "slide_type": "fragment"
    }
   },
   "source": [
    "<center><img src=\"http://catplanet.org/wp-content/uploads/2014/02/I-dont-hav-nightmare.jpg\" height=\"500\"/></center>"
   ]
  },
  {
   "cell_type": "markdown",
   "metadata": {
    "collapsed": true,
    "slideshow": {
     "slide_type": "slide"
    }
   },
   "source": [
    "Give the exponential rise in data and linear training time for Statisticians... \n",
    "-------"
   ]
  },
  {
   "cell_type": "markdown",
   "metadata": {
    "slideshow": {
     "slide_type": "fragment"
    }
   },
   "source": [
    "### The Automatic Statistician\n",
    "\n",
    "<center><img src=\"https://www.automaticstatistician.com/static/images/affairs.jpg\" height=\"500\"/></center>\n",
    "\n"
   ]
  },
  {
   "cell_type": "markdown",
   "metadata": {
    "slideshow": {
     "slide_type": "skip"
    }
   },
   "source": [
    "[Example](https://www.automaticstatistician.com/static/assets/auto-report-affairs.pdf)  \n",
    "[Learn more here](https://www.automaticstatistician.com/about/)"
   ]
  },
  {
   "cell_type": "markdown",
   "metadata": {
    "collapsed": true,
    "slideshow": {
     "slide_type": "slide"
    }
   },
   "source": [
    "Summary\n",
    "-----\n",
    "\n",
    "- We have to construct mathematical models to conduct statistical inference from sample to populations.\n",
    "- This \"data modeling\" is assumption heavy compared to \"algorithm modeling\"\n",
    "- Computational Thinking builds working models from small modular components on existing data\n",
    "- Lower level statistics might have limited use-case in the near future. "
   ]
  },
  {
   "cell_type": "markdown",
   "metadata": {
    "collapsed": true,
    "slideshow": {
     "slide_type": "slide"
    }
   },
   "source": [
    " "
   ]
  }
 ],
 "metadata": {
  "celltoolbar": "Slideshow",
  "kernelspec": {
   "display_name": "Python 3",
   "language": "python",
   "name": "python3"
  },
  "language_info": {
   "codemirror_mode": {
    "name": "ipython",
    "version": 3
   },
   "file_extension": ".py",
   "mimetype": "text/x-python",
   "name": "python",
   "nbconvert_exporter": "python",
   "pygments_lexer": "ipython3",
   "version": "3.6.1"
  }
 },
 "nbformat": 4,
 "nbformat_minor": 2
}
