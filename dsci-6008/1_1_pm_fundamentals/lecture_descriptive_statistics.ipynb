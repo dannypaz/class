{
 "cells": [
  {
   "cell_type": "markdown",
   "metadata": {
    "slideshow": {
     "slide_type": "slide"
    }
   },
   "source": [
    "Descriptive Statistics\n",
    "-----\n",
    "\n",
    "<center><img src=\"http://doingstats.com/img/stats_process.gif\" height=\"500\"/></center>"
   ]
  },
  {
   "cell_type": "markdown",
   "metadata": {
    "slideshow": {
     "slide_type": "slide"
    }
   },
   "source": [
    "By The End Of This Session You Should Be Able To:\n",
    "----\n",
    "\n",
    "- Explain the role of descriptive statistics plays in EDA\n",
    "- Define, explain importance, and calculate\n",
    "    - Count\n",
    "    - Mean, Median, Mode\n",
    "    - Range, Median Absolute Deviation (MAD), Variance, Standard Deviation\n",
    "- Define robust statistics"
   ]
  },
  {
   "cell_type": "markdown",
   "metadata": {
    "slideshow": {
     "slide_type": "slide"
    }
   },
   "source": [
    "Exploratory Data Analysis (EDA)\n",
    "-----\n",
    "\n",
    "![](http://www.creative-wisdom.com/teaching/WBI/detective.jpg)"
   ]
  },
  {
   "cell_type": "markdown",
   "metadata": {
    "collapsed": true,
    "slideshow": {
     "slide_type": "slide"
    }
   },
   "source": [
    "EDA: Techniques\n",
    "----\n",
    "\n",
    "1. Visualizations\n",
    "2. Tables\n",
    "3. Descriptive Statistics"
   ]
  },
  {
   "cell_type": "markdown",
   "metadata": {
    "collapsed": true,
    "slideshow": {
     "slide_type": "slide"
    }
   },
   "source": [
    "Descriptive Statistics\n",
    "-----\n",
    "\n",
    "- Measures of overall-ness\n",
    "- Measures of location / center\n",
    "- Measures of variation\n",
    "- Measures of the shape of the distribution\n",
    "- Measures of statistical dependence between variables"
   ]
  },
  {
   "cell_type": "markdown",
   "metadata": {
    "slideshow": {
     "slide_type": "slide"
    }
   },
   "source": [
    "Measures of overall-ness\n",
    "-----\n",
    "\n",
    "- Count\n",
    "- Ratio"
   ]
  },
  {
   "cell_type": "markdown",
   "metadata": {
    "slideshow": {
     "slide_type": "slide"
    }
   },
   "source": [
    "Data Science is mostly counting\n",
    "-----\n",
    "\n",
    "<center><img src=\"http://static.deathandtaxesmag.com/uploads/2014/12/the-count-pi.jpg\" height=\"500\"/></center>\n",
    "\n",
    "Count is the number of observations (Protip: You want a lot of counts)"
   ]
  },
  {
   "cell_type": "markdown",
   "metadata": {
    "slideshow": {
     "slide_type": "slide"
    }
   },
   "source": [
    "What is a ratio?\n",
    "------\n",
    "\n",
    "One count divided by another count, like 23/100 = .23.\n",
    "\n",
    "It is very important to properly define your numerator and denominator. \n",
    "\n",
    "This elementary school math but critical for businesses."
   ]
  },
  {
   "cell_type": "markdown",
   "metadata": {
    "slideshow": {
     "slide_type": "slide"
    }
   },
   "source": [
    "Summary Statistics\n",
    "-----\n",
    "\n",
    "Summary statistics are used for summarizing a sample. The most commonly used summary statistics describe the following characteristics of the data.\n",
    "\n",
    "- Measure of center\n",
    "- Measure of spread"
   ]
  },
  {
   "cell_type": "markdown",
   "metadata": {
    "collapsed": true,
    "slideshow": {
     "slide_type": "slide"
    }
   },
   "source": [
    "Measures of center (aka central tendencies)?\n",
    "-----\n",
    "\n",
    "Can you guess a couple?"
   ]
  },
  {
   "cell_type": "markdown",
   "metadata": {
    "slideshow": {
     "slide_type": "slide"
    }
   },
   "source": [
    "Measures of center (aka central tendencies)\n",
    "-----\n",
    "\n",
    "- Mean\n",
    "- Median \n",
    "- Mode"
   ]
  },
  {
   "cell_type": "markdown",
   "metadata": {
    "slideshow": {
     "slide_type": "slide"
    }
   },
   "source": [
    "<center><img src=\"images/average.jpg\" height=\"800\"/></center>"
   ]
  },
  {
   "cell_type": "markdown",
   "metadata": {
    "slideshow": {
     "slide_type": "slide"
    }
   },
   "source": [
    "Mean\n",
    "----\n",
    "\n",
    "The arithmetic average of the data values\n",
    "\n",
    "$$ \\bar{x} = \\frac{\\sum_{i=1}^n x_i}{n} = \\frac{x_1 + x_2 + \\ldots + x_n}{n} $$\n",
    "    where n is the size of the data\n",
    "    \n",
    "<center><img src=\"http://1.bp.blogspot.com/-so2EWw4rnaY/U2_aqMV4ZeI/AAAAAAAAAII/TRTXyEgTJO8/s1600/MeanVisual.gif\" height=\"300\"/></center>"
   ]
  },
  {
   "cell_type": "markdown",
   "metadata": {
    "slideshow": {
     "slide_type": "slide"
    }
   },
   "source": [
    "Mean\n",
    "----\n",
    "\n",
    "- The most common measure of center\n",
    "- Often does __not__ summarize data very well"
   ]
  },
  {
   "cell_type": "markdown",
   "metadata": {
    "slideshow": {
     "slide_type": "fragment"
    }
   },
   "source": [
    "<center><img src=\"http://web.stanford.edu/~savage/faculty/savage/FOA%20Index_files/image001.jpg\" height=\"500\"/></center>"
   ]
  },
  {
   "cell_type": "markdown",
   "metadata": {
    "slideshow": {
     "slide_type": "slide"
    }
   },
   "source": [
    "- Can be affected by extreme data values (outliers)\n",
    "\n",
    "<center><img src=\"images/mean.png\" height=\"500\"/></center>"
   ]
  },
  {
   "cell_type": "markdown",
   "metadata": {
    "slideshow": {
     "slide_type": "slide"
    }
   },
   "source": [
    "> Let’s say there are 7 people sitting in a bar. And they start taking about net worth...."
   ]
  },
  {
   "cell_type": "markdown",
   "metadata": {
    "slideshow": {
     "slide_type": "slide"
    }
   },
   "source": [
    "<center><img src=\"http://i0.wp.com/michelbaudin.com/wp-content/uploads/2014/03/Bill-Gates-in-terroir_bar-SF.png?resize=492%2C426\" height=\"500\"/></center>\n",
    "\n",
    "[Source](https://introductorystats.wordpress.com/2011/09/04/when-bill-gates-walks-into-a-bar/)"
   ]
  },
  {
   "cell_type": "code",
   "execution_count": 1,
   "metadata": {
    "collapsed": true,
    "slideshow": {
     "slide_type": "slide"
    }
   },
   "outputs": [],
   "source": [
    "def calculate_mean(data):\n",
    "    \"Calculate the arithmetic average of a list\"\n",
    "    pass"
   ]
  },
  {
   "cell_type": "code",
   "execution_count": 2,
   "metadata": {
    "slideshow": {
     "slide_type": "fragment"
    }
   },
   "outputs": [
    {
     "ename": "AssertionError",
     "evalue": "",
     "output_type": "error",
     "traceback": [
      "\u001b[0;31m---------------------------------------------------------------------------\u001b[0m",
      "\u001b[0;31mAssertionError\u001b[0m                            Traceback (most recent call last)",
      "\u001b[0;32m<ipython-input-2-c083a1d7a29f>\u001b[0m in \u001b[0;36m<module>\u001b[0;34m()\u001b[0m\n\u001b[1;32m      2\u001b[0m \u001b[0;34m\u001b[0m\u001b[0m\n\u001b[1;32m      3\u001b[0m \u001b[0mdata\u001b[0m \u001b[0;34m=\u001b[0m \u001b[0mlist\u001b[0m\u001b[0;34m(\u001b[0m\u001b[0mrange\u001b[0m\u001b[0;34m(\u001b[0m\u001b[0;36m100\u001b[0m\u001b[0;34m)\u001b[0m\u001b[0;34m)\u001b[0m\u001b[0;34m\u001b[0m\u001b[0m\n\u001b[0;32m----> 4\u001b[0;31m \u001b[0;32massert\u001b[0m \u001b[0mcalculate_mean\u001b[0m\u001b[0;34m(\u001b[0m\u001b[0mdata\u001b[0m\u001b[0;34m)\u001b[0m \u001b[0;34m==\u001b[0m \u001b[0mmean\u001b[0m\u001b[0;34m(\u001b[0m\u001b[0mdata\u001b[0m\u001b[0;34m)\u001b[0m\u001b[0;34m\u001b[0m\u001b[0m\n\u001b[0m",
      "\u001b[0;31mAssertionError\u001b[0m: "
     ]
    }
   ],
   "source": [
    "from statistics import mean\n",
    "\n",
    "data = list(range(100))\n",
    "assert calculate_mean(data) == mean(data)"
   ]
  },
  {
   "cell_type": "code",
   "execution_count": null,
   "metadata": {
    "collapsed": true,
    "slideshow": {
     "slide_type": "fragment"
    }
   },
   "outputs": [],
   "source": [
    "data = [.1]*10\n",
    "assert calculate_mean(data) == mean(data)"
   ]
  },
  {
   "cell_type": "code",
   "execution_count": null,
   "metadata": {
    "collapsed": true,
    "slideshow": {
     "slide_type": "slide"
    }
   },
   "outputs": [],
   "source": [
    "def calculate_mean_naive(data):\n",
    "    \"Calculate the arithmetic average of a list\"\n",
    "    return sum(data) / len(data)"
   ]
  },
  {
   "cell_type": "code",
   "execution_count": null,
   "metadata": {
    "collapsed": true,
    "slideshow": {
     "slide_type": "fragment"
    }
   },
   "outputs": [],
   "source": [
    "calculate_mean_naive(data)"
   ]
  },
  {
   "cell_type": "code",
   "execution_count": 1,
   "metadata": {
    "slideshow": {
     "slide_type": "slide"
    }
   },
   "outputs": [
    {
     "data": {
      "text/plain": [
       "False"
      ]
     },
     "execution_count": 1,
     "metadata": {},
     "output_type": "execute_result"
    }
   ],
   "source": [
    "# By a show of hands, what will this evaluate to?\n",
    ".1 + .2 == .3"
   ]
  },
  {
   "cell_type": "code",
   "execution_count": 2,
   "metadata": {
    "slideshow": {
     "slide_type": "fragment"
    }
   },
   "outputs": [
    {
     "data": {
      "text/plain": [
       "0.30000000000000004"
      ]
     },
     "execution_count": 2,
     "metadata": {},
     "output_type": "execute_result"
    }
   ],
   "source": [
    ".1 + .2"
   ]
  },
  {
   "cell_type": "markdown",
   "metadata": {
    "slideshow": {
     "slide_type": "slide"
    }
   },
   "source": [
    "Check for understanding\n",
    "-----\n",
    "\n",
    "What is the relationship between Levels of Measurement and Floating point representations?"
   ]
  },
  {
   "cell_type": "markdown",
   "metadata": {
    "slideshow": {
     "slide_type": "fragment"
    }
   },
   "source": [
    "[What Every Computer Scientist Should Know About Floating-Point Arithmetic](http://www.lsi.upc.edu/~robert/teaching/master/material/p5-goldberg.pdf)"
   ]
  },
  {
   "cell_type": "code",
   "execution_count": 4,
   "metadata": {
    "collapsed": true,
    "slideshow": {
     "slide_type": "slide"
    }
   },
   "outputs": [],
   "source": [
    "from math import fsum\n",
    "\n",
    "def calculate_mean_accurately(data):\n",
    "    \"Accurate arithmetic mean\"\n",
    "    return fsum(data) / len(data)"
   ]
  },
  {
   "cell_type": "code",
   "execution_count": null,
   "metadata": {
    "collapsed": true,
    "slideshow": {
     "slide_type": "fragment"
    }
   },
   "outputs": [],
   "source": [
    "calculate_mean_accurately(data)"
   ]
  },
  {
   "cell_type": "code",
   "execution_count": null,
   "metadata": {
    "collapsed": true,
    "slideshow": {
     "slide_type": "slide"
    }
   },
   "outputs": [],
   "source": [
    "from typing import Iterable\n",
    "from math import fsum\n",
    "\n",
    "def mean(data: Iterable[float]) -> float:\n",
    "    'Accurate arithmetic mean'\n",
    "    data = list(data)\n",
    "    return fsum(data) / len(data)"
   ]
  },
  {
   "cell_type": "markdown",
   "metadata": {
    "slideshow": {
     "slide_type": "skip"
    }
   },
   "source": [
    "https://github.com/rhettinger/modernpython/blob/master/kmeans.py"
   ]
  },
  {
   "cell_type": "markdown",
   "metadata": {
    "slideshow": {
     "slide_type": "slide"
    }
   },
   "source": [
    "Geometric mean\n",
    "----\n",
    "\n",
    "Indicates the central tendency or typical value of a set of numbers by using the product of their values \n",
    "\n",
    "<center><img src=\"https://wikimedia.org/api/rest_v1/media/math/render/svg/78e45b0076a1c2c6935c0d1ddb849000afe2b5f5\" height=\"500\"/></center>"
   ]
  },
  {
   "cell_type": "markdown",
   "metadata": {
    "slideshow": {
     "slide_type": "fragment"
    }
   },
   "source": [
    "Useful when comparing different items on different numerical scales"
   ]
  },
  {
   "cell_type": "markdown",
   "metadata": {
    "slideshow": {
     "slide_type": "slide"
    }
   },
   "source": [
    "Robust Statistics\n",
    "-----\n",
    "<br>\n",
    "<center><img src=\"http://img04.deviantart.net/d780/i/2008/301/f/c/error_bars_by_velica.jpg\" width=\"500\"/></center>\n",
    "\n",
    "Minimize the impact of outliers"
   ]
  },
  {
   "cell_type": "markdown",
   "metadata": {
    "slideshow": {
     "slide_type": "slide"
    }
   },
   "source": [
    "Classical statistics relies largely on parametric models. Typically, assumptions are made on the structural and the stochastic parts of the model and optimal procedures are derived under these assumptions.\n",
    "\n"
   ]
  },
  {
   "cell_type": "markdown",
   "metadata": {
    "slideshow": {
     "slide_type": "slide"
    }
   },
   "source": [
    "Check for understanding\n",
    "-----\n",
    "\n",
    "What are common classical statistical assumptions?"
   ]
  },
  {
   "cell_type": "markdown",
   "metadata": {
    "slideshow": {
     "slide_type": "fragment"
    }
   },
   "source": [
    "- i.i.d. (independent and identically distributed) observations\n",
    "- Normal distributed"
   ]
  },
  {
   "cell_type": "markdown",
   "metadata": {
    "slideshow": {
     "slide_type": "slide"
    }
   },
   "source": [
    "Robust statistics \n",
    "------\n",
    "\n",
    "Deals with deviations from these assumptions\n",
    "\n",
    "Tests and develops statistical procedures that are still reliable and reasonably efficient in the presence of such deviations."
   ]
  },
  {
   "cell_type": "markdown",
   "metadata": {
    "slideshow": {
     "slide_type": "slide"
    }
   },
   "source": [
    "How can you tell signal from noise?\n",
    "-----\n",
    "\n",
    "<center><img src=\"http://mindmappingsoftwareblog.com/wp-content/uploads/2012/08/signal-vs-noise-900px.jpg\" height=\"500\"/></center>\n",
    "\n",
    "Signal is correlated, noise is not."
   ]
  },
  {
   "cell_type": "markdown",
   "metadata": {
    "slideshow": {
     "slide_type": "slide"
    }
   },
   "source": [
    "Winsorized mean\n",
    "-------\n",
    "<br>\n",
    "<center><img src=\"https://images.trvl-media.com/hotels/8000000/7240000/7237700/7237605/7237605_11_z.jpg\" height=\"500\"/></center>"
   ]
  },
  {
   "cell_type": "markdown",
   "metadata": {
    "slideshow": {
     "slide_type": "slide"
    }
   },
   "source": [
    "Winsorized mean\n",
    "-------\n",
    "\n",
    "<center><img src=\"images/win.png\" height=\"500\"/></center>\n",
    "\n",
    "Calculation of the mean after replacing given parts of sample at the high and low end with the most extreme remaining values"
   ]
  },
  {
   "cell_type": "markdown",
   "metadata": {},
   "source": [
    "Winsorized mean\n",
    "-------\n",
    "\n",
    "typically doing so for an equal amount of both extremes\n",
    "\n",
    "often 10 to 25 percent of the ends are replaced."
   ]
  },
  {
   "cell_type": "code",
   "execution_count": 11,
   "metadata": {
    "collapsed": true,
    "slideshow": {
     "slide_type": "fragment"
    }
   },
   "outputs": [],
   "source": [
    "from scipy.stats.mstats import winsorize"
   ]
  },
  {
   "cell_type": "markdown",
   "metadata": {
    "slideshow": {
     "slide_type": "slide"
    }
   },
   "source": [
    "Check for understanding\n",
    "------\n",
    "\n",
    "Winsorizing data means to replace the extreme values of a data set with a certain percentile value from each end\n",
    "\n",
    "Trimming or Truncating involves removing those extreme values.\n",
    "\n",
    "Why would you winsorize? Why would you trim?"
   ]
  },
  {
   "cell_type": "markdown",
   "metadata": {
    "slideshow": {
     "slide_type": "slide"
    }
   },
   "source": [
    "If you think the outliers / the tails of the distribution belong to the distribution, but you want to have a less skewed distribution, you winsorising.\n",
    "\n",
    "If you believe that the \"outliers\" are really outliers (i.e., they do not belong to the distribution, but are of \"another kind\") then trim. "
   ]
  },
  {
   "cell_type": "markdown",
   "metadata": {
    "slideshow": {
     "slide_type": "skip"
    }
   },
   "source": [
    "https://stats.stackexchange.com/questions/90443/what-are-the-relative-merits-of-winsorizing-vs-trimming-data"
   ]
  },
  {
   "cell_type": "markdown",
   "metadata": {
    "slideshow": {
     "slide_type": "slide"
    }
   },
   "source": [
    "Median\n",
    "----\n",
    "\n",
    "The middle number when the data values are put in order\n",
    "\n",
    "<center><img src=\"http://3.bp.blogspot.com/-G43KSyi6Ch0/U29KLv6pDeI/AAAAAAAAAHo/c-kAVEDXZQk/s1600/MedianVisual.gif\" height=\"500\"/></center>"
   ]
  },
  {
   "cell_type": "markdown",
   "metadata": {
    "slideshow": {
     "slide_type": "slide"
    }
   },
   "source": [
    "<center><img src=\"images/median.png\" height=\"500\"/></center>\n",
    "\n",
    "Not affected by extreme values (outliers)"
   ]
  },
  {
   "cell_type": "markdown",
   "metadata": {
    "slideshow": {
     "slide_type": "slide"
    }
   },
   "source": [
    "Check for understanding\n",
    "-----\n",
    "\n",
    "What is the median if n is odd? What is the median if n is even?"
   ]
  },
  {
   "cell_type": "markdown",
   "metadata": {
    "slideshow": {
     "slide_type": "fragment"
    }
   },
   "source": [
    "<center><img src=\"https://upload.wikimedia.org/wikipedia/commons/thumb/c/cf/Finding_the_median.png/220px-Finding_the_median.png\" height=\"250\"/></center>\n",
    "If n is odd, the median is exactly the middle number. \n",
    "\n",
    "If n is even, the median is the average of the two middle numbers."
   ]
  },
  {
   "cell_type": "code",
   "execution_count": 1,
   "metadata": {
    "collapsed": true,
    "slideshow": {
     "slide_type": "slide"
    }
   },
   "outputs": [],
   "source": [
    "data_even = list(range(10)) + list(range(20))\n",
    "data_odd = list(range(11)) + list(range(20))\n",
    "\n",
    "def calculate_median(data):\n",
    "    \"\"\"Calculate the middle value of a list\"\"\"\n",
    "    pass"
   ]
  },
  {
   "cell_type": "code",
   "execution_count": 5,
   "metadata": {
    "collapsed": true,
    "slideshow": {
     "slide_type": "fragment"
    }
   },
   "outputs": [],
   "source": [
    "from statistics import median\n",
    "\n",
    "assert calculate_median(data_even) == median(data_even)\n",
    "assert calculate_median(data_odd) == median(data_odd)"
   ]
  },
  {
   "cell_type": "code",
   "execution_count": 4,
   "metadata": {
    "collapsed": true,
    "slideshow": {
     "slide_type": "slide"
    }
   },
   "outputs": [],
   "source": [
    "def calculate_median(data):\n",
    "    \"\"\"Calculate the middle value of a list\"\"\"\n",
    "    data = sorted(data)          # Sort data\n",
    "    index = (len(data) - 1) // 2 # Location of middle value\n",
    "    \n",
    "    if len(data) % 2 :          # If odd, use middle value\n",
    "        return data[index]\n",
    "    else:                        # If even, use average of middle values\n",
    "        return (data[index] + data[index + 1]) / 2"
   ]
  },
  {
   "cell_type": "markdown",
   "metadata": {
    "slideshow": {
     "slide_type": "slide"
    }
   },
   "source": [
    "Mode\n",
    "----\n",
    "\n",
    "The most frequently occurred value\n",
    "\n",
    "<center><img src=\"http://3.bp.blogspot.com/-b9EBpSbyRJk/U25QMGl8D0I/AAAAAAAAAG8/GU_EOKvBExc/s1600/Centr-ModeVisual.gif\" height=\"500\"/></center>\n",
    " \n",
    "[Source](http://statisticsbypeter.blogspot.com/2014/05/mode.html)"
   ]
  },
  {
   "cell_type": "markdown",
   "metadata": {
    "slideshow": {
     "slide_type": "fragment"
    }
   },
   "source": [
    "Mode is __NOT__ affected by extreme values (outliers)"
   ]
  },
  {
   "cell_type": "markdown",
   "metadata": {
    "slideshow": {
     "slide_type": "slide"
    }
   },
   "source": [
    "<center><img src=\"images/mode_nope.png\" height=\"500\"/></center>\n",
    "\n",
    "There may be __no__ mode or several modes"
   ]
  },
  {
   "cell_type": "code",
   "execution_count": 12,
   "metadata": {
    "collapsed": true,
    "slideshow": {
     "slide_type": "slide"
    }
   },
   "outputs": [],
   "source": [
    "data = [2, 1, 0, 1, 1, 0]\n",
    "\n",
    "def calculate_mode(data):\n",
    "    \"\"\"Calculate the most common value of a list\"\"\"\n",
    "    pass"
   ]
  },
  {
   "cell_type": "code",
   "execution_count": 13,
   "metadata": {
    "slideshow": {
     "slide_type": "fragment"
    }
   },
   "outputs": [
    {
     "ename": "AssertionError",
     "evalue": "",
     "output_type": "error",
     "traceback": [
      "\u001b[0;31m---------------------------------------------------------------------------\u001b[0m",
      "\u001b[0;31mAssertionError\u001b[0m                            Traceback (most recent call last)",
      "\u001b[0;32m<ipython-input-13-f1da02c39dff>\u001b[0m in \u001b[0;36m<module>\u001b[0;34m()\u001b[0m\n\u001b[1;32m      1\u001b[0m \u001b[0;32mfrom\u001b[0m \u001b[0mstatistics\u001b[0m \u001b[0;32mimport\u001b[0m \u001b[0mmode\u001b[0m\u001b[0;34m\u001b[0m\u001b[0m\n\u001b[1;32m      2\u001b[0m \u001b[0;34m\u001b[0m\u001b[0m\n\u001b[0;32m----> 3\u001b[0;31m \u001b[0;32massert\u001b[0m \u001b[0mcalculate_mode\u001b[0m\u001b[0;34m(\u001b[0m\u001b[0mdata\u001b[0m\u001b[0;34m)\u001b[0m \u001b[0;34m==\u001b[0m \u001b[0mmode\u001b[0m\u001b[0;34m(\u001b[0m\u001b[0mdata\u001b[0m\u001b[0;34m)\u001b[0m\u001b[0;34m\u001b[0m\u001b[0m\n\u001b[0m",
      "\u001b[0;31mAssertionError\u001b[0m: "
     ]
    }
   ],
   "source": [
    "from statistics import mode\n",
    "\n",
    "assert calculate_mode(data) == mode(data)"
   ]
  },
  {
   "cell_type": "code",
   "execution_count": 14,
   "metadata": {
    "collapsed": true,
    "slideshow": {
     "slide_type": "slide"
    }
   },
   "outputs": [],
   "source": [
    "from collections import Counter\n",
    "\n",
    "def calculate_mode(data):\n",
    "    \"\"\"Calculate the most common value of a list\"\"\"\n",
    "    return Counter(data).most_common(n=1)[0][0]"
   ]
  },
  {
   "cell_type": "markdown",
   "metadata": {
    "slideshow": {
     "slide_type": "slide"
    }
   },
   "source": [
    "Check for understanding\n",
    "-------\n",
    "Label each of the arrows with: Mean, Mode, Median\n",
    "<center><img src=\"images/Wikipedia_Edit_Frequency.png\" height=\"500\"/></center>"
   ]
  },
  {
   "cell_type": "markdown",
   "metadata": {
    "slideshow": {
     "slide_type": "slide"
    }
   },
   "source": [
    "<br>\n",
    "<center><img src=\"https://upload.wikimedia.org/wikipedia/en/2/2a/Wikipedia_Edit_Frequency.png\" height=\"350\"/></center>"
   ]
  },
  {
   "cell_type": "markdown",
   "metadata": {
    "slideshow": {
     "slide_type": "slide"
    }
   },
   "source": [
    "\n",
    "What do these measures of central tendency tell us? \n",
    "------\n",
    "<br>\n",
    "<center><img src=\"https://upload.wikimedia.org/wikipedia/en/2/2a/Wikipedia_Edit_Frequency.png\" height=\"350\"/></center>"
   ]
  },
  {
   "cell_type": "markdown",
   "metadata": {
    "slideshow": {
     "slide_type": "slide"
    }
   },
   "source": [
    "<center><img src=\"http://assets.amuniversal.com/a7479dd06cb801301d46001dd8b71c47\" height=\"600\"/></center>"
   ]
  },
  {
   "cell_type": "markdown",
   "metadata": {
    "slideshow": {
     "slide_type": "slide"
    }
   },
   "source": [
    "Measures of Spread / Dispersion / Variation\n",
    "-----\n",
    "\n",
    "Can you guess a couple?"
   ]
  },
  {
   "cell_type": "markdown",
   "metadata": {
    "slideshow": {
     "slide_type": "slide"
    }
   },
   "source": [
    "Measures of Spread\n",
    "------\n",
    "\n",
    "- Range\n",
    "- Median Absolute Deviation (MAD)\n",
    "- Variance\n",
    "- Standard Deviation"
   ]
  },
  {
   "cell_type": "markdown",
   "metadata": {
    "slideshow": {
     "slide_type": "slide"
    }
   },
   "source": [
    "Range\n",
    "-----\n",
    "\n",
    "$ Range = x_{maximum} - x_{minimum}$"
   ]
  },
  {
   "cell_type": "markdown",
   "metadata": {
    "slideshow": {
     "slide_type": "slide"
    }
   },
   "source": [
    "Median Absolute Deviation (MAD)\n",
    "-------\n",
    "\n",
    "A robust measure of the variability of a univariate sample of quantitative data. \n",
    "\n",
    "<center><img src=\"images/mad.png\" height=\"500\"/></center>"
   ]
  },
  {
   "cell_type": "markdown",
   "metadata": {
    "slideshow": {
     "slide_type": "slide"
    }
   },
   "source": [
    "[Why we should retire Standard Deviation](https://www.edge.org/response-detail/25401)\n",
    "\n",
    "Can also be Mean Absolute Deviation!"
   ]
  },
  {
   "cell_type": "code",
   "execution_count": 17,
   "metadata": {
    "collapsed": true,
    "slideshow": {
     "slide_type": "fragment"
    }
   },
   "outputs": [],
   "source": [
    "data = [2, 2, 3, 4, 14]\n",
    "\n",
    "def calculate_mad(data):\n",
    "    \"\"\"Calculate the Median Absolute Deviation of a list\"\"\"\n",
    "    pass"
   ]
  },
  {
   "cell_type": "code",
   "execution_count": 21,
   "metadata": {
    "collapsed": true,
    "slideshow": {
     "slide_type": "fragment"
    }
   },
   "outputs": [],
   "source": [
    "assert calculate_mad(data) == 1"
   ]
  },
  {
   "cell_type": "code",
   "execution_count": 20,
   "metadata": {
    "collapsed": true,
    "slideshow": {
     "slide_type": "slide"
    }
   },
   "outputs": [],
   "source": [
    "from statistics import median\n",
    "\n",
    "def calculate_mad(data):\n",
    "    \"\"\"Calculate the Median Absolute Deviation of a list\"\"\"\n",
    "    median_value = median(data)\n",
    "\n",
    "    diff = []\n",
    "    for item in data:\n",
    "        diff.append(abs(item-median_value))\n",
    "\n",
    "    return median(diff)"
   ]
  },
  {
   "cell_type": "code",
   "execution_count": 22,
   "metadata": {
    "collapsed": true,
    "slideshow": {
     "slide_type": "slide"
    }
   },
   "outputs": [],
   "source": [
    "def calculate_mad(data):\n",
    "    \"\"\"Calculate the Median Absolute Deviation of a list\"\"\"\n",
    "    return median(map(lambda x: abs(x-median(data)), data))"
   ]
  },
  {
   "cell_type": "markdown",
   "metadata": {
    "slideshow": {
     "slide_type": "slide"
    }
   },
   "source": [
    "Variance & Standard Deviation\n",
    "-----\n",
    "\n",
    "Variance & Standard Deviation are cousins\n",
    "\n",
    "Standard Deviation rougly describes how far way the typical observation is from the mean."
   ]
  },
  {
   "cell_type": "markdown",
   "metadata": {
    "slideshow": {
     "slide_type": "slide"
    }
   },
   "source": [
    "Variance\n",
    "-----\n",
    "\n",
    "$$ s^2_x = \\frac{1}{n-1} \\sum_{i=1}^n (x_i - \\bar{x})^2 $$\n"
   ]
  },
  {
   "cell_type": "markdown",
   "metadata": {
    "slideshow": {
     "slide_type": "fragment"
    }
   },
   "source": [
    "Standard Deviation\n",
    "----\n",
    "\n",
    "$$ s_x = \\sqrt{\\frac{1}{n-1} \\sum_{i=1}^n (x_i - \\bar{x})^2} $$\n",
    "\n",
    "The version of the formulas for population are a little different. You don't have worry about them because you typically just observe samples."
   ]
  },
  {
   "cell_type": "code",
   "execution_count": 23,
   "metadata": {
    "collapsed": true,
    "slideshow": {
     "slide_type": "slide"
    }
   },
   "outputs": [],
   "source": [
    "data = list(range(100))\n",
    "\n",
    "def calculate_stdev(data):\n",
    "    \"\"\"Calculate the Standard Deviation of a list\"\"\"\n",
    "    pass"
   ]
  },
  {
   "cell_type": "code",
   "execution_count": 27,
   "metadata": {
    "collapsed": true,
    "slideshow": {
     "slide_type": "slide"
    }
   },
   "outputs": [],
   "source": [
    "from statistics import stdev\n",
    "\n",
    "assert calculate_stdev(data) == stdev(data)"
   ]
  },
  {
   "cell_type": "code",
   "execution_count": 5,
   "metadata": {
    "collapsed": true,
    "slideshow": {
     "slide_type": "slide"
    }
   },
   "outputs": [],
   "source": [
    "from statistics import mean\n",
    "\n",
    "def calculate_stdev(data):\n",
    "    \"\"\"Calculate the Standard Deviation of a list\"\"\"\n",
    "    return (sum(map(lambda x: (x - mean(data)) ** 2, data)) / (len(data) - 1))**.5"
   ]
  },
  {
   "cell_type": "markdown",
   "metadata": {
    "slideshow": {
     "slide_type": "slide"
    }
   },
   "source": [
    "Summary\n",
    "-----\n",
    "\n",
    "- Descriptive statistics are numerical summaries of samples\n",
    "- Get your counts right!\n",
    "- Find the right middle (Mean, Median, Mode)\n",
    "- The spread might be more important (Range, Median Absolute Deviation (MAD), Variance, Standard Deviation)\n",
    "- Robust statistics: the world is strange protect yourself"
   ]
  },
  {
   "cell_type": "markdown",
   "metadata": {
    "slideshow": {
     "slide_type": "slide"
    }
   },
   "source": [
    "<br>\n",
    "<br> \n",
    "<br>\n",
    "\n",
    "----"
   ]
  },
  {
   "cell_type": "markdown",
   "metadata": {
    "slideshow": {
     "slide_type": "slide"
    }
   },
   "source": [
    "Bonus Material\n",
    "-----"
   ]
  },
  {
   "cell_type": "markdown",
   "metadata": {
    "slideshow": {
     "slide_type": "slide"
    }
   },
   "source": [
    "Percentile\n",
    "-----\n",
    "\n",
    "The $p^{th}$ percentile - $p\\%$ of the values in the data are less than or equal to this value ($0 \\leq p \\leq 100$)\n",
    "\n",
    "<center><img src=\"https://s-media-cache-ak0.pinimg.com/564x/94/39/fb/9439fb82998c209a35146093422007e6.jpg\" height=\"500\"/></center>\n",
    "\n",
    "Quartile\n",
    "-----\n",
    "- $1^{st}$ quartile = $25^{th}$ percentile\n",
    "- $2^{nd}$ quartile = $50^{th}$ percentile = __median__\n",
    "- $3^{rd}$ quartile = $75^{th}$ percentile\n",
    "\n",
    "<img src=\"images/quartile.png\" width=\"500\">"
   ]
  },
  {
   "cell_type": "markdown",
   "metadata": {
    "collapsed": true,
    "slideshow": {
     "slide_type": "slide"
    }
   },
   "source": [
    "<br>\n",
    "<br> \n",
    "<br>\n",
    "\n",
    "----"
   ]
  }
 ],
 "metadata": {
  "anaconda-cloud": {},
  "celltoolbar": "Slideshow",
  "kernelspec": {
   "display_name": "Python 3",
   "language": "python",
   "name": "python3"
  },
  "language_info": {
   "codemirror_mode": {
    "name": "ipython",
    "version": 3
   },
   "file_extension": ".py",
   "mimetype": "text/x-python",
   "name": "python",
   "nbconvert_exporter": "python",
   "pygments_lexer": "ipython3",
   "version": "3.6.1"
  }
 },
 "nbformat": 4,
 "nbformat_minor": 1
}
