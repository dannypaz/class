{
 "cells": [
  {
   "cell_type": "markdown",
   "metadata": {
    "slideshow": {
     "slide_type": "slide"
    }
   },
   "source": [
    "Entropy\n",
    "-----\n",
    "<center><img src=\"http://230nsc1.phy-astr.gsu.edu/hbase/Therm/imgthe/disorder.gif\" height=\"500\"/></center>\n",
    "\n",
    "What is entropy in your words?  \n",
    "Write as many definitions of entropy as possible (including equations)?  \n",
    "Which definition is your favorite?"
   ]
  },
  {
   "cell_type": "markdown",
   "metadata": {
    "slideshow": {
     "slide_type": "slide"
    }
   },
   "source": [
    "Entropy is time's arrow\n",
    "------\n",
    "\n",
    "For a glass of water the number of molecules is astronomical. \n",
    "\n",
    "The jumble of ice chips may look more disordered in comparison to the glass of water which looks uniform and homogeneous. \n",
    "\n",
    "But the ice chips place limits on the number of ways the molecules can be arranged. \n",
    "\n",
    "The water molecules in the glass of water can be arranged in many more ways; therefore __the glass of water has greater entropy.__"
   ]
  },
  {
   "cell_type": "markdown",
   "metadata": {
    "slideshow": {
     "slide_type": "slide"
    }
   },
   "source": [
    " "
   ]
  }
 ],
 "metadata": {
  "celltoolbar": "Slideshow",
  "kernelspec": {
   "display_name": "Python 3",
   "language": "python",
   "name": "python3"
  },
  "language_info": {
   "codemirror_mode": {
    "name": "ipython",
    "version": 3
   },
   "file_extension": ".py",
   "mimetype": "text/x-python",
   "name": "python",
   "nbconvert_exporter": "python",
   "pygments_lexer": "ipython3",
   "version": "3.6.1"
  }
 },
 "nbformat": 4,
 "nbformat_minor": 2
}
