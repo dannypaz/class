{
 "cells": [
  {
   "cell_type": "markdown",
   "metadata": {
    "collapsed": true
   },
   "source": [
    "Information Theory Lab\n",
    "------"
   ]
  },
  {
   "cell_type": "markdown",
   "metadata": {},
   "source": [
    "----\n",
    "Binary encodings\n",
    "----"
   ]
  },
  {
   "cell_type": "markdown",
   "metadata": {},
   "source": [
    "X = {💃, ⛹, 🚴, 🕴}  \n",
    "Each outcome has the same probability.\n",
    "\n",
    "Manually encode each of the values with 2 bits. Pick an optimal encoding."
   ]
  },
  {
   "cell_type": "markdown",
   "metadata": {},
   "source": [
    "__Solution__:  \n",
    "💃 = 00  \n",
    "⛹ = 01  \n",
    "🚴 = 10  \n",
    "🕴 = 11  "
   ]
  },
  {
   "cell_type": "markdown",
   "metadata": {},
   "source": [
    "------\n",
    "X = {🤓, 🤔, 😱, 😡}\n",
    "\n",
    "With the following probabilities:  \n",
    "🤓 = 1/2  \n",
    "🤔 = 1/4  \n",
    "😱 = 1/8  \n",
    "😡 = 1/8  \n",
    "\n",
    "Manually encode each of the values into bits. Pick an encoding that reflects the probability distribution."
   ]
  },
  {
   "cell_type": "markdown",
   "metadata": {},
   "source": [
    "__Solution__:  \n",
    "🤓 = 0  \n",
    "🤔 = 10  \n",
    "😱 = 110  \n",
    "😡 = 111  "
   ]
  },
  {
   "cell_type": "markdown",
   "metadata": {},
   "source": [
    "----\n",
    "dit package\n",
    "-----\n",
    "\n",
    "dit is a Python package for information theory.\n",
    "\n",
    "[RTFM](http://docs.dit.io/en/latest/)\n",
    "\n"
   ]
  },
  {
   "cell_type": "markdown",
   "metadata": {},
   "source": [
    "----"
   ]
  },
  {
   "cell_type": "markdown",
   "metadata": {},
   "source": [
    "Install dit package\n",
    "\n",
    "At the command line:   \n",
    "`$ pip install git+https://github.com/dit/dit/#egg=dit`"
   ]
  },
  {
   "cell_type": "code",
   "execution_count": 91,
   "metadata": {
    "collapsed": true
   },
   "outputs": [],
   "source": [
    "reset -fs"
   ]
  },
  {
   "cell_type": "code",
   "execution_count": 2,
   "metadata": {
    "collapsed": true
   },
   "outputs": [],
   "source": [
    "import dit"
   ]
  },
  {
   "cell_type": "code",
   "execution_count": 3,
   "metadata": {},
   "outputs": [
    {
     "name": "stdout",
     "output_type": "stream",
     "text": [
      "Class:          Distribution\n",
      "Alphabet:       ('🐯', '🐲', '🐶', '👹') for all rvs\n",
      "Base:           linear\n",
      "Outcome Class:  str\n",
      "Outcome Length: 1\n",
      "RV Names:       None\n",
      "\n",
      "x   p(x)\n",
      "🐯   0.25\n",
      "🐲   0.25\n",
      "🐶   0.2\n",
      "👹   0.3\n",
      "\n",
      "The probability of getting a 🐶 is: 0.2\n",
      "The probability of getting a 🐶 and 👹 is: 0.5\n"
     ]
    }
   ],
   "source": [
    "# Setup vars for dit packages\n",
    "outcomes = \"🐶 👹 🐯 🐲\".split() # Define discrete RV\n",
    "outcome_probabilities = [0.20, 0.30, 0.25, 0.25] # Created weighted outcomes\n",
    "assert sum(outcome_probabilities) == 1 # Sanity check\n",
    "d = dit.Distribution(outcomes, outcome_probabilities) # Create instance\n",
    "\n",
    "print(d)\n",
    "print()\n",
    "print(f\"The probability of getting a {outcomes[0]} is: {d[outcomes[0]]}\")\n",
    "print(f\"The probability of getting a {outcomes[0]} and {outcomes[1]} is: {d.event_probability([outcomes[0], outcomes[1]])}\")"
   ]
  },
  {
   "cell_type": "code",
   "execution_count": 4,
   "metadata": {},
   "outputs": [
    {
     "name": "stdout",
     "output_type": "stream",
     "text": [
      "The Shannon entropy of this group is: 1.9854752972273344\n"
     ]
    }
   ],
   "source": [
    "print(f\"The Shannon entropy of this group is: {dit.shannon.entropy(d)}\")"
   ]
  },
  {
   "cell_type": "markdown",
   "metadata": {},
   "source": [
    "__TODO__: Write your own Python code to calculate the Shannon entropy"
   ]
  },
  {
   "cell_type": "code",
   "execution_count": 9,
   "metadata": {
    "collapsed": true
   },
   "outputs": [],
   "source": [
    "from math import isclose\n",
    "\n",
    "assert isclose(dit.shannon.entropy(d), H)"
   ]
  },
  {
   "cell_type": "code",
   "execution_count": 10,
   "metadata": {},
   "outputs": [
    {
     "name": "stdout",
     "output_type": "stream",
     "text": [
      "1.98547529723\n"
     ]
    }
   ],
   "source": [
    "# Solution\n",
    "from numpy import log2\n",
    "\n",
    "H = 0\n",
    "\n",
    "for p in outcome_probabilities:\n",
    "    H += (p*log2(p))\n",
    "\n",
    "H = -H\n",
    "\n",
    "print(H)"
   ]
  },
  {
   "cell_type": "markdown",
   "metadata": {},
   "source": [
    "__TODO__: Change the probabilities to decrease the entropy"
   ]
  },
  {
   "cell_type": "code",
   "execution_count": 4,
   "metadata": {},
   "outputs": [
    {
     "name": "stdout",
     "output_type": "stream",
     "text": [
      "The Shannon entropy of this group is: 1.9406454496153462\n"
     ]
    }
   ],
   "source": [
    "# Solution\n",
    "outcome_probabilities = [0.35, 0.15, 0.25, 0.25]\n",
    "assert sum(outcome_probabilities) == 1\n",
    "d = dit.Distribution(outcomes, outcome_probabilities)\n",
    "print(f\"The Shannon entropy of this group is: {dit.shannon.entropy(d)}\")"
   ]
  },
  {
   "cell_type": "markdown",
   "metadata": {},
   "source": [
    "__TODO__: Change the probabilities to increase the entropy"
   ]
  },
  {
   "cell_type": "code",
   "execution_count": 12,
   "metadata": {},
   "outputs": [
    {
     "name": "stdout",
     "output_type": "stream",
     "text": [
      "The Shannon entropy of this group is: 1.9994227679976009\n"
     ]
    }
   ],
   "source": [
    "# Solution\n",
    "outcome_probabilities = [0.26, 0.24, 0.25, 0.25]\n",
    "assert sum(outcome_probabilities) == 1\n",
    "d = dit.Distribution(outcomes, outcome_probabilities)\n",
    "print(f\"The Shannon entropy of this group is: {dit.shannon.entropy(d)}\")"
   ]
  },
  {
   "cell_type": "markdown",
   "metadata": {},
   "source": [
    "__TODO__: Change the probabilities to have maximum entropy"
   ]
  },
  {
   "cell_type": "code",
   "execution_count": 13,
   "metadata": {},
   "outputs": [
    {
     "name": "stdout",
     "output_type": "stream",
     "text": [
      "The Shannon entropy of this group is: 2.0\n"
     ]
    }
   ],
   "source": [
    "# Solution\n",
    "outcome_probabilities = [0.25, 0.25, 0.25, 0.25]\n",
    "assert sum(outcome_probabilities) == 1\n",
    "d = dit.Distribution(outcomes, outcome_probabilities)\n",
    "print(f\"The Shannon entropy of this group is: {dit.shannon.entropy(d)}\")"
   ]
  },
  {
   "cell_type": "markdown",
   "metadata": {
    "collapsed": true
   },
   "source": [
    "__TODO__: Change the probabilities to have minimum entropy"
   ]
  },
  {
   "cell_type": "code",
   "execution_count": 5,
   "metadata": {},
   "outputs": [
    {
     "name": "stdout",
     "output_type": "stream",
     "text": [
      "The Shannon entropy of this group is: 0.0\n"
     ]
    }
   ],
   "source": [
    "# Solution\n",
    "outcome_probabilities = [1, 0, 0, 0]\n",
    "assert sum(outcome_probabilities) == 1\n",
    "d = dit.Distribution(outcomes, outcome_probabilities)\n",
    "print(f\"The Shannon entropy of this group is: {dit.shannon.entropy(d)}\")"
   ]
  },
  {
   "cell_type": "markdown",
   "metadata": {
    "collapsed": true
   },
   "source": [
    "-----"
   ]
  }
 ],
 "metadata": {
  "anaconda-cloud": {},
  "kernelspec": {
   "display_name": "Python 3",
   "language": "python",
   "name": "python3"
  },
  "language_info": {
   "codemirror_mode": {
    "name": "ipython",
    "version": 3
   },
   "file_extension": ".py",
   "mimetype": "text/x-python",
   "name": "python",
   "nbconvert_exporter": "python",
   "pygments_lexer": "ipython3",
   "version": "3.6.1"
  }
 },
 "nbformat": 4,
 "nbformat_minor": 1
}
