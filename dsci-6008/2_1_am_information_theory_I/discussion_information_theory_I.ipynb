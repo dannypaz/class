{
 "cells": [
  {
   "cell_type": "markdown",
   "metadata": {
    "slideshow": {
     "slide_type": "slide"
    }
   },
   "source": [
    "What are all the ways to translate English into Binary? <br>What is the best way? <br>What would be a good measure of \"best-ness\"?\n",
    "-----\n",
    "\n",
    "(Brian came up with 4 ways)"
   ]
  },
  {
   "cell_type": "markdown",
   "metadata": {
    "slideshow": {
     "slide_type": "slide"
    }
   },
   "source": [
    "1 hot encoding\n",
    "------\n",
    "\n",
    "A 0000000000000000000000000  \n",
    "B 0000000000000000000000001  \n",
    "C 0000000000000000000000010  \n",
    "…  \n",
    "Z 1000000000000000000000000  "
   ]
  },
  {
   "cell_type": "markdown",
   "metadata": {
    "slideshow": {
     "slide_type": "slide"
    }
   },
   "source": [
    "<center><img src=\"http://littlebinsforlittlehands.com/wp-content/uploads/2015/12/ASCII-Binary-Alphabet-Coding-for-Kids-Activity-4-680x880.jpg\" height=\"500\"/></center>"
   ]
  },
  {
   "cell_type": "code",
   "execution_count": 1,
   "metadata": {
    "slideshow": {
     "slide_type": "slide"
    }
   },
   "outputs": [
    {
     "data": {
      "text/plain": [
       "'0b1100001'"
      ]
     },
     "execution_count": 1,
     "metadata": {},
     "output_type": "execute_result"
    }
   ],
   "source": [
    "# Convert ASCII to binary\n",
    "bin(int.from_bytes('a'.encode(), 'big'))"
   ]
  },
  {
   "cell_type": "markdown",
   "metadata": {
    "slideshow": {
     "slide_type": "slide"
    }
   },
   "source": [
    "<center><img src=\"https://upload.wikimedia.org/wikipedia/commons/thumb/b/b5/International_Morse_Code.svg/1200px-International_Morse_Code.svg.png\" height=\"500\"/></center>"
   ]
  },
  {
   "cell_type": "markdown",
   "metadata": {
    "slideshow": {
     "slide_type": "slide"
    }
   },
   "source": [
    "What is the efficency?\n",
    "----\n",
    "\n",
    "- 1-hot\n",
    "- ASCII\n",
    "- Morse"
   ]
  },
  {
   "cell_type": "markdown",
   "metadata": {
    "slideshow": {
     "slide_type": "fragment"
    }
   },
   "source": [
    "<br>\n",
    "__Is there more efficent encoding of letters into binary?__"
   ]
  },
  {
   "cell_type": "markdown",
   "metadata": {
    "slideshow": {
     "slide_type": "slide"
    }
   },
   "source": [
    "Hoffman encoding\n",
    "------\n",
    "\n",
    "<center><img src=\"http://lh5.ggpht.com/-SXfsAFiJTJM/UKk4yVwewoI/AAAAAAAAB9I/AAlY_q1bRk4/clip_image007_thumb%25255B1%25255D.gif?imgmax=800\" height=\"500\"/></center>"
   ]
  },
  {
   "cell_type": "markdown",
   "metadata": {
    "slideshow": {
     "slide_type": "slide"
    }
   },
   "source": [
    "[Huffman encoding animation](https://people.ok.ubc.ca/ylucet/DS/Huffman.html)\n",
    "\n",
    "What data structures do we need to implement a Huffman encoding?"
   ]
  },
  {
   "cell_type": "markdown",
   "metadata": {
    "slideshow": {
     "slide_type": "slide"
    }
   },
   "source": [
    "Counter and Balancing Binary Tree / Priority Queue "
   ]
  },
  {
   "cell_type": "code",
   "execution_count": 33,
   "metadata": {
    "collapsed": true,
    "slideshow": {
     "slide_type": "skip"
    }
   },
   "outputs": [],
   "source": [
    "reset -fs"
   ]
  },
  {
   "cell_type": "code",
   "execution_count": 2,
   "metadata": {
    "collapsed": true,
    "slideshow": {
     "slide_type": "slide"
    }
   },
   "outputs": [],
   "source": [
    "# HT: https://rosettacode.org/wiki/Huffman_coding#Python\n",
    "from heapq import heappush, heappop, heapify\n",
    "\n",
    "def encode(symbol_frequency_dict):\n",
    "    \"Huffman encode the given dictionary mapping of symbols and weights,\"\n",
    "    heap = [[wieght, [symbol, \"\"]] for symbol, wieght in symbol_frequency_dict.items()]\n",
    "    heapify(heap)\n",
    "    while len(heap) > 1:\n",
    "        low = heappop(heap)\n",
    "        high = heappop(heap)\n",
    "        for pair in low[1:]:\n",
    "            pair[1] = '0' + pair[1]\n",
    "        for pair in high[1:]:\n",
    "            pair[1] = '1' + pair[1]\n",
    "        heappush(heap, [low[0] + high[0]] + low[1:] + high[1:])\n",
    "    return sorted(heappop(heap)[1:], key=lambda p: (len(p[-1]), p))"
   ]
  },
  {
   "cell_type": "code",
   "execution_count": 6,
   "metadata": {
    "slideshow": {
     "slide_type": "slide"
    }
   },
   "outputs": [
    {
     "name": "stdout",
     "output_type": "stream",
     "text": [
      "Symbol\tWeight\tHuffman Code\n",
      "u\t1\t0000\n",
      "v\t1\t0001\n",
      "w\t1\t0010\n",
      "x\t1\t0011\n",
      "y\t1\t0100\n",
      "z\t1\t0101\n",
      "a\t1\t01100\n",
      "b\t1\t01101\n",
      "c\t1\t01110\n",
      "d\t1\t01111\n",
      "e\t1\t10000\n",
      "f\t1\t10001\n",
      "g\t1\t10010\n",
      "h\t1\t10011\n",
      "i\t1\t10100\n",
      "j\t1\t10101\n",
      "k\t1\t10110\n",
      "l\t1\t10111\n",
      "m\t1\t11000\n",
      "n\t1\t11001\n",
      "o\t1\t11010\n",
      "p\t1\t11011\n",
      "q\t1\t11100\n",
      "r\t1\t11101\n",
      "s\t1\t11110\n",
      "t\t1\t11111\n"
     ]
    }
   ],
   "source": [
    "from collections import Counter\n",
    "from string import ascii_lowercase as letters \n",
    "    \n",
    "# message = \"ab\"\n",
    "# message = \"abc\"\n",
    "# message = \"abcc\"\n",
    "message = letters\n",
    "# message = open('/Users/brian/Desktop/shakespeare_all.txt', encoding='utf-8').read().lower().replace(\"\\n\", \"\")\n",
    "symbol_frequency_dict = Counter(message)\n",
    "\n",
    "huffman = encode(symbol_frequency_dict)\n",
    "\n",
    "print(\"Symbol\\tWeight\\tHuffman Code\")\n",
    "for symbol, encoding in huffman:\n",
    "    print(f\"{symbol}\\t{symbol_frequency_dict[symbol]}\\t{encoding}\")"
   ]
  },
  {
   "cell_type": "markdown",
   "metadata": {
    "slideshow": {
     "slide_type": "slide"
    }
   },
   "source": [
    "Shakespeare encoding\n",
    "-----\n",
    "```\n",
    "Symbol\tWeight\tHuffman Code\n",
    " \t1281600\t10\n",
    "a\t288594\t0011\n",
    "e\t446147\t1110\n",
    "i\t253327\t0001\n",
    "o\t313890\t0101\n",
    "s\t248518\t0000\n",
    "t\t328987\t0111\n",
    "d\t149127\t01001\n",
    "h\t236585\t11011\n",
    "l\t169658\t01101\n",
    "n\t242749\t11111\n",
    "r\t237250\t11110\n",
    "u\t128697\t00101\n",
    ",\t83064\t110000\n",
    ".\t77922\t011000\n",
    "b\t61786\t001000\n",
    "c\t87839\t110001\n",
    "f\t80333\t011001\n",
    "g\t68054\t010000\n",
    "m\t111222\t110101\n",
    "w\t89286\t110010\n",
    "y\t94173\t110011\n",
    "'\t31067\t0010010\n",
    "k\t35362\t0100010\n",
    "p\t58249\t1101001\n",
    "v\t37496\t0100011\n",
    ";\t17194\t00100111\n",
    "!\t8827\t110100000\n",
    "-\t8058\t001001101\n",
    "?\t10475\t110100010\n",
    "j\t4752\t1101000011\n",
    "q\t3577\t0010011000\n",
    "x\t5217\t1101000110\n",
    ":\t1810\t00100110010\n",
    "[\t2071\t11010000101\n",
    "]\t2063\t11010000100\n",
    "1\t891\t001001100110\n",
    "9\t921\t001001100111\n",
    "z\t1626\t110100011110\n",
    "(\t599\t1101000111011\n",
    ")\t598\t1101000111010\n",
    "<\t462\t1101000111000\n",
    "\"\t450\t11010001111111\n",
    "0\t261\t11010001110010\n",
    "2\t340\t11010001111100\n",
    "3\t316\t11010001110011\n",
    ">\t434\t11010001111110\n",
    "4\t88\t1101000111110101\n",
    "5\t78\t1101000111110100\n",
    "6\t58\t11010001111101100\n",
    "_\t68\t11010001111101110\n",
    "7\t37\t110100011111011111\n",
    "8\t33\t110100011111011011\n",
    "|\t33\t110100011111011110\n",
    "&\t21\t1101000111110110101\n",
    "}\t2\t11010001111101101001\n",
    "`\t1\t110100011111011010000\n",
    "﻿\t1\t110100011111011010001\n",
    "    ```"
   ]
  },
  {
   "cell_type": "markdown",
   "metadata": {
    "slideshow": {
     "slide_type": "slide"
    }
   },
   "source": [
    "Why are efficient encodings useful?\n",
    "------"
   ]
  },
  {
   "cell_type": "markdown",
   "metadata": {
    "slideshow": {
     "slide_type": "fragment"
    }
   },
   "source": [
    "Symbols are take up a lot of space. \"Strings are heavy\". \n",
    "\n",
    "(Weighted) numerical representations are better."
   ]
  },
  {
   "cell_type": "markdown",
   "metadata": {
    "slideshow": {
     "slide_type": "fragment"
    }
   },
   "source": [
    "[Learn more about word2vec and Hoffman encodings](http://www.trevorsimonton.com/blog/2016/12/15/huffman-tree-in-word2vec.html)"
   ]
  },
  {
   "cell_type": "markdown",
   "metadata": {
    "slideshow": {
     "slide_type": "slide"
    }
   },
   "source": [
    " "
   ]
  }
 ],
 "metadata": {
  "celltoolbar": "Slideshow",
  "kernelspec": {
   "display_name": "Python 3",
   "language": "python",
   "name": "python3"
  },
  "language_info": {
   "codemirror_mode": {
    "name": "ipython",
    "version": 3
   },
   "file_extension": ".py",
   "mimetype": "text/x-python",
   "name": "python",
   "nbconvert_exporter": "python",
   "pygments_lexer": "ipython3",
   "version": "3.6.1"
  }
 },
 "nbformat": 4,
 "nbformat_minor": 2
}
