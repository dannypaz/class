{
 "cells": [
  {
   "cell_type": "markdown",
   "metadata": {},
   "source": [
    "Recall this worked example:"
   ]
  },
  {
   "cell_type": "code",
   "execution_count": 57,
   "metadata": {
    "collapsed": true
   },
   "outputs": [],
   "source": [
    "from math import factorial"
   ]
  },
  {
   "cell_type": "code",
   "execution_count": 229,
   "metadata": {
    "collapsed": true
   },
   "outputs": [],
   "source": [
    "import matplotlib.pyplot as plt\n",
    "from math import pi"
   ]
  },
  {
   "cell_type": "code",
   "execution_count": 219,
   "metadata": {},
   "outputs": [
    {
     "name": "stdout",
     "output_type": "stream",
     "text": [
      "Populating the interactive namespace from numpy and matplotlib\n",
      "245.567146948 250.00000000000006\n"
     ]
    },
    {
     "name": "stderr",
     "output_type": "stream",
     "text": [
      "/Users/jonathanhilgart/anaconda/envs/stats/lib/python3.6/site-packages/IPython/core/magics/pylab.py:160: UserWarning: pylab import has clobbered these variables: ['mean', 'f', 'var', 'pi']\n",
      "`%matplotlib` prevents importing * from pylab and numpy\n",
      "  \"\\n`%matplotlib` prevents importing * from pylab and numpy\"\n"
     ]
    }
   ],
   "source": [
    "import numpy as np\n",
    "import scipy.integrate as integrate\n",
    "import scipy as scipy\n",
    "import scipy.stats as stats\n",
    "import seaborn as sns\n",
    "%pylab inline\n",
    "def f(x): return x**3\n",
    "\n",
    "given_area = integrate.quad(f, 0, 10)[0]\n",
    "given_mean = given_area / 10.\n",
    "\n",
    "samples = f(np.random.uniform(0, 10, 1000))\n",
    "approx_mean = np.mean(samples)\n",
    "approx_area = approx_mean * 10\n",
    "\n",
    "print(approx_mean, given_mean)"
   ]
  },
  {
   "cell_type": "markdown",
   "metadata": {},
   "source": [
    "Let's practice. Following the example above, calculate the mean value and total value of the following integrals:\n",
    "\n",
    "$A = \\int_{5}^{15} x^3 dx$\n",
    "\n",
    "$B = \\int_{0}^{7} x! dx$\n",
    "\n",
    "$C = \\int_{-5}^{5} 1/\\pi^x dx$\n",
    "\n",
    "You may develop reusable functions to keep your code clean."
   ]
  },
  {
   "cell_type": "raw",
   "metadata": {},
   "source": []
  },
  {
   "cell_type": "code",
   "execution_count": 182,
   "metadata": {
    "collapsed": true
   },
   "outputs": [],
   "source": [
    "def analytic_integral(a,b,function ):\n",
    "    \"\"\"Return area, mean\"\"\"\n",
    "    area = integrate.quad(function,a,b)[0]\n",
    "    mean = area / (b-a)\n",
    "    return area , mean"
   ]
  },
  {
   "cell_type": "code",
   "execution_count": 142,
   "metadata": {},
   "outputs": [],
   "source": [
    "def mci_integral(a,b,function, samples = 1000):\n",
    "    \"\"\"Return the area , mean\"\"\"\n",
    "    samples = function(np.random.uniform(a,b,samples))\n",
    "    apr_mean = np.mean(samples)\n",
    "    apr_area = apr_mean * (b-a)\n",
    "    return  apr_area, apr_mean"
   ]
  },
  {
   "cell_type": "code",
   "execution_count": 48,
   "metadata": {
    "collapsed": true
   },
   "outputs": [],
   "source": [
    "a = lambda x: x**3"
   ]
  },
  {
   "cell_type": "code",
   "execution_count": 68,
   "metadata": {
    "collapsed": true
   },
   "outputs": [],
   "source": [
    "b = lambda x: scipy.special.gamma(x+1)"
   ]
  },
  {
   "cell_type": "code",
   "execution_count": 74,
   "metadata": {
    "collapsed": true
   },
   "outputs": [],
   "source": [
    "c = lambda x: 1/(pi**x)"
   ]
  },
  {
   "cell_type": "code",
   "execution_count": 69,
   "metadata": {},
   "outputs": [
    {
     "name": "stdout",
     "output_type": "stream",
     "text": [
      " the mean of function A under analytic is 1250.0000000000002\n"
     ]
    }
   ],
   "source": [
    "print(f\" the mean of function A under analytic is {analytic_integral(5,15,a)[1]}\")"
   ]
  },
  {
   "cell_type": "code",
   "execution_count": 70,
   "metadata": {},
   "outputs": [
    {
     "name": "stdout",
     "output_type": "stream",
     "text": [
      " the mean of function  A under MCI is 1235.153890198786\n"
     ]
    }
   ],
   "source": [
    "print(f\" the mean of function  A under MCI is {mci_integral(5,15,a)[1]}\")"
   ]
  },
  {
   "cell_type": "code",
   "execution_count": 71,
   "metadata": {},
   "outputs": [
    {
     "name": "stdout",
     "output_type": "stream",
     "text": [
      " the mean of function B under analytic is 371.8912613326633\n"
     ]
    }
   ],
   "source": [
    "print(f\" the mean of function B under analytic is {analytic_integral(0,7,b)[1]}\")"
   ]
  },
  {
   "cell_type": "code",
   "execution_count": 79,
   "metadata": {},
   "outputs": [
    {
     "name": "stdout",
     "output_type": "stream",
     "text": [
      " the mean of function  B under MCI is 377.34207354683997\n"
     ]
    }
   ],
   "source": [
    "print(f\" the mean of function  B under MCI is {mci_integral(0,7,b)[1]}\")"
   ]
  },
  {
   "cell_type": "code",
   "execution_count": 75,
   "metadata": {},
   "outputs": [
    {
     "name": "stdout",
     "output_type": "stream",
     "text": [
      " the mean of function C under analytic is 26.732631060345852\n"
     ]
    }
   ],
   "source": [
    "print(f\" the mean of function C under analytic is {analytic_integral(-5,5,c)[1]}\")"
   ]
  },
  {
   "cell_type": "code",
   "execution_count": 76,
   "metadata": {},
   "outputs": [
    {
     "name": "stdout",
     "output_type": "stream",
     "text": [
      " the mean of function  C under MCI is 24.3491333492297\n"
     ]
    }
   ],
   "source": [
    "print(f\" the mean of function  C under MCI is {mci_integral(-5,5,c)[1]}\")"
   ]
  },
  {
   "cell_type": "code",
   "execution_count": null,
   "metadata": {
    "collapsed": true
   },
   "outputs": [],
   "source": []
  },
  {
   "cell_type": "markdown",
   "metadata": {},
   "source": [
    "Now, let's move on to statistical distributions.\n",
    "\n",
    "Use the `numpy.random` package to find your samplers."
   ]
  },
  {
   "cell_type": "markdown",
   "metadata": {},
   "source": [
    "Create a standard normal distribution and use Monte Carlo integration to approximate the expectation. Use a sample size of 10000."
   ]
  },
  {
   "cell_type": "code",
   "execution_count": 119,
   "metadata": {
    "collapsed": true
   },
   "outputs": [],
   "source": [
    "mu = 0\n",
    "var =1"
   ]
  },
  {
   "cell_type": "code",
   "execution_count": 129,
   "metadata": {
    "collapsed": true
   },
   "outputs": [],
   "source": [
    "normal_dist = lambda x: stats.norm().rvs(x)"
   ]
  },
  {
   "cell_type": "code",
   "execution_count": 136,
   "metadata": {},
   "outputs": [],
   "source": [
    "samples = normal_dist(10_000)"
   ]
  },
  {
   "cell_type": "code",
   "execution_count": 137,
   "metadata": {},
   "outputs": [
    {
     "name": "stdout",
     "output_type": "stream",
     "text": [
      "The  MCI mean of the normal with mu =0 and var = 1 =  -0.0008197593796883739\n"
     ]
    }
   ],
   "source": [
    "print(f\"The  MCI mean of the normal with mu ={mu} and var = {var} =  {np.mean(samples)}\")"
   ]
  },
  {
   "cell_type": "code",
   "execution_count": null,
   "metadata": {
    "collapsed": true
   },
   "outputs": [],
   "source": []
  },
  {
   "cell_type": "markdown",
   "metadata": {},
   "source": [
    "Now, do the same with a normal distribution with a larger mean and variance."
   ]
  },
  {
   "cell_type": "code",
   "execution_count": 109,
   "metadata": {
    "collapsed": true
   },
   "outputs": [],
   "source": [
    "mu_2 = 10\n",
    "var_2 =20"
   ]
  },
  {
   "cell_type": "code",
   "execution_count": 110,
   "metadata": {
    "collapsed": true
   },
   "outputs": [],
   "source": [
    "normal_dist_2 = lambda x: stats.norm(mu_2,var_2).rvs(x)"
   ]
  },
  {
   "cell_type": "code",
   "execution_count": 114,
   "metadata": {
    "collapsed": true
   },
   "outputs": [],
   "source": [
    "samples_2 = normal_dist_2(10_000)"
   ]
  },
  {
   "cell_type": "code",
   "execution_count": 115,
   "metadata": {},
   "outputs": [
    {
     "name": "stdout",
     "output_type": "stream",
     "text": [
      "The  MCI mean of the normal with mu =10 and var = 20 =  10.171464811826608\n"
     ]
    }
   ],
   "source": [
    "print(f\"The  MCI mean of the normal with mu ={mu_2} and var = {var_2} =  {np.mean(samples_2)}\")"
   ]
  },
  {
   "cell_type": "markdown",
   "metadata": {},
   "source": [
    "What is the relationship between the correctness of this approximation and increases in variance of the normal distribution? Why do you think that is? (You may need to experiment with more parameter settings to discover this relationship.)"
   ]
  },
  {
   "cell_type": "markdown",
   "metadata": {
    "collapsed": true
   },
   "source": [
    "- As the variance increases, the approximation using the MCI method decreases in precision. This is because there is a larger range of numbers to sample from. Sampling takes points that have a higher probability of being picked. Therefore, with a larger variance, there is a larger spread of poitns to choose from."
   ]
  },
  {
   "cell_type": "code",
   "execution_count": null,
   "metadata": {
    "collapsed": true
   },
   "outputs": [],
   "source": []
  },
  {
   "cell_type": "code",
   "execution_count": null,
   "metadata": {
    "collapsed": true
   },
   "outputs": [],
   "source": []
  },
  {
   "cell_type": "markdown",
   "metadata": {},
   "source": [
    "The standard error of our Monte Carlo estimate is:\n",
    "    \n",
    "$$\\widehat{se} = \\frac{s}{\\sqrt{N}}$$\n",
    "    \n",
    "Where\n",
    "    $$s^2 = \\frac{\\sum_{i=1}^{N}(S_i - \\widehat{E})^2}{N - 1}$$\n",
    "    and $\\widehat{E}$ is our estimate of the mean,\n",
    "    $N$ is the number of samples we've collected, and\n",
    "    $S$ is the array of samples that we've collected.\n",
    "    \n",
    "\n",
    "Implement the standard error function."
   ]
  },
  {
   "cell_type": "code",
   "execution_count": 139,
   "metadata": {
    "collapsed": true
   },
   "outputs": [],
   "source": [
    "se = lambda sample_sd, n: sample_sd / np.sqrt(n)"
   ]
  },
  {
   "cell_type": "code",
   "execution_count": 184,
   "metadata": {},
   "outputs": [],
   "source": [
    "def sigma_squarred(samples,mean):\n",
    "    return np.sum([((i-mean)**2) for i in samples])/(len(samples)-1)"
   ]
  },
  {
   "cell_type": "markdown",
   "metadata": {},
   "source": [
    "Now, returning to a simple calculus example, calculate the MC mean and standard error of the MC mean of the following integral:\n",
    "\n",
    "$$I = \\int_{0}^{2} x^3 dx$$"
   ]
  },
  {
   "cell_type": "code",
   "execution_count": 185,
   "metadata": {},
   "outputs": [
    {
     "data": {
      "text/plain": [
       "(4.0, 2.0)"
      ]
     },
     "execution_count": 185,
     "metadata": {},
     "output_type": "execute_result"
    }
   ],
   "source": [
    "analytic_integral(0,2,a)"
   ]
  },
  {
   "cell_type": "code",
   "execution_count": 192,
   "metadata": {},
   "outputs": [],
   "source": [
    "area,mean = mci_integral(0,2,a)"
   ]
  },
  {
   "cell_type": "code",
   "execution_count": 193,
   "metadata": {},
   "outputs": [
    {
     "data": {
      "text/plain": [
       "1.9349098521329593"
      ]
     },
     "execution_count": 193,
     "metadata": {},
     "output_type": "execute_result"
    }
   ],
   "source": [
    "mean"
   ]
  },
  {
   "cell_type": "code",
   "execution_count": 188,
   "metadata": {
    "collapsed": true
   },
   "outputs": [],
   "source": [
    "samples = 1000"
   ]
  },
  {
   "cell_type": "code",
   "execution_count": 189,
   "metadata": {},
   "outputs": [],
   "source": [
    "var  = sigma_squarred(np.linspace(0,2,samples),mean)"
   ]
  },
  {
   "cell_type": "code",
   "execution_count": 190,
   "metadata": {},
   "outputs": [
    {
     "name": "stdout",
     "output_type": "stream",
     "text": [
      "The var is 0.9989053496562367\n"
     ]
    }
   ],
   "source": [
    "print(f\"The var is {var}\")"
   ]
  },
  {
   "cell_type": "code",
   "execution_count": 191,
   "metadata": {},
   "outputs": [
    {
     "name": "stdout",
     "output_type": "stream",
     "text": [
      "The se is 0.031605463920914637\n"
     ]
    }
   ],
   "source": [
    "print(f\"The se is {se(np.sqrt(var),samples)}\")"
   ]
  },
  {
   "cell_type": "code",
   "execution_count": null,
   "metadata": {
    "collapsed": true
   },
   "outputs": [],
   "source": []
  },
  {
   "cell_type": "markdown",
   "metadata": {},
   "source": [
    "Now, a natural question is: what is the relationship between correctness and sample size?\n",
    "\n",
    "We expect the estimate to become more correct with more samples. But, at what rate?\n",
    "\n",
    "1. Using a normal distribution, collect MC runs using increasing numbers of samples (you should only need to collect data of the shape [n_samples, standard_error]).\n",
    "\n",
    "2. Collect enough data that you can plot or otherwise visualize the relationship between sample size and standard error.\n",
    "\n",
    "3. Posit a relationship between sample size and standard error.\n",
    "\n",
    "4. Fit a linear regression to your data to defend your argument (where the (possibly transformed) number of samples predicts the standard error)."
   ]
  },
  {
   "cell_type": "code",
   "execution_count": 215,
   "metadata": {
    "collapsed": true
   },
   "outputs": [],
   "source": [
    "def sample_size_se(func, range_of_samples=[10,100,1000,10_000,100_000,1_000_000,10_000_000], \n",
    "                   range_=(-10,10)):\n",
    "    \"\"\"Calculate the SE using MCI for the number of samples\"\"\"\n",
    "    samples_se = []\n",
    "    for sample_size in range_of_samples:\n",
    "        print(f\"Starting sample size = {sample_size}\")\n",
    "        samples = func(sample_size)\n",
    "        mean = np.mean(samples)\n",
    "        var = sigma_squarred(np.linspace(range_[0],range_[1],sample_size),mean)\n",
    "        standard_error = se(np.sqrt(var),len(samples))\n",
    "        samples_se.append((sample_size,standard_error))\n",
    "    return samples_se"
   ]
  },
  {
   "cell_type": "code",
   "execution_count": 216,
   "metadata": {},
   "outputs": [
    {
     "name": "stdout",
     "output_type": "stream",
     "text": [
      "Starting sample size = 10\n",
      "Starting sample size = 100\n",
      "Starting sample size = 1000\n",
      "Starting sample size = 10000\n",
      "Starting sample size = 100000\n",
      "Starting sample size = 1000000\n",
      "Starting sample size = 10000000\n"
     ]
    }
   ],
   "source": [
    "data = sample_size_se(normal_dist)"
   ]
  },
  {
   "cell_type": "code",
   "execution_count": 217,
   "metadata": {},
   "outputs": [
    {
     "data": {
      "text/plain": [
       "[(10, 2.1279226867137697),\n",
       " (100, 0.58610306517547461),\n",
       " (1000, 0.18285140855391094),\n",
       " (10000, 0.057743764099039981),\n",
       " (100000, 0.018257692765167814),\n",
       " (1000000, 0.0057735113849327222),\n",
       " (10000000, 0.0018257421324479458)]"
      ]
     },
     "execution_count": 217,
     "metadata": {},
     "output_type": "execute_result"
    }
   ],
   "source": [
    "data"
   ]
  },
  {
   "cell_type": "code",
   "execution_count": null,
   "metadata": {
    "collapsed": true
   },
   "outputs": [],
   "source": [
    "plt."
   ]
  },
  {
   "cell_type": "code",
   "execution_count": 232,
   "metadata": {},
   "outputs": [
    {
     "data": {
      "text/plain": [
       "<matplotlib.text.Text at 0x119b12ef0>"
      ]
     },
     "execution_count": 232,
     "metadata": {},
     "output_type": "execute_result"
    },
    {
     "data": {
      "image/png": "[encoded data removed]",
      "text/plain": [
       "<matplotlib.figure.Figure at 0x119c151d0>"
      ]
     },
     "metadata": {},
     "output_type": "display_data"
    }
   ],
   "source": [
    "plt.figure(figsize=(10,8))\n",
    "plt.loglog(np.array( [i[0] for i in data]), np.array( [i[1] for i in data]))\n",
    "plt.xlabel('sample size')\n",
    "plt.ylabel('Standard Error')"
   ]
  },
  {
   "cell_type": "code",
   "execution_count": 404,
   "metadata": {},
   "outputs": [
    {
     "data": {
      "text/plain": [
       "<matplotlib.axes._subplots.AxesSubplot at 0x1196519b0>"
      ]
     },
     "execution_count": 404,
     "metadata": {},
     "output_type": "execute_result"
    },
    {
     "data": {
      "image/png": "[encoded data removed]",
      "text/plain": [
       "<matplotlib.figure.Figure at 0x1198d6d30>"
      ]
     },
     "metadata": {},
     "output_type": "display_data"
    }
   ],
   "source": [
    "sns.regplot(np.array( [i[0] for i in data]), np.array( [i[1] for i in data]))"
   ]
  },
  {
   "cell_type": "markdown",
   "metadata": {},
   "source": [
    "Finally, let us examine how naïve Monte Carlo methods may be inadequate in certain situations.\n",
    "\n",
    "Suppose we want to estimate the expectation of a random variable $Y$ that has the following form:\n",
    "\n",
    "$$\n",
    "    Y \\sim \n",
    "\\begin{cases}\n",
    "    X              & \\text{if } X \\in [1, 3]\\\\\n",
    "    0              & \\text{otherwise}\n",
    "\\end{cases}\n",
    "$$\n",
    "\n",
    "$$\n",
    "    X \\sim \\mathcal{N}(0, 1)\n",
    "$$\n",
    "\n",
    "The key idea here is that we cannot sample directly from $Y$. We must instead sample from $X$, then filter its results to be within the range $[1, 3]$.\n",
    "\n",
    "1. Create a function to sample from the random variable Y. It should be based on sampling of the normal distribution.\n",
    "2. Use Monte Carlo integration to estimate $E[Y]$.\n",
    "3. Now, create a random variable $Y2$ that is like $Y$, but the predicate selects for $X \\in [1,2]$.\n",
    "4. What happens to the quality of our estimate? Does the error change?\n",
    "5. What, if anything, does this imply about when we should choose to use Monte Carlo integration?"
   ]
  },
  {
   "cell_type": "code",
   "execution_count": 304,
   "metadata": {},
   "outputs": [],
   "source": [
    "def y(func,samples):\n",
    "    s = normal_dist(samples)\n",
    "    filtered_samples = np.where((s>=1) & (s<=3),s,0)\n",
    "    return filtered_samples"
   ]
  },
  {
   "cell_type": "code",
   "execution_count": 340,
   "metadata": {
    "collapsed": true
   },
   "outputs": [],
   "source": [
    "def y_2(func,samples):\n",
    "    s = normal_dist(samples)\n",
    "    filtered_samples = np.where((s>=1) & (s<=2),s,0)\n",
    "    return filtered_samples"
   ]
  },
  {
   "cell_type": "code",
   "execution_count": 306,
   "metadata": {
    "collapsed": true
   },
   "outputs": [],
   "source": [
    "def mci_integral_adapted(a,b,function):\n",
    "    \"\"\"Return the area , mean\"\"\"\n",
    "    samples = function\n",
    "    apr_mean = np.mean(samples)\n",
    "    apr_area = apr_mean * (b-a)\n",
    "    return  apr_area, apr_mean"
   ]
  },
  {
   "cell_type": "code",
   "execution_count": 406,
   "metadata": {
    "collapsed": true
   },
   "outputs": [],
   "source": [
    "samples_n = 10_000"
   ]
  },
  {
   "cell_type": "code",
   "execution_count": 407,
   "metadata": {},
   "outputs": [],
   "source": [
    "area_n, mean_n = mci_integral_adapted(-10,10,y(normal_dist,samples_n))"
   ]
  },
  {
   "cell_type": "code",
   "execution_count": 408,
   "metadata": {},
   "outputs": [
    {
     "name": "stdout",
     "output_type": "stream",
     "text": [
      "The expected value of Y_one = 0.23925217026652648 with samples = 10000\n"
     ]
    }
   ],
   "source": [
    "print(f\"The expected value of Y_one = {mean_n} with samples = {samples_n}\")"
   ]
  },
  {
   "cell_type": "code",
   "execution_count": 409,
   "metadata": {
    "collapsed": true
   },
   "outputs": [],
   "source": [
    "area_n_y2, mean_n_y2 = mci_integral_adapted(-100,100,y_2(normal_dist,samples_n))"
   ]
  },
  {
   "cell_type": "code",
   "execution_count": 410,
   "metadata": {},
   "outputs": [
    {
     "name": "stdout",
     "output_type": "stream",
     "text": [
      "The expected value of Y_two = 0.1872335333839317 with samples = 10000\n"
     ]
    }
   ],
   "source": [
    "print(f\"The expected value of Y_two = {mean_n_y2} with samples = {samples_n}\")"
   ]
  },
  {
   "cell_type": "code",
   "execution_count": null,
   "metadata": {
    "collapsed": true
   },
   "outputs": [],
   "source": []
  },
  {
   "cell_type": "code",
   "execution_count": 419,
   "metadata": {},
   "outputs": [],
   "source": [
    "var_y1 = sigma_squarred(y(normal_dist,samples_n),mean_n)"
   ]
  },
  {
   "cell_type": "code",
   "execution_count": 420,
   "metadata": {},
   "outputs": [
    {
     "data": {
      "text/plain": [
       "0.33827657629392405"
      ]
     },
     "execution_count": 420,
     "metadata": {},
     "output_type": "execute_result"
    }
   ],
   "source": [
    "var_y1"
   ]
  },
  {
   "cell_type": "code",
   "execution_count": 421,
   "metadata": {},
   "outputs": [],
   "source": [
    "se_y1 = se(np.sqrt(var_y1), samples_n)"
   ]
  },
  {
   "cell_type": "code",
   "execution_count": 422,
   "metadata": {},
   "outputs": [
    {
     "name": "stdout",
     "output_type": "stream",
     "text": [
      "The SE for Y1 = 0.005816154883545692\n"
     ]
    }
   ],
   "source": [
    "print(f\"The SE for Y1 = {se_y1}\")"
   ]
  },
  {
   "cell_type": "code",
   "execution_count": 424,
   "metadata": {},
   "outputs": [
    {
     "name": "stdout",
     "output_type": "stream",
     "text": [
      "The SE for Y2 = 0.004881966721292801\n"
     ]
    }
   ],
   "source": [
    "var_y2 = sigma_squarred(y_2(normal_dist,samples_n),mean_n_y2)\n",
    "se_y2 = se(np.sqrt(var_y2), samples_n)\n",
    "print(f\"The SE for Y2 = {se_y2}\")"
   ]
  },
  {
   "cell_type": "code",
   "execution_count": 425,
   "metadata": {},
   "outputs": [
    {
     "data": {
      "text/plain": [
       "0.00093418816225289067"
      ]
     },
     "execution_count": 425,
     "metadata": {},
     "output_type": "execute_result"
    }
   ],
   "source": [
    "se_y1 - se_y2"
   ]
  },
  {
   "cell_type": "markdown",
   "metadata": {},
   "source": [
    "- The error is pretty consistent across both estimates, but the SE for the larger range is slightly larger than the SE for the smaller range. \n",
    "- If you have a smaller range, you can use MCI. Also, if you have a larger sample size you can use MCI."
   ]
  },
  {
   "cell_type": "code",
   "execution_count": null,
   "metadata": {
    "collapsed": true
   },
   "outputs": [],
   "source": []
  }
 ],
 "metadata": {
  "kernelspec": {
   "display_name": "Python 3",
   "language": "python",
   "name": "python3"
  },
  "language_info": {
   "codemirror_mode": {
    "name": "ipython",
    "version": 3
   },
   "file_extension": ".py",
   "mimetype": "text/x-python",
   "name": "python",
   "nbconvert_exporter": "python",
   "pygments_lexer": "ipython3",
   "version": "3.6.1"
  }
 },
 "nbformat": 4,
 "nbformat_minor": 2
}
