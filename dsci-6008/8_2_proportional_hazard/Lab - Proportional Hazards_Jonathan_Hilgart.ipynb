{
 "cells": [
  {
   "cell_type": "markdown",
   "metadata": {},
   "source": [
    "In this lab, we'll load a dataset and estimate its survival function using K-M.\n",
    "\n",
    "Let's load a dataset about how long politicians stay in power.\n",
    "\n",
    "We'll then examine the effect the type of government (dictatorship, democracy, etc.) has on this duration.\n",
    "\n"
   ]
  },
  {
   "cell_type": "code",
   "execution_count": 38,
   "metadata": {},
   "outputs": [],
   "source": [
    "%matplotlib inline\n",
    "import matplotlib.pyplot as plt\n",
    "import numpy as np\n",
    "import pandas as pd\n",
    "import lifelines\n",
    "\n",
    "data = lifelines.datasets.load_dd()"
   ]
  },
  {
   "cell_type": "code",
   "execution_count": 39,
   "metadata": {},
   "outputs": [
    {
     "data": {
      "text/html": [
       "<div>\n",
       "<style>\n",
       "    .dataframe thead tr:only-child th {\n",
       "        text-align: right;\n",
       "    }\n",
       "\n",
       "    .dataframe thead th {\n",
       "        text-align: left;\n",
       "    }\n",
       "\n",
       "    .dataframe tbody tr th {\n",
       "        vertical-align: top;\n",
       "    }\n",
       "</style>\n",
       "<table border=\"1\" class=\"dataframe\">\n",
       "  <thead>\n",
       "    <tr style=\"text-align: right;\">\n",
       "      <th></th>\n",
       "      <th>ctryname</th>\n",
       "      <th>cowcode2</th>\n",
       "      <th>politycode</th>\n",
       "      <th>un_region_name</th>\n",
       "      <th>un_continent_name</th>\n",
       "      <th>ehead</th>\n",
       "      <th>leaderspellreg</th>\n",
       "      <th>democracy</th>\n",
       "      <th>regime</th>\n",
       "      <th>start_year</th>\n",
       "      <th>duration</th>\n",
       "      <th>observed</th>\n",
       "    </tr>\n",
       "  </thead>\n",
       "  <tbody>\n",
       "    <tr>\n",
       "      <th>0</th>\n",
       "      <td>Afghanistan</td>\n",
       "      <td>700</td>\n",
       "      <td>700.0</td>\n",
       "      <td>Southern Asia</td>\n",
       "      <td>Asia</td>\n",
       "      <td>Mohammad Zahir Shah</td>\n",
       "      <td>Mohammad Zahir Shah.Afghanistan.1946.1952.Mona...</td>\n",
       "      <td>Non-democracy</td>\n",
       "      <td>Monarchy</td>\n",
       "      <td>1946</td>\n",
       "      <td>7</td>\n",
       "      <td>1</td>\n",
       "    </tr>\n",
       "    <tr>\n",
       "      <th>1</th>\n",
       "      <td>Afghanistan</td>\n",
       "      <td>700</td>\n",
       "      <td>700.0</td>\n",
       "      <td>Southern Asia</td>\n",
       "      <td>Asia</td>\n",
       "      <td>Sardar Mohammad Daoud</td>\n",
       "      <td>Sardar Mohammad Daoud.Afghanistan.1953.1962.Ci...</td>\n",
       "      <td>Non-democracy</td>\n",
       "      <td>Civilian Dict</td>\n",
       "      <td>1953</td>\n",
       "      <td>10</td>\n",
       "      <td>1</td>\n",
       "    </tr>\n",
       "    <tr>\n",
       "      <th>2</th>\n",
       "      <td>Afghanistan</td>\n",
       "      <td>700</td>\n",
       "      <td>700.0</td>\n",
       "      <td>Southern Asia</td>\n",
       "      <td>Asia</td>\n",
       "      <td>Mohammad Zahir Shah</td>\n",
       "      <td>Mohammad Zahir Shah.Afghanistan.1963.1972.Mona...</td>\n",
       "      <td>Non-democracy</td>\n",
       "      <td>Monarchy</td>\n",
       "      <td>1963</td>\n",
       "      <td>10</td>\n",
       "      <td>1</td>\n",
       "    </tr>\n",
       "    <tr>\n",
       "      <th>3</th>\n",
       "      <td>Afghanistan</td>\n",
       "      <td>700</td>\n",
       "      <td>700.0</td>\n",
       "      <td>Southern Asia</td>\n",
       "      <td>Asia</td>\n",
       "      <td>Sardar Mohammad Daoud</td>\n",
       "      <td>Sardar Mohammad Daoud.Afghanistan.1973.1977.Ci...</td>\n",
       "      <td>Non-democracy</td>\n",
       "      <td>Civilian Dict</td>\n",
       "      <td>1973</td>\n",
       "      <td>5</td>\n",
       "      <td>0</td>\n",
       "    </tr>\n",
       "    <tr>\n",
       "      <th>4</th>\n",
       "      <td>Afghanistan</td>\n",
       "      <td>700</td>\n",
       "      <td>700.0</td>\n",
       "      <td>Southern Asia</td>\n",
       "      <td>Asia</td>\n",
       "      <td>Nur Mohammad Taraki</td>\n",
       "      <td>Nur Mohammad Taraki.Afghanistan.1978.1978.Civi...</td>\n",
       "      <td>Non-democracy</td>\n",
       "      <td>Civilian Dict</td>\n",
       "      <td>1978</td>\n",
       "      <td>1</td>\n",
       "      <td>0</td>\n",
       "    </tr>\n",
       "  </tbody>\n",
       "</table>\n",
       "</div>"
      ],
      "text/plain": [
       "      ctryname  cowcode2  politycode un_region_name un_continent_name  \\\n",
       "0  Afghanistan       700       700.0  Southern Asia              Asia   \n",
       "1  Afghanistan       700       700.0  Southern Asia              Asia   \n",
       "2  Afghanistan       700       700.0  Southern Asia              Asia   \n",
       "3  Afghanistan       700       700.0  Southern Asia              Asia   \n",
       "4  Afghanistan       700       700.0  Southern Asia              Asia   \n",
       "\n",
       "                   ehead                                     leaderspellreg  \\\n",
       "0    Mohammad Zahir Shah  Mohammad Zahir Shah.Afghanistan.1946.1952.Mona...   \n",
       "1  Sardar Mohammad Daoud  Sardar Mohammad Daoud.Afghanistan.1953.1962.Ci...   \n",
       "2    Mohammad Zahir Shah  Mohammad Zahir Shah.Afghanistan.1963.1972.Mona...   \n",
       "3  Sardar Mohammad Daoud  Sardar Mohammad Daoud.Afghanistan.1973.1977.Ci...   \n",
       "4    Nur Mohammad Taraki  Nur Mohammad Taraki.Afghanistan.1978.1978.Civi...   \n",
       "\n",
       "       democracy         regime  start_year  duration  observed  \n",
       "0  Non-democracy       Monarchy        1946         7         1  \n",
       "1  Non-democracy  Civilian Dict        1953        10         1  \n",
       "2  Non-democracy       Monarchy        1963        10         1  \n",
       "3  Non-democracy  Civilian Dict        1973         5         0  \n",
       "4  Non-democracy  Civilian Dict        1978         1         0  "
      ]
     },
     "execution_count": 39,
     "metadata": {},
     "output_type": "execute_result"
    }
   ],
   "source": [
    "data.head()"
   ]
  },
  {
   "cell_type": "code",
   "execution_count": null,
   "metadata": {
    "collapsed": true
   },
   "outputs": [],
   "source": []
  },
  {
   "cell_type": "code",
   "execution_count": 9,
   "metadata": {},
   "outputs": [
    {
     "data": {
      "text/html": [
       "<div>\n",
       "<style>\n",
       "    .dataframe thead tr:only-child th {\n",
       "        text-align: right;\n",
       "    }\n",
       "\n",
       "    .dataframe thead th {\n",
       "        text-align: left;\n",
       "    }\n",
       "\n",
       "    .dataframe tbody tr th {\n",
       "        vertical-align: top;\n",
       "    }\n",
       "</style>\n",
       "<table border=\"1\" class=\"dataframe\">\n",
       "  <thead>\n",
       "    <tr style=\"text-align: right;\">\n",
       "      <th></th>\n",
       "      <th>ctryname</th>\n",
       "      <th>cowcode2</th>\n",
       "      <th>politycode</th>\n",
       "      <th>un_region_name</th>\n",
       "      <th>un_continent_name</th>\n",
       "      <th>ehead</th>\n",
       "      <th>leaderspellreg</th>\n",
       "      <th>democracy</th>\n",
       "      <th>regime</th>\n",
       "      <th>start_year</th>\n",
       "      <th>duration</th>\n",
       "      <th>observed</th>\n",
       "    </tr>\n",
       "  </thead>\n",
       "  <tbody>\n",
       "    <tr>\n",
       "      <th>1713</th>\n",
       "      <td>United States of America</td>\n",
       "      <td>2</td>\n",
       "      <td>2.0</td>\n",
       "      <td>Northern America</td>\n",
       "      <td>Americas</td>\n",
       "      <td>Harry Truman</td>\n",
       "      <td>Harry Truman.United States of America.1946.195...</td>\n",
       "      <td>Democracy</td>\n",
       "      <td>Presidential Dem</td>\n",
       "      <td>1946</td>\n",
       "      <td>7</td>\n",
       "      <td>1</td>\n",
       "    </tr>\n",
       "    <tr>\n",
       "      <th>1714</th>\n",
       "      <td>United States of America</td>\n",
       "      <td>2</td>\n",
       "      <td>2.0</td>\n",
       "      <td>Northern America</td>\n",
       "      <td>Americas</td>\n",
       "      <td>Dwight D. Eisenhower</td>\n",
       "      <td>Dwight D. Eisenhower.United States of America....</td>\n",
       "      <td>Democracy</td>\n",
       "      <td>Presidential Dem</td>\n",
       "      <td>1953</td>\n",
       "      <td>8</td>\n",
       "      <td>1</td>\n",
       "    </tr>\n",
       "    <tr>\n",
       "      <th>1715</th>\n",
       "      <td>United States of America</td>\n",
       "      <td>2</td>\n",
       "      <td>2.0</td>\n",
       "      <td>Northern America</td>\n",
       "      <td>Americas</td>\n",
       "      <td>John Kennedy</td>\n",
       "      <td>John Kennedy.United States of America.1961.196...</td>\n",
       "      <td>Democracy</td>\n",
       "      <td>Presidential Dem</td>\n",
       "      <td>1961</td>\n",
       "      <td>2</td>\n",
       "      <td>0</td>\n",
       "    </tr>\n",
       "    <tr>\n",
       "      <th>1716</th>\n",
       "      <td>United States of America</td>\n",
       "      <td>2</td>\n",
       "      <td>2.0</td>\n",
       "      <td>Northern America</td>\n",
       "      <td>Americas</td>\n",
       "      <td>Lyndon Johnson</td>\n",
       "      <td>Lyndon Johnson.United States of America.1963.1...</td>\n",
       "      <td>Democracy</td>\n",
       "      <td>Presidential Dem</td>\n",
       "      <td>1963</td>\n",
       "      <td>6</td>\n",
       "      <td>1</td>\n",
       "    </tr>\n",
       "    <tr>\n",
       "      <th>1717</th>\n",
       "      <td>United States of America</td>\n",
       "      <td>2</td>\n",
       "      <td>2.0</td>\n",
       "      <td>Northern America</td>\n",
       "      <td>Americas</td>\n",
       "      <td>Richard Nixon</td>\n",
       "      <td>Richard Nixon.United States of America.1969.19...</td>\n",
       "      <td>Democracy</td>\n",
       "      <td>Presidential Dem</td>\n",
       "      <td>1969</td>\n",
       "      <td>5</td>\n",
       "      <td>1</td>\n",
       "    </tr>\n",
       "  </tbody>\n",
       "</table>\n",
       "</div>"
      ],
      "text/plain": [
       "                      ctryname  cowcode2  politycode    un_region_name  \\\n",
       "1713  United States of America         2         2.0  Northern America   \n",
       "1714  United States of America         2         2.0  Northern America   \n",
       "1715  United States of America         2         2.0  Northern America   \n",
       "1716  United States of America         2         2.0  Northern America   \n",
       "1717  United States of America         2         2.0  Northern America   \n",
       "\n",
       "     un_continent_name                 ehead  \\\n",
       "1713          Americas          Harry Truman   \n",
       "1714          Americas  Dwight D. Eisenhower   \n",
       "1715          Americas          John Kennedy   \n",
       "1716          Americas        Lyndon Johnson   \n",
       "1717          Americas         Richard Nixon   \n",
       "\n",
       "                                         leaderspellreg  democracy  \\\n",
       "1713  Harry Truman.United States of America.1946.195...  Democracy   \n",
       "1714  Dwight D. Eisenhower.United States of America....  Democracy   \n",
       "1715  John Kennedy.United States of America.1961.196...  Democracy   \n",
       "1716  Lyndon Johnson.United States of America.1963.1...  Democracy   \n",
       "1717  Richard Nixon.United States of America.1969.19...  Democracy   \n",
       "\n",
       "                regime  start_year  duration  observed  \n",
       "1713  Presidential Dem        1946         7         1  \n",
       "1714  Presidential Dem        1953         8         1  \n",
       "1715  Presidential Dem        1961         2         0  \n",
       "1716  Presidential Dem        1963         6         1  \n",
       "1717  Presidential Dem        1969         5         1  "
      ]
     },
     "execution_count": 9,
     "metadata": {},
     "output_type": "execute_result"
    }
   ],
   "source": [
    "(data[data[\"ctryname\"] == \"United States of America\"]).head()"
   ]
  },
  {
   "cell_type": "markdown",
   "metadata": {},
   "source": [
    "What proportion of our data is censored (i.e. the politician has not yet left office)?"
   ]
  },
  {
   "cell_type": "code",
   "execution_count": 15,
   "metadata": {},
   "outputs": [
    {
     "name": "stdout",
     "output_type": "stream",
     "text": [
      "18.81% of our data has not been observed\n"
     ]
    }
   ],
   "source": [
    "print(f\"{len(data.query('observed != 1'))/len(data):.2%} of our data has not been observed\")"
   ]
  },
  {
   "cell_type": "markdown",
   "metadata": {},
   "source": [
    "Now, we'll plot the aggregate survival function. We do this by estimating with Kaplan-Meier."
   ]
  },
  {
   "cell_type": "code",
   "execution_count": 16,
   "metadata": {
    "collapsed": true
   },
   "outputs": [],
   "source": [
    "from lifelines import KaplanMeierFitter\n",
    "kmf = KaplanMeierFitter()"
   ]
  },
  {
   "cell_type": "code",
   "execution_count": 17,
   "metadata": {},
   "outputs": [
    {
     "data": {
      "text/plain": [
       "<lifelines.KaplanMeierFitter: fitted with 1808 observations, 340 censored>"
      ]
     },
     "execution_count": 17,
     "metadata": {},
     "output_type": "execute_result"
    }
   ],
   "source": [
    "T = data[\"duration\"]\n",
    "C = data[\"observed\"]\n",
    "\n",
    "kmf.fit(T, event_observed=C )"
   ]
  },
  {
   "cell_type": "code",
   "execution_count": 18,
   "metadata": {},
   "outputs": [
    {
     "data": {
      "image/png": "[encoded data removed]",
      "text/plain": [
       "<matplotlib.figure.Figure at 0x113d65940>"
      ]
     },
     "metadata": {},
     "output_type": "display_data"
    }
   ],
   "source": [
    "kmf.survival_function_.plot()\n",
    "plt.title('Survival function of political regimes');"
   ]
  },
  {
   "cell_type": "markdown",
   "metadata": {},
   "source": [
    "Intepret this plot: what proportion of politicians are in power after 0 years? After 6?"
   ]
  },
  {
   "cell_type": "markdown",
   "metadata": {
    "collapsed": true
   },
   "source": [
    "- After zero years, ~100% of politicians are in power"
   ]
  },
  {
   "cell_type": "markdown",
   "metadata": {},
   "source": [
    "- After six years, only ~28% of politicians are still in power"
   ]
  },
  {
   "cell_type": "code",
   "execution_count": 19,
   "metadata": {},
   "outputs": [
    {
     "data": {
      "text/html": [
       "<div>\n",
       "<style>\n",
       "    .dataframe thead tr:only-child th {\n",
       "        text-align: right;\n",
       "    }\n",
       "\n",
       "    .dataframe thead th {\n",
       "        text-align: left;\n",
       "    }\n",
       "\n",
       "    .dataframe tbody tr th {\n",
       "        vertical-align: top;\n",
       "    }\n",
       "</style>\n",
       "<table border=\"1\" class=\"dataframe\">\n",
       "  <thead>\n",
       "    <tr style=\"text-align: right;\">\n",
       "      <th></th>\n",
       "      <th>KM_estimate</th>\n",
       "    </tr>\n",
       "    <tr>\n",
       "      <th>timeline</th>\n",
       "      <th></th>\n",
       "    </tr>\n",
       "  </thead>\n",
       "  <tbody>\n",
       "    <tr>\n",
       "      <th>0.0</th>\n",
       "      <td>1.000000</td>\n",
       "    </tr>\n",
       "    <tr>\n",
       "      <th>1.0</th>\n",
       "      <td>0.721792</td>\n",
       "    </tr>\n",
       "    <tr>\n",
       "      <th>2.0</th>\n",
       "      <td>0.601973</td>\n",
       "    </tr>\n",
       "    <tr>\n",
       "      <th>3.0</th>\n",
       "      <td>0.510929</td>\n",
       "    </tr>\n",
       "    <tr>\n",
       "      <th>4.0</th>\n",
       "      <td>0.418835</td>\n",
       "    </tr>\n",
       "    <tr>\n",
       "      <th>5.0</th>\n",
       "      <td>0.334008</td>\n",
       "    </tr>\n",
       "    <tr>\n",
       "      <th>6.0</th>\n",
       "      <td>0.280902</td>\n",
       "    </tr>\n",
       "    <tr>\n",
       "      <th>7.0</th>\n",
       "      <td>0.256825</td>\n",
       "    </tr>\n",
       "    <tr>\n",
       "      <th>8.0</th>\n",
       "      <td>0.221975</td>\n",
       "    </tr>\n",
       "    <tr>\n",
       "      <th>9.0</th>\n",
       "      <td>0.205147</td>\n",
       "    </tr>\n",
       "    <tr>\n",
       "      <th>10.0</th>\n",
       "      <td>0.181350</td>\n",
       "    </tr>\n",
       "    <tr>\n",
       "      <th>11.0</th>\n",
       "      <td>0.161200</td>\n",
       "    </tr>\n",
       "    <tr>\n",
       "      <th>12.0</th>\n",
       "      <td>0.150332</td>\n",
       "    </tr>\n",
       "    <tr>\n",
       "      <th>13.0</th>\n",
       "      <td>0.139197</td>\n",
       "    </tr>\n",
       "    <tr>\n",
       "      <th>14.0</th>\n",
       "      <td>0.124896</td>\n",
       "    </tr>\n",
       "    <tr>\n",
       "      <th>15.0</th>\n",
       "      <td>0.117845</td>\n",
       "    </tr>\n",
       "    <tr>\n",
       "      <th>16.0</th>\n",
       "      <td>0.113521</td>\n",
       "    </tr>\n",
       "    <tr>\n",
       "      <th>17.0</th>\n",
       "      <td>0.108010</td>\n",
       "    </tr>\n",
       "    <tr>\n",
       "      <th>18.0</th>\n",
       "      <td>0.099792</td>\n",
       "    </tr>\n",
       "    <tr>\n",
       "      <th>19.0</th>\n",
       "      <td>0.093632</td>\n",
       "    </tr>\n",
       "    <tr>\n",
       "      <th>20.0</th>\n",
       "      <td>0.090994</td>\n",
       "    </tr>\n",
       "    <tr>\n",
       "      <th>21.0</th>\n",
       "      <td>0.085479</td>\n",
       "    </tr>\n",
       "    <tr>\n",
       "      <th>22.0</th>\n",
       "      <td>0.078473</td>\n",
       "    </tr>\n",
       "    <tr>\n",
       "      <th>23.0</th>\n",
       "      <td>0.074113</td>\n",
       "    </tr>\n",
       "    <tr>\n",
       "      <th>24.0</th>\n",
       "      <td>0.071088</td>\n",
       "    </tr>\n",
       "    <tr>\n",
       "      <th>25.0</th>\n",
       "      <td>0.069543</td>\n",
       "    </tr>\n",
       "    <tr>\n",
       "      <th>26.0</th>\n",
       "      <td>0.066231</td>\n",
       "    </tr>\n",
       "    <tr>\n",
       "      <th>27.0</th>\n",
       "      <td>0.062745</td>\n",
       "    </tr>\n",
       "    <tr>\n",
       "      <th>28.0</th>\n",
       "      <td>0.060900</td>\n",
       "    </tr>\n",
       "    <tr>\n",
       "      <th>29.0</th>\n",
       "      <td>0.056971</td>\n",
       "    </tr>\n",
       "    <tr>\n",
       "      <th>30.0</th>\n",
       "      <td>0.052751</td>\n",
       "    </tr>\n",
       "    <tr>\n",
       "      <th>31.0</th>\n",
       "      <td>0.050353</td>\n",
       "    </tr>\n",
       "    <tr>\n",
       "      <th>32.0</th>\n",
       "      <td>0.043160</td>\n",
       "    </tr>\n",
       "    <tr>\n",
       "      <th>33.0</th>\n",
       "      <td>0.038364</td>\n",
       "    </tr>\n",
       "    <tr>\n",
       "      <th>34.0</th>\n",
       "      <td>0.038364</td>\n",
       "    </tr>\n",
       "    <tr>\n",
       "      <th>35.0</th>\n",
       "      <td>0.030143</td>\n",
       "    </tr>\n",
       "    <tr>\n",
       "      <th>36.0</th>\n",
       "      <td>0.030143</td>\n",
       "    </tr>\n",
       "    <tr>\n",
       "      <th>38.0</th>\n",
       "      <td>0.030143</td>\n",
       "    </tr>\n",
       "    <tr>\n",
       "      <th>39.0</th>\n",
       "      <td>0.030143</td>\n",
       "    </tr>\n",
       "    <tr>\n",
       "      <th>40.0</th>\n",
       "      <td>0.030143</td>\n",
       "    </tr>\n",
       "    <tr>\n",
       "      <th>42.0</th>\n",
       "      <td>0.030143</td>\n",
       "    </tr>\n",
       "    <tr>\n",
       "      <th>44.0</th>\n",
       "      <td>0.030143</td>\n",
       "    </tr>\n",
       "    <tr>\n",
       "      <th>46.0</th>\n",
       "      <td>0.030143</td>\n",
       "    </tr>\n",
       "    <tr>\n",
       "      <th>47.0</th>\n",
       "      <td>0.015072</td>\n",
       "    </tr>\n",
       "  </tbody>\n",
       "</table>\n",
       "</div>"
      ],
      "text/plain": [
       "          KM_estimate\n",
       "timeline             \n",
       "0.0          1.000000\n",
       "1.0          0.721792\n",
       "2.0          0.601973\n",
       "3.0          0.510929\n",
       "4.0          0.418835\n",
       "5.0          0.334008\n",
       "6.0          0.280902\n",
       "7.0          0.256825\n",
       "8.0          0.221975\n",
       "9.0          0.205147\n",
       "10.0         0.181350\n",
       "11.0         0.161200\n",
       "12.0         0.150332\n",
       "13.0         0.139197\n",
       "14.0         0.124896\n",
       "15.0         0.117845\n",
       "16.0         0.113521\n",
       "17.0         0.108010\n",
       "18.0         0.099792\n",
       "19.0         0.093632\n",
       "20.0         0.090994\n",
       "21.0         0.085479\n",
       "22.0         0.078473\n",
       "23.0         0.074113\n",
       "24.0         0.071088\n",
       "25.0         0.069543\n",
       "26.0         0.066231\n",
       "27.0         0.062745\n",
       "28.0         0.060900\n",
       "29.0         0.056971\n",
       "30.0         0.052751\n",
       "31.0         0.050353\n",
       "32.0         0.043160\n",
       "33.0         0.038364\n",
       "34.0         0.038364\n",
       "35.0         0.030143\n",
       "36.0         0.030143\n",
       "38.0         0.030143\n",
       "39.0         0.030143\n",
       "40.0         0.030143\n",
       "42.0         0.030143\n",
       "44.0         0.030143\n",
       "46.0         0.030143\n",
       "47.0         0.015072"
      ]
     },
     "execution_count": 19,
     "metadata": {},
     "output_type": "execute_result"
    }
   ],
   "source": [
    "kmf.survival_function_"
   ]
  },
  {
   "cell_type": "markdown",
   "metadata": {},
   "source": [
    "We can use our estimator to plot confidence intervals:"
   ]
  },
  {
   "cell_type": "code",
   "execution_count": 20,
   "metadata": {},
   "outputs": [
    {
     "data": {
      "text/plain": [
       "<matplotlib.axes._subplots.AxesSubplot at 0x1140fdf60>"
      ]
     },
     "execution_count": 20,
     "metadata": {},
     "output_type": "execute_result"
    },
    {
     "data": {
      "image/png": "[encoded data removed]",
      "text/plain": [
       "<matplotlib.figure.Figure at 0x113d654a8>"
      ]
     },
     "metadata": {},
     "output_type": "display_data"
    }
   ],
   "source": [
    "kmf.plot()"
   ]
  },
  {
   "cell_type": "markdown",
   "metadata": {},
   "source": [
    "And, we can query our model for the median survival time:"
   ]
  },
  {
   "cell_type": "code",
   "execution_count": 21,
   "metadata": {},
   "outputs": [
    {
     "data": {
      "text/plain": [
       "4.0"
      ]
     },
     "execution_count": 21,
     "metadata": {},
     "output_type": "execute_result"
    }
   ],
   "source": [
    "kmf.median_"
   ]
  },
  {
   "cell_type": "markdown",
   "metadata": {},
   "source": [
    "Intepret this value. What does this median value actually mean?"
   ]
  },
  {
   "cell_type": "markdown",
   "metadata": {
    "collapsed": true
   },
   "source": [
    "- Out of all politicans, this number of the number of years that a politician stays in power"
   ]
  },
  {
   "cell_type": "markdown",
   "metadata": {},
   "source": [
    "Now we'll get into more interesting analysis.\n",
    "\n",
    "The following plot shows two different survival curves, based on whether or not they are in a democratic government."
   ]
  },
  {
   "cell_type": "code",
   "execution_count": 22,
   "metadata": {},
   "outputs": [
    {
     "data": {
      "image/png": "[encoded data removed]",
      "text/plain": [
       "<matplotlib.figure.Figure at 0x1140efd30>"
      ]
     },
     "metadata": {},
     "output_type": "display_data"
    }
   ],
   "source": [
    "ax = plt.subplot(111)\n",
    "\n",
    "dem = (data[\"democracy\"] == \"Democracy\")\n",
    "kmf.fit(T[dem], event_observed=C[dem], label=\"Democratic Regimes\")\n",
    "kmf.plot(ax=ax, ci_force_lines=True)\n",
    "kmf.fit(T[~dem], event_observed=C[~dem], label=\"Non-democratic Regimes\")\n",
    "kmf.plot(ax=ax, ci_force_lines=True)\n",
    "\n",
    "plt.ylim(0,1);\n",
    "plt.title(\"Lifespans of different global regimes\");"
   ]
  },
  {
   "cell_type": "markdown",
   "metadata": {},
   "source": [
    "What is the median survival time of a politician in a democratic country? In a non-democratic one?"
   ]
  },
  {
   "cell_type": "code",
   "execution_count": 42,
   "metadata": {},
   "outputs": [
    {
     "data": {
      "text/plain": [
       "5.0"
      ]
     },
     "execution_count": 42,
     "metadata": {},
     "output_type": "execute_result"
    }
   ],
   "source": [
    "np.median(data.duration[(data.democracy!='Democracy')])"
   ]
  },
  {
   "cell_type": "code",
   "execution_count": 44,
   "metadata": {},
   "outputs": [
    {
     "name": "stdout",
     "output_type": "stream",
     "text": [
      "The median time of a political staying in power in a democratic country is 2.0 years, while the     median time to stay in power for a non-democratic country is 5.0 years\n"
     ]
    }
   ],
   "source": [
    "print(f\"The median time of a political staying in power in a democratic country is {np.median(data.duration[(data.democracy=='Democracy')])} years, while the \\\n",
    "    median time to stay in power for a non-democratic country is {np.median(data.duration[(data.democracy!='Democracy')])} years\")"
   ]
  },
  {
   "cell_type": "markdown",
   "metadata": {},
   "source": [
    "In plain English, conjecture why those values are the way they are (i.e. what is happening in the real world that would make this true)."
   ]
  },
  {
   "cell_type": "markdown",
   "metadata": {
    "collapsed": true
   },
   "source": [
    "- In a democratic country, there is a process in place for every politican to go through a re-election. This ensures that if the political is abusing power, the public can oust them from office.\n",
    "- In comparison, in a non-democratic country the leaders do not necessarily need to hold elections. Therefore, these politicans can hold on to power for a longer period of time."
   ]
  },
  {
   "cell_type": "markdown",
   "metadata": {},
   "source": [
    "Now we'll plot the survival function for all the types of regimes:"
   ]
  },
  {
   "cell_type": "code",
   "execution_count": 45,
   "metadata": {},
   "outputs": [
    {
     "data": {
      "image/png": "[encoded data removed]",
      "text/plain": [
       "<matplotlib.figure.Figure at 0x113ecfeb8>"
      ]
     },
     "metadata": {},
     "output_type": "display_data"
    }
   ],
   "source": [
    "regime_types = data['regime'].unique()\n",
    "\n",
    "for i,regime_type in enumerate(regime_types):\n",
    "    ax = plt.subplot(2,3,i+1)\n",
    "    ix = data['regime'] == regime_type\n",
    "    kmf.fit( T[ix], C[ix], label=regime_type )\n",
    "    kmf.plot(ax=ax, legend=False)\n",
    "    plt.title(regime_type)\n",
    "    plt.xlim(0,50)\n",
    "    if i==0:\n",
    "        plt.ylabel('Frac. in power after $n$ years')\n",
    "plt.tight_layout()"
   ]
  },
  {
   "cell_type": "markdown",
   "metadata": {},
   "source": [
    "For each regime type, what is the median number of years in power? (Calculate it.)"
   ]
  },
  {
   "cell_type": "code",
   "execution_count": 55,
   "metadata": {},
   "outputs": [
    {
     "name": "stdout",
     "output_type": "stream",
     "text": [
      "For regime =  Monarchy the median number of years in power is = 10.0\n",
      "For regime =  Civilian Dict the median number of years in power is = 5.0\n",
      "For regime =  Military Dict the median number of years in power is = 4.0\n",
      "For regime =  Parliamentary Dem the median number of years in power is = 3.0\n",
      "For regime =  Presidential Dem the median number of years in power is = 4.0\n",
      "For regime =  Mixed Dem the median number of years in power is = 2.0\n"
     ]
    }
   ],
   "source": [
    "for i,regime_type in enumerate(regime_types):\n",
    "    regime = data[data['regime'] == regime_type]\n",
    "    print(f\"For regime =  {regime_type} the median number of years in power is = {np.median(regime.duration)}\")"
   ]
  },
  {
   "cell_type": "markdown",
   "metadata": {},
   "source": [
    "Now, we'll use the Nelson-Aelen method to estimate the hazard function:"
   ]
  },
  {
   "cell_type": "code",
   "execution_count": 56,
   "metadata": {},
   "outputs": [
    {
     "data": {
      "text/plain": [
       "<lifelines.NelsonAalenFitter: fitted with 1808 observations, 340 censored>"
      ]
     },
     "execution_count": 56,
     "metadata": {},
     "output_type": "execute_result"
    }
   ],
   "source": [
    "T = data[\"duration\"]\n",
    "C = data[\"observed\"]\n",
    "\n",
    "from lifelines import NelsonAalenFitter\n",
    "naf = NelsonAalenFitter()\n",
    "\n",
    "naf.fit(T,event_observed=C)"
   ]
  },
  {
   "cell_type": "code",
   "execution_count": 57,
   "metadata": {},
   "outputs": [
    {
     "name": "stdout",
     "output_type": "stream",
     "text": [
      "          NA_estimate\n",
      "timeline             \n",
      "0.0          0.000000\n",
      "1.0          0.325912\n",
      "2.0          0.507356\n",
      "3.0          0.671251\n",
      "4.0          0.869867\n"
     ]
    },
    {
     "data": {
      "text/plain": [
       "<matplotlib.axes._subplots.AxesSubplot at 0x113ecc518>"
      ]
     },
     "execution_count": 57,
     "metadata": {},
     "output_type": "execute_result"
    },
    {
     "data": {
      "image/png": "[encoded data removed]",
      "text/plain": [
       "<matplotlib.figure.Figure at 0x107f9e860>"
      ]
     },
     "metadata": {},
     "output_type": "display_data"
    }
   ],
   "source": [
    "print(naf.cumulative_hazard_.head())\n",
    "naf.plot()"
   ]
  },
  {
   "cell_type": "markdown",
   "metadata": {},
   "source": [
    "Intepret this plot. What does the cumulative hazard mean in terms of years in office?"
   ]
  },
  {
   "cell_type": "markdown",
   "metadata": {
    "collapsed": true
   },
   "source": [
    "- The hazard function shows the 'risk' of each consecuitive year in office. This is basically a measure of risk of failure for each year. This graph is showing that as a politician stays in power longer, they have a higher 'hazard' of not being in office for the next year."
   ]
  },
  {
   "cell_type": "markdown",
   "metadata": {},
   "source": [
    "Now, we'll go back to our democratic vs non-democratic separation, and plot their cumulative hazard functions:"
   ]
  },
  {
   "cell_type": "code",
   "execution_count": 58,
   "metadata": {},
   "outputs": [
    {
     "data": {
      "image/png": "[encoded data removed]",
      "text/plain": [
       "<matplotlib.figure.Figure at 0x114154208>"
      ]
     },
     "metadata": {},
     "output_type": "display_data"
    }
   ],
   "source": [
    "naf.fit(T[dem], event_observed=C[dem], label=\"Democratic Regimes\")\n",
    "ax = naf.plot(loc=slice(0,20))\n",
    "naf.fit(T[~dem], event_observed=C[~dem], label=\"Non-democratic Regimes\")\n",
    "naf.plot(ax=ax, loc=slice(0,20))\n",
    "plt.title(\"Cumulative hazard function of different global regimes\");"
   ]
  },
  {
   "cell_type": "markdown",
   "metadata": {},
   "source": [
    "What can you say about the type of regime and how long a politician stays in power?"
   ]
  },
  {
   "cell_type": "markdown",
   "metadata": {
    "collapsed": true
   },
   "source": [
    "- In a demoncratic regime, the rate of the hazard function increases much more rapidly . This means that every subsequent year in office is less and less likely.\n",
    "- For a non-democratic regime, there is an increase in hazard over time, but this appears to level off after about 12-15 years. Essentially, this means that if you have been in office for 12-15 years in a non-democratic regime, the hazard level no longer increases as rapidly"
   ]
  },
  {
   "cell_type": "markdown",
   "metadata": {},
   "source": [
    "Do this same analysis for all regime-types."
   ]
  },
  {
   "cell_type": "code",
   "execution_count": null,
   "metadata": {
    "collapsed": true
   },
   "outputs": [],
   "source": [
    "naf.plot()"
   ]
  },
  {
   "cell_type": "code",
   "execution_count": 84,
   "metadata": {
    "scrolled": false
   },
   "outputs": [
    {
     "data": {
      "image/png": "[encoded data removed]",
      "text/plain": [
       "<matplotlib.figure.Figure at 0x114d26c50>"
      ]
     },
     "metadata": {},
     "output_type": "display_data"
    }
   ],
   "source": [
    "for i,regime_type in enumerate(regime_types):\n",
    "    ax = plt.subplot(6,1,i+1)\n",
    "\n",
    "    ix = data['regime'] == regime_type\n",
    "    \n",
    "    naf.fit(T[ix], C[ix], label=regime_type )\n",
    "    naf.plot(ax=ax, legend=False)\n",
    "    plt.title(regime_type)\n",
    "    plt.xlim(0,50)\n",
    "    if i==0:\n",
    "        plt.ylabel('Hazard function after $n$ years')\n"
   ]
  },
  {
   "cell_type": "code",
   "execution_count": null,
   "metadata": {
    "collapsed": true
   },
   "outputs": [],
   "source": []
  },
  {
   "cell_type": "code",
   "execution_count": null,
   "metadata": {
    "collapsed": true
   },
   "outputs": [],
   "source": []
  },
  {
   "cell_type": "code",
   "execution_count": null,
   "metadata": {
    "collapsed": true
   },
   "outputs": [],
   "source": []
  },
  {
   "cell_type": "markdown",
   "metadata": {},
   "source": [
    "Bonus: re-implement K-M yourself."
   ]
  },
  {
   "cell_type": "code",
   "execution_count": null,
   "metadata": {
    "collapsed": true
   },
   "outputs": [],
   "source": []
  }
 ],
 "metadata": {
  "kernelspec": {
   "display_name": "stats",
   "language": "python",
   "name": "stats"
  },
  "language_info": {
   "codemirror_mode": {
    "name": "ipython",
    "version": 3
   },
   "file_extension": ".py",
   "mimetype": "text/x-python",
   "name": "python",
   "nbconvert_exporter": "python",
   "pygments_lexer": "ipython3",
   "version": "3.6.1"
  }
 },
 "nbformat": 4,
 "nbformat_minor": 2
}
