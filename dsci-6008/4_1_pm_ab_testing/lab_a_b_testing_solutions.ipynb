{
 "cells": [
  {
   "cell_type": "code",
   "execution_count": 1,
   "metadata": {
    "collapsed": true
   },
   "outputs": [],
   "source": [
    "reset -fs"
   ]
  },
  {
   "cell_type": "code",
   "execution_count": 2,
   "metadata": {
    "collapsed": true
   },
   "outputs": [],
   "source": [
    "import numpy as np\n",
    "from scipy import stats\n",
    "import matplotlib.pyplot as plt\n",
    "\n",
    "%matplotlib inline"
   ]
  },
  {
   "cell_type": "code",
   "execution_count": 4,
   "metadata": {
    "collapsed": true
   },
   "outputs": [],
   "source": [
    "# load the source data\n",
    "siteA_clicks = np.loadtxt('data/siteA.txt')\n",
    "siteB_clicks = np.loadtxt('data/siteB.txt')"
   ]
  },
  {
   "cell_type": "code",
   "execution_count": 7,
   "metadata": {},
   "outputs": [
    {
     "data": {
      "image/png": "[encoded data removed]",
      "text/plain": [
       "<matplotlib.figure.Figure at 0x118588ac8>"
      ]
     },
     "metadata": {},
     "output_type": "display_data"
    }
   ],
   "source": [
    "# use all of the data for both sites, then plot the results\n",
    "siteA_beta = stats.beta.pdf(x, siteA_clicks.sum(), (len(siteA_clicks) - siteA_clicks.sum()))\n",
    "siteB_beta = stats.beta.pdf(x, siteB_clicks.sum(), (len(siteB_clicks) - siteB_clicks.sum()))\n",
    "\n",
    "plt.figure(2)\n",
    "plot_with_fill(x, siteA_beta, 'Site A')\n",
    "plot_with_fill(x, siteB_beta, 'Site B')\n",
    "plt.xlim(xmax=.2)\n",
    "plt.legend()\n",
    "plt.show()"
   ]
  },
  {
   "cell_type": "code",
   "execution_count": 8,
   "metadata": {},
   "outputs": [
    {
     "name": "stdout",
     "output_type": "stream",
     "text": [
      "Likelihood B is better than A based on a simulation of 10000 samples: 0.995\n"
     ]
    }
   ],
   "source": [
    "# generate random samples from each distribution\n",
    "sim_size = 10000\n",
    "siteA_rand = np.random.beta(siteA_clicks.sum(), (len(siteA_clicks) - siteA_clicks.sum()), sim_size)\n",
    "siteB_rand = np.random.beta(siteB_clicks.sum(), (len(siteB_clicks) - siteB_clicks.sum()), sim_size)\n",
    "\n",
    "a_wins = 0\n",
    "b_wins = 0\n",
    "for i in range(sim_size):\n",
    "    if siteA_rand[i] >= siteB_rand[i]:\n",
    "        a_wins += 1\n",
    "    else:\n",
    "        b_wins += 1\n",
    "\n",
    "print(f'Likelihood B is better than A based on a simulation of {sim_size} samples: {(b_wins / sim_size):.3}')"
   ]
  },
  {
   "cell_type": "code",
   "execution_count": 9,
   "metadata": {},
   "outputs": [
    {
     "name": "stdout",
     "output_type": "stream",
     "text": [
      "Site A CTR is: [0.052 - 0.081] with 95.0% confidence\n",
      "Site B CTR is: [0.085 - 0.12] with 95.0% confidence\n"
     ]
    }
   ],
   "source": [
    "# compute the 95% confidence on A\n",
    "confidence_level = .95\n",
    "siteA_ci_upper = stats.beta.ppf(confidence_level, siteA_clicks.sum(), (len(siteA_clicks) - siteA_clicks.sum()))\n",
    "siteA_ci_lower = stats.beta.ppf(1-confidence_level, siteA_clicks.sum(), (len(siteA_clicks) - siteA_clicks.sum()))\n",
    "\n",
    "siteB_ci_upper = stats.beta.ppf(confidence_level, siteB_clicks.sum(), (len(siteB_clicks) - siteB_clicks.sum()))\n",
    "siteB_ci_lower = stats.beta.ppf(1-confidence_level, siteB_clicks.sum(), (len(siteB_clicks) - siteB_clicks.sum()))\n",
    "\n",
    "print(f\"Site A CTR is: [{siteA_ci_lower:.2} - {siteA_ci_upper:.2}] with {confidence_level:.1%} confidence\")\n",
    "print(f\"Site B CTR is: [{siteB_ci_lower:.2} - {siteB_ci_upper:.2}] with {confidence_level:.1%} confidence\")\n"
   ]
  },
  {
   "cell_type": "code",
   "execution_count": 10,
   "metadata": {},
   "outputs": [
    {
     "name": "stdout",
     "output_type": "stream",
     "text": [
      "Likelihood B is 2% better than A: 0.88\n"
     ]
    }
   ],
   "source": [
    "# compute whether B has is 2% better CTR than A and plot a histogram\n",
    "a_wins = 0\n",
    "b_wins = 0\n",
    "diffs = np.zeros(sim_size)\n",
    "for i in range(sim_size):\n",
    "    diffs[i] = siteB_rand[i] - siteA_rand[i]\n",
    "    if siteA_rand[i] >= siteB_rand[i] - 0.02:\n",
    "        a_wins += 1\n",
    "    else:\n",
    "        b_wins += 1\n",
    "\n",
    "print(f\"Likelihood B is 2% better than A: {(b_wins / sim_size):.2}\")"
   ]
  },
  {
   "cell_type": "code",
   "execution_count": 11,
   "metadata": {},
   "outputs": [
    {
     "data": {
      "image/png": "[encoded data removed]",
      "text/plain": [
       "<matplotlib.figure.Figure at 0x11a800320>"
      ]
     },
     "metadata": {},
     "output_type": "display_data"
    }
   ],
   "source": [
    "plt.figure(3)\n",
    "hist, bins = np.histogram(diffs, bins=50)\n",
    "width = 0.7 * (bins[1] - bins[0])\n",
    "center = (bins[:-1] + bins[1:]) / 2\n",
    "plt.bar(center, hist, align='center', width=width)\n",
    "plt.show()"
   ]
  },
  {
   "cell_type": "markdown",
   "metadata": {
    "collapsed": true
   },
   "source": [
    "We know site B yeilds a 5% increase in profit per click.  \n",
    "\n",
    "There's an 88% chance that site B provides a 2% lift in CTR.  Thus, there's an 88% chance that investing in site B yeilds.\n",
    "\n",
    "Site B yileds an additional .02 clicks per visit, plus an additional $.05 per click on every click.  With no lift, that's an additional $.0033 per clicks, plus an additional $.00021 per visit from the lift. \n",
    "\n",
    "Swapping depends on how much time/effort switching to site B costs.  \n",
    "\n",
    "You can determine a break-even point based on $.00351 per visit."
   ]
  },
  {
   "cell_type": "markdown",
   "metadata": {},
   "source": [
    "<br>\n",
    "<br> \n",
    "<br>\n",
    "\n",
    "----"
   ]
  },
  {
   "cell_type": "markdown",
   "metadata": {},
   "source": [
    "----\n",
    "Extra Stuff\n",
    "----"
   ]
  },
  {
   "cell_type": "code",
   "execution_count": 3,
   "metadata": {
    "collapsed": true
   },
   "outputs": [],
   "source": [
    "def beta_of_slice(xvals, data, numvals):\n",
    "    return stats.beta.pdf(xvals, data[:numvals].sum(), (len(data[:numvals]) - data[:numvals].sum()))\n",
    "\n",
    "def plot_with_fill(x, y, label):\n",
    "    lines = plt.plot(x, y, label=label, lw=2)\n",
    "    plt.fill_between(x, 0, y, alpha=0.2, color=lines[0].get_c())"
   ]
  },
  {
   "cell_type": "code",
   "execution_count": 5,
   "metadata": {
    "collapsed": true
   },
   "outputs": [],
   "source": [
    "# start with a uniform prior\n",
    "x = np.arange(0, 1.01, 0.01)\n",
    "y = stats.beta.pdf(x, 1.0, 1.0)"
   ]
  },
  {
   "cell_type": "code",
   "execution_count": 6,
   "metadata": {},
   "outputs": [
    {
     "data": {
      "image/png": "[encoded data removed]",
      "text/plain": [
       "<matplotlib.figure.Figure at 0x118588cf8>"
      ]
     },
     "metadata": {},
     "output_type": "display_data"
    }
   ],
   "source": [
    "# plot it\n",
    "plt.figure(1)\n",
    "plot_with_fill(x,y,'Prior')\n",
    "\n",
    "# check the data for the first 50, 100, 200, 400, and 800 views\n",
    "siteA_50 = beta_of_slice(x, siteA_clicks, 50)\n",
    "plot_with_fill(x,siteA_50,'Posterior_50')\n",
    "\n",
    "siteA_100 = beta_of_slice(x, siteA_clicks, 100)\n",
    "plot_with_fill(x,siteA_100,'Posterior_100')\n",
    "\n",
    "siteA_200 = beta_of_slice(x, siteA_clicks, 200)\n",
    "plot_with_fill(x,siteA_200,'Posterior_200')\n",
    "\n",
    "siteA_400 = beta_of_slice(x, siteA_clicks, 400)\n",
    "plot_with_fill(x,siteA_400,'Posterior_400')\n",
    "\n",
    "siteA_800 = beta_of_slice(x, siteA_clicks, 800)\n",
    "plot_with_fill(x,siteA_800,'Posterior_800')\n",
    "\n",
    "# decorate and show the plot\n",
    "plt.legend();\n",
    "plt.show()"
   ]
  }
 ],
 "metadata": {
  "kernelspec": {
   "display_name": "Python 3",
   "language": "python",
   "name": "python3"
  },
  "language_info": {
   "codemirror_mode": {
    "name": "ipython",
    "version": 3
   },
   "file_extension": ".py",
   "mimetype": "text/x-python",
   "name": "python",
   "nbconvert_exporter": "python",
   "pygments_lexer": "ipython3",
   "version": "3.6.1"
  }
 },
 "nbformat": 4,
 "nbformat_minor": 2
}
