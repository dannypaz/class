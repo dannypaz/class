{
 "cells": [
  {
   "cell_type": "markdown",
   "metadata": {
    "slideshow": {
     "slide_type": "slide"
    }
   },
   "source": [
    "A/B Testing Overview\n",
    "------\n",
    "\n",
    "<center><img src=\"images/ab-testing-your-wife.png\" width=\"500\"/></center>"
   ]
  },
  {
   "cell_type": "markdown",
   "metadata": {
    "slideshow": {
     "slide_type": "slide"
    }
   },
   "source": [
    "By The End Of This Session You Should Be Able To:\n",
    "----\n",
    "\n",
    "- Explain why to do A/B testing\n",
    "- List the fundamentals of setting up A/B testing\n",
    "- Describe variations to A/B testing (A/A and A/B/C)"
   ]
  },
  {
   "cell_type": "markdown",
   "metadata": {
    "slideshow": {
     "slide_type": "slide"
    }
   },
   "source": [
    "A/B Testing\n",
    "------\n",
    "\n",
    "<center><img src=\"images/ab_test.png\" height=\"500\"/></center>\n",
    "\n",
    "A/B testing is comparing two versions of a web page to see which one performs better.   "
   ]
  },
  {
   "cell_type": "markdown",
   "metadata": {
    "slideshow": {
     "slide_type": "slide"
    }
   },
   "source": [
    "A/B Testing\n",
    "------\n",
    "\n",
    "Compare two web pages by showing the two variants (let's call them A and B) to similar visitors at the same time.  \n"
   ]
  },
  {
   "cell_type": "markdown",
   "metadata": {
    "slideshow": {
     "slide_type": "fragment"
    }
   },
   "source": [
    "\n",
    "* The one that gives a better conversion rate, wins.\n",
    "\n"
   ]
  },
  {
   "cell_type": "markdown",
   "metadata": {
    "slideshow": {
     "slide_type": "slide"
    }
   },
   "source": [
    "Why do you A/B test?\n",
    "-----"
   ]
  },
  {
   "cell_type": "markdown",
   "metadata": {
    "slideshow": {
     "slide_type": "fragment"
    }
   },
   "source": [
    "\n",
    "> \"If you work at a software company. . . you should be doing A/B testing for the same reason you have an accountant do your taxes. \n",
    "\n",
    "> It is a low-risk low-investment high-certainty way to increase economic returns.\"\n",
    "\n",
    "\n"
   ]
  },
  {
   "cell_type": "markdown",
   "metadata": {
    "slideshow": {
     "slide_type": "fragment"
    }
   },
   "source": [
    "A/B testing is essentially a form of two sample hypothesis testing.\n",
    "-------\n",
    "\n",
    "[A/B testing](https://en.wikipedia.org/wiki/A/B_testing) is a term for a randomized experiment with two variants, A and B, which are the control and variation in the controlled experiment."
   ]
  },
  {
   "cell_type": "markdown",
   "metadata": {
    "slideshow": {
     "slide_type": "slide"
    }
   },
   "source": [
    "Experimental vs Observational  \n",
    "------\n",
    "\n",
    "* Experimental\n",
    "    * Apply treatments to experimental units (people, animals, land, etc) and observe effect of treatment\n",
    "    * Can be used to establish causality\n",
    "    * Example: Randomly assign students to two groups, only give homework to one group, and measure the performance of the two groups  \n",
    "    "
   ]
  },
  {
   "cell_type": "markdown",
   "metadata": {
    "slideshow": {
     "slide_type": "fragment"
    }
   },
   "source": [
    "* Observational\n",
    "    * Observe subjects and measure variables of interest without assigning treatments to subjects\n",
    "    * Can’t be used to establish causality\n",
    "    * Example: Observe and record whether or not the studets do homework and their grades  "
   ]
  },
  {
   "cell_type": "markdown",
   "metadata": {
    "slideshow": {
     "slide_type": "slide"
    }
   },
   "source": [
    "Confounding Factor  \n",
    "-----\n",
    "\n",
    "An extraneous attribute that correlates with the dependent variable (performance) and the independent variable (homework or not)  \n"
   ]
  },
  {
   "cell_type": "markdown",
   "metadata": {
    "slideshow": {
     "slide_type": "fragment"
    }
   },
   "source": [
    "* Example:  \n",
    "    * How hard-working the student is  \n",
    "    * The students that are more hard-working are more likely to complete their homework and perform better"
   ]
  },
  {
   "cell_type": "markdown",
   "metadata": {
    "slideshow": {
     "slide_type": "slide"
    }
   },
   "source": [
    "Experimental Design   \n",
    "---\n",
    "\n",
    "* Randomization into groups of equal size  \n",
    "    * Example: Randomly generate number from 0 - 1, if < 0.5, assign homework (**treatment/experiment group**); otherwise, no homework (**control group**) \n",
    " \n",
    "* Assume independent observations  \n",
    "    * Assume the students don’t know if the other students have homework or not  \n",
    "    * Otherwise that knowledge might affect performance  "
   ]
  },
  {
   "cell_type": "markdown",
   "metadata": {
    "slideshow": {
     "slide_type": "slide"
    }
   },
   "source": [
    "A/A testing vs A/B testings\n",
    "-----\n",
    "\n",
    "No new feastures, just testing the harness.\n",
    "\n",
    "Test two identical versions of a page against each other. Typically, done to check that the tool being used to run the experiment is statistically fair. Hopefully the test is implemented correctly."
   ]
  },
  {
   "cell_type": "markdown",
   "metadata": {
    "slideshow": {
     "slide_type": "slide"
    }
   },
   "source": [
    "<center><img src=\"http://kadavy.wpengine.netdna-cdn.com/wp-content/uploads/2016/02/A_B_split_showdown_for__NOAB___Video__Live_Broadcast__Fill-in___MailChimp-e1423678759644.png\" width=\"700\"/></center>"
   ]
  },
  {
   "cell_type": "markdown",
   "metadata": {
    "slideshow": {
     "slide_type": "slide"
    }
   },
   "source": [
    "<center><img src=\"http://blog.sumall.com/wp-content/uploads/2014/06/optimizely-test.png\" width=\"1000\"/></center>"
   ]
  },
  {
   "cell_type": "markdown",
   "metadata": {
    "slideshow": {
     "slide_type": "skip"
    }
   },
   "source": [
    "[Learn more about A/A testing](http://kadavy.net/blog/posts/aa-testing/)"
   ]
  },
  {
   "cell_type": "markdown",
   "metadata": {
    "slideshow": {
     "slide_type": "slide"
    }
   },
   "source": [
    "Fairy Dust, Short-Term Bias, and Regression to the Mean\n",
    "-----\n",
    "\n",
    "<center><img src=\"http://slideplayer.com/slide/5752306/19/images/22/Threats+to+Internal+Validity.jpg\" width=\"800\"/></center>"
   ]
  },
  {
   "cell_type": "markdown",
   "metadata": {
    "slideshow": {
     "slide_type": "slide"
    }
   },
   "source": [
    "Check for understanding\n",
    "-----\n",
    "\n",
    "What happens if you have more than 2 groups?"
   ]
  },
  {
   "cell_type": "markdown",
   "metadata": {
    "slideshow": {
     "slide_type": "slide"
    }
   },
   "source": [
    "A/B/C/… testing\n",
    "-----\n",
    "<br>\n",
    "<center><img src=\"images/banners.png\" width=\"500\"/></center>"
   ]
  },
  {
   "cell_type": "markdown",
   "metadata": {
    "slideshow": {
     "slide_type": "slide"
    }
   },
   "source": [
    "<center><img src=\"images/results.png\" width=\"700\"/></center>"
   ]
  },
  {
   "cell_type": "markdown",
   "metadata": {
    "slideshow": {
     "slide_type": "skip"
    }
   },
   "source": [
    "[Learn more here](https://s3.amazonaws.com/optimizely-marketing/customer-stories/sony-casestudy.pdf)"
   ]
  },
  {
   "cell_type": "markdown",
   "metadata": {
    "slideshow": {
     "slide_type": "slide"
    }
   },
   "source": [
    "Other Research Techniques  \n",
    "-----\n",
    "\n",
    "* Retrospective / observational study  \n",
    "* User experience research  \n",
    "* Focus groups\n",
    "* Surveys\n",
    "* Human evaluation    "
   ]
  },
  {
   "cell_type": "markdown",
   "metadata": {
    "slideshow": {
     "slide_type": "slide"
    }
   },
   "source": [
    "<center><img src=\"https://xraydelta.files.wordpress.com/2012/01/stat_sig.png\" width=\"500\"/></center>"
   ]
  },
  {
   "cell_type": "markdown",
   "metadata": {
    "slideshow": {
     "slide_type": "slide"
    }
   },
   "source": [
    "Check for understanding\n",
    "-----\n",
    "\n",
    "What is the #1 reason to A/B test in a business?"
   ]
  },
  {
   "cell_type": "markdown",
   "metadata": {
    "slideshow": {
     "slide_type": "fragment"
    }
   },
   "source": [
    "<center><img src=\"http://blackswanfarming.com/wp-content/uploads/2015/02/Squashed-by-a-HiPPO.png\" width=\"500\"/></center>\n",
    "\n",
    "Humans have awful intuition about complex, nonlinear systems (aka every business). A/B tests is a framework to find the real drives of revenue."
   ]
  }
 ],
 "metadata": {
  "anaconda-cloud": {},
  "celltoolbar": "Slideshow",
  "kernelspec": {
   "display_name": "Python 3",
   "language": "python",
   "name": "python3"
  },
  "language_info": {
   "codemirror_mode": {
    "name": "ipython",
    "version": 3
   },
   "file_extension": ".py",
   "mimetype": "text/x-python",
   "name": "python",
   "nbconvert_exporter": "python",
   "pygments_lexer": "ipython3",
   "version": "3.6.1"
  }
 },
 "nbformat": 4,
 "nbformat_minor": 1
}
