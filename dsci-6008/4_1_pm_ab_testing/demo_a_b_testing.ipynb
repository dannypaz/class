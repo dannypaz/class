{
 "cells": [
  {
   "cell_type": "markdown",
   "metadata": {},
   "source": [
    "Bayesian A/B Testing Demo\n",
    "-----"
   ]
  },
  {
   "cell_type": "code",
   "execution_count": 18,
   "metadata": {
    "collapsed": true
   },
   "outputs": [],
   "source": [
    "reset -fs"
   ]
  },
  {
   "cell_type": "code",
   "execution_count": 19,
   "metadata": {
    "collapsed": true
   },
   "outputs": [],
   "source": [
    "import matplotlib.pyplot as plt\n",
    "import numpy as np\n",
    "from scipy.stats import beta\n",
    "from scipy.special import betaln\n",
    "\n",
    "%matplotlib inline "
   ]
  },
  {
   "cell_type": "markdown",
   "metadata": {},
   "source": [
    "# Beta distribution shape "
   ]
  },
  {
   "cell_type": "code",
   "execution_count": 20,
   "metadata": {
    "collapsed": true
   },
   "outputs": [],
   "source": [
    "a_prior, b_prior = 1, 1 # Assume uniform prior\n",
    "# a_prior, b_prior = 3, 3 # Assume non-uniform prior\n",
    "rv = beta(a_prior, b_prior)\n",
    "x = np.linspace(beta.ppf(0.01, a_prior, b_prior), beta.ppf(0.99, a_prior, b_prior), 100)"
   ]
  },
  {
   "cell_type": "code",
   "execution_count": 21,
   "metadata": {},
   "outputs": [
    {
     "data": {
      "image/png": "[encoded data removed]",
      "text/plain": [
       "<matplotlib.figure.Figure at 0x113c959e8>"
      ]
     },
     "metadata": {},
     "output_type": "display_data"
    }
   ],
   "source": [
    "plt.plot(x, rv.pdf(x), 'k-', lw=2, label='');"
   ]
  },
  {
   "cell_type": "markdown",
   "metadata": {},
   "source": [
    "Let's sample from Beta distribution and generate a histogram:"
   ]
  },
  {
   "cell_type": "code",
   "execution_count": 22,
   "metadata": {},
   "outputs": [
    {
     "data": {
      "image/png": "[encoded data removed]",
      "text/plain": [
       "<matplotlib.figure.Figure at 0x1067c74a8>"
      ]
     },
     "metadata": {},
     "output_type": "display_data"
    }
   ],
   "source": [
    "r = beta.rvs(a_prior, b_prior, size=1000)\n",
    "plt.hist(r, normed=True);"
   ]
  },
  {
   "cell_type": "markdown",
   "metadata": {},
   "source": [
    "----\n",
    "Data\n",
    "----"
   ]
  },
  {
   "cell_type": "code",
   "execution_count": 23,
   "metadata": {
    "collapsed": true
   },
   "outputs": [],
   "source": [
    "Aclick, Bclick = 15, 26\n",
    "Anotclick, Bnotclick = 100, 110"
   ]
  },
  {
   "cell_type": "markdown",
   "metadata": {},
   "source": [
    "### Evaluation using closed form solution"
   ]
  },
  {
   "cell_type": "code",
   "execution_count": 24,
   "metadata": {},
   "outputs": [
    {
     "name": "stdout",
     "output_type": "stream",
     "text": [
      "The probabilty that B is better than A: 0.876\n"
     ]
    }
   ],
   "source": [
    "A_a = Aclick + a_prior\n",
    "A_b = Anotclick + b_prior\n",
    "B_a = Bclick + a_prior\n",
    "B_b = Bnotclick + b_prior\n",
    "\n",
    "prob_B_better_A = 0.0\n",
    "for i in range(B_a-1):\n",
    "    prob_B_better_A += np.exp(betaln(A_a+i,B_b+A_b)-np.log(B_b+i) \\\n",
    "                              - betaln(1+i, B_b) - betaln(A_a, A_b))\n",
    "print(f\"The probabilty that B is better than A: {prob_B_better_A:.3}\")"
   ]
  },
  {
   "cell_type": "markdown",
   "metadata": {},
   "source": [
    "# Monte Carlo simulations"
   ]
  },
  {
   "cell_type": "code",
   "execution_count": 27,
   "metadata": {},
   "outputs": [
    {
     "data": {
      "image/png": "[encoded data removed]",
      "text/plain": [
       "<matplotlib.figure.Figure at 0x111b3f9b0>"
      ]
     },
     "metadata": {},
     "output_type": "display_data"
    }
   ],
   "source": [
    "n_data = 100_0000\n",
    " \n",
    "A_samples = beta.rvs(A_a, A_b, size=n_data)\n",
    "B_samples= beta.rvs(B_a, B_b, size=n_data)\n",
    "\n",
    "plt.hist(A_samples, normed=True);\n",
    "plt.hist(B_samples, normed=True);"
   ]
  },
  {
   "cell_type": "markdown",
   "metadata": {},
   "source": [
    "# probability that B > A"
   ]
  },
  {
   "cell_type": "code",
   "execution_count": 28,
   "metadata": {},
   "outputs": [
    {
     "name": "stdout",
     "output_type": "stream",
     "text": [
      "The probabilty that B is better than A: 0.9\n"
     ]
    }
   ],
   "source": [
    "prob_B_better_A= sum(B_samples > A_samples)*1.0/n_data\n",
    "print(f\"The probabilty that B is better than A: {prob_B_better_A:.3}\")"
   ]
  },
  {
   "cell_type": "markdown",
   "metadata": {},
   "source": [
    "## How much B is better?"
   ]
  },
  {
   "cell_type": "code",
   "execution_count": 29,
   "metadata": {},
   "outputs": [
    {
     "data": {
      "image/png": "[encoded data removed]",
      "text/plain": [
       "<matplotlib.figure.Figure at 0x113ebb7b8>"
      ]
     },
     "metadata": {},
     "output_type": "display_data"
    }
   ],
   "source": [
    "plt.hist(B_samples/A_samples, normed=True, range=(0,4));"
   ]
  },
  {
   "cell_type": "markdown",
   "metadata": {},
   "source": [
    "A cumulative distribution function (CDF) is often a better way to find the magnitude. E.g., below plot shows there is a 20% chance that B is 80% better than A, and 50% chance that B is 40% better than A "
   ]
  },
  {
   "cell_type": "code",
   "execution_count": 30,
   "metadata": {},
   "outputs": [
    {
     "data": {
      "image/png": "[encoded data removed]",
      "text/plain": [
       "<matplotlib.figure.Figure at 0x114885ef0>"
      ]
     },
     "metadata": {},
     "output_type": "display_data"
    }
   ],
   "source": [
    "hist, bin_edges = np.histogram(B_samples/A_samples, bins=100,density=True)\n",
    "cdf = np.cumsum(hist*np.diff(bin_edges))\n",
    "plt.xlim(0.5,4)\n",
    "plt.plot(bin_edges[1:],cdf)\n",
    "plt.plot(bin_edges[1:],cdf**0*0.5)\n",
    "plt.plot(bin_edges[1:],cdf**0*0.8);\n"
   ]
  },
  {
   "cell_type": "code",
   "execution_count": null,
   "metadata": {
    "collapsed": true
   },
   "outputs": [],
   "source": []
  }
 ],
 "metadata": {
  "kernelspec": {
   "display_name": "Python 3",
   "language": "python",
   "name": "python3"
  },
  "language_info": {
   "codemirror_mode": {
    "name": "ipython",
    "version": 3
   },
   "file_extension": ".py",
   "mimetype": "text/x-python",
   "name": "python",
   "nbconvert_exporter": "python",
   "pygments_lexer": "ipython3",
   "version": "3.6.1"
  }
 },
 "nbformat": 4,
 "nbformat_minor": 1
}
