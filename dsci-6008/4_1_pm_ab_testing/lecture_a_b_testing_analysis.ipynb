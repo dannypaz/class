{
 "cells": [
  {
   "cell_type": "markdown",
   "metadata": {
    "slideshow": {
     "slide_type": "slide"
    }
   },
   "source": [
    "Bayesian A/B Testing Analysis\n",
    "------\n",
    "\n",
    "> Every time I make an A/B testing joke, I feel the urge to make a second joke with slightly different wording to see which is funnier."
   ]
  },
  {
   "cell_type": "markdown",
   "metadata": {
    "slideshow": {
     "slide_type": "slide"
    }
   },
   "source": [
    "By The End Of This Session You Should Be Able To:\n",
    "----\n",
    "\n",
    "- Explain the difference between Frequentist and Bayesian analysis for A/B testing\n",
    "- Conduct Bayesian A/B testing"
   ]
  },
  {
   "cell_type": "markdown",
   "metadata": {
    "slideshow": {
     "slide_type": "slide"
    }
   },
   "source": [
    "<center><img src=\"images/freq.png\" width=\"500\"/></center>\n",
    "\n",
    "Great for crop yields, awful for A/B testing\n",
    "-----\n",
    "\n",
    "- Deduction from P(data | H_0), by setting α in advance \n",
    "- Reject H_0 if P(data | H_0) < α\n",
    "- The sample size needs to be fixed in advance\n",
    "- Point estimates and standard errors or 95% confidence intervals \n"
   ]
  },
  {
   "cell_type": "markdown",
   "metadata": {
    "slideshow": {
     "slide_type": "slide"
    }
   },
   "source": [
    "<center><img src=\"images/bay.png\" width=\"500\"/></center>\n",
    "\n",
    "aka, The Better Way\n",
    "-----\n",
    "\n",
    "- Induction from P(θ | data), starting with P(θ)\n",
    "- Update results as data is collected\n",
    "- Estimate posterior distributions and credible intervals"
   ]
  },
  {
   "cell_type": "markdown",
   "metadata": {
    "slideshow": {
     "slide_type": "slide"
    }
   },
   "source": [
    "### Bayes Theorem  \n",
    "\n",
    "$$ P(\\theta \\ | \\ x) = \\frac{P(x \\ | \\ \\theta) P(\\theta)}{P(x)} $$"
   ]
  },
  {
   "cell_type": "markdown",
   "metadata": {
    "slideshow": {
     "slide_type": "fragment"
    }
   },
   "source": [
    "* $P(\\theta)$: **prior**, initial belief  \n",
    "* $P(x \\ | \\ \\theta)$: **likelihood** of data  \n",
    "* $P(\\theta \\ | \\ x)$: **posterior**, updated belief\n",
    "* $P(x)$: normalizing constant"
   ]
  },
  {
   "cell_type": "markdown",
   "metadata": {
    "slideshow": {
     "slide_type": "slide"
    }
   },
   "source": [
    "$$ \\text{posterior} \\propto \\text{prior} \\times \\text{likelihood} $$"
   ]
  },
  {
   "cell_type": "markdown",
   "metadata": {
    "slideshow": {
     "slide_type": "slide"
    }
   },
   "source": [
    "Why Bayesian A/B Testing?\n",
    "------\n",
    "\n",
    "There are three major advantages the Bayesian A/B test has over the frequentist method:\n",
    "\n",
    "1. Easier to interpret\n",
    "2. Peeking is okay\n",
    "3. Adjust testing in the middle"
   ]
  },
  {
   "cell_type": "markdown",
   "metadata": {
    "slideshow": {
     "slide_type": "slide"
    }
   },
   "source": [
    "1. Easier to interpret\n",
    "------\n",
    "\n",
    "For example, you can easily compute the probability that version B is better than version A. In contrast, a frequentist test does not allow this even as a possibility."
   ]
  },
  {
   "cell_type": "markdown",
   "metadata": {
    "slideshow": {
     "slide_type": "slide"
    }
   },
   "source": [
    "2. Peeking is okay\n",
    "------\n",
    "\n",
    "The Bayesian test is measuring the probability at time t that B is better than A (or vice versa). \n",
    "\n",
    "You can look at the data, check if the test is finished, and stop the test early if the result is highly conclusive. \n",
    "\n",
    "This philosophical advantage is also an empirical, business advantage when dealing with the reality that timing a test is often at odds with the reality that in a standard test, your results may come after a point where you ABSOLUTELY NEED to make a decision."
   ]
  },
  {
   "cell_type": "markdown",
   "metadata": {
    "slideshow": {
     "slide_type": "slide"
    }
   },
   "source": [
    "3. Adjust testing in the middle\n",
    "------\n",
    "\n",
    "You can alter your test material in the middle of the test.  \n",
    "\n",
    "If you believe your test is not going anywhere, you can use your current posteriors as new priors for what is essentially the start of a new test without any major interruptions in your development flow. \n",
    "\n",
    "Standard tests do __not__ allow for this because of the “no peeking” problem. This means a bayesian approach is extremely useful to anyone involved in either Agile Development or Agile Marketing, since the testing schedule can be made to work with your development lifecycle.  "
   ]
  },
  {
   "cell_type": "markdown",
   "metadata": {
    "slideshow": {
     "slide_type": "slide"
    }
   },
   "source": [
    "Conjugate Prior  \n",
    "-----\n",
    "\n",
    "If you want to continuously updated your posterior want your prior to belong to same distribution family."
   ]
  },
  {
   "cell_type": "markdown",
   "metadata": {
    "slideshow": {
     "slide_type": "slide"
    }
   },
   "source": [
    "<center><img src=\"https://www.johndcook.com/conjugate_prior_diagram.png\" width=\"500\"/></center>"
   ]
  },
  {
   "cell_type": "markdown",
   "metadata": {
    "slideshow": {
     "slide_type": "slide"
    }
   },
   "source": [
    "How are Coins Flips related to CTR?\n",
    "-----"
   ]
  },
  {
   "cell_type": "markdown",
   "metadata": {
    "slideshow": {
     "slide_type": "slide"
    }
   },
   "source": [
    "Conjugate Prior  for CTR\n",
    "-----\n",
    "\n",
    "A Beta prior has the following PDF:  \n",
    "\n",
    "$$ P(p) = \\frac{p^{\\alpha - 1} (1 - p)^{\\beta - 1}}{B(\\alpha, \\beta)} $$  \n",
    "\n",
    "A Binomial random variable has the following PDF:  \n",
    "\n",
    "$$ P(x \\ | \\ p) = \\binom{n}{x} p^x (1 - p)^{n - x} $$  \n",
    "\n"
   ]
  },
  {
   "cell_type": "markdown",
   "metadata": {
    "slideshow": {
     "slide_type": "slide"
    }
   },
   "source": [
    "If we multiply them, we get a Beta distribution again:  \n",
    "\n",
    "$$ \n",
    "\\begin{align*} \n",
    "\\text{posterior} &\\propto \\text{prior } \\times \\text{likelihood}   \\\\ \n",
    "&=  \\frac{p^{\\alpha - 1} (1 - p)^{\\beta - 1}}{B(\\alpha, \\beta)} \\times \\binom{n}{x} p^x (1 - p)^{n - x} \\\\\n",
    "&\\propto p^{\\alpha - 1} (1 - p)^{\\beta - 1} \\times p^x (1 - p)^{n - x} \\\\\n",
    "&\\propto p^{\\alpha + x - 1} (1 - p)^{\\beta + n - x - 1}\n",
    "\\end{align*} $$\n",
    "\n",
    "$\\Rightarrow \\text{posterior } \\sim Beta(\\alpha + x, \\beta + n - x) $  "
   ]
  },
  {
   "cell_type": "markdown",
   "metadata": {
    "slideshow": {
     "slide_type": "slide"
    }
   },
   "source": [
    "Credible Interval  \n",
    "------\n",
    "<br>\n",
    "<center><img src=\"http://jov.arvojournals.org/data/Journals/JOV/935592/m_i1534-7362-16-10-25-f05.png\" width=\"500\"/></center>\n",
    "\n",
    "The interval estimate we obtain based on the posterior distribution is called the **credible interval**\n",
    "\n",
    "Unlike the frequentist confidence interval, we can interpret the credible interval in terms of probability"
   ]
  },
  {
   "cell_type": "markdown",
   "metadata": {
    "slideshow": {
     "slide_type": "slide"
    }
   },
   "source": [
    "<br>"
   ]
  },
  {
   "cell_type": "markdown",
   "metadata": {
    "slideshow": {
     "slide_type": "slide"
    }
   },
   "source": [
    "Summary\n",
    "----\n",
    "\n",
    "- "
   ]
  },
  {
   "cell_type": "markdown",
   "metadata": {
    "collapsed": true,
    "slideshow": {
     "slide_type": "slide"
    }
   },
   "source": [
    "----\n",
    "Bonus Material\n",
    "-----"
   ]
  },
  {
   "cell_type": "markdown",
   "metadata": {
    "slideshow": {
     "slide_type": "slide"
    }
   },
   "source": [
    "<center><img src=\"images/stat sig.jpg\" width=\"300\"/></center>"
   ]
  },
  {
   "cell_type": "markdown",
   "metadata": {
    "slideshow": {
     "slide_type": "slide"
    }
   },
   "source": [
    "The Boss's Complaint\n",
    "----\n",
    "\n",
    "<center><img src=\"http://vignette2.wikia.nocookie.net/dilbert/images/9/95/Dilbert_PHB.jpg/revision/latest?cb=20090512154211\" height=\"500\"/></center>\n",
    "\n",
    "You've been running A/B tests, evaluating them, and making useful business decisions for months. You're confident that you're actually making correct decisions. Life seems good. But then in a meeting…"
   ]
  },
  {
   "cell_type": "markdown",
   "metadata": {
    "slideshow": {
     "slide_type": "slide"
    }
   },
   "source": [
    "Your boss asks, *\"So when can we wrap up that button test?\"*\n",
    "\n",
    "*\"It doesn't look like it will stop any time soon,\"* you reply.\n",
    "\n",
    "*\"I know,\"* says your boss, *\"we've been running it for three months, it has over 10k conversions. We have other ideas to try, we need to kill that test.\"*\n",
    "\n",
    "*\"But,\"* you say, *\"it is nowhere near significance. Stopping it is completely wrong under the procedure we're using, we'll have no idea whether we're making the right decision!\"*\n",
    "\n",
    "Your boss snaps, \"*Doing 'the right decision' could easily take a million more conversions! If we knew how to get to a million conversions, we'd all be rich and wouldn't care about the color of the button! We'll declare the red button the winner, and you need to figure out a better way to stop the next test.\"*"
   ]
  },
  {
   "cell_type": "markdown",
   "metadata": {
    "slideshow": {
     "slide_type": "slide"
    }
   },
   "source": [
    "Clearly your boss has a point. Businesses need to be able to make decisions, and have a limited ability to collect data. But how can we say that in math? And what are the consequences if we do?"
   ]
  },
  {
   "cell_type": "markdown",
   "metadata": {
    "slideshow": {
     "slide_type": "fragment"
    }
   },
   "source": [
    "Why are hypothesis tests under fire?  \n",
    "\n",
    "There are many reasons, and a crucial one is that hypothesis tests and p-values are hard to understand and hard to explain.  There are arbitrary thresholds (0.05?) and the results are binary - you can either reject the null hypothesis or fail to reject the null hypothesis.  And is that what you really care about? "
   ]
  },
  {
   "cell_type": "markdown",
   "metadata": {
    "slideshow": {
     "slide_type": "slide"
    }
   },
   "source": [
    "Which of these two statements is more appealing:\n",
    "\n",
    "1. \"We rejected the null hypothesis that A = B with a p-value of 0.043.\"\n",
    "\n",
    "2. \"There is an 85% chance that A has a 5% lift over B.\"\n",
    "\n",
    "Bayesian modeling can answer questions like #2 directly."
   ]
  },
  {
   "cell_type": "markdown",
   "metadata": {
    "slideshow": {
     "slide_type": "slide"
    }
   },
   "source": [
    "> Every time I make an A/B testing joke, I feel the urge to make a second joke with slightly different wording to see which is funnier."
   ]
  },
  {
   "cell_type": "markdown",
   "metadata": {
    "slideshow": {
     "slide_type": "slide"
    }
   },
   "source": [
    "**Exercise**:  \n",
    "\n",
    "* Find $P(p_A > p_B)$ and $P(p_A > p_B + 0.1)$\n",
    "* Give a 95% credible interval for the difference between $p_A$ and $p_B$"
   ]
  },
  {
   "cell_type": "markdown",
   "metadata": {
    "slideshow": {
     "slide_type": "slide"
    }
   },
   "source": [
    "Check for understanding\n",
    "------\n",
    "\n",
    "If I say µ is random variable, I am more Frequentist or Bayesian?"
   ]
  },
  {
   "cell_type": "markdown",
   "metadata": {
    "slideshow": {
     "slide_type": "fragment"
    }
   },
   "source": [
    "- In frequentist statistics:\n",
    "    * µ is fixed and unknown\n",
    "    * x̄  is a random variable"
   ]
  },
  {
   "cell_type": "markdown",
   "metadata": {
    "slideshow": {
     "slide_type": "fragment"
    }
   },
   "source": [
    "- In Bayesian statistics:\n",
    "    * µ is a random variable\n",
    "    * x̄  is observed and fixed"
   ]
  }
 ],
 "metadata": {
  "anaconda-cloud": {},
  "celltoolbar": "Slideshow",
  "kernelspec": {
   "display_name": "Python 3",
   "language": "python",
   "name": "python3"
  },
  "language_info": {
   "codemirror_mode": {
    "name": "ipython",
    "version": 3
   },
   "file_extension": ".py",
   "mimetype": "text/x-python",
   "name": "python",
   "nbconvert_exporter": "python",
   "pygments_lexer": "ipython3",
   "version": "3.6.1"
  }
 },
 "nbformat": 4,
 "nbformat_minor": 1
}
