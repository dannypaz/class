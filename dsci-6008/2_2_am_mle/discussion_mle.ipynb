{
 "cells": [
  {
   "cell_type": "markdown",
   "metadata": {
    "slideshow": {
     "slide_type": "slide"
    }
   },
   "source": [
    "Discuss…\n",
    "----\n",
    "<center><img src=\"https://cdn0.iconfinder.com/data/icons/targetdart/506/target-dart.png\" width=\"250\"/></center>\n",
    "\n",
    "> A guy notices a bunch of targets scattered over a barn wall, and in the center of each, in the \"bulls-eye,\" is a bullet hole. \n",
    "\n",
    "> \"Wow,\" he says to the farmer, \"that's pretty good shooting. How'd you do it?\" \n",
    "\n",
    "> \"Oh,\" says the farmer, \"it was easy. I painted the targets after I shot the holes.\""
   ]
  },
  {
   "cell_type": "markdown",
   "metadata": {
    "slideshow": {
     "slide_type": "slide"
    }
   },
   "source": [
    "<br>\n",
    "<br> \n",
    "<br>"
   ]
  }
 ],
 "metadata": {
  "celltoolbar": "Slideshow",
  "kernelspec": {
   "display_name": "Python 3",
   "language": "python",
   "name": "python3"
  },
  "language_info": {
   "codemirror_mode": {
    "name": "ipython",
    "version": 3
   },
   "file_extension": ".py",
   "mimetype": "text/x-python",
   "name": "python",
   "nbconvert_exporter": "python",
   "pygments_lexer": "ipython3",
   "version": "3.6.1"
  }
 },
 "nbformat": 4,
 "nbformat_minor": 2
}
