{
 "cells": [
  {
   "cell_type": "markdown",
   "metadata": {},
   "source": [
    "Lab: Maximum Likelihood estimation (MLE)\n",
    "----"
   ]
  },
  {
   "cell_type": "markdown",
   "metadata": {},
   "source": [
    "-----\n",
    "Part I: Estimating to Emperical Data\n",
    "-----"
   ]
  },
  {
   "cell_type": "markdown",
   "metadata": {},
   "source": [
    "How tall does your garden grow?\n",
    "-----\n",
    "\n",
    "![](http://www.weedist.com/wp-content/uploads/2012/08/natural-plants-225x300.jpg)\n",
    "\n",
    "Your \"gardener\" friend wants your help do some data analysis. He pays cash only!\n",
    "\n",
    "The file `plants.csv` contains heights to 1,000 plants. \n",
    "\n",
    "You are told that year-to-year the plant's heights resemble a normal distribution with a standard deviation of 3cm."
   ]
  },
  {
   "cell_type": "code",
   "execution_count": 1,
   "metadata": {
    "collapsed": true
   },
   "outputs": [],
   "source": [
    "import numpy as np\n",
    "import pandas as pd\n",
    "from scipy import stats\n",
    "import matplotlib.pyplot as plt\n",
    "import  seaborn as sns\n",
    "%matplotlib inline"
   ]
  },
  {
   "cell_type": "markdown",
   "metadata": {},
   "source": [
    "\n",
    "1) Read in `../data/plant.csv`\n",
    "   "
   ]
  },
  {
   "cell_type": "code",
   "execution_count": 2,
   "metadata": {
    "collapsed": true
   },
   "outputs": [],
   "source": [
    "plants = pd.read_csv('../data/plant.csv')"
   ]
  },
  {
   "cell_type": "markdown",
   "metadata": {},
   "source": [
    "2) Plot the data on a histogram and set normed=True to get the probability density histogram.\n",
    "\n",
    "\n",
    "Explore bins size. What is a useful number of bins?"
   ]
  },
  {
   "cell_type": "code",
   "execution_count": 3,
   "metadata": {
    "collapsed": false
   },
   "outputs": [
    {
     "data": {
      "text/html": [
       "<div>\n",
       "<table border=\"1\" class=\"dataframe\">\n",
       "  <thead>\n",
       "    <tr style=\"text-align: right;\">\n",
       "      <th></th>\n",
       "      <th>0</th>\n",
       "    </tr>\n",
       "  </thead>\n",
       "  <tbody>\n",
       "    <tr>\n",
       "      <th>count</th>\n",
       "      <td>1000.000000</td>\n",
       "    </tr>\n",
       "    <tr>\n",
       "      <th>mean</th>\n",
       "      <td>40.017209</td>\n",
       "    </tr>\n",
       "    <tr>\n",
       "      <th>std</th>\n",
       "      <td>2.873319</td>\n",
       "    </tr>\n",
       "    <tr>\n",
       "      <th>min</th>\n",
       "      <td>32.022567</td>\n",
       "    </tr>\n",
       "    <tr>\n",
       "      <th>25%</th>\n",
       "      <td>38.087044</td>\n",
       "    </tr>\n",
       "    <tr>\n",
       "      <th>50%</th>\n",
       "      <td>40.086478</td>\n",
       "    </tr>\n",
       "    <tr>\n",
       "      <th>75%</th>\n",
       "      <td>41.942700</td>\n",
       "    </tr>\n",
       "    <tr>\n",
       "      <th>max</th>\n",
       "      <td>48.214524</td>\n",
       "    </tr>\n",
       "  </tbody>\n",
       "</table>\n",
       "</div>"
      ],
      "text/plain": [
       "                 0\n",
       "count  1000.000000\n",
       "mean     40.017209\n",
       "std       2.873319\n",
       "min      32.022567\n",
       "25%      38.087044\n",
       "50%      40.086478\n",
       "75%      41.942700\n",
       "max      48.214524"
      ]
     },
     "execution_count": 3,
     "metadata": {},
     "output_type": "execute_result"
    }
   ],
   "source": [
    "plants.describe()"
   ]
  },
  {
   "cell_type": "code",
   "execution_count": 4,
   "metadata": {
    "collapsed": false
   },
   "outputs": [
    {
     "data": {
      "text/plain": [
       "(array([ 0.00988145,  0.02099808,  0.05373038,  0.09634413,  0.13031161,\n",
       "         0.13401716,  0.09510895,  0.04940725,  0.0197629 ,  0.00802868]),\n",
       " array([ 32.02256694,  33.64176262,  35.2609583 ,  36.88015398,\n",
       "         38.49934966,  40.11854535,  41.73774103,  43.35693671,\n",
       "         44.97613239,  46.59532807,  48.21452375]),\n",
       " <a list of 10 Patch objects>)"
      ]
     },
     "execution_count": 4,
     "metadata": {},
     "output_type": "execute_result"
    },
    {
     "data": {
      "image/png": "[encoded data removed]",
      "text/plain": [
       "<matplotlib.figure.Figure at 0x10d897828>"
      ]
     },
     "metadata": {},
     "output_type": "display_data"
    }
   ],
   "source": [
    "plt.hist(plants['0'],label='plant height',normed=True,bins=10)"
   ]
  },
  {
   "cell_type": "code",
   "execution_count": 5,
   "metadata": {
    "collapsed": false
   },
   "outputs": [
    {
     "data": {
      "text/plain": [
       "(array([ 0.01543976,  0.07503726,  0.13216438,  0.0722581 ,  0.01389579]),\n",
       " array([ 32.02256694,  35.2609583 ,  38.49934966,  41.73774103,\n",
       "         44.97613239,  48.21452375]),\n",
       " <a list of 5 Patch objects>)"
      ]
     },
     "execution_count": 5,
     "metadata": {},
     "output_type": "execute_result"
    },
    {
     "data": {
      "image/png": "[encoded data removed]",
      "text/plain": [
       "<matplotlib.figure.Figure at 0x10d8a77f0>"
      ]
     },
     "metadata": {},
     "output_type": "display_data"
    }
   ],
   "source": [
    "plt.hist(plants['0'],label='plant height',normed=True,bins=5)"
   ]
  },
  {
   "cell_type": "code",
   "execution_count": 6,
   "metadata": {
    "collapsed": false
   },
   "outputs": [
    {
     "data": {
      "text/plain": [
       "(array([ 0.0129694 ,  0.00833747,  0.02501242,  0.04261375,  0.0787428 ,\n",
       "         0.10375522,  0.13339957,  0.13617872,  0.12691486,  0.11023992,\n",
       "         0.06392063,  0.04261375,  0.02408603,  0.01389579,  0.00370554]),\n",
       " array([ 32.02256694,  33.10203073,  34.18149452,  35.2609583 ,\n",
       "         36.34042209,  37.41988588,  38.49934966,  39.57881345,\n",
       "         40.65827724,  41.73774103,  42.81720481,  43.8966686 ,\n",
       "         44.97613239,  46.05559617,  47.13505996,  48.21452375]),\n",
       " <a list of 15 Patch objects>)"
      ]
     },
     "execution_count": 6,
     "metadata": {},
     "output_type": "execute_result"
    },
    {
     "data": {
      "image/png": "[encoded data removed]",
      "text/plain": [
       "<matplotlib.figure.Figure at 0x10dac60b8>"
      ]
     },
     "metadata": {},
     "output_type": "display_data"
    }
   ],
   "source": [
    "plt.hist(plants['0'],label='plant height',normed=True,bins=15)"
   ]
  },
  {
   "cell_type": "code",
   "execution_count": 7,
   "metadata": {
    "collapsed": false
   },
   "outputs": [
    {
     "data": {
      "text/plain": [
       "(array([ 0.01080784,  0.01235181,  0.00771988,  0.01389579,  0.03242351,\n",
       "         0.04323134,  0.05095122,  0.08028678,  0.10344642,  0.09727052,\n",
       "         0.1374139 ,  0.13278197,  0.11425426,  0.17910127,  0.09727052,\n",
       "         0.131238  ,  0.08028678,  0.06021508,  0.05712713,  0.03242351,\n",
       "         0.02933555,  0.01698374,  0.01080784,  0.00771988,  0.00463193]),\n",
       " array([ 32.02256694,  32.67024521,  33.31792349,  33.96560176,\n",
       "         34.61328003,  35.2609583 ,  35.90863658,  36.55631485,\n",
       "         37.20399312,  37.85167139,  38.49934966,  39.14702794,\n",
       "         39.79470621,  40.44238448,  41.09006275,  41.73774103,\n",
       "         42.3854193 ,  43.03309757,  43.68077584,  44.32845412,\n",
       "         44.97613239,  45.62381066,  46.27148893,  46.9191672 ,\n",
       "         47.56684548,  48.21452375]),\n",
       " <a list of 25 Patch objects>)"
      ]
     },
     "execution_count": 7,
     "metadata": {},
     "output_type": "execute_result"
    },
    {
     "data": {
      "image/png": "[encoded data removed]",
      "text/plain": [
       "<matplotlib.figure.Figure at 0x10ddb90f0>"
      ]
     },
     "metadata": {},
     "output_type": "display_data"
    }
   ],
   "source": [
    "plt.hist(plants['0'],label='plant height',normed=True,bins=25)"
   ]
  },
  {
   "cell_type": "code",
   "execution_count": 8,
   "metadata": {
    "collapsed": false
   },
   "outputs": [
    {
     "data": {
      "text/plain": [
       "(array([ 0.00864627,  0.0129694 ,  0.0129694 ,  0.00432313,  0.01513097,\n",
       "         0.01729254,  0.03674664,  0.04971604,  0.03458507,  0.06268544,\n",
       "         0.08646268,  0.07997798,  0.11240149,  0.09943208,  0.13617872,\n",
       "         0.12969402,  0.12969402,  0.12320932,  0.16427909,  0.14482499,\n",
       "         0.09727052,  0.13185559,  0.09943208,  0.07997798,  0.05620074,\n",
       "         0.05836231,  0.04323134,  0.03674664,  0.0259388 ,  0.02810037,\n",
       "         0.0129694 ,  0.00864627,  0.0129694 ,  0.00216157,  0.0064847 ]),\n",
       " array([ 32.02256694,  32.48519428,  32.94782162,  33.41044895,\n",
       "         33.87307629,  34.33570363,  34.79833097,  35.2609583 ,\n",
       "         35.72358564,  36.18621298,  36.64884032,  37.11146765,\n",
       "         37.57409499,  38.03672233,  38.49934966,  38.961977  ,\n",
       "         39.42460434,  39.88723168,  40.34985901,  40.81248635,\n",
       "         41.27511369,  41.73774103,  42.20036836,  42.6629957 ,\n",
       "         43.12562304,  43.58825038,  44.05087771,  44.51350505,\n",
       "         44.97613239,  45.43875972,  45.90138706,  46.3640144 ,\n",
       "         46.82664174,  47.28926907,  47.75189641,  48.21452375]),\n",
       " <a list of 35 Patch objects>)"
      ]
     },
     "execution_count": 8,
     "metadata": {},
     "output_type": "execute_result"
    },
    {
     "data": {
      "image/png": "[encoded data removed]",
      "text/plain": [
       "<matplotlib.figure.Figure at 0x10df7e278>"
      ]
     },
     "metadata": {},
     "output_type": "display_data"
    }
   ],
   "source": [
    "plt.hist(plants['0'],label='plant height',normed=True,bins=35)"
   ]
  },
  {
   "cell_type": "markdown",
   "metadata": {},
   "source": [
    "- It seems like 25 is a good number of bins because this lets your see the spike around 41 inches"
   ]
  },
  {
   "cell_type": "code",
   "execution_count": null,
   "metadata": {
    "collapsed": true
   },
   "outputs": [],
   "source": []
  },
  {
   "cell_type": "markdown",
   "metadata": {},
   "source": [
    "3) What distribution would you consider fitting to the empirical data?\n",
    "\n",
    "<br>\n",
    "<details><summary>\n",
    "Click here for a hint…\n",
    "</summary>\n",
    "- Think about if the data is discrete or continuous <br>\n",
    "- Think about what the data describes\n",
    "</details>"
   ]
  },
  {
   "cell_type": "code",
   "execution_count": 9,
   "metadata": {
    "collapsed": true
   },
   "outputs": [],
   "source": [
    "# I would consider fitting a normal distribution to this data"
   ]
  },
  {
   "cell_type": "markdown",
   "metadata": {},
   "source": [
    "4) Write down the equation that would model the random variable in question with the distribution you have chosen\n",
    "\n",
    "For example:\n",
    "- $\\text{Let X be the number of heads in 5 coin flips}$\n",
    "- $X \\sim Binomial(n, p)$\n"
   ]
  },
  {
   "cell_type": "markdown",
   "metadata": {
    "collapsed": true
   },
   "source": [
    "- Let X be the height of a given plant from the sample\n",
    "- $X \\sim  Normal(40cm, 3cm)$"
   ]
  },
  {
   "cell_type": "code",
   "execution_count": null,
   "metadata": {
    "collapsed": true
   },
   "outputs": [],
   "source": []
  },
  {
   "cell_type": "code",
   "execution_count": null,
   "metadata": {
    "collapsed": true
   },
   "outputs": [],
   "source": []
  },
  {
   "cell_type": "code",
   "execution_count": null,
   "metadata": {
    "collapsed": true
   },
   "outputs": [],
   "source": []
  },
  {
   "cell_type": "markdown",
   "metadata": {},
   "source": [
    "5) Write down the likelihood function to calculate the likelihood of a given parameter value:\n",
    "\n",
    "Write it Latex or write the formula, take a picture, and embed the picture\n",
    "\n",
    "<br>\n",
    "<details><summary>\n",
    "Click here for a hint…\n",
    "</summary>\n",
    "- This will be based on the distribution you have chosen above <br>\n",
    "- A **parameter** of the binomial distribution will be `n` or `p` for example <br>\n",
    "- The likelihood function would be the product of the probabilities for each data point \n",
    "\n",
    "</details>"
   ]
  },
  {
   "cell_type": "markdown",
   "metadata": {
    "collapsed": true
   },
   "source": [
    "$L(\\theta_1,\\theta_2)=\\prod\\limits_{i=1}^n f(x_i;\\theta_1,\\theta_2)=\\theta^{-n/2}_2(2\\pi)^{-n/2}\\text{exp}\\left[-\\dfrac{1}{2\\theta_2}\\sum\\limits_{i=1}^n(x_i-\\theta_1)^2\\right]$"
   ]
  },
  {
   "cell_type": "markdown",
   "metadata": {},
   "source": [
    "- find the likelihood with respect to $\\theta_1=\\mu$ =$\\hat{\\theta}_1=\\hat{\\mu}=\\dfrac{\\sum x_i}{n}=\\bar{x}$\n",
    "    - To find the likelihood, take the derivative of the Likelihood funcwith wrt. $\\theta_1$ and set equal to zero"
   ]
  },
  {
   "cell_type": "markdown",
   "metadata": {},
   "source": [
    "- Next, find the likelihood function wrt to $\\hat{\\theta}_2=\\hat{\\sigma}^2=\\dfrac{\\sum(x_i-\\bar{x})^2}{n}$"
   ]
  },
  {
   "cell_type": "markdown",
   "metadata": {},
   "source": [
    "6) Write a python function that will calculate the __likelihood__ of a parameter given the data\n",
    "\n",
    "- The function will take a parameter and the data as arguments\n",
    "- Use `scipy.stats` and `numpy.product()`\n",
    "\n",
    "<br>\n",
    "\n",
    "<details><summary>\n",
    "Click here for a hint…\n",
    "</summary>\n",
    "Look at the returned values. Is there some thing strange about them?\n",
    "</details>"
   ]
  },
  {
   "cell_type": "code",
   "execution_count": 10,
   "metadata": {
    "collapsed": true
   },
   "outputs": [],
   "source": [
    "import scipy.stats as stats\n",
    "import numpy as np"
   ]
  },
  {
   "cell_type": "code",
   "execution_count": 11,
   "metadata": {
    "collapsed": false
   },
   "outputs": [
    {
     "name": "stdout",
     "output_type": "stream",
     "text": [
      "38.9085248663\n"
     ]
    }
   ],
   "source": [
    "for k,v in plants.iterrows():\n",
    "    print(v[0])\n",
    "    break"
   ]
  },
  {
   "cell_type": "code",
   "execution_count": 16,
   "metadata": {
    "collapsed": true
   },
   "outputs": [],
   "source": [
    "def normal_likelihood(data,mean,sigma=3):\n",
    "    # return the likelihood of a parameter given the data\n",
    "    for m in mean:\n",
    "        print(f'likelihood of {m} is {np.product([stats.norm(m,sigma).pdf(d[0]) for k,d in data.iterrows()])}')"
   ]
  },
  {
   "cell_type": "code",
   "execution_count": 17,
   "metadata": {
    "collapsed": false
   },
   "outputs": [
    {
     "name": "stdout",
     "output_type": "stream",
     "text": [
      "likelihood of 40 is 0.0\n",
      "likelihood of 32 is 0.0\n"
     ]
    }
   ],
   "source": [
    "normal_likelihood(plants,[40,32])"
   ]
  },
  {
   "cell_type": "markdown",
   "metadata": {},
   "source": [
    "7) Write a python function that will calculate the __log-likelihood__ of a parameter given the data\n",
    "\n",
    "- The function will take a parameter and the data as arguments\n",
    "- Use `scipy.stats` and switch to `sum`"
   ]
  },
  {
   "cell_type": "code",
   "execution_count": 23,
   "metadata": {
    "collapsed": true
   },
   "outputs": [],
   "source": [
    "def normal_likelihood_log(data,mean,sigma=3):\n",
    "    # return the log likelihood from a list of parameters given the data\n",
    "    params_log_likelihood = []\n",
    "    for m in mean:\n",
    "        log_likelihood = np.sum([np.log(stats.norm(m,sigma).pdf(d[0])) for k,d in data.iterrows()])\n",
    "        print(f\"log-likelihood of {m} is {log_likelihood }\")\n",
    "        \n",
    "        params_log_likelihood.append((m,log_likelihood ))\n",
    "    return params_log_likelihood"
   ]
  },
  {
   "cell_type": "code",
   "execution_count": 24,
   "metadata": {
    "collapsed": false
   },
   "outputs": [
    {
     "name": "stdout",
     "output_type": "stream",
     "text": [
      "log-likelihood of 40 is -2475.773054748312\n",
      "log-likelihood of 32 is -6046.625357685913\n"
     ]
    },
    {
     "data": {
      "text/plain": [
       "[(40, -2475.773054748312), (32, -6046.6253576859126)]"
      ]
     },
     "execution_count": 24,
     "metadata": {},
     "output_type": "execute_result"
    }
   ],
   "source": [
    "normal_likelihood_log(plants,[40,32])"
   ]
  },
  {
   "cell_type": "code",
   "execution_count": null,
   "metadata": {
    "collapsed": true
   },
   "outputs": [],
   "source": []
  },
  {
   "cell_type": "markdown",
   "metadata": {},
   "source": [
    "8) Define a range of possible values for the parameter (from 32 to 42) (using `numpy.linspace`).\n",
    "\n",
    "Calculate the likelihood for each of the values defined in the range.\n",
    "\n",
    "Plot the values ($x$) against the likelihood ($L(\\theta)$) "
   ]
  },
  {
   "cell_type": "code",
   "execution_count": 22,
   "metadata": {
    "collapsed": true
   },
   "outputs": [],
   "source": [
    "possible_means = np.linspace(32,42,30)\n",
    "\n"
   ]
  },
  {
   "cell_type": "code",
   "execution_count": 26,
   "metadata": {
    "collapsed": false
   },
   "outputs": [
    {
     "name": "stdout",
     "output_type": "stream",
     "text": [
      "log-likelihood of 32.0 is -6046.625357685913\n",
      "log-likelihood of 32.3448275862069 is -5746.0584976207265\n",
      "log-likelihood of 32.689655172413794 is -5458.703422467682\n",
      "log-likelihood of 33.03448275862069 is -5184.5601322267785\n",
      "log-likelihood of 33.37931034482759 is -4923.6286268980175\n",
      "log-likelihood of 33.724137931034484 is -4675.908906481398\n",
      "log-likelihood of 34.06896551724138 is -4441.40097097692\n",
      "log-likelihood of 34.41379310344828 is -4220.104820384584\n",
      "log-likelihood of 34.758620689655174 is -4012.0204547043895\n",
      "log-likelihood of 35.10344827586207 is -3817.1478739363365\n",
      "log-likelihood of 35.44827586206897 is -3635.487078080426\n",
      "log-likelihood of 35.793103448275865 is -3467.0380671366556\n",
      "log-likelihood of 36.13793103448276 is -3311.8008411050278\n",
      "log-likelihood of 36.48275862068966 is -3169.7753999855413\n",
      "log-likelihood of 36.827586206896555 is -3040.9617437781967\n",
      "log-likelihood of 37.172413793103445 is -2925.3598724829963\n",
      "log-likelihood of 37.51724137931035 is -2822.969786099932\n",
      "log-likelihood of 37.86206896551724 is -2733.7914846290146\n",
      "log-likelihood of 38.20689655172414 is -2657.8249680702347\n",
      "log-likelihood of 38.55172413793103 is -2595.0702364235995\n",
      "log-likelihood of 38.89655172413793 is -2545.5272896891042\n",
      "log-likelihood of 39.241379310344826 is -2509.1961278667513\n",
      "log-likelihood of 39.58620689655172 is -2486.076750956539\n",
      "log-likelihood of 39.93103448275862 is -2476.169158958469\n",
      "log-likelihood of 40.275862068965516 is -2479.4733518725407\n",
      "log-likelihood of 40.62068965517241 is -2495.989329698754\n",
      "log-likelihood of 40.96551724137931 is -2525.7170924371085\n",
      "log-likelihood of 41.310344827586206 is -2568.6566400876054\n",
      "log-likelihood of 41.6551724137931 is -2624.8079726502433\n",
      "log-likelihood of 42.0 is -2694.171090125023\n"
     ]
    }
   ],
   "source": [
    "results = normal_likelihood_log(plants,possible_means)"
   ]
  },
  {
   "cell_type": "code",
   "execution_count": 37,
   "metadata": {
    "collapsed": false
   },
   "outputs": [
    {
     "name": "stdout",
     "output_type": "stream",
     "text": [
      "(32.0, 32.344827586206897, 32.689655172413794, 33.03448275862069, 33.379310344827587, 33.724137931034484, 34.068965517241381, 34.413793103448278, 34.758620689655174, 35.103448275862071, 35.448275862068968, 35.793103448275865, 36.137931034482762, 36.482758620689658, 36.827586206896555, 37.172413793103445, 37.517241379310349, 37.862068965517238, 38.206896551724142, 38.551724137931032, 38.896551724137929, 39.241379310344826, 39.586206896551722, 39.931034482758619, 40.275862068965516, 40.620689655172413, 40.96551724137931, 41.310344827586206, 41.655172413793103, 42.0) (-6046.6253576859126, -5746.0584976207265, -5458.7034224676818, -5184.5601322267785, -4923.6286268980175, -4675.9089064813979, -4441.4009709769198, -4220.1048203845839, -4012.0204547043895, -3817.1478739363365, -3635.4870780804258, -3467.0380671366556, -3311.8008411050278, -3169.7753999855413, -3040.9617437781967, -2925.3598724829963, -2822.9697860999322, -2733.7914846290146, -2657.8249680702347, -2595.0702364235995, -2545.5272896891042, -2509.1961278667513, -2486.0767509565389, -2476.1691589584689, -2479.4733518725407, -2495.9893296987539, -2525.7170924371085, -2568.6566400876054, -2624.8079726502433, -2694.1710901250231)\n"
     ]
    }
   ],
   "source": [
    "print(*zip(*results))"
   ]
  },
  {
   "cell_type": "code",
   "execution_count": 36,
   "metadata": {
    "collapsed": false
   },
   "outputs": [
    {
     "data": {
      "text/plain": [
       "<matplotlib.legend.Legend at 0x10eabed30>"
      ]
     },
     "execution_count": 36,
     "metadata": {},
     "output_type": "execute_result"
    },
    {
     "data": {
      "image/png": "[encoded data removed]",
      "text/plain": [
       "<matplotlib.figure.Figure at 0x10eb4e9e8>"
      ]
     },
     "metadata": {},
     "output_type": "display_data"
    }
   ],
   "source": [
    "plt.figure(figsize=(10,5))\n",
    "plt.plot(*zip(*results),label='log likelihood')\n",
    "plt.xlabel('possible values for the mean')\n",
    "plt.legend()"
   ]
  },
  {
   "cell_type": "markdown",
   "metadata": {},
   "source": [
    "9) Find the maximum likelihood estimate for the parameter of interest\n",
    "\n",
    "<br>\n",
    "<details><summary>\n",
    "Click here for a hint…\n",
    "</summary>\n",
    "use `numpy.argmax`\n",
    "</details>"
   ]
  },
  {
   "cell_type": "code",
   "execution_count": 38,
   "metadata": {
    "collapsed": true
   },
   "outputs": [],
   "source": [
    "from operator import itemgetter"
   ]
  },
  {
   "cell_type": "code",
   "execution_count": null,
   "metadata": {
    "collapsed": true
   },
   "outputs": [],
   "source": [
    "itemgetter()"
   ]
  },
  {
   "cell_type": "code",
   "execution_count": 41,
   "metadata": {
    "collapsed": false
   },
   "outputs": [],
   "source": [
    "arg_max  = np.argmax([i[1] for i in results])"
   ]
  },
  {
   "cell_type": "code",
   "execution_count": 42,
   "metadata": {
    "collapsed": false
   },
   "outputs": [
    {
     "name": "stdout",
     "output_type": "stream",
     "text": [
      "The MLE for the mean is 39.93103448275862\n"
     ]
    }
   ],
   "source": [
    "print(f'The MLE for the mean is {results[arg_max][0]}')"
   ]
  },
  {
   "cell_type": "markdown",
   "metadata": {},
   "source": [
    "10) What does this estimate mean? In general? For this data?"
   ]
  },
  {
   "cell_type": "markdown",
   "metadata": {
    "collapsed": true
   },
   "source": [
    "- This estimates means that the most likely mean of this data (height of a plant) is 39.9cm"
   ]
  },
  {
   "cell_type": "code",
   "execution_count": null,
   "metadata": {
    "collapsed": true
   },
   "outputs": [],
   "source": []
  },
  {
   "cell_type": "markdown",
   "metadata": {},
   "source": [
    "11) Create a plot the empirical data and the estimated model:"
   ]
  },
  {
   "cell_type": "code",
   "execution_count": 47,
   "metadata": {
    "collapsed": true
   },
   "outputs": [],
   "source": [
    "estimated_model = stats.norm(39.9,3)"
   ]
  },
  {
   "cell_type": "code",
   "execution_count": 71,
   "metadata": {
    "collapsed": false
   },
   "outputs": [
    {
     "data": {
      "text/plain": [
       "<matplotlib.axes._subplots.AxesSubplot at 0x11153a940>"
      ]
     },
     "execution_count": 71,
     "metadata": {},
     "output_type": "execute_result"
    },
    {
     "data": {
      "image/png": "[encoded data removed]",
      "text/plain": [
       "<matplotlib.figure.Figure at 0x111361668>"
      ]
     },
     "metadata": {},
     "output_type": "display_data"
    }
   ],
   "source": [
    "\n",
    "plants.plot(kind='kde',label='original data')\n",
    "sns.kdeplot(estimated_model.rvs(100),label='estimated model')"
   ]
  },
  {
   "cell_type": "code",
   "execution_count": 88,
   "metadata": {
    "collapsed": false
   },
   "outputs": [],
   "source": [
    "empirical_model_params = stats.norm.fit(plants)\n",
    "empirical_model = stats.norm(*empirical_model_params)"
   ]
  },
  {
   "cell_type": "code",
   "execution_count": null,
   "metadata": {
    "collapsed": true
   },
   "outputs": [],
   "source": []
  },
  {
   "cell_type": "markdown",
   "metadata": {},
   "source": [
    "### Challenge Activity\n",
    "\n",
    "\n",
    "Find the K-L Divergence between the empirical data and the estimated model:"
   ]
  },
  {
   "cell_type": "code",
   "execution_count": 86,
   "metadata": {
    "collapsed": true
   },
   "outputs": [],
   "source": [
    "from math import log2"
   ]
  },
  {
   "cell_type": "code",
   "execution_count": 103,
   "metadata": {
    "collapsed": true
   },
   "outputs": [],
   "source": [
    "def kl_divergence(p,q):\n",
    "    #https://stats.stackexchange.com/questions/7440/kl-divergence-between-two-univariate-gaussians\n",
    "    return log2(q['std']/p['std']) + (p['std']**2 + (p['mean'] - q['mean'])**2)/(2*q['std']**2) -1/2"
   ]
  },
  {
   "cell_type": "code",
   "execution_count": 138,
   "metadata": {
    "collapsed": false
   },
   "outputs": [],
   "source": [
    "from math import sqrt, pi, e"
   ]
  },
  {
   "cell_type": "code",
   "execution_count": 155,
   "metadata": {
    "collapsed": false
   },
   "outputs": [
    {
     "data": {
      "text/plain": [
       "39.899999999999999"
      ]
     },
     "execution_count": 155,
     "metadata": {},
     "output_type": "execute_result"
    }
   ],
   "source": [
    "estimated_model.mean()"
   ]
  },
  {
   "cell_type": "code",
   "execution_count": 156,
   "metadata": {
    "collapsed": false
   },
   "outputs": [
    {
     "data": {
      "text/plain": [
       "9.0"
      ]
     },
     "execution_count": 156,
     "metadata": {},
     "output_type": "execute_result"
    }
   ],
   "source": [
    "estimated_model.var()"
   ]
  },
  {
   "cell_type": "code",
   "execution_count": 157,
   "metadata": {
    "collapsed": false
   },
   "outputs": [],
   "source": [
    "var = 2.87**2\n",
    "u = 40\n",
    "var_fit = 9.0\n",
    "u_fit = 39.9"
   ]
  },
  {
   "cell_type": "code",
   "execution_count": 158,
   "metadata": {
    "collapsed": false
   },
   "outputs": [],
   "source": [
    "norm_pdf_original = lambda r : (1/sqrt(2*pi*var))*e**(-(r-u)**2/(2*var))\n",
    "norm_pdf_fitted = lambda r : (1/sqrt(2*pi*var_fit))*e**(-(r-u_fit)**2/(2*var_fit))\n"
   ]
  },
  {
   "cell_type": "code",
   "execution_count": 159,
   "metadata": {
    "collapsed": false
   },
   "outputs": [
    {
     "data": {
      "text/plain": [
       "(0.9982866567092143, 1.1083208427355076e-14)"
      ]
     },
     "execution_count": 159,
     "metadata": {},
     "output_type": "execute_result"
    }
   ],
   "source": [
    "integrate.quad(norm_pdf_original,31,49)"
   ]
  },
  {
   "cell_type": "code",
   "execution_count": 160,
   "metadata": {
    "collapsed": false
   },
   "outputs": [
    {
     "data": {
      "text/plain": [
       "(0.9972854229012696, 1.1072092390471784e-14)"
      ]
     },
     "execution_count": 160,
     "metadata": {},
     "output_type": "execute_result"
    }
   ],
   "source": [
    "integrate.quad(norm_pdf_fitted,31,49)"
   ]
  },
  {
   "cell_type": "code",
   "execution_count": 163,
   "metadata": {
    "collapsed": false
   },
   "outputs": [
    {
     "data": {
      "text/plain": [
       "0.0014451999039167321"
      ]
     },
     "execution_count": 163,
     "metadata": {},
     "output_type": "execute_result"
    }
   ],
   "source": [
    "(0.9982866567092143*log2(0.9982866567092143/0.9972854229012696)) +\\\n",
    "    (1.1083208427355076e-14*log2(1.1083208427355076e-14/1.1072092390471784e-14))"
   ]
  },
  {
   "cell_type": "code",
   "execution_count": null,
   "metadata": {
    "collapsed": true
   },
   "outputs": [],
   "source": []
  },
  {
   "cell_type": "code",
   "execution_count": null,
   "metadata": {
    "collapsed": true
   },
   "outputs": [],
   "source": []
  },
  {
   "cell_type": "code",
   "execution_count": 112,
   "metadata": {
    "collapsed": false
   },
   "outputs": [],
   "source": [
    "p={'mean':40.0,'std':2.87}\n",
    "q={'mean':39.9, 'std':3.0}"
   ]
  },
  {
   "cell_type": "code",
   "execution_count": 113,
   "metadata": {
    "collapsed": false
   },
   "outputs": [
    {
     "data": {
      "text/plain": [
       "0.022072874931304276"
      ]
     },
     "execution_count": 113,
     "metadata": {},
     "output_type": "execute_result"
    }
   ],
   "source": [
    "kl_divergence(p,q)"
   ]
  },
  {
   "cell_type": "markdown",
   "metadata": {},
   "source": [
    "-----\n",
    "Part II: Estimating Distrubtions\n",
    "-----"
   ]
  },
  {
   "cell_type": "markdown",
   "metadata": {},
   "source": [
    "__1)__ Let $X_1, \\dots, X_n$ be i.i.d. with PDF  \n",
    "\n",
    "$$ f(x | \\theta) = \\theta x^{\\theta - 1} \\text{, } 0 \\leq x \\leq 1 \\text{, } 0 < \\theta < \\infty $$\n",
    "\n",
    "Find the MLE of $\\theta$."
   ]
  },
  {
   "cell_type": "code",
   "execution_count": null,
   "metadata": {
    "collapsed": true
   },
   "outputs": [],
   "source": []
  },
  {
   "cell_type": "code",
   "execution_count": 82,
   "metadata": {
    "collapsed": true
   },
   "outputs": [],
   "source": [
    "# Find the likelihood function = Product of F(X|theta)\n",
    "# Take the log of the likelihood function = log(theta) + (theta-1)log(x)\n",
    "# Take the derivative of the likelihood function wrt to theta. 0 = n/theta + log(SUM(x))\n",
    "# Solve for theta = -log(SUM(x)) = n/theta  => - n/SUM(log(Xi)) = theta\n"
   ]
  },
  {
   "cell_type": "markdown",
   "metadata": {},
   "source": [
    "__3)__\n",
    "\n",
    "Let $X_1, \\dots, X_n$ be a random sample from a population with PMF\n",
    "\n",
    "$$ P(X = x) = \\theta^x (1 - \\theta)^{1 - x} \\text{, } x = 0 \\text{ or } 1 \\text{, } 0 \\leq \\theta \\leq \\frac{1}{2} $$  \n",
    "\n",
    "a) Find the MLE of $\\theta$.  "
   ]
  },
  {
   "cell_type": "code",
   "execution_count": 83,
   "metadata": {
    "collapsed": true
   },
   "outputs": [],
   "source": [
    "# Find the likelihood function = Product of P(X=x)\n",
    "# Take the log of the likelihood function = nx*log(theta) + log(1-theta)*SUM(1-Xi)\n",
    "# Take the derivative of the likelihood function wrt. theta and set to zero\n",
    "# 0 = SUM(Xi)/theta - (n-Xi)/(1-theta)\n",
    "# theta = 1/n*SUM(Xi)"
   ]
  },
  {
   "cell_type": "code",
   "execution_count": null,
   "metadata": {
    "collapsed": true
   },
   "outputs": [],
   "source": []
  },
  {
   "cell_type": "code",
   "execution_count": null,
   "metadata": {
    "collapsed": true
   },
   "outputs": [],
   "source": []
  },
  {
   "cell_type": "markdown",
   "metadata": {},
   "source": [
    "b) Does the MLE estimator seem reasonable? Justify your choice."
   ]
  },
  {
   "cell_type": "code",
   "execution_count": null,
   "metadata": {
    "collapsed": true
   },
   "outputs": [],
   "source": [
    "# Yes, the MLE estimator seems reasonable . the MLE estimator is the sample mean of the distribution.\n",
    "# For a binomial distribution, this seems reasonable as the mean"
   ]
  },
  {
   "cell_type": "markdown",
   "metadata": {},
   "source": [
    "----\n",
    "Challenge Exercises\n",
    "----\n"
   ]
  },
  {
   "cell_type": "markdown",
   "metadata": {},
   "source": [
    "Kampala is an Ugandan city:\n",
    "![](http://www.operationworld.org/files/ow/maps/lgmap/ugan-MMAP-md.png)\n",
    "\n",
    "It experiences frequent power outages:\n",
    "![](https://upload.wikimedia.org/wikipedia/commons/9/90/UMEME-Outages-Kampala-Kibuli.png)\n",
    "\n",
    "The file `outage.csv` contains the number of power outages Kampala (Ugandan city) experiences each month for the past 72 months."
   ]
  },
  {
   "cell_type": "markdown",
   "metadata": {},
   "source": [
    "1) Read in the `../data/outage.csv`"
   ]
  },
  {
   "cell_type": "code",
   "execution_count": null,
   "metadata": {
    "collapsed": true
   },
   "outputs": [],
   "source": []
  },
  {
   "cell_type": "markdown",
   "metadata": {},
   "source": []
  },
  {
   "cell_type": "code",
   "execution_count": 115,
   "metadata": {
    "collapsed": true
   },
   "outputs": [],
   "source": [
    "kampala = pd.read_csv('../data/outage.csv')"
   ]
  },
  {
   "cell_type": "code",
   "execution_count": 120,
   "metadata": {
    "collapsed": false
   },
   "outputs": [
    {
     "data": {
      "text/html": [
       "<div>\n",
       "<table border=\"1\" class=\"dataframe\">\n",
       "  <thead>\n",
       "    <tr style=\"text-align: right;\">\n",
       "      <th></th>\n",
       "      <th>0</th>\n",
       "    </tr>\n",
       "  </thead>\n",
       "  <tbody>\n",
       "    <tr>\n",
       "      <th>count</th>\n",
       "      <td>72.000000</td>\n",
       "    </tr>\n",
       "    <tr>\n",
       "      <th>mean</th>\n",
       "      <td>19.236111</td>\n",
       "    </tr>\n",
       "    <tr>\n",
       "      <th>std</th>\n",
       "      <td>4.015789</td>\n",
       "    </tr>\n",
       "    <tr>\n",
       "      <th>min</th>\n",
       "      <td>11.000000</td>\n",
       "    </tr>\n",
       "    <tr>\n",
       "      <th>25%</th>\n",
       "      <td>16.000000</td>\n",
       "    </tr>\n",
       "    <tr>\n",
       "      <th>50%</th>\n",
       "      <td>19.000000</td>\n",
       "    </tr>\n",
       "    <tr>\n",
       "      <th>75%</th>\n",
       "      <td>21.000000</td>\n",
       "    </tr>\n",
       "    <tr>\n",
       "      <th>max</th>\n",
       "      <td>30.000000</td>\n",
       "    </tr>\n",
       "  </tbody>\n",
       "</table>\n",
       "</div>"
      ],
      "text/plain": [
       "               0\n",
       "count  72.000000\n",
       "mean   19.236111\n",
       "std     4.015789\n",
       "min    11.000000\n",
       "25%    16.000000\n",
       "50%    19.000000\n",
       "75%    21.000000\n",
       "max    30.000000"
      ]
     },
     "execution_count": 120,
     "metadata": {},
     "output_type": "execute_result"
    }
   ],
   "source": [
    "kampala.describe()"
   ]
  },
  {
   "cell_type": "markdown",
   "metadata": {},
   "source": [
    "2) Plot the data on a histogram and set `normed=True` to get the probability density histogram.\n",
    "\n",
    "Explore bins size. What is a useful number of bins?"
   ]
  },
  {
   "cell_type": "code",
   "execution_count": 119,
   "metadata": {
    "collapsed": false
   },
   "outputs": [
    {
     "data": {
      "text/plain": [
       "<matplotlib.axes._subplots.AxesSubplot at 0x1119f5ba8>"
      ]
     },
     "execution_count": 119,
     "metadata": {},
     "output_type": "execute_result"
    },
    {
     "data": {
      "image/png": "[encoded data removed]",
      "text/plain": [
       "<matplotlib.figure.Figure at 0x111a0d9e8>"
      ]
     },
     "metadata": {},
     "output_type": "display_data"
    }
   ],
   "source": [
    "kampala.plot(kind='hist',bins=25)"
   ]
  },
  {
   "cell_type": "markdown",
   "metadata": {},
   "source": [
    "3)  What distribution would you consider fitting the data to given the nature of the data ?\n",
    "\n",
    "- Think about if the data is discrete or continuous \n",
    "- Think about what the data describes"
   ]
  },
  {
   "cell_type": "code",
   "execution_count": 121,
   "metadata": {
    "collapsed": true
   },
   "outputs": [],
   "source": [
    "# I would consider fitting a poisson distribution (for the number of outages)"
   ]
  },
  {
   "cell_type": "code",
   "execution_count": null,
   "metadata": {
    "collapsed": true
   },
   "outputs": [],
   "source": []
  },
  {
   "cell_type": "markdown",
   "metadata": {},
   "source": [
    "4) Write down the equation that would model the random variable in question with the distribution you have chosen"
   ]
  },
  {
   "cell_type": "markdown",
   "metadata": {
    "collapsed": true
   },
   "source": [
    "$\\!f(k;\\lambda )={\\frac {\\lambda ^{k}e^{-\\lambda }}{k!}} where \\lambda =19  $"
   ]
  },
  {
   "cell_type": "code",
   "execution_count": null,
   "metadata": {
    "collapsed": true
   },
   "outputs": [],
   "source": []
  },
  {
   "cell_type": "markdown",
   "metadata": {},
   "source": [
    "5) Write down the likelihood function to calculate the likelihood of a given parameter value \n",
    "\n",
    "<br>\n",
    "\n",
    "<details><summary>\n",
    "Click here for the solution…\n",
    "</summary>\n",
    "$$\\mathcal{L}(\\lambda) = \\prod_{i=0}^n \\frac{{e^{ - \\lambda } \\lambda ^{x_i} }}{{x_i!}}$$\n",
    "</details>"
   ]
  },
  {
   "cell_type": "markdown",
   "metadata": {
    "collapsed": true
   },
   "source": [
    "$\\begin{align} L(\\lambda;x) &= \\prod\\limits_{i=1}^n \\dfrac{\\lambda^{x_i}e^{-\\lambda}}{x_i!}\\\\ &= \\dfrac{\\lambda^{\\sum\\limits^n_{i=1}x_i} e^{-n\\lambda}}{x_1!x_2! \\cdots x_n!}\\\\ \\end{align}$"
   ]
  },
  {
   "cell_type": "code",
   "execution_count": null,
   "metadata": {
    "collapsed": true
   },
   "outputs": [],
   "source": []
  },
  {
   "cell_type": "code",
   "execution_count": null,
   "metadata": {
    "collapsed": true
   },
   "outputs": [],
   "source": []
  },
  {
   "cell_type": "markdown",
   "metadata": {},
   "source": [
    "6) Write a python function that will calculate the likelihood of a parameter given the data\n",
    "\n",
    "- The function will take a parameter and the data as arguments\n",
    "- Use `scipy.stats` and `numpy.product()`"
   ]
  },
  {
   "cell_type": "code",
   "execution_count": null,
   "metadata": {
    "collapsed": true
   },
   "outputs": [],
   "source": []
  },
  {
   "cell_type": "code",
   "execution_count": null,
   "metadata": {
    "collapsed": true
   },
   "outputs": [],
   "source": []
  },
  {
   "cell_type": "code",
   "execution_count": null,
   "metadata": {
    "collapsed": true
   },
   "outputs": [],
   "source": []
  },
  {
   "cell_type": "code",
   "execution_count": null,
   "metadata": {
    "collapsed": true
   },
   "outputs": [],
   "source": []
  },
  {
   "cell_type": "markdown",
   "metadata": {},
   "source": [
    "7) Define a range of possible values for the parameter from `14` to `21` (using `numpy.linspace`).\n",
    "\n",
    "Calculate the likelihood for each of the values defined in the range.\n",
    "\n",
    "Plot the values ($x$) against the likelihood ($L(\\theta)$) "
   ]
  },
  {
   "cell_type": "code",
   "execution_count": null,
   "metadata": {
    "collapsed": true
   },
   "outputs": [],
   "source": []
  },
  {
   "cell_type": "code",
   "execution_count": null,
   "metadata": {
    "collapsed": true
   },
   "outputs": [],
   "source": []
  },
  {
   "cell_type": "code",
   "execution_count": null,
   "metadata": {
    "collapsed": true
   },
   "outputs": [],
   "source": []
  },
  {
   "cell_type": "code",
   "execution_count": 125,
   "metadata": {
    "collapsed": true
   },
   "outputs": [],
   "source": [
    "def poisson_likelihood_log(data,mean,sigma=3):\n",
    "    # return the log likelihood from a list of parameters given the data\n",
    "    params_log_likelihood = []\n",
    "    for m in mean:\n",
    "        log_likelihood = np.sum([np.log(stats.poisson(m).pmf(d[0])) for k,d in data.iterrows()])\n",
    "        print(f\"log-likelihood of {m} is {log_likelihood }\")\n",
    "        \n",
    "        params_log_likelihood.append((m,log_likelihood ))\n",
    "    return params_log_likelihood"
   ]
  },
  {
   "cell_type": "markdown",
   "metadata": {},
   "source": [
    "8) Write a function to calculate the log-likelihood."
   ]
  },
  {
   "cell_type": "code",
   "execution_count": 133,
   "metadata": {
    "collapsed": false
   },
   "outputs": [
    {
     "name": "stdout",
     "output_type": "stream",
     "text": [
      "log-likelihood of 14.0 is -264.9199814281802\n",
      "log-likelihood of 14.142857142857142 is -261.144661236229\n",
      "log-likelihood of 14.285714285714286 is -257.5106603648443\n",
      "log-likelihood of 14.428571428571429 is -254.01516641892047\n",
      "log-likelihood of 14.571428571428571 is -250.6554501310638\n",
      "log-likelihood of 14.714285714285714 is -247.428862117448\n",
      "log-likelihood of 14.857142857142858 is -244.33282979040646\n",
      "log-likelihood of 15.0 is -241.36485441875212\n",
      "log-likelihood of 15.142857142857142 is -238.5225083274232\n",
      "log-likelihood of 15.285714285714285 is -235.80343222861063\n",
      "log-likelihood of 15.428571428571429 is -233.20533267702055\n",
      "log-likelihood of 15.571428571428571 is -230.7259796424151\n",
      "log-likelihood of 15.714285714285714 is -228.36320419299727\n",
      "log-likelihood of 15.857142857142858 is -226.11489628362492\n",
      "log-likelihood of 16.0 is -223.97900264321618\n",
      "log-likelihood of 16.142857142857142 is -221.9535247560445\n",
      "log-likelihood of 16.285714285714285 is -220.03651693197426\n",
      "log-likelihood of 16.428571428571427 is -218.22608446096348\n",
      "log-likelihood of 16.57142857142857 is -216.52038184746442\n",
      "log-likelihood of 16.714285714285715 is -214.9176111206013\n",
      "log-likelihood of 16.857142857142858 is -213.4160202162618\n",
      "log-likelihood of 17.0 is -212.01390142745367\n",
      "log-likelihood of 17.142857142857142 is -210.70958991950243\n",
      "log-likelihood of 17.285714285714285 is -209.50146230686397\n",
      "log-likelihood of 17.428571428571427 is -208.3879352885044\n",
      "log-likelihood of 17.57142857142857 is -207.367464338981\n",
      "log-likelihood of 17.714285714285715 is -206.4385424525174\n",
      "log-likelihood of 17.857142857142858 is -205.59969893752043\n",
      "log-likelihood of 18.0 is -204.84949825912526\n",
      "log-likelihood of 18.142857142857142 is -204.18653892748767\n",
      "log-likelihood of 18.285714285714285 is -203.6094524296807\n",
      "log-likelihood of 18.428571428571427 is -203.1169022031487\n",
      "log-likelihood of 18.57142857142857 is -202.7075826487973\n",
      "log-likelihood of 18.714285714285715 is -202.38021818189873\n",
      "log-likelihood of 18.857142857142858 is -202.13356231908412\n",
      "log-likelihood of 19.0 is -201.96639679979333\n",
      "log-likelihood of 19.142857142857142 is -201.87753074062397\n",
      "log-likelihood of 19.285714285714285 is -201.86579982112568\n",
      "log-likelihood of 19.428571428571427 is -201.9300654996331\n",
      "log-likelihood of 19.57142857142857 is -202.06921425782602\n",
      "log-likelihood of 19.714285714285715 is -202.28215687276472\n",
      "log-likelihood of 19.857142857142858 is -202.56782771519966\n",
      "log-likelihood of 20.0 is -202.9251840730358\n",
      "log-likelihood of 20.142857142857142 is -203.35320549887317\n",
      "log-likelihood of 20.285714285714285 is -203.8508931806045\n",
      "log-likelihood of 20.428571428571427 is -204.41726933409325\n",
      "log-likelihood of 20.57142857142857 is -205.05137661701826\n",
      "log-likelihood of 20.714285714285715 is -205.7522775629979\n",
      "log-likelihood of 20.857142857142858 is -206.51905403516153\n",
      "log-likelihood of 21.0 is -207.35080669837225\n"
     ]
    }
   ],
   "source": [
    "results_poisson = poisson_likelihood_log(kampala,np.linspace(14,21))"
   ]
  },
  {
   "cell_type": "markdown",
   "metadata": {},
   "source": [
    "9) Find the maximum likelihood estimate for the parameter of interest"
   ]
  },
  {
   "cell_type": "code",
   "execution_count": 134,
   "metadata": {
    "collapsed": false
   },
   "outputs": [
    {
     "data": {
      "text/plain": [
       "[<matplotlib.lines.Line2D at 0x111f983c8>]"
      ]
     },
     "execution_count": 134,
     "metadata": {},
     "output_type": "execute_result"
    },
    {
     "data": {
      "image/png": "[encoded data removed]",
      "text/plain": [
       "<matplotlib.figure.Figure at 0x111e63240>"
      ]
     },
     "metadata": {},
     "output_type": "display_data"
    }
   ],
   "source": [
    "plt.plot(*zip(*results_poisson))"
   ]
  },
  {
   "cell_type": "markdown",
   "metadata": {},
   "source": [
    "10) What does this estimate mean? In general? For this data?"
   ]
  },
  {
   "cell_type": "code",
   "execution_count": null,
   "metadata": {
    "collapsed": true
   },
   "outputs": [],
   "source": []
  },
  {
   "cell_type": "markdown",
   "metadata": {},
   "source": [
    "<br>\n",
    "<br> \n",
    "<br>\n",
    "\n",
    "----"
   ]
  }
 ],
 "metadata": {
  "anaconda-cloud": {},
  "kernelspec": {
   "display_name": "Python 3",
   "language": "python",
   "name": "python3"
  },
  "language_info": {
   "codemirror_mode": {
    "name": "ipython",
    "version": 3
   },
   "file_extension": ".py",
   "mimetype": "text/x-python",
   "name": "python",
   "nbconvert_exporter": "python",
   "pygments_lexer": "ipython3",
   "version": "3.6.1"
  }
 },
 "nbformat": 4,
 "nbformat_minor": 1
}
