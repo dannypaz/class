{
 "cells": [
  {
   "cell_type": "markdown",
   "metadata": {},
   "source": [
    "Maximum Likelihood estimation (MLE)\n",
    "-----"
   ]
  },
  {
   "cell_type": "markdown",
   "metadata": {},
   "source": [
    "-----\n",
    "Part I: Fitting Emperical Data\n",
    "-----"
   ]
  },
  {
   "cell_type": "code",
   "execution_count": 1,
   "metadata": {
    "collapsed": true
   },
   "outputs": [],
   "source": [
    "reset -fs"
   ]
  },
  {
   "cell_type": "code",
   "execution_count": 2,
   "metadata": {
    "collapsed": true
   },
   "outputs": [],
   "source": [
    "import numpy as np\n",
    "import pandas as pd\n",
    "from scipy import stats\n",
    "import matplotlib.pyplot as plt\n",
    "\n",
    "%matplotlib inline"
   ]
  },
  {
   "cell_type": "code",
   "execution_count": 5,
   "metadata": {},
   "outputs": [
    {
     "data": {
      "text/html": [
       "<div>\n",
       "<style>\n",
       "    .dataframe thead tr:only-child th {\n",
       "        text-align: right;\n",
       "    }\n",
       "\n",
       "    .dataframe thead th {\n",
       "        text-align: left;\n",
       "    }\n",
       "\n",
       "    .dataframe tbody tr th {\n",
       "        vertical-align: top;\n",
       "    }\n",
       "</style>\n",
       "<table border=\"1\" class=\"dataframe\">\n",
       "  <thead>\n",
       "    <tr style=\"text-align: right;\">\n",
       "      <th></th>\n",
       "      <th>0</th>\n",
       "    </tr>\n",
       "  </thead>\n",
       "  <tbody>\n",
       "    <tr>\n",
       "      <th>0</th>\n",
       "      <td>38.908525</td>\n",
       "    </tr>\n",
       "    <tr>\n",
       "      <th>1</th>\n",
       "      <td>43.156130</td>\n",
       "    </tr>\n",
       "    <tr>\n",
       "      <th>2</th>\n",
       "      <td>39.910492</td>\n",
       "    </tr>\n",
       "    <tr>\n",
       "      <th>3</th>\n",
       "      <td>42.520638</td>\n",
       "    </tr>\n",
       "    <tr>\n",
       "      <th>4</th>\n",
       "      <td>40.462430</td>\n",
       "    </tr>\n",
       "  </tbody>\n",
       "</table>\n",
       "</div>"
      ],
      "text/plain": [
       "           0\n",
       "0  38.908525\n",
       "1  43.156130\n",
       "2  39.910492\n",
       "3  42.520638\n",
       "4  40.462430"
      ]
     },
     "execution_count": 5,
     "metadata": {},
     "output_type": "execute_result"
    }
   ],
   "source": [
    "heights = pd.read_csv('../../data/plant.csv')\n",
    "heights.head()"
   ]
  },
  {
   "cell_type": "code",
   "execution_count": 7,
   "metadata": {},
   "outputs": [
    {
     "data": {
      "image/png": "[encoded data removed]",
      "text/plain": [
       "<matplotlib.figure.Figure at 0x110000fd0>"
      ]
     },
     "metadata": {},
     "output_type": "display_data"
    }
   ],
   "source": [
    "# Always take a peek at your raw data. \n",
    "# It is critical for MLE since you need to guess the distribution/model\n",
    "heights.hist(normed=True,\n",
    "             bins=15, \n",
    "             grid=False);\n",
    "# ylabel('Probability')\n",
    "# xlabel('Height of plant');"
   ]
  },
  {
   "cell_type": "code",
   "execution_count": 6,
   "metadata": {},
   "outputs": [
    {
     "data": {
      "text/html": [
       "<div>\n",
       "<style>\n",
       "    .dataframe thead tr:only-child th {\n",
       "        text-align: right;\n",
       "    }\n",
       "\n",
       "    .dataframe thead th {\n",
       "        text-align: left;\n",
       "    }\n",
       "\n",
       "    .dataframe tbody tr th {\n",
       "        vertical-align: top;\n",
       "    }\n",
       "</style>\n",
       "<table border=\"1\" class=\"dataframe\">\n",
       "  <thead>\n",
       "    <tr style=\"text-align: right;\">\n",
       "      <th></th>\n",
       "      <th>0</th>\n",
       "    </tr>\n",
       "  </thead>\n",
       "  <tbody>\n",
       "    <tr>\n",
       "      <th>count</th>\n",
       "      <td>1000.000000</td>\n",
       "    </tr>\n",
       "    <tr>\n",
       "      <th>mean</th>\n",
       "      <td>40.017209</td>\n",
       "    </tr>\n",
       "    <tr>\n",
       "      <th>std</th>\n",
       "      <td>2.873319</td>\n",
       "    </tr>\n",
       "    <tr>\n",
       "      <th>min</th>\n",
       "      <td>32.022567</td>\n",
       "    </tr>\n",
       "    <tr>\n",
       "      <th>25%</th>\n",
       "      <td>38.087044</td>\n",
       "    </tr>\n",
       "    <tr>\n",
       "      <th>50%</th>\n",
       "      <td>40.086478</td>\n",
       "    </tr>\n",
       "    <tr>\n",
       "      <th>75%</th>\n",
       "      <td>41.942700</td>\n",
       "    </tr>\n",
       "    <tr>\n",
       "      <th>max</th>\n",
       "      <td>48.214524</td>\n",
       "    </tr>\n",
       "  </tbody>\n",
       "</table>\n",
       "</div>"
      ],
      "text/plain": [
       "                 0\n",
       "count  1000.000000\n",
       "mean     40.017209\n",
       "std       2.873319\n",
       "min      32.022567\n",
       "25%      38.087044\n",
       "50%      40.086478\n",
       "75%      41.942700\n",
       "max      48.214524"
      ]
     },
     "execution_count": 6,
     "metadata": {},
     "output_type": "execute_result"
    }
   ],
   "source": [
    "# Look at the summary stats\n",
    "# Focus on min, max, and mean\n",
    "heights.describe()"
   ]
  },
  {
   "cell_type": "markdown",
   "metadata": {},
   "source": [
    "It looks Normal-ish to me"
   ]
  },
  {
   "cell_type": "markdown",
   "metadata": {},
   "source": [
    "X ~ N(μ, σ^2)"
   ]
  },
  {
   "cell_type": "markdown",
   "metadata": {},
   "source": [
    "-------\n",
    "The likelihood function is\n",
    "![](https://www.statlect.com/images/normal-distribution-maximum-likelihood__8.png)\n",
    "(i hate Latex)\n",
    "\n",
    "[Source](https://www.statlect.com/fundamentals-of-statistics/normal-distribution-maximum-likelihood)"
   ]
  },
  {
   "cell_type": "code",
   "execution_count": 9,
   "metadata": {
    "collapsed": true
   },
   "outputs": [],
   "source": [
    "def normal_likelihood(m, data):\n",
    "    \"For a given mean, find the product of all likelihoods (the pdf for the observed data)\"\n",
    "    return np.product(stats.norm(m, 3).pdf(data))"
   ]
  },
  {
   "cell_type": "code",
   "execution_count": 10,
   "metadata": {
    "collapsed": true
   },
   "outputs": [],
   "source": [
    "# Arbitrarily define a range\n",
    "# Yes - I know this is weird. It is just a toy example. Consider it a prior. We think the best estimate is somewhere in there.\n",
    "range_of_means = np.linspace(32, 42)"
   ]
  },
  {
   "cell_type": "code",
   "execution_count": 11,
   "metadata": {},
   "outputs": [
    {
     "data": {
      "text/plain": [
       "[0.0, 0.0, 0.0, 0.0, 0.0]"
      ]
     },
     "execution_count": 11,
     "metadata": {},
     "output_type": "execute_result"
    }
   ],
   "source": [
    "# Let's find all the likelihoods.\n",
    "# For each candidate mean (estimate of µ), let's see how well it would fit the observed data\n",
    "likelihoods = [normal_likelihood(m, heights) for m in range_of_means]\n",
    "likelihoods[:5]  # Underflow - Damn!"
   ]
  },
  {
   "cell_type": "markdown",
   "metadata": {},
   "source": [
    "The log-likelihood function is\n",
    "![](https://www.statlect.com/images/normal-distribution-maximum-likelihood__10.png)\n"
   ]
  },
  {
   "cell_type": "code",
   "execution_count": 12,
   "metadata": {
    "collapsed": true
   },
   "outputs": [],
   "source": [
    "def normal_log_likelihood(m, data):\n",
    "    \"Let's pull the log trick! Calculate the log-likelihoods. Remember to switch to sum!\"\n",
    "    return sum(np.log(stats.norm(m, 3).pdf(data)))"
   ]
  },
  {
   "cell_type": "code",
   "execution_count": 32,
   "metadata": {},
   "outputs": [
    {
     "data": {
      "text/plain": [
       "[array([-6046.62535769]),\n",
       " array([-5867.14308956]),\n",
       " array([-5692.28852285]),\n",
       " array([-5522.06165756]),\n",
       " array([-5356.4624937])]"
      ]
     },
     "execution_count": 32,
     "metadata": {},
     "output_type": "execute_result"
    }
   ],
   "source": [
    "# Let's find all the log likelihoods.\n",
    "# For each candidate mean (estimate of µ), let's see how well it would fit the observed data\n",
    "loglikelihoods = [normal_log_likelihood(m, heights) for m in range_of_means]\n",
    "loglikelihoods[:5]  # Reasonable"
   ]
  },
  {
   "cell_type": "code",
   "execution_count": 33,
   "metadata": {},
   "outputs": [
    {
     "data": {
      "image/png": "[encoded data removed]",
      "text/plain": [
       "<matplotlib.figure.Figure at 0x1137c1358>"
      ]
     },
     "metadata": {},
     "output_type": "display_data"
    }
   ],
   "source": [
    "# Plot the log-likelihoods\n",
    "# We want the \"top of the mountain\", aka where the derivative is zero in a monotonically increasing function\n",
    "fig = plt.figure().add_subplot(111)\n",
    "fig.plot(range_of_means, loglikelihoods)\n",
    "fig.set_xlabel('$\\mu$', fontsize=20)\n",
    "fig.set_ylabel('$l(\\mu)$', fontsize=20);"
   ]
  },
  {
   "cell_type": "code",
   "execution_count": 34,
   "metadata": {},
   "outputs": [
    {
     "data": {
      "text/plain": [
       "'39.96'"
      ]
     },
     "execution_count": 34,
     "metadata": {},
     "output_type": "execute_result"
    }
   ],
   "source": [
    "# For our window of means where is the peak\n",
    "top_of_the_mountain = range_of_means[np.argmax(loglikelihoods)]\n",
    "f\"{top_of_the_mountain:.4}\""
   ]
  },
  {
   "cell_type": "code",
   "execution_count": 16,
   "metadata": {
    "collapsed": true
   },
   "outputs": [],
   "source": [
    "# Let's define our \"least-wrong\" model for the empircal data. This might not be the \"true\" but is \"useful\"\n",
    "μ = top_of_the_mountain\n",
    "σ = 3 # Given to us so we don't have to estimate it"
   ]
  },
  {
   "cell_type": "code",
   "execution_count": 17,
   "metadata": {
    "collapsed": true
   },
   "outputs": [],
   "source": [
    "from scipy.stats import norm"
   ]
  },
  {
   "cell_type": "code",
   "execution_count": 1,
   "metadata": {},
   "outputs": [
    {
     "ename": "NameError",
     "evalue": "name 'heights' is not defined",
     "output_type": "error",
     "traceback": [
      "\u001b[0;31m---------------------------------------------------------------------------\u001b[0m",
      "\u001b[0;31mNameError\u001b[0m                                 Traceback (most recent call last)",
      "\u001b[0;32m<ipython-input-1-4ed43ab2f839>\u001b[0m in \u001b[0;36m<module>\u001b[0;34m()\u001b[0m\n\u001b[1;32m      1\u001b[0m \u001b[0;31m# Let's plot our model on our data\u001b[0m\u001b[0;34m\u001b[0m\u001b[0;34m\u001b[0m\u001b[0m\n\u001b[0;32m----> 2\u001b[0;31m \u001b[0mheights\u001b[0m\u001b[0;34m.\u001b[0m\u001b[0mhist\u001b[0m\u001b[0;34m(\u001b[0m\u001b[0mnormed\u001b[0m\u001b[0;34m=\u001b[0m\u001b[0;32mTrue\u001b[0m\u001b[0;34m,\u001b[0m \u001b[0mbins\u001b[0m\u001b[0;34m=\u001b[0m\u001b[0;36m15\u001b[0m\u001b[0;34m,\u001b[0m \u001b[0mgrid\u001b[0m\u001b[0;34m=\u001b[0m\u001b[0;32mFalse\u001b[0m\u001b[0;34m)\u001b[0m\u001b[0;34m;\u001b[0m\u001b[0;34m\u001b[0m\u001b[0m\n\u001b[0m\u001b[1;32m      3\u001b[0m \u001b[0;34m\u001b[0m\u001b[0m\n\u001b[1;32m      4\u001b[0m \u001b[0;31m# Plot the PDF.\u001b[0m\u001b[0;34m\u001b[0m\u001b[0;34m\u001b[0m\u001b[0m\n\u001b[1;32m      5\u001b[0m \u001b[0mxmin\u001b[0m\u001b[0;34m,\u001b[0m \u001b[0mxmax\u001b[0m \u001b[0;34m=\u001b[0m \u001b[0mplt\u001b[0m\u001b[0;34m.\u001b[0m\u001b[0mxlim\u001b[0m\u001b[0;34m(\u001b[0m\u001b[0;34m)\u001b[0m\u001b[0;34m\u001b[0m\u001b[0m\n",
      "\u001b[0;31mNameError\u001b[0m: name 'heights' is not defined"
     ]
    }
   ],
   "source": [
    "# Let's plot our model on our data\n",
    "heights.hist(normed=True, bins=15, grid=False);\n",
    "\n",
    "# Plot the PDF.\n",
    "xmin, xmax = plt.xlim()\n",
    "x = np.linspace(xmin, xmax, 100)\n",
    "p = norm.pdf(x, μ, σ)\n",
    "\n",
    "plt.plot(x, p, 'k', linewidth=2);\n",
    "plt.title(\"Fit results: mu = {:.2f},  std = {:.2f}\".format(μ, σ));"
   ]
  },
  {
   "cell_type": "markdown",
   "metadata": {},
   "source": [
    "So we over-predict sometimes and under-predict other times, but is decent."
   ]
  },
  {
   "cell_type": "markdown",
   "metadata": {},
   "source": [
    "-----\n",
    "Part II: Fitting Distrubtions\n",
    "-----"
   ]
  },
  {
   "cell_type": "markdown",
   "metadata": {},
   "source": [
    "**Question 2**\n",
    "\n",
    "Let $X_1, \\dots, X_n$ be i.i.d. with PDF  \n",
    "\n",
    "$$ f(x | \\theta) = \\theta x^{\\theta - 1} \\text{, } 0 < x < \\infty \\text{, } 0 < \\theta < \\infty $$\n",
    "\n",
    "Find the MLE of $\\theta$."
   ]
  },
  {
   "cell_type": "markdown",
   "metadata": {},
   "source": [
    "$$ \\text{likelihood = } L(\\theta | \\textbf{x}) = \\prod_{i = 1}^n \\theta x_i^{\\theta - 1}$$  \n",
    "$$ \\log\\text{likelihood}=\\log L(\\theta | \\textbf{x}) = log(\\prod_{i = 1}^n \\theta x_i^{\\theta - 1})$$  \n",
    "$$ = \\sum{\\log( \\theta x_i^{\\theta - 1})}$$  \n",
    "$$ = \\sum{\\log{ \\theta }} + \\sum{\\log{ x_i^{\\theta - 1}}} $$  \n",
    "$$ = \\sum{\\log{ \\theta }} + (\\theta - 1)\\sum{\\log x_i} $$  \n",
    "To maximize log likelihood, differentiate with respect to $\\theta$ because $X_i$'s given and $\\theta$ is variable. Set to 0:  \n",
    "\n",
    "$$ \\frac{\\partial log likelihood}{\\partial \\theta} = \\sum{1 / \\theta} + \\sum \\log x_i = 0$$  \n",
    "$$\\sum{1 / \\theta} = - \\sum \\log x_i$$  \n",
    "$$ n/\\theta = -\\sum \\log x_i $$  \n",
    "$$ \\hat{\\theta} = - \\frac{n}{\\sum \\log x_i} $$  \n"
   ]
  },
  {
   "cell_type": "markdown",
   "metadata": {},
   "source": [
    "**Question 3**\n",
    "\n",
    "Let $X_1, \\dots, X_n$ be a random sample from a population with PMF\n",
    "\n",
    "$$ P(X = x) = \\theta^x (1 - \\theta)^{1 - x} \\text{, } x = 0 \\text{ or } 1 \\text{, } 0 \\leq \\theta \\leq \\frac{1}{2} $$  \n",
    "\n",
    "(a) Find the MOM estimator and MLE of $\\theta$.    \n",
    "\n",
    "Notice that this PMF is really a Bernoulli (1 with probability $\\theta$, 0 with probability $(1 - \\theta)$)  \n",
    "\n",
    "~**To find the MOM estimator**:  \n",
    "$$ \\text{1st population moment} = E(X) = \\sum{x \\times P(X = x)} =  0 \\times \\theta^0 (1 - \\theta) ^ 1 + 1 \\times \\theta ^ 1 (1 - \\theta)^0 = \\theta$$  \n",
    "\n",
    "For a population, the expected value $E(X) = \\theta$.  \n",
    "\n",
    "$$ \\text{1st sample moment} = \\frac{1}{n} \\sum_{i = 1}^n X_i = \\bar{X} $$  \n",
    "\n",
    "Setting the population moment equal to the sample moment, and solve for $\\theta$ to obtain the MOM estimator,  \n",
    "\n",
    "$\\hat{\\theta} = \\bar{X}$, so we could estimate $\\theta$ with the sample average. ~\n",
    " \n",
    "**To find the MLE**:  \n",
    "$$ \\text{likelihood = } L(\\theta | \\textbf{x}) = \\prod_{i = 1}^n \\theta ^ {x_i} (1 - \\theta) ^ {1 - x_i}$$  \n",
    "$$ \\text{log likelihood = log } L(\\theta | \\textbf{x}) = \\log(\\prod_{i = 1}^n \\theta ^ {x_i} (1 - \\theta) ^ {1 - x_i})$$  \n",
    "$$= \\sum_{i = 1}^n log(\\theta^{x_i} (1 - \\theta)^{1 - x_i})$$  \n",
    "$$= \\sum_{i = 1}^n \\left(x_i log(\\theta) + (1 - x_i) log(1 - \\theta) \\right)$$  \n",
    "$$ = log (\\theta) \\sum_{i = 1}^n x_i + log(1 - \\theta) \\sum_{i = 1}^n {(1 - x_i)}$$  \n",
    "To maximize, differentiate with respect to $\\theta$, set it to 0 and solve for $\\theta$  \n",
    "\n",
    "\n",
    "$$ \\frac{\\partial l(\\theta)}{\\partial \\theta} = 1 / \\theta \\sum x_i + \\frac{-1}{1 - \\theta} \\sum{(1 - x_i)} = 0$$  \n",
    "$$ 1 / \\theta \\sum x_i = \\frac{1}{1 - \\theta} \\sum{(1 - x_i)}$$  \n",
    "$$ \\frac{1 - \\theta}{\\theta} = \\frac{\\sum{(1 - x_i)}}{\\sum x_i}$$  \n",
    "$$ \\frac 1  \\theta - 1 = \\frac{ n - \\sum x_i} {\\sum x_i} = \\frac{n}{\\sum x_i} - 1$$  \n",
    "$$ \\frac 1 \\theta = \\frac{n}{\\sum x_i} $$  \n",
    "$$ \\hat{\\theta} = \\frac{\\sum x_i}{n} = \\bar{X} $$  "
   ]
  },
  {
   "cell_type": "markdown",
   "metadata": {},
   "source": [
    "(b) Find the mean squared errors (MSE) of each of the estimators.  \n",
    "From the lecture:  \n",
    "$$ E(\\hat{\\theta} - \\theta)^2 = Var(\\hat{\\theta}) + (E(\\hat{\\theta}) - \\theta)^2 = Var(\\hat{\\theta}) + (Bias(\\hat{\\theta}))^2 $$  \n",
    "$$Bias(\\hat{\\theta}) = E(\\hat{\\theta}) - \\theta$$ \n",
    "Let's calculate bias first. In both cases, $\\hat \\theta = \\bar X$:\n",
    "$$Bias(\\hat{\\theta}) = E(\\hat{\\theta}) - \\theta$$  \n",
    "$$ = E(\\bar X ) - \\theta  $$  \n",
    "$$ = E(\\frac 1 n \\sum X_i) - \\theta $$\n",
    "$$ = \\frac 1 n E(\\sum X_i) - \\theta $$\n",
    "$$ = \\frac 1 n \\sum{E(X_i)} - \\theta $$ \n",
    "$$ = \\frac 1 n \\sum \\theta - \\theta $$\n",
    "$$ \\theta - \\theta = 0 $$  \n",
    "Hence both estimators are unbiased since bias equals 0.\n",
    "Let's calculate variance of the estimator:\n",
    "$$ Var(\\hat{\\theta}) = Var(\\bar X) $$  \n",
    "$$ = Var(\\frac{1}{n} \\sum X_i) $$\n",
    "$$ = \\frac{1}{n^2} Var(\\sum X_i) $$\n",
    "$$ = \\frac {1} {n ^ 2} \\sum Var(X_i)$$  \n",
    "\n",
    "From the PMF, we could recognize that $X$ follows a Bernoulli distribution, so \n",
    "\n",
    "$$ Var(X) = \\theta (1 - \\theta) $$  \n",
    "\n",
    "$$ Var(\\hat{\\theta}) = \\frac {1} {n ^ 2} \\sum Var(X_i) = \\frac{1}{n^2} n Var(X) = \\frac{1}{n} \\theta (1 - \\theta) $$\n",
    "\n",
    "In conclusion: \n",
    "$$ MSE = Var(\\hat{\\theta}) + (Bias(\\hat{\\theta}))^2 = \\frac{1}{n} \\theta (1 - \\theta) + 0 ^ 2 = \\frac{1}{n} \\theta (1 - \\theta)$$  \n"
   ]
  },
  {
   "cell_type": "markdown",
   "metadata": {},
   "source": [
    "(c) Which estimator is preferred? Justify your choice.  \n",
    "Yes."
   ]
  },
  {
   "cell_type": "code",
   "execution_count": null,
   "metadata": {
    "collapsed": true
   },
   "outputs": [],
   "source": []
  },
  {
   "cell_type": "markdown",
   "metadata": {},
   "source": [
    "----\n",
    "Challenge Exercises\n",
    "----\n"
   ]
  },
  {
   "cell_type": "markdown",
   "metadata": {},
   "source": [
    "-----"
   ]
  },
  {
   "cell_type": "code",
   "execution_count": 22,
   "metadata": {},
   "outputs": [
    {
     "data": {
      "image/png": "[encoded data removed]",
      "text/plain": [
       "<matplotlib.figure.Figure at 0x112439e80>"
      ]
     },
     "metadata": {},
     "output_type": "display_data"
    }
   ],
   "source": [
    "# 1.\n",
    "outages = pd.read_csv('https://s3-us-west-2.amazonaws.com/dsci/6002/data/outage.csv')\n",
    "# 2.\n",
    "outages.hist(normed=True, \n",
    "             bins=20,\n",
    "             grid=False);"
   ]
  },
  {
   "cell_type": "markdown",
   "metadata": {},
   "source": [
    "3 . **Poisson distribution.**\n",
    "\n",
    "Since the data is count of an event per time period\n",
    "\n",
    "4 . **Write down the Random variable**\n",
    "\n",
    "$\\text{Let X be the number of power outage in a month in Kampala}$\n",
    "\n",
    "$X \\sim Poisson(\\lambda)$"
   ]
  },
  {
   "cell_type": "markdown",
   "metadata": {},
   "source": [
    "5. **Likelihood function** for rate of outages\n",
    "\n",
    "$$\\mathcal{L}(\\lambda) = \\prod_{i=0}^n \\frac{{e^{ - \\lambda } \\lambda ^{x_i} }}{{x_i!}}$$"
   ]
  },
  {
   "cell_type": "markdown",
   "metadata": {},
   "source": [
    "x is data\n"
   ]
  },
  {
   "cell_type": "code",
   "execution_count": 23,
   "metadata": {
    "collapsed": true
   },
   "outputs": [],
   "source": [
    "def likelihood(lam, data):\n",
    "    \"Generate likelihood for Possion distribution given data\"\n",
    "    return np.product(stats.poisson(lam).pmf(data))"
   ]
  },
  {
   "cell_type": "code",
   "execution_count": 24,
   "metadata": {
    "collapsed": true
   },
   "outputs": [],
   "source": [
    "# 7. Find likelihood for each value and plot likelihoods\n",
    "lambdas = np.linspace(14, 21) # Define possible λ for Possion https://en.wikipedia.org/wiki/Poisson_distribution"
   ]
  },
  {
   "cell_type": "code",
   "execution_count": 25,
   "metadata": {},
   "outputs": [
    {
     "data": {
      "text/plain": [
       "[8.8453275498355079e-116,\n",
       " 3.8575773815974372e-114,\n",
       " 1.4606332148378542e-112,\n",
       " 4.8152063665037619e-111,\n",
       " 1.3858657093701603e-109]"
      ]
     },
     "execution_count": 25,
     "metadata": {},
     "output_type": "execute_result"
    }
   ],
   "source": [
    "likelihoods = [likelihood(lam, outages) \n",
    "               for lam in lambdas]\n",
    "likelihoods[:5]"
   ]
  },
  {
   "cell_type": "code",
   "execution_count": 26,
   "metadata": {},
   "outputs": [
    {
     "data": {
      "image/png": "[encoded data removed]",
      "text/plain": [
       "<matplotlib.figure.Figure at 0x1124248d0>"
      ]
     },
     "metadata": {},
     "output_type": "display_data"
    }
   ],
   "source": [
    "fig = plt.figure()\n",
    "ax = fig.add_subplot(111)\n",
    "ax.plot(lambdas, likelihoods)\n",
    "ax.set_xlabel('$\\lambda$', fontsize=20)\n",
    "ax.set_ylabel('$\\mathcal{L}(\\lambda)$', fontsize=20);"
   ]
  },
  {
   "cell_type": "code",
   "execution_count": 27,
   "metadata": {
    "collapsed": true
   },
   "outputs": [],
   "source": [
    "# 8. Python function to calculate log likelihood\n",
    "def log_likelihood(lam, data):\n",
    "    return sum(np.log(stats.poisson(lam).pmf(data)))"
   ]
  },
  {
   "cell_type": "code",
   "execution_count": 28,
   "metadata": {},
   "outputs": [
    {
     "data": {
      "text/plain": [
       "[array([-264.91998143]),\n",
       " array([-261.14466124]),\n",
       " array([-257.51066036]),\n",
       " array([-254.01516642]),\n",
       " array([-250.65545013])]"
      ]
     },
     "execution_count": 28,
     "metadata": {},
     "output_type": "execute_result"
    }
   ],
   "source": [
    "# Calculate log likelihoods\n",
    "log_likelihoods = [log_likelihood(lam, outages) for lam in lambdas]\n",
    "log_likelihoods[:5]"
   ]
  },
  {
   "cell_type": "code",
   "execution_count": 29,
   "metadata": {},
   "outputs": [
    {
     "data": {
      "image/png": "[encoded data removed]",
      "text/plain": [
       "<matplotlib.figure.Figure at 0x1120a4eb8>"
      ]
     },
     "metadata": {},
     "output_type": "display_data"
    }
   ],
   "source": [
    "fig = plt.figure()\n",
    "ax = fig.add_subplot(111)\n",
    "ax.plot(lambdas, log_likelihoods)\n",
    "ax.set_xlabel('$\\lambda$', fontsize=20)\n",
    "ax.set_ylabel('$l(\\lambda)$', fontsize=20);"
   ]
  },
  {
   "cell_type": "code",
   "execution_count": 30,
   "metadata": {},
   "outputs": [
    {
     "data": {
      "text/plain": [
       "'19.29'"
      ]
     },
     "execution_count": 30,
     "metadata": {},
     "output_type": "execute_result"
    }
   ],
   "source": [
    "# 9. Find MLE by maximzing the log likelihood function\n",
    "f\"{lambdas[np.argmax(log_likelihoods)]:.4}\""
   ]
  },
  {
   "cell_type": "code",
   "execution_count": 31,
   "metadata": {},
   "outputs": [
    {
     "data": {
      "text/plain": [
       "'19.29'"
      ]
     },
     "execution_count": 31,
     "metadata": {},
     "output_type": "execute_result"
    }
   ],
   "source": [
    "# The likelihood function gives the same maximum\n",
    "f\"{lambdas[np.argmax(likelihoods)]:.4}\""
   ]
  },
  {
   "cell_type": "markdown",
   "metadata": {},
   "source": [
    "If k is the number of occurrences. λ is the expected number of occurrences. \n",
    "\n",
    "Using the Poision PMF we can estimate the probability of k occurrences given λ. \n",
    "\n",
    "There is a shocking rate of outages in the power grid in Kampala. It is like the SF campus internet!"
   ]
  },
  {
   "cell_type": "markdown",
   "metadata": {},
   "source": [
    "<br>\n",
    "<br> \n",
    "<br>\n",
    "\n",
    "----"
   ]
  }
 ],
 "metadata": {
  "anaconda-cloud": {},
  "kernelspec": {
   "display_name": "Python 3",
   "language": "python",
   "name": "python3"
  },
  "language_info": {
   "codemirror_mode": {
    "name": "ipython",
    "version": 3
   },
   "file_extension": ".py",
   "mimetype": "text/x-python",
   "name": "python",
   "nbconvert_exporter": "python",
   "pygments_lexer": "ipython3",
   "version": "3.6.1"
  }
 },
 "nbformat": 4,
 "nbformat_minor": 1
}
