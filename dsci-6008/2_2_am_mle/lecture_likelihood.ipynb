{
 "cells": [
  {
   "cell_type": "markdown",
   "metadata": {
    "slideshow": {
     "slide_type": "slide"
    }
   },
   "source": [
    "Likelihood\n",
    "-----\n",
    "<br>\n",
    "<center><img src=\"images/100.png\" height=\"500\"/></center>"
   ]
  },
  {
   "cell_type": "markdown",
   "metadata": {
    "slideshow": {
     "slide_type": "slide"
    }
   },
   "source": [
    "By The End Of This Session You Should Be Able To:\n",
    "----\n",
    "\n",
    "- Explain the difference the difference between the likelihood function and the probability function\n",
    "- Write out the likelihood function for a given set of data and an assumed distribution\n",
    "- Calculate the Maximum Likelihood estimation (MLE) by maximizing the log-likelihood"
   ]
  },
  {
   "cell_type": "markdown",
   "metadata": {
    "slideshow": {
     "slide_type": "slide"
    }
   },
   "source": [
    "What is the difference between probability and likelihood?\n",
    "----\n",
    "\n",
    "Probability is used __before__ data are available to describe __possible future__ outcomes given a fixed value for the parameter (or parameter vector). \n",
    "\n",
    "P(Outcome|θ)"
   ]
  },
  {
   "cell_type": "markdown",
   "metadata": {
    "slideshow": {
     "slide_type": "fragment"
    }
   },
   "source": [
    "-----\n",
    "\n",
    "Likelihood is used __after__ data are available to describe a function of a __parameter for a given outcome__.\n",
    "\n",
    "L(θ|Outcome)"
   ]
  },
  {
   "cell_type": "markdown",
   "metadata": {
    "slideshow": {
     "slide_type": "slide"
    }
   },
   "source": [
    "Statistical Inference\n",
    "-----\n",
    "\n",
    "<center><img src=\"images/inference.png\" width=\"500\"/></center>\n",
    "\n",
    "The process of using emperical data to estimate the probability distribution that generated the data."
   ]
  },
  {
   "cell_type": "markdown",
   "metadata": {
    "slideshow": {
     "slide_type": "slide"
    }
   },
   "source": [
    "Inference is the ❤️ of Machine Learning\n",
    "-----\n",
    "\n",
    "<center><img src=\"images/inference2.png\" width=\"500\"/></center>\n",
    "\n",
    "Applied Machine Learning is writing programs that learn from data.\n",
    "\n",
    "We are going to \"learn\" / estimate the population parameter from data."
   ]
  },
  {
   "cell_type": "markdown",
   "metadata": {
    "slideshow": {
     "slide_type": "slide"
    }
   },
   "source": [
    "4 Types of Inference\n",
    "-----\n",
    "\n",
    "1. Point estimation\n",
    "2. Hypothesis testing\n",
    "3. Confidence intervals\n",
    "4. Distrubtion Estimation"
   ]
  },
  {
   "cell_type": "markdown",
   "metadata": {
    "slideshow": {
     "slide_type": "slide"
    }
   },
   "source": [
    "1. Point estimation\n",
    "-------\n",
    "\n",
    "<center><img src=\"https://www.cliffsnotes.com/assets/267186.png\" height=\"500\"/></center>\n",
    "\n",
    "Provide a single \"best guess\" of some quantity of interest"
   ]
  },
  {
   "cell_type": "markdown",
   "metadata": {
    "slideshow": {
     "slide_type": "slide"
    }
   },
   "source": [
    "2. Hypothesis testing\n",
    "-----\n",
    "\n",
    "<center><img src=\"https://brainmass.com/hubsimg/1429860/HypothesisTesting.jpg\" height=\"500\"/></center>\n",
    "\n",
    "Start with some default idea, ask if the data provide sufficient evidence to reject the idea."
   ]
  },
  {
   "cell_type": "markdown",
   "metadata": {
    "slideshow": {
     "slide_type": "slide"
    }
   },
   "source": [
    "3. Confidence intervals (this is the best one)\n",
    "-----\n",
    "\n",
    "<center><img src=\"http://cdn.app.compendium.com/uploads/user/458939f4-fe08-4dbc-b271-efca0f5a2682/742d7708-efd3-492c-abff-6044d78e3bbd/Image/a9bd1376510c8289a0daf15f5bcd376f/ci.gif\" height=\"500\"/></center>\n",
    "\n",
    "Provide an interval estimate of some quantity of interest"
   ]
  },
  {
   "cell_type": "markdown",
   "metadata": {
    "slideshow": {
     "slide_type": "slide"
    }
   },
   "source": [
    "4. Distrubtion Estimation (the best one 🏆)\n",
    "-----\n",
    "<br>\n",
    "<center><img src=\"https://i.ytimg.com/vi/iaq-MYLRk4k/maxresdefault.jpg\" width=\"500\"/></center>"
   ]
  },
  {
   "cell_type": "markdown",
   "metadata": {
    "slideshow": {
     "slide_type": "slide"
    }
   },
   "source": [
    "Estimation Example\n",
    "----\n",
    "\n",
    "<br>\n",
    "<center><img src=\"https://izbicki.me/img/uploads/2011/11/coins-all.jpg\" height=\"500\"/></center>\n",
    "\n",
    "If we are given a coin, without knowing whether or not it is fair, how do we esitmate the true probability of getting a head when it is flipped?  \n",
    "\n"
   ]
  },
  {
   "cell_type": "markdown",
   "metadata": {
    "slideshow": {
     "slide_type": "fragment"
    }
   },
   "source": [
    "I flipped my coin 10 times, and got 8 heads. How can I estimate the probablity of success (getting a head) from the data?"
   ]
  },
  {
   "cell_type": "markdown",
   "metadata": {
    "slideshow": {
     "slide_type": "slide"
    }
   },
   "source": [
    "Check for understanding\n",
    "------\n",
    "\n",
    "Before we carried out the experiment, did we know anything about the probability of getting a head?"
   ]
  },
  {
   "cell_type": "markdown",
   "metadata": {
    "slideshow": {
     "slide_type": "fragment"
    }
   },
   "source": [
    "We know that most of the coins are fair.  \n",
    "\n",
    "Getting 8 heads out of 10 coin flips can be due to chance, and the coin is probably still close to fair.  \n",
    "\n",
    "How do we incorporate this prior knowledge into our estimation?  \n",
    "\n",
    "Answer: Go Bayesian!  \n",
    "\n",
    "Bayesian statistics combines our knowledge and/or belief with what the data tell us to make inference about the quantity of interest."
   ]
  },
  {
   "cell_type": "markdown",
   "metadata": {
    "slideshow": {
     "slide_type": "slide"
    }
   },
   "source": [
    "We call the prior knowledge/belief the prior distribution: f(p)  \n",
    "\n"
   ]
  },
  {
   "cell_type": "markdown",
   "metadata": {
    "slideshow": {
     "slide_type": "fragment"
    }
   },
   "source": [
    "The data give us the likelihood of p: L(p)  \n",
    "\n"
   ]
  },
  {
   "cell_type": "markdown",
   "metadata": {
    "slideshow": {
     "slide_type": "fragment"
    }
   },
   "source": [
    "Our combined information about p is called the posterior distribution: f(p | x)  \n",
    "\n"
   ]
  },
  {
   "cell_type": "markdown",
   "metadata": {
    "slideshow": {
     "slide_type": "fragment"
    }
   },
   "source": [
    "We get the posterior by multiplying the prior and the likelihood:\n",
    "\n",
    "f(p | x) ∝ f(p) L(p) "
   ]
  },
  {
   "cell_type": "markdown",
   "metadata": {
    "slideshow": {
     "slide_type": "slide"
    }
   },
   "source": [
    "What is another name for Likelihood distribution?"
   ]
  },
  {
   "cell_type": "markdown",
   "metadata": {
    "slideshow": {
     "slide_type": "fragment"
    }
   },
   "source": [
    "__measurement model__\n",
    "\n",
    "<center><img src=\"images/bayes.png\" style=\"width: 550px;\"/></center>"
   ]
  },
  {
   "cell_type": "markdown",
   "metadata": {
    "slideshow": {
     "slide_type": "slide"
    }
   },
   "source": [
    "Let $X$ be the number of heads we get from flipping the coin 10 times, then\n",
    "\n",
    "$$X \\sim Binomial(n = 10, p = ?)$$\n",
    "\n",
    "In this case, the value of X is known, X  = 8, but p is unknown and we want to estimate it."
   ]
  },
  {
   "cell_type": "markdown",
   "metadata": {
    "slideshow": {
     "slide_type": "fragment"
    }
   },
   "source": [
    "We may guess p = 8/10 = 0.8, but can it be 0.7? 0.9? 0.5? What's the most *likely* value of p for your coin?"
   ]
  },
  {
   "cell_type": "markdown",
   "metadata": {
    "slideshow": {
     "slide_type": "slide"
    }
   },
   "source": [
    "Suppose for a moment that $p = 0.5$, what is the probability of observing $X = 8$?"
   ]
  },
  {
   "cell_type": "markdown",
   "metadata": {
    "slideshow": {
     "slide_type": "fragment"
    }
   },
   "source": [
    "When $X \\sim Binomial(10, 0.5)$, \n",
    "\n",
    "$$ P(X = 8) = \\binom{10}{8} (0.5)^8 (1 - 0.5)^{10 - 8} = 0.044 $$"
   ]
  },
  {
   "cell_type": "code",
   "execution_count": 1,
   "metadata": {
    "slideshow": {
     "slide_type": "fragment"
    }
   },
   "outputs": [
    {
     "name": "stdout",
     "output_type": "stream",
     "text": [
      "The probability of getting 8 flips out of 10 with a fair coin is: 0.044\n"
     ]
    }
   ],
   "source": [
    "# https://docs.scipy.org/doc/scipy/reference/generated/scipy.stats.binom.html\n",
    "from scipy.stats import binom as binomial\n",
    "\n",
    "p = binomial.pmf(8, \n",
    "                 10, \n",
    "                 .5)\n",
    "print(f'The probability of getting 8 flips out of 10 with a fair coin is: {p:.2}')"
   ]
  },
  {
   "cell_type": "markdown",
   "metadata": {
    "slideshow": {
     "slide_type": "fragment"
    }
   },
   "source": [
    "__Not very likely!__"
   ]
  },
  {
   "cell_type": "markdown",
   "metadata": {
    "slideshow": {
     "slide_type": "slide"
    }
   },
   "source": [
    "What about $p = 0.7$? What's the probability of observing $X = 8$ if $p = 0.7$?"
   ]
  },
  {
   "cell_type": "markdown",
   "metadata": {
    "slideshow": {
     "slide_type": "fragment"
    }
   },
   "source": [
    "$X \\sim Binomial(10, 0.7)$, \n",
    "\n",
    "$$ P(X = 8) = \\binom{10}{8} (0.7)^8 (1 - 0.7)^{10 - 8} = 0.233 $$"
   ]
  },
  {
   "cell_type": "code",
   "execution_count": 2,
   "metadata": {
    "slideshow": {
     "slide_type": "fragment"
    }
   },
   "outputs": [
    {
     "name": "stdout",
     "output_type": "stream",
     "text": [
      "The probability of getting 8 flips out of 10 with a weight coin (.7) is: 0.23\n"
     ]
    }
   ],
   "source": [
    "p = binomial.pmf(8, 10, 0.7)\n",
    "print(f'The probability of getting 8 flips out of 10 with a weight coin (.7) is: {p:.2}')"
   ]
  },
  {
   "cell_type": "markdown",
   "metadata": {
    "slideshow": {
     "slide_type": "fragment"
    }
   },
   "source": [
    "Much more likely.\n",
    "\n",
    "This suggests that $p = 0.7$ is a better estimate than $p = 0.5$."
   ]
  },
  {
   "cell_type": "markdown",
   "metadata": {
    "slideshow": {
     "slide_type": "fragment"
    }
   },
   "source": [
    "Can we do better?"
   ]
  },
  {
   "cell_type": "markdown",
   "metadata": {
    "slideshow": {
     "slide_type": "slide"
    }
   },
   "source": [
    "You have probably guessed - if $p = 0.7$ is a better estimate than $p = 0.5$, then our common-sense estimate of $p = 0.8$ may do even better. Let's try it."
   ]
  },
  {
   "cell_type": "markdown",
   "metadata": {
    "slideshow": {
     "slide_type": "fragment"
    }
   },
   "source": [
    "$X \\sim Binomial(10, 0.8)$, \n",
    "\n",
    "$$ P(X = 8) = \\binom{10}{8} (0.8)^8 (1 - 0.8)^{10 - 8} = 0.302 $$"
   ]
  },
  {
   "cell_type": "code",
   "execution_count": 3,
   "metadata": {
    "slideshow": {
     "slide_type": "fragment"
    }
   },
   "outputs": [
    {
     "name": "stdout",
     "output_type": "stream",
     "text": [
      "The probability of getting 8 flips out of 10 with a weight coin (.8) is: 0.302\n"
     ]
    }
   ],
   "source": [
    "p = binomial.pmf(8, 10, 0.8)\n",
    "print(f'The probability of getting 8 flips out of 10 with a weight coin (.8) is: {p:.3}')"
   ]
  },
  {
   "cell_type": "markdown",
   "metadata": {
    "slideshow": {
     "slide_type": "fragment"
    }
   },
   "source": [
    "The mostly likely so far."
   ]
  },
  {
   "cell_type": "markdown",
   "metadata": {
    "slideshow": {
     "slide_type": "slide"
    }
   },
   "source": [
    "Can we do even better? What happens if we increase $p$ a little  more, say to $p = 8.1$?"
   ]
  },
  {
   "cell_type": "markdown",
   "metadata": {
    "slideshow": {
     "slide_type": "fragment"
    }
   },
   "source": [
    "$X \\sim Binomial(10, 0.81)$, \n",
    "\n",
    "$$ P(X = 8) = \\binom{10}{8} (0.81)^8 (1 - 0.81)^{10 - 8} = 0.301 $$"
   ]
  },
  {
   "cell_type": "code",
   "execution_count": 4,
   "metadata": {
    "slideshow": {
     "slide_type": "fragment"
    }
   },
   "outputs": [
    {
     "name": "stdout",
     "output_type": "stream",
     "text": [
      "The probability of getting 8 flips out of 10 with a weight coin (.81) is: 0.301\n"
     ]
    }
   ],
   "source": [
    "p = binomial.pmf(8, 10, 0.81)\n",
    "print(f'The probability of getting 8 flips out of 10 with a weight coin (.81) is: {p:.3}')"
   ]
  },
  {
   "cell_type": "markdown",
   "metadata": {
    "slideshow": {
     "slide_type": "fragment"
    }
   },
   "source": [
    "This has decreased a little bit from the result for p = 0.8, so my observation of 8 heads is **LESS** likely under p = 0.81 than under p = 0.8."
   ]
  },
  {
   "cell_type": "markdown",
   "metadata": {
    "slideshow": {
     "slide_type": "slide"
    }
   },
   "source": [
    "Overall, we can plot a graph showing how likely our observation of $X = 8$ is under each different value of $p$."
   ]
  },
  {
   "cell_type": "code",
   "execution_count": 10,
   "metadata": {
    "collapsed": true,
    "slideshow": {
     "slide_type": "fragment"
    }
   },
   "outputs": [],
   "source": [
    "import numpy as np\n",
    "import matplotlib.pyplot as plt\n",
    "\n",
    "%matplotlib inline"
   ]
  },
  {
   "cell_type": "code",
   "execution_count": 11,
   "metadata": {
    "slideshow": {
     "slide_type": "fragment"
    }
   },
   "outputs": [
    {
     "data": {
      "image/png": "[encoded data removed]",
      "text/plain": [
       "<matplotlib.figure.Figure at 0x1120cabe0>"
      ]
     },
     "metadata": {},
     "output_type": "display_data"
    }
   ],
   "source": [
    "p = np.linspace(0.01, 0.99, 99)\n",
    "plt.plot(p, binomial.pmf(8, 10, p));"
   ]
  },
  {
   "cell_type": "code",
   "execution_count": 12,
   "metadata": {
    "slideshow": {
     "slide_type": "slide"
    }
   },
   "outputs": [
    {
     "name": "stdout",
     "output_type": "stream",
     "text": [
      "The most likely value of p: 0.8\n"
     ]
    },
    {
     "data": {
      "image/png": "[encoded data removed]",
      "text/plain": [
       "<matplotlib.figure.Figure at 0x11423dcc0>"
      ]
     },
     "metadata": {},
     "output_type": "display_data"
    }
   ],
   "source": [
    "p = np.linspace(0.60, 0.99, 40)\n",
    "probs = binomial.pmf(8, 10, p)\n",
    "plt.plot(p, probs)\n",
    "\n",
    "most_likely_p = p[np.argmax(probs)]\n",
    "print(\"The most likely value of p:\", most_likely_p)\n",
    "\n",
    "plt.vlines(x = most_likely_p, ymin = 0, ymax = binomial.pmf(8, 10, most_likely_p));"
   ]
  },
  {
   "cell_type": "markdown",
   "metadata": {
    "slideshow": {
     "slide_type": "fragment"
    }
   },
   "source": [
    "The graph reaches a clear maximum. This is a value of p at which the observation X = 8 is **MORE LIKELY** than at any other value of p.  \n",
    "\n",
    "This *maximum likelihood* value of p is our **maximum likelihood estimate (MLE)**."
   ]
  },
  {
   "cell_type": "markdown",
   "metadata": {
    "slideshow": {
     "slide_type": "slide"
    }
   },
   "source": [
    "maximum likelihood estimate (MLE)\n",
    "------\n",
    "\n",
    "<center><img src=\"images/ml1.gif\" height=\"500\"/></center>"
   ]
  },
  {
   "cell_type": "markdown",
   "metadata": {
    "slideshow": {
     "slide_type": "slide"
    }
   },
   "source": [
    "Check for understanding\n",
    "------\n",
    "\n",
    "What is the MLE for these functions?\n",
    "\n",
    "<center><img src=\"images/MLE_blank.png\" height=\"500\"/></center>"
   ]
  },
  {
   "cell_type": "markdown",
   "metadata": {
    "slideshow": {
     "slide_type": "slide"
    }
   },
   "source": [
    "<center><img src=\"images/MLE-color.png\" height=\"500\"/></center>"
   ]
  },
  {
   "cell_type": "markdown",
   "metadata": {
    "slideshow": {
     "slide_type": "slide"
    }
   },
   "source": [
    "The Likelihood Function\n",
    "-----"
   ]
  },
  {
   "cell_type": "code",
   "execution_count": 14,
   "metadata": {
    "slideshow": {
     "slide_type": "fragment"
    }
   },
   "outputs": [
    {
     "data": {
      "image/png": "[encoded data removed]",
      "text/plain": [
       "<matplotlib.figure.Figure at 0x114461908>"
      ]
     },
     "metadata": {},
     "output_type": "display_data"
    }
   ],
   "source": [
    "plt.plot(p, probs)\n",
    "plt.vlines(x = most_likely_p, ymin = 0, ymax = binomial.pmf(8, 10, most_likely_p));"
   ]
  },
  {
   "cell_type": "markdown",
   "metadata": {
    "slideshow": {
     "slide_type": "fragment"
    }
   },
   "source": [
    "- Horizontal axis: The unknown parameter p.\n",
    "- Vertical axis: The probability of our observation, X = 8, under each value of p.  \n",
    "- The function is called the **likelihood function**, a function of the unknown parameter p.   "
   ]
  },
  {
   "cell_type": "markdown",
   "metadata": {
    "slideshow": {
     "slide_type": "slide"
    }
   },
   "source": [
    "The likelihood function is:\n",
    "\n",
    "$$ \\begin{align*}\n",
    "     L(p) &= P(X = 8) \\text{ when } X \\sim Binomial(10, p) \\\\\n",
    "          &= \\binom{10}{8} p^8 (1 - p)^{10 - 8} \\\\\n",
    "          &= \\binom{10}{8} p^8 (1 - p)^2\n",
    "   \\end{align*} $$"
   ]
  },
  {
   "cell_type": "markdown",
   "metadata": {
    "slideshow": {
     "slide_type": "slide"
    }
   },
   "source": [
    "In general, if our observation were $X = x$ rather than $X = 8$, the likelihood function is a function of $p$ giving $P(X = x)$ when $X \\sim Binomial(100, p)$.\n",
    "\n",
    "$$ \\begin{align*}\n",
    "     L(p) &= P(X = x) \\text{ when } X \\sim Binomial(10, p) \\\\\n",
    "          &= \\binom{10}{x} p^x (1 - p)^{10 - x} \n",
    "   \\end{align*} $$"
   ]
  },
  {
   "cell_type": "markdown",
   "metadata": {
    "slideshow": {
     "slide_type": "slide"
    }
   },
   "source": [
    "Difference between the likelihood function and the probability mass function\n",
    "-----\n",
    "\n",
    "The likelihood function gives the probability of a **FIXED** observation x, for every possible value of the parameter p. "
   ]
  },
  {
   "cell_type": "markdown",
   "metadata": {
    "slideshow": {
     "slide_type": "fragment"
    }
   },
   "source": [
    "The probability mass function gives the probability of every different value of x, for a **FIXED** value of p."
   ]
  },
  {
   "cell_type": "code",
   "execution_count": 19,
   "metadata": {
    "slideshow": {
     "slide_type": "slide"
    }
   },
   "outputs": [
    {
     "data": {
      "image/png": "[encoded data removed]",
      "text/plain": [
       "<matplotlib.figure.Figure at 0x114851f60>"
      ]
     },
     "metadata": {},
     "output_type": "display_data"
    }
   ],
   "source": [
    "p = np.linspace(0.01, 0.99, 99)\n",
    "plt.plot(p, binomial.pmf(8, 10, p));\n",
    "plt.title(\"Likelihood function\");"
   ]
  },
  {
   "cell_type": "code",
   "execution_count": 18,
   "metadata": {
    "slideshow": {
     "slide_type": "slide"
    }
   },
   "outputs": [
    {
     "data": {
      "image/png": "[encoded data removed]",
      "text/plain": [
       "<matplotlib.figure.Figure at 0x114886c18>"
      ]
     },
     "metadata": {},
     "output_type": "display_data"
    }
   ],
   "source": [
    "x = np.linspace(0, 10, 11)\n",
    "plt.bar((x - 0.5), binomial.pmf(x, 10, 0.8))\n",
    "plt.xlim((0, 11));\n",
    "plt.title(\"Probability mass function\");"
   ]
  },
  {
   "cell_type": "markdown",
   "metadata": {
    "slideshow": {
     "slide_type": "slide"
    }
   },
   "source": [
    "## Maximizing the Likelihood\n",
    "\n",
    "We have decided that a sensible parameter estimate for p is the maximum likelihood estimate (MLE): the value of $p$ at which the observation X = 8 is more likely than at any other value of p.  \n",
    "\n",
    "We can find the maximum likelihood estimate (MLE) using calculus.\n",
    "\n",
    "For computational reasons, we will maximize the log of this function instead."
   ]
  },
  {
   "cell_type": "markdown",
   "metadata": {
    "slideshow": {
     "slide_type": "slide"
    }
   },
   "source": [
    "### The Log-likelihood Function\n",
    "\n",
    "If we take the natural logarithm of the likelihood function, we get the **log-likelihood** function.  \n",
    "\n",
    "$$l(p) = \\log(L(p))$$"
   ]
  },
  {
   "cell_type": "markdown",
   "metadata": {
    "slideshow": {
     "slide_type": "slide"
    }
   },
   "source": [
    "For our coin experiment,\n",
    "\n",
    "$$ \\begin{align*}\n",
    "     l(p) &= L(p) \\\\\n",
    "          &= \\log\\left( \\binom{10}{8} p^8 (1 - p)^2 \\right) \\\\\n",
    "          &= \\log \\binom{10}{8} + 8 \\log(p) + 2 \\log(1 - p)\n",
    "   \\end{align*} $$"
   ]
  },
  {
   "cell_type": "markdown",
   "metadata": {
    "slideshow": {
     "slide_type": "skip"
    }
   },
   "source": [
    "Note: The $log \\binom{10}{8}$ is usually dropped since it is just a constant and does not affect the value that maximizes the function (we only care about the terms that involve p."
   ]
  },
  {
   "cell_type": "code",
   "execution_count": 20,
   "metadata": {
    "slideshow": {
     "slide_type": "slide"
    }
   },
   "outputs": [
    {
     "name": "stdout",
     "output_type": "stream",
     "text": [
      "0.8 -1.19736174561\n"
     ]
    },
    {
     "data": {
      "image/png": "[encoded data removed]",
      "text/plain": [
       "<matplotlib.figure.Figure at 0x111dc6390>"
      ]
     },
     "metadata": {},
     "output_type": "display_data"
    }
   ],
   "source": [
    "p = np.linspace(0.01, 0.99, 99)\n",
    "log_likelihoods = np.log(binomial.pmf(8, 10, p))\n",
    "plt.plot(p, log_likelihoods);\n",
    "\n",
    "max_index = np.argmax(log_likelihoods)\n",
    "plt.axvline(x = p[max_index])\n",
    "\n",
    "print(p[max_index], log_likelihoods[max_index])"
   ]
  },
  {
   "cell_type": "markdown",
   "metadata": {
    "slideshow": {
     "slide_type": "slide"
    }
   },
   "source": [
    "Maximize the log-likehood function instead of the likelihood function\n",
    "------\n",
    "\n",
    "The logarithm of a function achieves its maximum value at the same points as the function itself.\n",
    "   \n",
    "e.g. the p that maximizes the log-likelihood function also maximizes the likelihood, and maximizing either function gives us the same MLE value"
   ]
  },
  {
   "cell_type": "markdown",
   "metadata": {
    "slideshow": {
     "slide_type": "slide"
    }
   },
   "source": [
    "Maximize the log-likehood function instead of the likelihood function\n",
    "------\n",
    "\n",
    "It is often easier to take the derivative of a log-likelihood function and solving for the parameter being maximized  \n",
    "\n",
    "i.e. it is easier to work with sums than products"
   ]
  },
  {
   "cell_type": "markdown",
   "metadata": {
    "slideshow": {
     "slide_type": "slide"
    }
   },
   "source": [
    "Maximize the log-likehood function instead of the likelihood function\n",
    "------\n",
    "<center><img src=\"https://www.cise.ufl.edu/~mssz/CompOrg/MIPS-SciNotation-ovfl1.gif\" height=\"500\"/></center>\n",
    "\n",
    "One issue with calculating small probabilities with a computer is arithmetic underflow - once the values get sufficiently small, they will be rounded to 0 and we will lose all information."
   ]
  },
  {
   "cell_type": "markdown",
   "metadata": {
    "slideshow": {
     "slide_type": "slide"
    }
   },
   "source": [
    "Check for understanding\n",
    "------\n",
    "\n",
    "The likelihood of a hypothesis, L(H|D), the \\_\\_\\_\\_\\_\\_\\_\\_\\_ is fixed and \n",
    "\\_\\_\\_\\_\\_\\_\\_\\_\\_ is allowed to vary."
   ]
  },
  {
   "cell_type": "markdown",
   "metadata": {
    "slideshow": {
     "slide_type": "fragment"
    }
   },
   "source": [
    "The likelihood of a hypothesis, L(H|D), the __data__ is fixed and \n",
    "__hypotheses__ is allowed to vary.\n"
   ]
  },
  {
   "cell_type": "markdown",
   "metadata": {
    "slideshow": {
     "slide_type": "slide"
    }
   },
   "source": [
    "Summary\n",
    "----\n",
    "\n",
    "- Do __not__ forget Bayes Theorem\n",
    "- Statistical inference can be complex but let's K.I.S.S:\n",
    "    - Maximum likelihood estimation (MLE) of Log-likelihood\n",
    "- The lab will reinforce the steps of the process"
   ]
  },
  {
   "cell_type": "markdown",
   "metadata": {
    "slideshow": {
     "slide_type": "slide"
    }
   },
   "source": [
    "-----\n",
    "Bonus Material\n",
    "-----"
   ]
  },
  {
   "cell_type": "markdown",
   "metadata": {
    "slideshow": {
     "slide_type": "slide"
    }
   },
   "source": [
    "### Finding the Maximum of the Log-likelihood Function"
   ]
  },
  {
   "cell_type": "markdown",
   "metadata": {
    "slideshow": {
     "slide_type": "fragment"
    }
   },
   "source": [
    "To find the maximizing value of $p$, we first differentiate the log-likelihood with respect to $p$:\n",
    "\n",
    "$$ \\begin{align*}\n",
    "     \\frac{dl}{dp} &= 8 (\\frac{1}{p}) + 2 (\\frac{1}{1 - p}) \\\\\n",
    "                   &= \\frac{8}{p} + \\frac{2}{1 - p}\n",
    "   \\end{align*} $$\n",
    "   \n",
    "The maximizing value of $p$ occurs when  \n",
    "\n",
    "$$ \\frac{dl}{dp} = 0 $$\n",
    "\n",
    "This gives us  \n",
    "\n",
    "$$ \\frac{dl}{dp} = \\frac{8}{p} - \\frac{2}{1 - p} = 0 $$\n",
    "$$ \\Rightarrow p = 0.8 $$"
   ]
  },
  {
   "cell_type": "markdown",
   "metadata": {
    "slideshow": {
     "slide_type": "slide"
    }
   },
   "source": [
    "So based on the data we have, we concluded that the probability of getting a head from my coin is 0.8. \n",
    "\n",
    "\n",
    "How good is this estimate?  \n",
    "\n",
    "\n",
    "How to make it better?  "
   ]
  },
  {
   "cell_type": "markdown",
   "metadata": {
    "slideshow": {
     "slide_type": "slide"
    }
   },
   "source": [
    "What does the principal of maximum likelihood say?"
   ]
  },
  {
   "cell_type": "markdown",
   "metadata": {
    "slideshow": {
     "slide_type": "slide"
    }
   },
   "source": [
    "we should should choose θ so as to make the data as high probability as possible. \n",
    "\n",
    "i.e., we should choose θ to maximize L(θ).\n",
    "\n",
    "<center><img src=\"images/max.png\" style=\"width: 350px;\"/></center>"
   ]
  },
  {
   "cell_type": "markdown",
   "metadata": {
    "collapsed": true,
    "slideshow": {
     "slide_type": "slide"
    }
   },
   "source": [
    "<br>\n",
    "<br> \n",
    "<br>\n",
    "\n",
    "----"
   ]
  }
 ],
 "metadata": {
  "anaconda-cloud": {},
  "celltoolbar": "Slideshow",
  "kernelspec": {
   "display_name": "Python 3",
   "language": "python",
   "name": "python3"
  },
  "language_info": {
   "codemirror_mode": {
    "name": "ipython",
    "version": 3
   },
   "file_extension": ".py",
   "mimetype": "text/x-python",
   "name": "python",
   "nbconvert_exporter": "python",
   "pygments_lexer": "ipython3",
   "version": "3.6.1"
  }
 },
 "nbformat": 4,
 "nbformat_minor": 1
}
