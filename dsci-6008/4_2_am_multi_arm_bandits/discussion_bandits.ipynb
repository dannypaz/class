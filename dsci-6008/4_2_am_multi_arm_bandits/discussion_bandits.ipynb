{
 "cells": [
  {
   "cell_type": "markdown",
   "metadata": {
    "slideshow": {
     "slide_type": "slide"
    }
   },
   "source": [
    "Brian's Casino\n",
    "-----\n",
    "<br>\n",
    "<center><img src=\"https://s-media-cache-ak0.pinimg.com/736x/a4/54/41/a45441953e80eb577134426cade9d9ad.jpg\" width=\"500\"/></center>"
   ]
  },
  {
   "cell_type": "markdown",
   "metadata": {
    "slideshow": {
     "slide_type": "slide"
    }
   },
   "source": [
    "The Rules\n",
    "------\n",
    "\n",
    "1. Pick a deck.\n",
    "1. During a round, draw one card from any pile.\n",
    "1. Points are equal to the number on the card. Jack, Queen, King, and Ace are each worth 10 points. \n",
    "1. Your score is the sum of points after 10 rounds.\n",
    "1. Shuffle the piles before starting.  \n",
    "\n",
    "(Audience participation is encouraged.)"
   ]
  },
  {
   "cell_type": "markdown",
   "metadata": {
    "slideshow": {
     "slide_type": "slide"
    }
   },
   "source": [
    "What is the best strategy?\n",
    "-------"
   ]
  },
  {
   "cell_type": "markdown",
   "metadata": {},
   "source": [
    "<br>\n",
    "<br> \n",
    "<br>\n",
    "\n",
    "----"
   ]
  }
 ],
 "metadata": {
  "celltoolbar": "Slideshow",
  "kernelspec": {
   "display_name": "Python 3",
   "language": "python",
   "name": "python3"
  },
  "language_info": {
   "codemirror_mode": {
    "name": "ipython",
    "version": 3
   },
   "file_extension": ".py",
   "mimetype": "text/x-python",
   "name": "python",
   "nbconvert_exporter": "python",
   "pygments_lexer": "ipython3",
   "version": "3.6.1"
  }
 },
 "nbformat": 4,
 "nbformat_minor": 2
}
