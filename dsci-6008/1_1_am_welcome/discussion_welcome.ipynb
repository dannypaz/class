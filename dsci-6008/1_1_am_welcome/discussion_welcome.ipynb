{
 "cells": [
  {
   "cell_type": "markdown",
   "metadata": {
    "slideshow": {
     "slide_type": "slide"
    }
   },
   "source": [
    "What is Statistics? <br> How does Statistics related to Machine Learing & Data Science? \n",
    "------\n",
    "<br>\n",
    "<center><img src=\"images/wills.png\" height=\"500\"/></center>"
   ]
  },
  {
   "cell_type": "markdown",
   "metadata": {
    "slideshow": {
     "slide_type": "slide"
    }
   },
   "source": [
    "What is Statistics?\n",
    "-----\n",
    "\n",
    "- Explorations / Explanations\n",
    "\n",
    "- Inferences / Predictions"
   ]
  },
  {
   "cell_type": "markdown",
   "metadata": {
    "slideshow": {
     "slide_type": "slide"
    }
   },
   "source": [
    "What are the elements of statistics?\n",
    "-----\n",
    "\n",
    "1. Collect data \n",
    "1. Organize (munge) data  \n",
    "1. Find patterns \n",
    "1. Extract meaning\n",
    "1. Share results\n",
    "1. Repeat"
   ]
  },
  {
   "cell_type": "markdown",
   "metadata": {
    "slideshow": {
     "slide_type": "slide"
    }
   },
   "source": [
    "Who is a Data Scientist?\n",
    "-----"
   ]
  },
  {
   "cell_type": "markdown",
   "metadata": {
    "slideshow": {
     "slide_type": "fragment"
    }
   },
   "source": [
    "> A statistican who lives in San Francisco"
   ]
  },
  {
   "cell_type": "markdown",
   "metadata": {
    "slideshow": {
     "slide_type": "fragment"
    }
   },
   "source": [
    " > Statistics on a Mac"
   ]
  },
  {
   "cell_type": "markdown",
   "metadata": {
    "slideshow": {
     "slide_type": "slide"
    }
   },
   "source": [
    "What is the difference between machine learning & statistics?\n",
    "----\n",
    "\n",
    "1) Not much. They are both concerned with the same question: How do we learn from data?"
   ]
  },
  {
   "cell_type": "markdown",
   "metadata": {
    "slideshow": {
     "slide_type": "fragment"
    }
   },
   "source": [
    "2) About $35,000 a year"
   ]
  },
  {
   "cell_type": "markdown",
   "metadata": {
    "slideshow": {
     "slide_type": "slide"
    }
   },
   "source": [
    "What is the difference between machine learning & statistics?\n",
    "----\n",
    "\n",
    "3) Machine Learning is a subfield of Computer Science and Artificial Intelligence. Focuses on building systems that can learn from data, instead of explicitly programmed instructions.\n",
    "\n",
    "A Statistics is a subfield of Mathematics. Focuses on formalization of relationships between variables in the data in the form of mathematical equations."
   ]
  },
  {
   "cell_type": "markdown",
   "metadata": {
    "slideshow": {
     "slide_type": "slide"
    }
   },
   "source": [
    "What is the difference between machine learning & statistics?\n",
    "----\n",
    "\n",
    "4) Machine Learning only predicts the future.  \n",
    "\n",
    "Statistics also explains the past.  \n"
   ]
  },
  {
   "cell_type": "markdown",
   "metadata": {
    "slideshow": {
     "slide_type": "slide"
    }
   },
   "source": [
    "Why Study Statistics?\n",
    "-----\n",
    "\n",
    "<center><img src=\"https://media.licdn.com/mpr/mpr/shrinknp_800_800/AAEAAQAAAAAAAAJUAAAAJDcxZWQxMGQzLTdmYWMtNDZmOC1hMzJjLTFmZDk5NGIzY2IzMg.jpg\" width=\"500\"/></center>\n",
    "\n",
    "To think probabilistically"
   ]
  },
  {
   "cell_type": "markdown",
   "metadata": {
    "slideshow": {
     "slide_type": "slide"
    }
   },
   "source": [
    "Why Study Statistics?\n",
    "-----\n",
    "\n",
    "Avoid human cognitive biases\n",
    "\n",
    "<center><img src=\"images/cog.jpg\" width=\"500\"/></center>"
   ]
  },
  {
   "cell_type": "markdown",
   "metadata": {
    "slideshow": {
     "slide_type": "slide"
    }
   },
   "source": [
    "<center><img src=\"http://www.azquotes.com/picture-quotes/quote-it-is-easy-to-lie-with-statistics-it-is-easier-to-lie-without-them-frederick-mosteller-81-99-74.jpg\" height=\"500\"/></center>"
   ]
  },
  {
   "cell_type": "markdown",
   "metadata": {
    "slideshow": {
     "slide_type": "slide"
    }
   },
   "source": [
    " "
   ]
  }
 ],
 "metadata": {
  "celltoolbar": "Slideshow",
  "kernelspec": {
   "display_name": "Python 3",
   "language": "python",
   "name": "python3"
  },
  "language_info": {
   "codemirror_mode": {
    "name": "ipython",
    "version": 3
   },
   "file_extension": ".py",
   "mimetype": "text/x-python",
   "name": "python",
   "nbconvert_exporter": "python",
   "pygments_lexer": "ipython3",
   "version": "3.6.1"
  }
 },
 "nbformat": 4,
 "nbformat_minor": 2
}
