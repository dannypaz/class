{
 "cells": [
  {
   "cell_type": "markdown",
   "metadata": {
    "slideshow": {
     "slide_type": "slide"
    }
   },
   "source": [
    "Class Themes\n",
    "----\n",
    "<br>\n",
    "<center><img src=\"http://people.ischool.berkeley.edu/~hal/people/hal/images/hal-google-hires.jpg\" style=\"height: 500px;\"/></center>\n",
    "\n",
    "> \"I keep saying that the sexy job in the next 10 years will be statisticians. And I’m not kidding.”  \n",
    "> – Hal Varian, Chief Economist, Google"
   ]
  },
  {
   "cell_type": "markdown",
   "metadata": {
    "slideshow": {
     "slide_type": "slide"
    }
   },
   "source": [
    "<center><img src=\"images/fav.jpeg\" style=\"height: 500px;\"/></center>"
   ]
  },
  {
   "cell_type": "markdown",
   "metadata": {
    "slideshow": {
     "slide_type": "slide"
    }
   },
   "source": [
    "Data Science is mostly Venn Diagrams\n",
    "----\n",
    "\n",
    "<center><img src=\"images/venn_diagram.png\" height=\"500\"></center>\n",
    "\n",
    "Let's avoid the danger zone!"
   ]
  },
  {
   "cell_type": "markdown",
   "metadata": {
    "slideshow": {
     "slide_type": "slide"
    }
   },
   "source": [
    "<center><img src=\"images/eLrhI.png\" height=\"500\"/></center>"
   ]
  },
  {
   "cell_type": "markdown",
   "metadata": {
    "slideshow": {
     "slide_type": "slide"
    }
   },
   "source": [
    "How does a Google Data Scientist spends her/his time?\n",
    "------\n",
    "\n",
    "<center><img src=\"images/google.png\" height=\"500\"/></center>"
   ]
  },
  {
   "cell_type": "markdown",
   "metadata": {
    "slideshow": {
     "slide_type": "slide"
    }
   },
   "source": [
    "Why Python for statistics?\n",
    "-----\n",
    "\n",
    "<center><img src=\"https://pbs.twimg.com/media/CSwt--zWoAEI9XD.png\" height=\"500\"/></center>\n",
    "\n",
    "R is a language dedicated to statistics. R has more statistical analysis features than Python, and specialized syntaxes.\n",
    "\n",
    "Python is a general-purpose language with statistics modules. \n",
    "\n",
    "However, when it comes to building complex data analysis pipelines that go into production the richness of Python is an invaluable asset.\n",
    "\n",
    "[Source](http://www.scipy-lectures.org/packages/statistics/index.html)"
   ]
  },
  {
   "cell_type": "markdown",
   "metadata": {
    "slideshow": {
     "slide_type": "slide"
    }
   },
   "source": [
    "gU Education: The What?, The Why?, The How?\n",
    "----\n",
    "<center><img src=\"images/golden_circle.png\" height=\"500\"/></center>"
   ]
  },
  {
   "cell_type": "markdown",
   "metadata": {
    "slideshow": {
     "slide_type": "slide"
    }
   },
   "source": [
    "<br>\n",
    "<br> \n",
    "<br>\n",
    "\n",
    "----"
   ]
  }
 ],
 "metadata": {
  "anaconda-cloud": {},
  "celltoolbar": "Slideshow",
  "kernelspec": {
   "display_name": "Python 3",
   "language": "python",
   "name": "python3"
  },
  "language_info": {
   "codemirror_mode": {
    "name": "ipython",
    "version": 3
   },
   "file_extension": ".py",
   "mimetype": "text/x-python",
   "name": "python",
   "nbconvert_exporter": "python",
   "pygments_lexer": "ipython3",
   "version": "3.6.1"
  },
  "nbpresent": {
   "slides": {
    "0316cd9a-dd6d-4296-8dbd-c67aeef19a44": {
     "id": "0316cd9a-dd6d-4296-8dbd-c67aeef19a44",
     "prev": "60b49e3b-e2c1-450b-ab70-94ef73205892",
     "regions": {
      "bc3ded2e-7faf-4569-966c-3b8191938661": {
       "attrs": {
        "height": 0.8,
        "width": 0.8,
        "x": 0.1,
        "y": 0.1
       },
       "content": {
        "cell": "7191731a-1d37-4d35-ae37-0bb77190b4c5",
        "part": "whole"
       },
       "id": "bc3ded2e-7faf-4569-966c-3b8191938661"
      }
     }
    },
    "1844ba72-102c-4e56-8d4a-5bbe0e3d76b4": {
     "id": "1844ba72-102c-4e56-8d4a-5bbe0e3d76b4",
     "prev": "b7341c86-2867-4672-8275-cd057584053a",
     "regions": {
      "1dda8424-f8c0-437b-82c3-270d48e8573e": {
       "attrs": {
        "height": 0.8,
        "width": 0.8,
        "x": 0.1,
        "y": 0.1
       },
       "content": {
        "cell": "90ab8e9d-1257-468c-abc8-24c6e7bda53d",
        "part": "whole"
       },
       "id": "1dda8424-f8c0-437b-82c3-270d48e8573e"
      }
     }
    },
    "2ff5f0b6-6b44-449f-9686-5419b9200f72": {
     "id": "2ff5f0b6-6b44-449f-9686-5419b9200f72",
     "prev": "485c8cac-4b7c-4815-833e-2ca01f6de7d9",
     "regions": {
      "6b27bbf7-8984-4a55-aea8-590c3d88d2b7": {
       "attrs": {
        "height": 0.8,
        "width": 0.8,
        "x": 0.1,
        "y": 0.1
       },
       "content": {
        "cell": "1ba9d181-3ca2-45e6-8142-6e5907223048",
        "part": "whole"
       },
       "id": "6b27bbf7-8984-4a55-aea8-590c3d88d2b7"
      }
     }
    },
    "3c8b1b1c-2ddb-4735-b7ba-d8e0cae2fce7": {
     "id": "3c8b1b1c-2ddb-4735-b7ba-d8e0cae2fce7",
     "prev": "a4e508e9-1cc9-42e0-bc93-dba0250780c6",
     "regions": {
      "3e0d0062-185c-4f01-a8b1-5278cd7e5f17": {
       "attrs": {
        "height": 0.8,
        "width": 0.8,
        "x": 0.1,
        "y": 0.1
       },
       "content": {
        "cell": "4a15219a-c873-45f2-a436-b7619ea1fb83",
        "part": "whole"
       },
       "id": "3e0d0062-185c-4f01-a8b1-5278cd7e5f17"
      }
     }
    },
    "485c8cac-4b7c-4815-833e-2ca01f6de7d9": {
     "id": "485c8cac-4b7c-4815-833e-2ca01f6de7d9",
     "prev": "0316cd9a-dd6d-4296-8dbd-c67aeef19a44",
     "regions": {
      "434fe1b1-a86f-4ec7-95f7-2c866275e77f": {
       "attrs": {
        "height": 0.8,
        "width": 0.8,
        "x": 0.1,
        "y": 0.1
       },
       "content": {
        "cell": "64a3b6d0-393e-4ec2-8878-2a4a45e1e0c4",
        "part": "whole"
       },
       "id": "434fe1b1-a86f-4ec7-95f7-2c866275e77f"
      }
     }
    },
    "5ac47a4e-c47d-43de-b3f1-6f34ca708e09": {
     "id": "5ac47a4e-c47d-43de-b3f1-6f34ca708e09",
     "prev": null,
     "regions": {
      "ff1e37af-0ab5-4a53-bb77-b9406e8a7810": {
       "attrs": {
        "height": 0.8,
        "width": 0.8,
        "x": 0.1,
        "y": 0.1
       },
       "content": {
        "cell": "85f88828-b309-40e4-a85c-f3c87d1562f5",
        "part": "whole"
       },
       "id": "ff1e37af-0ab5-4a53-bb77-b9406e8a7810"
      }
     }
    },
    "60950b20-df5a-4a70-81be-97eac8c851dd": {
     "id": "60950b20-df5a-4a70-81be-97eac8c851dd",
     "prev": "2ff5f0b6-6b44-449f-9686-5419b9200f72",
     "regions": {
      "1e16475b-2ed9-4690-8b5f-aeaeea783fd1": {
       "attrs": {
        "height": 0.8,
        "width": 0.8,
        "x": 0.1,
        "y": 0.1
       },
       "content": {
        "cell": "2bf08bf5-957c-42a8-9760-f1df6112a1f1",
        "part": "whole"
       },
       "id": "1e16475b-2ed9-4690-8b5f-aeaeea783fd1"
      }
     }
    },
    "60b49e3b-e2c1-450b-ab70-94ef73205892": {
     "id": "60b49e3b-e2c1-450b-ab70-94ef73205892",
     "prev": "5ac47a4e-c47d-43de-b3f1-6f34ca708e09",
     "regions": {
      "088e7c65-e932-4a66-8ec0-0f90abaa0f89": {
       "attrs": {
        "height": 0.8,
        "width": 0.45,
        "x": 0.05,
        "y": 0.1
       },
       "id": "088e7c65-e932-4a66-8ec0-0f90abaa0f89"
      },
      "091a9095-78bb-4a03-942c-c8e1e353a969": {
       "attrs": {
        "height": 0.8,
        "width": 0.45,
        "x": 0.5,
        "y": 0.1
       },
       "id": "091a9095-78bb-4a03-942c-c8e1e353a969"
      }
     }
    },
    "88754933-b910-4af5-b4ba-df7579412cdf": {
     "id": "88754933-b910-4af5-b4ba-df7579412cdf",
     "prev": "3c8b1b1c-2ddb-4735-b7ba-d8e0cae2fce7",
     "regions": {
      "5b4d0b7b-e17b-45f6-afb0-096711d805b6": {
       "attrs": {
        "height": 0.8,
        "width": 0.8,
        "x": 0.1,
        "y": 0.1
       },
       "content": {
        "cell": "038825aa-670b-4188-b4a2-3c4c25675f57",
        "part": "whole"
       },
       "id": "5b4d0b7b-e17b-45f6-afb0-096711d805b6"
      }
     }
    },
    "89b7399a-aeb5-4f86-871c-2a81a33c7360": {
     "id": "89b7399a-aeb5-4f86-871c-2a81a33c7360",
     "prev": "1844ba72-102c-4e56-8d4a-5bbe0e3d76b4",
     "regions": {
      "94449ee9-1db6-4d17-910f-49a9436b601b": {
       "attrs": {
        "height": 0.8,
        "width": 0.8,
        "x": 0.1,
        "y": 0.1
       },
       "content": {
        "cell": "81632790-077b-49d2-92c5-9c8bd383bf1f",
        "part": "whole"
       },
       "id": "94449ee9-1db6-4d17-910f-49a9436b601b"
      }
     }
    },
    "a4e508e9-1cc9-42e0-bc93-dba0250780c6": {
     "id": "a4e508e9-1cc9-42e0-bc93-dba0250780c6",
     "prev": "eaa3d255-a6d3-4754-83e8-9a7279cf45ec",
     "regions": {
      "2730ccd3-732e-4db3-8632-928f87656811": {
       "attrs": {
        "height": 0.8,
        "width": 0.8,
        "x": 0.1,
        "y": 0.1
       },
       "content": {
        "cell": "bd89348e-8f2f-46fa-a160-e40f4099a899",
        "part": "whole"
       },
       "id": "2730ccd3-732e-4db3-8632-928f87656811"
      }
     }
    },
    "a5956a42-18b0-424b-bb88-7512fad88a3d": {
     "id": "a5956a42-18b0-424b-bb88-7512fad88a3d",
     "prev": "60950b20-df5a-4a70-81be-97eac8c851dd",
     "regions": {
      "bebd2e49-cbeb-4c51-9e97-b65ccfd31f55": {
       "attrs": {
        "height": 0.8,
        "width": 0.8,
        "x": 0.1,
        "y": 0.1
       },
       "content": {
        "cell": "b88bc15f-e8da-4eff-8a93-72747e6b9d58",
        "part": "whole"
       },
       "id": "bebd2e49-cbeb-4c51-9e97-b65ccfd31f55"
      }
     }
    },
    "b7341c86-2867-4672-8275-cd057584053a": {
     "id": "b7341c86-2867-4672-8275-cd057584053a",
     "prev": "a5956a42-18b0-424b-bb88-7512fad88a3d",
     "regions": {
      "0b286741-b488-4c91-b943-162e34a24887": {
       "attrs": {
        "height": 0.8,
        "width": 0.8,
        "x": 0.1,
        "y": 0.1
       },
       "content": {
        "cell": "dab4b347-adff-4323-ba15-de976ddbec87",
        "part": "whole"
       },
       "id": "0b286741-b488-4c91-b943-162e34a24887"
      }
     }
    },
    "eaa3d255-a6d3-4754-83e8-9a7279cf45ec": {
     "id": "eaa3d255-a6d3-4754-83e8-9a7279cf45ec",
     "prev": "89b7399a-aeb5-4f86-871c-2a81a33c7360",
     "regions": {
      "2b977a73-1e16-47d1-a046-d9aa347123c5": {
       "attrs": {
        "height": 0.8,
        "width": 0.8,
        "x": 0.1,
        "y": 0.1
       },
       "content": {
        "cell": "177bdae6-f2ee-4391-97fb-6e0b6b6ac9d5",
        "part": "whole"
       },
       "id": "2b977a73-1e16-47d1-a046-d9aa347123c5"
      }
     }
    }
   },
   "themes": {}
  }
 },
 "nbformat": 4,
 "nbformat_minor": 1
}
