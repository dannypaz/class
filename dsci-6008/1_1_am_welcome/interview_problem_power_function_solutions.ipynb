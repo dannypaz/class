{
 "cells": [
  {
   "cell_type": "markdown",
   "metadata": {},
   "source": [
    "Implement the power function\n",
    "------\n",
    "\n",
    "For example, 2<sup>8</sup> = 2\\*2\\*2\\*2 = 256"
   ]
  },
  {
   "cell_type": "markdown",
   "metadata": {},
   "source": [
    "----"
   ]
  },
  {
   "cell_type": "markdown",
   "metadata": {},
   "source": [
    "Brian's Technical Interview Plan\n",
    "-----\n",
    "\n",
    "1. Ask\n",
    "1. Assume\n",
    "1. Plan\n",
    "1. Code\n",
    "1. Test\n",
    "1. Refactor"
   ]
  },
  {
   "cell_type": "markdown",
   "metadata": {},
   "source": [
    "Ask\n",
    "-----\n",
    "\n",
    "Do you mean pow(n, p)?"
   ]
  },
  {
   "cell_type": "markdown",
   "metadata": {},
   "source": [
    "Assume\n",
    "----\n",
    "\n",
    "I'm only going to get two friendly arguments, n and p. p must be a nonnegative integer.\n",
    "\n",
    "I'm going to code in Python. I can use the Standard Library (but not `math.pow` or the built-in `**`)."
   ]
  },
  {
   "cell_type": "code",
   "execution_count": 64,
   "metadata": {
    "collapsed": true
   },
   "outputs": [],
   "source": [
    "reset -fs"
   ]
  },
  {
   "cell_type": "code",
   "execution_count": 2,
   "metadata": {
    "collapsed": true
   },
   "outputs": [],
   "source": [
    "def test_my_pow():\n",
    "    \n",
    "    # Friendly tests\n",
    "    assert my_pow(3, 4) == 81\n",
    "    assert my_pow(3, 4) == pow(3, 4)\n",
    "    assert my_pow(3, 1) == pow(3, 1)\n",
    "\n",
    "    # Adversarial tests\n",
    "    # assert my_pow(3, -1) == pow(3, -1)\n",
    "    # assert my_pow(3, .5) == pow(3, .5)\n",
    "    # assert my_pow(102217, 104491) == pow(102217, 104491) \n",
    "\n",
    "    return \"all tests pass 😁\"\n"
   ]
  },
  {
   "cell_type": "code",
   "execution_count": 66,
   "metadata": {},
   "outputs": [
    {
     "name": "stdout",
     "output_type": "stream",
     "text": [
      "all tests pass 😁\n"
     ]
    }
   ],
   "source": [
    "def my_pow(n, p):\n",
    "    \"Imperative style\"\n",
    "    result = 1\n",
    "    for _ in range(p):\n",
    "        result *= n\n",
    "    return result\n",
    "\n",
    "print(test_my_pow())"
   ]
  },
  {
   "cell_type": "code",
   "execution_count": 40,
   "metadata": {},
   "outputs": [
    {
     "name": "stdout",
     "output_type": "stream",
     "text": [
      "all tests pass 😁\n"
     ]
    }
   ],
   "source": [
    "def my_pow(n, p):\n",
    "    \"Recrusive style\"\n",
    "    if p == 0:\n",
    "        return 1\n",
    "    else:\n",
    "        return n * my_pow(n, p-1)\n",
    "    \n",
    "print(test_my_pow())"
   ]
  },
  {
   "cell_type": "code",
   "execution_count": 48,
   "metadata": {},
   "outputs": [
    {
     "name": "stdout",
     "output_type": "stream",
     "text": [
      "all tests pass 😁\n"
     ]
    }
   ],
   "source": [
    "from functools import reduce\n",
    "\n",
    "def my_pow(n, p):\n",
    "    \"Functional style\"\n",
    "    return reduce(lambda result, _: result * n, range(p), 1)\n",
    "\n",
    "print(test_my_pow())"
   ]
  },
  {
   "cell_type": "markdown",
   "metadata": {},
   "source": [
    "-----\n",
    "Let's benchmark\n",
    "----"
   ]
  },
  {
   "cell_type": "code",
   "execution_count": 59,
   "metadata": {},
   "outputs": [
    {
     "name": "stdout",
     "output_type": "stream",
     "text": [
      "3.52 s ± 258 ms per loop (mean ± std. dev. of 7 runs, 3 loops each)\n"
     ]
    }
   ],
   "source": [
    "# from functools import reduce\n",
    "\n",
    "# def my_pow(n, p):\n",
    "#     \"Functional style\"\n",
    "#     return reduce(lambda result, _: result * n, range(p), 1)\n",
    "\n",
    "# %timeit -n3 my_pow(102217, 104491)"
   ]
  },
  {
   "cell_type": "code",
   "execution_count": 58,
   "metadata": {},
   "outputs": [
    {
     "name": "stdout",
     "output_type": "stream",
     "text": [
      "3.26 s ± 37.6 ms per loop (mean ± std. dev. of 7 runs, 3 loops each)\n"
     ]
    }
   ],
   "source": [
    "# def my_pow(n, p):\n",
    "#     \"Imperative style\"\n",
    "#     result = 1\n",
    "#     for _ in range(p):\n",
    "#         result *= n\n",
    "#     return result\n",
    "\n",
    "# %timeit -n3 my_pow(102217, 104491)"
   ]
  },
  {
   "cell_type": "code",
   "execution_count": 60,
   "metadata": {
    "collapsed": true
   },
   "outputs": [],
   "source": [
    "# def my_pow(n, p):\n",
    "#     \"Recrusive style\"\n",
    "#     if p == 0:\n",
    "#         return 1\n",
    "#     else:\n",
    "#         return n * my_pow(n, p-1)\n",
    "\n",
    "# %time my_pow(102217, 104491)"
   ]
  },
  {
   "cell_type": "markdown",
   "metadata": {},
   "source": [
    " "
   ]
  }
 ],
 "metadata": {
  "kernelspec": {
   "display_name": "Python 3",
   "language": "python",
   "name": "python3"
  },
  "language_info": {
   "codemirror_mode": {
    "name": "ipython",
    "version": 3
   },
   "file_extension": ".py",
   "mimetype": "text/x-python",
   "name": "python",
   "nbconvert_exporter": "python",
   "pygments_lexer": "ipython3",
   "version": "3.6.1"
  }
 },
 "nbformat": 4,
 "nbformat_minor": 2
}
