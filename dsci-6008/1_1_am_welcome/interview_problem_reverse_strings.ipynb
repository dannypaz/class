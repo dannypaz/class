{
 "cells": [
  {
   "cell_type": "markdown",
   "metadata": {},
   "source": [
    "---\n",
    "Reverse Strings\n",
    "----\n",
    "\n",
    "![](images/redrum_muruder.png)\n",
    "\n",
    "Seems simple, write a function that take a string as input and returns it backwards."
   ]
  },
  {
   "cell_type": "markdown",
   "metadata": {},
   "source": [
    "[Let's pick the longest palindromic reversible word in the English language:](https://english.stackexchange.com/questions/13844/what-is-the-longest-palindrome-word-in-english)\n",
    "\n",
    "> tattarrattat <--> tattarrattat"
   ]
  },
  {
   "cell_type": "markdown",
   "metadata": {},
   "source": [
    "<br>\n",
    "<br>\n",
    "---"
   ]
  }
 ],
 "metadata": {
  "kernelspec": {
   "display_name": "Python 3",
   "language": "python",
   "name": "python3"
  },
  "language_info": {
   "codemirror_mode": {
    "name": "ipython",
    "version": 3
   },
   "file_extension": ".py",
   "mimetype": "text/x-python",
   "name": "python",
   "nbconvert_exporter": "python",
   "pygments_lexer": "ipython3",
   "version": "3.6.1"
  }
 },
 "nbformat": 4,
 "nbformat_minor": 1
}
