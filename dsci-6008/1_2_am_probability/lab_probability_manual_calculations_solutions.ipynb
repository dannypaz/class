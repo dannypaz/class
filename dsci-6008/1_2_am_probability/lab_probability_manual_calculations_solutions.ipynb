{
 "cells": [
  {
   "cell_type": "markdown",
   "metadata": {},
   "source": [
    "Probability Exercises:\n",
    "----------"
   ]
  },
  {
   "cell_type": "markdown",
   "metadata": {},
   "source": [
    "Using two six-sided dice, what is the probability of:\n",
    "\n",
    "1) Rolling a 7?\n",
    "    \n",
    "The ways to roll a 7 are (1, 6), (2, 5), (3, 4), (4, 3), (5, 2), (6, 1), so \n",
    "$$P(7) = \\frac{6}{36} = \\frac{1}{6}$$\n",
    "        \n",
    "2) Rolling an 11?\n",
    "    \n",
    "The ways to roll 11 are (5, 6) and (6, 5), so \n",
    "$$P(11) = \\frac{2}{36} = \\frac{1}{18}$$\n",
    "\n",
    "3) Rolling two 7s in a row?\n",
    "\n",
    "$$P(\\text{two 7s in a row}) = \\left(\\frac{1}{6}\\right)^2 = \\frac{1}{36}$$\n",
    "\n",
    "4) Rolling a 7 or 11?\n",
    "\n",
    "$$P(\\text{7 or 11}) = \\frac{1}{6} + \\frac{1}{18} = \\frac{2}{9}$$\n",
    "\n",
    "5) Rolling a 7 or 11 twice in a row? (*i.e.* 7, 7; 7, 11; 11, 7; 11, 11)\n",
    "\n",
    "$$P(\\text{7 or 11 twice in a row}) = \\left(\\frac{1}{6}\\right)^2 + \\frac{1}{6}\\times \\frac{1}{18} + \\frac{1}{18}\\times \\frac{1}{6} + \\left(\\frac{1}{18}\\right)^2= \\frac{4}{81}\\approx 0.05$$"
   ]
  },
  {
   "cell_type": "markdown",
   "metadata": {},
   "source": [
    "------"
   ]
  },
  {
   "cell_type": "markdown",
   "metadata": {},
   "source": [
    "A student's test score $T$ is an integer between 0 and 100 corresponding to the experimental outcomes $s_0,...,s_{100}$. A score of 90 to 100 is an $A$, 80 to 89 is a $B$, 70 to 79 is a $C$, 60 to 69 is a $D$, and below 60 is a failing grade of $F$. Given that all scores between 51 and 100 are qually likely and a score of 50 or less cannot occur, please find the following probabilities:\n",
    "\n",
    "(1) $P(s_{79}) = \\frac{1}{50} = 0.02$  \n",
    "\n",
    "(2) $P(s_{100}) = \\frac{1}{50} = 0.02$  \n",
    "\n",
    "(3) $P(A) = \\frac{11}{50} = 0.22$  \n",
    "\n",
    "(4) $P(F) = \\frac{9}{50} = 0.18$  \n",
    "\n",
    "(5) $P(T\\geq80) = \\frac{21}{50} = 0.42$  \n",
    "\n",
    "(6) $P(T<90) = \\frac{39}{50} = 0.78$  \n",
    "\n",
    "(7) $P$(a $C$ grade or better)$=\\frac{31}{50}=0.62$  \n",
    "\n",
    "(8) $P$(student passes)$=\\frac{41}{50}=0.82$  "
   ]
  },
  {
   "cell_type": "markdown",
   "metadata": {},
   "source": [
    "-------"
   ]
  },
  {
   "cell_type": "markdown",
   "metadata": {},
   "source": [
    "90 students are to be split at random into 3 classes of equal size. Joe and Jane are two of the students. What is the probability that they end up in the same class?\n",
    "\n",
    "If Joe has been placed, there are 29 ways of placing Jane in the same class out of 89 total ways of placing her. The probability she will be placed in the same class is therefore\n",
    "$$\\frac{29}{89} \\approx 0.326.$$"
   ]
  },
  {
   "cell_type": "markdown",
   "metadata": {},
   "source": [
    "-----"
   ]
  },
  {
   "cell_type": "markdown",
   "metadata": {},
   "source": [
    "1. Black = (9/20)*(8/19) = 72/380\n",
    "\n",
    "2. White = (5/20)*(4/19) = 20/380\n",
    "\n",
    "3. P(match) = P(both black) + P(both white) + P(both blue)\n",
    "72/380 + 20/380 ((6/20)*(5/19)) = 122/380\n",
    "\n",
    "4. P(not match) = 1 - (122/380)\n",
    "\n",
    "http://math.stackexchange.com/questions/479554/drawer-contains-socks-if-i-randomly-pull-2-what-is-the-probability-that-i-will"
   ]
  },
  {
   "cell_type": "markdown",
   "metadata": {},
   "source": [
    "-----"
   ]
  },
  {
   "cell_type": "markdown",
   "metadata": {},
   "source": [
    "1 or 100%. There are two options and it is an __or__ problem."
   ]
  },
  {
   "cell_type": "markdown",
   "metadata": {},
   "source": [
    "-----"
   ]
  },
  {
   "cell_type": "markdown",
   "metadata": {},
   "source": [
    "Let's say 1 client request creates 10 downstream requests to a longtail-latency affected subsystem. \n",
    "\n",
    "And assume it has a 1% probability of responding slowly to a single request. \n",
    "\n",
    "Then the probability that at least 1 of the 10 downstream requests are affected by the longtail latencies is equivalent to the complement of all downstream requests responding fast (99% probability of responding fast to any single request) which is:\n",
    "\n",
    "1 - .99^10 = .095\n",
    "\n",
    "This means that the 1 client request has an almost 10 percent chance of being affected by a slow response. \n",
    "\n",
    "That is equivalent to expecting 100,000 client requests being affected out of 1 million client requests. \n",
    "\n",
    "That's a lot of members!\n"
   ]
  }
 ],
 "metadata": {
  "anaconda-cloud": {},
  "kernelspec": {
   "display_name": "Python 3",
   "language": "python",
   "name": "python3"
  },
  "language_info": {
   "codemirror_mode": {
    "name": "ipython",
    "version": 3
   },
   "file_extension": ".py",
   "mimetype": "text/x-python",
   "name": "python",
   "nbconvert_exporter": "python",
   "pygments_lexer": "ipython3",
   "version": "3.6.1"
  }
 },
 "nbformat": 4,
 "nbformat_minor": 1
}
