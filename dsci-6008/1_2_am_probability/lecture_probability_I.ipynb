{
 "cells": [
  {
   "cell_type": "markdown",
   "metadata": {
    "slideshow": {
     "slide_type": "slide"
    }
   },
   "source": [
    "Probability\n",
    "----\n",
    "<br>\n",
    "<center><img src=\"images/certain.png\" height=\"500\"/></center>"
   ]
  },
  {
   "cell_type": "markdown",
   "metadata": {
    "slideshow": {
     "slide_type": "slide"
    }
   },
   "source": [
    "By The End Of This Session You Should Be Able To:\n",
    "----\n",
    "\n",
    "- Define probability\n",
    "- Create a sample space and events"
   ]
  },
  {
   "cell_type": "markdown",
   "metadata": {
    "slideshow": {
     "slide_type": "slide"
    }
   },
   "source": [
    "What is probability?\n",
    "-----\n",
    "\n",
    "<center><img src=\"http://memeblender.com/wp-content/uploads/2013/03/usb-probability.jpg\" height=\"500\"/></center>\n",
    "\n",
    "A mathematical framework for representing uncertain statements. "
   ]
  },
  {
   "cell_type": "markdown",
   "metadata": {
    "slideshow": {
     "slide_type": "slide"
    }
   },
   "source": [
    "Why use probability?\n",
    "----\n",
    "<br>\n",
    "<center><img src=\"http://img.memecdn.com/the-incomprehensible-laws-of-infinite-probability_o_2454205.jpg\" width=\"500\"/></center>\n",
    "\n",
    "Data Science's superpower compared to Software Engineer's worldview.\n",
    "\n",
    "Computer science deals mostly with entities that are entirely deterministic and certain. \n",
    "\n",
    "With the rise of Big Data and machine learning, there is an increased need to model uncertainty."
   ]
  },
  {
   "cell_type": "markdown",
   "metadata": {
    "slideshow": {
     "slide_type": "slide"
    }
   },
   "source": [
    "What is the difference between Probability and Statistics?\n",
    "----"
   ]
  },
  {
   "cell_type": "markdown",
   "metadata": {
    "slideshow": {
     "slide_type": "fragment"
    }
   },
   "source": [
    "Probability only predicts the likelihood of future events.\n",
    "\n",
    "Statistics also handles the analysis of the frequency of past events."
   ]
  },
  {
   "cell_type": "markdown",
   "metadata": {
    "slideshow": {
     "slide_type": "slide"
    }
   },
   "source": [
    "What is the difference between Probability and Statistics?\n",
    "----\n",
    "\n",
    "Probability is primarily a theoretical branch of Mathematics, which studies the consequences of mathematical definitions.\n",
    "\n",
    "Statistics is primarily an applied branch of Mathematics, which tries to make sense of observations in the real world."
   ]
  },
  {
   "cell_type": "markdown",
   "metadata": {
    "slideshow": {
     "slide_type": "slide"
    }
   },
   "source": [
    "3 possible sources of uncertainty:\n",
    "------\n",
    "\n",
    "1. Inherent stochasticity in the system being modeled.\n",
    "2. Incomplete observability. \n",
    "3. Incomplete modeling."
   ]
  },
  {
   "cell_type": "markdown",
   "metadata": {
    "slideshow": {
     "slide_type": "slide"
    }
   },
   "source": [
    "1. Inherent stochasticity in the system being modeled\n",
    "------\n",
    "\n",
    "For example, Blackjack or quantum mechanics"
   ]
  },
  {
   "cell_type": "markdown",
   "metadata": {
    "slideshow": {
     "slide_type": "slide"
    }
   },
   "source": [
    "2. Incomplete observability\n",
    "----\n",
    "\n",
    "Even deterministic systems can appear stochastic when we cannot observe all of the variables that drive the behavior of the system. "
   ]
  },
  {
   "cell_type": "markdown",
   "metadata": {
    "slideshow": {
     "slide_type": "slide"
    }
   },
   "source": [
    "<center><img src=\"http://www.grand-illusions.com/images/articles/articles/monty_hall/mainimage.jpg\" height=\"500\"/></center>\n",
    "\n",
    "For example, in the Monty Hall problem, a game show contestant is asked to choose between three doors and wins a prize held behind the chosen door. Two doors lead to a goat while a third leads to a car. \n",
    "\n",
    "The outcome given the contestant’s choice is deterministic, but from the contestant’s point of view, the outcome is uncertain."
   ]
  },
  {
   "cell_type": "markdown",
   "metadata": {
    "slideshow": {
     "slide_type": "slide"
    }
   },
   "source": [
    "3. Incomplete modeling\n",
    "------\n",
    "\n",
    "When we use a model that must discard some of the information we have observed, the discarded information results in uncertainty in the model’s predictions.  "
   ]
  },
  {
   "cell_type": "markdown",
   "metadata": {
    "slideshow": {
     "slide_type": "fragment"
    }
   },
   "source": [
    "<center><img src=\"http://betanews.com/wp-content/uploads/2013/05/Google-driverless-car1-600x355.jpg\" height=\"500\"/></center>\n",
    "\n",
    "Self-driving cars must discard most their sensor data"
   ]
  },
  {
   "cell_type": "markdown",
   "metadata": {
    "slideshow": {
     "slide_type": "slide"
    }
   },
   "source": [
    "<center><img src=\"https://upload.wikimedia.org/wikipedia/commons/thumb/3/30/AduC_197_Laplace_%28P.S.%2C_marquis_de%2C_1749-1827%29.JPG/180px-AduC_197_Laplace_%28P.S.%2C_marquis_de%2C_1749-1827%29.JPG\" height=\"500\"/></center>\n",
    "\n",
    "In 1814, Pierre-Simon Laplace [wrote](https://en.wikipedia.org/wiki/Classical_definition_of_probability):\n",
    "\n",
    ">*Probability ... is thus simply a fraction whose numerator is the number of favorable cases and whose denominator is the number of all the cases possible ... when nothing leads us to expect that any one of these cases should occur more than any other.*"
   ]
  },
  {
   "cell_type": "markdown",
   "metadata": {
    "slideshow": {
     "slide_type": "fragment"
    }
   },
   "source": [
    "If you want to untangle a probability problem, all you have to do is be methodical about defining exactly what the cases are, and then careful in counting the number of favorable and total cases."
   ]
  },
  {
   "cell_type": "markdown",
   "metadata": {
    "slideshow": {
     "slide_type": "slide"
    }
   },
   "source": [
    "Vocabulary\n",
    "------"
   ]
  },
  {
   "cell_type": "markdown",
   "metadata": {
    "slideshow": {
     "slide_type": "fragment"
    }
   },
   "source": [
    "- **[Experiment](https://en.wikipedia.org/wiki/Experiment_(probability_theory%29):**\n",
    "  An occurrence with an uncertain outcome that we can observe.  \n",
    "  *For example, rolling a die.*"
   ]
  },
  {
   "cell_type": "markdown",
   "metadata": {
    "slideshow": {
     "slide_type": "fragment"
    }
   },
   "source": [
    "- **[Outcome](https://en.wikipedia.org/wiki/Outcome_(probability%29):**\n",
    "  The result of an experiment; one particular state of the world.   \n",
    "  *For example:* `4`."
   ]
  },
  {
   "cell_type": "markdown",
   "metadata": {
    "slideshow": {
     "slide_type": "slide"
    }
   },
   "source": [
    "- **[Sample Space](https://en.wikipedia.org/wiki/Sample_space):**\n",
    "  The set of all possible outcomes for the experiment.  \n",
    "  *For example,* `{1, 2, 3, 4, 5, 6}`."
   ]
  },
  {
   "cell_type": "markdown",
   "metadata": {
    "slideshow": {
     "slide_type": "fragment"
    }
   },
   "source": [
    "- **[Event](https://en.wikipedia.org/wiki/Event_(probability_theory%29):**\n",
    "  A subset of possible outcomes that together have some property we are interested in.\n",
    "  <br>*For example, the event \"even die roll\" is the set of outcomes* `{2, 4, 6}`. "
   ]
  },
  {
   "cell_type": "markdown",
   "metadata": {
    "slideshow": {
     "slide_type": "slide"
    }
   },
   "source": [
    "- **[Probability](https://en.wikipedia.org/wiki/Probability_theory):**\n",
    "  As Laplace said, the probability of an event with respect to a sample space is the number of favorable cases (outcomes from the sample space that are in the event*) divided by the total number of cases in the sample space. \n",
    "  \n",
    "<center><img src=\"images/define.png\" height=\"500\"/></center>\n",
    "\n",
    "<sub>*This assumes that all outcomes in the sample space are equally likely.</sub>"
   ]
  },
  {
   "cell_type": "markdown",
   "metadata": {
    "slideshow": {
     "slide_type": "slide"
    }
   },
   "source": [
    "Probability\n",
    "-----\n",
    "\n",
    "<center><img src=\"images/range.png\" height=\"500\"/></center>\n",
    "\n",
    "Since it is a ratio, probability will always be a number between 0 (representing an impossible event) and 1 (representing a certain event)."
   ]
  },
  {
   "cell_type": "markdown",
   "metadata": {
    "slideshow": {
     "slide_type": "slide"
    }
   },
   "source": [
    "How would a Bayesian and Frequentists define probability differently?\n",
    "------"
   ]
  },
  {
   "cell_type": "markdown",
   "metadata": {
    "slideshow": {
     "slide_type": "fragment"
    }
   },
   "source": [
    "Bayesians think of it as a measure of belief,\n",
    "so that probability is subjective and refers to the future.\n",
    "\n",
    "Frequentists use probability to refer to past events ,\n",
    "it’s objective and doesn’t depend on one’s beliefs. "
   ]
  },
  {
   "cell_type": "markdown",
   "metadata": {
    "slideshow": {
     "slide_type": "slide"
    }
   },
   "source": [
    "Probabilities (another battle in The Great War in Statistics)\n",
    "-----\n",
    "\n",
    "1) Frequentist:\n",
    "\n",
    "$$\\frac{number \\ of \\ times \\ event \\ occurs}{number \\ of \\ opportunities \\ for \\ event \\ to \\ occur}$$\n",
    "\n",
    "2) Bayesian: represents a person's degree of belief that an event will occur\n",
    "\n",
    "> I think there is an 80% chance it will be sunny today, written as P(sunny) = 0.80."
   ]
  },
  {
   "cell_type": "markdown",
   "metadata": {
    "slideshow": {
     "slide_type": "fragment"
    }
   },
   "source": [
    "The rules for manipulating probabilities are the same, regardless how we interpret probabilities."
   ]
  },
  {
   "cell_type": "markdown",
   "metadata": {
    "slideshow": {
     "slide_type": "slide"
    }
   },
   "source": [
    "Summmary\n",
    "------\n",
    "\n",
    "- Define probability: Counting positive cases over total\n",
    "- Create a sample space and events"
   ]
  },
  {
   "cell_type": "markdown",
   "metadata": {
    "slideshow": {
     "slide_type": "slide"
    }
   },
   "source": [
    "-----\n",
    "Bonus Materials\n",
    "-----"
   ]
  },
  {
   "cell_type": "markdown",
   "metadata": {
    "slideshow": {
     "slide_type": "slide"
    }
   },
   "source": [
    "### Distributive Laws\n",
    "\n",
    "\n",
    "For any sets $A$, $B$ and $C$:\n",
    "\n",
    "$ A \\cup (B \\cap C) = (A \\cup B) \\cap (A \\cup C)$\n",
    "\n",
    "\n",
    "$ A \\cap (B \\cup C) = (A \\cap B) \\cup (A \\cap C)$"
   ]
  },
  {
   "cell_type": "markdown",
   "metadata": {
    "slideshow": {
     "slide_type": "fragment"
    }
   },
   "source": [
    "### Note:  \n",
    "\n",
    "If $A$ and $B$ are mutually exclusive,  \n",
    "$$P(A \\cap B) = P(\\emptyset) = 0$$\n",
    "also,\n",
    "$$P(A \\cup B) = P(A) + P(B)$$"
   ]
  },
  {
   "cell_type": "markdown",
   "metadata": {
    "slideshow": {
     "slide_type": "slide"
    }
   },
   "source": [
    "#### Example\n",
    "\n",
    "Q. How many ways are there to get 4 of a kind in a 5 card draw?  "
   ]
  },
  {
   "cell_type": "markdown",
   "metadata": {
    "slideshow": {
     "slide_type": "fragment"
    }
   },
   "source": [
    "A. Break it down:\n",
    "1. Q. How many ways are there to get 4 of a kind?  \n",
    "   A. $\\binom{13}{1}$\n",
    "2. Q. How many ways can you fill the last card?  \n",
    "   A. $\\binom{52-4}{1}$\n",
    "3. Total: $$\\binom{13}{1} \\binom{48}{1} = 13 \\times 48 = 624$$"
   ]
  },
  {
   "cell_type": "markdown",
   "metadata": {
    "slideshow": {
     "slide_type": "slide"
    }
   },
   "source": [
    "Check for Understanding\n",
    "------\n",
    "\n",
    "How many ways are there to get a full house in a 5 card draw?  "
   ]
  },
  {
   "cell_type": "markdown",
   "metadata": {
    "slideshow": {
     "slide_type": "fragment"
    }
   },
   "source": [
    "A. The matching triple can be any of 13 the denominations and the pair can be any of the remaining 12 denominations.\n",
    "1. Q. How many ways are there to select the suits of the matching triple?  \n",
    "   A. $13\\binom{4}{3}$\n",
    "1. Q. How many ways are there to select the suits of the matching pair?  \n",
    "   A. $12\\binom{4}{2}$\n",
    "3. Total: $$13\\binom{4}{3} \\times 12\\binom{4}{2} = 13 \\times 4 \\times 12 \\times 6 = 3,744$$"
   ]
  }
 ],
 "metadata": {
  "anaconda-cloud": {},
  "celltoolbar": "Slideshow",
  "kernelspec": {
   "display_name": "Python 3",
   "language": "python",
   "name": "python3"
  },
  "language_info": {
   "codemirror_mode": {
    "name": "ipython",
    "version": 3
   },
   "file_extension": ".py",
   "mimetype": "text/x-python",
   "name": "python",
   "nbconvert_exporter": "python",
   "pygments_lexer": "ipython3",
   "version": "3.6.1"
  }
 },
 "nbformat": 4,
 "nbformat_minor": 1
}
