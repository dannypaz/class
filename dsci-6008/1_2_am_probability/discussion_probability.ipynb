{
 "cells": [
  {
   "cell_type": "markdown",
   "metadata": {},
   "source": [
    "<center><img src=\"https://previews.123rf.com/images/yurriy/yurriy0909/yurriy090900023/5512838-Glade-with-red-yellow-and-blue-flowers-Stock-Photo.jpg\" width=\"500\"/></center>\n",
    "\n",
    "In a certain flower garden, each flower was either red, yellow, or purple, and all three colors were represented.\n",
    "\n",
    "A statistician once visited the garden and made the observation that whatever three flowers you picked, at least one of them was bound to be red. A second statistician visited the garden and made the observation that whatever three flowers you picked, at least one was bound to be yellow.\n",
    "\n",
    "Two logic students heard about this and got into an argument. The first student said: \"It \n",
    "follows that whatever three flowers you pick, at least one is bound to be purple, doesn't it?\"\n",
    "The second student said: \"Of course not!\"\n",
    "\n",
    "Which student was right? Explain your logic. (Drawing a diagram helps)"
   ]
  }
 ],
 "metadata": {
  "kernelspec": {
   "display_name": "Python 3",
   "language": "python",
   "name": "python3"
  },
  "language_info": {
   "codemirror_mode": {
    "name": "ipython",
    "version": 3
   },
   "file_extension": ".py",
   "mimetype": "text/x-python",
   "name": "python",
   "nbconvert_exporter": "python",
   "pygments_lexer": "ipython3",
   "version": "3.6.1"
  }
 },
 "nbformat": 4,
 "nbformat_minor": 2
}
