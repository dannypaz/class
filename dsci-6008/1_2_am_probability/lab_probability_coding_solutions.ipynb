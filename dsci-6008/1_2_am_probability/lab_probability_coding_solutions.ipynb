{
 "cells": [
  {
   "cell_type": "markdown",
   "metadata": {},
   "source": [
    "Probability Coding Solutions\n",
    "-----\n",
    "\n",
    "Hands are  strings"
   ]
  },
  {
   "cell_type": "code",
   "execution_count": 1,
   "metadata": {
    "collapsed": true
   },
   "outputs": [],
   "source": [
    "reset -fs"
   ]
  },
  {
   "cell_type": "code",
   "execution_count": 2,
   "metadata": {
    "collapsed": true
   },
   "outputs": [],
   "source": [
    "from fractions import Fraction\n",
    "from math import factorial\n",
    "import itertools\n",
    "import random\n",
    "\n",
    "def choose(n, c):\n",
    "    \"Number of ways to choose c items from a list of n items.\"\n",
    "    return factorial(n) // (factorial(n - c) * factorial(c))\n",
    "\n",
    "def combos(items, n):\n",
    "    \"All combinations of n items; each combo as a concatenated str.\"\n",
    "    return {' '.join(combo) \n",
    "            for combo in itertools.combinations(items, n)}\n",
    "\n",
    "def cross(A, B):\n",
    "    \"The set of ways of concatenating one item from collection A with one from B.\"\n",
    "    return {a + b \n",
    "            for a in A for b in B}"
   ]
  },
  {
   "cell_type": "code",
   "execution_count": 3,
   "metadata": {
    "collapsed": true
   },
   "outputs": [],
   "source": [
    "# Define a better probability function\n",
    "def P(event, space): \n",
    "    \"\"\"The probability of an event, given a sample space of equiprobable outcomes.\n",
    "    event can be either a set of outcomes, or a predicate (true for outcomes in the event).\"\"\"\n",
    "    if callable(event):  # Check if function\n",
    "        event = such_that(event, space) # If function, then find events that match the predicate\n",
    "    return Fraction(len(event & space), len(space))\n",
    "\n",
    "def such_that(predicate, collection): \n",
    "    \"The subset of elements in the collection for which the predicate is true.\"\n",
    "    return {e for e in collection if predicate(e)}"
   ]
  },
  {
   "cell_type": "markdown",
   "metadata": {},
   "source": [
    "3) Define a deck of 52 cards with rank from 2-A and the 4 suits:\n"
   ]
  },
  {
   "cell_type": "code",
   "execution_count": 4,
   "metadata": {
    "collapsed": true
   },
   "outputs": [],
   "source": [
    "suits = '♠♥◆♣'\n",
    "ranks = 'A23456789TJQK'\n",
    "\n",
    "deck  = cross(ranks, suits)\n",
    "\n",
    "assert len(deck) == 52"
   ]
  },
  {
   "cell_type": "code",
   "execution_count": 19,
   "metadata": {},
   "outputs": [],
   "source": [
    "def combos_sets(items, n):\n",
    "    \"All combinations of n items; each combo as a concatenated str.\"\n",
    "    return {\" \".join(combo) for combo in itertools.combinations(items, n)}\n",
    "\n",
    "hands = combos_sets(deck, 5)"
   ]
  },
  {
   "cell_type": "code",
   "execution_count": 20,
   "metadata": {},
   "outputs": [
    {
     "data": {
      "text/plain": [
       "['9♠ 7◆ 3♠ Q♣ 9♥']"
      ]
     },
     "execution_count": 20,
     "metadata": {},
     "output_type": "execute_result"
    }
   ],
   "source": [
    "import random\n",
    "\n",
    "random.sample(hands, 1)"
   ]
  },
  {
   "cell_type": "code",
   "execution_count": 22,
   "metadata": {},
   "outputs": [],
   "source": [
    "assert len(hands) == 259_8960"
   ]
  },
  {
   "cell_type": "markdown",
   "metadata": {},
   "source": [
    "------"
   ]
  },
  {
   "cell_type": "code",
   "execution_count": 23,
   "metadata": {
    "collapsed": true
   },
   "outputs": [],
   "source": [
    "def flush(hand):\n",
    "    \"Return True is all cards are the same suit. Return False otherwise.\"\n",
    "    return any(hand.count(suit) == 5 \n",
    "                   for suit in suits)"
   ]
  },
  {
   "cell_type": "code",
   "execution_count": 24,
   "metadata": {
    "collapsed": true
   },
   "outputs": [],
   "source": [
    "# Check correctness of function\n",
    "assert not flush('2♥ 3♥ 4♥ 5♥ 6♣')"
   ]
  },
  {
   "cell_type": "code",
   "execution_count": 25,
   "metadata": {},
   "outputs": [],
   "source": [
    "# Make calculation\n",
    "assert P(flush, hands) == Fraction(33, 16660)"
   ]
  },
  {
   "cell_type": "code",
   "execution_count": 26,
   "metadata": {
    "collapsed": true
   },
   "outputs": [],
   "source": [
    "def four_kind(hand):\n",
    "    \"Return True if 4 cards are the same rank. Return False otherwise.\"\n",
    "    return any(hand.count(rank) == 4 \n",
    "               for rank in ranks)"
   ]
  },
  {
   "cell_type": "code",
   "execution_count": 27,
   "metadata": {
    "collapsed": true
   },
   "outputs": [],
   "source": [
    "# Check correctness of function\n",
    "assert four_kind('2♥ 2♥ 2♥ 5♥ 2♥') \n",
    "assert not four_kind('2♥ 2♥ 2♥ 3♥ 4♣')"
   ]
  },
  {
   "cell_type": "code",
   "execution_count": 28,
   "metadata": {
    "collapsed": true
   },
   "outputs": [],
   "source": [
    "assert flush('2♥ 2♥ 2♥ 3♥ 4♣') == False\n",
    "assert flush('2♥ 2♥ 2♥ 5♥ 2♥') == True"
   ]
  },
  {
   "cell_type": "code",
   "execution_count": 29,
   "metadata": {
    "collapsed": true
   },
   "outputs": [],
   "source": [
    "# Check calculation\n",
    "assert P(four_kind, hands) == Fraction(1, 4165)"
   ]
  },
  {
   "cell_type": "code",
   "execution_count": null,
   "metadata": {
    "collapsed": true
   },
   "outputs": [],
   "source": []
  }
 ],
 "metadata": {
  "anaconda-cloud": {},
  "kernelspec": {
   "display_name": "Python 3",
   "language": "python",
   "name": "python3"
  },
  "language_info": {
   "codemirror_mode": {
    "name": "ipython",
    "version": 3
   },
   "file_extension": ".py",
   "mimetype": "text/x-python",
   "name": "python",
   "nbconvert_exporter": "python",
   "pygments_lexer": "ipython3",
   "version": "3.6.1"
  }
 },
 "nbformat": 4,
 "nbformat_minor": 1
}
